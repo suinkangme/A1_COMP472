{
  "nbformat": 4,
  "nbformat_minor": 0,
  "metadata": {
    "colab": {
      "provenance": [],
      "collapsed_sections": [
        "n3GMoC3wzPte"
      ],
      "include_colab_link": true
    },
    "kernelspec": {
      "name": "python3",
      "display_name": "Python 3"
    },
    "language_info": {
      "name": "python"
    }
  },
  "cells": [
    {
      "cell_type": "markdown",
      "metadata": {
        "id": "view-in-github",
        "colab_type": "text"
      },
      "source": [
        "<a href=\"https://colab.research.google.com/github/suinkangme/A1_COMP472/blob/main/A1_COMP472.ipynb\" target=\"_parent\"><img src=\"https://colab.research.google.com/assets/colab-badge.svg\" alt=\"Open In Colab\"/></a>"
      ]
    },
    {
      "cell_type": "markdown",
      "source": [
        "# A1 - COMP 472\n",
        "\n",
        "Hyun Soo Kim 40174913\n",
        "\n",
        "Suin Kang 40129337"
      ],
      "metadata": {
        "id": "OuS04gqWrlBb"
      }
    },
    {
      "cell_type": "code",
      "source": [
        "import pandas as pd\n",
        "import sklearn as sk\n",
        "import numpy as np\n",
        "import matplotlib.pyplot as plt\n",
        "import seaborn as sns\n",
        "import graphviz\n",
        "from sklearn.metrics import classification_report\n",
        "from sklearn.metrics import confusion_matrix\n",
        "import warnings\n",
        "from sklearn.neural_network import MLPClassifier"
      ],
      "metadata": {
        "id": "plbuWv54rsMP"
      },
      "execution_count": 1,
      "outputs": []
    },
    {
      "cell_type": "markdown",
      "source": [
        "### Import the MyDrive library from CoLab"
      ],
      "metadata": {
        "id": "n3GMoC3wzPte"
      }
    },
    {
      "cell_type": "code",
      "source": [
        "from google.colab import drive\n",
        "drive.mount('/content/drive')\n",
        "\n",
        "# the directory owns this notebook and dataset\n",
        "import os\n",
        "os.chdir('/content/drive/MyDrive/comp472/')"
      ],
      "metadata": {
        "id": "QM05GBSaoZIy",
        "colab": {
          "base_uri": "https://localhost:8080/"
        },
        "outputId": "f1924488-cb5d-4d1b-a057-0e0d3998e922"
      },
      "execution_count": 2,
      "outputs": [
        {
          "output_type": "stream",
          "name": "stdout",
          "text": [
            "Mounted at /content/drive\n"
          ]
        }
      ]
    },
    {
      "cell_type": "markdown",
      "source": [
        "### Definition of train-test-repetition function\n",
        "- For Classifier 3 & 4"
      ],
      "metadata": {
        "id": "UQWo18d_G_Au"
      }
    },
    {
      "cell_type": "code",
      "source": [
        "def MLP_base_train_test_repetition(X, y, outputFile, target_names):\n",
        "  accuracy = []\n",
        "  macro_avg = []\n",
        "  weighted_avg = []\n",
        "\n",
        "  print(\"\\nBase MLP Train-Test Repetition\\n\", file = outputFile)\n",
        "\n",
        "  #repeat 5 times\n",
        "  for i in range (0,5):\n",
        "\n",
        "    #data is shuffled every time\n",
        "    X_train, X_test, y_train, y_test = train_test_split(X, y, test_size = 0.3)\n",
        "\n",
        "    #base MLP\n",
        "    #initialize new model with same hyperparameters\n",
        "    model = MLPClassifier(hidden_layer_sizes = (100, 100,), activation = 'logistic', solver = 'sgd')\n",
        "\n",
        "    #train and predict\n",
        "    model.fit(X_train, y_train)\n",
        "    y_pred = model.predict(X_test)\n",
        "\n",
        "    #for average accuracy / macro-average f1 score / weighted-average f1 score and variance calculation\n",
        "    output = classification_report(y_test, y_pred, target_names = target_names, output_dict = True)\n",
        "    accuracy.append(output['accuracy'])\n",
        "    macro_avg.append(output['macro avg']['f1-score'])\n",
        "    weighted_avg.append(output['weighted avg']['f1-score'])\n",
        "\n",
        "    #print to text file. This would make it easier to validate the result of each model\n",
        "    print(f'=== Iteration {i+1} === ', file = outputFile)\n",
        "    print(f\"(A) {model}\\n\", file = outputFile)\n",
        "    print(\"(B) Confusion Matrix\", file = outputFile)\n",
        "    confusion_matrix_result = confusion_matrix(y_test, y_pred)\n",
        "    print(confusion_matrix_result, file = outputFile)\n",
        "\n",
        "    print(\"\\n(C,D) Classification Report\", file = outputFile)\n",
        "    print(classification_report(y_test, y_pred, target_names = target_names), file =outputFile)\n",
        "\n",
        "  #append the calculation in the report\n",
        "  print('(E) The result after 5 times of train-test repetition:' ,file = outputFile)\n",
        "  print(f'\\tThe average accuracy / variance: {np.mean(accuracy): 6.4f}, {np.var(accuracy): 6.6f}', file = outputFile)\n",
        "  print(f'\\tThe average macro-average f1 score / variance: {np.mean(macro_avg): 6.4f}, {np.var(macro_avg): 6.6f}', file = outputFile)\n",
        "  print(f'\\tThe average weighted-average f1 score / variance: {np.mean(weighted_avg): 6.4f}, {np.var(weighted_avg): 6.6f}', file = outputFile)\n",
        "  print('\\n', file = outputFile)\n",
        "  outputFile.flush()"
      ],
      "metadata": {
        "id": "V7wnBMtiS7ns"
      },
      "execution_count": 3,
      "outputs": []
    },
    {
      "cell_type": "code",
      "source": [
        "def MLP_top_train_test_repetition(param_grid, X, y, outputFile, target_names):\n",
        "  accuracy = []\n",
        "  macro_avg = []\n",
        "  weighted_avg = []\n",
        "\n",
        "  print(\"\\nTop MLP Train-Test Repetition\\n\", file = outputFile)\n",
        "\n",
        "  #repeat 5 times\n",
        "  for i in range (0,5):\n",
        "\n",
        "    #data is shuffled every time\n",
        "    X_train, X_test, y_train, y_test = train_test_split(X, y, test_size = 0.3)\n",
        "\n",
        "    #top MLP\n",
        "    #initialize new model with same hyperparameters\n",
        "    gridcv = sk.model_selection.GridSearchCV(MLPClassifier(), param_grid = param_grid)\n",
        "    gridcv.fit(X_train, y_train)\n",
        "\n",
        "    #predict\n",
        "    y_pred = gridcv.best_estimator_.predict(X_test)\n",
        "\n",
        "    #for average accuracy / macro-average f1 score / weighted-average f1 score and variance calculation\n",
        "    output = classification_report(y_test, y_pred, target_names = target_names, output_dict = True)\n",
        "    accuracy.append(output['accuracy'])\n",
        "    macro_avg.append(output['macro avg']['f1-score'])\n",
        "    weighted_avg.append(output['weighted avg']['f1-score'])\n",
        "\n",
        "    #print to text file. This would make it easier to validate the result of each model\n",
        "    print(f'=== Iteration {i+1} === ', file = outputFile)\n",
        "    print(f\"(A) Best Parameters: {gridcv.best_params_}\", file = outputFile)\n",
        "    print(\"\\n(B) Confusion Matrix\", file = outputFile)\n",
        "    confusion_matrix_result = confusion_matrix(y_test, y_pred)\n",
        "    print(confusion_matrix_result, file = outputFile)\n",
        "\n",
        "    print(\"\\n(C,D) Classification Report\", file = outputFile)\n",
        "    print(classification_report(y_test, y_pred, target_names = target_names), file =outputFile)\n",
        "\n",
        "  #append the calculation in the report\n",
        "  print('(E) The result after 5 times of train-test repetition:' ,file = outputFile)\n",
        "  print(f'\\tThe average accuracy / variance: {np.mean(accuracy): 6.4f}, {np.var(accuracy): 6.6f}', file = outputFile)\n",
        "  print(f'\\tThe average macro-average f1 score / variance: {np.mean(macro_avg): 6.4f}, {np.var(macro_avg): 6.6f}', file = outputFile)\n",
        "  print(f'\\tThe average weighted-average f1 score / variance: {np.mean(weighted_avg): 6.4f}, {np.var(weighted_avg): 6.6f}', file = outputFile)\n",
        "  print('\\n', file = outputFile)\n",
        "  outputFile.flush()"
      ],
      "metadata": {
        "id": "wJbuEpDgTOo4"
      },
      "execution_count": 4,
      "outputs": []
    },
    {
      "cell_type": "markdown",
      "source": [
        "## Dataset - 'penguins.csv'\n",
        "- Goal : prediction of species\n",
        "(Adelie, Gentoo, Chinstap)"
      ],
      "metadata": {
        "id": "a0o_UdOEzTw_"
      }
    },
    {
      "cell_type": "code",
      "source": [
        "outputFile = open ('penguin-classes.txt', 'w')\n",
        "warnings.filterwarnings('ignore')"
      ],
      "metadata": {
        "id": "fmJJQACk9aQs"
      },
      "execution_count": 5,
      "outputs": []
    },
    {
      "cell_type": "code",
      "source": [
        "data_penguins = pd.read_csv('penguins.csv')\n",
        "data_penguins.head()"
      ],
      "metadata": {
        "id": "RdWPdNdHn_cP",
        "colab": {
          "base_uri": "https://localhost:8080/",
          "height": 206
        },
        "outputId": "df9a494d-3d75-419f-8639-ae0a06b29830"
      },
      "execution_count": 6,
      "outputs": [
        {
          "output_type": "execute_result",
          "data": {
            "text/plain": [
              "  species     island  culmen_length_mm  culmen_depth_mm  flipper_length_mm  \\\n",
              "0  Adelie  Torgersen              39.1             18.7                181   \n",
              "1  Adelie  Torgersen              39.5             17.4                186   \n",
              "2  Adelie  Torgersen              40.3             18.0                195   \n",
              "3  Adelie  Torgersen              36.7             19.3                193   \n",
              "4  Adelie  Torgersen              39.3             20.6                190   \n",
              "\n",
              "   body_mass_g     sex  \n",
              "0         3750    MALE  \n",
              "1         3800  FEMALE  \n",
              "2         3250  FEMALE  \n",
              "3         3450  FEMALE  \n",
              "4         3650    MALE  "
            ],
            "text/html": [
              "\n",
              "  <div id=\"df-37e09a3b-e0b0-4f37-8605-a2afe19f89ed\" class=\"colab-df-container\">\n",
              "    <div>\n",
              "<style scoped>\n",
              "    .dataframe tbody tr th:only-of-type {\n",
              "        vertical-align: middle;\n",
              "    }\n",
              "\n",
              "    .dataframe tbody tr th {\n",
              "        vertical-align: top;\n",
              "    }\n",
              "\n",
              "    .dataframe thead th {\n",
              "        text-align: right;\n",
              "    }\n",
              "</style>\n",
              "<table border=\"1\" class=\"dataframe\">\n",
              "  <thead>\n",
              "    <tr style=\"text-align: right;\">\n",
              "      <th></th>\n",
              "      <th>species</th>\n",
              "      <th>island</th>\n",
              "      <th>culmen_length_mm</th>\n",
              "      <th>culmen_depth_mm</th>\n",
              "      <th>flipper_length_mm</th>\n",
              "      <th>body_mass_g</th>\n",
              "      <th>sex</th>\n",
              "    </tr>\n",
              "  </thead>\n",
              "  <tbody>\n",
              "    <tr>\n",
              "      <th>0</th>\n",
              "      <td>Adelie</td>\n",
              "      <td>Torgersen</td>\n",
              "      <td>39.1</td>\n",
              "      <td>18.7</td>\n",
              "      <td>181</td>\n",
              "      <td>3750</td>\n",
              "      <td>MALE</td>\n",
              "    </tr>\n",
              "    <tr>\n",
              "      <th>1</th>\n",
              "      <td>Adelie</td>\n",
              "      <td>Torgersen</td>\n",
              "      <td>39.5</td>\n",
              "      <td>17.4</td>\n",
              "      <td>186</td>\n",
              "      <td>3800</td>\n",
              "      <td>FEMALE</td>\n",
              "    </tr>\n",
              "    <tr>\n",
              "      <th>2</th>\n",
              "      <td>Adelie</td>\n",
              "      <td>Torgersen</td>\n",
              "      <td>40.3</td>\n",
              "      <td>18.0</td>\n",
              "      <td>195</td>\n",
              "      <td>3250</td>\n",
              "      <td>FEMALE</td>\n",
              "    </tr>\n",
              "    <tr>\n",
              "      <th>3</th>\n",
              "      <td>Adelie</td>\n",
              "      <td>Torgersen</td>\n",
              "      <td>36.7</td>\n",
              "      <td>19.3</td>\n",
              "      <td>193</td>\n",
              "      <td>3450</td>\n",
              "      <td>FEMALE</td>\n",
              "    </tr>\n",
              "    <tr>\n",
              "      <th>4</th>\n",
              "      <td>Adelie</td>\n",
              "      <td>Torgersen</td>\n",
              "      <td>39.3</td>\n",
              "      <td>20.6</td>\n",
              "      <td>190</td>\n",
              "      <td>3650</td>\n",
              "      <td>MALE</td>\n",
              "    </tr>\n",
              "  </tbody>\n",
              "</table>\n",
              "</div>\n",
              "    <div class=\"colab-df-buttons\">\n",
              "\n",
              "  <div class=\"colab-df-container\">\n",
              "    <button class=\"colab-df-convert\" onclick=\"convertToInteractive('df-37e09a3b-e0b0-4f37-8605-a2afe19f89ed')\"\n",
              "            title=\"Convert this dataframe to an interactive table.\"\n",
              "            style=\"display:none;\">\n",
              "\n",
              "  <svg xmlns=\"http://www.w3.org/2000/svg\" height=\"24px\" viewBox=\"0 -960 960 960\">\n",
              "    <path d=\"M120-120v-720h720v720H120Zm60-500h600v-160H180v160Zm220 220h160v-160H400v160Zm0 220h160v-160H400v160ZM180-400h160v-160H180v160Zm440 0h160v-160H620v160ZM180-180h160v-160H180v160Zm440 0h160v-160H620v160Z\"/>\n",
              "  </svg>\n",
              "    </button>\n",
              "\n",
              "  <style>\n",
              "    .colab-df-container {\n",
              "      display:flex;\n",
              "      gap: 12px;\n",
              "    }\n",
              "\n",
              "    .colab-df-convert {\n",
              "      background-color: #E8F0FE;\n",
              "      border: none;\n",
              "      border-radius: 50%;\n",
              "      cursor: pointer;\n",
              "      display: none;\n",
              "      fill: #1967D2;\n",
              "      height: 32px;\n",
              "      padding: 0 0 0 0;\n",
              "      width: 32px;\n",
              "    }\n",
              "\n",
              "    .colab-df-convert:hover {\n",
              "      background-color: #E2EBFA;\n",
              "      box-shadow: 0px 1px 2px rgba(60, 64, 67, 0.3), 0px 1px 3px 1px rgba(60, 64, 67, 0.15);\n",
              "      fill: #174EA6;\n",
              "    }\n",
              "\n",
              "    .colab-df-buttons div {\n",
              "      margin-bottom: 4px;\n",
              "    }\n",
              "\n",
              "    [theme=dark] .colab-df-convert {\n",
              "      background-color: #3B4455;\n",
              "      fill: #D2E3FC;\n",
              "    }\n",
              "\n",
              "    [theme=dark] .colab-df-convert:hover {\n",
              "      background-color: #434B5C;\n",
              "      box-shadow: 0px 1px 3px 1px rgba(0, 0, 0, 0.15);\n",
              "      filter: drop-shadow(0px 1px 2px rgba(0, 0, 0, 0.3));\n",
              "      fill: #FFFFFF;\n",
              "    }\n",
              "  </style>\n",
              "\n",
              "    <script>\n",
              "      const buttonEl =\n",
              "        document.querySelector('#df-37e09a3b-e0b0-4f37-8605-a2afe19f89ed button.colab-df-convert');\n",
              "      buttonEl.style.display =\n",
              "        google.colab.kernel.accessAllowed ? 'block' : 'none';\n",
              "\n",
              "      async function convertToInteractive(key) {\n",
              "        const element = document.querySelector('#df-37e09a3b-e0b0-4f37-8605-a2afe19f89ed');\n",
              "        const dataTable =\n",
              "          await google.colab.kernel.invokeFunction('convertToInteractive',\n",
              "                                                    [key], {});\n",
              "        if (!dataTable) return;\n",
              "\n",
              "        const docLinkHtml = 'Like what you see? Visit the ' +\n",
              "          '<a target=\"_blank\" href=https://colab.research.google.com/notebooks/data_table.ipynb>data table notebook</a>'\n",
              "          + ' to learn more about interactive tables.';\n",
              "        element.innerHTML = '';\n",
              "        dataTable['output_type'] = 'display_data';\n",
              "        await google.colab.output.renderOutput(dataTable, element);\n",
              "        const docLink = document.createElement('div');\n",
              "        docLink.innerHTML = docLinkHtml;\n",
              "        element.appendChild(docLink);\n",
              "      }\n",
              "    </script>\n",
              "  </div>\n",
              "\n",
              "\n",
              "<div id=\"df-8d9d9d69-8d93-4a3e-8360-c53433913d98\">\n",
              "  <button class=\"colab-df-quickchart\" onclick=\"quickchart('df-8d9d9d69-8d93-4a3e-8360-c53433913d98')\"\n",
              "            title=\"Suggest charts\"\n",
              "            style=\"display:none;\">\n",
              "\n",
              "<svg xmlns=\"http://www.w3.org/2000/svg\" height=\"24px\"viewBox=\"0 0 24 24\"\n",
              "     width=\"24px\">\n",
              "    <g>\n",
              "        <path d=\"M19 3H5c-1.1 0-2 .9-2 2v14c0 1.1.9 2 2 2h14c1.1 0 2-.9 2-2V5c0-1.1-.9-2-2-2zM9 17H7v-7h2v7zm4 0h-2V7h2v10zm4 0h-2v-4h2v4z\"/>\n",
              "    </g>\n",
              "</svg>\n",
              "  </button>\n",
              "\n",
              "<style>\n",
              "  .colab-df-quickchart {\n",
              "      --bg-color: #E8F0FE;\n",
              "      --fill-color: #1967D2;\n",
              "      --hover-bg-color: #E2EBFA;\n",
              "      --hover-fill-color: #174EA6;\n",
              "      --disabled-fill-color: #AAA;\n",
              "      --disabled-bg-color: #DDD;\n",
              "  }\n",
              "\n",
              "  [theme=dark] .colab-df-quickchart {\n",
              "      --bg-color: #3B4455;\n",
              "      --fill-color: #D2E3FC;\n",
              "      --hover-bg-color: #434B5C;\n",
              "      --hover-fill-color: #FFFFFF;\n",
              "      --disabled-bg-color: #3B4455;\n",
              "      --disabled-fill-color: #666;\n",
              "  }\n",
              "\n",
              "  .colab-df-quickchart {\n",
              "    background-color: var(--bg-color);\n",
              "    border: none;\n",
              "    border-radius: 50%;\n",
              "    cursor: pointer;\n",
              "    display: none;\n",
              "    fill: var(--fill-color);\n",
              "    height: 32px;\n",
              "    padding: 0;\n",
              "    width: 32px;\n",
              "  }\n",
              "\n",
              "  .colab-df-quickchart:hover {\n",
              "    background-color: var(--hover-bg-color);\n",
              "    box-shadow: 0 1px 2px rgba(60, 64, 67, 0.3), 0 1px 3px 1px rgba(60, 64, 67, 0.15);\n",
              "    fill: var(--button-hover-fill-color);\n",
              "  }\n",
              "\n",
              "  .colab-df-quickchart-complete:disabled,\n",
              "  .colab-df-quickchart-complete:disabled:hover {\n",
              "    background-color: var(--disabled-bg-color);\n",
              "    fill: var(--disabled-fill-color);\n",
              "    box-shadow: none;\n",
              "  }\n",
              "\n",
              "  .colab-df-spinner {\n",
              "    border: 2px solid var(--fill-color);\n",
              "    border-color: transparent;\n",
              "    border-bottom-color: var(--fill-color);\n",
              "    animation:\n",
              "      spin 1s steps(1) infinite;\n",
              "  }\n",
              "\n",
              "  @keyframes spin {\n",
              "    0% {\n",
              "      border-color: transparent;\n",
              "      border-bottom-color: var(--fill-color);\n",
              "      border-left-color: var(--fill-color);\n",
              "    }\n",
              "    20% {\n",
              "      border-color: transparent;\n",
              "      border-left-color: var(--fill-color);\n",
              "      border-top-color: var(--fill-color);\n",
              "    }\n",
              "    30% {\n",
              "      border-color: transparent;\n",
              "      border-left-color: var(--fill-color);\n",
              "      border-top-color: var(--fill-color);\n",
              "      border-right-color: var(--fill-color);\n",
              "    }\n",
              "    40% {\n",
              "      border-color: transparent;\n",
              "      border-right-color: var(--fill-color);\n",
              "      border-top-color: var(--fill-color);\n",
              "    }\n",
              "    60% {\n",
              "      border-color: transparent;\n",
              "      border-right-color: var(--fill-color);\n",
              "    }\n",
              "    80% {\n",
              "      border-color: transparent;\n",
              "      border-right-color: var(--fill-color);\n",
              "      border-bottom-color: var(--fill-color);\n",
              "    }\n",
              "    90% {\n",
              "      border-color: transparent;\n",
              "      border-bottom-color: var(--fill-color);\n",
              "    }\n",
              "  }\n",
              "</style>\n",
              "\n",
              "  <script>\n",
              "    async function quickchart(key) {\n",
              "      const quickchartButtonEl =\n",
              "        document.querySelector('#' + key + ' button');\n",
              "      quickchartButtonEl.disabled = true;  // To prevent multiple clicks.\n",
              "      quickchartButtonEl.classList.add('colab-df-spinner');\n",
              "      try {\n",
              "        const charts = await google.colab.kernel.invokeFunction(\n",
              "            'suggestCharts', [key], {});\n",
              "      } catch (error) {\n",
              "        console.error('Error during call to suggestCharts:', error);\n",
              "      }\n",
              "      quickchartButtonEl.classList.remove('colab-df-spinner');\n",
              "      quickchartButtonEl.classList.add('colab-df-quickchart-complete');\n",
              "    }\n",
              "    (() => {\n",
              "      let quickchartButtonEl =\n",
              "        document.querySelector('#df-8d9d9d69-8d93-4a3e-8360-c53433913d98 button');\n",
              "      quickchartButtonEl.style.display =\n",
              "        google.colab.kernel.accessAllowed ? 'block' : 'none';\n",
              "    })();\n",
              "  </script>\n",
              "</div>\n",
              "    </div>\n",
              "  </div>\n"
            ]
          },
          "metadata": {},
          "execution_count": 6
        }
      ]
    },
    {
      "cell_type": "markdown",
      "source": [
        "#### Data Preprocessing\n",
        "- data encoding for categorical values: 'island', 'sex' column"
      ],
      "metadata": {
        "id": "skf8lGQB1Hpk"
      }
    },
    {
      "cell_type": "code",
      "source": [
        "from sklearn.preprocessing import OneHotEncoder\n",
        "\n",
        "island = np.array(data_penguins['island']).reshape(-1, 1)\n",
        "island_label = OneHotEncoder().fit_transform(island)\n",
        "data_penguins['island'] = island_label.toarray()\n",
        "\n",
        "df = pd.DataFrame({'island':['Torgersen','Biscoe','Dream']})\n",
        "pd.get_dummies(df)"
      ],
      "metadata": {
        "id": "bO_arEeWzl2p",
        "colab": {
          "base_uri": "https://localhost:8080/",
          "height": 143
        },
        "outputId": "51453129-7075-4aae-8e0c-4cbbb85b5138"
      },
      "execution_count": 8,
      "outputs": [
        {
          "output_type": "execute_result",
          "data": {
            "text/plain": [
              "   island_Biscoe  island_Dream  island_Torgersen\n",
              "0              0             0                 1\n",
              "1              1             0                 0\n",
              "2              0             1                 0"
            ],
            "text/html": [
              "\n",
              "  <div id=\"df-9300664a-d250-4689-b998-9973877d7a74\" class=\"colab-df-container\">\n",
              "    <div>\n",
              "<style scoped>\n",
              "    .dataframe tbody tr th:only-of-type {\n",
              "        vertical-align: middle;\n",
              "    }\n",
              "\n",
              "    .dataframe tbody tr th {\n",
              "        vertical-align: top;\n",
              "    }\n",
              "\n",
              "    .dataframe thead th {\n",
              "        text-align: right;\n",
              "    }\n",
              "</style>\n",
              "<table border=\"1\" class=\"dataframe\">\n",
              "  <thead>\n",
              "    <tr style=\"text-align: right;\">\n",
              "      <th></th>\n",
              "      <th>island_Biscoe</th>\n",
              "      <th>island_Dream</th>\n",
              "      <th>island_Torgersen</th>\n",
              "    </tr>\n",
              "  </thead>\n",
              "  <tbody>\n",
              "    <tr>\n",
              "      <th>0</th>\n",
              "      <td>0</td>\n",
              "      <td>0</td>\n",
              "      <td>1</td>\n",
              "    </tr>\n",
              "    <tr>\n",
              "      <th>1</th>\n",
              "      <td>1</td>\n",
              "      <td>0</td>\n",
              "      <td>0</td>\n",
              "    </tr>\n",
              "    <tr>\n",
              "      <th>2</th>\n",
              "      <td>0</td>\n",
              "      <td>1</td>\n",
              "      <td>0</td>\n",
              "    </tr>\n",
              "  </tbody>\n",
              "</table>\n",
              "</div>\n",
              "    <div class=\"colab-df-buttons\">\n",
              "\n",
              "  <div class=\"colab-df-container\">\n",
              "    <button class=\"colab-df-convert\" onclick=\"convertToInteractive('df-9300664a-d250-4689-b998-9973877d7a74')\"\n",
              "            title=\"Convert this dataframe to an interactive table.\"\n",
              "            style=\"display:none;\">\n",
              "\n",
              "  <svg xmlns=\"http://www.w3.org/2000/svg\" height=\"24px\" viewBox=\"0 -960 960 960\">\n",
              "    <path d=\"M120-120v-720h720v720H120Zm60-500h600v-160H180v160Zm220 220h160v-160H400v160Zm0 220h160v-160H400v160ZM180-400h160v-160H180v160Zm440 0h160v-160H620v160ZM180-180h160v-160H180v160Zm440 0h160v-160H620v160Z\"/>\n",
              "  </svg>\n",
              "    </button>\n",
              "\n",
              "  <style>\n",
              "    .colab-df-container {\n",
              "      display:flex;\n",
              "      gap: 12px;\n",
              "    }\n",
              "\n",
              "    .colab-df-convert {\n",
              "      background-color: #E8F0FE;\n",
              "      border: none;\n",
              "      border-radius: 50%;\n",
              "      cursor: pointer;\n",
              "      display: none;\n",
              "      fill: #1967D2;\n",
              "      height: 32px;\n",
              "      padding: 0 0 0 0;\n",
              "      width: 32px;\n",
              "    }\n",
              "\n",
              "    .colab-df-convert:hover {\n",
              "      background-color: #E2EBFA;\n",
              "      box-shadow: 0px 1px 2px rgba(60, 64, 67, 0.3), 0px 1px 3px 1px rgba(60, 64, 67, 0.15);\n",
              "      fill: #174EA6;\n",
              "    }\n",
              "\n",
              "    .colab-df-buttons div {\n",
              "      margin-bottom: 4px;\n",
              "    }\n",
              "\n",
              "    [theme=dark] .colab-df-convert {\n",
              "      background-color: #3B4455;\n",
              "      fill: #D2E3FC;\n",
              "    }\n",
              "\n",
              "    [theme=dark] .colab-df-convert:hover {\n",
              "      background-color: #434B5C;\n",
              "      box-shadow: 0px 1px 3px 1px rgba(0, 0, 0, 0.15);\n",
              "      filter: drop-shadow(0px 1px 2px rgba(0, 0, 0, 0.3));\n",
              "      fill: #FFFFFF;\n",
              "    }\n",
              "  </style>\n",
              "\n",
              "    <script>\n",
              "      const buttonEl =\n",
              "        document.querySelector('#df-9300664a-d250-4689-b998-9973877d7a74 button.colab-df-convert');\n",
              "      buttonEl.style.display =\n",
              "        google.colab.kernel.accessAllowed ? 'block' : 'none';\n",
              "\n",
              "      async function convertToInteractive(key) {\n",
              "        const element = document.querySelector('#df-9300664a-d250-4689-b998-9973877d7a74');\n",
              "        const dataTable =\n",
              "          await google.colab.kernel.invokeFunction('convertToInteractive',\n",
              "                                                    [key], {});\n",
              "        if (!dataTable) return;\n",
              "\n",
              "        const docLinkHtml = 'Like what you see? Visit the ' +\n",
              "          '<a target=\"_blank\" href=https://colab.research.google.com/notebooks/data_table.ipynb>data table notebook</a>'\n",
              "          + ' to learn more about interactive tables.';\n",
              "        element.innerHTML = '';\n",
              "        dataTable['output_type'] = 'display_data';\n",
              "        await google.colab.output.renderOutput(dataTable, element);\n",
              "        const docLink = document.createElement('div');\n",
              "        docLink.innerHTML = docLinkHtml;\n",
              "        element.appendChild(docLink);\n",
              "      }\n",
              "    </script>\n",
              "  </div>\n",
              "\n",
              "\n",
              "<div id=\"df-d101b88c-c220-428d-86db-4939d83c1564\">\n",
              "  <button class=\"colab-df-quickchart\" onclick=\"quickchart('df-d101b88c-c220-428d-86db-4939d83c1564')\"\n",
              "            title=\"Suggest charts\"\n",
              "            style=\"display:none;\">\n",
              "\n",
              "<svg xmlns=\"http://www.w3.org/2000/svg\" height=\"24px\"viewBox=\"0 0 24 24\"\n",
              "     width=\"24px\">\n",
              "    <g>\n",
              "        <path d=\"M19 3H5c-1.1 0-2 .9-2 2v14c0 1.1.9 2 2 2h14c1.1 0 2-.9 2-2V5c0-1.1-.9-2-2-2zM9 17H7v-7h2v7zm4 0h-2V7h2v10zm4 0h-2v-4h2v4z\"/>\n",
              "    </g>\n",
              "</svg>\n",
              "  </button>\n",
              "\n",
              "<style>\n",
              "  .colab-df-quickchart {\n",
              "      --bg-color: #E8F0FE;\n",
              "      --fill-color: #1967D2;\n",
              "      --hover-bg-color: #E2EBFA;\n",
              "      --hover-fill-color: #174EA6;\n",
              "      --disabled-fill-color: #AAA;\n",
              "      --disabled-bg-color: #DDD;\n",
              "  }\n",
              "\n",
              "  [theme=dark] .colab-df-quickchart {\n",
              "      --bg-color: #3B4455;\n",
              "      --fill-color: #D2E3FC;\n",
              "      --hover-bg-color: #434B5C;\n",
              "      --hover-fill-color: #FFFFFF;\n",
              "      --disabled-bg-color: #3B4455;\n",
              "      --disabled-fill-color: #666;\n",
              "  }\n",
              "\n",
              "  .colab-df-quickchart {\n",
              "    background-color: var(--bg-color);\n",
              "    border: none;\n",
              "    border-radius: 50%;\n",
              "    cursor: pointer;\n",
              "    display: none;\n",
              "    fill: var(--fill-color);\n",
              "    height: 32px;\n",
              "    padding: 0;\n",
              "    width: 32px;\n",
              "  }\n",
              "\n",
              "  .colab-df-quickchart:hover {\n",
              "    background-color: var(--hover-bg-color);\n",
              "    box-shadow: 0 1px 2px rgba(60, 64, 67, 0.3), 0 1px 3px 1px rgba(60, 64, 67, 0.15);\n",
              "    fill: var(--button-hover-fill-color);\n",
              "  }\n",
              "\n",
              "  .colab-df-quickchart-complete:disabled,\n",
              "  .colab-df-quickchart-complete:disabled:hover {\n",
              "    background-color: var(--disabled-bg-color);\n",
              "    fill: var(--disabled-fill-color);\n",
              "    box-shadow: none;\n",
              "  }\n",
              "\n",
              "  .colab-df-spinner {\n",
              "    border: 2px solid var(--fill-color);\n",
              "    border-color: transparent;\n",
              "    border-bottom-color: var(--fill-color);\n",
              "    animation:\n",
              "      spin 1s steps(1) infinite;\n",
              "  }\n",
              "\n",
              "  @keyframes spin {\n",
              "    0% {\n",
              "      border-color: transparent;\n",
              "      border-bottom-color: var(--fill-color);\n",
              "      border-left-color: var(--fill-color);\n",
              "    }\n",
              "    20% {\n",
              "      border-color: transparent;\n",
              "      border-left-color: var(--fill-color);\n",
              "      border-top-color: var(--fill-color);\n",
              "    }\n",
              "    30% {\n",
              "      border-color: transparent;\n",
              "      border-left-color: var(--fill-color);\n",
              "      border-top-color: var(--fill-color);\n",
              "      border-right-color: var(--fill-color);\n",
              "    }\n",
              "    40% {\n",
              "      border-color: transparent;\n",
              "      border-right-color: var(--fill-color);\n",
              "      border-top-color: var(--fill-color);\n",
              "    }\n",
              "    60% {\n",
              "      border-color: transparent;\n",
              "      border-right-color: var(--fill-color);\n",
              "    }\n",
              "    80% {\n",
              "      border-color: transparent;\n",
              "      border-right-color: var(--fill-color);\n",
              "      border-bottom-color: var(--fill-color);\n",
              "    }\n",
              "    90% {\n",
              "      border-color: transparent;\n",
              "      border-bottom-color: var(--fill-color);\n",
              "    }\n",
              "  }\n",
              "</style>\n",
              "\n",
              "  <script>\n",
              "    async function quickchart(key) {\n",
              "      const quickchartButtonEl =\n",
              "        document.querySelector('#' + key + ' button');\n",
              "      quickchartButtonEl.disabled = true;  // To prevent multiple clicks.\n",
              "      quickchartButtonEl.classList.add('colab-df-spinner');\n",
              "      try {\n",
              "        const charts = await google.colab.kernel.invokeFunction(\n",
              "            'suggestCharts', [key], {});\n",
              "      } catch (error) {\n",
              "        console.error('Error during call to suggestCharts:', error);\n",
              "      }\n",
              "      quickchartButtonEl.classList.remove('colab-df-spinner');\n",
              "      quickchartButtonEl.classList.add('colab-df-quickchart-complete');\n",
              "    }\n",
              "    (() => {\n",
              "      let quickchartButtonEl =\n",
              "        document.querySelector('#df-d101b88c-c220-428d-86db-4939d83c1564 button');\n",
              "      quickchartButtonEl.style.display =\n",
              "        google.colab.kernel.accessAllowed ? 'block' : 'none';\n",
              "    })();\n",
              "  </script>\n",
              "</div>\n",
              "    </div>\n",
              "  </div>\n"
            ]
          },
          "metadata": {},
          "execution_count": 8
        }
      ]
    },
    {
      "cell_type": "code",
      "source": [
        "from sklearn.preprocessing import LabelEncoder\n",
        "\n",
        "data_penguins['sex'] = LabelEncoder().fit_transform(data_penguins['sex'])"
      ],
      "metadata": {
        "id": "5T0LfRzozl4u"
      },
      "execution_count": 9,
      "outputs": []
    },
    {
      "cell_type": "markdown",
      "source": [
        "#### Plot the percentage of the instances"
      ],
      "metadata": {
        "id": "Ychlgawv36Yr"
      }
    },
    {
      "cell_type": "code",
      "source": [
        "# Check the output class is balanced\n",
        "penguins_labels = data_penguins['species']\n",
        "\n",
        "plt.figure(figsize=(10, 6))\n",
        "sns.countplot(x=penguins_labels)\n",
        "plt.title('Distribution of class label')\n",
        "plt.xlabel('Penguins')\n",
        "plt.ylabel('Frequency')\n",
        "\n",
        "# save as graphic\n",
        "plt.savefig('penguin-classes.png')"
      ],
      "metadata": {
        "colab": {
          "base_uri": "https://localhost:8080/",
          "height": 564
        },
        "id": "2_YBHCBg38nQ",
        "outputId": "ba80e682-81dd-4c03-d577-5159a0bc6fa3"
      },
      "execution_count": 11,
      "outputs": [
        {
          "output_type": "display_data",
          "data": {
            "text/plain": [
              "<Figure size 1000x600 with 1 Axes>"
            ],
            "image/png": "[encoded data removed]"
          },
          "metadata": {}
        }
      ]
    },
    {
      "cell_type": "markdown",
      "source": [
        "#### Dataset split into training & test set"
      ],
      "metadata": {
        "id": "YitW0dfF3zLc"
      }
    },
    {
      "cell_type": "code",
      "source": [
        "X = data_penguins.iloc[:, 1:].values\n",
        "y = data_penguins.iloc[:,0].values\n",
        "\n",
        "from sklearn.model_selection import train_test_split\n",
        "X_train, X_test, y_train, y_test = train_test_split(X, y, test_size = 0.3)"
      ],
      "metadata": {
        "id": "0wcAQElszl97"
      },
      "execution_count": 21,
      "outputs": []
    },
    {
      "cell_type": "code",
      "source": [
        "# perform feature scaling\n",
        "from sklearn.preprocessing import StandardScaler\n",
        "\n",
        "sc = StandardScaler()\n",
        "X_train = sc.fit_transform(X_train)\n",
        "X_test = sc.transform(X_test)"
      ],
      "metadata": {
        "id": "sThVNxcLzmAB"
      },
      "execution_count": 22,
      "outputs": []
    },
    {
      "cell_type": "markdown",
      "source": [
        "#### Train 4 different classifier"
      ],
      "metadata": {
        "id": "fWpPUU6EYP3T"
      }
    },
    {
      "cell_type": "markdown",
      "source": [
        "##### Classifier 1 - Base-DT"
      ],
      "metadata": {
        "id": "i1Wbs_2C3Q6E"
      }
    },
    {
      "cell_type": "code",
      "source": [
        "from sklearn.tree import DecisionTreeClassifier\n",
        "\n",
        "# Base Decision Tree\n",
        "classifier_1 = DecisionTreeClassifier()\n",
        "classifier_1.fit(X_train, y_train)"
      ],
      "metadata": {
        "id": "JN61PJ3W5jcb",
        "colab": {
          "base_uri": "https://localhost:8080/",
          "height": 75
        },
        "outputId": "81fd0aaf-681c-4b12-af47-c1e76b5f7275"
      },
      "execution_count": 23,
      "outputs": [
        {
          "output_type": "execute_result",
          "data": {
            "text/plain": [
              "DecisionTreeClassifier()"
            ],
            "text/html": [
              "<style>#sk-container-id-2 {color: black;background-color: white;}#sk-container-id-2 pre{padding: 0;}#sk-container-id-2 div.sk-toggleable {background-color: white;}#sk-container-id-2 label.sk-toggleable__label {cursor: pointer;display: block;width: 100%;margin-bottom: 0;padding: 0.3em;box-sizing: border-box;text-align: center;}#sk-container-id-2 label.sk-toggleable__label-arrow:before {content: \"▸\";float: left;margin-right: 0.25em;color: #696969;}#sk-container-id-2 label.sk-toggleable__label-arrow:hover:before {color: black;}#sk-container-id-2 div.sk-estimator:hover label.sk-toggleable__label-arrow:before {color: black;}#sk-container-id-2 div.sk-toggleable__content {max-height: 0;max-width: 0;overflow: hidden;text-align: left;background-color: #f0f8ff;}#sk-container-id-2 div.sk-toggleable__content pre {margin: 0.2em;color: black;border-radius: 0.25em;background-color: #f0f8ff;}#sk-container-id-2 input.sk-toggleable__control:checked~div.sk-toggleable__content {max-height: 200px;max-width: 100%;overflow: auto;}#sk-container-id-2 input.sk-toggleable__control:checked~label.sk-toggleable__label-arrow:before {content: \"▾\";}#sk-container-id-2 div.sk-estimator input.sk-toggleable__control:checked~label.sk-toggleable__label {background-color: #d4ebff;}#sk-container-id-2 div.sk-label input.sk-toggleable__control:checked~label.sk-toggleable__label {background-color: #d4ebff;}#sk-container-id-2 input.sk-hidden--visually {border: 0;clip: rect(1px 1px 1px 1px);clip: rect(1px, 1px, 1px, 1px);height: 1px;margin: -1px;overflow: hidden;padding: 0;position: absolute;width: 1px;}#sk-container-id-2 div.sk-estimator {font-family: monospace;background-color: #f0f8ff;border: 1px dotted black;border-radius: 0.25em;box-sizing: border-box;margin-bottom: 0.5em;}#sk-container-id-2 div.sk-estimator:hover {background-color: #d4ebff;}#sk-container-id-2 div.sk-parallel-item::after {content: \"\";width: 100%;border-bottom: 1px solid gray;flex-grow: 1;}#sk-container-id-2 div.sk-label:hover label.sk-toggleable__label {background-color: #d4ebff;}#sk-container-id-2 div.sk-serial::before {content: \"\";position: absolute;border-left: 1px solid gray;box-sizing: border-box;top: 0;bottom: 0;left: 50%;z-index: 0;}#sk-container-id-2 div.sk-serial {display: flex;flex-direction: column;align-items: center;background-color: white;padding-right: 0.2em;padding-left: 0.2em;position: relative;}#sk-container-id-2 div.sk-item {position: relative;z-index: 1;}#sk-container-id-2 div.sk-parallel {display: flex;align-items: stretch;justify-content: center;background-color: white;position: relative;}#sk-container-id-2 div.sk-item::before, #sk-container-id-2 div.sk-parallel-item::before {content: \"\";position: absolute;border-left: 1px solid gray;box-sizing: border-box;top: 0;bottom: 0;left: 50%;z-index: -1;}#sk-container-id-2 div.sk-parallel-item {display: flex;flex-direction: column;z-index: 1;position: relative;background-color: white;}#sk-container-id-2 div.sk-parallel-item:first-child::after {align-self: flex-end;width: 50%;}#sk-container-id-2 div.sk-parallel-item:last-child::after {align-self: flex-start;width: 50%;}#sk-container-id-2 div.sk-parallel-item:only-child::after {width: 0;}#sk-container-id-2 div.sk-dashed-wrapped {border: 1px dashed gray;margin: 0 0.4em 0.5em 0.4em;box-sizing: border-box;padding-bottom: 0.4em;background-color: white;}#sk-container-id-2 div.sk-label label {font-family: monospace;font-weight: bold;display: inline-block;line-height: 1.2em;}#sk-container-id-2 div.sk-label-container {text-align: center;}#sk-container-id-2 div.sk-container {/* jupyter's `normalize.less` sets `[hidden] { display: none; }` but bootstrap.min.css set `[hidden] { display: none !important; }` so we also need the `!important` here to be able to override the default hidden behavior on the sphinx rendered scikit-learn.org. See: https://github.com/scikit-learn/scikit-learn/issues/21755 */display: inline-block !important;position: relative;}#sk-container-id-2 div.sk-text-repr-fallback {display: none;}</style><div id=\"sk-container-id-2\" class=\"sk-top-container\"><div class=\"sk-text-repr-fallback\"><pre>DecisionTreeClassifier()</pre><b>In a Jupyter environment, please rerun this cell to show the HTML representation or trust the notebook. <br />On GitHub, the HTML representation is unable to render, please try loading this page with nbviewer.org.</b></div><div class=\"sk-container\" hidden><div class=\"sk-item\"><div class=\"sk-estimator sk-toggleable\"><input class=\"sk-toggleable__control sk-hidden--visually\" id=\"sk-estimator-id-2\" type=\"checkbox\" checked><label for=\"sk-estimator-id-2\" class=\"sk-toggleable__label sk-toggleable__label-arrow\">DecisionTreeClassifier</label><div class=\"sk-toggleable__content\"><pre>DecisionTreeClassifier()</pre></div></div></div></div></div>"
            ]
          },
          "metadata": {},
          "execution_count": 23
        }
      ]
    },
    {
      "cell_type": "code",
      "source": [
        "penguins_class = data_penguins.columns[0]\n",
        "penguins_features = list(data_penguins.columns[1:])"
      ],
      "metadata": {
        "id": "s_J2ed_v--zl"
      },
      "execution_count": 24,
      "outputs": []
    },
    {
      "cell_type": "code",
      "source": [
        "from sklearn import tree\n",
        "\n",
        "dot_data = tree.export_graphviz(classifier_1,\n",
        "                feature_names=penguins_features,\n",
        "                class_names=penguins_class,\n",
        "                filled=True, rounded=True,\n",
        "                special_characters=True)\n",
        "\n",
        "graph = graphviz.Source(dot_data)\n",
        "graph"
      ],
      "metadata": {
        "id": "hwomCGHCCnKt",
        "outputId": "359423ff-0800-4d06-b658-33113e6d79b8",
        "colab": {
          "base_uri": "https://localhost:8080/",
          "height": 936
        }
      },
      "execution_count": 25,
      "outputs": [
        {
          "output_type": "execute_result",
          "data": {
            "image/svg+xml": "<?xml version=\"1.0\" encoding=\"UTF-8\" standalone=\"no\"?>\n<!DOCTYPE svg PUBLIC \"-//W3C//DTD SVG 1.1//EN\"\n \"http://www.w3.org/Graphics/SVG/1.1/DTD/svg11.dtd\">\n<!-- Generated by graphviz version 2.43.0 (0)\n -->\n<!-- Title: Tree Pages: 1 -->\n<svg width=\"1154pt\" height=\"671pt\"\n viewBox=\"0.00 0.00 1154.00 671.00\" xmlns=\"http://www.w3.org/2000/svg\" xmlns:xlink=\"http://www.w3.org/1999/xlink\">\n<g id=\"graph0\" class=\"graph\" transform=\"scale(1 1) rotate(0) translate(4 667)\">\n<title>Tree</title>\n<polygon fill=\"white\" stroke=\"transparent\" points=\"-4,4 -4,-667 1150,-667 1150,4 -4,4\"/>\n<!-- 0 -->\n<g id=\"node1\" class=\"node\">\n<title>0</title>\n<path fill=\"#fcf1ea\" stroke=\"black\" d=\"M794,-663C794,-663 640,-663 640,-663 634,-663 628,-657 628,-651 628,-651 628,-592 628,-592 628,-586 634,-580 640,-580 640,-580 794,-580 794,-580 800,-580 806,-586 806,-592 806,-592 806,-651 806,-651 806,-657 800,-663 794,-663\"/>\n<text text-anchor=\"start\" x=\"636\" y=\"-647.8\" font-family=\"Helvetica,sans-Serif\" font-size=\"14.00\">flipper_length_mm ≤ 0.346</text>\n<text text-anchor=\"start\" x=\"681.5\" y=\"-632.8\" font-family=\"Helvetica,sans-Serif\" font-size=\"14.00\">gini = 0.638</text>\n<text text-anchor=\"start\" x=\"672\" y=\"-617.8\" font-family=\"Helvetica,sans-Serif\" font-size=\"14.00\">samples = 233</text>\n<text text-anchor=\"start\" x=\"655\" y=\"-602.8\" font-family=\"Helvetica,sans-Serif\" font-size=\"14.00\">value = [101, 47, 85]</text>\n<text text-anchor=\"start\" x=\"690\" y=\"-587.8\" font-family=\"Helvetica,sans-Serif\" font-size=\"14.00\">class = s</text>\n</g>\n<!-- 1 -->\n<g id=\"node2\" class=\"node\">\n<title>1</title>\n<path fill=\"#f0b890\" stroke=\"black\" d=\"M696.5,-544C696.5,-544 535.5,-544 535.5,-544 529.5,-544 523.5,-538 523.5,-532 523.5,-532 523.5,-473 523.5,-473 523.5,-467 529.5,-461 535.5,-461 535.5,-461 696.5,-461 696.5,-461 702.5,-461 708.5,-467 708.5,-473 708.5,-473 708.5,-532 708.5,-532 708.5,-538 702.5,-544 696.5,-544\"/>\n<text text-anchor=\"start\" x=\"531.5\" y=\"-528.8\" font-family=\"Helvetica,sans-Serif\" font-size=\"14.00\">culmen_length_mm ≤ 0.111</text>\n<text text-anchor=\"start\" x=\"584\" y=\"-513.8\" font-family=\"Helvetica,sans-Serif\" font-size=\"14.00\">gini = 0.43</text>\n<text text-anchor=\"start\" x=\"571\" y=\"-498.8\" font-family=\"Helvetica,sans-Serif\" font-size=\"14.00\">samples = 143</text>\n<text text-anchor=\"start\" x=\"561.5\" y=\"-483.8\" font-family=\"Helvetica,sans-Serif\" font-size=\"14.00\">value = [99, 43, 1]</text>\n<text text-anchor=\"start\" x=\"589\" y=\"-468.8\" font-family=\"Helvetica,sans-Serif\" font-size=\"14.00\">class = s</text>\n</g>\n<!-- 0&#45;&gt;1 -->\n<g id=\"edge1\" class=\"edge\">\n<title>0&#45;&gt;1</title>\n<path fill=\"none\" stroke=\"black\" d=\"M681.96,-579.91C674.12,-570.83 665.74,-561.12 657.67,-551.77\"/>\n<polygon fill=\"black\" stroke=\"black\" points=\"660.16,-549.3 650.98,-544.02 654.86,-553.88 660.16,-549.3\"/>\n<text text-anchor=\"middle\" x=\"649.15\" y=\"-565.25\" font-family=\"Helvetica,sans-Serif\" font-size=\"14.00\">True</text>\n</g>\n<!-- 18 -->\n<g id=\"node19\" class=\"node\">\n<title>18</title>\n<path fill=\"#8a47e7\" stroke=\"black\" d=\"M897,-544C897,-544 739,-544 739,-544 733,-544 727,-538 727,-532 727,-532 727,-473 727,-473 727,-467 733,-461 739,-461 739,-461 897,-461 897,-461 903,-461 909,-467 909,-473 909,-473 909,-532 909,-532 909,-538 903,-544 897,-544\"/>\n<text text-anchor=\"start\" x=\"735\" y=\"-528.8\" font-family=\"Helvetica,sans-Serif\" font-size=\"14.00\">culmen_depth_mm ≤ 0.223</text>\n<text text-anchor=\"start\" x=\"782.5\" y=\"-513.8\" font-family=\"Helvetica,sans-Serif\" font-size=\"14.00\">gini = 0.126</text>\n<text text-anchor=\"start\" x=\"777\" y=\"-498.8\" font-family=\"Helvetica,sans-Serif\" font-size=\"14.00\">samples = 90</text>\n<text text-anchor=\"start\" x=\"767.5\" y=\"-483.8\" font-family=\"Helvetica,sans-Serif\" font-size=\"14.00\">value = [2, 4, 84]</text>\n<text text-anchor=\"start\" x=\"790.5\" y=\"-468.8\" font-family=\"Helvetica,sans-Serif\" font-size=\"14.00\">class = e</text>\n</g>\n<!-- 0&#45;&gt;18 -->\n<g id=\"edge18\" class=\"edge\">\n<title>0&#45;&gt;18</title>\n<path fill=\"none\" stroke=\"black\" d=\"M752.04,-579.91C759.88,-570.83 768.26,-561.12 776.33,-551.77\"/>\n<polygon fill=\"black\" stroke=\"black\" points=\"779.14,-553.88 783.02,-544.02 773.84,-549.3 779.14,-553.88\"/>\n<text text-anchor=\"middle\" x=\"784.85\" y=\"-565.25\" font-family=\"Helvetica,sans-Serif\" font-size=\"14.00\">False</text>\n</g>\n<!-- 2 -->\n<g id=\"node3\" class=\"node\">\n<title>2</title>\n<path fill=\"#e68641\" stroke=\"black\" d=\"M517,-425C517,-425 351,-425 351,-425 345,-425 339,-419 339,-413 339,-413 339,-354 339,-354 339,-348 345,-342 351,-342 351,-342 517,-342 517,-342 523,-342 529,-348 529,-354 529,-354 529,-413 529,-413 529,-419 523,-425 517,-425\"/>\n<text text-anchor=\"start\" x=\"347\" y=\"-409.8\" font-family=\"Helvetica,sans-Serif\" font-size=\"14.00\">culmen_length_mm ≤ &#45;0.316</text>\n<text text-anchor=\"start\" x=\"398.5\" y=\"-394.8\" font-family=\"Helvetica,sans-Serif\" font-size=\"14.00\">gini = 0.077</text>\n<text text-anchor=\"start\" x=\"389\" y=\"-379.8\" font-family=\"Helvetica,sans-Serif\" font-size=\"14.00\">samples = 100</text>\n<text text-anchor=\"start\" x=\"383.5\" y=\"-364.8\" font-family=\"Helvetica,sans-Serif\" font-size=\"14.00\">value = [96, 4, 0]</text>\n<text text-anchor=\"start\" x=\"407\" y=\"-349.8\" font-family=\"Helvetica,sans-Serif\" font-size=\"14.00\">class = s</text>\n</g>\n<!-- 1&#45;&gt;2 -->\n<g id=\"edge2\" class=\"edge\">\n<title>1&#45;&gt;2</title>\n<path fill=\"none\" stroke=\"black\" d=\"M552.86,-460.91C537.61,-451.11 521.21,-440.56 505.61,-430.53\"/>\n<polygon fill=\"black\" stroke=\"black\" points=\"507.34,-427.48 497.03,-425.02 503.55,-433.37 507.34,-427.48\"/>\n</g>\n<!-- 11 -->\n<g id=\"node12\" class=\"node\">\n<title>11</title>\n<path fill=\"#4de88e\" stroke=\"black\" d=\"M690.5,-425C690.5,-425 559.5,-425 559.5,-425 553.5,-425 547.5,-419 547.5,-413 547.5,-413 547.5,-354 547.5,-354 547.5,-348 553.5,-342 559.5,-342 559.5,-342 690.5,-342 690.5,-342 696.5,-342 702.5,-348 702.5,-354 702.5,-354 702.5,-413 702.5,-413 702.5,-419 696.5,-425 690.5,-425\"/>\n<text text-anchor=\"start\" x=\"555.5\" y=\"-409.8\" font-family=\"Helvetica,sans-Serif\" font-size=\"14.00\">body_mass_g ≤ &#45;0.147</text>\n<text text-anchor=\"start\" x=\"589.5\" y=\"-394.8\" font-family=\"Helvetica,sans-Serif\" font-size=\"14.00\">gini = 0.172</text>\n<text text-anchor=\"start\" x=\"584\" y=\"-379.8\" font-family=\"Helvetica,sans-Serif\" font-size=\"14.00\">samples = 43</text>\n<text text-anchor=\"start\" x=\"574.5\" y=\"-364.8\" font-family=\"Helvetica,sans-Serif\" font-size=\"14.00\">value = [3, 39, 1]</text>\n<text text-anchor=\"start\" x=\"597.5\" y=\"-349.8\" font-family=\"Helvetica,sans-Serif\" font-size=\"14.00\">class = p</text>\n</g>\n<!-- 1&#45;&gt;11 -->\n<g id=\"edge11\" class=\"edge\">\n<title>1&#45;&gt;11</title>\n<path fill=\"none\" stroke=\"black\" d=\"M619.12,-460.91C619.76,-452.56 620.45,-443.67 621.11,-435.02\"/>\n<polygon fill=\"black\" stroke=\"black\" points=\"624.61,-435.26 621.88,-425.02 617.63,-434.72 624.61,-435.26\"/>\n</g>\n<!-- 3 -->\n<g id=\"node4\" class=\"node\">\n<title>3</title>\n<path fill=\"#e5823b\" stroke=\"black\" d=\"M363.5,-306C363.5,-306 200.5,-306 200.5,-306 194.5,-306 188.5,-300 188.5,-294 188.5,-294 188.5,-235 188.5,-235 188.5,-229 194.5,-223 200.5,-223 200.5,-223 363.5,-223 363.5,-223 369.5,-223 375.5,-229 375.5,-235 375.5,-235 375.5,-294 375.5,-294 375.5,-300 369.5,-306 363.5,-306\"/>\n<text text-anchor=\"start\" x=\"196.5\" y=\"-290.8\" font-family=\"Helvetica,sans-Serif\" font-size=\"14.00\">culmen_depth_mm ≤ &#45;0.266</text>\n<text text-anchor=\"start\" x=\"246.5\" y=\"-275.8\" font-family=\"Helvetica,sans-Serif\" font-size=\"14.00\">gini = 0.022</text>\n<text text-anchor=\"start\" x=\"241\" y=\"-260.8\" font-family=\"Helvetica,sans-Serif\" font-size=\"14.00\">samples = 91</text>\n<text text-anchor=\"start\" x=\"231.5\" y=\"-245.8\" font-family=\"Helvetica,sans-Serif\" font-size=\"14.00\">value = [90, 1, 0]</text>\n<text text-anchor=\"start\" x=\"255\" y=\"-230.8\" font-family=\"Helvetica,sans-Serif\" font-size=\"14.00\">class = s</text>\n</g>\n<!-- 2&#45;&gt;3 -->\n<g id=\"edge3\" class=\"edge\">\n<title>2&#45;&gt;3</title>\n<path fill=\"none\" stroke=\"black\" d=\"M381.26,-341.91C368.88,-332.38 355.59,-322.15 342.89,-312.37\"/>\n<polygon fill=\"black\" stroke=\"black\" points=\"344.7,-309.35 334.64,-306.02 340.43,-314.89 344.7,-309.35\"/>\n</g>\n<!-- 8 -->\n<g id=\"node9\" class=\"node\">\n<title>8</title>\n<path fill=\"#f2c09c\" stroke=\"black\" d=\"M492,-306C492,-306 406,-306 406,-306 400,-306 394,-300 394,-294 394,-294 394,-235 394,-235 394,-229 400,-223 406,-223 406,-223 492,-223 492,-223 498,-223 504,-229 504,-235 504,-235 504,-294 504,-294 504,-300 498,-306 492,-306\"/>\n<text text-anchor=\"start\" x=\"414\" y=\"-290.8\" font-family=\"Helvetica,sans-Serif\" font-size=\"14.00\">sex ≤ 0.013</text>\n<text text-anchor=\"start\" x=\"413.5\" y=\"-275.8\" font-family=\"Helvetica,sans-Serif\" font-size=\"14.00\">gini = 0.444</text>\n<text text-anchor=\"start\" x=\"411.5\" y=\"-260.8\" font-family=\"Helvetica,sans-Serif\" font-size=\"14.00\">samples = 9</text>\n<text text-anchor=\"start\" x=\"402\" y=\"-245.8\" font-family=\"Helvetica,sans-Serif\" font-size=\"14.00\">value = [6, 3, 0]</text>\n<text text-anchor=\"start\" x=\"422\" y=\"-230.8\" font-family=\"Helvetica,sans-Serif\" font-size=\"14.00\">class = s</text>\n</g>\n<!-- 2&#45;&gt;8 -->\n<g id=\"edge8\" class=\"edge\">\n<title>2&#45;&gt;8</title>\n<path fill=\"none\" stroke=\"black\" d=\"M439.2,-341.91C440.27,-333.56 441.41,-324.67 442.52,-316.02\"/>\n<polygon fill=\"black\" stroke=\"black\" points=\"446,-316.38 443.81,-306.02 439.06,-315.49 446,-316.38\"/>\n</g>\n<!-- 4 -->\n<g id=\"node5\" class=\"node\">\n<title>4</title>\n<path fill=\"#e99355\" stroke=\"black\" d=\"M202,-187C202,-187 36,-187 36,-187 30,-187 24,-181 24,-175 24,-175 24,-116 24,-116 24,-110 30,-104 36,-104 36,-104 202,-104 202,-104 208,-104 214,-110 214,-116 214,-116 214,-175 214,-175 214,-181 208,-187 202,-187\"/>\n<text text-anchor=\"start\" x=\"32\" y=\"-171.8\" font-family=\"Helvetica,sans-Serif\" font-size=\"14.00\">culmen_length_mm ≤ &#45;0.883</text>\n<text text-anchor=\"start\" x=\"83.5\" y=\"-156.8\" font-family=\"Helvetica,sans-Serif\" font-size=\"14.00\">gini = 0.219</text>\n<text text-anchor=\"start\" x=\"81.5\" y=\"-141.8\" font-family=\"Helvetica,sans-Serif\" font-size=\"14.00\">samples = 8</text>\n<text text-anchor=\"start\" x=\"72\" y=\"-126.8\" font-family=\"Helvetica,sans-Serif\" font-size=\"14.00\">value = [7, 1, 0]</text>\n<text text-anchor=\"start\" x=\"92\" y=\"-111.8\" font-family=\"Helvetica,sans-Serif\" font-size=\"14.00\">class = s</text>\n</g>\n<!-- 3&#45;&gt;4 -->\n<g id=\"edge4\" class=\"edge\">\n<title>3&#45;&gt;4</title>\n<path fill=\"none\" stroke=\"black\" d=\"M225.45,-222.91C212.05,-213.29 197.65,-202.95 183.91,-193.09\"/>\n<polygon fill=\"black\" stroke=\"black\" points=\"185.62,-190.01 175.45,-187.02 181.53,-195.7 185.62,-190.01\"/>\n</g>\n<!-- 7 -->\n<g id=\"node8\" class=\"node\">\n<title>7</title>\n<path fill=\"#e58139\" stroke=\"black\" d=\"M337.5,-179.5C337.5,-179.5 244.5,-179.5 244.5,-179.5 238.5,-179.5 232.5,-173.5 232.5,-167.5 232.5,-167.5 232.5,-123.5 232.5,-123.5 232.5,-117.5 238.5,-111.5 244.5,-111.5 244.5,-111.5 337.5,-111.5 337.5,-111.5 343.5,-111.5 349.5,-117.5 349.5,-123.5 349.5,-123.5 349.5,-167.5 349.5,-167.5 349.5,-173.5 343.5,-179.5 337.5,-179.5\"/>\n<text text-anchor=\"start\" x=\"263\" y=\"-164.3\" font-family=\"Helvetica,sans-Serif\" font-size=\"14.00\">gini = 0.0</text>\n<text text-anchor=\"start\" x=\"250\" y=\"-149.3\" font-family=\"Helvetica,sans-Serif\" font-size=\"14.00\">samples = 83</text>\n<text text-anchor=\"start\" x=\"240.5\" y=\"-134.3\" font-family=\"Helvetica,sans-Serif\" font-size=\"14.00\">value = [83, 0, 0]</text>\n<text text-anchor=\"start\" x=\"264\" y=\"-119.3\" font-family=\"Helvetica,sans-Serif\" font-size=\"14.00\">class = s</text>\n</g>\n<!-- 3&#45;&gt;7 -->\n<g id=\"edge7\" class=\"edge\">\n<title>3&#45;&gt;7</title>\n<path fill=\"none\" stroke=\"black\" d=\"M285.12,-222.91C285.95,-212.2 286.84,-200.62 287.67,-189.78\"/>\n<polygon fill=\"black\" stroke=\"black\" points=\"291.17,-189.91 288.45,-179.67 284.19,-189.37 291.17,-189.91\"/>\n</g>\n<!-- 5 -->\n<g id=\"node6\" class=\"node\">\n<title>5</title>\n<path fill=\"#e58139\" stroke=\"black\" d=\"M98,-68C98,-68 12,-68 12,-68 6,-68 0,-62 0,-56 0,-56 0,-12 0,-12 0,-6 6,0 12,0 12,0 98,0 98,0 104,0 110,-6 110,-12 110,-12 110,-56 110,-56 110,-62 104,-68 98,-68\"/>\n<text text-anchor=\"start\" x=\"27\" y=\"-52.8\" font-family=\"Helvetica,sans-Serif\" font-size=\"14.00\">gini = 0.0</text>\n<text text-anchor=\"start\" x=\"17.5\" y=\"-37.8\" font-family=\"Helvetica,sans-Serif\" font-size=\"14.00\">samples = 7</text>\n<text text-anchor=\"start\" x=\"8\" y=\"-22.8\" font-family=\"Helvetica,sans-Serif\" font-size=\"14.00\">value = [7, 0, 0]</text>\n<text text-anchor=\"start\" x=\"28\" y=\"-7.8\" font-family=\"Helvetica,sans-Serif\" font-size=\"14.00\">class = s</text>\n</g>\n<!-- 4&#45;&gt;5 -->\n<g id=\"edge5\" class=\"edge\">\n<title>4&#45;&gt;5</title>\n<path fill=\"none\" stroke=\"black\" d=\"M95.17,-103.73C90.1,-95.06 84.75,-85.9 79.65,-77.18\"/>\n<polygon fill=\"black\" stroke=\"black\" points=\"82.53,-75.17 74.46,-68.3 76.49,-78.7 82.53,-75.17\"/>\n</g>\n<!-- 6 -->\n<g id=\"node7\" class=\"node\">\n<title>6</title>\n<path fill=\"#39e581\" stroke=\"black\" d=\"M226,-68C226,-68 140,-68 140,-68 134,-68 128,-62 128,-56 128,-56 128,-12 128,-12 128,-6 134,0 140,0 140,0 226,0 226,0 232,0 238,-6 238,-12 238,-12 238,-56 238,-56 238,-62 232,-68 226,-68\"/>\n<text text-anchor=\"start\" x=\"155\" y=\"-52.8\" font-family=\"Helvetica,sans-Serif\" font-size=\"14.00\">gini = 0.0</text>\n<text text-anchor=\"start\" x=\"145.5\" y=\"-37.8\" font-family=\"Helvetica,sans-Serif\" font-size=\"14.00\">samples = 1</text>\n<text text-anchor=\"start\" x=\"136\" y=\"-22.8\" font-family=\"Helvetica,sans-Serif\" font-size=\"14.00\">value = [0, 1, 0]</text>\n<text text-anchor=\"start\" x=\"155.5\" y=\"-7.8\" font-family=\"Helvetica,sans-Serif\" font-size=\"14.00\">class = p</text>\n</g>\n<!-- 4&#45;&gt;6 -->\n<g id=\"edge6\" class=\"edge\">\n<title>4&#45;&gt;6</title>\n<path fill=\"none\" stroke=\"black\" d=\"M142.83,-103.73C147.9,-95.06 153.25,-85.9 158.35,-77.18\"/>\n<polygon fill=\"black\" stroke=\"black\" points=\"161.51,-78.7 163.54,-68.3 155.47,-75.17 161.51,-78.7\"/>\n</g>\n<!-- 9 -->\n<g id=\"node10\" class=\"node\">\n<title>9</title>\n<path fill=\"#39e581\" stroke=\"black\" d=\"M483,-179.5C483,-179.5 397,-179.5 397,-179.5 391,-179.5 385,-173.5 385,-167.5 385,-167.5 385,-123.5 385,-123.5 385,-117.5 391,-111.5 397,-111.5 397,-111.5 483,-111.5 483,-111.5 489,-111.5 495,-117.5 495,-123.5 495,-123.5 495,-167.5 495,-167.5 495,-173.5 489,-179.5 483,-179.5\"/>\n<text text-anchor=\"start\" x=\"412\" y=\"-164.3\" font-family=\"Helvetica,sans-Serif\" font-size=\"14.00\">gini = 0.0</text>\n<text text-anchor=\"start\" x=\"402.5\" y=\"-149.3\" font-family=\"Helvetica,sans-Serif\" font-size=\"14.00\">samples = 3</text>\n<text text-anchor=\"start\" x=\"393\" y=\"-134.3\" font-family=\"Helvetica,sans-Serif\" font-size=\"14.00\">value = [0, 3, 0]</text>\n<text text-anchor=\"start\" x=\"412.5\" y=\"-119.3\" font-family=\"Helvetica,sans-Serif\" font-size=\"14.00\">class = p</text>\n</g>\n<!-- 8&#45;&gt;9 -->\n<g id=\"edge9\" class=\"edge\">\n<title>8&#45;&gt;9</title>\n<path fill=\"none\" stroke=\"black\" d=\"M445.88,-222.91C445.05,-212.2 444.16,-200.62 443.33,-189.78\"/>\n<polygon fill=\"black\" stroke=\"black\" points=\"446.81,-189.37 442.55,-179.67 439.83,-189.91 446.81,-189.37\"/>\n</g>\n<!-- 10 -->\n<g id=\"node11\" class=\"node\">\n<title>10</title>\n<path fill=\"#e58139\" stroke=\"black\" d=\"M611,-179.5C611,-179.5 525,-179.5 525,-179.5 519,-179.5 513,-173.5 513,-167.5 513,-167.5 513,-123.5 513,-123.5 513,-117.5 519,-111.5 525,-111.5 525,-111.5 611,-111.5 611,-111.5 617,-111.5 623,-117.5 623,-123.5 623,-123.5 623,-167.5 623,-167.5 623,-173.5 617,-179.5 611,-179.5\"/>\n<text text-anchor=\"start\" x=\"540\" y=\"-164.3\" font-family=\"Helvetica,sans-Serif\" font-size=\"14.00\">gini = 0.0</text>\n<text text-anchor=\"start\" x=\"530.5\" y=\"-149.3\" font-family=\"Helvetica,sans-Serif\" font-size=\"14.00\">samples = 6</text>\n<text text-anchor=\"start\" x=\"521\" y=\"-134.3\" font-family=\"Helvetica,sans-Serif\" font-size=\"14.00\">value = [6, 0, 0]</text>\n<text text-anchor=\"start\" x=\"541\" y=\"-119.3\" font-family=\"Helvetica,sans-Serif\" font-size=\"14.00\">class = s</text>\n</g>\n<!-- 8&#45;&gt;10 -->\n<g id=\"edge10\" class=\"edge\">\n<title>8&#45;&gt;10</title>\n<path fill=\"none\" stroke=\"black\" d=\"M490.29,-222.91C502.18,-211.21 515.15,-198.46 527.03,-186.78\"/>\n<polygon fill=\"black\" stroke=\"black\" points=\"529.59,-189.17 534.27,-179.67 524.68,-184.18 529.59,-189.17\"/>\n</g>\n<!-- 12 -->\n<g id=\"node13\" class=\"node\">\n<title>12</title>\n<path fill=\"#39e581\" stroke=\"black\" d=\"M656.5,-298.5C656.5,-298.5 563.5,-298.5 563.5,-298.5 557.5,-298.5 551.5,-292.5 551.5,-286.5 551.5,-286.5 551.5,-242.5 551.5,-242.5 551.5,-236.5 557.5,-230.5 563.5,-230.5 563.5,-230.5 656.5,-230.5 656.5,-230.5 662.5,-230.5 668.5,-236.5 668.5,-242.5 668.5,-242.5 668.5,-286.5 668.5,-286.5 668.5,-292.5 662.5,-298.5 656.5,-298.5\"/>\n<text text-anchor=\"start\" x=\"582\" y=\"-283.3\" font-family=\"Helvetica,sans-Serif\" font-size=\"14.00\">gini = 0.0</text>\n<text text-anchor=\"start\" x=\"569\" y=\"-268.3\" font-family=\"Helvetica,sans-Serif\" font-size=\"14.00\">samples = 36</text>\n<text text-anchor=\"start\" x=\"559.5\" y=\"-253.3\" font-family=\"Helvetica,sans-Serif\" font-size=\"14.00\">value = [0, 36, 0]</text>\n<text text-anchor=\"start\" x=\"582.5\" y=\"-238.3\" font-family=\"Helvetica,sans-Serif\" font-size=\"14.00\">class = p</text>\n</g>\n<!-- 11&#45;&gt;12 -->\n<g id=\"edge12\" class=\"edge\">\n<title>11&#45;&gt;12</title>\n<path fill=\"none\" stroke=\"black\" d=\"M619.8,-341.91C618.42,-331.2 616.94,-319.62 615.55,-308.78\"/>\n<polygon fill=\"black\" stroke=\"black\" points=\"619,-308.14 614.25,-298.67 612.05,-309.03 619,-308.14\"/>\n</g>\n<!-- 13 -->\n<g id=\"node14\" class=\"node\">\n<title>13</title>\n<path fill=\"#ffffff\" stroke=\"black\" d=\"M859.5,-306C859.5,-306 698.5,-306 698.5,-306 692.5,-306 686.5,-300 686.5,-294 686.5,-294 686.5,-235 686.5,-235 686.5,-229 692.5,-223 698.5,-223 698.5,-223 859.5,-223 859.5,-223 865.5,-223 871.5,-229 871.5,-235 871.5,-235 871.5,-294 871.5,-294 871.5,-300 865.5,-306 859.5,-306\"/>\n<text text-anchor=\"start\" x=\"694.5\" y=\"-290.8\" font-family=\"Helvetica,sans-Serif\" font-size=\"14.00\">culmen_length_mm ≤ 0.584</text>\n<text text-anchor=\"start\" x=\"743.5\" y=\"-275.8\" font-family=\"Helvetica,sans-Serif\" font-size=\"14.00\">gini = 0.612</text>\n<text text-anchor=\"start\" x=\"741.5\" y=\"-260.8\" font-family=\"Helvetica,sans-Serif\" font-size=\"14.00\">samples = 7</text>\n<text text-anchor=\"start\" x=\"732\" y=\"-245.8\" font-family=\"Helvetica,sans-Serif\" font-size=\"14.00\">value = [3, 3, 1]</text>\n<text text-anchor=\"start\" x=\"752\" y=\"-230.8\" font-family=\"Helvetica,sans-Serif\" font-size=\"14.00\">class = s</text>\n</g>\n<!-- 11&#45;&gt;13 -->\n<g id=\"edge13\" class=\"edge\">\n<title>11&#45;&gt;13</title>\n<path fill=\"none\" stroke=\"black\" d=\"M678.43,-341.91C691.09,-332.29 704.69,-321.95 717.68,-312.09\"/>\n<polygon fill=\"black\" stroke=\"black\" points=\"719.82,-314.86 725.66,-306.02 715.58,-309.28 719.82,-314.86\"/>\n</g>\n<!-- 14 -->\n<g id=\"node15\" class=\"node\">\n<title>14</title>\n<path fill=\"#e58139\" stroke=\"black\" d=\"M781,-179.5C781,-179.5 695,-179.5 695,-179.5 689,-179.5 683,-173.5 683,-167.5 683,-167.5 683,-123.5 683,-123.5 683,-117.5 689,-111.5 695,-111.5 695,-111.5 781,-111.5 781,-111.5 787,-111.5 793,-117.5 793,-123.5 793,-123.5 793,-167.5 793,-167.5 793,-173.5 787,-179.5 781,-179.5\"/>\n<text text-anchor=\"start\" x=\"710\" y=\"-164.3\" font-family=\"Helvetica,sans-Serif\" font-size=\"14.00\">gini = 0.0</text>\n<text text-anchor=\"start\" x=\"700.5\" y=\"-149.3\" font-family=\"Helvetica,sans-Serif\" font-size=\"14.00\">samples = 3</text>\n<text text-anchor=\"start\" x=\"691\" y=\"-134.3\" font-family=\"Helvetica,sans-Serif\" font-size=\"14.00\">value = [3, 0, 0]</text>\n<text text-anchor=\"start\" x=\"711\" y=\"-119.3\" font-family=\"Helvetica,sans-Serif\" font-size=\"14.00\">class = s</text>\n</g>\n<!-- 13&#45;&gt;14 -->\n<g id=\"edge14\" class=\"edge\">\n<title>13&#45;&gt;14</title>\n<path fill=\"none\" stroke=\"black\" d=\"M764.78,-222.91C760.95,-211.98 756.8,-200.14 752.93,-189.11\"/>\n<polygon fill=\"black\" stroke=\"black\" points=\"756.23,-187.95 749.62,-179.67 749.63,-190.26 756.23,-187.95\"/>\n</g>\n<!-- 15 -->\n<g id=\"node16\" class=\"node\">\n<title>15</title>\n<path fill=\"#7beeab\" stroke=\"black\" d=\"M909,-187C909,-187 823,-187 823,-187 817,-187 811,-181 811,-175 811,-175 811,-116 811,-116 811,-110 817,-104 823,-104 823,-104 909,-104 909,-104 915,-104 921,-110 921,-116 921,-116 921,-175 921,-175 921,-181 915,-187 909,-187\"/>\n<text text-anchor=\"start\" x=\"821.5\" y=\"-171.8\" font-family=\"Helvetica,sans-Serif\" font-size=\"14.00\">island ≤ &#45;0.021</text>\n<text text-anchor=\"start\" x=\"830.5\" y=\"-156.8\" font-family=\"Helvetica,sans-Serif\" font-size=\"14.00\">gini = 0.375</text>\n<text text-anchor=\"start\" x=\"828.5\" y=\"-141.8\" font-family=\"Helvetica,sans-Serif\" font-size=\"14.00\">samples = 4</text>\n<text text-anchor=\"start\" x=\"819\" y=\"-126.8\" font-family=\"Helvetica,sans-Serif\" font-size=\"14.00\">value = [0, 3, 1]</text>\n<text text-anchor=\"start\" x=\"838.5\" y=\"-111.8\" font-family=\"Helvetica,sans-Serif\" font-size=\"14.00\">class = p</text>\n</g>\n<!-- 13&#45;&gt;15 -->\n<g id=\"edge15\" class=\"edge\">\n<title>13&#45;&gt;15</title>\n<path fill=\"none\" stroke=\"black\" d=\"M809.18,-222.91C815.86,-213.92 823.01,-204.32 829.9,-195.05\"/>\n<polygon fill=\"black\" stroke=\"black\" points=\"832.71,-197.13 835.87,-187.02 827.09,-192.96 832.71,-197.13\"/>\n</g>\n<!-- 16 -->\n<g id=\"node17\" class=\"node\">\n<title>16</title>\n<path fill=\"#8139e5\" stroke=\"black\" d=\"M845,-68C845,-68 759,-68 759,-68 753,-68 747,-62 747,-56 747,-56 747,-12 747,-12 747,-6 753,0 759,0 759,0 845,0 845,0 851,0 857,-6 857,-12 857,-12 857,-56 857,-56 857,-62 851,-68 845,-68\"/>\n<text text-anchor=\"start\" x=\"774\" y=\"-52.8\" font-family=\"Helvetica,sans-Serif\" font-size=\"14.00\">gini = 0.0</text>\n<text text-anchor=\"start\" x=\"764.5\" y=\"-37.8\" font-family=\"Helvetica,sans-Serif\" font-size=\"14.00\">samples = 1</text>\n<text text-anchor=\"start\" x=\"755\" y=\"-22.8\" font-family=\"Helvetica,sans-Serif\" font-size=\"14.00\">value = [0, 0, 1]</text>\n<text text-anchor=\"start\" x=\"774.5\" y=\"-7.8\" font-family=\"Helvetica,sans-Serif\" font-size=\"14.00\">class = e</text>\n</g>\n<!-- 15&#45;&gt;16 -->\n<g id=\"edge16\" class=\"edge\">\n<title>15&#45;&gt;16</title>\n<path fill=\"none\" stroke=\"black\" d=\"M842.17,-103.73C837.1,-95.06 831.75,-85.9 826.65,-77.18\"/>\n<polygon fill=\"black\" stroke=\"black\" points=\"829.53,-75.17 821.46,-68.3 823.49,-78.7 829.53,-75.17\"/>\n</g>\n<!-- 17 -->\n<g id=\"node18\" class=\"node\">\n<title>17</title>\n<path fill=\"#39e581\" stroke=\"black\" d=\"M973,-68C973,-68 887,-68 887,-68 881,-68 875,-62 875,-56 875,-56 875,-12 875,-12 875,-6 881,0 887,0 887,0 973,0 973,0 979,0 985,-6 985,-12 985,-12 985,-56 985,-56 985,-62 979,-68 973,-68\"/>\n<text text-anchor=\"start\" x=\"902\" y=\"-52.8\" font-family=\"Helvetica,sans-Serif\" font-size=\"14.00\">gini = 0.0</text>\n<text text-anchor=\"start\" x=\"892.5\" y=\"-37.8\" font-family=\"Helvetica,sans-Serif\" font-size=\"14.00\">samples = 3</text>\n<text text-anchor=\"start\" x=\"883\" y=\"-22.8\" font-family=\"Helvetica,sans-Serif\" font-size=\"14.00\">value = [0, 3, 0]</text>\n<text text-anchor=\"start\" x=\"902.5\" y=\"-7.8\" font-family=\"Helvetica,sans-Serif\" font-size=\"14.00\">class = p</text>\n</g>\n<!-- 15&#45;&gt;17 -->\n<g id=\"edge17\" class=\"edge\">\n<title>15&#45;&gt;17</title>\n<path fill=\"none\" stroke=\"black\" d=\"M889.83,-103.73C894.9,-95.06 900.25,-85.9 905.35,-77.18\"/>\n<polygon fill=\"black\" stroke=\"black\" points=\"908.51,-78.7 910.54,-68.3 902.47,-75.17 908.51,-78.7\"/>\n</g>\n<!-- 19 -->\n<g id=\"node20\" class=\"node\">\n<title>19</title>\n<path fill=\"#8139e5\" stroke=\"black\" d=\"M848.5,-417.5C848.5,-417.5 755.5,-417.5 755.5,-417.5 749.5,-417.5 743.5,-411.5 743.5,-405.5 743.5,-405.5 743.5,-361.5 743.5,-361.5 743.5,-355.5 749.5,-349.5 755.5,-349.5 755.5,-349.5 848.5,-349.5 848.5,-349.5 854.5,-349.5 860.5,-355.5 860.5,-361.5 860.5,-361.5 860.5,-405.5 860.5,-405.5 860.5,-411.5 854.5,-417.5 848.5,-417.5\"/>\n<text text-anchor=\"start\" x=\"774\" y=\"-402.3\" font-family=\"Helvetica,sans-Serif\" font-size=\"14.00\">gini = 0.0</text>\n<text text-anchor=\"start\" x=\"761\" y=\"-387.3\" font-family=\"Helvetica,sans-Serif\" font-size=\"14.00\">samples = 84</text>\n<text text-anchor=\"start\" x=\"751.5\" y=\"-372.3\" font-family=\"Helvetica,sans-Serif\" font-size=\"14.00\">value = [0, 0, 84]</text>\n<text text-anchor=\"start\" x=\"774.5\" y=\"-357.3\" font-family=\"Helvetica,sans-Serif\" font-size=\"14.00\">class = e</text>\n</g>\n<!-- 18&#45;&gt;19 -->\n<g id=\"edge19\" class=\"edge\">\n<title>18&#45;&gt;19</title>\n<path fill=\"none\" stroke=\"black\" d=\"M812.45,-460.91C810.99,-450.2 809.4,-438.62 807.92,-427.78\"/>\n<polygon fill=\"black\" stroke=\"black\" points=\"811.36,-427.1 806.54,-417.67 804.42,-428.05 811.36,-427.1\"/>\n</g>\n<!-- 20 -->\n<g id=\"node21\" class=\"node\">\n<title>20</title>\n<path fill=\"#9cf2c0\" stroke=\"black\" d=\"M1051.5,-425C1051.5,-425 890.5,-425 890.5,-425 884.5,-425 878.5,-419 878.5,-413 878.5,-413 878.5,-354 878.5,-354 878.5,-348 884.5,-342 890.5,-342 890.5,-342 1051.5,-342 1051.5,-342 1057.5,-342 1063.5,-348 1063.5,-354 1063.5,-354 1063.5,-413 1063.5,-413 1063.5,-419 1057.5,-425 1051.5,-425\"/>\n<text text-anchor=\"start\" x=\"886.5\" y=\"-409.8\" font-family=\"Helvetica,sans-Serif\" font-size=\"14.00\">culmen_length_mm ≤ 0.464</text>\n<text text-anchor=\"start\" x=\"935.5\" y=\"-394.8\" font-family=\"Helvetica,sans-Serif\" font-size=\"14.00\">gini = 0.444</text>\n<text text-anchor=\"start\" x=\"933.5\" y=\"-379.8\" font-family=\"Helvetica,sans-Serif\" font-size=\"14.00\">samples = 6</text>\n<text text-anchor=\"start\" x=\"924\" y=\"-364.8\" font-family=\"Helvetica,sans-Serif\" font-size=\"14.00\">value = [2, 4, 0]</text>\n<text text-anchor=\"start\" x=\"943.5\" y=\"-349.8\" font-family=\"Helvetica,sans-Serif\" font-size=\"14.00\">class = p</text>\n</g>\n<!-- 18&#45;&gt;20 -->\n<g id=\"edge20\" class=\"edge\">\n<title>18&#45;&gt;20</title>\n<path fill=\"none\" stroke=\"black\" d=\"M871.08,-460.91C883.54,-451.38 896.92,-441.15 909.71,-431.37\"/>\n<polygon fill=\"black\" stroke=\"black\" points=\"912.19,-433.88 918.01,-425.02 907.94,-428.32 912.19,-433.88\"/>\n</g>\n<!-- 21 -->\n<g id=\"node22\" class=\"node\">\n<title>21</title>\n<path fill=\"#e58139\" stroke=\"black\" d=\"M1006,-298.5C1006,-298.5 920,-298.5 920,-298.5 914,-298.5 908,-292.5 908,-286.5 908,-286.5 908,-242.5 908,-242.5 908,-236.5 914,-230.5 920,-230.5 920,-230.5 1006,-230.5 1006,-230.5 1012,-230.5 1018,-236.5 1018,-242.5 1018,-242.5 1018,-286.5 1018,-286.5 1018,-292.5 1012,-298.5 1006,-298.5\"/>\n<text text-anchor=\"start\" x=\"935\" y=\"-283.3\" font-family=\"Helvetica,sans-Serif\" font-size=\"14.00\">gini = 0.0</text>\n<text text-anchor=\"start\" x=\"925.5\" y=\"-268.3\" font-family=\"Helvetica,sans-Serif\" font-size=\"14.00\">samples = 2</text>\n<text text-anchor=\"start\" x=\"916\" y=\"-253.3\" font-family=\"Helvetica,sans-Serif\" font-size=\"14.00\">value = [2, 0, 0]</text>\n<text text-anchor=\"start\" x=\"936\" y=\"-238.3\" font-family=\"Helvetica,sans-Serif\" font-size=\"14.00\">class = s</text>\n</g>\n<!-- 20&#45;&gt;21 -->\n<g id=\"edge21\" class=\"edge\">\n<title>20&#45;&gt;21</title>\n<path fill=\"none\" stroke=\"black\" d=\"M968.22,-341.91C967.49,-331.2 966.7,-319.62 965.96,-308.78\"/>\n<polygon fill=\"black\" stroke=\"black\" points=\"969.44,-308.4 965.27,-298.67 962.46,-308.88 969.44,-308.4\"/>\n</g>\n<!-- 22 -->\n<g id=\"node23\" class=\"node\">\n<title>22</title>\n<path fill=\"#39e581\" stroke=\"black\" d=\"M1134,-298.5C1134,-298.5 1048,-298.5 1048,-298.5 1042,-298.5 1036,-292.5 1036,-286.5 1036,-286.5 1036,-242.5 1036,-242.5 1036,-236.5 1042,-230.5 1048,-230.5 1048,-230.5 1134,-230.5 1134,-230.5 1140,-230.5 1146,-236.5 1146,-242.5 1146,-242.5 1146,-286.5 1146,-286.5 1146,-292.5 1140,-298.5 1134,-298.5\"/>\n<text text-anchor=\"start\" x=\"1063\" y=\"-283.3\" font-family=\"Helvetica,sans-Serif\" font-size=\"14.00\">gini = 0.0</text>\n<text text-anchor=\"start\" x=\"1053.5\" y=\"-268.3\" font-family=\"Helvetica,sans-Serif\" font-size=\"14.00\">samples = 4</text>\n<text text-anchor=\"start\" x=\"1044\" y=\"-253.3\" font-family=\"Helvetica,sans-Serif\" font-size=\"14.00\">value = [0, 4, 0]</text>\n<text text-anchor=\"start\" x=\"1063.5\" y=\"-238.3\" font-family=\"Helvetica,sans-Serif\" font-size=\"14.00\">class = p</text>\n</g>\n<!-- 20&#45;&gt;22 -->\n<g id=\"edge22\" class=\"edge\">\n<title>20&#45;&gt;22</title>\n<path fill=\"none\" stroke=\"black\" d=\"M1012.63,-341.91C1024.63,-330.21 1037.71,-317.46 1049.69,-305.78\"/>\n<polygon fill=\"black\" stroke=\"black\" points=\"1052.27,-308.15 1056.98,-298.67 1047.38,-303.14 1052.27,-308.15\"/>\n</g>\n</g>\n</svg>\n",
            "text/plain": [
              "<graphviz.sources.Source at 0x7838e9d578e0>"
            ]
          },
          "metadata": {},
          "execution_count": 25
        }
      ]
    },
    {
      "cell_type": "code",
      "source": [
        "# print to the output file\n",
        "print('**************************************************************', file = outputFile)\n",
        "print('(A) Classifier 1 - Base DT', file = outputFile)\n",
        "print(classifier_1, file = outputFile)\n",
        "print('\\n', file = outputFile)"
      ],
      "metadata": {
        "id": "OYDP9qI641PW"
      },
      "execution_count": 26,
      "outputs": []
    },
    {
      "cell_type": "code",
      "source": [
        "# print classification report\n",
        "y_pred = classifier_1.predict(X_test)\n",
        "confusion_mat = confusion_matrix(y_test, y_pred)\n",
        "\n",
        "print(classification_report(y_test, y_pred, target_names=['Adelie', 'Chinstrap', 'Gentoo']))\n",
        "print(\"confusion matrix\\n\",confusion_mat)\n",
        "\n",
        "# print the result to the output file\n",
        "confusion_matrix_result =np.array2string(confusion_mat)\n",
        "print(\"(B) Confusion Matrix\", file = outputFile)\n",
        "print(confusion_matrix_result, file = outputFile)\n",
        "print('\\n', file = outputFile)\n",
        "print(\"(C,D) Classification Report\", file = outputFile)\n",
        "print(classification_report(y_test, y_pred, target_names = ['Adelie', 'Gentoo', 'Chinstap']), file = outputFile)\n",
        "outputFile.flush()"
      ],
      "metadata": {
        "colab": {
          "base_uri": "https://localhost:8080/"
        },
        "id": "o-9zdG295Uzs",
        "outputId": "61a83eaa-b26a-40e5-9822-13138424e922"
      },
      "execution_count": 27,
      "outputs": [
        {
          "output_type": "stream",
          "name": "stdout",
          "text": [
            "              precision    recall  f1-score   support\n",
            "\n",
            "      Adelie       0.98      1.00      0.99        45\n",
            "   Chinstrap       1.00      0.95      0.98        21\n",
            "      Gentoo       1.00      1.00      1.00        34\n",
            "\n",
            "    accuracy                           0.99       100\n",
            "   macro avg       0.99      0.98      0.99       100\n",
            "weighted avg       0.99      0.99      0.99       100\n",
            "\n",
            "confusion matrix\n",
            " [[45  0  0]\n",
            " [ 1 20  0]\n",
            " [ 0  0 34]]\n"
          ]
        }
      ]
    },
    {
      "cell_type": "code",
      "source": [
        "# repeat training & prediction 5 times for classifier 1\n",
        "from sklearn.metrics import accuracy_score, f1_score\n",
        "\n",
        "accuracy_baseDT = np.zeros(5)\n",
        "macro_avg_baseDT = np.zeros(5)\n",
        "weighted_avg_baseDT = np.zeros(5)\n",
        "\n",
        "for i in range(5):\n",
        "  X_train, X_test, y_train, y_test = train_test_split(X, y, test_size = 0.3)\n",
        "  classifier_1.fit(X_train, y_train)\n",
        "  y_pred = classifier_1.predict(X_test)\n",
        "\n",
        "  # find the accuracy for each iteration and store the value\n",
        "  accuracy_baseDT[i] = accuracy_score(y_test, y_pred)\n",
        "  macro_avg_baseDT[i] = f1_score(y_test, y_pred, average='macro')\n",
        "  weighted_avg_baseDT[i] = f1_score(y_test, y_pred, average='weighted')\n",
        "\n",
        "# compute the average accuracy & variances\n",
        "print(f'accuracy_baseDT: {accuracy_baseDT}')\n",
        "Avg_accuracy = (np.sum(accuracy_baseDT))/5\n",
        "accuracy_variance = np.var(accuracy_baseDT)\n",
        "print(f'average accuracy: {Avg_accuracy}, variance: {accuracy_variance}')\n",
        "\n",
        "# compute the average macro-average F1 & the variance\n",
        "print(f'macro_avg_baseDT: {macro_avg_baseDT}')\n",
        "Avg_macro_avg = (np.sum(macro_avg_baseDT))/5\n",
        "f1_macro_variance = np.var(macro_avg_baseDT)\n",
        "print(f'average macro-average F1: {Avg_macro_avg}, variance: {f1_macro_variance}')\n",
        "\n",
        "# compute the average weighted-average F1 & the variance\n",
        "print(f'weighted_avg_baseDT: {weighted_avg_baseDT}')\n",
        "Avg_weighted_avg = (np.sum(weighted_avg_baseDT))/5\n",
        "f1_weighted_variance = np.var(weighted_avg_baseDT)\n",
        "print(f'average weighted-average F1: {Avg_weighted_avg}, variance: {f1_weighted_variance}')"
      ],
      "metadata": {
        "id": "kSCBBBuHJcjz",
        "outputId": "5a19f840-c82a-45c0-ea9e-a62fa663c1e7",
        "colab": {
          "base_uri": "https://localhost:8080/"
        }
      },
      "execution_count": 28,
      "outputs": [
        {
          "output_type": "stream",
          "name": "stdout",
          "text": [
            "accuracy_baseDT: [0.99 0.97 0.96 0.95 0.97]\n",
            "average accuracy: 0.968, variance: 0.00017600000000000032\n",
            "macro_avg_baseDT: [0.98892959 0.96725146 0.95760353 0.94405594 0.95675292]\n",
            "average macro-average F1: 0.9629186904219648, variance: 0.00022348210455837623\n",
            "weighted_avg_baseDT: [0.99005617 0.96982456 0.9599324  0.95039627 0.97031904]\n",
            "average weighted-average F1: 0.9681056872187022, variance: 0.0001740205979928119\n"
          ]
        }
      ]
    },
    {
      "cell_type": "code",
      "source": [
        "# print the performance result to outputfile\n",
        "print('\\n(E) The result after 5 times of train-test repetition:' ,file = outputFile)\n",
        "print(f'average accuracy: {Avg_accuracy}, variance: {accuracy_variance}', file = outputFile)\n",
        "print(f'average macro-average F1: {Avg_macro_avg}, variance: {f1_macro_variance}', file = outputFile)\n",
        "print(f'average weighted-average F1: {Avg_weighted_avg}, variance: {f1_weighted_variance}', file = outputFile)\n",
        "print('\\n', file = outputFile)\n",
        "outputFile.flush()"
      ],
      "metadata": {
        "id": "G9_phUjPZBFF"
      },
      "execution_count": 29,
      "outputs": []
    },
    {
      "cell_type": "markdown",
      "source": [
        "##### Classifier 2 - Top-DT"
      ],
      "metadata": {
        "id": "8RIB1m4M56j3"
      }
    },
    {
      "cell_type": "code",
      "source": [
        "# Top Decision Tree - decision tree using gridsearch(hyperparameter search)\n",
        "from sklearn.model_selection import GridSearchCV\n",
        "from sklearn.tree import DecisionTreeClassifier\n",
        "\n",
        "parameters = {\n",
        "    'criterion': ['gini', 'entropy'],\n",
        "    'max_depth': [None, 3, 5],\n",
        "    'min_samples_split': [2, 5, 10]\n",
        "}\n",
        "\n",
        "classifier_2 = GridSearchCV(DecisionTreeClassifier(), parameters)\n",
        "classifier_2.fit(X_train, y_train)\n",
        "\n",
        "print(f'best parameters: {classifier_2.best_params_}')"
      ],
      "metadata": {
        "id": "JRPd85lw5jg2",
        "colab": {
          "base_uri": "https://localhost:8080/"
        },
        "outputId": "7130df7b-cc77-48c6-cee1-e4bc00b25d79"
      },
      "execution_count": 30,
      "outputs": [
        {
          "output_type": "stream",
          "name": "stdout",
          "text": [
            "best parameters: {'criterion': 'gini', 'max_depth': 5, 'min_samples_split': 5}\n"
          ]
        }
      ]
    },
    {
      "cell_type": "code",
      "source": [
        "penguins_class = data_penguins.columns[0]\n",
        "penguins_features = list(data_penguins.columns[1:])"
      ],
      "metadata": {
        "id": "YFTodB7a_Qxl"
      },
      "execution_count": 31,
      "outputs": []
    },
    {
      "cell_type": "code",
      "source": [
        "from sklearn.tree import export_graphviz\n",
        "from IPython.display import display\n",
        "\n",
        "dot_data = export_graphviz(classifier_2.best_estimator_,\n",
        "                          feature_names=penguins_features,\n",
        "                          class_names=penguins_class,\n",
        "                          filled=True, rounded=True,\n",
        "                          special_characters=True)\n",
        "\n",
        "graph = graphviz.Source(dot_data)\n",
        "display(graph)"
      ],
      "metadata": {
        "id": "Yq9k0XZ6-odi",
        "outputId": "a3689d4f-d2aa-4d40-c40a-83fc04b38c71",
        "colab": {
          "base_uri": "https://localhost:8080/",
          "height": 936
        }
      },
      "execution_count": 32,
      "outputs": [
        {
          "output_type": "display_data",
          "data": {
            "image/svg+xml": "<?xml version=\"1.0\" encoding=\"UTF-8\" standalone=\"no\"?>\n<!DOCTYPE svg PUBLIC \"-//W3C//DTD SVG 1.1//EN\"\n \"http://www.w3.org/Graphics/SVG/1.1/DTD/svg11.dtd\">\n<!-- Generated by graphviz version 2.43.0 (0)\n -->\n<!-- Title: Tree Pages: 1 -->\n<svg width=\"1180pt\" height=\"671pt\"\n viewBox=\"0.00 0.00 1180.00 671.00\" xmlns=\"http://www.w3.org/2000/svg\" xmlns:xlink=\"http://www.w3.org/1999/xlink\">\n<g id=\"graph0\" class=\"graph\" transform=\"scale(1 1) rotate(0) translate(4 667)\">\n<title>Tree</title>\n<polygon fill=\"white\" stroke=\"transparent\" points=\"-4,4 -4,-667 1176,-667 1176,4 -4,4\"/>\n<!-- 0 -->\n<g id=\"node1\" class=\"node\">\n<title>0</title>\n<path fill=\"#fcefe5\" stroke=\"black\" d=\"M819,-663C819,-663 665,-663 665,-663 659,-663 653,-657 653,-651 653,-651 653,-592 653,-592 653,-586 659,-580 665,-580 665,-580 819,-580 819,-580 825,-580 831,-586 831,-592 831,-592 831,-651 831,-651 831,-657 825,-663 819,-663\"/>\n<text text-anchor=\"start\" x=\"661\" y=\"-647.8\" font-family=\"Helvetica,sans-Serif\" font-size=\"14.00\">flipper_length_mm ≤ 206.5</text>\n<text text-anchor=\"start\" x=\"706.5\" y=\"-632.8\" font-family=\"Helvetica,sans-Serif\" font-size=\"14.00\">gini = 0.646</text>\n<text text-anchor=\"start\" x=\"697\" y=\"-617.8\" font-family=\"Helvetica,sans-Serif\" font-size=\"14.00\">samples = 233</text>\n<text text-anchor=\"start\" x=\"680\" y=\"-602.8\" font-family=\"Helvetica,sans-Serif\" font-size=\"14.00\">value = [100, 53, 80]</text>\n<text text-anchor=\"start\" x=\"715\" y=\"-587.8\" font-family=\"Helvetica,sans-Serif\" font-size=\"14.00\">class = s</text>\n</g>\n<!-- 1 -->\n<g id=\"node2\" class=\"node\">\n<title>1</title>\n<path fill=\"#f2c09c\" stroke=\"black\" d=\"M721.5,-544C721.5,-544 560.5,-544 560.5,-544 554.5,-544 548.5,-538 548.5,-532 548.5,-532 548.5,-473 548.5,-473 548.5,-467 554.5,-461 560.5,-461 560.5,-461 721.5,-461 721.5,-461 727.5,-461 733.5,-467 733.5,-473 733.5,-473 733.5,-532 733.5,-532 733.5,-538 727.5,-544 721.5,-544\"/>\n<text text-anchor=\"start\" x=\"556.5\" y=\"-528.8\" font-family=\"Helvetica,sans-Serif\" font-size=\"14.00\">culmen_length_mm ≤ 43.35</text>\n<text text-anchor=\"start\" x=\"609\" y=\"-513.8\" font-family=\"Helvetica,sans-Serif\" font-size=\"14.00\">gini = 0.45</text>\n<text text-anchor=\"start\" x=\"596\" y=\"-498.8\" font-family=\"Helvetica,sans-Serif\" font-size=\"14.00\">samples = 149</text>\n<text text-anchor=\"start\" x=\"586.5\" y=\"-483.8\" font-family=\"Helvetica,sans-Serif\" font-size=\"14.00\">value = [99, 49, 1]</text>\n<text text-anchor=\"start\" x=\"614\" y=\"-468.8\" font-family=\"Helvetica,sans-Serif\" font-size=\"14.00\">class = s</text>\n</g>\n<!-- 0&#45;&gt;1 -->\n<g id=\"edge1\" class=\"edge\">\n<title>0&#45;&gt;1</title>\n<path fill=\"none\" stroke=\"black\" d=\"M706.96,-579.91C699.12,-570.83 690.74,-561.12 682.67,-551.77\"/>\n<polygon fill=\"black\" stroke=\"black\" points=\"685.16,-549.3 675.98,-544.02 679.86,-553.88 685.16,-549.3\"/>\n<text text-anchor=\"middle\" x=\"674.15\" y=\"-565.25\" font-family=\"Helvetica,sans-Serif\" font-size=\"14.00\">True</text>\n</g>\n<!-- 16 -->\n<g id=\"node17\" class=\"node\">\n<title>16</title>\n<path fill=\"#8945e7\" stroke=\"black\" d=\"M922,-544C922,-544 764,-544 764,-544 758,-544 752,-538 752,-532 752,-532 752,-473 752,-473 752,-467 758,-461 764,-461 764,-461 922,-461 922,-461 928,-461 934,-467 934,-473 934,-473 934,-532 934,-532 934,-538 928,-544 922,-544\"/>\n<text text-anchor=\"start\" x=\"760\" y=\"-528.8\" font-family=\"Helvetica,sans-Serif\" font-size=\"14.00\">culmen_depth_mm ≤ 17.65</text>\n<text text-anchor=\"start\" x=\"807.5\" y=\"-513.8\" font-family=\"Helvetica,sans-Serif\" font-size=\"14.00\">gini = 0.113</text>\n<text text-anchor=\"start\" x=\"802\" y=\"-498.8\" font-family=\"Helvetica,sans-Serif\" font-size=\"14.00\">samples = 84</text>\n<text text-anchor=\"start\" x=\"792.5\" y=\"-483.8\" font-family=\"Helvetica,sans-Serif\" font-size=\"14.00\">value = [1, 4, 79]</text>\n<text text-anchor=\"start\" x=\"815.5\" y=\"-468.8\" font-family=\"Helvetica,sans-Serif\" font-size=\"14.00\">class = e</text>\n</g>\n<!-- 0&#45;&gt;16 -->\n<g id=\"edge16\" class=\"edge\">\n<title>0&#45;&gt;16</title>\n<path fill=\"none\" stroke=\"black\" d=\"M777.04,-579.91C784.88,-570.83 793.26,-561.12 801.33,-551.77\"/>\n<polygon fill=\"black\" stroke=\"black\" points=\"804.14,-553.88 808.02,-544.02 798.84,-549.3 804.14,-553.88\"/>\n<text text-anchor=\"middle\" x=\"809.85\" y=\"-565.25\" font-family=\"Helvetica,sans-Serif\" font-size=\"14.00\">False</text>\n</g>\n<!-- 2 -->\n<g id=\"node3\" class=\"node\">\n<title>2</title>\n<path fill=\"#e68843\" stroke=\"black\" d=\"M538,-425C538,-425 384,-425 384,-425 378,-425 372,-419 372,-413 372,-413 372,-354 372,-354 372,-348 378,-342 384,-342 384,-342 538,-342 538,-342 544,-342 550,-348 550,-354 550,-354 550,-413 550,-413 550,-419 544,-425 538,-425\"/>\n<text text-anchor=\"start\" x=\"380\" y=\"-409.8\" font-family=\"Helvetica,sans-Serif\" font-size=\"14.00\">culmen_length_mm ≤ 42.3</text>\n<text text-anchor=\"start\" x=\"425.5\" y=\"-394.8\" font-family=\"Helvetica,sans-Serif\" font-size=\"14.00\">gini = 0.094</text>\n<text text-anchor=\"start\" x=\"416\" y=\"-379.8\" font-family=\"Helvetica,sans-Serif\" font-size=\"14.00\">samples = 101</text>\n<text text-anchor=\"start\" x=\"410.5\" y=\"-364.8\" font-family=\"Helvetica,sans-Serif\" font-size=\"14.00\">value = [96, 5, 0]</text>\n<text text-anchor=\"start\" x=\"434\" y=\"-349.8\" font-family=\"Helvetica,sans-Serif\" font-size=\"14.00\">class = s</text>\n</g>\n<!-- 1&#45;&gt;2 -->\n<g id=\"edge2\" class=\"edge\">\n<title>1&#45;&gt;2</title>\n<path fill=\"none\" stroke=\"black\" d=\"M578.55,-460.91C563.47,-451.11 547.25,-440.56 531.82,-430.53\"/>\n<polygon fill=\"black\" stroke=\"black\" points=\"533.63,-427.54 523.34,-425.02 529.82,-433.41 533.63,-427.54\"/>\n</g>\n<!-- 11 -->\n<g id=\"node12\" class=\"node\">\n<title>11</title>\n<path fill=\"#4be78c\" stroke=\"black\" d=\"M714,-425C714,-425 580,-425 580,-425 574,-425 568,-419 568,-413 568,-413 568,-354 568,-354 568,-348 574,-342 580,-342 580,-342 714,-342 714,-342 720,-342 726,-348 726,-354 726,-354 726,-413 726,-413 726,-419 720,-425 714,-425\"/>\n<text text-anchor=\"start\" x=\"576\" y=\"-409.8\" font-family=\"Helvetica,sans-Serif\" font-size=\"14.00\">body_mass_g ≤ 4175.0</text>\n<text text-anchor=\"start\" x=\"611.5\" y=\"-394.8\" font-family=\"Helvetica,sans-Serif\" font-size=\"14.00\">gini = 0.155</text>\n<text text-anchor=\"start\" x=\"606\" y=\"-379.8\" font-family=\"Helvetica,sans-Serif\" font-size=\"14.00\">samples = 48</text>\n<text text-anchor=\"start\" x=\"596.5\" y=\"-364.8\" font-family=\"Helvetica,sans-Serif\" font-size=\"14.00\">value = [3, 44, 1]</text>\n<text text-anchor=\"start\" x=\"619.5\" y=\"-349.8\" font-family=\"Helvetica,sans-Serif\" font-size=\"14.00\">class = p</text>\n</g>\n<!-- 1&#45;&gt;11 -->\n<g id=\"edge11\" class=\"edge\">\n<title>1&#45;&gt;11</title>\n<path fill=\"none\" stroke=\"black\" d=\"M643.08,-460.91C643.51,-452.56 643.97,-443.67 644.41,-435.02\"/>\n<polygon fill=\"black\" stroke=\"black\" points=\"647.91,-435.19 644.92,-425.02 640.91,-434.83 647.91,-435.19\"/>\n</g>\n<!-- 3 -->\n<g id=\"node4\" class=\"node\">\n<title>3</title>\n<path fill=\"#e5823b\" stroke=\"black\" d=\"M347,-306C347,-306 189,-306 189,-306 183,-306 177,-300 177,-294 177,-294 177,-235 177,-235 177,-229 183,-223 189,-223 189,-223 347,-223 347,-223 353,-223 359,-229 359,-235 359,-235 359,-294 359,-294 359,-300 353,-306 347,-306\"/>\n<text text-anchor=\"start\" x=\"185\" y=\"-290.8\" font-family=\"Helvetica,sans-Serif\" font-size=\"14.00\">culmen_depth_mm ≤ 16.65</text>\n<text text-anchor=\"start\" x=\"232.5\" y=\"-275.8\" font-family=\"Helvetica,sans-Serif\" font-size=\"14.00\">gini = 0.022</text>\n<text text-anchor=\"start\" x=\"227\" y=\"-260.8\" font-family=\"Helvetica,sans-Serif\" font-size=\"14.00\">samples = 92</text>\n<text text-anchor=\"start\" x=\"217.5\" y=\"-245.8\" font-family=\"Helvetica,sans-Serif\" font-size=\"14.00\">value = [91, 1, 0]</text>\n<text text-anchor=\"start\" x=\"241\" y=\"-230.8\" font-family=\"Helvetica,sans-Serif\" font-size=\"14.00\">class = s</text>\n</g>\n<!-- 2&#45;&gt;3 -->\n<g id=\"edge3\" class=\"edge\">\n<title>2&#45;&gt;3</title>\n<path fill=\"none\" stroke=\"black\" d=\"M394.04,-341.91C377.72,-332.02 360.16,-321.37 343.47,-311.25\"/>\n<polygon fill=\"black\" stroke=\"black\" points=\"345.21,-308.21 334.84,-306.02 341.58,-314.2 345.21,-308.21\"/>\n</g>\n<!-- 8 -->\n<g id=\"node9\" class=\"node\">\n<title>8</title>\n<path fill=\"#fae6d7\" stroke=\"black\" d=\"M543,-306C543,-306 389,-306 389,-306 383,-306 377,-300 377,-294 377,-294 377,-235 377,-235 377,-229 383,-223 389,-223 389,-223 543,-223 543,-223 549,-223 555,-229 555,-235 555,-235 555,-294 555,-294 555,-300 549,-306 543,-306\"/>\n<text text-anchor=\"start\" x=\"385\" y=\"-290.8\" font-family=\"Helvetica,sans-Serif\" font-size=\"14.00\">flipper_length_mm ≤ 189.5</text>\n<text text-anchor=\"start\" x=\"430.5\" y=\"-275.8\" font-family=\"Helvetica,sans-Serif\" font-size=\"14.00\">gini = 0.494</text>\n<text text-anchor=\"start\" x=\"428.5\" y=\"-260.8\" font-family=\"Helvetica,sans-Serif\" font-size=\"14.00\">samples = 9</text>\n<text text-anchor=\"start\" x=\"419\" y=\"-245.8\" font-family=\"Helvetica,sans-Serif\" font-size=\"14.00\">value = [5, 4, 0]</text>\n<text text-anchor=\"start\" x=\"439\" y=\"-230.8\" font-family=\"Helvetica,sans-Serif\" font-size=\"14.00\">class = s</text>\n</g>\n<!-- 2&#45;&gt;8 -->\n<g id=\"edge8\" class=\"edge\">\n<title>2&#45;&gt;8</title>\n<path fill=\"none\" stroke=\"black\" d=\"M462.73,-341.91C463.09,-333.56 463.47,-324.67 463.84,-316.02\"/>\n<polygon fill=\"black\" stroke=\"black\" points=\"467.34,-316.16 464.27,-306.02 460.34,-315.86 467.34,-316.16\"/>\n</g>\n<!-- 4 -->\n<g id=\"node5\" class=\"node\">\n<title>4</title>\n<path fill=\"#e89152\" stroke=\"black\" d=\"M196,-187C196,-187 42,-187 42,-187 36,-187 30,-181 30,-175 30,-175 30,-116 30,-116 30,-110 36,-104 42,-104 42,-104 196,-104 196,-104 202,-104 208,-110 208,-116 208,-116 208,-175 208,-175 208,-181 202,-187 196,-187\"/>\n<text text-anchor=\"start\" x=\"38\" y=\"-171.8\" font-family=\"Helvetica,sans-Serif\" font-size=\"14.00\">culmen_length_mm ≤ 39.5</text>\n<text text-anchor=\"start\" x=\"83.5\" y=\"-156.8\" font-family=\"Helvetica,sans-Serif\" font-size=\"14.00\">gini = 0.198</text>\n<text text-anchor=\"start\" x=\"81.5\" y=\"-141.8\" font-family=\"Helvetica,sans-Serif\" font-size=\"14.00\">samples = 9</text>\n<text text-anchor=\"start\" x=\"72\" y=\"-126.8\" font-family=\"Helvetica,sans-Serif\" font-size=\"14.00\">value = [8, 1, 0]</text>\n<text text-anchor=\"start\" x=\"92\" y=\"-111.8\" font-family=\"Helvetica,sans-Serif\" font-size=\"14.00\">class = s</text>\n</g>\n<!-- 3&#45;&gt;4 -->\n<g id=\"edge4\" class=\"edge\">\n<title>3&#45;&gt;4</title>\n<path fill=\"none\" stroke=\"black\" d=\"M216.31,-222.91C204.17,-213.38 191.14,-203.15 178.69,-193.37\"/>\n<polygon fill=\"black\" stroke=\"black\" points=\"180.63,-190.44 170.6,-187.02 176.31,-195.95 180.63,-190.44\"/>\n</g>\n<!-- 7 -->\n<g id=\"node8\" class=\"node\">\n<title>7</title>\n<path fill=\"#e58139\" stroke=\"black\" d=\"M331.5,-179.5C331.5,-179.5 238.5,-179.5 238.5,-179.5 232.5,-179.5 226.5,-173.5 226.5,-167.5 226.5,-167.5 226.5,-123.5 226.5,-123.5 226.5,-117.5 232.5,-111.5 238.5,-111.5 238.5,-111.5 331.5,-111.5 331.5,-111.5 337.5,-111.5 343.5,-117.5 343.5,-123.5 343.5,-123.5 343.5,-167.5 343.5,-167.5 343.5,-173.5 337.5,-179.5 331.5,-179.5\"/>\n<text text-anchor=\"start\" x=\"257\" y=\"-164.3\" font-family=\"Helvetica,sans-Serif\" font-size=\"14.00\">gini = 0.0</text>\n<text text-anchor=\"start\" x=\"244\" y=\"-149.3\" font-family=\"Helvetica,sans-Serif\" font-size=\"14.00\">samples = 83</text>\n<text text-anchor=\"start\" x=\"234.5\" y=\"-134.3\" font-family=\"Helvetica,sans-Serif\" font-size=\"14.00\">value = [83, 0, 0]</text>\n<text text-anchor=\"start\" x=\"258\" y=\"-119.3\" font-family=\"Helvetica,sans-Serif\" font-size=\"14.00\">class = s</text>\n</g>\n<!-- 3&#45;&gt;7 -->\n<g id=\"edge7\" class=\"edge\">\n<title>3&#45;&gt;7</title>\n<path fill=\"none\" stroke=\"black\" d=\"M273.9,-222.91C275.45,-212.2 277.14,-200.62 278.71,-189.78\"/>\n<polygon fill=\"black\" stroke=\"black\" points=\"282.21,-190.07 280.18,-179.67 275.28,-189.06 282.21,-190.07\"/>\n</g>\n<!-- 5 -->\n<g id=\"node6\" class=\"node\">\n<title>5</title>\n<path fill=\"#e58139\" stroke=\"black\" d=\"M98,-68C98,-68 12,-68 12,-68 6,-68 0,-62 0,-56 0,-56 0,-12 0,-12 0,-6 6,0 12,0 12,0 98,0 98,0 104,0 110,-6 110,-12 110,-12 110,-56 110,-56 110,-62 104,-68 98,-68\"/>\n<text text-anchor=\"start\" x=\"27\" y=\"-52.8\" font-family=\"Helvetica,sans-Serif\" font-size=\"14.00\">gini = 0.0</text>\n<text text-anchor=\"start\" x=\"17.5\" y=\"-37.8\" font-family=\"Helvetica,sans-Serif\" font-size=\"14.00\">samples = 8</text>\n<text text-anchor=\"start\" x=\"8\" y=\"-22.8\" font-family=\"Helvetica,sans-Serif\" font-size=\"14.00\">value = [8, 0, 0]</text>\n<text text-anchor=\"start\" x=\"28\" y=\"-7.8\" font-family=\"Helvetica,sans-Serif\" font-size=\"14.00\">class = s</text>\n</g>\n<!-- 4&#45;&gt;5 -->\n<g id=\"edge5\" class=\"edge\">\n<title>4&#45;&gt;5</title>\n<path fill=\"none\" stroke=\"black\" d=\"M95.17,-103.73C90.1,-95.06 84.75,-85.9 79.65,-77.18\"/>\n<polygon fill=\"black\" stroke=\"black\" points=\"82.53,-75.17 74.46,-68.3 76.49,-78.7 82.53,-75.17\"/>\n</g>\n<!-- 6 -->\n<g id=\"node7\" class=\"node\">\n<title>6</title>\n<path fill=\"#39e581\" stroke=\"black\" d=\"M226,-68C226,-68 140,-68 140,-68 134,-68 128,-62 128,-56 128,-56 128,-12 128,-12 128,-6 134,0 140,0 140,0 226,0 226,0 232,0 238,-6 238,-12 238,-12 238,-56 238,-56 238,-62 232,-68 226,-68\"/>\n<text text-anchor=\"start\" x=\"155\" y=\"-52.8\" font-family=\"Helvetica,sans-Serif\" font-size=\"14.00\">gini = 0.0</text>\n<text text-anchor=\"start\" x=\"145.5\" y=\"-37.8\" font-family=\"Helvetica,sans-Serif\" font-size=\"14.00\">samples = 1</text>\n<text text-anchor=\"start\" x=\"136\" y=\"-22.8\" font-family=\"Helvetica,sans-Serif\" font-size=\"14.00\">value = [0, 1, 0]</text>\n<text text-anchor=\"start\" x=\"155.5\" y=\"-7.8\" font-family=\"Helvetica,sans-Serif\" font-size=\"14.00\">class = p</text>\n</g>\n<!-- 4&#45;&gt;6 -->\n<g id=\"edge6\" class=\"edge\">\n<title>4&#45;&gt;6</title>\n<path fill=\"none\" stroke=\"black\" d=\"M142.83,-103.73C147.9,-95.06 153.25,-85.9 158.35,-77.18\"/>\n<polygon fill=\"black\" stroke=\"black\" points=\"161.51,-78.7 163.54,-68.3 155.47,-75.17 161.51,-78.7\"/>\n</g>\n<!-- 9 -->\n<g id=\"node10\" class=\"node\">\n<title>9</title>\n<path fill=\"#39e581\" stroke=\"black\" d=\"M493,-179.5C493,-179.5 407,-179.5 407,-179.5 401,-179.5 395,-173.5 395,-167.5 395,-167.5 395,-123.5 395,-123.5 395,-117.5 401,-111.5 407,-111.5 407,-111.5 493,-111.5 493,-111.5 499,-111.5 505,-117.5 505,-123.5 505,-123.5 505,-167.5 505,-167.5 505,-173.5 499,-179.5 493,-179.5\"/>\n<text text-anchor=\"start\" x=\"422\" y=\"-164.3\" font-family=\"Helvetica,sans-Serif\" font-size=\"14.00\">gini = 0.0</text>\n<text text-anchor=\"start\" x=\"412.5\" y=\"-149.3\" font-family=\"Helvetica,sans-Serif\" font-size=\"14.00\">samples = 4</text>\n<text text-anchor=\"start\" x=\"403\" y=\"-134.3\" font-family=\"Helvetica,sans-Serif\" font-size=\"14.00\">value = [0, 4, 0]</text>\n<text text-anchor=\"start\" x=\"422.5\" y=\"-119.3\" font-family=\"Helvetica,sans-Serif\" font-size=\"14.00\">class = p</text>\n</g>\n<!-- 8&#45;&gt;9 -->\n<g id=\"edge9\" class=\"edge\">\n<title>8&#45;&gt;9</title>\n<path fill=\"none\" stroke=\"black\" d=\"M460.45,-222.91C458.99,-212.2 457.4,-200.62 455.92,-189.78\"/>\n<polygon fill=\"black\" stroke=\"black\" points=\"459.36,-189.1 454.54,-179.67 452.42,-190.05 459.36,-189.1\"/>\n</g>\n<!-- 10 -->\n<g id=\"node11\" class=\"node\">\n<title>10</title>\n<path fill=\"#e58139\" stroke=\"black\" d=\"M621,-179.5C621,-179.5 535,-179.5 535,-179.5 529,-179.5 523,-173.5 523,-167.5 523,-167.5 523,-123.5 523,-123.5 523,-117.5 529,-111.5 535,-111.5 535,-111.5 621,-111.5 621,-111.5 627,-111.5 633,-117.5 633,-123.5 633,-123.5 633,-167.5 633,-167.5 633,-173.5 627,-179.5 621,-179.5\"/>\n<text text-anchor=\"start\" x=\"550\" y=\"-164.3\" font-family=\"Helvetica,sans-Serif\" font-size=\"14.00\">gini = 0.0</text>\n<text text-anchor=\"start\" x=\"540.5\" y=\"-149.3\" font-family=\"Helvetica,sans-Serif\" font-size=\"14.00\">samples = 5</text>\n<text text-anchor=\"start\" x=\"531\" y=\"-134.3\" font-family=\"Helvetica,sans-Serif\" font-size=\"14.00\">value = [5, 0, 0]</text>\n<text text-anchor=\"start\" x=\"551\" y=\"-119.3\" font-family=\"Helvetica,sans-Serif\" font-size=\"14.00\">class = s</text>\n</g>\n<!-- 8&#45;&gt;10 -->\n<g id=\"edge10\" class=\"edge\">\n<title>8&#45;&gt;10</title>\n<path fill=\"none\" stroke=\"black\" d=\"M504.86,-222.91C515.95,-211.32 528.03,-198.7 539.12,-187.11\"/>\n<polygon fill=\"black\" stroke=\"black\" points=\"541.86,-189.31 546.25,-179.67 536.81,-184.47 541.86,-189.31\"/>\n</g>\n<!-- 12 -->\n<g id=\"node13\" class=\"node\">\n<title>12</title>\n<path fill=\"#39e581\" stroke=\"black\" d=\"M688.5,-298.5C688.5,-298.5 595.5,-298.5 595.5,-298.5 589.5,-298.5 583.5,-292.5 583.5,-286.5 583.5,-286.5 583.5,-242.5 583.5,-242.5 583.5,-236.5 589.5,-230.5 595.5,-230.5 595.5,-230.5 688.5,-230.5 688.5,-230.5 694.5,-230.5 700.5,-236.5 700.5,-242.5 700.5,-242.5 700.5,-286.5 700.5,-286.5 700.5,-292.5 694.5,-298.5 688.5,-298.5\"/>\n<text text-anchor=\"start\" x=\"614\" y=\"-283.3\" font-family=\"Helvetica,sans-Serif\" font-size=\"14.00\">gini = 0.0</text>\n<text text-anchor=\"start\" x=\"601\" y=\"-268.3\" font-family=\"Helvetica,sans-Serif\" font-size=\"14.00\">samples = 41</text>\n<text text-anchor=\"start\" x=\"591.5\" y=\"-253.3\" font-family=\"Helvetica,sans-Serif\" font-size=\"14.00\">value = [0, 41, 0]</text>\n<text text-anchor=\"start\" x=\"614.5\" y=\"-238.3\" font-family=\"Helvetica,sans-Serif\" font-size=\"14.00\">class = p</text>\n</g>\n<!-- 11&#45;&gt;12 -->\n<g id=\"edge12\" class=\"edge\">\n<title>11&#45;&gt;12</title>\n<path fill=\"none\" stroke=\"black\" d=\"M645.27,-341.91C644.81,-331.2 644.31,-319.62 643.85,-308.78\"/>\n<polygon fill=\"black\" stroke=\"black\" points=\"647.34,-308.51 643.42,-298.67 640.35,-308.81 647.34,-308.51\"/>\n</g>\n<!-- 13 -->\n<g id=\"node14\" class=\"node\">\n<title>13</title>\n<path fill=\"#ffffff\" stroke=\"black\" d=\"M885,-306C885,-306 731,-306 731,-306 725,-306 719,-300 719,-294 719,-294 719,-235 719,-235 719,-229 725,-223 731,-223 731,-223 885,-223 885,-223 891,-223 897,-229 897,-235 897,-235 897,-294 897,-294 897,-300 891,-306 885,-306\"/>\n<text text-anchor=\"start\" x=\"727\" y=\"-290.8\" font-family=\"Helvetica,sans-Serif\" font-size=\"14.00\">culmen_length_mm ≤ 47.2</text>\n<text text-anchor=\"start\" x=\"772.5\" y=\"-275.8\" font-family=\"Helvetica,sans-Serif\" font-size=\"14.00\">gini = 0.612</text>\n<text text-anchor=\"start\" x=\"770.5\" y=\"-260.8\" font-family=\"Helvetica,sans-Serif\" font-size=\"14.00\">samples = 7</text>\n<text text-anchor=\"start\" x=\"761\" y=\"-245.8\" font-family=\"Helvetica,sans-Serif\" font-size=\"14.00\">value = [3, 3, 1]</text>\n<text text-anchor=\"start\" x=\"781\" y=\"-230.8\" font-family=\"Helvetica,sans-Serif\" font-size=\"14.00\">class = s</text>\n</g>\n<!-- 11&#45;&gt;13 -->\n<g id=\"edge13\" class=\"edge\">\n<title>11&#45;&gt;13</title>\n<path fill=\"none\" stroke=\"black\" d=\"M702.86,-341.91C716.1,-332.29 730.32,-321.95 743.89,-312.09\"/>\n<polygon fill=\"black\" stroke=\"black\" points=\"746.21,-314.73 752.24,-306.02 742.09,-309.07 746.21,-314.73\"/>\n</g>\n<!-- 14 -->\n<g id=\"node15\" class=\"node\">\n<title>14</title>\n<path fill=\"#e58139\" stroke=\"black\" d=\"M800,-179.5C800,-179.5 714,-179.5 714,-179.5 708,-179.5 702,-173.5 702,-167.5 702,-167.5 702,-123.5 702,-123.5 702,-117.5 708,-111.5 714,-111.5 714,-111.5 800,-111.5 800,-111.5 806,-111.5 812,-117.5 812,-123.5 812,-123.5 812,-167.5 812,-167.5 812,-173.5 806,-179.5 800,-179.5\"/>\n<text text-anchor=\"start\" x=\"729\" y=\"-164.3\" font-family=\"Helvetica,sans-Serif\" font-size=\"14.00\">gini = 0.0</text>\n<text text-anchor=\"start\" x=\"719.5\" y=\"-149.3\" font-family=\"Helvetica,sans-Serif\" font-size=\"14.00\">samples = 3</text>\n<text text-anchor=\"start\" x=\"710\" y=\"-134.3\" font-family=\"Helvetica,sans-Serif\" font-size=\"14.00\">value = [3, 0, 0]</text>\n<text text-anchor=\"start\" x=\"730\" y=\"-119.3\" font-family=\"Helvetica,sans-Serif\" font-size=\"14.00\">class = s</text>\n</g>\n<!-- 13&#45;&gt;14 -->\n<g id=\"edge14\" class=\"edge\">\n<title>13&#45;&gt;14</title>\n<path fill=\"none\" stroke=\"black\" d=\"M790.31,-222.91C785.54,-211.98 780.38,-200.14 775.57,-189.11\"/>\n<polygon fill=\"black\" stroke=\"black\" points=\"778.66,-187.44 771.46,-179.67 772.24,-190.23 778.66,-187.44\"/>\n</g>\n<!-- 15 -->\n<g id=\"node16\" class=\"node\">\n<title>15</title>\n<path fill=\"#7beeab\" stroke=\"black\" d=\"M928,-179.5C928,-179.5 842,-179.5 842,-179.5 836,-179.5 830,-173.5 830,-167.5 830,-167.5 830,-123.5 830,-123.5 830,-117.5 836,-111.5 842,-111.5 842,-111.5 928,-111.5 928,-111.5 934,-111.5 940,-117.5 940,-123.5 940,-123.5 940,-167.5 940,-167.5 940,-173.5 934,-179.5 928,-179.5\"/>\n<text text-anchor=\"start\" x=\"849.5\" y=\"-164.3\" font-family=\"Helvetica,sans-Serif\" font-size=\"14.00\">gini = 0.375</text>\n<text text-anchor=\"start\" x=\"847.5\" y=\"-149.3\" font-family=\"Helvetica,sans-Serif\" font-size=\"14.00\">samples = 4</text>\n<text text-anchor=\"start\" x=\"838\" y=\"-134.3\" font-family=\"Helvetica,sans-Serif\" font-size=\"14.00\">value = [0, 3, 1]</text>\n<text text-anchor=\"start\" x=\"857.5\" y=\"-119.3\" font-family=\"Helvetica,sans-Serif\" font-size=\"14.00\">class = p</text>\n</g>\n<!-- 13&#45;&gt;15 -->\n<g id=\"edge15\" class=\"edge\">\n<title>13&#45;&gt;15</title>\n<path fill=\"none\" stroke=\"black\" d=\"M834.71,-222.91C842.12,-211.65 850.17,-199.42 857.62,-188.11\"/>\n<polygon fill=\"black\" stroke=\"black\" points=\"860.6,-189.94 863.17,-179.67 854.75,-186.1 860.6,-189.94\"/>\n</g>\n<!-- 17 -->\n<g id=\"node18\" class=\"node\">\n<title>17</title>\n<path fill=\"#8139e5\" stroke=\"black\" d=\"M877.5,-417.5C877.5,-417.5 784.5,-417.5 784.5,-417.5 778.5,-417.5 772.5,-411.5 772.5,-405.5 772.5,-405.5 772.5,-361.5 772.5,-361.5 772.5,-355.5 778.5,-349.5 784.5,-349.5 784.5,-349.5 877.5,-349.5 877.5,-349.5 883.5,-349.5 889.5,-355.5 889.5,-361.5 889.5,-361.5 889.5,-405.5 889.5,-405.5 889.5,-411.5 883.5,-417.5 877.5,-417.5\"/>\n<text text-anchor=\"start\" x=\"803\" y=\"-402.3\" font-family=\"Helvetica,sans-Serif\" font-size=\"14.00\">gini = 0.0</text>\n<text text-anchor=\"start\" x=\"790\" y=\"-387.3\" font-family=\"Helvetica,sans-Serif\" font-size=\"14.00\">samples = 79</text>\n<text text-anchor=\"start\" x=\"780.5\" y=\"-372.3\" font-family=\"Helvetica,sans-Serif\" font-size=\"14.00\">value = [0, 0, 79]</text>\n<text text-anchor=\"start\" x=\"803.5\" y=\"-357.3\" font-family=\"Helvetica,sans-Serif\" font-size=\"14.00\">class = e</text>\n</g>\n<!-- 16&#45;&gt;17 -->\n<g id=\"edge17\" class=\"edge\">\n<title>16&#45;&gt;17</title>\n<path fill=\"none\" stroke=\"black\" d=\"M838.84,-460.91C837.74,-450.2 836.55,-438.62 835.44,-427.78\"/>\n<polygon fill=\"black\" stroke=\"black\" points=\"838.9,-427.26 834.4,-417.67 831.94,-427.97 838.9,-427.26\"/>\n</g>\n<!-- 18 -->\n<g id=\"node19\" class=\"node\">\n<title>18</title>\n<path fill=\"#6aeca0\" stroke=\"black\" d=\"M1070.5,-425C1070.5,-425 919.5,-425 919.5,-425 913.5,-425 907.5,-419 907.5,-413 907.5,-413 907.5,-354 907.5,-354 907.5,-348 913.5,-342 919.5,-342 919.5,-342 1070.5,-342 1070.5,-342 1076.5,-342 1082.5,-348 1082.5,-354 1082.5,-354 1082.5,-413 1082.5,-413 1082.5,-419 1076.5,-425 1070.5,-425\"/>\n<text text-anchor=\"start\" x=\"915.5\" y=\"-409.8\" font-family=\"Helvetica,sans-Serif\" font-size=\"14.00\">culmen_depth_mm ≤ 18.5</text>\n<text text-anchor=\"start\" x=\"963\" y=\"-394.8\" font-family=\"Helvetica,sans-Serif\" font-size=\"14.00\">gini = 0.32</text>\n<text text-anchor=\"start\" x=\"957.5\" y=\"-379.8\" font-family=\"Helvetica,sans-Serif\" font-size=\"14.00\">samples = 5</text>\n<text text-anchor=\"start\" x=\"948\" y=\"-364.8\" font-family=\"Helvetica,sans-Serif\" font-size=\"14.00\">value = [1, 4, 0]</text>\n<text text-anchor=\"start\" x=\"967.5\" y=\"-349.8\" font-family=\"Helvetica,sans-Serif\" font-size=\"14.00\">class = p</text>\n</g>\n<!-- 16&#45;&gt;18 -->\n<g id=\"edge18\" class=\"edge\">\n<title>16&#45;&gt;18</title>\n<path fill=\"none\" stroke=\"black\" d=\"M895.74,-460.91C908.12,-451.38 921.41,-441.15 934.11,-431.37\"/>\n<polygon fill=\"black\" stroke=\"black\" points=\"936.57,-433.89 942.36,-425.02 932.3,-428.35 936.57,-433.89\"/>\n</g>\n<!-- 19 -->\n<g id=\"node20\" class=\"node\">\n<title>19</title>\n<path fill=\"#e58139\" stroke=\"black\" d=\"M1032,-298.5C1032,-298.5 946,-298.5 946,-298.5 940,-298.5 934,-292.5 934,-286.5 934,-286.5 934,-242.5 934,-242.5 934,-236.5 940,-230.5 946,-230.5 946,-230.5 1032,-230.5 1032,-230.5 1038,-230.5 1044,-236.5 1044,-242.5 1044,-242.5 1044,-286.5 1044,-286.5 1044,-292.5 1038,-298.5 1032,-298.5\"/>\n<text text-anchor=\"start\" x=\"961\" y=\"-283.3\" font-family=\"Helvetica,sans-Serif\" font-size=\"14.00\">gini = 0.0</text>\n<text text-anchor=\"start\" x=\"951.5\" y=\"-268.3\" font-family=\"Helvetica,sans-Serif\" font-size=\"14.00\">samples = 1</text>\n<text text-anchor=\"start\" x=\"942\" y=\"-253.3\" font-family=\"Helvetica,sans-Serif\" font-size=\"14.00\">value = [1, 0, 0]</text>\n<text text-anchor=\"start\" x=\"962\" y=\"-238.3\" font-family=\"Helvetica,sans-Serif\" font-size=\"14.00\">class = s</text>\n</g>\n<!-- 18&#45;&gt;19 -->\n<g id=\"edge19\" class=\"edge\">\n<title>18&#45;&gt;19</title>\n<path fill=\"none\" stroke=\"black\" d=\"M992.92,-341.91C992.37,-331.2 991.78,-319.62 991.22,-308.78\"/>\n<polygon fill=\"black\" stroke=\"black\" points=\"994.71,-308.47 990.7,-298.67 987.72,-308.83 994.71,-308.47\"/>\n</g>\n<!-- 20 -->\n<g id=\"node21\" class=\"node\">\n<title>20</title>\n<path fill=\"#39e581\" stroke=\"black\" d=\"M1160,-298.5C1160,-298.5 1074,-298.5 1074,-298.5 1068,-298.5 1062,-292.5 1062,-286.5 1062,-286.5 1062,-242.5 1062,-242.5 1062,-236.5 1068,-230.5 1074,-230.5 1074,-230.5 1160,-230.5 1160,-230.5 1166,-230.5 1172,-236.5 1172,-242.5 1172,-242.5 1172,-286.5 1172,-286.5 1172,-292.5 1166,-298.5 1160,-298.5\"/>\n<text text-anchor=\"start\" x=\"1089\" y=\"-283.3\" font-family=\"Helvetica,sans-Serif\" font-size=\"14.00\">gini = 0.0</text>\n<text text-anchor=\"start\" x=\"1079.5\" y=\"-268.3\" font-family=\"Helvetica,sans-Serif\" font-size=\"14.00\">samples = 4</text>\n<text text-anchor=\"start\" x=\"1070\" y=\"-253.3\" font-family=\"Helvetica,sans-Serif\" font-size=\"14.00\">value = [0, 4, 0]</text>\n<text text-anchor=\"start\" x=\"1089.5\" y=\"-238.3\" font-family=\"Helvetica,sans-Serif\" font-size=\"14.00\">class = p</text>\n</g>\n<!-- 18&#45;&gt;20 -->\n<g id=\"edge20\" class=\"edge\">\n<title>18&#45;&gt;20</title>\n<path fill=\"none\" stroke=\"black\" d=\"M1037.33,-341.91C1049.52,-330.21 1062.82,-317.46 1075,-305.78\"/>\n<polygon fill=\"black\" stroke=\"black\" points=\"1077.62,-308.11 1082.42,-298.67 1072.78,-303.06 1077.62,-308.11\"/>\n</g>\n</g>\n</svg>\n",
            "text/plain": [
              "<graphviz.sources.Source at 0x7838e729f6d0>"
            ]
          },
          "metadata": {}
        }
      ]
    },
    {
      "cell_type": "code",
      "source": [
        "# print to the output file\n",
        "print('**************************************************************', file = outputFile)\n",
        "print('(A) Classifier 2 - Top DT', file = outputFile)\n",
        "print(classifier_2, file = outputFile)\n",
        "print(f'best parameters: {classifier_2.best_params_}\\n', file = outputFile)\n",
        "print('\\n', file = outputFile)\n",
        "outputFile.flush()"
      ],
      "metadata": {
        "id": "OyY9Icjy8H7k"
      },
      "execution_count": 33,
      "outputs": []
    },
    {
      "cell_type": "code",
      "source": [
        "# print classification report\n",
        "y_pred = classifier_2.predict(X_test)\n",
        "confusion_mat = confusion_matrix(y_test, y_pred)\n",
        "\n",
        "print(classification_report(y_test, y_pred, target_names=['Adelie', 'Chinstrap', 'Gentoo']))\n",
        "print(\"confusion matrix\\n\",confusion_mat)\n",
        "\n",
        "# print the result to the output file\n",
        "print(classification_report(y_test, y_pred, target_names = ['Adelie', 'Chinstrap', 'Gentoo']), file = outputFile)\n",
        "confusion_matrix_result =np.array2string(confusion_mat)\n",
        "print(\"confusion matrix\", file = outputFile)\n",
        "print(confusion_matrix_result, file = outputFile)\n",
        "print('\\n', file = outputFile)\n",
        "outputFile.flush()"
      ],
      "metadata": {
        "id": "RyyDW6-78J9g",
        "outputId": "d844508e-2d01-45f6-d5ac-a17490d35190",
        "colab": {
          "base_uri": "https://localhost:8080/"
        }
      },
      "execution_count": 35,
      "outputs": [
        {
          "output_type": "stream",
          "name": "stdout",
          "text": [
            "              precision    recall  f1-score   support\n",
            "\n",
            "      Adelie       1.00      0.96      0.98        46\n",
            "   Chinstrap       0.88      1.00      0.94        15\n",
            "      Gentoo       1.00      1.00      1.00        39\n",
            "\n",
            "    accuracy                           0.98       100\n",
            "   macro avg       0.96      0.99      0.97       100\n",
            "weighted avg       0.98      0.98      0.98       100\n",
            "\n",
            "confusion matrix\n",
            " [[44  2  0]\n",
            " [ 0 15  0]\n",
            " [ 0  0 39]]\n"
          ]
        }
      ]
    },
    {
      "cell_type": "code",
      "source": [
        "# repeat training & grid search & prediction 5 times for classifier 2\n",
        "from sklearn.metrics import accuracy_score, f1_score\n",
        "\n",
        "accuracy_TopDT = np.zeros(5)\n",
        "macro_avg_TopDT = np.zeros(5)\n",
        "weighted_avg_TopDT = np.zeros(5)\n",
        "\n",
        "for i in range(5):\n",
        "  X_train, X_test, y_train, y_test = train_test_split(X, y, test_size = 0.3)\n",
        "\n",
        "  classifier_2 = GridSearchCV(DecisionTreeClassifier(), parameters)\n",
        "  classifier_2.fit(X_train, y_train)\n",
        "\n",
        "  print('\\n(E) The result after 5 times of train-test repetition:' ,file = outputFile)\n",
        "  print(f'best parameters for iteration{i+1}: {classifier_2.best_params_}',file = outputFile)\n",
        "  print(f'best parameters for iteration{i+1}: {classifier_2.best_params_}')\n",
        "\n",
        "  y_pred = classifier_2.predict(X_test)\n",
        "\n",
        "  # find the accuracy for each iteration and store the value\n",
        "  accuracy_TopDT[i] = accuracy_score(y_test, y_pred)\n",
        "  macro_avg_TopDT[i] = f1_score(y_test, y_pred, average='macro')\n",
        "  weighted_avg_TopDT[i] = f1_score(y_test, y_pred, average='weighted')\n",
        "\n",
        "# compute the average accuracy & variances\n",
        "print(f'accuracy_TopDT: {accuracy_TopDT}')\n",
        "Avg_accuracy = (np.sum(accuracy_TopDT))/5\n",
        "accuracy_variance = np.var(accuracy_TopDT)\n",
        "print(f'average accuracy: {Avg_accuracy}, variance: {accuracy_variance}')\n",
        "\n",
        "# compute the average macro-average F1 & the variance\n",
        "print(f'macro_avg_TopDT: {macro_avg_TopDT}')\n",
        "Avg_macro_avg = (np.sum(macro_avg_TopDT))/5\n",
        "f1_macro_variance = np.var(macro_avg_TopDT)\n",
        "print(f'average macro-average F1: {Avg_macro_avg}, variance: {f1_macro_variance}')\n",
        "\n",
        "# compute the average weighted-average F1 & the variance\n",
        "print(f'weighted_avg_TopDT: {weighted_avg_TopDT}')\n",
        "Avg_weighted_avg = (np.sum(weighted_avg_TopDT))/5\n",
        "f1_weighted_variance = np.var(weighted_avg_TopDT)\n",
        "print(f'average weighted-average F1: {Avg_weighted_avg}, variance: {f1_weighted_variance}')"
      ],
      "metadata": {
        "id": "0W_Jt4LMJgy0",
        "colab": {
          "base_uri": "https://localhost:8080/"
        },
        "outputId": "224fda66-fe23-48f1-cf7a-c8be31dc56ad"
      },
      "execution_count": 39,
      "outputs": [
        {
          "output_type": "stream",
          "name": "stdout",
          "text": [
            "best parameters for iteration1: {'criterion': 'gini', 'max_depth': None, 'min_samples_split': 5}\n",
            "best parameters for iteration2: {'criterion': 'entropy', 'max_depth': 5, 'min_samples_split': 2}\n",
            "best parameters for iteration3: {'criterion': 'entropy', 'max_depth': None, 'min_samples_split': 2}\n",
            "best parameters for iteration4: {'criterion': 'entropy', 'max_depth': None, 'min_samples_split': 2}\n",
            "best parameters for iteration5: {'criterion': 'entropy', 'max_depth': 3, 'min_samples_split': 2}\n",
            "accuracy_TopDT: [0.99 0.99 0.98 0.96 0.92]\n",
            "average accuracy: 0.968, variance: 0.000695999999999999\n",
            "macro_avg_TopDT: [0.98653199 0.98558431 0.9733405  0.95551257 0.90726496]\n",
            "average macro-average F1: 0.9616468656134153, variance: 0.0008648066149873967\n",
            "weighted_avg_TopDT: [0.99010101 0.99010635 0.97999553 0.96       0.91697436]\n",
            "average weighted-average F1: 0.9674354493466352, variance: 0.0007574120801554049\n"
          ]
        }
      ]
    },
    {
      "cell_type": "code",
      "source": [
        "# print the performance result to outputfile\n",
        "print('\\n(E) The result after 5 times of train-test repeatition:' ,file = outputFile)\n",
        "print(f'average accuracy: {Avg_accuracy}, variance: {accuracy_variance}', file = outputFile)\n",
        "print(f'average macro-average F1: {Avg_macro_avg}, variance: {f1_macro_variance}', file = outputFile)\n",
        "print(f'average weighted-average F1: {Avg_weighted_avg}, variance: {f1_weighted_variance}', file = outputFile)\n",
        "print('\\n', file = outputFile)\n",
        "outputFile.flush()"
      ],
      "metadata": {
        "id": "Y4XPTddeb6Ck"
      },
      "execution_count": 40,
      "outputs": []
    },
    {
      "cell_type": "markdown",
      "source": [
        "##### Classifier 3 - Base-MLP"
      ],
      "metadata": {
        "id": "RsxEdv-Xd7Vn"
      }
    },
    {
      "cell_type": "code",
      "source": [
        "#Train Classifier 3\n",
        "mlp_base_penguin = MLPClassifier(hidden_layer_sizes =(100, 100,), activation = 'logistic', solver = 'sgd')\n",
        "mlp_base_penguin.fit(X_train, y_train)\n",
        "\n",
        "#print to the output file\n",
        "print('\\n**************************************************************', file = outputFile)\n",
        "print('(A) Classifier 3 - Base MLP', file = outputFile)\n",
        "print(mlp_base_penguin, file = outputFile)\n",
        "print('\\n', file = outputFile)"
      ],
      "metadata": {
        "id": "LXZXNDUWd6Np"
      },
      "execution_count": null,
      "outputs": []
    },
    {
      "cell_type": "markdown",
      "source": [
        "Metrics for Classifier 3"
      ],
      "metadata": {
        "id": "KpcPx0vCJryX"
      }
    },
    {
      "cell_type": "code",
      "source": [
        "#predict with Base MLP\n",
        "y_pred_base_mlp = mlp_base_penguin.predict(X_test)\n",
        "\n",
        "#print the result here on notebook\n",
        "print(classification_report(y_test, y_pred_base_mlp, target_names = ['Adelie', 'Gentoo', 'Chinstap']))\n",
        "print(confusion_matrix(y_test, y_pred_base_mlp))\n",
        "\n",
        "#print the result to the output file\n",
        "print(\"(B) Confusion Matrix\", file = outputFile)\n",
        "confusion_matrix_result =np.array2string(confusion_matrix(y_test, y_pred_base_mlp))\n",
        "print(confusion_matrix_result, file = outputFile)\n",
        "print('\\n', file = outputFile)\n",
        "print(\"(C,D) Classification Report\", file = outputFile)\n",
        "print(classification_report(y_test, y_pred_base_mlp, target_names = ['Adelie', 'Gentoo', 'Chinstap']), file = outputFile)\n",
        "\n",
        "outputFile.flush()"
      ],
      "metadata": {
        "id": "tpH0AREeJmJ2",
        "outputId": "bae2d74b-de12-4c8b-84dd-503734be7567",
        "colab": {
          "base_uri": "https://localhost:8080/"
        }
      },
      "execution_count": null,
      "outputs": [
        {
          "output_type": "stream",
          "name": "stdout",
          "text": [
            "              precision    recall  f1-score   support\n",
            "\n",
            "      Adelie       0.48      1.00      0.65        48\n",
            "      Gentoo       0.00      0.00      0.00        16\n",
            "    Chinstap       0.00      0.00      0.00        36\n",
            "\n",
            "    accuracy                           0.48       100\n",
            "   macro avg       0.16      0.33      0.22       100\n",
            "weighted avg       0.23      0.48      0.31       100\n",
            "\n",
            "[[48  0  0]\n",
            " [16  0  0]\n",
            " [36  0  0]]\n"
          ]
        }
      ]
    },
    {
      "cell_type": "code",
      "source": [
        "#repeat train-test 5 times\n",
        "MLP_base_train_test_repetition(X, y, outputFile, ['Adelie', 'Gentoo', 'Chinstap'])"
      ],
      "metadata": {
        "id": "mpo7xeAfNajE"
      },
      "execution_count": null,
      "outputs": []
    },
    {
      "cell_type": "markdown",
      "source": [
        "##### Classifier 4 - Top-MLP"
      ],
      "metadata": {
        "id": "Km0ZyCsVe8ze"
      }
    },
    {
      "cell_type": "code",
      "source": [
        "#create grid for each hyperparamter we want to test\n",
        "activation_grid = np.array(['logistic', 'tanh', 'relu'])\n",
        "neurons_tuple_grid = np.array([(30, 50,), (10, 10, 10,)], dtype = 'object')\n",
        "solver_grid = np.array(['adam', 'sgd'])\n",
        "\n",
        "#create parameter grid for GridSearchCV\n",
        "param_grid = {'hidden_layer_sizes': neurons_tuple_grid, 'activation': activation_grid, 'solver': solver_grid}\n",
        "\n",
        "#create grid cv object and do the search\n",
        "mlp_top_penguin = MLPClassifier()\n",
        "gridcv = sk.model_selection.GridSearchCV(mlp_top_penguin, param_grid = param_grid)\n",
        "gridcv.fit(X_train, y_train)\n",
        "\n",
        "#print the result here on notebook\n",
        "print(f'best parameters: {gridcv.best_params_}')\n",
        "\n",
        "#print the result to the output file\n",
        "print('**************************************************************', file = outputFile)\n",
        "print('(A) Classifier 4 - Top MLP', file = outputFile)\n",
        "print(f'best parameters: {gridcv.best_params_}\\n', file = outputFile)\n",
        "outputFile.flush()"
      ],
      "metadata": {
        "id": "-V8WxwtsfAHN",
        "outputId": "0632ee3a-ee59-4a05-f7dc-118cc455b997",
        "colab": {
          "base_uri": "https://localhost:8080/"
        }
      },
      "execution_count": null,
      "outputs": [
        {
          "output_type": "stream",
          "name": "stdout",
          "text": [
            "best parameters: {'activation': 'relu', 'hidden_layer_sizes': (30, 50), 'solver': 'adam'}\n"
          ]
        }
      ]
    },
    {
      "cell_type": "markdown",
      "source": [
        "Metrics for Classifier 4 - Top MLP"
      ],
      "metadata": {
        "id": "1l-RdJs8oT5n"
      }
    },
    {
      "cell_type": "code",
      "source": [
        "#predict\n",
        "y_pred_top_mlp = gridcv.best_estimator_.predict(X_test)\n",
        "\n",
        "#print the result here on notebook\n",
        "print(classification_report(y_test, y_pred_top_mlp, target_names = ['Adelie', 'Gentoo', 'Chinstap']))\n",
        "print(confusion_matrix(y_test, y_pred_top_mlp))\n",
        "\n",
        "#print the result to the output file\n",
        "print(\"(B) Confusion Matrix\", file = outputFile)\n",
        "confusion_matrix_result =np.array2string(confusion_matrix(y_test, y_pred_top_mlp))\n",
        "print(confusion_matrix_result, file = outputFile)\n",
        "print(\"(C,D) Classification Report\", file = outputFile)\n",
        "print(classification_report(y_test, y_pred_top_mlp, target_names = ['Adelie', 'Gentoo', 'Chinstap']), file = outputFile)\n",
        "\n",
        "outputFile.flush()"
      ],
      "metadata": {
        "id": "HINTuN52kIyr",
        "outputId": "121e98b2-4660-4bf4-bb3e-71d151b2ee32",
        "colab": {
          "base_uri": "https://localhost:8080/"
        }
      },
      "execution_count": null,
      "outputs": [
        {
          "output_type": "stream",
          "name": "stdout",
          "text": [
            "              precision    recall  f1-score   support\n",
            "\n",
            "      Adelie       1.00      1.00      1.00        48\n",
            "      Gentoo       1.00      1.00      1.00        16\n",
            "    Chinstap       1.00      1.00      1.00        36\n",
            "\n",
            "    accuracy                           1.00       100\n",
            "   macro avg       1.00      1.00      1.00       100\n",
            "weighted avg       1.00      1.00      1.00       100\n",
            "\n",
            "[[48  0  0]\n",
            " [ 0 16  0]\n",
            " [ 0  0 36]]\n"
          ]
        }
      ]
    },
    {
      "cell_type": "code",
      "source": [
        "MLP_top_train_test_repetition(param_grid, X, y, outputFile,['Adelie', 'Gentoo', 'Chinstap'])"
      ],
      "metadata": {
        "id": "WtHfQTtKSIlM"
      },
      "execution_count": null,
      "outputs": []
    },
    {
      "cell_type": "code",
      "source": [
        "outputFile.close()"
      ],
      "metadata": {
        "id": "uj6lfQkPIRsk"
      },
      "execution_count": null,
      "outputs": []
    },
    {
      "cell_type": "markdown",
      "source": [
        "## Dataset - 'abalone.csv'\n",
        "- Goal : prediction of sex"
      ],
      "metadata": {
        "id": "WYPRbdtq2-91"
      }
    },
    {
      "cell_type": "code",
      "source": [
        "outputFile = open('abalone-performance.txt', 'w')"
      ],
      "metadata": {
        "id": "jQKCBY32lPaR"
      },
      "execution_count": 41,
      "outputs": []
    },
    {
      "cell_type": "code",
      "source": [
        "data_abalone = pd.read_csv('abalone.csv')\n",
        "data_abalone.head()"
      ],
      "metadata": {
        "id": "wMutHb2AzmB1",
        "colab": {
          "base_uri": "https://localhost:8080/",
          "height": 206
        },
        "outputId": "0d2f2f56-85b8-444c-fa03-b0b75d3f85f9"
      },
      "execution_count": 42,
      "outputs": [
        {
          "output_type": "execute_result",
          "data": {
            "text/plain": [
              "  Type  LongestShell  Diameter  Height  WholeWeight  ShuckedWeight  \\\n",
              "0    F         0.605     0.470   0.165       1.1775         0.6110   \n",
              "1    M         0.550     0.425   0.150       0.8315         0.4110   \n",
              "2    M         0.460     0.345   0.110       0.4595         0.2350   \n",
              "3    F         0.650     0.475   0.165       1.3875         0.5800   \n",
              "4    M         0.575     0.470   0.140       0.8375         0.3485   \n",
              "\n",
              "   VisceraWeight  ShellWeight  Rings  \n",
              "0         0.2275       0.2920      9  \n",
              "1         0.1765       0.2165     10  \n",
              "2         0.0885       0.1160      7  \n",
              "3         0.3485       0.3095      9  \n",
              "4         0.1735       0.2400     11  "
            ],
            "text/html": [
              "\n",
              "  <div id=\"df-2ca8351c-dff3-45b2-bd21-07ca4d416604\" class=\"colab-df-container\">\n",
              "    <div>\n",
              "<style scoped>\n",
              "    .dataframe tbody tr th:only-of-type {\n",
              "        vertical-align: middle;\n",
              "    }\n",
              "\n",
              "    .dataframe tbody tr th {\n",
              "        vertical-align: top;\n",
              "    }\n",
              "\n",
              "    .dataframe thead th {\n",
              "        text-align: right;\n",
              "    }\n",
              "</style>\n",
              "<table border=\"1\" class=\"dataframe\">\n",
              "  <thead>\n",
              "    <tr style=\"text-align: right;\">\n",
              "      <th></th>\n",
              "      <th>Type</th>\n",
              "      <th>LongestShell</th>\n",
              "      <th>Diameter</th>\n",
              "      <th>Height</th>\n",
              "      <th>WholeWeight</th>\n",
              "      <th>ShuckedWeight</th>\n",
              "      <th>VisceraWeight</th>\n",
              "      <th>ShellWeight</th>\n",
              "      <th>Rings</th>\n",
              "    </tr>\n",
              "  </thead>\n",
              "  <tbody>\n",
              "    <tr>\n",
              "      <th>0</th>\n",
              "      <td>F</td>\n",
              "      <td>0.605</td>\n",
              "      <td>0.470</td>\n",
              "      <td>0.165</td>\n",
              "      <td>1.1775</td>\n",
              "      <td>0.6110</td>\n",
              "      <td>0.2275</td>\n",
              "      <td>0.2920</td>\n",
              "      <td>9</td>\n",
              "    </tr>\n",
              "    <tr>\n",
              "      <th>1</th>\n",
              "      <td>M</td>\n",
              "      <td>0.550</td>\n",
              "      <td>0.425</td>\n",
              "      <td>0.150</td>\n",
              "      <td>0.8315</td>\n",
              "      <td>0.4110</td>\n",
              "      <td>0.1765</td>\n",
              "      <td>0.2165</td>\n",
              "      <td>10</td>\n",
              "    </tr>\n",
              "    <tr>\n",
              "      <th>2</th>\n",
              "      <td>M</td>\n",
              "      <td>0.460</td>\n",
              "      <td>0.345</td>\n",
              "      <td>0.110</td>\n",
              "      <td>0.4595</td>\n",
              "      <td>0.2350</td>\n",
              "      <td>0.0885</td>\n",
              "      <td>0.1160</td>\n",
              "      <td>7</td>\n",
              "    </tr>\n",
              "    <tr>\n",
              "      <th>3</th>\n",
              "      <td>F</td>\n",
              "      <td>0.650</td>\n",
              "      <td>0.475</td>\n",
              "      <td>0.165</td>\n",
              "      <td>1.3875</td>\n",
              "      <td>0.5800</td>\n",
              "      <td>0.3485</td>\n",
              "      <td>0.3095</td>\n",
              "      <td>9</td>\n",
              "    </tr>\n",
              "    <tr>\n",
              "      <th>4</th>\n",
              "      <td>M</td>\n",
              "      <td>0.575</td>\n",
              "      <td>0.470</td>\n",
              "      <td>0.140</td>\n",
              "      <td>0.8375</td>\n",
              "      <td>0.3485</td>\n",
              "      <td>0.1735</td>\n",
              "      <td>0.2400</td>\n",
              "      <td>11</td>\n",
              "    </tr>\n",
              "  </tbody>\n",
              "</table>\n",
              "</div>\n",
              "    <div class=\"colab-df-buttons\">\n",
              "\n",
              "  <div class=\"colab-df-container\">\n",
              "    <button class=\"colab-df-convert\" onclick=\"convertToInteractive('df-2ca8351c-dff3-45b2-bd21-07ca4d416604')\"\n",
              "            title=\"Convert this dataframe to an interactive table.\"\n",
              "            style=\"display:none;\">\n",
              "\n",
              "  <svg xmlns=\"http://www.w3.org/2000/svg\" height=\"24px\" viewBox=\"0 -960 960 960\">\n",
              "    <path d=\"M120-120v-720h720v720H120Zm60-500h600v-160H180v160Zm220 220h160v-160H400v160Zm0 220h160v-160H400v160ZM180-400h160v-160H180v160Zm440 0h160v-160H620v160ZM180-180h160v-160H180v160Zm440 0h160v-160H620v160Z\"/>\n",
              "  </svg>\n",
              "    </button>\n",
              "\n",
              "  <style>\n",
              "    .colab-df-container {\n",
              "      display:flex;\n",
              "      gap: 12px;\n",
              "    }\n",
              "\n",
              "    .colab-df-convert {\n",
              "      background-color: #E8F0FE;\n",
              "      border: none;\n",
              "      border-radius: 50%;\n",
              "      cursor: pointer;\n",
              "      display: none;\n",
              "      fill: #1967D2;\n",
              "      height: 32px;\n",
              "      padding: 0 0 0 0;\n",
              "      width: 32px;\n",
              "    }\n",
              "\n",
              "    .colab-df-convert:hover {\n",
              "      background-color: #E2EBFA;\n",
              "      box-shadow: 0px 1px 2px rgba(60, 64, 67, 0.3), 0px 1px 3px 1px rgba(60, 64, 67, 0.15);\n",
              "      fill: #174EA6;\n",
              "    }\n",
              "\n",
              "    .colab-df-buttons div {\n",
              "      margin-bottom: 4px;\n",
              "    }\n",
              "\n",
              "    [theme=dark] .colab-df-convert {\n",
              "      background-color: #3B4455;\n",
              "      fill: #D2E3FC;\n",
              "    }\n",
              "\n",
              "    [theme=dark] .colab-df-convert:hover {\n",
              "      background-color: #434B5C;\n",
              "      box-shadow: 0px 1px 3px 1px rgba(0, 0, 0, 0.15);\n",
              "      filter: drop-shadow(0px 1px 2px rgba(0, 0, 0, 0.3));\n",
              "      fill: #FFFFFF;\n",
              "    }\n",
              "  </style>\n",
              "\n",
              "    <script>\n",
              "      const buttonEl =\n",
              "        document.querySelector('#df-2ca8351c-dff3-45b2-bd21-07ca4d416604 button.colab-df-convert');\n",
              "      buttonEl.style.display =\n",
              "        google.colab.kernel.accessAllowed ? 'block' : 'none';\n",
              "\n",
              "      async function convertToInteractive(key) {\n",
              "        const element = document.querySelector('#df-2ca8351c-dff3-45b2-bd21-07ca4d416604');\n",
              "        const dataTable =\n",
              "          await google.colab.kernel.invokeFunction('convertToInteractive',\n",
              "                                                    [key], {});\n",
              "        if (!dataTable) return;\n",
              "\n",
              "        const docLinkHtml = 'Like what you see? Visit the ' +\n",
              "          '<a target=\"_blank\" href=https://colab.research.google.com/notebooks/data_table.ipynb>data table notebook</a>'\n",
              "          + ' to learn more about interactive tables.';\n",
              "        element.innerHTML = '';\n",
              "        dataTable['output_type'] = 'display_data';\n",
              "        await google.colab.output.renderOutput(dataTable, element);\n",
              "        const docLink = document.createElement('div');\n",
              "        docLink.innerHTML = docLinkHtml;\n",
              "        element.appendChild(docLink);\n",
              "      }\n",
              "    </script>\n",
              "  </div>\n",
              "\n",
              "\n",
              "<div id=\"df-85aabfc1-4cde-4b93-a58c-fd541ae2a132\">\n",
              "  <button class=\"colab-df-quickchart\" onclick=\"quickchart('df-85aabfc1-4cde-4b93-a58c-fd541ae2a132')\"\n",
              "            title=\"Suggest charts\"\n",
              "            style=\"display:none;\">\n",
              "\n",
              "<svg xmlns=\"http://www.w3.org/2000/svg\" height=\"24px\"viewBox=\"0 0 24 24\"\n",
              "     width=\"24px\">\n",
              "    <g>\n",
              "        <path d=\"M19 3H5c-1.1 0-2 .9-2 2v14c0 1.1.9 2 2 2h14c1.1 0 2-.9 2-2V5c0-1.1-.9-2-2-2zM9 17H7v-7h2v7zm4 0h-2V7h2v10zm4 0h-2v-4h2v4z\"/>\n",
              "    </g>\n",
              "</svg>\n",
              "  </button>\n",
              "\n",
              "<style>\n",
              "  .colab-df-quickchart {\n",
              "      --bg-color: #E8F0FE;\n",
              "      --fill-color: #1967D2;\n",
              "      --hover-bg-color: #E2EBFA;\n",
              "      --hover-fill-color: #174EA6;\n",
              "      --disabled-fill-color: #AAA;\n",
              "      --disabled-bg-color: #DDD;\n",
              "  }\n",
              "\n",
              "  [theme=dark] .colab-df-quickchart {\n",
              "      --bg-color: #3B4455;\n",
              "      --fill-color: #D2E3FC;\n",
              "      --hover-bg-color: #434B5C;\n",
              "      --hover-fill-color: #FFFFFF;\n",
              "      --disabled-bg-color: #3B4455;\n",
              "      --disabled-fill-color: #666;\n",
              "  }\n",
              "\n",
              "  .colab-df-quickchart {\n",
              "    background-color: var(--bg-color);\n",
              "    border: none;\n",
              "    border-radius: 50%;\n",
              "    cursor: pointer;\n",
              "    display: none;\n",
              "    fill: var(--fill-color);\n",
              "    height: 32px;\n",
              "    padding: 0;\n",
              "    width: 32px;\n",
              "  }\n",
              "\n",
              "  .colab-df-quickchart:hover {\n",
              "    background-color: var(--hover-bg-color);\n",
              "    box-shadow: 0 1px 2px rgba(60, 64, 67, 0.3), 0 1px 3px 1px rgba(60, 64, 67, 0.15);\n",
              "    fill: var(--button-hover-fill-color);\n",
              "  }\n",
              "\n",
              "  .colab-df-quickchart-complete:disabled,\n",
              "  .colab-df-quickchart-complete:disabled:hover {\n",
              "    background-color: var(--disabled-bg-color);\n",
              "    fill: var(--disabled-fill-color);\n",
              "    box-shadow: none;\n",
              "  }\n",
              "\n",
              "  .colab-df-spinner {\n",
              "    border: 2px solid var(--fill-color);\n",
              "    border-color: transparent;\n",
              "    border-bottom-color: var(--fill-color);\n",
              "    animation:\n",
              "      spin 1s steps(1) infinite;\n",
              "  }\n",
              "\n",
              "  @keyframes spin {\n",
              "    0% {\n",
              "      border-color: transparent;\n",
              "      border-bottom-color: var(--fill-color);\n",
              "      border-left-color: var(--fill-color);\n",
              "    }\n",
              "    20% {\n",
              "      border-color: transparent;\n",
              "      border-left-color: var(--fill-color);\n",
              "      border-top-color: var(--fill-color);\n",
              "    }\n",
              "    30% {\n",
              "      border-color: transparent;\n",
              "      border-left-color: var(--fill-color);\n",
              "      border-top-color: var(--fill-color);\n",
              "      border-right-color: var(--fill-color);\n",
              "    }\n",
              "    40% {\n",
              "      border-color: transparent;\n",
              "      border-right-color: var(--fill-color);\n",
              "      border-top-color: var(--fill-color);\n",
              "    }\n",
              "    60% {\n",
              "      border-color: transparent;\n",
              "      border-right-color: var(--fill-color);\n",
              "    }\n",
              "    80% {\n",
              "      border-color: transparent;\n",
              "      border-right-color: var(--fill-color);\n",
              "      border-bottom-color: var(--fill-color);\n",
              "    }\n",
              "    90% {\n",
              "      border-color: transparent;\n",
              "      border-bottom-color: var(--fill-color);\n",
              "    }\n",
              "  }\n",
              "</style>\n",
              "\n",
              "  <script>\n",
              "    async function quickchart(key) {\n",
              "      const quickchartButtonEl =\n",
              "        document.querySelector('#' + key + ' button');\n",
              "      quickchartButtonEl.disabled = true;  // To prevent multiple clicks.\n",
              "      quickchartButtonEl.classList.add('colab-df-spinner');\n",
              "      try {\n",
              "        const charts = await google.colab.kernel.invokeFunction(\n",
              "            'suggestCharts', [key], {});\n",
              "      } catch (error) {\n",
              "        console.error('Error during call to suggestCharts:', error);\n",
              "      }\n",
              "      quickchartButtonEl.classList.remove('colab-df-spinner');\n",
              "      quickchartButtonEl.classList.add('colab-df-quickchart-complete');\n",
              "    }\n",
              "    (() => {\n",
              "      let quickchartButtonEl =\n",
              "        document.querySelector('#df-85aabfc1-4cde-4b93-a58c-fd541ae2a132 button');\n",
              "      quickchartButtonEl.style.display =\n",
              "        google.colab.kernel.accessAllowed ? 'block' : 'none';\n",
              "    })();\n",
              "  </script>\n",
              "</div>\n",
              "    </div>\n",
              "  </div>\n"
            ]
          },
          "metadata": {},
          "execution_count": 42
        }
      ]
    },
    {
      "cell_type": "markdown",
      "source": [
        "#### Plot the percentage of the instances"
      ],
      "metadata": {
        "id": "vRRzVKIo39rm"
      }
    },
    {
      "cell_type": "code",
      "source": [
        "# Check the output class is balanced\n",
        "abalone_labels = data_abalone['Type']\n",
        "\n",
        "plt.figure(figsize=(10, 6))\n",
        "sns.countplot(x=abalone_labels)\n",
        "plt.title('Distribution of class label')\n",
        "plt.xlabel('Abalone')\n",
        "plt.ylabel('Frequency')\n",
        "\n",
        "# save as graphic\n",
        "plt.savefig('abalone-classes.png')\n"
      ],
      "metadata": {
        "colab": {
          "base_uri": "https://localhost:8080/",
          "height": 564
        },
        "id": "yq-_zOJu3-Sr",
        "outputId": "2c34d977-8d30-4795-a6d7-49fe1f877407"
      },
      "execution_count": 43,
      "outputs": [
        {
          "output_type": "display_data",
          "data": {
            "text/plain": [
              "<Figure size 1000x600 with 1 Axes>"
            ],
            "image/png": "[encoded data removed]"
          },
          "metadata": {}
        }
      ]
    },
    {
      "cell_type": "markdown",
      "source": [
        "#### Dataset split into training & test set"
      ],
      "metadata": {
        "id": "U83DY2IC3rvY"
      }
    },
    {
      "cell_type": "code",
      "source": [
        "# perform feature scaling\n",
        "from sklearn.preprocessing import StandardScaler\n",
        "scaled_features_abalone = StandardScaler().fit_transform(data_abalone.iloc[:, 1:].values)\n",
        "\n",
        "X = scaled_features_abalone\n",
        "y = data_abalone.iloc[:,0].values"
      ],
      "metadata": {
        "id": "ao8xlPj-zmD8"
      },
      "execution_count": 44,
      "outputs": []
    },
    {
      "cell_type": "code",
      "source": [
        "from sklearn.model_selection import train_test_split\n",
        "X_train, X_test, y_train, y_test = train_test_split(X, y, test_size = 0.3)"
      ],
      "metadata": {
        "id": "WJweG6uCzmFv"
      },
      "execution_count": 45,
      "outputs": []
    },
    {
      "cell_type": "markdown",
      "source": [
        "#### Train and test 4 different classifiers"
      ],
      "metadata": {
        "id": "xDSmVlbI9Hyl"
      }
    },
    {
      "cell_type": "markdown",
      "source": [
        "##### Classifier 1 - Base-DT"
      ],
      "metadata": {
        "id": "XyL9UsKq2tsv"
      }
    },
    {
      "cell_type": "code",
      "source": [
        "from sklearn.tree import DecisionTreeClassifier\n",
        "\n",
        "# Base Decision Tree\n",
        "classifier_1 = DecisionTreeClassifier(max_depth=3)\n",
        "classifier_1.fit(X_train, y_train)"
      ],
      "metadata": {
        "colab": {
          "base_uri": "https://localhost:8080/",
          "height": 75
        },
        "id": "C0cUxRm82tD7",
        "outputId": "0110c78e-ae10-4cd7-cbbb-009c5b475311"
      },
      "execution_count": 46,
      "outputs": [
        {
          "output_type": "execute_result",
          "data": {
            "text/plain": [
              "DecisionTreeClassifier(max_depth=3)"
            ],
            "text/html": [
              "<style>#sk-container-id-3 {color: black;background-color: white;}#sk-container-id-3 pre{padding: 0;}#sk-container-id-3 div.sk-toggleable {background-color: white;}#sk-container-id-3 label.sk-toggleable__label {cursor: pointer;display: block;width: 100%;margin-bottom: 0;padding: 0.3em;box-sizing: border-box;text-align: center;}#sk-container-id-3 label.sk-toggleable__label-arrow:before {content: \"▸\";float: left;margin-right: 0.25em;color: #696969;}#sk-container-id-3 label.sk-toggleable__label-arrow:hover:before {color: black;}#sk-container-id-3 div.sk-estimator:hover label.sk-toggleable__label-arrow:before {color: black;}#sk-container-id-3 div.sk-toggleable__content {max-height: 0;max-width: 0;overflow: hidden;text-align: left;background-color: #f0f8ff;}#sk-container-id-3 div.sk-toggleable__content pre {margin: 0.2em;color: black;border-radius: 0.25em;background-color: #f0f8ff;}#sk-container-id-3 input.sk-toggleable__control:checked~div.sk-toggleable__content {max-height: 200px;max-width: 100%;overflow: auto;}#sk-container-id-3 input.sk-toggleable__control:checked~label.sk-toggleable__label-arrow:before {content: \"▾\";}#sk-container-id-3 div.sk-estimator input.sk-toggleable__control:checked~label.sk-toggleable__label {background-color: #d4ebff;}#sk-container-id-3 div.sk-label input.sk-toggleable__control:checked~label.sk-toggleable__label {background-color: #d4ebff;}#sk-container-id-3 input.sk-hidden--visually {border: 0;clip: rect(1px 1px 1px 1px);clip: rect(1px, 1px, 1px, 1px);height: 1px;margin: -1px;overflow: hidden;padding: 0;position: absolute;width: 1px;}#sk-container-id-3 div.sk-estimator {font-family: monospace;background-color: #f0f8ff;border: 1px dotted black;border-radius: 0.25em;box-sizing: border-box;margin-bottom: 0.5em;}#sk-container-id-3 div.sk-estimator:hover {background-color: #d4ebff;}#sk-container-id-3 div.sk-parallel-item::after {content: \"\";width: 100%;border-bottom: 1px solid gray;flex-grow: 1;}#sk-container-id-3 div.sk-label:hover label.sk-toggleable__label {background-color: #d4ebff;}#sk-container-id-3 div.sk-serial::before {content: \"\";position: absolute;border-left: 1px solid gray;box-sizing: border-box;top: 0;bottom: 0;left: 50%;z-index: 0;}#sk-container-id-3 div.sk-serial {display: flex;flex-direction: column;align-items: center;background-color: white;padding-right: 0.2em;padding-left: 0.2em;position: relative;}#sk-container-id-3 div.sk-item {position: relative;z-index: 1;}#sk-container-id-3 div.sk-parallel {display: flex;align-items: stretch;justify-content: center;background-color: white;position: relative;}#sk-container-id-3 div.sk-item::before, #sk-container-id-3 div.sk-parallel-item::before {content: \"\";position: absolute;border-left: 1px solid gray;box-sizing: border-box;top: 0;bottom: 0;left: 50%;z-index: -1;}#sk-container-id-3 div.sk-parallel-item {display: flex;flex-direction: column;z-index: 1;position: relative;background-color: white;}#sk-container-id-3 div.sk-parallel-item:first-child::after {align-self: flex-end;width: 50%;}#sk-container-id-3 div.sk-parallel-item:last-child::after {align-self: flex-start;width: 50%;}#sk-container-id-3 div.sk-parallel-item:only-child::after {width: 0;}#sk-container-id-3 div.sk-dashed-wrapped {border: 1px dashed gray;margin: 0 0.4em 0.5em 0.4em;box-sizing: border-box;padding-bottom: 0.4em;background-color: white;}#sk-container-id-3 div.sk-label label {font-family: monospace;font-weight: bold;display: inline-block;line-height: 1.2em;}#sk-container-id-3 div.sk-label-container {text-align: center;}#sk-container-id-3 div.sk-container {/* jupyter's `normalize.less` sets `[hidden] { display: none; }` but bootstrap.min.css set `[hidden] { display: none !important; }` so we also need the `!important` here to be able to override the default hidden behavior on the sphinx rendered scikit-learn.org. See: https://github.com/scikit-learn/scikit-learn/issues/21755 */display: inline-block !important;position: relative;}#sk-container-id-3 div.sk-text-repr-fallback {display: none;}</style><div id=\"sk-container-id-3\" class=\"sk-top-container\"><div class=\"sk-text-repr-fallback\"><pre>DecisionTreeClassifier(max_depth=3)</pre><b>In a Jupyter environment, please rerun this cell to show the HTML representation or trust the notebook. <br />On GitHub, the HTML representation is unable to render, please try loading this page with nbviewer.org.</b></div><div class=\"sk-container\" hidden><div class=\"sk-item\"><div class=\"sk-estimator sk-toggleable\"><input class=\"sk-toggleable__control sk-hidden--visually\" id=\"sk-estimator-id-3\" type=\"checkbox\" checked><label for=\"sk-estimator-id-3\" class=\"sk-toggleable__label sk-toggleable__label-arrow\">DecisionTreeClassifier</label><div class=\"sk-toggleable__content\"><pre>DecisionTreeClassifier(max_depth=3)</pre></div></div></div></div></div>"
            ]
          },
          "metadata": {},
          "execution_count": 46
        }
      ]
    },
    {
      "cell_type": "code",
      "source": [
        "abalone_class = data_abalone.columns[0]\n",
        "abalone_features = list(data_abalone.columns[1:])"
      ],
      "metadata": {
        "id": "dGLPS-XQ29an"
      },
      "execution_count": 47,
      "outputs": []
    },
    {
      "cell_type": "code",
      "source": [
        "dot_data = tree.export_graphviz(classifier_1,\n",
        "                feature_names=abalone_features,\n",
        "                class_names=abalone_class,\n",
        "                filled=True, rounded=True,\n",
        "                special_characters=True)\n",
        "\n",
        "graph = graphviz.Source(dot_data)\n",
        "graph"
      ],
      "metadata": {
        "id": "8tgSldCH5xU1",
        "colab": {
          "base_uri": "https://localhost:8080/",
          "height": 618
        },
        "outputId": "bb3efcea-ab82-4808-e59f-4ea8b904ebc6"
      },
      "execution_count": 48,
      "outputs": [
        {
          "output_type": "execute_result",
          "data": {
            "image/svg+xml": "<?xml version=\"1.0\" encoding=\"UTF-8\" standalone=\"no\"?>\n<!DOCTYPE svg PUBLIC \"-//W3C//DTD SVG 1.1//EN\"\n \"http://www.w3.org/Graphics/SVG/1.1/DTD/svg11.dtd\">\n<!-- Generated by graphviz version 2.43.0 (0)\n -->\n<!-- Title: Tree Pages: 1 -->\n<svg width=\"1225pt\" height=\"433pt\"\n viewBox=\"0.00 0.00 1224.50 433.00\" xmlns=\"http://www.w3.org/2000/svg\" xmlns:xlink=\"http://www.w3.org/1999/xlink\">\n<g id=\"graph0\" class=\"graph\" transform=\"scale(1 1) rotate(0) translate(4 429)\">\n<title>Tree</title>\n<polygon fill=\"white\" stroke=\"transparent\" points=\"-4,4 -4,-429 1220.5,-429 1220.5,4 -4,4\"/>\n<!-- 0 -->\n<g id=\"node1\" class=\"node\">\n<title>0</title>\n<path fill=\"#f6f0fd\" stroke=\"black\" d=\"M684,-425C684,-425 546,-425 546,-425 540,-425 534,-419 534,-413 534,-413 534,-354 534,-354 534,-348 540,-342 546,-342 546,-342 684,-342 684,-342 690,-342 696,-348 696,-354 696,-354 696,-413 696,-413 696,-419 690,-425 684,-425\"/>\n<text text-anchor=\"start\" x=\"544.5\" y=\"-409.8\" font-family=\"Helvetica,sans-Serif\" font-size=\"14.00\">VisceraWeight ≤ &#45;0.332</text>\n<text text-anchor=\"start\" x=\"579.5\" y=\"-394.8\" font-family=\"Helvetica,sans-Serif\" font-size=\"14.00\">gini = 0.664</text>\n<text text-anchor=\"start\" x=\"566.5\" y=\"-379.8\" font-family=\"Helvetica,sans-Serif\" font-size=\"14.00\">samples = 2923</text>\n<text text-anchor=\"start\" x=\"542\" y=\"-364.8\" font-family=\"Helvetica,sans-Serif\" font-size=\"14.00\">value = [899, 938, 1086]</text>\n<text text-anchor=\"start\" x=\"587.5\" y=\"-349.8\" font-family=\"Helvetica,sans-Serif\" font-size=\"14.00\">class = p</text>\n</g>\n<!-- 1 -->\n<g id=\"node2\" class=\"node\">\n<title>1</title>\n<path fill=\"#99f2be\" stroke=\"black\" d=\"M528.5,-306C528.5,-306 397.5,-306 397.5,-306 391.5,-306 385.5,-300 385.5,-294 385.5,-294 385.5,-235 385.5,-235 385.5,-229 391.5,-223 397.5,-223 397.5,-223 528.5,-223 528.5,-223 534.5,-223 540.5,-229 540.5,-235 540.5,-235 540.5,-294 540.5,-294 540.5,-300 534.5,-306 528.5,-306\"/>\n<text text-anchor=\"start\" x=\"419\" y=\"-290.8\" font-family=\"Helvetica,sans-Serif\" font-size=\"14.00\">Rings ≤ &#45;0.445</text>\n<text text-anchor=\"start\" x=\"431\" y=\"-275.8\" font-family=\"Helvetica,sans-Serif\" font-size=\"14.00\">gini = 0.54</text>\n<text text-anchor=\"start\" x=\"414.5\" y=\"-260.8\" font-family=\"Helvetica,sans-Serif\" font-size=\"14.00\">samples = 1235</text>\n<text text-anchor=\"start\" x=\"393.5\" y=\"-245.8\" font-family=\"Helvetica,sans-Serif\" font-size=\"14.00\">value = [195, 768, 272]</text>\n<text text-anchor=\"start\" x=\"436\" y=\"-230.8\" font-family=\"Helvetica,sans-Serif\" font-size=\"14.00\">class = y</text>\n</g>\n<!-- 0&#45;&gt;1 -->\n<g id=\"edge1\" class=\"edge\">\n<title>0&#45;&gt;1</title>\n<path fill=\"none\" stroke=\"black\" d=\"M562.26,-341.91C549.88,-332.38 536.59,-322.15 523.89,-312.37\"/>\n<polygon fill=\"black\" stroke=\"black\" points=\"525.7,-309.35 515.64,-306.02 521.43,-314.89 525.7,-309.35\"/>\n<text text-anchor=\"middle\" x=\"518.87\" y=\"-327.11\" font-family=\"Helvetica,sans-Serif\" font-size=\"14.00\">True</text>\n</g>\n<!-- 8 -->\n<g id=\"node9\" class=\"node\">\n<title>8</title>\n<path fill=\"#f1e9fc\" stroke=\"black\" d=\"M828.5,-306C828.5,-306 697.5,-306 697.5,-306 691.5,-306 685.5,-300 685.5,-294 685.5,-294 685.5,-235 685.5,-235 685.5,-229 691.5,-223 697.5,-223 697.5,-223 828.5,-223 828.5,-223 834.5,-223 840.5,-229 840.5,-235 840.5,-235 840.5,-294 840.5,-294 840.5,-300 834.5,-306 828.5,-306\"/>\n<text text-anchor=\"start\" x=\"698\" y=\"-290.8\" font-family=\"Helvetica,sans-Serif\" font-size=\"14.00\">WholeWeight ≤ 0.096</text>\n<text text-anchor=\"start\" x=\"727.5\" y=\"-275.8\" font-family=\"Helvetica,sans-Serif\" font-size=\"14.00\">gini = 0.583</text>\n<text text-anchor=\"start\" x=\"714.5\" y=\"-260.8\" font-family=\"Helvetica,sans-Serif\" font-size=\"14.00\">samples = 1688</text>\n<text text-anchor=\"start\" x=\"693.5\" y=\"-245.8\" font-family=\"Helvetica,sans-Serif\" font-size=\"14.00\">value = [704, 170, 814]</text>\n<text text-anchor=\"start\" x=\"735.5\" y=\"-230.8\" font-family=\"Helvetica,sans-Serif\" font-size=\"14.00\">class = p</text>\n</g>\n<!-- 0&#45;&gt;8 -->\n<g id=\"edge8\" class=\"edge\">\n<title>0&#45;&gt;8</title>\n<path fill=\"none\" stroke=\"black\" d=\"M666.35,-341.91C678.4,-332.38 691.34,-322.15 703.71,-312.37\"/>\n<polygon fill=\"black\" stroke=\"black\" points=\"706.07,-314.97 711.74,-306.02 701.73,-309.48 706.07,-314.97\"/>\n<text text-anchor=\"middle\" x=\"708.84\" y=\"-327.15\" font-family=\"Helvetica,sans-Serif\" font-size=\"14.00\">False</text>\n</g>\n<!-- 2 -->\n<g id=\"node3\" class=\"node\">\n<title>2</title>\n<path fill=\"#6eeca2\" stroke=\"black\" d=\"M289.5,-187C289.5,-187 166.5,-187 166.5,-187 160.5,-187 154.5,-181 154.5,-175 154.5,-175 154.5,-116 154.5,-116 154.5,-110 160.5,-104 166.5,-104 166.5,-104 289.5,-104 289.5,-104 295.5,-104 301.5,-110 301.5,-116 301.5,-116 301.5,-175 301.5,-175 301.5,-181 295.5,-187 289.5,-187\"/>\n<text text-anchor=\"start\" x=\"181.5\" y=\"-171.8\" font-family=\"Helvetica,sans-Serif\" font-size=\"14.00\">Height ≤ &#45;0.646</text>\n<text text-anchor=\"start\" x=\"192.5\" y=\"-156.8\" font-family=\"Helvetica,sans-Serif\" font-size=\"14.00\">gini = 0.369</text>\n<text text-anchor=\"start\" x=\"183\" y=\"-141.8\" font-family=\"Helvetica,sans-Serif\" font-size=\"14.00\">samples = 803</text>\n<text text-anchor=\"start\" x=\"162.5\" y=\"-126.8\" font-family=\"Helvetica,sans-Serif\" font-size=\"14.00\">value = [55, 623, 125]</text>\n<text text-anchor=\"start\" x=\"201\" y=\"-111.8\" font-family=\"Helvetica,sans-Serif\" font-size=\"14.00\">class = y</text>\n</g>\n<!-- 1&#45;&gt;2 -->\n<g id=\"edge2\" class=\"edge\">\n<title>1&#45;&gt;2</title>\n<path fill=\"none\" stroke=\"black\" d=\"M385.4,-224.87C361.45,-212.94 335,-199.77 310.72,-187.68\"/>\n<polygon fill=\"black\" stroke=\"black\" points=\"312.04,-184.43 301.53,-183.11 308.92,-190.7 312.04,-184.43\"/>\n</g>\n<!-- 5 -->\n<g id=\"node6\" class=\"node\">\n<title>5</title>\n<path fill=\"#fefeff\" stroke=\"black\" d=\"M528.5,-187C528.5,-187 397.5,-187 397.5,-187 391.5,-187 385.5,-181 385.5,-175 385.5,-175 385.5,-116 385.5,-116 385.5,-110 391.5,-104 397.5,-104 397.5,-104 528.5,-104 528.5,-104 534.5,-104 540.5,-110 540.5,-116 540.5,-116 540.5,-175 540.5,-175 540.5,-181 534.5,-187 528.5,-187\"/>\n<text text-anchor=\"start\" x=\"419\" y=\"-171.8\" font-family=\"Helvetica,sans-Serif\" font-size=\"14.00\">Rings ≤ &#45;0.135</text>\n<text text-anchor=\"start\" x=\"427.5\" y=\"-156.8\" font-family=\"Helvetica,sans-Serif\" font-size=\"14.00\">gini = 0.667</text>\n<text text-anchor=\"start\" x=\"418\" y=\"-141.8\" font-family=\"Helvetica,sans-Serif\" font-size=\"14.00\">samples = 432</text>\n<text text-anchor=\"start\" x=\"393.5\" y=\"-126.8\" font-family=\"Helvetica,sans-Serif\" font-size=\"14.00\">value = [140, 145, 147]</text>\n<text text-anchor=\"start\" x=\"435.5\" y=\"-111.8\" font-family=\"Helvetica,sans-Serif\" font-size=\"14.00\">class = p</text>\n</g>\n<!-- 1&#45;&gt;5 -->\n<g id=\"edge5\" class=\"edge\">\n<title>1&#45;&gt;5</title>\n<path fill=\"none\" stroke=\"black\" d=\"M463,-222.91C463,-214.65 463,-205.86 463,-197.3\"/>\n<polygon fill=\"black\" stroke=\"black\" points=\"466.5,-197.02 463,-187.02 459.5,-197.02 466.5,-197.02\"/>\n</g>\n<!-- 3 -->\n<g id=\"node4\" class=\"node\">\n<title>3</title>\n<path fill=\"#61ea9a\" stroke=\"black\" d=\"M128,-68C128,-68 12,-68 12,-68 6,-68 0,-62 0,-56 0,-56 0,-12 0,-12 0,-6 6,0 12,0 12,0 128,0 128,0 134,0 140,-6 140,-12 140,-12 140,-56 140,-56 140,-62 134,-68 128,-68\"/>\n<text text-anchor=\"start\" x=\"34.5\" y=\"-52.8\" font-family=\"Helvetica,sans-Serif\" font-size=\"14.00\">gini = 0.298</text>\n<text text-anchor=\"start\" x=\"25\" y=\"-37.8\" font-family=\"Helvetica,sans-Serif\" font-size=\"14.00\">samples = 586</text>\n<text text-anchor=\"start\" x=\"8\" y=\"-22.8\" font-family=\"Helvetica,sans-Serif\" font-size=\"14.00\">value = [22, 484, 80]</text>\n<text text-anchor=\"start\" x=\"43\" y=\"-7.8\" font-family=\"Helvetica,sans-Serif\" font-size=\"14.00\">class = y</text>\n</g>\n<!-- 2&#45;&gt;3 -->\n<g id=\"edge3\" class=\"edge\">\n<title>2&#45;&gt;3</title>\n<path fill=\"none\" stroke=\"black\" d=\"M169.17,-103.73C155.14,-94.01 140.21,-83.66 126.31,-74.02\"/>\n<polygon fill=\"black\" stroke=\"black\" points=\"128.01,-70.94 117.8,-68.13 124.02,-76.7 128.01,-70.94\"/>\n</g>\n<!-- 4 -->\n<g id=\"node5\" class=\"node\">\n<title>4</title>\n<path fill=\"#93f1ba\" stroke=\"black\" d=\"M286,-68C286,-68 170,-68 170,-68 164,-68 158,-62 158,-56 158,-56 158,-12 158,-12 158,-6 164,0 170,0 170,0 286,0 286,0 292,0 298,-6 298,-12 298,-12 298,-56 298,-56 298,-62 292,-68 286,-68\"/>\n<text text-anchor=\"start\" x=\"192.5\" y=\"-52.8\" font-family=\"Helvetica,sans-Serif\" font-size=\"14.00\">gini = 0.524</text>\n<text text-anchor=\"start\" x=\"183\" y=\"-37.8\" font-family=\"Helvetica,sans-Serif\" font-size=\"14.00\">samples = 217</text>\n<text text-anchor=\"start\" x=\"166\" y=\"-22.8\" font-family=\"Helvetica,sans-Serif\" font-size=\"14.00\">value = [33, 139, 45]</text>\n<text text-anchor=\"start\" x=\"201\" y=\"-7.8\" font-family=\"Helvetica,sans-Serif\" font-size=\"14.00\">class = y</text>\n</g>\n<!-- 2&#45;&gt;4 -->\n<g id=\"edge4\" class=\"edge\">\n<title>2&#45;&gt;4</title>\n<path fill=\"none\" stroke=\"black\" d=\"M228,-103.73C228,-95.52 228,-86.86 228,-78.56\"/>\n<polygon fill=\"black\" stroke=\"black\" points=\"231.5,-78.3 228,-68.3 224.5,-78.3 231.5,-78.3\"/>\n</g>\n<!-- 6 -->\n<g id=\"node7\" class=\"node\">\n<title>6</title>\n<path fill=\"#ccf8df\" stroke=\"black\" d=\"M436,-68C436,-68 328,-68 328,-68 322,-68 316,-62 316,-56 316,-56 316,-12 316,-12 316,-6 322,0 328,0 328,0 436,0 436,0 442,0 448,-6 448,-12 448,-12 448,-56 448,-56 448,-62 442,-68 436,-68\"/>\n<text text-anchor=\"start\" x=\"346.5\" y=\"-52.8\" font-family=\"Helvetica,sans-Serif\" font-size=\"14.00\">gini = 0.625</text>\n<text text-anchor=\"start\" x=\"337\" y=\"-37.8\" font-family=\"Helvetica,sans-Serif\" font-size=\"14.00\">samples = 158</text>\n<text text-anchor=\"start\" x=\"324\" y=\"-22.8\" font-family=\"Helvetica,sans-Serif\" font-size=\"14.00\">value = [32, 77, 49]</text>\n<text text-anchor=\"start\" x=\"355\" y=\"-7.8\" font-family=\"Helvetica,sans-Serif\" font-size=\"14.00\">class = y</text>\n</g>\n<!-- 5&#45;&gt;6 -->\n<g id=\"edge6\" class=\"edge\">\n<title>5&#45;&gt;6</title>\n<path fill=\"none\" stroke=\"black\" d=\"M432.84,-103.73C426.23,-94.79 419.22,-85.32 412.59,-76.36\"/>\n<polygon fill=\"black\" stroke=\"black\" points=\"415.39,-74.26 406.63,-68.3 409.77,-78.42 415.39,-74.26\"/>\n</g>\n<!-- 7 -->\n<g id=\"node8\" class=\"node\">\n<title>7</title>\n<path fill=\"#fef8f4\" stroke=\"black\" d=\"M594,-68C594,-68 478,-68 478,-68 472,-68 466,-62 466,-56 466,-56 466,-12 466,-12 466,-6 472,0 478,0 478,0 594,0 594,0 600,0 606,-6 606,-12 606,-12 606,-56 606,-56 606,-62 600,-68 594,-68\"/>\n<text text-anchor=\"start\" x=\"500.5\" y=\"-52.8\" font-family=\"Helvetica,sans-Serif\" font-size=\"14.00\">gini = 0.655</text>\n<text text-anchor=\"start\" x=\"491\" y=\"-37.8\" font-family=\"Helvetica,sans-Serif\" font-size=\"14.00\">samples = 274</text>\n<text text-anchor=\"start\" x=\"474\" y=\"-22.8\" font-family=\"Helvetica,sans-Serif\" font-size=\"14.00\">value = [108, 68, 98]</text>\n<text text-anchor=\"start\" x=\"508.5\" y=\"-7.8\" font-family=\"Helvetica,sans-Serif\" font-size=\"14.00\">class = T</text>\n</g>\n<!-- 5&#45;&gt;7 -->\n<g id=\"edge7\" class=\"edge\">\n<title>5&#45;&gt;7</title>\n<path fill=\"none\" stroke=\"black\" d=\"M490.18,-103.73C496.08,-94.88 502.33,-85.51 508.25,-76.63\"/>\n<polygon fill=\"black\" stroke=\"black\" points=\"511.17,-78.56 513.8,-68.3 505.34,-74.68 511.17,-78.56\"/>\n</g>\n<!-- 9 -->\n<g id=\"node10\" class=\"node\">\n<title>9</title>\n<path fill=\"#f1eafc\" stroke=\"black\" d=\"M828.5,-187C828.5,-187 697.5,-187 697.5,-187 691.5,-187 685.5,-181 685.5,-175 685.5,-175 685.5,-116 685.5,-116 685.5,-110 691.5,-104 697.5,-104 697.5,-104 828.5,-104 828.5,-104 834.5,-104 840.5,-110 840.5,-116 840.5,-116 840.5,-175 840.5,-175 840.5,-181 834.5,-187 828.5,-187\"/>\n<text text-anchor=\"start\" x=\"721\" y=\"-171.8\" font-family=\"Helvetica,sans-Serif\" font-size=\"14.00\">Rings ≤ 2.657</text>\n<text text-anchor=\"start\" x=\"727.5\" y=\"-156.8\" font-family=\"Helvetica,sans-Serif\" font-size=\"14.00\">gini = 0.655</text>\n<text text-anchor=\"start\" x=\"718\" y=\"-141.8\" font-family=\"Helvetica,sans-Serif\" font-size=\"14.00\">samples = 432</text>\n<text text-anchor=\"start\" x=\"693.5\" y=\"-126.8\" font-family=\"Helvetica,sans-Serif\" font-size=\"14.00\">value = [145, 111, 176]</text>\n<text text-anchor=\"start\" x=\"735.5\" y=\"-111.8\" font-family=\"Helvetica,sans-Serif\" font-size=\"14.00\">class = p</text>\n</g>\n<!-- 8&#45;&gt;9 -->\n<g id=\"edge9\" class=\"edge\">\n<title>8&#45;&gt;9</title>\n<path fill=\"none\" stroke=\"black\" d=\"M763,-222.91C763,-214.65 763,-205.86 763,-197.3\"/>\n<polygon fill=\"black\" stroke=\"black\" points=\"766.5,-197.02 763,-187.02 759.5,-197.02 766.5,-197.02\"/>\n</g>\n<!-- 12 -->\n<g id=\"node13\" class=\"node\">\n<title>12</title>\n<path fill=\"#f1e9fc\" stroke=\"black\" d=\"M1068,-187C1068,-187 932,-187 932,-187 926,-187 920,-181 920,-175 920,-175 920,-116 920,-116 920,-110 926,-104 932,-104 932,-104 1068,-104 1068,-104 1074,-104 1080,-110 1080,-116 1080,-116 1080,-175 1080,-175 1080,-181 1074,-187 1068,-187\"/>\n<text text-anchor=\"start\" x=\"928\" y=\"-171.8\" font-family=\"Helvetica,sans-Serif\" font-size=\"14.00\">ShuckedWeight ≤ 2.315</text>\n<text text-anchor=\"start\" x=\"964.5\" y=\"-156.8\" font-family=\"Helvetica,sans-Serif\" font-size=\"14.00\">gini = 0.542</text>\n<text text-anchor=\"start\" x=\"951.5\" y=\"-141.8\" font-family=\"Helvetica,sans-Serif\" font-size=\"14.00\">samples = 1256</text>\n<text text-anchor=\"start\" x=\"934.5\" y=\"-126.8\" font-family=\"Helvetica,sans-Serif\" font-size=\"14.00\">value = [559, 59, 638]</text>\n<text text-anchor=\"start\" x=\"972.5\" y=\"-111.8\" font-family=\"Helvetica,sans-Serif\" font-size=\"14.00\">class = p</text>\n</g>\n<!-- 8&#45;&gt;12 -->\n<g id=\"edge12\" class=\"edge\">\n<title>8&#45;&gt;12</title>\n<path fill=\"none\" stroke=\"black\" d=\"M840.6,-225.19C863.01,-214.13 887.64,-201.97 910.69,-190.59\"/>\n<polygon fill=\"black\" stroke=\"black\" points=\"912.37,-193.67 919.78,-186.1 909.27,-187.39 912.37,-193.67\"/>\n</g>\n<!-- 10 -->\n<g id=\"node11\" class=\"node\">\n<title>10</title>\n<path fill=\"#efe5fc\" stroke=\"black\" d=\"M767.5,-68C767.5,-68 636.5,-68 636.5,-68 630.5,-68 624.5,-62 624.5,-56 624.5,-56 624.5,-12 624.5,-12 624.5,-6 630.5,0 636.5,0 636.5,0 767.5,0 767.5,0 773.5,0 779.5,-6 779.5,-12 779.5,-12 779.5,-56 779.5,-56 779.5,-62 773.5,-68 767.5,-68\"/>\n<text text-anchor=\"start\" x=\"666.5\" y=\"-52.8\" font-family=\"Helvetica,sans-Serif\" font-size=\"14.00\">gini = 0.655</text>\n<text text-anchor=\"start\" x=\"657\" y=\"-37.8\" font-family=\"Helvetica,sans-Serif\" font-size=\"14.00\">samples = 426</text>\n<text text-anchor=\"start\" x=\"632.5\" y=\"-22.8\" font-family=\"Helvetica,sans-Serif\" font-size=\"14.00\">value = [139, 111, 176]</text>\n<text text-anchor=\"start\" x=\"674.5\" y=\"-7.8\" font-family=\"Helvetica,sans-Serif\" font-size=\"14.00\">class = p</text>\n</g>\n<!-- 9&#45;&gt;10 -->\n<g id=\"edge10\" class=\"edge\">\n<title>9&#45;&gt;10</title>\n<path fill=\"none\" stroke=\"black\" d=\"M740.29,-103.73C735.46,-95.06 730.35,-85.9 725.5,-77.18\"/>\n<polygon fill=\"black\" stroke=\"black\" points=\"728.47,-75.33 720.55,-68.3 722.36,-78.74 728.47,-75.33\"/>\n</g>\n<!-- 11 -->\n<g id=\"node12\" class=\"node\">\n<title>11</title>\n<path fill=\"#e58139\" stroke=\"black\" d=\"M896,-68C896,-68 810,-68 810,-68 804,-68 798,-62 798,-56 798,-56 798,-12 798,-12 798,-6 804,0 810,0 810,0 896,0 896,0 902,0 908,-6 908,-12 908,-12 908,-56 908,-56 908,-62 902,-68 896,-68\"/>\n<text text-anchor=\"start\" x=\"825\" y=\"-52.8\" font-family=\"Helvetica,sans-Serif\" font-size=\"14.00\">gini = 0.0</text>\n<text text-anchor=\"start\" x=\"815.5\" y=\"-37.8\" font-family=\"Helvetica,sans-Serif\" font-size=\"14.00\">samples = 6</text>\n<text text-anchor=\"start\" x=\"806\" y=\"-22.8\" font-family=\"Helvetica,sans-Serif\" font-size=\"14.00\">value = [6, 0, 0]</text>\n<text text-anchor=\"start\" x=\"825.5\" y=\"-7.8\" font-family=\"Helvetica,sans-Serif\" font-size=\"14.00\">class = T</text>\n</g>\n<!-- 9&#45;&gt;11 -->\n<g id=\"edge11\" class=\"edge\">\n<title>9&#45;&gt;11</title>\n<path fill=\"none\" stroke=\"black\" d=\"M796.51,-103.73C803.93,-94.7 811.8,-85.12 819.23,-76.08\"/>\n<polygon fill=\"black\" stroke=\"black\" points=\"821.98,-78.25 825.63,-68.3 816.58,-73.8 821.98,-78.25\"/>\n</g>\n<!-- 13 -->\n<g id=\"node14\" class=\"node\">\n<title>13</title>\n<path fill=\"#f6f1fd\" stroke=\"black\" d=\"M1061.5,-68C1061.5,-68 938.5,-68 938.5,-68 932.5,-68 926.5,-62 926.5,-56 926.5,-56 926.5,-12 926.5,-12 926.5,-6 932.5,0 938.5,0 938.5,0 1061.5,0 1061.5,0 1067.5,0 1073.5,-6 1073.5,-12 1073.5,-12 1073.5,-56 1073.5,-56 1073.5,-62 1067.5,-68 1061.5,-68\"/>\n<text text-anchor=\"start\" x=\"964.5\" y=\"-52.8\" font-family=\"Helvetica,sans-Serif\" font-size=\"14.00\">gini = 0.545</text>\n<text text-anchor=\"start\" x=\"951.5\" y=\"-37.8\" font-family=\"Helvetica,sans-Serif\" font-size=\"14.00\">samples = 1192</text>\n<text text-anchor=\"start\" x=\"934.5\" y=\"-22.8\" font-family=\"Helvetica,sans-Serif\" font-size=\"14.00\">value = [543, 59, 590]</text>\n<text text-anchor=\"start\" x=\"972.5\" y=\"-7.8\" font-family=\"Helvetica,sans-Serif\" font-size=\"14.00\">class = p</text>\n</g>\n<!-- 12&#45;&gt;13 -->\n<g id=\"edge13\" class=\"edge\">\n<title>12&#45;&gt;13</title>\n<path fill=\"none\" stroke=\"black\" d=\"M1000,-103.73C1000,-95.52 1000,-86.86 1000,-78.56\"/>\n<polygon fill=\"black\" stroke=\"black\" points=\"1003.5,-78.3 1000,-68.3 996.5,-78.3 1003.5,-78.3\"/>\n</g>\n<!-- 14 -->\n<g id=\"node15\" class=\"node\">\n<title>14</title>\n<path fill=\"#ab7bee\" stroke=\"black\" d=\"M1204.5,-68C1204.5,-68 1103.5,-68 1103.5,-68 1097.5,-68 1091.5,-62 1091.5,-56 1091.5,-56 1091.5,-12 1091.5,-12 1091.5,-6 1097.5,0 1103.5,0 1103.5,0 1204.5,0 1204.5,0 1210.5,0 1216.5,-6 1216.5,-12 1216.5,-12 1216.5,-56 1216.5,-56 1216.5,-62 1210.5,-68 1204.5,-68\"/>\n<text text-anchor=\"start\" x=\"1118.5\" y=\"-52.8\" font-family=\"Helvetica,sans-Serif\" font-size=\"14.00\">gini = 0.375</text>\n<text text-anchor=\"start\" x=\"1113\" y=\"-37.8\" font-family=\"Helvetica,sans-Serif\" font-size=\"14.00\">samples = 64</text>\n<text text-anchor=\"start\" x=\"1099.5\" y=\"-22.8\" font-family=\"Helvetica,sans-Serif\" font-size=\"14.00\">value = [16, 0, 48]</text>\n<text text-anchor=\"start\" x=\"1126.5\" y=\"-7.8\" font-family=\"Helvetica,sans-Serif\" font-size=\"14.00\">class = p</text>\n</g>\n<!-- 12&#45;&gt;14 -->\n<g id=\"edge14\" class=\"edge\">\n<title>12&#45;&gt;14</title>\n<path fill=\"none\" stroke=\"black\" d=\"M1057.34,-103.73C1070.94,-94.06 1085.41,-83.77 1098.91,-74.17\"/>\n<polygon fill=\"black\" stroke=\"black\" points=\"1101.05,-76.95 1107.17,-68.3 1096.99,-71.24 1101.05,-76.95\"/>\n</g>\n</g>\n</svg>\n",
            "text/plain": [
              "<graphviz.sources.Source at 0x7838e67dbbe0>"
            ]
          },
          "metadata": {},
          "execution_count": 48
        }
      ]
    },
    {
      "cell_type": "code",
      "source": [
        "# print to the output file\n",
        "print('**************************************************************', file = outputFile)\n",
        "print('(A) Classifier 1 - Base DT', file = outputFile)\n",
        "print(classifier_1, file = outputFile)\n",
        "print('\\n', file = outputFile)"
      ],
      "metadata": {
        "id": "sqRs0lp67Hmo"
      },
      "execution_count": 49,
      "outputs": []
    },
    {
      "cell_type": "code",
      "source": [
        "# print classification report\n",
        "y_pred = classifier_1.predict(X_test)\n",
        "confusion_mat= confusion_matrix(y_test, y_pred)\n",
        "\n",
        "print(classification_report(y_test, y_pred, target_names=['F', 'M', 'I']))\n",
        "print(\"confusion matrix\\n\",confusion_mat)\n",
        "\n",
        "# print the result to the output file\n",
        "confusion_matrix_result =np.array2string(confusion_mat)\n",
        "print(\"(B) Confusion Matrix\", file = outputFile)\n",
        "print(confusion_matrix_result, file = outputFile)\n",
        "print('\\n', file = outputFile)\n",
        "print('(C,D) Classification Report', file = outputFile)\n",
        "print(classification_report(y_test, y_pred, target_names = ['F', 'M', 'I']), file = outputFile)\n",
        "outputFile.flush()"
      ],
      "metadata": {
        "colab": {
          "base_uri": "https://localhost:8080/"
        },
        "id": "mDbdxqro7Hp4",
        "outputId": "e96697d3-a271-4f27-f6a5-f1972fb90082"
      },
      "execution_count": 50,
      "outputs": [
        {
          "output_type": "stream",
          "name": "stdout",
          "text": [
            "              precision    recall  f1-score   support\n",
            "\n",
            "           F       0.31      0.08      0.12       408\n",
            "           M       0.73      0.72      0.73       404\n",
            "           I       0.45      0.77      0.57       442\n",
            "\n",
            "    accuracy                           0.53      1254\n",
            "   macro avg       0.50      0.52      0.47      1254\n",
            "weighted avg       0.49      0.53      0.47      1254\n",
            "\n",
            "confusion matrix\n",
            " [[ 31  39 338]\n",
            " [ 34 291  79]\n",
            " [ 36  67 339]]\n"
          ]
        }
      ]
    },
    {
      "cell_type": "code",
      "source": [
        "# repeat training & prediction 5 times for classifier 1\n",
        "from sklearn.metrics import accuracy_score, f1_score\n",
        "\n",
        "accuracy_baseDT = np.zeros(5)\n",
        "macro_avg_baseDT = np.zeros(5)\n",
        "weighted_avg_baseDT = np.zeros(5)\n",
        "\n",
        "for i in range(5):\n",
        "  X_train, X_test, y_train, y_test = train_test_split(X, y, test_size = 0.3)\n",
        "  classifier_1.fit(X_train, y_train)\n",
        "  y_pred = classifier_1.predict(X_test)\n",
        "\n",
        "  # find the accuracy for each iteration and store the value\n",
        "  accuracy_baseDT[i] = accuracy_score(y_test, y_pred)\n",
        "  macro_avg_baseDT[i] = f1_score(y_test, y_pred, average='macro')\n",
        "  weighted_avg_baseDT[i] = f1_score(y_test, y_pred, average='weighted')\n",
        "\n",
        "# compute the average accuracy & variances\n",
        "print(f'accuracy_baseDT: {accuracy_baseDT}')\n",
        "Avg_accuracy = (np.sum(accuracy_baseDT))/5\n",
        "accuracy_variance = np.var(accuracy_baseDT)\n",
        "print(f'average accuracy: {Avg_accuracy}, variance: {accuracy_variance}')\n",
        "\n",
        "# compute the average macro-average F1 & the variance\n",
        "print(f'macro_avg_baseDT: {macro_avg_baseDT}')\n",
        "Avg_macro_avg = (np.sum(macro_avg_baseDT))/5\n",
        "f1_macro_variance = np.var(macro_avg_baseDT)\n",
        "print(f'average macro-average F1: {Avg_macro_avg}, variance: {f1_macro_variance}')\n",
        "\n",
        "# compute the average weighted-average F1 & the variance\n",
        "print(f'weighted_avg_baseDT: {weighted_avg_baseDT}')\n",
        "Avg_weighted_avg = (np.sum(weighted_avg_baseDT))/5\n",
        "f1_weighted_variance = np.var(weighted_avg_baseDT)\n",
        "print(f'average weighted-average F1: {Avg_weighted_avg}, variance: {f1_weighted_variance}')"
      ],
      "metadata": {
        "id": "YukiqSwdC21P",
        "outputId": "ec1a3986-7752-41cc-9a77-fc4c8d606783",
        "colab": {
          "base_uri": "https://localhost:8080/"
        }
      },
      "execution_count": 51,
      "outputs": [
        {
          "output_type": "stream",
          "name": "stdout",
          "text": [
            "accuracy_baseDT: [0.53269537 0.52551834 0.54066986 0.51754386 0.523126  ]\n",
            "average accuracy: 0.5279106858054226, variance: 6.435546601751603e-05\n",
            "macro_avg_baseDT: [0.52453398 0.50896013 0.49054539 0.47413426 0.43096837]\n",
            "average macro-average F1: 0.4858284277004519, variance: 0.0010403648423087154\n",
            "weighted_avg_baseDT: [0.5257639  0.51089243 0.49723155 0.46762786 0.42771253]\n",
            "average weighted-average F1: 0.48584565543194164, variance: 0.001212358675986716\n"
          ]
        }
      ]
    },
    {
      "cell_type": "code",
      "source": [
        "# print the performance result to outputfile\n",
        "print('\\n(E) The result after 5 times of train-test repetition:' ,file = outputFile)\n",
        "print(f'average accuracy: {Avg_accuracy}, variance: {accuracy_variance}', file = outputFile)\n",
        "print(f'average macro-average F1: {Avg_macro_avg}, variance: {f1_macro_variance}', file = outputFile)\n",
        "print(f'average weighted-average F1: {Avg_weighted_avg}, variance: {f1_weighted_variance}', file = outputFile)\n",
        "outputFile.flush()"
      ],
      "metadata": {
        "id": "6BXzFhCxZ8s1"
      },
      "execution_count": 52,
      "outputs": []
    },
    {
      "cell_type": "markdown",
      "source": [
        "##### Classifier 2 - Top-DT"
      ],
      "metadata": {
        "id": "ZbIYwUPH2zO6"
      }
    },
    {
      "cell_type": "code",
      "source": [
        "# Top Decision Tree - decision tree using gridsearch(hyperparameter search)\n",
        "from sklearn.model_selection import GridSearchCV\n",
        "\n",
        "parameters = {\n",
        "    'criterion': ['gini', 'entropy'],\n",
        "    'max_depth': [None, 3, 5],\n",
        "    'min_samples_split': [2, 5, 10]\n",
        "}\n",
        "\n",
        "classifier_2 = GridSearchCV(DecisionTreeClassifier(max_depth=3), parameters)\n",
        "classifier_2.fit(X_train, y_train)\n",
        "\n",
        "print(f'best parameters: {classifier_2.best_params_}')"
      ],
      "metadata": {
        "id": "msSsfbO7m2rW",
        "colab": {
          "base_uri": "https://localhost:8080/"
        },
        "outputId": "8352507d-2a07-4358-bc8d-18cd06572296"
      },
      "execution_count": 53,
      "outputs": [
        {
          "output_type": "stream",
          "name": "stdout",
          "text": [
            "best parameters: {'criterion': 'gini', 'max_depth': 5, 'min_samples_split': 10}\n"
          ]
        }
      ]
    },
    {
      "cell_type": "code",
      "source": [
        "abalone_class = data_abalone.columns[0]\n",
        "abalone_features = list(data_abalone.columns[1:])"
      ],
      "metadata": {
        "id": "6AYbwpuhBO2m"
      },
      "execution_count": 54,
      "outputs": []
    },
    {
      "cell_type": "code",
      "source": [
        "from sklearn.tree import export_graphviz\n",
        "from IPython.display import display\n",
        "\n",
        "dot_data = export_graphviz(classifier_2.best_estimator_,\n",
        "                          feature_names=abalone_features,\n",
        "                          class_names=abalone_class,\n",
        "                          filled=True, rounded=True,\n",
        "                          special_characters=True)\n",
        "\n",
        "graph = graphviz.Source(dot_data)\n",
        "display(graph)"
      ],
      "metadata": {
        "id": "fGFf6Sbj8BW-",
        "outputId": "8b95a6ad-29f5-4906-9886-14d98e70ba89",
        "colab": {
          "base_uri": "https://localhost:8080/",
          "height": 936
        }
      },
      "execution_count": 55,
      "outputs": [
        {
          "output_type": "display_data",
          "data": {
            "image/svg+xml": "<?xml version=\"1.0\" encoding=\"UTF-8\" standalone=\"no\"?>\n<!DOCTYPE svg PUBLIC \"-//W3C//DTD SVG 1.1//EN\"\n \"http://www.w3.org/Graphics/SVG/1.1/DTD/svg11.dtd\">\n<!-- Generated by graphviz version 2.43.0 (0)\n -->\n<!-- Title: Tree Pages: 1 -->\n<svg width=\"3982pt\" height=\"671pt\"\n viewBox=\"0.00 0.00 3981.50 671.00\" xmlns=\"http://www.w3.org/2000/svg\" xmlns:xlink=\"http://www.w3.org/1999/xlink\">\n<g id=\"graph0\" class=\"graph\" transform=\"scale(1 1) rotate(0) translate(4 667)\">\n<title>Tree</title>\n<polygon fill=\"white\" stroke=\"transparent\" points=\"-4,4 -4,-667 3977.5,-667 3977.5,4 -4,4\"/>\n<!-- 0 -->\n<g id=\"node1\" class=\"node\">\n<title>0</title>\n<path fill=\"#f6f1fd\" stroke=\"black\" d=\"M1959,-663C1959,-663 1821,-663 1821,-663 1815,-663 1809,-657 1809,-651 1809,-651 1809,-592 1809,-592 1809,-586 1815,-580 1821,-580 1821,-580 1959,-580 1959,-580 1965,-580 1971,-586 1971,-592 1971,-592 1971,-651 1971,-651 1971,-657 1965,-663 1959,-663\"/>\n<text text-anchor=\"start\" x=\"1819.5\" y=\"-647.8\" font-family=\"Helvetica,sans-Serif\" font-size=\"14.00\">VisceraWeight ≤ &#45;0.286</text>\n<text text-anchor=\"start\" x=\"1854.5\" y=\"-632.8\" font-family=\"Helvetica,sans-Serif\" font-size=\"14.00\">gini = 0.664</text>\n<text text-anchor=\"start\" x=\"1841.5\" y=\"-617.8\" font-family=\"Helvetica,sans-Serif\" font-size=\"14.00\">samples = 2923</text>\n<text text-anchor=\"start\" x=\"1817\" y=\"-602.8\" font-family=\"Helvetica,sans-Serif\" font-size=\"14.00\">value = [888, 946, 1089]</text>\n<text text-anchor=\"start\" x=\"1862.5\" y=\"-587.8\" font-family=\"Helvetica,sans-Serif\" font-size=\"14.00\">class = p</text>\n</g>\n<!-- 1 -->\n<g id=\"node2\" class=\"node\">\n<title>1</title>\n<path fill=\"#98f1bd\" stroke=\"black\" d=\"M1452.5,-544C1452.5,-544 1321.5,-544 1321.5,-544 1315.5,-544 1309.5,-538 1309.5,-532 1309.5,-532 1309.5,-473 1309.5,-473 1309.5,-467 1315.5,-461 1321.5,-461 1321.5,-461 1452.5,-461 1452.5,-461 1458.5,-461 1464.5,-467 1464.5,-473 1464.5,-473 1464.5,-532 1464.5,-532 1464.5,-538 1458.5,-544 1452.5,-544\"/>\n<text text-anchor=\"start\" x=\"1343\" y=\"-528.8\" font-family=\"Helvetica,sans-Serif\" font-size=\"14.00\">Rings ≤ &#45;0.445</text>\n<text text-anchor=\"start\" x=\"1351.5\" y=\"-513.8\" font-family=\"Helvetica,sans-Serif\" font-size=\"14.00\">gini = 0.534</text>\n<text text-anchor=\"start\" x=\"1338.5\" y=\"-498.8\" font-family=\"Helvetica,sans-Serif\" font-size=\"14.00\">samples = 1264</text>\n<text text-anchor=\"start\" x=\"1317.5\" y=\"-483.8\" font-family=\"Helvetica,sans-Serif\" font-size=\"14.00\">value = [190, 793, 281]</text>\n<text text-anchor=\"start\" x=\"1360\" y=\"-468.8\" font-family=\"Helvetica,sans-Serif\" font-size=\"14.00\">class = y</text>\n</g>\n<!-- 0&#45;&gt;1 -->\n<g id=\"edge1\" class=\"edge\">\n<title>0&#45;&gt;1</title>\n<path fill=\"none\" stroke=\"black\" d=\"M1808.91,-601.64C1717.25,-580.32 1568.6,-545.74 1474.42,-523.83\"/>\n<polygon fill=\"black\" stroke=\"black\" points=\"1475.16,-520.41 1464.63,-521.56 1473.58,-527.23 1475.16,-520.41\"/>\n<text text-anchor=\"middle\" x=\"1477.84\" y=\"-539.08\" font-family=\"Helvetica,sans-Serif\" font-size=\"14.00\">True</text>\n</g>\n<!-- 30 -->\n<g id=\"node31\" class=\"node\">\n<title>30</title>\n<path fill=\"#f1e8fc\" stroke=\"black\" d=\"M2641.5,-544C2641.5,-544 2510.5,-544 2510.5,-544 2504.5,-544 2498.5,-538 2498.5,-532 2498.5,-532 2498.5,-473 2498.5,-473 2498.5,-467 2504.5,-461 2510.5,-461 2510.5,-461 2641.5,-461 2641.5,-461 2647.5,-461 2653.5,-467 2653.5,-473 2653.5,-473 2653.5,-532 2653.5,-532 2653.5,-538 2647.5,-544 2641.5,-544\"/>\n<text text-anchor=\"start\" x=\"2511\" y=\"-528.8\" font-family=\"Helvetica,sans-Serif\" font-size=\"14.00\">WholeWeight ≤ 0.238</text>\n<text text-anchor=\"start\" x=\"2540.5\" y=\"-513.8\" font-family=\"Helvetica,sans-Serif\" font-size=\"14.00\">gini = 0.577</text>\n<text text-anchor=\"start\" x=\"2527.5\" y=\"-498.8\" font-family=\"Helvetica,sans-Serif\" font-size=\"14.00\">samples = 1659</text>\n<text text-anchor=\"start\" x=\"2506.5\" y=\"-483.8\" font-family=\"Helvetica,sans-Serif\" font-size=\"14.00\">value = [698, 153, 808]</text>\n<text text-anchor=\"start\" x=\"2548.5\" y=\"-468.8\" font-family=\"Helvetica,sans-Serif\" font-size=\"14.00\">class = p</text>\n</g>\n<!-- 0&#45;&gt;30 -->\n<g id=\"edge30\" class=\"edge\">\n<title>0&#45;&gt;30</title>\n<path fill=\"none\" stroke=\"black\" d=\"M1971.05,-606.68C2100.8,-584.55 2354.14,-541.34 2488.1,-518.49\"/>\n<polygon fill=\"black\" stroke=\"black\" points=\"2489.05,-521.88 2498.32,-516.75 2487.87,-514.98 2489.05,-521.88\"/>\n<text text-anchor=\"middle\" x=\"2483.87\" y=\"-533.45\" font-family=\"Helvetica,sans-Serif\" font-size=\"14.00\">False</text>\n</g>\n<!-- 2 -->\n<g id=\"node3\" class=\"node\">\n<title>2</title>\n<path fill=\"#6feca3\" stroke=\"black\" d=\"M741.5,-425C741.5,-425 608.5,-425 608.5,-425 602.5,-425 596.5,-419 596.5,-413 596.5,-413 596.5,-354 596.5,-354 596.5,-348 602.5,-342 608.5,-342 608.5,-342 741.5,-342 741.5,-342 747.5,-342 753.5,-348 753.5,-354 753.5,-354 753.5,-413 753.5,-413 753.5,-419 747.5,-425 741.5,-425\"/>\n<text text-anchor=\"start\" x=\"604.5\" y=\"-409.8\" font-family=\"Helvetica,sans-Serif\" font-size=\"14.00\">VisceraWeight ≤ &#45;0.797</text>\n<text text-anchor=\"start\" x=\"639.5\" y=\"-394.8\" font-family=\"Helvetica,sans-Serif\" font-size=\"14.00\">gini = 0.376</text>\n<text text-anchor=\"start\" x=\"630\" y=\"-379.8\" font-family=\"Helvetica,sans-Serif\" font-size=\"14.00\">samples = 816</text>\n<text text-anchor=\"start\" x=\"609.5\" y=\"-364.8\" font-family=\"Helvetica,sans-Serif\" font-size=\"14.00\">value = [61, 629, 126]</text>\n<text text-anchor=\"start\" x=\"648\" y=\"-349.8\" font-family=\"Helvetica,sans-Serif\" font-size=\"14.00\">class = y</text>\n</g>\n<!-- 1&#45;&gt;2 -->\n<g id=\"edge2\" class=\"edge\">\n<title>1&#45;&gt;2</title>\n<path fill=\"none\" stroke=\"black\" d=\"M1309.45,-488.76C1176.05,-466.84 903.98,-422.13 763.43,-399.03\"/>\n<polygon fill=\"black\" stroke=\"black\" points=\"763.98,-395.57 753.54,-397.41 762.84,-402.48 763.98,-395.57\"/>\n</g>\n<!-- 15 -->\n<g id=\"node16\" class=\"node\">\n<title>15</title>\n<path fill=\"#f9fefb\" stroke=\"black\" d=\"M1452.5,-425C1452.5,-425 1321.5,-425 1321.5,-425 1315.5,-425 1309.5,-419 1309.5,-413 1309.5,-413 1309.5,-354 1309.5,-354 1309.5,-348 1315.5,-342 1321.5,-342 1321.5,-342 1452.5,-342 1452.5,-342 1458.5,-342 1464.5,-348 1464.5,-354 1464.5,-354 1464.5,-413 1464.5,-413 1464.5,-419 1458.5,-425 1452.5,-425\"/>\n<text text-anchor=\"start\" x=\"1343\" y=\"-409.8\" font-family=\"Helvetica,sans-Serif\" font-size=\"14.00\">Rings ≤ &#45;0.135</text>\n<text text-anchor=\"start\" x=\"1351.5\" y=\"-394.8\" font-family=\"Helvetica,sans-Serif\" font-size=\"14.00\">gini = 0.663</text>\n<text text-anchor=\"start\" x=\"1342\" y=\"-379.8\" font-family=\"Helvetica,sans-Serif\" font-size=\"14.00\">samples = 448</text>\n<text text-anchor=\"start\" x=\"1317.5\" y=\"-364.8\" font-family=\"Helvetica,sans-Serif\" font-size=\"14.00\">value = [129, 164, 155]</text>\n<text text-anchor=\"start\" x=\"1360\" y=\"-349.8\" font-family=\"Helvetica,sans-Serif\" font-size=\"14.00\">class = y</text>\n</g>\n<!-- 1&#45;&gt;15 -->\n<g id=\"edge15\" class=\"edge\">\n<title>1&#45;&gt;15</title>\n<path fill=\"none\" stroke=\"black\" d=\"M1387,-460.91C1387,-452.65 1387,-443.86 1387,-435.3\"/>\n<polygon fill=\"black\" stroke=\"black\" points=\"1390.5,-435.02 1387,-425.02 1383.5,-435.02 1390.5,-435.02\"/>\n</g>\n<!-- 3 -->\n<g id=\"node4\" class=\"node\">\n<title>3</title>\n<path fill=\"#5eea98\" stroke=\"black\" d=\"M464,-306C464,-306 348,-306 348,-306 342,-306 336,-300 336,-294 336,-294 336,-235 336,-235 336,-229 342,-223 348,-223 348,-223 464,-223 464,-223 470,-223 476,-229 476,-235 476,-235 476,-294 476,-294 476,-300 470,-306 464,-306\"/>\n<text text-anchor=\"start\" x=\"359.5\" y=\"-290.8\" font-family=\"Helvetica,sans-Serif\" font-size=\"14.00\">Height ≤ &#45;0.646</text>\n<text text-anchor=\"start\" x=\"370.5\" y=\"-275.8\" font-family=\"Helvetica,sans-Serif\" font-size=\"14.00\">gini = 0.284</text>\n<text text-anchor=\"start\" x=\"361\" y=\"-260.8\" font-family=\"Helvetica,sans-Serif\" font-size=\"14.00\">samples = 599</text>\n<text text-anchor=\"start\" x=\"344\" y=\"-245.8\" font-family=\"Helvetica,sans-Serif\" font-size=\"14.00\">value = [25, 501, 73]</text>\n<text text-anchor=\"start\" x=\"379\" y=\"-230.8\" font-family=\"Helvetica,sans-Serif\" font-size=\"14.00\">class = y</text>\n</g>\n<!-- 2&#45;&gt;3 -->\n<g id=\"edge3\" class=\"edge\">\n<title>2&#45;&gt;3</title>\n<path fill=\"none\" stroke=\"black\" d=\"M596.47,-348.34C561.59,-333.17 520.61,-315.35 485.6,-300.12\"/>\n<polygon fill=\"black\" stroke=\"black\" points=\"486.94,-296.89 476.37,-296.11 484.15,-303.31 486.94,-296.89\"/>\n</g>\n<!-- 10 -->\n<g id=\"node11\" class=\"node\">\n<title>10</title>\n<path fill=\"#a4f3c5\" stroke=\"black\" d=\"M745,-306C745,-306 605,-306 605,-306 599,-306 593,-300 593,-294 593,-294 593,-235 593,-235 593,-229 599,-223 605,-223 605,-223 745,-223 745,-223 751,-223 757,-229 757,-235 757,-235 757,-294 757,-294 757,-300 751,-306 745,-306\"/>\n<text text-anchor=\"start\" x=\"601\" y=\"-290.8\" font-family=\"Helvetica,sans-Serif\" font-size=\"14.00\">ShuckedWeight ≤ &#45;0.917</text>\n<text text-anchor=\"start\" x=\"639.5\" y=\"-275.8\" font-family=\"Helvetica,sans-Serif\" font-size=\"14.00\">gini = 0.565</text>\n<text text-anchor=\"start\" x=\"630\" y=\"-260.8\" font-family=\"Helvetica,sans-Serif\" font-size=\"14.00\">samples = 217</text>\n<text text-anchor=\"start\" x=\"613\" y=\"-245.8\" font-family=\"Helvetica,sans-Serif\" font-size=\"14.00\">value = [36, 128, 53]</text>\n<text text-anchor=\"start\" x=\"648\" y=\"-230.8\" font-family=\"Helvetica,sans-Serif\" font-size=\"14.00\">class = y</text>\n</g>\n<!-- 2&#45;&gt;10 -->\n<g id=\"edge10\" class=\"edge\">\n<title>2&#45;&gt;10</title>\n<path fill=\"none\" stroke=\"black\" d=\"M675,-341.91C675,-333.65 675,-324.86 675,-316.3\"/>\n<polygon fill=\"black\" stroke=\"black\" points=\"678.5,-316.02 675,-306.02 671.5,-316.02 678.5,-316.02\"/>\n</g>\n<!-- 4 -->\n<g id=\"node5\" class=\"node\">\n<title>4</title>\n<path fill=\"#5be996\" stroke=\"black\" d=\"M282,-187C282,-187 166,-187 166,-187 160,-187 154,-181 154,-175 154,-175 154,-116 154,-116 154,-110 160,-104 166,-104 166,-104 282,-104 282,-104 288,-104 294,-110 294,-116 294,-116 294,-175 294,-175 294,-181 288,-187 282,-187\"/>\n<text text-anchor=\"start\" x=\"169.5\" y=\"-171.8\" font-family=\"Helvetica,sans-Serif\" font-size=\"14.00\">Diameter ≤ &#45;1.415</text>\n<text text-anchor=\"start\" x=\"188.5\" y=\"-156.8\" font-family=\"Helvetica,sans-Serif\" font-size=\"14.00\">gini = 0.262</text>\n<text text-anchor=\"start\" x=\"179\" y=\"-141.8\" font-family=\"Helvetica,sans-Serif\" font-size=\"14.00\">samples = 541</text>\n<text text-anchor=\"start\" x=\"162\" y=\"-126.8\" font-family=\"Helvetica,sans-Serif\" font-size=\"14.00\">value = [18, 460, 63]</text>\n<text text-anchor=\"start\" x=\"197\" y=\"-111.8\" font-family=\"Helvetica,sans-Serif\" font-size=\"14.00\">class = y</text>\n</g>\n<!-- 3&#45;&gt;4 -->\n<g id=\"edge4\" class=\"edge\">\n<title>3&#45;&gt;4</title>\n<path fill=\"none\" stroke=\"black\" d=\"M342.86,-222.91C327.61,-213.11 311.21,-202.56 295.61,-192.53\"/>\n<polygon fill=\"black\" stroke=\"black\" points=\"297.34,-189.48 287.03,-187.02 293.55,-195.37 297.34,-189.48\"/>\n</g>\n<!-- 7 -->\n<g id=\"node8\" class=\"node\">\n<title>7</title>\n<path fill=\"#7feeae\" stroke=\"black\" d=\"M456.5,-187C456.5,-187 355.5,-187 355.5,-187 349.5,-187 343.5,-181 343.5,-175 343.5,-175 343.5,-116 343.5,-116 343.5,-110 349.5,-104 355.5,-104 355.5,-104 456.5,-104 456.5,-104 462.5,-104 468.5,-110 468.5,-116 468.5,-116 468.5,-175 468.5,-175 468.5,-181 462.5,-187 456.5,-187\"/>\n<text text-anchor=\"start\" x=\"351.5\" y=\"-171.8\" font-family=\"Helvetica,sans-Serif\" font-size=\"14.00\">Diameter ≤ &#45;0.357</text>\n<text text-anchor=\"start\" x=\"370.5\" y=\"-156.8\" font-family=\"Helvetica,sans-Serif\" font-size=\"14.00\">gini = 0.456</text>\n<text text-anchor=\"start\" x=\"365\" y=\"-141.8\" font-family=\"Helvetica,sans-Serif\" font-size=\"14.00\">samples = 58</text>\n<text text-anchor=\"start\" x=\"351.5\" y=\"-126.8\" font-family=\"Helvetica,sans-Serif\" font-size=\"14.00\">value = [7, 41, 10]</text>\n<text text-anchor=\"start\" x=\"379\" y=\"-111.8\" font-family=\"Helvetica,sans-Serif\" font-size=\"14.00\">class = y</text>\n</g>\n<!-- 3&#45;&gt;7 -->\n<g id=\"edge7\" class=\"edge\">\n<title>3&#45;&gt;7</title>\n<path fill=\"none\" stroke=\"black\" d=\"M406,-222.91C406,-214.65 406,-205.86 406,-197.3\"/>\n<polygon fill=\"black\" stroke=\"black\" points=\"409.5,-197.02 406,-187.02 402.5,-197.02 409.5,-197.02\"/>\n</g>\n<!-- 5 -->\n<g id=\"node6\" class=\"node\">\n<title>5</title>\n<path fill=\"#67eb9e\" stroke=\"black\" d=\"M128,-68C128,-68 12,-68 12,-68 6,-68 0,-62 0,-56 0,-56 0,-12 0,-12 0,-6 6,0 12,0 12,0 128,0 128,0 134,0 140,-6 140,-12 140,-12 140,-56 140,-56 140,-62 134,-68 128,-68\"/>\n<text text-anchor=\"start\" x=\"34.5\" y=\"-52.8\" font-family=\"Helvetica,sans-Serif\" font-size=\"14.00\">gini = 0.324</text>\n<text text-anchor=\"start\" x=\"25\" y=\"-37.8\" font-family=\"Helvetica,sans-Serif\" font-size=\"14.00\">samples = 283</text>\n<text text-anchor=\"start\" x=\"8\" y=\"-22.8\" font-family=\"Helvetica,sans-Serif\" font-size=\"14.00\">value = [10, 228, 45]</text>\n<text text-anchor=\"start\" x=\"43\" y=\"-7.8\" font-family=\"Helvetica,sans-Serif\" font-size=\"14.00\">class = y</text>\n</g>\n<!-- 4&#45;&gt;5 -->\n<g id=\"edge5\" class=\"edge\">\n<title>4&#45;&gt;5</title>\n<path fill=\"none\" stroke=\"black\" d=\"M166.66,-103.73C153.06,-94.06 138.59,-83.77 125.09,-74.17\"/>\n<polygon fill=\"black\" stroke=\"black\" points=\"127.01,-71.24 116.83,-68.3 122.95,-76.95 127.01,-71.24\"/>\n</g>\n<!-- 6 -->\n<g id=\"node7\" class=\"node\">\n<title>6</title>\n<path fill=\"#4ee88f\" stroke=\"black\" d=\"M278,-68C278,-68 170,-68 170,-68 164,-68 158,-62 158,-56 158,-56 158,-12 158,-12 158,-6 164,0 170,0 170,0 278,0 278,0 284,0 290,-6 290,-12 290,-12 290,-56 290,-56 290,-62 284,-68 278,-68\"/>\n<text text-anchor=\"start\" x=\"188.5\" y=\"-52.8\" font-family=\"Helvetica,sans-Serif\" font-size=\"14.00\">gini = 0.186</text>\n<text text-anchor=\"start\" x=\"179\" y=\"-37.8\" font-family=\"Helvetica,sans-Serif\" font-size=\"14.00\">samples = 258</text>\n<text text-anchor=\"start\" x=\"166\" y=\"-22.8\" font-family=\"Helvetica,sans-Serif\" font-size=\"14.00\">value = [8, 232, 18]</text>\n<text text-anchor=\"start\" x=\"197\" y=\"-7.8\" font-family=\"Helvetica,sans-Serif\" font-size=\"14.00\">class = y</text>\n</g>\n<!-- 4&#45;&gt;6 -->\n<g id=\"edge6\" class=\"edge\">\n<title>4&#45;&gt;6</title>\n<path fill=\"none\" stroke=\"black\" d=\"M224,-103.73C224,-95.52 224,-86.86 224,-78.56\"/>\n<polygon fill=\"black\" stroke=\"black\" points=\"227.5,-78.3 224,-68.3 220.5,-78.3 227.5,-78.3\"/>\n</g>\n<!-- 8 -->\n<g id=\"node9\" class=\"node\">\n<title>8</title>\n<path fill=\"#75eda7\" stroke=\"black\" d=\"M413.5,-68C413.5,-68 320.5,-68 320.5,-68 314.5,-68 308.5,-62 308.5,-56 308.5,-56 308.5,-12 308.5,-12 308.5,-6 314.5,0 320.5,0 320.5,0 413.5,0 413.5,0 419.5,0 425.5,-6 425.5,-12 425.5,-12 425.5,-56 425.5,-56 425.5,-62 419.5,-68 413.5,-68\"/>\n<text text-anchor=\"start\" x=\"331.5\" y=\"-52.8\" font-family=\"Helvetica,sans-Serif\" font-size=\"14.00\">gini = 0.409</text>\n<text text-anchor=\"start\" x=\"326\" y=\"-37.8\" font-family=\"Helvetica,sans-Serif\" font-size=\"14.00\">samples = 55</text>\n<text text-anchor=\"start\" x=\"316.5\" y=\"-22.8\" font-family=\"Helvetica,sans-Serif\" font-size=\"14.00\">value = [5, 41, 9]</text>\n<text text-anchor=\"start\" x=\"340\" y=\"-7.8\" font-family=\"Helvetica,sans-Serif\" font-size=\"14.00\">class = y</text>\n</g>\n<!-- 7&#45;&gt;8 -->\n<g id=\"edge8\" class=\"edge\">\n<title>7&#45;&gt;8</title>\n<path fill=\"none\" stroke=\"black\" d=\"M391.48,-103.73C388.46,-95.24 385.26,-86.28 382.22,-77.73\"/>\n<polygon fill=\"black\" stroke=\"black\" points=\"385.51,-76.55 378.86,-68.3 378.92,-78.89 385.51,-76.55\"/>\n</g>\n<!-- 9 -->\n<g id=\"node10\" class=\"node\">\n<title>9</title>\n<path fill=\"#f2c09c\" stroke=\"black\" d=\"M542,-68C542,-68 456,-68 456,-68 450,-68 444,-62 444,-56 444,-56 444,-12 444,-12 444,-6 450,0 456,0 456,0 542,0 542,0 548,0 554,-6 554,-12 554,-12 554,-56 554,-56 554,-62 548,-68 542,-68\"/>\n<text text-anchor=\"start\" x=\"463.5\" y=\"-52.8\" font-family=\"Helvetica,sans-Serif\" font-size=\"14.00\">gini = 0.444</text>\n<text text-anchor=\"start\" x=\"461.5\" y=\"-37.8\" font-family=\"Helvetica,sans-Serif\" font-size=\"14.00\">samples = 3</text>\n<text text-anchor=\"start\" x=\"452\" y=\"-22.8\" font-family=\"Helvetica,sans-Serif\" font-size=\"14.00\">value = [2, 0, 1]</text>\n<text text-anchor=\"start\" x=\"471.5\" y=\"-7.8\" font-family=\"Helvetica,sans-Serif\" font-size=\"14.00\">class = T</text>\n</g>\n<!-- 7&#45;&gt;9 -->\n<g id=\"edge9\" class=\"edge\">\n<title>7&#45;&gt;9</title>\n<path fill=\"none\" stroke=\"black\" d=\"M440.63,-103.73C448.3,-94.7 456.43,-85.12 464.11,-76.08\"/>\n<polygon fill=\"black\" stroke=\"black\" points=\"466.91,-78.19 470.72,-68.3 461.58,-73.66 466.91,-78.19\"/>\n</g>\n<!-- 11 -->\n<g id=\"node12\" class=\"node\">\n<title>11</title>\n<path fill=\"#eca572\" stroke=\"black\" d=\"M646,-179.5C646,-179.5 560,-179.5 560,-179.5 554,-179.5 548,-173.5 548,-167.5 548,-167.5 548,-123.5 548,-123.5 548,-117.5 554,-111.5 560,-111.5 560,-111.5 646,-111.5 646,-111.5 652,-111.5 658,-117.5 658,-123.5 658,-123.5 658,-167.5 658,-167.5 658,-173.5 652,-179.5 646,-179.5\"/>\n<text text-anchor=\"start\" x=\"567.5\" y=\"-164.3\" font-family=\"Helvetica,sans-Serif\" font-size=\"14.00\">gini = 0.406</text>\n<text text-anchor=\"start\" x=\"565.5\" y=\"-149.3\" font-family=\"Helvetica,sans-Serif\" font-size=\"14.00\">samples = 8</text>\n<text text-anchor=\"start\" x=\"556\" y=\"-134.3\" font-family=\"Helvetica,sans-Serif\" font-size=\"14.00\">value = [6, 1, 1]</text>\n<text text-anchor=\"start\" x=\"575.5\" y=\"-119.3\" font-family=\"Helvetica,sans-Serif\" font-size=\"14.00\">class = T</text>\n</g>\n<!-- 10&#45;&gt;11 -->\n<g id=\"edge11\" class=\"edge\">\n<title>10&#45;&gt;11</title>\n<path fill=\"none\" stroke=\"black\" d=\"M650.02,-222.91C643.16,-211.76 635.71,-199.66 628.81,-188.44\"/>\n<polygon fill=\"black\" stroke=\"black\" points=\"631.63,-186.35 623.41,-179.67 625.67,-190.02 631.63,-186.35\"/>\n</g>\n<!-- 12 -->\n<g id=\"node13\" class=\"node\">\n<title>12</title>\n<path fill=\"#a0f3c3\" stroke=\"black\" d=\"M806,-187C806,-187 688,-187 688,-187 682,-187 676,-181 676,-175 676,-175 676,-116 676,-116 676,-110 682,-104 688,-104 688,-104 806,-104 806,-104 812,-104 818,-110 818,-116 818,-116 818,-175 818,-175 818,-181 812,-187 806,-187\"/>\n<text text-anchor=\"start\" x=\"684\" y=\"-171.8\" font-family=\"Helvetica,sans-Serif\" font-size=\"14.00\">ShellWeight ≤ &#45;0.793</text>\n<text text-anchor=\"start\" x=\"711.5\" y=\"-156.8\" font-family=\"Helvetica,sans-Serif\" font-size=\"14.00\">gini = 0.548</text>\n<text text-anchor=\"start\" x=\"702\" y=\"-141.8\" font-family=\"Helvetica,sans-Serif\" font-size=\"14.00\">samples = 209</text>\n<text text-anchor=\"start\" x=\"685\" y=\"-126.8\" font-family=\"Helvetica,sans-Serif\" font-size=\"14.00\">value = [30, 127, 52]</text>\n<text text-anchor=\"start\" x=\"720\" y=\"-111.8\" font-family=\"Helvetica,sans-Serif\" font-size=\"14.00\">class = y</text>\n</g>\n<!-- 10&#45;&gt;12 -->\n<g id=\"edge12\" class=\"edge\">\n<title>10&#45;&gt;12</title>\n<path fill=\"none\" stroke=\"black\" d=\"M699.98,-222.91C705.4,-214.1 711.18,-204.7 716.78,-195.61\"/>\n<polygon fill=\"black\" stroke=\"black\" points=\"719.8,-197.37 722.06,-187.02 713.84,-193.7 719.8,-197.37\"/>\n</g>\n<!-- 13 -->\n<g id=\"node14\" class=\"node\">\n<title>13</title>\n<path fill=\"#70eca4\" stroke=\"black\" d=\"M677.5,-68C677.5,-68 584.5,-68 584.5,-68 578.5,-68 572.5,-62 572.5,-56 572.5,-56 572.5,-12 572.5,-12 572.5,-6 578.5,0 584.5,0 584.5,0 677.5,0 677.5,0 683.5,0 689.5,-6 689.5,-12 689.5,-12 689.5,-56 689.5,-56 689.5,-62 683.5,-68 677.5,-68\"/>\n<text text-anchor=\"start\" x=\"595.5\" y=\"-52.8\" font-family=\"Helvetica,sans-Serif\" font-size=\"14.00\">gini = 0.386</text>\n<text text-anchor=\"start\" x=\"590\" y=\"-37.8\" font-family=\"Helvetica,sans-Serif\" font-size=\"14.00\">samples = 34</text>\n<text text-anchor=\"start\" x=\"580.5\" y=\"-22.8\" font-family=\"Helvetica,sans-Serif\" font-size=\"14.00\">value = [5, 26, 3]</text>\n<text text-anchor=\"start\" x=\"604\" y=\"-7.8\" font-family=\"Helvetica,sans-Serif\" font-size=\"14.00\">class = y</text>\n</g>\n<!-- 12&#45;&gt;13 -->\n<g id=\"edge13\" class=\"edge\">\n<title>12&#45;&gt;13</title>\n<path fill=\"none\" stroke=\"black\" d=\"M703.81,-103.73C693.95,-94.42 683.48,-84.54 673.65,-75.26\"/>\n<polygon fill=\"black\" stroke=\"black\" points=\"675.95,-72.62 666.28,-68.3 671.15,-77.71 675.95,-72.62\"/>\n</g>\n<!-- 14 -->\n<g id=\"node15\" class=\"node\">\n<title>14</title>\n<path fill=\"#adf4cb\" stroke=\"black\" d=\"M836,-68C836,-68 720,-68 720,-68 714,-68 708,-62 708,-56 708,-56 708,-12 708,-12 708,-6 714,0 720,0 720,0 836,0 836,0 842,0 848,-6 848,-12 848,-12 848,-56 848,-56 848,-62 842,-68 836,-68\"/>\n<text text-anchor=\"start\" x=\"742.5\" y=\"-52.8\" font-family=\"Helvetica,sans-Serif\" font-size=\"14.00\">gini = 0.568</text>\n<text text-anchor=\"start\" x=\"733\" y=\"-37.8\" font-family=\"Helvetica,sans-Serif\" font-size=\"14.00\">samples = 175</text>\n<text text-anchor=\"start\" x=\"716\" y=\"-22.8\" font-family=\"Helvetica,sans-Serif\" font-size=\"14.00\">value = [25, 101, 49]</text>\n<text text-anchor=\"start\" x=\"751\" y=\"-7.8\" font-family=\"Helvetica,sans-Serif\" font-size=\"14.00\">class = y</text>\n</g>\n<!-- 12&#45;&gt;14 -->\n<g id=\"edge14\" class=\"edge\">\n<title>12&#45;&gt;14</title>\n<path fill=\"none\" stroke=\"black\" d=\"M758.54,-103.73C760.92,-95.34 763.43,-86.47 765.82,-78.01\"/>\n<polygon fill=\"black\" stroke=\"black\" points=\"769.22,-78.87 768.57,-68.3 762.48,-76.97 769.22,-78.87\"/>\n</g>\n<!-- 16 -->\n<g id=\"node17\" class=\"node\">\n<title>16</title>\n<path fill=\"#caf8dd\" stroke=\"black\" d=\"M1348,-306C1348,-306 1224,-306 1224,-306 1218,-306 1212,-300 1212,-294 1212,-294 1212,-235 1212,-235 1212,-229 1218,-223 1224,-223 1224,-223 1348,-223 1348,-223 1354,-223 1360,-229 1360,-235 1360,-235 1360,-294 1360,-294 1360,-300 1354,-306 1348,-306\"/>\n<text text-anchor=\"start\" x=\"1220\" y=\"-290.8\" font-family=\"Helvetica,sans-Serif\" font-size=\"14.00\">LongestShell ≤ &#45;0.595</text>\n<text text-anchor=\"start\" x=\"1250.5\" y=\"-275.8\" font-family=\"Helvetica,sans-Serif\" font-size=\"14.00\">gini = 0.613</text>\n<text text-anchor=\"start\" x=\"1241\" y=\"-260.8\" font-family=\"Helvetica,sans-Serif\" font-size=\"14.00\">samples = 165</text>\n<text text-anchor=\"start\" x=\"1228\" y=\"-245.8\" font-family=\"Helvetica,sans-Serif\" font-size=\"14.00\">value = [29, 83, 53]</text>\n<text text-anchor=\"start\" x=\"1259\" y=\"-230.8\" font-family=\"Helvetica,sans-Serif\" font-size=\"14.00\">class = y</text>\n</g>\n<!-- 15&#45;&gt;16 -->\n<g id=\"edge16\" class=\"edge\">\n<title>15&#45;&gt;16</title>\n<path fill=\"none\" stroke=\"black\" d=\"M1351.96,-341.91C1344.12,-332.83 1335.74,-323.12 1327.67,-313.77\"/>\n<polygon fill=\"black\" stroke=\"black\" points=\"1330.16,-311.3 1320.98,-306.02 1324.86,-315.88 1330.16,-311.3\"/>\n</g>\n<!-- 23 -->\n<g id=\"node24\" class=\"node\">\n<title>23</title>\n<path fill=\"#fefdff\" stroke=\"black\" d=\"M1607.5,-306C1607.5,-306 1484.5,-306 1484.5,-306 1478.5,-306 1472.5,-300 1472.5,-294 1472.5,-294 1472.5,-235 1472.5,-235 1472.5,-229 1478.5,-223 1484.5,-223 1484.5,-223 1607.5,-223 1607.5,-223 1613.5,-223 1619.5,-229 1619.5,-235 1619.5,-235 1619.5,-294 1619.5,-294 1619.5,-300 1613.5,-306 1607.5,-306\"/>\n<text text-anchor=\"start\" x=\"1499.5\" y=\"-290.8\" font-family=\"Helvetica,sans-Serif\" font-size=\"14.00\">Height ≤ &#45;1.124</text>\n<text text-anchor=\"start\" x=\"1510.5\" y=\"-275.8\" font-family=\"Helvetica,sans-Serif\" font-size=\"14.00\">gini = 0.663</text>\n<text text-anchor=\"start\" x=\"1501\" y=\"-260.8\" font-family=\"Helvetica,sans-Serif\" font-size=\"14.00\">samples = 283</text>\n<text text-anchor=\"start\" x=\"1480.5\" y=\"-245.8\" font-family=\"Helvetica,sans-Serif\" font-size=\"14.00\">value = [100, 81, 102]</text>\n<text text-anchor=\"start\" x=\"1518.5\" y=\"-230.8\" font-family=\"Helvetica,sans-Serif\" font-size=\"14.00\">class = p</text>\n</g>\n<!-- 15&#45;&gt;23 -->\n<g id=\"edge23\" class=\"edge\">\n<title>15&#45;&gt;23</title>\n<path fill=\"none\" stroke=\"black\" d=\"M1442.16,-341.91C1455.24,-332.29 1469.28,-321.95 1482.68,-312.09\"/>\n<polygon fill=\"black\" stroke=\"black\" points=\"1484.95,-314.77 1490.93,-306.02 1480.8,-309.13 1484.95,-314.77\"/>\n</g>\n<!-- 17 -->\n<g id=\"node18\" class=\"node\">\n<title>17</title>\n<path fill=\"#e0cef8\" stroke=\"black\" d=\"M1131.5,-187C1131.5,-187 998.5,-187 998.5,-187 992.5,-187 986.5,-181 986.5,-175 986.5,-175 986.5,-116 986.5,-116 986.5,-110 992.5,-104 998.5,-104 998.5,-104 1131.5,-104 1131.5,-104 1137.5,-104 1143.5,-110 1143.5,-116 1143.5,-116 1143.5,-175 1143.5,-175 1143.5,-181 1137.5,-187 1131.5,-187\"/>\n<text text-anchor=\"start\" x=\"994.5\" y=\"-171.8\" font-family=\"Helvetica,sans-Serif\" font-size=\"14.00\">VisceraWeight ≤ &#45;0.801</text>\n<text text-anchor=\"start\" x=\"1029.5\" y=\"-156.8\" font-family=\"Helvetica,sans-Serif\" font-size=\"14.00\">gini = 0.626</text>\n<text text-anchor=\"start\" x=\"1024\" y=\"-141.8\" font-family=\"Helvetica,sans-Serif\" font-size=\"14.00\">samples = 64</text>\n<text text-anchor=\"start\" x=\"1007\" y=\"-126.8\" font-family=\"Helvetica,sans-Serif\" font-size=\"14.00\">value = [13, 20, 31]</text>\n<text text-anchor=\"start\" x=\"1037.5\" y=\"-111.8\" font-family=\"Helvetica,sans-Serif\" font-size=\"14.00\">class = p</text>\n</g>\n<!-- 16&#45;&gt;17 -->\n<g id=\"edge17\" class=\"edge\">\n<title>16&#45;&gt;17</title>\n<path fill=\"none\" stroke=\"black\" d=\"M1211.8,-224.22C1192.13,-213.81 1170.75,-202.48 1150.54,-191.78\"/>\n<polygon fill=\"black\" stroke=\"black\" points=\"1152.13,-188.67 1141.65,-187.08 1148.85,-194.85 1152.13,-188.67\"/>\n</g>\n<!-- 20 -->\n<g id=\"node21\" class=\"node\">\n<title>20</title>\n<path fill=\"#98f2be\" stroke=\"black\" d=\"M1340,-187C1340,-187 1232,-187 1232,-187 1226,-187 1220,-181 1220,-175 1220,-175 1220,-116 1220,-116 1220,-110 1226,-104 1232,-104 1232,-104 1340,-104 1340,-104 1346,-104 1352,-110 1352,-116 1352,-116 1352,-175 1352,-175 1352,-181 1346,-187 1340,-187\"/>\n<text text-anchor=\"start\" x=\"1229\" y=\"-171.8\" font-family=\"Helvetica,sans-Serif\" font-size=\"14.00\">ShellWeight ≤ 0.17</text>\n<text text-anchor=\"start\" x=\"1250.5\" y=\"-156.8\" font-family=\"Helvetica,sans-Serif\" font-size=\"14.00\">gini = 0.538</text>\n<text text-anchor=\"start\" x=\"1241\" y=\"-141.8\" font-family=\"Helvetica,sans-Serif\" font-size=\"14.00\">samples = 101</text>\n<text text-anchor=\"start\" x=\"1228\" y=\"-126.8\" font-family=\"Helvetica,sans-Serif\" font-size=\"14.00\">value = [16, 63, 22]</text>\n<text text-anchor=\"start\" x=\"1259\" y=\"-111.8\" font-family=\"Helvetica,sans-Serif\" font-size=\"14.00\">class = y</text>\n</g>\n<!-- 16&#45;&gt;20 -->\n<g id=\"edge20\" class=\"edge\">\n<title>16&#45;&gt;20</title>\n<path fill=\"none\" stroke=\"black\" d=\"M1286,-222.91C1286,-214.65 1286,-205.86 1286,-197.3\"/>\n<polygon fill=\"black\" stroke=\"black\" points=\"1289.5,-197.02 1286,-187.02 1282.5,-197.02 1289.5,-197.02\"/>\n</g>\n<!-- 18 -->\n<g id=\"node19\" class=\"node\">\n<title>18</title>\n<path fill=\"#e4d5f9\" stroke=\"black\" d=\"M979.5,-68C979.5,-68 878.5,-68 878.5,-68 872.5,-68 866.5,-62 866.5,-56 866.5,-56 866.5,-12 866.5,-12 866.5,-6 872.5,0 878.5,0 878.5,0 979.5,0 979.5,0 985.5,0 991.5,-6 991.5,-12 991.5,-12 991.5,-56 991.5,-56 991.5,-62 985.5,-68 979.5,-68\"/>\n<text text-anchor=\"start\" x=\"893.5\" y=\"-52.8\" font-family=\"Helvetica,sans-Serif\" font-size=\"14.00\">gini = 0.585</text>\n<text text-anchor=\"start\" x=\"888\" y=\"-37.8\" font-family=\"Helvetica,sans-Serif\" font-size=\"14.00\">samples = 53</text>\n<text text-anchor=\"start\" x=\"874.5\" y=\"-22.8\" font-family=\"Helvetica,sans-Serif\" font-size=\"14.00\">value = [6, 20, 27]</text>\n<text text-anchor=\"start\" x=\"901.5\" y=\"-7.8\" font-family=\"Helvetica,sans-Serif\" font-size=\"14.00\">class = p</text>\n</g>\n<!-- 17&#45;&gt;18 -->\n<g id=\"edge18\" class=\"edge\">\n<title>17&#45;&gt;18</title>\n<path fill=\"none\" stroke=\"black\" d=\"M1014.36,-103.73C1002.58,-94.24 990.05,-84.16 978.33,-74.72\"/>\n<polygon fill=\"black\" stroke=\"black\" points=\"980.34,-71.84 970.36,-68.3 975.95,-77.3 980.34,-71.84\"/>\n</g>\n<!-- 19 -->\n<g id=\"node20\" class=\"node\">\n<title>19</title>\n<path fill=\"#f4c9aa\" stroke=\"black\" d=\"M1108,-68C1108,-68 1022,-68 1022,-68 1016,-68 1010,-62 1010,-56 1010,-56 1010,-12 1010,-12 1010,-6 1016,0 1022,0 1022,0 1108,0 1108,0 1114,0 1120,-6 1120,-12 1120,-12 1120,-56 1120,-56 1120,-62 1114,-68 1108,-68\"/>\n<text text-anchor=\"start\" x=\"1029.5\" y=\"-52.8\" font-family=\"Helvetica,sans-Serif\" font-size=\"14.00\">gini = 0.463</text>\n<text text-anchor=\"start\" x=\"1024\" y=\"-37.8\" font-family=\"Helvetica,sans-Serif\" font-size=\"14.00\">samples = 11</text>\n<text text-anchor=\"start\" x=\"1018\" y=\"-22.8\" font-family=\"Helvetica,sans-Serif\" font-size=\"14.00\">value = [7, 0, 4]</text>\n<text text-anchor=\"start\" x=\"1037.5\" y=\"-7.8\" font-family=\"Helvetica,sans-Serif\" font-size=\"14.00\">class = T</text>\n</g>\n<!-- 17&#45;&gt;19 -->\n<g id=\"edge19\" class=\"edge\">\n<title>17&#45;&gt;19</title>\n<path fill=\"none\" stroke=\"black\" d=\"M1065,-103.73C1065,-95.52 1065,-86.86 1065,-78.56\"/>\n<polygon fill=\"black\" stroke=\"black\" points=\"1068.5,-78.3 1065,-68.3 1061.5,-78.3 1068.5,-78.3\"/>\n</g>\n<!-- 21 -->\n<g id=\"node22\" class=\"node\">\n<title>21</title>\n<path fill=\"#96f1bc\" stroke=\"black\" d=\"M1258,-68C1258,-68 1150,-68 1150,-68 1144,-68 1138,-62 1138,-56 1138,-56 1138,-12 1138,-12 1138,-6 1144,0 1150,0 1150,0 1258,0 1258,0 1264,0 1270,-6 1270,-12 1270,-12 1270,-56 1270,-56 1270,-62 1264,-68 1258,-68\"/>\n<text text-anchor=\"start\" x=\"1168.5\" y=\"-52.8\" font-family=\"Helvetica,sans-Serif\" font-size=\"14.00\">gini = 0.526</text>\n<text text-anchor=\"start\" x=\"1163\" y=\"-37.8\" font-family=\"Helvetica,sans-Serif\" font-size=\"14.00\">samples = 99</text>\n<text text-anchor=\"start\" x=\"1146\" y=\"-22.8\" font-family=\"Helvetica,sans-Serif\" font-size=\"14.00\">value = [14, 63, 22]</text>\n<text text-anchor=\"start\" x=\"1177\" y=\"-7.8\" font-family=\"Helvetica,sans-Serif\" font-size=\"14.00\">class = y</text>\n</g>\n<!-- 20&#45;&gt;21 -->\n<g id=\"edge21\" class=\"edge\">\n<title>20&#45;&gt;21</title>\n<path fill=\"none\" stroke=\"black\" d=\"M1255.47,-103.73C1248.77,-94.79 1241.68,-85.32 1234.97,-76.36\"/>\n<polygon fill=\"black\" stroke=\"black\" points=\"1237.73,-74.21 1228.94,-68.3 1232.13,-78.4 1237.73,-74.21\"/>\n</g>\n<!-- 22 -->\n<g id=\"node23\" class=\"node\">\n<title>22</title>\n<path fill=\"#e58139\" stroke=\"black\" d=\"M1386,-68C1386,-68 1300,-68 1300,-68 1294,-68 1288,-62 1288,-56 1288,-56 1288,-12 1288,-12 1288,-6 1294,0 1300,0 1300,0 1386,0 1386,0 1392,0 1398,-6 1398,-12 1398,-12 1398,-56 1398,-56 1398,-62 1392,-68 1386,-68\"/>\n<text text-anchor=\"start\" x=\"1315\" y=\"-52.8\" font-family=\"Helvetica,sans-Serif\" font-size=\"14.00\">gini = 0.0</text>\n<text text-anchor=\"start\" x=\"1305.5\" y=\"-37.8\" font-family=\"Helvetica,sans-Serif\" font-size=\"14.00\">samples = 2</text>\n<text text-anchor=\"start\" x=\"1296\" y=\"-22.8\" font-family=\"Helvetica,sans-Serif\" font-size=\"14.00\">value = [2, 0, 0]</text>\n<text text-anchor=\"start\" x=\"1315.5\" y=\"-7.8\" font-family=\"Helvetica,sans-Serif\" font-size=\"14.00\">class = T</text>\n</g>\n<!-- 20&#45;&gt;22 -->\n<g id=\"edge22\" class=\"edge\">\n<title>20&#45;&gt;22</title>\n<path fill=\"none\" stroke=\"black\" d=\"M1307.22,-103.73C1311.74,-95.06 1316.51,-85.9 1321.04,-77.18\"/>\n<polygon fill=\"black\" stroke=\"black\" points=\"1324.15,-78.79 1325.67,-68.3 1317.94,-75.55 1324.15,-78.79\"/>\n</g>\n<!-- 24 -->\n<g id=\"node25\" class=\"node\">\n<title>24</title>\n<path fill=\"#a36eec\" stroke=\"black\" d=\"M1612.5,-187C1612.5,-187 1479.5,-187 1479.5,-187 1473.5,-187 1467.5,-181 1467.5,-175 1467.5,-175 1467.5,-116 1467.5,-116 1467.5,-110 1473.5,-104 1479.5,-104 1479.5,-104 1612.5,-104 1612.5,-104 1618.5,-104 1624.5,-110 1624.5,-116 1624.5,-116 1624.5,-175 1624.5,-175 1624.5,-181 1618.5,-187 1612.5,-187\"/>\n<text text-anchor=\"start\" x=\"1475.5\" y=\"-171.8\" font-family=\"Helvetica,sans-Serif\" font-size=\"14.00\">VisceraWeight ≤ &#45;1.333</text>\n<text text-anchor=\"start\" x=\"1510.5\" y=\"-156.8\" font-family=\"Helvetica,sans-Serif\" font-size=\"14.00\">gini = 0.388</text>\n<text text-anchor=\"start\" x=\"1505\" y=\"-141.8\" font-family=\"Helvetica,sans-Serif\" font-size=\"14.00\">samples = 17</text>\n<text text-anchor=\"start\" x=\"1495.5\" y=\"-126.8\" font-family=\"Helvetica,sans-Serif\" font-size=\"14.00\">value = [2, 2, 13]</text>\n<text text-anchor=\"start\" x=\"1518.5\" y=\"-111.8\" font-family=\"Helvetica,sans-Serif\" font-size=\"14.00\">class = p</text>\n</g>\n<!-- 23&#45;&gt;24 -->\n<g id=\"edge24\" class=\"edge\">\n<title>23&#45;&gt;24</title>\n<path fill=\"none\" stroke=\"black\" d=\"M1546,-222.91C1546,-214.65 1546,-205.86 1546,-197.3\"/>\n<polygon fill=\"black\" stroke=\"black\" points=\"1549.5,-197.02 1546,-187.02 1542.5,-197.02 1549.5,-197.02\"/>\n</g>\n<!-- 27 -->\n<g id=\"node28\" class=\"node\">\n<title>27</title>\n<path fill=\"#fef9f5\" stroke=\"black\" d=\"M1800,-187C1800,-187 1692,-187 1692,-187 1686,-187 1680,-181 1680,-175 1680,-175 1680,-116 1680,-116 1680,-110 1686,-104 1692,-104 1692,-104 1800,-104 1800,-104 1806,-104 1812,-110 1812,-116 1812,-116 1812,-175 1812,-175 1812,-181 1806,-187 1800,-187\"/>\n<text text-anchor=\"start\" x=\"1693.5\" y=\"-171.8\" font-family=\"Helvetica,sans-Serif\" font-size=\"14.00\">Diameter ≤ 0.097</text>\n<text text-anchor=\"start\" x=\"1710.5\" y=\"-156.8\" font-family=\"Helvetica,sans-Serif\" font-size=\"14.00\">gini = 0.664</text>\n<text text-anchor=\"start\" x=\"1701\" y=\"-141.8\" font-family=\"Helvetica,sans-Serif\" font-size=\"14.00\">samples = 266</text>\n<text text-anchor=\"start\" x=\"1688\" y=\"-126.8\" font-family=\"Helvetica,sans-Serif\" font-size=\"14.00\">value = [98, 79, 89]</text>\n<text text-anchor=\"start\" x=\"1718.5\" y=\"-111.8\" font-family=\"Helvetica,sans-Serif\" font-size=\"14.00\">class = T</text>\n</g>\n<!-- 23&#45;&gt;27 -->\n<g id=\"edge27\" class=\"edge\">\n<title>23&#45;&gt;27</title>\n<path fill=\"none\" stroke=\"black\" d=\"M1615.39,-222.91C1633.33,-212.41 1652.72,-201.07 1670.93,-190.42\"/>\n<polygon fill=\"black\" stroke=\"black\" points=\"1672.9,-193.32 1679.76,-185.25 1669.37,-187.28 1672.9,-193.32\"/>\n</g>\n<!-- 25 -->\n<g id=\"node26\" class=\"node\">\n<title>25</title>\n<path fill=\"#9cf2c0\" stroke=\"black\" d=\"M1514,-68C1514,-68 1428,-68 1428,-68 1422,-68 1416,-62 1416,-56 1416,-56 1416,-12 1416,-12 1416,-6 1422,0 1428,0 1428,0 1514,0 1514,0 1520,0 1526,-6 1526,-12 1526,-12 1526,-56 1526,-56 1526,-62 1520,-68 1514,-68\"/>\n<text text-anchor=\"start\" x=\"1435.5\" y=\"-52.8\" font-family=\"Helvetica,sans-Serif\" font-size=\"14.00\">gini = 0.444</text>\n<text text-anchor=\"start\" x=\"1433.5\" y=\"-37.8\" font-family=\"Helvetica,sans-Serif\" font-size=\"14.00\">samples = 3</text>\n<text text-anchor=\"start\" x=\"1424\" y=\"-22.8\" font-family=\"Helvetica,sans-Serif\" font-size=\"14.00\">value = [0, 2, 1]</text>\n<text text-anchor=\"start\" x=\"1444\" y=\"-7.8\" font-family=\"Helvetica,sans-Serif\" font-size=\"14.00\">class = y</text>\n</g>\n<!-- 24&#45;&gt;25 -->\n<g id=\"edge25\" class=\"edge\">\n<title>24&#45;&gt;25</title>\n<path fill=\"none\" stroke=\"black\" d=\"M1518.07,-103.73C1512.01,-94.88 1505.6,-85.51 1499.51,-76.63\"/>\n<polygon fill=\"black\" stroke=\"black\" points=\"1502.35,-74.57 1493.81,-68.3 1496.57,-78.53 1502.35,-74.57\"/>\n</g>\n<!-- 26 -->\n<g id=\"node27\" class=\"node\">\n<title>26</title>\n<path fill=\"#965ae9\" stroke=\"black\" d=\"M1649.5,-68C1649.5,-68 1556.5,-68 1556.5,-68 1550.5,-68 1544.5,-62 1544.5,-56 1544.5,-56 1544.5,-12 1544.5,-12 1544.5,-6 1550.5,0 1556.5,0 1556.5,0 1649.5,0 1649.5,0 1655.5,0 1661.5,-6 1661.5,-12 1661.5,-12 1661.5,-56 1661.5,-56 1661.5,-62 1655.5,-68 1649.5,-68\"/>\n<text text-anchor=\"start\" x=\"1567.5\" y=\"-52.8\" font-family=\"Helvetica,sans-Serif\" font-size=\"14.00\">gini = 0.245</text>\n<text text-anchor=\"start\" x=\"1562\" y=\"-37.8\" font-family=\"Helvetica,sans-Serif\" font-size=\"14.00\">samples = 14</text>\n<text text-anchor=\"start\" x=\"1552.5\" y=\"-22.8\" font-family=\"Helvetica,sans-Serif\" font-size=\"14.00\">value = [2, 0, 12]</text>\n<text text-anchor=\"start\" x=\"1575.5\" y=\"-7.8\" font-family=\"Helvetica,sans-Serif\" font-size=\"14.00\">class = p</text>\n</g>\n<!-- 24&#45;&gt;26 -->\n<g id=\"edge26\" class=\"edge\">\n<title>24&#45;&gt;26</title>\n<path fill=\"none\" stroke=\"black\" d=\"M1567.22,-103.73C1571.74,-95.06 1576.51,-85.9 1581.04,-77.18\"/>\n<polygon fill=\"black\" stroke=\"black\" points=\"1584.15,-78.79 1585.67,-68.3 1577.94,-75.55 1584.15,-78.79\"/>\n</g>\n<!-- 28 -->\n<g id=\"node29\" class=\"node\">\n<title>28</title>\n<path fill=\"#fcf1e8\" stroke=\"black\" d=\"M1800,-68C1800,-68 1692,-68 1692,-68 1686,-68 1680,-62 1680,-56 1680,-56 1680,-12 1680,-12 1680,-6 1686,0 1692,0 1692,0 1800,0 1800,0 1806,0 1812,-6 1812,-12 1812,-12 1812,-56 1812,-56 1812,-62 1806,-68 1800,-68\"/>\n<text text-anchor=\"start\" x=\"1710.5\" y=\"-52.8\" font-family=\"Helvetica,sans-Serif\" font-size=\"14.00\">gini = 0.659</text>\n<text text-anchor=\"start\" x=\"1701\" y=\"-37.8\" font-family=\"Helvetica,sans-Serif\" font-size=\"14.00\">samples = 233</text>\n<text text-anchor=\"start\" x=\"1688\" y=\"-22.8\" font-family=\"Helvetica,sans-Serif\" font-size=\"14.00\">value = [93, 65, 75]</text>\n<text text-anchor=\"start\" x=\"1718.5\" y=\"-7.8\" font-family=\"Helvetica,sans-Serif\" font-size=\"14.00\">class = T</text>\n</g>\n<!-- 27&#45;&gt;28 -->\n<g id=\"edge28\" class=\"edge\">\n<title>27&#45;&gt;28</title>\n<path fill=\"none\" stroke=\"black\" d=\"M1746,-103.73C1746,-95.52 1746,-86.86 1746,-78.56\"/>\n<polygon fill=\"black\" stroke=\"black\" points=\"1749.5,-78.3 1746,-68.3 1742.5,-78.3 1749.5,-78.3\"/>\n</g>\n<!-- 29 -->\n<g id=\"node30\" class=\"node\">\n<title>29</title>\n<path fill=\"#ffffff\" stroke=\"black\" d=\"M1943.5,-68C1943.5,-68 1842.5,-68 1842.5,-68 1836.5,-68 1830.5,-62 1830.5,-56 1830.5,-56 1830.5,-12 1830.5,-12 1830.5,-6 1836.5,0 1842.5,0 1842.5,0 1943.5,0 1943.5,0 1949.5,0 1955.5,-6 1955.5,-12 1955.5,-12 1955.5,-56 1955.5,-56 1955.5,-62 1949.5,-68 1943.5,-68\"/>\n<text text-anchor=\"start\" x=\"1857.5\" y=\"-52.8\" font-family=\"Helvetica,sans-Serif\" font-size=\"14.00\">gini = 0.617</text>\n<text text-anchor=\"start\" x=\"1852\" y=\"-37.8\" font-family=\"Helvetica,sans-Serif\" font-size=\"14.00\">samples = 33</text>\n<text text-anchor=\"start\" x=\"1838.5\" y=\"-22.8\" font-family=\"Helvetica,sans-Serif\" font-size=\"14.00\">value = [5, 14, 14]</text>\n<text text-anchor=\"start\" x=\"1866\" y=\"-7.8\" font-family=\"Helvetica,sans-Serif\" font-size=\"14.00\">class = y</text>\n</g>\n<!-- 27&#45;&gt;29 -->\n<g id=\"edge29\" class=\"edge\">\n<title>27&#45;&gt;29</title>\n<path fill=\"none\" stroke=\"black\" d=\"M1800.74,-103.73C1813.59,-94.15 1827.27,-83.96 1840.05,-74.44\"/>\n<polygon fill=\"black\" stroke=\"black\" points=\"1842.37,-77.08 1848.3,-68.3 1838.19,-71.47 1842.37,-77.08\"/>\n</g>\n<!-- 31 -->\n<g id=\"node32\" class=\"node\">\n<title>31</title>\n<path fill=\"#e6d7fa\" stroke=\"black\" d=\"M2641.5,-425C2641.5,-425 2510.5,-425 2510.5,-425 2504.5,-425 2498.5,-419 2498.5,-413 2498.5,-413 2498.5,-354 2498.5,-354 2498.5,-348 2504.5,-342 2510.5,-342 2510.5,-342 2641.5,-342 2641.5,-342 2647.5,-342 2653.5,-348 2653.5,-354 2653.5,-354 2653.5,-413 2653.5,-413 2653.5,-419 2647.5,-425 2641.5,-425\"/>\n<text text-anchor=\"start\" x=\"2508.5\" y=\"-409.8\" font-family=\"Helvetica,sans-Serif\" font-size=\"14.00\">WholeWeight ≤ &#45;0.011</text>\n<text text-anchor=\"start\" x=\"2540.5\" y=\"-394.8\" font-family=\"Helvetica,sans-Serif\" font-size=\"14.00\">gini = 0.639</text>\n<text text-anchor=\"start\" x=\"2531\" y=\"-379.8\" font-family=\"Helvetica,sans-Serif\" font-size=\"14.00\">samples = 516</text>\n<text text-anchor=\"start\" x=\"2506.5\" y=\"-364.8\" font-family=\"Helvetica,sans-Serif\" font-size=\"14.00\">value = [165, 115, 236]</text>\n<text text-anchor=\"start\" x=\"2548.5\" y=\"-349.8\" font-family=\"Helvetica,sans-Serif\" font-size=\"14.00\">class = p</text>\n</g>\n<!-- 30&#45;&gt;31 -->\n<g id=\"edge31\" class=\"edge\">\n<title>30&#45;&gt;31</title>\n<path fill=\"none\" stroke=\"black\" d=\"M2576,-460.91C2576,-452.65 2576,-443.86 2576,-435.3\"/>\n<polygon fill=\"black\" stroke=\"black\" points=\"2579.5,-435.02 2576,-425.02 2572.5,-435.02 2579.5,-435.02\"/>\n</g>\n<!-- 46 -->\n<g id=\"node47\" class=\"node\">\n<title>46</title>\n<path fill=\"#f7f2fd\" stroke=\"black\" d=\"M3482,-425C3482,-425 3346,-425 3346,-425 3340,-425 3334,-419 3334,-413 3334,-413 3334,-354 3334,-354 3334,-348 3340,-342 3346,-342 3346,-342 3482,-342 3482,-342 3488,-342 3494,-348 3494,-354 3494,-354 3494,-413 3494,-413 3494,-419 3488,-425 3482,-425\"/>\n<text text-anchor=\"start\" x=\"3342\" y=\"-409.8\" font-family=\"Helvetica,sans-Serif\" font-size=\"14.00\">ShuckedWeight ≤ 2.315</text>\n<text text-anchor=\"start\" x=\"3378.5\" y=\"-394.8\" font-family=\"Helvetica,sans-Serif\" font-size=\"14.00\">gini = 0.531</text>\n<text text-anchor=\"start\" x=\"3365.5\" y=\"-379.8\" font-family=\"Helvetica,sans-Serif\" font-size=\"14.00\">samples = 1143</text>\n<text text-anchor=\"start\" x=\"3348.5\" y=\"-364.8\" font-family=\"Helvetica,sans-Serif\" font-size=\"14.00\">value = [533, 38, 572]</text>\n<text text-anchor=\"start\" x=\"3386.5\" y=\"-349.8\" font-family=\"Helvetica,sans-Serif\" font-size=\"14.00\">class = p</text>\n</g>\n<!-- 30&#45;&gt;46 -->\n<g id=\"edge46\" class=\"edge\">\n<title>30&#45;&gt;46</title>\n<path fill=\"none\" stroke=\"black\" d=\"M2653.71,-490.65C2809.3,-468.93 3158.31,-420.2 3323.74,-397.1\"/>\n<polygon fill=\"black\" stroke=\"black\" points=\"3324.46,-400.54 3333.88,-395.69 3323.49,-393.6 3324.46,-400.54\"/>\n</g>\n<!-- 32 -->\n<g id=\"node33\" class=\"node\">\n<title>32</title>\n<path fill=\"#ebe0fb\" stroke=\"black\" d=\"M2472.5,-306C2472.5,-306 2353.5,-306 2353.5,-306 2347.5,-306 2341.5,-300 2341.5,-294 2341.5,-294 2341.5,-235 2341.5,-235 2341.5,-229 2347.5,-223 2353.5,-223 2353.5,-223 2472.5,-223 2472.5,-223 2478.5,-223 2484.5,-229 2484.5,-235 2484.5,-235 2484.5,-294 2484.5,-294 2484.5,-300 2478.5,-306 2472.5,-306\"/>\n<text text-anchor=\"start\" x=\"2349.5\" y=\"-290.8\" font-family=\"Helvetica,sans-Serif\" font-size=\"14.00\">LongestShell ≤ 0.112</text>\n<text text-anchor=\"start\" x=\"2377.5\" y=\"-275.8\" font-family=\"Helvetica,sans-Serif\" font-size=\"14.00\">gini = 0.658</text>\n<text text-anchor=\"start\" x=\"2368\" y=\"-260.8\" font-family=\"Helvetica,sans-Serif\" font-size=\"14.00\">samples = 258</text>\n<text text-anchor=\"start\" x=\"2351\" y=\"-245.8\" font-family=\"Helvetica,sans-Serif\" font-size=\"14.00\">value = [78, 74, 106]</text>\n<text text-anchor=\"start\" x=\"2385.5\" y=\"-230.8\" font-family=\"Helvetica,sans-Serif\" font-size=\"14.00\">class = p</text>\n</g>\n<!-- 31&#45;&gt;32 -->\n<g id=\"edge32\" class=\"edge\">\n<title>31&#45;&gt;32</title>\n<path fill=\"none\" stroke=\"black\" d=\"M2519.45,-341.91C2506.05,-332.29 2491.65,-321.95 2477.91,-312.09\"/>\n<polygon fill=\"black\" stroke=\"black\" points=\"2479.62,-309.01 2469.45,-306.02 2475.53,-314.7 2479.62,-309.01\"/>\n</g>\n<!-- 39 -->\n<g id=\"node40\" class=\"node\">\n<title>39</title>\n<path fill=\"#dfcdf8\" stroke=\"black\" d=\"M2745,-306C2745,-306 2609,-306 2609,-306 2603,-306 2597,-300 2597,-294 2597,-294 2597,-235 2597,-235 2597,-229 2603,-223 2609,-223 2609,-223 2745,-223 2745,-223 2751,-223 2757,-229 2757,-235 2757,-235 2757,-294 2757,-294 2757,-300 2751,-306 2745,-306\"/>\n<text text-anchor=\"start\" x=\"2605\" y=\"-290.8\" font-family=\"Helvetica,sans-Serif\" font-size=\"14.00\">ShuckedWeight ≤ 0.357</text>\n<text text-anchor=\"start\" x=\"2641.5\" y=\"-275.8\" font-family=\"Helvetica,sans-Serif\" font-size=\"14.00\">gini = 0.607</text>\n<text text-anchor=\"start\" x=\"2632\" y=\"-260.8\" font-family=\"Helvetica,sans-Serif\" font-size=\"14.00\">samples = 258</text>\n<text text-anchor=\"start\" x=\"2615\" y=\"-245.8\" font-family=\"Helvetica,sans-Serif\" font-size=\"14.00\">value = [87, 41, 130]</text>\n<text text-anchor=\"start\" x=\"2649.5\" y=\"-230.8\" font-family=\"Helvetica,sans-Serif\" font-size=\"14.00\">class = p</text>\n</g>\n<!-- 31&#45;&gt;39 -->\n<g id=\"edge39\" class=\"edge\">\n<title>31&#45;&gt;39</title>\n<path fill=\"none\" stroke=\"black\" d=\"M2611.04,-341.91C2618.88,-332.83 2627.26,-323.12 2635.33,-313.77\"/>\n<polygon fill=\"black\" stroke=\"black\" points=\"2638.14,-315.88 2642.02,-306.02 2632.84,-311.3 2638.14,-315.88\"/>\n</g>\n<!-- 33 -->\n<g id=\"node34\" class=\"node\">\n<title>33</title>\n<path fill=\"#ebdffb\" stroke=\"black\" d=\"M2253.5,-187C2253.5,-187 2120.5,-187 2120.5,-187 2114.5,-187 2108.5,-181 2108.5,-175 2108.5,-175 2108.5,-116 2108.5,-116 2108.5,-110 2114.5,-104 2120.5,-104 2120.5,-104 2253.5,-104 2253.5,-104 2259.5,-104 2265.5,-110 2265.5,-116 2265.5,-116 2265.5,-175 2265.5,-175 2265.5,-181 2259.5,-187 2253.5,-187\"/>\n<text text-anchor=\"start\" x=\"2116.5\" y=\"-171.8\" font-family=\"Helvetica,sans-Serif\" font-size=\"14.00\">VisceraWeight ≤ &#45;0.078</text>\n<text text-anchor=\"start\" x=\"2151.5\" y=\"-156.8\" font-family=\"Helvetica,sans-Serif\" font-size=\"14.00\">gini = 0.628</text>\n<text text-anchor=\"start\" x=\"2142\" y=\"-141.8\" font-family=\"Helvetica,sans-Serif\" font-size=\"14.00\">samples = 163</text>\n<text text-anchor=\"start\" x=\"2129\" y=\"-126.8\" font-family=\"Helvetica,sans-Serif\" font-size=\"14.00\">value = [58, 30, 75]</text>\n<text text-anchor=\"start\" x=\"2159.5\" y=\"-111.8\" font-family=\"Helvetica,sans-Serif\" font-size=\"14.00\">class = p</text>\n</g>\n<!-- 32&#45;&gt;33 -->\n<g id=\"edge33\" class=\"edge\">\n<title>32&#45;&gt;33</title>\n<path fill=\"none\" stroke=\"black\" d=\"M2341.49,-226.48C2320.24,-215.48 2296.71,-203.3 2274.56,-191.83\"/>\n<polygon fill=\"black\" stroke=\"black\" points=\"2275.98,-188.62 2265.49,-187.13 2272.76,-194.84 2275.98,-188.62\"/>\n</g>\n<!-- 36 -->\n<g id=\"node37\" class=\"node\">\n<title>36</title>\n<path fill=\"#d7fae5\" stroke=\"black\" d=\"M2467,-187C2467,-187 2359,-187 2359,-187 2353,-187 2347,-181 2347,-175 2347,-175 2347,-116 2347,-116 2347,-110 2353,-104 2359,-104 2359,-104 2467,-104 2467,-104 2473,-104 2479,-110 2479,-116 2479,-116 2479,-175 2479,-175 2479,-181 2473,-187 2467,-187\"/>\n<text text-anchor=\"start\" x=\"2371\" y=\"-171.8\" font-family=\"Helvetica,sans-Serif\" font-size=\"14.00\">Rings ≤ 0.486</text>\n<text text-anchor=\"start\" x=\"2377.5\" y=\"-156.8\" font-family=\"Helvetica,sans-Serif\" font-size=\"14.00\">gini = 0.635</text>\n<text text-anchor=\"start\" x=\"2372\" y=\"-141.8\" font-family=\"Helvetica,sans-Serif\" font-size=\"14.00\">samples = 95</text>\n<text text-anchor=\"start\" x=\"2355\" y=\"-126.8\" font-family=\"Helvetica,sans-Serif\" font-size=\"14.00\">value = [20, 44, 31]</text>\n<text text-anchor=\"start\" x=\"2386\" y=\"-111.8\" font-family=\"Helvetica,sans-Serif\" font-size=\"14.00\">class = y</text>\n</g>\n<!-- 32&#45;&gt;36 -->\n<g id=\"edge36\" class=\"edge\">\n<title>32&#45;&gt;36</title>\n<path fill=\"none\" stroke=\"black\" d=\"M2413,-222.91C2413,-214.65 2413,-205.86 2413,-197.3\"/>\n<polygon fill=\"black\" stroke=\"black\" points=\"2416.5,-197.02 2413,-187.02 2409.5,-197.02 2416.5,-197.02\"/>\n</g>\n<!-- 34 -->\n<g id=\"node35\" class=\"node\">\n<title>34</title>\n<path fill=\"#d1b6f5\" stroke=\"black\" d=\"M2094,-68C2094,-68 1986,-68 1986,-68 1980,-68 1974,-62 1974,-56 1974,-56 1974,-12 1974,-12 1974,-6 1980,0 1986,0 1986,0 2094,0 2094,0 2100,0 2106,-6 2106,-12 2106,-12 2106,-56 2106,-56 2106,-62 2100,-68 2094,-68\"/>\n<text text-anchor=\"start\" x=\"2004.5\" y=\"-52.8\" font-family=\"Helvetica,sans-Serif\" font-size=\"14.00\">gini = 0.605</text>\n<text text-anchor=\"start\" x=\"1995\" y=\"-37.8\" font-family=\"Helvetica,sans-Serif\" font-size=\"14.00\">samples = 107</text>\n<text text-anchor=\"start\" x=\"1982\" y=\"-22.8\" font-family=\"Helvetica,sans-Serif\" font-size=\"14.00\">value = [28, 22, 57]</text>\n<text text-anchor=\"start\" x=\"2012.5\" y=\"-7.8\" font-family=\"Helvetica,sans-Serif\" font-size=\"14.00\">class = p</text>\n</g>\n<!-- 33&#45;&gt;34 -->\n<g id=\"edge34\" class=\"edge\">\n<title>33&#45;&gt;34</title>\n<path fill=\"none\" stroke=\"black\" d=\"M2132.26,-103.73C2119.41,-94.15 2105.73,-83.96 2092.95,-74.44\"/>\n<polygon fill=\"black\" stroke=\"black\" points=\"2094.81,-71.47 2084.7,-68.3 2090.63,-77.08 2094.81,-71.47\"/>\n</g>\n<!-- 35 -->\n<g id=\"node36\" class=\"node\">\n<title>35</title>\n<path fill=\"#f7d7c0\" stroke=\"black\" d=\"M2237.5,-68C2237.5,-68 2136.5,-68 2136.5,-68 2130.5,-68 2124.5,-62 2124.5,-56 2124.5,-56 2124.5,-12 2124.5,-12 2124.5,-6 2130.5,0 2136.5,0 2136.5,0 2237.5,0 2237.5,0 2243.5,0 2249.5,-6 2249.5,-12 2249.5,-12 2249.5,-56 2249.5,-56 2249.5,-62 2243.5,-68 2237.5,-68\"/>\n<text text-anchor=\"start\" x=\"2151.5\" y=\"-52.8\" font-family=\"Helvetica,sans-Serif\" font-size=\"14.00\">gini = 0.589</text>\n<text text-anchor=\"start\" x=\"2146\" y=\"-37.8\" font-family=\"Helvetica,sans-Serif\" font-size=\"14.00\">samples = 56</text>\n<text text-anchor=\"start\" x=\"2132.5\" y=\"-22.8\" font-family=\"Helvetica,sans-Serif\" font-size=\"14.00\">value = [30, 8, 18]</text>\n<text text-anchor=\"start\" x=\"2159.5\" y=\"-7.8\" font-family=\"Helvetica,sans-Serif\" font-size=\"14.00\">class = T</text>\n</g>\n<!-- 33&#45;&gt;35 -->\n<g id=\"edge35\" class=\"edge\">\n<title>33&#45;&gt;35</title>\n<path fill=\"none\" stroke=\"black\" d=\"M2187,-103.73C2187,-95.52 2187,-86.86 2187,-78.56\"/>\n<polygon fill=\"black\" stroke=\"black\" points=\"2190.5,-78.3 2187,-68.3 2183.5,-78.3 2190.5,-78.3\"/>\n</g>\n<!-- 37 -->\n<g id=\"node38\" class=\"node\">\n<title>37</title>\n<path fill=\"#baf6d3\" stroke=\"black\" d=\"M2388,-68C2388,-68 2280,-68 2280,-68 2274,-68 2268,-62 2268,-56 2268,-56 2268,-12 2268,-12 2268,-6 2274,0 2280,0 2280,0 2388,0 2388,0 2394,0 2400,-6 2400,-12 2400,-12 2400,-56 2400,-56 2400,-62 2394,-68 2388,-68\"/>\n<text text-anchor=\"start\" x=\"2298.5\" y=\"-52.8\" font-family=\"Helvetica,sans-Serif\" font-size=\"14.00\">gini = 0.618</text>\n<text text-anchor=\"start\" x=\"2293\" y=\"-37.8\" font-family=\"Helvetica,sans-Serif\" font-size=\"14.00\">samples = 76</text>\n<text text-anchor=\"start\" x=\"2276\" y=\"-22.8\" font-family=\"Helvetica,sans-Serif\" font-size=\"14.00\">value = [18, 39, 19]</text>\n<text text-anchor=\"start\" x=\"2307\" y=\"-7.8\" font-family=\"Helvetica,sans-Serif\" font-size=\"14.00\">class = y</text>\n</g>\n<!-- 36&#45;&gt;37 -->\n<g id=\"edge37\" class=\"edge\">\n<title>36&#45;&gt;37</title>\n<path fill=\"none\" stroke=\"black\" d=\"M2383.58,-103.73C2377.2,-94.88 2370.44,-85.51 2364.03,-76.63\"/>\n<polygon fill=\"black\" stroke=\"black\" points=\"2366.71,-74.36 2358.02,-68.3 2361.04,-78.46 2366.71,-74.36\"/>\n</g>\n<!-- 38 -->\n<g id=\"node39\" class=\"node\">\n<title>38</title>\n<path fill=\"#c09cf2\" stroke=\"black\" d=\"M2523.5,-68C2523.5,-68 2430.5,-68 2430.5,-68 2424.5,-68 2418.5,-62 2418.5,-56 2418.5,-56 2418.5,-12 2418.5,-12 2418.5,-6 2424.5,0 2430.5,0 2430.5,0 2523.5,0 2523.5,0 2529.5,0 2535.5,-6 2535.5,-12 2535.5,-12 2535.5,-56 2535.5,-56 2535.5,-62 2529.5,-68 2523.5,-68\"/>\n<text text-anchor=\"start\" x=\"2441.5\" y=\"-52.8\" font-family=\"Helvetica,sans-Serif\" font-size=\"14.00\">gini = 0.521</text>\n<text text-anchor=\"start\" x=\"2436\" y=\"-37.8\" font-family=\"Helvetica,sans-Serif\" font-size=\"14.00\">samples = 19</text>\n<text text-anchor=\"start\" x=\"2426.5\" y=\"-22.8\" font-family=\"Helvetica,sans-Serif\" font-size=\"14.00\">value = [2, 5, 12]</text>\n<text text-anchor=\"start\" x=\"2449.5\" y=\"-7.8\" font-family=\"Helvetica,sans-Serif\" font-size=\"14.00\">class = p</text>\n</g>\n<!-- 36&#45;&gt;38 -->\n<g id=\"edge38\" class=\"edge\">\n<title>36&#45;&gt;38</title>\n<path fill=\"none\" stroke=\"black\" d=\"M2436.83,-103.73C2441.9,-95.06 2447.25,-85.9 2452.35,-77.18\"/>\n<polygon fill=\"black\" stroke=\"black\" points=\"2455.51,-78.7 2457.54,-68.3 2449.47,-75.17 2455.51,-78.7\"/>\n</g>\n<!-- 40 -->\n<g id=\"node41\" class=\"node\">\n<title>40</title>\n<path fill=\"#e6d7fa\" stroke=\"black\" d=\"M2747,-187C2747,-187 2607,-187 2607,-187 2601,-187 2595,-181 2595,-175 2595,-175 2595,-116 2595,-116 2595,-110 2601,-104 2607,-104 2607,-104 2747,-104 2747,-104 2753,-104 2759,-110 2759,-116 2759,-116 2759,-175 2759,-175 2759,-181 2753,-187 2747,-187\"/>\n<text text-anchor=\"start\" x=\"2603\" y=\"-171.8\" font-family=\"Helvetica,sans-Serif\" font-size=\"14.00\">ShuckedWeight ≤ &#45;0.296</text>\n<text text-anchor=\"start\" x=\"2641.5\" y=\"-156.8\" font-family=\"Helvetica,sans-Serif\" font-size=\"14.00\">gini = 0.605</text>\n<text text-anchor=\"start\" x=\"2632\" y=\"-141.8\" font-family=\"Helvetica,sans-Serif\" font-size=\"14.00\">samples = 234</text>\n<text text-anchor=\"start\" x=\"2615\" y=\"-126.8\" font-family=\"Helvetica,sans-Serif\" font-size=\"14.00\">value = [85, 34, 115]</text>\n<text text-anchor=\"start\" x=\"2649.5\" y=\"-111.8\" font-family=\"Helvetica,sans-Serif\" font-size=\"14.00\">class = p</text>\n</g>\n<!-- 39&#45;&gt;40 -->\n<g id=\"edge40\" class=\"edge\">\n<title>39&#45;&gt;40</title>\n<path fill=\"none\" stroke=\"black\" d=\"M2677,-222.91C2677,-214.65 2677,-205.86 2677,-197.3\"/>\n<polygon fill=\"black\" stroke=\"black\" points=\"2680.5,-197.02 2677,-187.02 2673.5,-197.02 2680.5,-197.02\"/>\n</g>\n<!-- 43 -->\n<g id=\"node44\" class=\"node\">\n<title>43</title>\n<path fill=\"#c4a2f3\" stroke=\"black\" d=\"M2950.5,-187C2950.5,-187 2853.5,-187 2853.5,-187 2847.5,-187 2841.5,-181 2841.5,-175 2841.5,-175 2841.5,-116 2841.5,-116 2841.5,-110 2847.5,-104 2853.5,-104 2853.5,-104 2950.5,-104 2950.5,-104 2956.5,-104 2962.5,-110 2962.5,-116 2962.5,-116 2962.5,-175 2962.5,-175 2962.5,-181 2956.5,-187 2950.5,-187\"/>\n<text text-anchor=\"start\" x=\"2849.5\" y=\"-171.8\" font-family=\"Helvetica,sans-Serif\" font-size=\"14.00\">Diameter ≤ 0.298</text>\n<text text-anchor=\"start\" x=\"2866.5\" y=\"-156.8\" font-family=\"Helvetica,sans-Serif\" font-size=\"14.00\">gini = 0.517</text>\n<text text-anchor=\"start\" x=\"2861\" y=\"-141.8\" font-family=\"Helvetica,sans-Serif\" font-size=\"14.00\">samples = 24</text>\n<text text-anchor=\"start\" x=\"2851.5\" y=\"-126.8\" font-family=\"Helvetica,sans-Serif\" font-size=\"14.00\">value = [2, 7, 15]</text>\n<text text-anchor=\"start\" x=\"2874.5\" y=\"-111.8\" font-family=\"Helvetica,sans-Serif\" font-size=\"14.00\">class = p</text>\n</g>\n<!-- 39&#45;&gt;43 -->\n<g id=\"edge43\" class=\"edge\">\n<title>39&#45;&gt;43</title>\n<path fill=\"none\" stroke=\"black\" d=\"M2755.06,-222.91C2780.27,-209.8 2808.03,-195.36 2832.57,-182.6\"/>\n<polygon fill=\"black\" stroke=\"black\" points=\"2834.2,-185.7 2841.46,-177.98 2830.97,-179.49 2834.2,-185.7\"/>\n</g>\n<!-- 41 -->\n<g id=\"node42\" class=\"node\">\n<title>41</title>\n<path fill=\"#9e67eb\" stroke=\"black\" d=\"M2658.5,-68C2658.5,-68 2565.5,-68 2565.5,-68 2559.5,-68 2553.5,-62 2553.5,-56 2553.5,-56 2553.5,-12 2553.5,-12 2553.5,-6 2559.5,0 2565.5,0 2565.5,0 2658.5,0 2658.5,0 2664.5,0 2670.5,-6 2670.5,-12 2670.5,-12 2670.5,-56 2670.5,-56 2670.5,-62 2664.5,-68 2658.5,-68\"/>\n<text text-anchor=\"start\" x=\"2576.5\" y=\"-52.8\" font-family=\"Helvetica,sans-Serif\" font-size=\"14.00\">gini = 0.305</text>\n<text text-anchor=\"start\" x=\"2571\" y=\"-37.8\" font-family=\"Helvetica,sans-Serif\" font-size=\"14.00\">samples = 16</text>\n<text text-anchor=\"start\" x=\"2561.5\" y=\"-22.8\" font-family=\"Helvetica,sans-Serif\" font-size=\"14.00\">value = [3, 0, 13]</text>\n<text text-anchor=\"start\" x=\"2584.5\" y=\"-7.8\" font-family=\"Helvetica,sans-Serif\" font-size=\"14.00\">class = p</text>\n</g>\n<!-- 40&#45;&gt;41 -->\n<g id=\"edge41\" class=\"edge\">\n<title>40&#45;&gt;41</title>\n<path fill=\"none\" stroke=\"black\" d=\"M2652.8,-103.73C2647.6,-94.97 2642.1,-85.7 2636.88,-76.91\"/>\n<polygon fill=\"black\" stroke=\"black\" points=\"2639.88,-75.11 2631.77,-68.3 2633.86,-78.69 2639.88,-75.11\"/>\n</g>\n<!-- 42 -->\n<g id=\"node43\" class=\"node\">\n<title>42</title>\n<path fill=\"#ece2fb\" stroke=\"black\" d=\"M2817,-68C2817,-68 2701,-68 2701,-68 2695,-68 2689,-62 2689,-56 2689,-56 2689,-12 2689,-12 2689,-6 2695,0 2701,0 2701,0 2817,0 2817,0 2823,0 2829,-6 2829,-12 2829,-12 2829,-56 2829,-56 2829,-62 2823,-68 2817,-68\"/>\n<text text-anchor=\"start\" x=\"2723.5\" y=\"-52.8\" font-family=\"Helvetica,sans-Serif\" font-size=\"14.00\">gini = 0.615</text>\n<text text-anchor=\"start\" x=\"2714\" y=\"-37.8\" font-family=\"Helvetica,sans-Serif\" font-size=\"14.00\">samples = 218</text>\n<text text-anchor=\"start\" x=\"2697\" y=\"-22.8\" font-family=\"Helvetica,sans-Serif\" font-size=\"14.00\">value = [82, 34, 102]</text>\n<text text-anchor=\"start\" x=\"2731.5\" y=\"-7.8\" font-family=\"Helvetica,sans-Serif\" font-size=\"14.00\">class = p</text>\n</g>\n<!-- 40&#45;&gt;42 -->\n<g id=\"edge42\" class=\"edge\">\n<title>40&#45;&gt;42</title>\n<path fill=\"none\" stroke=\"black\" d=\"M2707.53,-103.73C2714.23,-94.79 2721.32,-85.32 2728.03,-76.36\"/>\n<polygon fill=\"black\" stroke=\"black\" points=\"2730.87,-78.4 2734.06,-68.3 2725.27,-74.21 2730.87,-78.4\"/>\n</g>\n<!-- 44 -->\n<g id=\"node45\" class=\"node\">\n<title>44</title>\n<path fill=\"#ab7bee\" stroke=\"black\" d=\"M2945,-68C2945,-68 2859,-68 2859,-68 2853,-68 2847,-62 2847,-56 2847,-56 2847,-12 2847,-12 2847,-6 2853,0 2859,0 2859,0 2945,0 2945,0 2951,0 2957,-6 2957,-12 2957,-12 2957,-56 2957,-56 2957,-62 2951,-68 2945,-68\"/>\n<text text-anchor=\"start\" x=\"2870\" y=\"-52.8\" font-family=\"Helvetica,sans-Serif\" font-size=\"14.00\">gini = 0.43</text>\n<text text-anchor=\"start\" x=\"2861\" y=\"-37.8\" font-family=\"Helvetica,sans-Serif\" font-size=\"14.00\">samples = 11</text>\n<text text-anchor=\"start\" x=\"2855\" y=\"-22.8\" font-family=\"Helvetica,sans-Serif\" font-size=\"14.00\">value = [2, 1, 8]</text>\n<text text-anchor=\"start\" x=\"2874.5\" y=\"-7.8\" font-family=\"Helvetica,sans-Serif\" font-size=\"14.00\">class = p</text>\n</g>\n<!-- 43&#45;&gt;44 -->\n<g id=\"edge44\" class=\"edge\">\n<title>43&#45;&gt;44</title>\n<path fill=\"none\" stroke=\"black\" d=\"M2902,-103.73C2902,-95.52 2902,-86.86 2902,-78.56\"/>\n<polygon fill=\"black\" stroke=\"black\" points=\"2905.5,-78.3 2902,-68.3 2898.5,-78.3 2905.5,-78.3\"/>\n</g>\n<!-- 45 -->\n<g id=\"node46\" class=\"node\">\n<title>45</title>\n<path fill=\"#ede3fb\" stroke=\"black\" d=\"M3073,-68C3073,-68 2987,-68 2987,-68 2981,-68 2975,-62 2975,-56 2975,-56 2975,-12 2975,-12 2975,-6 2981,0 2987,0 2987,0 3073,0 3073,0 3079,0 3085,-6 3085,-12 3085,-12 3085,-56 3085,-56 3085,-62 3079,-68 3073,-68\"/>\n<text text-anchor=\"start\" x=\"2994.5\" y=\"-52.8\" font-family=\"Helvetica,sans-Serif\" font-size=\"14.00\">gini = 0.497</text>\n<text text-anchor=\"start\" x=\"2989\" y=\"-37.8\" font-family=\"Helvetica,sans-Serif\" font-size=\"14.00\">samples = 13</text>\n<text text-anchor=\"start\" x=\"2983\" y=\"-22.8\" font-family=\"Helvetica,sans-Serif\" font-size=\"14.00\">value = [0, 6, 7]</text>\n<text text-anchor=\"start\" x=\"3002.5\" y=\"-7.8\" font-family=\"Helvetica,sans-Serif\" font-size=\"14.00\">class = p</text>\n</g>\n<!-- 43&#45;&gt;45 -->\n<g id=\"edge45\" class=\"edge\">\n<title>43&#45;&gt;45</title>\n<path fill=\"none\" stroke=\"black\" d=\"M2949.66,-103.73C2960.64,-94.33 2972.31,-84.35 2983.26,-74.99\"/>\n<polygon fill=\"black\" stroke=\"black\" points=\"2985.75,-77.46 2991.07,-68.3 2981.2,-72.14 2985.75,-77.46\"/>\n</g>\n<!-- 47 -->\n<g id=\"node48\" class=\"node\">\n<title>47</title>\n<path fill=\"#fffeff\" stroke=\"black\" d=\"M3475.5,-306C3475.5,-306 3352.5,-306 3352.5,-306 3346.5,-306 3340.5,-300 3340.5,-294 3340.5,-294 3340.5,-235 3340.5,-235 3340.5,-229 3346.5,-223 3352.5,-223 3352.5,-223 3475.5,-223 3475.5,-223 3481.5,-223 3487.5,-229 3487.5,-235 3487.5,-235 3487.5,-294 3487.5,-294 3487.5,-300 3481.5,-306 3475.5,-306\"/>\n<text text-anchor=\"start\" x=\"3361.5\" y=\"-290.8\" font-family=\"Helvetica,sans-Serif\" font-size=\"14.00\">Diameter ≤ 1.407</text>\n<text text-anchor=\"start\" x=\"3378.5\" y=\"-275.8\" font-family=\"Helvetica,sans-Serif\" font-size=\"14.00\">gini = 0.533</text>\n<text text-anchor=\"start\" x=\"3365.5\" y=\"-260.8\" font-family=\"Helvetica,sans-Serif\" font-size=\"14.00\">samples = 1076</text>\n<text text-anchor=\"start\" x=\"3348.5\" y=\"-245.8\" font-family=\"Helvetica,sans-Serif\" font-size=\"14.00\">value = [518, 38, 520]</text>\n<text text-anchor=\"start\" x=\"3386.5\" y=\"-230.8\" font-family=\"Helvetica,sans-Serif\" font-size=\"14.00\">class = p</text>\n</g>\n<!-- 46&#45;&gt;47 -->\n<g id=\"edge47\" class=\"edge\">\n<title>46&#45;&gt;47</title>\n<path fill=\"none\" stroke=\"black\" d=\"M3414,-341.91C3414,-333.65 3414,-324.86 3414,-316.3\"/>\n<polygon fill=\"black\" stroke=\"black\" points=\"3417.5,-316.02 3414,-306.02 3410.5,-316.02 3417.5,-316.02\"/>\n</g>\n<!-- 54 -->\n<g id=\"node55\" class=\"node\">\n<title>54</title>\n<path fill=\"#a572ec\" stroke=\"black\" d=\"M3831.5,-306C3831.5,-306 3712.5,-306 3712.5,-306 3706.5,-306 3700.5,-300 3700.5,-294 3700.5,-294 3700.5,-235 3700.5,-235 3700.5,-229 3706.5,-223 3712.5,-223 3712.5,-223 3831.5,-223 3831.5,-223 3837.5,-223 3843.5,-229 3843.5,-235 3843.5,-235 3843.5,-294 3843.5,-294 3843.5,-300 3837.5,-306 3831.5,-306\"/>\n<text text-anchor=\"start\" x=\"3708.5\" y=\"-290.8\" font-family=\"Helvetica,sans-Serif\" font-size=\"14.00\">LongestShell ≤ 2.215</text>\n<text text-anchor=\"start\" x=\"3736.5\" y=\"-275.8\" font-family=\"Helvetica,sans-Serif\" font-size=\"14.00\">gini = 0.348</text>\n<text text-anchor=\"start\" x=\"3731\" y=\"-260.8\" font-family=\"Helvetica,sans-Serif\" font-size=\"14.00\">samples = 67</text>\n<text text-anchor=\"start\" x=\"3717.5\" y=\"-245.8\" font-family=\"Helvetica,sans-Serif\" font-size=\"14.00\">value = [15, 0, 52]</text>\n<text text-anchor=\"start\" x=\"3744.5\" y=\"-230.8\" font-family=\"Helvetica,sans-Serif\" font-size=\"14.00\">class = p</text>\n</g>\n<!-- 46&#45;&gt;54 -->\n<g id=\"edge54\" class=\"edge\">\n<title>46&#45;&gt;54</title>\n<path fill=\"none\" stroke=\"black\" d=\"M3494.34,-356.24C3552.93,-337.1 3632.02,-311.25 3690.8,-292.04\"/>\n<polygon fill=\"black\" stroke=\"black\" points=\"3692,-295.33 3700.42,-288.89 3689.83,-288.67 3692,-295.33\"/>\n</g>\n<!-- 48 -->\n<g id=\"node49\" class=\"node\">\n<title>48</title>\n<path fill=\"#f6f1fd\" stroke=\"black\" d=\"M3402,-187C3402,-187 3266,-187 3266,-187 3260,-187 3254,-181 3254,-175 3254,-175 3254,-116 3254,-116 3254,-110 3260,-104 3266,-104 3266,-104 3402,-104 3402,-104 3408,-104 3414,-110 3414,-116 3414,-116 3414,-175 3414,-175 3414,-181 3408,-187 3402,-187\"/>\n<text text-anchor=\"start\" x=\"3262\" y=\"-171.8\" font-family=\"Helvetica,sans-Serif\" font-size=\"14.00\">ShuckedWeight ≤ 0.853</text>\n<text text-anchor=\"start\" x=\"3298.5\" y=\"-156.8\" font-family=\"Helvetica,sans-Serif\" font-size=\"14.00\">gini = 0.536</text>\n<text text-anchor=\"start\" x=\"3289\" y=\"-141.8\" font-family=\"Helvetica,sans-Serif\" font-size=\"14.00\">samples = 985</text>\n<text text-anchor=\"start\" x=\"3268.5\" y=\"-126.8\" font-family=\"Helvetica,sans-Serif\" font-size=\"14.00\">value = [455, 38, 492]</text>\n<text text-anchor=\"start\" x=\"3306.5\" y=\"-111.8\" font-family=\"Helvetica,sans-Serif\" font-size=\"14.00\">class = p</text>\n</g>\n<!-- 47&#45;&gt;48 -->\n<g id=\"edge48\" class=\"edge\">\n<title>47&#45;&gt;48</title>\n<path fill=\"none\" stroke=\"black\" d=\"M3386.24,-222.91C3380.16,-214.01 3373.66,-204.51 3367.39,-195.33\"/>\n<polygon fill=\"black\" stroke=\"black\" points=\"3370.24,-193.3 3361.71,-187.02 3364.46,-197.25 3370.24,-193.3\"/>\n</g>\n<!-- 51 -->\n<g id=\"node52\" class=\"node\">\n<title>51</title>\n<path fill=\"#f1b991\" stroke=\"black\" d=\"M3545.5,-187C3545.5,-187 3444.5,-187 3444.5,-187 3438.5,-187 3432.5,-181 3432.5,-175 3432.5,-175 3432.5,-116 3432.5,-116 3432.5,-110 3438.5,-104 3444.5,-104 3444.5,-104 3545.5,-104 3545.5,-104 3551.5,-104 3557.5,-110 3557.5,-116 3557.5,-116 3557.5,-175 3557.5,-175 3557.5,-181 3551.5,-187 3545.5,-187\"/>\n<text text-anchor=\"start\" x=\"3451\" y=\"-171.8\" font-family=\"Helvetica,sans-Serif\" font-size=\"14.00\">Height ≤ 1.386</text>\n<text text-anchor=\"start\" x=\"3459.5\" y=\"-156.8\" font-family=\"Helvetica,sans-Serif\" font-size=\"14.00\">gini = 0.426</text>\n<text text-anchor=\"start\" x=\"3454\" y=\"-141.8\" font-family=\"Helvetica,sans-Serif\" font-size=\"14.00\">samples = 91</text>\n<text text-anchor=\"start\" x=\"3440.5\" y=\"-126.8\" font-family=\"Helvetica,sans-Serif\" font-size=\"14.00\">value = [63, 0, 28]</text>\n<text text-anchor=\"start\" x=\"3467.5\" y=\"-111.8\" font-family=\"Helvetica,sans-Serif\" font-size=\"14.00\">class = T</text>\n</g>\n<!-- 47&#45;&gt;51 -->\n<g id=\"edge51\" class=\"edge\">\n<title>47&#45;&gt;51</title>\n<path fill=\"none\" stroke=\"black\" d=\"M3442.1,-222.91C3448.26,-214.01 3454.84,-204.51 3461.19,-195.33\"/>\n<polygon fill=\"black\" stroke=\"black\" points=\"3464.13,-197.24 3466.95,-187.02 3458.38,-193.25 3464.13,-197.24\"/>\n</g>\n<!-- 49 -->\n<g id=\"node50\" class=\"node\">\n<title>49</title>\n<path fill=\"#fdf6f0\" stroke=\"black\" d=\"M3238.5,-68C3238.5,-68 3115.5,-68 3115.5,-68 3109.5,-68 3103.5,-62 3103.5,-56 3103.5,-56 3103.5,-12 3103.5,-12 3103.5,-6 3109.5,0 3115.5,0 3115.5,0 3238.5,0 3238.5,0 3244.5,0 3250.5,-6 3250.5,-12 3250.5,-12 3250.5,-56 3250.5,-56 3250.5,-62 3244.5,-68 3238.5,-68\"/>\n<text text-anchor=\"start\" x=\"3141.5\" y=\"-52.8\" font-family=\"Helvetica,sans-Serif\" font-size=\"14.00\">gini = 0.546</text>\n<text text-anchor=\"start\" x=\"3132\" y=\"-37.8\" font-family=\"Helvetica,sans-Serif\" font-size=\"14.00\">samples = 568</text>\n<text text-anchor=\"start\" x=\"3111.5\" y=\"-22.8\" font-family=\"Helvetica,sans-Serif\" font-size=\"14.00\">value = [281, 29, 258]</text>\n<text text-anchor=\"start\" x=\"3149.5\" y=\"-7.8\" font-family=\"Helvetica,sans-Serif\" font-size=\"14.00\">class = T</text>\n</g>\n<!-- 48&#45;&gt;49 -->\n<g id=\"edge49\" class=\"edge\">\n<title>48&#45;&gt;49</title>\n<path fill=\"none\" stroke=\"black\" d=\"M3275.54,-103.73C3261.68,-94.06 3246.92,-83.77 3233.16,-74.17\"/>\n<polygon fill=\"black\" stroke=\"black\" points=\"3234.95,-71.15 3224.74,-68.3 3230.94,-76.89 3234.95,-71.15\"/>\n</g>\n<!-- 50 -->\n<g id=\"node51\" class=\"node\">\n<title>50</title>\n<path fill=\"#e0cef9\" stroke=\"black\" d=\"M3397,-68C3397,-68 3281,-68 3281,-68 3275,-68 3269,-62 3269,-56 3269,-56 3269,-12 3269,-12 3269,-6 3275,0 3281,0 3281,0 3397,0 3397,0 3403,0 3409,-6 3409,-12 3409,-12 3409,-56 3409,-56 3409,-62 3403,-68 3397,-68\"/>\n<text text-anchor=\"start\" x=\"3303.5\" y=\"-52.8\" font-family=\"Helvetica,sans-Serif\" font-size=\"14.00\">gini = 0.511</text>\n<text text-anchor=\"start\" x=\"3294\" y=\"-37.8\" font-family=\"Helvetica,sans-Serif\" font-size=\"14.00\">samples = 417</text>\n<text text-anchor=\"start\" x=\"3277\" y=\"-22.8\" font-family=\"Helvetica,sans-Serif\" font-size=\"14.00\">value = [174, 9, 234]</text>\n<text text-anchor=\"start\" x=\"3311.5\" y=\"-7.8\" font-family=\"Helvetica,sans-Serif\" font-size=\"14.00\">class = p</text>\n</g>\n<!-- 48&#45;&gt;50 -->\n<g id=\"edge50\" class=\"edge\">\n<title>48&#45;&gt;50</title>\n<path fill=\"none\" stroke=\"black\" d=\"M3335.86,-103.73C3336.24,-95.52 3336.63,-86.86 3337.01,-78.56\"/>\n<polygon fill=\"black\" stroke=\"black\" points=\"3340.52,-78.45 3337.48,-68.3 3333.53,-78.13 3340.52,-78.45\"/>\n</g>\n<!-- 52 -->\n<g id=\"node53\" class=\"node\">\n<title>52</title>\n<path fill=\"#eb9f68\" stroke=\"black\" d=\"M3540.5,-68C3540.5,-68 3439.5,-68 3439.5,-68 3433.5,-68 3427.5,-62 3427.5,-56 3427.5,-56 3427.5,-12 3427.5,-12 3427.5,-6 3433.5,0 3439.5,0 3439.5,0 3540.5,0 3540.5,0 3546.5,0 3552.5,-6 3552.5,-12 3552.5,-12 3552.5,-56 3552.5,-56 3552.5,-62 3546.5,-68 3540.5,-68\"/>\n<text text-anchor=\"start\" x=\"3454.5\" y=\"-52.8\" font-family=\"Helvetica,sans-Serif\" font-size=\"14.00\">gini = 0.311</text>\n<text text-anchor=\"start\" x=\"3449\" y=\"-37.8\" font-family=\"Helvetica,sans-Serif\" font-size=\"14.00\">samples = 52</text>\n<text text-anchor=\"start\" x=\"3435.5\" y=\"-22.8\" font-family=\"Helvetica,sans-Serif\" font-size=\"14.00\">value = [42, 0, 10]</text>\n<text text-anchor=\"start\" x=\"3462.5\" y=\"-7.8\" font-family=\"Helvetica,sans-Serif\" font-size=\"14.00\">class = T</text>\n</g>\n<!-- 51&#45;&gt;52 -->\n<g id=\"edge52\" class=\"edge\">\n<title>51&#45;&gt;52</title>\n<path fill=\"none\" stroke=\"black\" d=\"M3493.14,-103.73C3492.76,-95.52 3492.37,-86.86 3491.99,-78.56\"/>\n<polygon fill=\"black\" stroke=\"black\" points=\"3495.47,-78.13 3491.52,-68.3 3488.48,-78.45 3495.47,-78.13\"/>\n</g>\n<!-- 53 -->\n<g id=\"node54\" class=\"node\">\n<title>53</title>\n<path fill=\"#fbede3\" stroke=\"black\" d=\"M3683.5,-68C3683.5,-68 3582.5,-68 3582.5,-68 3576.5,-68 3570.5,-62 3570.5,-56 3570.5,-56 3570.5,-12 3570.5,-12 3570.5,-6 3576.5,0 3582.5,0 3582.5,0 3683.5,0 3683.5,0 3689.5,0 3695.5,-6 3695.5,-12 3695.5,-12 3695.5,-56 3695.5,-56 3695.5,-62 3689.5,-68 3683.5,-68\"/>\n<text text-anchor=\"start\" x=\"3597.5\" y=\"-52.8\" font-family=\"Helvetica,sans-Serif\" font-size=\"14.00\">gini = 0.497</text>\n<text text-anchor=\"start\" x=\"3592\" y=\"-37.8\" font-family=\"Helvetica,sans-Serif\" font-size=\"14.00\">samples = 39</text>\n<text text-anchor=\"start\" x=\"3578.5\" y=\"-22.8\" font-family=\"Helvetica,sans-Serif\" font-size=\"14.00\">value = [21, 0, 18]</text>\n<text text-anchor=\"start\" x=\"3605.5\" y=\"-7.8\" font-family=\"Helvetica,sans-Serif\" font-size=\"14.00\">class = T</text>\n</g>\n<!-- 51&#45;&gt;53 -->\n<g id=\"edge53\" class=\"edge\">\n<title>51&#45;&gt;53</title>\n<path fill=\"none\" stroke=\"black\" d=\"M3546.39,-103.73C3558.34,-94.24 3571.05,-84.16 3582.95,-74.72\"/>\n<polygon fill=\"black\" stroke=\"black\" points=\"3585.38,-77.26 3591.03,-68.3 3581.02,-71.77 3585.38,-77.26\"/>\n</g>\n<!-- 55 -->\n<g id=\"node56\" class=\"node\">\n<title>55</title>\n<path fill=\"#a06aec\" stroke=\"black\" d=\"M3822.5,-187C3822.5,-187 3721.5,-187 3721.5,-187 3715.5,-187 3709.5,-181 3709.5,-175 3709.5,-175 3709.5,-116 3709.5,-116 3709.5,-110 3715.5,-104 3721.5,-104 3721.5,-104 3822.5,-104 3822.5,-104 3828.5,-104 3834.5,-110 3834.5,-116 3834.5,-116 3834.5,-175 3834.5,-175 3834.5,-181 3828.5,-187 3822.5,-187\"/>\n<text text-anchor=\"start\" x=\"3719.5\" y=\"-171.8\" font-family=\"Helvetica,sans-Serif\" font-size=\"14.00\">Diameter ≤ 1.558</text>\n<text text-anchor=\"start\" x=\"3740\" y=\"-156.8\" font-family=\"Helvetica,sans-Serif\" font-size=\"14.00\">gini = 0.32</text>\n<text text-anchor=\"start\" x=\"3731\" y=\"-141.8\" font-family=\"Helvetica,sans-Serif\" font-size=\"14.00\">samples = 65</text>\n<text text-anchor=\"start\" x=\"3717.5\" y=\"-126.8\" font-family=\"Helvetica,sans-Serif\" font-size=\"14.00\">value = [13, 0, 52]</text>\n<text text-anchor=\"start\" x=\"3744.5\" y=\"-111.8\" font-family=\"Helvetica,sans-Serif\" font-size=\"14.00\">class = p</text>\n</g>\n<!-- 54&#45;&gt;55 -->\n<g id=\"edge55\" class=\"edge\">\n<title>54&#45;&gt;55</title>\n<path fill=\"none\" stroke=\"black\" d=\"M3772,-222.91C3772,-214.65 3772,-205.86 3772,-197.3\"/>\n<polygon fill=\"black\" stroke=\"black\" points=\"3775.5,-197.02 3772,-187.02 3768.5,-197.02 3775.5,-197.02\"/>\n</g>\n<!-- 58 -->\n<g id=\"node59\" class=\"node\">\n<title>58</title>\n<path fill=\"#e58139\" stroke=\"black\" d=\"M3951,-179.5C3951,-179.5 3865,-179.5 3865,-179.5 3859,-179.5 3853,-173.5 3853,-167.5 3853,-167.5 3853,-123.5 3853,-123.5 3853,-117.5 3859,-111.5 3865,-111.5 3865,-111.5 3951,-111.5 3951,-111.5 3957,-111.5 3963,-117.5 3963,-123.5 3963,-123.5 3963,-167.5 3963,-167.5 3963,-173.5 3957,-179.5 3951,-179.5\"/>\n<text text-anchor=\"start\" x=\"3880\" y=\"-164.3\" font-family=\"Helvetica,sans-Serif\" font-size=\"14.00\">gini = 0.0</text>\n<text text-anchor=\"start\" x=\"3870.5\" y=\"-149.3\" font-family=\"Helvetica,sans-Serif\" font-size=\"14.00\">samples = 2</text>\n<text text-anchor=\"start\" x=\"3861\" y=\"-134.3\" font-family=\"Helvetica,sans-Serif\" font-size=\"14.00\">value = [2, 0, 0]</text>\n<text text-anchor=\"start\" x=\"3880.5\" y=\"-119.3\" font-family=\"Helvetica,sans-Serif\" font-size=\"14.00\">class = T</text>\n</g>\n<!-- 54&#45;&gt;58 -->\n<g id=\"edge58\" class=\"edge\">\n<title>54&#45;&gt;58</title>\n<path fill=\"none\" stroke=\"black\" d=\"M3819.18,-222.91C3832.91,-211.1 3847.89,-198.22 3861.56,-186.45\"/>\n<polygon fill=\"black\" stroke=\"black\" points=\"3864.15,-188.84 3869.45,-179.67 3859.58,-183.54 3864.15,-188.84\"/>\n</g>\n<!-- 56 -->\n<g id=\"node57\" class=\"node\">\n<title>56</title>\n<path fill=\"#8742e6\" stroke=\"black\" d=\"M3818.5,-68C3818.5,-68 3725.5,-68 3725.5,-68 3719.5,-68 3713.5,-62 3713.5,-56 3713.5,-56 3713.5,-12 3713.5,-12 3713.5,-6 3719.5,0 3725.5,0 3725.5,0 3818.5,0 3818.5,0 3824.5,0 3830.5,-6 3830.5,-12 3830.5,-12 3830.5,-56 3830.5,-56 3830.5,-62 3824.5,-68 3818.5,-68\"/>\n<text text-anchor=\"start\" x=\"3736.5\" y=\"-52.8\" font-family=\"Helvetica,sans-Serif\" font-size=\"14.00\">gini = 0.083</text>\n<text text-anchor=\"start\" x=\"3731\" y=\"-37.8\" font-family=\"Helvetica,sans-Serif\" font-size=\"14.00\">samples = 23</text>\n<text text-anchor=\"start\" x=\"3721.5\" y=\"-22.8\" font-family=\"Helvetica,sans-Serif\" font-size=\"14.00\">value = [1, 0, 22]</text>\n<text text-anchor=\"start\" x=\"3744.5\" y=\"-7.8\" font-family=\"Helvetica,sans-Serif\" font-size=\"14.00\">class = p</text>\n</g>\n<!-- 55&#45;&gt;56 -->\n<g id=\"edge56\" class=\"edge\">\n<title>55&#45;&gt;56</title>\n<path fill=\"none\" stroke=\"black\" d=\"M3772,-103.73C3772,-95.52 3772,-86.86 3772,-78.56\"/>\n<polygon fill=\"black\" stroke=\"black\" points=\"3775.5,-78.3 3772,-68.3 3768.5,-78.3 3775.5,-78.3\"/>\n</g>\n<!-- 57 -->\n<g id=\"node58\" class=\"node\">\n<title>57</title>\n<path fill=\"#b388ef\" stroke=\"black\" d=\"M3961.5,-68C3961.5,-68 3860.5,-68 3860.5,-68 3854.5,-68 3848.5,-62 3848.5,-56 3848.5,-56 3848.5,-12 3848.5,-12 3848.5,-6 3854.5,0 3860.5,0 3860.5,0 3961.5,0 3961.5,0 3967.5,0 3973.5,-6 3973.5,-12 3973.5,-12 3973.5,-56 3973.5,-56 3973.5,-62 3967.5,-68 3961.5,-68\"/>\n<text text-anchor=\"start\" x=\"3875.5\" y=\"-52.8\" font-family=\"Helvetica,sans-Serif\" font-size=\"14.00\">gini = 0.408</text>\n<text text-anchor=\"start\" x=\"3870\" y=\"-37.8\" font-family=\"Helvetica,sans-Serif\" font-size=\"14.00\">samples = 42</text>\n<text text-anchor=\"start\" x=\"3856.5\" y=\"-22.8\" font-family=\"Helvetica,sans-Serif\" font-size=\"14.00\">value = [12, 0, 30]</text>\n<text text-anchor=\"start\" x=\"3883.5\" y=\"-7.8\" font-family=\"Helvetica,sans-Serif\" font-size=\"14.00\">class = p</text>\n</g>\n<!-- 55&#45;&gt;57 -->\n<g id=\"edge57\" class=\"edge\">\n<title>55&#45;&gt;57</title>\n<path fill=\"none\" stroke=\"black\" d=\"M3823.76,-103.73C3835.8,-94.24 3848.6,-84.16 3860.58,-74.72\"/>\n<polygon fill=\"black\" stroke=\"black\" points=\"3863.04,-77.24 3868.73,-68.3 3858.71,-71.74 3863.04,-77.24\"/>\n</g>\n</g>\n</svg>\n",
            "text/plain": [
              "<graphviz.sources.Source at 0x7838e5b3c7c0>"
            ]
          },
          "metadata": {}
        }
      ]
    },
    {
      "cell_type": "code",
      "source": [
        "# print to the output file\n",
        "print('**************************************************************', file = outputFile)\n",
        "print('(A) Classifier 2 - Top DT', file = outputFile)\n",
        "print(classifier_2, file = outputFile)\n",
        "print(f'best parameters: {classifier_2.best_params_}\\n', file = outputFile)\n",
        "print('\\n', file = outputFile)\n",
        "outputFile.flush()"
      ],
      "metadata": {
        "id": "o8yWMcL873FK"
      },
      "execution_count": 56,
      "outputs": []
    },
    {
      "cell_type": "code",
      "source": [
        "# print classification report\n",
        "y_pred = classifier_2.predict(X_test)\n",
        "confusion_mat= confusion_matrix(y_test, y_pred)\n",
        "\n",
        "print(classification_report(y_test, y_pred, target_names=['F', 'M', 'I']))\n",
        "print(\"confusion matrix\\n\",confusion_mat)\n",
        "\n",
        "# print the result to the output file\n",
        "confusion_matrix_result =np.array2string(confusion_mat)\n",
        "print(\"(B) Confusion Matrix\", file = outputFile)\n",
        "print(confusion_matrix_result, file = outputFile)\n",
        "print('\\n', file = outputFile)\n",
        "print('(C,D) Classification Report', file = outputFile)\n",
        "print(classification_report(y_test, y_pred, target_names = ['F', 'M', 'I']), file = outputFile)\n",
        "outputFile.flush()"
      ],
      "metadata": {
        "id": "v88y-qmq73OR",
        "outputId": "c79266e1-049a-4b09-8242-5efea625bf58",
        "colab": {
          "base_uri": "https://localhost:8080/"
        }
      },
      "execution_count": 57,
      "outputs": [
        {
          "output_type": "stream",
          "name": "stdout",
          "text": [
            "              precision    recall  f1-score   support\n",
            "\n",
            "           F       0.47      0.48      0.47       419\n",
            "           M       0.70      0.76      0.73       396\n",
            "           I       0.45      0.40      0.43       439\n",
            "\n",
            "    accuracy                           0.54      1254\n",
            "   macro avg       0.54      0.55      0.54      1254\n",
            "weighted avg       0.54      0.54      0.54      1254\n",
            "\n",
            "confusion matrix\n",
            " [[201  52 166]\n",
            " [ 45 302  49]\n",
            " [185  77 177]]\n"
          ]
        }
      ]
    },
    {
      "cell_type": "code",
      "source": [
        "# repeat training & grid search & prediction 5 times for classifier 2\n",
        "from sklearn.metrics import accuracy_score, f1_score\n",
        "\n",
        "accuracy_TopDT = np.zeros(5)\n",
        "macro_avg_TopDT = np.zeros(5)\n",
        "weighted_avg_TopDT = np.zeros(5)\n",
        "\n",
        "for i in range(5):\n",
        "  X_train, X_test, y_train, y_test = train_test_split(X, y, test_size = 0.3)\n",
        "\n",
        "  classifier_2 = GridSearchCV(DecisionTreeClassifier(), parameters)\n",
        "  classifier_2.fit(X_train, y_train)\n",
        "\n",
        "  print('\\n(E) The result after 5 times of train-test repetition:' ,file = outputFile)\n",
        "  print(f'best parameters for iteration{i+1}: {classifier_2.best_params_}',file = outputFile)\n",
        "  print(f'best parameters for iteration{i+1}: {classifier_2.best_params_}')\n",
        "\n",
        "  y_pred = classifier_2.predict(X_test)\n",
        "\n",
        "  # find the accuracy for each iteration and store the value\n",
        "  accuracy_TopDT[i] = accuracy_score(y_test, y_pred)\n",
        "  macro_avg_TopDT[i] = f1_score(y_test, y_pred, average='macro')\n",
        "  weighted_avg_TopDT[i] = f1_score(y_test, y_pred, average='weighted')\n",
        "\n",
        "# compute the average accuracy & variances\n",
        "print(f'accuracy_TopDT: {accuracy_TopDT}')\n",
        "Avg_accuracy = (np.sum(accuracy_TopDT))/5\n",
        "accuracy_variance = np.var(accuracy_TopDT)\n",
        "print(f'average accuracy: {Avg_accuracy}, variance: {accuracy_variance}')\n",
        "\n",
        "# compute the average macro-average F1 & the variance\n",
        "print(f'macro_avg_TopDT: {macro_avg_TopDT}')\n",
        "Avg_macro_avg = (np.sum(macro_avg_TopDT))/5\n",
        "f1_macro_variance = np.var(macro_avg_TopDT)\n",
        "print(f'average macro-average F1: {Avg_macro_avg}, variance: {f1_macro_variance}')\n",
        "\n",
        "# compute the average weighted-average F1 & the variance\n",
        "print(f'weighted_avg_TopDT: {weighted_avg_TopDT}')\n",
        "Avg_weighted_avg = (np.sum(weighted_avg_TopDT))/5\n",
        "f1_weighted_variance = np.var(weighted_avg_TopDT)\n",
        "print(f'average weighted-average F1: {Avg_weighted_avg}, variance: {f1_weighted_variance}')"
      ],
      "metadata": {
        "colab": {
          "base_uri": "https://localhost:8080/"
        },
        "id": "ctr66poidV4P",
        "outputId": "e8ca36e0-cbf5-4179-d02e-31a6098d42ef"
      },
      "execution_count": 58,
      "outputs": [
        {
          "output_type": "stream",
          "name": "stdout",
          "text": [
            "best parameters for iteration1: {'criterion': 'entropy', 'max_depth': 5, 'min_samples_split': 10}\n",
            "best parameters for iteration2: {'criterion': 'entropy', 'max_depth': 5, 'min_samples_split': 10}\n",
            "best parameters for iteration3: {'criterion': 'entropy', 'max_depth': 5, 'min_samples_split': 5}\n",
            "best parameters for iteration4: {'criterion': 'entropy', 'max_depth': 5, 'min_samples_split': 2}\n",
            "best parameters for iteration5: {'criterion': 'entropy', 'max_depth': 5, 'min_samples_split': 2}\n",
            "accuracy_TopDT: [0.5446571  0.55103668 0.55821372 0.55023923 0.53987241]\n",
            "average accuracy: 0.5488038277511962, variance: 3.8511531838149615e-05\n",
            "macro_avg_TopDT: [0.54062333 0.54736145 0.55257113 0.54535001 0.53542898]\n",
            "average macro-average F1: 0.5442669796039264, variance: 3.421882740289588e-05\n",
            "weighted_avg_TopDT: [0.53944101 0.54409336 0.54718543 0.54445393 0.53655694]\n",
            "average weighted-average F1: 0.542346134542257, variance: 1.4573793347190438e-05\n"
          ]
        }
      ]
    },
    {
      "cell_type": "code",
      "source": [
        "# print the performance result to outputfile\n",
        "print(f'average accuracy: {Avg_accuracy}, variance: {accuracy_variance}', file = outputFile)\n",
        "print(f'average macro-average F1: {Avg_macro_avg}, variance: {f1_macro_variance}', file = outputFile)\n",
        "print(f'average weighted-average F1: {Avg_weighted_avg}, variance: {f1_weighted_variance}', file = outputFile)\n",
        "outputFile.flush()"
      ],
      "metadata": {
        "id": "x9YFP9uEdV62"
      },
      "execution_count": 59,
      "outputs": []
    },
    {
      "cell_type": "markdown",
      "source": [
        "##### Classifier 3 - Base-MLP"
      ],
      "metadata": {
        "id": "GQrsfw6Xm1nI"
      }
    },
    {
      "cell_type": "code",
      "source": [
        "#Train Classifier 3\n",
        "mlp_base_abalone = MLPClassifier(hidden_layer_sizes =(100, 100,), activation = 'logistic', solver = 'sgd')\n",
        "mlp_base_abalone.fit(X_train, y_train)\n",
        "\n",
        "#print to the output file\n",
        "print('**************************************************************', file = outputFile)\n",
        "print('(A) Classifier 3 - Base MLP', file = outputFile)\n",
        "print(mlp_base_abalone, file = outputFile)"
      ],
      "metadata": {
        "id": "MiIPiod7m7qC"
      },
      "execution_count": null,
      "outputs": []
    },
    {
      "cell_type": "markdown",
      "source": [
        "Metrics for Classifier 3"
      ],
      "metadata": {
        "id": "1TD8ynkGoZAP"
      }
    },
    {
      "cell_type": "code",
      "source": [
        "#predict with Base MLP\n",
        "y_pred_base_mlp = mlp_base_abalone.predict(X_test)\n",
        "\n",
        "#print the result here on notebook\n",
        "print(classification_report(y_test, y_pred_base_mlp, target_names = ['F', 'M', 'I']))\n",
        "print(confusion_matrix(y_test, y_pred_base_mlp))\n",
        "\n",
        "#print the result to the output file\n",
        "print(\"\\n(B) Confusion Matrix\", file = outputFile)\n",
        "confusion_matrix_result = np.array2string(confusion_matrix(y_test, y_pred_base_mlp))\n",
        "print(confusion_matrix_result, file = outputFile)\n",
        "print(\"\\n(C, D) Classification Report\", file = outputFile)\n",
        "print(classification_report(y_test, y_pred_base_mlp, target_names = ['F', 'M', 'I']), file = outputFile)\n",
        "\n",
        "outputFile.flush()"
      ],
      "metadata": {
        "id": "coh8LE0bocLA",
        "outputId": "a0956dc0-b934-4d81-ce55-719503606564",
        "colab": {
          "base_uri": "https://localhost:8080/"
        }
      },
      "execution_count": null,
      "outputs": [
        {
          "output_type": "stream",
          "name": "stdout",
          "text": [
            "              precision    recall  f1-score   support\n",
            "\n",
            "           F       0.40      0.01      0.02       387\n",
            "           M       0.65      0.79      0.72       411\n",
            "           I       0.46      0.75      0.57       456\n",
            "\n",
            "    accuracy                           0.53      1254\n",
            "   macro avg       0.50      0.52      0.43      1254\n",
            "weighted avg       0.50      0.53      0.45      1254\n",
            "\n",
            "[[  4  64 319]\n",
            " [  0 326  85]\n",
            " [  6 110 340]]\n"
          ]
        }
      ]
    },
    {
      "cell_type": "code",
      "source": [
        "MLP_base_train_test_repetition(X, y, outputFile, ['F', 'M', 'I'])"
      ],
      "metadata": {
        "id": "Ss7voSkYmhiK"
      },
      "execution_count": null,
      "outputs": []
    },
    {
      "cell_type": "markdown",
      "source": [
        "##### Classifier 4 - Top-MLP"
      ],
      "metadata": {
        "id": "okD7I5KHnODP"
      }
    },
    {
      "cell_type": "code",
      "source": [
        "#create grid for each hyperparamter we want to test\n",
        "activation_grid = np.array(['logistic', 'tanh', 'relu'])\n",
        "neurons_tuple_grid = np.array([(30, 50,), (10, 10, 10,)])\n",
        "solver_grid = np.array(['adam', 'sgd'])\n",
        "\n",
        "#create parameter grid for GridSearchCV\n",
        "param_grid = {'hidden_layer_sizes': neurons_tuple_grid, 'activation': activation_grid, 'solver': solver_grid}\n",
        "\n",
        "#create grid cv object and search\n",
        "mlp_top_abalone = MLPClassifier()\n",
        "gridcv = sk.model_selection.GridSearchCV(mlp_top_abalone, param_grid = param_grid)\n",
        "gridcv.fit(X_train, y_train)\n",
        "\n",
        "#print the result here on notebook\n",
        "print(f'best parameters: {gridcv.best_params_}')\n",
        "\n",
        "#print the result to the output file\n",
        "print('**************************************************************', file = outputFile)\n",
        "print('(A) Classifier 4 - Top MLP', file = outputFile)\n",
        "print(f'best parameters: {gridcv.best_params_}', file = outputFile)\n",
        "outputFile.flush()"
      ],
      "metadata": {
        "id": "mphIulW3nREP",
        "outputId": "5abdcdd0-1a98-452a-dba9-7fd888feb1f3",
        "colab": {
          "base_uri": "https://localhost:8080/"
        }
      },
      "execution_count": null,
      "outputs": [
        {
          "output_type": "stream",
          "name": "stdout",
          "text": [
            "best parameters: {'activation': 'tanh', 'hidden_layer_sizes': (30, 50), 'solver': 'adam'}\n"
          ]
        }
      ]
    },
    {
      "cell_type": "markdown",
      "source": [
        "Metrics for Classifier 4"
      ],
      "metadata": {
        "id": "PXrrvETEpQNZ"
      }
    },
    {
      "cell_type": "code",
      "source": [
        "y_pred_top_mlp = gridcv.best_estimator_.predict(X_test)\n",
        "print(classification_report(y_test, y_pred_top_mlp, target_names = ['F', 'M', 'I']))\n",
        "print(confusion_matrix(y_test, y_pred_top_mlp))\n",
        "\n",
        "print(\"\\n(B) Confusion Matrix\", file = outputFile)\n",
        "confusion_matrix_result = np.array2string(confusion_matrix(y_test, y_pred_top_mlp))\n",
        "print(confusion_matrix_result, file = outputFile)\n",
        "print(\"\\n(C, D) Classification Report\", file = outputFile)\n",
        "print(classification_report(y_test, y_pred_top_mlp, target_names = ['F', 'M', 'I']), file = outputFile)\n",
        "\n",
        "outputFile.flush()"
      ],
      "metadata": {
        "id": "KbwAcoZLpSQW",
        "outputId": "27394855-837f-4456-cfc6-b37e3c7c05b2",
        "colab": {
          "base_uri": "https://localhost:8080/"
        }
      },
      "execution_count": null,
      "outputs": [
        {
          "output_type": "stream",
          "name": "stdout",
          "text": [
            "              precision    recall  f1-score   support\n",
            "\n",
            "           F       0.43      0.36      0.39       387\n",
            "           M       0.70      0.79      0.75       411\n",
            "           I       0.46      0.47      0.47       456\n",
            "\n",
            "    accuracy                           0.54      1254\n",
            "   macro avg       0.53      0.54      0.54      1254\n",
            "weighted avg       0.53      0.54      0.54      1254\n",
            "\n",
            "[[141  51 195]\n",
            " [ 32 325  54]\n",
            " [156  85 215]]\n"
          ]
        }
      ]
    },
    {
      "cell_type": "code",
      "source": [
        "MLP_top_train_test_repetition(param_grid, X, y, outputFile, ['F', 'M', 'I'])"
      ],
      "metadata": {
        "id": "gTPJwcXCnwYK"
      },
      "execution_count": null,
      "outputs": []
    },
    {
      "cell_type": "code",
      "source": [
        "outputFile.close()"
      ],
      "metadata": {
        "id": "4AxS7Io7pFta"
      },
      "execution_count": null,
      "outputs": []
    }
  ]
}