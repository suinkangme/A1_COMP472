{
  "nbformat": 4,
  "nbformat_minor": 0,
  "metadata": {
    "colab": {
      "provenance": [],
      "collapsed_sections": [
        "n3GMoC3wzPte"
      ],
      "include_colab_link": true
    },
    "kernelspec": {
      "name": "python3",
      "display_name": "Python 3"
    },
    "language_info": {
      "name": "python"
    }
  },
  "cells": [
    {
      "cell_type": "markdown",
      "metadata": {
        "id": "view-in-github",
        "colab_type": "text"
      },
      "source": [
        "<a href=\"https://colab.research.google.com/github/suinkangme/A1_COMP472/blob/main/A1_COMP472.ipynb\" target=\"_parent\"><img src=\"https://colab.research.google.com/assets/colab-badge.svg\" alt=\"Open In Colab\"/></a>"
      ]
    },
    {
      "cell_type": "markdown",
      "source": [
        "# A1 - COMP 472\n",
        "\n",
        "Hyun Soo Kim 40174913\n",
        "\n",
        "Suin Kang 40129337"
      ],
      "metadata": {
        "id": "OuS04gqWrlBb"
      }
    },
    {
      "cell_type": "code",
      "source": [
        "import pandas as pd\n",
        "import sklearn as sk\n",
        "import numpy as np\n",
        "import matplotlib.pyplot as plt\n",
        "import seaborn as sns\n",
        "import graphviz\n",
        "from sklearn.metrics import classification_report\n",
        "from sklearn.metrics import confusion_matrix\n",
        "import warnings\n",
        "from sklearn.neural_network import MLPClassifier"
      ],
      "metadata": {
        "id": "plbuWv54rsMP"
      },
      "execution_count": 73,
      "outputs": []
    },
    {
      "cell_type": "markdown",
      "source": [
        "### Import the MyDrive library from CoLab"
      ],
      "metadata": {
        "id": "n3GMoC3wzPte"
      }
    },
    {
      "cell_type": "code",
      "source": [
        "from google.colab import drive\n",
        "drive.mount('/content/drive')\n",
        "\n",
        "# the directory owns this notebook and dataset\n",
        "import os\n",
        "os.chdir('/content/drive/MyDrive/comp472/')"
      ],
      "metadata": {
        "id": "QM05GBSaoZIy",
        "colab": {
          "base_uri": "https://localhost:8080/"
        },
        "outputId": "5ca9148c-4447-4eb0-d618-5e8873f0c97a"
      },
      "execution_count": 74,
      "outputs": [
        {
          "output_type": "stream",
          "name": "stdout",
          "text": [
            "Drive already mounted at /content/drive; to attempt to forcibly remount, call drive.mount(\"/content/drive\", force_remount=True).\n"
          ]
        }
      ]
    },
    {
      "cell_type": "markdown",
      "source": [
        "### Definition of train-test-repetition function"
      ],
      "metadata": {
        "id": "UQWo18d_G_Au"
      }
    },
    {
      "cell_type": "code",
      "source": [
        "def MLP_base_train_test_repetition(X, y, outputFile, target_names):\n",
        "  accuracy = []\n",
        "  macro_avg = []\n",
        "  weighted_avg = []\n",
        "\n",
        "  print(\"\\nBase MLP Train-Test Repetition\\n\", file = outputFile)\n",
        "\n",
        "  #repeat 5 times\n",
        "  for i in range (0,5):\n",
        "\n",
        "    #data is shuffled every time\n",
        "    X_train, X_test, y_train, y_test = train_test_split(X, y, test_size = 0.3)\n",
        "\n",
        "    #base MLP\n",
        "    #initialize new model with same hyperparameters\n",
        "    model = MLPClassifier(hidden_layer_sizes = (100, 100,), activation = 'logistic', solver = 'sgd')\n",
        "\n",
        "    #train and predict\n",
        "    model.fit(X_train, y_train)\n",
        "    y_pred = model.predict(X_test)\n",
        "\n",
        "    #for average accuracy / macro-average f1 score / weighted-average f1 score and variance calculation\n",
        "    output = classification_report(y_test, y_pred, target_names = target_names, output_dict = True)\n",
        "    accuracy.append(output['accuracy'])\n",
        "    macro_avg.append(output['macro avg']['f1-score'])\n",
        "    weighted_avg.append(output['weighted avg']['f1-score'])\n",
        "\n",
        "    #print to text file. This would make it easier to validate the result of each model\n",
        "    print(f'=== Iteration {i+1} === ', file = outputFile)\n",
        "    print(f\"(A) {model}\\n\", file = outputFile)\n",
        "    print(\"(B) Confusion Matrix\", file = outputFile)\n",
        "    confusion_matrix_result = confusion_matrix(y_test, y_pred)\n",
        "    print(confusion_matrix_result, file = outputFile)\n",
        "\n",
        "    print(\"\\n(C,D) Classification Report\", file = outputFile)\n",
        "    print(classification_report(y_test, y_pred, target_names = target_names), file =outputFile)\n",
        "\n",
        "  #append the calculation in the report\n",
        "  print('(E) The result after 5 times of train-test repetition:' ,file = outputFile)\n",
        "  print(f'\\tThe average accuracy / variance: {np.mean(accuracy): 6.4f}, {np.var(accuracy): 6.6f}', file = outputFile)\n",
        "  print(f'\\tThe average macro-average f1 score / variance: {np.mean(macro_avg): 6.4f}, {np.var(macro_avg): 6.6f}', file = outputFile)\n",
        "  print(f'\\tThe average weighted-average f1 score / variance: {np.mean(weighted_avg): 6.4f}, {np.var(weighted_avg): 6.6f}', file = outputFile)\n",
        "  print('\\n', file = outputFile)\n",
        "  outputFile.flush()"
      ],
      "metadata": {
        "id": "V7wnBMtiS7ns"
      },
      "execution_count": 77,
      "outputs": []
    },
    {
      "cell_type": "code",
      "source": [
        "def MLP_top_train_test_repetition(param_grid, X, y, outputFile, target_names):\n",
        "  accuracy = []\n",
        "  macro_avg = []\n",
        "  weighted_avg = []\n",
        "\n",
        "  print(\"\\nTop MLP Train-Test Repetition\\n\", file = outputFile)\n",
        "\n",
        "  #repeat 5 times\n",
        "  for i in range (0,5):\n",
        "\n",
        "    #data is shuffled every time\n",
        "    X_train, X_test, y_train, y_test = train_test_split(X, y, test_size = 0.3)\n",
        "\n",
        "    #top MLP\n",
        "    #initialize new model with same hyperparameters\n",
        "    gridcv = sk.model_selection.GridSearchCV(MLPClassifier(), param_grid = param_grid)\n",
        "    gridcv.fit(X_train, y_train)\n",
        "\n",
        "    #predict\n",
        "    y_pred = gridcv.best_estimator_.predict(X_test)\n",
        "\n",
        "    #for average accuracy / macro-average f1 score / weighted-average f1 score and variance calculation\n",
        "    output = classification_report(y_test, y_pred, target_names = target_names, output_dict = True)\n",
        "    accuracy.append(output['accuracy'])\n",
        "    macro_avg.append(output['macro avg']['f1-score'])\n",
        "    weighted_avg.append(output['weighted avg']['f1-score'])\n",
        "\n",
        "    #print to text file. This would make it easier to validate the result of each model\n",
        "    print(f'=== Iteration {i+1} === ', file = outputFile)\n",
        "    print(f\"(A) Best Parameters: {gridcv.best_params_}\", file = outputFile)\n",
        "    print(\"\\n(B) Confusion Matrix\", file = outputFile)\n",
        "    confusion_matrix_result = confusion_matrix(y_test, y_pred)\n",
        "    print(confusion_matrix_result, file = outputFile)\n",
        "\n",
        "    print(\"\\n(C,D) Classification Report\", file = outputFile)\n",
        "    print(classification_report(y_test, y_pred, target_names = target_names), file =outputFile)\n",
        "\n",
        "  #append the calculation in the report\n",
        "  print('(E) The result after 5 times of train-test repetition:' ,file = outputFile)\n",
        "  print(f'\\tThe average accuracy / variance: {np.mean(accuracy): 6.4f}, {np.var(accuracy): 6.6f}', file = outputFile)\n",
        "  print(f'\\tThe average macro-average f1 score / variance: {np.mean(macro_avg): 6.4f}, {np.var(macro_avg): 6.6f}', file = outputFile)\n",
        "  print(f'\\tThe average weighted-average f1 score / variance: {np.mean(weighted_avg): 6.4f}, {np.var(weighted_avg): 6.6f}', file = outputFile)\n",
        "  print('\\n', file = outputFile)\n",
        "  outputFile.flush()"
      ],
      "metadata": {
        "id": "wJbuEpDgTOo4"
      },
      "execution_count": 78,
      "outputs": []
    },
    {
      "cell_type": "markdown",
      "source": [
        "## Dataset - 'penguins.csv'\n",
        "- Goal : prediction of species\n",
        "(Adelie, Gentoo, Chinstap)"
      ],
      "metadata": {
        "id": "a0o_UdOEzTw_"
      }
    },
    {
      "cell_type": "code",
      "source": [
        "outputFile = open ('penguin-classes.txt', 'w')\n",
        "warnings.filterwarnings('ignore')"
      ],
      "metadata": {
        "id": "fmJJQACk9aQs"
      },
      "execution_count": 79,
      "outputs": []
    },
    {
      "cell_type": "code",
      "source": [
        "data_penguins = pd.read_csv('penguins.csv')\n",
        "data_penguins.head()"
      ],
      "metadata": {
        "id": "RdWPdNdHn_cP",
        "colab": {
          "base_uri": "https://localhost:8080/",
          "height": 206
        },
        "outputId": "61703ec0-2eda-4ac4-fa30-17be964076b3"
      },
      "execution_count": 80,
      "outputs": [
        {
          "output_type": "execute_result",
          "data": {
            "text/plain": [
              "  species     island  culmen_length_mm  culmen_depth_mm  flipper_length_mm  \\\n",
              "0  Adelie  Torgersen              39.1             18.7                181   \n",
              "1  Adelie  Torgersen              39.5             17.4                186   \n",
              "2  Adelie  Torgersen              40.3             18.0                195   \n",
              "3  Adelie  Torgersen              36.7             19.3                193   \n",
              "4  Adelie  Torgersen              39.3             20.6                190   \n",
              "\n",
              "   body_mass_g     sex  \n",
              "0         3750    MALE  \n",
              "1         3800  FEMALE  \n",
              "2         3250  FEMALE  \n",
              "3         3450  FEMALE  \n",
              "4         3650    MALE  "
            ],
            "text/html": [
              "\n",
              "  <div id=\"df-ebab60c9-275f-4338-bc8d-4752fe956141\" class=\"colab-df-container\">\n",
              "    <div>\n",
              "<style scoped>\n",
              "    .dataframe tbody tr th:only-of-type {\n",
              "        vertical-align: middle;\n",
              "    }\n",
              "\n",
              "    .dataframe tbody tr th {\n",
              "        vertical-align: top;\n",
              "    }\n",
              "\n",
              "    .dataframe thead th {\n",
              "        text-align: right;\n",
              "    }\n",
              "</style>\n",
              "<table border=\"1\" class=\"dataframe\">\n",
              "  <thead>\n",
              "    <tr style=\"text-align: right;\">\n",
              "      <th></th>\n",
              "      <th>species</th>\n",
              "      <th>island</th>\n",
              "      <th>culmen_length_mm</th>\n",
              "      <th>culmen_depth_mm</th>\n",
              "      <th>flipper_length_mm</th>\n",
              "      <th>body_mass_g</th>\n",
              "      <th>sex</th>\n",
              "    </tr>\n",
              "  </thead>\n",
              "  <tbody>\n",
              "    <tr>\n",
              "      <th>0</th>\n",
              "      <td>Adelie</td>\n",
              "      <td>Torgersen</td>\n",
              "      <td>39.1</td>\n",
              "      <td>18.7</td>\n",
              "      <td>181</td>\n",
              "      <td>3750</td>\n",
              "      <td>MALE</td>\n",
              "    </tr>\n",
              "    <tr>\n",
              "      <th>1</th>\n",
              "      <td>Adelie</td>\n",
              "      <td>Torgersen</td>\n",
              "      <td>39.5</td>\n",
              "      <td>17.4</td>\n",
              "      <td>186</td>\n",
              "      <td>3800</td>\n",
              "      <td>FEMALE</td>\n",
              "    </tr>\n",
              "    <tr>\n",
              "      <th>2</th>\n",
              "      <td>Adelie</td>\n",
              "      <td>Torgersen</td>\n",
              "      <td>40.3</td>\n",
              "      <td>18.0</td>\n",
              "      <td>195</td>\n",
              "      <td>3250</td>\n",
              "      <td>FEMALE</td>\n",
              "    </tr>\n",
              "    <tr>\n",
              "      <th>3</th>\n",
              "      <td>Adelie</td>\n",
              "      <td>Torgersen</td>\n",
              "      <td>36.7</td>\n",
              "      <td>19.3</td>\n",
              "      <td>193</td>\n",
              "      <td>3450</td>\n",
              "      <td>FEMALE</td>\n",
              "    </tr>\n",
              "    <tr>\n",
              "      <th>4</th>\n",
              "      <td>Adelie</td>\n",
              "      <td>Torgersen</td>\n",
              "      <td>39.3</td>\n",
              "      <td>20.6</td>\n",
              "      <td>190</td>\n",
              "      <td>3650</td>\n",
              "      <td>MALE</td>\n",
              "    </tr>\n",
              "  </tbody>\n",
              "</table>\n",
              "</div>\n",
              "    <div class=\"colab-df-buttons\">\n",
              "\n",
              "  <div class=\"colab-df-container\">\n",
              "    <button class=\"colab-df-convert\" onclick=\"convertToInteractive('df-ebab60c9-275f-4338-bc8d-4752fe956141')\"\n",
              "            title=\"Convert this dataframe to an interactive table.\"\n",
              "            style=\"display:none;\">\n",
              "\n",
              "  <svg xmlns=\"http://www.w3.org/2000/svg\" height=\"24px\" viewBox=\"0 -960 960 960\">\n",
              "    <path d=\"M120-120v-720h720v720H120Zm60-500h600v-160H180v160Zm220 220h160v-160H400v160Zm0 220h160v-160H400v160ZM180-400h160v-160H180v160Zm440 0h160v-160H620v160ZM180-180h160v-160H180v160Zm440 0h160v-160H620v160Z\"/>\n",
              "  </svg>\n",
              "    </button>\n",
              "\n",
              "  <style>\n",
              "    .colab-df-container {\n",
              "      display:flex;\n",
              "      gap: 12px;\n",
              "    }\n",
              "\n",
              "    .colab-df-convert {\n",
              "      background-color: #E8F0FE;\n",
              "      border: none;\n",
              "      border-radius: 50%;\n",
              "      cursor: pointer;\n",
              "      display: none;\n",
              "      fill: #1967D2;\n",
              "      height: 32px;\n",
              "      padding: 0 0 0 0;\n",
              "      width: 32px;\n",
              "    }\n",
              "\n",
              "    .colab-df-convert:hover {\n",
              "      background-color: #E2EBFA;\n",
              "      box-shadow: 0px 1px 2px rgba(60, 64, 67, 0.3), 0px 1px 3px 1px rgba(60, 64, 67, 0.15);\n",
              "      fill: #174EA6;\n",
              "    }\n",
              "\n",
              "    .colab-df-buttons div {\n",
              "      margin-bottom: 4px;\n",
              "    }\n",
              "\n",
              "    [theme=dark] .colab-df-convert {\n",
              "      background-color: #3B4455;\n",
              "      fill: #D2E3FC;\n",
              "    }\n",
              "\n",
              "    [theme=dark] .colab-df-convert:hover {\n",
              "      background-color: #434B5C;\n",
              "      box-shadow: 0px 1px 3px 1px rgba(0, 0, 0, 0.15);\n",
              "      filter: drop-shadow(0px 1px 2px rgba(0, 0, 0, 0.3));\n",
              "      fill: #FFFFFF;\n",
              "    }\n",
              "  </style>\n",
              "\n",
              "    <script>\n",
              "      const buttonEl =\n",
              "        document.querySelector('#df-ebab60c9-275f-4338-bc8d-4752fe956141 button.colab-df-convert');\n",
              "      buttonEl.style.display =\n",
              "        google.colab.kernel.accessAllowed ? 'block' : 'none';\n",
              "\n",
              "      async function convertToInteractive(key) {\n",
              "        const element = document.querySelector('#df-ebab60c9-275f-4338-bc8d-4752fe956141');\n",
              "        const dataTable =\n",
              "          await google.colab.kernel.invokeFunction('convertToInteractive',\n",
              "                                                    [key], {});\n",
              "        if (!dataTable) return;\n",
              "\n",
              "        const docLinkHtml = 'Like what you see? Visit the ' +\n",
              "          '<a target=\"_blank\" href=https://colab.research.google.com/notebooks/data_table.ipynb>data table notebook</a>'\n",
              "          + ' to learn more about interactive tables.';\n",
              "        element.innerHTML = '';\n",
              "        dataTable['output_type'] = 'display_data';\n",
              "        await google.colab.output.renderOutput(dataTable, element);\n",
              "        const docLink = document.createElement('div');\n",
              "        docLink.innerHTML = docLinkHtml;\n",
              "        element.appendChild(docLink);\n",
              "      }\n",
              "    </script>\n",
              "  </div>\n",
              "\n",
              "\n",
              "<div id=\"df-9bf2a912-6b68-4395-a35e-ab357efa23f8\">\n",
              "  <button class=\"colab-df-quickchart\" onclick=\"quickchart('df-9bf2a912-6b68-4395-a35e-ab357efa23f8')\"\n",
              "            title=\"Suggest charts\"\n",
              "            style=\"display:none;\">\n",
              "\n",
              "<svg xmlns=\"http://www.w3.org/2000/svg\" height=\"24px\"viewBox=\"0 0 24 24\"\n",
              "     width=\"24px\">\n",
              "    <g>\n",
              "        <path d=\"M19 3H5c-1.1 0-2 .9-2 2v14c0 1.1.9 2 2 2h14c1.1 0 2-.9 2-2V5c0-1.1-.9-2-2-2zM9 17H7v-7h2v7zm4 0h-2V7h2v10zm4 0h-2v-4h2v4z\"/>\n",
              "    </g>\n",
              "</svg>\n",
              "  </button>\n",
              "\n",
              "<style>\n",
              "  .colab-df-quickchart {\n",
              "      --bg-color: #E8F0FE;\n",
              "      --fill-color: #1967D2;\n",
              "      --hover-bg-color: #E2EBFA;\n",
              "      --hover-fill-color: #174EA6;\n",
              "      --disabled-fill-color: #AAA;\n",
              "      --disabled-bg-color: #DDD;\n",
              "  }\n",
              "\n",
              "  [theme=dark] .colab-df-quickchart {\n",
              "      --bg-color: #3B4455;\n",
              "      --fill-color: #D2E3FC;\n",
              "      --hover-bg-color: #434B5C;\n",
              "      --hover-fill-color: #FFFFFF;\n",
              "      --disabled-bg-color: #3B4455;\n",
              "      --disabled-fill-color: #666;\n",
              "  }\n",
              "\n",
              "  .colab-df-quickchart {\n",
              "    background-color: var(--bg-color);\n",
              "    border: none;\n",
              "    border-radius: 50%;\n",
              "    cursor: pointer;\n",
              "    display: none;\n",
              "    fill: var(--fill-color);\n",
              "    height: 32px;\n",
              "    padding: 0;\n",
              "    width: 32px;\n",
              "  }\n",
              "\n",
              "  .colab-df-quickchart:hover {\n",
              "    background-color: var(--hover-bg-color);\n",
              "    box-shadow: 0 1px 2px rgba(60, 64, 67, 0.3), 0 1px 3px 1px rgba(60, 64, 67, 0.15);\n",
              "    fill: var(--button-hover-fill-color);\n",
              "  }\n",
              "\n",
              "  .colab-df-quickchart-complete:disabled,\n",
              "  .colab-df-quickchart-complete:disabled:hover {\n",
              "    background-color: var(--disabled-bg-color);\n",
              "    fill: var(--disabled-fill-color);\n",
              "    box-shadow: none;\n",
              "  }\n",
              "\n",
              "  .colab-df-spinner {\n",
              "    border: 2px solid var(--fill-color);\n",
              "    border-color: transparent;\n",
              "    border-bottom-color: var(--fill-color);\n",
              "    animation:\n",
              "      spin 1s steps(1) infinite;\n",
              "  }\n",
              "\n",
              "  @keyframes spin {\n",
              "    0% {\n",
              "      border-color: transparent;\n",
              "      border-bottom-color: var(--fill-color);\n",
              "      border-left-color: var(--fill-color);\n",
              "    }\n",
              "    20% {\n",
              "      border-color: transparent;\n",
              "      border-left-color: var(--fill-color);\n",
              "      border-top-color: var(--fill-color);\n",
              "    }\n",
              "    30% {\n",
              "      border-color: transparent;\n",
              "      border-left-color: var(--fill-color);\n",
              "      border-top-color: var(--fill-color);\n",
              "      border-right-color: var(--fill-color);\n",
              "    }\n",
              "    40% {\n",
              "      border-color: transparent;\n",
              "      border-right-color: var(--fill-color);\n",
              "      border-top-color: var(--fill-color);\n",
              "    }\n",
              "    60% {\n",
              "      border-color: transparent;\n",
              "      border-right-color: var(--fill-color);\n",
              "    }\n",
              "    80% {\n",
              "      border-color: transparent;\n",
              "      border-right-color: var(--fill-color);\n",
              "      border-bottom-color: var(--fill-color);\n",
              "    }\n",
              "    90% {\n",
              "      border-color: transparent;\n",
              "      border-bottom-color: var(--fill-color);\n",
              "    }\n",
              "  }\n",
              "</style>\n",
              "\n",
              "  <script>\n",
              "    async function quickchart(key) {\n",
              "      const quickchartButtonEl =\n",
              "        document.querySelector('#' + key + ' button');\n",
              "      quickchartButtonEl.disabled = true;  // To prevent multiple clicks.\n",
              "      quickchartButtonEl.classList.add('colab-df-spinner');\n",
              "      try {\n",
              "        const charts = await google.colab.kernel.invokeFunction(\n",
              "            'suggestCharts', [key], {});\n",
              "      } catch (error) {\n",
              "        console.error('Error during call to suggestCharts:', error);\n",
              "      }\n",
              "      quickchartButtonEl.classList.remove('colab-df-spinner');\n",
              "      quickchartButtonEl.classList.add('colab-df-quickchart-complete');\n",
              "    }\n",
              "    (() => {\n",
              "      let quickchartButtonEl =\n",
              "        document.querySelector('#df-9bf2a912-6b68-4395-a35e-ab357efa23f8 button');\n",
              "      quickchartButtonEl.style.display =\n",
              "        google.colab.kernel.accessAllowed ? 'block' : 'none';\n",
              "    })();\n",
              "  </script>\n",
              "</div>\n",
              "    </div>\n",
              "  </div>\n"
            ]
          },
          "metadata": {},
          "execution_count": 80
        }
      ]
    },
    {
      "cell_type": "markdown",
      "source": [
        "#### Data Preprocessing\n",
        "- data encoding for categorical values: 'island', 'sex' column"
      ],
      "metadata": {
        "id": "skf8lGQB1Hpk"
      }
    },
    {
      "cell_type": "code",
      "source": [
        "from sklearn.preprocessing import OneHotEncoder\n",
        "\n",
        "island = np.array(data_penguins['island']).reshape(-1, 1)\n",
        "island_label = OneHotEncoder().fit_transform(island)\n",
        "data_penguins['island'] = island_label.toarray()\n",
        "\n",
        "df = pd.DataFrame({'island':['Torgersen','Biscoe','Dream']})\n",
        "pd.get_dummies(df)"
      ],
      "metadata": {
        "id": "bO_arEeWzl2p",
        "colab": {
          "base_uri": "https://localhost:8080/",
          "height": 144
        },
        "outputId": "7fdc06b8-0fec-4ece-ad7d-4eb171a1d026"
      },
      "execution_count": 81,
      "outputs": [
        {
          "output_type": "execute_result",
          "data": {
            "text/plain": [
              "   island_Biscoe  island_Dream  island_Torgersen\n",
              "0              0             0                 1\n",
              "1              1             0                 0\n",
              "2              0             1                 0"
            ],
            "text/html": [
              "\n",
              "  <div id=\"df-38a50e03-230d-4785-a9df-797bd3f5383a\" class=\"colab-df-container\">\n",
              "    <div>\n",
              "<style scoped>\n",
              "    .dataframe tbody tr th:only-of-type {\n",
              "        vertical-align: middle;\n",
              "    }\n",
              "\n",
              "    .dataframe tbody tr th {\n",
              "        vertical-align: top;\n",
              "    }\n",
              "\n",
              "    .dataframe thead th {\n",
              "        text-align: right;\n",
              "    }\n",
              "</style>\n",
              "<table border=\"1\" class=\"dataframe\">\n",
              "  <thead>\n",
              "    <tr style=\"text-align: right;\">\n",
              "      <th></th>\n",
              "      <th>island_Biscoe</th>\n",
              "      <th>island_Dream</th>\n",
              "      <th>island_Torgersen</th>\n",
              "    </tr>\n",
              "  </thead>\n",
              "  <tbody>\n",
              "    <tr>\n",
              "      <th>0</th>\n",
              "      <td>0</td>\n",
              "      <td>0</td>\n",
              "      <td>1</td>\n",
              "    </tr>\n",
              "    <tr>\n",
              "      <th>1</th>\n",
              "      <td>1</td>\n",
              "      <td>0</td>\n",
              "      <td>0</td>\n",
              "    </tr>\n",
              "    <tr>\n",
              "      <th>2</th>\n",
              "      <td>0</td>\n",
              "      <td>1</td>\n",
              "      <td>0</td>\n",
              "    </tr>\n",
              "  </tbody>\n",
              "</table>\n",
              "</div>\n",
              "    <div class=\"colab-df-buttons\">\n",
              "\n",
              "  <div class=\"colab-df-container\">\n",
              "    <button class=\"colab-df-convert\" onclick=\"convertToInteractive('df-38a50e03-230d-4785-a9df-797bd3f5383a')\"\n",
              "            title=\"Convert this dataframe to an interactive table.\"\n",
              "            style=\"display:none;\">\n",
              "\n",
              "  <svg xmlns=\"http://www.w3.org/2000/svg\" height=\"24px\" viewBox=\"0 -960 960 960\">\n",
              "    <path d=\"M120-120v-720h720v720H120Zm60-500h600v-160H180v160Zm220 220h160v-160H400v160Zm0 220h160v-160H400v160ZM180-400h160v-160H180v160Zm440 0h160v-160H620v160ZM180-180h160v-160H180v160Zm440 0h160v-160H620v160Z\"/>\n",
              "  </svg>\n",
              "    </button>\n",
              "\n",
              "  <style>\n",
              "    .colab-df-container {\n",
              "      display:flex;\n",
              "      gap: 12px;\n",
              "    }\n",
              "\n",
              "    .colab-df-convert {\n",
              "      background-color: #E8F0FE;\n",
              "      border: none;\n",
              "      border-radius: 50%;\n",
              "      cursor: pointer;\n",
              "      display: none;\n",
              "      fill: #1967D2;\n",
              "      height: 32px;\n",
              "      padding: 0 0 0 0;\n",
              "      width: 32px;\n",
              "    }\n",
              "\n",
              "    .colab-df-convert:hover {\n",
              "      background-color: #E2EBFA;\n",
              "      box-shadow: 0px 1px 2px rgba(60, 64, 67, 0.3), 0px 1px 3px 1px rgba(60, 64, 67, 0.15);\n",
              "      fill: #174EA6;\n",
              "    }\n",
              "\n",
              "    .colab-df-buttons div {\n",
              "      margin-bottom: 4px;\n",
              "    }\n",
              "\n",
              "    [theme=dark] .colab-df-convert {\n",
              "      background-color: #3B4455;\n",
              "      fill: #D2E3FC;\n",
              "    }\n",
              "\n",
              "    [theme=dark] .colab-df-convert:hover {\n",
              "      background-color: #434B5C;\n",
              "      box-shadow: 0px 1px 3px 1px rgba(0, 0, 0, 0.15);\n",
              "      filter: drop-shadow(0px 1px 2px rgba(0, 0, 0, 0.3));\n",
              "      fill: #FFFFFF;\n",
              "    }\n",
              "  </style>\n",
              "\n",
              "    <script>\n",
              "      const buttonEl =\n",
              "        document.querySelector('#df-38a50e03-230d-4785-a9df-797bd3f5383a button.colab-df-convert');\n",
              "      buttonEl.style.display =\n",
              "        google.colab.kernel.accessAllowed ? 'block' : 'none';\n",
              "\n",
              "      async function convertToInteractive(key) {\n",
              "        const element = document.querySelector('#df-38a50e03-230d-4785-a9df-797bd3f5383a');\n",
              "        const dataTable =\n",
              "          await google.colab.kernel.invokeFunction('convertToInteractive',\n",
              "                                                    [key], {});\n",
              "        if (!dataTable) return;\n",
              "\n",
              "        const docLinkHtml = 'Like what you see? Visit the ' +\n",
              "          '<a target=\"_blank\" href=https://colab.research.google.com/notebooks/data_table.ipynb>data table notebook</a>'\n",
              "          + ' to learn more about interactive tables.';\n",
              "        element.innerHTML = '';\n",
              "        dataTable['output_type'] = 'display_data';\n",
              "        await google.colab.output.renderOutput(dataTable, element);\n",
              "        const docLink = document.createElement('div');\n",
              "        docLink.innerHTML = docLinkHtml;\n",
              "        element.appendChild(docLink);\n",
              "      }\n",
              "    </script>\n",
              "  </div>\n",
              "\n",
              "\n",
              "<div id=\"df-d98e3d2e-7d37-4170-9313-371dc66e94d2\">\n",
              "  <button class=\"colab-df-quickchart\" onclick=\"quickchart('df-d98e3d2e-7d37-4170-9313-371dc66e94d2')\"\n",
              "            title=\"Suggest charts\"\n",
              "            style=\"display:none;\">\n",
              "\n",
              "<svg xmlns=\"http://www.w3.org/2000/svg\" height=\"24px\"viewBox=\"0 0 24 24\"\n",
              "     width=\"24px\">\n",
              "    <g>\n",
              "        <path d=\"M19 3H5c-1.1 0-2 .9-2 2v14c0 1.1.9 2 2 2h14c1.1 0 2-.9 2-2V5c0-1.1-.9-2-2-2zM9 17H7v-7h2v7zm4 0h-2V7h2v10zm4 0h-2v-4h2v4z\"/>\n",
              "    </g>\n",
              "</svg>\n",
              "  </button>\n",
              "\n",
              "<style>\n",
              "  .colab-df-quickchart {\n",
              "      --bg-color: #E8F0FE;\n",
              "      --fill-color: #1967D2;\n",
              "      --hover-bg-color: #E2EBFA;\n",
              "      --hover-fill-color: #174EA6;\n",
              "      --disabled-fill-color: #AAA;\n",
              "      --disabled-bg-color: #DDD;\n",
              "  }\n",
              "\n",
              "  [theme=dark] .colab-df-quickchart {\n",
              "      --bg-color: #3B4455;\n",
              "      --fill-color: #D2E3FC;\n",
              "      --hover-bg-color: #434B5C;\n",
              "      --hover-fill-color: #FFFFFF;\n",
              "      --disabled-bg-color: #3B4455;\n",
              "      --disabled-fill-color: #666;\n",
              "  }\n",
              "\n",
              "  .colab-df-quickchart {\n",
              "    background-color: var(--bg-color);\n",
              "    border: none;\n",
              "    border-radius: 50%;\n",
              "    cursor: pointer;\n",
              "    display: none;\n",
              "    fill: var(--fill-color);\n",
              "    height: 32px;\n",
              "    padding: 0;\n",
              "    width: 32px;\n",
              "  }\n",
              "\n",
              "  .colab-df-quickchart:hover {\n",
              "    background-color: var(--hover-bg-color);\n",
              "    box-shadow: 0 1px 2px rgba(60, 64, 67, 0.3), 0 1px 3px 1px rgba(60, 64, 67, 0.15);\n",
              "    fill: var(--button-hover-fill-color);\n",
              "  }\n",
              "\n",
              "  .colab-df-quickchart-complete:disabled,\n",
              "  .colab-df-quickchart-complete:disabled:hover {\n",
              "    background-color: var(--disabled-bg-color);\n",
              "    fill: var(--disabled-fill-color);\n",
              "    box-shadow: none;\n",
              "  }\n",
              "\n",
              "  .colab-df-spinner {\n",
              "    border: 2px solid var(--fill-color);\n",
              "    border-color: transparent;\n",
              "    border-bottom-color: var(--fill-color);\n",
              "    animation:\n",
              "      spin 1s steps(1) infinite;\n",
              "  }\n",
              "\n",
              "  @keyframes spin {\n",
              "    0% {\n",
              "      border-color: transparent;\n",
              "      border-bottom-color: var(--fill-color);\n",
              "      border-left-color: var(--fill-color);\n",
              "    }\n",
              "    20% {\n",
              "      border-color: transparent;\n",
              "      border-left-color: var(--fill-color);\n",
              "      border-top-color: var(--fill-color);\n",
              "    }\n",
              "    30% {\n",
              "      border-color: transparent;\n",
              "      border-left-color: var(--fill-color);\n",
              "      border-top-color: var(--fill-color);\n",
              "      border-right-color: var(--fill-color);\n",
              "    }\n",
              "    40% {\n",
              "      border-color: transparent;\n",
              "      border-right-color: var(--fill-color);\n",
              "      border-top-color: var(--fill-color);\n",
              "    }\n",
              "    60% {\n",
              "      border-color: transparent;\n",
              "      border-right-color: var(--fill-color);\n",
              "    }\n",
              "    80% {\n",
              "      border-color: transparent;\n",
              "      border-right-color: var(--fill-color);\n",
              "      border-bottom-color: var(--fill-color);\n",
              "    }\n",
              "    90% {\n",
              "      border-color: transparent;\n",
              "      border-bottom-color: var(--fill-color);\n",
              "    }\n",
              "  }\n",
              "</style>\n",
              "\n",
              "  <script>\n",
              "    async function quickchart(key) {\n",
              "      const quickchartButtonEl =\n",
              "        document.querySelector('#' + key + ' button');\n",
              "      quickchartButtonEl.disabled = true;  // To prevent multiple clicks.\n",
              "      quickchartButtonEl.classList.add('colab-df-spinner');\n",
              "      try {\n",
              "        const charts = await google.colab.kernel.invokeFunction(\n",
              "            'suggestCharts', [key], {});\n",
              "      } catch (error) {\n",
              "        console.error('Error during call to suggestCharts:', error);\n",
              "      }\n",
              "      quickchartButtonEl.classList.remove('colab-df-spinner');\n",
              "      quickchartButtonEl.classList.add('colab-df-quickchart-complete');\n",
              "    }\n",
              "    (() => {\n",
              "      let quickchartButtonEl =\n",
              "        document.querySelector('#df-d98e3d2e-7d37-4170-9313-371dc66e94d2 button');\n",
              "      quickchartButtonEl.style.display =\n",
              "        google.colab.kernel.accessAllowed ? 'block' : 'none';\n",
              "    })();\n",
              "  </script>\n",
              "</div>\n",
              "    </div>\n",
              "  </div>\n"
            ]
          },
          "metadata": {},
          "execution_count": 81
        }
      ]
    },
    {
      "cell_type": "code",
      "source": [
        "from sklearn.preprocessing import LabelEncoder\n",
        "\n",
        "data_penguins['sex'] = LabelEncoder().fit_transform(data_penguins['sex'])"
      ],
      "metadata": {
        "id": "5T0LfRzozl4u"
      },
      "execution_count": 82,
      "outputs": []
    },
    {
      "cell_type": "markdown",
      "source": [
        "#### Plot the percentage of the instances"
      ],
      "metadata": {
        "id": "Ychlgawv36Yr"
      }
    },
    {
      "cell_type": "code",
      "source": [
        "# Check the output class is balanced\n",
        "penguins_labels = data_penguins['species']\n",
        "\n",
        "plt.figure(figsize=(10, 6))\n",
        "sns.countplot(x=penguins_labels)\n",
        "plt.title('Distribution of class label')\n",
        "plt.xlabel('Penguins')\n",
        "plt.ylabel('Frequency')\n",
        "\n",
        "# save as graphic\n",
        "plt.savefig('penguin-classes.png')"
      ],
      "metadata": {
        "colab": {
          "base_uri": "https://localhost:8080/",
          "height": 564
        },
        "id": "2_YBHCBg38nQ",
        "outputId": "383fbb8a-feb1-45b4-aba8-dd3661311e92"
      },
      "execution_count": 83,
      "outputs": [
        {
          "output_type": "display_data",
          "data": {
            "text/plain": [
              "<Figure size 1000x600 with 1 Axes>"
            ],
            "image/png": "[encoded data removed]"
          },
          "metadata": {}
        }
      ]
    },
    {
      "cell_type": "markdown",
      "source": [
        "#### Dataset split into training & test set"
      ],
      "metadata": {
        "id": "YitW0dfF3zLc"
      }
    },
    {
      "cell_type": "code",
      "source": [
        "# perform feature scaling\n",
        "from sklearn.preprocessing import StandardScaler\n",
        "scaled_features_penguins = StandardScaler().fit_transform(data_penguins.iloc[:, 1:].values)\n",
        "X = scaled_features_penguins\n",
        "y = data_penguins.iloc[:,0].values"
      ],
      "metadata": {
        "id": "0wcAQElszl97"
      },
      "execution_count": 84,
      "outputs": []
    },
    {
      "cell_type": "code",
      "source": [
        "from sklearn.model_selection import train_test_split\n",
        "X_train, X_test, y_train, y_test = train_test_split(X, y, test_size = 0.3)"
      ],
      "metadata": {
        "id": "sThVNxcLzmAB"
      },
      "execution_count": 85,
      "outputs": []
    },
    {
      "cell_type": "markdown",
      "source": [
        "#### Train 4 different classifier"
      ],
      "metadata": {
        "id": "fWpPUU6EYP3T"
      }
    },
    {
      "cell_type": "markdown",
      "source": [
        "##### Classifier 1 - Base-DT"
      ],
      "metadata": {
        "id": "i1Wbs_2C3Q6E"
      }
    },
    {
      "cell_type": "code",
      "source": [
        "from sklearn.tree import DecisionTreeClassifier\n",
        "\n",
        "# Base Decision Tree\n",
        "classifier_1 = DecisionTreeClassifier()\n",
        "classifier_1.fit(X_train, y_train)"
      ],
      "metadata": {
        "id": "JN61PJ3W5jcb",
        "colab": {
          "base_uri": "https://localhost:8080/",
          "height": 75
        },
        "outputId": "63a34523-c5bd-4511-a548-9a99fdfa6bea"
      },
      "execution_count": 86,
      "outputs": [
        {
          "output_type": "execute_result",
          "data": {
            "text/plain": [
              "DecisionTreeClassifier()"
            ],
            "text/html": [
              "<style>#sk-container-id-3 {color: black;background-color: white;}#sk-container-id-3 pre{padding: 0;}#sk-container-id-3 div.sk-toggleable {background-color: white;}#sk-container-id-3 label.sk-toggleable__label {cursor: pointer;display: block;width: 100%;margin-bottom: 0;padding: 0.3em;box-sizing: border-box;text-align: center;}#sk-container-id-3 label.sk-toggleable__label-arrow:before {content: \"▸\";float: left;margin-right: 0.25em;color: #696969;}#sk-container-id-3 label.sk-toggleable__label-arrow:hover:before {color: black;}#sk-container-id-3 div.sk-estimator:hover label.sk-toggleable__label-arrow:before {color: black;}#sk-container-id-3 div.sk-toggleable__content {max-height: 0;max-width: 0;overflow: hidden;text-align: left;background-color: #f0f8ff;}#sk-container-id-3 div.sk-toggleable__content pre {margin: 0.2em;color: black;border-radius: 0.25em;background-color: #f0f8ff;}#sk-container-id-3 input.sk-toggleable__control:checked~div.sk-toggleable__content {max-height: 200px;max-width: 100%;overflow: auto;}#sk-container-id-3 input.sk-toggleable__control:checked~label.sk-toggleable__label-arrow:before {content: \"▾\";}#sk-container-id-3 div.sk-estimator input.sk-toggleable__control:checked~label.sk-toggleable__label {background-color: #d4ebff;}#sk-container-id-3 div.sk-label input.sk-toggleable__control:checked~label.sk-toggleable__label {background-color: #d4ebff;}#sk-container-id-3 input.sk-hidden--visually {border: 0;clip: rect(1px 1px 1px 1px);clip: rect(1px, 1px, 1px, 1px);height: 1px;margin: -1px;overflow: hidden;padding: 0;position: absolute;width: 1px;}#sk-container-id-3 div.sk-estimator {font-family: monospace;background-color: #f0f8ff;border: 1px dotted black;border-radius: 0.25em;box-sizing: border-box;margin-bottom: 0.5em;}#sk-container-id-3 div.sk-estimator:hover {background-color: #d4ebff;}#sk-container-id-3 div.sk-parallel-item::after {content: \"\";width: 100%;border-bottom: 1px solid gray;flex-grow: 1;}#sk-container-id-3 div.sk-label:hover label.sk-toggleable__label {background-color: #d4ebff;}#sk-container-id-3 div.sk-serial::before {content: \"\";position: absolute;border-left: 1px solid gray;box-sizing: border-box;top: 0;bottom: 0;left: 50%;z-index: 0;}#sk-container-id-3 div.sk-serial {display: flex;flex-direction: column;align-items: center;background-color: white;padding-right: 0.2em;padding-left: 0.2em;position: relative;}#sk-container-id-3 div.sk-item {position: relative;z-index: 1;}#sk-container-id-3 div.sk-parallel {display: flex;align-items: stretch;justify-content: center;background-color: white;position: relative;}#sk-container-id-3 div.sk-item::before, #sk-container-id-3 div.sk-parallel-item::before {content: \"\";position: absolute;border-left: 1px solid gray;box-sizing: border-box;top: 0;bottom: 0;left: 50%;z-index: -1;}#sk-container-id-3 div.sk-parallel-item {display: flex;flex-direction: column;z-index: 1;position: relative;background-color: white;}#sk-container-id-3 div.sk-parallel-item:first-child::after {align-self: flex-end;width: 50%;}#sk-container-id-3 div.sk-parallel-item:last-child::after {align-self: flex-start;width: 50%;}#sk-container-id-3 div.sk-parallel-item:only-child::after {width: 0;}#sk-container-id-3 div.sk-dashed-wrapped {border: 1px dashed gray;margin: 0 0.4em 0.5em 0.4em;box-sizing: border-box;padding-bottom: 0.4em;background-color: white;}#sk-container-id-3 div.sk-label label {font-family: monospace;font-weight: bold;display: inline-block;line-height: 1.2em;}#sk-container-id-3 div.sk-label-container {text-align: center;}#sk-container-id-3 div.sk-container {/* jupyter's `normalize.less` sets `[hidden] { display: none; }` but bootstrap.min.css set `[hidden] { display: none !important; }` so we also need the `!important` here to be able to override the default hidden behavior on the sphinx rendered scikit-learn.org. See: https://github.com/scikit-learn/scikit-learn/issues/21755 */display: inline-block !important;position: relative;}#sk-container-id-3 div.sk-text-repr-fallback {display: none;}</style><div id=\"sk-container-id-3\" class=\"sk-top-container\"><div class=\"sk-text-repr-fallback\"><pre>DecisionTreeClassifier()</pre><b>In a Jupyter environment, please rerun this cell to show the HTML representation or trust the notebook. <br />On GitHub, the HTML representation is unable to render, please try loading this page with nbviewer.org.</b></div><div class=\"sk-container\" hidden><div class=\"sk-item\"><div class=\"sk-estimator sk-toggleable\"><input class=\"sk-toggleable__control sk-hidden--visually\" id=\"sk-estimator-id-3\" type=\"checkbox\" checked><label for=\"sk-estimator-id-3\" class=\"sk-toggleable__label sk-toggleable__label-arrow\">DecisionTreeClassifier</label><div class=\"sk-toggleable__content\"><pre>DecisionTreeClassifier()</pre></div></div></div></div></div>"
            ]
          },
          "metadata": {},
          "execution_count": 86
        }
      ]
    },
    {
      "cell_type": "code",
      "source": [
        "penguins_class = data_penguins.columns[0]\n",
        "penguins_features = list(data_penguins.columns[1:])"
      ],
      "metadata": {
        "id": "s_J2ed_v--zl"
      },
      "execution_count": 87,
      "outputs": []
    },
    {
      "cell_type": "code",
      "source": [
        "from sklearn import tree\n",
        "\n",
        "dot_data = tree.export_graphviz(classifier_1,\n",
        "                feature_names=penguins_features,\n",
        "                class_names=penguins_class,\n",
        "                filled=True, rounded=True,\n",
        "                special_characters=True)\n",
        "\n",
        "graph = graphviz.Source(dot_data)\n",
        "graph"
      ],
      "metadata": {
        "id": "hwomCGHCCnKt",
        "outputId": "8746131e-eaee-442b-c456-e017184c568f",
        "colab": {
          "base_uri": "https://localhost:8080/",
          "height": 1000
        }
      },
      "execution_count": 88,
      "outputs": [
        {
          "output_type": "execute_result",
          "data": {
            "image/svg+xml": "<?xml version=\"1.0\" encoding=\"UTF-8\" standalone=\"no\"?>\n<!DOCTYPE svg PUBLIC \"-//W3C//DTD SVG 1.1//EN\"\n \"http://www.w3.org/Graphics/SVG/1.1/DTD/svg11.dtd\">\n<!-- Generated by graphviz version 2.43.0 (0)\n -->\n<!-- Title: Tree Pages: 1 -->\n<svg width=\"1338pt\" height=\"790pt\"\n viewBox=\"0.00 0.00 1338.00 790.00\" xmlns=\"http://www.w3.org/2000/svg\" xmlns:xlink=\"http://www.w3.org/1999/xlink\">\n<g id=\"graph0\" class=\"graph\" transform=\"scale(1 1) rotate(0) translate(4 786)\">\n<title>Tree</title>\n<polygon fill=\"white\" stroke=\"transparent\" points=\"-4,4 -4,-786 1334,-786 1334,4 -4,4\"/>\n<!-- 0 -->\n<g id=\"node1\" class=\"node\">\n<title>0</title>\n<path fill=\"#fffdfc\" stroke=\"black\" d=\"M956,-782C956,-782 802,-782 802,-782 796,-782 790,-776 790,-770 790,-770 790,-711 790,-711 790,-705 796,-699 802,-699 802,-699 956,-699 956,-699 962,-699 968,-705 968,-711 968,-711 968,-770 968,-770 968,-776 962,-782 956,-782\"/>\n<text text-anchor=\"start\" x=\"798\" y=\"-766.8\" font-family=\"Helvetica,sans-Serif\" font-size=\"14.00\">flipper_length_mm ≤ 0.431</text>\n<text text-anchor=\"start\" x=\"843.5\" y=\"-751.8\" font-family=\"Helvetica,sans-Serif\" font-size=\"14.00\">gini = 0.647</text>\n<text text-anchor=\"start\" x=\"834\" y=\"-736.8\" font-family=\"Helvetica,sans-Serif\" font-size=\"14.00\">samples = 233</text>\n<text text-anchor=\"start\" x=\"821\" y=\"-721.8\" font-family=\"Helvetica,sans-Serif\" font-size=\"14.00\">value = [92, 51, 90]</text>\n<text text-anchor=\"start\" x=\"852\" y=\"-706.8\" font-family=\"Helvetica,sans-Serif\" font-size=\"14.00\">class = s</text>\n</g>\n<!-- 1 -->\n<g id=\"node2\" class=\"node\">\n<title>1</title>\n<path fill=\"#f3c4a2\" stroke=\"black\" d=\"M860,-663C860,-663 694,-663 694,-663 688,-663 682,-657 682,-651 682,-651 682,-592 682,-592 682,-586 688,-580 694,-580 694,-580 860,-580 860,-580 866,-580 872,-586 872,-592 872,-592 872,-651 872,-651 872,-657 866,-663 860,-663\"/>\n<text text-anchor=\"start\" x=\"690\" y=\"-647.8\" font-family=\"Helvetica,sans-Serif\" font-size=\"14.00\">culmen_length_mm ≤ &#45;0.154</text>\n<text text-anchor=\"start\" x=\"745\" y=\"-632.8\" font-family=\"Helvetica,sans-Serif\" font-size=\"14.00\">gini = 0.46</text>\n<text text-anchor=\"start\" x=\"732\" y=\"-617.8\" font-family=\"Helvetica,sans-Serif\" font-size=\"14.00\">samples = 140</text>\n<text text-anchor=\"start\" x=\"722.5\" y=\"-602.8\" font-family=\"Helvetica,sans-Serif\" font-size=\"14.00\">value = [91, 48, 1]</text>\n<text text-anchor=\"start\" x=\"750\" y=\"-587.8\" font-family=\"Helvetica,sans-Serif\" font-size=\"14.00\">class = s</text>\n</g>\n<!-- 0&#45;&gt;1 -->\n<g id=\"edge1\" class=\"edge\">\n<title>0&#45;&gt;1</title>\n<path fill=\"none\" stroke=\"black\" d=\"M843.61,-698.91C835.7,-689.83 827.23,-680.12 819.08,-670.77\"/>\n<polygon fill=\"black\" stroke=\"black\" points=\"821.54,-668.26 812.33,-663.02 816.26,-672.86 821.54,-668.26\"/>\n<text text-anchor=\"middle\" x=\"810.62\" y=\"-684.26\" font-family=\"Helvetica,sans-Serif\" font-size=\"14.00\">True</text>\n</g>\n<!-- 22 -->\n<g id=\"node23\" class=\"node\">\n<title>22</title>\n<path fill=\"#8742e6\" stroke=\"black\" d=\"M1060,-663C1060,-663 902,-663 902,-663 896,-663 890,-657 890,-651 890,-651 890,-592 890,-592 890,-586 896,-580 902,-580 902,-580 1060,-580 1060,-580 1066,-580 1072,-586 1072,-592 1072,-592 1072,-651 1072,-651 1072,-657 1066,-663 1060,-663\"/>\n<text text-anchor=\"start\" x=\"898\" y=\"-647.8\" font-family=\"Helvetica,sans-Serif\" font-size=\"14.00\">culmen_depth_mm ≤ 0.476</text>\n<text text-anchor=\"start\" x=\"945.5\" y=\"-632.8\" font-family=\"Helvetica,sans-Serif\" font-size=\"14.00\">gini = 0.083</text>\n<text text-anchor=\"start\" x=\"940\" y=\"-617.8\" font-family=\"Helvetica,sans-Serif\" font-size=\"14.00\">samples = 93</text>\n<text text-anchor=\"start\" x=\"930.5\" y=\"-602.8\" font-family=\"Helvetica,sans-Serif\" font-size=\"14.00\">value = [1, 3, 89]</text>\n<text text-anchor=\"start\" x=\"953.5\" y=\"-587.8\" font-family=\"Helvetica,sans-Serif\" font-size=\"14.00\">class = e</text>\n</g>\n<!-- 0&#45;&gt;22 -->\n<g id=\"edge22\" class=\"edge\">\n<title>0&#45;&gt;22</title>\n<path fill=\"none\" stroke=\"black\" d=\"M914.39,-698.91C922.3,-689.83 930.77,-680.12 938.92,-670.77\"/>\n<polygon fill=\"black\" stroke=\"black\" points=\"941.74,-672.86 945.67,-663.02 936.46,-668.26 941.74,-672.86\"/>\n<text text-anchor=\"middle\" x=\"947.38\" y=\"-684.26\" font-family=\"Helvetica,sans-Serif\" font-size=\"14.00\">False</text>\n</g>\n<!-- 2 -->\n<g id=\"node3\" class=\"node\">\n<title>2</title>\n<path fill=\"#e68742\" stroke=\"black\" d=\"M608,-544C608,-544 442,-544 442,-544 436,-544 430,-538 430,-532 430,-532 430,-473 430,-473 430,-467 436,-461 442,-461 442,-461 608,-461 608,-461 614,-461 620,-467 620,-473 620,-473 620,-532 620,-532 620,-538 614,-544 608,-544\"/>\n<text text-anchor=\"start\" x=\"438\" y=\"-528.8\" font-family=\"Helvetica,sans-Serif\" font-size=\"14.00\">culmen_length_mm ≤ &#45;0.374</text>\n<text text-anchor=\"start\" x=\"489.5\" y=\"-513.8\" font-family=\"Helvetica,sans-Serif\" font-size=\"14.00\">gini = 0.083</text>\n<text text-anchor=\"start\" x=\"484\" y=\"-498.8\" font-family=\"Helvetica,sans-Serif\" font-size=\"14.00\">samples = 92</text>\n<text text-anchor=\"start\" x=\"474.5\" y=\"-483.8\" font-family=\"Helvetica,sans-Serif\" font-size=\"14.00\">value = [88, 4, 0]</text>\n<text text-anchor=\"start\" x=\"498\" y=\"-468.8\" font-family=\"Helvetica,sans-Serif\" font-size=\"14.00\">class = s</text>\n</g>\n<!-- 1&#45;&gt;2 -->\n<g id=\"edge2\" class=\"edge\">\n<title>1&#45;&gt;2</title>\n<path fill=\"none\" stroke=\"black\" d=\"M689.57,-579.91C667.58,-569.7 643.86,-558.68 621.45,-548.28\"/>\n<polygon fill=\"black\" stroke=\"black\" points=\"622.82,-545.06 612.28,-544.02 619.87,-551.41 622.82,-545.06\"/>\n</g>\n<!-- 11 -->\n<g id=\"node12\" class=\"node\">\n<title>11</title>\n<path fill=\"#4be78c\" stroke=\"black\" d=\"M841,-544C841,-544 715,-544 715,-544 709,-544 703,-538 703,-532 703,-532 703,-473 703,-473 703,-467 709,-461 715,-461 715,-461 841,-461 841,-461 847,-461 853,-467 853,-473 853,-473 853,-532 853,-532 853,-538 847,-544 841,-544\"/>\n<text text-anchor=\"start\" x=\"711\" y=\"-528.8\" font-family=\"Helvetica,sans-Serif\" font-size=\"14.00\">body_mass_g ≤ 0.473</text>\n<text text-anchor=\"start\" x=\"742.5\" y=\"-513.8\" font-family=\"Helvetica,sans-Serif\" font-size=\"14.00\">gini = 0.155</text>\n<text text-anchor=\"start\" x=\"737\" y=\"-498.8\" font-family=\"Helvetica,sans-Serif\" font-size=\"14.00\">samples = 48</text>\n<text text-anchor=\"start\" x=\"727.5\" y=\"-483.8\" font-family=\"Helvetica,sans-Serif\" font-size=\"14.00\">value = [3, 44, 1]</text>\n<text text-anchor=\"start\" x=\"750.5\" y=\"-468.8\" font-family=\"Helvetica,sans-Serif\" font-size=\"14.00\">class = p</text>\n</g>\n<!-- 1&#45;&gt;11 -->\n<g id=\"edge11\" class=\"edge\">\n<title>1&#45;&gt;11</title>\n<path fill=\"none\" stroke=\"black\" d=\"M777.35,-579.91C777.42,-571.65 777.49,-562.86 777.57,-554.3\"/>\n<polygon fill=\"black\" stroke=\"black\" points=\"781.07,-554.05 777.65,-544.02 774.07,-553.99 781.07,-554.05\"/>\n</g>\n<!-- 3 -->\n<g id=\"node4\" class=\"node\">\n<title>3</title>\n<path fill=\"#e5823b\" stroke=\"black\" d=\"M372.5,-425C372.5,-425 209.5,-425 209.5,-425 203.5,-425 197.5,-419 197.5,-413 197.5,-413 197.5,-354 197.5,-354 197.5,-348 203.5,-342 209.5,-342 209.5,-342 372.5,-342 372.5,-342 378.5,-342 384.5,-348 384.5,-354 384.5,-354 384.5,-413 384.5,-413 384.5,-419 378.5,-425 372.5,-425\"/>\n<text text-anchor=\"start\" x=\"205.5\" y=\"-409.8\" font-family=\"Helvetica,sans-Serif\" font-size=\"14.00\">culmen_depth_mm ≤ &#45;0.236</text>\n<text text-anchor=\"start\" x=\"255.5\" y=\"-394.8\" font-family=\"Helvetica,sans-Serif\" font-size=\"14.00\">gini = 0.023</text>\n<text text-anchor=\"start\" x=\"250\" y=\"-379.8\" font-family=\"Helvetica,sans-Serif\" font-size=\"14.00\">samples = 85</text>\n<text text-anchor=\"start\" x=\"240.5\" y=\"-364.8\" font-family=\"Helvetica,sans-Serif\" font-size=\"14.00\">value = [84, 1, 0]</text>\n<text text-anchor=\"start\" x=\"264\" y=\"-349.8\" font-family=\"Helvetica,sans-Serif\" font-size=\"14.00\">class = s</text>\n</g>\n<!-- 2&#45;&gt;3 -->\n<g id=\"edge3\" class=\"edge\">\n<title>2&#45;&gt;3</title>\n<path fill=\"none\" stroke=\"black\" d=\"M443.81,-460.91C423.58,-450.79 401.76,-439.88 381.12,-429.56\"/>\n<polygon fill=\"black\" stroke=\"black\" points=\"382.55,-426.36 372.04,-425.02 379.42,-432.62 382.55,-426.36\"/>\n</g>\n<!-- 8 -->\n<g id=\"node9\" class=\"node\">\n<title>8</title>\n<path fill=\"#f8e0ce\" stroke=\"black\" d=\"M608,-425C608,-425 442,-425 442,-425 436,-425 430,-419 430,-413 430,-413 430,-354 430,-354 430,-348 436,-342 442,-342 442,-342 608,-342 608,-342 614,-342 620,-348 620,-354 620,-354 620,-413 620,-413 620,-419 614,-425 608,-425\"/>\n<text text-anchor=\"start\" x=\"438\" y=\"-409.8\" font-family=\"Helvetica,sans-Serif\" font-size=\"14.00\">culmen_length_mm ≤ &#45;0.255</text>\n<text text-anchor=\"start\" x=\"493\" y=\"-394.8\" font-family=\"Helvetica,sans-Serif\" font-size=\"14.00\">gini = 0.49</text>\n<text text-anchor=\"start\" x=\"487.5\" y=\"-379.8\" font-family=\"Helvetica,sans-Serif\" font-size=\"14.00\">samples = 7</text>\n<text text-anchor=\"start\" x=\"478\" y=\"-364.8\" font-family=\"Helvetica,sans-Serif\" font-size=\"14.00\">value = [4, 3, 0]</text>\n<text text-anchor=\"start\" x=\"498\" y=\"-349.8\" font-family=\"Helvetica,sans-Serif\" font-size=\"14.00\">class = s</text>\n</g>\n<!-- 2&#45;&gt;8 -->\n<g id=\"edge8\" class=\"edge\">\n<title>2&#45;&gt;8</title>\n<path fill=\"none\" stroke=\"black\" d=\"M525,-460.91C525,-452.65 525,-443.86 525,-435.3\"/>\n<polygon fill=\"black\" stroke=\"black\" points=\"528.5,-435.02 525,-425.02 521.5,-435.02 528.5,-435.02\"/>\n</g>\n<!-- 4 -->\n<g id=\"node5\" class=\"node\">\n<title>4</title>\n<path fill=\"#e99355\" stroke=\"black\" d=\"M202,-306C202,-306 36,-306 36,-306 30,-306 24,-300 24,-294 24,-294 24,-235 24,-235 24,-229 30,-223 36,-223 36,-223 202,-223 202,-223 208,-223 214,-229 214,-235 214,-235 214,-294 214,-294 214,-300 208,-306 202,-306\"/>\n<text text-anchor=\"start\" x=\"32\" y=\"-290.8\" font-family=\"Helvetica,sans-Serif\" font-size=\"14.00\">culmen_length_mm ≤ &#45;0.924</text>\n<text text-anchor=\"start\" x=\"83.5\" y=\"-275.8\" font-family=\"Helvetica,sans-Serif\" font-size=\"14.00\">gini = 0.219</text>\n<text text-anchor=\"start\" x=\"81.5\" y=\"-260.8\" font-family=\"Helvetica,sans-Serif\" font-size=\"14.00\">samples = 8</text>\n<text text-anchor=\"start\" x=\"72\" y=\"-245.8\" font-family=\"Helvetica,sans-Serif\" font-size=\"14.00\">value = [7, 1, 0]</text>\n<text text-anchor=\"start\" x=\"92\" y=\"-230.8\" font-family=\"Helvetica,sans-Serif\" font-size=\"14.00\">class = s</text>\n</g>\n<!-- 3&#45;&gt;4 -->\n<g id=\"edge4\" class=\"edge\">\n<title>3&#45;&gt;4</title>\n<path fill=\"none\" stroke=\"black\" d=\"M231.33,-341.91C217.05,-332.2 201.7,-321.76 187.08,-311.81\"/>\n<polygon fill=\"black\" stroke=\"black\" points=\"188.81,-308.75 178.57,-306.02 184.87,-314.54 188.81,-308.75\"/>\n</g>\n<!-- 7 -->\n<g id=\"node8\" class=\"node\">\n<title>7</title>\n<path fill=\"#e58139\" stroke=\"black\" d=\"M337.5,-298.5C337.5,-298.5 244.5,-298.5 244.5,-298.5 238.5,-298.5 232.5,-292.5 232.5,-286.5 232.5,-286.5 232.5,-242.5 232.5,-242.5 232.5,-236.5 238.5,-230.5 244.5,-230.5 244.5,-230.5 337.5,-230.5 337.5,-230.5 343.5,-230.5 349.5,-236.5 349.5,-242.5 349.5,-242.5 349.5,-286.5 349.5,-286.5 349.5,-292.5 343.5,-298.5 337.5,-298.5\"/>\n<text text-anchor=\"start\" x=\"263\" y=\"-283.3\" font-family=\"Helvetica,sans-Serif\" font-size=\"14.00\">gini = 0.0</text>\n<text text-anchor=\"start\" x=\"250\" y=\"-268.3\" font-family=\"Helvetica,sans-Serif\" font-size=\"14.00\">samples = 77</text>\n<text text-anchor=\"start\" x=\"240.5\" y=\"-253.3\" font-family=\"Helvetica,sans-Serif\" font-size=\"14.00\">value = [77, 0, 0]</text>\n<text text-anchor=\"start\" x=\"264\" y=\"-238.3\" font-family=\"Helvetica,sans-Serif\" font-size=\"14.00\">class = s</text>\n</g>\n<!-- 3&#45;&gt;7 -->\n<g id=\"edge7\" class=\"edge\">\n<title>3&#45;&gt;7</title>\n<path fill=\"none\" stroke=\"black\" d=\"M291,-341.91C291,-331.2 291,-319.62 291,-308.78\"/>\n<polygon fill=\"black\" stroke=\"black\" points=\"294.5,-308.67 291,-298.67 287.5,-308.67 294.5,-308.67\"/>\n</g>\n<!-- 5 -->\n<g id=\"node6\" class=\"node\">\n<title>5</title>\n<path fill=\"#e58139\" stroke=\"black\" d=\"M98,-179.5C98,-179.5 12,-179.5 12,-179.5 6,-179.5 0,-173.5 0,-167.5 0,-167.5 0,-123.5 0,-123.5 0,-117.5 6,-111.5 12,-111.5 12,-111.5 98,-111.5 98,-111.5 104,-111.5 110,-117.5 110,-123.5 110,-123.5 110,-167.5 110,-167.5 110,-173.5 104,-179.5 98,-179.5\"/>\n<text text-anchor=\"start\" x=\"27\" y=\"-164.3\" font-family=\"Helvetica,sans-Serif\" font-size=\"14.00\">gini = 0.0</text>\n<text text-anchor=\"start\" x=\"17.5\" y=\"-149.3\" font-family=\"Helvetica,sans-Serif\" font-size=\"14.00\">samples = 7</text>\n<text text-anchor=\"start\" x=\"8\" y=\"-134.3\" font-family=\"Helvetica,sans-Serif\" font-size=\"14.00\">value = [7, 0, 0]</text>\n<text text-anchor=\"start\" x=\"28\" y=\"-119.3\" font-family=\"Helvetica,sans-Serif\" font-size=\"14.00\">class = s</text>\n</g>\n<!-- 4&#45;&gt;5 -->\n<g id=\"edge5\" class=\"edge\">\n<title>4&#45;&gt;5</title>\n<path fill=\"none\" stroke=\"black\" d=\"M96.8,-222.91C90.76,-211.87 84.21,-199.9 78.12,-188.77\"/>\n<polygon fill=\"black\" stroke=\"black\" points=\"81.01,-186.76 73.14,-179.67 74.87,-190.12 81.01,-186.76\"/>\n</g>\n<!-- 6 -->\n<g id=\"node7\" class=\"node\">\n<title>6</title>\n<path fill=\"#39e581\" stroke=\"black\" d=\"M226,-179.5C226,-179.5 140,-179.5 140,-179.5 134,-179.5 128,-173.5 128,-167.5 128,-167.5 128,-123.5 128,-123.5 128,-117.5 134,-111.5 140,-111.5 140,-111.5 226,-111.5 226,-111.5 232,-111.5 238,-117.5 238,-123.5 238,-123.5 238,-167.5 238,-167.5 238,-173.5 232,-179.5 226,-179.5\"/>\n<text text-anchor=\"start\" x=\"155\" y=\"-164.3\" font-family=\"Helvetica,sans-Serif\" font-size=\"14.00\">gini = 0.0</text>\n<text text-anchor=\"start\" x=\"145.5\" y=\"-149.3\" font-family=\"Helvetica,sans-Serif\" font-size=\"14.00\">samples = 1</text>\n<text text-anchor=\"start\" x=\"136\" y=\"-134.3\" font-family=\"Helvetica,sans-Serif\" font-size=\"14.00\">value = [0, 1, 0]</text>\n<text text-anchor=\"start\" x=\"155.5\" y=\"-119.3\" font-family=\"Helvetica,sans-Serif\" font-size=\"14.00\">class = p</text>\n</g>\n<!-- 4&#45;&gt;6 -->\n<g id=\"edge6\" class=\"edge\">\n<title>4&#45;&gt;6</title>\n<path fill=\"none\" stroke=\"black\" d=\"M141.2,-222.91C147.24,-211.87 153.79,-199.9 159.88,-188.77\"/>\n<polygon fill=\"black\" stroke=\"black\" points=\"163.13,-190.12 164.86,-179.67 156.99,-186.76 163.13,-190.12\"/>\n</g>\n<!-- 9 -->\n<g id=\"node10\" class=\"node\">\n<title>9</title>\n<path fill=\"#39e581\" stroke=\"black\" d=\"M466,-298.5C466,-298.5 380,-298.5 380,-298.5 374,-298.5 368,-292.5 368,-286.5 368,-286.5 368,-242.5 368,-242.5 368,-236.5 374,-230.5 380,-230.5 380,-230.5 466,-230.5 466,-230.5 472,-230.5 478,-236.5 478,-242.5 478,-242.5 478,-286.5 478,-286.5 478,-292.5 472,-298.5 466,-298.5\"/>\n<text text-anchor=\"start\" x=\"395\" y=\"-283.3\" font-family=\"Helvetica,sans-Serif\" font-size=\"14.00\">gini = 0.0</text>\n<text text-anchor=\"start\" x=\"385.5\" y=\"-268.3\" font-family=\"Helvetica,sans-Serif\" font-size=\"14.00\">samples = 3</text>\n<text text-anchor=\"start\" x=\"376\" y=\"-253.3\" font-family=\"Helvetica,sans-Serif\" font-size=\"14.00\">value = [0, 3, 0]</text>\n<text text-anchor=\"start\" x=\"395.5\" y=\"-238.3\" font-family=\"Helvetica,sans-Serif\" font-size=\"14.00\">class = p</text>\n</g>\n<!-- 8&#45;&gt;9 -->\n<g id=\"edge9\" class=\"edge\">\n<title>8&#45;&gt;9</title>\n<path fill=\"none\" stroke=\"black\" d=\"M489.61,-341.91C479.61,-330.43 468.72,-317.94 458.69,-306.44\"/>\n<polygon fill=\"black\" stroke=\"black\" points=\"461.12,-303.9 451.91,-298.67 455.85,-308.5 461.12,-303.9\"/>\n</g>\n<!-- 10 -->\n<g id=\"node11\" class=\"node\">\n<title>10</title>\n<path fill=\"#e58139\" stroke=\"black\" d=\"M594,-298.5C594,-298.5 508,-298.5 508,-298.5 502,-298.5 496,-292.5 496,-286.5 496,-286.5 496,-242.5 496,-242.5 496,-236.5 502,-230.5 508,-230.5 508,-230.5 594,-230.5 594,-230.5 600,-230.5 606,-236.5 606,-242.5 606,-242.5 606,-286.5 606,-286.5 606,-292.5 600,-298.5 594,-298.5\"/>\n<text text-anchor=\"start\" x=\"523\" y=\"-283.3\" font-family=\"Helvetica,sans-Serif\" font-size=\"14.00\">gini = 0.0</text>\n<text text-anchor=\"start\" x=\"513.5\" y=\"-268.3\" font-family=\"Helvetica,sans-Serif\" font-size=\"14.00\">samples = 4</text>\n<text text-anchor=\"start\" x=\"504\" y=\"-253.3\" font-family=\"Helvetica,sans-Serif\" font-size=\"14.00\">value = [4, 0, 0]</text>\n<text text-anchor=\"start\" x=\"524\" y=\"-238.3\" font-family=\"Helvetica,sans-Serif\" font-size=\"14.00\">class = s</text>\n</g>\n<!-- 8&#45;&gt;10 -->\n<g id=\"edge10\" class=\"edge\">\n<title>8&#45;&gt;10</title>\n<path fill=\"none\" stroke=\"black\" d=\"M534.02,-341.91C536.42,-331.09 539.03,-319.38 541.46,-308.44\"/>\n<polygon fill=\"black\" stroke=\"black\" points=\"544.88,-309.19 543.63,-298.67 538.04,-307.67 544.88,-309.19\"/>\n</g>\n<!-- 12 -->\n<g id=\"node13\" class=\"node\">\n<title>12</title>\n<path fill=\"#42e687\" stroke=\"black\" d=\"M857,-425C857,-425 699,-425 699,-425 693,-425 687,-419 687,-413 687,-413 687,-354 687,-354 687,-348 693,-342 699,-342 699,-342 857,-342 857,-342 863,-342 869,-348 869,-354 869,-354 869,-413 869,-413 869,-419 863,-425 857,-425\"/>\n<text text-anchor=\"start\" x=\"695\" y=\"-409.8\" font-family=\"Helvetica,sans-Serif\" font-size=\"14.00\">culmen_depth_mm ≤ 2.027</text>\n<text text-anchor=\"start\" x=\"742.5\" y=\"-394.8\" font-family=\"Helvetica,sans-Serif\" font-size=\"14.00\">gini = 0.083</text>\n<text text-anchor=\"start\" x=\"737\" y=\"-379.8\" font-family=\"Helvetica,sans-Serif\" font-size=\"14.00\">samples = 46</text>\n<text text-anchor=\"start\" x=\"727.5\" y=\"-364.8\" font-family=\"Helvetica,sans-Serif\" font-size=\"14.00\">value = [2, 44, 0]</text>\n<text text-anchor=\"start\" x=\"750.5\" y=\"-349.8\" font-family=\"Helvetica,sans-Serif\" font-size=\"14.00\">class = p</text>\n</g>\n<!-- 11&#45;&gt;12 -->\n<g id=\"edge12\" class=\"edge\">\n<title>11&#45;&gt;12</title>\n<path fill=\"none\" stroke=\"black\" d=\"M778,-460.91C778,-452.65 778,-443.86 778,-435.3\"/>\n<polygon fill=\"black\" stroke=\"black\" points=\"781.5,-435.02 778,-425.02 774.5,-435.02 781.5,-435.02\"/>\n</g>\n<!-- 19 -->\n<g id=\"node20\" class=\"node\">\n<title>19</title>\n<path fill=\"#ffffff\" stroke=\"black\" d=\"M1061.5,-425C1061.5,-425 900.5,-425 900.5,-425 894.5,-425 888.5,-419 888.5,-413 888.5,-413 888.5,-354 888.5,-354 888.5,-348 894.5,-342 900.5,-342 900.5,-342 1061.5,-342 1061.5,-342 1067.5,-342 1073.5,-348 1073.5,-354 1073.5,-354 1073.5,-413 1073.5,-413 1073.5,-419 1067.5,-425 1061.5,-425\"/>\n<text text-anchor=\"start\" x=\"896.5\" y=\"-409.8\" font-family=\"Helvetica,sans-Serif\" font-size=\"14.00\">culmen_length_mm ≤ 0.331</text>\n<text text-anchor=\"start\" x=\"953\" y=\"-394.8\" font-family=\"Helvetica,sans-Serif\" font-size=\"14.00\">gini = 0.5</text>\n<text text-anchor=\"start\" x=\"943.5\" y=\"-379.8\" font-family=\"Helvetica,sans-Serif\" font-size=\"14.00\">samples = 2</text>\n<text text-anchor=\"start\" x=\"934\" y=\"-364.8\" font-family=\"Helvetica,sans-Serif\" font-size=\"14.00\">value = [1, 0, 1]</text>\n<text text-anchor=\"start\" x=\"954\" y=\"-349.8\" font-family=\"Helvetica,sans-Serif\" font-size=\"14.00\">class = s</text>\n</g>\n<!-- 11&#45;&gt;19 -->\n<g id=\"edge19\" class=\"edge\">\n<title>11&#45;&gt;19</title>\n<path fill=\"none\" stroke=\"black\" d=\"M848.43,-460.91C865.59,-451.02 884.07,-440.37 901.61,-430.25\"/>\n<polygon fill=\"black\" stroke=\"black\" points=\"903.78,-433.05 910.69,-425.02 900.28,-426.98 903.78,-433.05\"/>\n</g>\n<!-- 13 -->\n<g id=\"node14\" class=\"node\">\n<title>13</title>\n<path fill=\"#3de684\" stroke=\"black\" d=\"M767.5,-306C767.5,-306 636.5,-306 636.5,-306 630.5,-306 624.5,-300 624.5,-294 624.5,-294 624.5,-235 624.5,-235 624.5,-229 630.5,-223 636.5,-223 636.5,-223 767.5,-223 767.5,-223 773.5,-223 779.5,-229 779.5,-235 779.5,-235 779.5,-294 779.5,-294 779.5,-300 773.5,-306 767.5,-306\"/>\n<text text-anchor=\"start\" x=\"632.5\" y=\"-290.8\" font-family=\"Helvetica,sans-Serif\" font-size=\"14.00\">body_mass_g ≤ &#45;0.133</text>\n<text text-anchor=\"start\" x=\"666.5\" y=\"-275.8\" font-family=\"Helvetica,sans-Serif\" font-size=\"14.00\">gini = 0.043</text>\n<text text-anchor=\"start\" x=\"661\" y=\"-260.8\" font-family=\"Helvetica,sans-Serif\" font-size=\"14.00\">samples = 45</text>\n<text text-anchor=\"start\" x=\"651.5\" y=\"-245.8\" font-family=\"Helvetica,sans-Serif\" font-size=\"14.00\">value = [1, 44, 0]</text>\n<text text-anchor=\"start\" x=\"674.5\" y=\"-230.8\" font-family=\"Helvetica,sans-Serif\" font-size=\"14.00\">class = p</text>\n</g>\n<!-- 12&#45;&gt;13 -->\n<g id=\"edge13\" class=\"edge\">\n<title>12&#45;&gt;13</title>\n<path fill=\"none\" stroke=\"black\" d=\"M751.63,-341.91C745.91,-333.1 739.81,-323.7 733.9,-314.61\"/>\n<polygon fill=\"black\" stroke=\"black\" points=\"736.7,-312.5 728.32,-306.02 730.83,-316.31 736.7,-312.5\"/>\n</g>\n<!-- 18 -->\n<g id=\"node19\" class=\"node\">\n<title>18</title>\n<path fill=\"#e58139\" stroke=\"black\" d=\"M896,-298.5C896,-298.5 810,-298.5 810,-298.5 804,-298.5 798,-292.5 798,-286.5 798,-286.5 798,-242.5 798,-242.5 798,-236.5 804,-230.5 810,-230.5 810,-230.5 896,-230.5 896,-230.5 902,-230.5 908,-236.5 908,-242.5 908,-242.5 908,-286.5 908,-286.5 908,-292.5 902,-298.5 896,-298.5\"/>\n<text text-anchor=\"start\" x=\"825\" y=\"-283.3\" font-family=\"Helvetica,sans-Serif\" font-size=\"14.00\">gini = 0.0</text>\n<text text-anchor=\"start\" x=\"815.5\" y=\"-268.3\" font-family=\"Helvetica,sans-Serif\" font-size=\"14.00\">samples = 1</text>\n<text text-anchor=\"start\" x=\"806\" y=\"-253.3\" font-family=\"Helvetica,sans-Serif\" font-size=\"14.00\">value = [1, 0, 0]</text>\n<text text-anchor=\"start\" x=\"826\" y=\"-238.3\" font-family=\"Helvetica,sans-Serif\" font-size=\"14.00\">class = s</text>\n</g>\n<!-- 12&#45;&gt;18 -->\n<g id=\"edge18\" class=\"edge\">\n<title>12&#45;&gt;18</title>\n<path fill=\"none\" stroke=\"black\" d=\"M804.02,-341.91C811.24,-330.65 819.08,-318.42 826.33,-307.11\"/>\n<polygon fill=\"black\" stroke=\"black\" points=\"829.29,-308.97 831.74,-298.67 823.4,-305.2 829.29,-308.97\"/>\n</g>\n<!-- 14 -->\n<g id=\"node15\" class=\"node\">\n<title>14</title>\n<path fill=\"#39e581\" stroke=\"black\" d=\"M663.5,-179.5C663.5,-179.5 570.5,-179.5 570.5,-179.5 564.5,-179.5 558.5,-173.5 558.5,-167.5 558.5,-167.5 558.5,-123.5 558.5,-123.5 558.5,-117.5 564.5,-111.5 570.5,-111.5 570.5,-111.5 663.5,-111.5 663.5,-111.5 669.5,-111.5 675.5,-117.5 675.5,-123.5 675.5,-123.5 675.5,-167.5 675.5,-167.5 675.5,-173.5 669.5,-179.5 663.5,-179.5\"/>\n<text text-anchor=\"start\" x=\"589\" y=\"-164.3\" font-family=\"Helvetica,sans-Serif\" font-size=\"14.00\">gini = 0.0</text>\n<text text-anchor=\"start\" x=\"576\" y=\"-149.3\" font-family=\"Helvetica,sans-Serif\" font-size=\"14.00\">samples = 39</text>\n<text text-anchor=\"start\" x=\"566.5\" y=\"-134.3\" font-family=\"Helvetica,sans-Serif\" font-size=\"14.00\">value = [0, 39, 0]</text>\n<text text-anchor=\"start\" x=\"589.5\" y=\"-119.3\" font-family=\"Helvetica,sans-Serif\" font-size=\"14.00\">class = p</text>\n</g>\n<!-- 13&#45;&gt;14 -->\n<g id=\"edge14\" class=\"edge\">\n<title>13&#45;&gt;14</title>\n<path fill=\"none\" stroke=\"black\" d=\"M672.51,-222.91C664.25,-211.54 655.27,-199.18 646.99,-187.77\"/>\n<polygon fill=\"black\" stroke=\"black\" points=\"649.8,-185.7 641.1,-179.67 644.14,-189.81 649.8,-185.7\"/>\n</g>\n<!-- 15 -->\n<g id=\"node16\" class=\"node\">\n<title>15</title>\n<path fill=\"#61ea9a\" stroke=\"black\" d=\"M866.5,-187C866.5,-187 705.5,-187 705.5,-187 699.5,-187 693.5,-181 693.5,-175 693.5,-175 693.5,-116 693.5,-116 693.5,-110 699.5,-104 705.5,-104 705.5,-104 866.5,-104 866.5,-104 872.5,-104 878.5,-110 878.5,-116 878.5,-116 878.5,-175 878.5,-175 878.5,-181 872.5,-187 866.5,-187\"/>\n<text text-anchor=\"start\" x=\"701.5\" y=\"-171.8\" font-family=\"Helvetica,sans-Serif\" font-size=\"14.00\">culmen_length_mm ≤ 0.642</text>\n<text text-anchor=\"start\" x=\"750.5\" y=\"-156.8\" font-family=\"Helvetica,sans-Serif\" font-size=\"14.00\">gini = 0.278</text>\n<text text-anchor=\"start\" x=\"748.5\" y=\"-141.8\" font-family=\"Helvetica,sans-Serif\" font-size=\"14.00\">samples = 6</text>\n<text text-anchor=\"start\" x=\"739\" y=\"-126.8\" font-family=\"Helvetica,sans-Serif\" font-size=\"14.00\">value = [1, 5, 0]</text>\n<text text-anchor=\"start\" x=\"758.5\" y=\"-111.8\" font-family=\"Helvetica,sans-Serif\" font-size=\"14.00\">class = p</text>\n</g>\n<!-- 13&#45;&gt;15 -->\n<g id=\"edge15\" class=\"edge\">\n<title>13&#45;&gt;15</title>\n<path fill=\"none\" stroke=\"black\" d=\"M731.14,-222.91C737.53,-214.01 744.35,-204.51 750.94,-195.33\"/>\n<polygon fill=\"black\" stroke=\"black\" points=\"753.92,-197.19 756.91,-187.02 748.23,-193.1 753.92,-197.19\"/>\n</g>\n<!-- 16 -->\n<g id=\"node17\" class=\"node\">\n<title>16</title>\n<path fill=\"#e58139\" stroke=\"black\" d=\"M765,-68C765,-68 679,-68 679,-68 673,-68 667,-62 667,-56 667,-56 667,-12 667,-12 667,-6 673,0 679,0 679,0 765,0 765,0 771,0 777,-6 777,-12 777,-12 777,-56 777,-56 777,-62 771,-68 765,-68\"/>\n<text text-anchor=\"start\" x=\"694\" y=\"-52.8\" font-family=\"Helvetica,sans-Serif\" font-size=\"14.00\">gini = 0.0</text>\n<text text-anchor=\"start\" x=\"684.5\" y=\"-37.8\" font-family=\"Helvetica,sans-Serif\" font-size=\"14.00\">samples = 1</text>\n<text text-anchor=\"start\" x=\"675\" y=\"-22.8\" font-family=\"Helvetica,sans-Serif\" font-size=\"14.00\">value = [1, 0, 0]</text>\n<text text-anchor=\"start\" x=\"695\" y=\"-7.8\" font-family=\"Helvetica,sans-Serif\" font-size=\"14.00\">class = s</text>\n</g>\n<!-- 15&#45;&gt;16 -->\n<g id=\"edge16\" class=\"edge\">\n<title>15&#45;&gt;16</title>\n<path fill=\"none\" stroke=\"black\" d=\"M762.17,-103.73C757.1,-95.06 751.75,-85.9 746.65,-77.18\"/>\n<polygon fill=\"black\" stroke=\"black\" points=\"749.53,-75.17 741.46,-68.3 743.49,-78.7 749.53,-75.17\"/>\n</g>\n<!-- 17 -->\n<g id=\"node18\" class=\"node\">\n<title>17</title>\n<path fill=\"#39e581\" stroke=\"black\" d=\"M893,-68C893,-68 807,-68 807,-68 801,-68 795,-62 795,-56 795,-56 795,-12 795,-12 795,-6 801,0 807,0 807,0 893,0 893,0 899,0 905,-6 905,-12 905,-12 905,-56 905,-56 905,-62 899,-68 893,-68\"/>\n<text text-anchor=\"start\" x=\"822\" y=\"-52.8\" font-family=\"Helvetica,sans-Serif\" font-size=\"14.00\">gini = 0.0</text>\n<text text-anchor=\"start\" x=\"812.5\" y=\"-37.8\" font-family=\"Helvetica,sans-Serif\" font-size=\"14.00\">samples = 5</text>\n<text text-anchor=\"start\" x=\"803\" y=\"-22.8\" font-family=\"Helvetica,sans-Serif\" font-size=\"14.00\">value = [0, 5, 0]</text>\n<text text-anchor=\"start\" x=\"822.5\" y=\"-7.8\" font-family=\"Helvetica,sans-Serif\" font-size=\"14.00\">class = p</text>\n</g>\n<!-- 15&#45;&gt;17 -->\n<g id=\"edge17\" class=\"edge\">\n<title>15&#45;&gt;17</title>\n<path fill=\"none\" stroke=\"black\" d=\"M809.83,-103.73C814.9,-95.06 820.25,-85.9 825.35,-77.18\"/>\n<polygon fill=\"black\" stroke=\"black\" points=\"828.51,-78.7 830.54,-68.3 822.47,-75.17 828.51,-78.7\"/>\n</g>\n<!-- 20 -->\n<g id=\"node21\" class=\"node\">\n<title>20</title>\n<path fill=\"#e58139\" stroke=\"black\" d=\"M1024,-298.5C1024,-298.5 938,-298.5 938,-298.5 932,-298.5 926,-292.5 926,-286.5 926,-286.5 926,-242.5 926,-242.5 926,-236.5 932,-230.5 938,-230.5 938,-230.5 1024,-230.5 1024,-230.5 1030,-230.5 1036,-236.5 1036,-242.5 1036,-242.5 1036,-286.5 1036,-286.5 1036,-292.5 1030,-298.5 1024,-298.5\"/>\n<text text-anchor=\"start\" x=\"953\" y=\"-283.3\" font-family=\"Helvetica,sans-Serif\" font-size=\"14.00\">gini = 0.0</text>\n<text text-anchor=\"start\" x=\"943.5\" y=\"-268.3\" font-family=\"Helvetica,sans-Serif\" font-size=\"14.00\">samples = 1</text>\n<text text-anchor=\"start\" x=\"934\" y=\"-253.3\" font-family=\"Helvetica,sans-Serif\" font-size=\"14.00\">value = [1, 0, 0]</text>\n<text text-anchor=\"start\" x=\"954\" y=\"-238.3\" font-family=\"Helvetica,sans-Serif\" font-size=\"14.00\">class = s</text>\n</g>\n<!-- 19&#45;&gt;20 -->\n<g id=\"edge20\" class=\"edge\">\n<title>19&#45;&gt;20</title>\n<path fill=\"none\" stroke=\"black\" d=\"M981,-341.91C981,-331.2 981,-319.62 981,-308.78\"/>\n<polygon fill=\"black\" stroke=\"black\" points=\"984.5,-308.67 981,-298.67 977.5,-308.67 984.5,-308.67\"/>\n</g>\n<!-- 21 -->\n<g id=\"node22\" class=\"node\">\n<title>21</title>\n<path fill=\"#8139e5\" stroke=\"black\" d=\"M1152,-298.5C1152,-298.5 1066,-298.5 1066,-298.5 1060,-298.5 1054,-292.5 1054,-286.5 1054,-286.5 1054,-242.5 1054,-242.5 1054,-236.5 1060,-230.5 1066,-230.5 1066,-230.5 1152,-230.5 1152,-230.5 1158,-230.5 1164,-236.5 1164,-242.5 1164,-242.5 1164,-286.5 1164,-286.5 1164,-292.5 1158,-298.5 1152,-298.5\"/>\n<text text-anchor=\"start\" x=\"1081\" y=\"-283.3\" font-family=\"Helvetica,sans-Serif\" font-size=\"14.00\">gini = 0.0</text>\n<text text-anchor=\"start\" x=\"1071.5\" y=\"-268.3\" font-family=\"Helvetica,sans-Serif\" font-size=\"14.00\">samples = 1</text>\n<text text-anchor=\"start\" x=\"1062\" y=\"-253.3\" font-family=\"Helvetica,sans-Serif\" font-size=\"14.00\">value = [0, 0, 1]</text>\n<text text-anchor=\"start\" x=\"1081.5\" y=\"-238.3\" font-family=\"Helvetica,sans-Serif\" font-size=\"14.00\">class = e</text>\n</g>\n<!-- 19&#45;&gt;21 -->\n<g id=\"edge21\" class=\"edge\">\n<title>19&#45;&gt;21</title>\n<path fill=\"none\" stroke=\"black\" d=\"M1025.41,-341.91C1038.33,-330.1 1052.42,-317.22 1065.29,-305.45\"/>\n<polygon fill=\"black\" stroke=\"black\" points=\"1067.7,-308 1072.71,-298.67 1062.97,-302.83 1067.7,-308\"/>\n</g>\n<!-- 23 -->\n<g id=\"node24\" class=\"node\">\n<title>23</title>\n<path fill=\"#8139e5\" stroke=\"black\" d=\"M1027.5,-536.5C1027.5,-536.5 934.5,-536.5 934.5,-536.5 928.5,-536.5 922.5,-530.5 922.5,-524.5 922.5,-524.5 922.5,-480.5 922.5,-480.5 922.5,-474.5 928.5,-468.5 934.5,-468.5 934.5,-468.5 1027.5,-468.5 1027.5,-468.5 1033.5,-468.5 1039.5,-474.5 1039.5,-480.5 1039.5,-480.5 1039.5,-524.5 1039.5,-524.5 1039.5,-530.5 1033.5,-536.5 1027.5,-536.5\"/>\n<text text-anchor=\"start\" x=\"953\" y=\"-521.3\" font-family=\"Helvetica,sans-Serif\" font-size=\"14.00\">gini = 0.0</text>\n<text text-anchor=\"start\" x=\"940\" y=\"-506.3\" font-family=\"Helvetica,sans-Serif\" font-size=\"14.00\">samples = 89</text>\n<text text-anchor=\"start\" x=\"930.5\" y=\"-491.3\" font-family=\"Helvetica,sans-Serif\" font-size=\"14.00\">value = [0, 0, 89]</text>\n<text text-anchor=\"start\" x=\"953.5\" y=\"-476.3\" font-family=\"Helvetica,sans-Serif\" font-size=\"14.00\">class = e</text>\n</g>\n<!-- 22&#45;&gt;23 -->\n<g id=\"edge23\" class=\"edge\">\n<title>22&#45;&gt;23</title>\n<path fill=\"none\" stroke=\"black\" d=\"M981,-579.91C981,-569.2 981,-557.62 981,-546.78\"/>\n<polygon fill=\"black\" stroke=\"black\" points=\"984.5,-546.67 981,-536.67 977.5,-546.67 984.5,-546.67\"/>\n</g>\n<!-- 24 -->\n<g id=\"node25\" class=\"node\">\n<title>24</title>\n<path fill=\"#7beeab\" stroke=\"black\" d=\"M1224,-544C1224,-544 1070,-544 1070,-544 1064,-544 1058,-538 1058,-532 1058,-532 1058,-473 1058,-473 1058,-467 1064,-461 1070,-461 1070,-461 1224,-461 1224,-461 1230,-461 1236,-467 1236,-473 1236,-473 1236,-532 1236,-532 1236,-538 1230,-544 1224,-544\"/>\n<text text-anchor=\"start\" x=\"1066\" y=\"-528.8\" font-family=\"Helvetica,sans-Serif\" font-size=\"14.00\">flipper_length_mm ≤ 0.574</text>\n<text text-anchor=\"start\" x=\"1111.5\" y=\"-513.8\" font-family=\"Helvetica,sans-Serif\" font-size=\"14.00\">gini = 0.375</text>\n<text text-anchor=\"start\" x=\"1109.5\" y=\"-498.8\" font-family=\"Helvetica,sans-Serif\" font-size=\"14.00\">samples = 4</text>\n<text text-anchor=\"start\" x=\"1100\" y=\"-483.8\" font-family=\"Helvetica,sans-Serif\" font-size=\"14.00\">value = [1, 3, 0]</text>\n<text text-anchor=\"start\" x=\"1119.5\" y=\"-468.8\" font-family=\"Helvetica,sans-Serif\" font-size=\"14.00\">class = p</text>\n</g>\n<!-- 22&#45;&gt;24 -->\n<g id=\"edge24\" class=\"edge\">\n<title>22&#45;&gt;24</title>\n<path fill=\"none\" stroke=\"black\" d=\"M1038.59,-579.91C1052.37,-570.2 1067.18,-559.76 1081.29,-549.81\"/>\n<polygon fill=\"black\" stroke=\"black\" points=\"1083.35,-552.64 1089.51,-544.02 1079.32,-546.92 1083.35,-552.64\"/>\n</g>\n<!-- 25 -->\n<g id=\"node26\" class=\"node\">\n<title>25</title>\n<path fill=\"#e58139\" stroke=\"black\" d=\"M1190,-417.5C1190,-417.5 1104,-417.5 1104,-417.5 1098,-417.5 1092,-411.5 1092,-405.5 1092,-405.5 1092,-361.5 1092,-361.5 1092,-355.5 1098,-349.5 1104,-349.5 1104,-349.5 1190,-349.5 1190,-349.5 1196,-349.5 1202,-355.5 1202,-361.5 1202,-361.5 1202,-405.5 1202,-405.5 1202,-411.5 1196,-417.5 1190,-417.5\"/>\n<text text-anchor=\"start\" x=\"1119\" y=\"-402.3\" font-family=\"Helvetica,sans-Serif\" font-size=\"14.00\">gini = 0.0</text>\n<text text-anchor=\"start\" x=\"1109.5\" y=\"-387.3\" font-family=\"Helvetica,sans-Serif\" font-size=\"14.00\">samples = 1</text>\n<text text-anchor=\"start\" x=\"1100\" y=\"-372.3\" font-family=\"Helvetica,sans-Serif\" font-size=\"14.00\">value = [1, 0, 0]</text>\n<text text-anchor=\"start\" x=\"1120\" y=\"-357.3\" font-family=\"Helvetica,sans-Serif\" font-size=\"14.00\">class = s</text>\n</g>\n<!-- 24&#45;&gt;25 -->\n<g id=\"edge25\" class=\"edge\">\n<title>24&#45;&gt;25</title>\n<path fill=\"none\" stroke=\"black\" d=\"M1147,-460.91C1147,-450.2 1147,-438.62 1147,-427.78\"/>\n<polygon fill=\"black\" stroke=\"black\" points=\"1150.5,-427.67 1147,-417.67 1143.5,-427.67 1150.5,-427.67\"/>\n</g>\n<!-- 26 -->\n<g id=\"node27\" class=\"node\">\n<title>26</title>\n<path fill=\"#39e581\" stroke=\"black\" d=\"M1318,-417.5C1318,-417.5 1232,-417.5 1232,-417.5 1226,-417.5 1220,-411.5 1220,-405.5 1220,-405.5 1220,-361.5 1220,-361.5 1220,-355.5 1226,-349.5 1232,-349.5 1232,-349.5 1318,-349.5 1318,-349.5 1324,-349.5 1330,-355.5 1330,-361.5 1330,-361.5 1330,-405.5 1330,-405.5 1330,-411.5 1324,-417.5 1318,-417.5\"/>\n<text text-anchor=\"start\" x=\"1247\" y=\"-402.3\" font-family=\"Helvetica,sans-Serif\" font-size=\"14.00\">gini = 0.0</text>\n<text text-anchor=\"start\" x=\"1237.5\" y=\"-387.3\" font-family=\"Helvetica,sans-Serif\" font-size=\"14.00\">samples = 3</text>\n<text text-anchor=\"start\" x=\"1228\" y=\"-372.3\" font-family=\"Helvetica,sans-Serif\" font-size=\"14.00\">value = [0, 3, 0]</text>\n<text text-anchor=\"start\" x=\"1247.5\" y=\"-357.3\" font-family=\"Helvetica,sans-Serif\" font-size=\"14.00\">class = p</text>\n</g>\n<!-- 24&#45;&gt;26 -->\n<g id=\"edge26\" class=\"edge\">\n<title>24&#45;&gt;26</title>\n<path fill=\"none\" stroke=\"black\" d=\"M1191.41,-460.91C1204.33,-449.1 1218.42,-436.22 1231.29,-424.45\"/>\n<polygon fill=\"black\" stroke=\"black\" points=\"1233.7,-427 1238.71,-417.67 1228.97,-421.83 1233.7,-427\"/>\n</g>\n</g>\n</svg>\n",
            "text/plain": [
              "<graphviz.sources.Source at 0x7ee75d531a80>"
            ]
          },
          "metadata": {},
          "execution_count": 88
        }
      ]
    },
    {
      "cell_type": "code",
      "source": [
        "# print to the output file\n",
        "print('**************************************************************', file = outputFile)\n",
        "print('(A) Classifier 1 - Base DT', file = outputFile)\n",
        "print(classifier_1, file = outputFile)\n",
        "print('\\n', file = outputFile)"
      ],
      "metadata": {
        "id": "OYDP9qI641PW"
      },
      "execution_count": 89,
      "outputs": []
    },
    {
      "cell_type": "code",
      "source": [
        "# print classification report\n",
        "y_pred = classifier_1.predict(X_test)\n",
        "confusion_mat = confusion_matrix(y_test, y_pred)\n",
        "\n",
        "print(classification_report(y_test, y_pred, target_names=['Adelie', 'Chinstrap', 'Gentoo']))\n",
        "print(\"confusion matrix\\n\",confusion_mat)\n",
        "\n",
        "# print the result to the output file\n",
        "confusion_matrix_result =np.array2string(confusion_mat)\n",
        "print(\"(B) Confusion Matrix\", file = outputFile)\n",
        "print(confusion_matrix_result, file = outputFile)\n",
        "print('\\n', file = outputFile)\n",
        "print(\"(C,D) Classification Report\", file = outputFile)\n",
        "print(classification_report(y_test, y_pred, target_names = ['Adelie', 'Gentoo', 'Chinstap']), file = outputFile)\n",
        "outputFile.flush()"
      ],
      "metadata": {
        "colab": {
          "base_uri": "https://localhost:8080/"
        },
        "id": "o-9zdG295Uzs",
        "outputId": "96916d93-cf01-41c4-a0f5-ac49f3e9c929"
      },
      "execution_count": 90,
      "outputs": [
        {
          "output_type": "stream",
          "name": "stdout",
          "text": [
            "              precision    recall  f1-score   support\n",
            "\n",
            "      Adelie       0.96      0.85      0.90        54\n",
            "   Chinstrap       0.70      0.94      0.80        17\n",
            "      Gentoo       0.97      0.97      0.97        29\n",
            "\n",
            "    accuracy                           0.90       100\n",
            "   macro avg       0.87      0.92      0.89       100\n",
            "weighted avg       0.92      0.90      0.90       100\n",
            "\n",
            "confusion matrix\n",
            " [[46  7  1]\n",
            " [ 1 16  0]\n",
            " [ 1  0 28]]\n"
          ]
        }
      ]
    },
    {
      "cell_type": "code",
      "source": [
        "# repeat training & prediction 5 times for classifier 1\n",
        "from sklearn.metrics import accuracy_score, f1_score\n",
        "\n",
        "accuracy_baseDT = np.zeros(5)\n",
        "macro_avg_baseDT = np.zeros(5)\n",
        "weighted_avg_baseDT = np.zeros(5)\n",
        "\n",
        "for i in range(5):\n",
        "  X_train, X_test, y_train, y_test = train_test_split(X, y, test_size = 0.3)\n",
        "  classifier_1.fit(X_train, y_train)\n",
        "  y_pred = classifier_1.predict(X_test)\n",
        "\n",
        "  # find the accuracy for each iteration and store the value\n",
        "  accuracy_baseDT[i] = accuracy_score(y_test, y_pred)\n",
        "  macro_avg_baseDT[i] = f1_score(y_test, y_pred, average='macro')\n",
        "  weighted_avg_baseDT[i] = f1_score(y_test, y_pred, average='weighted')\n",
        "\n",
        "# compute the average accuracy & variances\n",
        "print(f'accuracy_baseDT: {accuracy_baseDT}')\n",
        "Avg_accuracy = (np.sum(accuracy_baseDT))/5\n",
        "accuracy_variance = np.var(accuracy_baseDT)\n",
        "print(f'average accuracy: {Avg_accuracy}, variance: {accuracy_variance}')\n",
        "\n",
        "# compute the average macro-average F1 & the variance\n",
        "print(f'macro_avg_baseDT: {macro_avg_baseDT}')\n",
        "Avg_macro_avg = (np.sum(macro_avg_baseDT))/5\n",
        "f1_macro_variance = np.var(macro_avg_baseDT)\n",
        "print(f'average macro-average F1: {Avg_macro_avg}, variance: {f1_macro_variance}')\n",
        "\n",
        "# compute the average weighted-average F1 & the variance\n",
        "print(f'weighted_avg_baseDT: {weighted_avg_baseDT}')\n",
        "Avg_weighted_avg = (np.sum(weighted_avg_baseDT))/5\n",
        "f1_weighted_variance = np.var(weighted_avg_baseDT)\n",
        "print(f'average weighted-average F1: {Avg_weighted_avg}, variance: {f1_weighted_variance}')"
      ],
      "metadata": {
        "id": "kSCBBBuHJcjz",
        "outputId": "d3e9bd53-950d-4984-cd5b-9b23fdc84555",
        "colab": {
          "base_uri": "https://localhost:8080/"
        }
      },
      "execution_count": 91,
      "outputs": [
        {
          "output_type": "stream",
          "name": "stdout",
          "text": [
            "accuracy_baseDT: [0.98 0.98 0.97 0.98 0.99]\n",
            "average accuracy: 0.9799999999999999, variance: 4.000000000000007e-05\n",
            "macro_avg_baseDT: [0.9755814  0.9630303  0.96429741 0.9775641  0.98828569]\n",
            "average macro-average F1: 0.9737517805266027, variance: 8.669019018545668e-05\n",
            "weighted_avg_baseDT: [0.97973256 0.98       0.9701867  0.98016026 0.98993181]\n",
            "average weighted-average F1: 0.9800022656752235, variance: 3.900778019783669e-05\n"
          ]
        }
      ]
    },
    {
      "cell_type": "code",
      "source": [
        "# print the performance result to outputfile\n",
        "print('\\n(E) The result after 5 times of train-test repetition:' ,file = outputFile)\n",
        "print(f'average accuracy: {Avg_accuracy}, variance: {accuracy_variance}', file = outputFile)\n",
        "print(f'average macro-average F1: {Avg_macro_avg}, variance: {f1_macro_variance}', file = outputFile)\n",
        "print(f'average weighted-average F1: {Avg_weighted_avg}, variance: {f1_weighted_variance}', file = outputFile)\n",
        "print('\\n', file = outputFile)\n",
        "outputFile.flush()"
      ],
      "metadata": {
        "id": "G9_phUjPZBFF"
      },
      "execution_count": 92,
      "outputs": []
    },
    {
      "cell_type": "markdown",
      "source": [
        "##### Classifier 2 - Top-DT"
      ],
      "metadata": {
        "id": "8RIB1m4M56j3"
      }
    },
    {
      "cell_type": "code",
      "source": [
        "# Top Decision Tree - decision tree using gridsearch(hyperparameter search)\n",
        "from sklearn.model_selection import GridSearchCV\n",
        "from sklearn.tree import DecisionTreeClassifier\n",
        "\n",
        "parameters = {\n",
        "    'criterion': ['gini', 'entropy'],\n",
        "    'max_depth': [None, 3, 5],\n",
        "    'min_samples_split': [2, 5, 10]\n",
        "}\n",
        "\n",
        "classifier_2 = GridSearchCV(DecisionTreeClassifier(), parameters)\n",
        "classifier_2.fit(X_train, y_train)\n",
        "\n",
        "print(f'best parameters: {classifier_2.best_params_}')"
      ],
      "metadata": {
        "id": "JRPd85lw5jg2",
        "colab": {
          "base_uri": "https://localhost:8080/"
        },
        "outputId": "5d1a3564-fdc6-430e-9d52-5f5ecd0521a6"
      },
      "execution_count": 93,
      "outputs": [
        {
          "output_type": "stream",
          "name": "stdout",
          "text": [
            "best parameters: {'criterion': 'gini', 'max_depth': 3, 'min_samples_split': 2}\n"
          ]
        }
      ]
    },
    {
      "cell_type": "code",
      "source": [
        "penguins_class = data_penguins.columns[0]\n",
        "penguins_features = list(data_penguins.columns[1:])"
      ],
      "metadata": {
        "id": "YFTodB7a_Qxl"
      },
      "execution_count": 94,
      "outputs": []
    },
    {
      "cell_type": "code",
      "source": [
        "from sklearn.tree import export_graphviz\n",
        "from IPython.display import display\n",
        "\n",
        "dot_data = export_graphviz(classifier_2.best_estimator_,\n",
        "                          feature_names=penguins_features,\n",
        "                          class_names=penguins_class,\n",
        "                          filled=True, rounded=True,\n",
        "                          special_characters=True)\n",
        "\n",
        "graph = graphviz.Source(dot_data)\n",
        "display(graph)"
      ],
      "metadata": {
        "id": "Yq9k0XZ6-odi",
        "outputId": "56e5774b-dcb4-4d67-8667-09a5e851dbdd",
        "colab": {
          "base_uri": "https://localhost:8080/",
          "height": 599
        }
      },
      "execution_count": 95,
      "outputs": [
        {
          "output_type": "display_data",
          "data": {
            "image/svg+xml": "<?xml version=\"1.0\" encoding=\"UTF-8\" standalone=\"no\"?>\n<!DOCTYPE svg PUBLIC \"-//W3C//DTD SVG 1.1//EN\"\n \"http://www.w3.org/Graphics/SVG/1.1/DTD/svg11.dtd\">\n<!-- Generated by graphviz version 2.43.0 (0)\n -->\n<!-- Title: Tree Pages: 1 -->\n<svg width=\"818pt\" height=\"433pt\"\n viewBox=\"0.00 0.00 818.00 433.00\" xmlns=\"http://www.w3.org/2000/svg\" xmlns:xlink=\"http://www.w3.org/1999/xlink\">\n<g id=\"graph0\" class=\"graph\" transform=\"scale(1 1) rotate(0) translate(4 429)\">\n<title>Tree</title>\n<polygon fill=\"white\" stroke=\"transparent\" points=\"-4,4 -4,-429 814,-429 814,4 -4,4\"/>\n<!-- 0 -->\n<g id=\"node1\" class=\"node\">\n<title>0</title>\n<path fill=\"#fdf3ec\" stroke=\"black\" d=\"M555.5,-425C555.5,-425 409.5,-425 409.5,-425 403.5,-425 397.5,-419 397.5,-413 397.5,-413 397.5,-354 397.5,-354 397.5,-348 403.5,-342 409.5,-342 409.5,-342 555.5,-342 555.5,-342 561.5,-342 567.5,-348 567.5,-354 567.5,-354 567.5,-413 567.5,-413 567.5,-419 561.5,-425 555.5,-425\"/>\n<text text-anchor=\"start\" x=\"405.5\" y=\"-409.8\" font-family=\"Helvetica,sans-Serif\" font-size=\"14.00\">flipper_length_mm ≤ 0.36</text>\n<text text-anchor=\"start\" x=\"447\" y=\"-394.8\" font-family=\"Helvetica,sans-Serif\" font-size=\"14.00\">gini = 0.639</text>\n<text text-anchor=\"start\" x=\"437.5\" y=\"-379.8\" font-family=\"Helvetica,sans-Serif\" font-size=\"14.00\">samples = 233</text>\n<text text-anchor=\"start\" x=\"420.5\" y=\"-364.8\" font-family=\"Helvetica,sans-Serif\" font-size=\"14.00\">value = [100, 47, 86]</text>\n<text text-anchor=\"start\" x=\"455.5\" y=\"-349.8\" font-family=\"Helvetica,sans-Serif\" font-size=\"14.00\">class = s</text>\n</g>\n<!-- 1 -->\n<g id=\"node2\" class=\"node\">\n<title>1</title>\n<path fill=\"#f0b88f\" stroke=\"black\" d=\"M471.5,-306C471.5,-306 305.5,-306 305.5,-306 299.5,-306 293.5,-300 293.5,-294 293.5,-294 293.5,-235 293.5,-235 293.5,-229 299.5,-223 305.5,-223 305.5,-223 471.5,-223 471.5,-223 477.5,-223 483.5,-229 483.5,-235 483.5,-235 483.5,-294 483.5,-294 483.5,-300 477.5,-306 471.5,-306\"/>\n<text text-anchor=\"start\" x=\"301.5\" y=\"-290.8\" font-family=\"Helvetica,sans-Serif\" font-size=\"14.00\">culmen_length_mm ≤ &#45;0.118</text>\n<text text-anchor=\"start\" x=\"353\" y=\"-275.8\" font-family=\"Helvetica,sans-Serif\" font-size=\"14.00\">gini = 0.428</text>\n<text text-anchor=\"start\" x=\"343.5\" y=\"-260.8\" font-family=\"Helvetica,sans-Serif\" font-size=\"14.00\">samples = 141</text>\n<text text-anchor=\"start\" x=\"334\" y=\"-245.8\" font-family=\"Helvetica,sans-Serif\" font-size=\"14.00\">value = [98, 42, 1]</text>\n<text text-anchor=\"start\" x=\"361.5\" y=\"-230.8\" font-family=\"Helvetica,sans-Serif\" font-size=\"14.00\">class = s</text>\n</g>\n<!-- 0&#45;&gt;1 -->\n<g id=\"edge1\" class=\"edge\">\n<title>0&#45;&gt;1</title>\n<path fill=\"none\" stroke=\"black\" d=\"M449.89,-341.91C442.67,-332.92 434.95,-323.32 427.51,-314.05\"/>\n<polygon fill=\"black\" stroke=\"black\" points=\"430.05,-311.62 421.06,-306.02 424.59,-316.01 430.05,-311.62\"/>\n<text text-anchor=\"middle\" x=\"418.35\" y=\"-327.17\" font-family=\"Helvetica,sans-Serif\" font-size=\"14.00\">True</text>\n</g>\n<!-- 8 -->\n<g id=\"node9\" class=\"node\">\n<title>8</title>\n<path fill=\"#8b49e7\" stroke=\"black\" d=\"M629,-306C629,-306 536,-306 536,-306 530,-306 524,-300 524,-294 524,-294 524,-235 524,-235 524,-229 530,-223 536,-223 536,-223 629,-223 629,-223 635,-223 641,-229 641,-235 641,-235 641,-294 641,-294 641,-300 635,-306 629,-306\"/>\n<text text-anchor=\"start\" x=\"540\" y=\"-290.8\" font-family=\"Helvetica,sans-Serif\" font-size=\"14.00\">island ≤ 0.021</text>\n<text text-anchor=\"start\" x=\"547\" y=\"-275.8\" font-family=\"Helvetica,sans-Serif\" font-size=\"14.00\">gini = 0.143</text>\n<text text-anchor=\"start\" x=\"541.5\" y=\"-260.8\" font-family=\"Helvetica,sans-Serif\" font-size=\"14.00\">samples = 92</text>\n<text text-anchor=\"start\" x=\"532\" y=\"-245.8\" font-family=\"Helvetica,sans-Serif\" font-size=\"14.00\">value = [2, 5, 85]</text>\n<text text-anchor=\"start\" x=\"555\" y=\"-230.8\" font-family=\"Helvetica,sans-Serif\" font-size=\"14.00\">class = e</text>\n</g>\n<!-- 0&#45;&gt;8 -->\n<g id=\"edge8\" class=\"edge\">\n<title>0&#45;&gt;8</title>\n<path fill=\"none\" stroke=\"black\" d=\"M517.19,-341.91C524.95,-332.83 533.25,-323.12 541.24,-313.77\"/>\n<polygon fill=\"black\" stroke=\"black\" points=\"544.03,-315.9 547.87,-306.02 538.71,-311.35 544.03,-315.9\"/>\n<text text-anchor=\"middle\" x=\"549.82\" y=\"-327.24\" font-family=\"Helvetica,sans-Serif\" font-size=\"14.00\">False</text>\n</g>\n<!-- 2 -->\n<g id=\"node3\" class=\"node\">\n<title>2</title>\n<path fill=\"#e6843d\" stroke=\"black\" d=\"M273.5,-187C273.5,-187 107.5,-187 107.5,-187 101.5,-187 95.5,-181 95.5,-175 95.5,-175 95.5,-116 95.5,-116 95.5,-110 101.5,-104 107.5,-104 107.5,-104 273.5,-104 273.5,-104 279.5,-104 285.5,-110 285.5,-116 285.5,-116 285.5,-175 285.5,-175 285.5,-181 279.5,-187 273.5,-187\"/>\n<text text-anchor=\"start\" x=\"103.5\" y=\"-171.8\" font-family=\"Helvetica,sans-Serif\" font-size=\"14.00\">culmen_length_mm ≤ &#45;0.292</text>\n<text text-anchor=\"start\" x=\"158.5\" y=\"-156.8\" font-family=\"Helvetica,sans-Serif\" font-size=\"14.00\">gini = 0.04</text>\n<text text-anchor=\"start\" x=\"149.5\" y=\"-141.8\" font-family=\"Helvetica,sans-Serif\" font-size=\"14.00\">samples = 98</text>\n<text text-anchor=\"start\" x=\"140\" y=\"-126.8\" font-family=\"Helvetica,sans-Serif\" font-size=\"14.00\">value = [96, 2, 0]</text>\n<text text-anchor=\"start\" x=\"163.5\" y=\"-111.8\" font-family=\"Helvetica,sans-Serif\" font-size=\"14.00\">class = s</text>\n</g>\n<!-- 1&#45;&gt;2 -->\n<g id=\"edge2\" class=\"edge\">\n<title>1&#45;&gt;2</title>\n<path fill=\"none\" stroke=\"black\" d=\"M319.8,-222.91C303.06,-213.02 285.05,-202.37 267.93,-192.25\"/>\n<polygon fill=\"black\" stroke=\"black\" points=\"269.46,-189.09 259.07,-187.02 265.9,-195.12 269.46,-189.09\"/>\n</g>\n<!-- 5 -->\n<g id=\"node6\" class=\"node\">\n<title>5</title>\n<path fill=\"#47e78a\" stroke=\"black\" d=\"M454,-187C454,-187 323,-187 323,-187 317,-187 311,-181 311,-175 311,-175 311,-116 311,-116 311,-110 317,-104 323,-104 323,-104 454,-104 454,-104 460,-104 466,-110 466,-116 466,-116 466,-175 466,-175 466,-181 460,-187 454,-187\"/>\n<text text-anchor=\"start\" x=\"319\" y=\"-171.8\" font-family=\"Helvetica,sans-Serif\" font-size=\"14.00\">body_mass_g ≤ &#45;0.102</text>\n<text text-anchor=\"start\" x=\"353\" y=\"-156.8\" font-family=\"Helvetica,sans-Serif\" font-size=\"14.00\">gini = 0.132</text>\n<text text-anchor=\"start\" x=\"347.5\" y=\"-141.8\" font-family=\"Helvetica,sans-Serif\" font-size=\"14.00\">samples = 43</text>\n<text text-anchor=\"start\" x=\"338\" y=\"-126.8\" font-family=\"Helvetica,sans-Serif\" font-size=\"14.00\">value = [2, 40, 1]</text>\n<text text-anchor=\"start\" x=\"361\" y=\"-111.8\" font-family=\"Helvetica,sans-Serif\" font-size=\"14.00\">class = p</text>\n</g>\n<!-- 1&#45;&gt;5 -->\n<g id=\"edge5\" class=\"edge\">\n<title>1&#45;&gt;5</title>\n<path fill=\"none\" stroke=\"black\" d=\"M388.5,-222.91C388.5,-214.65 388.5,-205.86 388.5,-197.3\"/>\n<polygon fill=\"black\" stroke=\"black\" points=\"392,-197.02 388.5,-187.02 385,-197.02 392,-197.02\"/>\n</g>\n<!-- 3 -->\n<g id=\"node4\" class=\"node\">\n<title>3</title>\n<path fill=\"#e58139\" stroke=\"black\" d=\"M105,-68C105,-68 12,-68 12,-68 6,-68 0,-62 0,-56 0,-56 0,-12 0,-12 0,-6 6,0 12,0 12,0 105,0 105,0 111,0 117,-6 117,-12 117,-12 117,-56 117,-56 117,-62 111,-68 105,-68\"/>\n<text text-anchor=\"start\" x=\"30.5\" y=\"-52.8\" font-family=\"Helvetica,sans-Serif\" font-size=\"14.00\">gini = 0.0</text>\n<text text-anchor=\"start\" x=\"17.5\" y=\"-37.8\" font-family=\"Helvetica,sans-Serif\" font-size=\"14.00\">samples = 90</text>\n<text text-anchor=\"start\" x=\"8\" y=\"-22.8\" font-family=\"Helvetica,sans-Serif\" font-size=\"14.00\">value = [90, 0, 0]</text>\n<text text-anchor=\"start\" x=\"31.5\" y=\"-7.8\" font-family=\"Helvetica,sans-Serif\" font-size=\"14.00\">class = s</text>\n</g>\n<!-- 2&#45;&gt;3 -->\n<g id=\"edge3\" class=\"edge\">\n<title>2&#45;&gt;3</title>\n<path fill=\"none\" stroke=\"black\" d=\"M141.35,-103.73C129.91,-94.24 117.76,-84.16 106.38,-74.72\"/>\n<polygon fill=\"black\" stroke=\"black\" points=\"108.57,-71.99 98.64,-68.3 104.1,-77.38 108.57,-71.99\"/>\n</g>\n<!-- 4 -->\n<g id=\"node5\" class=\"node\">\n<title>4</title>\n<path fill=\"#eeab7b\" stroke=\"black\" d=\"M233.5,-68C233.5,-68 147.5,-68 147.5,-68 141.5,-68 135.5,-62 135.5,-56 135.5,-56 135.5,-12 135.5,-12 135.5,-6 141.5,0 147.5,0 147.5,0 233.5,0 233.5,0 239.5,0 245.5,-6 245.5,-12 245.5,-12 245.5,-56 245.5,-56 245.5,-62 239.5,-68 233.5,-68\"/>\n<text text-anchor=\"start\" x=\"155\" y=\"-52.8\" font-family=\"Helvetica,sans-Serif\" font-size=\"14.00\">gini = 0.375</text>\n<text text-anchor=\"start\" x=\"153\" y=\"-37.8\" font-family=\"Helvetica,sans-Serif\" font-size=\"14.00\">samples = 8</text>\n<text text-anchor=\"start\" x=\"143.5\" y=\"-22.8\" font-family=\"Helvetica,sans-Serif\" font-size=\"14.00\">value = [6, 2, 0]</text>\n<text text-anchor=\"start\" x=\"163.5\" y=\"-7.8\" font-family=\"Helvetica,sans-Serif\" font-size=\"14.00\">class = s</text>\n</g>\n<!-- 2&#45;&gt;4 -->\n<g id=\"edge4\" class=\"edge\">\n<title>2&#45;&gt;4</title>\n<path fill=\"none\" stroke=\"black\" d=\"M190.5,-103.73C190.5,-95.52 190.5,-86.86 190.5,-78.56\"/>\n<polygon fill=\"black\" stroke=\"black\" points=\"194,-78.3 190.5,-68.3 187,-78.3 194,-78.3\"/>\n</g>\n<!-- 6 -->\n<g id=\"node7\" class=\"node\">\n<title>6</title>\n<path fill=\"#39e581\" stroke=\"black\" d=\"M369,-68C369,-68 276,-68 276,-68 270,-68 264,-62 264,-56 264,-56 264,-12 264,-12 264,-6 270,0 276,0 276,0 369,0 369,0 375,0 381,-6 381,-12 381,-12 381,-56 381,-56 381,-62 375,-68 369,-68\"/>\n<text text-anchor=\"start\" x=\"294.5\" y=\"-52.8\" font-family=\"Helvetica,sans-Serif\" font-size=\"14.00\">gini = 0.0</text>\n<text text-anchor=\"start\" x=\"281.5\" y=\"-37.8\" font-family=\"Helvetica,sans-Serif\" font-size=\"14.00\">samples = 37</text>\n<text text-anchor=\"start\" x=\"272\" y=\"-22.8\" font-family=\"Helvetica,sans-Serif\" font-size=\"14.00\">value = [0, 37, 0]</text>\n<text text-anchor=\"start\" x=\"295\" y=\"-7.8\" font-family=\"Helvetica,sans-Serif\" font-size=\"14.00\">class = p</text>\n</g>\n<!-- 5&#45;&gt;6 -->\n<g id=\"edge6\" class=\"edge\">\n<title>5&#45;&gt;6</title>\n<path fill=\"none\" stroke=\"black\" d=\"M363.92,-103.73C358.65,-94.97 353.06,-85.7 347.76,-76.91\"/>\n<polygon fill=\"black\" stroke=\"black\" points=\"350.73,-75.06 342.57,-68.3 344.74,-78.67 350.73,-75.06\"/>\n</g>\n<!-- 7 -->\n<g id=\"node8\" class=\"node\">\n<title>7</title>\n<path fill=\"#cef8e0\" stroke=\"black\" d=\"M497.5,-68C497.5,-68 411.5,-68 411.5,-68 405.5,-68 399.5,-62 399.5,-56 399.5,-56 399.5,-12 399.5,-12 399.5,-6 405.5,0 411.5,0 411.5,0 497.5,0 497.5,0 503.5,0 509.5,-6 509.5,-12 509.5,-12 509.5,-56 509.5,-56 509.5,-62 503.5,-68 497.5,-68\"/>\n<text text-anchor=\"start\" x=\"419\" y=\"-52.8\" font-family=\"Helvetica,sans-Serif\" font-size=\"14.00\">gini = 0.611</text>\n<text text-anchor=\"start\" x=\"417\" y=\"-37.8\" font-family=\"Helvetica,sans-Serif\" font-size=\"14.00\">samples = 6</text>\n<text text-anchor=\"start\" x=\"407.5\" y=\"-22.8\" font-family=\"Helvetica,sans-Serif\" font-size=\"14.00\">value = [2, 3, 1]</text>\n<text text-anchor=\"start\" x=\"427\" y=\"-7.8\" font-family=\"Helvetica,sans-Serif\" font-size=\"14.00\">class = p</text>\n</g>\n<!-- 5&#45;&gt;7 -->\n<g id=\"edge7\" class=\"edge\">\n<title>5&#45;&gt;7</title>\n<path fill=\"none\" stroke=\"black\" d=\"M413.08,-103.73C418.35,-94.97 423.94,-85.7 429.24,-76.91\"/>\n<polygon fill=\"black\" stroke=\"black\" points=\"432.26,-78.67 434.43,-68.3 426.27,-75.06 432.26,-78.67\"/>\n</g>\n<!-- 9 -->\n<g id=\"node10\" class=\"node\">\n<title>9</title>\n<path fill=\"#88efb3\" stroke=\"black\" d=\"M663,-187C663,-187 502,-187 502,-187 496,-187 490,-181 490,-175 490,-175 490,-116 490,-116 490,-110 496,-104 502,-104 502,-104 663,-104 663,-104 669,-104 675,-110 675,-116 675,-116 675,-175 675,-175 675,-181 669,-187 663,-187\"/>\n<text text-anchor=\"start\" x=\"498\" y=\"-171.8\" font-family=\"Helvetica,sans-Serif\" font-size=\"14.00\">culmen_length_mm ≤ 0.468</text>\n<text text-anchor=\"start\" x=\"547\" y=\"-156.8\" font-family=\"Helvetica,sans-Serif\" font-size=\"14.00\">gini = 0.408</text>\n<text text-anchor=\"start\" x=\"545\" y=\"-141.8\" font-family=\"Helvetica,sans-Serif\" font-size=\"14.00\">samples = 7</text>\n<text text-anchor=\"start\" x=\"535.5\" y=\"-126.8\" font-family=\"Helvetica,sans-Serif\" font-size=\"14.00\">value = [2, 5, 0]</text>\n<text text-anchor=\"start\" x=\"555\" y=\"-111.8\" font-family=\"Helvetica,sans-Serif\" font-size=\"14.00\">class = p</text>\n</g>\n<!-- 8&#45;&gt;9 -->\n<g id=\"edge9\" class=\"edge\">\n<title>8&#45;&gt;9</title>\n<path fill=\"none\" stroke=\"black\" d=\"M582.5,-222.91C582.5,-214.65 582.5,-205.86 582.5,-197.3\"/>\n<polygon fill=\"black\" stroke=\"black\" points=\"586,-197.02 582.5,-187.02 579,-197.02 586,-197.02\"/>\n</g>\n<!-- 12 -->\n<g id=\"node13\" class=\"node\">\n<title>12</title>\n<path fill=\"#8139e5\" stroke=\"black\" d=\"M798,-179.5C798,-179.5 705,-179.5 705,-179.5 699,-179.5 693,-173.5 693,-167.5 693,-167.5 693,-123.5 693,-123.5 693,-117.5 699,-111.5 705,-111.5 705,-111.5 798,-111.5 798,-111.5 804,-111.5 810,-117.5 810,-123.5 810,-123.5 810,-167.5 810,-167.5 810,-173.5 804,-179.5 798,-179.5\"/>\n<text text-anchor=\"start\" x=\"723.5\" y=\"-164.3\" font-family=\"Helvetica,sans-Serif\" font-size=\"14.00\">gini = 0.0</text>\n<text text-anchor=\"start\" x=\"710.5\" y=\"-149.3\" font-family=\"Helvetica,sans-Serif\" font-size=\"14.00\">samples = 85</text>\n<text text-anchor=\"start\" x=\"701\" y=\"-134.3\" font-family=\"Helvetica,sans-Serif\" font-size=\"14.00\">value = [0, 0, 85]</text>\n<text text-anchor=\"start\" x=\"724\" y=\"-119.3\" font-family=\"Helvetica,sans-Serif\" font-size=\"14.00\">class = e</text>\n</g>\n<!-- 8&#45;&gt;12 -->\n<g id=\"edge12\" class=\"edge\">\n<title>8&#45;&gt;12</title>\n<path fill=\"none\" stroke=\"black\" d=\"M641.13,-222.91C658.67,-210.77 677.84,-197.49 695.22,-185.46\"/>\n<polygon fill=\"black\" stroke=\"black\" points=\"697.36,-188.24 703.59,-179.67 693.38,-182.48 697.36,-188.24\"/>\n</g>\n<!-- 10 -->\n<g id=\"node11\" class=\"node\">\n<title>10</title>\n<path fill=\"#e58139\" stroke=\"black\" d=\"M625.5,-68C625.5,-68 539.5,-68 539.5,-68 533.5,-68 527.5,-62 527.5,-56 527.5,-56 527.5,-12 527.5,-12 527.5,-6 533.5,0 539.5,0 539.5,0 625.5,0 625.5,0 631.5,0 637.5,-6 637.5,-12 637.5,-12 637.5,-56 637.5,-56 637.5,-62 631.5,-68 625.5,-68\"/>\n<text text-anchor=\"start\" x=\"554.5\" y=\"-52.8\" font-family=\"Helvetica,sans-Serif\" font-size=\"14.00\">gini = 0.0</text>\n<text text-anchor=\"start\" x=\"545\" y=\"-37.8\" font-family=\"Helvetica,sans-Serif\" font-size=\"14.00\">samples = 2</text>\n<text text-anchor=\"start\" x=\"535.5\" y=\"-22.8\" font-family=\"Helvetica,sans-Serif\" font-size=\"14.00\">value = [2, 0, 0]</text>\n<text text-anchor=\"start\" x=\"555.5\" y=\"-7.8\" font-family=\"Helvetica,sans-Serif\" font-size=\"14.00\">class = s</text>\n</g>\n<!-- 9&#45;&gt;10 -->\n<g id=\"edge10\" class=\"edge\">\n<title>9&#45;&gt;10</title>\n<path fill=\"none\" stroke=\"black\" d=\"M582.5,-103.73C582.5,-95.52 582.5,-86.86 582.5,-78.56\"/>\n<polygon fill=\"black\" stroke=\"black\" points=\"586,-78.3 582.5,-68.3 579,-78.3 586,-78.3\"/>\n</g>\n<!-- 11 -->\n<g id=\"node12\" class=\"node\">\n<title>11</title>\n<path fill=\"#39e581\" stroke=\"black\" d=\"M753.5,-68C753.5,-68 667.5,-68 667.5,-68 661.5,-68 655.5,-62 655.5,-56 655.5,-56 655.5,-12 655.5,-12 655.5,-6 661.5,0 667.5,0 667.5,0 753.5,0 753.5,0 759.5,0 765.5,-6 765.5,-12 765.5,-12 765.5,-56 765.5,-56 765.5,-62 759.5,-68 753.5,-68\"/>\n<text text-anchor=\"start\" x=\"682.5\" y=\"-52.8\" font-family=\"Helvetica,sans-Serif\" font-size=\"14.00\">gini = 0.0</text>\n<text text-anchor=\"start\" x=\"673\" y=\"-37.8\" font-family=\"Helvetica,sans-Serif\" font-size=\"14.00\">samples = 5</text>\n<text text-anchor=\"start\" x=\"663.5\" y=\"-22.8\" font-family=\"Helvetica,sans-Serif\" font-size=\"14.00\">value = [0, 5, 0]</text>\n<text text-anchor=\"start\" x=\"683\" y=\"-7.8\" font-family=\"Helvetica,sans-Serif\" font-size=\"14.00\">class = p</text>\n</g>\n<!-- 9&#45;&gt;11 -->\n<g id=\"edge11\" class=\"edge\">\n<title>9&#45;&gt;11</title>\n<path fill=\"none\" stroke=\"black\" d=\"M630.16,-103.73C641.14,-94.33 652.81,-84.35 663.76,-74.99\"/>\n<polygon fill=\"black\" stroke=\"black\" points=\"666.25,-77.46 671.57,-68.3 661.7,-72.14 666.25,-77.46\"/>\n</g>\n</g>\n</svg>\n",
            "text/plain": [
              "<graphviz.sources.Source at 0x7ee75cbdf130>"
            ]
          },
          "metadata": {}
        }
      ]
    },
    {
      "cell_type": "code",
      "source": [
        "# print to the output file\n",
        "print('**************************************************************', file = outputFile)\n",
        "print('(A) Classifier 2 - Top DT', file = outputFile)\n",
        "print(classifier_2, file = outputFile)\n",
        "print(f'best parameters: {classifier_2.best_params_}\\n', file = outputFile)\n",
        "print('\\n', file = outputFile)\n",
        "outputFile.flush()"
      ],
      "metadata": {
        "id": "OyY9Icjy8H7k"
      },
      "execution_count": 96,
      "outputs": []
    },
    {
      "cell_type": "code",
      "source": [
        "# print classification report\n",
        "y_pred = classifier_2.predict(X_test)\n",
        "confusion_mat = confusion_matrix(y_test, y_pred)\n",
        "\n",
        "print(classification_report(y_test, y_pred, target_names=['Adelie', 'Chinstrap', 'Gentoo']))\n",
        "print(\"confusion matrix\\n\",confusion_mat)\n",
        "\n",
        "# print the result to the output file\n",
        "print(classification_report(y_test, y_pred, target_names = ['Adelie', 'Chinstrap', 'Gentoo']), file = outputFile)\n",
        "confusion_matrix_result =np.array2string(confusion_mat)\n",
        "print(\"confusion matrix\", file = outputFile)\n",
        "print(confusion_matrix_result, file = outputFile)\n",
        "print('\\n', file = outputFile)\n",
        "outputFile.flush()"
      ],
      "metadata": {
        "id": "RyyDW6-78J9g",
        "outputId": "050609d5-efe9-4921-fc37-80f526e89695",
        "colab": {
          "base_uri": "https://localhost:8080/"
        }
      },
      "execution_count": 97,
      "outputs": [
        {
          "output_type": "stream",
          "name": "stdout",
          "text": [
            "              precision    recall  f1-score   support\n",
            "\n",
            "      Adelie       0.94      0.96      0.95        46\n",
            "   Chinstrap       0.90      0.86      0.88        21\n",
            "      Gentoo       1.00      1.00      1.00        33\n",
            "\n",
            "    accuracy                           0.95       100\n",
            "   macro avg       0.95      0.94      0.94       100\n",
            "weighted avg       0.95      0.95      0.95       100\n",
            "\n",
            "confusion matrix\n",
            " [[44  2  0]\n",
            " [ 3 18  0]\n",
            " [ 0  0 33]]\n"
          ]
        }
      ]
    },
    {
      "cell_type": "code",
      "source": [
        "# repeat training & prediction 5 times for classifier 2\n",
        "from sklearn.metrics import accuracy_score, f1_score\n",
        "\n",
        "accuracy_baseDT = np.zeros(5)\n",
        "macro_avg_baseDT = np.zeros(5)\n",
        "weighted_avg_baseDT = np.zeros(5)\n",
        "\n",
        "for i in range(5):\n",
        "  X_train, X_test, y_train, y_test = train_test_split(X, y, test_size = 0.3)\n",
        "  classifier_2.fit(X_train, y_train)\n",
        "  y_pred = classifier_1.predict(X_test)\n",
        "\n",
        "  # find the accuracy for each iteration and store the value\n",
        "  accuracy_baseDT[i] = accuracy_score(y_test, y_pred)\n",
        "  macro_avg_baseDT[i] = f1_score(y_test, y_pred, average='macro')\n",
        "  weighted_avg_baseDT[i] = f1_score(y_test, y_pred, average='weighted')\n",
        "\n",
        "# compute the average accuracy & variances\n",
        "print(f'accuracy_baseDT: {accuracy_baseDT}')\n",
        "Avg_accuracy = (np.sum(accuracy_baseDT))/5\n",
        "accuracy_variance = np.var(accuracy_baseDT)\n",
        "print(f'average accuracy: {Avg_accuracy}, variance: {accuracy_variance}')\n",
        "\n",
        "# compute the average macro-average F1 & the variance\n",
        "print(f'macro_avg_baseDT: {macro_avg_baseDT}')\n",
        "Avg_macro_avg = (np.sum(macro_avg_baseDT))/5\n",
        "f1_macro_variance = np.var(macro_avg_baseDT)\n",
        "print(f'average macro-average F1: {Avg_macro_avg}, variance: {f1_macro_variance}')\n",
        "\n",
        "# compute the average weighted-average F1 & the variance\n",
        "print(f'weighted_avg_baseDT: {weighted_avg_baseDT}')\n",
        "Avg_weighted_avg = (np.sum(weighted_avg_baseDT))/5\n",
        "f1_weighted_variance = np.var(weighted_avg_baseDT)\n",
        "print(f'average weighted-average F1: {Avg_weighted_avg}, variance: {f1_weighted_variance}')"
      ],
      "metadata": {
        "id": "0W_Jt4LMJgy0",
        "colab": {
          "base_uri": "https://localhost:8080/"
        },
        "outputId": "14d5d37c-1f5b-4660-d30f-b25b5d0a797e"
      },
      "execution_count": 98,
      "outputs": [
        {
          "output_type": "stream",
          "name": "stdout",
          "text": [
            "accuracy_baseDT: [1.   1.   0.99 1.   1.  ]\n",
            "average accuracy: 0.998, variance: 1.600000000000003e-05\n",
            "macro_avg_baseDT: [1.         1.         0.98929226 1.         1.        ]\n",
            "average macro-average F1: 0.9978584525119178, variance: 1.8344902574843514e-05\n",
            "weighted_avg_baseDT: [1.         1.         0.98993839 1.         1.        ]\n",
            "average weighted-average F1: 0.9979876787678768, variance: 1.6197746965015406e-05\n"
          ]
        }
      ]
    },
    {
      "cell_type": "code",
      "source": [
        "# print the performance result to outputfile\n",
        "print('\\n(E) The result after 5 times of train-test repetition:' ,file = outputFile)\n",
        "print(f'average accuracy: {Avg_accuracy}, variance: {accuracy_variance}', file = outputFile)\n",
        "print(f'average macro-average F1: {Avg_macro_avg}, variance: {f1_macro_variance}', file = outputFile)\n",
        "print(f'average weighted-average F1: {Avg_weighted_avg}, variance: {f1_weighted_variance}', file = outputFile)\n",
        "print('\\n', file = outputFile)\n",
        "outputFile.flush()"
      ],
      "metadata": {
        "id": "Y4XPTddeb6Ck"
      },
      "execution_count": 99,
      "outputs": []
    },
    {
      "cell_type": "markdown",
      "source": [
        "##### Classifier 3 - Base-MLP"
      ],
      "metadata": {
        "id": "RsxEdv-Xd7Vn"
      }
    },
    {
      "cell_type": "code",
      "source": [
        "#Train Classifier 3\n",
        "mlp_base_penguin = MLPClassifier(hidden_layer_sizes =(100, 100,), activation = 'logistic', solver = 'sgd')\n",
        "mlp_base_penguin.fit(X_train, y_train)\n",
        "\n",
        "#print to the output file\n",
        "print('\\n**************************************************************', file = outputFile)\n",
        "print('(A) Classifier 3 - Base MLP', file = outputFile)\n",
        "print(mlp_base_penguin, file = outputFile)\n",
        "print('\\n', file = outputFile)"
      ],
      "metadata": {
        "id": "LXZXNDUWd6Np"
      },
      "execution_count": 100,
      "outputs": []
    },
    {
      "cell_type": "markdown",
      "source": [
        "Metrics for Classifier 3"
      ],
      "metadata": {
        "id": "KpcPx0vCJryX"
      }
    },
    {
      "cell_type": "code",
      "source": [
        "#predict with Base MLP\n",
        "y_pred_base_mlp = mlp_base_penguin.predict(X_test)\n",
        "\n",
        "#print the result here on notebook\n",
        "print(classification_report(y_test, y_pred_base_mlp, target_names = ['Adelie', 'Gentoo', 'Chinstap']))\n",
        "print(confusion_matrix(y_test, y_pred_base_mlp))\n",
        "\n",
        "#print the result to the output file\n",
        "print(\"(B) Confusion Matrix\", file = outputFile)\n",
        "confusion_matrix_result =np.array2string(confusion_matrix(y_test, y_pred_base_mlp))\n",
        "print(confusion_matrix_result, file = outputFile)\n",
        "print('\\n', file = outputFile)\n",
        "print(\"(C,D) Classification Report\", file = outputFile)\n",
        "print(classification_report(y_test, y_pred_base_mlp, target_names = ['Adelie', 'Gentoo', 'Chinstap']), file = outputFile)\n",
        "\n",
        "outputFile.flush()"
      ],
      "metadata": {
        "id": "tpH0AREeJmJ2",
        "outputId": "bae2d74b-de12-4c8b-84dd-503734be7567",
        "colab": {
          "base_uri": "https://localhost:8080/"
        }
      },
      "execution_count": 102,
      "outputs": [
        {
          "output_type": "stream",
          "name": "stdout",
          "text": [
            "              precision    recall  f1-score   support\n",
            "\n",
            "      Adelie       0.48      1.00      0.65        48\n",
            "      Gentoo       0.00      0.00      0.00        16\n",
            "    Chinstap       0.00      0.00      0.00        36\n",
            "\n",
            "    accuracy                           0.48       100\n",
            "   macro avg       0.16      0.33      0.22       100\n",
            "weighted avg       0.23      0.48      0.31       100\n",
            "\n",
            "[[48  0  0]\n",
            " [16  0  0]\n",
            " [36  0  0]]\n"
          ]
        }
      ]
    },
    {
      "cell_type": "code",
      "source": [
        "#repeat train-test 5 times\n",
        "MLP_base_train_test_repetition(X, y, outputFile, ['Adelie', 'Gentoo', 'Chinstap'])"
      ],
      "metadata": {
        "id": "mpo7xeAfNajE"
      },
      "execution_count": 103,
      "outputs": []
    },
    {
      "cell_type": "markdown",
      "source": [
        "##### Classifier 4 - Top-MLP"
      ],
      "metadata": {
        "id": "Km0ZyCsVe8ze"
      }
    },
    {
      "cell_type": "code",
      "source": [
        "#create grid for each hyperparamter we want to test\n",
        "activation_grid = np.array(['logistic', 'tanh', 'relu'])\n",
        "neurons_tuple_grid = np.array([(30, 50,), (10, 10, 10,)], dtype = 'object')\n",
        "solver_grid = np.array(['adam', 'sgd'])\n",
        "\n",
        "#create parameter grid for GridSearchCV\n",
        "param_grid = {'hidden_layer_sizes': neurons_tuple_grid, 'activation': activation_grid, 'solver': solver_grid}\n",
        "\n",
        "#create grid cv object and do the search\n",
        "mlp_top_penguin = MLPClassifier()\n",
        "gridcv = sk.model_selection.GridSearchCV(mlp_top_penguin, param_grid = param_grid)\n",
        "gridcv.fit(X_train, y_train)\n",
        "\n",
        "#print the result here on notebook\n",
        "print(f'best parameters: {gridcv.best_params_}')\n",
        "\n",
        "#print the result to the output file\n",
        "print('**************************************************************', file = outputFile)\n",
        "print('(A) Classifier 4 - Top MLP', file = outputFile)\n",
        "print(f'best parameters: {gridcv.best_params_}\\n', file = outputFile)\n",
        "outputFile.flush()"
      ],
      "metadata": {
        "id": "-V8WxwtsfAHN",
        "outputId": "0632ee3a-ee59-4a05-f7dc-118cc455b997",
        "colab": {
          "base_uri": "https://localhost:8080/"
        }
      },
      "execution_count": 104,
      "outputs": [
        {
          "output_type": "stream",
          "name": "stdout",
          "text": [
            "best parameters: {'activation': 'relu', 'hidden_layer_sizes': (30, 50), 'solver': 'adam'}\n"
          ]
        }
      ]
    },
    {
      "cell_type": "markdown",
      "source": [
        "Metrics for Classifier 4 - Top MLP"
      ],
      "metadata": {
        "id": "1l-RdJs8oT5n"
      }
    },
    {
      "cell_type": "code",
      "source": [
        "#predict\n",
        "y_pred_top_mlp = gridcv.best_estimator_.predict(X_test)\n",
        "\n",
        "#print the result here on notebook\n",
        "print(classification_report(y_test, y_pred_top_mlp, target_names = ['Adelie', 'Gentoo', 'Chinstap']))\n",
        "print(confusion_matrix(y_test, y_pred_top_mlp))\n",
        "\n",
        "#print the result to the output file\n",
        "print(\"(B) Confusion Matrix\", file = outputFile)\n",
        "confusion_matrix_result =np.array2string(confusion_matrix(y_test, y_pred_top_mlp))\n",
        "print(confusion_matrix_result, file = outputFile)\n",
        "print(\"(C,D) Classification Report\", file = outputFile)\n",
        "print(classification_report(y_test, y_pred_top_mlp, target_names = ['Adelie', 'Gentoo', 'Chinstap']), file = outputFile)\n",
        "\n",
        "outputFile.flush()"
      ],
      "metadata": {
        "id": "HINTuN52kIyr",
        "outputId": "121e98b2-4660-4bf4-bb3e-71d151b2ee32",
        "colab": {
          "base_uri": "https://localhost:8080/"
        }
      },
      "execution_count": 105,
      "outputs": [
        {
          "output_type": "stream",
          "name": "stdout",
          "text": [
            "              precision    recall  f1-score   support\n",
            "\n",
            "      Adelie       1.00      1.00      1.00        48\n",
            "      Gentoo       1.00      1.00      1.00        16\n",
            "    Chinstap       1.00      1.00      1.00        36\n",
            "\n",
            "    accuracy                           1.00       100\n",
            "   macro avg       1.00      1.00      1.00       100\n",
            "weighted avg       1.00      1.00      1.00       100\n",
            "\n",
            "[[48  0  0]\n",
            " [ 0 16  0]\n",
            " [ 0  0 36]]\n"
          ]
        }
      ]
    },
    {
      "cell_type": "code",
      "source": [
        "MLP_top_train_test_repetition(param_grid, X, y, outputFile,['Adelie', 'Gentoo', 'Chinstap'])"
      ],
      "metadata": {
        "id": "WtHfQTtKSIlM"
      },
      "execution_count": 106,
      "outputs": []
    },
    {
      "cell_type": "code",
      "source": [
        "outputFile.close()"
      ],
      "metadata": {
        "id": "uj6lfQkPIRsk"
      },
      "execution_count": 107,
      "outputs": []
    },
    {
      "cell_type": "markdown",
      "source": [
        "## Dataset - 'abalone.csv'\n",
        "- Goal : prediction of sex"
      ],
      "metadata": {
        "id": "WYPRbdtq2-91"
      }
    },
    {
      "cell_type": "code",
      "source": [
        "outputFile = open('abalone-performance.txt', 'w')"
      ],
      "metadata": {
        "id": "jQKCBY32lPaR"
      },
      "execution_count": 114,
      "outputs": []
    },
    {
      "cell_type": "code",
      "source": [
        "data_abalone = pd.read_csv('abalone.csv')\n",
        "data_abalone.head()"
      ],
      "metadata": {
        "id": "wMutHb2AzmB1",
        "colab": {
          "base_uri": "https://localhost:8080/",
          "height": 206
        },
        "outputId": "ee8b5f51-39a8-41a6-c111-d79384c62cdc"
      },
      "execution_count": 115,
      "outputs": [
        {
          "output_type": "execute_result",
          "data": {
            "text/plain": [
              "  Type  LongestShell  Diameter  Height  WholeWeight  ShuckedWeight  \\\n",
              "0    F         0.605     0.470   0.165       1.1775         0.6110   \n",
              "1    M         0.550     0.425   0.150       0.8315         0.4110   \n",
              "2    M         0.460     0.345   0.110       0.4595         0.2350   \n",
              "3    F         0.650     0.475   0.165       1.3875         0.5800   \n",
              "4    M         0.575     0.470   0.140       0.8375         0.3485   \n",
              "\n",
              "   VisceraWeight  ShellWeight  Rings  \n",
              "0         0.2275       0.2920      9  \n",
              "1         0.1765       0.2165     10  \n",
              "2         0.0885       0.1160      7  \n",
              "3         0.3485       0.3095      9  \n",
              "4         0.1735       0.2400     11  "
            ],
            "text/html": [
              "\n",
              "  <div id=\"df-47cfe733-7102-4cc7-b61b-bb859dd10b92\" class=\"colab-df-container\">\n",
              "    <div>\n",
              "<style scoped>\n",
              "    .dataframe tbody tr th:only-of-type {\n",
              "        vertical-align: middle;\n",
              "    }\n",
              "\n",
              "    .dataframe tbody tr th {\n",
              "        vertical-align: top;\n",
              "    }\n",
              "\n",
              "    .dataframe thead th {\n",
              "        text-align: right;\n",
              "    }\n",
              "</style>\n",
              "<table border=\"1\" class=\"dataframe\">\n",
              "  <thead>\n",
              "    <tr style=\"text-align: right;\">\n",
              "      <th></th>\n",
              "      <th>Type</th>\n",
              "      <th>LongestShell</th>\n",
              "      <th>Diameter</th>\n",
              "      <th>Height</th>\n",
              "      <th>WholeWeight</th>\n",
              "      <th>ShuckedWeight</th>\n",
              "      <th>VisceraWeight</th>\n",
              "      <th>ShellWeight</th>\n",
              "      <th>Rings</th>\n",
              "    </tr>\n",
              "  </thead>\n",
              "  <tbody>\n",
              "    <tr>\n",
              "      <th>0</th>\n",
              "      <td>F</td>\n",
              "      <td>0.605</td>\n",
              "      <td>0.470</td>\n",
              "      <td>0.165</td>\n",
              "      <td>1.1775</td>\n",
              "      <td>0.6110</td>\n",
              "      <td>0.2275</td>\n",
              "      <td>0.2920</td>\n",
              "      <td>9</td>\n",
              "    </tr>\n",
              "    <tr>\n",
              "      <th>1</th>\n",
              "      <td>M</td>\n",
              "      <td>0.550</td>\n",
              "      <td>0.425</td>\n",
              "      <td>0.150</td>\n",
              "      <td>0.8315</td>\n",
              "      <td>0.4110</td>\n",
              "      <td>0.1765</td>\n",
              "      <td>0.2165</td>\n",
              "      <td>10</td>\n",
              "    </tr>\n",
              "    <tr>\n",
              "      <th>2</th>\n",
              "      <td>M</td>\n",
              "      <td>0.460</td>\n",
              "      <td>0.345</td>\n",
              "      <td>0.110</td>\n",
              "      <td>0.4595</td>\n",
              "      <td>0.2350</td>\n",
              "      <td>0.0885</td>\n",
              "      <td>0.1160</td>\n",
              "      <td>7</td>\n",
              "    </tr>\n",
              "    <tr>\n",
              "      <th>3</th>\n",
              "      <td>F</td>\n",
              "      <td>0.650</td>\n",
              "      <td>0.475</td>\n",
              "      <td>0.165</td>\n",
              "      <td>1.3875</td>\n",
              "      <td>0.5800</td>\n",
              "      <td>0.3485</td>\n",
              "      <td>0.3095</td>\n",
              "      <td>9</td>\n",
              "    </tr>\n",
              "    <tr>\n",
              "      <th>4</th>\n",
              "      <td>M</td>\n",
              "      <td>0.575</td>\n",
              "      <td>0.470</td>\n",
              "      <td>0.140</td>\n",
              "      <td>0.8375</td>\n",
              "      <td>0.3485</td>\n",
              "      <td>0.1735</td>\n",
              "      <td>0.2400</td>\n",
              "      <td>11</td>\n",
              "    </tr>\n",
              "  </tbody>\n",
              "</table>\n",
              "</div>\n",
              "    <div class=\"colab-df-buttons\">\n",
              "\n",
              "  <div class=\"colab-df-container\">\n",
              "    <button class=\"colab-df-convert\" onclick=\"convertToInteractive('df-47cfe733-7102-4cc7-b61b-bb859dd10b92')\"\n",
              "            title=\"Convert this dataframe to an interactive table.\"\n",
              "            style=\"display:none;\">\n",
              "\n",
              "  <svg xmlns=\"http://www.w3.org/2000/svg\" height=\"24px\" viewBox=\"0 -960 960 960\">\n",
              "    <path d=\"M120-120v-720h720v720H120Zm60-500h600v-160H180v160Zm220 220h160v-160H400v160Zm0 220h160v-160H400v160ZM180-400h160v-160H180v160Zm440 0h160v-160H620v160ZM180-180h160v-160H180v160Zm440 0h160v-160H620v160Z\"/>\n",
              "  </svg>\n",
              "    </button>\n",
              "\n",
              "  <style>\n",
              "    .colab-df-container {\n",
              "      display:flex;\n",
              "      gap: 12px;\n",
              "    }\n",
              "\n",
              "    .colab-df-convert {\n",
              "      background-color: #E8F0FE;\n",
              "      border: none;\n",
              "      border-radius: 50%;\n",
              "      cursor: pointer;\n",
              "      display: none;\n",
              "      fill: #1967D2;\n",
              "      height: 32px;\n",
              "      padding: 0 0 0 0;\n",
              "      width: 32px;\n",
              "    }\n",
              "\n",
              "    .colab-df-convert:hover {\n",
              "      background-color: #E2EBFA;\n",
              "      box-shadow: 0px 1px 2px rgba(60, 64, 67, 0.3), 0px 1px 3px 1px rgba(60, 64, 67, 0.15);\n",
              "      fill: #174EA6;\n",
              "    }\n",
              "\n",
              "    .colab-df-buttons div {\n",
              "      margin-bottom: 4px;\n",
              "    }\n",
              "\n",
              "    [theme=dark] .colab-df-convert {\n",
              "      background-color: #3B4455;\n",
              "      fill: #D2E3FC;\n",
              "    }\n",
              "\n",
              "    [theme=dark] .colab-df-convert:hover {\n",
              "      background-color: #434B5C;\n",
              "      box-shadow: 0px 1px 3px 1px rgba(0, 0, 0, 0.15);\n",
              "      filter: drop-shadow(0px 1px 2px rgba(0, 0, 0, 0.3));\n",
              "      fill: #FFFFFF;\n",
              "    }\n",
              "  </style>\n",
              "\n",
              "    <script>\n",
              "      const buttonEl =\n",
              "        document.querySelector('#df-47cfe733-7102-4cc7-b61b-bb859dd10b92 button.colab-df-convert');\n",
              "      buttonEl.style.display =\n",
              "        google.colab.kernel.accessAllowed ? 'block' : 'none';\n",
              "\n",
              "      async function convertToInteractive(key) {\n",
              "        const element = document.querySelector('#df-47cfe733-7102-4cc7-b61b-bb859dd10b92');\n",
              "        const dataTable =\n",
              "          await google.colab.kernel.invokeFunction('convertToInteractive',\n",
              "                                                    [key], {});\n",
              "        if (!dataTable) return;\n",
              "\n",
              "        const docLinkHtml = 'Like what you see? Visit the ' +\n",
              "          '<a target=\"_blank\" href=https://colab.research.google.com/notebooks/data_table.ipynb>data table notebook</a>'\n",
              "          + ' to learn more about interactive tables.';\n",
              "        element.innerHTML = '';\n",
              "        dataTable['output_type'] = 'display_data';\n",
              "        await google.colab.output.renderOutput(dataTable, element);\n",
              "        const docLink = document.createElement('div');\n",
              "        docLink.innerHTML = docLinkHtml;\n",
              "        element.appendChild(docLink);\n",
              "      }\n",
              "    </script>\n",
              "  </div>\n",
              "\n",
              "\n",
              "<div id=\"df-4e0881f4-bebf-4576-92cc-5e2342d0965e\">\n",
              "  <button class=\"colab-df-quickchart\" onclick=\"quickchart('df-4e0881f4-bebf-4576-92cc-5e2342d0965e')\"\n",
              "            title=\"Suggest charts\"\n",
              "            style=\"display:none;\">\n",
              "\n",
              "<svg xmlns=\"http://www.w3.org/2000/svg\" height=\"24px\"viewBox=\"0 0 24 24\"\n",
              "     width=\"24px\">\n",
              "    <g>\n",
              "        <path d=\"M19 3H5c-1.1 0-2 .9-2 2v14c0 1.1.9 2 2 2h14c1.1 0 2-.9 2-2V5c0-1.1-.9-2-2-2zM9 17H7v-7h2v7zm4 0h-2V7h2v10zm4 0h-2v-4h2v4z\"/>\n",
              "    </g>\n",
              "</svg>\n",
              "  </button>\n",
              "\n",
              "<style>\n",
              "  .colab-df-quickchart {\n",
              "      --bg-color: #E8F0FE;\n",
              "      --fill-color: #1967D2;\n",
              "      --hover-bg-color: #E2EBFA;\n",
              "      --hover-fill-color: #174EA6;\n",
              "      --disabled-fill-color: #AAA;\n",
              "      --disabled-bg-color: #DDD;\n",
              "  }\n",
              "\n",
              "  [theme=dark] .colab-df-quickchart {\n",
              "      --bg-color: #3B4455;\n",
              "      --fill-color: #D2E3FC;\n",
              "      --hover-bg-color: #434B5C;\n",
              "      --hover-fill-color: #FFFFFF;\n",
              "      --disabled-bg-color: #3B4455;\n",
              "      --disabled-fill-color: #666;\n",
              "  }\n",
              "\n",
              "  .colab-df-quickchart {\n",
              "    background-color: var(--bg-color);\n",
              "    border: none;\n",
              "    border-radius: 50%;\n",
              "    cursor: pointer;\n",
              "    display: none;\n",
              "    fill: var(--fill-color);\n",
              "    height: 32px;\n",
              "    padding: 0;\n",
              "    width: 32px;\n",
              "  }\n",
              "\n",
              "  .colab-df-quickchart:hover {\n",
              "    background-color: var(--hover-bg-color);\n",
              "    box-shadow: 0 1px 2px rgba(60, 64, 67, 0.3), 0 1px 3px 1px rgba(60, 64, 67, 0.15);\n",
              "    fill: var(--button-hover-fill-color);\n",
              "  }\n",
              "\n",
              "  .colab-df-quickchart-complete:disabled,\n",
              "  .colab-df-quickchart-complete:disabled:hover {\n",
              "    background-color: var(--disabled-bg-color);\n",
              "    fill: var(--disabled-fill-color);\n",
              "    box-shadow: none;\n",
              "  }\n",
              "\n",
              "  .colab-df-spinner {\n",
              "    border: 2px solid var(--fill-color);\n",
              "    border-color: transparent;\n",
              "    border-bottom-color: var(--fill-color);\n",
              "    animation:\n",
              "      spin 1s steps(1) infinite;\n",
              "  }\n",
              "\n",
              "  @keyframes spin {\n",
              "    0% {\n",
              "      border-color: transparent;\n",
              "      border-bottom-color: var(--fill-color);\n",
              "      border-left-color: var(--fill-color);\n",
              "    }\n",
              "    20% {\n",
              "      border-color: transparent;\n",
              "      border-left-color: var(--fill-color);\n",
              "      border-top-color: var(--fill-color);\n",
              "    }\n",
              "    30% {\n",
              "      border-color: transparent;\n",
              "      border-left-color: var(--fill-color);\n",
              "      border-top-color: var(--fill-color);\n",
              "      border-right-color: var(--fill-color);\n",
              "    }\n",
              "    40% {\n",
              "      border-color: transparent;\n",
              "      border-right-color: var(--fill-color);\n",
              "      border-top-color: var(--fill-color);\n",
              "    }\n",
              "    60% {\n",
              "      border-color: transparent;\n",
              "      border-right-color: var(--fill-color);\n",
              "    }\n",
              "    80% {\n",
              "      border-color: transparent;\n",
              "      border-right-color: var(--fill-color);\n",
              "      border-bottom-color: var(--fill-color);\n",
              "    }\n",
              "    90% {\n",
              "      border-color: transparent;\n",
              "      border-bottom-color: var(--fill-color);\n",
              "    }\n",
              "  }\n",
              "</style>\n",
              "\n",
              "  <script>\n",
              "    async function quickchart(key) {\n",
              "      const quickchartButtonEl =\n",
              "        document.querySelector('#' + key + ' button');\n",
              "      quickchartButtonEl.disabled = true;  // To prevent multiple clicks.\n",
              "      quickchartButtonEl.classList.add('colab-df-spinner');\n",
              "      try {\n",
              "        const charts = await google.colab.kernel.invokeFunction(\n",
              "            'suggestCharts', [key], {});\n",
              "      } catch (error) {\n",
              "        console.error('Error during call to suggestCharts:', error);\n",
              "      }\n",
              "      quickchartButtonEl.classList.remove('colab-df-spinner');\n",
              "      quickchartButtonEl.classList.add('colab-df-quickchart-complete');\n",
              "    }\n",
              "    (() => {\n",
              "      let quickchartButtonEl =\n",
              "        document.querySelector('#df-4e0881f4-bebf-4576-92cc-5e2342d0965e button');\n",
              "      quickchartButtonEl.style.display =\n",
              "        google.colab.kernel.accessAllowed ? 'block' : 'none';\n",
              "    })();\n",
              "  </script>\n",
              "</div>\n",
              "    </div>\n",
              "  </div>\n"
            ]
          },
          "metadata": {},
          "execution_count": 115
        }
      ]
    },
    {
      "cell_type": "markdown",
      "source": [
        "#### Plot the percentage of the instances"
      ],
      "metadata": {
        "id": "vRRzVKIo39rm"
      }
    },
    {
      "cell_type": "code",
      "source": [
        "# Check the output class is balanced\n",
        "abalone_labels = data_abalone['Type']\n",
        "\n",
        "plt.figure(figsize=(10, 6))\n",
        "sns.countplot(x=abalone_labels)\n",
        "plt.title('Distribution of class label')\n",
        "plt.xlabel('Abalone')\n",
        "plt.ylabel('Frequency')\n",
        "\n",
        "# save as graphic\n",
        "plt.savefig('abalone-classes.png')\n"
      ],
      "metadata": {
        "colab": {
          "base_uri": "https://localhost:8080/",
          "height": 564
        },
        "id": "yq-_zOJu3-Sr",
        "outputId": "f45df9a4-c6e5-4703-f4bc-9804fc944567"
      },
      "execution_count": 116,
      "outputs": [
        {
          "output_type": "display_data",
          "data": {
            "text/plain": [
              "<Figure size 1000x600 with 1 Axes>"
            ],
            "image/png": "[encoded data removed]"
          },
          "metadata": {}
        }
      ]
    },
    {
      "cell_type": "markdown",
      "source": [
        "#### Dataset split into training & test set"
      ],
      "metadata": {
        "id": "U83DY2IC3rvY"
      }
    },
    {
      "cell_type": "code",
      "source": [
        "# perform feature scaling\n",
        "from sklearn.preprocessing import StandardScaler\n",
        "scaled_features_abalone = StandardScaler().fit_transform(data_abalone.iloc[:, 1:].values)\n",
        "\n",
        "X = scaled_features_abalone\n",
        "y = data_abalone.iloc[:,0].values"
      ],
      "metadata": {
        "id": "ao8xlPj-zmD8"
      },
      "execution_count": 117,
      "outputs": []
    },
    {
      "cell_type": "code",
      "source": [
        "from sklearn.model_selection import train_test_split\n",
        "X_train, X_test, y_train, y_test = train_test_split(X, y, test_size = 0.3)"
      ],
      "metadata": {
        "id": "WJweG6uCzmFv"
      },
      "execution_count": 118,
      "outputs": []
    },
    {
      "cell_type": "markdown",
      "source": [
        "#### Train and test 4 different classifiers"
      ],
      "metadata": {
        "id": "xDSmVlbI9Hyl"
      }
    },
    {
      "cell_type": "markdown",
      "source": [
        "##### Classifier 1 - Base-DT"
      ],
      "metadata": {
        "id": "XyL9UsKq2tsv"
      }
    },
    {
      "cell_type": "code",
      "source": [
        "from sklearn.tree import DecisionTreeClassifier\n",
        "\n",
        "# Base Decision Tree\n",
        "classifier_1 = DecisionTreeClassifier(max_depth=3)\n",
        "classifier_1.fit(X_train, y_train)"
      ],
      "metadata": {
        "colab": {
          "base_uri": "https://localhost:8080/",
          "height": 75
        },
        "id": "C0cUxRm82tD7",
        "outputId": "8a137139-68a7-4e1b-a287-6d4aadbe9650"
      },
      "execution_count": 119,
      "outputs": [
        {
          "output_type": "execute_result",
          "data": {
            "text/plain": [
              "DecisionTreeClassifier(max_depth=3)"
            ],
            "text/html": [
              "<style>#sk-container-id-6 {color: black;background-color: white;}#sk-container-id-6 pre{padding: 0;}#sk-container-id-6 div.sk-toggleable {background-color: white;}#sk-container-id-6 label.sk-toggleable__label {cursor: pointer;display: block;width: 100%;margin-bottom: 0;padding: 0.3em;box-sizing: border-box;text-align: center;}#sk-container-id-6 label.sk-toggleable__label-arrow:before {content: \"▸\";float: left;margin-right: 0.25em;color: #696969;}#sk-container-id-6 label.sk-toggleable__label-arrow:hover:before {color: black;}#sk-container-id-6 div.sk-estimator:hover label.sk-toggleable__label-arrow:before {color: black;}#sk-container-id-6 div.sk-toggleable__content {max-height: 0;max-width: 0;overflow: hidden;text-align: left;background-color: #f0f8ff;}#sk-container-id-6 div.sk-toggleable__content pre {margin: 0.2em;color: black;border-radius: 0.25em;background-color: #f0f8ff;}#sk-container-id-6 input.sk-toggleable__control:checked~div.sk-toggleable__content {max-height: 200px;max-width: 100%;overflow: auto;}#sk-container-id-6 input.sk-toggleable__control:checked~label.sk-toggleable__label-arrow:before {content: \"▾\";}#sk-container-id-6 div.sk-estimator input.sk-toggleable__control:checked~label.sk-toggleable__label {background-color: #d4ebff;}#sk-container-id-6 div.sk-label input.sk-toggleable__control:checked~label.sk-toggleable__label {background-color: #d4ebff;}#sk-container-id-6 input.sk-hidden--visually {border: 0;clip: rect(1px 1px 1px 1px);clip: rect(1px, 1px, 1px, 1px);height: 1px;margin: -1px;overflow: hidden;padding: 0;position: absolute;width: 1px;}#sk-container-id-6 div.sk-estimator {font-family: monospace;background-color: #f0f8ff;border: 1px dotted black;border-radius: 0.25em;box-sizing: border-box;margin-bottom: 0.5em;}#sk-container-id-6 div.sk-estimator:hover {background-color: #d4ebff;}#sk-container-id-6 div.sk-parallel-item::after {content: \"\";width: 100%;border-bottom: 1px solid gray;flex-grow: 1;}#sk-container-id-6 div.sk-label:hover label.sk-toggleable__label {background-color: #d4ebff;}#sk-container-id-6 div.sk-serial::before {content: \"\";position: absolute;border-left: 1px solid gray;box-sizing: border-box;top: 0;bottom: 0;left: 50%;z-index: 0;}#sk-container-id-6 div.sk-serial {display: flex;flex-direction: column;align-items: center;background-color: white;padding-right: 0.2em;padding-left: 0.2em;position: relative;}#sk-container-id-6 div.sk-item {position: relative;z-index: 1;}#sk-container-id-6 div.sk-parallel {display: flex;align-items: stretch;justify-content: center;background-color: white;position: relative;}#sk-container-id-6 div.sk-item::before, #sk-container-id-6 div.sk-parallel-item::before {content: \"\";position: absolute;border-left: 1px solid gray;box-sizing: border-box;top: 0;bottom: 0;left: 50%;z-index: -1;}#sk-container-id-6 div.sk-parallel-item {display: flex;flex-direction: column;z-index: 1;position: relative;background-color: white;}#sk-container-id-6 div.sk-parallel-item:first-child::after {align-self: flex-end;width: 50%;}#sk-container-id-6 div.sk-parallel-item:last-child::after {align-self: flex-start;width: 50%;}#sk-container-id-6 div.sk-parallel-item:only-child::after {width: 0;}#sk-container-id-6 div.sk-dashed-wrapped {border: 1px dashed gray;margin: 0 0.4em 0.5em 0.4em;box-sizing: border-box;padding-bottom: 0.4em;background-color: white;}#sk-container-id-6 div.sk-label label {font-family: monospace;font-weight: bold;display: inline-block;line-height: 1.2em;}#sk-container-id-6 div.sk-label-container {text-align: center;}#sk-container-id-6 div.sk-container {/* jupyter's `normalize.less` sets `[hidden] { display: none; }` but bootstrap.min.css set `[hidden] { display: none !important; }` so we also need the `!important` here to be able to override the default hidden behavior on the sphinx rendered scikit-learn.org. See: https://github.com/scikit-learn/scikit-learn/issues/21755 */display: inline-block !important;position: relative;}#sk-container-id-6 div.sk-text-repr-fallback {display: none;}</style><div id=\"sk-container-id-6\" class=\"sk-top-container\"><div class=\"sk-text-repr-fallback\"><pre>DecisionTreeClassifier(max_depth=3)</pre><b>In a Jupyter environment, please rerun this cell to show the HTML representation or trust the notebook. <br />On GitHub, the HTML representation is unable to render, please try loading this page with nbviewer.org.</b></div><div class=\"sk-container\" hidden><div class=\"sk-item\"><div class=\"sk-estimator sk-toggleable\"><input class=\"sk-toggleable__control sk-hidden--visually\" id=\"sk-estimator-id-6\" type=\"checkbox\" checked><label for=\"sk-estimator-id-6\" class=\"sk-toggleable__label sk-toggleable__label-arrow\">DecisionTreeClassifier</label><div class=\"sk-toggleable__content\"><pre>DecisionTreeClassifier(max_depth=3)</pre></div></div></div></div></div>"
            ]
          },
          "metadata": {},
          "execution_count": 119
        }
      ]
    },
    {
      "cell_type": "code",
      "source": [
        "abalone_class = data_abalone.columns[0]\n",
        "abalone_features = list(data_abalone.columns[1:])"
      ],
      "metadata": {
        "id": "dGLPS-XQ29an"
      },
      "execution_count": 120,
      "outputs": []
    },
    {
      "cell_type": "code",
      "source": [
        "dot_data = tree.export_graphviz(classifier_1,\n",
        "                feature_names=abalone_features,\n",
        "                class_names=abalone_class,\n",
        "                filled=True, rounded=True,\n",
        "                special_characters=True)\n",
        "\n",
        "graph = graphviz.Source(dot_data)\n",
        "graph"
      ],
      "metadata": {
        "id": "8tgSldCH5xU1",
        "colab": {
          "base_uri": "https://localhost:8080/",
          "height": 619
        },
        "outputId": "cb2afa1a-a6be-4844-82fd-b3ae3f76a79d"
      },
      "execution_count": 121,
      "outputs": [
        {
          "output_type": "execute_result",
          "data": {
            "image/svg+xml": "<?xml version=\"1.0\" encoding=\"UTF-8\" standalone=\"no\"?>\n<!DOCTYPE svg PUBLIC \"-//W3C//DTD SVG 1.1//EN\"\n \"http://www.w3.org/Graphics/SVG/1.1/DTD/svg11.dtd\">\n<!-- Generated by graphviz version 2.43.0 (0)\n -->\n<!-- Title: Tree Pages: 1 -->\n<svg width=\"1255pt\" height=\"433pt\"\n viewBox=\"0.00 0.00 1254.50 433.00\" xmlns=\"http://www.w3.org/2000/svg\" xmlns:xlink=\"http://www.w3.org/1999/xlink\">\n<g id=\"graph0\" class=\"graph\" transform=\"scale(1 1) rotate(0) translate(4 429)\">\n<title>Tree</title>\n<polygon fill=\"white\" stroke=\"transparent\" points=\"-4,4 -4,-429 1250.5,-429 1250.5,4 -4,4\"/>\n<!-- 0 -->\n<g id=\"node1\" class=\"node\">\n<title>0</title>\n<path fill=\"#f9f5fe\" stroke=\"black\" d=\"M674,-425C674,-425 536,-425 536,-425 530,-425 524,-419 524,-413 524,-413 524,-354 524,-354 524,-348 530,-342 536,-342 536,-342 674,-342 674,-342 680,-342 686,-348 686,-354 686,-354 686,-413 686,-413 686,-419 680,-425 674,-425\"/>\n<text text-anchor=\"start\" x=\"537.5\" y=\"-409.8\" font-family=\"Helvetica,sans-Serif\" font-size=\"14.00\">WholeWeight ≤ &#45;0.442</text>\n<text text-anchor=\"start\" x=\"569.5\" y=\"-394.8\" font-family=\"Helvetica,sans-Serif\" font-size=\"14.00\">gini = 0.666</text>\n<text text-anchor=\"start\" x=\"556.5\" y=\"-379.8\" font-family=\"Helvetica,sans-Serif\" font-size=\"14.00\">samples = 2923</text>\n<text text-anchor=\"start\" x=\"532\" y=\"-364.8\" font-family=\"Helvetica,sans-Serif\" font-size=\"14.00\">value = [923, 951, 1049]</text>\n<text text-anchor=\"start\" x=\"577.5\" y=\"-349.8\" font-family=\"Helvetica,sans-Serif\" font-size=\"14.00\">class = p</text>\n</g>\n<!-- 1 -->\n<g id=\"node2\" class=\"node\">\n<title>1</title>\n<path fill=\"#8af0b5\" stroke=\"black\" d=\"M525.5,-306C525.5,-306 394.5,-306 394.5,-306 388.5,-306 382.5,-300 382.5,-294 382.5,-294 382.5,-235 382.5,-235 382.5,-229 388.5,-223 394.5,-223 394.5,-223 525.5,-223 525.5,-223 531.5,-223 537.5,-229 537.5,-235 537.5,-235 537.5,-294 537.5,-294 537.5,-300 531.5,-306 525.5,-306\"/>\n<text text-anchor=\"start\" x=\"416\" y=\"-290.8\" font-family=\"Helvetica,sans-Serif\" font-size=\"14.00\">Rings ≤ &#45;0.445</text>\n<text text-anchor=\"start\" x=\"424.5\" y=\"-275.8\" font-family=\"Helvetica,sans-Serif\" font-size=\"14.00\">gini = 0.496</text>\n<text text-anchor=\"start\" x=\"411.5\" y=\"-260.8\" font-family=\"Helvetica,sans-Serif\" font-size=\"14.00\">samples = 1096</text>\n<text text-anchor=\"start\" x=\"390.5\" y=\"-245.8\" font-family=\"Helvetica,sans-Serif\" font-size=\"14.00\">value = [152, 733, 211]</text>\n<text text-anchor=\"start\" x=\"433\" y=\"-230.8\" font-family=\"Helvetica,sans-Serif\" font-size=\"14.00\">class = y</text>\n</g>\n<!-- 0&#45;&gt;1 -->\n<g id=\"edge1\" class=\"edge\">\n<title>0&#45;&gt;1</title>\n<path fill=\"none\" stroke=\"black\" d=\"M554.69,-341.91C542.88,-332.38 530.21,-322.15 518.09,-312.37\"/>\n<polygon fill=\"black\" stroke=\"black\" points=\"520.2,-309.58 510.22,-306.02 515.8,-315.02 520.2,-309.58\"/>\n<text text-anchor=\"middle\" x=\"512.87\" y=\"-327.18\" font-family=\"Helvetica,sans-Serif\" font-size=\"14.00\">True</text>\n</g>\n<!-- 8 -->\n<g id=\"node9\" class=\"node\">\n<title>8</title>\n<path fill=\"#f7f2fd\" stroke=\"black\" d=\"M829.5,-306C829.5,-306 698.5,-306 698.5,-306 692.5,-306 686.5,-300 686.5,-294 686.5,-294 686.5,-235 686.5,-235 686.5,-229 692.5,-223 698.5,-223 698.5,-223 829.5,-223 829.5,-223 835.5,-223 841.5,-229 841.5,-235 841.5,-235 841.5,-294 841.5,-294 841.5,-300 835.5,-306 829.5,-306\"/>\n<text text-anchor=\"start\" x=\"699\" y=\"-290.8\" font-family=\"Helvetica,sans-Serif\" font-size=\"14.00\">WholeWeight ≤ 0.018</text>\n<text text-anchor=\"start\" x=\"728.5\" y=\"-275.8\" font-family=\"Helvetica,sans-Serif\" font-size=\"14.00\">gini = 0.597</text>\n<text text-anchor=\"start\" x=\"715.5\" y=\"-260.8\" font-family=\"Helvetica,sans-Serif\" font-size=\"14.00\">samples = 1827</text>\n<text text-anchor=\"start\" x=\"694.5\" y=\"-245.8\" font-family=\"Helvetica,sans-Serif\" font-size=\"14.00\">value = [771, 218, 838]</text>\n<text text-anchor=\"start\" x=\"736.5\" y=\"-230.8\" font-family=\"Helvetica,sans-Serif\" font-size=\"14.00\">class = p</text>\n</g>\n<!-- 0&#45;&gt;8 -->\n<g id=\"edge8\" class=\"edge\">\n<title>0&#45;&gt;8</title>\n<path fill=\"none\" stroke=\"black\" d=\"M660.16,-341.91C673.24,-332.29 687.28,-321.95 700.68,-312.09\"/>\n<polygon fill=\"black\" stroke=\"black\" points=\"702.95,-314.77 708.93,-306.02 698.8,-309.13 702.95,-314.77\"/>\n<text text-anchor=\"middle\" x=\"705.17\" y=\"-327.04\" font-family=\"Helvetica,sans-Serif\" font-size=\"14.00\">False</text>\n</g>\n<!-- 2 -->\n<g id=\"node3\" class=\"node\">\n<title>2</title>\n<path fill=\"#67eb9e\" stroke=\"black\" d=\"M294.5,-187C294.5,-187 161.5,-187 161.5,-187 155.5,-187 149.5,-181 149.5,-175 149.5,-175 149.5,-116 149.5,-116 149.5,-110 155.5,-104 161.5,-104 161.5,-104 294.5,-104 294.5,-104 300.5,-104 306.5,-110 306.5,-116 306.5,-116 306.5,-175 306.5,-175 306.5,-181 300.5,-187 294.5,-187\"/>\n<text text-anchor=\"start\" x=\"157.5\" y=\"-171.8\" font-family=\"Helvetica,sans-Serif\" font-size=\"14.00\">VisceraWeight ≤ &#45;0.815</text>\n<text text-anchor=\"start\" x=\"192.5\" y=\"-156.8\" font-family=\"Helvetica,sans-Serif\" font-size=\"14.00\">gini = 0.338</text>\n<text text-anchor=\"start\" x=\"183\" y=\"-141.8\" font-family=\"Helvetica,sans-Serif\" font-size=\"14.00\">samples = 759</text>\n<text text-anchor=\"start\" x=\"162.5\" y=\"-126.8\" font-family=\"Helvetica,sans-Serif\" font-size=\"14.00\">value = [50, 607, 102]</text>\n<text text-anchor=\"start\" x=\"201\" y=\"-111.8\" font-family=\"Helvetica,sans-Serif\" font-size=\"14.00\">class = y</text>\n</g>\n<!-- 1&#45;&gt;2 -->\n<g id=\"edge2\" class=\"edge\">\n<title>1&#45;&gt;2</title>\n<path fill=\"none\" stroke=\"black\" d=\"M382.42,-224.38C361.01,-213.58 337.62,-201.78 315.67,-190.71\"/>\n<polygon fill=\"black\" stroke=\"black\" points=\"317.19,-187.56 306.69,-186.18 314.04,-193.81 317.19,-187.56\"/>\n</g>\n<!-- 5 -->\n<g id=\"node6\" class=\"node\">\n<title>5</title>\n<path fill=\"#f0fdf6\" stroke=\"black\" d=\"M525.5,-187C525.5,-187 394.5,-187 394.5,-187 388.5,-187 382.5,-181 382.5,-175 382.5,-175 382.5,-116 382.5,-116 382.5,-110 388.5,-104 394.5,-104 394.5,-104 525.5,-104 525.5,-104 531.5,-104 537.5,-110 537.5,-116 537.5,-116 537.5,-175 537.5,-175 537.5,-181 531.5,-187 525.5,-187\"/>\n<text text-anchor=\"start\" x=\"413.5\" y=\"-171.8\" font-family=\"Helvetica,sans-Serif\" font-size=\"14.00\">Height ≤ &#45;1.005</text>\n<text text-anchor=\"start\" x=\"424.5\" y=\"-156.8\" font-family=\"Helvetica,sans-Serif\" font-size=\"14.00\">gini = 0.664</text>\n<text text-anchor=\"start\" x=\"415\" y=\"-141.8\" font-family=\"Helvetica,sans-Serif\" font-size=\"14.00\">samples = 337</text>\n<text text-anchor=\"start\" x=\"390.5\" y=\"-126.8\" font-family=\"Helvetica,sans-Serif\" font-size=\"14.00\">value = [102, 126, 109]</text>\n<text text-anchor=\"start\" x=\"433\" y=\"-111.8\" font-family=\"Helvetica,sans-Serif\" font-size=\"14.00\">class = y</text>\n</g>\n<!-- 1&#45;&gt;5 -->\n<g id=\"edge5\" class=\"edge\">\n<title>1&#45;&gt;5</title>\n<path fill=\"none\" stroke=\"black\" d=\"M460,-222.91C460,-214.65 460,-205.86 460,-197.3\"/>\n<polygon fill=\"black\" stroke=\"black\" points=\"463.5,-197.02 460,-187.02 456.5,-197.02 463.5,-197.02\"/>\n</g>\n<!-- 3 -->\n<g id=\"node4\" class=\"node\">\n<title>3</title>\n<path fill=\"#59e995\" stroke=\"black\" d=\"M128,-68C128,-68 12,-68 12,-68 6,-68 0,-62 0,-56 0,-56 0,-12 0,-12 0,-6 6,0 12,0 12,0 128,0 128,0 134,0 140,-6 140,-12 140,-12 140,-56 140,-56 140,-62 134,-68 128,-68\"/>\n<text text-anchor=\"start\" x=\"34.5\" y=\"-52.8\" font-family=\"Helvetica,sans-Serif\" font-size=\"14.00\">gini = 0.255</text>\n<text text-anchor=\"start\" x=\"25\" y=\"-37.8\" font-family=\"Helvetica,sans-Serif\" font-size=\"14.00\">samples = 561</text>\n<text text-anchor=\"start\" x=\"8\" y=\"-22.8\" font-family=\"Helvetica,sans-Serif\" font-size=\"14.00\">value = [19, 480, 62]</text>\n<text text-anchor=\"start\" x=\"43\" y=\"-7.8\" font-family=\"Helvetica,sans-Serif\" font-size=\"14.00\">class = y</text>\n</g>\n<!-- 2&#45;&gt;3 -->\n<g id=\"edge3\" class=\"edge\">\n<title>2&#45;&gt;3</title>\n<path fill=\"none\" stroke=\"black\" d=\"M169.17,-103.73C155.14,-94.01 140.21,-83.66 126.31,-74.02\"/>\n<polygon fill=\"black\" stroke=\"black\" points=\"128.01,-70.94 117.8,-68.13 124.02,-76.7 128.01,-70.94\"/>\n</g>\n<!-- 4 -->\n<g id=\"node5\" class=\"node\">\n<title>4</title>\n<path fill=\"#92f1ba\" stroke=\"black\" d=\"M286,-68C286,-68 170,-68 170,-68 164,-68 158,-62 158,-56 158,-56 158,-12 158,-12 158,-6 164,0 170,0 170,0 286,0 286,0 292,0 298,-6 298,-12 298,-12 298,-56 298,-56 298,-62 292,-68 286,-68\"/>\n<text text-anchor=\"start\" x=\"192.5\" y=\"-52.8\" font-family=\"Helvetica,sans-Serif\" font-size=\"14.00\">gini = 0.523</text>\n<text text-anchor=\"start\" x=\"183\" y=\"-37.8\" font-family=\"Helvetica,sans-Serif\" font-size=\"14.00\">samples = 198</text>\n<text text-anchor=\"start\" x=\"166\" y=\"-22.8\" font-family=\"Helvetica,sans-Serif\" font-size=\"14.00\">value = [31, 127, 40]</text>\n<text text-anchor=\"start\" x=\"201\" y=\"-7.8\" font-family=\"Helvetica,sans-Serif\" font-size=\"14.00\">class = y</text>\n</g>\n<!-- 2&#45;&gt;4 -->\n<g id=\"edge4\" class=\"edge\">\n<title>2&#45;&gt;4</title>\n<path fill=\"none\" stroke=\"black\" d=\"M228,-103.73C228,-95.52 228,-86.86 228,-78.56\"/>\n<polygon fill=\"black\" stroke=\"black\" points=\"231.5,-78.3 228,-68.3 224.5,-78.3 231.5,-78.3\"/>\n</g>\n<!-- 6 -->\n<g id=\"node7\" class=\"node\">\n<title>6</title>\n<path fill=\"#c29ff2\" stroke=\"black\" d=\"M429.5,-68C429.5,-68 328.5,-68 328.5,-68 322.5,-68 316.5,-62 316.5,-56 316.5,-56 316.5,-12 316.5,-12 316.5,-6 322.5,0 328.5,0 328.5,0 429.5,0 429.5,0 435.5,0 441.5,-6 441.5,-12 441.5,-12 441.5,-56 441.5,-56 441.5,-62 435.5,-68 429.5,-68\"/>\n<text text-anchor=\"start\" x=\"343.5\" y=\"-52.8\" font-family=\"Helvetica,sans-Serif\" font-size=\"14.00\">gini = 0.545</text>\n<text text-anchor=\"start\" x=\"338\" y=\"-37.8\" font-family=\"Helvetica,sans-Serif\" font-size=\"14.00\">samples = 49</text>\n<text text-anchor=\"start\" x=\"324.5\" y=\"-22.8\" font-family=\"Helvetica,sans-Serif\" font-size=\"14.00\">value = [7, 12, 30]</text>\n<text text-anchor=\"start\" x=\"351.5\" y=\"-7.8\" font-family=\"Helvetica,sans-Serif\" font-size=\"14.00\">class = p</text>\n</g>\n<!-- 5&#45;&gt;6 -->\n<g id=\"edge6\" class=\"edge\">\n<title>5&#45;&gt;6</title>\n<path fill=\"none\" stroke=\"black\" d=\"M429.84,-103.73C423.23,-94.79 416.22,-85.32 409.59,-76.36\"/>\n<polygon fill=\"black\" stroke=\"black\" points=\"412.39,-74.26 403.63,-68.3 406.77,-78.42 412.39,-74.26\"/>\n</g>\n<!-- 7 -->\n<g id=\"node8\" class=\"node\">\n<title>7</title>\n<path fill=\"#ecfcf3\" stroke=\"black\" d=\"M588,-68C588,-68 472,-68 472,-68 466,-68 460,-62 460,-56 460,-56 460,-12 460,-12 460,-6 466,0 472,0 472,0 588,0 588,0 594,0 600,-6 600,-12 600,-12 600,-56 600,-56 600,-62 594,-68 588,-68\"/>\n<text text-anchor=\"start\" x=\"494.5\" y=\"-52.8\" font-family=\"Helvetica,sans-Serif\" font-size=\"14.00\">gini = 0.659</text>\n<text text-anchor=\"start\" x=\"485\" y=\"-37.8\" font-family=\"Helvetica,sans-Serif\" font-size=\"14.00\">samples = 288</text>\n<text text-anchor=\"start\" x=\"468\" y=\"-22.8\" font-family=\"Helvetica,sans-Serif\" font-size=\"14.00\">value = [95, 114, 79]</text>\n<text text-anchor=\"start\" x=\"503\" y=\"-7.8\" font-family=\"Helvetica,sans-Serif\" font-size=\"14.00\">class = y</text>\n</g>\n<!-- 5&#45;&gt;7 -->\n<g id=\"edge7\" class=\"edge\">\n<title>5&#45;&gt;7</title>\n<path fill=\"none\" stroke=\"black\" d=\"M486.07,-103.73C491.66,-94.97 497.59,-85.7 503.21,-76.91\"/>\n<polygon fill=\"black\" stroke=\"black\" points=\"506.28,-78.61 508.71,-68.3 500.38,-74.84 506.28,-78.61\"/>\n</g>\n<!-- 9 -->\n<g id=\"node10\" class=\"node\">\n<title>9</title>\n<path fill=\"#faf8fe\" stroke=\"black\" d=\"M829.5,-187C829.5,-187 698.5,-187 698.5,-187 692.5,-187 686.5,-181 686.5,-175 686.5,-175 686.5,-116 686.5,-116 686.5,-110 692.5,-104 698.5,-104 698.5,-104 829.5,-104 829.5,-104 835.5,-104 841.5,-110 841.5,-116 841.5,-116 841.5,-175 841.5,-175 841.5,-181 835.5,-187 829.5,-187\"/>\n<text text-anchor=\"start\" x=\"700.5\" y=\"-171.8\" font-family=\"Helvetica,sans-Serif\" font-size=\"14.00\">LongestShell ≤ 0.112</text>\n<text text-anchor=\"start\" x=\"728.5\" y=\"-156.8\" font-family=\"Helvetica,sans-Serif\" font-size=\"14.00\">gini = 0.665</text>\n<text text-anchor=\"start\" x=\"719\" y=\"-141.8\" font-family=\"Helvetica,sans-Serif\" font-size=\"14.00\">samples = 459</text>\n<text text-anchor=\"start\" x=\"694.5\" y=\"-126.8\" font-family=\"Helvetica,sans-Serif\" font-size=\"14.00\">value = [154, 140, 165]</text>\n<text text-anchor=\"start\" x=\"736.5\" y=\"-111.8\" font-family=\"Helvetica,sans-Serif\" font-size=\"14.00\">class = p</text>\n</g>\n<!-- 8&#45;&gt;9 -->\n<g id=\"edge9\" class=\"edge\">\n<title>8&#45;&gt;9</title>\n<path fill=\"none\" stroke=\"black\" d=\"M764,-222.91C764,-214.65 764,-205.86 764,-197.3\"/>\n<polygon fill=\"black\" stroke=\"black\" points=\"767.5,-197.02 764,-187.02 760.5,-197.02 767.5,-197.02\"/>\n</g>\n<!-- 12 -->\n<g id=\"node13\" class=\"node\">\n<title>12</title>\n<path fill=\"#f6f0fd\" stroke=\"black\" d=\"M1072,-187C1072,-187 944,-187 944,-187 938,-187 932,-181 932,-175 932,-175 932,-116 932,-116 932,-110 938,-104 944,-104 944,-104 1072,-104 1072,-104 1078,-104 1084,-110 1084,-116 1084,-116 1084,-175 1084,-175 1084,-181 1078,-187 1072,-187\"/>\n<text text-anchor=\"start\" x=\"940\" y=\"-171.8\" font-family=\"Helvetica,sans-Serif\" font-size=\"14.00\">VisceraWeight ≤ 0.357</text>\n<text text-anchor=\"start\" x=\"972.5\" y=\"-156.8\" font-family=\"Helvetica,sans-Serif\" font-size=\"14.00\">gini = 0.551</text>\n<text text-anchor=\"start\" x=\"959.5\" y=\"-141.8\" font-family=\"Helvetica,sans-Serif\" font-size=\"14.00\">samples = 1368</text>\n<text text-anchor=\"start\" x=\"942.5\" y=\"-126.8\" font-family=\"Helvetica,sans-Serif\" font-size=\"14.00\">value = [617, 78, 673]</text>\n<text text-anchor=\"start\" x=\"980.5\" y=\"-111.8\" font-family=\"Helvetica,sans-Serif\" font-size=\"14.00\">class = p</text>\n</g>\n<!-- 8&#45;&gt;12 -->\n<g id=\"edge12\" class=\"edge\">\n<title>8&#45;&gt;12</title>\n<path fill=\"none\" stroke=\"black\" d=\"M841.54,-226.32C867.38,-213.93 896.3,-200.06 922.69,-187.4\"/>\n<polygon fill=\"black\" stroke=\"black\" points=\"924.41,-190.46 931.92,-182.98 921.39,-184.15 924.41,-190.46\"/>\n</g>\n<!-- 10 -->\n<g id=\"node11\" class=\"node\">\n<title>10</title>\n<path fill=\"#f6f0fd\" stroke=\"black\" d=\"M753.5,-68C753.5,-68 630.5,-68 630.5,-68 624.5,-68 618.5,-62 618.5,-56 618.5,-56 618.5,-12 618.5,-12 618.5,-6 624.5,0 630.5,0 630.5,0 753.5,0 753.5,0 759.5,0 765.5,-6 765.5,-12 765.5,-12 765.5,-56 765.5,-56 765.5,-62 759.5,-68 753.5,-68\"/>\n<text text-anchor=\"start\" x=\"656.5\" y=\"-52.8\" font-family=\"Helvetica,sans-Serif\" font-size=\"14.00\">gini = 0.642</text>\n<text text-anchor=\"start\" x=\"647\" y=\"-37.8\" font-family=\"Helvetica,sans-Serif\" font-size=\"14.00\">samples = 279</text>\n<text text-anchor=\"start\" x=\"626.5\" y=\"-22.8\" font-family=\"Helvetica,sans-Serif\" font-size=\"14.00\">value = [104, 58, 117]</text>\n<text text-anchor=\"start\" x=\"664.5\" y=\"-7.8\" font-family=\"Helvetica,sans-Serif\" font-size=\"14.00\">class = p</text>\n</g>\n<!-- 9&#45;&gt;10 -->\n<g id=\"edge10\" class=\"edge\">\n<title>9&#45;&gt;10</title>\n<path fill=\"none\" stroke=\"black\" d=\"M737.19,-103.73C731.43,-94.97 725.34,-85.7 719.55,-76.91\"/>\n<polygon fill=\"black\" stroke=\"black\" points=\"722.31,-74.73 713.9,-68.3 716.47,-78.58 722.31,-74.73\"/>\n</g>\n<!-- 11 -->\n<g id=\"node12\" class=\"node\">\n<title>11</title>\n<path fill=\"#cef9e0\" stroke=\"black\" d=\"M904,-68C904,-68 796,-68 796,-68 790,-68 784,-62 784,-56 784,-56 784,-12 784,-12 784,-6 790,0 796,0 796,0 904,0 904,0 910,0 916,-6 916,-12 916,-12 916,-56 916,-56 916,-62 910,-68 904,-68\"/>\n<text text-anchor=\"start\" x=\"814.5\" y=\"-52.8\" font-family=\"Helvetica,sans-Serif\" font-size=\"14.00\">gini = 0.644</text>\n<text text-anchor=\"start\" x=\"805\" y=\"-37.8\" font-family=\"Helvetica,sans-Serif\" font-size=\"14.00\">samples = 180</text>\n<text text-anchor=\"start\" x=\"792\" y=\"-22.8\" font-family=\"Helvetica,sans-Serif\" font-size=\"14.00\">value = [50, 82, 48]</text>\n<text text-anchor=\"start\" x=\"823\" y=\"-7.8\" font-family=\"Helvetica,sans-Serif\" font-size=\"14.00\">class = y</text>\n</g>\n<!-- 9&#45;&gt;11 -->\n<g id=\"edge11\" class=\"edge\">\n<title>9&#45;&gt;11</title>\n<path fill=\"none\" stroke=\"black\" d=\"M796.02,-103.73C803.04,-94.79 810.48,-85.32 817.52,-76.36\"/>\n<polygon fill=\"black\" stroke=\"black\" points=\"820.42,-78.33 823.85,-68.3 814.92,-74 820.42,-78.33\"/>\n</g>\n<!-- 13 -->\n<g id=\"node14\" class=\"node\">\n<title>13</title>\n<path fill=\"#decbf8\" stroke=\"black\" d=\"M1069.5,-68C1069.5,-68 946.5,-68 946.5,-68 940.5,-68 934.5,-62 934.5,-56 934.5,-56 934.5,-12 934.5,-12 934.5,-6 940.5,0 946.5,0 946.5,0 1069.5,0 1069.5,0 1075.5,0 1081.5,-6 1081.5,-12 1081.5,-12 1081.5,-56 1081.5,-56 1081.5,-62 1075.5,-68 1069.5,-68\"/>\n<text text-anchor=\"start\" x=\"972.5\" y=\"-52.8\" font-family=\"Helvetica,sans-Serif\" font-size=\"14.00\">gini = 0.582</text>\n<text text-anchor=\"start\" x=\"963\" y=\"-37.8\" font-family=\"Helvetica,sans-Serif\" font-size=\"14.00\">samples = 377</text>\n<text text-anchor=\"start\" x=\"942.5\" y=\"-22.8\" font-family=\"Helvetica,sans-Serif\" font-size=\"14.00\">value = [135, 44, 198]</text>\n<text text-anchor=\"start\" x=\"980.5\" y=\"-7.8\" font-family=\"Helvetica,sans-Serif\" font-size=\"14.00\">class = p</text>\n</g>\n<!-- 12&#45;&gt;13 -->\n<g id=\"edge13\" class=\"edge\">\n<title>12&#45;&gt;13</title>\n<path fill=\"none\" stroke=\"black\" d=\"M1008,-103.73C1008,-95.52 1008,-86.86 1008,-78.56\"/>\n<polygon fill=\"black\" stroke=\"black\" points=\"1011.5,-78.3 1008,-68.3 1004.5,-78.3 1011.5,-78.3\"/>\n</g>\n<!-- 14 -->\n<g id=\"node15\" class=\"node\">\n<title>14</title>\n<path fill=\"#fffdfc\" stroke=\"black\" d=\"M1234.5,-68C1234.5,-68 1111.5,-68 1111.5,-68 1105.5,-68 1099.5,-62 1099.5,-56 1099.5,-56 1099.5,-12 1099.5,-12 1099.5,-6 1105.5,0 1111.5,0 1111.5,0 1234.5,0 1234.5,0 1240.5,0 1246.5,-6 1246.5,-12 1246.5,-12 1246.5,-56 1246.5,-56 1246.5,-62 1240.5,-68 1234.5,-68\"/>\n<text text-anchor=\"start\" x=\"1137.5\" y=\"-52.8\" font-family=\"Helvetica,sans-Serif\" font-size=\"14.00\">gini = 0.533</text>\n<text text-anchor=\"start\" x=\"1128\" y=\"-37.8\" font-family=\"Helvetica,sans-Serif\" font-size=\"14.00\">samples = 991</text>\n<text text-anchor=\"start\" x=\"1107.5\" y=\"-22.8\" font-family=\"Helvetica,sans-Serif\" font-size=\"14.00\">value = [482, 34, 475]</text>\n<text text-anchor=\"start\" x=\"1145.5\" y=\"-7.8\" font-family=\"Helvetica,sans-Serif\" font-size=\"14.00\">class = T</text>\n</g>\n<!-- 12&#45;&gt;14 -->\n<g id=\"edge14\" class=\"edge\">\n<title>12&#45;&gt;14</title>\n<path fill=\"none\" stroke=\"black\" d=\"M1069.44,-103.73C1084.22,-93.92 1099.97,-83.46 1114.61,-73.75\"/>\n<polygon fill=\"black\" stroke=\"black\" points=\"1116.69,-76.57 1123.09,-68.13 1112.82,-70.74 1116.69,-76.57\"/>\n</g>\n</g>\n</svg>\n",
            "text/plain": [
              "<graphviz.sources.Source at 0x7ee75d5b4910>"
            ]
          },
          "metadata": {},
          "execution_count": 121
        }
      ]
    },
    {
      "cell_type": "code",
      "source": [
        "# print to the output file\n",
        "print('**************************************************************', file = outputFile)\n",
        "print('(A) Classifier 1 - Base DT', file = outputFile)\n",
        "print(classifier_1, file = outputFile)\n",
        "print('\\n', file = outputFile)"
      ],
      "metadata": {
        "id": "sqRs0lp67Hmo"
      },
      "execution_count": 122,
      "outputs": []
    },
    {
      "cell_type": "code",
      "source": [
        "# print classification report\n",
        "y_pred = classifier_1.predict(X_test)\n",
        "confusion_mat= confusion_matrix(y_test, y_pred)\n",
        "\n",
        "print(classification_report(y_test, y_pred, target_names=['F', 'M', 'I']))\n",
        "print(\"confusion matrix\\n\",confusion_mat)\n",
        "\n",
        "# print the result to the output file\n",
        "confusion_matrix_result =np.array2string(confusion_mat)\n",
        "print(\"(B) Confusion Matrix\", file = outputFile)\n",
        "print(confusion_matrix_result, file = outputFile)\n",
        "print('\\n', file = outputFile)\n",
        "print('(C,D) Classification Report', file = outputFile)\n",
        "print(classification_report(y_test, y_pred, target_names = ['F', 'M', 'I']), file = outputFile)\n",
        "outputFile.flush()"
      ],
      "metadata": {
        "colab": {
          "base_uri": "https://localhost:8080/"
        },
        "id": "mDbdxqro7Hp4",
        "outputId": "8ec5c198-187d-40d8-fe00-88183a45d0d4"
      },
      "execution_count": 123,
      "outputs": [
        {
          "output_type": "stream",
          "name": "stdout",
          "text": [
            "              precision    recall  f1-score   support\n",
            "\n",
            "           F       0.46      0.52      0.49       384\n",
            "           M       0.60      0.80      0.69       391\n",
            "           I       0.45      0.28      0.35       479\n",
            "\n",
            "    accuracy                           0.52      1254\n",
            "   macro avg       0.50      0.53      0.51      1254\n",
            "weighted avg       0.50      0.52      0.50      1254\n",
            "\n",
            "confusion matrix\n",
            " [[199  85 100]\n",
            " [ 11 312  68]\n",
            " [222 121 136]]\n"
          ]
        }
      ]
    },
    {
      "cell_type": "code",
      "source": [
        "# repeat training & prediction 5 times for classifier 1\n",
        "from sklearn.metrics import accuracy_score, f1_score\n",
        "\n",
        "accuracy_baseDT = np.zeros(5)\n",
        "macro_avg_baseDT = np.zeros(5)\n",
        "weighted_avg_baseDT = np.zeros(5)\n",
        "\n",
        "for i in range(5):\n",
        "  X_train, X_test, y_train, y_test = train_test_split(X, y, test_size = 0.3)\n",
        "  classifier_1.fit(X_train, y_train)\n",
        "  y_pred = classifier_1.predict(X_test)\n",
        "\n",
        "  # find the accuracy for each iteration and store the value\n",
        "  accuracy_baseDT[i] = accuracy_score(y_test, y_pred)\n",
        "  macro_avg_baseDT[i] = f1_score(y_test, y_pred, average='macro')\n",
        "  weighted_avg_baseDT[i] = f1_score(y_test, y_pred, average='weighted')\n",
        "\n",
        "# compute the average accuracy & variances\n",
        "print(f'accuracy_baseDT: {accuracy_baseDT}')\n",
        "Avg_accuracy = (np.sum(accuracy_baseDT))/5\n",
        "accuracy_variance = np.var(accuracy_baseDT)\n",
        "print(f'average accuracy: {Avg_accuracy}, variance: {accuracy_variance}')\n",
        "\n",
        "# compute the average macro-average F1 & the variance\n",
        "print(f'macro_avg_baseDT: {macro_avg_baseDT}')\n",
        "Avg_macro_avg = (np.sum(macro_avg_baseDT))/5\n",
        "f1_macro_variance = np.var(macro_avg_baseDT)\n",
        "print(f'average macro-average F1: {Avg_macro_avg}, variance: {f1_macro_variance}')\n",
        "\n",
        "# compute the average weighted-average F1 & the variance\n",
        "print(f'weighted_avg_baseDT: {weighted_avg_baseDT}')\n",
        "Avg_weighted_avg = (np.sum(weighted_avg_baseDT))/5\n",
        "f1_weighted_variance = np.var(weighted_avg_baseDT)\n",
        "print(f'average weighted-average F1: {Avg_weighted_avg}, variance: {f1_weighted_variance}')"
      ],
      "metadata": {
        "id": "YukiqSwdC21P",
        "outputId": "73c933f3-0e98-4a8e-9577-78015f337cc6",
        "colab": {
          "base_uri": "https://localhost:8080/"
        }
      },
      "execution_count": 124,
      "outputs": [
        {
          "output_type": "stream",
          "name": "stdout",
          "text": [
            "accuracy_baseDT: [0.53110048 0.51196172 0.53110048 0.53907496 0.53189793]\n",
            "average accuracy: 0.5290271132376395, variance: 8.180520897720594e-05\n",
            "macro_avg_baseDT: [0.42696032 0.44552797 0.47260619 0.52063689 0.42975505]\n",
            "average macro-average F1: 0.45909728351157514, variance: 0.0012094980868543352\n",
            "weighted_avg_baseDT: [0.43533775 0.45020595 0.48186166 0.51022909 0.43783671]\n",
            "average weighted-average F1: 0.46309422878121964, variance: 0.0008296767900861486\n"
          ]
        }
      ]
    },
    {
      "cell_type": "code",
      "source": [
        "# print the performance result to outputfile\n",
        "print('\\n(E) The result after 5 times of train-test repetition:' ,file = outputFile)\n",
        "print(f'average accuracy: {Avg_accuracy}, variance: {accuracy_variance}', file = outputFile)\n",
        "print(f'average macro-average F1: {Avg_macro_avg}, variance: {f1_macro_variance}', file = outputFile)\n",
        "print(f'average weighted-average F1: {Avg_weighted_avg}, variance: {f1_weighted_variance}', file = outputFile)\n",
        "outputFile.flush()"
      ],
      "metadata": {
        "id": "6BXzFhCxZ8s1"
      },
      "execution_count": 125,
      "outputs": []
    },
    {
      "cell_type": "markdown",
      "source": [
        "##### Classifier 2 - Top-DT"
      ],
      "metadata": {
        "id": "ZbIYwUPH2zO6"
      }
    },
    {
      "cell_type": "code",
      "source": [
        "# Top Decision Tree - decision tree using gridsearch(hyperparameter search)\n",
        "from sklearn.model_selection import GridSearchCV\n",
        "\n",
        "parameters = {\n",
        "    'criterion': ['gini', 'entropy'],\n",
        "    'max_depth': [None, 3, 5],\n",
        "    'min_samples_split': [2, 5, 10]\n",
        "}\n",
        "\n",
        "classifier_2 = GridSearchCV(DecisionTreeClassifier(max_depth=3), parameters)\n",
        "classifier_2.fit(X_train, y_train)\n",
        "\n",
        "print(f'best parameters: {classifier_2.best_params_}')"
      ],
      "metadata": {
        "id": "msSsfbO7m2rW",
        "colab": {
          "base_uri": "https://localhost:8080/"
        },
        "outputId": "4524d27b-e196-4435-c943-ce1a0d129906"
      },
      "execution_count": 126,
      "outputs": [
        {
          "output_type": "stream",
          "name": "stdout",
          "text": [
            "best parameters: {'criterion': 'gini', 'max_depth': 5, 'min_samples_split': 2}\n"
          ]
        }
      ]
    },
    {
      "cell_type": "code",
      "source": [
        "abalone_class = data_abalone.columns[0]\n",
        "abalone_features = list(data_abalone.columns[1:])"
      ],
      "metadata": {
        "id": "6AYbwpuhBO2m"
      },
      "execution_count": 128,
      "outputs": []
    },
    {
      "cell_type": "code",
      "source": [
        "from sklearn.tree import export_graphviz\n",
        "from IPython.display import display\n",
        "\n",
        "dot_data = export_graphviz(classifier_2.best_estimator_,\n",
        "                          feature_names=abalone_features,\n",
        "                          class_names=abalone_class,\n",
        "                          filled=True, rounded=True,\n",
        "                          special_characters=True)\n",
        "\n",
        "graph = graphviz.Source(dot_data)\n",
        "display(graph)"
      ],
      "metadata": {
        "id": "fGFf6Sbj8BW-",
        "outputId": "869f565b-31a5-49c9-8a10-6cb7c5bd9824",
        "colab": {
          "base_uri": "https://localhost:8080/",
          "height": 937
        }
      },
      "execution_count": 129,
      "outputs": [
        {
          "output_type": "display_data",
          "data": {
            "image/svg+xml": "<?xml version=\"1.0\" encoding=\"UTF-8\" standalone=\"no\"?>\n<!DOCTYPE svg PUBLIC \"-//W3C//DTD SVG 1.1//EN\"\n \"http://www.w3.org/Graphics/SVG/1.1/DTD/svg11.dtd\">\n<!-- Generated by graphviz version 2.43.0 (0)\n -->\n<!-- Title: Tree Pages: 1 -->\n<svg width=\"4218pt\" height=\"671pt\"\n viewBox=\"0.00 0.00 4218.00 671.00\" xmlns=\"http://www.w3.org/2000/svg\" xmlns:xlink=\"http://www.w3.org/1999/xlink\">\n<g id=\"graph0\" class=\"graph\" transform=\"scale(1 1) rotate(0) translate(4 667)\">\n<title>Tree</title>\n<polygon fill=\"white\" stroke=\"transparent\" points=\"-4,4 -4,-667 4214,-667 4214,4 -4,4\"/>\n<!-- 0 -->\n<g id=\"node1\" class=\"node\">\n<title>0</title>\n<path fill=\"#f7f2fd\" stroke=\"black\" d=\"M2351,-663C2351,-663 2213,-663 2213,-663 2207,-663 2201,-657 2201,-651 2201,-651 2201,-592 2201,-592 2201,-586 2207,-580 2213,-580 2213,-580 2351,-580 2351,-580 2357,-580 2363,-586 2363,-592 2363,-592 2363,-651 2363,-651 2363,-657 2357,-663 2351,-663\"/>\n<text text-anchor=\"start\" x=\"2214.5\" y=\"-647.8\" font-family=\"Helvetica,sans-Serif\" font-size=\"14.00\">WholeWeight ≤ &#45;0.408</text>\n<text text-anchor=\"start\" x=\"2246.5\" y=\"-632.8\" font-family=\"Helvetica,sans-Serif\" font-size=\"14.00\">gini = 0.665</text>\n<text text-anchor=\"start\" x=\"2233.5\" y=\"-617.8\" font-family=\"Helvetica,sans-Serif\" font-size=\"14.00\">samples = 2923</text>\n<text text-anchor=\"start\" x=\"2209\" y=\"-602.8\" font-family=\"Helvetica,sans-Serif\" font-size=\"14.00\">value = [910, 943, 1070]</text>\n<text text-anchor=\"start\" x=\"2254.5\" y=\"-587.8\" font-family=\"Helvetica,sans-Serif\" font-size=\"14.00\">class = p</text>\n</g>\n<!-- 1 -->\n<g id=\"node2\" class=\"node\">\n<title>1</title>\n<path fill=\"#93f1ba\" stroke=\"black\" d=\"M1789.5,-544C1789.5,-544 1658.5,-544 1658.5,-544 1652.5,-544 1646.5,-538 1646.5,-532 1646.5,-532 1646.5,-473 1646.5,-473 1646.5,-467 1652.5,-461 1658.5,-461 1658.5,-461 1789.5,-461 1789.5,-461 1795.5,-461 1801.5,-467 1801.5,-473 1801.5,-473 1801.5,-532 1801.5,-532 1801.5,-538 1795.5,-544 1789.5,-544\"/>\n<text text-anchor=\"start\" x=\"1680\" y=\"-528.8\" font-family=\"Helvetica,sans-Serif\" font-size=\"14.00\">Rings ≤ &#45;0.445</text>\n<text text-anchor=\"start\" x=\"1688.5\" y=\"-513.8\" font-family=\"Helvetica,sans-Serif\" font-size=\"14.00\">gini = 0.523</text>\n<text text-anchor=\"start\" x=\"1675.5\" y=\"-498.8\" font-family=\"Helvetica,sans-Serif\" font-size=\"14.00\">samples = 1156</text>\n<text text-anchor=\"start\" x=\"1654.5\" y=\"-483.8\" font-family=\"Helvetica,sans-Serif\" font-size=\"14.00\">value = [176, 741, 239]</text>\n<text text-anchor=\"start\" x=\"1697\" y=\"-468.8\" font-family=\"Helvetica,sans-Serif\" font-size=\"14.00\">class = y</text>\n</g>\n<!-- 0&#45;&gt;1 -->\n<g id=\"edge1\" class=\"edge\">\n<title>0&#45;&gt;1</title>\n<path fill=\"none\" stroke=\"black\" d=\"M2200.86,-603.49C2097.2,-581.75 1918.47,-544.28 1811.74,-521.9\"/>\n<polygon fill=\"black\" stroke=\"black\" points=\"1812.14,-518.41 1801.64,-519.78 1810.71,-525.26 1812.14,-518.41\"/>\n<text text-anchor=\"middle\" x=\"1815.31\" y=\"-537.01\" font-family=\"Helvetica,sans-Serif\" font-size=\"14.00\">True</text>\n</g>\n<!-- 32 -->\n<g id=\"node33\" class=\"node\">\n<title>32</title>\n<path fill=\"#f3ecfd\" stroke=\"black\" d=\"M2624.5,-544C2624.5,-544 2493.5,-544 2493.5,-544 2487.5,-544 2481.5,-538 2481.5,-532 2481.5,-532 2481.5,-473 2481.5,-473 2481.5,-467 2487.5,-461 2493.5,-461 2493.5,-461 2624.5,-461 2624.5,-461 2630.5,-461 2636.5,-467 2636.5,-473 2636.5,-473 2636.5,-532 2636.5,-532 2636.5,-538 2630.5,-544 2624.5,-544\"/>\n<text text-anchor=\"start\" x=\"2494\" y=\"-528.8\" font-family=\"Helvetica,sans-Serif\" font-size=\"14.00\">WholeWeight ≤ 0.093</text>\n<text text-anchor=\"start\" x=\"2523.5\" y=\"-513.8\" font-family=\"Helvetica,sans-Serif\" font-size=\"14.00\">gini = 0.593</text>\n<text text-anchor=\"start\" x=\"2510.5\" y=\"-498.8\" font-family=\"Helvetica,sans-Serif\" font-size=\"14.00\">samples = 1767</text>\n<text text-anchor=\"start\" x=\"2489.5\" y=\"-483.8\" font-family=\"Helvetica,sans-Serif\" font-size=\"14.00\">value = [734, 202, 831]</text>\n<text text-anchor=\"start\" x=\"2531.5\" y=\"-468.8\" font-family=\"Helvetica,sans-Serif\" font-size=\"14.00\">class = p</text>\n</g>\n<!-- 0&#45;&gt;32 -->\n<g id=\"edge32\" class=\"edge\">\n<title>0&#45;&gt;32</title>\n<path fill=\"none\" stroke=\"black\" d=\"M2363.24,-586.19C2397.24,-571.83 2436.82,-555.11 2471.47,-540.47\"/>\n<polygon fill=\"black\" stroke=\"black\" points=\"2473.25,-543.52 2481.1,-536.4 2470.52,-537.07 2473.25,-543.52\"/>\n<text text-anchor=\"middle\" x=\"2471.69\" y=\"-555.87\" font-family=\"Helvetica,sans-Serif\" font-size=\"14.00\">False</text>\n</g>\n<!-- 2 -->\n<g id=\"node3\" class=\"node\">\n<title>2</title>\n<path fill=\"#6ceca1\" stroke=\"black\" d=\"M920.5,-425C920.5,-425 797.5,-425 797.5,-425 791.5,-425 785.5,-419 785.5,-413 785.5,-413 785.5,-354 785.5,-354 785.5,-348 791.5,-342 797.5,-342 797.5,-342 920.5,-342 920.5,-342 926.5,-342 932.5,-348 932.5,-354 932.5,-354 932.5,-413 932.5,-413 932.5,-419 926.5,-425 920.5,-425\"/>\n<text text-anchor=\"start\" x=\"796\" y=\"-409.8\" font-family=\"Helvetica,sans-Serif\" font-size=\"14.00\">ShellWeight ≤ &#45;0.805</text>\n<text text-anchor=\"start\" x=\"823.5\" y=\"-394.8\" font-family=\"Helvetica,sans-Serif\" font-size=\"14.00\">gini = 0.365</text>\n<text text-anchor=\"start\" x=\"814\" y=\"-379.8\" font-family=\"Helvetica,sans-Serif\" font-size=\"14.00\">samples = 787</text>\n<text text-anchor=\"start\" x=\"793.5\" y=\"-364.8\" font-family=\"Helvetica,sans-Serif\" font-size=\"14.00\">value = [58, 614, 115]</text>\n<text text-anchor=\"start\" x=\"832\" y=\"-349.8\" font-family=\"Helvetica,sans-Serif\" font-size=\"14.00\">class = y</text>\n</g>\n<!-- 1&#45;&gt;2 -->\n<g id=\"edge2\" class=\"edge\">\n<title>1&#45;&gt;2</title>\n<path fill=\"none\" stroke=\"black\" d=\"M1646.48,-491.01C1484.23,-469.07 1110.1,-418.46 942.66,-395.82\"/>\n<polygon fill=\"black\" stroke=\"black\" points=\"943.04,-392.34 932.66,-394.46 942.1,-399.27 943.04,-392.34\"/>\n</g>\n<!-- 17 -->\n<g id=\"node18\" class=\"node\">\n<title>17</title>\n<path fill=\"#fdfffd\" stroke=\"black\" d=\"M1789.5,-425C1789.5,-425 1658.5,-425 1658.5,-425 1652.5,-425 1646.5,-419 1646.5,-413 1646.5,-413 1646.5,-354 1646.5,-354 1646.5,-348 1652.5,-342 1658.5,-342 1658.5,-342 1789.5,-342 1789.5,-342 1795.5,-342 1801.5,-348 1801.5,-354 1801.5,-354 1801.5,-413 1801.5,-413 1801.5,-419 1795.5,-425 1789.5,-425\"/>\n<text text-anchor=\"start\" x=\"1658\" y=\"-409.8\" font-family=\"Helvetica,sans-Serif\" font-size=\"14.00\">LongestShell ≤ &#45;0.096</text>\n<text text-anchor=\"start\" x=\"1688.5\" y=\"-394.8\" font-family=\"Helvetica,sans-Serif\" font-size=\"14.00\">gini = 0.666</text>\n<text text-anchor=\"start\" x=\"1679\" y=\"-379.8\" font-family=\"Helvetica,sans-Serif\" font-size=\"14.00\">samples = 369</text>\n<text text-anchor=\"start\" x=\"1654.5\" y=\"-364.8\" font-family=\"Helvetica,sans-Serif\" font-size=\"14.00\">value = [118, 127, 124]</text>\n<text text-anchor=\"start\" x=\"1697\" y=\"-349.8\" font-family=\"Helvetica,sans-Serif\" font-size=\"14.00\">class = y</text>\n</g>\n<!-- 1&#45;&gt;17 -->\n<g id=\"edge17\" class=\"edge\">\n<title>1&#45;&gt;17</title>\n<path fill=\"none\" stroke=\"black\" d=\"M1724,-460.91C1724,-452.65 1724,-443.86 1724,-435.3\"/>\n<polygon fill=\"black\" stroke=\"black\" points=\"1727.5,-435.02 1724,-425.02 1720.5,-435.02 1727.5,-435.02\"/>\n</g>\n<!-- 3 -->\n<g id=\"node4\" class=\"node\">\n<title>3</title>\n<path fill=\"#5eea98\" stroke=\"black\" d=\"M502,-306C502,-306 386,-306 386,-306 380,-306 374,-300 374,-294 374,-294 374,-235 374,-235 374,-229 380,-223 386,-223 386,-223 502,-223 502,-223 508,-223 514,-229 514,-235 514,-235 514,-294 514,-294 514,-300 508,-306 502,-306\"/>\n<text text-anchor=\"start\" x=\"397.5\" y=\"-290.8\" font-family=\"Helvetica,sans-Serif\" font-size=\"14.00\">Height ≤ &#45;0.646</text>\n<text text-anchor=\"start\" x=\"408.5\" y=\"-275.8\" font-family=\"Helvetica,sans-Serif\" font-size=\"14.00\">gini = 0.286</text>\n<text text-anchor=\"start\" x=\"399\" y=\"-260.8\" font-family=\"Helvetica,sans-Serif\" font-size=\"14.00\">samples = 583</text>\n<text text-anchor=\"start\" x=\"382\" y=\"-245.8\" font-family=\"Helvetica,sans-Serif\" font-size=\"14.00\">value = [28, 487, 68]</text>\n<text text-anchor=\"start\" x=\"417\" y=\"-230.8\" font-family=\"Helvetica,sans-Serif\" font-size=\"14.00\">class = y</text>\n</g>\n<!-- 2&#45;&gt;3 -->\n<g id=\"edge3\" class=\"edge\">\n<title>2&#45;&gt;3</title>\n<path fill=\"none\" stroke=\"black\" d=\"M785.28,-361.72C711.95,-341.04 599.74,-309.41 524.21,-288.11\"/>\n<polygon fill=\"black\" stroke=\"black\" points=\"524.84,-284.65 514.26,-285.31 522.94,-291.39 524.84,-284.65\"/>\n</g>\n<!-- 10 -->\n<g id=\"node11\" class=\"node\">\n<title>10</title>\n<path fill=\"#9af2bf\" stroke=\"black\" d=\"M921,-306C921,-306 797,-306 797,-306 791,-306 785,-300 785,-294 785,-294 785,-235 785,-235 785,-229 791,-223 797,-223 797,-223 921,-223 921,-223 927,-223 933,-229 933,-235 933,-235 933,-294 933,-294 933,-300 927,-306 921,-306\"/>\n<text text-anchor=\"start\" x=\"793\" y=\"-290.8\" font-family=\"Helvetica,sans-Serif\" font-size=\"14.00\">LongestShell ≤ &#45;0.429</text>\n<text text-anchor=\"start\" x=\"823.5\" y=\"-275.8\" font-family=\"Helvetica,sans-Serif\" font-size=\"14.00\">gini = 0.538</text>\n<text text-anchor=\"start\" x=\"814\" y=\"-260.8\" font-family=\"Helvetica,sans-Serif\" font-size=\"14.00\">samples = 204</text>\n<text text-anchor=\"start\" x=\"797\" y=\"-245.8\" font-family=\"Helvetica,sans-Serif\" font-size=\"14.00\">value = [30, 127, 47]</text>\n<text text-anchor=\"start\" x=\"832\" y=\"-230.8\" font-family=\"Helvetica,sans-Serif\" font-size=\"14.00\">class = y</text>\n</g>\n<!-- 2&#45;&gt;10 -->\n<g id=\"edge10\" class=\"edge\">\n<title>2&#45;&gt;10</title>\n<path fill=\"none\" stroke=\"black\" d=\"M859,-341.91C859,-333.65 859,-324.86 859,-316.3\"/>\n<polygon fill=\"black\" stroke=\"black\" points=\"862.5,-316.02 859,-306.02 855.5,-316.02 862.5,-316.02\"/>\n</g>\n<!-- 4 -->\n<g id=\"node5\" class=\"node\">\n<title>4</title>\n<path fill=\"#59e996\" stroke=\"black\" d=\"M286,-187C286,-187 162,-187 162,-187 156,-187 150,-181 150,-175 150,-175 150,-116 150,-116 150,-110 156,-104 162,-104 162,-104 286,-104 286,-104 292,-104 298,-110 298,-116 298,-116 298,-175 298,-175 298,-181 292,-187 286,-187\"/>\n<text text-anchor=\"start\" x=\"158\" y=\"-171.8\" font-family=\"Helvetica,sans-Serif\" font-size=\"14.00\">LongestShell ≤ &#45;1.137</text>\n<text text-anchor=\"start\" x=\"188.5\" y=\"-156.8\" font-family=\"Helvetica,sans-Serif\" font-size=\"14.00\">gini = 0.257</text>\n<text text-anchor=\"start\" x=\"179\" y=\"-141.8\" font-family=\"Helvetica,sans-Serif\" font-size=\"14.00\">samples = 523</text>\n<text text-anchor=\"start\" x=\"162\" y=\"-126.8\" font-family=\"Helvetica,sans-Serif\" font-size=\"14.00\">value = [20, 447, 56]</text>\n<text text-anchor=\"start\" x=\"197\" y=\"-111.8\" font-family=\"Helvetica,sans-Serif\" font-size=\"14.00\">class = y</text>\n</g>\n<!-- 3&#45;&gt;4 -->\n<g id=\"edge4\" class=\"edge\">\n<title>3&#45;&gt;4</title>\n<path fill=\"none\" stroke=\"black\" d=\"M373.79,-226.16C352.57,-214.87 329.06,-202.37 307.09,-190.69\"/>\n<polygon fill=\"black\" stroke=\"black\" points=\"308.57,-187.51 298.1,-185.91 305.28,-193.69 308.57,-187.51\"/>\n</g>\n<!-- 7 -->\n<g id=\"node8\" class=\"node\">\n<title>7</title>\n<path fill=\"#8cf0b6\" stroke=\"black\" d=\"M494.5,-187C494.5,-187 393.5,-187 393.5,-187 387.5,-187 381.5,-181 381.5,-175 381.5,-175 381.5,-116 381.5,-116 381.5,-110 387.5,-104 393.5,-104 393.5,-104 494.5,-104 494.5,-104 500.5,-104 506.5,-110 506.5,-116 506.5,-116 506.5,-175 506.5,-175 506.5,-181 500.5,-187 494.5,-187\"/>\n<text text-anchor=\"start\" x=\"389.5\" y=\"-171.8\" font-family=\"Helvetica,sans-Serif\" font-size=\"14.00\">Diameter ≤ &#45;0.709</text>\n<text text-anchor=\"start\" x=\"408.5\" y=\"-156.8\" font-family=\"Helvetica,sans-Serif\" font-size=\"14.00\">gini = 0.498</text>\n<text text-anchor=\"start\" x=\"403\" y=\"-141.8\" font-family=\"Helvetica,sans-Serif\" font-size=\"14.00\">samples = 60</text>\n<text text-anchor=\"start\" x=\"389.5\" y=\"-126.8\" font-family=\"Helvetica,sans-Serif\" font-size=\"14.00\">value = [8, 40, 12]</text>\n<text text-anchor=\"start\" x=\"417\" y=\"-111.8\" font-family=\"Helvetica,sans-Serif\" font-size=\"14.00\">class = y</text>\n</g>\n<!-- 3&#45;&gt;7 -->\n<g id=\"edge7\" class=\"edge\">\n<title>3&#45;&gt;7</title>\n<path fill=\"none\" stroke=\"black\" d=\"M444,-222.91C444,-214.65 444,-205.86 444,-197.3\"/>\n<polygon fill=\"black\" stroke=\"black\" points=\"447.5,-197.02 444,-187.02 440.5,-197.02 447.5,-197.02\"/>\n</g>\n<!-- 5 -->\n<g id=\"node6\" class=\"node\">\n<title>5</title>\n<path fill=\"#61ea9a\" stroke=\"black\" d=\"M128,-68C128,-68 12,-68 12,-68 6,-68 0,-62 0,-56 0,-56 0,-12 0,-12 0,-6 6,0 12,0 12,0 128,0 128,0 134,0 140,-6 140,-12 140,-12 140,-56 140,-56 140,-62 134,-68 128,-68\"/>\n<text text-anchor=\"start\" x=\"42\" y=\"-52.8\" font-family=\"Helvetica,sans-Serif\" font-size=\"14.00\">gini = 0.3</text>\n<text text-anchor=\"start\" x=\"25\" y=\"-37.8\" font-family=\"Helvetica,sans-Serif\" font-size=\"14.00\">samples = 355</text>\n<text text-anchor=\"start\" x=\"8\" y=\"-22.8\" font-family=\"Helvetica,sans-Serif\" font-size=\"14.00\">value = [16, 293, 46]</text>\n<text text-anchor=\"start\" x=\"43\" y=\"-7.8\" font-family=\"Helvetica,sans-Serif\" font-size=\"14.00\">class = y</text>\n</g>\n<!-- 4&#45;&gt;5 -->\n<g id=\"edge5\" class=\"edge\">\n<title>4&#45;&gt;5</title>\n<path fill=\"none\" stroke=\"black\" d=\"M166.66,-103.73C153.06,-94.06 138.59,-83.77 125.09,-74.17\"/>\n<polygon fill=\"black\" stroke=\"black\" points=\"127.01,-71.24 116.83,-68.3 122.95,-76.95 127.01,-71.24\"/>\n</g>\n<!-- 6 -->\n<g id=\"node7\" class=\"node\">\n<title>6</title>\n<path fill=\"#4be78c\" stroke=\"black\" d=\"M278,-68C278,-68 170,-68 170,-68 164,-68 158,-62 158,-56 158,-56 158,-12 158,-12 158,-6 164,0 170,0 170,0 278,0 278,0 284,0 290,-6 290,-12 290,-12 290,-56 290,-56 290,-62 284,-68 278,-68\"/>\n<text text-anchor=\"start\" x=\"188.5\" y=\"-52.8\" font-family=\"Helvetica,sans-Serif\" font-size=\"14.00\">gini = 0.156</text>\n<text text-anchor=\"start\" x=\"179\" y=\"-37.8\" font-family=\"Helvetica,sans-Serif\" font-size=\"14.00\">samples = 168</text>\n<text text-anchor=\"start\" x=\"166\" y=\"-22.8\" font-family=\"Helvetica,sans-Serif\" font-size=\"14.00\">value = [4, 154, 10]</text>\n<text text-anchor=\"start\" x=\"197\" y=\"-7.8\" font-family=\"Helvetica,sans-Serif\" font-size=\"14.00\">class = y</text>\n</g>\n<!-- 4&#45;&gt;6 -->\n<g id=\"edge6\" class=\"edge\">\n<title>4&#45;&gt;6</title>\n<path fill=\"none\" stroke=\"black\" d=\"M224,-103.73C224,-95.52 224,-86.86 224,-78.56\"/>\n<polygon fill=\"black\" stroke=\"black\" points=\"227.5,-78.3 224,-68.3 220.5,-78.3 227.5,-78.3\"/>\n</g>\n<!-- 8 -->\n<g id=\"node9\" class=\"node\">\n<title>8</title>\n<path fill=\"#aef4cc\" stroke=\"black\" d=\"M421.5,-68C421.5,-68 320.5,-68 320.5,-68 314.5,-68 308.5,-62 308.5,-56 308.5,-56 308.5,-12 308.5,-12 308.5,-6 314.5,0 320.5,0 320.5,0 421.5,0 421.5,0 427.5,0 433.5,-6 433.5,-12 433.5,-12 433.5,-56 433.5,-56 433.5,-62 427.5,-68 421.5,-68\"/>\n<text text-anchor=\"start\" x=\"335.5\" y=\"-52.8\" font-family=\"Helvetica,sans-Serif\" font-size=\"14.00\">gini = 0.579</text>\n<text text-anchor=\"start\" x=\"330\" y=\"-37.8\" font-family=\"Helvetica,sans-Serif\" font-size=\"14.00\">samples = 37</text>\n<text text-anchor=\"start\" x=\"316.5\" y=\"-22.8\" font-family=\"Helvetica,sans-Serif\" font-size=\"14.00\">value = [6, 21, 10]</text>\n<text text-anchor=\"start\" x=\"344\" y=\"-7.8\" font-family=\"Helvetica,sans-Serif\" font-size=\"14.00\">class = y</text>\n</g>\n<!-- 7&#45;&gt;8 -->\n<g id=\"edge8\" class=\"edge\">\n<title>7&#45;&gt;8</title>\n<path fill=\"none\" stroke=\"black\" d=\"M416.82,-103.73C410.92,-94.88 404.67,-85.51 398.75,-76.63\"/>\n<polygon fill=\"black\" stroke=\"black\" points=\"401.66,-74.68 393.2,-68.3 395.83,-78.56 401.66,-74.68\"/>\n</g>\n<!-- 9 -->\n<g id=\"node10\" class=\"node\">\n<title>9</title>\n<path fill=\"#5fea99\" stroke=\"black\" d=\"M556.5,-68C556.5,-68 463.5,-68 463.5,-68 457.5,-68 451.5,-62 451.5,-56 451.5,-56 451.5,-12 451.5,-12 451.5,-6 457.5,0 463.5,0 463.5,0 556.5,0 556.5,0 562.5,0 568.5,-6 568.5,-12 568.5,-12 568.5,-56 568.5,-56 568.5,-62 562.5,-68 556.5,-68\"/>\n<text text-anchor=\"start\" x=\"474.5\" y=\"-52.8\" font-family=\"Helvetica,sans-Serif\" font-size=\"14.00\">gini = 0.302</text>\n<text text-anchor=\"start\" x=\"469\" y=\"-37.8\" font-family=\"Helvetica,sans-Serif\" font-size=\"14.00\">samples = 23</text>\n<text text-anchor=\"start\" x=\"459.5\" y=\"-22.8\" font-family=\"Helvetica,sans-Serif\" font-size=\"14.00\">value = [2, 19, 2]</text>\n<text text-anchor=\"start\" x=\"483\" y=\"-7.8\" font-family=\"Helvetica,sans-Serif\" font-size=\"14.00\">class = y</text>\n</g>\n<!-- 7&#45;&gt;9 -->\n<g id=\"edge9\" class=\"edge\">\n<title>7&#45;&gt;9</title>\n<path fill=\"none\" stroke=\"black\" d=\"M468.58,-103.73C473.85,-94.97 479.44,-85.7 484.74,-76.91\"/>\n<polygon fill=\"black\" stroke=\"black\" points=\"487.76,-78.67 489.93,-68.3 481.77,-75.06 487.76,-78.67\"/>\n</g>\n<!-- 11 -->\n<g id=\"node12\" class=\"node\">\n<title>11</title>\n<path fill=\"#e3fbed\" stroke=\"black\" d=\"M836.5,-187C836.5,-187 703.5,-187 703.5,-187 697.5,-187 691.5,-181 691.5,-175 691.5,-175 691.5,-116 691.5,-116 691.5,-110 697.5,-104 703.5,-104 703.5,-104 836.5,-104 836.5,-104 842.5,-104 848.5,-110 848.5,-116 848.5,-116 848.5,-175 848.5,-175 848.5,-181 842.5,-187 836.5,-187\"/>\n<text text-anchor=\"start\" x=\"699.5\" y=\"-171.8\" font-family=\"Helvetica,sans-Serif\" font-size=\"14.00\">VisceraWeight ≤ &#45;0.856</text>\n<text text-anchor=\"start\" x=\"734.5\" y=\"-156.8\" font-family=\"Helvetica,sans-Serif\" font-size=\"14.00\">gini = 0.644</text>\n<text text-anchor=\"start\" x=\"729\" y=\"-141.8\" font-family=\"Helvetica,sans-Serif\" font-size=\"14.00\">samples = 76</text>\n<text text-anchor=\"start\" x=\"712\" y=\"-126.8\" font-family=\"Helvetica,sans-Serif\" font-size=\"14.00\">value = [17, 33, 26]</text>\n<text text-anchor=\"start\" x=\"743\" y=\"-111.8\" font-family=\"Helvetica,sans-Serif\" font-size=\"14.00\">class = y</text>\n</g>\n<!-- 10&#45;&gt;11 -->\n<g id=\"edge11\" class=\"edge\">\n<title>10&#45;&gt;11</title>\n<path fill=\"none\" stroke=\"black\" d=\"M828.12,-222.91C821.29,-213.92 813.98,-204.32 806.93,-195.05\"/>\n<polygon fill=\"black\" stroke=\"black\" points=\"809.66,-192.86 800.82,-187.02 804.09,-197.1 809.66,-192.86\"/>\n</g>\n<!-- 14 -->\n<g id=\"node15\" class=\"node\">\n<title>14</title>\n<path fill=\"#78eda9\" stroke=\"black\" d=\"M1019,-187C1019,-187 879,-187 879,-187 873,-187 867,-181 867,-175 867,-175 867,-116 867,-116 867,-110 873,-104 879,-104 879,-104 1019,-104 1019,-104 1025,-104 1031,-110 1031,-116 1031,-116 1031,-175 1031,-175 1031,-181 1025,-187 1019,-187\"/>\n<text text-anchor=\"start\" x=\"875\" y=\"-171.8\" font-family=\"Helvetica,sans-Serif\" font-size=\"14.00\">ShuckedWeight ≤ &#45;0.628</text>\n<text text-anchor=\"start\" x=\"913.5\" y=\"-156.8\" font-family=\"Helvetica,sans-Serif\" font-size=\"14.00\">gini = 0.423</text>\n<text text-anchor=\"start\" x=\"904\" y=\"-141.8\" font-family=\"Helvetica,sans-Serif\" font-size=\"14.00\">samples = 128</text>\n<text text-anchor=\"start\" x=\"891\" y=\"-126.8\" font-family=\"Helvetica,sans-Serif\" font-size=\"14.00\">value = [13, 94, 21]</text>\n<text text-anchor=\"start\" x=\"922\" y=\"-111.8\" font-family=\"Helvetica,sans-Serif\" font-size=\"14.00\">class = y</text>\n</g>\n<!-- 10&#45;&gt;14 -->\n<g id=\"edge14\" class=\"edge\">\n<title>10&#45;&gt;14</title>\n<path fill=\"none\" stroke=\"black\" d=\"M890.23,-222.91C897.14,-213.92 904.53,-204.32 911.65,-195.05\"/>\n<polygon fill=\"black\" stroke=\"black\" points=\"914.51,-197.08 917.83,-187.02 908.96,-192.81 914.51,-197.08\"/>\n</g>\n<!-- 12 -->\n<g id=\"node13\" class=\"node\">\n<title>12</title>\n<path fill=\"#72eca5\" stroke=\"black\" d=\"M691.5,-68C691.5,-68 598.5,-68 598.5,-68 592.5,-68 586.5,-62 586.5,-56 586.5,-56 586.5,-12 586.5,-12 586.5,-6 592.5,0 598.5,0 598.5,0 691.5,0 691.5,0 697.5,0 703.5,-6 703.5,-12 703.5,-12 703.5,-56 703.5,-56 703.5,-62 697.5,-68 691.5,-68\"/>\n<text text-anchor=\"start\" x=\"609.5\" y=\"-52.8\" font-family=\"Helvetica,sans-Serif\" font-size=\"14.00\">gini = 0.381</text>\n<text text-anchor=\"start\" x=\"604\" y=\"-37.8\" font-family=\"Helvetica,sans-Serif\" font-size=\"14.00\">samples = 17</text>\n<text text-anchor=\"start\" x=\"594.5\" y=\"-22.8\" font-family=\"Helvetica,sans-Serif\" font-size=\"14.00\">value = [1, 13, 3]</text>\n<text text-anchor=\"start\" x=\"618\" y=\"-7.8\" font-family=\"Helvetica,sans-Serif\" font-size=\"14.00\">class = y</text>\n</g>\n<!-- 11&#45;&gt;12 -->\n<g id=\"edge12\" class=\"edge\">\n<title>11&#45;&gt;12</title>\n<path fill=\"none\" stroke=\"black\" d=\"M723.45,-103.73C712.73,-94.33 701.33,-84.35 690.65,-74.99\"/>\n<polygon fill=\"black\" stroke=\"black\" points=\"692.84,-72.26 683.01,-68.3 688.23,-77.52 692.84,-72.26\"/>\n</g>\n<!-- 13 -->\n<g id=\"node14\" class=\"node\">\n<title>13</title>\n<path fill=\"#f5f0fd\" stroke=\"black\" d=\"M842,-68C842,-68 734,-68 734,-68 728,-68 722,-62 722,-56 722,-56 722,-12 722,-12 722,-6 728,0 734,0 734,0 842,0 842,0 848,0 854,-6 854,-12 854,-12 854,-56 854,-56 854,-62 848,-68 842,-68\"/>\n<text text-anchor=\"start\" x=\"756\" y=\"-52.8\" font-family=\"Helvetica,sans-Serif\" font-size=\"14.00\">gini = 0.66</text>\n<text text-anchor=\"start\" x=\"747\" y=\"-37.8\" font-family=\"Helvetica,sans-Serif\" font-size=\"14.00\">samples = 59</text>\n<text text-anchor=\"start\" x=\"730\" y=\"-22.8\" font-family=\"Helvetica,sans-Serif\" font-size=\"14.00\">value = [16, 20, 23]</text>\n<text text-anchor=\"start\" x=\"760.5\" y=\"-7.8\" font-family=\"Helvetica,sans-Serif\" font-size=\"14.00\">class = p</text>\n</g>\n<!-- 11&#45;&gt;13 -->\n<g id=\"edge13\" class=\"edge\">\n<title>11&#45;&gt;13</title>\n<path fill=\"none\" stroke=\"black\" d=\"M776.7,-103.73C778.07,-95.43 779.51,-86.67 780.88,-78.28\"/>\n<polygon fill=\"black\" stroke=\"black\" points=\"784.36,-78.73 782.53,-68.3 777.45,-77.6 784.36,-78.73\"/>\n</g>\n<!-- 15 -->\n<g id=\"node16\" class=\"node\">\n<title>15</title>\n<path fill=\"#47e78a\" stroke=\"black\" d=\"M977.5,-68C977.5,-68 884.5,-68 884.5,-68 878.5,-68 872.5,-62 872.5,-56 872.5,-56 872.5,-12 872.5,-12 872.5,-6 878.5,0 884.5,0 884.5,0 977.5,0 977.5,0 983.5,0 989.5,-6 989.5,-12 989.5,-12 989.5,-56 989.5,-56 989.5,-62 983.5,-68 977.5,-68\"/>\n<text text-anchor=\"start\" x=\"895.5\" y=\"-52.8\" font-family=\"Helvetica,sans-Serif\" font-size=\"14.00\">gini = 0.124</text>\n<text text-anchor=\"start\" x=\"890\" y=\"-37.8\" font-family=\"Helvetica,sans-Serif\" font-size=\"14.00\">samples = 30</text>\n<text text-anchor=\"start\" x=\"880.5\" y=\"-22.8\" font-family=\"Helvetica,sans-Serif\" font-size=\"14.00\">value = [2, 28, 0]</text>\n<text text-anchor=\"start\" x=\"904\" y=\"-7.8\" font-family=\"Helvetica,sans-Serif\" font-size=\"14.00\">class = y</text>\n</g>\n<!-- 14&#45;&gt;15 -->\n<g id=\"edge15\" class=\"edge\">\n<title>14&#45;&gt;15</title>\n<path fill=\"none\" stroke=\"black\" d=\"M942.3,-103.73C940.93,-95.43 939.49,-86.67 938.12,-78.28\"/>\n<polygon fill=\"black\" stroke=\"black\" points=\"941.55,-77.6 936.47,-68.3 934.64,-78.73 941.55,-77.6\"/>\n</g>\n<!-- 16 -->\n<g id=\"node17\" class=\"node\">\n<title>16</title>\n<path fill=\"#8bf0b5\" stroke=\"black\" d=\"M1128,-68C1128,-68 1020,-68 1020,-68 1014,-68 1008,-62 1008,-56 1008,-56 1008,-12 1008,-12 1008,-6 1014,0 1020,0 1020,0 1128,0 1128,0 1134,0 1140,-6 1140,-12 1140,-12 1140,-56 1140,-56 1140,-62 1134,-68 1128,-68\"/>\n<text text-anchor=\"start\" x=\"1038.5\" y=\"-52.8\" font-family=\"Helvetica,sans-Serif\" font-size=\"14.00\">gini = 0.488</text>\n<text text-anchor=\"start\" x=\"1033\" y=\"-37.8\" font-family=\"Helvetica,sans-Serif\" font-size=\"14.00\">samples = 98</text>\n<text text-anchor=\"start\" x=\"1016\" y=\"-22.8\" font-family=\"Helvetica,sans-Serif\" font-size=\"14.00\">value = [11, 66, 21]</text>\n<text text-anchor=\"start\" x=\"1047\" y=\"-7.8\" font-family=\"Helvetica,sans-Serif\" font-size=\"14.00\">class = y</text>\n</g>\n<!-- 14&#45;&gt;16 -->\n<g id=\"edge16\" class=\"edge\">\n<title>14&#45;&gt;16</title>\n<path fill=\"none\" stroke=\"black\" d=\"M995.55,-103.73C1006.27,-94.33 1017.67,-84.35 1028.35,-74.99\"/>\n<polygon fill=\"black\" stroke=\"black\" points=\"1030.77,-77.52 1035.99,-68.3 1026.16,-72.26 1030.77,-77.52\"/>\n</g>\n<!-- 18 -->\n<g id=\"node19\" class=\"node\">\n<title>18</title>\n<path fill=\"#f9f6fe\" stroke=\"black\" d=\"M1681.5,-306C1681.5,-306 1548.5,-306 1548.5,-306 1542.5,-306 1536.5,-300 1536.5,-294 1536.5,-294 1536.5,-235 1536.5,-235 1536.5,-229 1542.5,-223 1548.5,-223 1548.5,-223 1681.5,-223 1681.5,-223 1687.5,-223 1693.5,-229 1693.5,-235 1693.5,-235 1693.5,-294 1693.5,-294 1693.5,-300 1687.5,-306 1681.5,-306\"/>\n<text text-anchor=\"start\" x=\"1544.5\" y=\"-290.8\" font-family=\"Helvetica,sans-Serif\" font-size=\"14.00\">VisceraWeight ≤ &#45;0.687</text>\n<text text-anchor=\"start\" x=\"1579.5\" y=\"-275.8\" font-family=\"Helvetica,sans-Serif\" font-size=\"14.00\">gini = 0.665</text>\n<text text-anchor=\"start\" x=\"1570\" y=\"-260.8\" font-family=\"Helvetica,sans-Serif\" font-size=\"14.00\">samples = 336</text>\n<text text-anchor=\"start\" x=\"1545.5\" y=\"-245.8\" font-family=\"Helvetica,sans-Serif\" font-size=\"14.00\">value = [111, 104, 121]</text>\n<text text-anchor=\"start\" x=\"1587.5\" y=\"-230.8\" font-family=\"Helvetica,sans-Serif\" font-size=\"14.00\">class = p</text>\n</g>\n<!-- 17&#45;&gt;18 -->\n<g id=\"edge18\" class=\"edge\">\n<title>17&#45;&gt;18</title>\n<path fill=\"none\" stroke=\"black\" d=\"M1686.18,-341.91C1677.64,-332.74 1668.5,-322.93 1659.71,-313.49\"/>\n<polygon fill=\"black\" stroke=\"black\" points=\"1662.13,-310.95 1652.75,-306.02 1657.01,-315.72 1662.13,-310.95\"/>\n</g>\n<!-- 25 -->\n<g id=\"node26\" class=\"node\">\n<title>25</title>\n<path fill=\"#85efb1\" stroke=\"black\" d=\"M1879.5,-306C1879.5,-306 1786.5,-306 1786.5,-306 1780.5,-306 1774.5,-300 1774.5,-294 1774.5,-294 1774.5,-235 1774.5,-235 1774.5,-229 1780.5,-223 1786.5,-223 1786.5,-223 1879.5,-223 1879.5,-223 1885.5,-223 1891.5,-229 1891.5,-235 1891.5,-235 1891.5,-294 1891.5,-294 1891.5,-300 1885.5,-306 1879.5,-306\"/>\n<text text-anchor=\"start\" x=\"1791\" y=\"-290.8\" font-family=\"Helvetica,sans-Serif\" font-size=\"14.00\">Rings ≤ 0.796</text>\n<text text-anchor=\"start\" x=\"1797.5\" y=\"-275.8\" font-family=\"Helvetica,sans-Serif\" font-size=\"14.00\">gini = 0.461</text>\n<text text-anchor=\"start\" x=\"1792\" y=\"-260.8\" font-family=\"Helvetica,sans-Serif\" font-size=\"14.00\">samples = 33</text>\n<text text-anchor=\"start\" x=\"1782.5\" y=\"-245.8\" font-family=\"Helvetica,sans-Serif\" font-size=\"14.00\">value = [7, 23, 3]</text>\n<text text-anchor=\"start\" x=\"1806\" y=\"-230.8\" font-family=\"Helvetica,sans-Serif\" font-size=\"14.00\">class = y</text>\n</g>\n<!-- 17&#45;&gt;25 -->\n<g id=\"edge25\" class=\"edge\">\n<title>17&#45;&gt;25</title>\n<path fill=\"none\" stroke=\"black\" d=\"M1761.82,-341.91C1770.36,-332.74 1779.5,-322.93 1788.29,-313.49\"/>\n<polygon fill=\"black\" stroke=\"black\" points=\"1790.99,-315.72 1795.25,-306.02 1785.87,-310.95 1790.99,-315.72\"/>\n</g>\n<!-- 19 -->\n<g id=\"node20\" class=\"node\">\n<title>19</title>\n<path fill=\"#fefdff\" stroke=\"black\" d=\"M1429,-187C1429,-187 1305,-187 1305,-187 1299,-187 1293,-181 1293,-175 1293,-175 1293,-116 1293,-116 1293,-110 1299,-104 1305,-104 1305,-104 1429,-104 1429,-104 1435,-104 1441,-110 1441,-116 1441,-116 1441,-175 1441,-175 1441,-181 1435,-187 1429,-187\"/>\n<text text-anchor=\"start\" x=\"1301\" y=\"-171.8\" font-family=\"Helvetica,sans-Serif\" font-size=\"14.00\">LongestShell ≤ &#45;0.429</text>\n<text text-anchor=\"start\" x=\"1331.5\" y=\"-156.8\" font-family=\"Helvetica,sans-Serif\" font-size=\"14.00\">gini = 0.654</text>\n<text text-anchor=\"start\" x=\"1322\" y=\"-141.8\" font-family=\"Helvetica,sans-Serif\" font-size=\"14.00\">samples = 202</text>\n<text text-anchor=\"start\" x=\"1309\" y=\"-126.8\" font-family=\"Helvetica,sans-Serif\" font-size=\"14.00\">value = [49, 76, 77]</text>\n<text text-anchor=\"start\" x=\"1339.5\" y=\"-111.8\" font-family=\"Helvetica,sans-Serif\" font-size=\"14.00\">class = p</text>\n</g>\n<!-- 18&#45;&gt;19 -->\n<g id=\"edge19\" class=\"edge\">\n<title>18&#45;&gt;19</title>\n<path fill=\"none\" stroke=\"black\" d=\"M1536.19,-226.32C1508.92,-213.45 1478.27,-199 1450.63,-185.95\"/>\n<polygon fill=\"black\" stroke=\"black\" points=\"1451.92,-182.69 1441.38,-181.59 1448.93,-189.02 1451.92,-182.69\"/>\n</g>\n<!-- 22 -->\n<g id=\"node23\" class=\"node\">\n<title>22</title>\n<path fill=\"#fae6d7\" stroke=\"black\" d=\"M1685,-187C1685,-187 1545,-187 1545,-187 1539,-187 1533,-181 1533,-175 1533,-175 1533,-116 1533,-116 1533,-110 1539,-104 1545,-104 1545,-104 1685,-104 1685,-104 1691,-104 1697,-110 1697,-116 1697,-116 1697,-175 1697,-175 1697,-181 1691,-187 1685,-187\"/>\n<text text-anchor=\"start\" x=\"1541\" y=\"-171.8\" font-family=\"Helvetica,sans-Serif\" font-size=\"14.00\">ShuckedWeight ≤ &#45;0.729</text>\n<text text-anchor=\"start\" x=\"1579.5\" y=\"-156.8\" font-family=\"Helvetica,sans-Serif\" font-size=\"14.00\">gini = 0.634</text>\n<text text-anchor=\"start\" x=\"1570\" y=\"-141.8\" font-family=\"Helvetica,sans-Serif\" font-size=\"14.00\">samples = 134</text>\n<text text-anchor=\"start\" x=\"1557\" y=\"-126.8\" font-family=\"Helvetica,sans-Serif\" font-size=\"14.00\">value = [62, 28, 44]</text>\n<text text-anchor=\"start\" x=\"1587.5\" y=\"-111.8\" font-family=\"Helvetica,sans-Serif\" font-size=\"14.00\">class = T</text>\n</g>\n<!-- 18&#45;&gt;22 -->\n<g id=\"edge22\" class=\"edge\">\n<title>18&#45;&gt;22</title>\n<path fill=\"none\" stroke=\"black\" d=\"M1615,-222.91C1615,-214.65 1615,-205.86 1615,-197.3\"/>\n<polygon fill=\"black\" stroke=\"black\" points=\"1618.5,-197.02 1615,-187.02 1611.5,-197.02 1618.5,-197.02\"/>\n</g>\n<!-- 20 -->\n<g id=\"node21\" class=\"node\">\n<title>20</title>\n<path fill=\"#ede3fb\" stroke=\"black\" d=\"M1278,-68C1278,-68 1170,-68 1170,-68 1164,-68 1158,-62 1158,-56 1158,-56 1158,-12 1158,-12 1158,-6 1164,0 1170,0 1170,0 1278,0 1278,0 1284,0 1290,-6 1290,-12 1290,-12 1290,-56 1290,-56 1290,-62 1284,-68 1278,-68\"/>\n<text text-anchor=\"start\" x=\"1188.5\" y=\"-52.8\" font-family=\"Helvetica,sans-Serif\" font-size=\"14.00\">gini = 0.653</text>\n<text text-anchor=\"start\" x=\"1179\" y=\"-37.8\" font-family=\"Helvetica,sans-Serif\" font-size=\"14.00\">samples = 176</text>\n<text text-anchor=\"start\" x=\"1166\" y=\"-22.8\" font-family=\"Helvetica,sans-Serif\" font-size=\"14.00\">value = [45, 57, 74]</text>\n<text text-anchor=\"start\" x=\"1196.5\" y=\"-7.8\" font-family=\"Helvetica,sans-Serif\" font-size=\"14.00\">class = p</text>\n</g>\n<!-- 19&#45;&gt;20 -->\n<g id=\"edge20\" class=\"edge\">\n<title>19&#45;&gt;20</title>\n<path fill=\"none\" stroke=\"black\" d=\"M1313.75,-103.73C1301.25,-94.15 1287.94,-83.96 1275.51,-74.44\"/>\n<polygon fill=\"black\" stroke=\"black\" points=\"1277.55,-71.6 1267.49,-68.3 1273.3,-77.16 1277.55,-71.6\"/>\n</g>\n<!-- 21 -->\n<g id=\"node22\" class=\"node\">\n<title>21</title>\n<path fill=\"#78eda9\" stroke=\"black\" d=\"M1413.5,-68C1413.5,-68 1320.5,-68 1320.5,-68 1314.5,-68 1308.5,-62 1308.5,-56 1308.5,-56 1308.5,-12 1308.5,-12 1308.5,-6 1314.5,0 1320.5,0 1320.5,0 1413.5,0 1413.5,0 1419.5,0 1425.5,-6 1425.5,-12 1425.5,-12 1425.5,-56 1425.5,-56 1425.5,-62 1419.5,-68 1413.5,-68\"/>\n<text text-anchor=\"start\" x=\"1331.5\" y=\"-52.8\" font-family=\"Helvetica,sans-Serif\" font-size=\"14.00\">gini = 0.429</text>\n<text text-anchor=\"start\" x=\"1326\" y=\"-37.8\" font-family=\"Helvetica,sans-Serif\" font-size=\"14.00\">samples = 26</text>\n<text text-anchor=\"start\" x=\"1316.5\" y=\"-22.8\" font-family=\"Helvetica,sans-Serif\" font-size=\"14.00\">value = [4, 19, 3]</text>\n<text text-anchor=\"start\" x=\"1340\" y=\"-7.8\" font-family=\"Helvetica,sans-Serif\" font-size=\"14.00\">class = y</text>\n</g>\n<!-- 19&#45;&gt;21 -->\n<g id=\"edge21\" class=\"edge\">\n<title>19&#45;&gt;21</title>\n<path fill=\"none\" stroke=\"black\" d=\"M1367,-103.73C1367,-95.52 1367,-86.86 1367,-78.56\"/>\n<polygon fill=\"black\" stroke=\"black\" points=\"1370.5,-78.3 1367,-68.3 1363.5,-78.3 1370.5,-78.3\"/>\n</g>\n<!-- 23 -->\n<g id=\"node24\" class=\"node\">\n<title>23</title>\n<path fill=\"#f2be99\" stroke=\"black\" d=\"M1556.5,-68C1556.5,-68 1455.5,-68 1455.5,-68 1449.5,-68 1443.5,-62 1443.5,-56 1443.5,-56 1443.5,-12 1443.5,-12 1443.5,-6 1449.5,0 1455.5,0 1455.5,0 1556.5,0 1556.5,0 1562.5,0 1568.5,-6 1568.5,-12 1568.5,-12 1568.5,-56 1568.5,-56 1568.5,-62 1562.5,-68 1556.5,-68\"/>\n<text text-anchor=\"start\" x=\"1470.5\" y=\"-52.8\" font-family=\"Helvetica,sans-Serif\" font-size=\"14.00\">gini = 0.496</text>\n<text text-anchor=\"start\" x=\"1465\" y=\"-37.8\" font-family=\"Helvetica,sans-Serif\" font-size=\"14.00\">samples = 40</text>\n<text text-anchor=\"start\" x=\"1451.5\" y=\"-22.8\" font-family=\"Helvetica,sans-Serif\" font-size=\"14.00\">value = [26, 3, 11]</text>\n<text text-anchor=\"start\" x=\"1478.5\" y=\"-7.8\" font-family=\"Helvetica,sans-Serif\" font-size=\"14.00\">class = T</text>\n</g>\n<!-- 22&#45;&gt;23 -->\n<g id=\"edge23\" class=\"edge\">\n<title>22&#45;&gt;23</title>\n<path fill=\"none\" stroke=\"black\" d=\"M1574.41,-103.73C1565.24,-94.51 1555.51,-84.74 1546.35,-75.53\"/>\n<polygon fill=\"black\" stroke=\"black\" points=\"1548.68,-72.92 1539.15,-68.3 1543.72,-77.86 1548.68,-72.92\"/>\n</g>\n<!-- 24 -->\n<g id=\"node25\" class=\"node\">\n<title>24</title>\n<path fill=\"#fef9f5\" stroke=\"black\" d=\"M1707,-68C1707,-68 1599,-68 1599,-68 1593,-68 1587,-62 1587,-56 1587,-56 1587,-12 1587,-12 1587,-6 1593,0 1599,0 1599,0 1707,0 1707,0 1713,0 1719,-6 1719,-12 1719,-12 1719,-56 1719,-56 1719,-62 1713,-68 1707,-68\"/>\n<text text-anchor=\"start\" x=\"1617.5\" y=\"-52.8\" font-family=\"Helvetica,sans-Serif\" font-size=\"14.00\">gini = 0.659</text>\n<text text-anchor=\"start\" x=\"1612\" y=\"-37.8\" font-family=\"Helvetica,sans-Serif\" font-size=\"14.00\">samples = 94</text>\n<text text-anchor=\"start\" x=\"1595\" y=\"-22.8\" font-family=\"Helvetica,sans-Serif\" font-size=\"14.00\">value = [36, 25, 33]</text>\n<text text-anchor=\"start\" x=\"1625.5\" y=\"-7.8\" font-family=\"Helvetica,sans-Serif\" font-size=\"14.00\">class = T</text>\n</g>\n<!-- 22&#45;&gt;24 -->\n<g id=\"edge24\" class=\"edge\">\n<title>22&#45;&gt;24</title>\n<path fill=\"none\" stroke=\"black\" d=\"M1629.15,-103.73C1632.06,-95.34 1635.14,-86.47 1638.08,-78.01\"/>\n<polygon fill=\"black\" stroke=\"black\" points=\"1641.47,-78.89 1641.44,-68.3 1634.86,-76.6 1641.47,-78.89\"/>\n</g>\n<!-- 26 -->\n<g id=\"node27\" class=\"node\">\n<title>26</title>\n<path fill=\"#6beca0\" stroke=\"black\" d=\"M1903,-187C1903,-187 1763,-187 1763,-187 1757,-187 1751,-181 1751,-175 1751,-175 1751,-116 1751,-116 1751,-110 1757,-104 1763,-104 1763,-104 1903,-104 1903,-104 1909,-104 1915,-110 1915,-116 1915,-116 1915,-175 1915,-175 1915,-181 1909,-187 1903,-187\"/>\n<text text-anchor=\"start\" x=\"1759\" y=\"-171.8\" font-family=\"Helvetica,sans-Serif\" font-size=\"14.00\">ShuckedWeight ≤ &#45;0.229</text>\n<text text-anchor=\"start\" x=\"1797.5\" y=\"-156.8\" font-family=\"Helvetica,sans-Serif\" font-size=\"14.00\">gini = 0.357</text>\n<text text-anchor=\"start\" x=\"1792\" y=\"-141.8\" font-family=\"Helvetica,sans-Serif\" font-size=\"14.00\">samples = 28</text>\n<text text-anchor=\"start\" x=\"1782.5\" y=\"-126.8\" font-family=\"Helvetica,sans-Serif\" font-size=\"14.00\">value = [4, 22, 2]</text>\n<text text-anchor=\"start\" x=\"1806\" y=\"-111.8\" font-family=\"Helvetica,sans-Serif\" font-size=\"14.00\">class = y</text>\n</g>\n<!-- 25&#45;&gt;26 -->\n<g id=\"edge26\" class=\"edge\">\n<title>25&#45;&gt;26</title>\n<path fill=\"none\" stroke=\"black\" d=\"M1833,-222.91C1833,-214.65 1833,-205.86 1833,-197.3\"/>\n<polygon fill=\"black\" stroke=\"black\" points=\"1836.5,-197.02 1833,-187.02 1829.5,-197.02 1836.5,-197.02\"/>\n</g>\n<!-- 29 -->\n<g id=\"node30\" class=\"node\">\n<title>29</title>\n<path fill=\"#f2c09c\" stroke=\"black\" d=\"M2106.5,-187C2106.5,-187 2005.5,-187 2005.5,-187 1999.5,-187 1993.5,-181 1993.5,-175 1993.5,-175 1993.5,-116 1993.5,-116 1993.5,-110 1999.5,-104 2005.5,-104 2005.5,-104 2106.5,-104 2106.5,-104 2112.5,-104 2118.5,-110 2118.5,-116 2118.5,-116 2118.5,-175 2118.5,-175 2118.5,-181 2112.5,-187 2106.5,-187\"/>\n<text text-anchor=\"start\" x=\"2001.5\" y=\"-171.8\" font-family=\"Helvetica,sans-Serif\" font-size=\"14.00\">Diameter ≤ &#45;0.029</text>\n<text text-anchor=\"start\" x=\"2024\" y=\"-156.8\" font-family=\"Helvetica,sans-Serif\" font-size=\"14.00\">gini = 0.56</text>\n<text text-anchor=\"start\" x=\"2018.5\" y=\"-141.8\" font-family=\"Helvetica,sans-Serif\" font-size=\"14.00\">samples = 5</text>\n<text text-anchor=\"start\" x=\"2009\" y=\"-126.8\" font-family=\"Helvetica,sans-Serif\" font-size=\"14.00\">value = [3, 1, 1]</text>\n<text text-anchor=\"start\" x=\"2028.5\" y=\"-111.8\" font-family=\"Helvetica,sans-Serif\" font-size=\"14.00\">class = T</text>\n</g>\n<!-- 25&#45;&gt;29 -->\n<g id=\"edge29\" class=\"edge\">\n<title>25&#45;&gt;29</title>\n<path fill=\"none\" stroke=\"black\" d=\"M1891.59,-232.76C1919.89,-217.91 1954.11,-199.96 1983.99,-184.28\"/>\n<polygon fill=\"black\" stroke=\"black\" points=\"1985.88,-187.24 1993.11,-179.49 1982.63,-181.04 1985.88,-187.24\"/>\n</g>\n<!-- 27 -->\n<g id=\"node28\" class=\"node\">\n<title>27</title>\n<path fill=\"#64eb9c\" stroke=\"black\" d=\"M1842.5,-68C1842.5,-68 1749.5,-68 1749.5,-68 1743.5,-68 1737.5,-62 1737.5,-56 1737.5,-56 1737.5,-12 1737.5,-12 1737.5,-6 1743.5,0 1749.5,0 1749.5,0 1842.5,0 1842.5,0 1848.5,0 1854.5,-6 1854.5,-12 1854.5,-12 1854.5,-56 1854.5,-56 1854.5,-62 1848.5,-68 1842.5,-68\"/>\n<text text-anchor=\"start\" x=\"1760.5\" y=\"-52.8\" font-family=\"Helvetica,sans-Serif\" font-size=\"14.00\">gini = 0.313</text>\n<text text-anchor=\"start\" x=\"1755\" y=\"-37.8\" font-family=\"Helvetica,sans-Serif\" font-size=\"14.00\">samples = 27</text>\n<text text-anchor=\"start\" x=\"1745.5\" y=\"-22.8\" font-family=\"Helvetica,sans-Serif\" font-size=\"14.00\">value = [4, 22, 1]</text>\n<text text-anchor=\"start\" x=\"1769\" y=\"-7.8\" font-family=\"Helvetica,sans-Serif\" font-size=\"14.00\">class = y</text>\n</g>\n<!-- 26&#45;&gt;27 -->\n<g id=\"edge27\" class=\"edge\">\n<title>26&#45;&gt;27</title>\n<path fill=\"none\" stroke=\"black\" d=\"M1819.22,-103.73C1816.39,-95.34 1813.39,-86.47 1810.53,-78.01\"/>\n<polygon fill=\"black\" stroke=\"black\" points=\"1813.77,-76.65 1807.25,-68.3 1807.14,-78.89 1813.77,-76.65\"/>\n</g>\n<!-- 28 -->\n<g id=\"node29\" class=\"node\">\n<title>28</title>\n<path fill=\"#8139e5\" stroke=\"black\" d=\"M1971,-68C1971,-68 1885,-68 1885,-68 1879,-68 1873,-62 1873,-56 1873,-56 1873,-12 1873,-12 1873,-6 1879,0 1885,0 1885,0 1971,0 1971,0 1977,0 1983,-6 1983,-12 1983,-12 1983,-56 1983,-56 1983,-62 1977,-68 1971,-68\"/>\n<text text-anchor=\"start\" x=\"1900\" y=\"-52.8\" font-family=\"Helvetica,sans-Serif\" font-size=\"14.00\">gini = 0.0</text>\n<text text-anchor=\"start\" x=\"1890.5\" y=\"-37.8\" font-family=\"Helvetica,sans-Serif\" font-size=\"14.00\">samples = 1</text>\n<text text-anchor=\"start\" x=\"1881\" y=\"-22.8\" font-family=\"Helvetica,sans-Serif\" font-size=\"14.00\">value = [0, 0, 1]</text>\n<text text-anchor=\"start\" x=\"1900.5\" y=\"-7.8\" font-family=\"Helvetica,sans-Serif\" font-size=\"14.00\">class = p</text>\n</g>\n<!-- 26&#45;&gt;28 -->\n<g id=\"edge28\" class=\"edge\">\n<title>26&#45;&gt;28</title>\n<path fill=\"none\" stroke=\"black\" d=\"M1868.37,-103.73C1876.21,-94.7 1884.51,-85.12 1892.36,-76.08\"/>\n<polygon fill=\"black\" stroke=\"black\" points=\"1895.2,-78.15 1899.11,-68.3 1889.91,-73.56 1895.2,-78.15\"/>\n</g>\n<!-- 30 -->\n<g id=\"node31\" class=\"node\">\n<title>30</title>\n<path fill=\"#e58139\" stroke=\"black\" d=\"M2099,-68C2099,-68 2013,-68 2013,-68 2007,-68 2001,-62 2001,-56 2001,-56 2001,-12 2001,-12 2001,-6 2007,0 2013,0 2013,0 2099,0 2099,0 2105,0 2111,-6 2111,-12 2111,-12 2111,-56 2111,-56 2111,-62 2105,-68 2099,-68\"/>\n<text text-anchor=\"start\" x=\"2028\" y=\"-52.8\" font-family=\"Helvetica,sans-Serif\" font-size=\"14.00\">gini = 0.0</text>\n<text text-anchor=\"start\" x=\"2018.5\" y=\"-37.8\" font-family=\"Helvetica,sans-Serif\" font-size=\"14.00\">samples = 3</text>\n<text text-anchor=\"start\" x=\"2009\" y=\"-22.8\" font-family=\"Helvetica,sans-Serif\" font-size=\"14.00\">value = [3, 0, 0]</text>\n<text text-anchor=\"start\" x=\"2028.5\" y=\"-7.8\" font-family=\"Helvetica,sans-Serif\" font-size=\"14.00\">class = T</text>\n</g>\n<!-- 29&#45;&gt;30 -->\n<g id=\"edge30\" class=\"edge\">\n<title>29&#45;&gt;30</title>\n<path fill=\"none\" stroke=\"black\" d=\"M2056,-103.73C2056,-95.52 2056,-86.86 2056,-78.56\"/>\n<polygon fill=\"black\" stroke=\"black\" points=\"2059.5,-78.3 2056,-68.3 2052.5,-78.3 2059.5,-78.3\"/>\n</g>\n<!-- 31 -->\n<g id=\"node32\" class=\"node\">\n<title>31</title>\n<path fill=\"#ffffff\" stroke=\"black\" d=\"M2227,-68C2227,-68 2141,-68 2141,-68 2135,-68 2129,-62 2129,-56 2129,-56 2129,-12 2129,-12 2129,-6 2135,0 2141,0 2141,0 2227,0 2227,0 2233,0 2239,-6 2239,-12 2239,-12 2239,-56 2239,-56 2239,-62 2233,-68 2227,-68\"/>\n<text text-anchor=\"start\" x=\"2156\" y=\"-52.8\" font-family=\"Helvetica,sans-Serif\" font-size=\"14.00\">gini = 0.5</text>\n<text text-anchor=\"start\" x=\"2146.5\" y=\"-37.8\" font-family=\"Helvetica,sans-Serif\" font-size=\"14.00\">samples = 2</text>\n<text text-anchor=\"start\" x=\"2137\" y=\"-22.8\" font-family=\"Helvetica,sans-Serif\" font-size=\"14.00\">value = [0, 1, 1]</text>\n<text text-anchor=\"start\" x=\"2157\" y=\"-7.8\" font-family=\"Helvetica,sans-Serif\" font-size=\"14.00\">class = y</text>\n</g>\n<!-- 29&#45;&gt;31 -->\n<g id=\"edge31\" class=\"edge\">\n<title>29&#45;&gt;31</title>\n<path fill=\"none\" stroke=\"black\" d=\"M2103.66,-103.73C2114.64,-94.33 2126.31,-84.35 2137.26,-74.99\"/>\n<polygon fill=\"black\" stroke=\"black\" points=\"2139.75,-77.46 2145.07,-68.3 2135.2,-72.14 2139.75,-77.46\"/>\n</g>\n<!-- 33 -->\n<g id=\"node34\" class=\"node\">\n<title>33</title>\n<path fill=\"#ebe0fb\" stroke=\"black\" d=\"M2624.5,-425C2624.5,-425 2493.5,-425 2493.5,-425 2487.5,-425 2481.5,-419 2481.5,-413 2481.5,-413 2481.5,-354 2481.5,-354 2481.5,-348 2487.5,-342 2493.5,-342 2493.5,-342 2624.5,-342 2624.5,-342 2630.5,-342 2636.5,-348 2636.5,-354 2636.5,-354 2636.5,-413 2636.5,-413 2636.5,-419 2630.5,-425 2624.5,-425\"/>\n<text text-anchor=\"start\" x=\"2495.5\" y=\"-409.8\" font-family=\"Helvetica,sans-Serif\" font-size=\"14.00\">LongestShell ≤ 0.112</text>\n<text text-anchor=\"start\" x=\"2523.5\" y=\"-394.8\" font-family=\"Helvetica,sans-Serif\" font-size=\"14.00\">gini = 0.658</text>\n<text text-anchor=\"start\" x=\"2514\" y=\"-379.8\" font-family=\"Helvetica,sans-Serif\" font-size=\"14.00\">samples = 493</text>\n<text text-anchor=\"start\" x=\"2489.5\" y=\"-364.8\" font-family=\"Helvetica,sans-Serif\" font-size=\"14.00\">value = [147, 145, 201]</text>\n<text text-anchor=\"start\" x=\"2531.5\" y=\"-349.8\" font-family=\"Helvetica,sans-Serif\" font-size=\"14.00\">class = p</text>\n</g>\n<!-- 32&#45;&gt;33 -->\n<g id=\"edge33\" class=\"edge\">\n<title>32&#45;&gt;33</title>\n<path fill=\"none\" stroke=\"black\" d=\"M2559,-460.91C2559,-452.65 2559,-443.86 2559,-435.3\"/>\n<polygon fill=\"black\" stroke=\"black\" points=\"2562.5,-435.02 2559,-425.02 2555.5,-435.02 2562.5,-435.02\"/>\n</g>\n<!-- 46 -->\n<g id=\"node47\" class=\"node\">\n<title>46</title>\n<path fill=\"#f7f3fd\" stroke=\"black\" d=\"M3470,-425C3470,-425 3334,-425 3334,-425 3328,-425 3322,-419 3322,-413 3322,-413 3322,-354 3322,-354 3322,-348 3328,-342 3334,-342 3334,-342 3470,-342 3470,-342 3476,-342 3482,-348 3482,-354 3482,-354 3482,-413 3482,-413 3482,-419 3476,-425 3470,-425\"/>\n<text text-anchor=\"start\" x=\"3330\" y=\"-409.8\" font-family=\"Helvetica,sans-Serif\" font-size=\"14.00\">ShuckedWeight ≤ 2.315</text>\n<text text-anchor=\"start\" x=\"3366.5\" y=\"-394.8\" font-family=\"Helvetica,sans-Serif\" font-size=\"14.00\">gini = 0.541</text>\n<text text-anchor=\"start\" x=\"3353.5\" y=\"-379.8\" font-family=\"Helvetica,sans-Serif\" font-size=\"14.00\">samples = 1274</text>\n<text text-anchor=\"start\" x=\"3336.5\" y=\"-364.8\" font-family=\"Helvetica,sans-Serif\" font-size=\"14.00\">value = [587, 57, 630]</text>\n<text text-anchor=\"start\" x=\"3374.5\" y=\"-349.8\" font-family=\"Helvetica,sans-Serif\" font-size=\"14.00\">class = p</text>\n</g>\n<!-- 32&#45;&gt;46 -->\n<g id=\"edge46\" class=\"edge\">\n<title>32&#45;&gt;46</title>\n<path fill=\"none\" stroke=\"black\" d=\"M2636.8,-490.7C2793.3,-468.98 3145.41,-420.11 3311.73,-397.03\"/>\n<polygon fill=\"black\" stroke=\"black\" points=\"3312.51,-400.45 3321.93,-395.61 3311.55,-393.52 3312.51,-400.45\"/>\n</g>\n<!-- 34 -->\n<g id=\"node35\" class=\"node\">\n<title>34</title>\n<path fill=\"#e7d9fa\" stroke=\"black\" d=\"M2540,-306C2540,-306 2400,-306 2400,-306 2394,-306 2388,-300 2388,-294 2388,-294 2388,-235 2388,-235 2388,-229 2394,-223 2400,-223 2400,-223 2540,-223 2540,-223 2546,-223 2552,-229 2552,-235 2552,-235 2552,-294 2552,-294 2552,-300 2546,-306 2540,-306\"/>\n<text text-anchor=\"start\" x=\"2396\" y=\"-290.8\" font-family=\"Helvetica,sans-Serif\" font-size=\"14.00\">ShuckedWeight ≤ &#45;0.656</text>\n<text text-anchor=\"start\" x=\"2434.5\" y=\"-275.8\" font-family=\"Helvetica,sans-Serif\" font-size=\"14.00\">gini = 0.635</text>\n<text text-anchor=\"start\" x=\"2425\" y=\"-260.8\" font-family=\"Helvetica,sans-Serif\" font-size=\"14.00\">samples = 259</text>\n<text text-anchor=\"start\" x=\"2408\" y=\"-245.8\" font-family=\"Helvetica,sans-Serif\" font-size=\"14.00\">value = [86, 54, 119]</text>\n<text text-anchor=\"start\" x=\"2442.5\" y=\"-230.8\" font-family=\"Helvetica,sans-Serif\" font-size=\"14.00\">class = p</text>\n</g>\n<!-- 33&#45;&gt;34 -->\n<g id=\"edge34\" class=\"edge\">\n<title>33&#45;&gt;34</title>\n<path fill=\"none\" stroke=\"black\" d=\"M2528.12,-341.91C2521.29,-332.92 2513.98,-323.32 2506.93,-314.05\"/>\n<polygon fill=\"black\" stroke=\"black\" points=\"2509.66,-311.86 2500.82,-306.02 2504.09,-316.1 2509.66,-311.86\"/>\n</g>\n<!-- 39 -->\n<g id=\"node40\" class=\"node\">\n<title>39</title>\n<path fill=\"#f3fdf8\" stroke=\"black\" d=\"M2752.5,-306C2752.5,-306 2625.5,-306 2625.5,-306 2619.5,-306 2613.5,-300 2613.5,-294 2613.5,-294 2613.5,-235 2613.5,-235 2613.5,-229 2619.5,-223 2625.5,-223 2625.5,-223 2752.5,-223 2752.5,-223 2758.5,-223 2764.5,-229 2764.5,-235 2764.5,-235 2764.5,-294 2764.5,-294 2764.5,-300 2758.5,-306 2752.5,-306\"/>\n<text text-anchor=\"start\" x=\"2621.5\" y=\"-290.8\" font-family=\"Helvetica,sans-Serif\" font-size=\"14.00\">WholeWeight ≤ &#45;0.093</text>\n<text text-anchor=\"start\" x=\"2653.5\" y=\"-275.8\" font-family=\"Helvetica,sans-Serif\" font-size=\"14.00\">gini = 0.658</text>\n<text text-anchor=\"start\" x=\"2644\" y=\"-260.8\" font-family=\"Helvetica,sans-Serif\" font-size=\"14.00\">samples = 234</text>\n<text text-anchor=\"start\" x=\"2631\" y=\"-245.8\" font-family=\"Helvetica,sans-Serif\" font-size=\"14.00\">value = [61, 91, 82]</text>\n<text text-anchor=\"start\" x=\"2662\" y=\"-230.8\" font-family=\"Helvetica,sans-Serif\" font-size=\"14.00\">class = y</text>\n</g>\n<!-- 33&#45;&gt;39 -->\n<g id=\"edge39\" class=\"edge\">\n<title>33&#45;&gt;39</title>\n<path fill=\"none\" stroke=\"black\" d=\"M2604.1,-341.91C2614.49,-332.56 2625.62,-322.54 2636.3,-312.93\"/>\n<polygon fill=\"black\" stroke=\"black\" points=\"2638.89,-315.31 2643.98,-306.02 2634.2,-310.11 2638.89,-315.31\"/>\n</g>\n<!-- 35 -->\n<g id=\"node36\" class=\"node\">\n<title>35</title>\n<path fill=\"#e58139\" stroke=\"black\" d=\"M2361,-179.5C2361,-179.5 2275,-179.5 2275,-179.5 2269,-179.5 2263,-173.5 2263,-167.5 2263,-167.5 2263,-123.5 2263,-123.5 2263,-117.5 2269,-111.5 2275,-111.5 2275,-111.5 2361,-111.5 2361,-111.5 2367,-111.5 2373,-117.5 2373,-123.5 2373,-123.5 2373,-167.5 2373,-167.5 2373,-173.5 2367,-179.5 2361,-179.5\"/>\n<text text-anchor=\"start\" x=\"2290\" y=\"-164.3\" font-family=\"Helvetica,sans-Serif\" font-size=\"14.00\">gini = 0.0</text>\n<text text-anchor=\"start\" x=\"2280.5\" y=\"-149.3\" font-family=\"Helvetica,sans-Serif\" font-size=\"14.00\">samples = 7</text>\n<text text-anchor=\"start\" x=\"2271\" y=\"-134.3\" font-family=\"Helvetica,sans-Serif\" font-size=\"14.00\">value = [7, 0, 0]</text>\n<text text-anchor=\"start\" x=\"2290.5\" y=\"-119.3\" font-family=\"Helvetica,sans-Serif\" font-size=\"14.00\">class = T</text>\n</g>\n<!-- 34&#45;&gt;35 -->\n<g id=\"edge35\" class=\"edge\">\n<title>34&#45;&gt;35</title>\n<path fill=\"none\" stroke=\"black\" d=\"M2417.26,-222.91C2401.64,-210.88 2384.56,-197.73 2369.04,-185.79\"/>\n<polygon fill=\"black\" stroke=\"black\" points=\"2371.15,-182.99 2361.09,-179.67 2366.88,-188.54 2371.15,-182.99\"/>\n</g>\n<!-- 36 -->\n<g id=\"node37\" class=\"node\">\n<title>36</title>\n<path fill=\"#e2d1f9\" stroke=\"black\" d=\"M2536.5,-187C2536.5,-187 2403.5,-187 2403.5,-187 2397.5,-187 2391.5,-181 2391.5,-175 2391.5,-175 2391.5,-116 2391.5,-116 2391.5,-110 2397.5,-104 2403.5,-104 2403.5,-104 2536.5,-104 2536.5,-104 2542.5,-104 2548.5,-110 2548.5,-116 2548.5,-116 2548.5,-175 2548.5,-175 2548.5,-181 2542.5,-187 2536.5,-187\"/>\n<text text-anchor=\"start\" x=\"2399.5\" y=\"-171.8\" font-family=\"Helvetica,sans-Serif\" font-size=\"14.00\">VisceraWeight ≤ &#45;0.092</text>\n<text text-anchor=\"start\" x=\"2434.5\" y=\"-156.8\" font-family=\"Helvetica,sans-Serif\" font-size=\"14.00\">gini = 0.633</text>\n<text text-anchor=\"start\" x=\"2425\" y=\"-141.8\" font-family=\"Helvetica,sans-Serif\" font-size=\"14.00\">samples = 252</text>\n<text text-anchor=\"start\" x=\"2408\" y=\"-126.8\" font-family=\"Helvetica,sans-Serif\" font-size=\"14.00\">value = [79, 54, 119]</text>\n<text text-anchor=\"start\" x=\"2442.5\" y=\"-111.8\" font-family=\"Helvetica,sans-Serif\" font-size=\"14.00\">class = p</text>\n</g>\n<!-- 34&#45;&gt;36 -->\n<g id=\"edge36\" class=\"edge\">\n<title>34&#45;&gt;36</title>\n<path fill=\"none\" stroke=\"black\" d=\"M2470,-222.91C2470,-214.65 2470,-205.86 2470,-197.3\"/>\n<polygon fill=\"black\" stroke=\"black\" points=\"2473.5,-197.02 2470,-187.02 2466.5,-197.02 2473.5,-197.02\"/>\n</g>\n<!-- 37 -->\n<g id=\"node38\" class=\"node\">\n<title>37</title>\n<path fill=\"#d9c3f7\" stroke=\"black\" d=\"M2377,-68C2377,-68 2269,-68 2269,-68 2263,-68 2257,-62 2257,-56 2257,-56 2257,-12 2257,-12 2257,-6 2263,0 2269,0 2269,0 2377,0 2377,0 2383,0 2389,-6 2389,-12 2389,-12 2389,-56 2389,-56 2389,-62 2383,-68 2377,-68\"/>\n<text text-anchor=\"start\" x=\"2287.5\" y=\"-52.8\" font-family=\"Helvetica,sans-Serif\" font-size=\"14.00\">gini = 0.632</text>\n<text text-anchor=\"start\" x=\"2278\" y=\"-37.8\" font-family=\"Helvetica,sans-Serif\" font-size=\"14.00\">samples = 179</text>\n<text text-anchor=\"start\" x=\"2265\" y=\"-22.8\" font-family=\"Helvetica,sans-Serif\" font-size=\"14.00\">value = [45, 47, 87]</text>\n<text text-anchor=\"start\" x=\"2295.5\" y=\"-7.8\" font-family=\"Helvetica,sans-Serif\" font-size=\"14.00\">class = p</text>\n</g>\n<!-- 36&#45;&gt;37 -->\n<g id=\"edge37\" class=\"edge\">\n<title>36&#45;&gt;37</title>\n<path fill=\"none\" stroke=\"black\" d=\"M2415.26,-103.73C2402.41,-94.15 2388.73,-83.96 2375.95,-74.44\"/>\n<polygon fill=\"black\" stroke=\"black\" points=\"2377.81,-71.47 2367.7,-68.3 2373.63,-77.08 2377.81,-71.47\"/>\n</g>\n<!-- 38 -->\n<g id=\"node39\" class=\"node\">\n<title>38</title>\n<path fill=\"#fef9f5\" stroke=\"black\" d=\"M2520.5,-68C2520.5,-68 2419.5,-68 2419.5,-68 2413.5,-68 2407.5,-62 2407.5,-56 2407.5,-56 2407.5,-12 2407.5,-12 2407.5,-6 2413.5,0 2419.5,0 2419.5,0 2520.5,0 2520.5,0 2526.5,0 2532.5,-6 2532.5,-12 2532.5,-12 2532.5,-56 2532.5,-56 2532.5,-62 2526.5,-68 2520.5,-68\"/>\n<text text-anchor=\"start\" x=\"2434.5\" y=\"-52.8\" font-family=\"Helvetica,sans-Serif\" font-size=\"14.00\">gini = 0.582</text>\n<text text-anchor=\"start\" x=\"2429\" y=\"-37.8\" font-family=\"Helvetica,sans-Serif\" font-size=\"14.00\">samples = 73</text>\n<text text-anchor=\"start\" x=\"2415.5\" y=\"-22.8\" font-family=\"Helvetica,sans-Serif\" font-size=\"14.00\">value = [34, 7, 32]</text>\n<text text-anchor=\"start\" x=\"2442.5\" y=\"-7.8\" font-family=\"Helvetica,sans-Serif\" font-size=\"14.00\">class = T</text>\n</g>\n<!-- 36&#45;&gt;38 -->\n<g id=\"edge38\" class=\"edge\">\n<title>36&#45;&gt;38</title>\n<path fill=\"none\" stroke=\"black\" d=\"M2470,-103.73C2470,-95.52 2470,-86.86 2470,-78.56\"/>\n<polygon fill=\"black\" stroke=\"black\" points=\"2473.5,-78.3 2470,-68.3 2466.5,-78.3 2473.5,-78.3\"/>\n</g>\n<!-- 40 -->\n<g id=\"node41\" class=\"node\">\n<title>40</title>\n<path fill=\"#b3f5ce\" stroke=\"black\" d=\"M2743,-187C2743,-187 2635,-187 2635,-187 2629,-187 2623,-181 2623,-175 2623,-175 2623,-116 2623,-116 2623,-110 2629,-104 2635,-104 2635,-104 2743,-104 2743,-104 2749,-104 2755,-110 2755,-116 2755,-116 2755,-175 2755,-175 2755,-181 2749,-187 2743,-187\"/>\n<text text-anchor=\"start\" x=\"2647\" y=\"-171.8\" font-family=\"Helvetica,sans-Serif\" font-size=\"14.00\">Rings ≤ 0.486</text>\n<text text-anchor=\"start\" x=\"2653.5\" y=\"-156.8\" font-family=\"Helvetica,sans-Serif\" font-size=\"14.00\">gini = 0.604</text>\n<text text-anchor=\"start\" x=\"2648\" y=\"-141.8\" font-family=\"Helvetica,sans-Serif\" font-size=\"14.00\">samples = 93</text>\n<text text-anchor=\"start\" x=\"2631\" y=\"-126.8\" font-family=\"Helvetica,sans-Serif\" font-size=\"14.00\">value = [23, 50, 20]</text>\n<text text-anchor=\"start\" x=\"2662\" y=\"-111.8\" font-family=\"Helvetica,sans-Serif\" font-size=\"14.00\">class = y</text>\n</g>\n<!-- 39&#45;&gt;40 -->\n<g id=\"edge40\" class=\"edge\">\n<title>39&#45;&gt;40</title>\n<path fill=\"none\" stroke=\"black\" d=\"M2689,-222.91C2689,-214.65 2689,-205.86 2689,-197.3\"/>\n<polygon fill=\"black\" stroke=\"black\" points=\"2692.5,-197.02 2689,-187.02 2685.5,-197.02 2692.5,-197.02\"/>\n</g>\n<!-- 43 -->\n<g id=\"node44\" class=\"node\">\n<title>43</title>\n<path fill=\"#e5d5fa\" stroke=\"black\" d=\"M2963,-187C2963,-187 2827,-187 2827,-187 2821,-187 2815,-181 2815,-175 2815,-175 2815,-116 2815,-116 2815,-110 2821,-104 2827,-104 2827,-104 2963,-104 2963,-104 2969,-104 2975,-110 2975,-116 2975,-116 2975,-175 2975,-175 2975,-181 2969,-187 2963,-187\"/>\n<text text-anchor=\"start\" x=\"2823\" y=\"-171.8\" font-family=\"Helvetica,sans-Serif\" font-size=\"14.00\">ShuckedWeight ≤ 0.322</text>\n<text text-anchor=\"start\" x=\"2859.5\" y=\"-156.8\" font-family=\"Helvetica,sans-Serif\" font-size=\"14.00\">gini = 0.649</text>\n<text text-anchor=\"start\" x=\"2850\" y=\"-141.8\" font-family=\"Helvetica,sans-Serif\" font-size=\"14.00\">samples = 141</text>\n<text text-anchor=\"start\" x=\"2837\" y=\"-126.8\" font-family=\"Helvetica,sans-Serif\" font-size=\"14.00\">value = [38, 41, 62]</text>\n<text text-anchor=\"start\" x=\"2867.5\" y=\"-111.8\" font-family=\"Helvetica,sans-Serif\" font-size=\"14.00\">class = p</text>\n</g>\n<!-- 39&#45;&gt;43 -->\n<g id=\"edge43\" class=\"edge\">\n<title>39&#45;&gt;43</title>\n<path fill=\"none\" stroke=\"black\" d=\"M2760.47,-222.91C2778.05,-212.92 2796.98,-202.17 2814.93,-191.98\"/>\n<polygon fill=\"black\" stroke=\"black\" points=\"2816.69,-195 2823.66,-187.02 2813.23,-188.92 2816.69,-195\"/>\n</g>\n<!-- 41 -->\n<g id=\"node42\" class=\"node\">\n<title>41</title>\n<path fill=\"#a6f3c6\" stroke=\"black\" d=\"M2671,-68C2671,-68 2563,-68 2563,-68 2557,-68 2551,-62 2551,-56 2551,-56 2551,-12 2551,-12 2551,-6 2557,0 2563,0 2563,0 2671,0 2671,0 2677,0 2683,-6 2683,-12 2683,-12 2683,-56 2683,-56 2683,-62 2677,-68 2671,-68\"/>\n<text text-anchor=\"start\" x=\"2585\" y=\"-52.8\" font-family=\"Helvetica,sans-Serif\" font-size=\"14.00\">gini = 0.56</text>\n<text text-anchor=\"start\" x=\"2576\" y=\"-37.8\" font-family=\"Helvetica,sans-Serif\" font-size=\"14.00\">samples = 81</text>\n<text text-anchor=\"start\" x=\"2559\" y=\"-22.8\" font-family=\"Helvetica,sans-Serif\" font-size=\"14.00\">value = [21, 48, 12]</text>\n<text text-anchor=\"start\" x=\"2590\" y=\"-7.8\" font-family=\"Helvetica,sans-Serif\" font-size=\"14.00\">class = y</text>\n</g>\n<!-- 40&#45;&gt;41 -->\n<g id=\"edge41\" class=\"edge\">\n<title>40&#45;&gt;41</title>\n<path fill=\"none\" stroke=\"black\" d=\"M2662.19,-103.73C2656.43,-94.97 2650.34,-85.7 2644.55,-76.91\"/>\n<polygon fill=\"black\" stroke=\"black\" points=\"2647.31,-74.73 2638.9,-68.3 2641.47,-78.58 2647.31,-74.73\"/>\n</g>\n<!-- 42 -->\n<g id=\"node43\" class=\"node\">\n<title>42</title>\n<path fill=\"#b388ef\" stroke=\"black\" d=\"M2799,-68C2799,-68 2713,-68 2713,-68 2707,-68 2701,-62 2701,-56 2701,-56 2701,-12 2701,-12 2701,-6 2707,0 2713,0 2713,0 2799,0 2799,0 2805,0 2811,-6 2811,-12 2811,-12 2811,-56 2811,-56 2811,-62 2805,-68 2799,-68\"/>\n<text text-anchor=\"start\" x=\"2728\" y=\"-52.8\" font-family=\"Helvetica,sans-Serif\" font-size=\"14.00\">gini = 0.5</text>\n<text text-anchor=\"start\" x=\"2715\" y=\"-37.8\" font-family=\"Helvetica,sans-Serif\" font-size=\"14.00\">samples = 12</text>\n<text text-anchor=\"start\" x=\"2709\" y=\"-22.8\" font-family=\"Helvetica,sans-Serif\" font-size=\"14.00\">value = [2, 2, 8]</text>\n<text text-anchor=\"start\" x=\"2728.5\" y=\"-7.8\" font-family=\"Helvetica,sans-Serif\" font-size=\"14.00\">class = p</text>\n</g>\n<!-- 40&#45;&gt;42 -->\n<g id=\"edge42\" class=\"edge\">\n<title>40&#45;&gt;42</title>\n<path fill=\"none\" stroke=\"black\" d=\"M2713.95,-103.73C2719.31,-94.97 2724.98,-85.7 2730.36,-76.91\"/>\n<polygon fill=\"black\" stroke=\"black\" points=\"2733.39,-78.66 2735.62,-68.3 2727.42,-75 2733.39,-78.66\"/>\n</g>\n<!-- 44 -->\n<g id=\"node45\" class=\"node\">\n<title>44</title>\n<path fill=\"#ddcaf8\" stroke=\"black\" d=\"M2949,-68C2949,-68 2841,-68 2841,-68 2835,-68 2829,-62 2829,-56 2829,-56 2829,-12 2829,-12 2829,-6 2835,0 2841,0 2841,0 2949,0 2949,0 2955,0 2961,-6 2961,-12 2961,-12 2961,-56 2961,-56 2961,-62 2955,-68 2949,-68\"/>\n<text text-anchor=\"start\" x=\"2859.5\" y=\"-52.8\" font-family=\"Helvetica,sans-Serif\" font-size=\"14.00\">gini = 0.639</text>\n<text text-anchor=\"start\" x=\"2850\" y=\"-37.8\" font-family=\"Helvetica,sans-Serif\" font-size=\"14.00\">samples = 130</text>\n<text text-anchor=\"start\" x=\"2837\" y=\"-22.8\" font-family=\"Helvetica,sans-Serif\" font-size=\"14.00\">value = [33, 36, 61]</text>\n<text text-anchor=\"start\" x=\"2867.5\" y=\"-7.8\" font-family=\"Helvetica,sans-Serif\" font-size=\"14.00\">class = p</text>\n</g>\n<!-- 43&#45;&gt;44 -->\n<g id=\"edge44\" class=\"edge\">\n<title>43&#45;&gt;44</title>\n<path fill=\"none\" stroke=\"black\" d=\"M2895,-103.73C2895,-95.52 2895,-86.86 2895,-78.56\"/>\n<polygon fill=\"black\" stroke=\"black\" points=\"2898.5,-78.3 2895,-68.3 2891.5,-78.3 2898.5,-78.3\"/>\n</g>\n<!-- 45 -->\n<g id=\"node46\" class=\"node\">\n<title>45</title>\n<path fill=\"#ffffff\" stroke=\"black\" d=\"M3077,-68C3077,-68 2991,-68 2991,-68 2985,-68 2979,-62 2979,-56 2979,-56 2979,-12 2979,-12 2979,-6 2985,0 2991,0 2991,0 3077,0 3077,0 3083,0 3089,-6 3089,-12 3089,-12 3089,-56 3089,-56 3089,-62 3083,-68 3077,-68\"/>\n<text text-anchor=\"start\" x=\"2998.5\" y=\"-52.8\" font-family=\"Helvetica,sans-Serif\" font-size=\"14.00\">gini = 0.579</text>\n<text text-anchor=\"start\" x=\"2993\" y=\"-37.8\" font-family=\"Helvetica,sans-Serif\" font-size=\"14.00\">samples = 11</text>\n<text text-anchor=\"start\" x=\"2987\" y=\"-22.8\" font-family=\"Helvetica,sans-Serif\" font-size=\"14.00\">value = [5, 5, 1]</text>\n<text text-anchor=\"start\" x=\"3006.5\" y=\"-7.8\" font-family=\"Helvetica,sans-Serif\" font-size=\"14.00\">class = T</text>\n</g>\n<!-- 43&#45;&gt;45 -->\n<g id=\"edge45\" class=\"edge\">\n<title>43&#45;&gt;45</title>\n<path fill=\"none\" stroke=\"black\" d=\"M2946.76,-103.73C2958.8,-94.24 2971.6,-84.16 2983.58,-74.72\"/>\n<polygon fill=\"black\" stroke=\"black\" points=\"2986.04,-77.24 2991.73,-68.3 2981.71,-71.74 2986.04,-77.24\"/>\n</g>\n<!-- 47 -->\n<g id=\"node48\" class=\"node\">\n<title>47</title>\n<path fill=\"#fdfdff\" stroke=\"black\" d=\"M3463.5,-306C3463.5,-306 3340.5,-306 3340.5,-306 3334.5,-306 3328.5,-300 3328.5,-294 3328.5,-294 3328.5,-235 3328.5,-235 3328.5,-229 3334.5,-223 3340.5,-223 3340.5,-223 3463.5,-223 3463.5,-223 3469.5,-223 3475.5,-229 3475.5,-235 3475.5,-235 3475.5,-294 3475.5,-294 3475.5,-300 3469.5,-306 3463.5,-306\"/>\n<text text-anchor=\"start\" x=\"3341.5\" y=\"-290.8\" font-family=\"Helvetica,sans-Serif\" font-size=\"14.00\">ShellWeight ≤ 0.529</text>\n<text text-anchor=\"start\" x=\"3366.5\" y=\"-275.8\" font-family=\"Helvetica,sans-Serif\" font-size=\"14.00\">gini = 0.544</text>\n<text text-anchor=\"start\" x=\"3353.5\" y=\"-260.8\" font-family=\"Helvetica,sans-Serif\" font-size=\"14.00\">samples = 1203</text>\n<text text-anchor=\"start\" x=\"3336.5\" y=\"-245.8\" font-family=\"Helvetica,sans-Serif\" font-size=\"14.00\">value = [569, 57, 577]</text>\n<text text-anchor=\"start\" x=\"3374.5\" y=\"-230.8\" font-family=\"Helvetica,sans-Serif\" font-size=\"14.00\">class = p</text>\n</g>\n<!-- 46&#45;&gt;47 -->\n<g id=\"edge47\" class=\"edge\">\n<title>46&#45;&gt;47</title>\n<path fill=\"none\" stroke=\"black\" d=\"M3402,-341.91C3402,-333.65 3402,-324.86 3402,-316.3\"/>\n<polygon fill=\"black\" stroke=\"black\" points=\"3405.5,-316.02 3402,-306.02 3398.5,-316.02 3405.5,-316.02\"/>\n</g>\n<!-- 54 -->\n<g id=\"node55\" class=\"node\">\n<title>54</title>\n<path fill=\"#ac7cee\" stroke=\"black\" d=\"M3865.5,-306C3865.5,-306 3764.5,-306 3764.5,-306 3758.5,-306 3752.5,-300 3752.5,-294 3752.5,-294 3752.5,-235 3752.5,-235 3752.5,-229 3758.5,-223 3764.5,-223 3764.5,-223 3865.5,-223 3865.5,-223 3871.5,-223 3877.5,-229 3877.5,-235 3877.5,-235 3877.5,-294 3877.5,-294 3877.5,-300 3871.5,-306 3865.5,-306\"/>\n<text text-anchor=\"start\" x=\"3762.5\" y=\"-290.8\" font-family=\"Helvetica,sans-Serif\" font-size=\"14.00\">Diameter ≤ 2.062</text>\n<text text-anchor=\"start\" x=\"3779.5\" y=\"-275.8\" font-family=\"Helvetica,sans-Serif\" font-size=\"14.00\">gini = 0.378</text>\n<text text-anchor=\"start\" x=\"3774\" y=\"-260.8\" font-family=\"Helvetica,sans-Serif\" font-size=\"14.00\">samples = 71</text>\n<text text-anchor=\"start\" x=\"3760.5\" y=\"-245.8\" font-family=\"Helvetica,sans-Serif\" font-size=\"14.00\">value = [18, 0, 53]</text>\n<text text-anchor=\"start\" x=\"3787.5\" y=\"-230.8\" font-family=\"Helvetica,sans-Serif\" font-size=\"14.00\">class = p</text>\n</g>\n<!-- 46&#45;&gt;54 -->\n<g id=\"edge54\" class=\"edge\">\n<title>46&#45;&gt;54</title>\n<path fill=\"none\" stroke=\"black\" d=\"M3482.12,-359.8C3557.51,-338.45 3669.41,-306.74 3742.29,-286.1\"/>\n<polygon fill=\"black\" stroke=\"black\" points=\"3743.63,-289.36 3752.3,-283.26 3741.73,-282.62 3743.63,-289.36\"/>\n</g>\n<!-- 48 -->\n<g id=\"node49\" class=\"node\">\n<title>48</title>\n<path fill=\"#e1d1f9\" stroke=\"black\" d=\"M3379,-187C3379,-187 3251,-187 3251,-187 3245,-187 3239,-181 3239,-175 3239,-175 3239,-116 3239,-116 3239,-110 3245,-104 3251,-104 3251,-104 3379,-104 3379,-104 3385,-104 3391,-110 3391,-116 3391,-116 3391,-175 3391,-175 3391,-181 3385,-187 3379,-187\"/>\n<text text-anchor=\"start\" x=\"3247\" y=\"-171.8\" font-family=\"Helvetica,sans-Serif\" font-size=\"14.00\">VisceraWeight ≤ 1.356</text>\n<text text-anchor=\"start\" x=\"3279.5\" y=\"-156.8\" font-family=\"Helvetica,sans-Serif\" font-size=\"14.00\">gini = 0.551</text>\n<text text-anchor=\"start\" x=\"3270\" y=\"-141.8\" font-family=\"Helvetica,sans-Serif\" font-size=\"14.00\">samples = 445</text>\n<text text-anchor=\"start\" x=\"3249.5\" y=\"-126.8\" font-family=\"Helvetica,sans-Serif\" font-size=\"14.00\">value = [176, 30, 239]</text>\n<text text-anchor=\"start\" x=\"3287.5\" y=\"-111.8\" font-family=\"Helvetica,sans-Serif\" font-size=\"14.00\">class = p</text>\n</g>\n<!-- 47&#45;&gt;48 -->\n<g id=\"edge48\" class=\"edge\">\n<title>47&#45;&gt;48</title>\n<path fill=\"none\" stroke=\"black\" d=\"M3371.82,-222.91C3365.14,-213.92 3357.99,-204.32 3351.1,-195.05\"/>\n<polygon fill=\"black\" stroke=\"black\" points=\"3353.91,-192.96 3345.13,-187.02 3348.29,-197.13 3353.91,-192.96\"/>\n</g>\n<!-- 51 -->\n<g id=\"node52\" class=\"node\">\n<title>51</title>\n<path fill=\"#fceee5\" stroke=\"black\" d=\"M3557,-187C3557,-187 3421,-187 3421,-187 3415,-187 3409,-181 3409,-175 3409,-175 3409,-116 3409,-116 3409,-110 3415,-104 3421,-104 3421,-104 3557,-104 3557,-104 3563,-104 3569,-110 3569,-116 3569,-116 3569,-175 3569,-175 3569,-181 3563,-187 3557,-187\"/>\n<text text-anchor=\"start\" x=\"3417\" y=\"-171.8\" font-family=\"Helvetica,sans-Serif\" font-size=\"14.00\">ShuckedWeight ≤ 2.188</text>\n<text text-anchor=\"start\" x=\"3453.5\" y=\"-156.8\" font-family=\"Helvetica,sans-Serif\" font-size=\"14.00\">gini = 0.531</text>\n<text text-anchor=\"start\" x=\"3444\" y=\"-141.8\" font-family=\"Helvetica,sans-Serif\" font-size=\"14.00\">samples = 758</text>\n<text text-anchor=\"start\" x=\"3423.5\" y=\"-126.8\" font-family=\"Helvetica,sans-Serif\" font-size=\"14.00\">value = [393, 27, 338]</text>\n<text text-anchor=\"start\" x=\"3461.5\" y=\"-111.8\" font-family=\"Helvetica,sans-Serif\" font-size=\"14.00\">class = T</text>\n</g>\n<!-- 47&#45;&gt;51 -->\n<g id=\"edge51\" class=\"edge\">\n<title>47&#45;&gt;51</title>\n<path fill=\"none\" stroke=\"black\" d=\"M3432.18,-222.91C3438.86,-213.92 3446.01,-204.32 3452.9,-195.05\"/>\n<polygon fill=\"black\" stroke=\"black\" points=\"3455.71,-197.13 3458.87,-187.02 3450.09,-192.96 3455.71,-197.13\"/>\n</g>\n<!-- 49 -->\n<g id=\"node50\" class=\"node\">\n<title>49</title>\n<path fill=\"#decbf8\" stroke=\"black\" d=\"M3242.5,-68C3242.5,-68 3119.5,-68 3119.5,-68 3113.5,-68 3107.5,-62 3107.5,-56 3107.5,-56 3107.5,-12 3107.5,-12 3107.5,-6 3113.5,0 3119.5,0 3119.5,0 3242.5,0 3242.5,0 3248.5,0 3254.5,-6 3254.5,-12 3254.5,-12 3254.5,-56 3254.5,-56 3254.5,-62 3248.5,-68 3242.5,-68\"/>\n<text text-anchor=\"start\" x=\"3145.5\" y=\"-52.8\" font-family=\"Helvetica,sans-Serif\" font-size=\"14.00\">gini = 0.549</text>\n<text text-anchor=\"start\" x=\"3136\" y=\"-37.8\" font-family=\"Helvetica,sans-Serif\" font-size=\"14.00\">samples = 435</text>\n<text text-anchor=\"start\" x=\"3115.5\" y=\"-22.8\" font-family=\"Helvetica,sans-Serif\" font-size=\"14.00\">value = [167, 30, 238]</text>\n<text text-anchor=\"start\" x=\"3153.5\" y=\"-7.8\" font-family=\"Helvetica,sans-Serif\" font-size=\"14.00\">class = p</text>\n</g>\n<!-- 48&#45;&gt;49 -->\n<g id=\"edge49\" class=\"edge\">\n<title>48&#45;&gt;49</title>\n<path fill=\"none\" stroke=\"black\" d=\"M3265.1,-103.73C3253.5,-94.24 3241.15,-84.16 3229.6,-74.72\"/>\n<polygon fill=\"black\" stroke=\"black\" points=\"3231.71,-71.92 3221.75,-68.3 3227.28,-77.34 3231.71,-71.92\"/>\n</g>\n<!-- 50 -->\n<g id=\"node51\" class=\"node\">\n<title>50</title>\n<path fill=\"#e88f4f\" stroke=\"black\" d=\"M3371,-68C3371,-68 3285,-68 3285,-68 3279,-68 3273,-62 3273,-56 3273,-56 3273,-12 3273,-12 3273,-6 3279,0 3285,0 3285,0 3371,0 3371,0 3377,0 3383,-6 3383,-12 3383,-12 3383,-56 3383,-56 3383,-62 3377,-68 3371,-68\"/>\n<text text-anchor=\"start\" x=\"3296\" y=\"-52.8\" font-family=\"Helvetica,sans-Serif\" font-size=\"14.00\">gini = 0.18</text>\n<text text-anchor=\"start\" x=\"3287\" y=\"-37.8\" font-family=\"Helvetica,sans-Serif\" font-size=\"14.00\">samples = 10</text>\n<text text-anchor=\"start\" x=\"3281\" y=\"-22.8\" font-family=\"Helvetica,sans-Serif\" font-size=\"14.00\">value = [9, 0, 1]</text>\n<text text-anchor=\"start\" x=\"3300.5\" y=\"-7.8\" font-family=\"Helvetica,sans-Serif\" font-size=\"14.00\">class = T</text>\n</g>\n<!-- 48&#45;&gt;50 -->\n<g id=\"edge50\" class=\"edge\">\n<title>48&#45;&gt;50</title>\n<path fill=\"none\" stroke=\"black\" d=\"M3319.84,-103.73C3320.83,-95.43 3321.87,-86.67 3322.86,-78.28\"/>\n<polygon fill=\"black\" stroke=\"black\" points=\"3326.34,-78.64 3324.05,-68.3 3319.39,-77.82 3326.34,-78.64\"/>\n</g>\n<!-- 52 -->\n<g id=\"node53\" class=\"node\">\n<title>52</title>\n<path fill=\"#fcf1e9\" stroke=\"black\" d=\"M3536.5,-68C3536.5,-68 3413.5,-68 3413.5,-68 3407.5,-68 3401.5,-62 3401.5,-56 3401.5,-56 3401.5,-12 3401.5,-12 3401.5,-6 3407.5,0 3413.5,0 3413.5,0 3536.5,0 3536.5,0 3542.5,0 3548.5,-6 3548.5,-12 3548.5,-12 3548.5,-56 3548.5,-56 3548.5,-62 3542.5,-68 3536.5,-68\"/>\n<text text-anchor=\"start\" x=\"3439.5\" y=\"-52.8\" font-family=\"Helvetica,sans-Serif\" font-size=\"14.00\">gini = 0.532</text>\n<text text-anchor=\"start\" x=\"3430\" y=\"-37.8\" font-family=\"Helvetica,sans-Serif\" font-size=\"14.00\">samples = 746</text>\n<text text-anchor=\"start\" x=\"3409.5\" y=\"-22.8\" font-family=\"Helvetica,sans-Serif\" font-size=\"14.00\">value = [382, 27, 337]</text>\n<text text-anchor=\"start\" x=\"3447.5\" y=\"-7.8\" font-family=\"Helvetica,sans-Serif\" font-size=\"14.00\">class = T</text>\n</g>\n<!-- 51&#45;&gt;52 -->\n<g id=\"edge52\" class=\"edge\">\n<title>51&#45;&gt;52</title>\n<path fill=\"none\" stroke=\"black\" d=\"M3483.79,-103.73C3482.73,-95.43 3481.61,-86.67 3480.53,-78.28\"/>\n<polygon fill=\"black\" stroke=\"black\" points=\"3484,-77.77 3479.26,-68.3 3477.05,-78.66 3484,-77.77\"/>\n</g>\n<!-- 53 -->\n<g id=\"node54\" class=\"node\">\n<title>53</title>\n<path fill=\"#e78c4b\" stroke=\"black\" d=\"M3671.5,-68C3671.5,-68 3578.5,-68 3578.5,-68 3572.5,-68 3566.5,-62 3566.5,-56 3566.5,-56 3566.5,-12 3566.5,-12 3566.5,-6 3572.5,0 3578.5,0 3578.5,0 3671.5,0 3671.5,0 3677.5,0 3683.5,-6 3683.5,-12 3683.5,-12 3683.5,-56 3683.5,-56 3683.5,-62 3677.5,-68 3671.5,-68\"/>\n<text text-anchor=\"start\" x=\"3589.5\" y=\"-52.8\" font-family=\"Helvetica,sans-Serif\" font-size=\"14.00\">gini = 0.153</text>\n<text text-anchor=\"start\" x=\"3584\" y=\"-37.8\" font-family=\"Helvetica,sans-Serif\" font-size=\"14.00\">samples = 12</text>\n<text text-anchor=\"start\" x=\"3574.5\" y=\"-22.8\" font-family=\"Helvetica,sans-Serif\" font-size=\"14.00\">value = [11, 0, 1]</text>\n<text text-anchor=\"start\" x=\"3597.5\" y=\"-7.8\" font-family=\"Helvetica,sans-Serif\" font-size=\"14.00\">class = T</text>\n</g>\n<!-- 51&#45;&gt;53 -->\n<g id=\"edge53\" class=\"edge\">\n<title>51&#45;&gt;53</title>\n<path fill=\"none\" stroke=\"black\" d=\"M3539.64,-103.73C3551.42,-94.24 3563.95,-84.16 3575.67,-74.72\"/>\n<polygon fill=\"black\" stroke=\"black\" points=\"3578.05,-77.3 3583.64,-68.3 3573.66,-71.84 3578.05,-77.3\"/>\n</g>\n<!-- 55 -->\n<g id=\"node56\" class=\"node\">\n<title>55</title>\n<path fill=\"#a36eec\" stroke=\"black\" d=\"M3868,-187C3868,-187 3762,-187 3762,-187 3756,-187 3750,-181 3750,-175 3750,-175 3750,-116 3750,-116 3750,-110 3756,-104 3762,-104 3762,-104 3868,-104 3868,-104 3874,-104 3880,-110 3880,-116 3880,-116 3880,-175 3880,-175 3880,-181 3874,-187 3868,-187\"/>\n<text text-anchor=\"start\" x=\"3758\" y=\"-171.8\" font-family=\"Helvetica,sans-Serif\" font-size=\"14.00\">ShellWeight ≤ 1.76</text>\n<text text-anchor=\"start\" x=\"3779.5\" y=\"-156.8\" font-family=\"Helvetica,sans-Serif\" font-size=\"14.00\">gini = 0.334</text>\n<text text-anchor=\"start\" x=\"3774\" y=\"-141.8\" font-family=\"Helvetica,sans-Serif\" font-size=\"14.00\">samples = 66</text>\n<text text-anchor=\"start\" x=\"3760.5\" y=\"-126.8\" font-family=\"Helvetica,sans-Serif\" font-size=\"14.00\">value = [14, 0, 52]</text>\n<text text-anchor=\"start\" x=\"3787.5\" y=\"-111.8\" font-family=\"Helvetica,sans-Serif\" font-size=\"14.00\">class = p</text>\n</g>\n<!-- 54&#45;&gt;55 -->\n<g id=\"edge55\" class=\"edge\">\n<title>54&#45;&gt;55</title>\n<path fill=\"none\" stroke=\"black\" d=\"M3815,-222.91C3815,-214.65 3815,-205.86 3815,-197.3\"/>\n<polygon fill=\"black\" stroke=\"black\" points=\"3818.5,-197.02 3815,-187.02 3811.5,-197.02 3818.5,-197.02\"/>\n</g>\n<!-- 58 -->\n<g id=\"node59\" class=\"node\">\n<title>58</title>\n<path fill=\"#eca06a\" stroke=\"black\" d=\"M4088,-187C4088,-187 3966,-187 3966,-187 3960,-187 3954,-181 3954,-175 3954,-175 3954,-116 3954,-116 3954,-110 3960,-104 3966,-104 3966,-104 4088,-104 4088,-104 4094,-104 4100,-110 4100,-116 4100,-116 4100,-175 4100,-175 4100,-181 4094,-187 4088,-187\"/>\n<text text-anchor=\"start\" x=\"3962\" y=\"-171.8\" font-family=\"Helvetica,sans-Serif\" font-size=\"14.00\">WholeWeight ≤ 3.854</text>\n<text text-anchor=\"start\" x=\"3995\" y=\"-156.8\" font-family=\"Helvetica,sans-Serif\" font-size=\"14.00\">gini = 0.32</text>\n<text text-anchor=\"start\" x=\"3989.5\" y=\"-141.8\" font-family=\"Helvetica,sans-Serif\" font-size=\"14.00\">samples = 5</text>\n<text text-anchor=\"start\" x=\"3980\" y=\"-126.8\" font-family=\"Helvetica,sans-Serif\" font-size=\"14.00\">value = [4, 0, 1]</text>\n<text text-anchor=\"start\" x=\"3999.5\" y=\"-111.8\" font-family=\"Helvetica,sans-Serif\" font-size=\"14.00\">class = T</text>\n</g>\n<!-- 54&#45;&gt;58 -->\n<g id=\"edge58\" class=\"edge\">\n<title>54&#45;&gt;58</title>\n<path fill=\"none\" stroke=\"black\" d=\"M3877.75,-228.87C3898.87,-217.21 3922.77,-204.03 3945.14,-191.68\"/>\n<polygon fill=\"black\" stroke=\"black\" points=\"3946.9,-194.7 3953.97,-186.81 3943.52,-188.57 3946.9,-194.7\"/>\n</g>\n<!-- 56 -->\n<g id=\"node57\" class=\"node\">\n<title>56</title>\n<path fill=\"#d2b8f6\" stroke=\"black\" d=\"M3806.5,-68C3806.5,-68 3713.5,-68 3713.5,-68 3707.5,-68 3701.5,-62 3701.5,-56 3701.5,-56 3701.5,-12 3701.5,-12 3701.5,-6 3707.5,0 3713.5,0 3713.5,0 3806.5,0 3806.5,0 3812.5,0 3818.5,-6 3818.5,-12 3818.5,-12 3818.5,-56 3818.5,-56 3818.5,-62 3812.5,-68 3806.5,-68\"/>\n<text text-anchor=\"start\" x=\"3724.5\" y=\"-52.8\" font-family=\"Helvetica,sans-Serif\" font-size=\"14.00\">gini = 0.476</text>\n<text text-anchor=\"start\" x=\"3719\" y=\"-37.8\" font-family=\"Helvetica,sans-Serif\" font-size=\"14.00\">samples = 23</text>\n<text text-anchor=\"start\" x=\"3709.5\" y=\"-22.8\" font-family=\"Helvetica,sans-Serif\" font-size=\"14.00\">value = [9, 0, 14]</text>\n<text text-anchor=\"start\" x=\"3732.5\" y=\"-7.8\" font-family=\"Helvetica,sans-Serif\" font-size=\"14.00\">class = p</text>\n</g>\n<!-- 55&#45;&gt;56 -->\n<g id=\"edge56\" class=\"edge\">\n<title>55&#45;&gt;56</title>\n<path fill=\"none\" stroke=\"black\" d=\"M3794.52,-103.73C3790.21,-95.15 3785.66,-86.09 3781.32,-77.46\"/>\n<polygon fill=\"black\" stroke=\"black\" points=\"3784.34,-75.66 3776.73,-68.3 3778.09,-78.81 3784.34,-75.66\"/>\n</g>\n<!-- 57 -->\n<g id=\"node58\" class=\"node\">\n<title>57</title>\n<path fill=\"#9253e8\" stroke=\"black\" d=\"M3941.5,-68C3941.5,-68 3848.5,-68 3848.5,-68 3842.5,-68 3836.5,-62 3836.5,-56 3836.5,-56 3836.5,-12 3836.5,-12 3836.5,-6 3842.5,0 3848.5,0 3848.5,0 3941.5,0 3941.5,0 3947.5,0 3953.5,-6 3953.5,-12 3953.5,-12 3953.5,-56 3953.5,-56 3953.5,-62 3947.5,-68 3941.5,-68\"/>\n<text text-anchor=\"start\" x=\"3859.5\" y=\"-52.8\" font-family=\"Helvetica,sans-Serif\" font-size=\"14.00\">gini = 0.206</text>\n<text text-anchor=\"start\" x=\"3854\" y=\"-37.8\" font-family=\"Helvetica,sans-Serif\" font-size=\"14.00\">samples = 43</text>\n<text text-anchor=\"start\" x=\"3844.5\" y=\"-22.8\" font-family=\"Helvetica,sans-Serif\" font-size=\"14.00\">value = [5, 0, 38]</text>\n<text text-anchor=\"start\" x=\"3867.5\" y=\"-7.8\" font-family=\"Helvetica,sans-Serif\" font-size=\"14.00\">class = p</text>\n</g>\n<!-- 55&#45;&gt;57 -->\n<g id=\"edge57\" class=\"edge\">\n<title>55&#45;&gt;57</title>\n<path fill=\"none\" stroke=\"black\" d=\"M3844.79,-103.73C3851.25,-94.88 3858.1,-85.51 3864.59,-76.63\"/>\n<polygon fill=\"black\" stroke=\"black\" points=\"3867.6,-78.44 3870.67,-68.3 3861.95,-74.31 3867.6,-78.44\"/>\n</g>\n<!-- 59 -->\n<g id=\"node60\" class=\"node\">\n<title>59</title>\n<path fill=\"#e58139\" stroke=\"black\" d=\"M4070,-68C4070,-68 3984,-68 3984,-68 3978,-68 3972,-62 3972,-56 3972,-56 3972,-12 3972,-12 3972,-6 3978,0 3984,0 3984,0 4070,0 4070,0 4076,0 4082,-6 4082,-12 4082,-12 4082,-56 4082,-56 4082,-62 4076,-68 4070,-68\"/>\n<text text-anchor=\"start\" x=\"3999\" y=\"-52.8\" font-family=\"Helvetica,sans-Serif\" font-size=\"14.00\">gini = 0.0</text>\n<text text-anchor=\"start\" x=\"3989.5\" y=\"-37.8\" font-family=\"Helvetica,sans-Serif\" font-size=\"14.00\">samples = 4</text>\n<text text-anchor=\"start\" x=\"3980\" y=\"-22.8\" font-family=\"Helvetica,sans-Serif\" font-size=\"14.00\">value = [4, 0, 0]</text>\n<text text-anchor=\"start\" x=\"3999.5\" y=\"-7.8\" font-family=\"Helvetica,sans-Serif\" font-size=\"14.00\">class = T</text>\n</g>\n<!-- 58&#45;&gt;59 -->\n<g id=\"edge59\" class=\"edge\">\n<title>58&#45;&gt;59</title>\n<path fill=\"none\" stroke=\"black\" d=\"M4027,-103.73C4027,-95.52 4027,-86.86 4027,-78.56\"/>\n<polygon fill=\"black\" stroke=\"black\" points=\"4030.5,-78.3 4027,-68.3 4023.5,-78.3 4030.5,-78.3\"/>\n</g>\n<!-- 60 -->\n<g id=\"node61\" class=\"node\">\n<title>60</title>\n<path fill=\"#8139e5\" stroke=\"black\" d=\"M4198,-68C4198,-68 4112,-68 4112,-68 4106,-68 4100,-62 4100,-56 4100,-56 4100,-12 4100,-12 4100,-6 4106,0 4112,0 4112,0 4198,0 4198,0 4204,0 4210,-6 4210,-12 4210,-12 4210,-56 4210,-56 4210,-62 4204,-68 4198,-68\"/>\n<text text-anchor=\"start\" x=\"4127\" y=\"-52.8\" font-family=\"Helvetica,sans-Serif\" font-size=\"14.00\">gini = 0.0</text>\n<text text-anchor=\"start\" x=\"4117.5\" y=\"-37.8\" font-family=\"Helvetica,sans-Serif\" font-size=\"14.00\">samples = 1</text>\n<text text-anchor=\"start\" x=\"4108\" y=\"-22.8\" font-family=\"Helvetica,sans-Serif\" font-size=\"14.00\">value = [0, 0, 1]</text>\n<text text-anchor=\"start\" x=\"4127.5\" y=\"-7.8\" font-family=\"Helvetica,sans-Serif\" font-size=\"14.00\">class = p</text>\n</g>\n<!-- 58&#45;&gt;60 -->\n<g id=\"edge60\" class=\"edge\">\n<title>58&#45;&gt;60</title>\n<path fill=\"none\" stroke=\"black\" d=\"M4074.66,-103.73C4085.64,-94.33 4097.31,-84.35 4108.26,-74.99\"/>\n<polygon fill=\"black\" stroke=\"black\" points=\"4110.75,-77.46 4116.07,-68.3 4106.2,-72.14 4110.75,-77.46\"/>\n</g>\n</g>\n</svg>\n",
            "text/plain": [
              "<graphviz.sources.Source at 0x7ee75edd4bb0>"
            ]
          },
          "metadata": {}
        }
      ]
    },
    {
      "cell_type": "code",
      "source": [
        "# print to the output file\n",
        "print('**************************************************************', file = outputFile)\n",
        "print('(A) Classifier 2 - Top DT', file = outputFile)\n",
        "print(classifier_2, file = outputFile)\n",
        "print(f'best parameters: {classifier_2.best_params_}\\n', file = outputFile)\n",
        "print('\\n', file = outputFile)\n",
        "outputFile.flush()"
      ],
      "metadata": {
        "id": "o8yWMcL873FK"
      },
      "execution_count": 130,
      "outputs": []
    },
    {
      "cell_type": "code",
      "source": [
        "# print classification report\n",
        "y_pred = classifier_2.predict(X_test)\n",
        "confusion_mat= confusion_matrix(y_test, y_pred)\n",
        "\n",
        "print(classification_report(y_test, y_pred, target_names=['F', 'M', 'I']))\n",
        "print(\"confusion matrix\\n\",confusion_mat)\n",
        "\n",
        "# print the result to the output file\n",
        "confusion_matrix_result =np.array2string(confusion_mat)\n",
        "print(\"(B) Confusion Matrix\", file = outputFile)\n",
        "print(confusion_matrix_result, file = outputFile)\n",
        "print('\\n', file = outputFile)\n",
        "print('(C,D) Classification Report', file = outputFile)\n",
        "print(classification_report(y_test, y_pred, target_names = ['F', 'M', 'I']), file = outputFile)\n",
        "outputFile.flush()"
      ],
      "metadata": {
        "id": "v88y-qmq73OR",
        "outputId": "4357d670-4b49-4d43-c9da-fb16e77f2285",
        "colab": {
          "base_uri": "https://localhost:8080/"
        }
      },
      "execution_count": 131,
      "outputs": [
        {
          "output_type": "stream",
          "name": "stdout",
          "text": [
            "              precision    recall  f1-score   support\n",
            "\n",
            "           F       0.44      0.50      0.47       397\n",
            "           M       0.79      0.66      0.72       399\n",
            "           I       0.40      0.41      0.41       458\n",
            "\n",
            "    accuracy                           0.52      1254\n",
            "   macro avg       0.54      0.52      0.53      1254\n",
            "weighted avg       0.54      0.52      0.52      1254\n",
            "\n",
            "confusion matrix\n",
            " [[197  22 178]\n",
            " [ 34 263 102]\n",
            " [219  50 189]]\n"
          ]
        }
      ]
    },
    {
      "cell_type": "code",
      "source": [
        "# repeat training & prediction 5 times for classifier 2\n",
        "from sklearn.metrics import accuracy_score, f1_score\n",
        "\n",
        "accuracy_baseDT = np.zeros(5)\n",
        "macro_avg_baseDT = np.zeros(5)\n",
        "weighted_avg_baseDT = np.zeros(5)\n",
        "\n",
        "for i in range(5):\n",
        "  X_train, X_test, y_train, y_test = train_test_split(X, y, test_size = 0.3)\n",
        "  classifier_2.fit(X_train, y_train)\n",
        "  y_pred = classifier_1.predict(X_test)\n",
        "\n",
        "  # find the accuracy for each iteration and store the value\n",
        "  accuracy_baseDT[i] = accuracy_score(y_test, y_pred)\n",
        "  macro_avg_baseDT[i] = f1_score(y_test, y_pred, average='macro')\n",
        "  weighted_avg_baseDT[i] = f1_score(y_test, y_pred, average='weighted')\n",
        "\n",
        "# compute the average accuracy & variances\n",
        "print(f'accuracy_baseDT: {accuracy_baseDT}')\n",
        "Avg_accuracy = (np.sum(accuracy_baseDT))/5\n",
        "accuracy_variance = np.var(accuracy_baseDT)\n",
        "print(f'average accuracy: {Avg_accuracy}, variance: {accuracy_variance}')\n",
        "\n",
        "# compute the average macro-average F1 & the variance\n",
        "print(f'macro_avg_baseDT: {macro_avg_baseDT}')\n",
        "Avg_macro_avg = (np.sum(macro_avg_baseDT))/5\n",
        "f1_macro_variance = np.var(macro_avg_baseDT)\n",
        "print(f'average macro-average F1: {Avg_macro_avg}, variance: {f1_macro_variance}')\n",
        "\n",
        "# compute the average weighted-average F1 & the variance\n",
        "print(f'weighted_avg_baseDT: {weighted_avg_baseDT}')\n",
        "Avg_weighted_avg = (np.sum(weighted_avg_baseDT))/5\n",
        "f1_weighted_variance = np.var(weighted_avg_baseDT)\n",
        "print(f'average weighted-average F1: {Avg_weighted_avg}, variance: {f1_weighted_variance}')"
      ],
      "metadata": {
        "colab": {
          "base_uri": "https://localhost:8080/"
        },
        "id": "ctr66poidV4P",
        "outputId": "1ac8fd22-bdbf-4080-c83a-d692c99eb3a6"
      },
      "execution_count": 132,
      "outputs": [
        {
          "output_type": "stream",
          "name": "stdout",
          "text": [
            "accuracy_baseDT: [0.51275917 0.57256778 0.54704944 0.53030303 0.55103668]\n",
            "average accuracy: 0.5427432216905902, variance: 0.0004061262333737773\n",
            "macro_avg_baseDT: [0.42140103 0.45711911 0.43871341 0.43328057 0.44257412]\n",
            "average macro-average F1: 0.43861764856027036, variance: 0.00013657267317293868\n",
            "weighted_avg_baseDT: [0.41545335 0.47701374 0.45609984 0.43179203 0.45654465]\n",
            "average weighted-average F1: 0.447380723082793, variance: 0.0004600960971595846\n"
          ]
        }
      ]
    },
    {
      "cell_type": "code",
      "source": [
        "# print the performance result to outputfile\n",
        "print('\\n(E) The result after 5 times of train-test repetition:' ,file = outputFile)\n",
        "print(f'average accuracy: {Avg_accuracy}, variance: {accuracy_variance}', file = outputFile)\n",
        "print(f'average macro-average F1: {Avg_macro_avg}, variance: {f1_macro_variance}', file = outputFile)\n",
        "print(f'average weighted-average F1: {Avg_weighted_avg}, variance: {f1_weighted_variance}', file = outputFile)\n",
        "outputFile.flush()"
      ],
      "metadata": {
        "id": "x9YFP9uEdV62"
      },
      "execution_count": 133,
      "outputs": []
    },
    {
      "cell_type": "markdown",
      "source": [
        "##### Classifier 3 - Base-MLP"
      ],
      "metadata": {
        "id": "GQrsfw6Xm1nI"
      }
    },
    {
      "cell_type": "code",
      "source": [
        "#Train Classifier 3\n",
        "mlp_base_abalone = MLPClassifier(hidden_layer_sizes =(100, 100,), activation = 'logistic', solver = 'sgd')\n",
        "mlp_base_abalone.fit(X_train, y_train)\n",
        "\n",
        "#print to the output file\n",
        "print('**************************************************************', file = outputFile)\n",
        "print('(A) Classifier 3 - Base MLP', file = outputFile)\n",
        "print(mlp_base_abalone, file = outputFile)"
      ],
      "metadata": {
        "id": "MiIPiod7m7qC"
      },
      "execution_count": 134,
      "outputs": []
    },
    {
      "cell_type": "markdown",
      "source": [
        "Metrics for Classifier 3"
      ],
      "metadata": {
        "id": "1TD8ynkGoZAP"
      }
    },
    {
      "cell_type": "code",
      "source": [
        "#predict with Base MLP\n",
        "y_pred_base_mlp = mlp_base_abalone.predict(X_test)\n",
        "\n",
        "#print the result here on notebook\n",
        "print(classification_report(y_test, y_pred_base_mlp, target_names = ['F', 'M', 'I']))\n",
        "print(confusion_matrix(y_test, y_pred_base_mlp))\n",
        "\n",
        "#print the result to the output file\n",
        "print(\"\\n(B) Confusion Matrix\", file = outputFile)\n",
        "confusion_matrix_result = np.array2string(confusion_matrix(y_test, y_pred_base_mlp))\n",
        "print(confusion_matrix_result, file = outputFile)\n",
        "print(\"\\n(C, D) Classification Report\", file = outputFile)\n",
        "print(classification_report(y_test, y_pred_base_mlp, target_names = ['F', 'M', 'I']), file = outputFile)\n",
        "\n",
        "outputFile.flush()"
      ],
      "metadata": {
        "id": "coh8LE0bocLA",
        "outputId": "a0956dc0-b934-4d81-ce55-719503606564",
        "colab": {
          "base_uri": "https://localhost:8080/"
        }
      },
      "execution_count": 135,
      "outputs": [
        {
          "output_type": "stream",
          "name": "stdout",
          "text": [
            "              precision    recall  f1-score   support\n",
            "\n",
            "           F       0.40      0.01      0.02       387\n",
            "           M       0.65      0.79      0.72       411\n",
            "           I       0.46      0.75      0.57       456\n",
            "\n",
            "    accuracy                           0.53      1254\n",
            "   macro avg       0.50      0.52      0.43      1254\n",
            "weighted avg       0.50      0.53      0.45      1254\n",
            "\n",
            "[[  4  64 319]\n",
            " [  0 326  85]\n",
            " [  6 110 340]]\n"
          ]
        }
      ]
    },
    {
      "cell_type": "code",
      "source": [
        "MLP_base_train_test_repetition(X, y, outputFile, ['F', 'M', 'I'])"
      ],
      "metadata": {
        "id": "Ss7voSkYmhiK"
      },
      "execution_count": 136,
      "outputs": []
    },
    {
      "cell_type": "markdown",
      "source": [
        "##### Classifier 4 - Top-MLP"
      ],
      "metadata": {
        "id": "okD7I5KHnODP"
      }
    },
    {
      "cell_type": "code",
      "source": [
        "#create grid for each hyperparamter we want to test\n",
        "activation_grid = np.array(['logistic', 'tanh', 'relu'])\n",
        "neurons_tuple_grid = np.array([(30, 50,), (10, 10, 10,)])\n",
        "solver_grid = np.array(['adam', 'sgd'])\n",
        "\n",
        "#create parameter grid for GridSearchCV\n",
        "param_grid = {'hidden_layer_sizes': neurons_tuple_grid, 'activation': activation_grid, 'solver': solver_grid}\n",
        "\n",
        "#create grid cv object and search\n",
        "mlp_top_abalone = MLPClassifier()\n",
        "gridcv = sk.model_selection.GridSearchCV(mlp_top_abalone, param_grid = param_grid)\n",
        "gridcv.fit(X_train, y_train)\n",
        "\n",
        "#print the result here on notebook\n",
        "print(f'best parameters: {gridcv.best_params_}')\n",
        "\n",
        "#print the result to the output file\n",
        "print('**************************************************************', file = outputFile)\n",
        "print('(A) Classifier 4 - Top MLP', file = outputFile)\n",
        "print(f'best parameters: {gridcv.best_params_}', file = outputFile)\n",
        "outputFile.flush()"
      ],
      "metadata": {
        "id": "mphIulW3nREP",
        "outputId": "5abdcdd0-1a98-452a-dba9-7fd888feb1f3",
        "colab": {
          "base_uri": "https://localhost:8080/"
        }
      },
      "execution_count": 137,
      "outputs": [
        {
          "output_type": "stream",
          "name": "stdout",
          "text": [
            "best parameters: {'activation': 'tanh', 'hidden_layer_sizes': (30, 50), 'solver': 'adam'}\n"
          ]
        }
      ]
    },
    {
      "cell_type": "markdown",
      "source": [
        "Metrics for Classifier 4"
      ],
      "metadata": {
        "id": "PXrrvETEpQNZ"
      }
    },
    {
      "cell_type": "code",
      "source": [
        "y_pred_top_mlp = gridcv.best_estimator_.predict(X_test)\n",
        "print(classification_report(y_test, y_pred_top_mlp, target_names = ['F', 'M', 'I']))\n",
        "print(confusion_matrix(y_test, y_pred_top_mlp))\n",
        "\n",
        "print(\"\\n(B) Confusion Matrix\", file = outputFile)\n",
        "confusion_matrix_result = np.array2string(confusion_matrix(y_test, y_pred_top_mlp))\n",
        "print(confusion_matrix_result, file = outputFile)\n",
        "print(\"\\n(C, D) Classification Report\", file = outputFile)\n",
        "print(classification_report(y_test, y_pred_top_mlp, target_names = ['F', 'M', 'I']), file = outputFile)\n",
        "\n",
        "outputFile.flush()"
      ],
      "metadata": {
        "id": "KbwAcoZLpSQW",
        "outputId": "27394855-837f-4456-cfc6-b37e3c7c05b2",
        "colab": {
          "base_uri": "https://localhost:8080/"
        }
      },
      "execution_count": 138,
      "outputs": [
        {
          "output_type": "stream",
          "name": "stdout",
          "text": [
            "              precision    recall  f1-score   support\n",
            "\n",
            "           F       0.43      0.36      0.39       387\n",
            "           M       0.70      0.79      0.75       411\n",
            "           I       0.46      0.47      0.47       456\n",
            "\n",
            "    accuracy                           0.54      1254\n",
            "   macro avg       0.53      0.54      0.54      1254\n",
            "weighted avg       0.53      0.54      0.54      1254\n",
            "\n",
            "[[141  51 195]\n",
            " [ 32 325  54]\n",
            " [156  85 215]]\n"
          ]
        }
      ]
    },
    {
      "cell_type": "code",
      "source": [
        "MLP_top_train_test_repetition(param_grid, X, y, outputFile, ['F', 'M', 'I'])"
      ],
      "metadata": {
        "id": "gTPJwcXCnwYK"
      },
      "execution_count": 139,
      "outputs": []
    },
    {
      "cell_type": "code",
      "source": [
        "outputFile.close()"
      ],
      "metadata": {
        "id": "4AxS7Io7pFta"
      },
      "execution_count": 140,
      "outputs": []
    }
  ]
}