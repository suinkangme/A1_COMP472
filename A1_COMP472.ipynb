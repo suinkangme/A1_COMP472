{
  "nbformat": 4,
  "nbformat_minor": 0,
  "metadata": {
    "colab": {
      "provenance": [],
      "collapsed_sections": [
        "n3GMoC3wzPte"
      ],
      "include_colab_link": true
    },
    "kernelspec": {
      "name": "python3",
      "display_name": "Python 3"
    },
    "language_info": {
      "name": "python"
    }
  },
  "cells": [
    {
      "cell_type": "markdown",
      "metadata": {
        "id": "view-in-github",
        "colab_type": "text"
      },
      "source": [
        "<a href=\"https://colab.research.google.com/github/suinkangme/A1_COMP472/blob/main/A1_COMP472.ipynb\" target=\"_parent\"><img src=\"https://colab.research.google.com/assets/colab-badge.svg\" alt=\"Open In Colab\"/></a>"
      ]
    },
    {
      "cell_type": "markdown",
      "source": [
        "# A1 - COMP 472\n",
        "\n",
        "Hyun Soo Kim 40174913\n",
        "\n",
        "Suin Kang 40129337"
      ],
      "metadata": {
        "id": "OuS04gqWrlBb"
      }
    },
    {
      "cell_type": "code",
      "source": [
        "import pandas as pd\n",
        "import sklearn as sk\n",
        "import numpy as np\n",
        "import matplotlib.pyplot as plt\n",
        "import seaborn as sns\n",
        "import graphviz\n",
        "from sklearn.metrics import classification_report\n",
        "from sklearn.metrics import confusion_matrix\n",
        "import warnings\n",
        "from sklearn.neural_network import MLPClassifier"
      ],
      "metadata": {
        "id": "plbuWv54rsMP"
      },
      "execution_count": 1,
      "outputs": []
    },
    {
      "cell_type": "markdown",
      "source": [
        "### Import the MyDrive library from CoLab"
      ],
      "metadata": {
        "id": "n3GMoC3wzPte"
      }
    },
    {
      "cell_type": "code",
      "source": [
        "from google.colab import drive\n",
        "drive.mount('/content/drive')\n",
        "\n",
        "# the directory owns this notebook and dataset\n",
        "import os\n",
        "os.chdir('/content/drive/MyDrive/comp472/')"
      ],
      "metadata": {
        "id": "QM05GBSaoZIy",
        "colab": {
          "base_uri": "https://localhost:8080/"
        },
        "outputId": "35efb535-cf78-469f-8179-e02a4a61b08d"
      },
      "execution_count": 2,
      "outputs": [
        {
          "output_type": "stream",
          "name": "stdout",
          "text": [
            "Mounted at /content/drive\n"
          ]
        }
      ]
    },
    {
      "cell_type": "markdown",
      "source": [
        "### Definition of train-test-repetition function"
      ],
      "metadata": {
        "id": "UQWo18d_G_Au"
      }
    },
    {
      "cell_type": "code",
      "source": [
        "def MLP_base_train_test_repetition(X, y, outputFile, target_names):\n",
        "  accuracy = []\n",
        "  macro_avg = []\n",
        "  weighted_avg = []\n",
        "\n",
        "  print(\"\\nBase MLP Train-Test Repetition\\n\", file = outputFile)\n",
        "\n",
        "  #repeat 5 times\n",
        "  for i in range (0,5):\n",
        "\n",
        "    #data is shuffled every time\n",
        "    X_train, X_test, y_train, y_test = train_test_split(X, y, test_size = 0.3)\n",
        "\n",
        "    #base MLP\n",
        "    #initialize new model with same hyperparameters\n",
        "    model = MLPClassifier(hidden_layer_sizes = (100, 100,), activation = 'logistic', solver = 'sgd')\n",
        "\n",
        "    #train and predict\n",
        "    model.fit(X_train, y_train)\n",
        "    y_pred = model.predict(X_test)\n",
        "\n",
        "    #for average accuracy / macro-average f1 score / weighted-average f1 score and variance calculation\n",
        "    output = classification_report(y_test, y_pred, target_names = target_names, output_dict = True)\n",
        "    accuracy.append(output['accuracy'])\n",
        "    macro_avg.append(output['macro avg']['f1-score'])\n",
        "    weighted_avg.append(output['weighted avg']['f1-score'])\n",
        "\n",
        "    #print to text file. This would make it easier to validate the result of each model\n",
        "    print(f'=== Iteration {i+1} === ', file = outputFile)\n",
        "    print(f\"(A) {model}\\n\", file = outputFile)\n",
        "    print(\"(B) Confusion Matrix\", file = outputFile)\n",
        "    confusion_matrix_result = confusion_matrix(y_test, y_pred)\n",
        "    print(confusion_matrix_result, file = outputFile)\n",
        "\n",
        "    print(\"\\n(C,D) Classification Report\", file = outputFile)\n",
        "    print(classification_report(y_test, y_pred, target_names = target_names), file =outputFile)\n",
        "\n",
        "  #append the calculation in the report\n",
        "  print('(E) The result after 5 times of train-test repetition:' ,file = outputFile)\n",
        "  print(f'\\tThe average accuracy / variance: {np.mean(accuracy): 6.4f}, {np.var(accuracy): 6.6f}', file = outputFile)\n",
        "  print(f'\\tThe average macro-average f1 score / variance: {np.mean(macro_avg): 6.4f}, {np.var(macro_avg): 6.6f}', file = outputFile)\n",
        "  print(f'\\tThe average weighted-average f1 score / variance: {np.mean(weighted_avg): 6.4f}, {np.var(weighted_avg): 6.6f}', file = outputFile)\n",
        "  print('\\n', file = outputFile)\n",
        "  outputFile.flush()"
      ],
      "metadata": {
        "id": "V7wnBMtiS7ns"
      },
      "execution_count": 65,
      "outputs": []
    },
    {
      "cell_type": "code",
      "source": [
        "def MLP_top_train_test_repetition(param_grid, X, y, outputFile, target_names):\n",
        "  accuracy = []\n",
        "  macro_avg = []\n",
        "  weighted_avg = []\n",
        "\n",
        "  print(\"\\nTop MLP Train-Test Repetition\\n\", file = outputFile)\n",
        "\n",
        "  #repeat 5 times\n",
        "  for i in range (0,5):\n",
        "\n",
        "    #data is shuffled every time\n",
        "    X_train, X_test, y_train, y_test = train_test_split(X, y, test_size = 0.3)\n",
        "\n",
        "    #top MLP\n",
        "    #initialize new model with same hyperparameters\n",
        "    gridcv = sk.model_selection.GridSearchCV(MLPClassifier(), param_grid = param_grid)\n",
        "    gridcv.fit(X_train, y_train)\n",
        "\n",
        "    #predict\n",
        "    y_pred = gridcv.best_estimator_.predict(X_test)\n",
        "\n",
        "    #for average accuracy / macro-average f1 score / weighted-average f1 score and variance calculation\n",
        "    output = classification_report(y_test, y_pred, target_names = target_names, output_dict = True)\n",
        "    accuracy.append(output['accuracy'])\n",
        "    macro_avg.append(output['macro avg']['f1-score'])\n",
        "    weighted_avg.append(output['weighted avg']['f1-score'])\n",
        "\n",
        "    #print to text file. This would make it easier to validate the result of each model\n",
        "    print(f'=== Iteration {i+1} === ', file = outputFile)\n",
        "    print(f\"(A) {gridcv.best_params_}\", file = outputFile)\n",
        "    print(\"(B) Confusion Matrix\", file = outputFile)\n",
        "    confusion_matrix_result = confusion_matrix(y_test, y_pred)\n",
        "    print(confusion_matrix_result, file = outputFile)\n",
        "\n",
        "    print(\"\\n(C,D) Classification Report\", file = outputFile)\n",
        "    print(classification_report(y_test, y_pred, target_names = target_names), file =outputFile)\n",
        "\n",
        "  #append the calculation in the report\n",
        "  print('(E) The result after 5 times of train-test repetition:' ,file = outputFile)\n",
        "  print(f'\\tThe average accuracy / variance: {np.mean(accuracy): 6.4f}, {np.var(accuracy): 6.6f}', file = outputFile)\n",
        "  print(f'\\tThe average macro-average f1 score / variance: {np.mean(macro_avg): 6.4f}, {np.var(macro_avg): 6.6f}', file = outputFile)\n",
        "  print(f'\\tThe average weighted-average f1 score / variance: {np.mean(weighted_avg): 6.4f}, {np.var(weighted_avg): 6.6f}', file = outputFile)\n",
        "  print('\\n', file = outputFile)\n",
        "  outputFile.flush()"
      ],
      "metadata": {
        "id": "wJbuEpDgTOo4"
      },
      "execution_count": 67,
      "outputs": []
    },
    {
      "cell_type": "markdown",
      "source": [
        "## Dataset - 'penguins.csv'\n",
        "- Goal : prediction of species\n",
        "(Adelie, Gentoo, Chinstap)"
      ],
      "metadata": {
        "id": "a0o_UdOEzTw_"
      }
    },
    {
      "cell_type": "code",
      "source": [
        "outputFile = open ('penguin-classes.txt', 'w')\n",
        "warnings.filterwarnings('ignore')"
      ],
      "metadata": {
        "id": "fmJJQACk9aQs"
      },
      "execution_count": 5,
      "outputs": []
    },
    {
      "cell_type": "code",
      "source": [
        "data_penguins = pd.read_csv('penguins.csv')\n",
        "data_penguins.head()"
      ],
      "metadata": {
        "id": "RdWPdNdHn_cP",
        "colab": {
          "base_uri": "https://localhost:8080/",
          "height": 206
        },
        "outputId": "ae66c717-b3b9-4a39-cf40-63a770f553fc"
      },
      "execution_count": 6,
      "outputs": [
        {
          "output_type": "execute_result",
          "data": {
            "text/plain": [
              "  species     island  culmen_length_mm  culmen_depth_mm  flipper_length_mm  \\\n",
              "0  Adelie  Torgersen              39.1             18.7                181   \n",
              "1  Adelie  Torgersen              39.5             17.4                186   \n",
              "2  Adelie  Torgersen              40.3             18.0                195   \n",
              "3  Adelie  Torgersen              36.7             19.3                193   \n",
              "4  Adelie  Torgersen              39.3             20.6                190   \n",
              "\n",
              "   body_mass_g     sex  \n",
              "0         3750    MALE  \n",
              "1         3800  FEMALE  \n",
              "2         3250  FEMALE  \n",
              "3         3450  FEMALE  \n",
              "4         3650    MALE  "
            ],
            "text/html": [
              "\n",
              "  <div id=\"df-f6e6fff5-d150-4fed-bfe9-72cbf59734b2\" class=\"colab-df-container\">\n",
              "    <div>\n",
              "<style scoped>\n",
              "    .dataframe tbody tr th:only-of-type {\n",
              "        vertical-align: middle;\n",
              "    }\n",
              "\n",
              "    .dataframe tbody tr th {\n",
              "        vertical-align: top;\n",
              "    }\n",
              "\n",
              "    .dataframe thead th {\n",
              "        text-align: right;\n",
              "    }\n",
              "</style>\n",
              "<table border=\"1\" class=\"dataframe\">\n",
              "  <thead>\n",
              "    <tr style=\"text-align: right;\">\n",
              "      <th></th>\n",
              "      <th>species</th>\n",
              "      <th>island</th>\n",
              "      <th>culmen_length_mm</th>\n",
              "      <th>culmen_depth_mm</th>\n",
              "      <th>flipper_length_mm</th>\n",
              "      <th>body_mass_g</th>\n",
              "      <th>sex</th>\n",
              "    </tr>\n",
              "  </thead>\n",
              "  <tbody>\n",
              "    <tr>\n",
              "      <th>0</th>\n",
              "      <td>Adelie</td>\n",
              "      <td>Torgersen</td>\n",
              "      <td>39.1</td>\n",
              "      <td>18.7</td>\n",
              "      <td>181</td>\n",
              "      <td>3750</td>\n",
              "      <td>MALE</td>\n",
              "    </tr>\n",
              "    <tr>\n",
              "      <th>1</th>\n",
              "      <td>Adelie</td>\n",
              "      <td>Torgersen</td>\n",
              "      <td>39.5</td>\n",
              "      <td>17.4</td>\n",
              "      <td>186</td>\n",
              "      <td>3800</td>\n",
              "      <td>FEMALE</td>\n",
              "    </tr>\n",
              "    <tr>\n",
              "      <th>2</th>\n",
              "      <td>Adelie</td>\n",
              "      <td>Torgersen</td>\n",
              "      <td>40.3</td>\n",
              "      <td>18.0</td>\n",
              "      <td>195</td>\n",
              "      <td>3250</td>\n",
              "      <td>FEMALE</td>\n",
              "    </tr>\n",
              "    <tr>\n",
              "      <th>3</th>\n",
              "      <td>Adelie</td>\n",
              "      <td>Torgersen</td>\n",
              "      <td>36.7</td>\n",
              "      <td>19.3</td>\n",
              "      <td>193</td>\n",
              "      <td>3450</td>\n",
              "      <td>FEMALE</td>\n",
              "    </tr>\n",
              "    <tr>\n",
              "      <th>4</th>\n",
              "      <td>Adelie</td>\n",
              "      <td>Torgersen</td>\n",
              "      <td>39.3</td>\n",
              "      <td>20.6</td>\n",
              "      <td>190</td>\n",
              "      <td>3650</td>\n",
              "      <td>MALE</td>\n",
              "    </tr>\n",
              "  </tbody>\n",
              "</table>\n",
              "</div>\n",
              "    <div class=\"colab-df-buttons\">\n",
              "\n",
              "  <div class=\"colab-df-container\">\n",
              "    <button class=\"colab-df-convert\" onclick=\"convertToInteractive('df-f6e6fff5-d150-4fed-bfe9-72cbf59734b2')\"\n",
              "            title=\"Convert this dataframe to an interactive table.\"\n",
              "            style=\"display:none;\">\n",
              "\n",
              "  <svg xmlns=\"http://www.w3.org/2000/svg\" height=\"24px\" viewBox=\"0 -960 960 960\">\n",
              "    <path d=\"M120-120v-720h720v720H120Zm60-500h600v-160H180v160Zm220 220h160v-160H400v160Zm0 220h160v-160H400v160ZM180-400h160v-160H180v160Zm440 0h160v-160H620v160ZM180-180h160v-160H180v160Zm440 0h160v-160H620v160Z\"/>\n",
              "  </svg>\n",
              "    </button>\n",
              "\n",
              "  <style>\n",
              "    .colab-df-container {\n",
              "      display:flex;\n",
              "      gap: 12px;\n",
              "    }\n",
              "\n",
              "    .colab-df-convert {\n",
              "      background-color: #E8F0FE;\n",
              "      border: none;\n",
              "      border-radius: 50%;\n",
              "      cursor: pointer;\n",
              "      display: none;\n",
              "      fill: #1967D2;\n",
              "      height: 32px;\n",
              "      padding: 0 0 0 0;\n",
              "      width: 32px;\n",
              "    }\n",
              "\n",
              "    .colab-df-convert:hover {\n",
              "      background-color: #E2EBFA;\n",
              "      box-shadow: 0px 1px 2px rgba(60, 64, 67, 0.3), 0px 1px 3px 1px rgba(60, 64, 67, 0.15);\n",
              "      fill: #174EA6;\n",
              "    }\n",
              "\n",
              "    .colab-df-buttons div {\n",
              "      margin-bottom: 4px;\n",
              "    }\n",
              "\n",
              "    [theme=dark] .colab-df-convert {\n",
              "      background-color: #3B4455;\n",
              "      fill: #D2E3FC;\n",
              "    }\n",
              "\n",
              "    [theme=dark] .colab-df-convert:hover {\n",
              "      background-color: #434B5C;\n",
              "      box-shadow: 0px 1px 3px 1px rgba(0, 0, 0, 0.15);\n",
              "      filter: drop-shadow(0px 1px 2px rgba(0, 0, 0, 0.3));\n",
              "      fill: #FFFFFF;\n",
              "    }\n",
              "  </style>\n",
              "\n",
              "    <script>\n",
              "      const buttonEl =\n",
              "        document.querySelector('#df-f6e6fff5-d150-4fed-bfe9-72cbf59734b2 button.colab-df-convert');\n",
              "      buttonEl.style.display =\n",
              "        google.colab.kernel.accessAllowed ? 'block' : 'none';\n",
              "\n",
              "      async function convertToInteractive(key) {\n",
              "        const element = document.querySelector('#df-f6e6fff5-d150-4fed-bfe9-72cbf59734b2');\n",
              "        const dataTable =\n",
              "          await google.colab.kernel.invokeFunction('convertToInteractive',\n",
              "                                                    [key], {});\n",
              "        if (!dataTable) return;\n",
              "\n",
              "        const docLinkHtml = 'Like what you see? Visit the ' +\n",
              "          '<a target=\"_blank\" href=https://colab.research.google.com/notebooks/data_table.ipynb>data table notebook</a>'\n",
              "          + ' to learn more about interactive tables.';\n",
              "        element.innerHTML = '';\n",
              "        dataTable['output_type'] = 'display_data';\n",
              "        await google.colab.output.renderOutput(dataTable, element);\n",
              "        const docLink = document.createElement('div');\n",
              "        docLink.innerHTML = docLinkHtml;\n",
              "        element.appendChild(docLink);\n",
              "      }\n",
              "    </script>\n",
              "  </div>\n",
              "\n",
              "\n",
              "<div id=\"df-b86bfd7a-bde6-4c32-a4a1-89bb6713b82b\">\n",
              "  <button class=\"colab-df-quickchart\" onclick=\"quickchart('df-b86bfd7a-bde6-4c32-a4a1-89bb6713b82b')\"\n",
              "            title=\"Suggest charts\"\n",
              "            style=\"display:none;\">\n",
              "\n",
              "<svg xmlns=\"http://www.w3.org/2000/svg\" height=\"24px\"viewBox=\"0 0 24 24\"\n",
              "     width=\"24px\">\n",
              "    <g>\n",
              "        <path d=\"M19 3H5c-1.1 0-2 .9-2 2v14c0 1.1.9 2 2 2h14c1.1 0 2-.9 2-2V5c0-1.1-.9-2-2-2zM9 17H7v-7h2v7zm4 0h-2V7h2v10zm4 0h-2v-4h2v4z\"/>\n",
              "    </g>\n",
              "</svg>\n",
              "  </button>\n",
              "\n",
              "<style>\n",
              "  .colab-df-quickchart {\n",
              "      --bg-color: #E8F0FE;\n",
              "      --fill-color: #1967D2;\n",
              "      --hover-bg-color: #E2EBFA;\n",
              "      --hover-fill-color: #174EA6;\n",
              "      --disabled-fill-color: #AAA;\n",
              "      --disabled-bg-color: #DDD;\n",
              "  }\n",
              "\n",
              "  [theme=dark] .colab-df-quickchart {\n",
              "      --bg-color: #3B4455;\n",
              "      --fill-color: #D2E3FC;\n",
              "      --hover-bg-color: #434B5C;\n",
              "      --hover-fill-color: #FFFFFF;\n",
              "      --disabled-bg-color: #3B4455;\n",
              "      --disabled-fill-color: #666;\n",
              "  }\n",
              "\n",
              "  .colab-df-quickchart {\n",
              "    background-color: var(--bg-color);\n",
              "    border: none;\n",
              "    border-radius: 50%;\n",
              "    cursor: pointer;\n",
              "    display: none;\n",
              "    fill: var(--fill-color);\n",
              "    height: 32px;\n",
              "    padding: 0;\n",
              "    width: 32px;\n",
              "  }\n",
              "\n",
              "  .colab-df-quickchart:hover {\n",
              "    background-color: var(--hover-bg-color);\n",
              "    box-shadow: 0 1px 2px rgba(60, 64, 67, 0.3), 0 1px 3px 1px rgba(60, 64, 67, 0.15);\n",
              "    fill: var(--button-hover-fill-color);\n",
              "  }\n",
              "\n",
              "  .colab-df-quickchart-complete:disabled,\n",
              "  .colab-df-quickchart-complete:disabled:hover {\n",
              "    background-color: var(--disabled-bg-color);\n",
              "    fill: var(--disabled-fill-color);\n",
              "    box-shadow: none;\n",
              "  }\n",
              "\n",
              "  .colab-df-spinner {\n",
              "    border: 2px solid var(--fill-color);\n",
              "    border-color: transparent;\n",
              "    border-bottom-color: var(--fill-color);\n",
              "    animation:\n",
              "      spin 1s steps(1) infinite;\n",
              "  }\n",
              "\n",
              "  @keyframes spin {\n",
              "    0% {\n",
              "      border-color: transparent;\n",
              "      border-bottom-color: var(--fill-color);\n",
              "      border-left-color: var(--fill-color);\n",
              "    }\n",
              "    20% {\n",
              "      border-color: transparent;\n",
              "      border-left-color: var(--fill-color);\n",
              "      border-top-color: var(--fill-color);\n",
              "    }\n",
              "    30% {\n",
              "      border-color: transparent;\n",
              "      border-left-color: var(--fill-color);\n",
              "      border-top-color: var(--fill-color);\n",
              "      border-right-color: var(--fill-color);\n",
              "    }\n",
              "    40% {\n",
              "      border-color: transparent;\n",
              "      border-right-color: var(--fill-color);\n",
              "      border-top-color: var(--fill-color);\n",
              "    }\n",
              "    60% {\n",
              "      border-color: transparent;\n",
              "      border-right-color: var(--fill-color);\n",
              "    }\n",
              "    80% {\n",
              "      border-color: transparent;\n",
              "      border-right-color: var(--fill-color);\n",
              "      border-bottom-color: var(--fill-color);\n",
              "    }\n",
              "    90% {\n",
              "      border-color: transparent;\n",
              "      border-bottom-color: var(--fill-color);\n",
              "    }\n",
              "  }\n",
              "</style>\n",
              "\n",
              "  <script>\n",
              "    async function quickchart(key) {\n",
              "      const quickchartButtonEl =\n",
              "        document.querySelector('#' + key + ' button');\n",
              "      quickchartButtonEl.disabled = true;  // To prevent multiple clicks.\n",
              "      quickchartButtonEl.classList.add('colab-df-spinner');\n",
              "      try {\n",
              "        const charts = await google.colab.kernel.invokeFunction(\n",
              "            'suggestCharts', [key], {});\n",
              "      } catch (error) {\n",
              "        console.error('Error during call to suggestCharts:', error);\n",
              "      }\n",
              "      quickchartButtonEl.classList.remove('colab-df-spinner');\n",
              "      quickchartButtonEl.classList.add('colab-df-quickchart-complete');\n",
              "    }\n",
              "    (() => {\n",
              "      let quickchartButtonEl =\n",
              "        document.querySelector('#df-b86bfd7a-bde6-4c32-a4a1-89bb6713b82b button');\n",
              "      quickchartButtonEl.style.display =\n",
              "        google.colab.kernel.accessAllowed ? 'block' : 'none';\n",
              "    })();\n",
              "  </script>\n",
              "</div>\n",
              "    </div>\n",
              "  </div>\n"
            ]
          },
          "metadata": {},
          "execution_count": 6
        }
      ]
    },
    {
      "cell_type": "markdown",
      "source": [
        "#### Data Preprocessing\n",
        "- data encoding for categorical values: 'island', 'sex' column"
      ],
      "metadata": {
        "id": "skf8lGQB1Hpk"
      }
    },
    {
      "cell_type": "code",
      "source": [
        "from sklearn.preprocessing import OneHotEncoder\n",
        "\n",
        "island = np.array(data_penguins['island']).reshape(-1, 1)\n",
        "island_label = OneHotEncoder().fit_transform(island)\n",
        "data_penguins['island'] = island_label.toarray()\n",
        "\n",
        "df = pd.DataFrame({'island':['Torgersen','Biscoe','Dream']})\n",
        "pd.get_dummies(df)"
      ],
      "metadata": {
        "id": "bO_arEeWzl2p",
        "colab": {
          "base_uri": "https://localhost:8080/",
          "height": 144
        },
        "outputId": "ea819291-afe8-43ab-b689-7e790bc5c3af"
      },
      "execution_count": 7,
      "outputs": [
        {
          "output_type": "execute_result",
          "data": {
            "text/plain": [
              "   island_Biscoe  island_Dream  island_Torgersen\n",
              "0              0             0                 1\n",
              "1              1             0                 0\n",
              "2              0             1                 0"
            ],
            "text/html": [
              "\n",
              "  <div id=\"df-2e3efa14-ffb4-4410-bb6f-dc768133e57b\" class=\"colab-df-container\">\n",
              "    <div>\n",
              "<style scoped>\n",
              "    .dataframe tbody tr th:only-of-type {\n",
              "        vertical-align: middle;\n",
              "    }\n",
              "\n",
              "    .dataframe tbody tr th {\n",
              "        vertical-align: top;\n",
              "    }\n",
              "\n",
              "    .dataframe thead th {\n",
              "        text-align: right;\n",
              "    }\n",
              "</style>\n",
              "<table border=\"1\" class=\"dataframe\">\n",
              "  <thead>\n",
              "    <tr style=\"text-align: right;\">\n",
              "      <th></th>\n",
              "      <th>island_Biscoe</th>\n",
              "      <th>island_Dream</th>\n",
              "      <th>island_Torgersen</th>\n",
              "    </tr>\n",
              "  </thead>\n",
              "  <tbody>\n",
              "    <tr>\n",
              "      <th>0</th>\n",
              "      <td>0</td>\n",
              "      <td>0</td>\n",
              "      <td>1</td>\n",
              "    </tr>\n",
              "    <tr>\n",
              "      <th>1</th>\n",
              "      <td>1</td>\n",
              "      <td>0</td>\n",
              "      <td>0</td>\n",
              "    </tr>\n",
              "    <tr>\n",
              "      <th>2</th>\n",
              "      <td>0</td>\n",
              "      <td>1</td>\n",
              "      <td>0</td>\n",
              "    </tr>\n",
              "  </tbody>\n",
              "</table>\n",
              "</div>\n",
              "    <div class=\"colab-df-buttons\">\n",
              "\n",
              "  <div class=\"colab-df-container\">\n",
              "    <button class=\"colab-df-convert\" onclick=\"convertToInteractive('df-2e3efa14-ffb4-4410-bb6f-dc768133e57b')\"\n",
              "            title=\"Convert this dataframe to an interactive table.\"\n",
              "            style=\"display:none;\">\n",
              "\n",
              "  <svg xmlns=\"http://www.w3.org/2000/svg\" height=\"24px\" viewBox=\"0 -960 960 960\">\n",
              "    <path d=\"M120-120v-720h720v720H120Zm60-500h600v-160H180v160Zm220 220h160v-160H400v160Zm0 220h160v-160H400v160ZM180-400h160v-160H180v160Zm440 0h160v-160H620v160ZM180-180h160v-160H180v160Zm440 0h160v-160H620v160Z\"/>\n",
              "  </svg>\n",
              "    </button>\n",
              "\n",
              "  <style>\n",
              "    .colab-df-container {\n",
              "      display:flex;\n",
              "      gap: 12px;\n",
              "    }\n",
              "\n",
              "    .colab-df-convert {\n",
              "      background-color: #E8F0FE;\n",
              "      border: none;\n",
              "      border-radius: 50%;\n",
              "      cursor: pointer;\n",
              "      display: none;\n",
              "      fill: #1967D2;\n",
              "      height: 32px;\n",
              "      padding: 0 0 0 0;\n",
              "      width: 32px;\n",
              "    }\n",
              "\n",
              "    .colab-df-convert:hover {\n",
              "      background-color: #E2EBFA;\n",
              "      box-shadow: 0px 1px 2px rgba(60, 64, 67, 0.3), 0px 1px 3px 1px rgba(60, 64, 67, 0.15);\n",
              "      fill: #174EA6;\n",
              "    }\n",
              "\n",
              "    .colab-df-buttons div {\n",
              "      margin-bottom: 4px;\n",
              "    }\n",
              "\n",
              "    [theme=dark] .colab-df-convert {\n",
              "      background-color: #3B4455;\n",
              "      fill: #D2E3FC;\n",
              "    }\n",
              "\n",
              "    [theme=dark] .colab-df-convert:hover {\n",
              "      background-color: #434B5C;\n",
              "      box-shadow: 0px 1px 3px 1px rgba(0, 0, 0, 0.15);\n",
              "      filter: drop-shadow(0px 1px 2px rgba(0, 0, 0, 0.3));\n",
              "      fill: #FFFFFF;\n",
              "    }\n",
              "  </style>\n",
              "\n",
              "    <script>\n",
              "      const buttonEl =\n",
              "        document.querySelector('#df-2e3efa14-ffb4-4410-bb6f-dc768133e57b button.colab-df-convert');\n",
              "      buttonEl.style.display =\n",
              "        google.colab.kernel.accessAllowed ? 'block' : 'none';\n",
              "\n",
              "      async function convertToInteractive(key) {\n",
              "        const element = document.querySelector('#df-2e3efa14-ffb4-4410-bb6f-dc768133e57b');\n",
              "        const dataTable =\n",
              "          await google.colab.kernel.invokeFunction('convertToInteractive',\n",
              "                                                    [key], {});\n",
              "        if (!dataTable) return;\n",
              "\n",
              "        const docLinkHtml = 'Like what you see? Visit the ' +\n",
              "          '<a target=\"_blank\" href=https://colab.research.google.com/notebooks/data_table.ipynb>data table notebook</a>'\n",
              "          + ' to learn more about interactive tables.';\n",
              "        element.innerHTML = '';\n",
              "        dataTable['output_type'] = 'display_data';\n",
              "        await google.colab.output.renderOutput(dataTable, element);\n",
              "        const docLink = document.createElement('div');\n",
              "        docLink.innerHTML = docLinkHtml;\n",
              "        element.appendChild(docLink);\n",
              "      }\n",
              "    </script>\n",
              "  </div>\n",
              "\n",
              "\n",
              "<div id=\"df-e0c1c2a9-53e8-427a-befc-a3327813758b\">\n",
              "  <button class=\"colab-df-quickchart\" onclick=\"quickchart('df-e0c1c2a9-53e8-427a-befc-a3327813758b')\"\n",
              "            title=\"Suggest charts\"\n",
              "            style=\"display:none;\">\n",
              "\n",
              "<svg xmlns=\"http://www.w3.org/2000/svg\" height=\"24px\"viewBox=\"0 0 24 24\"\n",
              "     width=\"24px\">\n",
              "    <g>\n",
              "        <path d=\"M19 3H5c-1.1 0-2 .9-2 2v14c0 1.1.9 2 2 2h14c1.1 0 2-.9 2-2V5c0-1.1-.9-2-2-2zM9 17H7v-7h2v7zm4 0h-2V7h2v10zm4 0h-2v-4h2v4z\"/>\n",
              "    </g>\n",
              "</svg>\n",
              "  </button>\n",
              "\n",
              "<style>\n",
              "  .colab-df-quickchart {\n",
              "      --bg-color: #E8F0FE;\n",
              "      --fill-color: #1967D2;\n",
              "      --hover-bg-color: #E2EBFA;\n",
              "      --hover-fill-color: #174EA6;\n",
              "      --disabled-fill-color: #AAA;\n",
              "      --disabled-bg-color: #DDD;\n",
              "  }\n",
              "\n",
              "  [theme=dark] .colab-df-quickchart {\n",
              "      --bg-color: #3B4455;\n",
              "      --fill-color: #D2E3FC;\n",
              "      --hover-bg-color: #434B5C;\n",
              "      --hover-fill-color: #FFFFFF;\n",
              "      --disabled-bg-color: #3B4455;\n",
              "      --disabled-fill-color: #666;\n",
              "  }\n",
              "\n",
              "  .colab-df-quickchart {\n",
              "    background-color: var(--bg-color);\n",
              "    border: none;\n",
              "    border-radius: 50%;\n",
              "    cursor: pointer;\n",
              "    display: none;\n",
              "    fill: var(--fill-color);\n",
              "    height: 32px;\n",
              "    padding: 0;\n",
              "    width: 32px;\n",
              "  }\n",
              "\n",
              "  .colab-df-quickchart:hover {\n",
              "    background-color: var(--hover-bg-color);\n",
              "    box-shadow: 0 1px 2px rgba(60, 64, 67, 0.3), 0 1px 3px 1px rgba(60, 64, 67, 0.15);\n",
              "    fill: var(--button-hover-fill-color);\n",
              "  }\n",
              "\n",
              "  .colab-df-quickchart-complete:disabled,\n",
              "  .colab-df-quickchart-complete:disabled:hover {\n",
              "    background-color: var(--disabled-bg-color);\n",
              "    fill: var(--disabled-fill-color);\n",
              "    box-shadow: none;\n",
              "  }\n",
              "\n",
              "  .colab-df-spinner {\n",
              "    border: 2px solid var(--fill-color);\n",
              "    border-color: transparent;\n",
              "    border-bottom-color: var(--fill-color);\n",
              "    animation:\n",
              "      spin 1s steps(1) infinite;\n",
              "  }\n",
              "\n",
              "  @keyframes spin {\n",
              "    0% {\n",
              "      border-color: transparent;\n",
              "      border-bottom-color: var(--fill-color);\n",
              "      border-left-color: var(--fill-color);\n",
              "    }\n",
              "    20% {\n",
              "      border-color: transparent;\n",
              "      border-left-color: var(--fill-color);\n",
              "      border-top-color: var(--fill-color);\n",
              "    }\n",
              "    30% {\n",
              "      border-color: transparent;\n",
              "      border-left-color: var(--fill-color);\n",
              "      border-top-color: var(--fill-color);\n",
              "      border-right-color: var(--fill-color);\n",
              "    }\n",
              "    40% {\n",
              "      border-color: transparent;\n",
              "      border-right-color: var(--fill-color);\n",
              "      border-top-color: var(--fill-color);\n",
              "    }\n",
              "    60% {\n",
              "      border-color: transparent;\n",
              "      border-right-color: var(--fill-color);\n",
              "    }\n",
              "    80% {\n",
              "      border-color: transparent;\n",
              "      border-right-color: var(--fill-color);\n",
              "      border-bottom-color: var(--fill-color);\n",
              "    }\n",
              "    90% {\n",
              "      border-color: transparent;\n",
              "      border-bottom-color: var(--fill-color);\n",
              "    }\n",
              "  }\n",
              "</style>\n",
              "\n",
              "  <script>\n",
              "    async function quickchart(key) {\n",
              "      const quickchartButtonEl =\n",
              "        document.querySelector('#' + key + ' button');\n",
              "      quickchartButtonEl.disabled = true;  // To prevent multiple clicks.\n",
              "      quickchartButtonEl.classList.add('colab-df-spinner');\n",
              "      try {\n",
              "        const charts = await google.colab.kernel.invokeFunction(\n",
              "            'suggestCharts', [key], {});\n",
              "      } catch (error) {\n",
              "        console.error('Error during call to suggestCharts:', error);\n",
              "      }\n",
              "      quickchartButtonEl.classList.remove('colab-df-spinner');\n",
              "      quickchartButtonEl.classList.add('colab-df-quickchart-complete');\n",
              "    }\n",
              "    (() => {\n",
              "      let quickchartButtonEl =\n",
              "        document.querySelector('#df-e0c1c2a9-53e8-427a-befc-a3327813758b button');\n",
              "      quickchartButtonEl.style.display =\n",
              "        google.colab.kernel.accessAllowed ? 'block' : 'none';\n",
              "    })();\n",
              "  </script>\n",
              "</div>\n",
              "    </div>\n",
              "  </div>\n"
            ]
          },
          "metadata": {},
          "execution_count": 7
        }
      ]
    },
    {
      "cell_type": "code",
      "source": [
        "from sklearn.preprocessing import LabelEncoder\n",
        "\n",
        "data_penguins['sex'] = LabelEncoder().fit_transform(data_penguins['sex'])"
      ],
      "metadata": {
        "id": "5T0LfRzozl4u"
      },
      "execution_count": 8,
      "outputs": []
    },
    {
      "cell_type": "markdown",
      "source": [
        "#### Plot the percentage of the instances"
      ],
      "metadata": {
        "id": "Ychlgawv36Yr"
      }
    },
    {
      "cell_type": "code",
      "source": [
        "# Check the output class is balanced\n",
        "penguins_labels = data_penguins['species']\n",
        "\n",
        "plt.figure(figsize=(10, 6))\n",
        "sns.countplot(x=penguins_labels)\n",
        "plt.title('Distribution of class label')\n",
        "plt.xlabel('Penguins')\n",
        "plt.ylabel('Frequency')\n",
        "\n",
        "# save as graphic\n",
        "plt.savefig('penguin-classes.png')"
      ],
      "metadata": {
        "colab": {
          "base_uri": "https://localhost:8080/",
          "height": 564
        },
        "id": "2_YBHCBg38nQ",
        "outputId": "8ee5c361-44b2-4c50-b7f5-f667b15778f5"
      },
      "execution_count": 9,
      "outputs": [
        {
          "output_type": "display_data",
          "data": {
            "text/plain": [
              "<Figure size 1000x600 with 1 Axes>"
            ],
            "image/png": "[encoded data removed]"
          },
          "metadata": {}
        }
      ]
    },
    {
      "cell_type": "markdown",
      "source": [
        "#### Dataset split into training & test set"
      ],
      "metadata": {
        "id": "YitW0dfF3zLc"
      }
    },
    {
      "cell_type": "code",
      "source": [
        "# perform feature scaling\n",
        "from sklearn.preprocessing import StandardScaler\n",
        "scaled_features_penguins = StandardScaler().fit_transform(data_penguins.iloc[:, 1:].values)\n",
        "X = scaled_features_penguins\n",
        "y = data_penguins.iloc[:,0].values"
      ],
      "metadata": {
        "id": "0wcAQElszl97"
      },
      "execution_count": 10,
      "outputs": []
    },
    {
      "cell_type": "code",
      "source": [
        "from sklearn.model_selection import train_test_split\n",
        "X_train, X_test, y_train, y_test = train_test_split(X, y, test_size = 0.3)"
      ],
      "metadata": {
        "id": "sThVNxcLzmAB"
      },
      "execution_count": 11,
      "outputs": []
    },
    {
      "cell_type": "markdown",
      "source": [
        "#### Train 4 different classifier"
      ],
      "metadata": {
        "id": "fWpPUU6EYP3T"
      }
    },
    {
      "cell_type": "markdown",
      "source": [
        "##### Classifier 1 - Base-DT"
      ],
      "metadata": {
        "id": "i1Wbs_2C3Q6E"
      }
    },
    {
      "cell_type": "code",
      "source": [
        "from sklearn.tree import DecisionTreeClassifier\n",
        "\n",
        "# Base Decision Tree\n",
        "classifier_1 = DecisionTreeClassifier()\n",
        "classifier_1.fit(X_train, y_train)"
      ],
      "metadata": {
        "id": "JN61PJ3W5jcb",
        "colab": {
          "base_uri": "https://localhost:8080/",
          "height": 75
        },
        "outputId": "64395fc0-daaa-4179-8dfb-c756708c4b58"
      },
      "execution_count": 12,
      "outputs": [
        {
          "output_type": "execute_result",
          "data": {
            "text/plain": [
              "DecisionTreeClassifier()"
            ],
            "text/html": [
              "<style>#sk-container-id-1 {color: black;background-color: white;}#sk-container-id-1 pre{padding: 0;}#sk-container-id-1 div.sk-toggleable {background-color: white;}#sk-container-id-1 label.sk-toggleable__label {cursor: pointer;display: block;width: 100%;margin-bottom: 0;padding: 0.3em;box-sizing: border-box;text-align: center;}#sk-container-id-1 label.sk-toggleable__label-arrow:before {content: \"▸\";float: left;margin-right: 0.25em;color: #696969;}#sk-container-id-1 label.sk-toggleable__label-arrow:hover:before {color: black;}#sk-container-id-1 div.sk-estimator:hover label.sk-toggleable__label-arrow:before {color: black;}#sk-container-id-1 div.sk-toggleable__content {max-height: 0;max-width: 0;overflow: hidden;text-align: left;background-color: #f0f8ff;}#sk-container-id-1 div.sk-toggleable__content pre {margin: 0.2em;color: black;border-radius: 0.25em;background-color: #f0f8ff;}#sk-container-id-1 input.sk-toggleable__control:checked~div.sk-toggleable__content {max-height: 200px;max-width: 100%;overflow: auto;}#sk-container-id-1 input.sk-toggleable__control:checked~label.sk-toggleable__label-arrow:before {content: \"▾\";}#sk-container-id-1 div.sk-estimator input.sk-toggleable__control:checked~label.sk-toggleable__label {background-color: #d4ebff;}#sk-container-id-1 div.sk-label input.sk-toggleable__control:checked~label.sk-toggleable__label {background-color: #d4ebff;}#sk-container-id-1 input.sk-hidden--visually {border: 0;clip: rect(1px 1px 1px 1px);clip: rect(1px, 1px, 1px, 1px);height: 1px;margin: -1px;overflow: hidden;padding: 0;position: absolute;width: 1px;}#sk-container-id-1 div.sk-estimator {font-family: monospace;background-color: #f0f8ff;border: 1px dotted black;border-radius: 0.25em;box-sizing: border-box;margin-bottom: 0.5em;}#sk-container-id-1 div.sk-estimator:hover {background-color: #d4ebff;}#sk-container-id-1 div.sk-parallel-item::after {content: \"\";width: 100%;border-bottom: 1px solid gray;flex-grow: 1;}#sk-container-id-1 div.sk-label:hover label.sk-toggleable__label {background-color: #d4ebff;}#sk-container-id-1 div.sk-serial::before {content: \"\";position: absolute;border-left: 1px solid gray;box-sizing: border-box;top: 0;bottom: 0;left: 50%;z-index: 0;}#sk-container-id-1 div.sk-serial {display: flex;flex-direction: column;align-items: center;background-color: white;padding-right: 0.2em;padding-left: 0.2em;position: relative;}#sk-container-id-1 div.sk-item {position: relative;z-index: 1;}#sk-container-id-1 div.sk-parallel {display: flex;align-items: stretch;justify-content: center;background-color: white;position: relative;}#sk-container-id-1 div.sk-item::before, #sk-container-id-1 div.sk-parallel-item::before {content: \"\";position: absolute;border-left: 1px solid gray;box-sizing: border-box;top: 0;bottom: 0;left: 50%;z-index: -1;}#sk-container-id-1 div.sk-parallel-item {display: flex;flex-direction: column;z-index: 1;position: relative;background-color: white;}#sk-container-id-1 div.sk-parallel-item:first-child::after {align-self: flex-end;width: 50%;}#sk-container-id-1 div.sk-parallel-item:last-child::after {align-self: flex-start;width: 50%;}#sk-container-id-1 div.sk-parallel-item:only-child::after {width: 0;}#sk-container-id-1 div.sk-dashed-wrapped {border: 1px dashed gray;margin: 0 0.4em 0.5em 0.4em;box-sizing: border-box;padding-bottom: 0.4em;background-color: white;}#sk-container-id-1 div.sk-label label {font-family: monospace;font-weight: bold;display: inline-block;line-height: 1.2em;}#sk-container-id-1 div.sk-label-container {text-align: center;}#sk-container-id-1 div.sk-container {/* jupyter's `normalize.less` sets `[hidden] { display: none; }` but bootstrap.min.css set `[hidden] { display: none !important; }` so we also need the `!important` here to be able to override the default hidden behavior on the sphinx rendered scikit-learn.org. See: https://github.com/scikit-learn/scikit-learn/issues/21755 */display: inline-block !important;position: relative;}#sk-container-id-1 div.sk-text-repr-fallback {display: none;}</style><div id=\"sk-container-id-1\" class=\"sk-top-container\"><div class=\"sk-text-repr-fallback\"><pre>DecisionTreeClassifier()</pre><b>In a Jupyter environment, please rerun this cell to show the HTML representation or trust the notebook. <br />On GitHub, the HTML representation is unable to render, please try loading this page with nbviewer.org.</b></div><div class=\"sk-container\" hidden><div class=\"sk-item\"><div class=\"sk-estimator sk-toggleable\"><input class=\"sk-toggleable__control sk-hidden--visually\" id=\"sk-estimator-id-1\" type=\"checkbox\" checked><label for=\"sk-estimator-id-1\" class=\"sk-toggleable__label sk-toggleable__label-arrow\">DecisionTreeClassifier</label><div class=\"sk-toggleable__content\"><pre>DecisionTreeClassifier()</pre></div></div></div></div></div>"
            ]
          },
          "metadata": {},
          "execution_count": 12
        }
      ]
    },
    {
      "cell_type": "code",
      "source": [
        "penguins_class = data_penguins.columns[0]\n",
        "penguins_features = list(data_penguins.columns[1:])"
      ],
      "metadata": {
        "id": "s_J2ed_v--zl"
      },
      "execution_count": 13,
      "outputs": []
    },
    {
      "cell_type": "code",
      "source": [
        "from sklearn import tree\n",
        "\n",
        "dot_data = tree.export_graphviz(classifier_1,\n",
        "                feature_names=penguins_features,\n",
        "                class_names=penguins_class,\n",
        "                filled=True, rounded=True,\n",
        "                special_characters=True)\n",
        "\n",
        "graph = graphviz.Source(dot_data)\n",
        "graph"
      ],
      "metadata": {
        "id": "hwomCGHCCnKt",
        "outputId": "a87f94fa-fe18-424e-efb4-cc313dcae0e3",
        "colab": {
          "base_uri": "https://localhost:8080/",
          "height": 937
        }
      },
      "execution_count": 14,
      "outputs": [
        {
          "output_type": "execute_result",
          "data": {
            "image/svg+xml": "<?xml version=\"1.0\" encoding=\"UTF-8\" standalone=\"no\"?>\n<!DOCTYPE svg PUBLIC \"-//W3C//DTD SVG 1.1//EN\"\n \"http://www.w3.org/Graphics/SVG/1.1/DTD/svg11.dtd\">\n<!-- Generated by graphviz version 2.43.0 (0)\n -->\n<!-- Title: Tree Pages: 1 -->\n<svg width=\"1179pt\" height=\"671pt\"\n viewBox=\"0.00 0.00 1178.50 671.00\" xmlns=\"http://www.w3.org/2000/svg\" xmlns:xlink=\"http://www.w3.org/1999/xlink\">\n<g id=\"graph0\" class=\"graph\" transform=\"scale(1 1) rotate(0) translate(4 667)\">\n<title>Tree</title>\n<polygon fill=\"white\" stroke=\"transparent\" points=\"-4,4 -4,-667 1174.5,-667 1174.5,4 -4,4\"/>\n<!-- 0 -->\n<g id=\"node1\" class=\"node\">\n<title>0</title>\n<path fill=\"#fef8f4\" stroke=\"black\" d=\"M877,-663C877,-663 731,-663 731,-663 725,-663 719,-657 719,-651 719,-651 719,-592 719,-592 719,-586 725,-580 731,-580 731,-580 877,-580 877,-580 883,-580 889,-586 889,-592 889,-592 889,-651 889,-651 889,-657 883,-663 877,-663\"/>\n<text text-anchor=\"start\" x=\"727\" y=\"-647.8\" font-family=\"Helvetica,sans-Serif\" font-size=\"14.00\">flipper_length_mm ≤ 0.36</text>\n<text text-anchor=\"start\" x=\"768.5\" y=\"-632.8\" font-family=\"Helvetica,sans-Serif\" font-size=\"14.00\">gini = 0.629</text>\n<text text-anchor=\"start\" x=\"759\" y=\"-617.8\" font-family=\"Helvetica,sans-Serif\" font-size=\"14.00\">samples = 233</text>\n<text text-anchor=\"start\" x=\"742\" y=\"-602.8\" font-family=\"Helvetica,sans-Serif\" font-size=\"14.00\">value = [100, 41, 92]</text>\n<text text-anchor=\"start\" x=\"777\" y=\"-587.8\" font-family=\"Helvetica,sans-Serif\" font-size=\"14.00\">class = s</text>\n</g>\n<!-- 1 -->\n<g id=\"node2\" class=\"node\">\n<title>1</title>\n<path fill=\"#efb286\" stroke=\"black\" d=\"M789,-544C789,-544 635,-544 635,-544 629,-544 623,-538 623,-532 623,-532 623,-473 623,-473 623,-467 629,-461 635,-461 635,-461 789,-461 789,-461 795,-461 801,-467 801,-473 801,-473 801,-532 801,-532 801,-538 795,-544 789,-544\"/>\n<text text-anchor=\"start\" x=\"631\" y=\"-528.8\" font-family=\"Helvetica,sans-Serif\" font-size=\"14.00\">culmen_length_mm ≤ 0.12</text>\n<text text-anchor=\"start\" x=\"676.5\" y=\"-513.8\" font-family=\"Helvetica,sans-Serif\" font-size=\"14.00\">gini = 0.409</text>\n<text text-anchor=\"start\" x=\"667\" y=\"-498.8\" font-family=\"Helvetica,sans-Serif\" font-size=\"14.00\">samples = 138</text>\n<text text-anchor=\"start\" x=\"657.5\" y=\"-483.8\" font-family=\"Helvetica,sans-Serif\" font-size=\"14.00\">value = [99, 38, 1]</text>\n<text text-anchor=\"start\" x=\"685\" y=\"-468.8\" font-family=\"Helvetica,sans-Serif\" font-size=\"14.00\">class = s</text>\n</g>\n<!-- 0&#45;&gt;1 -->\n<g id=\"edge1\" class=\"edge\">\n<title>0&#45;&gt;1</title>\n<path fill=\"none\" stroke=\"black\" d=\"M772.08,-579.91C765.02,-570.92 757.46,-561.32 750.18,-552.05\"/>\n<polygon fill=\"black\" stroke=\"black\" points=\"752.8,-549.72 743.86,-544.02 747.29,-554.05 752.8,-549.72\"/>\n<text text-anchor=\"middle\" x=\"740.89\" y=\"-565.14\" font-family=\"Helvetica,sans-Serif\" font-size=\"14.00\">True</text>\n</g>\n<!-- 16 -->\n<g id=\"node17\" class=\"node\">\n<title>16</title>\n<path fill=\"#8642e6\" stroke=\"black\" d=\"M990.5,-544C990.5,-544 897.5,-544 897.5,-544 891.5,-544 885.5,-538 885.5,-532 885.5,-532 885.5,-473 885.5,-473 885.5,-467 891.5,-461 897.5,-461 897.5,-461 990.5,-461 990.5,-461 996.5,-461 1002.5,-467 1002.5,-473 1002.5,-473 1002.5,-532 1002.5,-532 1002.5,-538 996.5,-544 990.5,-544\"/>\n<text text-anchor=\"start\" x=\"901.5\" y=\"-528.8\" font-family=\"Helvetica,sans-Serif\" font-size=\"14.00\">island ≤ 0.021</text>\n<text text-anchor=\"start\" x=\"908.5\" y=\"-513.8\" font-family=\"Helvetica,sans-Serif\" font-size=\"14.00\">gini = 0.081</text>\n<text text-anchor=\"start\" x=\"903\" y=\"-498.8\" font-family=\"Helvetica,sans-Serif\" font-size=\"14.00\">samples = 95</text>\n<text text-anchor=\"start\" x=\"893.5\" y=\"-483.8\" font-family=\"Helvetica,sans-Serif\" font-size=\"14.00\">value = [1, 3, 91]</text>\n<text text-anchor=\"start\" x=\"916.5\" y=\"-468.8\" font-family=\"Helvetica,sans-Serif\" font-size=\"14.00\">class = e</text>\n</g>\n<!-- 0&#45;&gt;16 -->\n<g id=\"edge16\" class=\"edge\">\n<title>0&#45;&gt;16</title>\n<path fill=\"none\" stroke=\"black\" d=\"M852.57,-579.91C863.87,-570.47 875.98,-560.34 887.58,-550.65\"/>\n<polygon fill=\"black\" stroke=\"black\" points=\"890.08,-553.12 895.51,-544.02 885.6,-547.75 890.08,-553.12\"/>\n<text text-anchor=\"middle\" x=\"893.29\" y=\"-565.22\" font-family=\"Helvetica,sans-Serif\" font-size=\"14.00\">False</text>\n</g>\n<!-- 2 -->\n<g id=\"node3\" class=\"node\">\n<title>2</title>\n<path fill=\"#e68743\" stroke=\"black\" d=\"M559,-425C559,-425 393,-425 393,-425 387,-425 381,-419 381,-413 381,-413 381,-354 381,-354 381,-348 387,-342 393,-342 393,-342 559,-342 559,-342 565,-342 571,-348 571,-354 571,-354 571,-413 571,-413 571,-419 565,-425 559,-425\"/>\n<text text-anchor=\"start\" x=\"389\" y=\"-409.8\" font-family=\"Helvetica,sans-Serif\" font-size=\"14.00\">culmen_length_mm ≤ &#45;0.301</text>\n<text text-anchor=\"start\" x=\"440.5\" y=\"-394.8\" font-family=\"Helvetica,sans-Serif\" font-size=\"14.00\">gini = 0.092</text>\n<text text-anchor=\"start\" x=\"431\" y=\"-379.8\" font-family=\"Helvetica,sans-Serif\" font-size=\"14.00\">samples = 103</text>\n<text text-anchor=\"start\" x=\"425.5\" y=\"-364.8\" font-family=\"Helvetica,sans-Serif\" font-size=\"14.00\">value = [98, 5, 0]</text>\n<text text-anchor=\"start\" x=\"449\" y=\"-349.8\" font-family=\"Helvetica,sans-Serif\" font-size=\"14.00\">class = s</text>\n</g>\n<!-- 1&#45;&gt;2 -->\n<g id=\"edge2\" class=\"edge\">\n<title>1&#45;&gt;2</title>\n<path fill=\"none\" stroke=\"black\" d=\"M630.12,-460.91C609.71,-450.79 587.7,-439.88 566.89,-429.56\"/>\n<polygon fill=\"black\" stroke=\"black\" points=\"568.25,-426.33 557.73,-425.02 565.14,-432.6 568.25,-426.33\"/>\n</g>\n<!-- 11 -->\n<g id=\"node12\" class=\"node\">\n<title>11</title>\n<path fill=\"#45e788\" stroke=\"black\" d=\"M775,-425C775,-425 649,-425 649,-425 643,-425 637,-419 637,-413 637,-413 637,-354 637,-354 637,-348 643,-342 649,-342 649,-342 775,-342 775,-342 781,-342 787,-348 787,-354 787,-354 787,-413 787,-413 787,-419 781,-425 775,-425\"/>\n<text text-anchor=\"start\" x=\"645\" y=\"-409.8\" font-family=\"Helvetica,sans-Serif\" font-size=\"14.00\">body_mass_g ≤ 0.427</text>\n<text text-anchor=\"start\" x=\"676.5\" y=\"-394.8\" font-family=\"Helvetica,sans-Serif\" font-size=\"14.00\">gini = 0.109</text>\n<text text-anchor=\"start\" x=\"671\" y=\"-379.8\" font-family=\"Helvetica,sans-Serif\" font-size=\"14.00\">samples = 35</text>\n<text text-anchor=\"start\" x=\"661.5\" y=\"-364.8\" font-family=\"Helvetica,sans-Serif\" font-size=\"14.00\">value = [1, 33, 1]</text>\n<text text-anchor=\"start\" x=\"684.5\" y=\"-349.8\" font-family=\"Helvetica,sans-Serif\" font-size=\"14.00\">class = p</text>\n</g>\n<!-- 1&#45;&gt;11 -->\n<g id=\"edge11\" class=\"edge\">\n<title>1&#45;&gt;11</title>\n<path fill=\"none\" stroke=\"black\" d=\"M712,-460.91C712,-452.65 712,-443.86 712,-435.3\"/>\n<polygon fill=\"black\" stroke=\"black\" points=\"715.5,-435.02 712,-425.02 708.5,-435.02 715.5,-435.02\"/>\n</g>\n<!-- 3 -->\n<g id=\"node4\" class=\"node\">\n<title>3</title>\n<path fill=\"#e5823b\" stroke=\"black\" d=\"M354.5,-306C354.5,-306 191.5,-306 191.5,-306 185.5,-306 179.5,-300 179.5,-294 179.5,-294 179.5,-235 179.5,-235 179.5,-229 185.5,-223 191.5,-223 191.5,-223 354.5,-223 354.5,-223 360.5,-223 366.5,-229 366.5,-235 366.5,-235 366.5,-294 366.5,-294 366.5,-300 360.5,-306 354.5,-306\"/>\n<text text-anchor=\"start\" x=\"187.5\" y=\"-290.8\" font-family=\"Helvetica,sans-Serif\" font-size=\"14.00\">culmen_depth_mm ≤ &#45;0.236</text>\n<text text-anchor=\"start\" x=\"237.5\" y=\"-275.8\" font-family=\"Helvetica,sans-Serif\" font-size=\"14.00\">gini = 0.021</text>\n<text text-anchor=\"start\" x=\"232\" y=\"-260.8\" font-family=\"Helvetica,sans-Serif\" font-size=\"14.00\">samples = 93</text>\n<text text-anchor=\"start\" x=\"222.5\" y=\"-245.8\" font-family=\"Helvetica,sans-Serif\" font-size=\"14.00\">value = [92, 1, 0]</text>\n<text text-anchor=\"start\" x=\"246\" y=\"-230.8\" font-family=\"Helvetica,sans-Serif\" font-size=\"14.00\">class = s</text>\n</g>\n<!-- 2&#45;&gt;3 -->\n<g id=\"edge3\" class=\"edge\">\n<title>2&#45;&gt;3</title>\n<path fill=\"none\" stroke=\"black\" d=\"M405.57,-341.91C388.41,-332.02 369.93,-321.37 352.39,-311.25\"/>\n<polygon fill=\"black\" stroke=\"black\" points=\"353.72,-307.98 343.31,-306.02 350.22,-314.05 353.72,-307.98\"/>\n</g>\n<!-- 8 -->\n<g id=\"node9\" class=\"node\">\n<title>8</title>\n<path fill=\"#f6d5bd\" stroke=\"black\" d=\"M555,-306C555,-306 397,-306 397,-306 391,-306 385,-300 385,-294 385,-294 385,-235 385,-235 385,-229 391,-223 397,-223 397,-223 555,-223 555,-223 561,-223 567,-229 567,-235 567,-235 567,-294 567,-294 567,-300 561,-306 555,-306\"/>\n<text text-anchor=\"start\" x=\"393\" y=\"-290.8\" font-family=\"Helvetica,sans-Serif\" font-size=\"14.00\">flipper_length_mm ≤ &#45;0.819</text>\n<text text-anchor=\"start\" x=\"444\" y=\"-275.8\" font-family=\"Helvetica,sans-Serif\" font-size=\"14.00\">gini = 0.48</text>\n<text text-anchor=\"start\" x=\"435\" y=\"-260.8\" font-family=\"Helvetica,sans-Serif\" font-size=\"14.00\">samples = 10</text>\n<text text-anchor=\"start\" x=\"429\" y=\"-245.8\" font-family=\"Helvetica,sans-Serif\" font-size=\"14.00\">value = [6, 4, 0]</text>\n<text text-anchor=\"start\" x=\"449\" y=\"-230.8\" font-family=\"Helvetica,sans-Serif\" font-size=\"14.00\">class = s</text>\n</g>\n<!-- 2&#45;&gt;8 -->\n<g id=\"edge8\" class=\"edge\">\n<title>2&#45;&gt;8</title>\n<path fill=\"none\" stroke=\"black\" d=\"M476,-341.91C476,-333.65 476,-324.86 476,-316.3\"/>\n<polygon fill=\"black\" stroke=\"black\" points=\"479.5,-316.02 476,-306.02 472.5,-316.02 479.5,-316.02\"/>\n</g>\n<!-- 4 -->\n<g id=\"node5\" class=\"node\">\n<title>4</title>\n<path fill=\"#e99355\" stroke=\"black\" d=\"M202,-187C202,-187 36,-187 36,-187 30,-187 24,-181 24,-175 24,-175 24,-116 24,-116 24,-110 30,-104 36,-104 36,-104 202,-104 202,-104 208,-104 214,-110 214,-116 214,-116 214,-175 214,-175 214,-181 208,-187 202,-187\"/>\n<text text-anchor=\"start\" x=\"32\" y=\"-171.8\" font-family=\"Helvetica,sans-Serif\" font-size=\"14.00\">culmen_length_mm ≤ &#45;0.823</text>\n<text text-anchor=\"start\" x=\"83.5\" y=\"-156.8\" font-family=\"Helvetica,sans-Serif\" font-size=\"14.00\">gini = 0.219</text>\n<text text-anchor=\"start\" x=\"81.5\" y=\"-141.8\" font-family=\"Helvetica,sans-Serif\" font-size=\"14.00\">samples = 8</text>\n<text text-anchor=\"start\" x=\"72\" y=\"-126.8\" font-family=\"Helvetica,sans-Serif\" font-size=\"14.00\">value = [7, 1, 0]</text>\n<text text-anchor=\"start\" x=\"92\" y=\"-111.8\" font-family=\"Helvetica,sans-Serif\" font-size=\"14.00\">class = s</text>\n</g>\n<!-- 3&#45;&gt;4 -->\n<g id=\"edge4\" class=\"edge\">\n<title>3&#45;&gt;4</title>\n<path fill=\"none\" stroke=\"black\" d=\"M219.57,-222.91C206.91,-213.29 193.31,-202.95 180.32,-193.09\"/>\n<polygon fill=\"black\" stroke=\"black\" points=\"182.42,-190.28 172.34,-187.02 178.18,-195.86 182.42,-190.28\"/>\n</g>\n<!-- 7 -->\n<g id=\"node8\" class=\"node\">\n<title>7</title>\n<path fill=\"#e58139\" stroke=\"black\" d=\"M337.5,-179.5C337.5,-179.5 244.5,-179.5 244.5,-179.5 238.5,-179.5 232.5,-173.5 232.5,-167.5 232.5,-167.5 232.5,-123.5 232.5,-123.5 232.5,-117.5 238.5,-111.5 244.5,-111.5 244.5,-111.5 337.5,-111.5 337.5,-111.5 343.5,-111.5 349.5,-117.5 349.5,-123.5 349.5,-123.5 349.5,-167.5 349.5,-167.5 349.5,-173.5 343.5,-179.5 337.5,-179.5\"/>\n<text text-anchor=\"start\" x=\"263\" y=\"-164.3\" font-family=\"Helvetica,sans-Serif\" font-size=\"14.00\">gini = 0.0</text>\n<text text-anchor=\"start\" x=\"250\" y=\"-149.3\" font-family=\"Helvetica,sans-Serif\" font-size=\"14.00\">samples = 85</text>\n<text text-anchor=\"start\" x=\"240.5\" y=\"-134.3\" font-family=\"Helvetica,sans-Serif\" font-size=\"14.00\">value = [85, 0, 0]</text>\n<text text-anchor=\"start\" x=\"264\" y=\"-119.3\" font-family=\"Helvetica,sans-Serif\" font-size=\"14.00\">class = s</text>\n</g>\n<!-- 3&#45;&gt;7 -->\n<g id=\"edge7\" class=\"edge\">\n<title>3&#45;&gt;7</title>\n<path fill=\"none\" stroke=\"black\" d=\"M279.25,-222.91C280.89,-212.2 282.67,-200.62 284.34,-189.78\"/>\n<polygon fill=\"black\" stroke=\"black\" points=\"287.84,-190.08 285.9,-179.67 280.92,-189.02 287.84,-190.08\"/>\n</g>\n<!-- 5 -->\n<g id=\"node6\" class=\"node\">\n<title>5</title>\n<path fill=\"#e58139\" stroke=\"black\" d=\"M98,-68C98,-68 12,-68 12,-68 6,-68 0,-62 0,-56 0,-56 0,-12 0,-12 0,-6 6,0 12,0 12,0 98,0 98,0 104,0 110,-6 110,-12 110,-12 110,-56 110,-56 110,-62 104,-68 98,-68\"/>\n<text text-anchor=\"start\" x=\"27\" y=\"-52.8\" font-family=\"Helvetica,sans-Serif\" font-size=\"14.00\">gini = 0.0</text>\n<text text-anchor=\"start\" x=\"17.5\" y=\"-37.8\" font-family=\"Helvetica,sans-Serif\" font-size=\"14.00\">samples = 7</text>\n<text text-anchor=\"start\" x=\"8\" y=\"-22.8\" font-family=\"Helvetica,sans-Serif\" font-size=\"14.00\">value = [7, 0, 0]</text>\n<text text-anchor=\"start\" x=\"28\" y=\"-7.8\" font-family=\"Helvetica,sans-Serif\" font-size=\"14.00\">class = s</text>\n</g>\n<!-- 4&#45;&gt;5 -->\n<g id=\"edge5\" class=\"edge\">\n<title>4&#45;&gt;5</title>\n<path fill=\"none\" stroke=\"black\" d=\"M95.17,-103.73C90.1,-95.06 84.75,-85.9 79.65,-77.18\"/>\n<polygon fill=\"black\" stroke=\"black\" points=\"82.53,-75.17 74.46,-68.3 76.49,-78.7 82.53,-75.17\"/>\n</g>\n<!-- 6 -->\n<g id=\"node7\" class=\"node\">\n<title>6</title>\n<path fill=\"#39e581\" stroke=\"black\" d=\"M226,-68C226,-68 140,-68 140,-68 134,-68 128,-62 128,-56 128,-56 128,-12 128,-12 128,-6 134,0 140,0 140,0 226,0 226,0 232,0 238,-6 238,-12 238,-12 238,-56 238,-56 238,-62 232,-68 226,-68\"/>\n<text text-anchor=\"start\" x=\"155\" y=\"-52.8\" font-family=\"Helvetica,sans-Serif\" font-size=\"14.00\">gini = 0.0</text>\n<text text-anchor=\"start\" x=\"145.5\" y=\"-37.8\" font-family=\"Helvetica,sans-Serif\" font-size=\"14.00\">samples = 1</text>\n<text text-anchor=\"start\" x=\"136\" y=\"-22.8\" font-family=\"Helvetica,sans-Serif\" font-size=\"14.00\">value = [0, 1, 0]</text>\n<text text-anchor=\"start\" x=\"155.5\" y=\"-7.8\" font-family=\"Helvetica,sans-Serif\" font-size=\"14.00\">class = p</text>\n</g>\n<!-- 4&#45;&gt;6 -->\n<g id=\"edge6\" class=\"edge\">\n<title>4&#45;&gt;6</title>\n<path fill=\"none\" stroke=\"black\" d=\"M142.83,-103.73C147.9,-95.06 153.25,-85.9 158.35,-77.18\"/>\n<polygon fill=\"black\" stroke=\"black\" points=\"161.51,-78.7 163.54,-68.3 155.47,-75.17 161.51,-78.7\"/>\n</g>\n<!-- 9 -->\n<g id=\"node10\" class=\"node\">\n<title>9</title>\n<path fill=\"#39e581\" stroke=\"black\" d=\"M501,-179.5C501,-179.5 415,-179.5 415,-179.5 409,-179.5 403,-173.5 403,-167.5 403,-167.5 403,-123.5 403,-123.5 403,-117.5 409,-111.5 415,-111.5 415,-111.5 501,-111.5 501,-111.5 507,-111.5 513,-117.5 513,-123.5 513,-123.5 513,-167.5 513,-167.5 513,-173.5 507,-179.5 501,-179.5\"/>\n<text text-anchor=\"start\" x=\"430\" y=\"-164.3\" font-family=\"Helvetica,sans-Serif\" font-size=\"14.00\">gini = 0.0</text>\n<text text-anchor=\"start\" x=\"420.5\" y=\"-149.3\" font-family=\"Helvetica,sans-Serif\" font-size=\"14.00\">samples = 4</text>\n<text text-anchor=\"start\" x=\"411\" y=\"-134.3\" font-family=\"Helvetica,sans-Serif\" font-size=\"14.00\">value = [0, 4, 0]</text>\n<text text-anchor=\"start\" x=\"430.5\" y=\"-119.3\" font-family=\"Helvetica,sans-Serif\" font-size=\"14.00\">class = p</text>\n</g>\n<!-- 8&#45;&gt;9 -->\n<g id=\"edge9\" class=\"edge\">\n<title>8&#45;&gt;9</title>\n<path fill=\"none\" stroke=\"black\" d=\"M469.75,-222.91C468.11,-212.2 466.33,-200.62 464.66,-189.78\"/>\n<polygon fill=\"black\" stroke=\"black\" points=\"468.08,-189.02 463.1,-179.67 461.16,-190.08 468.08,-189.02\"/>\n</g>\n<!-- 10 -->\n<g id=\"node11\" class=\"node\">\n<title>10</title>\n<path fill=\"#e58139\" stroke=\"black\" d=\"M629,-179.5C629,-179.5 543,-179.5 543,-179.5 537,-179.5 531,-173.5 531,-167.5 531,-167.5 531,-123.5 531,-123.5 531,-117.5 537,-111.5 543,-111.5 543,-111.5 629,-111.5 629,-111.5 635,-111.5 641,-117.5 641,-123.5 641,-123.5 641,-167.5 641,-167.5 641,-173.5 635,-179.5 629,-179.5\"/>\n<text text-anchor=\"start\" x=\"558\" y=\"-164.3\" font-family=\"Helvetica,sans-Serif\" font-size=\"14.00\">gini = 0.0</text>\n<text text-anchor=\"start\" x=\"548.5\" y=\"-149.3\" font-family=\"Helvetica,sans-Serif\" font-size=\"14.00\">samples = 6</text>\n<text text-anchor=\"start\" x=\"539\" y=\"-134.3\" font-family=\"Helvetica,sans-Serif\" font-size=\"14.00\">value = [6, 0, 0]</text>\n<text text-anchor=\"start\" x=\"559\" y=\"-119.3\" font-family=\"Helvetica,sans-Serif\" font-size=\"14.00\">class = s</text>\n</g>\n<!-- 8&#45;&gt;10 -->\n<g id=\"edge10\" class=\"edge\">\n<title>8&#45;&gt;10</title>\n<path fill=\"none\" stroke=\"black\" d=\"M514.16,-222.91C525.06,-211.32 536.93,-198.7 547.82,-187.11\"/>\n<polygon fill=\"black\" stroke=\"black\" points=\"550.52,-189.35 554.82,-179.67 545.42,-184.56 550.52,-189.35\"/>\n</g>\n<!-- 12 -->\n<g id=\"node13\" class=\"node\">\n<title>12</title>\n<path fill=\"#39e581\" stroke=\"black\" d=\"M690.5,-298.5C690.5,-298.5 597.5,-298.5 597.5,-298.5 591.5,-298.5 585.5,-292.5 585.5,-286.5 585.5,-286.5 585.5,-242.5 585.5,-242.5 585.5,-236.5 591.5,-230.5 597.5,-230.5 597.5,-230.5 690.5,-230.5 690.5,-230.5 696.5,-230.5 702.5,-236.5 702.5,-242.5 702.5,-242.5 702.5,-286.5 702.5,-286.5 702.5,-292.5 696.5,-298.5 690.5,-298.5\"/>\n<text text-anchor=\"start\" x=\"616\" y=\"-283.3\" font-family=\"Helvetica,sans-Serif\" font-size=\"14.00\">gini = 0.0</text>\n<text text-anchor=\"start\" x=\"603\" y=\"-268.3\" font-family=\"Helvetica,sans-Serif\" font-size=\"14.00\">samples = 33</text>\n<text text-anchor=\"start\" x=\"593.5\" y=\"-253.3\" font-family=\"Helvetica,sans-Serif\" font-size=\"14.00\">value = [0, 33, 0]</text>\n<text text-anchor=\"start\" x=\"616.5\" y=\"-238.3\" font-family=\"Helvetica,sans-Serif\" font-size=\"14.00\">class = p</text>\n</g>\n<!-- 11&#45;&gt;12 -->\n<g id=\"edge12\" class=\"edge\">\n<title>11&#45;&gt;12</title>\n<path fill=\"none\" stroke=\"black\" d=\"M688.41,-341.91C681.93,-330.76 674.9,-318.66 668.37,-307.44\"/>\n<polygon fill=\"black\" stroke=\"black\" points=\"671.33,-305.55 663.28,-298.67 665.28,-309.07 671.33,-305.55\"/>\n</g>\n<!-- 13 -->\n<g id=\"node14\" class=\"node\">\n<title>13</title>\n<path fill=\"#ffffff\" stroke=\"black\" d=\"M859,-306C859,-306 733,-306 733,-306 727,-306 721,-300 721,-294 721,-294 721,-235 721,-235 721,-229 727,-223 733,-223 733,-223 859,-223 859,-223 865,-223 871,-229 871,-235 871,-235 871,-294 871,-294 871,-300 865,-306 859,-306\"/>\n<text text-anchor=\"start\" x=\"729\" y=\"-290.8\" font-family=\"Helvetica,sans-Serif\" font-size=\"14.00\">body_mass_g ≤ 0.504</text>\n<text text-anchor=\"start\" x=\"768\" y=\"-275.8\" font-family=\"Helvetica,sans-Serif\" font-size=\"14.00\">gini = 0.5</text>\n<text text-anchor=\"start\" x=\"758.5\" y=\"-260.8\" font-family=\"Helvetica,sans-Serif\" font-size=\"14.00\">samples = 2</text>\n<text text-anchor=\"start\" x=\"749\" y=\"-245.8\" font-family=\"Helvetica,sans-Serif\" font-size=\"14.00\">value = [1, 0, 1]</text>\n<text text-anchor=\"start\" x=\"769\" y=\"-230.8\" font-family=\"Helvetica,sans-Serif\" font-size=\"14.00\">class = s</text>\n</g>\n<!-- 11&#45;&gt;13 -->\n<g id=\"edge13\" class=\"edge\">\n<title>11&#45;&gt;13</title>\n<path fill=\"none\" stroke=\"black\" d=\"M741.14,-341.91C747.53,-333.01 754.35,-323.51 760.94,-314.33\"/>\n<polygon fill=\"black\" stroke=\"black\" points=\"763.92,-316.19 766.91,-306.02 758.23,-312.1 763.92,-316.19\"/>\n</g>\n<!-- 14 -->\n<g id=\"node15\" class=\"node\">\n<title>14</title>\n<path fill=\"#e58139\" stroke=\"black\" d=\"M798,-179.5C798,-179.5 712,-179.5 712,-179.5 706,-179.5 700,-173.5 700,-167.5 700,-167.5 700,-123.5 700,-123.5 700,-117.5 706,-111.5 712,-111.5 712,-111.5 798,-111.5 798,-111.5 804,-111.5 810,-117.5 810,-123.5 810,-123.5 810,-167.5 810,-167.5 810,-173.5 804,-179.5 798,-179.5\"/>\n<text text-anchor=\"start\" x=\"727\" y=\"-164.3\" font-family=\"Helvetica,sans-Serif\" font-size=\"14.00\">gini = 0.0</text>\n<text text-anchor=\"start\" x=\"717.5\" y=\"-149.3\" font-family=\"Helvetica,sans-Serif\" font-size=\"14.00\">samples = 1</text>\n<text text-anchor=\"start\" x=\"708\" y=\"-134.3\" font-family=\"Helvetica,sans-Serif\" font-size=\"14.00\">value = [1, 0, 0]</text>\n<text text-anchor=\"start\" x=\"728\" y=\"-119.3\" font-family=\"Helvetica,sans-Serif\" font-size=\"14.00\">class = s</text>\n</g>\n<!-- 13&#45;&gt;14 -->\n<g id=\"edge14\" class=\"edge\">\n<title>13&#45;&gt;14</title>\n<path fill=\"none\" stroke=\"black\" d=\"M781.78,-222.91C777.95,-211.98 773.8,-200.14 769.93,-189.11\"/>\n<polygon fill=\"black\" stroke=\"black\" points=\"773.23,-187.95 766.62,-179.67 766.63,-190.26 773.23,-187.95\"/>\n</g>\n<!-- 15 -->\n<g id=\"node16\" class=\"node\">\n<title>15</title>\n<path fill=\"#8139e5\" stroke=\"black\" d=\"M926,-179.5C926,-179.5 840,-179.5 840,-179.5 834,-179.5 828,-173.5 828,-167.5 828,-167.5 828,-123.5 828,-123.5 828,-117.5 834,-111.5 840,-111.5 840,-111.5 926,-111.5 926,-111.5 932,-111.5 938,-117.5 938,-123.5 938,-123.5 938,-167.5 938,-167.5 938,-173.5 932,-179.5 926,-179.5\"/>\n<text text-anchor=\"start\" x=\"855\" y=\"-164.3\" font-family=\"Helvetica,sans-Serif\" font-size=\"14.00\">gini = 0.0</text>\n<text text-anchor=\"start\" x=\"845.5\" y=\"-149.3\" font-family=\"Helvetica,sans-Serif\" font-size=\"14.00\">samples = 1</text>\n<text text-anchor=\"start\" x=\"836\" y=\"-134.3\" font-family=\"Helvetica,sans-Serif\" font-size=\"14.00\">value = [0, 0, 1]</text>\n<text text-anchor=\"start\" x=\"855.5\" y=\"-119.3\" font-family=\"Helvetica,sans-Serif\" font-size=\"14.00\">class = e</text>\n</g>\n<!-- 13&#45;&gt;15 -->\n<g id=\"edge15\" class=\"edge\">\n<title>13&#45;&gt;15</title>\n<path fill=\"none\" stroke=\"black\" d=\"M826.18,-222.91C834.64,-211.54 843.83,-199.18 852.31,-187.77\"/>\n<polygon fill=\"black\" stroke=\"black\" points=\"855.18,-189.78 858.34,-179.67 849.56,-185.6 855.18,-189.78\"/>\n</g>\n<!-- 17 -->\n<g id=\"node18\" class=\"node\">\n<title>17</title>\n<path fill=\"#7beeab\" stroke=\"black\" d=\"M1023,-425C1023,-425 865,-425 865,-425 859,-425 853,-419 853,-413 853,-413 853,-354 853,-354 853,-348 859,-342 865,-342 865,-342 1023,-342 1023,-342 1029,-342 1035,-348 1035,-354 1035,-354 1035,-413 1035,-413 1035,-419 1029,-425 1023,-425\"/>\n<text text-anchor=\"start\" x=\"861\" y=\"-409.8\" font-family=\"Helvetica,sans-Serif\" font-size=\"14.00\">culmen_depth_mm ≤ 0.679</text>\n<text text-anchor=\"start\" x=\"908.5\" y=\"-394.8\" font-family=\"Helvetica,sans-Serif\" font-size=\"14.00\">gini = 0.375</text>\n<text text-anchor=\"start\" x=\"906.5\" y=\"-379.8\" font-family=\"Helvetica,sans-Serif\" font-size=\"14.00\">samples = 4</text>\n<text text-anchor=\"start\" x=\"897\" y=\"-364.8\" font-family=\"Helvetica,sans-Serif\" font-size=\"14.00\">value = [1, 3, 0]</text>\n<text text-anchor=\"start\" x=\"916.5\" y=\"-349.8\" font-family=\"Helvetica,sans-Serif\" font-size=\"14.00\">class = p</text>\n</g>\n<!-- 16&#45;&gt;17 -->\n<g id=\"edge17\" class=\"edge\">\n<title>16&#45;&gt;17</title>\n<path fill=\"none\" stroke=\"black\" d=\"M944,-460.91C944,-452.65 944,-443.86 944,-435.3\"/>\n<polygon fill=\"black\" stroke=\"black\" points=\"947.5,-435.02 944,-425.02 940.5,-435.02 947.5,-435.02\"/>\n</g>\n<!-- 20 -->\n<g id=\"node21\" class=\"node\">\n<title>20</title>\n<path fill=\"#8139e5\" stroke=\"black\" d=\"M1158.5,-417.5C1158.5,-417.5 1065.5,-417.5 1065.5,-417.5 1059.5,-417.5 1053.5,-411.5 1053.5,-405.5 1053.5,-405.5 1053.5,-361.5 1053.5,-361.5 1053.5,-355.5 1059.5,-349.5 1065.5,-349.5 1065.5,-349.5 1158.5,-349.5 1158.5,-349.5 1164.5,-349.5 1170.5,-355.5 1170.5,-361.5 1170.5,-361.5 1170.5,-405.5 1170.5,-405.5 1170.5,-411.5 1164.5,-417.5 1158.5,-417.5\"/>\n<text text-anchor=\"start\" x=\"1084\" y=\"-402.3\" font-family=\"Helvetica,sans-Serif\" font-size=\"14.00\">gini = 0.0</text>\n<text text-anchor=\"start\" x=\"1071\" y=\"-387.3\" font-family=\"Helvetica,sans-Serif\" font-size=\"14.00\">samples = 91</text>\n<text text-anchor=\"start\" x=\"1061.5\" y=\"-372.3\" font-family=\"Helvetica,sans-Serif\" font-size=\"14.00\">value = [0, 0, 91]</text>\n<text text-anchor=\"start\" x=\"1084.5\" y=\"-357.3\" font-family=\"Helvetica,sans-Serif\" font-size=\"14.00\">class = e</text>\n</g>\n<!-- 16&#45;&gt;20 -->\n<g id=\"edge20\" class=\"edge\">\n<title>16&#45;&gt;20</title>\n<path fill=\"none\" stroke=\"black\" d=\"M1002.29,-460.91C1019.72,-448.77 1038.78,-435.49 1056.05,-423.46\"/>\n<polygon fill=\"black\" stroke=\"black\" points=\"1058.17,-426.25 1064.38,-417.67 1054.17,-420.51 1058.17,-426.25\"/>\n</g>\n<!-- 18 -->\n<g id=\"node19\" class=\"node\">\n<title>18</title>\n<path fill=\"#e58139\" stroke=\"black\" d=\"M987,-298.5C987,-298.5 901,-298.5 901,-298.5 895,-298.5 889,-292.5 889,-286.5 889,-286.5 889,-242.5 889,-242.5 889,-236.5 895,-230.5 901,-230.5 901,-230.5 987,-230.5 987,-230.5 993,-230.5 999,-236.5 999,-242.5 999,-242.5 999,-286.5 999,-286.5 999,-292.5 993,-298.5 987,-298.5\"/>\n<text text-anchor=\"start\" x=\"916\" y=\"-283.3\" font-family=\"Helvetica,sans-Serif\" font-size=\"14.00\">gini = 0.0</text>\n<text text-anchor=\"start\" x=\"906.5\" y=\"-268.3\" font-family=\"Helvetica,sans-Serif\" font-size=\"14.00\">samples = 1</text>\n<text text-anchor=\"start\" x=\"897\" y=\"-253.3\" font-family=\"Helvetica,sans-Serif\" font-size=\"14.00\">value = [1, 0, 0]</text>\n<text text-anchor=\"start\" x=\"917\" y=\"-238.3\" font-family=\"Helvetica,sans-Serif\" font-size=\"14.00\">class = s</text>\n</g>\n<!-- 17&#45;&gt;18 -->\n<g id=\"edge18\" class=\"edge\">\n<title>17&#45;&gt;18</title>\n<path fill=\"none\" stroke=\"black\" d=\"M944,-341.91C944,-331.2 944,-319.62 944,-308.78\"/>\n<polygon fill=\"black\" stroke=\"black\" points=\"947.5,-308.67 944,-298.67 940.5,-308.67 947.5,-308.67\"/>\n</g>\n<!-- 19 -->\n<g id=\"node20\" class=\"node\">\n<title>19</title>\n<path fill=\"#39e581\" stroke=\"black\" d=\"M1115,-298.5C1115,-298.5 1029,-298.5 1029,-298.5 1023,-298.5 1017,-292.5 1017,-286.5 1017,-286.5 1017,-242.5 1017,-242.5 1017,-236.5 1023,-230.5 1029,-230.5 1029,-230.5 1115,-230.5 1115,-230.5 1121,-230.5 1127,-236.5 1127,-242.5 1127,-242.5 1127,-286.5 1127,-286.5 1127,-292.5 1121,-298.5 1115,-298.5\"/>\n<text text-anchor=\"start\" x=\"1044\" y=\"-283.3\" font-family=\"Helvetica,sans-Serif\" font-size=\"14.00\">gini = 0.0</text>\n<text text-anchor=\"start\" x=\"1034.5\" y=\"-268.3\" font-family=\"Helvetica,sans-Serif\" font-size=\"14.00\">samples = 3</text>\n<text text-anchor=\"start\" x=\"1025\" y=\"-253.3\" font-family=\"Helvetica,sans-Serif\" font-size=\"14.00\">value = [0, 3, 0]</text>\n<text text-anchor=\"start\" x=\"1044.5\" y=\"-238.3\" font-family=\"Helvetica,sans-Serif\" font-size=\"14.00\">class = p</text>\n</g>\n<!-- 17&#45;&gt;19 -->\n<g id=\"edge19\" class=\"edge\">\n<title>17&#45;&gt;19</title>\n<path fill=\"none\" stroke=\"black\" d=\"M988.41,-341.91C1001.33,-330.1 1015.42,-317.22 1028.29,-305.45\"/>\n<polygon fill=\"black\" stroke=\"black\" points=\"1030.7,-308 1035.71,-298.67 1025.97,-302.83 1030.7,-308\"/>\n</g>\n</g>\n</svg>\n",
            "text/plain": [
              "<graphviz.sources.Source at 0x7ee7a4c14a30>"
            ]
          },
          "metadata": {},
          "execution_count": 14
        }
      ]
    },
    {
      "cell_type": "code",
      "source": [
        "# print to the output file\n",
        "print('**************************************************************', file = outputFile)\n",
        "print('(A) Classifier 1 - Base DT', file = outputFile)\n",
        "print(classifier_1, file = outputFile)\n",
        "print('\\n', file = outputFile)"
      ],
      "metadata": {
        "id": "OYDP9qI641PW"
      },
      "execution_count": 15,
      "outputs": []
    },
    {
      "cell_type": "code",
      "source": [
        "# print classification report\n",
        "y_pred = classifier_1.predict(X_test)\n",
        "confusion_mat = confusion_matrix(y_test, y_pred)\n",
        "\n",
        "print(classification_report(y_test, y_pred, target_names=['Adelie', 'Chinstrap', 'Gentoo']))\n",
        "print(\"confusion matrix\\n\",confusion_mat)\n",
        "\n",
        "# print the result to the output file\n",
        "confusion_matrix_result =np.array2string(confusion_mat)\n",
        "print(\"(B) Confusion Matrix\", file = outputFile)\n",
        "print(confusion_matrix_result, file = outputFile)\n",
        "print('\\n', file = outputFile)\n",
        "print(\"(C,D) Classification Report\", file = outputFile)\n",
        "print(classification_report(y_test, y_pred, target_names = ['Adelie', 'Gentoo', 'Chinstap']), file = outputFile)\n",
        "outputFile.flush()"
      ],
      "metadata": {
        "colab": {
          "base_uri": "https://localhost:8080/"
        },
        "id": "o-9zdG295Uzs",
        "outputId": "d7e861db-36cb-494d-8220-140297f4cbad"
      },
      "execution_count": 16,
      "outputs": [
        {
          "output_type": "stream",
          "name": "stdout",
          "text": [
            "              precision    recall  f1-score   support\n",
            "\n",
            "      Adelie       0.98      0.93      0.96        46\n",
            "   Chinstrap       0.90      0.96      0.93        27\n",
            "      Gentoo       1.00      1.00      1.00        27\n",
            "\n",
            "    accuracy                           0.96       100\n",
            "   macro avg       0.96      0.97      0.96       100\n",
            "weighted avg       0.96      0.96      0.96       100\n",
            "\n",
            "confusion matrix\n",
            " [[43  3  0]\n",
            " [ 1 26  0]\n",
            " [ 0  0 27]]\n"
          ]
        }
      ]
    },
    {
      "cell_type": "code",
      "source": [
        "# repeat training & prediction 5 times for classifier 1\n",
        "from sklearn.metrics import accuracy_score, f1_score\n",
        "\n",
        "accuracy_baseDT = np.zeros(5)\n",
        "macro_avg_baseDT = np.zeros(5)\n",
        "weighted_avg_baseDT = np.zeros(5)\n",
        "\n",
        "for i in range(5):\n",
        "  X_train, X_test, y_train, y_test = train_test_split(X, y, test_size = 0.3)\n",
        "  classifier_1.fit(X_train, y_train)\n",
        "  y_pred = classifier_1.predict(X_test)\n",
        "\n",
        "  # find the accuracy for each iteration and store the value\n",
        "  accuracy_baseDT[i] = accuracy_score(y_test, y_pred)\n",
        "  macro_avg_baseDT[i] = f1_score(y_test, y_pred, average='macro')\n",
        "  weighted_avg_baseDT[i] = f1_score(y_test, y_pred, average='weighted')\n",
        "\n",
        "# compute the average accuracy & variances\n",
        "print(f'accuracy_baseDT: {accuracy_baseDT}')\n",
        "Avg_accuracy = (np.sum(accuracy_baseDT))/5\n",
        "accuracy_variance = np.var(accuracy_baseDT)\n",
        "print(f'average accuracy: {Avg_accuracy}, variance: {accuracy_variance}')\n",
        "\n",
        "# compute the average macro-average F1 & the variance\n",
        "print(f'macro_avg_baseDT: {macro_avg_baseDT}')\n",
        "Avg_macro_avg = (np.sum(macro_avg_baseDT))/5\n",
        "f1_macro_variance = np.var(macro_avg_baseDT)\n",
        "print(f'average macro-average F1: {Avg_macro_avg}, variance: {f1_macro_variance}')\n",
        "\n",
        "# compute the average weighted-average F1 & the variance\n",
        "print(f'weighted_avg_baseDT: {weighted_avg_baseDT}')\n",
        "Avg_weighted_avg = (np.sum(weighted_avg_baseDT))/5\n",
        "f1_weighted_variance = np.var(weighted_avg_baseDT)\n",
        "print(f'average weighted-average F1: {Avg_weighted_avg}, variance: {f1_weighted_variance}')"
      ],
      "metadata": {
        "id": "kSCBBBuHJcjz",
        "outputId": "423d31d5-df3b-47d3-a3a3-92368a421540",
        "colab": {
          "base_uri": "https://localhost:8080/"
        }
      },
      "execution_count": 17,
      "outputs": [
        {
          "output_type": "stream",
          "name": "stdout",
          "text": [
            "accuracy_baseDT: [0.97 0.98 0.94 0.98 0.96]\n",
            "average accuracy: 0.966, variance: 0.0002240000000000004\n",
            "macro_avg_baseDT: [0.9643738  0.97432606 0.93329257 0.97973382 0.95270974]\n",
            "average macro-average F1: 0.9608871971391313, variance: 0.00027525775147589773\n",
            "weighted_avg_baseDT: [0.96940806 0.98       0.9397844  0.98       0.96012494]\n",
            "average weighted-average F1: 0.9658634781153502, variance: 0.00022505918892715804\n"
          ]
        }
      ]
    },
    {
      "cell_type": "code",
      "source": [
        "# print the performance result to outputfile\n",
        "print('\\n(E) The result after 5 times of train-test repetition:' ,file = outputFile)\n",
        "print(f'average accuracy: {Avg_accuracy}, variance: {accuracy_variance}', file = outputFile)\n",
        "print(f'average macro-average F1: {Avg_macro_avg}, variance: {f1_macro_variance}', file = outputFile)\n",
        "print(f'average weighted-average F1: {Avg_weighted_avg}, variance: {f1_weighted_variance}', file = outputFile)\n",
        "print('\\n', file = outputFile)\n",
        "outputFile.flush()"
      ],
      "metadata": {
        "id": "G9_phUjPZBFF"
      },
      "execution_count": 18,
      "outputs": []
    },
    {
      "cell_type": "markdown",
      "source": [
        "##### Classifier 2 - Top-DT"
      ],
      "metadata": {
        "id": "8RIB1m4M56j3"
      }
    },
    {
      "cell_type": "code",
      "source": [
        "# Top Decision Tree - decision tree using gridsearch(hyperparameter search)\n",
        "from sklearn.model_selection import GridSearchCV\n",
        "from sklearn.tree import DecisionTreeClassifier\n",
        "\n",
        "parameters = {\n",
        "    'criterion': ['gini', 'entropy'],\n",
        "    'max_depth': [None, 3, 5],\n",
        "    'min_samples_split': [2, 5, 10]\n",
        "}\n",
        "\n",
        "classifier_2 = GridSearchCV(DecisionTreeClassifier(), parameters)\n",
        "classifier_2.fit(X_train, y_train)\n",
        "\n",
        "print(f'best parameters: {classifier_2.best_params_}')"
      ],
      "metadata": {
        "id": "JRPd85lw5jg2",
        "colab": {
          "base_uri": "https://localhost:8080/"
        },
        "outputId": "c645e05f-f755-4bf9-b389-064dff05624e"
      },
      "execution_count": 19,
      "outputs": [
        {
          "output_type": "stream",
          "name": "stdout",
          "text": [
            "best parameters: {'criterion': 'gini', 'max_depth': 5, 'min_samples_split': 2}\n"
          ]
        }
      ]
    },
    {
      "cell_type": "code",
      "source": [
        "penguins_class = data_penguins.columns[0]\n",
        "penguins_features = list(data_penguins.columns[1:])"
      ],
      "metadata": {
        "id": "YFTodB7a_Qxl"
      },
      "execution_count": 20,
      "outputs": []
    },
    {
      "cell_type": "code",
      "source": [
        "from sklearn.tree import export_graphviz\n",
        "from IPython.display import display\n",
        "\n",
        "dot_data = export_graphviz(classifier_2.best_estimator_,\n",
        "                          feature_names=penguins_features,\n",
        "                          class_names=penguins_class,\n",
        "                          filled=True, rounded=True,\n",
        "                          special_characters=True)\n",
        "\n",
        "graph = graphviz.Source(dot_data)\n",
        "display(graph)"
      ],
      "metadata": {
        "id": "Yq9k0XZ6-odi",
        "outputId": "d408fa89-112d-4971-e8e2-1856981af959",
        "colab": {
          "base_uri": "https://localhost:8080/",
          "height": 778
        }
      },
      "execution_count": 21,
      "outputs": [
        {
          "output_type": "display_data",
          "data": {
            "image/svg+xml": "<?xml version=\"1.0\" encoding=\"UTF-8\" standalone=\"no\"?>\n<!DOCTYPE svg PUBLIC \"-//W3C//DTD SVG 1.1//EN\"\n \"http://www.w3.org/Graphics/SVG/1.1/DTD/svg11.dtd\">\n<!-- Generated by graphviz version 2.43.0 (0)\n -->\n<!-- Title: Tree Pages: 1 -->\n<svg width=\"892pt\" height=\"552pt\"\n viewBox=\"0.00 0.00 892.00 552.00\" xmlns=\"http://www.w3.org/2000/svg\" xmlns:xlink=\"http://www.w3.org/1999/xlink\">\n<g id=\"graph0\" class=\"graph\" transform=\"scale(1 1) rotate(0) translate(4 548)\">\n<title>Tree</title>\n<polygon fill=\"white\" stroke=\"transparent\" points=\"-4,4 -4,-548 888,-548 888,4 -4,4\"/>\n<!-- 0 -->\n<g id=\"node1\" class=\"node\">\n<title>0</title>\n<path fill=\"#fae9dc\" stroke=\"black\" d=\"M592.5,-544C592.5,-544 446.5,-544 446.5,-544 440.5,-544 434.5,-538 434.5,-532 434.5,-532 434.5,-473 434.5,-473 434.5,-467 440.5,-461 446.5,-461 446.5,-461 592.5,-461 592.5,-461 598.5,-461 604.5,-467 604.5,-473 604.5,-473 604.5,-532 604.5,-532 604.5,-538 598.5,-544 592.5,-544\"/>\n<text text-anchor=\"start\" x=\"442.5\" y=\"-528.8\" font-family=\"Helvetica,sans-Serif\" font-size=\"14.00\">flipper_length_mm ≤ 0.36</text>\n<text text-anchor=\"start\" x=\"484\" y=\"-513.8\" font-family=\"Helvetica,sans-Serif\" font-size=\"14.00\">gini = 0.632</text>\n<text text-anchor=\"start\" x=\"474.5\" y=\"-498.8\" font-family=\"Helvetica,sans-Serif\" font-size=\"14.00\">samples = 233</text>\n<text text-anchor=\"start\" x=\"457.5\" y=\"-483.8\" font-family=\"Helvetica,sans-Serif\" font-size=\"14.00\">value = [107, 46, 80]</text>\n<text text-anchor=\"start\" x=\"492.5\" y=\"-468.8\" font-family=\"Helvetica,sans-Serif\" font-size=\"14.00\">class = s</text>\n</g>\n<!-- 1 -->\n<g id=\"node2\" class=\"node\">\n<title>1</title>\n<path fill=\"#f0b68c\" stroke=\"black\" d=\"M509.5,-425C509.5,-425 343.5,-425 343.5,-425 337.5,-425 331.5,-419 331.5,-413 331.5,-413 331.5,-354 331.5,-354 331.5,-348 337.5,-342 343.5,-342 343.5,-342 509.5,-342 509.5,-342 515.5,-342 521.5,-348 521.5,-354 521.5,-354 521.5,-413 521.5,-413 521.5,-419 515.5,-425 509.5,-425\"/>\n<text text-anchor=\"start\" x=\"339.5\" y=\"-409.8\" font-family=\"Helvetica,sans-Serif\" font-size=\"14.00\">culmen_length_mm ≤ &#45;0.154</text>\n<text text-anchor=\"start\" x=\"391\" y=\"-394.8\" font-family=\"Helvetica,sans-Serif\" font-size=\"14.00\">gini = 0.416</text>\n<text text-anchor=\"start\" x=\"381.5\" y=\"-379.8\" font-family=\"Helvetica,sans-Serif\" font-size=\"14.00\">samples = 149</text>\n<text text-anchor=\"start\" x=\"368.5\" y=\"-364.8\" font-family=\"Helvetica,sans-Serif\" font-size=\"14.00\">value = [105, 44, 0]</text>\n<text text-anchor=\"start\" x=\"399.5\" y=\"-349.8\" font-family=\"Helvetica,sans-Serif\" font-size=\"14.00\">class = s</text>\n</g>\n<!-- 0&#45;&gt;1 -->\n<g id=\"edge1\" class=\"edge\">\n<title>0&#45;&gt;1</title>\n<path fill=\"none\" stroke=\"black\" d=\"M487.23,-460.91C480.09,-451.92 472.46,-442.32 465.09,-433.05\"/>\n<polygon fill=\"black\" stroke=\"black\" points=\"467.67,-430.67 458.71,-425.02 462.19,-435.03 467.67,-430.67\"/>\n<text text-anchor=\"middle\" x=\"455.87\" y=\"-446.16\" font-family=\"Helvetica,sans-Serif\" font-size=\"14.00\">True</text>\n</g>\n<!-- 12 -->\n<g id=\"node13\" class=\"node\">\n<title>12</title>\n<path fill=\"#8743e6\" stroke=\"black\" d=\"M704,-425C704,-425 611,-425 611,-425 605,-425 599,-419 599,-413 599,-413 599,-354 599,-354 599,-348 605,-342 611,-342 611,-342 704,-342 704,-342 710,-342 716,-348 716,-354 716,-354 716,-413 716,-413 716,-419 710,-425 704,-425\"/>\n<text text-anchor=\"start\" x=\"615\" y=\"-409.8\" font-family=\"Helvetica,sans-Serif\" font-size=\"14.00\">island ≤ 0.021</text>\n<text text-anchor=\"start\" x=\"622\" y=\"-394.8\" font-family=\"Helvetica,sans-Serif\" font-size=\"14.00\">gini = 0.092</text>\n<text text-anchor=\"start\" x=\"616.5\" y=\"-379.8\" font-family=\"Helvetica,sans-Serif\" font-size=\"14.00\">samples = 84</text>\n<text text-anchor=\"start\" x=\"607\" y=\"-364.8\" font-family=\"Helvetica,sans-Serif\" font-size=\"14.00\">value = [2, 2, 80]</text>\n<text text-anchor=\"start\" x=\"630\" y=\"-349.8\" font-family=\"Helvetica,sans-Serif\" font-size=\"14.00\">class = e</text>\n</g>\n<!-- 0&#45;&gt;12 -->\n<g id=\"edge12\" class=\"edge\">\n<title>0&#45;&gt;12</title>\n<path fill=\"none\" stroke=\"black\" d=\"M567.38,-460.91C578.51,-451.47 590.45,-441.34 601.89,-431.65\"/>\n<polygon fill=\"black\" stroke=\"black\" points=\"604.34,-434.16 609.71,-425.02 599.82,-428.82 604.34,-434.16\"/>\n<text text-anchor=\"middle\" x=\"607.65\" y=\"-446.24\" font-family=\"Helvetica,sans-Serif\" font-size=\"14.00\">False</text>\n</g>\n<!-- 2 -->\n<g id=\"node3\" class=\"node\">\n<title>2</title>\n<path fill=\"#e5823b\" stroke=\"black\" d=\"M273.5,-306C273.5,-306 107.5,-306 107.5,-306 101.5,-306 95.5,-300 95.5,-294 95.5,-294 95.5,-235 95.5,-235 95.5,-229 101.5,-223 107.5,-223 107.5,-223 273.5,-223 273.5,-223 279.5,-223 285.5,-229 285.5,-235 285.5,-235 285.5,-294 285.5,-294 285.5,-300 279.5,-306 273.5,-306\"/>\n<text text-anchor=\"start\" x=\"103.5\" y=\"-290.8\" font-family=\"Helvetica,sans-Serif\" font-size=\"14.00\">culmen_length_mm ≤ &#45;0.292</text>\n<text text-anchor=\"start\" x=\"155\" y=\"-275.8\" font-family=\"Helvetica,sans-Serif\" font-size=\"14.00\">gini = 0.019</text>\n<text text-anchor=\"start\" x=\"145.5\" y=\"-260.8\" font-family=\"Helvetica,sans-Serif\" font-size=\"14.00\">samples = 102</text>\n<text text-anchor=\"start\" x=\"136\" y=\"-245.8\" font-family=\"Helvetica,sans-Serif\" font-size=\"14.00\">value = [101, 1, 0]</text>\n<text text-anchor=\"start\" x=\"163.5\" y=\"-230.8\" font-family=\"Helvetica,sans-Serif\" font-size=\"14.00\">class = s</text>\n</g>\n<!-- 1&#45;&gt;2 -->\n<g id=\"edge2\" class=\"edge\">\n<title>1&#45;&gt;2</title>\n<path fill=\"none\" stroke=\"black\" d=\"M344.62,-341.91C324.21,-331.79 302.2,-320.88 281.39,-310.56\"/>\n<polygon fill=\"black\" stroke=\"black\" points=\"282.75,-307.33 272.23,-306.02 279.64,-313.6 282.75,-307.33\"/>\n</g>\n<!-- 7 -->\n<g id=\"node8\" class=\"node\">\n<title>7</title>\n<path fill=\"#4be78d\" stroke=\"black\" d=\"M492,-306C492,-306 361,-306 361,-306 355,-306 349,-300 349,-294 349,-294 349,-235 349,-235 349,-229 355,-223 361,-223 361,-223 492,-223 492,-223 498,-223 504,-229 504,-235 504,-235 504,-294 504,-294 504,-300 498,-306 492,-306\"/>\n<text text-anchor=\"start\" x=\"357\" y=\"-290.8\" font-family=\"Helvetica,sans-Serif\" font-size=\"14.00\">body_mass_g ≤ &#45;0.102</text>\n<text text-anchor=\"start\" x=\"391\" y=\"-275.8\" font-family=\"Helvetica,sans-Serif\" font-size=\"14.00\">gini = 0.156</text>\n<text text-anchor=\"start\" x=\"385.5\" y=\"-260.8\" font-family=\"Helvetica,sans-Serif\" font-size=\"14.00\">samples = 47</text>\n<text text-anchor=\"start\" x=\"376\" y=\"-245.8\" font-family=\"Helvetica,sans-Serif\" font-size=\"14.00\">value = [4, 43, 0]</text>\n<text text-anchor=\"start\" x=\"399\" y=\"-230.8\" font-family=\"Helvetica,sans-Serif\" font-size=\"14.00\">class = p</text>\n</g>\n<!-- 1&#45;&gt;7 -->\n<g id=\"edge7\" class=\"edge\">\n<title>1&#45;&gt;7</title>\n<path fill=\"none\" stroke=\"black\" d=\"M426.5,-341.91C426.5,-333.65 426.5,-324.86 426.5,-316.3\"/>\n<polygon fill=\"black\" stroke=\"black\" points=\"430,-316.02 426.5,-306.02 423,-316.02 430,-316.02\"/>\n</g>\n<!-- 3 -->\n<g id=\"node4\" class=\"node\">\n<title>3</title>\n<path fill=\"#e58139\" stroke=\"black\" d=\"M105,-179.5C105,-179.5 12,-179.5 12,-179.5 6,-179.5 0,-173.5 0,-167.5 0,-167.5 0,-123.5 0,-123.5 0,-117.5 6,-111.5 12,-111.5 12,-111.5 105,-111.5 105,-111.5 111,-111.5 117,-117.5 117,-123.5 117,-123.5 117,-167.5 117,-167.5 117,-173.5 111,-179.5 105,-179.5\"/>\n<text text-anchor=\"start\" x=\"30.5\" y=\"-164.3\" font-family=\"Helvetica,sans-Serif\" font-size=\"14.00\">gini = 0.0</text>\n<text text-anchor=\"start\" x=\"17.5\" y=\"-149.3\" font-family=\"Helvetica,sans-Serif\" font-size=\"14.00\">samples = 96</text>\n<text text-anchor=\"start\" x=\"8\" y=\"-134.3\" font-family=\"Helvetica,sans-Serif\" font-size=\"14.00\">value = [96, 0, 0]</text>\n<text text-anchor=\"start\" x=\"31.5\" y=\"-119.3\" font-family=\"Helvetica,sans-Serif\" font-size=\"14.00\">class = s</text>\n</g>\n<!-- 2&#45;&gt;3 -->\n<g id=\"edge3\" class=\"edge\">\n<title>2&#45;&gt;3</title>\n<path fill=\"none\" stroke=\"black\" d=\"M144.7,-222.91C131.38,-211.1 116.85,-198.22 103.57,-186.45\"/>\n<polygon fill=\"black\" stroke=\"black\" points=\"105.72,-183.68 95.92,-179.67 101.08,-188.92 105.72,-183.68\"/>\n</g>\n<!-- 4 -->\n<g id=\"node5\" class=\"node\">\n<title>4</title>\n<path fill=\"#ea9a61\" stroke=\"black\" d=\"M233.5,-187C233.5,-187 147.5,-187 147.5,-187 141.5,-187 135.5,-181 135.5,-175 135.5,-175 135.5,-116 135.5,-116 135.5,-110 141.5,-104 147.5,-104 147.5,-104 233.5,-104 233.5,-104 239.5,-104 245.5,-110 245.5,-116 245.5,-116 245.5,-175 245.5,-175 245.5,-181 239.5,-187 233.5,-187\"/>\n<text text-anchor=\"start\" x=\"153\" y=\"-171.8\" font-family=\"Helvetica,sans-Serif\" font-size=\"14.00\">sex ≤ &#45;0.009</text>\n<text text-anchor=\"start\" x=\"155\" y=\"-156.8\" font-family=\"Helvetica,sans-Serif\" font-size=\"14.00\">gini = 0.278</text>\n<text text-anchor=\"start\" x=\"153\" y=\"-141.8\" font-family=\"Helvetica,sans-Serif\" font-size=\"14.00\">samples = 6</text>\n<text text-anchor=\"start\" x=\"143.5\" y=\"-126.8\" font-family=\"Helvetica,sans-Serif\" font-size=\"14.00\">value = [5, 1, 0]</text>\n<text text-anchor=\"start\" x=\"163.5\" y=\"-111.8\" font-family=\"Helvetica,sans-Serif\" font-size=\"14.00\">class = s</text>\n</g>\n<!-- 2&#45;&gt;4 -->\n<g id=\"edge4\" class=\"edge\">\n<title>2&#45;&gt;4</title>\n<path fill=\"none\" stroke=\"black\" d=\"M190.5,-222.91C190.5,-214.65 190.5,-205.86 190.5,-197.3\"/>\n<polygon fill=\"black\" stroke=\"black\" points=\"194,-197.02 190.5,-187.02 187,-197.02 194,-197.02\"/>\n</g>\n<!-- 5 -->\n<g id=\"node6\" class=\"node\">\n<title>5</title>\n<path fill=\"#39e581\" stroke=\"black\" d=\"M181.5,-68C181.5,-68 95.5,-68 95.5,-68 89.5,-68 83.5,-62 83.5,-56 83.5,-56 83.5,-12 83.5,-12 83.5,-6 89.5,0 95.5,0 95.5,0 181.5,0 181.5,0 187.5,0 193.5,-6 193.5,-12 193.5,-12 193.5,-56 193.5,-56 193.5,-62 187.5,-68 181.5,-68\"/>\n<text text-anchor=\"start\" x=\"110.5\" y=\"-52.8\" font-family=\"Helvetica,sans-Serif\" font-size=\"14.00\">gini = 0.0</text>\n<text text-anchor=\"start\" x=\"101\" y=\"-37.8\" font-family=\"Helvetica,sans-Serif\" font-size=\"14.00\">samples = 1</text>\n<text text-anchor=\"start\" x=\"91.5\" y=\"-22.8\" font-family=\"Helvetica,sans-Serif\" font-size=\"14.00\">value = [0, 1, 0]</text>\n<text text-anchor=\"start\" x=\"111\" y=\"-7.8\" font-family=\"Helvetica,sans-Serif\" font-size=\"14.00\">class = p</text>\n</g>\n<!-- 4&#45;&gt;5 -->\n<g id=\"edge5\" class=\"edge\">\n<title>4&#45;&gt;5</title>\n<path fill=\"none\" stroke=\"black\" d=\"M171.14,-103.73C167.07,-95.15 162.76,-86.09 158.66,-77.46\"/>\n<polygon fill=\"black\" stroke=\"black\" points=\"161.76,-75.83 154.31,-68.3 155.44,-78.83 161.76,-75.83\"/>\n</g>\n<!-- 6 -->\n<g id=\"node7\" class=\"node\">\n<title>6</title>\n<path fill=\"#e58139\" stroke=\"black\" d=\"M309.5,-68C309.5,-68 223.5,-68 223.5,-68 217.5,-68 211.5,-62 211.5,-56 211.5,-56 211.5,-12 211.5,-12 211.5,-6 217.5,0 223.5,0 223.5,0 309.5,0 309.5,0 315.5,0 321.5,-6 321.5,-12 321.5,-12 321.5,-56 321.5,-56 321.5,-62 315.5,-68 309.5,-68\"/>\n<text text-anchor=\"start\" x=\"238.5\" y=\"-52.8\" font-family=\"Helvetica,sans-Serif\" font-size=\"14.00\">gini = 0.0</text>\n<text text-anchor=\"start\" x=\"229\" y=\"-37.8\" font-family=\"Helvetica,sans-Serif\" font-size=\"14.00\">samples = 5</text>\n<text text-anchor=\"start\" x=\"219.5\" y=\"-22.8\" font-family=\"Helvetica,sans-Serif\" font-size=\"14.00\">value = [5, 0, 0]</text>\n<text text-anchor=\"start\" x=\"239.5\" y=\"-7.8\" font-family=\"Helvetica,sans-Serif\" font-size=\"14.00\">class = s</text>\n</g>\n<!-- 4&#45;&gt;6 -->\n<g id=\"edge6\" class=\"edge\">\n<title>4&#45;&gt;6</title>\n<path fill=\"none\" stroke=\"black\" d=\"M218.8,-103.73C224.94,-94.88 231.44,-85.51 237.61,-76.63\"/>\n<polygon fill=\"black\" stroke=\"black\" points=\"240.56,-78.51 243.39,-68.3 234.81,-74.52 240.56,-78.51\"/>\n</g>\n<!-- 8 -->\n<g id=\"node9\" class=\"node\">\n<title>8</title>\n<path fill=\"#39e581\" stroke=\"black\" d=\"M369,-179.5C369,-179.5 276,-179.5 276,-179.5 270,-179.5 264,-173.5 264,-167.5 264,-167.5 264,-123.5 264,-123.5 264,-117.5 270,-111.5 276,-111.5 276,-111.5 369,-111.5 369,-111.5 375,-111.5 381,-117.5 381,-123.5 381,-123.5 381,-167.5 381,-167.5 381,-173.5 375,-179.5 369,-179.5\"/>\n<text text-anchor=\"start\" x=\"294.5\" y=\"-164.3\" font-family=\"Helvetica,sans-Serif\" font-size=\"14.00\">gini = 0.0</text>\n<text text-anchor=\"start\" x=\"281.5\" y=\"-149.3\" font-family=\"Helvetica,sans-Serif\" font-size=\"14.00\">samples = 38</text>\n<text text-anchor=\"start\" x=\"272\" y=\"-134.3\" font-family=\"Helvetica,sans-Serif\" font-size=\"14.00\">value = [0, 38, 0]</text>\n<text text-anchor=\"start\" x=\"295\" y=\"-119.3\" font-family=\"Helvetica,sans-Serif\" font-size=\"14.00\">class = p</text>\n</g>\n<!-- 7&#45;&gt;8 -->\n<g id=\"edge8\" class=\"edge\">\n<title>7&#45;&gt;8</title>\n<path fill=\"none\" stroke=\"black\" d=\"M390.42,-222.91C380.22,-211.43 369.11,-198.94 358.89,-187.44\"/>\n<polygon fill=\"black\" stroke=\"black\" points=\"361.24,-184.82 351.98,-179.67 356.01,-189.47 361.24,-184.82\"/>\n</g>\n<!-- 9 -->\n<g id=\"node10\" class=\"node\">\n<title>9</title>\n<path fill=\"#d7fae6\" stroke=\"black\" d=\"M572,-187C572,-187 411,-187 411,-187 405,-187 399,-181 399,-175 399,-175 399,-116 399,-116 399,-110 405,-104 411,-104 411,-104 572,-104 572,-104 578,-104 584,-110 584,-116 584,-116 584,-175 584,-175 584,-181 578,-187 572,-187\"/>\n<text text-anchor=\"start\" x=\"407\" y=\"-171.8\" font-family=\"Helvetica,sans-Serif\" font-size=\"14.00\">culmen_length_mm ≤ 0.661</text>\n<text text-anchor=\"start\" x=\"456\" y=\"-156.8\" font-family=\"Helvetica,sans-Serif\" font-size=\"14.00\">gini = 0.494</text>\n<text text-anchor=\"start\" x=\"454\" y=\"-141.8\" font-family=\"Helvetica,sans-Serif\" font-size=\"14.00\">samples = 9</text>\n<text text-anchor=\"start\" x=\"444.5\" y=\"-126.8\" font-family=\"Helvetica,sans-Serif\" font-size=\"14.00\">value = [4, 5, 0]</text>\n<text text-anchor=\"start\" x=\"464\" y=\"-111.8\" font-family=\"Helvetica,sans-Serif\" font-size=\"14.00\">class = p</text>\n</g>\n<!-- 7&#45;&gt;9 -->\n<g id=\"edge9\" class=\"edge\">\n<title>7&#45;&gt;9</title>\n<path fill=\"none\" stroke=\"black\" d=\"M449.05,-222.91C453.89,-214.2 459.06,-204.9 464.06,-195.89\"/>\n<polygon fill=\"black\" stroke=\"black\" points=\"467.19,-197.46 468.99,-187.02 461.07,-194.06 467.19,-197.46\"/>\n</g>\n<!-- 10 -->\n<g id=\"node11\" class=\"node\">\n<title>10</title>\n<path fill=\"#e58139\" stroke=\"black\" d=\"M459.5,-68C459.5,-68 373.5,-68 373.5,-68 367.5,-68 361.5,-62 361.5,-56 361.5,-56 361.5,-12 361.5,-12 361.5,-6 367.5,0 373.5,0 373.5,0 459.5,0 459.5,0 465.5,0 471.5,-6 471.5,-12 471.5,-12 471.5,-56 471.5,-56 471.5,-62 465.5,-68 459.5,-68\"/>\n<text text-anchor=\"start\" x=\"388.5\" y=\"-52.8\" font-family=\"Helvetica,sans-Serif\" font-size=\"14.00\">gini = 0.0</text>\n<text text-anchor=\"start\" x=\"379\" y=\"-37.8\" font-family=\"Helvetica,sans-Serif\" font-size=\"14.00\">samples = 4</text>\n<text text-anchor=\"start\" x=\"369.5\" y=\"-22.8\" font-family=\"Helvetica,sans-Serif\" font-size=\"14.00\">value = [4, 0, 0]</text>\n<text text-anchor=\"start\" x=\"389.5\" y=\"-7.8\" font-family=\"Helvetica,sans-Serif\" font-size=\"14.00\">class = s</text>\n</g>\n<!-- 9&#45;&gt;10 -->\n<g id=\"edge10\" class=\"edge\">\n<title>9&#45;&gt;10</title>\n<path fill=\"none\" stroke=\"black\" d=\"M463.57,-103.73C457.51,-94.88 451.1,-85.51 445.01,-76.63\"/>\n<polygon fill=\"black\" stroke=\"black\" points=\"447.85,-74.57 439.31,-68.3 442.07,-78.53 447.85,-74.57\"/>\n</g>\n<!-- 11 -->\n<g id=\"node12\" class=\"node\">\n<title>11</title>\n<path fill=\"#39e581\" stroke=\"black\" d=\"M587.5,-68C587.5,-68 501.5,-68 501.5,-68 495.5,-68 489.5,-62 489.5,-56 489.5,-56 489.5,-12 489.5,-12 489.5,-6 495.5,0 501.5,0 501.5,0 587.5,0 587.5,0 593.5,0 599.5,-6 599.5,-12 599.5,-12 599.5,-56 599.5,-56 599.5,-62 593.5,-68 587.5,-68\"/>\n<text text-anchor=\"start\" x=\"516.5\" y=\"-52.8\" font-family=\"Helvetica,sans-Serif\" font-size=\"14.00\">gini = 0.0</text>\n<text text-anchor=\"start\" x=\"507\" y=\"-37.8\" font-family=\"Helvetica,sans-Serif\" font-size=\"14.00\">samples = 5</text>\n<text text-anchor=\"start\" x=\"497.5\" y=\"-22.8\" font-family=\"Helvetica,sans-Serif\" font-size=\"14.00\">value = [0, 5, 0]</text>\n<text text-anchor=\"start\" x=\"517\" y=\"-7.8\" font-family=\"Helvetica,sans-Serif\" font-size=\"14.00\">class = p</text>\n</g>\n<!-- 9&#45;&gt;11 -->\n<g id=\"edge11\" class=\"edge\">\n<title>9&#45;&gt;11</title>\n<path fill=\"none\" stroke=\"black\" d=\"M511.24,-103.73C515.39,-95.15 519.77,-86.09 523.95,-77.46\"/>\n<polygon fill=\"black\" stroke=\"black\" points=\"527.18,-78.83 528.38,-68.3 520.88,-75.78 527.18,-78.83\"/>\n</g>\n<!-- 13 -->\n<g id=\"node14\" class=\"node\">\n<title>13</title>\n<path fill=\"#ffffff\" stroke=\"black\" d=\"M736.5,-306C736.5,-306 578.5,-306 578.5,-306 572.5,-306 566.5,-300 566.5,-294 566.5,-294 566.5,-235 566.5,-235 566.5,-229 572.5,-223 578.5,-223 578.5,-223 736.5,-223 736.5,-223 742.5,-223 748.5,-229 748.5,-235 748.5,-235 748.5,-294 748.5,-294 748.5,-300 742.5,-306 736.5,-306\"/>\n<text text-anchor=\"start\" x=\"574.5\" y=\"-290.8\" font-family=\"Helvetica,sans-Serif\" font-size=\"14.00\">culmen_depth_mm ≤ 0.908</text>\n<text text-anchor=\"start\" x=\"629.5\" y=\"-275.8\" font-family=\"Helvetica,sans-Serif\" font-size=\"14.00\">gini = 0.5</text>\n<text text-anchor=\"start\" x=\"620\" y=\"-260.8\" font-family=\"Helvetica,sans-Serif\" font-size=\"14.00\">samples = 4</text>\n<text text-anchor=\"start\" x=\"610.5\" y=\"-245.8\" font-family=\"Helvetica,sans-Serif\" font-size=\"14.00\">value = [2, 2, 0]</text>\n<text text-anchor=\"start\" x=\"630.5\" y=\"-230.8\" font-family=\"Helvetica,sans-Serif\" font-size=\"14.00\">class = s</text>\n</g>\n<!-- 12&#45;&gt;13 -->\n<g id=\"edge13\" class=\"edge\">\n<title>12&#45;&gt;13</title>\n<path fill=\"none\" stroke=\"black\" d=\"M657.5,-341.91C657.5,-333.65 657.5,-324.86 657.5,-316.3\"/>\n<polygon fill=\"black\" stroke=\"black\" points=\"661,-316.02 657.5,-306.02 654,-316.02 661,-316.02\"/>\n</g>\n<!-- 16 -->\n<g id=\"node17\" class=\"node\">\n<title>16</title>\n<path fill=\"#8139e5\" stroke=\"black\" d=\"M872,-298.5C872,-298.5 779,-298.5 779,-298.5 773,-298.5 767,-292.5 767,-286.5 767,-286.5 767,-242.5 767,-242.5 767,-236.5 773,-230.5 779,-230.5 779,-230.5 872,-230.5 872,-230.5 878,-230.5 884,-236.5 884,-242.5 884,-242.5 884,-286.5 884,-286.5 884,-292.5 878,-298.5 872,-298.5\"/>\n<text text-anchor=\"start\" x=\"797.5\" y=\"-283.3\" font-family=\"Helvetica,sans-Serif\" font-size=\"14.00\">gini = 0.0</text>\n<text text-anchor=\"start\" x=\"784.5\" y=\"-268.3\" font-family=\"Helvetica,sans-Serif\" font-size=\"14.00\">samples = 80</text>\n<text text-anchor=\"start\" x=\"775\" y=\"-253.3\" font-family=\"Helvetica,sans-Serif\" font-size=\"14.00\">value = [0, 0, 80]</text>\n<text text-anchor=\"start\" x=\"798\" y=\"-238.3\" font-family=\"Helvetica,sans-Serif\" font-size=\"14.00\">class = e</text>\n</g>\n<!-- 12&#45;&gt;16 -->\n<g id=\"edge16\" class=\"edge\">\n<title>12&#45;&gt;16</title>\n<path fill=\"none\" stroke=\"black\" d=\"M715.79,-341.91C733.22,-329.77 752.28,-316.49 769.55,-304.46\"/>\n<polygon fill=\"black\" stroke=\"black\" points=\"771.67,-307.25 777.88,-298.67 767.67,-301.51 771.67,-307.25\"/>\n</g>\n<!-- 14 -->\n<g id=\"node15\" class=\"node\">\n<title>14</title>\n<path fill=\"#e58139\" stroke=\"black\" d=\"M700.5,-179.5C700.5,-179.5 614.5,-179.5 614.5,-179.5 608.5,-179.5 602.5,-173.5 602.5,-167.5 602.5,-167.5 602.5,-123.5 602.5,-123.5 602.5,-117.5 608.5,-111.5 614.5,-111.5 614.5,-111.5 700.5,-111.5 700.5,-111.5 706.5,-111.5 712.5,-117.5 712.5,-123.5 712.5,-123.5 712.5,-167.5 712.5,-167.5 712.5,-173.5 706.5,-179.5 700.5,-179.5\"/>\n<text text-anchor=\"start\" x=\"629.5\" y=\"-164.3\" font-family=\"Helvetica,sans-Serif\" font-size=\"14.00\">gini = 0.0</text>\n<text text-anchor=\"start\" x=\"620\" y=\"-149.3\" font-family=\"Helvetica,sans-Serif\" font-size=\"14.00\">samples = 2</text>\n<text text-anchor=\"start\" x=\"610.5\" y=\"-134.3\" font-family=\"Helvetica,sans-Serif\" font-size=\"14.00\">value = [2, 0, 0]</text>\n<text text-anchor=\"start\" x=\"630.5\" y=\"-119.3\" font-family=\"Helvetica,sans-Serif\" font-size=\"14.00\">class = s</text>\n</g>\n<!-- 13&#45;&gt;14 -->\n<g id=\"edge14\" class=\"edge\">\n<title>13&#45;&gt;14</title>\n<path fill=\"none\" stroke=\"black\" d=\"M657.5,-222.91C657.5,-212.2 657.5,-200.62 657.5,-189.78\"/>\n<polygon fill=\"black\" stroke=\"black\" points=\"661,-189.67 657.5,-179.67 654,-189.67 661,-189.67\"/>\n</g>\n<!-- 15 -->\n<g id=\"node16\" class=\"node\">\n<title>15</title>\n<path fill=\"#39e581\" stroke=\"black\" d=\"M828.5,-179.5C828.5,-179.5 742.5,-179.5 742.5,-179.5 736.5,-179.5 730.5,-173.5 730.5,-167.5 730.5,-167.5 730.5,-123.5 730.5,-123.5 730.5,-117.5 736.5,-111.5 742.5,-111.5 742.5,-111.5 828.5,-111.5 828.5,-111.5 834.5,-111.5 840.5,-117.5 840.5,-123.5 840.5,-123.5 840.5,-167.5 840.5,-167.5 840.5,-173.5 834.5,-179.5 828.5,-179.5\"/>\n<text text-anchor=\"start\" x=\"757.5\" y=\"-164.3\" font-family=\"Helvetica,sans-Serif\" font-size=\"14.00\">gini = 0.0</text>\n<text text-anchor=\"start\" x=\"748\" y=\"-149.3\" font-family=\"Helvetica,sans-Serif\" font-size=\"14.00\">samples = 2</text>\n<text text-anchor=\"start\" x=\"738.5\" y=\"-134.3\" font-family=\"Helvetica,sans-Serif\" font-size=\"14.00\">value = [0, 2, 0]</text>\n<text text-anchor=\"start\" x=\"758\" y=\"-119.3\" font-family=\"Helvetica,sans-Serif\" font-size=\"14.00\">class = p</text>\n</g>\n<!-- 13&#45;&gt;15 -->\n<g id=\"edge15\" class=\"edge\">\n<title>13&#45;&gt;15</title>\n<path fill=\"none\" stroke=\"black\" d=\"M701.91,-222.91C714.83,-211.1 728.92,-198.22 741.79,-186.45\"/>\n<polygon fill=\"black\" stroke=\"black\" points=\"744.2,-189 749.21,-179.67 739.47,-183.83 744.2,-189\"/>\n</g>\n</g>\n</svg>\n",
            "text/plain": [
              "<graphviz.sources.Source at 0x7ee7a4c15030>"
            ]
          },
          "metadata": {}
        }
      ]
    },
    {
      "cell_type": "code",
      "source": [
        "# print to the output file\n",
        "print('**************************************************************', file = outputFile)\n",
        "print('(A) Classifier 2 - Top DT', file = outputFile)\n",
        "print(classifier_2, file = outputFile)\n",
        "print(f'best parameters: {classifier_2.best_params_}\\n', file = outputFile)\n",
        "print('\\n', file = outputFile)\n",
        "outputFile.flush()"
      ],
      "metadata": {
        "id": "OyY9Icjy8H7k"
      },
      "execution_count": 22,
      "outputs": []
    },
    {
      "cell_type": "code",
      "source": [
        "# print classification report\n",
        "y_pred = classifier_2.predict(X_test)\n",
        "confusion_mat = confusion_matrix(y_test, y_pred)\n",
        "\n",
        "print(classification_report(y_test, y_pred, target_names=['Adelie', 'Chinstrap', 'Gentoo']))\n",
        "print(\"confusion matrix\\n\",confusion_mat)\n",
        "\n",
        "# print the result to the output file\n",
        "print(classification_report(y_test, y_pred, target_names = ['Adelie', 'Chinstrap', 'Gentoo']), file = outputFile)\n",
        "confusion_matrix_result =np.array2string(confusion_mat)\n",
        "print(\"confusion matrix\", file = outputFile)\n",
        "print(confusion_matrix_result, file = outputFile)\n",
        "print('\\n', file = outputFile)\n",
        "outputFile.flush()"
      ],
      "metadata": {
        "id": "RyyDW6-78J9g",
        "outputId": "4d9e671a-ee1a-4d80-a762-2df8313cd1fc",
        "colab": {
          "base_uri": "https://localhost:8080/"
        }
      },
      "execution_count": 23,
      "outputs": [
        {
          "output_type": "stream",
          "name": "stdout",
          "text": [
            "              precision    recall  f1-score   support\n",
            "\n",
            "      Adelie       0.95      0.97      0.96        39\n",
            "   Chinstrap       0.91      0.91      0.91        22\n",
            "      Gentoo       1.00      0.97      0.99        39\n",
            "\n",
            "    accuracy                           0.96       100\n",
            "   macro avg       0.95      0.95      0.95       100\n",
            "weighted avg       0.96      0.96      0.96       100\n",
            "\n",
            "confusion matrix\n",
            " [[38  1  0]\n",
            " [ 2 20  0]\n",
            " [ 0  1 38]]\n"
          ]
        }
      ]
    },
    {
      "cell_type": "code",
      "source": [
        "# repeat training & prediction 5 times for classifier 2\n",
        "from sklearn.metrics import accuracy_score, f1_score\n",
        "\n",
        "accuracy_baseDT = np.zeros(5)\n",
        "macro_avg_baseDT = np.zeros(5)\n",
        "weighted_avg_baseDT = np.zeros(5)\n",
        "\n",
        "for i in range(5):\n",
        "  X_train, X_test, y_train, y_test = train_test_split(X, y, test_size = 0.3)\n",
        "  classifier_2.fit(X_train, y_train)\n",
        "  y_pred = classifier_1.predict(X_test)\n",
        "\n",
        "  # find the accuracy for each iteration and store the value\n",
        "  accuracy_baseDT[i] = accuracy_score(y_test, y_pred)\n",
        "  macro_avg_baseDT[i] = f1_score(y_test, y_pred, average='macro')\n",
        "  weighted_avg_baseDT[i] = f1_score(y_test, y_pred, average='weighted')\n",
        "\n",
        "# compute the average accuracy & variances\n",
        "print(f'accuracy_baseDT: {accuracy_baseDT}')\n",
        "Avg_accuracy = (np.sum(accuracy_baseDT))/5\n",
        "accuracy_variance = np.var(accuracy_baseDT)\n",
        "print(f'average accuracy: {Avg_accuracy}, variance: {accuracy_variance}')\n",
        "\n",
        "# compute the average macro-average F1 & the variance\n",
        "print(f'macro_avg_baseDT: {macro_avg_baseDT}')\n",
        "Avg_macro_avg = (np.sum(macro_avg_baseDT))/5\n",
        "f1_macro_variance = np.var(macro_avg_baseDT)\n",
        "print(f'average macro-average F1: {Avg_macro_avg}, variance: {f1_macro_variance}')\n",
        "\n",
        "# compute the average weighted-average F1 & the variance\n",
        "print(f'weighted_avg_baseDT: {weighted_avg_baseDT}')\n",
        "Avg_weighted_avg = (np.sum(weighted_avg_baseDT))/5\n",
        "f1_weighted_variance = np.var(weighted_avg_baseDT)\n",
        "print(f'average weighted-average F1: {Avg_weighted_avg}, variance: {f1_weighted_variance}')"
      ],
      "metadata": {
        "id": "0W_Jt4LMJgy0",
        "colab": {
          "base_uri": "https://localhost:8080/"
        },
        "outputId": "59d926d2-7827-4be2-dc4b-b2ce81d33df2"
      },
      "execution_count": 24,
      "outputs": [
        {
          "output_type": "stream",
          "name": "stdout",
          "text": [
            "accuracy_baseDT: [0.98 0.99 0.99 0.99 1.  ]\n",
            "average accuracy: 0.99, variance: 4.000000000000007e-05\n",
            "macro_avg_baseDT: [0.97789474 0.98867102 0.9881246  0.98898623 1.        ]\n",
            "average macro-average F1: 0.9887353187890724, variance: 4.8970265681761856e-05\n",
            "weighted_avg_baseDT: [0.97986316 0.98994771 0.99006577 0.98995244 1.        ]\n",
            "average weighted-average F1: 0.9899658164615914, variance: 4.055180941416838e-05\n"
          ]
        }
      ]
    },
    {
      "cell_type": "code",
      "source": [
        "# print the performance result to outputfile\n",
        "print('\\n(E) The result after 5 times of train-test repetition:' ,file = outputFile)\n",
        "print(f'average accuracy: {Avg_accuracy}, variance: {accuracy_variance}', file = outputFile)\n",
        "print(f'average macro-average F1: {Avg_macro_avg}, variance: {f1_macro_variance}', file = outputFile)\n",
        "print(f'average weighted-average F1: {Avg_weighted_avg}, variance: {f1_weighted_variance}', file = outputFile)\n",
        "print('\\n', file = outputFile)\n",
        "outputFile.flush()"
      ],
      "metadata": {
        "id": "Y4XPTddeb6Ck"
      },
      "execution_count": 25,
      "outputs": []
    },
    {
      "cell_type": "markdown",
      "source": [
        "##### Classifier 3 - Base-MLP"
      ],
      "metadata": {
        "id": "RsxEdv-Xd7Vn"
      }
    },
    {
      "cell_type": "code",
      "source": [
        "#Train Classifier 3\n",
        "mlp_base_penguin = MLPClassifier(hidden_layer_sizes =(100, 100,), activation = 'logistic', solver = 'sgd')\n",
        "mlp_base_penguin.fit(X_train, y_train)\n",
        "\n",
        "#print to the output file\n",
        "print('**************************************************************', file = outputFile)\n",
        "print('(A) Classifier 3 - Base MLP', file = outputFile)\n",
        "print(mlp_base_penguin, file = outputFile)\n",
        "print('\\n', file = outputFile)"
      ],
      "metadata": {
        "id": "LXZXNDUWd6Np"
      },
      "execution_count": 26,
      "outputs": []
    },
    {
      "cell_type": "markdown",
      "source": [
        "Metrics for Classifier 3"
      ],
      "metadata": {
        "id": "KpcPx0vCJryX"
      }
    },
    {
      "cell_type": "code",
      "source": [
        "#predict with Base MLP\n",
        "y_pred_base_mlp = mlp_base_penguin.predict(X_test)\n",
        "\n",
        "#print the result here on notebook\n",
        "print(classification_report(y_test, y_pred_base_mlp, target_names = ['Adelie', 'Gentoo', 'Chinstap']))\n",
        "print(confusion_matrix(y_test, y_pred_base_mlp))\n",
        "\n",
        "#print the result to the output file\n",
        "print(classification_report(y_test, y_pred_base_mlp, target_names = ['Adelie', 'Gentoo', 'Chinstap']), file = outputFile)\n",
        "confusion_matrix_result =np.array2string(confusion_matrix(y_test, y_pred_base_mlp))\n",
        "print(confusion_matrix_result, file = outputFile)\n",
        "outputFile.flush()"
      ],
      "metadata": {
        "id": "tpH0AREeJmJ2",
        "outputId": "37bd260c-ed40-4178-bc8a-f3af609cec31",
        "colab": {
          "base_uri": "https://localhost:8080/"
        }
      },
      "execution_count": 27,
      "outputs": [
        {
          "output_type": "stream",
          "name": "stdout",
          "text": [
            "              precision    recall  f1-score   support\n",
            "\n",
            "      Adelie       0.41      1.00      0.58        41\n",
            "      Gentoo       0.00      0.00      0.00        31\n",
            "    Chinstap       0.00      0.00      0.00        28\n",
            "\n",
            "    accuracy                           0.41       100\n",
            "   macro avg       0.14      0.33      0.19       100\n",
            "weighted avg       0.17      0.41      0.24       100\n",
            "\n",
            "[[41  0  0]\n",
            " [31  0  0]\n",
            " [28  0  0]]\n"
          ]
        }
      ]
    },
    {
      "cell_type": "code",
      "source": [
        "#repeat train-test 5 times\n",
        "MLP_base_train_test_repetition(X, y, outputFile, ['Adelie', 'Gentoo', 'Chinstap'])"
      ],
      "metadata": {
        "id": "mpo7xeAfNajE"
      },
      "execution_count": 30,
      "outputs": []
    },
    {
      "cell_type": "markdown",
      "source": [
        "##### Classifier 4 - Top-MLP"
      ],
      "metadata": {
        "id": "Km0ZyCsVe8ze"
      }
    },
    {
      "cell_type": "code",
      "source": [
        "#create grid for each hyperparamter we want to test\n",
        "activation_grid = np.array(['logistic', 'tanh', 'relu'])\n",
        "neurons_tuple_grid = np.array([(30, 50,), (10, 10, 10,)], dtype = 'object')\n",
        "solver_grid = np.array(['adam', 'sgd'])\n",
        "\n",
        "#create parameter grid for GridSearchCV\n",
        "param_grid = {'hidden_layer_sizes': neurons_tuple_grid, 'activation': activation_grid, 'solver': solver_grid}\n",
        "\n",
        "#create grid cv object and do the search\n",
        "mlp_top_penguin = MLPClassifier()\n",
        "gridcv = sk.model_selection.GridSearchCV(mlp_top_penguin, param_grid = param_grid)\n",
        "gridcv.fit(X_train, y_train)\n",
        "\n",
        "#print the result here on notebook\n",
        "print(f'best parameters: {gridcv.best_params_}')\n",
        "\n",
        "#print the result to the output file\n",
        "print('**************************************************************', file = outputFile)\n",
        "print('(A) Classifier 4 - Top MLP', file = outputFile)\n",
        "print(f'best parameters: {gridcv.best_params_}\\n', file = outputFile)\n",
        "outputFile.flush()"
      ],
      "metadata": {
        "id": "-V8WxwtsfAHN",
        "outputId": "24aec34c-6c37-45cf-a1a2-0fecde6892cf",
        "colab": {
          "base_uri": "https://localhost:8080/"
        }
      },
      "execution_count": 31,
      "outputs": [
        {
          "output_type": "stream",
          "name": "stdout",
          "text": [
            "best parameters: {'activation': 'tanh', 'hidden_layer_sizes': (30, 50), 'solver': 'adam'}\n"
          ]
        }
      ]
    },
    {
      "cell_type": "markdown",
      "source": [
        "Metrics for Classifier 4 - Top MLP"
      ],
      "metadata": {
        "id": "1l-RdJs8oT5n"
      }
    },
    {
      "cell_type": "code",
      "source": [
        "#predict\n",
        "y_pred_top_mlp = gridcv.best_estimator_.predict(X_test)\n",
        "\n",
        "#print the result here on notebook\n",
        "print(classification_report(y_test, y_pred_top_mlp, target_names = ['Adelie', 'Gentoo', 'Chinstap']))\n",
        "print(confusion_matrix(y_test, y_pred_top_mlp))\n",
        "\n",
        "#print the result to the output file\n",
        "print(classification_report(y_test, y_pred_top_mlp, target_names = ['Adelie', 'Gentoo', 'Chinstap']), file = outputFile)\n",
        "confusion_matrix_result =np.array2string(confusion_matrix(y_test, y_pred_top_mlp))\n",
        "print(confusion_matrix_result, file = outputFile)\n",
        "outputFile.flush()"
      ],
      "metadata": {
        "id": "HINTuN52kIyr",
        "outputId": "eb1654e6-608a-4c02-879b-36e2694a89e2",
        "colab": {
          "base_uri": "https://localhost:8080/"
        }
      },
      "execution_count": 33,
      "outputs": [
        {
          "output_type": "stream",
          "name": "stdout",
          "text": [
            "              precision    recall  f1-score   support\n",
            "\n",
            "      Adelie       1.00      1.00      1.00        41\n",
            "      Gentoo       1.00      1.00      1.00        31\n",
            "    Chinstap       1.00      1.00      1.00        28\n",
            "\n",
            "    accuracy                           1.00       100\n",
            "   macro avg       1.00      1.00      1.00       100\n",
            "weighted avg       1.00      1.00      1.00       100\n",
            "\n",
            "[[41  0  0]\n",
            " [ 0 31  0]\n",
            " [ 0  0 28]]\n"
          ]
        }
      ]
    },
    {
      "cell_type": "code",
      "source": [
        "MLP_top_train_test_repetition(param_grid, X, y, outputFile,['Adelie', 'Gentoo', 'Chinstap'])"
      ],
      "metadata": {
        "id": "WtHfQTtKSIlM"
      },
      "execution_count": 35,
      "outputs": []
    },
    {
      "cell_type": "code",
      "source": [
        "outputFile.close()"
      ],
      "metadata": {
        "id": "uj6lfQkPIRsk"
      },
      "execution_count": 36,
      "outputs": []
    },
    {
      "cell_type": "markdown",
      "source": [
        "## Dataset - 'abalone.csv'\n",
        "- Goal : prediction of sex"
      ],
      "metadata": {
        "id": "WYPRbdtq2-91"
      }
    },
    {
      "cell_type": "code",
      "source": [
        "outputFile = open('abalone-performance.txt', 'w')"
      ],
      "metadata": {
        "id": "jQKCBY32lPaR"
      },
      "execution_count": 43,
      "outputs": []
    },
    {
      "cell_type": "code",
      "source": [
        "data_abalone = pd.read_csv('abalone.csv')\n",
        "data_abalone.head()"
      ],
      "metadata": {
        "id": "wMutHb2AzmB1",
        "colab": {
          "base_uri": "https://localhost:8080/",
          "height": 206
        },
        "outputId": "605be976-dd48-44b4-d0fc-6521b155e308"
      },
      "execution_count": 44,
      "outputs": [
        {
          "output_type": "execute_result",
          "data": {
            "text/plain": [
              "  Type  LongestShell  Diameter  Height  WholeWeight  ShuckedWeight  \\\n",
              "0    F         0.605     0.470   0.165       1.1775         0.6110   \n",
              "1    M         0.550     0.425   0.150       0.8315         0.4110   \n",
              "2    M         0.460     0.345   0.110       0.4595         0.2350   \n",
              "3    F         0.650     0.475   0.165       1.3875         0.5800   \n",
              "4    M         0.575     0.470   0.140       0.8375         0.3485   \n",
              "\n",
              "   VisceraWeight  ShellWeight  Rings  \n",
              "0         0.2275       0.2920      9  \n",
              "1         0.1765       0.2165     10  \n",
              "2         0.0885       0.1160      7  \n",
              "3         0.3485       0.3095      9  \n",
              "4         0.1735       0.2400     11  "
            ],
            "text/html": [
              "\n",
              "  <div id=\"df-ad6486ee-e60b-4181-a107-a1064ada6ce8\" class=\"colab-df-container\">\n",
              "    <div>\n",
              "<style scoped>\n",
              "    .dataframe tbody tr th:only-of-type {\n",
              "        vertical-align: middle;\n",
              "    }\n",
              "\n",
              "    .dataframe tbody tr th {\n",
              "        vertical-align: top;\n",
              "    }\n",
              "\n",
              "    .dataframe thead th {\n",
              "        text-align: right;\n",
              "    }\n",
              "</style>\n",
              "<table border=\"1\" class=\"dataframe\">\n",
              "  <thead>\n",
              "    <tr style=\"text-align: right;\">\n",
              "      <th></th>\n",
              "      <th>Type</th>\n",
              "      <th>LongestShell</th>\n",
              "      <th>Diameter</th>\n",
              "      <th>Height</th>\n",
              "      <th>WholeWeight</th>\n",
              "      <th>ShuckedWeight</th>\n",
              "      <th>VisceraWeight</th>\n",
              "      <th>ShellWeight</th>\n",
              "      <th>Rings</th>\n",
              "    </tr>\n",
              "  </thead>\n",
              "  <tbody>\n",
              "    <tr>\n",
              "      <th>0</th>\n",
              "      <td>F</td>\n",
              "      <td>0.605</td>\n",
              "      <td>0.470</td>\n",
              "      <td>0.165</td>\n",
              "      <td>1.1775</td>\n",
              "      <td>0.6110</td>\n",
              "      <td>0.2275</td>\n",
              "      <td>0.2920</td>\n",
              "      <td>9</td>\n",
              "    </tr>\n",
              "    <tr>\n",
              "      <th>1</th>\n",
              "      <td>M</td>\n",
              "      <td>0.550</td>\n",
              "      <td>0.425</td>\n",
              "      <td>0.150</td>\n",
              "      <td>0.8315</td>\n",
              "      <td>0.4110</td>\n",
              "      <td>0.1765</td>\n",
              "      <td>0.2165</td>\n",
              "      <td>10</td>\n",
              "    </tr>\n",
              "    <tr>\n",
              "      <th>2</th>\n",
              "      <td>M</td>\n",
              "      <td>0.460</td>\n",
              "      <td>0.345</td>\n",
              "      <td>0.110</td>\n",
              "      <td>0.4595</td>\n",
              "      <td>0.2350</td>\n",
              "      <td>0.0885</td>\n",
              "      <td>0.1160</td>\n",
              "      <td>7</td>\n",
              "    </tr>\n",
              "    <tr>\n",
              "      <th>3</th>\n",
              "      <td>F</td>\n",
              "      <td>0.650</td>\n",
              "      <td>0.475</td>\n",
              "      <td>0.165</td>\n",
              "      <td>1.3875</td>\n",
              "      <td>0.5800</td>\n",
              "      <td>0.3485</td>\n",
              "      <td>0.3095</td>\n",
              "      <td>9</td>\n",
              "    </tr>\n",
              "    <tr>\n",
              "      <th>4</th>\n",
              "      <td>M</td>\n",
              "      <td>0.575</td>\n",
              "      <td>0.470</td>\n",
              "      <td>0.140</td>\n",
              "      <td>0.8375</td>\n",
              "      <td>0.3485</td>\n",
              "      <td>0.1735</td>\n",
              "      <td>0.2400</td>\n",
              "      <td>11</td>\n",
              "    </tr>\n",
              "  </tbody>\n",
              "</table>\n",
              "</div>\n",
              "    <div class=\"colab-df-buttons\">\n",
              "\n",
              "  <div class=\"colab-df-container\">\n",
              "    <button class=\"colab-df-convert\" onclick=\"convertToInteractive('df-ad6486ee-e60b-4181-a107-a1064ada6ce8')\"\n",
              "            title=\"Convert this dataframe to an interactive table.\"\n",
              "            style=\"display:none;\">\n",
              "\n",
              "  <svg xmlns=\"http://www.w3.org/2000/svg\" height=\"24px\" viewBox=\"0 -960 960 960\">\n",
              "    <path d=\"M120-120v-720h720v720H120Zm60-500h600v-160H180v160Zm220 220h160v-160H400v160Zm0 220h160v-160H400v160ZM180-400h160v-160H180v160Zm440 0h160v-160H620v160ZM180-180h160v-160H180v160Zm440 0h160v-160H620v160Z\"/>\n",
              "  </svg>\n",
              "    </button>\n",
              "\n",
              "  <style>\n",
              "    .colab-df-container {\n",
              "      display:flex;\n",
              "      gap: 12px;\n",
              "    }\n",
              "\n",
              "    .colab-df-convert {\n",
              "      background-color: #E8F0FE;\n",
              "      border: none;\n",
              "      border-radius: 50%;\n",
              "      cursor: pointer;\n",
              "      display: none;\n",
              "      fill: #1967D2;\n",
              "      height: 32px;\n",
              "      padding: 0 0 0 0;\n",
              "      width: 32px;\n",
              "    }\n",
              "\n",
              "    .colab-df-convert:hover {\n",
              "      background-color: #E2EBFA;\n",
              "      box-shadow: 0px 1px 2px rgba(60, 64, 67, 0.3), 0px 1px 3px 1px rgba(60, 64, 67, 0.15);\n",
              "      fill: #174EA6;\n",
              "    }\n",
              "\n",
              "    .colab-df-buttons div {\n",
              "      margin-bottom: 4px;\n",
              "    }\n",
              "\n",
              "    [theme=dark] .colab-df-convert {\n",
              "      background-color: #3B4455;\n",
              "      fill: #D2E3FC;\n",
              "    }\n",
              "\n",
              "    [theme=dark] .colab-df-convert:hover {\n",
              "      background-color: #434B5C;\n",
              "      box-shadow: 0px 1px 3px 1px rgba(0, 0, 0, 0.15);\n",
              "      filter: drop-shadow(0px 1px 2px rgba(0, 0, 0, 0.3));\n",
              "      fill: #FFFFFF;\n",
              "    }\n",
              "  </style>\n",
              "\n",
              "    <script>\n",
              "      const buttonEl =\n",
              "        document.querySelector('#df-ad6486ee-e60b-4181-a107-a1064ada6ce8 button.colab-df-convert');\n",
              "      buttonEl.style.display =\n",
              "        google.colab.kernel.accessAllowed ? 'block' : 'none';\n",
              "\n",
              "      async function convertToInteractive(key) {\n",
              "        const element = document.querySelector('#df-ad6486ee-e60b-4181-a107-a1064ada6ce8');\n",
              "        const dataTable =\n",
              "          await google.colab.kernel.invokeFunction('convertToInteractive',\n",
              "                                                    [key], {});\n",
              "        if (!dataTable) return;\n",
              "\n",
              "        const docLinkHtml = 'Like what you see? Visit the ' +\n",
              "          '<a target=\"_blank\" href=https://colab.research.google.com/notebooks/data_table.ipynb>data table notebook</a>'\n",
              "          + ' to learn more about interactive tables.';\n",
              "        element.innerHTML = '';\n",
              "        dataTable['output_type'] = 'display_data';\n",
              "        await google.colab.output.renderOutput(dataTable, element);\n",
              "        const docLink = document.createElement('div');\n",
              "        docLink.innerHTML = docLinkHtml;\n",
              "        element.appendChild(docLink);\n",
              "      }\n",
              "    </script>\n",
              "  </div>\n",
              "\n",
              "\n",
              "<div id=\"df-0512e940-9641-4349-8787-8901fdebda5b\">\n",
              "  <button class=\"colab-df-quickchart\" onclick=\"quickchart('df-0512e940-9641-4349-8787-8901fdebda5b')\"\n",
              "            title=\"Suggest charts\"\n",
              "            style=\"display:none;\">\n",
              "\n",
              "<svg xmlns=\"http://www.w3.org/2000/svg\" height=\"24px\"viewBox=\"0 0 24 24\"\n",
              "     width=\"24px\">\n",
              "    <g>\n",
              "        <path d=\"M19 3H5c-1.1 0-2 .9-2 2v14c0 1.1.9 2 2 2h14c1.1 0 2-.9 2-2V5c0-1.1-.9-2-2-2zM9 17H7v-7h2v7zm4 0h-2V7h2v10zm4 0h-2v-4h2v4z\"/>\n",
              "    </g>\n",
              "</svg>\n",
              "  </button>\n",
              "\n",
              "<style>\n",
              "  .colab-df-quickchart {\n",
              "      --bg-color: #E8F0FE;\n",
              "      --fill-color: #1967D2;\n",
              "      --hover-bg-color: #E2EBFA;\n",
              "      --hover-fill-color: #174EA6;\n",
              "      --disabled-fill-color: #AAA;\n",
              "      --disabled-bg-color: #DDD;\n",
              "  }\n",
              "\n",
              "  [theme=dark] .colab-df-quickchart {\n",
              "      --bg-color: #3B4455;\n",
              "      --fill-color: #D2E3FC;\n",
              "      --hover-bg-color: #434B5C;\n",
              "      --hover-fill-color: #FFFFFF;\n",
              "      --disabled-bg-color: #3B4455;\n",
              "      --disabled-fill-color: #666;\n",
              "  }\n",
              "\n",
              "  .colab-df-quickchart {\n",
              "    background-color: var(--bg-color);\n",
              "    border: none;\n",
              "    border-radius: 50%;\n",
              "    cursor: pointer;\n",
              "    display: none;\n",
              "    fill: var(--fill-color);\n",
              "    height: 32px;\n",
              "    padding: 0;\n",
              "    width: 32px;\n",
              "  }\n",
              "\n",
              "  .colab-df-quickchart:hover {\n",
              "    background-color: var(--hover-bg-color);\n",
              "    box-shadow: 0 1px 2px rgba(60, 64, 67, 0.3), 0 1px 3px 1px rgba(60, 64, 67, 0.15);\n",
              "    fill: var(--button-hover-fill-color);\n",
              "  }\n",
              "\n",
              "  .colab-df-quickchart-complete:disabled,\n",
              "  .colab-df-quickchart-complete:disabled:hover {\n",
              "    background-color: var(--disabled-bg-color);\n",
              "    fill: var(--disabled-fill-color);\n",
              "    box-shadow: none;\n",
              "  }\n",
              "\n",
              "  .colab-df-spinner {\n",
              "    border: 2px solid var(--fill-color);\n",
              "    border-color: transparent;\n",
              "    border-bottom-color: var(--fill-color);\n",
              "    animation:\n",
              "      spin 1s steps(1) infinite;\n",
              "  }\n",
              "\n",
              "  @keyframes spin {\n",
              "    0% {\n",
              "      border-color: transparent;\n",
              "      border-bottom-color: var(--fill-color);\n",
              "      border-left-color: var(--fill-color);\n",
              "    }\n",
              "    20% {\n",
              "      border-color: transparent;\n",
              "      border-left-color: var(--fill-color);\n",
              "      border-top-color: var(--fill-color);\n",
              "    }\n",
              "    30% {\n",
              "      border-color: transparent;\n",
              "      border-left-color: var(--fill-color);\n",
              "      border-top-color: var(--fill-color);\n",
              "      border-right-color: var(--fill-color);\n",
              "    }\n",
              "    40% {\n",
              "      border-color: transparent;\n",
              "      border-right-color: var(--fill-color);\n",
              "      border-top-color: var(--fill-color);\n",
              "    }\n",
              "    60% {\n",
              "      border-color: transparent;\n",
              "      border-right-color: var(--fill-color);\n",
              "    }\n",
              "    80% {\n",
              "      border-color: transparent;\n",
              "      border-right-color: var(--fill-color);\n",
              "      border-bottom-color: var(--fill-color);\n",
              "    }\n",
              "    90% {\n",
              "      border-color: transparent;\n",
              "      border-bottom-color: var(--fill-color);\n",
              "    }\n",
              "  }\n",
              "</style>\n",
              "\n",
              "  <script>\n",
              "    async function quickchart(key) {\n",
              "      const quickchartButtonEl =\n",
              "        document.querySelector('#' + key + ' button');\n",
              "      quickchartButtonEl.disabled = true;  // To prevent multiple clicks.\n",
              "      quickchartButtonEl.classList.add('colab-df-spinner');\n",
              "      try {\n",
              "        const charts = await google.colab.kernel.invokeFunction(\n",
              "            'suggestCharts', [key], {});\n",
              "      } catch (error) {\n",
              "        console.error('Error during call to suggestCharts:', error);\n",
              "      }\n",
              "      quickchartButtonEl.classList.remove('colab-df-spinner');\n",
              "      quickchartButtonEl.classList.add('colab-df-quickchart-complete');\n",
              "    }\n",
              "    (() => {\n",
              "      let quickchartButtonEl =\n",
              "        document.querySelector('#df-0512e940-9641-4349-8787-8901fdebda5b button');\n",
              "      quickchartButtonEl.style.display =\n",
              "        google.colab.kernel.accessAllowed ? 'block' : 'none';\n",
              "    })();\n",
              "  </script>\n",
              "</div>\n",
              "    </div>\n",
              "  </div>\n"
            ]
          },
          "metadata": {},
          "execution_count": 44
        }
      ]
    },
    {
      "cell_type": "markdown",
      "source": [
        "#### Plot the percentage of the instances"
      ],
      "metadata": {
        "id": "vRRzVKIo39rm"
      }
    },
    {
      "cell_type": "code",
      "source": [
        "# Check the output class is balanced\n",
        "abalone_labels = data_abalone['Type']\n",
        "\n",
        "plt.figure(figsize=(10, 6))\n",
        "sns.countplot(x=abalone_labels)\n",
        "plt.title('Distribution of class label')\n",
        "plt.xlabel('Abalone')\n",
        "plt.ylabel('Frequency')\n",
        "\n",
        "# save as graphic\n",
        "plt.savefig('abalone-classes.png')\n"
      ],
      "metadata": {
        "colab": {
          "base_uri": "https://localhost:8080/",
          "height": 564
        },
        "id": "yq-_zOJu3-Sr",
        "outputId": "dd36f287-4289-47b6-bc6b-2e437ff5fa33"
      },
      "execution_count": 45,
      "outputs": [
        {
          "output_type": "display_data",
          "data": {
            "text/plain": [
              "<Figure size 1000x600 with 1 Axes>"
            ],
            "image/png": "[encoded data removed]"
          },
          "metadata": {}
        }
      ]
    },
    {
      "cell_type": "markdown",
      "source": [
        "#### Dataset split into training & test set"
      ],
      "metadata": {
        "id": "U83DY2IC3rvY"
      }
    },
    {
      "cell_type": "code",
      "source": [
        "# perform feature scaling\n",
        "from sklearn.preprocessing import StandardScaler\n",
        "scaled_features_abalone = StandardScaler().fit_transform(data_abalone.iloc[:, 1:].values)\n",
        "\n",
        "X = scaled_features_abalone\n",
        "y = data_abalone.iloc[:,0].values"
      ],
      "metadata": {
        "id": "ao8xlPj-zmD8"
      },
      "execution_count": 46,
      "outputs": []
    },
    {
      "cell_type": "code",
      "source": [
        "from sklearn.model_selection import train_test_split\n",
        "X_train, X_test, y_train, y_test = train_test_split(X, y, test_size = 0.3)"
      ],
      "metadata": {
        "id": "WJweG6uCzmFv"
      },
      "execution_count": 47,
      "outputs": []
    },
    {
      "cell_type": "markdown",
      "source": [
        "#### Train and test 4 different classifiers"
      ],
      "metadata": {
        "id": "xDSmVlbI9Hyl"
      }
    },
    {
      "cell_type": "markdown",
      "source": [
        "##### Classifier 1 - Base-DT"
      ],
      "metadata": {
        "id": "XyL9UsKq2tsv"
      }
    },
    {
      "cell_type": "code",
      "source": [
        "from sklearn.tree import DecisionTreeClassifier\n",
        "\n",
        "# Base Decision Tree\n",
        "classifier_1 = DecisionTreeClassifier(max_depth=3)\n",
        "classifier_1.fit(X_train, y_train)"
      ],
      "metadata": {
        "colab": {
          "base_uri": "https://localhost:8080/",
          "height": 75
        },
        "id": "C0cUxRm82tD7",
        "outputId": "0d7f2df3-875c-44fe-c231-5f6035636f6f"
      },
      "execution_count": 48,
      "outputs": [
        {
          "output_type": "execute_result",
          "data": {
            "text/plain": [
              "DecisionTreeClassifier(max_depth=3)"
            ],
            "text/html": [
              "<style>#sk-container-id-2 {color: black;background-color: white;}#sk-container-id-2 pre{padding: 0;}#sk-container-id-2 div.sk-toggleable {background-color: white;}#sk-container-id-2 label.sk-toggleable__label {cursor: pointer;display: block;width: 100%;margin-bottom: 0;padding: 0.3em;box-sizing: border-box;text-align: center;}#sk-container-id-2 label.sk-toggleable__label-arrow:before {content: \"▸\";float: left;margin-right: 0.25em;color: #696969;}#sk-container-id-2 label.sk-toggleable__label-arrow:hover:before {color: black;}#sk-container-id-2 div.sk-estimator:hover label.sk-toggleable__label-arrow:before {color: black;}#sk-container-id-2 div.sk-toggleable__content {max-height: 0;max-width: 0;overflow: hidden;text-align: left;background-color: #f0f8ff;}#sk-container-id-2 div.sk-toggleable__content pre {margin: 0.2em;color: black;border-radius: 0.25em;background-color: #f0f8ff;}#sk-container-id-2 input.sk-toggleable__control:checked~div.sk-toggleable__content {max-height: 200px;max-width: 100%;overflow: auto;}#sk-container-id-2 input.sk-toggleable__control:checked~label.sk-toggleable__label-arrow:before {content: \"▾\";}#sk-container-id-2 div.sk-estimator input.sk-toggleable__control:checked~label.sk-toggleable__label {background-color: #d4ebff;}#sk-container-id-2 div.sk-label input.sk-toggleable__control:checked~label.sk-toggleable__label {background-color: #d4ebff;}#sk-container-id-2 input.sk-hidden--visually {border: 0;clip: rect(1px 1px 1px 1px);clip: rect(1px, 1px, 1px, 1px);height: 1px;margin: -1px;overflow: hidden;padding: 0;position: absolute;width: 1px;}#sk-container-id-2 div.sk-estimator {font-family: monospace;background-color: #f0f8ff;border: 1px dotted black;border-radius: 0.25em;box-sizing: border-box;margin-bottom: 0.5em;}#sk-container-id-2 div.sk-estimator:hover {background-color: #d4ebff;}#sk-container-id-2 div.sk-parallel-item::after {content: \"\";width: 100%;border-bottom: 1px solid gray;flex-grow: 1;}#sk-container-id-2 div.sk-label:hover label.sk-toggleable__label {background-color: #d4ebff;}#sk-container-id-2 div.sk-serial::before {content: \"\";position: absolute;border-left: 1px solid gray;box-sizing: border-box;top: 0;bottom: 0;left: 50%;z-index: 0;}#sk-container-id-2 div.sk-serial {display: flex;flex-direction: column;align-items: center;background-color: white;padding-right: 0.2em;padding-left: 0.2em;position: relative;}#sk-container-id-2 div.sk-item {position: relative;z-index: 1;}#sk-container-id-2 div.sk-parallel {display: flex;align-items: stretch;justify-content: center;background-color: white;position: relative;}#sk-container-id-2 div.sk-item::before, #sk-container-id-2 div.sk-parallel-item::before {content: \"\";position: absolute;border-left: 1px solid gray;box-sizing: border-box;top: 0;bottom: 0;left: 50%;z-index: -1;}#sk-container-id-2 div.sk-parallel-item {display: flex;flex-direction: column;z-index: 1;position: relative;background-color: white;}#sk-container-id-2 div.sk-parallel-item:first-child::after {align-self: flex-end;width: 50%;}#sk-container-id-2 div.sk-parallel-item:last-child::after {align-self: flex-start;width: 50%;}#sk-container-id-2 div.sk-parallel-item:only-child::after {width: 0;}#sk-container-id-2 div.sk-dashed-wrapped {border: 1px dashed gray;margin: 0 0.4em 0.5em 0.4em;box-sizing: border-box;padding-bottom: 0.4em;background-color: white;}#sk-container-id-2 div.sk-label label {font-family: monospace;font-weight: bold;display: inline-block;line-height: 1.2em;}#sk-container-id-2 div.sk-label-container {text-align: center;}#sk-container-id-2 div.sk-container {/* jupyter's `normalize.less` sets `[hidden] { display: none; }` but bootstrap.min.css set `[hidden] { display: none !important; }` so we also need the `!important` here to be able to override the default hidden behavior on the sphinx rendered scikit-learn.org. See: https://github.com/scikit-learn/scikit-learn/issues/21755 */display: inline-block !important;position: relative;}#sk-container-id-2 div.sk-text-repr-fallback {display: none;}</style><div id=\"sk-container-id-2\" class=\"sk-top-container\"><div class=\"sk-text-repr-fallback\"><pre>DecisionTreeClassifier(max_depth=3)</pre><b>In a Jupyter environment, please rerun this cell to show the HTML representation or trust the notebook. <br />On GitHub, the HTML representation is unable to render, please try loading this page with nbviewer.org.</b></div><div class=\"sk-container\" hidden><div class=\"sk-item\"><div class=\"sk-estimator sk-toggleable\"><input class=\"sk-toggleable__control sk-hidden--visually\" id=\"sk-estimator-id-2\" type=\"checkbox\" checked><label for=\"sk-estimator-id-2\" class=\"sk-toggleable__label sk-toggleable__label-arrow\">DecisionTreeClassifier</label><div class=\"sk-toggleable__content\"><pre>DecisionTreeClassifier(max_depth=3)</pre></div></div></div></div></div>"
            ]
          },
          "metadata": {},
          "execution_count": 48
        }
      ]
    },
    {
      "cell_type": "code",
      "source": [
        "abalone_class = data_abalone.columns[0]\n",
        "abalone_features = list(data_abalone.columns[1:])"
      ],
      "metadata": {
        "id": "dGLPS-XQ29an"
      },
      "execution_count": 49,
      "outputs": []
    },
    {
      "cell_type": "code",
      "source": [
        "dot_data = tree.export_graphviz(classifier_1,\n",
        "                feature_names=abalone_features,\n",
        "                class_names=abalone_class,\n",
        "                filled=True, rounded=True,\n",
        "                special_characters=True)\n",
        "\n",
        "graph = graphviz.Source(dot_data)\n",
        "graph"
      ],
      "metadata": {
        "id": "8tgSldCH5xU1",
        "colab": {
          "base_uri": "https://localhost:8080/",
          "height": 619
        },
        "outputId": "1b9d77a8-2fc0-4ed0-bdc7-ac3776a61b05"
      },
      "execution_count": 50,
      "outputs": [
        {
          "output_type": "execute_result",
          "data": {
            "image/svg+xml": "<?xml version=\"1.0\" encoding=\"UTF-8\" standalone=\"no\"?>\n<!DOCTYPE svg PUBLIC \"-//W3C//DTD SVG 1.1//EN\"\n \"http://www.w3.org/Graphics/SVG/1.1/DTD/svg11.dtd\">\n<!-- Generated by graphviz version 2.43.0 (0)\n -->\n<!-- Title: Tree Pages: 1 -->\n<svg width=\"1225pt\" height=\"433pt\"\n viewBox=\"0.00 0.00 1224.50 433.00\" xmlns=\"http://www.w3.org/2000/svg\" xmlns:xlink=\"http://www.w3.org/1999/xlink\">\n<g id=\"graph0\" class=\"graph\" transform=\"scale(1 1) rotate(0) translate(4 429)\">\n<title>Tree</title>\n<polygon fill=\"white\" stroke=\"transparent\" points=\"-4,4 -4,-429 1220.5,-429 1220.5,4 -4,4\"/>\n<!-- 0 -->\n<g id=\"node1\" class=\"node\">\n<title>0</title>\n<path fill=\"#f8f3fd\" stroke=\"black\" d=\"M684,-425C684,-425 546,-425 546,-425 540,-425 534,-419 534,-413 534,-413 534,-354 534,-354 534,-348 540,-342 546,-342 546,-342 684,-342 684,-342 690,-342 696,-348 696,-354 696,-354 696,-413 696,-413 696,-419 690,-425 684,-425\"/>\n<text text-anchor=\"start\" x=\"544.5\" y=\"-409.8\" font-family=\"Helvetica,sans-Serif\" font-size=\"14.00\">VisceraWeight ≤ &#45;0.291</text>\n<text text-anchor=\"start\" x=\"579.5\" y=\"-394.8\" font-family=\"Helvetica,sans-Serif\" font-size=\"14.00\">gini = 0.665</text>\n<text text-anchor=\"start\" x=\"566.5\" y=\"-379.8\" font-family=\"Helvetica,sans-Serif\" font-size=\"14.00\">samples = 2923</text>\n<text text-anchor=\"start\" x=\"542\" y=\"-364.8\" font-family=\"Helvetica,sans-Serif\" font-size=\"14.00\">value = [918, 945, 1060]</text>\n<text text-anchor=\"start\" x=\"587.5\" y=\"-349.8\" font-family=\"Helvetica,sans-Serif\" font-size=\"14.00\">class = p</text>\n</g>\n<!-- 1 -->\n<g id=\"node2\" class=\"node\">\n<title>1</title>\n<path fill=\"#96f1bc\" stroke=\"black\" d=\"M528.5,-306C528.5,-306 397.5,-306 397.5,-306 391.5,-306 385.5,-300 385.5,-294 385.5,-294 385.5,-235 385.5,-235 385.5,-229 391.5,-223 397.5,-223 397.5,-223 528.5,-223 528.5,-223 534.5,-223 540.5,-229 540.5,-235 540.5,-235 540.5,-294 540.5,-294 540.5,-300 534.5,-306 528.5,-306\"/>\n<text text-anchor=\"start\" x=\"419\" y=\"-290.8\" font-family=\"Helvetica,sans-Serif\" font-size=\"14.00\">Rings ≤ &#45;0.445</text>\n<text text-anchor=\"start\" x=\"427.5\" y=\"-275.8\" font-family=\"Helvetica,sans-Serif\" font-size=\"14.00\">gini = 0.532</text>\n<text text-anchor=\"start\" x=\"414.5\" y=\"-260.8\" font-family=\"Helvetica,sans-Serif\" font-size=\"14.00\">samples = 1245</text>\n<text text-anchor=\"start\" x=\"393.5\" y=\"-245.8\" font-family=\"Helvetica,sans-Serif\" font-size=\"14.00\">value = [190, 785, 270]</text>\n<text text-anchor=\"start\" x=\"436\" y=\"-230.8\" font-family=\"Helvetica,sans-Serif\" font-size=\"14.00\">class = y</text>\n</g>\n<!-- 0&#45;&gt;1 -->\n<g id=\"edge1\" class=\"edge\">\n<title>0&#45;&gt;1</title>\n<path fill=\"none\" stroke=\"black\" d=\"M562.26,-341.91C549.88,-332.38 536.59,-322.15 523.89,-312.37\"/>\n<polygon fill=\"black\" stroke=\"black\" points=\"525.7,-309.35 515.64,-306.02 521.43,-314.89 525.7,-309.35\"/>\n<text text-anchor=\"middle\" x=\"518.87\" y=\"-327.11\" font-family=\"Helvetica,sans-Serif\" font-size=\"14.00\">True</text>\n</g>\n<!-- 8 -->\n<g id=\"node9\" class=\"node\">\n<title>8</title>\n<path fill=\"#f7f2fd\" stroke=\"black\" d=\"M828.5,-306C828.5,-306 697.5,-306 697.5,-306 691.5,-306 685.5,-300 685.5,-294 685.5,-294 685.5,-235 685.5,-235 685.5,-229 691.5,-223 697.5,-223 697.5,-223 828.5,-223 828.5,-223 834.5,-223 840.5,-229 840.5,-235 840.5,-235 840.5,-294 840.5,-294 840.5,-300 834.5,-306 828.5,-306\"/>\n<text text-anchor=\"start\" x=\"698\" y=\"-290.8\" font-family=\"Helvetica,sans-Serif\" font-size=\"14.00\">WholeWeight ≤ 0.238</text>\n<text text-anchor=\"start\" x=\"727.5\" y=\"-275.8\" font-family=\"Helvetica,sans-Serif\" font-size=\"14.00\">gini = 0.581</text>\n<text text-anchor=\"start\" x=\"714.5\" y=\"-260.8\" font-family=\"Helvetica,sans-Serif\" font-size=\"14.00\">samples = 1678</text>\n<text text-anchor=\"start\" x=\"693.5\" y=\"-245.8\" font-family=\"Helvetica,sans-Serif\" font-size=\"14.00\">value = [728, 160, 790]</text>\n<text text-anchor=\"start\" x=\"735.5\" y=\"-230.8\" font-family=\"Helvetica,sans-Serif\" font-size=\"14.00\">class = p</text>\n</g>\n<!-- 0&#45;&gt;8 -->\n<g id=\"edge8\" class=\"edge\">\n<title>0&#45;&gt;8</title>\n<path fill=\"none\" stroke=\"black\" d=\"M666.35,-341.91C678.4,-332.38 691.34,-322.15 703.71,-312.37\"/>\n<polygon fill=\"black\" stroke=\"black\" points=\"706.07,-314.97 711.74,-306.02 701.73,-309.48 706.07,-314.97\"/>\n<text text-anchor=\"middle\" x=\"708.84\" y=\"-327.15\" font-family=\"Helvetica,sans-Serif\" font-size=\"14.00\">False</text>\n</g>\n<!-- 2 -->\n<g id=\"node3\" class=\"node\">\n<title>2</title>\n<path fill=\"#6ceca1\" stroke=\"black\" d=\"M289.5,-187C289.5,-187 166.5,-187 166.5,-187 160.5,-187 154.5,-181 154.5,-175 154.5,-175 154.5,-116 154.5,-116 154.5,-110 160.5,-104 166.5,-104 166.5,-104 289.5,-104 289.5,-104 295.5,-104 301.5,-110 301.5,-116 301.5,-116 301.5,-175 301.5,-175 301.5,-181 295.5,-187 289.5,-187\"/>\n<text text-anchor=\"start\" x=\"165\" y=\"-171.8\" font-family=\"Helvetica,sans-Serif\" font-size=\"14.00\">ShellWeight ≤ &#45;0.793</text>\n<text text-anchor=\"start\" x=\"192.5\" y=\"-156.8\" font-family=\"Helvetica,sans-Serif\" font-size=\"14.00\">gini = 0.362</text>\n<text text-anchor=\"start\" x=\"183\" y=\"-141.8\" font-family=\"Helvetica,sans-Serif\" font-size=\"14.00\">samples = 798</text>\n<text text-anchor=\"start\" x=\"162.5\" y=\"-126.8\" font-family=\"Helvetica,sans-Serif\" font-size=\"14.00\">value = [57, 624, 117]</text>\n<text text-anchor=\"start\" x=\"201\" y=\"-111.8\" font-family=\"Helvetica,sans-Serif\" font-size=\"14.00\">class = y</text>\n</g>\n<!-- 1&#45;&gt;2 -->\n<g id=\"edge2\" class=\"edge\">\n<title>1&#45;&gt;2</title>\n<path fill=\"none\" stroke=\"black\" d=\"M385.4,-224.87C361.45,-212.94 335,-199.77 310.72,-187.68\"/>\n<polygon fill=\"black\" stroke=\"black\" points=\"312.04,-184.43 301.53,-183.11 308.92,-190.7 312.04,-184.43\"/>\n</g>\n<!-- 5 -->\n<g id=\"node6\" class=\"node\">\n<title>5</title>\n<path fill=\"#fafefc\" stroke=\"black\" d=\"M528.5,-187C528.5,-187 397.5,-187 397.5,-187 391.5,-187 385.5,-181 385.5,-175 385.5,-175 385.5,-116 385.5,-116 385.5,-110 391.5,-104 397.5,-104 397.5,-104 528.5,-104 528.5,-104 534.5,-104 540.5,-110 540.5,-116 540.5,-116 540.5,-175 540.5,-175 540.5,-181 534.5,-187 528.5,-187\"/>\n<text text-anchor=\"start\" x=\"419\" y=\"-171.8\" font-family=\"Helvetica,sans-Serif\" font-size=\"14.00\">Rings ≤ &#45;0.135</text>\n<text text-anchor=\"start\" x=\"427.5\" y=\"-156.8\" font-family=\"Helvetica,sans-Serif\" font-size=\"14.00\">gini = 0.665</text>\n<text text-anchor=\"start\" x=\"418\" y=\"-141.8\" font-family=\"Helvetica,sans-Serif\" font-size=\"14.00\">samples = 447</text>\n<text text-anchor=\"start\" x=\"393.5\" y=\"-126.8\" font-family=\"Helvetica,sans-Serif\" font-size=\"14.00\">value = [133, 161, 153]</text>\n<text text-anchor=\"start\" x=\"436\" y=\"-111.8\" font-family=\"Helvetica,sans-Serif\" font-size=\"14.00\">class = y</text>\n</g>\n<!-- 1&#45;&gt;5 -->\n<g id=\"edge5\" class=\"edge\">\n<title>1&#45;&gt;5</title>\n<path fill=\"none\" stroke=\"black\" d=\"M463,-222.91C463,-214.65 463,-205.86 463,-197.3\"/>\n<polygon fill=\"black\" stroke=\"black\" points=\"466.5,-197.02 463,-187.02 459.5,-197.02 466.5,-197.02\"/>\n</g>\n<!-- 3 -->\n<g id=\"node4\" class=\"node\">\n<title>3</title>\n<path fill=\"#5eea98\" stroke=\"black\" d=\"M128,-68C128,-68 12,-68 12,-68 6,-68 0,-62 0,-56 0,-56 0,-12 0,-12 0,-6 6,0 12,0 12,0 128,0 128,0 134,0 140,-6 140,-12 140,-12 140,-56 140,-56 140,-62 134,-68 128,-68\"/>\n<text text-anchor=\"start\" x=\"38\" y=\"-52.8\" font-family=\"Helvetica,sans-Serif\" font-size=\"14.00\">gini = 0.28</text>\n<text text-anchor=\"start\" x=\"25\" y=\"-37.8\" font-family=\"Helvetica,sans-Serif\" font-size=\"14.00\">samples = 588</text>\n<text text-anchor=\"start\" x=\"8\" y=\"-22.8\" font-family=\"Helvetica,sans-Serif\" font-size=\"14.00\">value = [22, 493, 73]</text>\n<text text-anchor=\"start\" x=\"43\" y=\"-7.8\" font-family=\"Helvetica,sans-Serif\" font-size=\"14.00\">class = y</text>\n</g>\n<!-- 2&#45;&gt;3 -->\n<g id=\"edge3\" class=\"edge\">\n<title>2&#45;&gt;3</title>\n<path fill=\"none\" stroke=\"black\" d=\"M169.17,-103.73C155.14,-94.01 140.21,-83.66 126.31,-74.02\"/>\n<polygon fill=\"black\" stroke=\"black\" points=\"128.01,-70.94 117.8,-68.13 124.02,-76.7 128.01,-70.94\"/>\n</g>\n<!-- 4 -->\n<g id=\"node5\" class=\"node\">\n<title>4</title>\n<path fill=\"#97f1bd\" stroke=\"black\" d=\"M286,-68C286,-68 170,-68 170,-68 164,-68 158,-62 158,-56 158,-56 158,-12 158,-12 158,-6 164,0 170,0 170,0 286,0 286,0 292,0 298,-6 298,-12 298,-12 298,-56 298,-56 298,-62 292,-68 286,-68\"/>\n<text text-anchor=\"start\" x=\"192.5\" y=\"-52.8\" font-family=\"Helvetica,sans-Serif\" font-size=\"14.00\">gini = 0.539</text>\n<text text-anchor=\"start\" x=\"183\" y=\"-37.8\" font-family=\"Helvetica,sans-Serif\" font-size=\"14.00\">samples = 210</text>\n<text text-anchor=\"start\" x=\"166\" y=\"-22.8\" font-family=\"Helvetica,sans-Serif\" font-size=\"14.00\">value = [35, 131, 44]</text>\n<text text-anchor=\"start\" x=\"201\" y=\"-7.8\" font-family=\"Helvetica,sans-Serif\" font-size=\"14.00\">class = y</text>\n</g>\n<!-- 2&#45;&gt;4 -->\n<g id=\"edge4\" class=\"edge\">\n<title>2&#45;&gt;4</title>\n<path fill=\"none\" stroke=\"black\" d=\"M228,-103.73C228,-95.52 228,-86.86 228,-78.56\"/>\n<polygon fill=\"black\" stroke=\"black\" points=\"231.5,-78.3 228,-68.3 224.5,-78.3 231.5,-78.3\"/>\n</g>\n<!-- 6 -->\n<g id=\"node7\" class=\"node\">\n<title>6</title>\n<path fill=\"#caf8de\" stroke=\"black\" d=\"M436,-68C436,-68 328,-68 328,-68 322,-68 316,-62 316,-56 316,-56 316,-12 316,-12 316,-6 322,0 328,0 328,0 436,0 436,0 442,0 448,-6 448,-12 448,-12 448,-56 448,-56 448,-62 442,-68 436,-68\"/>\n<text text-anchor=\"start\" x=\"346.5\" y=\"-52.8\" font-family=\"Helvetica,sans-Serif\" font-size=\"14.00\">gini = 0.609</text>\n<text text-anchor=\"start\" x=\"337\" y=\"-37.8\" font-family=\"Helvetica,sans-Serif\" font-size=\"14.00\">samples = 168</text>\n<text text-anchor=\"start\" x=\"324\" y=\"-22.8\" font-family=\"Helvetica,sans-Serif\" font-size=\"14.00\">value = [28, 85, 55]</text>\n<text text-anchor=\"start\" x=\"355\" y=\"-7.8\" font-family=\"Helvetica,sans-Serif\" font-size=\"14.00\">class = y</text>\n</g>\n<!-- 5&#45;&gt;6 -->\n<g id=\"edge6\" class=\"edge\">\n<title>5&#45;&gt;6</title>\n<path fill=\"none\" stroke=\"black\" d=\"M432.84,-103.73C426.23,-94.79 419.22,-85.32 412.59,-76.36\"/>\n<polygon fill=\"black\" stroke=\"black\" points=\"415.39,-74.26 406.63,-68.3 409.77,-78.42 415.39,-74.26\"/>\n</g>\n<!-- 7 -->\n<g id=\"node8\" class=\"node\">\n<title>7</title>\n<path fill=\"#fefaf7\" stroke=\"black\" d=\"M594,-68C594,-68 478,-68 478,-68 472,-68 466,-62 466,-56 466,-56 466,-12 466,-12 466,-6 472,0 478,0 478,0 594,0 594,0 600,0 606,-6 606,-12 606,-12 606,-56 606,-56 606,-62 600,-68 594,-68\"/>\n<text text-anchor=\"start\" x=\"500.5\" y=\"-52.8\" font-family=\"Helvetica,sans-Serif\" font-size=\"14.00\">gini = 0.661</text>\n<text text-anchor=\"start\" x=\"491\" y=\"-37.8\" font-family=\"Helvetica,sans-Serif\" font-size=\"14.00\">samples = 279</text>\n<text text-anchor=\"start\" x=\"474\" y=\"-22.8\" font-family=\"Helvetica,sans-Serif\" font-size=\"14.00\">value = [105, 76, 98]</text>\n<text text-anchor=\"start\" x=\"508.5\" y=\"-7.8\" font-family=\"Helvetica,sans-Serif\" font-size=\"14.00\">class = T</text>\n</g>\n<!-- 5&#45;&gt;7 -->\n<g id=\"edge7\" class=\"edge\">\n<title>5&#45;&gt;7</title>\n<path fill=\"none\" stroke=\"black\" d=\"M490.18,-103.73C496.08,-94.88 502.33,-85.51 508.25,-76.63\"/>\n<polygon fill=\"black\" stroke=\"black\" points=\"511.17,-78.56 513.8,-68.3 505.34,-74.68 511.17,-78.56\"/>\n</g>\n<!-- 9 -->\n<g id=\"node10\" class=\"node\">\n<title>9</title>\n<path fill=\"#e5d6fa\" stroke=\"black\" d=\"M828.5,-187C828.5,-187 697.5,-187 697.5,-187 691.5,-187 685.5,-181 685.5,-175 685.5,-175 685.5,-116 685.5,-116 685.5,-110 691.5,-104 697.5,-104 697.5,-104 828.5,-104 828.5,-104 834.5,-104 840.5,-110 840.5,-116 840.5,-116 840.5,-175 840.5,-175 840.5,-181 834.5,-187 828.5,-187\"/>\n<text text-anchor=\"start\" x=\"702.5\" y=\"-171.8\" font-family=\"Helvetica,sans-Serif\" font-size=\"14.00\">ShellWeight ≤ 0.781</text>\n<text text-anchor=\"start\" x=\"727.5\" y=\"-156.8\" font-family=\"Helvetica,sans-Serif\" font-size=\"14.00\">gini = 0.634</text>\n<text text-anchor=\"start\" x=\"718\" y=\"-141.8\" font-family=\"Helvetica,sans-Serif\" font-size=\"14.00\">samples = 545</text>\n<text text-anchor=\"start\" x=\"693.5\" y=\"-126.8\" font-family=\"Helvetica,sans-Serif\" font-size=\"14.00\">value = [177, 115, 253]</text>\n<text text-anchor=\"start\" x=\"735.5\" y=\"-111.8\" font-family=\"Helvetica,sans-Serif\" font-size=\"14.00\">class = p</text>\n</g>\n<!-- 8&#45;&gt;9 -->\n<g id=\"edge9\" class=\"edge\">\n<title>8&#45;&gt;9</title>\n<path fill=\"none\" stroke=\"black\" d=\"M763,-222.91C763,-214.65 763,-205.86 763,-197.3\"/>\n<polygon fill=\"black\" stroke=\"black\" points=\"766.5,-197.02 763,-187.02 759.5,-197.02 766.5,-197.02\"/>\n</g>\n<!-- 12 -->\n<g id=\"node13\" class=\"node\">\n<title>12</title>\n<path fill=\"#fefcfa\" stroke=\"black\" d=\"M1068,-187C1068,-187 932,-187 932,-187 926,-187 920,-181 920,-175 920,-175 920,-116 920,-116 920,-110 926,-104 932,-104 932,-104 1068,-104 1068,-104 1074,-104 1080,-110 1080,-116 1080,-116 1080,-175 1080,-175 1080,-181 1074,-187 1068,-187\"/>\n<text text-anchor=\"start\" x=\"928\" y=\"-171.8\" font-family=\"Helvetica,sans-Serif\" font-size=\"14.00\">ShuckedWeight ≤ 2.318</text>\n<text text-anchor=\"start\" x=\"964.5\" y=\"-156.8\" font-family=\"Helvetica,sans-Serif\" font-size=\"14.00\">gini = 0.537</text>\n<text text-anchor=\"start\" x=\"951.5\" y=\"-141.8\" font-family=\"Helvetica,sans-Serif\" font-size=\"14.00\">samples = 1133</text>\n<text text-anchor=\"start\" x=\"934.5\" y=\"-126.8\" font-family=\"Helvetica,sans-Serif\" font-size=\"14.00\">value = [551, 45, 537]</text>\n<text text-anchor=\"start\" x=\"972.5\" y=\"-111.8\" font-family=\"Helvetica,sans-Serif\" font-size=\"14.00\">class = T</text>\n</g>\n<!-- 8&#45;&gt;12 -->\n<g id=\"edge12\" class=\"edge\">\n<title>8&#45;&gt;12</title>\n<path fill=\"none\" stroke=\"black\" d=\"M840.6,-225.19C863.01,-214.13 887.64,-201.97 910.69,-190.59\"/>\n<polygon fill=\"black\" stroke=\"black\" points=\"912.37,-193.67 919.78,-186.1 909.27,-187.39 912.37,-193.67\"/>\n</g>\n<!-- 10 -->\n<g id=\"node11\" class=\"node\">\n<title>10</title>\n<path fill=\"#e7dafa\" stroke=\"black\" d=\"M767.5,-68C767.5,-68 636.5,-68 636.5,-68 630.5,-68 624.5,-62 624.5,-56 624.5,-56 624.5,-12 624.5,-12 624.5,-6 630.5,0 636.5,0 636.5,0 767.5,0 767.5,0 773.5,0 779.5,-6 779.5,-12 779.5,-12 779.5,-56 779.5,-56 779.5,-62 773.5,-68 767.5,-68\"/>\n<text text-anchor=\"start\" x=\"666.5\" y=\"-52.8\" font-family=\"Helvetica,sans-Serif\" font-size=\"14.00\">gini = 0.637</text>\n<text text-anchor=\"start\" x=\"657\" y=\"-37.8\" font-family=\"Helvetica,sans-Serif\" font-size=\"14.00\">samples = 537</text>\n<text text-anchor=\"start\" x=\"632.5\" y=\"-22.8\" font-family=\"Helvetica,sans-Serif\" font-size=\"14.00\">value = [177, 115, 245]</text>\n<text text-anchor=\"start\" x=\"674.5\" y=\"-7.8\" font-family=\"Helvetica,sans-Serif\" font-size=\"14.00\">class = p</text>\n</g>\n<!-- 9&#45;&gt;10 -->\n<g id=\"edge10\" class=\"edge\">\n<title>9&#45;&gt;10</title>\n<path fill=\"none\" stroke=\"black\" d=\"M740.29,-103.73C735.46,-95.06 730.35,-85.9 725.5,-77.18\"/>\n<polygon fill=\"black\" stroke=\"black\" points=\"728.47,-75.33 720.55,-68.3 722.36,-78.74 728.47,-75.33\"/>\n</g>\n<!-- 11 -->\n<g id=\"node12\" class=\"node\">\n<title>11</title>\n<path fill=\"#8139e5\" stroke=\"black\" d=\"M896,-68C896,-68 810,-68 810,-68 804,-68 798,-62 798,-56 798,-56 798,-12 798,-12 798,-6 804,0 810,0 810,0 896,0 896,0 902,0 908,-6 908,-12 908,-12 908,-56 908,-56 908,-62 902,-68 896,-68\"/>\n<text text-anchor=\"start\" x=\"825\" y=\"-52.8\" font-family=\"Helvetica,sans-Serif\" font-size=\"14.00\">gini = 0.0</text>\n<text text-anchor=\"start\" x=\"815.5\" y=\"-37.8\" font-family=\"Helvetica,sans-Serif\" font-size=\"14.00\">samples = 8</text>\n<text text-anchor=\"start\" x=\"806\" y=\"-22.8\" font-family=\"Helvetica,sans-Serif\" font-size=\"14.00\">value = [0, 0, 8]</text>\n<text text-anchor=\"start\" x=\"825.5\" y=\"-7.8\" font-family=\"Helvetica,sans-Serif\" font-size=\"14.00\">class = p</text>\n</g>\n<!-- 9&#45;&gt;11 -->\n<g id=\"edge11\" class=\"edge\">\n<title>9&#45;&gt;11</title>\n<path fill=\"none\" stroke=\"black\" d=\"M796.51,-103.73C803.93,-94.7 811.8,-85.12 819.23,-76.08\"/>\n<polygon fill=\"black\" stroke=\"black\" points=\"821.98,-78.25 825.63,-68.3 816.58,-73.8 821.98,-78.25\"/>\n</g>\n<!-- 13 -->\n<g id=\"node14\" class=\"node\">\n<title>13</title>\n<path fill=\"#fdf7f2\" stroke=\"black\" d=\"M1061.5,-68C1061.5,-68 938.5,-68 938.5,-68 932.5,-68 926.5,-62 926.5,-56 926.5,-56 926.5,-12 926.5,-12 926.5,-6 932.5,0 938.5,0 938.5,0 1061.5,0 1061.5,0 1067.5,0 1073.5,-6 1073.5,-12 1073.5,-12 1073.5,-56 1073.5,-56 1073.5,-62 1067.5,-68 1061.5,-68\"/>\n<text text-anchor=\"start\" x=\"964.5\" y=\"-52.8\" font-family=\"Helvetica,sans-Serif\" font-size=\"14.00\">gini = 0.539</text>\n<text text-anchor=\"start\" x=\"951.5\" y=\"-37.8\" font-family=\"Helvetica,sans-Serif\" font-size=\"14.00\">samples = 1070</text>\n<text text-anchor=\"start\" x=\"934.5\" y=\"-22.8\" font-family=\"Helvetica,sans-Serif\" font-size=\"14.00\">value = [531, 45, 494]</text>\n<text text-anchor=\"start\" x=\"972.5\" y=\"-7.8\" font-family=\"Helvetica,sans-Serif\" font-size=\"14.00\">class = T</text>\n</g>\n<!-- 12&#45;&gt;13 -->\n<g id=\"edge13\" class=\"edge\">\n<title>12&#45;&gt;13</title>\n<path fill=\"none\" stroke=\"black\" d=\"M1000,-103.73C1000,-95.52 1000,-86.86 1000,-78.56\"/>\n<polygon fill=\"black\" stroke=\"black\" points=\"1003.5,-78.3 1000,-68.3 996.5,-78.3 1003.5,-78.3\"/>\n</g>\n<!-- 14 -->\n<g id=\"node15\" class=\"node\">\n<title>14</title>\n<path fill=\"#bc95f1\" stroke=\"black\" d=\"M1204.5,-68C1204.5,-68 1103.5,-68 1103.5,-68 1097.5,-68 1091.5,-62 1091.5,-56 1091.5,-56 1091.5,-12 1091.5,-12 1091.5,-6 1097.5,0 1103.5,0 1103.5,0 1204.5,0 1204.5,0 1210.5,0 1216.5,-6 1216.5,-12 1216.5,-12 1216.5,-56 1216.5,-56 1216.5,-62 1210.5,-68 1204.5,-68\"/>\n<text text-anchor=\"start\" x=\"1118.5\" y=\"-52.8\" font-family=\"Helvetica,sans-Serif\" font-size=\"14.00\">gini = 0.433</text>\n<text text-anchor=\"start\" x=\"1113\" y=\"-37.8\" font-family=\"Helvetica,sans-Serif\" font-size=\"14.00\">samples = 63</text>\n<text text-anchor=\"start\" x=\"1099.5\" y=\"-22.8\" font-family=\"Helvetica,sans-Serif\" font-size=\"14.00\">value = [20, 0, 43]</text>\n<text text-anchor=\"start\" x=\"1126.5\" y=\"-7.8\" font-family=\"Helvetica,sans-Serif\" font-size=\"14.00\">class = p</text>\n</g>\n<!-- 12&#45;&gt;14 -->\n<g id=\"edge14\" class=\"edge\">\n<title>12&#45;&gt;14</title>\n<path fill=\"none\" stroke=\"black\" d=\"M1057.34,-103.73C1070.94,-94.06 1085.41,-83.77 1098.91,-74.17\"/>\n<polygon fill=\"black\" stroke=\"black\" points=\"1101.05,-76.95 1107.17,-68.3 1096.99,-71.24 1101.05,-76.95\"/>\n</g>\n</g>\n</svg>\n",
            "text/plain": [
              "<graphviz.sources.Source at 0x7ee75f0a4cd0>"
            ]
          },
          "metadata": {},
          "execution_count": 50
        }
      ]
    },
    {
      "cell_type": "code",
      "source": [
        "# print to the output file\n",
        "print('**************************************************************', file = outputFile)\n",
        "print('(A) Classifier 1 - Base DT', file = outputFile)\n",
        "print(classifier_1, file = outputFile)\n",
        "print('\\n', file = outputFile)"
      ],
      "metadata": {
        "id": "sqRs0lp67Hmo"
      },
      "execution_count": 51,
      "outputs": []
    },
    {
      "cell_type": "code",
      "source": [
        "# print classification report\n",
        "y_pred = classifier_1.predict(X_test)\n",
        "confusion_mat= confusion_matrix(y_test, y_pred)\n",
        "\n",
        "print(classification_report(y_test, y_pred, target_names=['F', 'M', 'I']))\n",
        "print(\"confusion matrix\\n\",confusion_mat)\n",
        "\n",
        "# print the result to the output file\n",
        "confusion_matrix_result =np.array2string(confusion_mat)\n",
        "print(\"(B) Confusion Matrix\", file = outputFile)\n",
        "print(confusion_matrix_result, file = outputFile)\n",
        "print('\\n', file = outputFile)\n",
        "print('(C,D) Classification Report', file = outputFile)\n",
        "print(classification_report(y_test, y_pred, target_names = ['F', 'M', 'I']), file = outputFile)\n",
        "outputFile.flush()"
      ],
      "metadata": {
        "colab": {
          "base_uri": "https://localhost:8080/"
        },
        "id": "mDbdxqro7Hp4",
        "outputId": "66f6675a-f8c3-4f46-a707-d0bef0fb86d8"
      },
      "execution_count": 52,
      "outputs": [
        {
          "output_type": "stream",
          "name": "stdout",
          "text": [
            "              precision    recall  f1-score   support\n",
            "\n",
            "           F       0.43      0.66      0.52       389\n",
            "           M       0.70      0.74      0.72       397\n",
            "           I       0.43      0.23      0.30       468\n",
            "\n",
            "    accuracy                           0.52      1254\n",
            "   macro avg       0.52      0.54      0.51      1254\n",
            "weighted avg       0.52      0.52      0.50      1254\n",
            "\n",
            "confusion matrix\n",
            " [[255  45  89]\n",
            " [ 52 293  52]\n",
            " [283  79 106]]\n"
          ]
        }
      ]
    },
    {
      "cell_type": "code",
      "source": [
        "# repeat training & prediction 5 times for classifier 1\n",
        "from sklearn.metrics import accuracy_score, f1_score\n",
        "\n",
        "accuracy_baseDT = np.zeros(5)\n",
        "macro_avg_baseDT = np.zeros(5)\n",
        "weighted_avg_baseDT = np.zeros(5)\n",
        "\n",
        "for i in range(5):\n",
        "  X_train, X_test, y_train, y_test = train_test_split(X, y, test_size = 0.3)\n",
        "  classifier_1.fit(X_train, y_train)\n",
        "  y_pred = classifier_1.predict(X_test)\n",
        "\n",
        "  # find the accuracy for each iteration and store the value\n",
        "  accuracy_baseDT[i] = accuracy_score(y_test, y_pred)\n",
        "  macro_avg_baseDT[i] = f1_score(y_test, y_pred, average='macro')\n",
        "  weighted_avg_baseDT[i] = f1_score(y_test, y_pred, average='weighted')\n",
        "\n",
        "# compute the average accuracy & variances\n",
        "print(f'accuracy_baseDT: {accuracy_baseDT}')\n",
        "Avg_accuracy = (np.sum(accuracy_baseDT))/5\n",
        "accuracy_variance = np.var(accuracy_baseDT)\n",
        "print(f'average accuracy: {Avg_accuracy}, variance: {accuracy_variance}')\n",
        "\n",
        "# compute the average macro-average F1 & the variance\n",
        "print(f'macro_avg_baseDT: {macro_avg_baseDT}')\n",
        "Avg_macro_avg = (np.sum(macro_avg_baseDT))/5\n",
        "f1_macro_variance = np.var(macro_avg_baseDT)\n",
        "print(f'average macro-average F1: {Avg_macro_avg}, variance: {f1_macro_variance}')\n",
        "\n",
        "# compute the average weighted-average F1 & the variance\n",
        "print(f'weighted_avg_baseDT: {weighted_avg_baseDT}')\n",
        "Avg_weighted_avg = (np.sum(weighted_avg_baseDT))/5\n",
        "f1_weighted_variance = np.var(weighted_avg_baseDT)\n",
        "print(f'average weighted-average F1: {Avg_weighted_avg}, variance: {f1_weighted_variance}')"
      ],
      "metadata": {
        "id": "YukiqSwdC21P",
        "outputId": "fbe7a301-d66f-42d1-d94e-9273580fc63c",
        "colab": {
          "base_uri": "https://localhost:8080/"
        }
      },
      "execution_count": 53,
      "outputs": [
        {
          "output_type": "stream",
          "name": "stdout",
          "text": [
            "accuracy_baseDT: [0.53907496 0.51036683 0.53827751 0.54385965 0.53748006]\n",
            "average accuracy: 0.533811802232855, variance: 0.0001423451335312331\n",
            "macro_avg_baseDT: [0.43444016 0.43641052 0.4363778  0.53838693 0.48197956]\n",
            "average macro-average F1: 0.46551899647616113, variance: 0.001648618630387742\n",
            "weighted_avg_baseDT: [0.4438268  0.43599657 0.44807899 0.53138136 0.49020228]\n",
            "average weighted-average F1: 0.4698971996589226, variance: 0.001299510049312198\n"
          ]
        }
      ]
    },
    {
      "cell_type": "code",
      "source": [
        "# print the performance result to outputfile\n",
        "print('\\n(E) The result after 5 times of train-test repetition:' ,file = outputFile)\n",
        "print(f'average accuracy: {Avg_accuracy}, variance: {accuracy_variance}', file = outputFile)\n",
        "print(f'average macro-average F1: {Avg_macro_avg}, variance: {f1_macro_variance}', file = outputFile)\n",
        "print(f'average weighted-average F1: {Avg_weighted_avg}, variance: {f1_weighted_variance}', file = outputFile)\n",
        "outputFile.flush()"
      ],
      "metadata": {
        "id": "6BXzFhCxZ8s1"
      },
      "execution_count": 54,
      "outputs": []
    },
    {
      "cell_type": "markdown",
      "source": [
        "##### Classifier 2 - Top-DT"
      ],
      "metadata": {
        "id": "ZbIYwUPH2zO6"
      }
    },
    {
      "cell_type": "code",
      "source": [
        "# Top Decision Tree - decision tree using gridsearch(hyperparameter search)\n",
        "from sklearn.model_selection import GridSearchCV\n",
        "\n",
        "parameters = {\n",
        "    'criterion': ['gini', 'entropy'],\n",
        "    'max_depth': [None, 3, 5],\n",
        "    'min_samples_split': [2, 5, 10]\n",
        "}\n",
        "\n",
        "classifier_2 = GridSearchCV(DecisionTreeClassifier(max_depth=3), parameters)\n",
        "classifier_2.fit(X_train, y_train)\n",
        "\n",
        "print(f'best parameters: {classifier_2.best_params_}')"
      ],
      "metadata": {
        "id": "msSsfbO7m2rW",
        "colab": {
          "base_uri": "https://localhost:8080/"
        },
        "outputId": "15876efb-52c9-4314-f368-af03e66961f5"
      },
      "execution_count": 55,
      "outputs": [
        {
          "output_type": "stream",
          "name": "stdout",
          "text": [
            "best parameters: {'criterion': 'gini', 'max_depth': 5, 'min_samples_split': 2}\n"
          ]
        }
      ]
    },
    {
      "cell_type": "code",
      "source": [
        "abalone_class = data_abalone.columns[0]\n",
        "abalone_features = list(data_abalone.columns[1:])"
      ],
      "metadata": {
        "id": "6AYbwpuhBO2m"
      },
      "execution_count": 56,
      "outputs": []
    },
    {
      "cell_type": "code",
      "source": [
        "from sklearn.tree import export_graphviz\n",
        "from IPython.display import display\n",
        "\n",
        "dot_data = export_graphviz(classifier_2.best_estimator_,\n",
        "                          feature_names=abalone_features,\n",
        "                          class_names=abalone_class,\n",
        "                          filled=True, rounded=True,\n",
        "                          special_characters=True)\n",
        "\n",
        "graph = graphviz.Source(dot_data)\n",
        "display(graph)"
      ],
      "metadata": {
        "id": "fGFf6Sbj8BW-",
        "outputId": "b7a633b5-a744-470c-a766-e5123e082bb6",
        "colab": {
          "base_uri": "https://localhost:8080/",
          "height": 937
        }
      },
      "execution_count": 57,
      "outputs": [
        {
          "output_type": "display_data",
          "data": {
            "image/svg+xml": "<?xml version=\"1.0\" encoding=\"UTF-8\" standalone=\"no\"?>\n<!DOCTYPE svg PUBLIC \"-//W3C//DTD SVG 1.1//EN\"\n \"http://www.w3.org/Graphics/SVG/1.1/DTD/svg11.dtd\">\n<!-- Generated by graphviz version 2.43.0 (0)\n -->\n<!-- Title: Tree Pages: 1 -->\n<svg width=\"4468pt\" height=\"671pt\"\n viewBox=\"0.00 0.00 4468.00 671.00\" xmlns=\"http://www.w3.org/2000/svg\" xmlns:xlink=\"http://www.w3.org/1999/xlink\">\n<g id=\"graph0\" class=\"graph\" transform=\"scale(1 1) rotate(0) translate(4 667)\">\n<title>Tree</title>\n<polygon fill=\"white\" stroke=\"transparent\" points=\"-4,4 -4,-667 4464,-667 4464,4 -4,4\"/>\n<!-- 0 -->\n<g id=\"node1\" class=\"node\">\n<title>0</title>\n<path fill=\"#f6f1fd\" stroke=\"black\" d=\"M2418,-663C2418,-663 2280,-663 2280,-663 2274,-663 2268,-657 2268,-651 2268,-651 2268,-592 2268,-592 2268,-586 2274,-580 2280,-580 2280,-580 2418,-580 2418,-580 2424,-580 2430,-586 2430,-592 2430,-592 2430,-651 2430,-651 2430,-657 2424,-663 2418,-663\"/>\n<text text-anchor=\"start\" x=\"2278.5\" y=\"-647.8\" font-family=\"Helvetica,sans-Serif\" font-size=\"14.00\">VisceraWeight ≤ &#45;0.327</text>\n<text text-anchor=\"start\" x=\"2313.5\" y=\"-632.8\" font-family=\"Helvetica,sans-Serif\" font-size=\"14.00\">gini = 0.665</text>\n<text text-anchor=\"start\" x=\"2300.5\" y=\"-617.8\" font-family=\"Helvetica,sans-Serif\" font-size=\"14.00\">samples = 2923</text>\n<text text-anchor=\"start\" x=\"2276\" y=\"-602.8\" font-family=\"Helvetica,sans-Serif\" font-size=\"14.00\">value = [917, 932, 1074]</text>\n<text text-anchor=\"start\" x=\"2321.5\" y=\"-587.8\" font-family=\"Helvetica,sans-Serif\" font-size=\"14.00\">class = p</text>\n</g>\n<!-- 1 -->\n<g id=\"node2\" class=\"node\">\n<title>1</title>\n<path fill=\"#97f1bd\" stroke=\"black\" d=\"M1703.5,-544C1703.5,-544 1572.5,-544 1572.5,-544 1566.5,-544 1560.5,-538 1560.5,-532 1560.5,-532 1560.5,-473 1560.5,-473 1560.5,-467 1566.5,-461 1572.5,-461 1572.5,-461 1703.5,-461 1703.5,-461 1709.5,-461 1715.5,-467 1715.5,-473 1715.5,-473 1715.5,-532 1715.5,-532 1715.5,-538 1709.5,-544 1703.5,-544\"/>\n<text text-anchor=\"start\" x=\"1594\" y=\"-528.8\" font-family=\"Helvetica,sans-Serif\" font-size=\"14.00\">Rings ≤ &#45;0.445</text>\n<text text-anchor=\"start\" x=\"1602.5\" y=\"-513.8\" font-family=\"Helvetica,sans-Serif\" font-size=\"14.00\">gini = 0.537</text>\n<text text-anchor=\"start\" x=\"1589.5\" y=\"-498.8\" font-family=\"Helvetica,sans-Serif\" font-size=\"14.00\">samples = 1216</text>\n<text text-anchor=\"start\" x=\"1568.5\" y=\"-483.8\" font-family=\"Helvetica,sans-Serif\" font-size=\"14.00\">value = [199, 761, 256]</text>\n<text text-anchor=\"start\" x=\"1611\" y=\"-468.8\" font-family=\"Helvetica,sans-Serif\" font-size=\"14.00\">class = y</text>\n</g>\n<!-- 0&#45;&gt;1 -->\n<g id=\"edge1\" class=\"edge\">\n<title>0&#45;&gt;1</title>\n<path fill=\"none\" stroke=\"black\" d=\"M2267.79,-607.14C2133.15,-584.98 1864.83,-540.83 1725.91,-517.97\"/>\n<polygon fill=\"black\" stroke=\"black\" points=\"1726.16,-514.46 1715.73,-516.29 1725.02,-521.37 1726.16,-514.46\"/>\n<text text-anchor=\"middle\" x=\"1730.3\" y=\"-532.9\" font-family=\"Helvetica,sans-Serif\" font-size=\"14.00\">True</text>\n</g>\n<!-- 32 -->\n<g id=\"node33\" class=\"node\">\n<title>32</title>\n<path fill=\"#f2ebfc\" stroke=\"black\" d=\"M2806.5,-544C2806.5,-544 2675.5,-544 2675.5,-544 2669.5,-544 2663.5,-538 2663.5,-532 2663.5,-532 2663.5,-473 2663.5,-473 2663.5,-467 2669.5,-461 2675.5,-461 2675.5,-461 2806.5,-461 2806.5,-461 2812.5,-461 2818.5,-467 2818.5,-473 2818.5,-473 2818.5,-532 2818.5,-532 2818.5,-538 2812.5,-544 2806.5,-544\"/>\n<text text-anchor=\"start\" x=\"2676\" y=\"-528.8\" font-family=\"Helvetica,sans-Serif\" font-size=\"14.00\">WholeWeight ≤ 0.202</text>\n<text text-anchor=\"start\" x=\"2705.5\" y=\"-513.8\" font-family=\"Helvetica,sans-Serif\" font-size=\"14.00\">gini = 0.583</text>\n<text text-anchor=\"start\" x=\"2692.5\" y=\"-498.8\" font-family=\"Helvetica,sans-Serif\" font-size=\"14.00\">samples = 1707</text>\n<text text-anchor=\"start\" x=\"2671.5\" y=\"-483.8\" font-family=\"Helvetica,sans-Serif\" font-size=\"14.00\">value = [718, 171, 818]</text>\n<text text-anchor=\"start\" x=\"2713.5\" y=\"-468.8\" font-family=\"Helvetica,sans-Serif\" font-size=\"14.00\">class = p</text>\n</g>\n<!-- 0&#45;&gt;32 -->\n<g id=\"edge32\" class=\"edge\">\n<title>0&#45;&gt;32</title>\n<path fill=\"none\" stroke=\"black\" d=\"M2430.22,-596.26C2495.41,-576.8 2586.76,-549.53 2653.55,-529.6\"/>\n<polygon fill=\"black\" stroke=\"black\" points=\"2654.64,-532.93 2663.22,-526.71 2652.64,-526.22 2654.64,-532.93\"/>\n<text text-anchor=\"middle\" x=\"2651.34\" y=\"-545.01\" font-family=\"Helvetica,sans-Serif\" font-size=\"14.00\">False</text>\n</g>\n<!-- 2 -->\n<g id=\"node3\" class=\"node\">\n<title>2</title>\n<path fill=\"#6deca2\" stroke=\"black\" d=\"M892.5,-425C892.5,-425 759.5,-425 759.5,-425 753.5,-425 747.5,-419 747.5,-413 747.5,-413 747.5,-354 747.5,-354 747.5,-348 753.5,-342 759.5,-342 759.5,-342 892.5,-342 892.5,-342 898.5,-342 904.5,-348 904.5,-354 904.5,-354 904.5,-413 904.5,-413 904.5,-419 898.5,-425 892.5,-425\"/>\n<text text-anchor=\"start\" x=\"755.5\" y=\"-409.8\" font-family=\"Helvetica,sans-Serif\" font-size=\"14.00\">VisceraWeight ≤ &#45;0.797</text>\n<text text-anchor=\"start\" x=\"790.5\" y=\"-394.8\" font-family=\"Helvetica,sans-Serif\" font-size=\"14.00\">gini = 0.371</text>\n<text text-anchor=\"start\" x=\"781\" y=\"-379.8\" font-family=\"Helvetica,sans-Serif\" font-size=\"14.00\">samples = 785</text>\n<text text-anchor=\"start\" x=\"760.5\" y=\"-364.8\" font-family=\"Helvetica,sans-Serif\" font-size=\"14.00\">value = [65, 609, 111]</text>\n<text text-anchor=\"start\" x=\"799\" y=\"-349.8\" font-family=\"Helvetica,sans-Serif\" font-size=\"14.00\">class = y</text>\n</g>\n<!-- 1&#45;&gt;2 -->\n<g id=\"edge2\" class=\"edge\">\n<title>1&#45;&gt;2</title>\n<path fill=\"none\" stroke=\"black\" d=\"M1560.14,-490.28C1408.56,-468.44 1074.71,-420.34 914.79,-397.29\"/>\n<polygon fill=\"black\" stroke=\"black\" points=\"914.91,-393.78 904.52,-395.81 913.91,-400.7 914.91,-393.78\"/>\n</g>\n<!-- 17 -->\n<g id=\"node18\" class=\"node\">\n<title>17</title>\n<path fill=\"#fafefc\" stroke=\"black\" d=\"M1703.5,-425C1703.5,-425 1572.5,-425 1572.5,-425 1566.5,-425 1560.5,-419 1560.5,-413 1560.5,-413 1560.5,-354 1560.5,-354 1560.5,-348 1566.5,-342 1572.5,-342 1572.5,-342 1703.5,-342 1703.5,-342 1709.5,-342 1715.5,-348 1715.5,-354 1715.5,-354 1715.5,-413 1715.5,-413 1715.5,-419 1709.5,-425 1703.5,-425\"/>\n<text text-anchor=\"start\" x=\"1594\" y=\"-409.8\" font-family=\"Helvetica,sans-Serif\" font-size=\"14.00\">Rings ≤ &#45;0.135</text>\n<text text-anchor=\"start\" x=\"1602.5\" y=\"-394.8\" font-family=\"Helvetica,sans-Serif\" font-size=\"14.00\">gini = 0.666</text>\n<text text-anchor=\"start\" x=\"1593\" y=\"-379.8\" font-family=\"Helvetica,sans-Serif\" font-size=\"14.00\">samples = 431</text>\n<text text-anchor=\"start\" x=\"1568.5\" y=\"-364.8\" font-family=\"Helvetica,sans-Serif\" font-size=\"14.00\">value = [134, 152, 145]</text>\n<text text-anchor=\"start\" x=\"1611\" y=\"-349.8\" font-family=\"Helvetica,sans-Serif\" font-size=\"14.00\">class = y</text>\n</g>\n<!-- 1&#45;&gt;17 -->\n<g id=\"edge17\" class=\"edge\">\n<title>1&#45;&gt;17</title>\n<path fill=\"none\" stroke=\"black\" d=\"M1638,-460.91C1638,-452.65 1638,-443.86 1638,-435.3\"/>\n<polygon fill=\"black\" stroke=\"black\" points=\"1641.5,-435.02 1638,-425.02 1634.5,-435.02 1641.5,-435.02\"/>\n</g>\n<!-- 3 -->\n<g id=\"node4\" class=\"node\">\n<title>3</title>\n<path fill=\"#5cea98\" stroke=\"black\" d=\"M490,-306C490,-306 374,-306 374,-306 368,-306 362,-300 362,-294 362,-294 362,-235 362,-235 362,-229 368,-223 374,-223 374,-223 490,-223 490,-223 496,-223 502,-229 502,-235 502,-235 502,-294 502,-294 502,-300 496,-306 490,-306\"/>\n<text text-anchor=\"start\" x=\"388\" y=\"-290.8\" font-family=\"Helvetica,sans-Serif\" font-size=\"14.00\">Rings ≤ &#45;1.065</text>\n<text text-anchor=\"start\" x=\"396.5\" y=\"-275.8\" font-family=\"Helvetica,sans-Serif\" font-size=\"14.00\">gini = 0.279</text>\n<text text-anchor=\"start\" x=\"387\" y=\"-260.8\" font-family=\"Helvetica,sans-Serif\" font-size=\"14.00\">samples = 565</text>\n<text text-anchor=\"start\" x=\"370\" y=\"-245.8\" font-family=\"Helvetica,sans-Serif\" font-size=\"14.00\">value = [28, 475, 62]</text>\n<text text-anchor=\"start\" x=\"405\" y=\"-230.8\" font-family=\"Helvetica,sans-Serif\" font-size=\"14.00\">class = y</text>\n</g>\n<!-- 2&#45;&gt;3 -->\n<g id=\"edge3\" class=\"edge\">\n<title>2&#45;&gt;3</title>\n<path fill=\"none\" stroke=\"black\" d=\"M747.22,-359.1C678.94,-338.83 580.59,-309.62 511.97,-289.25\"/>\n<polygon fill=\"black\" stroke=\"black\" points=\"512.65,-285.8 502.07,-286.31 510.65,-292.51 512.65,-285.8\"/>\n</g>\n<!-- 10 -->\n<g id=\"node11\" class=\"node\">\n<title>10</title>\n<path fill=\"#9df2c0\" stroke=\"black\" d=\"M896,-306C896,-306 756,-306 756,-306 750,-306 744,-300 744,-294 744,-294 744,-235 744,-235 744,-229 750,-223 756,-223 756,-223 896,-223 896,-223 902,-223 908,-229 908,-235 908,-235 908,-294 908,-294 908,-300 902,-306 896,-306\"/>\n<text text-anchor=\"start\" x=\"752\" y=\"-290.8\" font-family=\"Helvetica,sans-Serif\" font-size=\"14.00\">ShuckedWeight ≤ &#45;0.917</text>\n<text text-anchor=\"start\" x=\"790.5\" y=\"-275.8\" font-family=\"Helvetica,sans-Serif\" font-size=\"14.00\">gini = 0.551</text>\n<text text-anchor=\"start\" x=\"781\" y=\"-260.8\" font-family=\"Helvetica,sans-Serif\" font-size=\"14.00\">samples = 220</text>\n<text text-anchor=\"start\" x=\"764\" y=\"-245.8\" font-family=\"Helvetica,sans-Serif\" font-size=\"14.00\">value = [37, 134, 49]</text>\n<text text-anchor=\"start\" x=\"799\" y=\"-230.8\" font-family=\"Helvetica,sans-Serif\" font-size=\"14.00\">class = y</text>\n</g>\n<!-- 2&#45;&gt;10 -->\n<g id=\"edge10\" class=\"edge\">\n<title>2&#45;&gt;10</title>\n<path fill=\"none\" stroke=\"black\" d=\"M826,-341.91C826,-333.65 826,-324.86 826,-316.3\"/>\n<polygon fill=\"black\" stroke=\"black\" points=\"829.5,-316.02 826,-306.02 822.5,-316.02 829.5,-316.02\"/>\n</g>\n<!-- 4 -->\n<g id=\"node5\" class=\"node\">\n<title>4</title>\n<path fill=\"#50e88f\" stroke=\"black\" d=\"M275.5,-187C275.5,-187 142.5,-187 142.5,-187 136.5,-187 130.5,-181 130.5,-175 130.5,-175 130.5,-116 130.5,-116 130.5,-110 136.5,-104 142.5,-104 142.5,-104 275.5,-104 275.5,-104 281.5,-104 287.5,-110 287.5,-116 287.5,-116 287.5,-175 287.5,-175 287.5,-181 281.5,-187 275.5,-187\"/>\n<text text-anchor=\"start\" x=\"138.5\" y=\"-171.8\" font-family=\"Helvetica,sans-Serif\" font-size=\"14.00\">VisceraWeight ≤ &#45;1.107</text>\n<text text-anchor=\"start\" x=\"173.5\" y=\"-156.8\" font-family=\"Helvetica,sans-Serif\" font-size=\"14.00\">gini = 0.192</text>\n<text text-anchor=\"start\" x=\"164\" y=\"-141.8\" font-family=\"Helvetica,sans-Serif\" font-size=\"14.00\">samples = 295</text>\n<text text-anchor=\"start\" x=\"151\" y=\"-126.8\" font-family=\"Helvetica,sans-Serif\" font-size=\"14.00\">value = [8, 264, 23]</text>\n<text text-anchor=\"start\" x=\"182\" y=\"-111.8\" font-family=\"Helvetica,sans-Serif\" font-size=\"14.00\">class = y</text>\n</g>\n<!-- 3&#45;&gt;4 -->\n<g id=\"edge4\" class=\"edge\">\n<title>3&#45;&gt;4</title>\n<path fill=\"none\" stroke=\"black\" d=\"M361.75,-226.64C340.65,-215.57 317.26,-203.3 295.26,-191.76\"/>\n<polygon fill=\"black\" stroke=\"black\" points=\"296.74,-188.58 286.25,-187.03 293.48,-194.78 296.74,-188.58\"/>\n</g>\n<!-- 7 -->\n<g id=\"node8\" class=\"node\">\n<title>7</title>\n<path fill=\"#6ceca1\" stroke=\"black\" d=\"M495.5,-187C495.5,-187 368.5,-187 368.5,-187 362.5,-187 356.5,-181 356.5,-175 356.5,-175 356.5,-116 356.5,-116 356.5,-110 362.5,-104 368.5,-104 368.5,-104 495.5,-104 495.5,-104 501.5,-104 507.5,-110 507.5,-116 507.5,-116 507.5,-175 507.5,-175 507.5,-181 501.5,-187 495.5,-187\"/>\n<text text-anchor=\"start\" x=\"364.5\" y=\"-171.8\" font-family=\"Helvetica,sans-Serif\" font-size=\"14.00\">WholeWeight ≤ &#45;1.517</text>\n<text text-anchor=\"start\" x=\"396.5\" y=\"-156.8\" font-family=\"Helvetica,sans-Serif\" font-size=\"14.00\">gini = 0.363</text>\n<text text-anchor=\"start\" x=\"387\" y=\"-141.8\" font-family=\"Helvetica,sans-Serif\" font-size=\"14.00\">samples = 270</text>\n<text text-anchor=\"start\" x=\"370\" y=\"-126.8\" font-family=\"Helvetica,sans-Serif\" font-size=\"14.00\">value = [20, 211, 39]</text>\n<text text-anchor=\"start\" x=\"405\" y=\"-111.8\" font-family=\"Helvetica,sans-Serif\" font-size=\"14.00\">class = y</text>\n</g>\n<!-- 3&#45;&gt;7 -->\n<g id=\"edge7\" class=\"edge\">\n<title>3&#45;&gt;7</title>\n<path fill=\"none\" stroke=\"black\" d=\"M432,-222.91C432,-214.65 432,-205.86 432,-197.3\"/>\n<polygon fill=\"black\" stroke=\"black\" points=\"435.5,-197.02 432,-187.02 428.5,-197.02 435.5,-197.02\"/>\n</g>\n<!-- 5 -->\n<g id=\"node6\" class=\"node\">\n<title>5</title>\n<path fill=\"#54e992\" stroke=\"black\" d=\"M120,-68C120,-68 12,-68 12,-68 6,-68 0,-62 0,-56 0,-56 0,-12 0,-12 0,-6 6,0 12,0 12,0 120,0 120,0 126,0 132,-6 132,-12 132,-12 132,-56 132,-56 132,-62 126,-68 120,-68\"/>\n<text text-anchor=\"start\" x=\"30.5\" y=\"-52.8\" font-family=\"Helvetica,sans-Serif\" font-size=\"14.00\">gini = 0.223</text>\n<text text-anchor=\"start\" x=\"21\" y=\"-37.8\" font-family=\"Helvetica,sans-Serif\" font-size=\"14.00\">samples = 250</text>\n<text text-anchor=\"start\" x=\"8\" y=\"-22.8\" font-family=\"Helvetica,sans-Serif\" font-size=\"14.00\">value = [8, 219, 23]</text>\n<text text-anchor=\"start\" x=\"39\" y=\"-7.8\" font-family=\"Helvetica,sans-Serif\" font-size=\"14.00\">class = y</text>\n</g>\n<!-- 4&#45;&gt;5 -->\n<g id=\"edge5\" class=\"edge\">\n<title>4&#45;&gt;5</title>\n<path fill=\"none\" stroke=\"black\" d=\"M155.75,-103.73C143.25,-94.15 129.94,-83.96 117.51,-74.44\"/>\n<polygon fill=\"black\" stroke=\"black\" points=\"119.55,-71.6 109.49,-68.3 115.3,-77.16 119.55,-71.6\"/>\n</g>\n<!-- 6 -->\n<g id=\"node7\" class=\"node\">\n<title>6</title>\n<path fill=\"#39e581\" stroke=\"black\" d=\"M255.5,-68C255.5,-68 162.5,-68 162.5,-68 156.5,-68 150.5,-62 150.5,-56 150.5,-56 150.5,-12 150.5,-12 150.5,-6 156.5,0 162.5,0 162.5,0 255.5,0 255.5,0 261.5,0 267.5,-6 267.5,-12 267.5,-12 267.5,-56 267.5,-56 267.5,-62 261.5,-68 255.5,-68\"/>\n<text text-anchor=\"start\" x=\"181\" y=\"-52.8\" font-family=\"Helvetica,sans-Serif\" font-size=\"14.00\">gini = 0.0</text>\n<text text-anchor=\"start\" x=\"168\" y=\"-37.8\" font-family=\"Helvetica,sans-Serif\" font-size=\"14.00\">samples = 45</text>\n<text text-anchor=\"start\" x=\"158.5\" y=\"-22.8\" font-family=\"Helvetica,sans-Serif\" font-size=\"14.00\">value = [0, 45, 0]</text>\n<text text-anchor=\"start\" x=\"182\" y=\"-7.8\" font-family=\"Helvetica,sans-Serif\" font-size=\"14.00\">class = y</text>\n</g>\n<!-- 4&#45;&gt;6 -->\n<g id=\"edge6\" class=\"edge\">\n<title>4&#45;&gt;6</title>\n<path fill=\"none\" stroke=\"black\" d=\"M209,-103.73C209,-95.52 209,-86.86 209,-78.56\"/>\n<polygon fill=\"black\" stroke=\"black\" points=\"212.5,-78.3 209,-68.3 205.5,-78.3 212.5,-78.3\"/>\n</g>\n<!-- 8 -->\n<g id=\"node9\" class=\"node\">\n<title>8</title>\n<path fill=\"#8139e5\" stroke=\"black\" d=\"M384,-68C384,-68 298,-68 298,-68 292,-68 286,-62 286,-56 286,-56 286,-12 286,-12 286,-6 292,0 298,0 298,0 384,0 384,0 390,0 396,-6 396,-12 396,-12 396,-56 396,-56 396,-62 390,-68 384,-68\"/>\n<text text-anchor=\"start\" x=\"313\" y=\"-52.8\" font-family=\"Helvetica,sans-Serif\" font-size=\"14.00\">gini = 0.0</text>\n<text text-anchor=\"start\" x=\"303.5\" y=\"-37.8\" font-family=\"Helvetica,sans-Serif\" font-size=\"14.00\">samples = 2</text>\n<text text-anchor=\"start\" x=\"294\" y=\"-22.8\" font-family=\"Helvetica,sans-Serif\" font-size=\"14.00\">value = [0, 0, 2]</text>\n<text text-anchor=\"start\" x=\"313.5\" y=\"-7.8\" font-family=\"Helvetica,sans-Serif\" font-size=\"14.00\">class = p</text>\n</g>\n<!-- 7&#45;&gt;8 -->\n<g id=\"edge8\" class=\"edge\">\n<title>7&#45;&gt;8</title>\n<path fill=\"none\" stroke=\"black\" d=\"M398.11,-103.73C390.61,-94.7 382.66,-85.12 375.14,-76.08\"/>\n<polygon fill=\"black\" stroke=\"black\" points=\"377.76,-73.75 368.67,-68.3 372.37,-78.23 377.76,-73.75\"/>\n</g>\n<!-- 9 -->\n<g id=\"node10\" class=\"node\">\n<title>9</title>\n<path fill=\"#6aeba0\" stroke=\"black\" d=\"M542,-68C542,-68 426,-68 426,-68 420,-68 414,-62 414,-56 414,-56 414,-12 414,-12 414,-6 420,0 426,0 426,0 542,0 542,0 548,0 554,-6 554,-12 554,-12 554,-56 554,-56 554,-62 548,-68 542,-68\"/>\n<text text-anchor=\"start\" x=\"448.5\" y=\"-52.8\" font-family=\"Helvetica,sans-Serif\" font-size=\"14.00\">gini = 0.356</text>\n<text text-anchor=\"start\" x=\"439\" y=\"-37.8\" font-family=\"Helvetica,sans-Serif\" font-size=\"14.00\">samples = 268</text>\n<text text-anchor=\"start\" x=\"422\" y=\"-22.8\" font-family=\"Helvetica,sans-Serif\" font-size=\"14.00\">value = [20, 211, 37]</text>\n<text text-anchor=\"start\" x=\"457\" y=\"-7.8\" font-family=\"Helvetica,sans-Serif\" font-size=\"14.00\">class = y</text>\n</g>\n<!-- 7&#45;&gt;9 -->\n<g id=\"edge9\" class=\"edge\">\n<title>7&#45;&gt;9</title>\n<path fill=\"none\" stroke=\"black\" d=\"M451.36,-103.73C455.43,-95.15 459.74,-86.09 463.84,-77.46\"/>\n<polygon fill=\"black\" stroke=\"black\" points=\"467.06,-78.83 468.19,-68.3 460.74,-75.83 467.06,-78.83\"/>\n</g>\n<!-- 11 -->\n<g id=\"node12\" class=\"node\">\n<title>11</title>\n<path fill=\"#e99355\" stroke=\"black\" d=\"M797,-187C797,-187 711,-187 711,-187 705,-187 699,-181 699,-175 699,-175 699,-116 699,-116 699,-110 705,-104 711,-104 711,-104 797,-104 797,-104 803,-104 809,-110 809,-116 809,-116 809,-175 809,-175 809,-181 803,-187 797,-187\"/>\n<text text-anchor=\"start\" x=\"707.5\" y=\"-171.8\" font-family=\"Helvetica,sans-Serif\" font-size=\"14.00\">Height ≤ &#45;1.064</text>\n<text text-anchor=\"start\" x=\"718.5\" y=\"-156.8\" font-family=\"Helvetica,sans-Serif\" font-size=\"14.00\">gini = 0.219</text>\n<text text-anchor=\"start\" x=\"716.5\" y=\"-141.8\" font-family=\"Helvetica,sans-Serif\" font-size=\"14.00\">samples = 8</text>\n<text text-anchor=\"start\" x=\"707\" y=\"-126.8\" font-family=\"Helvetica,sans-Serif\" font-size=\"14.00\">value = [7, 0, 1]</text>\n<text text-anchor=\"start\" x=\"726.5\" y=\"-111.8\" font-family=\"Helvetica,sans-Serif\" font-size=\"14.00\">class = T</text>\n</g>\n<!-- 10&#45;&gt;11 -->\n<g id=\"edge11\" class=\"edge\">\n<title>10&#45;&gt;11</title>\n<path fill=\"none\" stroke=\"black\" d=\"M801.02,-222.91C795.6,-214.1 789.82,-204.7 784.22,-195.61\"/>\n<polygon fill=\"black\" stroke=\"black\" points=\"787.16,-193.7 778.94,-187.02 781.2,-197.37 787.16,-193.7\"/>\n</g>\n<!-- 14 -->\n<g id=\"node15\" class=\"node\">\n<title>14</title>\n<path fill=\"#97f1bd\" stroke=\"black\" d=\"M958.5,-187C958.5,-187 839.5,-187 839.5,-187 833.5,-187 827.5,-181 827.5,-175 827.5,-175 827.5,-116 827.5,-116 827.5,-110 833.5,-104 839.5,-104 839.5,-104 958.5,-104 958.5,-104 964.5,-104 970.5,-110 970.5,-116 970.5,-116 970.5,-175 970.5,-175 970.5,-181 964.5,-187 958.5,-187\"/>\n<text text-anchor=\"start\" x=\"835.5\" y=\"-171.8\" font-family=\"Helvetica,sans-Serif\" font-size=\"14.00\">LongestShell ≤ 0.383</text>\n<text text-anchor=\"start\" x=\"863.5\" y=\"-156.8\" font-family=\"Helvetica,sans-Serif\" font-size=\"14.00\">gini = 0.529</text>\n<text text-anchor=\"start\" x=\"854\" y=\"-141.8\" font-family=\"Helvetica,sans-Serif\" font-size=\"14.00\">samples = 212</text>\n<text text-anchor=\"start\" x=\"837\" y=\"-126.8\" font-family=\"Helvetica,sans-Serif\" font-size=\"14.00\">value = [30, 134, 48]</text>\n<text text-anchor=\"start\" x=\"872\" y=\"-111.8\" font-family=\"Helvetica,sans-Serif\" font-size=\"14.00\">class = y</text>\n</g>\n<!-- 10&#45;&gt;14 -->\n<g id=\"edge14\" class=\"edge\">\n<title>10&#45;&gt;14</title>\n<path fill=\"none\" stroke=\"black\" d=\"M851.33,-222.91C856.82,-214.1 862.69,-204.7 868.36,-195.61\"/>\n<polygon fill=\"black\" stroke=\"black\" points=\"871.39,-197.36 873.72,-187.02 865.45,-193.65 871.39,-197.36\"/>\n</g>\n<!-- 12 -->\n<g id=\"node13\" class=\"node\">\n<title>12</title>\n<path fill=\"#8139e5\" stroke=\"black\" d=\"M670,-68C670,-68 584,-68 584,-68 578,-68 572,-62 572,-56 572,-56 572,-12 572,-12 572,-6 578,0 584,0 584,0 670,0 670,0 676,0 682,-6 682,-12 682,-12 682,-56 682,-56 682,-62 676,-68 670,-68\"/>\n<text text-anchor=\"start\" x=\"599\" y=\"-52.8\" font-family=\"Helvetica,sans-Serif\" font-size=\"14.00\">gini = 0.0</text>\n<text text-anchor=\"start\" x=\"589.5\" y=\"-37.8\" font-family=\"Helvetica,sans-Serif\" font-size=\"14.00\">samples = 1</text>\n<text text-anchor=\"start\" x=\"580\" y=\"-22.8\" font-family=\"Helvetica,sans-Serif\" font-size=\"14.00\">value = [0, 0, 1]</text>\n<text text-anchor=\"start\" x=\"599.5\" y=\"-7.8\" font-family=\"Helvetica,sans-Serif\" font-size=\"14.00\">class = p</text>\n</g>\n<!-- 11&#45;&gt;12 -->\n<g id=\"edge12\" class=\"edge\">\n<title>11&#45;&gt;12</title>\n<path fill=\"none\" stroke=\"black\" d=\"M706.71,-103.73C695.81,-94.33 684.24,-84.35 673.38,-74.99\"/>\n<polygon fill=\"black\" stroke=\"black\" points=\"675.48,-72.18 665.62,-68.3 670.91,-77.48 675.48,-72.18\"/>\n</g>\n<!-- 13 -->\n<g id=\"node14\" class=\"node\">\n<title>13</title>\n<path fill=\"#e58139\" stroke=\"black\" d=\"M798,-68C798,-68 712,-68 712,-68 706,-68 700,-62 700,-56 700,-56 700,-12 700,-12 700,-6 706,0 712,0 712,0 798,0 798,0 804,0 810,-6 810,-12 810,-12 810,-56 810,-56 810,-62 804,-68 798,-68\"/>\n<text text-anchor=\"start\" x=\"727\" y=\"-52.8\" font-family=\"Helvetica,sans-Serif\" font-size=\"14.00\">gini = 0.0</text>\n<text text-anchor=\"start\" x=\"717.5\" y=\"-37.8\" font-family=\"Helvetica,sans-Serif\" font-size=\"14.00\">samples = 7</text>\n<text text-anchor=\"start\" x=\"708\" y=\"-22.8\" font-family=\"Helvetica,sans-Serif\" font-size=\"14.00\">value = [7, 0, 0]</text>\n<text text-anchor=\"start\" x=\"727.5\" y=\"-7.8\" font-family=\"Helvetica,sans-Serif\" font-size=\"14.00\">class = T</text>\n</g>\n<!-- 11&#45;&gt;13 -->\n<g id=\"edge13\" class=\"edge\">\n<title>11&#45;&gt;13</title>\n<path fill=\"none\" stroke=\"black\" d=\"M754.37,-103.73C754.45,-95.52 754.53,-86.86 754.6,-78.56\"/>\n<polygon fill=\"black\" stroke=\"black\" points=\"758.1,-78.33 754.7,-68.3 751.1,-78.27 758.1,-78.33\"/>\n</g>\n<!-- 15 -->\n<g id=\"node16\" class=\"node\">\n<title>15</title>\n<path fill=\"#96f1bc\" stroke=\"black\" d=\"M956,-68C956,-68 840,-68 840,-68 834,-68 828,-62 828,-56 828,-56 828,-12 828,-12 828,-6 834,0 840,0 840,0 956,0 956,0 962,0 968,-6 968,-12 968,-12 968,-56 968,-56 968,-62 962,-68 956,-68\"/>\n<text text-anchor=\"start\" x=\"862.5\" y=\"-52.8\" font-family=\"Helvetica,sans-Serif\" font-size=\"14.00\">gini = 0.523</text>\n<text text-anchor=\"start\" x=\"853\" y=\"-37.8\" font-family=\"Helvetica,sans-Serif\" font-size=\"14.00\">samples = 210</text>\n<text text-anchor=\"start\" x=\"836\" y=\"-22.8\" font-family=\"Helvetica,sans-Serif\" font-size=\"14.00\">value = [28, 134, 48]</text>\n<text text-anchor=\"start\" x=\"871\" y=\"-7.8\" font-family=\"Helvetica,sans-Serif\" font-size=\"14.00\">class = y</text>\n</g>\n<!-- 14&#45;&gt;15 -->\n<g id=\"edge15\" class=\"edge\">\n<title>14&#45;&gt;15</title>\n<path fill=\"none\" stroke=\"black\" d=\"M898.63,-103.73C898.55,-95.52 898.47,-86.86 898.4,-78.56\"/>\n<polygon fill=\"black\" stroke=\"black\" points=\"901.9,-78.27 898.3,-68.3 894.9,-78.33 901.9,-78.27\"/>\n</g>\n<!-- 16 -->\n<g id=\"node17\" class=\"node\">\n<title>16</title>\n<path fill=\"#e58139\" stroke=\"black\" d=\"M1084,-68C1084,-68 998,-68 998,-68 992,-68 986,-62 986,-56 986,-56 986,-12 986,-12 986,-6 992,0 998,0 998,0 1084,0 1084,0 1090,0 1096,-6 1096,-12 1096,-12 1096,-56 1096,-56 1096,-62 1090,-68 1084,-68\"/>\n<text text-anchor=\"start\" x=\"1013\" y=\"-52.8\" font-family=\"Helvetica,sans-Serif\" font-size=\"14.00\">gini = 0.0</text>\n<text text-anchor=\"start\" x=\"1003.5\" y=\"-37.8\" font-family=\"Helvetica,sans-Serif\" font-size=\"14.00\">samples = 2</text>\n<text text-anchor=\"start\" x=\"994\" y=\"-22.8\" font-family=\"Helvetica,sans-Serif\" font-size=\"14.00\">value = [2, 0, 0]</text>\n<text text-anchor=\"start\" x=\"1013.5\" y=\"-7.8\" font-family=\"Helvetica,sans-Serif\" font-size=\"14.00\">class = T</text>\n</g>\n<!-- 14&#45;&gt;16 -->\n<g id=\"edge16\" class=\"edge\">\n<title>14&#45;&gt;16</title>\n<path fill=\"none\" stroke=\"black\" d=\"M951.88,-103.73C964.29,-94.15 977.51,-83.96 989.85,-74.44\"/>\n<polygon fill=\"black\" stroke=\"black\" points=\"992.04,-77.18 997.82,-68.3 987.76,-71.63 992.04,-77.18\"/>\n</g>\n<!-- 18 -->\n<g id=\"node19\" class=\"node\">\n<title>18</title>\n<path fill=\"#c8f8dc\" stroke=\"black\" d=\"M1619,-306C1619,-306 1495,-306 1495,-306 1489,-306 1483,-300 1483,-294 1483,-294 1483,-235 1483,-235 1483,-229 1489,-223 1495,-223 1495,-223 1619,-223 1619,-223 1625,-223 1631,-229 1631,-235 1631,-235 1631,-294 1631,-294 1631,-300 1625,-306 1619,-306\"/>\n<text text-anchor=\"start\" x=\"1491\" y=\"-290.8\" font-family=\"Helvetica,sans-Serif\" font-size=\"14.00\">LongestShell ≤ &#45;0.595</text>\n<text text-anchor=\"start\" x=\"1521.5\" y=\"-275.8\" font-family=\"Helvetica,sans-Serif\" font-size=\"14.00\">gini = 0.615</text>\n<text text-anchor=\"start\" x=\"1512\" y=\"-260.8\" font-family=\"Helvetica,sans-Serif\" font-size=\"14.00\">samples = 163</text>\n<text text-anchor=\"start\" x=\"1499\" y=\"-245.8\" font-family=\"Helvetica,sans-Serif\" font-size=\"14.00\">value = [30, 82, 51]</text>\n<text text-anchor=\"start\" x=\"1530\" y=\"-230.8\" font-family=\"Helvetica,sans-Serif\" font-size=\"14.00\">class = y</text>\n</g>\n<!-- 17&#45;&gt;18 -->\n<g id=\"edge18\" class=\"edge\">\n<title>17&#45;&gt;18</title>\n<path fill=\"none\" stroke=\"black\" d=\"M1609.9,-341.91C1603.74,-333.01 1597.16,-323.51 1590.81,-314.33\"/>\n<polygon fill=\"black\" stroke=\"black\" points=\"1593.62,-312.25 1585.05,-306.02 1587.87,-316.24 1593.62,-312.25\"/>\n</g>\n<!-- 25 -->\n<g id=\"node26\" class=\"node\">\n<title>25</title>\n<path fill=\"#fef8f4\" stroke=\"black\" d=\"M1824,-306C1824,-306 1708,-306 1708,-306 1702,-306 1696,-300 1696,-294 1696,-294 1696,-235 1696,-235 1696,-229 1702,-223 1708,-223 1708,-223 1824,-223 1824,-223 1830,-223 1836,-229 1836,-235 1836,-235 1836,-294 1836,-294 1836,-300 1830,-306 1824,-306\"/>\n<text text-anchor=\"start\" x=\"1719.5\" y=\"-290.8\" font-family=\"Helvetica,sans-Serif\" font-size=\"14.00\">Height ≤ &#45;1.005</text>\n<text text-anchor=\"start\" x=\"1730.5\" y=\"-275.8\" font-family=\"Helvetica,sans-Serif\" font-size=\"14.00\">gini = 0.658</text>\n<text text-anchor=\"start\" x=\"1721\" y=\"-260.8\" font-family=\"Helvetica,sans-Serif\" font-size=\"14.00\">samples = 268</text>\n<text text-anchor=\"start\" x=\"1704\" y=\"-245.8\" font-family=\"Helvetica,sans-Serif\" font-size=\"14.00\">value = [104, 70, 94]</text>\n<text text-anchor=\"start\" x=\"1738.5\" y=\"-230.8\" font-family=\"Helvetica,sans-Serif\" font-size=\"14.00\">class = T</text>\n</g>\n<!-- 17&#45;&gt;25 -->\n<g id=\"edge25\" class=\"edge\">\n<title>17&#45;&gt;25</title>\n<path fill=\"none\" stroke=\"black\" d=\"M1682.41,-341.91C1692.64,-332.56 1703.6,-322.54 1714.11,-312.93\"/>\n<polygon fill=\"black\" stroke=\"black\" points=\"1716.65,-315.35 1721.67,-306.02 1711.93,-310.18 1716.65,-315.35\"/>\n</g>\n<!-- 19 -->\n<g id=\"node20\" class=\"node\">\n<title>19</title>\n<path fill=\"#f2eafc\" stroke=\"black\" d=\"M1375,-187C1375,-187 1257,-187 1257,-187 1251,-187 1245,-181 1245,-175 1245,-175 1245,-116 1245,-116 1245,-110 1251,-104 1257,-104 1257,-104 1375,-104 1375,-104 1381,-104 1387,-110 1387,-116 1387,-116 1387,-175 1387,-175 1387,-181 1381,-187 1375,-187\"/>\n<text text-anchor=\"start\" x=\"1253\" y=\"-171.8\" font-family=\"Helvetica,sans-Serif\" font-size=\"14.00\">ShellWeight ≤ &#45;0.944</text>\n<text text-anchor=\"start\" x=\"1284\" y=\"-156.8\" font-family=\"Helvetica,sans-Serif\" font-size=\"14.00\">gini = 0.65</text>\n<text text-anchor=\"start\" x=\"1275\" y=\"-141.8\" font-family=\"Helvetica,sans-Serif\" font-size=\"14.00\">samples = 72</text>\n<text text-anchor=\"start\" x=\"1258\" y=\"-126.8\" font-family=\"Helvetica,sans-Serif\" font-size=\"14.00\">value = [17, 25, 30]</text>\n<text text-anchor=\"start\" x=\"1288.5\" y=\"-111.8\" font-family=\"Helvetica,sans-Serif\" font-size=\"14.00\">class = p</text>\n</g>\n<!-- 18&#45;&gt;19 -->\n<g id=\"edge19\" class=\"edge\">\n<title>18&#45;&gt;19</title>\n<path fill=\"none\" stroke=\"black\" d=\"M1482.73,-227.44C1455.39,-214.17 1424.31,-199.08 1396.46,-185.56\"/>\n<polygon fill=\"black\" stroke=\"black\" points=\"1397.67,-182.26 1387.14,-181.04 1394.61,-188.55 1397.67,-182.26\"/>\n</g>\n<!-- 22 -->\n<g id=\"node23\" class=\"node\">\n<title>22</title>\n<path fill=\"#99f2be\" stroke=\"black\" d=\"M1611,-187C1611,-187 1503,-187 1503,-187 1497,-187 1491,-181 1491,-175 1491,-175 1491,-116 1491,-116 1491,-110 1497,-104 1503,-104 1503,-104 1611,-104 1611,-104 1617,-104 1623,-110 1623,-116 1623,-116 1623,-175 1623,-175 1623,-181 1617,-187 1611,-187\"/>\n<text text-anchor=\"start\" x=\"1513\" y=\"-171.8\" font-family=\"Helvetica,sans-Serif\" font-size=\"14.00\">Height ≤ 0.191</text>\n<text text-anchor=\"start\" x=\"1521.5\" y=\"-156.8\" font-family=\"Helvetica,sans-Serif\" font-size=\"14.00\">gini = 0.534</text>\n<text text-anchor=\"start\" x=\"1516\" y=\"-141.8\" font-family=\"Helvetica,sans-Serif\" font-size=\"14.00\">samples = 91</text>\n<text text-anchor=\"start\" x=\"1499\" y=\"-126.8\" font-family=\"Helvetica,sans-Serif\" font-size=\"14.00\">value = [13, 57, 21]</text>\n<text text-anchor=\"start\" x=\"1530\" y=\"-111.8\" font-family=\"Helvetica,sans-Serif\" font-size=\"14.00\">class = y</text>\n</g>\n<!-- 18&#45;&gt;22 -->\n<g id=\"edge22\" class=\"edge\">\n<title>18&#45;&gt;22</title>\n<path fill=\"none\" stroke=\"black\" d=\"M1557,-222.91C1557,-214.65 1557,-205.86 1557,-197.3\"/>\n<polygon fill=\"black\" stroke=\"black\" points=\"1560.5,-197.02 1557,-187.02 1553.5,-197.02 1560.5,-197.02\"/>\n</g>\n<!-- 20 -->\n<g id=\"node21\" class=\"node\">\n<title>20</title>\n<path fill=\"#e2d1f9\" stroke=\"black\" d=\"M1227.5,-68C1227.5,-68 1126.5,-68 1126.5,-68 1120.5,-68 1114.5,-62 1114.5,-56 1114.5,-56 1114.5,-12 1114.5,-12 1114.5,-6 1120.5,0 1126.5,0 1126.5,0 1227.5,0 1227.5,0 1233.5,0 1239.5,-6 1239.5,-12 1239.5,-12 1239.5,-56 1239.5,-56 1239.5,-62 1233.5,-68 1227.5,-68\"/>\n<text text-anchor=\"start\" x=\"1141.5\" y=\"-52.8\" font-family=\"Helvetica,sans-Serif\" font-size=\"14.00\">gini = 0.553</text>\n<text text-anchor=\"start\" x=\"1136\" y=\"-37.8\" font-family=\"Helvetica,sans-Serif\" font-size=\"14.00\">samples = 43</text>\n<text text-anchor=\"start\" x=\"1122.5\" y=\"-22.8\" font-family=\"Helvetica,sans-Serif\" font-size=\"14.00\">value = [3, 17, 23]</text>\n<text text-anchor=\"start\" x=\"1149.5\" y=\"-7.8\" font-family=\"Helvetica,sans-Serif\" font-size=\"14.00\">class = p</text>\n</g>\n<!-- 19&#45;&gt;20 -->\n<g id=\"edge20\" class=\"edge\">\n<title>19&#45;&gt;20</title>\n<path fill=\"none\" stroke=\"black\" d=\"M1264.24,-103.73C1252.2,-94.24 1239.4,-84.16 1227.42,-74.72\"/>\n<polygon fill=\"black\" stroke=\"black\" points=\"1229.29,-71.74 1219.27,-68.3 1224.96,-77.24 1229.29,-71.74\"/>\n</g>\n<!-- 21 -->\n<g id=\"node22\" class=\"node\">\n<title>21</title>\n<path fill=\"#f8dbc6\" stroke=\"black\" d=\"M1362.5,-68C1362.5,-68 1269.5,-68 1269.5,-68 1263.5,-68 1257.5,-62 1257.5,-56 1257.5,-56 1257.5,-12 1257.5,-12 1257.5,-6 1263.5,0 1269.5,0 1269.5,0 1362.5,0 1362.5,0 1368.5,0 1374.5,-6 1374.5,-12 1374.5,-12 1374.5,-56 1374.5,-56 1374.5,-62 1368.5,-68 1362.5,-68\"/>\n<text text-anchor=\"start\" x=\"1280.5\" y=\"-52.8\" font-family=\"Helvetica,sans-Serif\" font-size=\"14.00\">gini = 0.633</text>\n<text text-anchor=\"start\" x=\"1275\" y=\"-37.8\" font-family=\"Helvetica,sans-Serif\" font-size=\"14.00\">samples = 29</text>\n<text text-anchor=\"start\" x=\"1265.5\" y=\"-22.8\" font-family=\"Helvetica,sans-Serif\" font-size=\"14.00\">value = [14, 8, 7]</text>\n<text text-anchor=\"start\" x=\"1288.5\" y=\"-7.8\" font-family=\"Helvetica,sans-Serif\" font-size=\"14.00\">class = T</text>\n</g>\n<!-- 19&#45;&gt;21 -->\n<g id=\"edge21\" class=\"edge\">\n<title>19&#45;&gt;21</title>\n<path fill=\"none\" stroke=\"black\" d=\"M1316,-103.73C1316,-95.52 1316,-86.86 1316,-78.56\"/>\n<polygon fill=\"black\" stroke=\"black\" points=\"1319.5,-78.3 1316,-68.3 1312.5,-78.3 1319.5,-78.3\"/>\n</g>\n<!-- 23 -->\n<g id=\"node24\" class=\"node\">\n<title>23</title>\n<path fill=\"#8df0b7\" stroke=\"black\" d=\"M1513,-68C1513,-68 1405,-68 1405,-68 1399,-68 1393,-62 1393,-56 1393,-56 1393,-12 1393,-12 1393,-6 1399,0 1405,0 1405,0 1513,0 1513,0 1519,0 1525,-6 1525,-12 1525,-12 1525,-56 1525,-56 1525,-62 1519,-68 1513,-68\"/>\n<text text-anchor=\"start\" x=\"1423.5\" y=\"-52.8\" font-family=\"Helvetica,sans-Serif\" font-size=\"14.00\">gini = 0.501</text>\n<text text-anchor=\"start\" x=\"1418\" y=\"-37.8\" font-family=\"Helvetica,sans-Serif\" font-size=\"14.00\">samples = 86</text>\n<text text-anchor=\"start\" x=\"1401\" y=\"-22.8\" font-family=\"Helvetica,sans-Serif\" font-size=\"14.00\">value = [11, 57, 18]</text>\n<text text-anchor=\"start\" x=\"1432\" y=\"-7.8\" font-family=\"Helvetica,sans-Serif\" font-size=\"14.00\">class = y</text>\n</g>\n<!-- 22&#45;&gt;23 -->\n<g id=\"edge23\" class=\"edge\">\n<title>22&#45;&gt;23</title>\n<path fill=\"none\" stroke=\"black\" d=\"M1520.51,-103.73C1512.35,-94.61 1503.69,-84.93 1495.52,-75.81\"/>\n<polygon fill=\"black\" stroke=\"black\" points=\"1498.08,-73.42 1488.8,-68.3 1492.86,-78.09 1498.08,-73.42\"/>\n</g>\n<!-- 24 -->\n<g id=\"node25\" class=\"node\">\n<title>24</title>\n<path fill=\"#d5bdf6\" stroke=\"black\" d=\"M1641,-68C1641,-68 1555,-68 1555,-68 1549,-68 1543,-62 1543,-56 1543,-56 1543,-12 1543,-12 1543,-6 1549,0 1555,0 1555,0 1641,0 1641,0 1647,0 1653,-6 1653,-12 1653,-12 1653,-56 1653,-56 1653,-62 1647,-68 1641,-68\"/>\n<text text-anchor=\"start\" x=\"1566\" y=\"-52.8\" font-family=\"Helvetica,sans-Serif\" font-size=\"14.00\">gini = 0.48</text>\n<text text-anchor=\"start\" x=\"1560.5\" y=\"-37.8\" font-family=\"Helvetica,sans-Serif\" font-size=\"14.00\">samples = 5</text>\n<text text-anchor=\"start\" x=\"1551\" y=\"-22.8\" font-family=\"Helvetica,sans-Serif\" font-size=\"14.00\">value = [2, 0, 3]</text>\n<text text-anchor=\"start\" x=\"1570.5\" y=\"-7.8\" font-family=\"Helvetica,sans-Serif\" font-size=\"14.00\">class = p</text>\n</g>\n<!-- 22&#45;&gt;24 -->\n<g id=\"edge24\" class=\"edge\">\n<title>22&#45;&gt;24</title>\n<path fill=\"none\" stroke=\"black\" d=\"M1572.27,-103.73C1575.44,-95.24 1578.8,-86.28 1582,-77.73\"/>\n<polygon fill=\"black\" stroke=\"black\" points=\"1585.3,-78.89 1585.53,-68.3 1578.75,-76.44 1585.3,-78.89\"/>\n</g>\n<!-- 26 -->\n<g id=\"node27\" class=\"node\">\n<title>26</title>\n<path fill=\"#ad7eee\" stroke=\"black\" d=\"M1832.5,-187C1832.5,-187 1699.5,-187 1699.5,-187 1693.5,-187 1687.5,-181 1687.5,-175 1687.5,-175 1687.5,-116 1687.5,-116 1687.5,-110 1693.5,-104 1699.5,-104 1699.5,-104 1832.5,-104 1832.5,-104 1838.5,-104 1844.5,-110 1844.5,-116 1844.5,-116 1844.5,-175 1844.5,-175 1844.5,-181 1838.5,-187 1832.5,-187\"/>\n<text text-anchor=\"start\" x=\"1695.5\" y=\"-171.8\" font-family=\"Helvetica,sans-Serif\" font-size=\"14.00\">VisceraWeight ≤ &#45;1.349</text>\n<text text-anchor=\"start\" x=\"1730.5\" y=\"-156.8\" font-family=\"Helvetica,sans-Serif\" font-size=\"14.00\">gini = 0.446</text>\n<text text-anchor=\"start\" x=\"1725\" y=\"-141.8\" font-family=\"Helvetica,sans-Serif\" font-size=\"14.00\">samples = 28</text>\n<text text-anchor=\"start\" x=\"1715.5\" y=\"-126.8\" font-family=\"Helvetica,sans-Serif\" font-size=\"14.00\">value = [3, 5, 20]</text>\n<text text-anchor=\"start\" x=\"1738.5\" y=\"-111.8\" font-family=\"Helvetica,sans-Serif\" font-size=\"14.00\">class = p</text>\n</g>\n<!-- 25&#45;&gt;26 -->\n<g id=\"edge26\" class=\"edge\">\n<title>25&#45;&gt;26</title>\n<path fill=\"none\" stroke=\"black\" d=\"M1766,-222.91C1766,-214.65 1766,-205.86 1766,-197.3\"/>\n<polygon fill=\"black\" stroke=\"black\" points=\"1769.5,-197.02 1766,-187.02 1762.5,-197.02 1769.5,-197.02\"/>\n</g>\n<!-- 29 -->\n<g id=\"node30\" class=\"node\">\n<title>29</title>\n<path fill=\"#fbebdf\" stroke=\"black\" d=\"M2063,-187C2063,-187 1939,-187 1939,-187 1933,-187 1927,-181 1927,-175 1927,-175 1927,-116 1927,-116 1927,-110 1933,-104 1939,-104 1939,-104 2063,-104 2063,-104 2069,-104 2075,-110 2075,-116 2075,-116 2075,-175 2075,-175 2075,-181 2069,-187 2063,-187\"/>\n<text text-anchor=\"start\" x=\"1935\" y=\"-171.8\" font-family=\"Helvetica,sans-Serif\" font-size=\"14.00\">LongestShell ≤ &#45;0.096</text>\n<text text-anchor=\"start\" x=\"1965.5\" y=\"-156.8\" font-family=\"Helvetica,sans-Serif\" font-size=\"14.00\">gini = 0.654</text>\n<text text-anchor=\"start\" x=\"1956\" y=\"-141.8\" font-family=\"Helvetica,sans-Serif\" font-size=\"14.00\">samples = 240</text>\n<text text-anchor=\"start\" x=\"1939\" y=\"-126.8\" font-family=\"Helvetica,sans-Serif\" font-size=\"14.00\">value = [101, 65, 74]</text>\n<text text-anchor=\"start\" x=\"1973.5\" y=\"-111.8\" font-family=\"Helvetica,sans-Serif\" font-size=\"14.00\">class = T</text>\n</g>\n<!-- 25&#45;&gt;29 -->\n<g id=\"edge29\" class=\"edge\">\n<title>25&#45;&gt;29</title>\n<path fill=\"none\" stroke=\"black\" d=\"M1836.19,-228.55C1861.72,-215.85 1890.82,-201.36 1917.4,-188.12\"/>\n<polygon fill=\"black\" stroke=\"black\" points=\"1919.29,-191.09 1926.68,-183.5 1916.17,-184.83 1919.29,-191.09\"/>\n</g>\n<!-- 27 -->\n<g id=\"node28\" class=\"node\">\n<title>27</title>\n<path fill=\"#9cf2c0\" stroke=\"black\" d=\"M1769,-68C1769,-68 1683,-68 1683,-68 1677,-68 1671,-62 1671,-56 1671,-56 1671,-12 1671,-12 1671,-6 1677,0 1683,0 1683,0 1769,0 1769,0 1775,0 1781,-6 1781,-12 1781,-12 1781,-56 1781,-56 1781,-62 1775,-68 1769,-68\"/>\n<text text-anchor=\"start\" x=\"1690.5\" y=\"-52.8\" font-family=\"Helvetica,sans-Serif\" font-size=\"14.00\">gini = 0.444</text>\n<text text-anchor=\"start\" x=\"1688.5\" y=\"-37.8\" font-family=\"Helvetica,sans-Serif\" font-size=\"14.00\">samples = 3</text>\n<text text-anchor=\"start\" x=\"1679\" y=\"-22.8\" font-family=\"Helvetica,sans-Serif\" font-size=\"14.00\">value = [0, 2, 1]</text>\n<text text-anchor=\"start\" x=\"1699\" y=\"-7.8\" font-family=\"Helvetica,sans-Serif\" font-size=\"14.00\">class = y</text>\n</g>\n<!-- 26&#45;&gt;27 -->\n<g id=\"edge27\" class=\"edge\">\n<title>26&#45;&gt;27</title>\n<path fill=\"none\" stroke=\"black\" d=\"M1751.11,-103.73C1748.01,-95.24 1744.73,-86.28 1741.61,-77.73\"/>\n<polygon fill=\"black\" stroke=\"black\" points=\"1744.88,-76.49 1738.16,-68.3 1738.31,-78.89 1744.88,-76.49\"/>\n</g>\n<!-- 28 -->\n<g id=\"node29\" class=\"node\">\n<title>28</title>\n<path fill=\"#a36fec\" stroke=\"black\" d=\"M1904.5,-68C1904.5,-68 1811.5,-68 1811.5,-68 1805.5,-68 1799.5,-62 1799.5,-56 1799.5,-56 1799.5,-12 1799.5,-12 1799.5,-6 1805.5,0 1811.5,0 1811.5,0 1904.5,0 1904.5,0 1910.5,0 1916.5,-6 1916.5,-12 1916.5,-12 1916.5,-56 1916.5,-56 1916.5,-62 1910.5,-68 1904.5,-68\"/>\n<text text-anchor=\"start\" x=\"1822.5\" y=\"-52.8\" font-family=\"Helvetica,sans-Serif\" font-size=\"14.00\">gini = 0.394</text>\n<text text-anchor=\"start\" x=\"1817\" y=\"-37.8\" font-family=\"Helvetica,sans-Serif\" font-size=\"14.00\">samples = 25</text>\n<text text-anchor=\"start\" x=\"1807.5\" y=\"-22.8\" font-family=\"Helvetica,sans-Serif\" font-size=\"14.00\">value = [3, 3, 19]</text>\n<text text-anchor=\"start\" x=\"1830.5\" y=\"-7.8\" font-family=\"Helvetica,sans-Serif\" font-size=\"14.00\">class = p</text>\n</g>\n<!-- 26&#45;&gt;28 -->\n<g id=\"edge28\" class=\"edge\">\n<title>26&#45;&gt;28</title>\n<path fill=\"none\" stroke=\"black\" d=\"M1800.26,-103.73C1807.84,-94.7 1815.89,-85.12 1823.48,-76.08\"/>\n<polygon fill=\"black\" stroke=\"black\" points=\"1826.27,-78.21 1830.02,-68.3 1820.91,-73.7 1826.27,-78.21\"/>\n</g>\n<!-- 30 -->\n<g id=\"node31\" class=\"node\">\n<title>30</title>\n<path fill=\"#fae6d7\" stroke=\"black\" d=\"M2055,-68C2055,-68 1947,-68 1947,-68 1941,-68 1935,-62 1935,-56 1935,-56 1935,-12 1935,-12 1935,-6 1941,0 1947,0 1947,0 2055,0 2055,0 2061,0 2067,-6 2067,-12 2067,-12 2067,-56 2067,-56 2067,-62 2061,-68 2055,-68\"/>\n<text text-anchor=\"start\" x=\"1969\" y=\"-52.8\" font-family=\"Helvetica,sans-Serif\" font-size=\"14.00\">gini = 0.64</text>\n<text text-anchor=\"start\" x=\"1956\" y=\"-37.8\" font-family=\"Helvetica,sans-Serif\" font-size=\"14.00\">samples = 198</text>\n<text text-anchor=\"start\" x=\"1943\" y=\"-22.8\" font-family=\"Helvetica,sans-Serif\" font-size=\"14.00\">value = [90, 45, 63]</text>\n<text text-anchor=\"start\" x=\"1973.5\" y=\"-7.8\" font-family=\"Helvetica,sans-Serif\" font-size=\"14.00\">class = T</text>\n</g>\n<!-- 29&#45;&gt;30 -->\n<g id=\"edge30\" class=\"edge\">\n<title>29&#45;&gt;30</title>\n<path fill=\"none\" stroke=\"black\" d=\"M2001,-103.73C2001,-95.52 2001,-86.86 2001,-78.56\"/>\n<polygon fill=\"black\" stroke=\"black\" points=\"2004.5,-78.3 2001,-68.3 1997.5,-78.3 2004.5,-78.3\"/>\n</g>\n<!-- 31 -->\n<g id=\"node32\" class=\"node\">\n<title>31</title>\n<path fill=\"#c6f7da\" stroke=\"black\" d=\"M2205,-68C2205,-68 2097,-68 2097,-68 2091,-68 2085,-62 2085,-56 2085,-56 2085,-12 2085,-12 2085,-6 2091,0 2097,0 2097,0 2205,0 2205,0 2211,0 2217,-6 2217,-12 2217,-12 2217,-56 2217,-56 2217,-62 2211,-68 2205,-68\"/>\n<text text-anchor=\"start\" x=\"2115.5\" y=\"-52.8\" font-family=\"Helvetica,sans-Serif\" font-size=\"14.00\">gini = 0.636</text>\n<text text-anchor=\"start\" x=\"2110\" y=\"-37.8\" font-family=\"Helvetica,sans-Serif\" font-size=\"14.00\">samples = 42</text>\n<text text-anchor=\"start\" x=\"2093\" y=\"-22.8\" font-family=\"Helvetica,sans-Serif\" font-size=\"14.00\">value = [11, 20, 11]</text>\n<text text-anchor=\"start\" x=\"2124\" y=\"-7.8\" font-family=\"Helvetica,sans-Serif\" font-size=\"14.00\">class = y</text>\n</g>\n<!-- 29&#45;&gt;31 -->\n<g id=\"edge31\" class=\"edge\">\n<title>29&#45;&gt;31</title>\n<path fill=\"none\" stroke=\"black\" d=\"M2056.85,-103.73C2069.97,-94.15 2083.93,-83.96 2096.97,-74.44\"/>\n<polygon fill=\"black\" stroke=\"black\" points=\"2099.37,-77.02 2105.38,-68.3 2095.24,-71.37 2099.37,-77.02\"/>\n</g>\n<!-- 33 -->\n<g id=\"node34\" class=\"node\">\n<title>33</title>\n<path fill=\"#e8dbfa\" stroke=\"black\" d=\"M2806.5,-425C2806.5,-425 2675.5,-425 2675.5,-425 2669.5,-425 2663.5,-419 2663.5,-413 2663.5,-413 2663.5,-354 2663.5,-354 2663.5,-348 2669.5,-342 2675.5,-342 2675.5,-342 2806.5,-342 2806.5,-342 2812.5,-342 2818.5,-348 2818.5,-354 2818.5,-354 2818.5,-413 2818.5,-413 2818.5,-419 2812.5,-425 2806.5,-425\"/>\n<text text-anchor=\"start\" x=\"2699\" y=\"-409.8\" font-family=\"Helvetica,sans-Serif\" font-size=\"14.00\">Rings ≤ 0.486</text>\n<text text-anchor=\"start\" x=\"2705.5\" y=\"-394.8\" font-family=\"Helvetica,sans-Serif\" font-size=\"14.00\">gini = 0.643</text>\n<text text-anchor=\"start\" x=\"2696\" y=\"-379.8\" font-family=\"Helvetica,sans-Serif\" font-size=\"14.00\">samples = 520</text>\n<text text-anchor=\"start\" x=\"2671.5\" y=\"-364.8\" font-family=\"Helvetica,sans-Serif\" font-size=\"14.00\">value = [169, 119, 232]</text>\n<text text-anchor=\"start\" x=\"2713.5\" y=\"-349.8\" font-family=\"Helvetica,sans-Serif\" font-size=\"14.00\">class = p</text>\n</g>\n<!-- 32&#45;&gt;33 -->\n<g id=\"edge33\" class=\"edge\">\n<title>32&#45;&gt;33</title>\n<path fill=\"none\" stroke=\"black\" d=\"M2741,-460.91C2741,-452.65 2741,-443.86 2741,-435.3\"/>\n<polygon fill=\"black\" stroke=\"black\" points=\"2744.5,-435.02 2741,-425.02 2737.5,-435.02 2744.5,-435.02\"/>\n</g>\n<!-- 48 -->\n<g id=\"node49\" class=\"node\">\n<title>48</title>\n<path fill=\"#f8f4fd\" stroke=\"black\" d=\"M3726,-425C3726,-425 3590,-425 3590,-425 3584,-425 3578,-419 3578,-413 3578,-413 3578,-354 3578,-354 3578,-348 3584,-342 3590,-342 3590,-342 3726,-342 3726,-342 3732,-342 3738,-348 3738,-354 3738,-354 3738,-413 3738,-413 3738,-419 3732,-425 3726,-425\"/>\n<text text-anchor=\"start\" x=\"3586\" y=\"-409.8\" font-family=\"Helvetica,sans-Serif\" font-size=\"14.00\">ShuckedWeight ≤ 2.318</text>\n<text text-anchor=\"start\" x=\"3626\" y=\"-394.8\" font-family=\"Helvetica,sans-Serif\" font-size=\"14.00\">gini = 0.54</text>\n<text text-anchor=\"start\" x=\"3609.5\" y=\"-379.8\" font-family=\"Helvetica,sans-Serif\" font-size=\"14.00\">samples = 1187</text>\n<text text-anchor=\"start\" x=\"3592.5\" y=\"-364.8\" font-family=\"Helvetica,sans-Serif\" font-size=\"14.00\">value = [549, 52, 586]</text>\n<text text-anchor=\"start\" x=\"3630.5\" y=\"-349.8\" font-family=\"Helvetica,sans-Serif\" font-size=\"14.00\">class = p</text>\n</g>\n<!-- 32&#45;&gt;48 -->\n<g id=\"edge48\" class=\"edge\">\n<title>32&#45;&gt;48</title>\n<path fill=\"none\" stroke=\"black\" d=\"M2818.79,-491.58C2987.92,-470 3388.35,-418.9 3568.02,-395.98\"/>\n<polygon fill=\"black\" stroke=\"black\" points=\"3568.49,-399.45 3577.97,-394.71 3567.61,-392.5 3568.49,-399.45\"/>\n</g>\n<!-- 34 -->\n<g id=\"node35\" class=\"node\">\n<title>34</title>\n<path fill=\"#e7dafa\" stroke=\"black\" d=\"M2733.5,-306C2733.5,-306 2600.5,-306 2600.5,-306 2594.5,-306 2588.5,-300 2588.5,-294 2588.5,-294 2588.5,-235 2588.5,-235 2588.5,-229 2594.5,-223 2600.5,-223 2600.5,-223 2733.5,-223 2733.5,-223 2739.5,-223 2745.5,-229 2745.5,-235 2745.5,-235 2745.5,-294 2745.5,-294 2745.5,-300 2739.5,-306 2733.5,-306\"/>\n<text text-anchor=\"start\" x=\"2596.5\" y=\"-290.8\" font-family=\"Helvetica,sans-Serif\" font-size=\"14.00\">VisceraWeight ≤ &#45;0.122</text>\n<text text-anchor=\"start\" x=\"2631.5\" y=\"-275.8\" font-family=\"Helvetica,sans-Serif\" font-size=\"14.00\">gini = 0.652</text>\n<text text-anchor=\"start\" x=\"2622\" y=\"-260.8\" font-family=\"Helvetica,sans-Serif\" font-size=\"14.00\">samples = 393</text>\n<text text-anchor=\"start\" x=\"2597.5\" y=\"-245.8\" font-family=\"Helvetica,sans-Serif\" font-size=\"14.00\">value = [117, 107, 169]</text>\n<text text-anchor=\"start\" x=\"2639.5\" y=\"-230.8\" font-family=\"Helvetica,sans-Serif\" font-size=\"14.00\">class = p</text>\n</g>\n<!-- 33&#45;&gt;34 -->\n<g id=\"edge34\" class=\"edge\">\n<title>33&#45;&gt;34</title>\n<path fill=\"none\" stroke=\"black\" d=\"M2715.33,-341.91C2709.76,-333.1 2703.81,-323.7 2698.06,-314.61\"/>\n<polygon fill=\"black\" stroke=\"black\" points=\"2700.93,-312.6 2692.63,-306.02 2695.02,-316.34 2700.93,-312.6\"/>\n</g>\n<!-- 41 -->\n<g id=\"node42\" class=\"node\">\n<title>41</title>\n<path fill=\"#ede2fb\" stroke=\"black\" d=\"M2982,-306C2982,-306 2874,-306 2874,-306 2868,-306 2862,-300 2862,-294 2862,-294 2862,-235 2862,-235 2862,-229 2868,-223 2874,-223 2874,-223 2982,-223 2982,-223 2988,-223 2994,-229 2994,-235 2994,-235 2994,-294 2994,-294 2994,-300 2988,-306 2982,-306\"/>\n<text text-anchor=\"start\" x=\"2886\" y=\"-290.8\" font-family=\"Helvetica,sans-Serif\" font-size=\"14.00\">Rings ≤ 2.037</text>\n<text text-anchor=\"start\" x=\"2892.5\" y=\"-275.8\" font-family=\"Helvetica,sans-Serif\" font-size=\"14.00\">gini = 0.577</text>\n<text text-anchor=\"start\" x=\"2883\" y=\"-260.8\" font-family=\"Helvetica,sans-Serif\" font-size=\"14.00\">samples = 127</text>\n<text text-anchor=\"start\" x=\"2870\" y=\"-245.8\" font-family=\"Helvetica,sans-Serif\" font-size=\"14.00\">value = [52, 12, 63]</text>\n<text text-anchor=\"start\" x=\"2900.5\" y=\"-230.8\" font-family=\"Helvetica,sans-Serif\" font-size=\"14.00\">class = p</text>\n</g>\n<!-- 33&#45;&gt;41 -->\n<g id=\"edge41\" class=\"edge\">\n<title>33&#45;&gt;41</title>\n<path fill=\"none\" stroke=\"black\" d=\"M2805.88,-341.91C2821.54,-332.11 2838.4,-321.56 2854.43,-311.53\"/>\n<polygon fill=\"black\" stroke=\"black\" points=\"2856.61,-314.29 2863.24,-306.02 2852.9,-308.36 2856.61,-314.29\"/>\n</g>\n<!-- 35 -->\n<g id=\"node36\" class=\"node\">\n<title>35</title>\n<path fill=\"#faf7fe\" stroke=\"black\" d=\"M2512,-187C2512,-187 2376,-187 2376,-187 2370,-187 2364,-181 2364,-175 2364,-175 2364,-116 2364,-116 2364,-110 2370,-104 2376,-104 2376,-104 2512,-104 2512,-104 2518,-104 2524,-110 2524,-116 2524,-116 2524,-175 2524,-175 2524,-181 2518,-187 2512,-187\"/>\n<text text-anchor=\"start\" x=\"2372\" y=\"-171.8\" font-family=\"Helvetica,sans-Serif\" font-size=\"14.00\">ShuckedWeight ≤ 0.173</text>\n<text text-anchor=\"start\" x=\"2408.5\" y=\"-156.8\" font-family=\"Helvetica,sans-Serif\" font-size=\"14.00\">gini = 0.644</text>\n<text text-anchor=\"start\" x=\"2399\" y=\"-141.8\" font-family=\"Helvetica,sans-Serif\" font-size=\"14.00\">samples = 160</text>\n<text text-anchor=\"start\" x=\"2386\" y=\"-126.8\" font-family=\"Helvetica,sans-Serif\" font-size=\"14.00\">value = [34, 61, 65]</text>\n<text text-anchor=\"start\" x=\"2416.5\" y=\"-111.8\" font-family=\"Helvetica,sans-Serif\" font-size=\"14.00\">class = p</text>\n</g>\n<!-- 34&#45;&gt;35 -->\n<g id=\"edge35\" class=\"edge\">\n<title>34&#45;&gt;35</title>\n<path fill=\"none\" stroke=\"black\" d=\"M2589.63,-222.91C2570.43,-212.83 2549.74,-201.98 2530.15,-191.7\"/>\n<polygon fill=\"black\" stroke=\"black\" points=\"2531.71,-188.57 2521.23,-187.02 2528.46,-194.77 2531.71,-188.57\"/>\n</g>\n<!-- 38 -->\n<g id=\"node39\" class=\"node\">\n<title>38</title>\n<path fill=\"#ede3fb\" stroke=\"black\" d=\"M2725,-187C2725,-187 2609,-187 2609,-187 2603,-187 2597,-181 2597,-175 2597,-175 2597,-116 2597,-116 2597,-110 2603,-104 2609,-104 2609,-104 2725,-104 2725,-104 2731,-104 2737,-110 2737,-116 2737,-116 2737,-175 2737,-175 2737,-181 2731,-187 2725,-187\"/>\n<text text-anchor=\"start\" x=\"2620.5\" y=\"-171.8\" font-family=\"Helvetica,sans-Serif\" font-size=\"14.00\">Height ≤ &#45;0.168</text>\n<text text-anchor=\"start\" x=\"2631.5\" y=\"-156.8\" font-family=\"Helvetica,sans-Serif\" font-size=\"14.00\">gini = 0.635</text>\n<text text-anchor=\"start\" x=\"2622\" y=\"-141.8\" font-family=\"Helvetica,sans-Serif\" font-size=\"14.00\">samples = 233</text>\n<text text-anchor=\"start\" x=\"2605\" y=\"-126.8\" font-family=\"Helvetica,sans-Serif\" font-size=\"14.00\">value = [83, 46, 104]</text>\n<text text-anchor=\"start\" x=\"2639.5\" y=\"-111.8\" font-family=\"Helvetica,sans-Serif\" font-size=\"14.00\">class = p</text>\n</g>\n<!-- 34&#45;&gt;38 -->\n<g id=\"edge38\" class=\"edge\">\n<title>34&#45;&gt;38</title>\n<path fill=\"none\" stroke=\"black\" d=\"M2667,-222.91C2667,-214.65 2667,-205.86 2667,-197.3\"/>\n<polygon fill=\"black\" stroke=\"black\" points=\"2670.5,-197.02 2667,-187.02 2663.5,-197.02 2670.5,-197.02\"/>\n</g>\n<!-- 36 -->\n<g id=\"node37\" class=\"node\">\n<title>36</title>\n<path fill=\"#f4fef8\" stroke=\"black\" d=\"M2355,-68C2355,-68 2247,-68 2247,-68 2241,-68 2235,-62 2235,-56 2235,-56 2235,-12 2235,-12 2235,-6 2241,0 2247,0 2247,0 2355,0 2355,0 2361,0 2367,-6 2367,-12 2367,-12 2367,-56 2367,-56 2367,-62 2361,-68 2355,-68\"/>\n<text text-anchor=\"start\" x=\"2265.5\" y=\"-52.8\" font-family=\"Helvetica,sans-Serif\" font-size=\"14.00\">gini = 0.638</text>\n<text text-anchor=\"start\" x=\"2256\" y=\"-37.8\" font-family=\"Helvetica,sans-Serif\" font-size=\"14.00\">samples = 143</text>\n<text text-anchor=\"start\" x=\"2243\" y=\"-22.8\" font-family=\"Helvetica,sans-Serif\" font-size=\"14.00\">value = [28, 60, 55]</text>\n<text text-anchor=\"start\" x=\"2274\" y=\"-7.8\" font-family=\"Helvetica,sans-Serif\" font-size=\"14.00\">class = y</text>\n</g>\n<!-- 35&#45;&gt;36 -->\n<g id=\"edge36\" class=\"edge\">\n<title>35&#45;&gt;36</title>\n<path fill=\"none\" stroke=\"black\" d=\"M2390.75,-103.73C2378.25,-94.15 2364.94,-83.96 2352.51,-74.44\"/>\n<polygon fill=\"black\" stroke=\"black\" points=\"2354.55,-71.6 2344.49,-68.3 2350.3,-77.16 2354.55,-71.6\"/>\n</g>\n<!-- 37 -->\n<g id=\"node38\" class=\"node\">\n<title>37</title>\n<path fill=\"#d1b7f6\" stroke=\"black\" d=\"M2490.5,-68C2490.5,-68 2397.5,-68 2397.5,-68 2391.5,-68 2385.5,-62 2385.5,-56 2385.5,-56 2385.5,-12 2385.5,-12 2385.5,-6 2391.5,0 2397.5,0 2397.5,0 2490.5,0 2490.5,0 2496.5,0 2502.5,-6 2502.5,-12 2502.5,-12 2502.5,-56 2502.5,-56 2502.5,-62 2496.5,-68 2490.5,-68\"/>\n<text text-anchor=\"start\" x=\"2408.5\" y=\"-52.8\" font-family=\"Helvetica,sans-Serif\" font-size=\"14.00\">gini = 0.526</text>\n<text text-anchor=\"start\" x=\"2403\" y=\"-37.8\" font-family=\"Helvetica,sans-Serif\" font-size=\"14.00\">samples = 17</text>\n<text text-anchor=\"start\" x=\"2393.5\" y=\"-22.8\" font-family=\"Helvetica,sans-Serif\" font-size=\"14.00\">value = [6, 1, 10]</text>\n<text text-anchor=\"start\" x=\"2416.5\" y=\"-7.8\" font-family=\"Helvetica,sans-Serif\" font-size=\"14.00\">class = p</text>\n</g>\n<!-- 35&#45;&gt;37 -->\n<g id=\"edge37\" class=\"edge\">\n<title>35&#45;&gt;37</title>\n<path fill=\"none\" stroke=\"black\" d=\"M2444,-103.73C2444,-95.52 2444,-86.86 2444,-78.56\"/>\n<polygon fill=\"black\" stroke=\"black\" points=\"2447.5,-78.3 2444,-68.3 2440.5,-78.3 2447.5,-78.3\"/>\n</g>\n<!-- 39 -->\n<g id=\"node40\" class=\"node\">\n<title>39</title>\n<path fill=\"#c29ff2\" stroke=\"black\" d=\"M2625.5,-68C2625.5,-68 2532.5,-68 2532.5,-68 2526.5,-68 2520.5,-62 2520.5,-56 2520.5,-56 2520.5,-12 2520.5,-12 2520.5,-6 2526.5,0 2532.5,0 2532.5,0 2625.5,0 2625.5,0 2631.5,0 2637.5,-6 2637.5,-12 2637.5,-12 2637.5,-56 2637.5,-56 2637.5,-62 2631.5,-68 2625.5,-68\"/>\n<text text-anchor=\"start\" x=\"2543.5\" y=\"-52.8\" font-family=\"Helvetica,sans-Serif\" font-size=\"14.00\">gini = 0.567</text>\n<text text-anchor=\"start\" x=\"2538\" y=\"-37.8\" font-family=\"Helvetica,sans-Serif\" font-size=\"14.00\">samples = 44</text>\n<text text-anchor=\"start\" x=\"2528.5\" y=\"-22.8\" font-family=\"Helvetica,sans-Serif\" font-size=\"14.00\">value = [9, 9, 26]</text>\n<text text-anchor=\"start\" x=\"2551.5\" y=\"-7.8\" font-family=\"Helvetica,sans-Serif\" font-size=\"14.00\">class = p</text>\n</g>\n<!-- 38&#45;&gt;39 -->\n<g id=\"edge39\" class=\"edge\">\n<title>38&#45;&gt;39</title>\n<path fill=\"none\" stroke=\"black\" d=\"M2634.23,-103.73C2627.05,-94.79 2619.44,-85.32 2612.24,-76.36\"/>\n<polygon fill=\"black\" stroke=\"black\" points=\"2614.75,-73.9 2605.76,-68.3 2609.3,-78.29 2614.75,-73.9\"/>\n</g>\n<!-- 40 -->\n<g id=\"node41\" class=\"node\">\n<title>40</title>\n<path fill=\"#fbf8fe\" stroke=\"black\" d=\"M2776,-68C2776,-68 2668,-68 2668,-68 2662,-68 2656,-62 2656,-56 2656,-56 2656,-12 2656,-12 2656,-6 2662,0 2668,0 2668,0 2776,0 2776,0 2782,0 2788,-6 2788,-12 2788,-12 2788,-56 2788,-56 2788,-62 2782,-68 2776,-68\"/>\n<text text-anchor=\"start\" x=\"2686.5\" y=\"-52.8\" font-family=\"Helvetica,sans-Serif\" font-size=\"14.00\">gini = 0.638</text>\n<text text-anchor=\"start\" x=\"2677\" y=\"-37.8\" font-family=\"Helvetica,sans-Serif\" font-size=\"14.00\">samples = 189</text>\n<text text-anchor=\"start\" x=\"2664\" y=\"-22.8\" font-family=\"Helvetica,sans-Serif\" font-size=\"14.00\">value = [74, 37, 78]</text>\n<text text-anchor=\"start\" x=\"2694.5\" y=\"-7.8\" font-family=\"Helvetica,sans-Serif\" font-size=\"14.00\">class = p</text>\n</g>\n<!-- 38&#45;&gt;40 -->\n<g id=\"edge40\" class=\"edge\">\n<title>38&#45;&gt;40</title>\n<path fill=\"none\" stroke=\"black\" d=\"M2687.48,-103.73C2691.79,-95.15 2696.34,-86.09 2700.68,-77.46\"/>\n<polygon fill=\"black\" stroke=\"black\" points=\"2703.91,-78.81 2705.27,-68.3 2697.66,-75.66 2703.91,-78.81\"/>\n</g>\n<!-- 42 -->\n<g id=\"node43\" class=\"node\">\n<title>42</title>\n<path fill=\"#decbf8\" stroke=\"black\" d=\"M2978.5,-187C2978.5,-187 2877.5,-187 2877.5,-187 2871.5,-187 2865.5,-181 2865.5,-175 2865.5,-175 2865.5,-116 2865.5,-116 2865.5,-110 2871.5,-104 2877.5,-104 2877.5,-104 2978.5,-104 2978.5,-104 2984.5,-104 2990.5,-110 2990.5,-116 2990.5,-116 2990.5,-175 2990.5,-175 2990.5,-181 2984.5,-187 2978.5,-187\"/>\n<text text-anchor=\"start\" x=\"2884\" y=\"-171.8\" font-family=\"Helvetica,sans-Serif\" font-size=\"14.00\">Height ≤ 0.669</text>\n<text text-anchor=\"start\" x=\"2892.5\" y=\"-156.8\" font-family=\"Helvetica,sans-Serif\" font-size=\"14.00\">gini = 0.558</text>\n<text text-anchor=\"start\" x=\"2883\" y=\"-141.8\" font-family=\"Helvetica,sans-Serif\" font-size=\"14.00\">samples = 111</text>\n<text text-anchor=\"start\" x=\"2873.5\" y=\"-126.8\" font-family=\"Helvetica,sans-Serif\" font-size=\"14.00\">value = [42, 9, 60]</text>\n<text text-anchor=\"start\" x=\"2900.5\" y=\"-111.8\" font-family=\"Helvetica,sans-Serif\" font-size=\"14.00\">class = p</text>\n</g>\n<!-- 41&#45;&gt;42 -->\n<g id=\"edge42\" class=\"edge\">\n<title>41&#45;&gt;42</title>\n<path fill=\"none\" stroke=\"black\" d=\"M2928,-222.91C2928,-214.65 2928,-205.86 2928,-197.3\"/>\n<polygon fill=\"black\" stroke=\"black\" points=\"2931.5,-197.02 2928,-187.02 2924.5,-197.02 2931.5,-197.02\"/>\n</g>\n<!-- 45 -->\n<g id=\"node46\" class=\"node\">\n<title>45</title>\n<path fill=\"#f1bb94\" stroke=\"black\" d=\"M3207,-187C3207,-187 3079,-187 3079,-187 3073,-187 3067,-181 3067,-175 3067,-175 3067,-116 3067,-116 3067,-110 3073,-104 3079,-104 3079,-104 3207,-104 3207,-104 3213,-104 3219,-110 3219,-116 3219,-116 3219,-175 3219,-175 3219,-181 3213,-187 3207,-187\"/>\n<text text-anchor=\"start\" x=\"3075\" y=\"-171.8\" font-family=\"Helvetica,sans-Serif\" font-size=\"14.00\">VisceraWeight ≤ 0.143</text>\n<text text-anchor=\"start\" x=\"3107.5\" y=\"-156.8\" font-family=\"Helvetica,sans-Serif\" font-size=\"14.00\">gini = 0.539</text>\n<text text-anchor=\"start\" x=\"3102\" y=\"-141.8\" font-family=\"Helvetica,sans-Serif\" font-size=\"14.00\">samples = 16</text>\n<text text-anchor=\"start\" x=\"3092.5\" y=\"-126.8\" font-family=\"Helvetica,sans-Serif\" font-size=\"14.00\">value = [10, 3, 3]</text>\n<text text-anchor=\"start\" x=\"3115.5\" y=\"-111.8\" font-family=\"Helvetica,sans-Serif\" font-size=\"14.00\">class = T</text>\n</g>\n<!-- 41&#45;&gt;45 -->\n<g id=\"edge45\" class=\"edge\">\n<title>41&#45;&gt;45</title>\n<path fill=\"none\" stroke=\"black\" d=\"M2994.26,-227.44C3014.87,-216.23 3037.85,-203.72 3059.47,-191.95\"/>\n<polygon fill=\"black\" stroke=\"black\" points=\"3061.21,-194.99 3068.32,-187.14 3057.87,-188.84 3061.21,-194.99\"/>\n</g>\n<!-- 43 -->\n<g id=\"node44\" class=\"node\">\n<title>43</title>\n<path fill=\"#d1b7f6\" stroke=\"black\" d=\"M2919.5,-68C2919.5,-68 2818.5,-68 2818.5,-68 2812.5,-68 2806.5,-62 2806.5,-56 2806.5,-56 2806.5,-12 2806.5,-12 2806.5,-6 2812.5,0 2818.5,0 2818.5,0 2919.5,0 2919.5,0 2925.5,0 2931.5,-6 2931.5,-12 2931.5,-12 2931.5,-56 2931.5,-56 2931.5,-62 2925.5,-68 2919.5,-68\"/>\n<text text-anchor=\"start\" x=\"2833.5\" y=\"-52.8\" font-family=\"Helvetica,sans-Serif\" font-size=\"14.00\">gini = 0.544</text>\n<text text-anchor=\"start\" x=\"2828\" y=\"-37.8\" font-family=\"Helvetica,sans-Serif\" font-size=\"14.00\">samples = 95</text>\n<text text-anchor=\"start\" x=\"2814.5\" y=\"-22.8\" font-family=\"Helvetica,sans-Serif\" font-size=\"14.00\">value = [32, 8, 55]</text>\n<text text-anchor=\"start\" x=\"2841.5\" y=\"-7.8\" font-family=\"Helvetica,sans-Serif\" font-size=\"14.00\">class = p</text>\n</g>\n<!-- 42&#45;&gt;43 -->\n<g id=\"edge43\" class=\"edge\">\n<title>42&#45;&gt;43</title>\n<path fill=\"none\" stroke=\"black\" d=\"M2906.03,-103.73C2901.36,-95.06 2896.42,-85.9 2891.73,-77.18\"/>\n<polygon fill=\"black\" stroke=\"black\" points=\"2894.77,-75.44 2886.94,-68.3 2888.6,-78.76 2894.77,-75.44\"/>\n</g>\n<!-- 44 -->\n<g id=\"node45\" class=\"node\">\n<title>44</title>\n<path fill=\"#f3c6a5\" stroke=\"black\" d=\"M3054.5,-68C3054.5,-68 2961.5,-68 2961.5,-68 2955.5,-68 2949.5,-62 2949.5,-56 2949.5,-56 2949.5,-12 2949.5,-12 2949.5,-6 2955.5,0 2961.5,0 2961.5,0 3054.5,0 3054.5,0 3060.5,0 3066.5,-6 3066.5,-12 3066.5,-12 3066.5,-56 3066.5,-56 3066.5,-62 3060.5,-68 3054.5,-68\"/>\n<text text-anchor=\"start\" x=\"2972.5\" y=\"-52.8\" font-family=\"Helvetica,sans-Serif\" font-size=\"14.00\">gini = 0.508</text>\n<text text-anchor=\"start\" x=\"2967\" y=\"-37.8\" font-family=\"Helvetica,sans-Serif\" font-size=\"14.00\">samples = 16</text>\n<text text-anchor=\"start\" x=\"2957.5\" y=\"-22.8\" font-family=\"Helvetica,sans-Serif\" font-size=\"14.00\">value = [10, 1, 5]</text>\n<text text-anchor=\"start\" x=\"2980.5\" y=\"-7.8\" font-family=\"Helvetica,sans-Serif\" font-size=\"14.00\">class = T</text>\n</g>\n<!-- 42&#45;&gt;44 -->\n<g id=\"edge44\" class=\"edge\">\n<title>42&#45;&gt;44</title>\n<path fill=\"none\" stroke=\"black\" d=\"M2957.79,-103.73C2964.25,-94.88 2971.1,-85.51 2977.59,-76.63\"/>\n<polygon fill=\"black\" stroke=\"black\" points=\"2980.6,-78.44 2983.67,-68.3 2974.95,-74.31 2980.6,-78.44\"/>\n</g>\n<!-- 46 -->\n<g id=\"node47\" class=\"node\">\n<title>46</title>\n<path fill=\"#eeaf81\" stroke=\"black\" d=\"M3189.5,-68C3189.5,-68 3096.5,-68 3096.5,-68 3090.5,-68 3084.5,-62 3084.5,-56 3084.5,-56 3084.5,-12 3084.5,-12 3084.5,-6 3090.5,0 3096.5,0 3096.5,0 3189.5,0 3189.5,0 3195.5,0 3201.5,-6 3201.5,-12 3201.5,-12 3201.5,-56 3201.5,-56 3201.5,-62 3195.5,-68 3189.5,-68\"/>\n<text text-anchor=\"start\" x=\"3107.5\" y=\"-52.8\" font-family=\"Helvetica,sans-Serif\" font-size=\"14.00\">gini = 0.439</text>\n<text text-anchor=\"start\" x=\"3102\" y=\"-37.8\" font-family=\"Helvetica,sans-Serif\" font-size=\"14.00\">samples = 14</text>\n<text text-anchor=\"start\" x=\"3092.5\" y=\"-22.8\" font-family=\"Helvetica,sans-Serif\" font-size=\"14.00\">value = [10, 1, 3]</text>\n<text text-anchor=\"start\" x=\"3115.5\" y=\"-7.8\" font-family=\"Helvetica,sans-Serif\" font-size=\"14.00\">class = T</text>\n</g>\n<!-- 45&#45;&gt;46 -->\n<g id=\"edge46\" class=\"edge\">\n<title>45&#45;&gt;46</title>\n<path fill=\"none\" stroke=\"black\" d=\"M3143,-103.73C3143,-95.52 3143,-86.86 3143,-78.56\"/>\n<polygon fill=\"black\" stroke=\"black\" points=\"3146.5,-78.3 3143,-68.3 3139.5,-78.3 3146.5,-78.3\"/>\n</g>\n<!-- 47 -->\n<g id=\"node48\" class=\"node\">\n<title>47</title>\n<path fill=\"#39e581\" stroke=\"black\" d=\"M3318,-68C3318,-68 3232,-68 3232,-68 3226,-68 3220,-62 3220,-56 3220,-56 3220,-12 3220,-12 3220,-6 3226,0 3232,0 3232,0 3318,0 3318,0 3324,0 3330,-6 3330,-12 3330,-12 3330,-56 3330,-56 3330,-62 3324,-68 3318,-68\"/>\n<text text-anchor=\"start\" x=\"3247\" y=\"-52.8\" font-family=\"Helvetica,sans-Serif\" font-size=\"14.00\">gini = 0.0</text>\n<text text-anchor=\"start\" x=\"3237.5\" y=\"-37.8\" font-family=\"Helvetica,sans-Serif\" font-size=\"14.00\">samples = 2</text>\n<text text-anchor=\"start\" x=\"3228\" y=\"-22.8\" font-family=\"Helvetica,sans-Serif\" font-size=\"14.00\">value = [0, 2, 0]</text>\n<text text-anchor=\"start\" x=\"3248\" y=\"-7.8\" font-family=\"Helvetica,sans-Serif\" font-size=\"14.00\">class = y</text>\n</g>\n<!-- 45&#45;&gt;47 -->\n<g id=\"edge47\" class=\"edge\">\n<title>45&#45;&gt;47</title>\n<path fill=\"none\" stroke=\"black\" d=\"M3192.15,-103.73C3203.59,-94.24 3215.74,-84.16 3227.12,-74.72\"/>\n<polygon fill=\"black\" stroke=\"black\" points=\"3229.4,-77.38 3234.86,-68.3 3224.93,-71.99 3229.4,-77.38\"/>\n</g>\n<!-- 49 -->\n<g id=\"node50\" class=\"node\">\n<title>49</title>\n<path fill=\"#fdfbff\" stroke=\"black\" d=\"M3719.5,-306C3719.5,-306 3596.5,-306 3596.5,-306 3590.5,-306 3584.5,-300 3584.5,-294 3584.5,-294 3584.5,-235 3584.5,-235 3584.5,-229 3590.5,-223 3596.5,-223 3596.5,-223 3719.5,-223 3719.5,-223 3725.5,-223 3731.5,-229 3731.5,-235 3731.5,-235 3731.5,-294 3731.5,-294 3731.5,-300 3725.5,-306 3719.5,-306\"/>\n<text text-anchor=\"start\" x=\"3605.5\" y=\"-290.8\" font-family=\"Helvetica,sans-Serif\" font-size=\"14.00\">Diameter ≤ 1.256</text>\n<text text-anchor=\"start\" x=\"3622.5\" y=\"-275.8\" font-family=\"Helvetica,sans-Serif\" font-size=\"14.00\">gini = 0.543</text>\n<text text-anchor=\"start\" x=\"3609.5\" y=\"-260.8\" font-family=\"Helvetica,sans-Serif\" font-size=\"14.00\">samples = 1129</text>\n<text text-anchor=\"start\" x=\"3592.5\" y=\"-245.8\" font-family=\"Helvetica,sans-Serif\" font-size=\"14.00\">value = [533, 52, 544]</text>\n<text text-anchor=\"start\" x=\"3630.5\" y=\"-230.8\" font-family=\"Helvetica,sans-Serif\" font-size=\"14.00\">class = p</text>\n</g>\n<!-- 48&#45;&gt;49 -->\n<g id=\"edge49\" class=\"edge\">\n<title>48&#45;&gt;49</title>\n<path fill=\"none\" stroke=\"black\" d=\"M3658,-341.91C3658,-333.65 3658,-324.86 3658,-316.3\"/>\n<polygon fill=\"black\" stroke=\"black\" points=\"3661.5,-316.02 3658,-306.02 3654.5,-316.02 3661.5,-316.02\"/>\n</g>\n<!-- 56 -->\n<g id=\"node57\" class=\"node\">\n<title>56</title>\n<path fill=\"#b184ef\" stroke=\"black\" d=\"M4114.5,-306C4114.5,-306 4013.5,-306 4013.5,-306 4007.5,-306 4001.5,-300 4001.5,-294 4001.5,-294 4001.5,-235 4001.5,-235 4001.5,-229 4007.5,-223 4013.5,-223 4013.5,-223 4114.5,-223 4114.5,-223 4120.5,-223 4126.5,-229 4126.5,-235 4126.5,-235 4126.5,-294 4126.5,-294 4126.5,-300 4120.5,-306 4114.5,-306\"/>\n<text text-anchor=\"start\" x=\"4020\" y=\"-290.8\" font-family=\"Helvetica,sans-Serif\" font-size=\"14.00\">Height ≤ 1.386</text>\n<text text-anchor=\"start\" x=\"4036\" y=\"-275.8\" font-family=\"Helvetica,sans-Serif\" font-size=\"14.00\">gini = 0.4</text>\n<text text-anchor=\"start\" x=\"4023\" y=\"-260.8\" font-family=\"Helvetica,sans-Serif\" font-size=\"14.00\">samples = 58</text>\n<text text-anchor=\"start\" x=\"4009.5\" y=\"-245.8\" font-family=\"Helvetica,sans-Serif\" font-size=\"14.00\">value = [16, 0, 42]</text>\n<text text-anchor=\"start\" x=\"4036.5\" y=\"-230.8\" font-family=\"Helvetica,sans-Serif\" font-size=\"14.00\">class = p</text>\n</g>\n<!-- 48&#45;&gt;56 -->\n<g id=\"edge56\" class=\"edge\">\n<title>48&#45;&gt;56</title>\n<path fill=\"none\" stroke=\"black\" d=\"M3738.21,-359.38C3811.93,-338.14 3920.25,-306.92 3991.45,-286.41\"/>\n<polygon fill=\"black\" stroke=\"black\" points=\"3992.6,-289.72 4001.24,-283.59 3990.66,-282.99 3992.6,-289.72\"/>\n</g>\n<!-- 50 -->\n<g id=\"node51\" class=\"node\">\n<title>50</title>\n<path fill=\"#f4edfd\" stroke=\"black\" d=\"M3637.5,-187C3637.5,-187 3514.5,-187 3514.5,-187 3508.5,-187 3502.5,-181 3502.5,-175 3502.5,-175 3502.5,-116 3502.5,-116 3502.5,-110 3508.5,-104 3514.5,-104 3514.5,-104 3637.5,-104 3637.5,-104 3643.5,-104 3649.5,-110 3649.5,-116 3649.5,-116 3649.5,-175 3649.5,-175 3649.5,-181 3643.5,-187 3637.5,-187\"/>\n<text text-anchor=\"start\" x=\"3511.5\" y=\"-171.8\" font-family=\"Helvetica,sans-Serif\" font-size=\"14.00\">VisceraWeight ≤ 0.33</text>\n<text text-anchor=\"start\" x=\"3540.5\" y=\"-156.8\" font-family=\"Helvetica,sans-Serif\" font-size=\"14.00\">gini = 0.547</text>\n<text text-anchor=\"start\" x=\"3531\" y=\"-141.8\" font-family=\"Helvetica,sans-Serif\" font-size=\"14.00\">samples = 969</text>\n<text text-anchor=\"start\" x=\"3510.5\" y=\"-126.8\" font-family=\"Helvetica,sans-Serif\" font-size=\"14.00\">value = [435, 51, 483]</text>\n<text text-anchor=\"start\" x=\"3548.5\" y=\"-111.8\" font-family=\"Helvetica,sans-Serif\" font-size=\"14.00\">class = p</text>\n</g>\n<!-- 49&#45;&gt;50 -->\n<g id=\"edge50\" class=\"edge\">\n<title>49&#45;&gt;50</title>\n<path fill=\"none\" stroke=\"black\" d=\"M3629.55,-222.91C3623.32,-214.01 3616.66,-204.51 3610.22,-195.33\"/>\n<polygon fill=\"black\" stroke=\"black\" points=\"3613,-193.2 3604.4,-187.02 3607.27,-197.22 3613,-193.2\"/>\n</g>\n<!-- 53 -->\n<g id=\"node54\" class=\"node\">\n<title>53</title>\n<path fill=\"#f5d0b5\" stroke=\"black\" d=\"M3798.5,-187C3798.5,-187 3679.5,-187 3679.5,-187 3673.5,-187 3667.5,-181 3667.5,-175 3667.5,-175 3667.5,-116 3667.5,-116 3667.5,-110 3673.5,-104 3679.5,-104 3679.5,-104 3798.5,-104 3798.5,-104 3804.5,-104 3810.5,-110 3810.5,-116 3810.5,-116 3810.5,-175 3810.5,-175 3810.5,-181 3804.5,-187 3798.5,-187\"/>\n<text text-anchor=\"start\" x=\"3675.5\" y=\"-171.8\" font-family=\"Helvetica,sans-Serif\" font-size=\"14.00\">LongestShell ≤ 1.903</text>\n<text text-anchor=\"start\" x=\"3703.5\" y=\"-156.8\" font-family=\"Helvetica,sans-Serif\" font-size=\"14.00\">gini = 0.479</text>\n<text text-anchor=\"start\" x=\"3694\" y=\"-141.8\" font-family=\"Helvetica,sans-Serif\" font-size=\"14.00\">samples = 160</text>\n<text text-anchor=\"start\" x=\"3684.5\" y=\"-126.8\" font-family=\"Helvetica,sans-Serif\" font-size=\"14.00\">value = [98, 1, 61]</text>\n<text text-anchor=\"start\" x=\"3711.5\" y=\"-111.8\" font-family=\"Helvetica,sans-Serif\" font-size=\"14.00\">class = T</text>\n</g>\n<!-- 49&#45;&gt;53 -->\n<g id=\"edge53\" class=\"edge\">\n<title>49&#45;&gt;53</title>\n<path fill=\"none\" stroke=\"black\" d=\"M3686.1,-222.91C3692.26,-214.01 3698.84,-204.51 3705.19,-195.33\"/>\n<polygon fill=\"black\" stroke=\"black\" points=\"3708.13,-197.24 3710.95,-187.02 3702.38,-193.25 3708.13,-197.24\"/>\n</g>\n<!-- 51 -->\n<g id=\"node52\" class=\"node\">\n<title>51</title>\n<path fill=\"#d9c3f7\" stroke=\"black\" d=\"M3476,-68C3476,-68 3360,-68 3360,-68 3354,-68 3348,-62 3348,-56 3348,-56 3348,-12 3348,-12 3348,-6 3354,0 3360,0 3360,0 3476,0 3476,0 3482,0 3488,-6 3488,-12 3488,-12 3488,-56 3488,-56 3488,-62 3482,-68 3476,-68\"/>\n<text text-anchor=\"start\" x=\"3382.5\" y=\"-52.8\" font-family=\"Helvetica,sans-Serif\" font-size=\"14.00\">gini = 0.554</text>\n<text text-anchor=\"start\" x=\"3373\" y=\"-37.8\" font-family=\"Helvetica,sans-Serif\" font-size=\"14.00\">samples = 180</text>\n<text text-anchor=\"start\" x=\"3356\" y=\"-22.8\" font-family=\"Helvetica,sans-Serif\" font-size=\"14.00\">value = [65, 15, 100]</text>\n<text text-anchor=\"start\" x=\"3390.5\" y=\"-7.8\" font-family=\"Helvetica,sans-Serif\" font-size=\"14.00\">class = p</text>\n</g>\n<!-- 50&#45;&gt;51 -->\n<g id=\"edge51\" class=\"edge\">\n<title>50&#45;&gt;51</title>\n<path fill=\"none\" stroke=\"black\" d=\"M3517.17,-103.73C3503.14,-94.01 3488.21,-83.66 3474.31,-74.02\"/>\n<polygon fill=\"black\" stroke=\"black\" points=\"3476.01,-70.94 3465.8,-68.13 3472.02,-76.7 3476.01,-70.94\"/>\n</g>\n<!-- 52 -->\n<g id=\"node53\" class=\"node\">\n<title>52</title>\n<path fill=\"#fbf9fe\" stroke=\"black\" d=\"M3641.5,-68C3641.5,-68 3518.5,-68 3518.5,-68 3512.5,-68 3506.5,-62 3506.5,-56 3506.5,-56 3506.5,-12 3506.5,-12 3506.5,-6 3512.5,0 3518.5,0 3518.5,0 3641.5,0 3641.5,0 3647.5,0 3653.5,-6 3653.5,-12 3653.5,-12 3653.5,-56 3653.5,-56 3653.5,-62 3647.5,-68 3641.5,-68\"/>\n<text text-anchor=\"start\" x=\"3544.5\" y=\"-52.8\" font-family=\"Helvetica,sans-Serif\" font-size=\"14.00\">gini = 0.542</text>\n<text text-anchor=\"start\" x=\"3535\" y=\"-37.8\" font-family=\"Helvetica,sans-Serif\" font-size=\"14.00\">samples = 789</text>\n<text text-anchor=\"start\" x=\"3514.5\" y=\"-22.8\" font-family=\"Helvetica,sans-Serif\" font-size=\"14.00\">value = [370, 36, 383]</text>\n<text text-anchor=\"start\" x=\"3552.5\" y=\"-7.8\" font-family=\"Helvetica,sans-Serif\" font-size=\"14.00\">class = p</text>\n</g>\n<!-- 50&#45;&gt;52 -->\n<g id=\"edge52\" class=\"edge\">\n<title>50&#45;&gt;52</title>\n<path fill=\"none\" stroke=\"black\" d=\"M3577.49,-103.73C3577.79,-95.52 3578.11,-86.86 3578.41,-78.56\"/>\n<polygon fill=\"black\" stroke=\"black\" points=\"3581.92,-78.42 3578.78,-68.3 3574.92,-78.17 3581.92,-78.42\"/>\n</g>\n<!-- 54 -->\n<g id=\"node55\" class=\"node\">\n<title>54</title>\n<path fill=\"#f4caab\" stroke=\"black\" d=\"M3784.5,-68C3784.5,-68 3683.5,-68 3683.5,-68 3677.5,-68 3671.5,-62 3671.5,-56 3671.5,-56 3671.5,-12 3671.5,-12 3671.5,-6 3677.5,0 3683.5,0 3683.5,0 3784.5,0 3784.5,0 3790.5,0 3796.5,-6 3796.5,-12 3796.5,-12 3796.5,-56 3796.5,-56 3796.5,-62 3790.5,-68 3784.5,-68\"/>\n<text text-anchor=\"start\" x=\"3702\" y=\"-52.8\" font-family=\"Helvetica,sans-Serif\" font-size=\"14.00\">gini = 0.47</text>\n<text text-anchor=\"start\" x=\"3689\" y=\"-37.8\" font-family=\"Helvetica,sans-Serif\" font-size=\"14.00\">samples = 155</text>\n<text text-anchor=\"start\" x=\"3679.5\" y=\"-22.8\" font-family=\"Helvetica,sans-Serif\" font-size=\"14.00\">value = [98, 1, 56]</text>\n<text text-anchor=\"start\" x=\"3706.5\" y=\"-7.8\" font-family=\"Helvetica,sans-Serif\" font-size=\"14.00\">class = T</text>\n</g>\n<!-- 53&#45;&gt;54 -->\n<g id=\"edge54\" class=\"edge\">\n<title>53&#45;&gt;54</title>\n<path fill=\"none\" stroke=\"black\" d=\"M3737.14,-103.73C3736.76,-95.52 3736.37,-86.86 3735.99,-78.56\"/>\n<polygon fill=\"black\" stroke=\"black\" points=\"3739.47,-78.13 3735.52,-68.3 3732.48,-78.45 3739.47,-78.13\"/>\n</g>\n<!-- 55 -->\n<g id=\"node56\" class=\"node\">\n<title>55</title>\n<path fill=\"#8139e5\" stroke=\"black\" d=\"M3913,-68C3913,-68 3827,-68 3827,-68 3821,-68 3815,-62 3815,-56 3815,-56 3815,-12 3815,-12 3815,-6 3821,0 3827,0 3827,0 3913,0 3913,0 3919,0 3925,-6 3925,-12 3925,-12 3925,-56 3925,-56 3925,-62 3919,-68 3913,-68\"/>\n<text text-anchor=\"start\" x=\"3842\" y=\"-52.8\" font-family=\"Helvetica,sans-Serif\" font-size=\"14.00\">gini = 0.0</text>\n<text text-anchor=\"start\" x=\"3832.5\" y=\"-37.8\" font-family=\"Helvetica,sans-Serif\" font-size=\"14.00\">samples = 5</text>\n<text text-anchor=\"start\" x=\"3823\" y=\"-22.8\" font-family=\"Helvetica,sans-Serif\" font-size=\"14.00\">value = [0, 0, 5]</text>\n<text text-anchor=\"start\" x=\"3842.5\" y=\"-7.8\" font-family=\"Helvetica,sans-Serif\" font-size=\"14.00\">class = p</text>\n</g>\n<!-- 53&#45;&gt;55 -->\n<g id=\"edge55\" class=\"edge\">\n<title>53&#45;&gt;55</title>\n<path fill=\"none\" stroke=\"black\" d=\"M3787.78,-103.73C3799.13,-94.24 3811.19,-84.16 3822.49,-74.72\"/>\n<polygon fill=\"black\" stroke=\"black\" points=\"3824.73,-77.4 3830.16,-68.3 3820.24,-72.03 3824.73,-77.4\"/>\n</g>\n<!-- 57 -->\n<g id=\"node58\" class=\"node\">\n<title>57</title>\n<path fill=\"#8d4ce7\" stroke=\"black\" d=\"M4110.5,-187C4110.5,-187 4017.5,-187 4017.5,-187 4011.5,-187 4005.5,-181 4005.5,-175 4005.5,-175 4005.5,-116 4005.5,-116 4005.5,-110 4011.5,-104 4017.5,-104 4017.5,-104 4110.5,-104 4110.5,-104 4116.5,-104 4122.5,-110 4122.5,-116 4122.5,-116 4122.5,-175 4122.5,-175 4122.5,-181 4116.5,-187 4110.5,-187\"/>\n<text text-anchor=\"start\" x=\"4020\" y=\"-171.8\" font-family=\"Helvetica,sans-Serif\" font-size=\"14.00\">Height ≤ 0.789</text>\n<text text-anchor=\"start\" x=\"4028.5\" y=\"-156.8\" font-family=\"Helvetica,sans-Serif\" font-size=\"14.00\">gini = 0.159</text>\n<text text-anchor=\"start\" x=\"4023\" y=\"-141.8\" font-family=\"Helvetica,sans-Serif\" font-size=\"14.00\">samples = 23</text>\n<text text-anchor=\"start\" x=\"4013.5\" y=\"-126.8\" font-family=\"Helvetica,sans-Serif\" font-size=\"14.00\">value = [2, 0, 21]</text>\n<text text-anchor=\"start\" x=\"4036.5\" y=\"-111.8\" font-family=\"Helvetica,sans-Serif\" font-size=\"14.00\">class = p</text>\n</g>\n<!-- 56&#45;&gt;57 -->\n<g id=\"edge57\" class=\"edge\">\n<title>56&#45;&gt;57</title>\n<path fill=\"none\" stroke=\"black\" d=\"M4064,-222.91C4064,-214.65 4064,-205.86 4064,-197.3\"/>\n<polygon fill=\"black\" stroke=\"black\" points=\"4067.5,-197.02 4064,-187.02 4060.5,-197.02 4067.5,-197.02\"/>\n</g>\n<!-- 60 -->\n<g id=\"node61\" class=\"node\">\n<title>60</title>\n<path fill=\"#d5bdf6\" stroke=\"black\" d=\"M4319.5,-187C4319.5,-187 4218.5,-187 4218.5,-187 4212.5,-187 4206.5,-181 4206.5,-175 4206.5,-175 4206.5,-116 4206.5,-116 4206.5,-110 4212.5,-104 4218.5,-104 4218.5,-104 4319.5,-104 4319.5,-104 4325.5,-104 4331.5,-110 4331.5,-116 4331.5,-116 4331.5,-175 4331.5,-175 4331.5,-181 4325.5,-187 4319.5,-187\"/>\n<text text-anchor=\"start\" x=\"4216.5\" y=\"-171.8\" font-family=\"Helvetica,sans-Serif\" font-size=\"14.00\">Diameter ≤ 2.012</text>\n<text text-anchor=\"start\" x=\"4237\" y=\"-156.8\" font-family=\"Helvetica,sans-Serif\" font-size=\"14.00\">gini = 0.48</text>\n<text text-anchor=\"start\" x=\"4228\" y=\"-141.8\" font-family=\"Helvetica,sans-Serif\" font-size=\"14.00\">samples = 35</text>\n<text text-anchor=\"start\" x=\"4214.5\" y=\"-126.8\" font-family=\"Helvetica,sans-Serif\" font-size=\"14.00\">value = [14, 0, 21]</text>\n<text text-anchor=\"start\" x=\"4241.5\" y=\"-111.8\" font-family=\"Helvetica,sans-Serif\" font-size=\"14.00\">class = p</text>\n</g>\n<!-- 56&#45;&gt;60 -->\n<g id=\"edge60\" class=\"edge\">\n<title>56&#45;&gt;60</title>\n<path fill=\"none\" stroke=\"black\" d=\"M4126.62,-227.76C4149.07,-214.95 4174.54,-200.41 4197.67,-187.21\"/>\n<polygon fill=\"black\" stroke=\"black\" points=\"4199.46,-190.22 4206.41,-182.22 4195.99,-184.14 4199.46,-190.22\"/>\n</g>\n<!-- 58 -->\n<g id=\"node59\" class=\"node\">\n<title>58</title>\n<path fill=\"#e58139\" stroke=\"black\" d=\"M4041,-68C4041,-68 3955,-68 3955,-68 3949,-68 3943,-62 3943,-56 3943,-56 3943,-12 3943,-12 3943,-6 3949,0 3955,0 3955,0 4041,0 4041,0 4047,0 4053,-6 4053,-12 4053,-12 4053,-56 4053,-56 4053,-62 4047,-68 4041,-68\"/>\n<text text-anchor=\"start\" x=\"3970\" y=\"-52.8\" font-family=\"Helvetica,sans-Serif\" font-size=\"14.00\">gini = 0.0</text>\n<text text-anchor=\"start\" x=\"3960.5\" y=\"-37.8\" font-family=\"Helvetica,sans-Serif\" font-size=\"14.00\">samples = 1</text>\n<text text-anchor=\"start\" x=\"3951\" y=\"-22.8\" font-family=\"Helvetica,sans-Serif\" font-size=\"14.00\">value = [1, 0, 0]</text>\n<text text-anchor=\"start\" x=\"3970.5\" y=\"-7.8\" font-family=\"Helvetica,sans-Serif\" font-size=\"14.00\">class = T</text>\n</g>\n<!-- 57&#45;&gt;58 -->\n<g id=\"edge58\" class=\"edge\">\n<title>57&#45;&gt;58</title>\n<path fill=\"none\" stroke=\"black\" d=\"M4039.42,-103.73C4034.15,-94.97 4028.56,-85.7 4023.26,-76.91\"/>\n<polygon fill=\"black\" stroke=\"black\" points=\"4026.23,-75.06 4018.07,-68.3 4020.24,-78.67 4026.23,-75.06\"/>\n</g>\n<!-- 59 -->\n<g id=\"node60\" class=\"node\">\n<title>59</title>\n<path fill=\"#8742e6\" stroke=\"black\" d=\"M4176.5,-68C4176.5,-68 4083.5,-68 4083.5,-68 4077.5,-68 4071.5,-62 4071.5,-56 4071.5,-56 4071.5,-12 4071.5,-12 4071.5,-6 4077.5,0 4083.5,0 4083.5,0 4176.5,0 4176.5,0 4182.5,0 4188.5,-6 4188.5,-12 4188.5,-12 4188.5,-56 4188.5,-56 4188.5,-62 4182.5,-68 4176.5,-68\"/>\n<text text-anchor=\"start\" x=\"4094.5\" y=\"-52.8\" font-family=\"Helvetica,sans-Serif\" font-size=\"14.00\">gini = 0.087</text>\n<text text-anchor=\"start\" x=\"4089\" y=\"-37.8\" font-family=\"Helvetica,sans-Serif\" font-size=\"14.00\">samples = 22</text>\n<text text-anchor=\"start\" x=\"4079.5\" y=\"-22.8\" font-family=\"Helvetica,sans-Serif\" font-size=\"14.00\">value = [1, 0, 21]</text>\n<text text-anchor=\"start\" x=\"4102.5\" y=\"-7.8\" font-family=\"Helvetica,sans-Serif\" font-size=\"14.00\">class = p</text>\n</g>\n<!-- 57&#45;&gt;59 -->\n<g id=\"edge59\" class=\"edge\">\n<title>57&#45;&gt;59</title>\n<path fill=\"none\" stroke=\"black\" d=\"M4088.58,-103.73C4093.85,-94.97 4099.44,-85.7 4104.74,-76.91\"/>\n<polygon fill=\"black\" stroke=\"black\" points=\"4107.76,-78.67 4109.93,-68.3 4101.77,-75.06 4107.76,-78.67\"/>\n</g>\n<!-- 61 -->\n<g id=\"node62\" class=\"node\">\n<title>61</title>\n<path fill=\"#c09cf2\" stroke=\"black\" d=\"M4319.5,-68C4319.5,-68 4218.5,-68 4218.5,-68 4212.5,-68 4206.5,-62 4206.5,-56 4206.5,-56 4206.5,-12 4206.5,-12 4206.5,-6 4212.5,0 4218.5,0 4218.5,0 4319.5,0 4319.5,0 4325.5,0 4331.5,-6 4331.5,-12 4331.5,-12 4331.5,-56 4331.5,-56 4331.5,-62 4325.5,-68 4319.5,-68\"/>\n<text text-anchor=\"start\" x=\"4233.5\" y=\"-52.8\" font-family=\"Helvetica,sans-Serif\" font-size=\"14.00\">gini = 0.444</text>\n<text text-anchor=\"start\" x=\"4228\" y=\"-37.8\" font-family=\"Helvetica,sans-Serif\" font-size=\"14.00\">samples = 30</text>\n<text text-anchor=\"start\" x=\"4214.5\" y=\"-22.8\" font-family=\"Helvetica,sans-Serif\" font-size=\"14.00\">value = [10, 0, 20]</text>\n<text text-anchor=\"start\" x=\"4241.5\" y=\"-7.8\" font-family=\"Helvetica,sans-Serif\" font-size=\"14.00\">class = p</text>\n</g>\n<!-- 60&#45;&gt;61 -->\n<g id=\"edge61\" class=\"edge\">\n<title>60&#45;&gt;61</title>\n<path fill=\"none\" stroke=\"black\" d=\"M4269,-103.73C4269,-95.52 4269,-86.86 4269,-78.56\"/>\n<polygon fill=\"black\" stroke=\"black\" points=\"4272.5,-78.3 4269,-68.3 4265.5,-78.3 4272.5,-78.3\"/>\n</g>\n<!-- 62 -->\n<g id=\"node63\" class=\"node\">\n<title>62</title>\n<path fill=\"#eca06a\" stroke=\"black\" d=\"M4448,-68C4448,-68 4362,-68 4362,-68 4356,-68 4350,-62 4350,-56 4350,-56 4350,-12 4350,-12 4350,-6 4356,0 4362,0 4362,0 4448,0 4448,0 4454,0 4460,-6 4460,-12 4460,-12 4460,-56 4460,-56 4460,-62 4454,-68 4448,-68\"/>\n<text text-anchor=\"start\" x=\"4373\" y=\"-52.8\" font-family=\"Helvetica,sans-Serif\" font-size=\"14.00\">gini = 0.32</text>\n<text text-anchor=\"start\" x=\"4367.5\" y=\"-37.8\" font-family=\"Helvetica,sans-Serif\" font-size=\"14.00\">samples = 5</text>\n<text text-anchor=\"start\" x=\"4358\" y=\"-22.8\" font-family=\"Helvetica,sans-Serif\" font-size=\"14.00\">value = [4, 0, 1]</text>\n<text text-anchor=\"start\" x=\"4377.5\" y=\"-7.8\" font-family=\"Helvetica,sans-Serif\" font-size=\"14.00\">class = T</text>\n</g>\n<!-- 60&#45;&gt;62 -->\n<g id=\"edge62\" class=\"edge\">\n<title>60&#45;&gt;62</title>\n<path fill=\"none\" stroke=\"black\" d=\"M4319.64,-103.73C4331.42,-94.24 4343.95,-84.16 4355.67,-74.72\"/>\n<polygon fill=\"black\" stroke=\"black\" points=\"4358.05,-77.3 4363.64,-68.3 4353.66,-71.84 4358.05,-77.3\"/>\n</g>\n</g>\n</svg>\n",
            "text/plain": [
              "<graphviz.sources.Source at 0x7ee75f0a5ea0>"
            ]
          },
          "metadata": {}
        }
      ]
    },
    {
      "cell_type": "code",
      "source": [
        "# print to the output file\n",
        "print('**************************************************************', file = outputFile)\n",
        "print('(A) Classifier 2 - Top DT', file = outputFile)\n",
        "print(classifier_2, file = outputFile)\n",
        "print(f'best parameters: {classifier_2.best_params_}\\n', file = outputFile)\n",
        "print('\\n', file = outputFile)\n",
        "outputFile.flush()"
      ],
      "metadata": {
        "id": "o8yWMcL873FK"
      },
      "execution_count": 58,
      "outputs": []
    },
    {
      "cell_type": "code",
      "source": [
        "# print classification report\n",
        "y_pred = classifier_2.predict(X_test)\n",
        "confusion_mat= confusion_matrix(y_test, y_pred)\n",
        "\n",
        "print(classification_report(y_test, y_pred, target_names=['F', 'M', 'I']))\n",
        "print(\"confusion matrix\\n\",confusion_mat)\n",
        "\n",
        "# print the result to the output file\n",
        "confusion_matrix_result =np.array2string(confusion_mat)\n",
        "print(\"(B) Confusion Matrix\", file = outputFile)\n",
        "print(confusion_matrix_result, file = outputFile)\n",
        "print('\\n', file = outputFile)\n",
        "print('(C,D) Classification Report', file = outputFile)\n",
        "print(classification_report(y_test, y_pred, target_names = ['F', 'M', 'I']), file = outputFile)\n",
        "outputFile.flush()"
      ],
      "metadata": {
        "id": "v88y-qmq73OR",
        "outputId": "17a8978d-ad7c-4bd4-83e0-fea5536f6b09",
        "colab": {
          "base_uri": "https://localhost:8080/"
        }
      },
      "execution_count": 59,
      "outputs": [
        {
          "output_type": "stream",
          "name": "stdout",
          "text": [
            "              precision    recall  f1-score   support\n",
            "\n",
            "           F       0.44      0.18      0.26       390\n",
            "           M       0.70      0.77      0.73       410\n",
            "           I       0.48      0.67      0.56       454\n",
            "\n",
            "    accuracy                           0.55      1254\n",
            "   macro avg       0.54      0.54      0.52      1254\n",
            "weighted avg       0.54      0.55      0.52      1254\n",
            "\n",
            "confusion matrix\n",
            " [[ 72  51 267]\n",
            " [ 30 314  66]\n",
            " [ 63  85 306]]\n"
          ]
        }
      ]
    },
    {
      "cell_type": "code",
      "source": [
        "# repeat training & prediction 5 times for classifier 2\n",
        "from sklearn.metrics import accuracy_score, f1_score\n",
        "\n",
        "accuracy_baseDT = np.zeros(5)\n",
        "macro_avg_baseDT = np.zeros(5)\n",
        "weighted_avg_baseDT = np.zeros(5)\n",
        "\n",
        "for i in range(5):\n",
        "  X_train, X_test, y_train, y_test = train_test_split(X, y, test_size = 0.3)\n",
        "  classifier_2.fit(X_train, y_train)\n",
        "  y_pred = classifier_1.predict(X_test)\n",
        "\n",
        "  # find the accuracy for each iteration and store the value\n",
        "  accuracy_baseDT[i] = accuracy_score(y_test, y_pred)\n",
        "  macro_avg_baseDT[i] = f1_score(y_test, y_pred, average='macro')\n",
        "  weighted_avg_baseDT[i] = f1_score(y_test, y_pred, average='weighted')\n",
        "\n",
        "# compute the average accuracy & variances\n",
        "print(f'accuracy_baseDT: {accuracy_baseDT}')\n",
        "Avg_accuracy = (np.sum(accuracy_baseDT))/5\n",
        "accuracy_variance = np.var(accuracy_baseDT)\n",
        "print(f'average accuracy: {Avg_accuracy}, variance: {accuracy_variance}')\n",
        "\n",
        "# compute the average macro-average F1 & the variance\n",
        "print(f'macro_avg_baseDT: {macro_avg_baseDT}')\n",
        "Avg_macro_avg = (np.sum(macro_avg_baseDT))/5\n",
        "f1_macro_variance = np.var(macro_avg_baseDT)\n",
        "print(f'average macro-average F1: {Avg_macro_avg}, variance: {f1_macro_variance}')\n",
        "\n",
        "# compute the average weighted-average F1 & the variance\n",
        "print(f'weighted_avg_baseDT: {weighted_avg_baseDT}')\n",
        "Avg_weighted_avg = (np.sum(weighted_avg_baseDT))/5\n",
        "f1_weighted_variance = np.var(weighted_avg_baseDT)\n",
        "print(f'average weighted-average F1: {Avg_weighted_avg}, variance: {f1_weighted_variance}')"
      ],
      "metadata": {
        "colab": {
          "base_uri": "https://localhost:8080/"
        },
        "id": "ctr66poidV4P",
        "outputId": "b576a97e-b211-41f2-b4f8-45b6bb790d0f"
      },
      "execution_count": 60,
      "outputs": [
        {
          "output_type": "stream",
          "name": "stdout",
          "text": [
            "accuracy_baseDT: [0.53189793 0.55502392 0.53668262 0.55502392 0.55821372]\n",
            "average accuracy: 0.5473684210526315, variance: 0.00011767129873400306\n",
            "macro_avg_baseDT: [0.48444647 0.49469416 0.47537124 0.4974956  0.50590202]\n",
            "average macro-average F1: 0.49158190013688596, variance: 0.0001126847428001552\n",
            "weighted_avg_baseDT: [0.48585285 0.50741132 0.48837785 0.50497501 0.514916  ]\n",
            "average weighted-average F1: 0.500306605044407, variance: 0.00012738233061183603\n"
          ]
        }
      ]
    },
    {
      "cell_type": "code",
      "source": [
        "# print the performance result to outputfile\n",
        "print('\\n(E) The result after 5 times of train-test repetition:' ,file = outputFile)\n",
        "print(f'average accuracy: {Avg_accuracy}, variance: {accuracy_variance}', file = outputFile)\n",
        "print(f'average macro-average F1: {Avg_macro_avg}, variance: {f1_macro_variance}', file = outputFile)\n",
        "print(f'average weighted-average F1: {Avg_weighted_avg}, variance: {f1_weighted_variance}', file = outputFile)\n",
        "outputFile.flush()"
      ],
      "metadata": {
        "id": "x9YFP9uEdV62"
      },
      "execution_count": 61,
      "outputs": []
    },
    {
      "cell_type": "markdown",
      "source": [
        "##### Classifier 3 - Base-MLP"
      ],
      "metadata": {
        "id": "GQrsfw6Xm1nI"
      }
    },
    {
      "cell_type": "code",
      "source": [
        "#Train Classifier 3\n",
        "mlp_base_abalone = MLPClassifier(hidden_layer_sizes =(100, 100,), activation = 'logistic', solver = 'sgd')\n",
        "mlp_base_abalone.fit(X_train, y_train)\n",
        "\n",
        "#print to the output file\n",
        "print('**************************************************************', file = outputFile)\n",
        "print('(A) Classifier 3 - Base MLP', file = outputFile)\n",
        "print(mlp_base_abalone, file = outputFile)\n",
        "print('\\n', file = outputFile)"
      ],
      "metadata": {
        "id": "MiIPiod7m7qC"
      },
      "execution_count": 62,
      "outputs": []
    },
    {
      "cell_type": "markdown",
      "source": [
        "Metrics for Classifier 3"
      ],
      "metadata": {
        "id": "1TD8ynkGoZAP"
      }
    },
    {
      "cell_type": "code",
      "source": [
        "#predict with Base MLP\n",
        "y_pred_base_mlp = mlp_base_abalone.predict(X_test)\n",
        "\n",
        "#print the result here on notebook\n",
        "print(classification_report(y_test, y_pred_base_mlp, target_names = ['F', 'M', 'I']))\n",
        "print(confusion_matrix(y_test, y_pred_base_mlp))\n",
        "\n",
        "#print the result to the output file\n",
        "print(classification_report(y_test, y_pred_base_mlp, target_names = ['F', 'M', 'I']), file = outputFile)\n",
        "confusion_matrix_result = np.array2string(confusion_matrix(y_test, y_pred_base_mlp))\n",
        "print(confusion_matrix_result, file = outputFile)\n",
        "outputFile.flush()"
      ],
      "metadata": {
        "id": "coh8LE0bocLA",
        "outputId": "b7770272-9943-46a4-a0cd-4b128469ea44",
        "colab": {
          "base_uri": "https://localhost:8080/"
        }
      },
      "execution_count": 63,
      "outputs": [
        {
          "output_type": "stream",
          "name": "stdout",
          "text": [
            "              precision    recall  f1-score   support\n",
            "\n",
            "           F       0.43      0.09      0.15       384\n",
            "           M       0.64      0.79      0.71       401\n",
            "           I       0.46      0.67      0.55       469\n",
            "\n",
            "    accuracy                           0.53      1254\n",
            "   macro avg       0.51      0.52      0.47      1254\n",
            "weighted avg       0.51      0.53      0.48      1254\n",
            "\n",
            "[[ 34  68 282]\n",
            " [  0 317  84]\n",
            " [ 45 110 314]]\n"
          ]
        }
      ]
    },
    {
      "cell_type": "code",
      "source": [
        "MLP_base_train_test_repetition(X, y, outputFile, ['F', 'M', 'I'])"
      ],
      "metadata": {
        "id": "Ss7voSkYmhiK",
        "colab": {
          "base_uri": "https://localhost:8080/"
        },
        "outputId": "45c5182a-94ca-41c0-aef3-0a323017e978"
      },
      "execution_count": 64,
      "outputs": [
        {
          "output_type": "stream",
          "name": "stdout",
          "text": [
            "\n",
            "Base MLP Train-Test Repetition\n",
            "\n"
          ]
        }
      ]
    },
    {
      "cell_type": "markdown",
      "source": [
        "##### Classifier 4 - Top-MLP"
      ],
      "metadata": {
        "id": "okD7I5KHnODP"
      }
    },
    {
      "cell_type": "code",
      "source": [
        "#create grid for each hyperparamter we want to test\n",
        "activation_grid = np.array(['logistic', 'tanh', 'relu'])\n",
        "neurons_tuple_grid = np.array([(30, 50,), (10, 10, 10,)])\n",
        "solver_grid = np.array(['adam', 'sgd'])\n",
        "\n",
        "#create parameter grid for GridSearchCV\n",
        "param_grid = {'hidden_layer_sizes': neurons_tuple_grid, 'activation': activation_grid, 'solver': solver_grid}\n",
        "\n",
        "#create grid cv object and search\n",
        "mlp_top_abalone = MLPClassifier()\n",
        "gridcv = sk.model_selection.GridSearchCV(mlp_top_abalone, param_grid = param_grid)\n",
        "gridcv.fit(X_train, y_train)\n",
        "\n",
        "#print the result here on notebook\n",
        "print(f'best parameters: {gridcv.best_params_}')\n",
        "\n",
        "#print the result to the output file\n",
        "print('**************************************************************', file = outputFile)\n",
        "print('(A) Classifier 4 - Top MLP', file = outputFile)\n",
        "print(f'best parameters: {gridcv.best_params_}\\n', file = outputFile)\n",
        "outputFile.flush()"
      ],
      "metadata": {
        "id": "mphIulW3nREP",
        "outputId": "728f9213-68a3-4d80-e9e9-ea51c6a3db4a",
        "colab": {
          "base_uri": "https://localhost:8080/"
        }
      },
      "execution_count": 68,
      "outputs": [
        {
          "output_type": "stream",
          "name": "stdout",
          "text": [
            "best parameters: {'activation': 'tanh', 'hidden_layer_sizes': (30, 50), 'solver': 'adam'}\n"
          ]
        }
      ]
    },
    {
      "cell_type": "markdown",
      "source": [
        "Metrics for Classifier 4"
      ],
      "metadata": {
        "id": "PXrrvETEpQNZ"
      }
    },
    {
      "cell_type": "code",
      "source": [
        "y_pred_top_mlp = gridcv.best_estimator_.predict(X_test)\n",
        "print(classification_report(y_test, y_pred_top_mlp, target_names = ['F', 'M', 'I']))\n",
        "print(confusion_matrix(y_test, y_pred_top_mlp))\n",
        "\n",
        "print(classification_report(y_test, y_pred_top_mlp, target_names = ['F', 'M', 'I']), file = outputFile)\n",
        "confusion_matrix_result = np.array2string(confusion_matrix(y_test, y_pred_top_mlp))\n",
        "print(confusion_matrix_result, file = outputFile)\n",
        "outputFile.flush()"
      ],
      "metadata": {
        "id": "KbwAcoZLpSQW",
        "outputId": "d69c7816-2578-456d-e137-00908d9837fd",
        "colab": {
          "base_uri": "https://localhost:8080/"
        }
      },
      "execution_count": 69,
      "outputs": [
        {
          "output_type": "stream",
          "name": "stdout",
          "text": [
            "              precision    recall  f1-score   support\n",
            "\n",
            "           F       0.43      0.42      0.42       384\n",
            "           M       0.71      0.80      0.75       401\n",
            "           I       0.48      0.44      0.46       469\n",
            "\n",
            "    accuracy                           0.55      1254\n",
            "   macro avg       0.54      0.55      0.54      1254\n",
            "weighted avg       0.54      0.55      0.54      1254\n",
            "\n",
            "[[160  47 177]\n",
            " [ 33 320  48]\n",
            " [177  86 206]]\n"
          ]
        }
      ]
    },
    {
      "cell_type": "code",
      "source": [
        "MLP_top_train_test_repetition(param_grid, X, y, outputFile, ['F', 'M', 'I'])"
      ],
      "metadata": {
        "id": "gTPJwcXCnwYK"
      },
      "execution_count": 70,
      "outputs": []
    },
    {
      "cell_type": "code",
      "source": [
        "outputFile.close()"
      ],
      "metadata": {
        "id": "4AxS7Io7pFta"
      },
      "execution_count": 71,
      "outputs": []
    }
  ]
}