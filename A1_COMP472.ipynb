{
  "nbformat": 4,
  "nbformat_minor": 0,
  "metadata": {
    "colab": {
      "provenance": [],
      "collapsed_sections": [
        "n3GMoC3wzPte"
      ],
      "include_colab_link": true
    },
    "kernelspec": {
      "name": "python3",
      "display_name": "Python 3"
    },
    "language_info": {
      "name": "python"
    }
  },
  "cells": [
    {
      "cell_type": "markdown",
      "metadata": {
        "id": "view-in-github",
        "colab_type": "text"
      },
      "source": [
        "<a href=\"https://colab.research.google.com/github/suinkangme/A1_COMP472/blob/main/A1_COMP472.ipynb\" target=\"_parent\"><img src=\"https://colab.research.google.com/assets/colab-badge.svg\" alt=\"Open In Colab\"/></a>"
      ]
    },
    {
      "cell_type": "markdown",
      "source": [
        "# A1 - COMP 472\n",
        "\n",
        "Hyun Soo Kim 40174913\n",
        "\n",
        "Suin Kang 40129337"
      ],
      "metadata": {
        "id": "OuS04gqWrlBb"
      }
    },
    {
      "cell_type": "code",
      "source": [
        "import pandas as pd\n",
        "import sklearn as sk\n",
        "import numpy as np\n",
        "import matplotlib.pyplot as plt\n",
        "import seaborn as sns\n",
        "import graphviz\n",
        "from sklearn.metrics import classification_report\n",
        "from sklearn.metrics import confusion_matrix\n",
        "import warnings\n",
        "from sklearn.neural_network import MLPClassifier"
      ],
      "metadata": {
        "id": "plbuWv54rsMP"
      },
      "execution_count": 107,
      "outputs": []
    },
    {
      "cell_type": "markdown",
      "source": [
        "### Import the MyDrive library from CoLab"
      ],
      "metadata": {
        "id": "n3GMoC3wzPte"
      }
    },
    {
      "cell_type": "code",
      "source": [
        "from google.colab import drive\n",
        "drive.mount('/content/drive')\n",
        "\n",
        "# the directory owns this notebook and dataset\n",
        "import os\n",
        "os.chdir('/content/drive/MyDrive/comp472/')"
      ],
      "metadata": {
        "id": "QM05GBSaoZIy",
        "colab": {
          "base_uri": "https://localhost:8080/"
        },
        "outputId": "2f31c07a-a3ba-476e-db57-05eb11d21a47"
      },
      "execution_count": 108,
      "outputs": [
        {
          "output_type": "stream",
          "name": "stdout",
          "text": [
            "Drive already mounted at /content/drive; to attempt to forcibly remount, call drive.mount(\"/content/drive\", force_remount=True).\n"
          ]
        }
      ]
    },
    {
      "cell_type": "markdown",
      "source": [
        "### Definition of train-test-repetition function\n",
        "- For Classifier 3 & 4"
      ],
      "metadata": {
        "id": "UQWo18d_G_Au"
      }
    },
    {
      "cell_type": "code",
      "source": [
        "def MLP_base_train_test_repetition(X, y, outputFile, target_names):\n",
        "  accuracy = []\n",
        "  macro_avg = []\n",
        "  weighted_avg = []\n",
        "\n",
        "  print(\"\\nBase MLP Train-Test Repetition\\n\", file = outputFile)\n",
        "\n",
        "  #repeat 5 times\n",
        "  for i in range (0,5):\n",
        "\n",
        "    #data is shuffled and scaled every time\n",
        "    X_train, X_test, y_train, y_test = train_test_split(X, y)\n",
        "    sc = StandardScaler()\n",
        "    X_train = sc.fit_transform(X_train)\n",
        "    X_test = sc.transform(X_test)\n",
        "\n",
        "    #base MLP\n",
        "    #initialize new model with same hyperparameters\n",
        "    model = MLPClassifier(hidden_layer_sizes = (100, 100,), activation = 'logistic', solver = 'sgd')\n",
        "\n",
        "    #train and predict\n",
        "    model.fit(X_train, y_train)\n",
        "    y_pred = model.predict(X_test)\n",
        "\n",
        "    #for average accuracy / macro-average f1 score / weighted-average f1 score and variance calculation\n",
        "    output = classification_report(y_test, y_pred, target_names = target_names, output_dict = True)\n",
        "    accuracy.append(output['accuracy'])\n",
        "    macro_avg.append(output['macro avg']['f1-score'])\n",
        "    weighted_avg.append(output['weighted avg']['f1-score'])\n",
        "\n",
        "    #print to text file. This would make it easier to validate the result of each model\n",
        "    print(f'=== Iteration {i+1} === ', file = outputFile)\n",
        "    print(f\"(A) {model}\\n\", file = outputFile)\n",
        "    print(\"(B) Confusion Matrix\", file = outputFile)\n",
        "    confusion_matrix_result = confusion_matrix(y_test, y_pred)\n",
        "    print(confusion_matrix_result, file = outputFile)\n",
        "\n",
        "    print(\"\\n(C,D) Classification Report\", file = outputFile)\n",
        "    print(classification_report(y_test, y_pred, target_names = target_names), file =outputFile)\n",
        "\n",
        "  #append the calculation in the report\n",
        "  print('(E) The result after 5 times of train-test repetition:' ,file = outputFile)\n",
        "  print(f'\\tThe average accuracy / variance: {np.mean(accuracy): 6.4f}, {np.var(accuracy): 6.6f}', file = outputFile)\n",
        "  print(f'\\tThe average macro-average f1 score / variance: {np.mean(macro_avg): 6.4f}, {np.var(macro_avg): 6.6f}', file = outputFile)\n",
        "  print(f'\\tThe average weighted-average f1 score / variance: {np.mean(weighted_avg): 6.4f}, {np.var(weighted_avg): 6.6f}', file = outputFile)\n",
        "  print('\\n', file = outputFile)\n",
        "  outputFile.flush()"
      ],
      "metadata": {
        "id": "V7wnBMtiS7ns"
      },
      "execution_count": 110,
      "outputs": []
    },
    {
      "cell_type": "code",
      "source": [
        "def MLP_top_train_test_repetition(param_grid, X, y, outputFile, target_names):\n",
        "  accuracy = []\n",
        "  macro_avg = []\n",
        "  weighted_avg = []\n",
        "\n",
        "  print(\"\\nTop MLP Train-Test Repetition\\n\", file = outputFile)\n",
        "\n",
        "  #repeat 5 times\n",
        "  for i in range (0,5):\n",
        "\n",
        "    #data is shuffled and scaled every time\n",
        "    X_train, X_test, y_train, y_test = train_test_split(X, y)\n",
        "    sc = StandardScaler()\n",
        "    X_train = sc.fit_transform(X_train)\n",
        "    X_test = sc.transform(X_test)\n",
        "\n",
        "    #top MLP\n",
        "    #initialize new model with same hyperparameters\n",
        "    gridcv = sk.model_selection.GridSearchCV(MLPClassifier(), param_grid = param_grid)\n",
        "    gridcv.fit(X_train, y_train)\n",
        "\n",
        "    #predict\n",
        "    y_pred = gridcv.best_estimator_.predict(X_test)\n",
        "\n",
        "    #for average accuracy / macro-average f1 score / weighted-average f1 score and variance calculation\n",
        "    output = classification_report(y_test, y_pred, target_names = target_names, output_dict = True)\n",
        "    accuracy.append(output['accuracy'])\n",
        "    macro_avg.append(output['macro avg']['f1-score'])\n",
        "    weighted_avg.append(output['weighted avg']['f1-score'])\n",
        "\n",
        "    #print to text file. This would make it easier to validate the result of each model\n",
        "    print(f'=== Iteration {i+1} === ', file = outputFile)\n",
        "    print(f\"(A) Best Parameters: {gridcv.best_params_}\", file = outputFile)\n",
        "    print(\"\\n(B) Confusion Matrix\", file = outputFile)\n",
        "    confusion_matrix_result = confusion_matrix(y_test, y_pred)\n",
        "    print(confusion_matrix_result, file = outputFile)\n",
        "\n",
        "    print(\"\\n(C,D) Classification Report\", file = outputFile)\n",
        "    print(classification_report(y_test, y_pred, target_names = target_names), file =outputFile)\n",
        "\n",
        "  #append the calculation in the report\n",
        "  print('(E) The result after 5 times of train-test repetition:' ,file = outputFile)\n",
        "  print(f'\\tThe average accuracy / variance: {np.mean(accuracy): 6.4f}, {np.var(accuracy): 6.6f}', file = outputFile)\n",
        "  print(f'\\tThe average macro-average f1 score / variance: {np.mean(macro_avg): 6.4f}, {np.var(macro_avg): 6.6f}', file = outputFile)\n",
        "  print(f'\\tThe average weighted-average f1 score / variance: {np.mean(weighted_avg): 6.4f}, {np.var(weighted_avg): 6.6f}', file = outputFile)\n",
        "  print('\\n', file = outputFile)\n",
        "  outputFile.flush()"
      ],
      "metadata": {
        "id": "wJbuEpDgTOo4"
      },
      "execution_count": 111,
      "outputs": []
    },
    {
      "cell_type": "markdown",
      "source": [
        "## Dataset - 'penguins.csv'\n",
        "- Goal : prediction of species\n",
        "(Adelie, Gentoo, Chinstap)"
      ],
      "metadata": {
        "id": "a0o_UdOEzTw_"
      }
    },
    {
      "cell_type": "code",
      "source": [
        "outputFile = open ('penguin-classes.txt', 'w')\n",
        "warnings.filterwarnings('ignore')"
      ],
      "metadata": {
        "id": "fmJJQACk9aQs"
      },
      "execution_count": 112,
      "outputs": []
    },
    {
      "cell_type": "code",
      "source": [
        "data_penguins = pd.read_csv('penguins.csv')\n",
        "data_penguins.head()"
      ],
      "metadata": {
        "id": "RdWPdNdHn_cP",
        "colab": {
          "base_uri": "https://localhost:8080/",
          "height": 206
        },
        "outputId": "b18a675f-23ba-40f5-c7db-fc14e510473c"
      },
      "execution_count": 113,
      "outputs": [
        {
          "output_type": "execute_result",
          "data": {
            "text/plain": [
              "  species     island  culmen_length_mm  culmen_depth_mm  flipper_length_mm  \\\n",
              "0  Adelie  Torgersen              39.1             18.7                181   \n",
              "1  Adelie  Torgersen              39.5             17.4                186   \n",
              "2  Adelie  Torgersen              40.3             18.0                195   \n",
              "3  Adelie  Torgersen              36.7             19.3                193   \n",
              "4  Adelie  Torgersen              39.3             20.6                190   \n",
              "\n",
              "   body_mass_g     sex  \n",
              "0         3750    MALE  \n",
              "1         3800  FEMALE  \n",
              "2         3250  FEMALE  \n",
              "3         3450  FEMALE  \n",
              "4         3650    MALE  "
            ],
            "text/html": [
              "\n",
              "  <div id=\"df-66cbe9c7-2ae6-4be7-9847-7bdd3841b35d\" class=\"colab-df-container\">\n",
              "    <div>\n",
              "<style scoped>\n",
              "    .dataframe tbody tr th:only-of-type {\n",
              "        vertical-align: middle;\n",
              "    }\n",
              "\n",
              "    .dataframe tbody tr th {\n",
              "        vertical-align: top;\n",
              "    }\n",
              "\n",
              "    .dataframe thead th {\n",
              "        text-align: right;\n",
              "    }\n",
              "</style>\n",
              "<table border=\"1\" class=\"dataframe\">\n",
              "  <thead>\n",
              "    <tr style=\"text-align: right;\">\n",
              "      <th></th>\n",
              "      <th>species</th>\n",
              "      <th>island</th>\n",
              "      <th>culmen_length_mm</th>\n",
              "      <th>culmen_depth_mm</th>\n",
              "      <th>flipper_length_mm</th>\n",
              "      <th>body_mass_g</th>\n",
              "      <th>sex</th>\n",
              "    </tr>\n",
              "  </thead>\n",
              "  <tbody>\n",
              "    <tr>\n",
              "      <th>0</th>\n",
              "      <td>Adelie</td>\n",
              "      <td>Torgersen</td>\n",
              "      <td>39.1</td>\n",
              "      <td>18.7</td>\n",
              "      <td>181</td>\n",
              "      <td>3750</td>\n",
              "      <td>MALE</td>\n",
              "    </tr>\n",
              "    <tr>\n",
              "      <th>1</th>\n",
              "      <td>Adelie</td>\n",
              "      <td>Torgersen</td>\n",
              "      <td>39.5</td>\n",
              "      <td>17.4</td>\n",
              "      <td>186</td>\n",
              "      <td>3800</td>\n",
              "      <td>FEMALE</td>\n",
              "    </tr>\n",
              "    <tr>\n",
              "      <th>2</th>\n",
              "      <td>Adelie</td>\n",
              "      <td>Torgersen</td>\n",
              "      <td>40.3</td>\n",
              "      <td>18.0</td>\n",
              "      <td>195</td>\n",
              "      <td>3250</td>\n",
              "      <td>FEMALE</td>\n",
              "    </tr>\n",
              "    <tr>\n",
              "      <th>3</th>\n",
              "      <td>Adelie</td>\n",
              "      <td>Torgersen</td>\n",
              "      <td>36.7</td>\n",
              "      <td>19.3</td>\n",
              "      <td>193</td>\n",
              "      <td>3450</td>\n",
              "      <td>FEMALE</td>\n",
              "    </tr>\n",
              "    <tr>\n",
              "      <th>4</th>\n",
              "      <td>Adelie</td>\n",
              "      <td>Torgersen</td>\n",
              "      <td>39.3</td>\n",
              "      <td>20.6</td>\n",
              "      <td>190</td>\n",
              "      <td>3650</td>\n",
              "      <td>MALE</td>\n",
              "    </tr>\n",
              "  </tbody>\n",
              "</table>\n",
              "</div>\n",
              "    <div class=\"colab-df-buttons\">\n",
              "\n",
              "  <div class=\"colab-df-container\">\n",
              "    <button class=\"colab-df-convert\" onclick=\"convertToInteractive('df-66cbe9c7-2ae6-4be7-9847-7bdd3841b35d')\"\n",
              "            title=\"Convert this dataframe to an interactive table.\"\n",
              "            style=\"display:none;\">\n",
              "\n",
              "  <svg xmlns=\"http://www.w3.org/2000/svg\" height=\"24px\" viewBox=\"0 -960 960 960\">\n",
              "    <path d=\"M120-120v-720h720v720H120Zm60-500h600v-160H180v160Zm220 220h160v-160H400v160Zm0 220h160v-160H400v160ZM180-400h160v-160H180v160Zm440 0h160v-160H620v160ZM180-180h160v-160H180v160Zm440 0h160v-160H620v160Z\"/>\n",
              "  </svg>\n",
              "    </button>\n",
              "\n",
              "  <style>\n",
              "    .colab-df-container {\n",
              "      display:flex;\n",
              "      gap: 12px;\n",
              "    }\n",
              "\n",
              "    .colab-df-convert {\n",
              "      background-color: #E8F0FE;\n",
              "      border: none;\n",
              "      border-radius: 50%;\n",
              "      cursor: pointer;\n",
              "      display: none;\n",
              "      fill: #1967D2;\n",
              "      height: 32px;\n",
              "      padding: 0 0 0 0;\n",
              "      width: 32px;\n",
              "    }\n",
              "\n",
              "    .colab-df-convert:hover {\n",
              "      background-color: #E2EBFA;\n",
              "      box-shadow: 0px 1px 2px rgba(60, 64, 67, 0.3), 0px 1px 3px 1px rgba(60, 64, 67, 0.15);\n",
              "      fill: #174EA6;\n",
              "    }\n",
              "\n",
              "    .colab-df-buttons div {\n",
              "      margin-bottom: 4px;\n",
              "    }\n",
              "\n",
              "    [theme=dark] .colab-df-convert {\n",
              "      background-color: #3B4455;\n",
              "      fill: #D2E3FC;\n",
              "    }\n",
              "\n",
              "    [theme=dark] .colab-df-convert:hover {\n",
              "      background-color: #434B5C;\n",
              "      box-shadow: 0px 1px 3px 1px rgba(0, 0, 0, 0.15);\n",
              "      filter: drop-shadow(0px 1px 2px rgba(0, 0, 0, 0.3));\n",
              "      fill: #FFFFFF;\n",
              "    }\n",
              "  </style>\n",
              "\n",
              "    <script>\n",
              "      const buttonEl =\n",
              "        document.querySelector('#df-66cbe9c7-2ae6-4be7-9847-7bdd3841b35d button.colab-df-convert');\n",
              "      buttonEl.style.display =\n",
              "        google.colab.kernel.accessAllowed ? 'block' : 'none';\n",
              "\n",
              "      async function convertToInteractive(key) {\n",
              "        const element = document.querySelector('#df-66cbe9c7-2ae6-4be7-9847-7bdd3841b35d');\n",
              "        const dataTable =\n",
              "          await google.colab.kernel.invokeFunction('convertToInteractive',\n",
              "                                                    [key], {});\n",
              "        if (!dataTable) return;\n",
              "\n",
              "        const docLinkHtml = 'Like what you see? Visit the ' +\n",
              "          '<a target=\"_blank\" href=https://colab.research.google.com/notebooks/data_table.ipynb>data table notebook</a>'\n",
              "          + ' to learn more about interactive tables.';\n",
              "        element.innerHTML = '';\n",
              "        dataTable['output_type'] = 'display_data';\n",
              "        await google.colab.output.renderOutput(dataTable, element);\n",
              "        const docLink = document.createElement('div');\n",
              "        docLink.innerHTML = docLinkHtml;\n",
              "        element.appendChild(docLink);\n",
              "      }\n",
              "    </script>\n",
              "  </div>\n",
              "\n",
              "\n",
              "<div id=\"df-bbdac360-896e-4d2c-9774-113b2b2e38b4\">\n",
              "  <button class=\"colab-df-quickchart\" onclick=\"quickchart('df-bbdac360-896e-4d2c-9774-113b2b2e38b4')\"\n",
              "            title=\"Suggest charts\"\n",
              "            style=\"display:none;\">\n",
              "\n",
              "<svg xmlns=\"http://www.w3.org/2000/svg\" height=\"24px\"viewBox=\"0 0 24 24\"\n",
              "     width=\"24px\">\n",
              "    <g>\n",
              "        <path d=\"M19 3H5c-1.1 0-2 .9-2 2v14c0 1.1.9 2 2 2h14c1.1 0 2-.9 2-2V5c0-1.1-.9-2-2-2zM9 17H7v-7h2v7zm4 0h-2V7h2v10zm4 0h-2v-4h2v4z\"/>\n",
              "    </g>\n",
              "</svg>\n",
              "  </button>\n",
              "\n",
              "<style>\n",
              "  .colab-df-quickchart {\n",
              "      --bg-color: #E8F0FE;\n",
              "      --fill-color: #1967D2;\n",
              "      --hover-bg-color: #E2EBFA;\n",
              "      --hover-fill-color: #174EA6;\n",
              "      --disabled-fill-color: #AAA;\n",
              "      --disabled-bg-color: #DDD;\n",
              "  }\n",
              "\n",
              "  [theme=dark] .colab-df-quickchart {\n",
              "      --bg-color: #3B4455;\n",
              "      --fill-color: #D2E3FC;\n",
              "      --hover-bg-color: #434B5C;\n",
              "      --hover-fill-color: #FFFFFF;\n",
              "      --disabled-bg-color: #3B4455;\n",
              "      --disabled-fill-color: #666;\n",
              "  }\n",
              "\n",
              "  .colab-df-quickchart {\n",
              "    background-color: var(--bg-color);\n",
              "    border: none;\n",
              "    border-radius: 50%;\n",
              "    cursor: pointer;\n",
              "    display: none;\n",
              "    fill: var(--fill-color);\n",
              "    height: 32px;\n",
              "    padding: 0;\n",
              "    width: 32px;\n",
              "  }\n",
              "\n",
              "  .colab-df-quickchart:hover {\n",
              "    background-color: var(--hover-bg-color);\n",
              "    box-shadow: 0 1px 2px rgba(60, 64, 67, 0.3), 0 1px 3px 1px rgba(60, 64, 67, 0.15);\n",
              "    fill: var(--button-hover-fill-color);\n",
              "  }\n",
              "\n",
              "  .colab-df-quickchart-complete:disabled,\n",
              "  .colab-df-quickchart-complete:disabled:hover {\n",
              "    background-color: var(--disabled-bg-color);\n",
              "    fill: var(--disabled-fill-color);\n",
              "    box-shadow: none;\n",
              "  }\n",
              "\n",
              "  .colab-df-spinner {\n",
              "    border: 2px solid var(--fill-color);\n",
              "    border-color: transparent;\n",
              "    border-bottom-color: var(--fill-color);\n",
              "    animation:\n",
              "      spin 1s steps(1) infinite;\n",
              "  }\n",
              "\n",
              "  @keyframes spin {\n",
              "    0% {\n",
              "      border-color: transparent;\n",
              "      border-bottom-color: var(--fill-color);\n",
              "      border-left-color: var(--fill-color);\n",
              "    }\n",
              "    20% {\n",
              "      border-color: transparent;\n",
              "      border-left-color: var(--fill-color);\n",
              "      border-top-color: var(--fill-color);\n",
              "    }\n",
              "    30% {\n",
              "      border-color: transparent;\n",
              "      border-left-color: var(--fill-color);\n",
              "      border-top-color: var(--fill-color);\n",
              "      border-right-color: var(--fill-color);\n",
              "    }\n",
              "    40% {\n",
              "      border-color: transparent;\n",
              "      border-right-color: var(--fill-color);\n",
              "      border-top-color: var(--fill-color);\n",
              "    }\n",
              "    60% {\n",
              "      border-color: transparent;\n",
              "      border-right-color: var(--fill-color);\n",
              "    }\n",
              "    80% {\n",
              "      border-color: transparent;\n",
              "      border-right-color: var(--fill-color);\n",
              "      border-bottom-color: var(--fill-color);\n",
              "    }\n",
              "    90% {\n",
              "      border-color: transparent;\n",
              "      border-bottom-color: var(--fill-color);\n",
              "    }\n",
              "  }\n",
              "</style>\n",
              "\n",
              "  <script>\n",
              "    async function quickchart(key) {\n",
              "      const quickchartButtonEl =\n",
              "        document.querySelector('#' + key + ' button');\n",
              "      quickchartButtonEl.disabled = true;  // To prevent multiple clicks.\n",
              "      quickchartButtonEl.classList.add('colab-df-spinner');\n",
              "      try {\n",
              "        const charts = await google.colab.kernel.invokeFunction(\n",
              "            'suggestCharts', [key], {});\n",
              "      } catch (error) {\n",
              "        console.error('Error during call to suggestCharts:', error);\n",
              "      }\n",
              "      quickchartButtonEl.classList.remove('colab-df-spinner');\n",
              "      quickchartButtonEl.classList.add('colab-df-quickchart-complete');\n",
              "    }\n",
              "    (() => {\n",
              "      let quickchartButtonEl =\n",
              "        document.querySelector('#df-bbdac360-896e-4d2c-9774-113b2b2e38b4 button');\n",
              "      quickchartButtonEl.style.display =\n",
              "        google.colab.kernel.accessAllowed ? 'block' : 'none';\n",
              "    })();\n",
              "  </script>\n",
              "</div>\n",
              "    </div>\n",
              "  </div>\n"
            ]
          },
          "metadata": {},
          "execution_count": 113
        }
      ]
    },
    {
      "cell_type": "markdown",
      "source": [
        "#### Data Preprocessing\n",
        "- data encoding for categorical values: 'island', 'sex' column"
      ],
      "metadata": {
        "id": "skf8lGQB1Hpk"
      }
    },
    {
      "cell_type": "code",
      "source": [
        "from sklearn.preprocessing import OneHotEncoder\n",
        "\n",
        "island = np.array(data_penguins['island']).reshape(-1, 1)\n",
        "island_label = OneHotEncoder().fit_transform(island)\n",
        "data_penguins['island'] = island_label.toarray()\n",
        "\n",
        "df = pd.DataFrame({'island':['Torgersen','Biscoe','Dream']})\n",
        "pd.get_dummies(df)"
      ],
      "metadata": {
        "id": "bO_arEeWzl2p",
        "colab": {
          "base_uri": "https://localhost:8080/",
          "height": 143
        },
        "outputId": "0283fc48-dba3-4da7-9477-a16015eeeb1a"
      },
      "execution_count": 114,
      "outputs": [
        {
          "output_type": "execute_result",
          "data": {
            "text/plain": [
              "   island_Biscoe  island_Dream  island_Torgersen\n",
              "0              0             0                 1\n",
              "1              1             0                 0\n",
              "2              0             1                 0"
            ],
            "text/html": [
              "\n",
              "  <div id=\"df-82496c76-4150-4c2a-a193-ad39e5961e73\" class=\"colab-df-container\">\n",
              "    <div>\n",
              "<style scoped>\n",
              "    .dataframe tbody tr th:only-of-type {\n",
              "        vertical-align: middle;\n",
              "    }\n",
              "\n",
              "    .dataframe tbody tr th {\n",
              "        vertical-align: top;\n",
              "    }\n",
              "\n",
              "    .dataframe thead th {\n",
              "        text-align: right;\n",
              "    }\n",
              "</style>\n",
              "<table border=\"1\" class=\"dataframe\">\n",
              "  <thead>\n",
              "    <tr style=\"text-align: right;\">\n",
              "      <th></th>\n",
              "      <th>island_Biscoe</th>\n",
              "      <th>island_Dream</th>\n",
              "      <th>island_Torgersen</th>\n",
              "    </tr>\n",
              "  </thead>\n",
              "  <tbody>\n",
              "    <tr>\n",
              "      <th>0</th>\n",
              "      <td>0</td>\n",
              "      <td>0</td>\n",
              "      <td>1</td>\n",
              "    </tr>\n",
              "    <tr>\n",
              "      <th>1</th>\n",
              "      <td>1</td>\n",
              "      <td>0</td>\n",
              "      <td>0</td>\n",
              "    </tr>\n",
              "    <tr>\n",
              "      <th>2</th>\n",
              "      <td>0</td>\n",
              "      <td>1</td>\n",
              "      <td>0</td>\n",
              "    </tr>\n",
              "  </tbody>\n",
              "</table>\n",
              "</div>\n",
              "    <div class=\"colab-df-buttons\">\n",
              "\n",
              "  <div class=\"colab-df-container\">\n",
              "    <button class=\"colab-df-convert\" onclick=\"convertToInteractive('df-82496c76-4150-4c2a-a193-ad39e5961e73')\"\n",
              "            title=\"Convert this dataframe to an interactive table.\"\n",
              "            style=\"display:none;\">\n",
              "\n",
              "  <svg xmlns=\"http://www.w3.org/2000/svg\" height=\"24px\" viewBox=\"0 -960 960 960\">\n",
              "    <path d=\"M120-120v-720h720v720H120Zm60-500h600v-160H180v160Zm220 220h160v-160H400v160Zm0 220h160v-160H400v160ZM180-400h160v-160H180v160Zm440 0h160v-160H620v160ZM180-180h160v-160H180v160Zm440 0h160v-160H620v160Z\"/>\n",
              "  </svg>\n",
              "    </button>\n",
              "\n",
              "  <style>\n",
              "    .colab-df-container {\n",
              "      display:flex;\n",
              "      gap: 12px;\n",
              "    }\n",
              "\n",
              "    .colab-df-convert {\n",
              "      background-color: #E8F0FE;\n",
              "      border: none;\n",
              "      border-radius: 50%;\n",
              "      cursor: pointer;\n",
              "      display: none;\n",
              "      fill: #1967D2;\n",
              "      height: 32px;\n",
              "      padding: 0 0 0 0;\n",
              "      width: 32px;\n",
              "    }\n",
              "\n",
              "    .colab-df-convert:hover {\n",
              "      background-color: #E2EBFA;\n",
              "      box-shadow: 0px 1px 2px rgba(60, 64, 67, 0.3), 0px 1px 3px 1px rgba(60, 64, 67, 0.15);\n",
              "      fill: #174EA6;\n",
              "    }\n",
              "\n",
              "    .colab-df-buttons div {\n",
              "      margin-bottom: 4px;\n",
              "    }\n",
              "\n",
              "    [theme=dark] .colab-df-convert {\n",
              "      background-color: #3B4455;\n",
              "      fill: #D2E3FC;\n",
              "    }\n",
              "\n",
              "    [theme=dark] .colab-df-convert:hover {\n",
              "      background-color: #434B5C;\n",
              "      box-shadow: 0px 1px 3px 1px rgba(0, 0, 0, 0.15);\n",
              "      filter: drop-shadow(0px 1px 2px rgba(0, 0, 0, 0.3));\n",
              "      fill: #FFFFFF;\n",
              "    }\n",
              "  </style>\n",
              "\n",
              "    <script>\n",
              "      const buttonEl =\n",
              "        document.querySelector('#df-82496c76-4150-4c2a-a193-ad39e5961e73 button.colab-df-convert');\n",
              "      buttonEl.style.display =\n",
              "        google.colab.kernel.accessAllowed ? 'block' : 'none';\n",
              "\n",
              "      async function convertToInteractive(key) {\n",
              "        const element = document.querySelector('#df-82496c76-4150-4c2a-a193-ad39e5961e73');\n",
              "        const dataTable =\n",
              "          await google.colab.kernel.invokeFunction('convertToInteractive',\n",
              "                                                    [key], {});\n",
              "        if (!dataTable) return;\n",
              "\n",
              "        const docLinkHtml = 'Like what you see? Visit the ' +\n",
              "          '<a target=\"_blank\" href=https://colab.research.google.com/notebooks/data_table.ipynb>data table notebook</a>'\n",
              "          + ' to learn more about interactive tables.';\n",
              "        element.innerHTML = '';\n",
              "        dataTable['output_type'] = 'display_data';\n",
              "        await google.colab.output.renderOutput(dataTable, element);\n",
              "        const docLink = document.createElement('div');\n",
              "        docLink.innerHTML = docLinkHtml;\n",
              "        element.appendChild(docLink);\n",
              "      }\n",
              "    </script>\n",
              "  </div>\n",
              "\n",
              "\n",
              "<div id=\"df-83846d0a-314b-448f-843a-c44bc4ca19ee\">\n",
              "  <button class=\"colab-df-quickchart\" onclick=\"quickchart('df-83846d0a-314b-448f-843a-c44bc4ca19ee')\"\n",
              "            title=\"Suggest charts\"\n",
              "            style=\"display:none;\">\n",
              "\n",
              "<svg xmlns=\"http://www.w3.org/2000/svg\" height=\"24px\"viewBox=\"0 0 24 24\"\n",
              "     width=\"24px\">\n",
              "    <g>\n",
              "        <path d=\"M19 3H5c-1.1 0-2 .9-2 2v14c0 1.1.9 2 2 2h14c1.1 0 2-.9 2-2V5c0-1.1-.9-2-2-2zM9 17H7v-7h2v7zm4 0h-2V7h2v10zm4 0h-2v-4h2v4z\"/>\n",
              "    </g>\n",
              "</svg>\n",
              "  </button>\n",
              "\n",
              "<style>\n",
              "  .colab-df-quickchart {\n",
              "      --bg-color: #E8F0FE;\n",
              "      --fill-color: #1967D2;\n",
              "      --hover-bg-color: #E2EBFA;\n",
              "      --hover-fill-color: #174EA6;\n",
              "      --disabled-fill-color: #AAA;\n",
              "      --disabled-bg-color: #DDD;\n",
              "  }\n",
              "\n",
              "  [theme=dark] .colab-df-quickchart {\n",
              "      --bg-color: #3B4455;\n",
              "      --fill-color: #D2E3FC;\n",
              "      --hover-bg-color: #434B5C;\n",
              "      --hover-fill-color: #FFFFFF;\n",
              "      --disabled-bg-color: #3B4455;\n",
              "      --disabled-fill-color: #666;\n",
              "  }\n",
              "\n",
              "  .colab-df-quickchart {\n",
              "    background-color: var(--bg-color);\n",
              "    border: none;\n",
              "    border-radius: 50%;\n",
              "    cursor: pointer;\n",
              "    display: none;\n",
              "    fill: var(--fill-color);\n",
              "    height: 32px;\n",
              "    padding: 0;\n",
              "    width: 32px;\n",
              "  }\n",
              "\n",
              "  .colab-df-quickchart:hover {\n",
              "    background-color: var(--hover-bg-color);\n",
              "    box-shadow: 0 1px 2px rgba(60, 64, 67, 0.3), 0 1px 3px 1px rgba(60, 64, 67, 0.15);\n",
              "    fill: var(--button-hover-fill-color);\n",
              "  }\n",
              "\n",
              "  .colab-df-quickchart-complete:disabled,\n",
              "  .colab-df-quickchart-complete:disabled:hover {\n",
              "    background-color: var(--disabled-bg-color);\n",
              "    fill: var(--disabled-fill-color);\n",
              "    box-shadow: none;\n",
              "  }\n",
              "\n",
              "  .colab-df-spinner {\n",
              "    border: 2px solid var(--fill-color);\n",
              "    border-color: transparent;\n",
              "    border-bottom-color: var(--fill-color);\n",
              "    animation:\n",
              "      spin 1s steps(1) infinite;\n",
              "  }\n",
              "\n",
              "  @keyframes spin {\n",
              "    0% {\n",
              "      border-color: transparent;\n",
              "      border-bottom-color: var(--fill-color);\n",
              "      border-left-color: var(--fill-color);\n",
              "    }\n",
              "    20% {\n",
              "      border-color: transparent;\n",
              "      border-left-color: var(--fill-color);\n",
              "      border-top-color: var(--fill-color);\n",
              "    }\n",
              "    30% {\n",
              "      border-color: transparent;\n",
              "      border-left-color: var(--fill-color);\n",
              "      border-top-color: var(--fill-color);\n",
              "      border-right-color: var(--fill-color);\n",
              "    }\n",
              "    40% {\n",
              "      border-color: transparent;\n",
              "      border-right-color: var(--fill-color);\n",
              "      border-top-color: var(--fill-color);\n",
              "    }\n",
              "    60% {\n",
              "      border-color: transparent;\n",
              "      border-right-color: var(--fill-color);\n",
              "    }\n",
              "    80% {\n",
              "      border-color: transparent;\n",
              "      border-right-color: var(--fill-color);\n",
              "      border-bottom-color: var(--fill-color);\n",
              "    }\n",
              "    90% {\n",
              "      border-color: transparent;\n",
              "      border-bottom-color: var(--fill-color);\n",
              "    }\n",
              "  }\n",
              "</style>\n",
              "\n",
              "  <script>\n",
              "    async function quickchart(key) {\n",
              "      const quickchartButtonEl =\n",
              "        document.querySelector('#' + key + ' button');\n",
              "      quickchartButtonEl.disabled = true;  // To prevent multiple clicks.\n",
              "      quickchartButtonEl.classList.add('colab-df-spinner');\n",
              "      try {\n",
              "        const charts = await google.colab.kernel.invokeFunction(\n",
              "            'suggestCharts', [key], {});\n",
              "      } catch (error) {\n",
              "        console.error('Error during call to suggestCharts:', error);\n",
              "      }\n",
              "      quickchartButtonEl.classList.remove('colab-df-spinner');\n",
              "      quickchartButtonEl.classList.add('colab-df-quickchart-complete');\n",
              "    }\n",
              "    (() => {\n",
              "      let quickchartButtonEl =\n",
              "        document.querySelector('#df-83846d0a-314b-448f-843a-c44bc4ca19ee button');\n",
              "      quickchartButtonEl.style.display =\n",
              "        google.colab.kernel.accessAllowed ? 'block' : 'none';\n",
              "    })();\n",
              "  </script>\n",
              "</div>\n",
              "    </div>\n",
              "  </div>\n"
            ]
          },
          "metadata": {},
          "execution_count": 114
        }
      ]
    },
    {
      "cell_type": "code",
      "source": [
        "from sklearn.preprocessing import LabelEncoder\n",
        "\n",
        "data_penguins['sex'] = LabelEncoder().fit_transform(data_penguins['sex'])"
      ],
      "metadata": {
        "id": "5T0LfRzozl4u"
      },
      "execution_count": 115,
      "outputs": []
    },
    {
      "cell_type": "markdown",
      "source": [
        "#### Plot the percentage of the instances"
      ],
      "metadata": {
        "id": "Ychlgawv36Yr"
      }
    },
    {
      "cell_type": "code",
      "source": [
        "# Check the output class is balanced\n",
        "penguins_labels = data_penguins['species']\n",
        "\n",
        "plt.figure(figsize=(10, 6))\n",
        "sns.countplot(x=penguins_labels)\n",
        "plt.title('Distribution of class label')\n",
        "plt.xlabel('Penguins')\n",
        "plt.ylabel('Frequency')\n",
        "\n",
        "# save as graphic\n",
        "plt.savefig('penguin-classes.png')"
      ],
      "metadata": {
        "colab": {
          "base_uri": "https://localhost:8080/",
          "height": 564
        },
        "id": "2_YBHCBg38nQ",
        "outputId": "20f63afa-7f22-4634-a1b2-6f233ef23ef8"
      },
      "execution_count": 116,
      "outputs": [
        {
          "output_type": "display_data",
          "data": {
            "text/plain": [
              "<Figure size 1000x600 with 1 Axes>"
            ],
            "image/png": "[encoded data removed]"
          },
          "metadata": {}
        }
      ]
    },
    {
      "cell_type": "markdown",
      "source": [
        "#### Dataset split into training & test set"
      ],
      "metadata": {
        "id": "YitW0dfF3zLc"
      }
    },
    {
      "cell_type": "code",
      "source": [
        "X = data_penguins.iloc[:, 1:].values\n",
        "y = data_penguins.iloc[:,0].values\n",
        "\n",
        "from sklearn.model_selection import train_test_split\n",
        "X_train, X_test, y_train, y_test = train_test_split(X, y)"
      ],
      "metadata": {
        "id": "0wcAQElszl97"
      },
      "execution_count": 117,
      "outputs": []
    },
    {
      "cell_type": "code",
      "source": [
        "# perform feature scaling\n",
        "from sklearn.preprocessing import StandardScaler\n",
        "\n",
        "sc = StandardScaler()\n",
        "X_train = sc.fit_transform(X_train)\n",
        "X_test = sc.transform(X_test)"
      ],
      "metadata": {
        "id": "sThVNxcLzmAB"
      },
      "execution_count": 118,
      "outputs": []
    },
    {
      "cell_type": "markdown",
      "source": [
        "#### Train 4 different classifier"
      ],
      "metadata": {
        "id": "fWpPUU6EYP3T"
      }
    },
    {
      "cell_type": "markdown",
      "source": [
        "##### Classifier 1 - Base-DT"
      ],
      "metadata": {
        "id": "i1Wbs_2C3Q6E"
      }
    },
    {
      "cell_type": "code",
      "source": [
        "from sklearn.tree import DecisionTreeClassifier\n",
        "\n",
        "# Base Decision Tree\n",
        "classifier_1 = DecisionTreeClassifier()\n",
        "classifier_1.fit(X_train, y_train)"
      ],
      "metadata": {
        "id": "JN61PJ3W5jcb",
        "colab": {
          "base_uri": "https://localhost:8080/",
          "height": 75
        },
        "outputId": "0753d47d-49b7-47c3-88a9-d12e2234ae0e"
      },
      "execution_count": 119,
      "outputs": [
        {
          "output_type": "execute_result",
          "data": {
            "text/plain": [
              "DecisionTreeClassifier()"
            ],
            "text/html": [
              "<style>#sk-container-id-4 {color: black;background-color: white;}#sk-container-id-4 pre{padding: 0;}#sk-container-id-4 div.sk-toggleable {background-color: white;}#sk-container-id-4 label.sk-toggleable__label {cursor: pointer;display: block;width: 100%;margin-bottom: 0;padding: 0.3em;box-sizing: border-box;text-align: center;}#sk-container-id-4 label.sk-toggleable__label-arrow:before {content: \"▸\";float: left;margin-right: 0.25em;color: #696969;}#sk-container-id-4 label.sk-toggleable__label-arrow:hover:before {color: black;}#sk-container-id-4 div.sk-estimator:hover label.sk-toggleable__label-arrow:before {color: black;}#sk-container-id-4 div.sk-toggleable__content {max-height: 0;max-width: 0;overflow: hidden;text-align: left;background-color: #f0f8ff;}#sk-container-id-4 div.sk-toggleable__content pre {margin: 0.2em;color: black;border-radius: 0.25em;background-color: #f0f8ff;}#sk-container-id-4 input.sk-toggleable__control:checked~div.sk-toggleable__content {max-height: 200px;max-width: 100%;overflow: auto;}#sk-container-id-4 input.sk-toggleable__control:checked~label.sk-toggleable__label-arrow:before {content: \"▾\";}#sk-container-id-4 div.sk-estimator input.sk-toggleable__control:checked~label.sk-toggleable__label {background-color: #d4ebff;}#sk-container-id-4 div.sk-label input.sk-toggleable__control:checked~label.sk-toggleable__label {background-color: #d4ebff;}#sk-container-id-4 input.sk-hidden--visually {border: 0;clip: rect(1px 1px 1px 1px);clip: rect(1px, 1px, 1px, 1px);height: 1px;margin: -1px;overflow: hidden;padding: 0;position: absolute;width: 1px;}#sk-container-id-4 div.sk-estimator {font-family: monospace;background-color: #f0f8ff;border: 1px dotted black;border-radius: 0.25em;box-sizing: border-box;margin-bottom: 0.5em;}#sk-container-id-4 div.sk-estimator:hover {background-color: #d4ebff;}#sk-container-id-4 div.sk-parallel-item::after {content: \"\";width: 100%;border-bottom: 1px solid gray;flex-grow: 1;}#sk-container-id-4 div.sk-label:hover label.sk-toggleable__label {background-color: #d4ebff;}#sk-container-id-4 div.sk-serial::before {content: \"\";position: absolute;border-left: 1px solid gray;box-sizing: border-box;top: 0;bottom: 0;left: 50%;z-index: 0;}#sk-container-id-4 div.sk-serial {display: flex;flex-direction: column;align-items: center;background-color: white;padding-right: 0.2em;padding-left: 0.2em;position: relative;}#sk-container-id-4 div.sk-item {position: relative;z-index: 1;}#sk-container-id-4 div.sk-parallel {display: flex;align-items: stretch;justify-content: center;background-color: white;position: relative;}#sk-container-id-4 div.sk-item::before, #sk-container-id-4 div.sk-parallel-item::before {content: \"\";position: absolute;border-left: 1px solid gray;box-sizing: border-box;top: 0;bottom: 0;left: 50%;z-index: -1;}#sk-container-id-4 div.sk-parallel-item {display: flex;flex-direction: column;z-index: 1;position: relative;background-color: white;}#sk-container-id-4 div.sk-parallel-item:first-child::after {align-self: flex-end;width: 50%;}#sk-container-id-4 div.sk-parallel-item:last-child::after {align-self: flex-start;width: 50%;}#sk-container-id-4 div.sk-parallel-item:only-child::after {width: 0;}#sk-container-id-4 div.sk-dashed-wrapped {border: 1px dashed gray;margin: 0 0.4em 0.5em 0.4em;box-sizing: border-box;padding-bottom: 0.4em;background-color: white;}#sk-container-id-4 div.sk-label label {font-family: monospace;font-weight: bold;display: inline-block;line-height: 1.2em;}#sk-container-id-4 div.sk-label-container {text-align: center;}#sk-container-id-4 div.sk-container {/* jupyter's `normalize.less` sets `[hidden] { display: none; }` but bootstrap.min.css set `[hidden] { display: none !important; }` so we also need the `!important` here to be able to override the default hidden behavior on the sphinx rendered scikit-learn.org. See: https://github.com/scikit-learn/scikit-learn/issues/21755 */display: inline-block !important;position: relative;}#sk-container-id-4 div.sk-text-repr-fallback {display: none;}</style><div id=\"sk-container-id-4\" class=\"sk-top-container\"><div class=\"sk-text-repr-fallback\"><pre>DecisionTreeClassifier()</pre><b>In a Jupyter environment, please rerun this cell to show the HTML representation or trust the notebook. <br />On GitHub, the HTML representation is unable to render, please try loading this page with nbviewer.org.</b></div><div class=\"sk-container\" hidden><div class=\"sk-item\"><div class=\"sk-estimator sk-toggleable\"><input class=\"sk-toggleable__control sk-hidden--visually\" id=\"sk-estimator-id-4\" type=\"checkbox\" checked><label for=\"sk-estimator-id-4\" class=\"sk-toggleable__label sk-toggleable__label-arrow\">DecisionTreeClassifier</label><div class=\"sk-toggleable__content\"><pre>DecisionTreeClassifier()</pre></div></div></div></div></div>"
            ]
          },
          "metadata": {},
          "execution_count": 119
        }
      ]
    },
    {
      "cell_type": "code",
      "source": [
        "penguins_class = data_penguins.columns[0]\n",
        "penguins_features = list(data_penguins.columns[1:])"
      ],
      "metadata": {
        "id": "s_J2ed_v--zl"
      },
      "execution_count": 120,
      "outputs": []
    },
    {
      "cell_type": "code",
      "source": [
        "from sklearn import tree\n",
        "\n",
        "dot_data = tree.export_graphviz(classifier_1,\n",
        "                feature_names=penguins_features,\n",
        "                class_names=penguins_class,\n",
        "                filled=True, rounded=True,\n",
        "                special_characters=True)\n",
        "\n",
        "graph = graphviz.Source(dot_data)\n",
        "graph"
      ],
      "metadata": {
        "id": "hwomCGHCCnKt",
        "outputId": "1b17ee3d-cc29-4601-b091-6c0d6012e916",
        "colab": {
          "base_uri": "https://localhost:8080/",
          "height": 917
        }
      },
      "execution_count": 121,
      "outputs": [
        {
          "output_type": "execute_result",
          "data": {
            "image/svg+xml": "<?xml version=\"1.0\" encoding=\"UTF-8\" standalone=\"no\"?>\n<!DOCTYPE svg PUBLIC \"-//W3C//DTD SVG 1.1//EN\"\n \"http://www.w3.org/Graphics/SVG/1.1/DTD/svg11.dtd\">\n<!-- Generated by graphviz version 2.43.0 (0)\n -->\n<!-- Title: Tree Pages: 1 -->\n<svg width=\"936pt\" height=\"671pt\"\n viewBox=\"0.00 0.00 936.00 671.00\" xmlns=\"http://www.w3.org/2000/svg\" xmlns:xlink=\"http://www.w3.org/1999/xlink\">\n<g id=\"graph0\" class=\"graph\" transform=\"scale(1 1) rotate(0) translate(4 667)\">\n<title>Tree</title>\n<polygon fill=\"white\" stroke=\"transparent\" points=\"-4,4 -4,-667 932,-667 932,4 -4,4\"/>\n<!-- 0 -->\n<g id=\"node1\" class=\"node\">\n<title>0</title>\n<path fill=\"#fcf1ea\" stroke=\"black\" d=\"M629.5,-663C629.5,-663 475.5,-663 475.5,-663 469.5,-663 463.5,-657 463.5,-651 463.5,-651 463.5,-592 463.5,-592 463.5,-586 469.5,-580 475.5,-580 475.5,-580 629.5,-580 629.5,-580 635.5,-580 641.5,-586 641.5,-592 641.5,-592 641.5,-651 641.5,-651 641.5,-657 635.5,-663 629.5,-663\"/>\n<text text-anchor=\"start\" x=\"471.5\" y=\"-647.8\" font-family=\"Helvetica,sans-Serif\" font-size=\"14.00\">flipper_length_mm ≤ 0.356</text>\n<text text-anchor=\"start\" x=\"517\" y=\"-632.8\" font-family=\"Helvetica,sans-Serif\" font-size=\"14.00\">gini = 0.635</text>\n<text text-anchor=\"start\" x=\"507.5\" y=\"-617.8\" font-family=\"Helvetica,sans-Serif\" font-size=\"14.00\">samples = 249</text>\n<text text-anchor=\"start\" x=\"490.5\" y=\"-602.8\" font-family=\"Helvetica,sans-Serif\" font-size=\"14.00\">value = [109, 48, 92]</text>\n<text text-anchor=\"start\" x=\"525.5\" y=\"-587.8\" font-family=\"Helvetica,sans-Serif\" font-size=\"14.00\">class = s</text>\n</g>\n<!-- 1 -->\n<g id=\"node2\" class=\"node\">\n<title>1</title>\n<path fill=\"#f0b48a\" stroke=\"black\" d=\"M542.5,-544C542.5,-544 376.5,-544 376.5,-544 370.5,-544 364.5,-538 364.5,-532 364.5,-532 364.5,-473 364.5,-473 364.5,-467 370.5,-461 376.5,-461 376.5,-461 542.5,-461 542.5,-461 548.5,-461 554.5,-467 554.5,-473 554.5,-473 554.5,-532 554.5,-532 554.5,-538 548.5,-544 542.5,-544\"/>\n<text text-anchor=\"start\" x=\"372.5\" y=\"-528.8\" font-family=\"Helvetica,sans-Serif\" font-size=\"14.00\">culmen_length_mm ≤ &#45;0.116</text>\n<text text-anchor=\"start\" x=\"424\" y=\"-513.8\" font-family=\"Helvetica,sans-Serif\" font-size=\"14.00\">gini = 0.417</text>\n<text text-anchor=\"start\" x=\"414.5\" y=\"-498.8\" font-family=\"Helvetica,sans-Serif\" font-size=\"14.00\">samples = 151</text>\n<text text-anchor=\"start\" x=\"401.5\" y=\"-483.8\" font-family=\"Helvetica,sans-Serif\" font-size=\"14.00\">value = [107, 43, 1]</text>\n<text text-anchor=\"start\" x=\"432.5\" y=\"-468.8\" font-family=\"Helvetica,sans-Serif\" font-size=\"14.00\">class = s</text>\n</g>\n<!-- 0&#45;&gt;1 -->\n<g id=\"edge1\" class=\"edge\">\n<title>0&#45;&gt;1</title>\n<path fill=\"none\" stroke=\"black\" d=\"M520.23,-579.91C513.09,-570.92 505.46,-561.32 498.09,-552.05\"/>\n<polygon fill=\"black\" stroke=\"black\" points=\"500.67,-549.67 491.71,-544.02 495.19,-554.03 500.67,-549.67\"/>\n<text text-anchor=\"middle\" x=\"488.87\" y=\"-565.16\" font-family=\"Helvetica,sans-Serif\" font-size=\"14.00\">True</text>\n</g>\n<!-- 14 -->\n<g id=\"node15\" class=\"node\">\n<title>14</title>\n<path fill=\"#8a48e7\" stroke=\"black\" d=\"M748,-544C748,-544 655,-544 655,-544 649,-544 643,-538 643,-532 643,-532 643,-473 643,-473 643,-467 649,-461 655,-461 655,-461 748,-461 748,-461 754,-461 760,-467 760,-473 760,-473 760,-532 760,-532 760,-538 754,-544 748,-544\"/>\n<text text-anchor=\"start\" x=\"663\" y=\"-528.8\" font-family=\"Helvetica,sans-Serif\" font-size=\"14.00\">island ≤ 0.02</text>\n<text text-anchor=\"start\" x=\"666\" y=\"-513.8\" font-family=\"Helvetica,sans-Serif\" font-size=\"14.00\">gini = 0.135</text>\n<text text-anchor=\"start\" x=\"660.5\" y=\"-498.8\" font-family=\"Helvetica,sans-Serif\" font-size=\"14.00\">samples = 98</text>\n<text text-anchor=\"start\" x=\"651\" y=\"-483.8\" font-family=\"Helvetica,sans-Serif\" font-size=\"14.00\">value = [2, 5, 91]</text>\n<text text-anchor=\"start\" x=\"674\" y=\"-468.8\" font-family=\"Helvetica,sans-Serif\" font-size=\"14.00\">class = e</text>\n</g>\n<!-- 0&#45;&gt;14 -->\n<g id=\"edge14\" class=\"edge\">\n<title>0&#45;&gt;14</title>\n<path fill=\"none\" stroke=\"black\" d=\"M604.19,-579.91C616.33,-570.38 629.36,-560.15 641.81,-550.37\"/>\n<polygon fill=\"black\" stroke=\"black\" points=\"644.19,-552.95 649.9,-544.02 639.87,-547.44 644.19,-552.95\"/>\n<text text-anchor=\"middle\" x=\"646.91\" y=\"-565.14\" font-family=\"Helvetica,sans-Serif\" font-size=\"14.00\">False</text>\n</g>\n<!-- 2 -->\n<g id=\"node3\" class=\"node\">\n<title>2</title>\n<path fill=\"#e6833d\" stroke=\"black\" d=\"M295.5,-425C295.5,-425 129.5,-425 129.5,-425 123.5,-425 117.5,-419 117.5,-413 117.5,-413 117.5,-354 117.5,-354 117.5,-348 123.5,-342 129.5,-342 129.5,-342 295.5,-342 295.5,-342 301.5,-342 307.5,-348 307.5,-354 307.5,-354 307.5,-413 307.5,-413 307.5,-419 301.5,-425 295.5,-425\"/>\n<text text-anchor=\"start\" x=\"125.5\" y=\"-409.8\" font-family=\"Helvetica,sans-Serif\" font-size=\"14.00\">culmen_length_mm ≤ &#45;0.288</text>\n<text text-anchor=\"start\" x=\"177\" y=\"-394.8\" font-family=\"Helvetica,sans-Serif\" font-size=\"14.00\">gini = 0.037</text>\n<text text-anchor=\"start\" x=\"167.5\" y=\"-379.8\" font-family=\"Helvetica,sans-Serif\" font-size=\"14.00\">samples = 106</text>\n<text text-anchor=\"start\" x=\"158\" y=\"-364.8\" font-family=\"Helvetica,sans-Serif\" font-size=\"14.00\">value = [104, 2, 0]</text>\n<text text-anchor=\"start\" x=\"185.5\" y=\"-349.8\" font-family=\"Helvetica,sans-Serif\" font-size=\"14.00\">class = s</text>\n</g>\n<!-- 1&#45;&gt;2 -->\n<g id=\"edge2\" class=\"edge\">\n<title>1&#45;&gt;2</title>\n<path fill=\"none\" stroke=\"black\" d=\"M373.8,-460.91C352.35,-450.74 329.2,-439.78 307.33,-429.42\"/>\n<polygon fill=\"black\" stroke=\"black\" points=\"308.58,-426.14 298.04,-425.02 305.58,-432.46 308.58,-426.14\"/>\n</g>\n<!-- 7 -->\n<g id=\"node8\" class=\"node\">\n<title>7</title>\n<path fill=\"#4ce78d\" stroke=\"black\" d=\"M525,-425C525,-425 394,-425 394,-425 388,-425 382,-419 382,-413 382,-413 382,-354 382,-354 382,-348 388,-342 394,-342 394,-342 525,-342 525,-342 531,-342 537,-348 537,-354 537,-354 537,-413 537,-413 537,-419 531,-425 525,-425\"/>\n<text text-anchor=\"start\" x=\"390\" y=\"-409.8\" font-family=\"Helvetica,sans-Serif\" font-size=\"14.00\">body_mass_g ≤ &#45;0.138</text>\n<text text-anchor=\"start\" x=\"424\" y=\"-394.8\" font-family=\"Helvetica,sans-Serif\" font-size=\"14.00\">gini = 0.165</text>\n<text text-anchor=\"start\" x=\"418.5\" y=\"-379.8\" font-family=\"Helvetica,sans-Serif\" font-size=\"14.00\">samples = 45</text>\n<text text-anchor=\"start\" x=\"409\" y=\"-364.8\" font-family=\"Helvetica,sans-Serif\" font-size=\"14.00\">value = [3, 41, 1]</text>\n<text text-anchor=\"start\" x=\"432\" y=\"-349.8\" font-family=\"Helvetica,sans-Serif\" font-size=\"14.00\">class = p</text>\n</g>\n<!-- 1&#45;&gt;7 -->\n<g id=\"edge7\" class=\"edge\">\n<title>1&#45;&gt;7</title>\n<path fill=\"none\" stroke=\"black\" d=\"M459.5,-460.91C459.5,-452.65 459.5,-443.86 459.5,-435.3\"/>\n<polygon fill=\"black\" stroke=\"black\" points=\"463,-435.02 459.5,-425.02 456,-435.02 463,-435.02\"/>\n</g>\n<!-- 3 -->\n<g id=\"node4\" class=\"node\">\n<title>3</title>\n<path fill=\"#e58139\" stroke=\"black\" d=\"M105,-298.5C105,-298.5 12,-298.5 12,-298.5 6,-298.5 0,-292.5 0,-286.5 0,-286.5 0,-242.5 0,-242.5 0,-236.5 6,-230.5 12,-230.5 12,-230.5 105,-230.5 105,-230.5 111,-230.5 117,-236.5 117,-242.5 117,-242.5 117,-286.5 117,-286.5 117,-292.5 111,-298.5 105,-298.5\"/>\n<text text-anchor=\"start\" x=\"30.5\" y=\"-283.3\" font-family=\"Helvetica,sans-Serif\" font-size=\"14.00\">gini = 0.0</text>\n<text text-anchor=\"start\" x=\"17.5\" y=\"-268.3\" font-family=\"Helvetica,sans-Serif\" font-size=\"14.00\">samples = 98</text>\n<text text-anchor=\"start\" x=\"8\" y=\"-253.3\" font-family=\"Helvetica,sans-Serif\" font-size=\"14.00\">value = [98, 0, 0]</text>\n<text text-anchor=\"start\" x=\"31.5\" y=\"-238.3\" font-family=\"Helvetica,sans-Serif\" font-size=\"14.00\">class = s</text>\n</g>\n<!-- 2&#45;&gt;3 -->\n<g id=\"edge3\" class=\"edge\">\n<title>2&#45;&gt;3</title>\n<path fill=\"none\" stroke=\"black\" d=\"M159.07,-341.91C143.24,-329.88 125.94,-316.73 110.22,-304.79\"/>\n<polygon fill=\"black\" stroke=\"black\" points=\"112.24,-301.93 102.16,-298.67 108,-307.5 112.24,-301.93\"/>\n</g>\n<!-- 4 -->\n<g id=\"node5\" class=\"node\">\n<title>4</title>\n<path fill=\"#eeab7b\" stroke=\"black\" d=\"M278,-306C278,-306 147,-306 147,-306 141,-306 135,-300 135,-294 135,-294 135,-235 135,-235 135,-229 141,-223 147,-223 147,-223 278,-223 278,-223 284,-223 290,-229 290,-235 290,-235 290,-294 290,-294 290,-300 284,-306 278,-306\"/>\n<text text-anchor=\"start\" x=\"143\" y=\"-290.8\" font-family=\"Helvetica,sans-Serif\" font-size=\"14.00\">body_mass_g ≤ &#45;0.978</text>\n<text text-anchor=\"start\" x=\"177\" y=\"-275.8\" font-family=\"Helvetica,sans-Serif\" font-size=\"14.00\">gini = 0.375</text>\n<text text-anchor=\"start\" x=\"175\" y=\"-260.8\" font-family=\"Helvetica,sans-Serif\" font-size=\"14.00\">samples = 8</text>\n<text text-anchor=\"start\" x=\"165.5\" y=\"-245.8\" font-family=\"Helvetica,sans-Serif\" font-size=\"14.00\">value = [6, 2, 0]</text>\n<text text-anchor=\"start\" x=\"185.5\" y=\"-230.8\" font-family=\"Helvetica,sans-Serif\" font-size=\"14.00\">class = s</text>\n</g>\n<!-- 2&#45;&gt;4 -->\n<g id=\"edge4\" class=\"edge\">\n<title>2&#45;&gt;4</title>\n<path fill=\"none\" stroke=\"black\" d=\"M212.5,-341.91C212.5,-333.65 212.5,-324.86 212.5,-316.3\"/>\n<polygon fill=\"black\" stroke=\"black\" points=\"216,-316.02 212.5,-306.02 209,-316.02 216,-316.02\"/>\n</g>\n<!-- 5 -->\n<g id=\"node6\" class=\"node\">\n<title>5</title>\n<path fill=\"#39e581\" stroke=\"black\" d=\"M193.5,-179.5C193.5,-179.5 107.5,-179.5 107.5,-179.5 101.5,-179.5 95.5,-173.5 95.5,-167.5 95.5,-167.5 95.5,-123.5 95.5,-123.5 95.5,-117.5 101.5,-111.5 107.5,-111.5 107.5,-111.5 193.5,-111.5 193.5,-111.5 199.5,-111.5 205.5,-117.5 205.5,-123.5 205.5,-123.5 205.5,-167.5 205.5,-167.5 205.5,-173.5 199.5,-179.5 193.5,-179.5\"/>\n<text text-anchor=\"start\" x=\"122.5\" y=\"-164.3\" font-family=\"Helvetica,sans-Serif\" font-size=\"14.00\">gini = 0.0</text>\n<text text-anchor=\"start\" x=\"113\" y=\"-149.3\" font-family=\"Helvetica,sans-Serif\" font-size=\"14.00\">samples = 2</text>\n<text text-anchor=\"start\" x=\"103.5\" y=\"-134.3\" font-family=\"Helvetica,sans-Serif\" font-size=\"14.00\">value = [0, 2, 0]</text>\n<text text-anchor=\"start\" x=\"123\" y=\"-119.3\" font-family=\"Helvetica,sans-Serif\" font-size=\"14.00\">class = p</text>\n</g>\n<!-- 4&#45;&gt;5 -->\n<g id=\"edge5\" class=\"edge\">\n<title>4&#45;&gt;5</title>\n<path fill=\"none\" stroke=\"black\" d=\"M190.99,-222.91C185.14,-211.87 178.8,-199.9 172.9,-188.77\"/>\n<polygon fill=\"black\" stroke=\"black\" points=\"175.85,-186.86 168.08,-179.67 169.67,-190.14 175.85,-186.86\"/>\n</g>\n<!-- 6 -->\n<g id=\"node7\" class=\"node\">\n<title>6</title>\n<path fill=\"#e58139\" stroke=\"black\" d=\"M321.5,-179.5C321.5,-179.5 235.5,-179.5 235.5,-179.5 229.5,-179.5 223.5,-173.5 223.5,-167.5 223.5,-167.5 223.5,-123.5 223.5,-123.5 223.5,-117.5 229.5,-111.5 235.5,-111.5 235.5,-111.5 321.5,-111.5 321.5,-111.5 327.5,-111.5 333.5,-117.5 333.5,-123.5 333.5,-123.5 333.5,-167.5 333.5,-167.5 333.5,-173.5 327.5,-179.5 321.5,-179.5\"/>\n<text text-anchor=\"start\" x=\"250.5\" y=\"-164.3\" font-family=\"Helvetica,sans-Serif\" font-size=\"14.00\">gini = 0.0</text>\n<text text-anchor=\"start\" x=\"241\" y=\"-149.3\" font-family=\"Helvetica,sans-Serif\" font-size=\"14.00\">samples = 6</text>\n<text text-anchor=\"start\" x=\"231.5\" y=\"-134.3\" font-family=\"Helvetica,sans-Serif\" font-size=\"14.00\">value = [6, 0, 0]</text>\n<text text-anchor=\"start\" x=\"251.5\" y=\"-119.3\" font-family=\"Helvetica,sans-Serif\" font-size=\"14.00\">class = s</text>\n</g>\n<!-- 4&#45;&gt;6 -->\n<g id=\"edge6\" class=\"edge\">\n<title>4&#45;&gt;6</title>\n<path fill=\"none\" stroke=\"black\" d=\"M235.4,-222.91C241.69,-211.76 248.51,-199.66 254.84,-188.44\"/>\n<polygon fill=\"black\" stroke=\"black\" points=\"257.93,-190.1 259.79,-179.67 251.83,-186.66 257.93,-190.1\"/>\n</g>\n<!-- 8 -->\n<g id=\"node9\" class=\"node\">\n<title>8</title>\n<path fill=\"#39e581\" stroke=\"black\" d=\"M413,-298.5C413,-298.5 320,-298.5 320,-298.5 314,-298.5 308,-292.5 308,-286.5 308,-286.5 308,-242.5 308,-242.5 308,-236.5 314,-230.5 320,-230.5 320,-230.5 413,-230.5 413,-230.5 419,-230.5 425,-236.5 425,-242.5 425,-242.5 425,-286.5 425,-286.5 425,-292.5 419,-298.5 413,-298.5\"/>\n<text text-anchor=\"start\" x=\"338.5\" y=\"-283.3\" font-family=\"Helvetica,sans-Serif\" font-size=\"14.00\">gini = 0.0</text>\n<text text-anchor=\"start\" x=\"325.5\" y=\"-268.3\" font-family=\"Helvetica,sans-Serif\" font-size=\"14.00\">samples = 37</text>\n<text text-anchor=\"start\" x=\"316\" y=\"-253.3\" font-family=\"Helvetica,sans-Serif\" font-size=\"14.00\">value = [0, 37, 0]</text>\n<text text-anchor=\"start\" x=\"339\" y=\"-238.3\" font-family=\"Helvetica,sans-Serif\" font-size=\"14.00\">class = p</text>\n</g>\n<!-- 7&#45;&gt;8 -->\n<g id=\"edge8\" class=\"edge\">\n<title>7&#45;&gt;8</title>\n<path fill=\"none\" stroke=\"black\" d=\"M427.23,-341.91C418.2,-330.54 408.37,-318.18 399.31,-306.77\"/>\n<polygon fill=\"black\" stroke=\"black\" points=\"401.83,-304.32 392.86,-298.67 396.35,-308.67 401.83,-304.32\"/>\n</g>\n<!-- 9 -->\n<g id=\"node10\" class=\"node\">\n<title>9</title>\n<path fill=\"#d7fae6\" stroke=\"black\" d=\"M616,-306C616,-306 455,-306 455,-306 449,-306 443,-300 443,-294 443,-294 443,-235 443,-235 443,-229 449,-223 455,-223 455,-223 616,-223 616,-223 622,-223 628,-229 628,-235 628,-235 628,-294 628,-294 628,-300 622,-306 616,-306\"/>\n<text text-anchor=\"start\" x=\"451\" y=\"-290.8\" font-family=\"Helvetica,sans-Serif\" font-size=\"14.00\">culmen_length_mm ≤ 0.871</text>\n<text text-anchor=\"start\" x=\"500\" y=\"-275.8\" font-family=\"Helvetica,sans-Serif\" font-size=\"14.00\">gini = 0.594</text>\n<text text-anchor=\"start\" x=\"498\" y=\"-260.8\" font-family=\"Helvetica,sans-Serif\" font-size=\"14.00\">samples = 8</text>\n<text text-anchor=\"start\" x=\"488.5\" y=\"-245.8\" font-family=\"Helvetica,sans-Serif\" font-size=\"14.00\">value = [3, 4, 1]</text>\n<text text-anchor=\"start\" x=\"508\" y=\"-230.8\" font-family=\"Helvetica,sans-Serif\" font-size=\"14.00\">class = p</text>\n</g>\n<!-- 7&#45;&gt;9 -->\n<g id=\"edge9\" class=\"edge\">\n<title>7&#45;&gt;9</title>\n<path fill=\"none\" stroke=\"black\" d=\"M485.87,-341.91C491.59,-333.1 497.69,-323.7 503.6,-314.61\"/>\n<polygon fill=\"black\" stroke=\"black\" points=\"506.67,-316.31 509.18,-306.02 500.8,-312.5 506.67,-316.31\"/>\n</g>\n<!-- 10 -->\n<g id=\"node11\" class=\"node\">\n<title>10</title>\n<path fill=\"#eeab7b\" stroke=\"black\" d=\"M512.5,-187C512.5,-187 386.5,-187 386.5,-187 380.5,-187 374.5,-181 374.5,-175 374.5,-175 374.5,-116 374.5,-116 374.5,-110 380.5,-104 386.5,-104 386.5,-104 512.5,-104 512.5,-104 518.5,-104 524.5,-110 524.5,-116 524.5,-116 524.5,-175 524.5,-175 524.5,-181 518.5,-187 512.5,-187\"/>\n<text text-anchor=\"start\" x=\"382.5\" y=\"-171.8\" font-family=\"Helvetica,sans-Serif\" font-size=\"14.00\">body_mass_g ≤ 0.375</text>\n<text text-anchor=\"start\" x=\"414\" y=\"-156.8\" font-family=\"Helvetica,sans-Serif\" font-size=\"14.00\">gini = 0.375</text>\n<text text-anchor=\"start\" x=\"412\" y=\"-141.8\" font-family=\"Helvetica,sans-Serif\" font-size=\"14.00\">samples = 4</text>\n<text text-anchor=\"start\" x=\"402.5\" y=\"-126.8\" font-family=\"Helvetica,sans-Serif\" font-size=\"14.00\">value = [3, 0, 1]</text>\n<text text-anchor=\"start\" x=\"422.5\" y=\"-111.8\" font-family=\"Helvetica,sans-Serif\" font-size=\"14.00\">class = s</text>\n</g>\n<!-- 9&#45;&gt;10 -->\n<g id=\"edge10\" class=\"edge\">\n<title>9&#45;&gt;10</title>\n<path fill=\"none\" stroke=\"black\" d=\"M505.66,-222.91C499.13,-214.01 492.14,-204.51 485.39,-195.33\"/>\n<polygon fill=\"black\" stroke=\"black\" points=\"488.03,-193.01 479.28,-187.02 482.39,-197.15 488.03,-193.01\"/>\n</g>\n<!-- 13 -->\n<g id=\"node14\" class=\"node\">\n<title>13</title>\n<path fill=\"#39e581\" stroke=\"black\" d=\"M640.5,-179.5C640.5,-179.5 554.5,-179.5 554.5,-179.5 548.5,-179.5 542.5,-173.5 542.5,-167.5 542.5,-167.5 542.5,-123.5 542.5,-123.5 542.5,-117.5 548.5,-111.5 554.5,-111.5 554.5,-111.5 640.5,-111.5 640.5,-111.5 646.5,-111.5 652.5,-117.5 652.5,-123.5 652.5,-123.5 652.5,-167.5 652.5,-167.5 652.5,-173.5 646.5,-179.5 640.5,-179.5\"/>\n<text text-anchor=\"start\" x=\"569.5\" y=\"-164.3\" font-family=\"Helvetica,sans-Serif\" font-size=\"14.00\">gini = 0.0</text>\n<text text-anchor=\"start\" x=\"560\" y=\"-149.3\" font-family=\"Helvetica,sans-Serif\" font-size=\"14.00\">samples = 4</text>\n<text text-anchor=\"start\" x=\"550.5\" y=\"-134.3\" font-family=\"Helvetica,sans-Serif\" font-size=\"14.00\">value = [0, 4, 0]</text>\n<text text-anchor=\"start\" x=\"570\" y=\"-119.3\" font-family=\"Helvetica,sans-Serif\" font-size=\"14.00\">class = p</text>\n</g>\n<!-- 9&#45;&gt;13 -->\n<g id=\"edge13\" class=\"edge\">\n<title>9&#45;&gt;13</title>\n<path fill=\"none\" stroke=\"black\" d=\"M557.01,-222.91C562.86,-211.87 569.2,-199.9 575.1,-188.77\"/>\n<polygon fill=\"black\" stroke=\"black\" points=\"578.33,-190.14 579.92,-179.67 572.15,-186.86 578.33,-190.14\"/>\n</g>\n<!-- 11 -->\n<g id=\"node12\" class=\"node\">\n<title>11</title>\n<path fill=\"#e58139\" stroke=\"black\" d=\"M428.5,-68C428.5,-68 342.5,-68 342.5,-68 336.5,-68 330.5,-62 330.5,-56 330.5,-56 330.5,-12 330.5,-12 330.5,-6 336.5,0 342.5,0 342.5,0 428.5,0 428.5,0 434.5,0 440.5,-6 440.5,-12 440.5,-12 440.5,-56 440.5,-56 440.5,-62 434.5,-68 428.5,-68\"/>\n<text text-anchor=\"start\" x=\"357.5\" y=\"-52.8\" font-family=\"Helvetica,sans-Serif\" font-size=\"14.00\">gini = 0.0</text>\n<text text-anchor=\"start\" x=\"348\" y=\"-37.8\" font-family=\"Helvetica,sans-Serif\" font-size=\"14.00\">samples = 3</text>\n<text text-anchor=\"start\" x=\"338.5\" y=\"-22.8\" font-family=\"Helvetica,sans-Serif\" font-size=\"14.00\">value = [3, 0, 0]</text>\n<text text-anchor=\"start\" x=\"358.5\" y=\"-7.8\" font-family=\"Helvetica,sans-Serif\" font-size=\"14.00\">class = s</text>\n</g>\n<!-- 10&#45;&gt;11 -->\n<g id=\"edge11\" class=\"edge\">\n<title>10&#45;&gt;11</title>\n<path fill=\"none\" stroke=\"black\" d=\"M425.67,-103.73C420.6,-95.06 415.25,-85.9 410.15,-77.18\"/>\n<polygon fill=\"black\" stroke=\"black\" points=\"413.03,-75.17 404.96,-68.3 406.99,-78.7 413.03,-75.17\"/>\n</g>\n<!-- 12 -->\n<g id=\"node13\" class=\"node\">\n<title>12</title>\n<path fill=\"#8139e5\" stroke=\"black\" d=\"M556.5,-68C556.5,-68 470.5,-68 470.5,-68 464.5,-68 458.5,-62 458.5,-56 458.5,-56 458.5,-12 458.5,-12 458.5,-6 464.5,0 470.5,0 470.5,0 556.5,0 556.5,0 562.5,0 568.5,-6 568.5,-12 568.5,-12 568.5,-56 568.5,-56 568.5,-62 562.5,-68 556.5,-68\"/>\n<text text-anchor=\"start\" x=\"485.5\" y=\"-52.8\" font-family=\"Helvetica,sans-Serif\" font-size=\"14.00\">gini = 0.0</text>\n<text text-anchor=\"start\" x=\"476\" y=\"-37.8\" font-family=\"Helvetica,sans-Serif\" font-size=\"14.00\">samples = 1</text>\n<text text-anchor=\"start\" x=\"466.5\" y=\"-22.8\" font-family=\"Helvetica,sans-Serif\" font-size=\"14.00\">value = [0, 0, 1]</text>\n<text text-anchor=\"start\" x=\"486\" y=\"-7.8\" font-family=\"Helvetica,sans-Serif\" font-size=\"14.00\">class = e</text>\n</g>\n<!-- 10&#45;&gt;12 -->\n<g id=\"edge12\" class=\"edge\">\n<title>10&#45;&gt;12</title>\n<path fill=\"none\" stroke=\"black\" d=\"M473.33,-103.73C478.4,-95.06 483.75,-85.9 488.85,-77.18\"/>\n<polygon fill=\"black\" stroke=\"black\" points=\"492.01,-78.7 494.04,-68.3 485.97,-75.17 492.01,-78.7\"/>\n</g>\n<!-- 15 -->\n<g id=\"node16\" class=\"node\">\n<title>15</title>\n<path fill=\"#88efb3\" stroke=\"black\" d=\"M780.5,-425C780.5,-425 622.5,-425 622.5,-425 616.5,-425 610.5,-419 610.5,-413 610.5,-413 610.5,-354 610.5,-354 610.5,-348 616.5,-342 622.5,-342 622.5,-342 780.5,-342 780.5,-342 786.5,-342 792.5,-348 792.5,-354 792.5,-354 792.5,-413 792.5,-413 792.5,-419 786.5,-425 780.5,-425\"/>\n<text text-anchor=\"start\" x=\"618.5\" y=\"-409.8\" font-family=\"Helvetica,sans-Serif\" font-size=\"14.00\">culmen_depth_mm ≤ 0.925</text>\n<text text-anchor=\"start\" x=\"666\" y=\"-394.8\" font-family=\"Helvetica,sans-Serif\" font-size=\"14.00\">gini = 0.408</text>\n<text text-anchor=\"start\" x=\"664\" y=\"-379.8\" font-family=\"Helvetica,sans-Serif\" font-size=\"14.00\">samples = 7</text>\n<text text-anchor=\"start\" x=\"654.5\" y=\"-364.8\" font-family=\"Helvetica,sans-Serif\" font-size=\"14.00\">value = [2, 5, 0]</text>\n<text text-anchor=\"start\" x=\"674\" y=\"-349.8\" font-family=\"Helvetica,sans-Serif\" font-size=\"14.00\">class = p</text>\n</g>\n<!-- 14&#45;&gt;15 -->\n<g id=\"edge15\" class=\"edge\">\n<title>14&#45;&gt;15</title>\n<path fill=\"none\" stroke=\"black\" d=\"M701.5,-460.91C701.5,-452.65 701.5,-443.86 701.5,-435.3\"/>\n<polygon fill=\"black\" stroke=\"black\" points=\"705,-435.02 701.5,-425.02 698,-435.02 705,-435.02\"/>\n</g>\n<!-- 18 -->\n<g id=\"node19\" class=\"node\">\n<title>18</title>\n<path fill=\"#8139e5\" stroke=\"black\" d=\"M916,-417.5C916,-417.5 823,-417.5 823,-417.5 817,-417.5 811,-411.5 811,-405.5 811,-405.5 811,-361.5 811,-361.5 811,-355.5 817,-349.5 823,-349.5 823,-349.5 916,-349.5 916,-349.5 922,-349.5 928,-355.5 928,-361.5 928,-361.5 928,-405.5 928,-405.5 928,-411.5 922,-417.5 916,-417.5\"/>\n<text text-anchor=\"start\" x=\"841.5\" y=\"-402.3\" font-family=\"Helvetica,sans-Serif\" font-size=\"14.00\">gini = 0.0</text>\n<text text-anchor=\"start\" x=\"828.5\" y=\"-387.3\" font-family=\"Helvetica,sans-Serif\" font-size=\"14.00\">samples = 91</text>\n<text text-anchor=\"start\" x=\"819\" y=\"-372.3\" font-family=\"Helvetica,sans-Serif\" font-size=\"14.00\">value = [0, 0, 91]</text>\n<text text-anchor=\"start\" x=\"842\" y=\"-357.3\" font-family=\"Helvetica,sans-Serif\" font-size=\"14.00\">class = e</text>\n</g>\n<!-- 14&#45;&gt;18 -->\n<g id=\"edge18\" class=\"edge\">\n<title>14&#45;&gt;18</title>\n<path fill=\"none\" stroke=\"black\" d=\"M759.79,-460.91C777.22,-448.77 796.28,-435.49 813.55,-423.46\"/>\n<polygon fill=\"black\" stroke=\"black\" points=\"815.67,-426.25 821.88,-417.67 811.67,-420.51 815.67,-426.25\"/>\n</g>\n<!-- 16 -->\n<g id=\"node17\" class=\"node\">\n<title>16</title>\n<path fill=\"#e58139\" stroke=\"black\" d=\"M744.5,-298.5C744.5,-298.5 658.5,-298.5 658.5,-298.5 652.5,-298.5 646.5,-292.5 646.5,-286.5 646.5,-286.5 646.5,-242.5 646.5,-242.5 646.5,-236.5 652.5,-230.5 658.5,-230.5 658.5,-230.5 744.5,-230.5 744.5,-230.5 750.5,-230.5 756.5,-236.5 756.5,-242.5 756.5,-242.5 756.5,-286.5 756.5,-286.5 756.5,-292.5 750.5,-298.5 744.5,-298.5\"/>\n<text text-anchor=\"start\" x=\"673.5\" y=\"-283.3\" font-family=\"Helvetica,sans-Serif\" font-size=\"14.00\">gini = 0.0</text>\n<text text-anchor=\"start\" x=\"664\" y=\"-268.3\" font-family=\"Helvetica,sans-Serif\" font-size=\"14.00\">samples = 2</text>\n<text text-anchor=\"start\" x=\"654.5\" y=\"-253.3\" font-family=\"Helvetica,sans-Serif\" font-size=\"14.00\">value = [2, 0, 0]</text>\n<text text-anchor=\"start\" x=\"674.5\" y=\"-238.3\" font-family=\"Helvetica,sans-Serif\" font-size=\"14.00\">class = s</text>\n</g>\n<!-- 15&#45;&gt;16 -->\n<g id=\"edge16\" class=\"edge\">\n<title>15&#45;&gt;16</title>\n<path fill=\"none\" stroke=\"black\" d=\"M701.5,-341.91C701.5,-331.2 701.5,-319.62 701.5,-308.78\"/>\n<polygon fill=\"black\" stroke=\"black\" points=\"705,-308.67 701.5,-298.67 698,-308.67 705,-308.67\"/>\n</g>\n<!-- 17 -->\n<g id=\"node18\" class=\"node\">\n<title>17</title>\n<path fill=\"#39e581\" stroke=\"black\" d=\"M872.5,-298.5C872.5,-298.5 786.5,-298.5 786.5,-298.5 780.5,-298.5 774.5,-292.5 774.5,-286.5 774.5,-286.5 774.5,-242.5 774.5,-242.5 774.5,-236.5 780.5,-230.5 786.5,-230.5 786.5,-230.5 872.5,-230.5 872.5,-230.5 878.5,-230.5 884.5,-236.5 884.5,-242.5 884.5,-242.5 884.5,-286.5 884.5,-286.5 884.5,-292.5 878.5,-298.5 872.5,-298.5\"/>\n<text text-anchor=\"start\" x=\"801.5\" y=\"-283.3\" font-family=\"Helvetica,sans-Serif\" font-size=\"14.00\">gini = 0.0</text>\n<text text-anchor=\"start\" x=\"792\" y=\"-268.3\" font-family=\"Helvetica,sans-Serif\" font-size=\"14.00\">samples = 5</text>\n<text text-anchor=\"start\" x=\"782.5\" y=\"-253.3\" font-family=\"Helvetica,sans-Serif\" font-size=\"14.00\">value = [0, 5, 0]</text>\n<text text-anchor=\"start\" x=\"802\" y=\"-238.3\" font-family=\"Helvetica,sans-Serif\" font-size=\"14.00\">class = p</text>\n</g>\n<!-- 15&#45;&gt;17 -->\n<g id=\"edge17\" class=\"edge\">\n<title>15&#45;&gt;17</title>\n<path fill=\"none\" stroke=\"black\" d=\"M745.91,-341.91C758.83,-330.1 772.92,-317.22 785.79,-305.45\"/>\n<polygon fill=\"black\" stroke=\"black\" points=\"788.2,-308 793.21,-298.67 783.47,-302.83 788.2,-308\"/>\n</g>\n</g>\n</svg>\n",
            "text/plain": [
              "<graphviz.sources.Source at 0x7b2f5f1ce620>"
            ]
          },
          "metadata": {},
          "execution_count": 121
        }
      ]
    },
    {
      "cell_type": "code",
      "source": [
        "# print to the output file\n",
        "print('**************************************************************', file = outputFile)\n",
        "print('(A) Classifier 1 - Base DT', file = outputFile)\n",
        "print(classifier_1, file = outputFile)\n",
        "print('\\n', file = outputFile)"
      ],
      "metadata": {
        "id": "OYDP9qI641PW"
      },
      "execution_count": 122,
      "outputs": []
    },
    {
      "cell_type": "code",
      "source": [
        "# print classification report\n",
        "y_pred = classifier_1.predict(X_test)\n",
        "confusion_mat = confusion_matrix(y_test, y_pred)\n",
        "\n",
        "print(classification_report(y_test, y_pred, target_names=['Adelie', 'Chinstrap', 'Gentoo']))\n",
        "print(\"confusion matrix\\n\",confusion_mat)\n",
        "\n",
        "# print the result to the output file\n",
        "confusion_matrix_result =np.array2string(confusion_mat)\n",
        "print(\"(B) Confusion Matrix\", file = outputFile)\n",
        "print(confusion_matrix_result, file = outputFile)\n",
        "print('\\n', file = outputFile)\n",
        "print(\"(C,D) Classification Report\", file = outputFile)\n",
        "print(classification_report(y_test, y_pred, target_names = ['Adelie', 'Gentoo', 'Chinstap']), file = outputFile)\n",
        "outputFile.flush()"
      ],
      "metadata": {
        "colab": {
          "base_uri": "https://localhost:8080/"
        },
        "id": "o-9zdG295Uzs",
        "outputId": "2dc75a2c-7a71-45ff-f24d-3fc364d600f9"
      },
      "execution_count": 123,
      "outputs": [
        {
          "output_type": "stream",
          "name": "stdout",
          "text": [
            "              precision    recall  f1-score   support\n",
            "\n",
            "      Adelie       0.92      0.97      0.95        37\n",
            "   Chinstrap       1.00      0.85      0.92        20\n",
            "      Gentoo       0.96      1.00      0.98        27\n",
            "\n",
            "    accuracy                           0.95        84\n",
            "   macro avg       0.96      0.94      0.95        84\n",
            "weighted avg       0.95      0.95      0.95        84\n",
            "\n",
            "confusion matrix\n",
            " [[36  0  1]\n",
            " [ 3 17  0]\n",
            " [ 0  0 27]]\n"
          ]
        }
      ]
    },
    {
      "cell_type": "code",
      "source": [
        "# repeat training & prediction 5 times for classifier 1\n",
        "from sklearn.metrics import accuracy_score, f1_score\n",
        "\n",
        "accuracy_baseDT = np.zeros(5)\n",
        "macro_avg_baseDT = np.zeros(5)\n",
        "weighted_avg_baseDT = np.zeros(5)\n",
        "\n",
        "for i in range(5):\n",
        "\n",
        "  #data is shuffled and scaled every iteration\n",
        "  X_train, X_test, y_train, y_test = train_test_split(X, y)\n",
        "  sc = StandardScaler()\n",
        "  X_train = sc.fit_transform(X_train)\n",
        "  X_test = sc.transform(X_test)\n",
        "\n",
        "  #train and predict\n",
        "  classifier_1.fit(X_train, y_train)\n",
        "  y_pred = classifier_1.predict(X_test)\n",
        "\n",
        "  # find the accuracy for each iteration and store the value\n",
        "  accuracy_baseDT[i] = accuracy_score(y_test, y_pred)\n",
        "  macro_avg_baseDT[i] = f1_score(y_test, y_pred, average='macro')\n",
        "  weighted_avg_baseDT[i] = f1_score(y_test, y_pred, average='weighted')\n",
        "\n",
        "# compute the average accuracy & variances\n",
        "print(f'accuracy_baseDT: {accuracy_baseDT}')\n",
        "Avg_accuracy = (np.sum(accuracy_baseDT))/5\n",
        "accuracy_variance = np.var(accuracy_baseDT)\n",
        "print(f'average accuracy: {Avg_accuracy:.4f}, variance: {accuracy_variance:.6f}')\n",
        "print()\n",
        "\n",
        "# compute the average macro-average F1 & the variance\n",
        "print(f'macro_avg_baseDT: {macro_avg_baseDT}')\n",
        "Avg_macro_avg = (np.sum(macro_avg_baseDT))/5\n",
        "f1_macro_variance = np.var(macro_avg_baseDT)\n",
        "print(f'average macro-average F1: {Avg_macro_avg:.4f}, variance: {f1_macro_variance:.6f}')\n",
        "print()\n",
        "\n",
        "# compute the average weighted-average F1 & the variance\n",
        "print(f'weighted_avg_baseDT: {weighted_avg_baseDT}')\n",
        "Avg_weighted_avg = (np.sum(weighted_avg_baseDT))/5\n",
        "f1_weighted_variance = np.var(weighted_avg_baseDT)\n",
        "print(f'average weighted-average F1: {Avg_weighted_avg:.4f}, variance: {f1_weighted_variance:.6f}')"
      ],
      "metadata": {
        "id": "kSCBBBuHJcjz",
        "outputId": "80517de4-b1db-4e9a-e891-07621ee12da8",
        "colab": {
          "base_uri": "https://localhost:8080/"
        }
      },
      "execution_count": 124,
      "outputs": [
        {
          "output_type": "stream",
          "name": "stdout",
          "text": [
            "accuracy_baseDT: [0.97619048 0.94047619 0.96428571 0.96428571 1.        ]\n",
            "average accuracy: 0.9690, variance: 0.000374\n",
            "\n",
            "macro_avg_baseDT: [0.97555556 0.93108898 0.95324918 0.95848022 1.        ]\n",
            "average macro-average F1: 0.9637, variance: 0.000532\n",
            "\n",
            "weighted_avg_baseDT: [0.97619048 0.94074149 0.96396848 0.96361424 1.        ]\n",
            "average weighted-average F1: 0.9689, variance: 0.000373\n"
          ]
        }
      ]
    },
    {
      "cell_type": "code",
      "source": [
        "# print the performance result to outputfile\n",
        "print('\\n(E) The result after 5 times of train-test repetition:' ,file = outputFile)\n",
        "print(f'average accuracy: {Avg_accuracy:.4f}, variance: {accuracy_variance:.6f}', file = outputFile)\n",
        "print(f'average macro-average F1: {Avg_macro_avg:.4f}, variance: {f1_macro_variance:.6f}', file = outputFile)\n",
        "print(f'average weighted-average F1: {Avg_weighted_avg:.4f}, variance: {f1_weighted_variance:.6f}', file = outputFile)\n",
        "print('\\n', file = outputFile)\n",
        "outputFile.flush()"
      ],
      "metadata": {
        "id": "G9_phUjPZBFF"
      },
      "execution_count": 125,
      "outputs": []
    },
    {
      "cell_type": "markdown",
      "source": [
        "##### Classifier 2 - Top-DT"
      ],
      "metadata": {
        "id": "8RIB1m4M56j3"
      }
    },
    {
      "cell_type": "code",
      "source": [
        "# Top Decision Tree - decision tree using gridsearch(hyperparameter search)\n",
        "from sklearn.model_selection import GridSearchCV\n",
        "from sklearn.tree import DecisionTreeClassifier\n",
        "\n",
        "parameters = {\n",
        "    'criterion': ['gini', 'entropy'],\n",
        "    'max_depth': [None, 3, 5],\n",
        "    'min_samples_split': [2, 5, 10]\n",
        "}\n",
        "\n",
        "classifier_2 = GridSearchCV(DecisionTreeClassifier(), parameters)\n",
        "classifier_2.fit(X_train, y_train)\n",
        "\n",
        "print(f'best parameters: {classifier_2.best_params_}')"
      ],
      "metadata": {
        "id": "JRPd85lw5jg2",
        "colab": {
          "base_uri": "https://localhost:8080/"
        },
        "outputId": "108ac3d9-6047-4caf-e5f1-ff51ec0db5bc"
      },
      "execution_count": 126,
      "outputs": [
        {
          "output_type": "stream",
          "name": "stdout",
          "text": [
            "best parameters: {'criterion': 'gini', 'max_depth': 5, 'min_samples_split': 2}\n"
          ]
        }
      ]
    },
    {
      "cell_type": "code",
      "source": [
        "penguins_class = data_penguins.columns[0]\n",
        "penguins_features = list(data_penguins.columns[1:])"
      ],
      "metadata": {
        "id": "YFTodB7a_Qxl"
      },
      "execution_count": 127,
      "outputs": []
    },
    {
      "cell_type": "code",
      "source": [
        "from sklearn.tree import export_graphviz\n",
        "from IPython.display import display\n",
        "\n",
        "dot_data = export_graphviz(classifier_2.best_estimator_,\n",
        "                          feature_names=penguins_features,\n",
        "                          class_names=penguins_class,\n",
        "                          filled=True, rounded=True,\n",
        "                          special_characters=True)\n",
        "\n",
        "graph = graphviz.Source(dot_data)\n",
        "display(graph)"
      ],
      "metadata": {
        "id": "Yq9k0XZ6-odi",
        "outputId": "51e50462-3438-47b3-fdcc-4cfb6e6994f0",
        "colab": {
          "base_uri": "https://localhost:8080/",
          "height": 917
        }
      },
      "execution_count": 128,
      "outputs": [
        {
          "output_type": "display_data",
          "data": {
            "image/svg+xml": "<?xml version=\"1.0\" encoding=\"UTF-8\" standalone=\"no\"?>\n<!DOCTYPE svg PUBLIC \"-//W3C//DTD SVG 1.1//EN\"\n \"http://www.w3.org/Graphics/SVG/1.1/DTD/svg11.dtd\">\n<!-- Generated by graphviz version 2.43.0 (0)\n -->\n<!-- Title: Tree Pages: 1 -->\n<svg width=\"1155pt\" height=\"671pt\"\n viewBox=\"0.00 0.00 1155.00 671.00\" xmlns=\"http://www.w3.org/2000/svg\" xmlns:xlink=\"http://www.w3.org/1999/xlink\">\n<g id=\"graph0\" class=\"graph\" transform=\"scale(1 1) rotate(0) translate(4 667)\">\n<title>Tree</title>\n<polygon fill=\"white\" stroke=\"transparent\" points=\"-4,4 -4,-667 1151,-667 1151,4 -4,4\"/>\n<!-- 0 -->\n<g id=\"node1\" class=\"node\">\n<title>0</title>\n<path fill=\"#fcf2eb\" stroke=\"black\" d=\"M795,-663C795,-663 641,-663 641,-663 635,-663 629,-657 629,-651 629,-651 629,-592 629,-592 629,-586 635,-580 641,-580 641,-580 795,-580 795,-580 801,-580 807,-586 807,-592 807,-592 807,-651 807,-651 807,-657 801,-663 795,-663\"/>\n<text text-anchor=\"start\" x=\"637\" y=\"-647.8\" font-family=\"Helvetica,sans-Serif\" font-size=\"14.00\">flipper_length_mm ≤ 0.412</text>\n<text text-anchor=\"start\" x=\"682.5\" y=\"-632.8\" font-family=\"Helvetica,sans-Serif\" font-size=\"14.00\">gini = 0.646</text>\n<text text-anchor=\"start\" x=\"673\" y=\"-617.8\" font-family=\"Helvetica,sans-Serif\" font-size=\"14.00\">samples = 249</text>\n<text text-anchor=\"start\" x=\"656\" y=\"-602.8\" font-family=\"Helvetica,sans-Serif\" font-size=\"14.00\">value = [105, 55, 89]</text>\n<text text-anchor=\"start\" x=\"691\" y=\"-587.8\" font-family=\"Helvetica,sans-Serif\" font-size=\"14.00\">class = s</text>\n</g>\n<!-- 1 -->\n<g id=\"node2\" class=\"node\">\n<title>1</title>\n<path fill=\"#f2c19e\" stroke=\"black\" d=\"M699,-544C699,-544 533,-544 533,-544 527,-544 521,-538 521,-532 521,-532 521,-473 521,-473 521,-467 527,-461 533,-461 533,-461 699,-461 699,-461 705,-461 711,-467 711,-473 711,-473 711,-532 711,-532 711,-538 705,-544 699,-544\"/>\n<text text-anchor=\"start\" x=\"529\" y=\"-528.8\" font-family=\"Helvetica,sans-Serif\" font-size=\"14.00\">culmen_length_mm ≤ &#45;0.137</text>\n<text text-anchor=\"start\" x=\"580.5\" y=\"-513.8\" font-family=\"Helvetica,sans-Serif\" font-size=\"14.00\">gini = 0.453</text>\n<text text-anchor=\"start\" x=\"571\" y=\"-498.8\" font-family=\"Helvetica,sans-Serif\" font-size=\"14.00\">samples = 156</text>\n<text text-anchor=\"start\" x=\"558\" y=\"-483.8\" font-family=\"Helvetica,sans-Serif\" font-size=\"14.00\">value = [103, 52, 1]</text>\n<text text-anchor=\"start\" x=\"589\" y=\"-468.8\" font-family=\"Helvetica,sans-Serif\" font-size=\"14.00\">class = s</text>\n</g>\n<!-- 0&#45;&gt;1 -->\n<g id=\"edge1\" class=\"edge\">\n<title>0&#45;&gt;1</title>\n<path fill=\"none\" stroke=\"black\" d=\"M682.61,-579.91C674.7,-570.83 666.23,-561.12 658.08,-551.77\"/>\n<polygon fill=\"black\" stroke=\"black\" points=\"660.54,-549.26 651.33,-544.02 655.26,-553.86 660.54,-549.26\"/>\n<text text-anchor=\"middle\" x=\"649.62\" y=\"-565.26\" font-family=\"Helvetica,sans-Serif\" font-size=\"14.00\">True</text>\n</g>\n<!-- 18 -->\n<g id=\"node19\" class=\"node\">\n<title>18</title>\n<path fill=\"#8844e6\" stroke=\"black\" d=\"M899,-544C899,-544 741,-544 741,-544 735,-544 729,-538 729,-532 729,-532 729,-473 729,-473 729,-467 735,-461 741,-461 741,-461 899,-461 899,-461 905,-461 911,-467 911,-473 911,-473 911,-532 911,-532 911,-538 905,-544 899,-544\"/>\n<text text-anchor=\"start\" x=\"737\" y=\"-528.8\" font-family=\"Helvetica,sans-Serif\" font-size=\"14.00\">culmen_depth_mm ≤ 0.284</text>\n<text text-anchor=\"start\" x=\"784.5\" y=\"-513.8\" font-family=\"Helvetica,sans-Serif\" font-size=\"14.00\">gini = 0.103</text>\n<text text-anchor=\"start\" x=\"779\" y=\"-498.8\" font-family=\"Helvetica,sans-Serif\" font-size=\"14.00\">samples = 93</text>\n<text text-anchor=\"start\" x=\"769.5\" y=\"-483.8\" font-family=\"Helvetica,sans-Serif\" font-size=\"14.00\">value = [2, 3, 88]</text>\n<text text-anchor=\"start\" x=\"792.5\" y=\"-468.8\" font-family=\"Helvetica,sans-Serif\" font-size=\"14.00\">class = e</text>\n</g>\n<!-- 0&#45;&gt;18 -->\n<g id=\"edge18\" class=\"edge\">\n<title>0&#45;&gt;18</title>\n<path fill=\"none\" stroke=\"black\" d=\"M753.39,-579.91C761.3,-570.83 769.77,-561.12 777.92,-551.77\"/>\n<polygon fill=\"black\" stroke=\"black\" points=\"780.74,-553.86 784.67,-544.02 775.46,-549.26 780.74,-553.86\"/>\n<text text-anchor=\"middle\" x=\"786.38\" y=\"-565.26\" font-family=\"Helvetica,sans-Serif\" font-size=\"14.00\">False</text>\n</g>\n<!-- 2 -->\n<g id=\"node3\" class=\"node\">\n<title>2</title>\n<path fill=\"#e68641\" stroke=\"black\" d=\"M517,-425C517,-425 351,-425 351,-425 345,-425 339,-419 339,-413 339,-413 339,-354 339,-354 339,-348 345,-342 351,-342 351,-342 517,-342 517,-342 523,-342 529,-348 529,-354 529,-354 529,-413 529,-413 529,-419 523,-425 517,-425\"/>\n<text text-anchor=\"start\" x=\"347\" y=\"-409.8\" font-family=\"Helvetica,sans-Serif\" font-size=\"14.00\">culmen_length_mm ≤ &#45;0.332</text>\n<text text-anchor=\"start\" x=\"398.5\" y=\"-394.8\" font-family=\"Helvetica,sans-Serif\" font-size=\"14.00\">gini = 0.074</text>\n<text text-anchor=\"start\" x=\"389\" y=\"-379.8\" font-family=\"Helvetica,sans-Serif\" font-size=\"14.00\">samples = 104</text>\n<text text-anchor=\"start\" x=\"379.5\" y=\"-364.8\" font-family=\"Helvetica,sans-Serif\" font-size=\"14.00\">value = [100, 4, 0]</text>\n<text text-anchor=\"start\" x=\"407\" y=\"-349.8\" font-family=\"Helvetica,sans-Serif\" font-size=\"14.00\">class = s</text>\n</g>\n<!-- 1&#45;&gt;2 -->\n<g id=\"edge2\" class=\"edge\">\n<title>1&#45;&gt;2</title>\n<path fill=\"none\" stroke=\"black\" d=\"M552.86,-460.91C537.61,-451.11 521.21,-440.56 505.61,-430.53\"/>\n<polygon fill=\"black\" stroke=\"black\" points=\"507.34,-427.48 497.03,-425.02 503.55,-433.37 507.34,-427.48\"/>\n</g>\n<!-- 11 -->\n<g id=\"node12\" class=\"node\">\n<title>11</title>\n<path fill=\"#49e78b\" stroke=\"black\" d=\"M690.5,-425C690.5,-425 559.5,-425 559.5,-425 553.5,-425 547.5,-419 547.5,-413 547.5,-413 547.5,-354 547.5,-354 547.5,-348 553.5,-342 559.5,-342 559.5,-342 690.5,-342 690.5,-342 696.5,-342 702.5,-348 702.5,-354 702.5,-354 702.5,-413 702.5,-413 702.5,-419 696.5,-425 690.5,-425\"/>\n<text text-anchor=\"start\" x=\"555.5\" y=\"-409.8\" font-family=\"Helvetica,sans-Serif\" font-size=\"14.00\">body_mass_g ≤ &#45;0.083</text>\n<text text-anchor=\"start\" x=\"589.5\" y=\"-394.8\" font-family=\"Helvetica,sans-Serif\" font-size=\"14.00\">gini = 0.144</text>\n<text text-anchor=\"start\" x=\"584\" y=\"-379.8\" font-family=\"Helvetica,sans-Serif\" font-size=\"14.00\">samples = 52</text>\n<text text-anchor=\"start\" x=\"574.5\" y=\"-364.8\" font-family=\"Helvetica,sans-Serif\" font-size=\"14.00\">value = [3, 48, 1]</text>\n<text text-anchor=\"start\" x=\"597.5\" y=\"-349.8\" font-family=\"Helvetica,sans-Serif\" font-size=\"14.00\">class = p</text>\n</g>\n<!-- 1&#45;&gt;11 -->\n<g id=\"edge11\" class=\"edge\">\n<title>1&#45;&gt;11</title>\n<path fill=\"none\" stroke=\"black\" d=\"M619.12,-460.91C619.76,-452.56 620.45,-443.67 621.11,-435.02\"/>\n<polygon fill=\"black\" stroke=\"black\" points=\"624.61,-435.26 621.88,-425.02 617.63,-434.72 624.61,-435.26\"/>\n</g>\n<!-- 3 -->\n<g id=\"node4\" class=\"node\">\n<title>3</title>\n<path fill=\"#e5823b\" stroke=\"black\" d=\"M363.5,-306C363.5,-306 200.5,-306 200.5,-306 194.5,-306 188.5,-300 188.5,-294 188.5,-294 188.5,-235 188.5,-235 188.5,-229 194.5,-223 200.5,-223 200.5,-223 363.5,-223 363.5,-223 369.5,-223 375.5,-229 375.5,-235 375.5,-235 375.5,-294 375.5,-294 375.5,-300 369.5,-306 363.5,-306\"/>\n<text text-anchor=\"start\" x=\"196.5\" y=\"-290.8\" font-family=\"Helvetica,sans-Serif\" font-size=\"14.00\">culmen_depth_mm ≤ &#45;0.223</text>\n<text text-anchor=\"start\" x=\"250\" y=\"-275.8\" font-family=\"Helvetica,sans-Serif\" font-size=\"14.00\">gini = 0.02</text>\n<text text-anchor=\"start\" x=\"241\" y=\"-260.8\" font-family=\"Helvetica,sans-Serif\" font-size=\"14.00\">samples = 97</text>\n<text text-anchor=\"start\" x=\"231.5\" y=\"-245.8\" font-family=\"Helvetica,sans-Serif\" font-size=\"14.00\">value = [96, 1, 0]</text>\n<text text-anchor=\"start\" x=\"255\" y=\"-230.8\" font-family=\"Helvetica,sans-Serif\" font-size=\"14.00\">class = s</text>\n</g>\n<!-- 2&#45;&gt;3 -->\n<g id=\"edge3\" class=\"edge\">\n<title>2&#45;&gt;3</title>\n<path fill=\"none\" stroke=\"black\" d=\"M381.26,-341.91C368.88,-332.38 355.59,-322.15 342.89,-312.37\"/>\n<polygon fill=\"black\" stroke=\"black\" points=\"344.7,-309.35 334.64,-306.02 340.43,-314.89 344.7,-309.35\"/>\n</g>\n<!-- 8 -->\n<g id=\"node9\" class=\"node\">\n<title>8</title>\n<path fill=\"#f8e0ce\" stroke=\"black\" d=\"M492,-306C492,-306 406,-306 406,-306 400,-306 394,-300 394,-294 394,-294 394,-235 394,-235 394,-229 400,-223 406,-223 406,-223 492,-223 492,-223 498,-223 504,-229 504,-235 504,-235 504,-294 504,-294 504,-300 498,-306 492,-306\"/>\n<text text-anchor=\"start\" x=\"414\" y=\"-290.8\" font-family=\"Helvetica,sans-Serif\" font-size=\"14.00\">sex ≤ 0.028</text>\n<text text-anchor=\"start\" x=\"417\" y=\"-275.8\" font-family=\"Helvetica,sans-Serif\" font-size=\"14.00\">gini = 0.49</text>\n<text text-anchor=\"start\" x=\"411.5\" y=\"-260.8\" font-family=\"Helvetica,sans-Serif\" font-size=\"14.00\">samples = 7</text>\n<text text-anchor=\"start\" x=\"402\" y=\"-245.8\" font-family=\"Helvetica,sans-Serif\" font-size=\"14.00\">value = [4, 3, 0]</text>\n<text text-anchor=\"start\" x=\"422\" y=\"-230.8\" font-family=\"Helvetica,sans-Serif\" font-size=\"14.00\">class = s</text>\n</g>\n<!-- 2&#45;&gt;8 -->\n<g id=\"edge8\" class=\"edge\">\n<title>2&#45;&gt;8</title>\n<path fill=\"none\" stroke=\"black\" d=\"M439.2,-341.91C440.27,-333.56 441.41,-324.67 442.52,-316.02\"/>\n<polygon fill=\"black\" stroke=\"black\" points=\"446,-316.38 443.81,-306.02 439.06,-315.49 446,-316.38\"/>\n</g>\n<!-- 4 -->\n<g id=\"node5\" class=\"node\">\n<title>4</title>\n<path fill=\"#e89152\" stroke=\"black\" d=\"M202,-187C202,-187 36,-187 36,-187 30,-187 24,-181 24,-175 24,-175 24,-116 24,-116 24,-110 30,-104 36,-104 36,-104 202,-104 202,-104 208,-104 214,-110 214,-116 214,-116 214,-175 214,-175 214,-181 208,-187 202,-187\"/>\n<text text-anchor=\"start\" x=\"32\" y=\"-171.8\" font-family=\"Helvetica,sans-Serif\" font-size=\"14.00\">culmen_length_mm ≤ &#45;0.853</text>\n<text text-anchor=\"start\" x=\"83.5\" y=\"-156.8\" font-family=\"Helvetica,sans-Serif\" font-size=\"14.00\">gini = 0.198</text>\n<text text-anchor=\"start\" x=\"81.5\" y=\"-141.8\" font-family=\"Helvetica,sans-Serif\" font-size=\"14.00\">samples = 9</text>\n<text text-anchor=\"start\" x=\"72\" y=\"-126.8\" font-family=\"Helvetica,sans-Serif\" font-size=\"14.00\">value = [8, 1, 0]</text>\n<text text-anchor=\"start\" x=\"92\" y=\"-111.8\" font-family=\"Helvetica,sans-Serif\" font-size=\"14.00\">class = s</text>\n</g>\n<!-- 3&#45;&gt;4 -->\n<g id=\"edge4\" class=\"edge\">\n<title>3&#45;&gt;4</title>\n<path fill=\"none\" stroke=\"black\" d=\"M225.45,-222.91C212.05,-213.29 197.65,-202.95 183.91,-193.09\"/>\n<polygon fill=\"black\" stroke=\"black\" points=\"185.62,-190.01 175.45,-187.02 181.53,-195.7 185.62,-190.01\"/>\n</g>\n<!-- 7 -->\n<g id=\"node8\" class=\"node\">\n<title>7</title>\n<path fill=\"#e58139\" stroke=\"black\" d=\"M337.5,-179.5C337.5,-179.5 244.5,-179.5 244.5,-179.5 238.5,-179.5 232.5,-173.5 232.5,-167.5 232.5,-167.5 232.5,-123.5 232.5,-123.5 232.5,-117.5 238.5,-111.5 244.5,-111.5 244.5,-111.5 337.5,-111.5 337.5,-111.5 343.5,-111.5 349.5,-117.5 349.5,-123.5 349.5,-123.5 349.5,-167.5 349.5,-167.5 349.5,-173.5 343.5,-179.5 337.5,-179.5\"/>\n<text text-anchor=\"start\" x=\"263\" y=\"-164.3\" font-family=\"Helvetica,sans-Serif\" font-size=\"14.00\">gini = 0.0</text>\n<text text-anchor=\"start\" x=\"250\" y=\"-149.3\" font-family=\"Helvetica,sans-Serif\" font-size=\"14.00\">samples = 88</text>\n<text text-anchor=\"start\" x=\"240.5\" y=\"-134.3\" font-family=\"Helvetica,sans-Serif\" font-size=\"14.00\">value = [88, 0, 0]</text>\n<text text-anchor=\"start\" x=\"264\" y=\"-119.3\" font-family=\"Helvetica,sans-Serif\" font-size=\"14.00\">class = s</text>\n</g>\n<!-- 3&#45;&gt;7 -->\n<g id=\"edge7\" class=\"edge\">\n<title>3&#45;&gt;7</title>\n<path fill=\"none\" stroke=\"black\" d=\"M285.12,-222.91C285.95,-212.2 286.84,-200.62 287.67,-189.78\"/>\n<polygon fill=\"black\" stroke=\"black\" points=\"291.17,-189.91 288.45,-179.67 284.19,-189.37 291.17,-189.91\"/>\n</g>\n<!-- 5 -->\n<g id=\"node6\" class=\"node\">\n<title>5</title>\n<path fill=\"#e58139\" stroke=\"black\" d=\"M98,-68C98,-68 12,-68 12,-68 6,-68 0,-62 0,-56 0,-56 0,-12 0,-12 0,-6 6,0 12,0 12,0 98,0 98,0 104,0 110,-6 110,-12 110,-12 110,-56 110,-56 110,-62 104,-68 98,-68\"/>\n<text text-anchor=\"start\" x=\"27\" y=\"-52.8\" font-family=\"Helvetica,sans-Serif\" font-size=\"14.00\">gini = 0.0</text>\n<text text-anchor=\"start\" x=\"17.5\" y=\"-37.8\" font-family=\"Helvetica,sans-Serif\" font-size=\"14.00\">samples = 8</text>\n<text text-anchor=\"start\" x=\"8\" y=\"-22.8\" font-family=\"Helvetica,sans-Serif\" font-size=\"14.00\">value = [8, 0, 0]</text>\n<text text-anchor=\"start\" x=\"28\" y=\"-7.8\" font-family=\"Helvetica,sans-Serif\" font-size=\"14.00\">class = s</text>\n</g>\n<!-- 4&#45;&gt;5 -->\n<g id=\"edge5\" class=\"edge\">\n<title>4&#45;&gt;5</title>\n<path fill=\"none\" stroke=\"black\" d=\"M95.17,-103.73C90.1,-95.06 84.75,-85.9 79.65,-77.18\"/>\n<polygon fill=\"black\" stroke=\"black\" points=\"82.53,-75.17 74.46,-68.3 76.49,-78.7 82.53,-75.17\"/>\n</g>\n<!-- 6 -->\n<g id=\"node7\" class=\"node\">\n<title>6</title>\n<path fill=\"#39e581\" stroke=\"black\" d=\"M226,-68C226,-68 140,-68 140,-68 134,-68 128,-62 128,-56 128,-56 128,-12 128,-12 128,-6 134,0 140,0 140,0 226,0 226,0 232,0 238,-6 238,-12 238,-12 238,-56 238,-56 238,-62 232,-68 226,-68\"/>\n<text text-anchor=\"start\" x=\"155\" y=\"-52.8\" font-family=\"Helvetica,sans-Serif\" font-size=\"14.00\">gini = 0.0</text>\n<text text-anchor=\"start\" x=\"145.5\" y=\"-37.8\" font-family=\"Helvetica,sans-Serif\" font-size=\"14.00\">samples = 1</text>\n<text text-anchor=\"start\" x=\"136\" y=\"-22.8\" font-family=\"Helvetica,sans-Serif\" font-size=\"14.00\">value = [0, 1, 0]</text>\n<text text-anchor=\"start\" x=\"155.5\" y=\"-7.8\" font-family=\"Helvetica,sans-Serif\" font-size=\"14.00\">class = p</text>\n</g>\n<!-- 4&#45;&gt;6 -->\n<g id=\"edge6\" class=\"edge\">\n<title>4&#45;&gt;6</title>\n<path fill=\"none\" stroke=\"black\" d=\"M142.83,-103.73C147.9,-95.06 153.25,-85.9 158.35,-77.18\"/>\n<polygon fill=\"black\" stroke=\"black\" points=\"161.51,-78.7 163.54,-68.3 155.47,-75.17 161.51,-78.7\"/>\n</g>\n<!-- 9 -->\n<g id=\"node10\" class=\"node\">\n<title>9</title>\n<path fill=\"#39e581\" stroke=\"black\" d=\"M483,-179.5C483,-179.5 397,-179.5 397,-179.5 391,-179.5 385,-173.5 385,-167.5 385,-167.5 385,-123.5 385,-123.5 385,-117.5 391,-111.5 397,-111.5 397,-111.5 483,-111.5 483,-111.5 489,-111.5 495,-117.5 495,-123.5 495,-123.5 495,-167.5 495,-167.5 495,-173.5 489,-179.5 483,-179.5\"/>\n<text text-anchor=\"start\" x=\"412\" y=\"-164.3\" font-family=\"Helvetica,sans-Serif\" font-size=\"14.00\">gini = 0.0</text>\n<text text-anchor=\"start\" x=\"402.5\" y=\"-149.3\" font-family=\"Helvetica,sans-Serif\" font-size=\"14.00\">samples = 3</text>\n<text text-anchor=\"start\" x=\"393\" y=\"-134.3\" font-family=\"Helvetica,sans-Serif\" font-size=\"14.00\">value = [0, 3, 0]</text>\n<text text-anchor=\"start\" x=\"412.5\" y=\"-119.3\" font-family=\"Helvetica,sans-Serif\" font-size=\"14.00\">class = p</text>\n</g>\n<!-- 8&#45;&gt;9 -->\n<g id=\"edge9\" class=\"edge\">\n<title>8&#45;&gt;9</title>\n<path fill=\"none\" stroke=\"black\" d=\"M445.88,-222.91C445.05,-212.2 444.16,-200.62 443.33,-189.78\"/>\n<polygon fill=\"black\" stroke=\"black\" points=\"446.81,-189.37 442.55,-179.67 439.83,-189.91 446.81,-189.37\"/>\n</g>\n<!-- 10 -->\n<g id=\"node11\" class=\"node\">\n<title>10</title>\n<path fill=\"#e58139\" stroke=\"black\" d=\"M611,-179.5C611,-179.5 525,-179.5 525,-179.5 519,-179.5 513,-173.5 513,-167.5 513,-167.5 513,-123.5 513,-123.5 513,-117.5 519,-111.5 525,-111.5 525,-111.5 611,-111.5 611,-111.5 617,-111.5 623,-117.5 623,-123.5 623,-123.5 623,-167.5 623,-167.5 623,-173.5 617,-179.5 611,-179.5\"/>\n<text text-anchor=\"start\" x=\"540\" y=\"-164.3\" font-family=\"Helvetica,sans-Serif\" font-size=\"14.00\">gini = 0.0</text>\n<text text-anchor=\"start\" x=\"530.5\" y=\"-149.3\" font-family=\"Helvetica,sans-Serif\" font-size=\"14.00\">samples = 4</text>\n<text text-anchor=\"start\" x=\"521\" y=\"-134.3\" font-family=\"Helvetica,sans-Serif\" font-size=\"14.00\">value = [4, 0, 0]</text>\n<text text-anchor=\"start\" x=\"541\" y=\"-119.3\" font-family=\"Helvetica,sans-Serif\" font-size=\"14.00\">class = s</text>\n</g>\n<!-- 8&#45;&gt;10 -->\n<g id=\"edge10\" class=\"edge\">\n<title>8&#45;&gt;10</title>\n<path fill=\"none\" stroke=\"black\" d=\"M490.29,-222.91C502.18,-211.21 515.15,-198.46 527.03,-186.78\"/>\n<polygon fill=\"black\" stroke=\"black\" points=\"529.59,-189.17 534.27,-179.67 524.68,-184.18 529.59,-189.17\"/>\n</g>\n<!-- 12 -->\n<g id=\"node13\" class=\"node\">\n<title>12</title>\n<path fill=\"#39e581\" stroke=\"black\" d=\"M656.5,-298.5C656.5,-298.5 563.5,-298.5 563.5,-298.5 557.5,-298.5 551.5,-292.5 551.5,-286.5 551.5,-286.5 551.5,-242.5 551.5,-242.5 551.5,-236.5 557.5,-230.5 563.5,-230.5 563.5,-230.5 656.5,-230.5 656.5,-230.5 662.5,-230.5 668.5,-236.5 668.5,-242.5 668.5,-242.5 668.5,-286.5 668.5,-286.5 668.5,-292.5 662.5,-298.5 656.5,-298.5\"/>\n<text text-anchor=\"start\" x=\"582\" y=\"-283.3\" font-family=\"Helvetica,sans-Serif\" font-size=\"14.00\">gini = 0.0</text>\n<text text-anchor=\"start\" x=\"569\" y=\"-268.3\" font-family=\"Helvetica,sans-Serif\" font-size=\"14.00\">samples = 44</text>\n<text text-anchor=\"start\" x=\"559.5\" y=\"-253.3\" font-family=\"Helvetica,sans-Serif\" font-size=\"14.00\">value = [0, 44, 0]</text>\n<text text-anchor=\"start\" x=\"582.5\" y=\"-238.3\" font-family=\"Helvetica,sans-Serif\" font-size=\"14.00\">class = p</text>\n</g>\n<!-- 11&#45;&gt;12 -->\n<g id=\"edge12\" class=\"edge\">\n<title>11&#45;&gt;12</title>\n<path fill=\"none\" stroke=\"black\" d=\"M619.8,-341.91C618.42,-331.2 616.94,-319.62 615.55,-308.78\"/>\n<polygon fill=\"black\" stroke=\"black\" points=\"619,-308.14 614.25,-298.67 612.05,-309.03 619,-308.14\"/>\n</g>\n<!-- 13 -->\n<g id=\"node14\" class=\"node\">\n<title>13</title>\n<path fill=\"#d7fae6\" stroke=\"black\" d=\"M859.5,-306C859.5,-306 698.5,-306 698.5,-306 692.5,-306 686.5,-300 686.5,-294 686.5,-294 686.5,-235 686.5,-235 686.5,-229 692.5,-223 698.5,-223 698.5,-223 859.5,-223 859.5,-223 865.5,-223 871.5,-229 871.5,-235 871.5,-235 871.5,-294 871.5,-294 871.5,-300 865.5,-306 859.5,-306\"/>\n<text text-anchor=\"start\" x=\"694.5\" y=\"-290.8\" font-family=\"Helvetica,sans-Serif\" font-size=\"14.00\">culmen_length_mm ≤ 0.877</text>\n<text text-anchor=\"start\" x=\"743.5\" y=\"-275.8\" font-family=\"Helvetica,sans-Serif\" font-size=\"14.00\">gini = 0.594</text>\n<text text-anchor=\"start\" x=\"741.5\" y=\"-260.8\" font-family=\"Helvetica,sans-Serif\" font-size=\"14.00\">samples = 8</text>\n<text text-anchor=\"start\" x=\"732\" y=\"-245.8\" font-family=\"Helvetica,sans-Serif\" font-size=\"14.00\">value = [3, 4, 1]</text>\n<text text-anchor=\"start\" x=\"751.5\" y=\"-230.8\" font-family=\"Helvetica,sans-Serif\" font-size=\"14.00\">class = p</text>\n</g>\n<!-- 11&#45;&gt;13 -->\n<g id=\"edge13\" class=\"edge\">\n<title>11&#45;&gt;13</title>\n<path fill=\"none\" stroke=\"black\" d=\"M678.43,-341.91C691.09,-332.29 704.69,-321.95 717.68,-312.09\"/>\n<polygon fill=\"black\" stroke=\"black\" points=\"719.82,-314.86 725.66,-306.02 715.58,-309.28 719.82,-314.86\"/>\n</g>\n<!-- 14 -->\n<g id=\"node15\" class=\"node\">\n<title>14</title>\n<path fill=\"#f2c09c\" stroke=\"black\" d=\"M781,-187C781,-187 695,-187 695,-187 689,-187 683,-181 683,-175 683,-175 683,-116 683,-116 683,-110 689,-104 695,-104 695,-104 781,-104 781,-104 787,-104 793,-110 793,-116 793,-116 793,-175 793,-175 793,-181 787,-187 781,-187\"/>\n<text text-anchor=\"start\" x=\"703\" y=\"-171.8\" font-family=\"Helvetica,sans-Serif\" font-size=\"14.00\">sex ≤ 0.028</text>\n<text text-anchor=\"start\" x=\"706\" y=\"-156.8\" font-family=\"Helvetica,sans-Serif\" font-size=\"14.00\">gini = 0.56</text>\n<text text-anchor=\"start\" x=\"700.5\" y=\"-141.8\" font-family=\"Helvetica,sans-Serif\" font-size=\"14.00\">samples = 5</text>\n<text text-anchor=\"start\" x=\"691\" y=\"-126.8\" font-family=\"Helvetica,sans-Serif\" font-size=\"14.00\">value = [3, 1, 1]</text>\n<text text-anchor=\"start\" x=\"711\" y=\"-111.8\" font-family=\"Helvetica,sans-Serif\" font-size=\"14.00\">class = s</text>\n</g>\n<!-- 13&#45;&gt;14 -->\n<g id=\"edge14\" class=\"edge\">\n<title>13&#45;&gt;14</title>\n<path fill=\"none\" stroke=\"black\" d=\"M764.78,-222.91C761.82,-214.47 758.67,-205.48 755.6,-196.74\"/>\n<polygon fill=\"black\" stroke=\"black\" points=\"758.81,-195.3 752.2,-187.02 752.2,-197.62 758.81,-195.3\"/>\n</g>\n<!-- 17 -->\n<g id=\"node18\" class=\"node\">\n<title>17</title>\n<path fill=\"#39e581\" stroke=\"black\" d=\"M909,-179.5C909,-179.5 823,-179.5 823,-179.5 817,-179.5 811,-173.5 811,-167.5 811,-167.5 811,-123.5 811,-123.5 811,-117.5 817,-111.5 823,-111.5 823,-111.5 909,-111.5 909,-111.5 915,-111.5 921,-117.5 921,-123.5 921,-123.5 921,-167.5 921,-167.5 921,-173.5 915,-179.5 909,-179.5\"/>\n<text text-anchor=\"start\" x=\"838\" y=\"-164.3\" font-family=\"Helvetica,sans-Serif\" font-size=\"14.00\">gini = 0.0</text>\n<text text-anchor=\"start\" x=\"828.5\" y=\"-149.3\" font-family=\"Helvetica,sans-Serif\" font-size=\"14.00\">samples = 3</text>\n<text text-anchor=\"start\" x=\"819\" y=\"-134.3\" font-family=\"Helvetica,sans-Serif\" font-size=\"14.00\">value = [0, 3, 0]</text>\n<text text-anchor=\"start\" x=\"838.5\" y=\"-119.3\" font-family=\"Helvetica,sans-Serif\" font-size=\"14.00\">class = p</text>\n</g>\n<!-- 13&#45;&gt;17 -->\n<g id=\"edge17\" class=\"edge\">\n<title>13&#45;&gt;17</title>\n<path fill=\"none\" stroke=\"black\" d=\"M809.18,-222.91C817.64,-211.54 826.83,-199.18 835.31,-187.77\"/>\n<polygon fill=\"black\" stroke=\"black\" points=\"838.18,-189.78 841.34,-179.67 832.56,-185.6 838.18,-189.78\"/>\n</g>\n<!-- 15 -->\n<g id=\"node16\" class=\"node\">\n<title>15</title>\n<path fill=\"#ffffff\" stroke=\"black\" d=\"M717,-68C717,-68 631,-68 631,-68 625,-68 619,-62 619,-56 619,-56 619,-12 619,-12 619,-6 625,0 631,0 631,0 717,0 717,0 723,0 729,-6 729,-12 729,-12 729,-56 729,-56 729,-62 723,-68 717,-68\"/>\n<text text-anchor=\"start\" x=\"646\" y=\"-52.8\" font-family=\"Helvetica,sans-Serif\" font-size=\"14.00\">gini = 0.5</text>\n<text text-anchor=\"start\" x=\"636.5\" y=\"-37.8\" font-family=\"Helvetica,sans-Serif\" font-size=\"14.00\">samples = 2</text>\n<text text-anchor=\"start\" x=\"627\" y=\"-22.8\" font-family=\"Helvetica,sans-Serif\" font-size=\"14.00\">value = [0, 1, 1]</text>\n<text text-anchor=\"start\" x=\"646.5\" y=\"-7.8\" font-family=\"Helvetica,sans-Serif\" font-size=\"14.00\">class = p</text>\n</g>\n<!-- 14&#45;&gt;15 -->\n<g id=\"edge15\" class=\"edge\">\n<title>14&#45;&gt;15</title>\n<path fill=\"none\" stroke=\"black\" d=\"M714.17,-103.73C709.1,-95.06 703.75,-85.9 698.65,-77.18\"/>\n<polygon fill=\"black\" stroke=\"black\" points=\"701.53,-75.17 693.46,-68.3 695.49,-78.7 701.53,-75.17\"/>\n</g>\n<!-- 16 -->\n<g id=\"node17\" class=\"node\">\n<title>16</title>\n<path fill=\"#e58139\" stroke=\"black\" d=\"M845,-68C845,-68 759,-68 759,-68 753,-68 747,-62 747,-56 747,-56 747,-12 747,-12 747,-6 753,0 759,0 759,0 845,0 845,0 851,0 857,-6 857,-12 857,-12 857,-56 857,-56 857,-62 851,-68 845,-68\"/>\n<text text-anchor=\"start\" x=\"774\" y=\"-52.8\" font-family=\"Helvetica,sans-Serif\" font-size=\"14.00\">gini = 0.0</text>\n<text text-anchor=\"start\" x=\"764.5\" y=\"-37.8\" font-family=\"Helvetica,sans-Serif\" font-size=\"14.00\">samples = 3</text>\n<text text-anchor=\"start\" x=\"755\" y=\"-22.8\" font-family=\"Helvetica,sans-Serif\" font-size=\"14.00\">value = [3, 0, 0]</text>\n<text text-anchor=\"start\" x=\"775\" y=\"-7.8\" font-family=\"Helvetica,sans-Serif\" font-size=\"14.00\">class = s</text>\n</g>\n<!-- 14&#45;&gt;16 -->\n<g id=\"edge16\" class=\"edge\">\n<title>14&#45;&gt;16</title>\n<path fill=\"none\" stroke=\"black\" d=\"M761.83,-103.73C766.9,-95.06 772.25,-85.9 777.35,-77.18\"/>\n<polygon fill=\"black\" stroke=\"black\" points=\"780.51,-78.7 782.54,-68.3 774.47,-75.17 780.51,-78.7\"/>\n</g>\n<!-- 19 -->\n<g id=\"node20\" class=\"node\">\n<title>19</title>\n<path fill=\"#8139e5\" stroke=\"black\" d=\"M849.5,-417.5C849.5,-417.5 756.5,-417.5 756.5,-417.5 750.5,-417.5 744.5,-411.5 744.5,-405.5 744.5,-405.5 744.5,-361.5 744.5,-361.5 744.5,-355.5 750.5,-349.5 756.5,-349.5 756.5,-349.5 849.5,-349.5 849.5,-349.5 855.5,-349.5 861.5,-355.5 861.5,-361.5 861.5,-361.5 861.5,-405.5 861.5,-405.5 861.5,-411.5 855.5,-417.5 849.5,-417.5\"/>\n<text text-anchor=\"start\" x=\"775\" y=\"-402.3\" font-family=\"Helvetica,sans-Serif\" font-size=\"14.00\">gini = 0.0</text>\n<text text-anchor=\"start\" x=\"762\" y=\"-387.3\" font-family=\"Helvetica,sans-Serif\" font-size=\"14.00\">samples = 88</text>\n<text text-anchor=\"start\" x=\"752.5\" y=\"-372.3\" font-family=\"Helvetica,sans-Serif\" font-size=\"14.00\">value = [0, 0, 88]</text>\n<text text-anchor=\"start\" x=\"775.5\" y=\"-357.3\" font-family=\"Helvetica,sans-Serif\" font-size=\"14.00\">class = e</text>\n</g>\n<!-- 18&#45;&gt;19 -->\n<g id=\"edge19\" class=\"edge\">\n<title>18&#45;&gt;19</title>\n<path fill=\"none\" stroke=\"black\" d=\"M814.1,-460.91C812.55,-450.2 810.86,-438.62 809.29,-427.78\"/>\n<polygon fill=\"black\" stroke=\"black\" points=\"812.72,-427.06 807.82,-417.67 805.79,-428.07 812.72,-427.06\"/>\n</g>\n<!-- 20 -->\n<g id=\"node21\" class=\"node\">\n<title>20</title>\n<path fill=\"#bdf6d5\" stroke=\"black\" d=\"M1052.5,-425C1052.5,-425 891.5,-425 891.5,-425 885.5,-425 879.5,-419 879.5,-413 879.5,-413 879.5,-354 879.5,-354 879.5,-348 885.5,-342 891.5,-342 891.5,-342 1052.5,-342 1052.5,-342 1058.5,-342 1064.5,-348 1064.5,-354 1064.5,-354 1064.5,-413 1064.5,-413 1064.5,-419 1058.5,-425 1052.5,-425\"/>\n<text text-anchor=\"start\" x=\"887.5\" y=\"-409.8\" font-family=\"Helvetica,sans-Serif\" font-size=\"14.00\">culmen_length_mm ≤ 0.458</text>\n<text text-anchor=\"start\" x=\"940\" y=\"-394.8\" font-family=\"Helvetica,sans-Serif\" font-size=\"14.00\">gini = 0.48</text>\n<text text-anchor=\"start\" x=\"934.5\" y=\"-379.8\" font-family=\"Helvetica,sans-Serif\" font-size=\"14.00\">samples = 5</text>\n<text text-anchor=\"start\" x=\"925\" y=\"-364.8\" font-family=\"Helvetica,sans-Serif\" font-size=\"14.00\">value = [2, 3, 0]</text>\n<text text-anchor=\"start\" x=\"944.5\" y=\"-349.8\" font-family=\"Helvetica,sans-Serif\" font-size=\"14.00\">class = p</text>\n</g>\n<!-- 18&#45;&gt;20 -->\n<g id=\"edge20\" class=\"edge\">\n<title>18&#45;&gt;20</title>\n<path fill=\"none\" stroke=\"black\" d=\"M872.74,-460.91C885.12,-451.38 898.41,-441.15 911.11,-431.37\"/>\n<polygon fill=\"black\" stroke=\"black\" points=\"913.57,-433.89 919.36,-425.02 909.3,-428.35 913.57,-433.89\"/>\n</g>\n<!-- 21 -->\n<g id=\"node22\" class=\"node\">\n<title>21</title>\n<path fill=\"#e58139\" stroke=\"black\" d=\"M1007,-298.5C1007,-298.5 921,-298.5 921,-298.5 915,-298.5 909,-292.5 909,-286.5 909,-286.5 909,-242.5 909,-242.5 909,-236.5 915,-230.5 921,-230.5 921,-230.5 1007,-230.5 1007,-230.5 1013,-230.5 1019,-236.5 1019,-242.5 1019,-242.5 1019,-286.5 1019,-286.5 1019,-292.5 1013,-298.5 1007,-298.5\"/>\n<text text-anchor=\"start\" x=\"936\" y=\"-283.3\" font-family=\"Helvetica,sans-Serif\" font-size=\"14.00\">gini = 0.0</text>\n<text text-anchor=\"start\" x=\"926.5\" y=\"-268.3\" font-family=\"Helvetica,sans-Serif\" font-size=\"14.00\">samples = 2</text>\n<text text-anchor=\"start\" x=\"917\" y=\"-253.3\" font-family=\"Helvetica,sans-Serif\" font-size=\"14.00\">value = [2, 0, 0]</text>\n<text text-anchor=\"start\" x=\"937\" y=\"-238.3\" font-family=\"Helvetica,sans-Serif\" font-size=\"14.00\">class = s</text>\n</g>\n<!-- 20&#45;&gt;21 -->\n<g id=\"edge21\" class=\"edge\">\n<title>20&#45;&gt;21</title>\n<path fill=\"none\" stroke=\"black\" d=\"M969.22,-341.91C968.49,-331.2 967.7,-319.62 966.96,-308.78\"/>\n<polygon fill=\"black\" stroke=\"black\" points=\"970.44,-308.4 966.27,-298.67 963.46,-308.88 970.44,-308.4\"/>\n</g>\n<!-- 22 -->\n<g id=\"node23\" class=\"node\">\n<title>22</title>\n<path fill=\"#39e581\" stroke=\"black\" d=\"M1135,-298.5C1135,-298.5 1049,-298.5 1049,-298.5 1043,-298.5 1037,-292.5 1037,-286.5 1037,-286.5 1037,-242.5 1037,-242.5 1037,-236.5 1043,-230.5 1049,-230.5 1049,-230.5 1135,-230.5 1135,-230.5 1141,-230.5 1147,-236.5 1147,-242.5 1147,-242.5 1147,-286.5 1147,-286.5 1147,-292.5 1141,-298.5 1135,-298.5\"/>\n<text text-anchor=\"start\" x=\"1064\" y=\"-283.3\" font-family=\"Helvetica,sans-Serif\" font-size=\"14.00\">gini = 0.0</text>\n<text text-anchor=\"start\" x=\"1054.5\" y=\"-268.3\" font-family=\"Helvetica,sans-Serif\" font-size=\"14.00\">samples = 3</text>\n<text text-anchor=\"start\" x=\"1045\" y=\"-253.3\" font-family=\"Helvetica,sans-Serif\" font-size=\"14.00\">value = [0, 3, 0]</text>\n<text text-anchor=\"start\" x=\"1064.5\" y=\"-238.3\" font-family=\"Helvetica,sans-Serif\" font-size=\"14.00\">class = p</text>\n</g>\n<!-- 20&#45;&gt;22 -->\n<g id=\"edge22\" class=\"edge\">\n<title>20&#45;&gt;22</title>\n<path fill=\"none\" stroke=\"black\" d=\"M1013.63,-341.91C1025.63,-330.21 1038.71,-317.46 1050.69,-305.78\"/>\n<polygon fill=\"black\" stroke=\"black\" points=\"1053.27,-308.15 1057.98,-298.67 1048.38,-303.14 1053.27,-308.15\"/>\n</g>\n</g>\n</svg>\n",
            "text/plain": [
              "<graphviz.sources.Source at 0x7b2f5f24a4d0>"
            ]
          },
          "metadata": {}
        }
      ]
    },
    {
      "cell_type": "code",
      "source": [
        "# print to the output file\n",
        "print('\\n', file = outputFile)\n",
        "print('**************************************************************', file = outputFile)\n",
        "print('(A) Classifier 2 - Top DT', file = outputFile)\n",
        "print(classifier_2, file = outputFile)\n",
        "print('\\n', file = outputFile)\n",
        "print(f'best parameters: {classifier_2.best_params_}\\n', file = outputFile)\n",
        "print('\\n', file = outputFile)\n",
        "outputFile.flush()"
      ],
      "metadata": {
        "id": "OyY9Icjy8H7k"
      },
      "execution_count": 129,
      "outputs": []
    },
    {
      "cell_type": "code",
      "source": [
        "# print classification report\n",
        "y_pred = classifier_2.predict(X_test)\n",
        "confusion_mat = confusion_matrix(y_test, y_pred)\n",
        "\n",
        "print(classification_report(y_test, y_pred, target_names=['Adelie', 'Chinstrap', 'Gentoo']))\n",
        "print(\"confusion matrix\\n\",confusion_mat)\n",
        "\n",
        "# print the result to the output file\n",
        "confusion_matrix_result =np.array2string(confusion_mat)\n",
        "print(\"(B) Confusion Matrix\", file = outputFile)\n",
        "print(confusion_matrix_result, file = outputFile)\n",
        "print('\\n', file = outputFile)\n",
        "print(\"(C,D) Classification Report\", file = outputFile)\n",
        "print(classification_report(y_test, y_pred, target_names = ['Adelie', 'Chinstrap', 'Gentoo']), file = outputFile)\n",
        "confusion_matrix_result =np.array2string(confusion_mat)\n",
        "outputFile.flush()"
      ],
      "metadata": {
        "id": "RyyDW6-78J9g",
        "outputId": "ff6fd5ab-906e-44fb-bb66-3e1c31d5460b",
        "colab": {
          "base_uri": "https://localhost:8080/"
        }
      },
      "execution_count": 130,
      "outputs": [
        {
          "output_type": "stream",
          "name": "stdout",
          "text": [
            "              precision    recall  f1-score   support\n",
            "\n",
            "      Adelie       1.00      1.00      1.00        41\n",
            "   Chinstrap       1.00      1.00      1.00        13\n",
            "      Gentoo       1.00      1.00      1.00        30\n",
            "\n",
            "    accuracy                           1.00        84\n",
            "   macro avg       1.00      1.00      1.00        84\n",
            "weighted avg       1.00      1.00      1.00        84\n",
            "\n",
            "confusion matrix\n",
            " [[41  0  0]\n",
            " [ 0 13  0]\n",
            " [ 0  0 30]]\n"
          ]
        }
      ]
    },
    {
      "cell_type": "code",
      "source": [
        "# repeat training & grid search & prediction 5 times for classifier 2\n",
        "from sklearn.metrics import accuracy_score, f1_score\n",
        "\n",
        "accuracy_TopDT = np.zeros(5)\n",
        "macro_avg_TopDT = np.zeros(5)\n",
        "weighted_avg_TopDT = np.zeros(5)\n",
        "\n",
        "print('\\n(E) The result after 5 times of train-test repetition:' ,file = outputFile)\n",
        "\n",
        "for i in range(5):\n",
        "\n",
        "  #data is shuffled and scaled every iteration\n",
        "  X_train, X_test, y_train, y_test = train_test_split(X, y)\n",
        "  sc = StandardScaler()\n",
        "  X_train = sc.fit_transform(X_train)\n",
        "  X_test = sc.transform(X_test)\n",
        "\n",
        "  #grid search\n",
        "  classifier_2 = GridSearchCV(DecisionTreeClassifier(), parameters)\n",
        "  classifier_2.fit(X_train, y_train)\n",
        "\n",
        "  print(f'best parameters for iteration{i+1}: {classifier_2.best_params_}',file = outputFile)\n",
        "  print(f'best parameters for iteration{i+1}: {classifier_2.best_params_}')\n",
        "\n",
        "  y_pred = classifier_2.predict(X_test)\n",
        "\n",
        "  # find the accuracy for each iteration and store the value\n",
        "  accuracy_TopDT[i] = accuracy_score(y_test, y_pred)\n",
        "  macro_avg_TopDT[i] = f1_score(y_test, y_pred, average='macro')\n",
        "  weighted_avg_TopDT[i] = f1_score(y_test, y_pred, average='weighted')\n",
        "\n",
        "print()\n",
        "\n",
        "# compute the average accuracy & variances\n",
        "print(f'accuracy_TopDT: {accuracy_TopDT}')\n",
        "Avg_accuracy = (np.sum(accuracy_TopDT))/5\n",
        "accuracy_variance = np.var(accuracy_TopDT)\n",
        "print(f'average accuracy: {Avg_accuracy:.4f}, variance: {accuracy_variance:.6f}')\n",
        "print()\n",
        "\n",
        "# compute the average macro-average F1 & the variance\n",
        "print(f'macro_avg_TopDT: {macro_avg_TopDT}')\n",
        "Avg_macro_avg = (np.sum(macro_avg_TopDT))/5\n",
        "f1_macro_variance = np.var(macro_avg_TopDT)\n",
        "print(f'average macro-average F1: {Avg_macro_avg:.4f}, variance: {f1_macro_variance:.6f}')\n",
        "print()\n",
        "\n",
        "# compute the average weighted-average F1 & the variance\n",
        "print(f'weighted_avg_TopDT: {weighted_avg_TopDT}')\n",
        "Avg_weighted_avg = (np.sum(weighted_avg_TopDT))/5\n",
        "f1_weighted_variance = np.var(weighted_avg_TopDT)\n",
        "print(f'average weighted-average F1: {Avg_weighted_avg:.4f}, variance: {f1_weighted_variance:.6f}')"
      ],
      "metadata": {
        "id": "0W_Jt4LMJgy0",
        "colab": {
          "base_uri": "https://localhost:8080/"
        },
        "outputId": "80560349-af9e-48fe-dc85-444603b66e23"
      },
      "execution_count": 131,
      "outputs": [
        {
          "output_type": "stream",
          "name": "stdout",
          "text": [
            "best parameters for iteration1: {'criterion': 'gini', 'max_depth': 3, 'min_samples_split': 2}\n",
            "best parameters for iteration2: {'criterion': 'entropy', 'max_depth': 5, 'min_samples_split': 5}\n",
            "best parameters for iteration3: {'criterion': 'gini', 'max_depth': None, 'min_samples_split': 2}\n",
            "best parameters for iteration4: {'criterion': 'entropy', 'max_depth': None, 'min_samples_split': 2}\n",
            "best parameters for iteration5: {'criterion': 'gini', 'max_depth': 5, 'min_samples_split': 2}\n",
            "\n",
            "accuracy_TopDT: [0.92857143 0.9047619  0.97619048 0.96428571 0.95238095]\n",
            "average accuracy: 0.9452, variance: 0.000658\n",
            "\n",
            "macro_avg_TopDT: [0.91538861 0.8467227  0.96483516 0.95869787 0.94824561]\n",
            "average macro-average F1: 0.9268, variance: 0.001893\n",
            "\n",
            "weighted_avg_TopDT: [0.92668853 0.89761282 0.97676609 0.96420955 0.95172306]\n",
            "average weighted-average F1: 0.9434, variance: 0.000798\n"
          ]
        }
      ]
    },
    {
      "cell_type": "code",
      "source": [
        "# print the performance result to outputfile\n",
        "print('\\n', file = outputFile)\n",
        "print(f'average accuracy: {Avg_accuracy:.4f}, variance: {accuracy_variance:.6f}', file = outputFile)\n",
        "print(f'average macro-average F1: {Avg_macro_avg:.4f}, variance: {f1_macro_variance:.6f}', file = outputFile)\n",
        "print(f'average weighted-average F1: {Avg_weighted_avg:.4f}, variance: {f1_weighted_variance:.6f}', file = outputFile)\n",
        "print('\\n', file = outputFile)\n",
        "outputFile.flush()"
      ],
      "metadata": {
        "id": "Y4XPTddeb6Ck"
      },
      "execution_count": 132,
      "outputs": []
    },
    {
      "cell_type": "markdown",
      "source": [
        "##### Classifier 3 - Base-MLP"
      ],
      "metadata": {
        "id": "RsxEdv-Xd7Vn"
      }
    },
    {
      "cell_type": "code",
      "source": [
        "#Train Classifier 3\n",
        "mlp_base_penguin = MLPClassifier(hidden_layer_sizes =(100, 100,), activation = 'logistic', solver = 'sgd')\n",
        "mlp_base_penguin.fit(X_train, y_train)\n",
        "\n",
        "#print to the output file\n",
        "print('\\n**************************************************************', file = outputFile)\n",
        "print('(A) Classifier 3 - Base MLP', file = outputFile)\n",
        "print(mlp_base_penguin, file = outputFile)\n",
        "print('\\n', file = outputFile)"
      ],
      "metadata": {
        "id": "LXZXNDUWd6Np"
      },
      "execution_count": 133,
      "outputs": []
    },
    {
      "cell_type": "markdown",
      "source": [
        "Metrics for Classifier 3"
      ],
      "metadata": {
        "id": "KpcPx0vCJryX"
      }
    },
    {
      "cell_type": "code",
      "source": [
        "#predict with Base MLP\n",
        "y_pred_base_mlp = mlp_base_penguin.predict(X_test)\n",
        "\n",
        "#print the result here on notebook\n",
        "print(classification_report(y_test, y_pred_base_mlp, target_names = ['Adelie', 'Gentoo', 'Chinstap']))\n",
        "print(confusion_matrix(y_test, y_pred_base_mlp))\n",
        "\n",
        "#print the result to the output file\n",
        "print(\"(B) Confusion Matrix\", file = outputFile)\n",
        "confusion_matrix_result =np.array2string(confusion_matrix(y_test, y_pred_base_mlp))\n",
        "print(confusion_matrix_result, file = outputFile)\n",
        "print('\\n', file = outputFile)\n",
        "print(\"(C,D) Classification Report\", file = outputFile)\n",
        "print(classification_report(y_test, y_pred_base_mlp, target_names = ['Adelie', 'Gentoo', 'Chinstap']), file = outputFile)\n",
        "\n",
        "outputFile.flush()"
      ],
      "metadata": {
        "id": "tpH0AREeJmJ2",
        "outputId": "543b1e9a-c1c0-45d8-ad8f-3a7e3d673865",
        "colab": {
          "base_uri": "https://localhost:8080/"
        }
      },
      "execution_count": 134,
      "outputs": [
        {
          "output_type": "stream",
          "name": "stdout",
          "text": [
            "              precision    recall  f1-score   support\n",
            "\n",
            "      Adelie       0.46      1.00      0.63        39\n",
            "      Gentoo       0.00      0.00      0.00        20\n",
            "    Chinstap       0.00      0.00      0.00        25\n",
            "\n",
            "    accuracy                           0.46        84\n",
            "   macro avg       0.15      0.33      0.21        84\n",
            "weighted avg       0.22      0.46      0.29        84\n",
            "\n",
            "[[39  0  0]\n",
            " [20  0  0]\n",
            " [25  0  0]]\n"
          ]
        }
      ]
    },
    {
      "cell_type": "code",
      "source": [
        "#repeat train-test 5 times\n",
        "MLP_base_train_test_repetition(X, y, outputFile, ['Adelie', 'Gentoo', 'Chinstap'])"
      ],
      "metadata": {
        "id": "mpo7xeAfNajE"
      },
      "execution_count": 135,
      "outputs": []
    },
    {
      "cell_type": "markdown",
      "source": [
        "##### Classifier 4 - Top-MLP"
      ],
      "metadata": {
        "id": "Km0ZyCsVe8ze"
      }
    },
    {
      "cell_type": "code",
      "source": [
        "#create grid for each hyperparamter we want to test\n",
        "activation_grid = np.array(['logistic', 'tanh', 'relu'])\n",
        "neurons_tuple_grid = np.array([(30, 50,), (10, 10, 10,)], dtype = 'object')\n",
        "solver_grid = np.array(['adam', 'sgd'])\n",
        "\n",
        "#create parameter grid for GridSearchCV\n",
        "param_grid = {'hidden_layer_sizes': neurons_tuple_grid, 'activation': activation_grid, 'solver': solver_grid}\n",
        "\n",
        "#create grid cv object and do the search\n",
        "mlp_top_penguin = MLPClassifier()\n",
        "gridcv = sk.model_selection.GridSearchCV(mlp_top_penguin, param_grid = param_grid)\n",
        "gridcv.fit(X_train, y_train)\n",
        "\n",
        "#print the result here on notebook\n",
        "print(f'best parameters: {gridcv.best_params_}')\n",
        "\n",
        "#print the result to the output file\n",
        "print('**************************************************************', file = outputFile)\n",
        "print('(A) Classifier 4 - Top MLP', file = outputFile)\n",
        "print(f'best parameters: {gridcv.best_params_}\\n', file = outputFile)\n",
        "outputFile.flush()"
      ],
      "metadata": {
        "id": "-V8WxwtsfAHN",
        "outputId": "efab1359-b6ed-48e6-af8d-224f5f913a17",
        "colab": {
          "base_uri": "https://localhost:8080/"
        }
      },
      "execution_count": 136,
      "outputs": [
        {
          "output_type": "stream",
          "name": "stdout",
          "text": [
            "best parameters: {'activation': 'tanh', 'hidden_layer_sizes': (30, 50), 'solver': 'adam'}\n"
          ]
        }
      ]
    },
    {
      "cell_type": "markdown",
      "source": [
        "Metrics for Classifier 4 - Top MLP"
      ],
      "metadata": {
        "id": "1l-RdJs8oT5n"
      }
    },
    {
      "cell_type": "code",
      "source": [
        "#predict\n",
        "y_pred_top_mlp = gridcv.best_estimator_.predict(X_test)\n",
        "\n",
        "#print the result here on notebook\n",
        "print(classification_report(y_test, y_pred_top_mlp, target_names = ['Adelie', 'Gentoo', 'Chinstap']))\n",
        "print(confusion_matrix(y_test, y_pred_top_mlp))\n",
        "\n",
        "#print the result to the output file\n",
        "print(\"(B) Confusion Matrix\", file = outputFile)\n",
        "confusion_matrix_result =np.array2string(confusion_matrix(y_test, y_pred_top_mlp))\n",
        "print(confusion_matrix_result, file = outputFile)\n",
        "print(\"\\n(C,D) Classification Report\", file = outputFile)\n",
        "print(classification_report(y_test, y_pred_top_mlp, target_names = ['Adelie', 'Gentoo', 'Chinstap']), file = outputFile)\n",
        "\n",
        "outputFile.flush()"
      ],
      "metadata": {
        "id": "HINTuN52kIyr",
        "outputId": "8286edab-5bd4-4f46-9bfa-f3e9220aa1a3",
        "colab": {
          "base_uri": "https://localhost:8080/"
        }
      },
      "execution_count": 137,
      "outputs": [
        {
          "output_type": "stream",
          "name": "stdout",
          "text": [
            "              precision    recall  f1-score   support\n",
            "\n",
            "      Adelie       0.95      1.00      0.97        39\n",
            "      Gentoo       1.00      0.90      0.95        20\n",
            "    Chinstap       1.00      1.00      1.00        25\n",
            "\n",
            "    accuracy                           0.98        84\n",
            "   macro avg       0.98      0.97      0.97        84\n",
            "weighted avg       0.98      0.98      0.98        84\n",
            "\n",
            "[[39  0  0]\n",
            " [ 2 18  0]\n",
            " [ 0  0 25]]\n"
          ]
        }
      ]
    },
    {
      "cell_type": "code",
      "source": [
        "MLP_top_train_test_repetition(param_grid, X, y, outputFile,['Adelie', 'Gentoo', 'Chinstap'])"
      ],
      "metadata": {
        "id": "WtHfQTtKSIlM"
      },
      "execution_count": 138,
      "outputs": []
    },
    {
      "cell_type": "code",
      "source": [
        "outputFile.close()"
      ],
      "metadata": {
        "id": "uj6lfQkPIRsk"
      },
      "execution_count": 139,
      "outputs": []
    },
    {
      "cell_type": "markdown",
      "source": [
        "## Dataset - 'abalone.csv'\n",
        "- Goal : prediction of sex"
      ],
      "metadata": {
        "id": "WYPRbdtq2-91"
      }
    },
    {
      "cell_type": "code",
      "source": [
        "outputFile = open('abalone-performance.txt', 'w')"
      ],
      "metadata": {
        "id": "jQKCBY32lPaR"
      },
      "execution_count": 166,
      "outputs": []
    },
    {
      "cell_type": "code",
      "source": [
        "data_abalone = pd.read_csv('abalone.csv')\n",
        "data_abalone.head()"
      ],
      "metadata": {
        "id": "wMutHb2AzmB1",
        "colab": {
          "base_uri": "https://localhost:8080/",
          "height": 206
        },
        "outputId": "90441790-15ea-48a8-f684-d0fe249b0ead"
      },
      "execution_count": 167,
      "outputs": [
        {
          "output_type": "execute_result",
          "data": {
            "text/plain": [
              "  Type  LongestShell  Diameter  Height  WholeWeight  ShuckedWeight  \\\n",
              "0    F         0.605     0.470   0.165       1.1775         0.6110   \n",
              "1    M         0.550     0.425   0.150       0.8315         0.4110   \n",
              "2    M         0.460     0.345   0.110       0.4595         0.2350   \n",
              "3    F         0.650     0.475   0.165       1.3875         0.5800   \n",
              "4    M         0.575     0.470   0.140       0.8375         0.3485   \n",
              "\n",
              "   VisceraWeight  ShellWeight  Rings  \n",
              "0         0.2275       0.2920      9  \n",
              "1         0.1765       0.2165     10  \n",
              "2         0.0885       0.1160      7  \n",
              "3         0.3485       0.3095      9  \n",
              "4         0.1735       0.2400     11  "
            ],
            "text/html": [
              "\n",
              "  <div id=\"df-e8ea7979-f879-40a6-b95b-efad219b43b1\" class=\"colab-df-container\">\n",
              "    <div>\n",
              "<style scoped>\n",
              "    .dataframe tbody tr th:only-of-type {\n",
              "        vertical-align: middle;\n",
              "    }\n",
              "\n",
              "    .dataframe tbody tr th {\n",
              "        vertical-align: top;\n",
              "    }\n",
              "\n",
              "    .dataframe thead th {\n",
              "        text-align: right;\n",
              "    }\n",
              "</style>\n",
              "<table border=\"1\" class=\"dataframe\">\n",
              "  <thead>\n",
              "    <tr style=\"text-align: right;\">\n",
              "      <th></th>\n",
              "      <th>Type</th>\n",
              "      <th>LongestShell</th>\n",
              "      <th>Diameter</th>\n",
              "      <th>Height</th>\n",
              "      <th>WholeWeight</th>\n",
              "      <th>ShuckedWeight</th>\n",
              "      <th>VisceraWeight</th>\n",
              "      <th>ShellWeight</th>\n",
              "      <th>Rings</th>\n",
              "    </tr>\n",
              "  </thead>\n",
              "  <tbody>\n",
              "    <tr>\n",
              "      <th>0</th>\n",
              "      <td>F</td>\n",
              "      <td>0.605</td>\n",
              "      <td>0.470</td>\n",
              "      <td>0.165</td>\n",
              "      <td>1.1775</td>\n",
              "      <td>0.6110</td>\n",
              "      <td>0.2275</td>\n",
              "      <td>0.2920</td>\n",
              "      <td>9</td>\n",
              "    </tr>\n",
              "    <tr>\n",
              "      <th>1</th>\n",
              "      <td>M</td>\n",
              "      <td>0.550</td>\n",
              "      <td>0.425</td>\n",
              "      <td>0.150</td>\n",
              "      <td>0.8315</td>\n",
              "      <td>0.4110</td>\n",
              "      <td>0.1765</td>\n",
              "      <td>0.2165</td>\n",
              "      <td>10</td>\n",
              "    </tr>\n",
              "    <tr>\n",
              "      <th>2</th>\n",
              "      <td>M</td>\n",
              "      <td>0.460</td>\n",
              "      <td>0.345</td>\n",
              "      <td>0.110</td>\n",
              "      <td>0.4595</td>\n",
              "      <td>0.2350</td>\n",
              "      <td>0.0885</td>\n",
              "      <td>0.1160</td>\n",
              "      <td>7</td>\n",
              "    </tr>\n",
              "    <tr>\n",
              "      <th>3</th>\n",
              "      <td>F</td>\n",
              "      <td>0.650</td>\n",
              "      <td>0.475</td>\n",
              "      <td>0.165</td>\n",
              "      <td>1.3875</td>\n",
              "      <td>0.5800</td>\n",
              "      <td>0.3485</td>\n",
              "      <td>0.3095</td>\n",
              "      <td>9</td>\n",
              "    </tr>\n",
              "    <tr>\n",
              "      <th>4</th>\n",
              "      <td>M</td>\n",
              "      <td>0.575</td>\n",
              "      <td>0.470</td>\n",
              "      <td>0.140</td>\n",
              "      <td>0.8375</td>\n",
              "      <td>0.3485</td>\n",
              "      <td>0.1735</td>\n",
              "      <td>0.2400</td>\n",
              "      <td>11</td>\n",
              "    </tr>\n",
              "  </tbody>\n",
              "</table>\n",
              "</div>\n",
              "    <div class=\"colab-df-buttons\">\n",
              "\n",
              "  <div class=\"colab-df-container\">\n",
              "    <button class=\"colab-df-convert\" onclick=\"convertToInteractive('df-e8ea7979-f879-40a6-b95b-efad219b43b1')\"\n",
              "            title=\"Convert this dataframe to an interactive table.\"\n",
              "            style=\"display:none;\">\n",
              "\n",
              "  <svg xmlns=\"http://www.w3.org/2000/svg\" height=\"24px\" viewBox=\"0 -960 960 960\">\n",
              "    <path d=\"M120-120v-720h720v720H120Zm60-500h600v-160H180v160Zm220 220h160v-160H400v160Zm0 220h160v-160H400v160ZM180-400h160v-160H180v160Zm440 0h160v-160H620v160ZM180-180h160v-160H180v160Zm440 0h160v-160H620v160Z\"/>\n",
              "  </svg>\n",
              "    </button>\n",
              "\n",
              "  <style>\n",
              "    .colab-df-container {\n",
              "      display:flex;\n",
              "      gap: 12px;\n",
              "    }\n",
              "\n",
              "    .colab-df-convert {\n",
              "      background-color: #E8F0FE;\n",
              "      border: none;\n",
              "      border-radius: 50%;\n",
              "      cursor: pointer;\n",
              "      display: none;\n",
              "      fill: #1967D2;\n",
              "      height: 32px;\n",
              "      padding: 0 0 0 0;\n",
              "      width: 32px;\n",
              "    }\n",
              "\n",
              "    .colab-df-convert:hover {\n",
              "      background-color: #E2EBFA;\n",
              "      box-shadow: 0px 1px 2px rgba(60, 64, 67, 0.3), 0px 1px 3px 1px rgba(60, 64, 67, 0.15);\n",
              "      fill: #174EA6;\n",
              "    }\n",
              "\n",
              "    .colab-df-buttons div {\n",
              "      margin-bottom: 4px;\n",
              "    }\n",
              "\n",
              "    [theme=dark] .colab-df-convert {\n",
              "      background-color: #3B4455;\n",
              "      fill: #D2E3FC;\n",
              "    }\n",
              "\n",
              "    [theme=dark] .colab-df-convert:hover {\n",
              "      background-color: #434B5C;\n",
              "      box-shadow: 0px 1px 3px 1px rgba(0, 0, 0, 0.15);\n",
              "      filter: drop-shadow(0px 1px 2px rgba(0, 0, 0, 0.3));\n",
              "      fill: #FFFFFF;\n",
              "    }\n",
              "  </style>\n",
              "\n",
              "    <script>\n",
              "      const buttonEl =\n",
              "        document.querySelector('#df-e8ea7979-f879-40a6-b95b-efad219b43b1 button.colab-df-convert');\n",
              "      buttonEl.style.display =\n",
              "        google.colab.kernel.accessAllowed ? 'block' : 'none';\n",
              "\n",
              "      async function convertToInteractive(key) {\n",
              "        const element = document.querySelector('#df-e8ea7979-f879-40a6-b95b-efad219b43b1');\n",
              "        const dataTable =\n",
              "          await google.colab.kernel.invokeFunction('convertToInteractive',\n",
              "                                                    [key], {});\n",
              "        if (!dataTable) return;\n",
              "\n",
              "        const docLinkHtml = 'Like what you see? Visit the ' +\n",
              "          '<a target=\"_blank\" href=https://colab.research.google.com/notebooks/data_table.ipynb>data table notebook</a>'\n",
              "          + ' to learn more about interactive tables.';\n",
              "        element.innerHTML = '';\n",
              "        dataTable['output_type'] = 'display_data';\n",
              "        await google.colab.output.renderOutput(dataTable, element);\n",
              "        const docLink = document.createElement('div');\n",
              "        docLink.innerHTML = docLinkHtml;\n",
              "        element.appendChild(docLink);\n",
              "      }\n",
              "    </script>\n",
              "  </div>\n",
              "\n",
              "\n",
              "<div id=\"df-5ae15670-5e35-4cbe-98c9-b4d2b6f0bfde\">\n",
              "  <button class=\"colab-df-quickchart\" onclick=\"quickchart('df-5ae15670-5e35-4cbe-98c9-b4d2b6f0bfde')\"\n",
              "            title=\"Suggest charts\"\n",
              "            style=\"display:none;\">\n",
              "\n",
              "<svg xmlns=\"http://www.w3.org/2000/svg\" height=\"24px\"viewBox=\"0 0 24 24\"\n",
              "     width=\"24px\">\n",
              "    <g>\n",
              "        <path d=\"M19 3H5c-1.1 0-2 .9-2 2v14c0 1.1.9 2 2 2h14c1.1 0 2-.9 2-2V5c0-1.1-.9-2-2-2zM9 17H7v-7h2v7zm4 0h-2V7h2v10zm4 0h-2v-4h2v4z\"/>\n",
              "    </g>\n",
              "</svg>\n",
              "  </button>\n",
              "\n",
              "<style>\n",
              "  .colab-df-quickchart {\n",
              "      --bg-color: #E8F0FE;\n",
              "      --fill-color: #1967D2;\n",
              "      --hover-bg-color: #E2EBFA;\n",
              "      --hover-fill-color: #174EA6;\n",
              "      --disabled-fill-color: #AAA;\n",
              "      --disabled-bg-color: #DDD;\n",
              "  }\n",
              "\n",
              "  [theme=dark] .colab-df-quickchart {\n",
              "      --bg-color: #3B4455;\n",
              "      --fill-color: #D2E3FC;\n",
              "      --hover-bg-color: #434B5C;\n",
              "      --hover-fill-color: #FFFFFF;\n",
              "      --disabled-bg-color: #3B4455;\n",
              "      --disabled-fill-color: #666;\n",
              "  }\n",
              "\n",
              "  .colab-df-quickchart {\n",
              "    background-color: var(--bg-color);\n",
              "    border: none;\n",
              "    border-radius: 50%;\n",
              "    cursor: pointer;\n",
              "    display: none;\n",
              "    fill: var(--fill-color);\n",
              "    height: 32px;\n",
              "    padding: 0;\n",
              "    width: 32px;\n",
              "  }\n",
              "\n",
              "  .colab-df-quickchart:hover {\n",
              "    background-color: var(--hover-bg-color);\n",
              "    box-shadow: 0 1px 2px rgba(60, 64, 67, 0.3), 0 1px 3px 1px rgba(60, 64, 67, 0.15);\n",
              "    fill: var(--button-hover-fill-color);\n",
              "  }\n",
              "\n",
              "  .colab-df-quickchart-complete:disabled,\n",
              "  .colab-df-quickchart-complete:disabled:hover {\n",
              "    background-color: var(--disabled-bg-color);\n",
              "    fill: var(--disabled-fill-color);\n",
              "    box-shadow: none;\n",
              "  }\n",
              "\n",
              "  .colab-df-spinner {\n",
              "    border: 2px solid var(--fill-color);\n",
              "    border-color: transparent;\n",
              "    border-bottom-color: var(--fill-color);\n",
              "    animation:\n",
              "      spin 1s steps(1) infinite;\n",
              "  }\n",
              "\n",
              "  @keyframes spin {\n",
              "    0% {\n",
              "      border-color: transparent;\n",
              "      border-bottom-color: var(--fill-color);\n",
              "      border-left-color: var(--fill-color);\n",
              "    }\n",
              "    20% {\n",
              "      border-color: transparent;\n",
              "      border-left-color: var(--fill-color);\n",
              "      border-top-color: var(--fill-color);\n",
              "    }\n",
              "    30% {\n",
              "      border-color: transparent;\n",
              "      border-left-color: var(--fill-color);\n",
              "      border-top-color: var(--fill-color);\n",
              "      border-right-color: var(--fill-color);\n",
              "    }\n",
              "    40% {\n",
              "      border-color: transparent;\n",
              "      border-right-color: var(--fill-color);\n",
              "      border-top-color: var(--fill-color);\n",
              "    }\n",
              "    60% {\n",
              "      border-color: transparent;\n",
              "      border-right-color: var(--fill-color);\n",
              "    }\n",
              "    80% {\n",
              "      border-color: transparent;\n",
              "      border-right-color: var(--fill-color);\n",
              "      border-bottom-color: var(--fill-color);\n",
              "    }\n",
              "    90% {\n",
              "      border-color: transparent;\n",
              "      border-bottom-color: var(--fill-color);\n",
              "    }\n",
              "  }\n",
              "</style>\n",
              "\n",
              "  <script>\n",
              "    async function quickchart(key) {\n",
              "      const quickchartButtonEl =\n",
              "        document.querySelector('#' + key + ' button');\n",
              "      quickchartButtonEl.disabled = true;  // To prevent multiple clicks.\n",
              "      quickchartButtonEl.classList.add('colab-df-spinner');\n",
              "      try {\n",
              "        const charts = await google.colab.kernel.invokeFunction(\n",
              "            'suggestCharts', [key], {});\n",
              "      } catch (error) {\n",
              "        console.error('Error during call to suggestCharts:', error);\n",
              "      }\n",
              "      quickchartButtonEl.classList.remove('colab-df-spinner');\n",
              "      quickchartButtonEl.classList.add('colab-df-quickchart-complete');\n",
              "    }\n",
              "    (() => {\n",
              "      let quickchartButtonEl =\n",
              "        document.querySelector('#df-5ae15670-5e35-4cbe-98c9-b4d2b6f0bfde button');\n",
              "      quickchartButtonEl.style.display =\n",
              "        google.colab.kernel.accessAllowed ? 'block' : 'none';\n",
              "    })();\n",
              "  </script>\n",
              "</div>\n",
              "    </div>\n",
              "  </div>\n"
            ]
          },
          "metadata": {},
          "execution_count": 167
        }
      ]
    },
    {
      "cell_type": "markdown",
      "source": [
        "#### Plot the percentage of the instances"
      ],
      "metadata": {
        "id": "vRRzVKIo39rm"
      }
    },
    {
      "cell_type": "code",
      "source": [
        "# Check the output class is balanced\n",
        "abalone_labels = data_abalone['Type']\n",
        "\n",
        "plt.figure(figsize=(10, 6))\n",
        "sns.countplot(x=abalone_labels)\n",
        "plt.title('Distribution of class label')\n",
        "plt.xlabel('Abalone')\n",
        "plt.ylabel('Frequency')\n",
        "\n",
        "# save as graphic\n",
        "plt.savefig('abalone-classes.png')\n"
      ],
      "metadata": {
        "colab": {
          "base_uri": "https://localhost:8080/",
          "height": 564
        },
        "id": "yq-_zOJu3-Sr",
        "outputId": "839092c9-8e3c-4455-8440-d134a0fc4324"
      },
      "execution_count": 168,
      "outputs": [
        {
          "output_type": "display_data",
          "data": {
            "text/plain": [
              "<Figure size 1000x600 with 1 Axes>"
            ],
            "image/png": "[encoded data removed]"
          },
          "metadata": {}
        }
      ]
    },
    {
      "cell_type": "markdown",
      "source": [
        "#### Dataset split into training & test set"
      ],
      "metadata": {
        "id": "U83DY2IC3rvY"
      }
    },
    {
      "cell_type": "code",
      "source": [
        "X = data_abalone.iloc[:, 1:].values\n",
        "y = data_abalone.iloc[:, 0].values\n",
        "\n",
        "X_train, X_test, y_train, y_test = train_test_split(X, y)"
      ],
      "metadata": {
        "id": "ZxWO6bhowSfw"
      },
      "execution_count": 169,
      "outputs": []
    },
    {
      "cell_type": "code",
      "source": [
        "sc = StandardScaler()\n",
        "X_train = sc.fit_transform(X_train)\n",
        "X_test = sc.transform(X_test)"
      ],
      "metadata": {
        "id": "6VjPNuwawpfg"
      },
      "execution_count": 170,
      "outputs": []
    },
    {
      "cell_type": "markdown",
      "source": [
        "#### Train and test 4 different classifiers"
      ],
      "metadata": {
        "id": "xDSmVlbI9Hyl"
      }
    },
    {
      "cell_type": "markdown",
      "source": [
        "##### Classifier 1 - Base-DT"
      ],
      "metadata": {
        "id": "XyL9UsKq2tsv"
      }
    },
    {
      "cell_type": "code",
      "source": [
        "from sklearn.tree import DecisionTreeClassifier\n",
        "\n",
        "# Base Decision Tree\n",
        "classifier_1 = DecisionTreeClassifier(max_depth=3)\n",
        "classifier_1.fit(X_train, y_train)"
      ],
      "metadata": {
        "colab": {
          "base_uri": "https://localhost:8080/",
          "height": 75
        },
        "id": "C0cUxRm82tD7",
        "outputId": "8a8f62d6-1a9c-472f-9340-17c5d529590e"
      },
      "execution_count": 171,
      "outputs": [
        {
          "output_type": "execute_result",
          "data": {
            "text/plain": [
              "DecisionTreeClassifier(max_depth=3)"
            ],
            "text/html": [
              "<style>#sk-container-id-6 {color: black;background-color: white;}#sk-container-id-6 pre{padding: 0;}#sk-container-id-6 div.sk-toggleable {background-color: white;}#sk-container-id-6 label.sk-toggleable__label {cursor: pointer;display: block;width: 100%;margin-bottom: 0;padding: 0.3em;box-sizing: border-box;text-align: center;}#sk-container-id-6 label.sk-toggleable__label-arrow:before {content: \"▸\";float: left;margin-right: 0.25em;color: #696969;}#sk-container-id-6 label.sk-toggleable__label-arrow:hover:before {color: black;}#sk-container-id-6 div.sk-estimator:hover label.sk-toggleable__label-arrow:before {color: black;}#sk-container-id-6 div.sk-toggleable__content {max-height: 0;max-width: 0;overflow: hidden;text-align: left;background-color: #f0f8ff;}#sk-container-id-6 div.sk-toggleable__content pre {margin: 0.2em;color: black;border-radius: 0.25em;background-color: #f0f8ff;}#sk-container-id-6 input.sk-toggleable__control:checked~div.sk-toggleable__content {max-height: 200px;max-width: 100%;overflow: auto;}#sk-container-id-6 input.sk-toggleable__control:checked~label.sk-toggleable__label-arrow:before {content: \"▾\";}#sk-container-id-6 div.sk-estimator input.sk-toggleable__control:checked~label.sk-toggleable__label {background-color: #d4ebff;}#sk-container-id-6 div.sk-label input.sk-toggleable__control:checked~label.sk-toggleable__label {background-color: #d4ebff;}#sk-container-id-6 input.sk-hidden--visually {border: 0;clip: rect(1px 1px 1px 1px);clip: rect(1px, 1px, 1px, 1px);height: 1px;margin: -1px;overflow: hidden;padding: 0;position: absolute;width: 1px;}#sk-container-id-6 div.sk-estimator {font-family: monospace;background-color: #f0f8ff;border: 1px dotted black;border-radius: 0.25em;box-sizing: border-box;margin-bottom: 0.5em;}#sk-container-id-6 div.sk-estimator:hover {background-color: #d4ebff;}#sk-container-id-6 div.sk-parallel-item::after {content: \"\";width: 100%;border-bottom: 1px solid gray;flex-grow: 1;}#sk-container-id-6 div.sk-label:hover label.sk-toggleable__label {background-color: #d4ebff;}#sk-container-id-6 div.sk-serial::before {content: \"\";position: absolute;border-left: 1px solid gray;box-sizing: border-box;top: 0;bottom: 0;left: 50%;z-index: 0;}#sk-container-id-6 div.sk-serial {display: flex;flex-direction: column;align-items: center;background-color: white;padding-right: 0.2em;padding-left: 0.2em;position: relative;}#sk-container-id-6 div.sk-item {position: relative;z-index: 1;}#sk-container-id-6 div.sk-parallel {display: flex;align-items: stretch;justify-content: center;background-color: white;position: relative;}#sk-container-id-6 div.sk-item::before, #sk-container-id-6 div.sk-parallel-item::before {content: \"\";position: absolute;border-left: 1px solid gray;box-sizing: border-box;top: 0;bottom: 0;left: 50%;z-index: -1;}#sk-container-id-6 div.sk-parallel-item {display: flex;flex-direction: column;z-index: 1;position: relative;background-color: white;}#sk-container-id-6 div.sk-parallel-item:first-child::after {align-self: flex-end;width: 50%;}#sk-container-id-6 div.sk-parallel-item:last-child::after {align-self: flex-start;width: 50%;}#sk-container-id-6 div.sk-parallel-item:only-child::after {width: 0;}#sk-container-id-6 div.sk-dashed-wrapped {border: 1px dashed gray;margin: 0 0.4em 0.5em 0.4em;box-sizing: border-box;padding-bottom: 0.4em;background-color: white;}#sk-container-id-6 div.sk-label label {font-family: monospace;font-weight: bold;display: inline-block;line-height: 1.2em;}#sk-container-id-6 div.sk-label-container {text-align: center;}#sk-container-id-6 div.sk-container {/* jupyter's `normalize.less` sets `[hidden] { display: none; }` but bootstrap.min.css set `[hidden] { display: none !important; }` so we also need the `!important` here to be able to override the default hidden behavior on the sphinx rendered scikit-learn.org. See: https://github.com/scikit-learn/scikit-learn/issues/21755 */display: inline-block !important;position: relative;}#sk-container-id-6 div.sk-text-repr-fallback {display: none;}</style><div id=\"sk-container-id-6\" class=\"sk-top-container\"><div class=\"sk-text-repr-fallback\"><pre>DecisionTreeClassifier(max_depth=3)</pre><b>In a Jupyter environment, please rerun this cell to show the HTML representation or trust the notebook. <br />On GitHub, the HTML representation is unable to render, please try loading this page with nbviewer.org.</b></div><div class=\"sk-container\" hidden><div class=\"sk-item\"><div class=\"sk-estimator sk-toggleable\"><input class=\"sk-toggleable__control sk-hidden--visually\" id=\"sk-estimator-id-6\" type=\"checkbox\" checked><label for=\"sk-estimator-id-6\" class=\"sk-toggleable__label sk-toggleable__label-arrow\">DecisionTreeClassifier</label><div class=\"sk-toggleable__content\"><pre>DecisionTreeClassifier(max_depth=3)</pre></div></div></div></div></div>"
            ]
          },
          "metadata": {},
          "execution_count": 171
        }
      ]
    },
    {
      "cell_type": "code",
      "source": [
        "abalone_class = data_abalone.columns[0]\n",
        "abalone_features = list(data_abalone.columns[1:])"
      ],
      "metadata": {
        "id": "dGLPS-XQ29an"
      },
      "execution_count": 172,
      "outputs": []
    },
    {
      "cell_type": "code",
      "source": [
        "dot_data = tree.export_graphviz(classifier_1,\n",
        "                feature_names=abalone_features,\n",
        "                class_names=abalone_class,\n",
        "                filled=True, rounded=True,\n",
        "                special_characters=True)\n",
        "\n",
        "graph = graphviz.Source(dot_data)\n",
        "graph"
      ],
      "metadata": {
        "id": "8tgSldCH5xU1",
        "colab": {
          "base_uri": "https://localhost:8080/",
          "height": 599
        },
        "outputId": "8c8a1cb1-7caf-461d-9d94-15180fa098b7"
      },
      "execution_count": 173,
      "outputs": [
        {
          "output_type": "execute_result",
          "data": {
            "image/svg+xml": "<?xml version=\"1.0\" encoding=\"UTF-8\" standalone=\"no\"?>\n<!DOCTYPE svg PUBLIC \"-//W3C//DTD SVG 1.1//EN\"\n \"http://www.w3.org/Graphics/SVG/1.1/DTD/svg11.dtd\">\n<!-- Generated by graphviz version 2.43.0 (0)\n -->\n<!-- Title: Tree Pages: 1 -->\n<svg width=\"1231pt\" height=\"433pt\"\n viewBox=\"0.00 0.00 1230.50 433.00\" xmlns=\"http://www.w3.org/2000/svg\" xmlns:xlink=\"http://www.w3.org/1999/xlink\">\n<g id=\"graph0\" class=\"graph\" transform=\"scale(1 1) rotate(0) translate(4 429)\">\n<title>Tree</title>\n<polygon fill=\"white\" stroke=\"transparent\" points=\"-4,4 -4,-429 1226.5,-429 1226.5,4 -4,4\"/>\n<!-- 0 -->\n<g id=\"node1\" class=\"node\">\n<title>0</title>\n<path fill=\"#f8f4fe\" stroke=\"black\" d=\"M684,-425C684,-425 538,-425 538,-425 532,-425 526,-419 526,-413 526,-413 526,-354 526,-354 526,-348 532,-342 538,-342 538,-342 684,-342 684,-342 690,-342 696,-348 696,-354 696,-354 696,-413 696,-413 696,-419 690,-425 684,-425\"/>\n<text text-anchor=\"start\" x=\"540.5\" y=\"-409.8\" font-family=\"Helvetica,sans-Serif\" font-size=\"14.00\">VisceraWeight ≤ &#45;0.324</text>\n<text text-anchor=\"start\" x=\"575.5\" y=\"-394.8\" font-family=\"Helvetica,sans-Serif\" font-size=\"14.00\">gini = 0.666</text>\n<text text-anchor=\"start\" x=\"562.5\" y=\"-379.8\" font-family=\"Helvetica,sans-Serif\" font-size=\"14.00\">samples = 3132</text>\n<text text-anchor=\"start\" x=\"534\" y=\"-364.8\" font-family=\"Helvetica,sans-Serif\" font-size=\"14.00\">value = [993, 1011, 1128]</text>\n<text text-anchor=\"start\" x=\"583.5\" y=\"-349.8\" font-family=\"Helvetica,sans-Serif\" font-size=\"14.00\">class = p</text>\n</g>\n<!-- 1 -->\n<g id=\"node2\" class=\"node\">\n<title>1</title>\n<path fill=\"#98f1bd\" stroke=\"black\" d=\"M528.5,-306C528.5,-306 397.5,-306 397.5,-306 391.5,-306 385.5,-300 385.5,-294 385.5,-294 385.5,-235 385.5,-235 385.5,-229 391.5,-223 397.5,-223 397.5,-223 528.5,-223 528.5,-223 534.5,-223 540.5,-229 540.5,-235 540.5,-235 540.5,-294 540.5,-294 540.5,-300 534.5,-306 528.5,-306\"/>\n<text text-anchor=\"start\" x=\"419\" y=\"-290.8\" font-family=\"Helvetica,sans-Serif\" font-size=\"14.00\">Rings ≤ &#45;0.441</text>\n<text text-anchor=\"start\" x=\"427.5\" y=\"-275.8\" font-family=\"Helvetica,sans-Serif\" font-size=\"14.00\">gini = 0.539</text>\n<text text-anchor=\"start\" x=\"414.5\" y=\"-260.8\" font-family=\"Helvetica,sans-Serif\" font-size=\"14.00\">samples = 1314</text>\n<text text-anchor=\"start\" x=\"393.5\" y=\"-245.8\" font-family=\"Helvetica,sans-Serif\" font-size=\"14.00\">value = [214, 819, 281]</text>\n<text text-anchor=\"start\" x=\"436\" y=\"-230.8\" font-family=\"Helvetica,sans-Serif\" font-size=\"14.00\">class = y</text>\n</g>\n<!-- 0&#45;&gt;1 -->\n<g id=\"edge1\" class=\"edge\">\n<title>0&#45;&gt;1</title>\n<path fill=\"none\" stroke=\"black\" d=\"M559.65,-341.91C547.6,-332.38 534.66,-322.15 522.29,-312.37\"/>\n<polygon fill=\"black\" stroke=\"black\" points=\"524.27,-309.48 514.26,-306.02 519.93,-314.97 524.27,-309.48\"/>\n<text text-anchor=\"middle\" x=\"517.16\" y=\"-327.15\" font-family=\"Helvetica,sans-Serif\" font-size=\"14.00\">True</text>\n</g>\n<!-- 8 -->\n<g id=\"node9\" class=\"node\">\n<title>8</title>\n<path fill=\"#f7f2fd\" stroke=\"black\" d=\"M829.5,-306C829.5,-306 698.5,-306 698.5,-306 692.5,-306 686.5,-300 686.5,-294 686.5,-294 686.5,-235 686.5,-235 686.5,-229 692.5,-223 698.5,-223 698.5,-223 829.5,-223 829.5,-223 835.5,-223 841.5,-229 841.5,-235 841.5,-235 841.5,-294 841.5,-294 841.5,-300 835.5,-306 829.5,-306\"/>\n<text text-anchor=\"start\" x=\"699\" y=\"-290.8\" font-family=\"Helvetica,sans-Serif\" font-size=\"14.00\">WholeWeight ≤ 0.104</text>\n<text text-anchor=\"start\" x=\"728.5\" y=\"-275.8\" font-family=\"Helvetica,sans-Serif\" font-size=\"14.00\">gini = 0.588</text>\n<text text-anchor=\"start\" x=\"715.5\" y=\"-260.8\" font-family=\"Helvetica,sans-Serif\" font-size=\"14.00\">samples = 1818</text>\n<text text-anchor=\"start\" x=\"694.5\" y=\"-245.8\" font-family=\"Helvetica,sans-Serif\" font-size=\"14.00\">value = [779, 192, 847]</text>\n<text text-anchor=\"start\" x=\"736.5\" y=\"-230.8\" font-family=\"Helvetica,sans-Serif\" font-size=\"14.00\">class = p</text>\n</g>\n<!-- 0&#45;&gt;8 -->\n<g id=\"edge8\" class=\"edge\">\n<title>0&#45;&gt;8</title>\n<path fill=\"none\" stroke=\"black\" d=\"M664.08,-341.91C676.54,-332.38 689.92,-322.15 702.71,-312.37\"/>\n<polygon fill=\"black\" stroke=\"black\" points=\"705.19,-314.88 711.01,-306.02 700.94,-309.32 705.19,-314.88\"/>\n<text text-anchor=\"middle\" x=\"707.71\" y=\"-327.1\" font-family=\"Helvetica,sans-Serif\" font-size=\"14.00\">False</text>\n</g>\n<!-- 2 -->\n<g id=\"node3\" class=\"node\">\n<title>2</title>\n<path fill=\"#6deca2\" stroke=\"black\" d=\"M294.5,-187C294.5,-187 161.5,-187 161.5,-187 155.5,-187 149.5,-181 149.5,-175 149.5,-175 149.5,-116 149.5,-116 149.5,-110 155.5,-104 161.5,-104 161.5,-104 294.5,-104 294.5,-104 300.5,-104 306.5,-110 306.5,-116 306.5,-116 306.5,-175 306.5,-175 306.5,-181 300.5,-187 294.5,-187\"/>\n<text text-anchor=\"start\" x=\"157.5\" y=\"-171.8\" font-family=\"Helvetica,sans-Serif\" font-size=\"14.00\">VisceraWeight ≤ &#45;0.846</text>\n<text text-anchor=\"start\" x=\"192.5\" y=\"-156.8\" font-family=\"Helvetica,sans-Serif\" font-size=\"14.00\">gini = 0.372</text>\n<text text-anchor=\"start\" x=\"183\" y=\"-141.8\" font-family=\"Helvetica,sans-Serif\" font-size=\"14.00\">samples = 849</text>\n<text text-anchor=\"start\" x=\"162.5\" y=\"-126.8\" font-family=\"Helvetica,sans-Serif\" font-size=\"14.00\">value = [70, 658, 121]</text>\n<text text-anchor=\"start\" x=\"201\" y=\"-111.8\" font-family=\"Helvetica,sans-Serif\" font-size=\"14.00\">class = y</text>\n</g>\n<!-- 1&#45;&gt;2 -->\n<g id=\"edge2\" class=\"edge\">\n<title>1&#45;&gt;2</title>\n<path fill=\"none\" stroke=\"black\" d=\"M385.4,-224.87C363.09,-213.76 338.61,-201.57 315.74,-190.18\"/>\n<polygon fill=\"black\" stroke=\"black\" points=\"317.23,-187.02 306.72,-185.69 314.11,-193.28 317.23,-187.02\"/>\n</g>\n<!-- 5 -->\n<g id=\"node6\" class=\"node\">\n<title>5</title>\n<path fill=\"#feffff\" stroke=\"black\" d=\"M528.5,-187C528.5,-187 397.5,-187 397.5,-187 391.5,-187 385.5,-181 385.5,-175 385.5,-175 385.5,-116 385.5,-116 385.5,-110 391.5,-104 397.5,-104 397.5,-104 528.5,-104 528.5,-104 534.5,-104 540.5,-110 540.5,-116 540.5,-116 540.5,-175 540.5,-175 540.5,-181 534.5,-187 528.5,-187\"/>\n<text text-anchor=\"start\" x=\"419\" y=\"-171.8\" font-family=\"Helvetica,sans-Serif\" font-size=\"14.00\">Rings ≤ &#45;0.128</text>\n<text text-anchor=\"start\" x=\"427.5\" y=\"-156.8\" font-family=\"Helvetica,sans-Serif\" font-size=\"14.00\">gini = 0.666</text>\n<text text-anchor=\"start\" x=\"418\" y=\"-141.8\" font-family=\"Helvetica,sans-Serif\" font-size=\"14.00\">samples = 465</text>\n<text text-anchor=\"start\" x=\"393.5\" y=\"-126.8\" font-family=\"Helvetica,sans-Serif\" font-size=\"14.00\">value = [144, 161, 160]</text>\n<text text-anchor=\"start\" x=\"436\" y=\"-111.8\" font-family=\"Helvetica,sans-Serif\" font-size=\"14.00\">class = y</text>\n</g>\n<!-- 1&#45;&gt;5 -->\n<g id=\"edge5\" class=\"edge\">\n<title>1&#45;&gt;5</title>\n<path fill=\"none\" stroke=\"black\" d=\"M463,-222.91C463,-214.65 463,-205.86 463,-197.3\"/>\n<polygon fill=\"black\" stroke=\"black\" points=\"466.5,-197.02 463,-187.02 459.5,-197.02 466.5,-197.02\"/>\n</g>\n<!-- 3 -->\n<g id=\"node4\" class=\"node\">\n<title>3</title>\n<path fill=\"#5ae996\" stroke=\"black\" d=\"M128,-68C128,-68 12,-68 12,-68 6,-68 0,-62 0,-56 0,-56 0,-12 0,-12 0,-6 6,0 12,0 12,0 128,0 128,0 134,0 140,-6 140,-12 140,-12 140,-56 140,-56 140,-62 134,-68 128,-68\"/>\n<text text-anchor=\"start\" x=\"34.5\" y=\"-52.8\" font-family=\"Helvetica,sans-Serif\" font-size=\"14.00\">gini = 0.263</text>\n<text text-anchor=\"start\" x=\"25\" y=\"-37.8\" font-family=\"Helvetica,sans-Serif\" font-size=\"14.00\">samples = 581</text>\n<text text-anchor=\"start\" x=\"8\" y=\"-22.8\" font-family=\"Helvetica,sans-Serif\" font-size=\"14.00\">value = [23, 494, 64]</text>\n<text text-anchor=\"start\" x=\"43\" y=\"-7.8\" font-family=\"Helvetica,sans-Serif\" font-size=\"14.00\">class = y</text>\n</g>\n<!-- 2&#45;&gt;3 -->\n<g id=\"edge3\" class=\"edge\">\n<title>2&#45;&gt;3</title>\n<path fill=\"none\" stroke=\"black\" d=\"M169.17,-103.73C155.14,-94.01 140.21,-83.66 126.31,-74.02\"/>\n<polygon fill=\"black\" stroke=\"black\" points=\"128.01,-70.94 117.8,-68.13 124.02,-76.7 128.01,-70.94\"/>\n</g>\n<!-- 4 -->\n<g id=\"node5\" class=\"node\">\n<title>4</title>\n<path fill=\"#9bf2bf\" stroke=\"black\" d=\"M286,-68C286,-68 170,-68 170,-68 164,-68 158,-62 158,-56 158,-56 158,-12 158,-12 158,-6 164,0 170,0 170,0 286,0 286,0 292,0 298,-6 298,-12 298,-12 298,-56 298,-56 298,-62 292,-68 286,-68\"/>\n<text text-anchor=\"start\" x=\"196\" y=\"-52.8\" font-family=\"Helvetica,sans-Serif\" font-size=\"14.00\">gini = 0.55</text>\n<text text-anchor=\"start\" x=\"183\" y=\"-37.8\" font-family=\"Helvetica,sans-Serif\" font-size=\"14.00\">samples = 268</text>\n<text text-anchor=\"start\" x=\"166\" y=\"-22.8\" font-family=\"Helvetica,sans-Serif\" font-size=\"14.00\">value = [47, 164, 57]</text>\n<text text-anchor=\"start\" x=\"201\" y=\"-7.8\" font-family=\"Helvetica,sans-Serif\" font-size=\"14.00\">class = y</text>\n</g>\n<!-- 2&#45;&gt;4 -->\n<g id=\"edge4\" class=\"edge\">\n<title>2&#45;&gt;4</title>\n<path fill=\"none\" stroke=\"black\" d=\"M228,-103.73C228,-95.52 228,-86.86 228,-78.56\"/>\n<polygon fill=\"black\" stroke=\"black\" points=\"231.5,-78.3 228,-68.3 224.5,-78.3 231.5,-78.3\"/>\n</g>\n<!-- 6 -->\n<g id=\"node7\" class=\"node\">\n<title>6</title>\n<path fill=\"#d2f9e2\" stroke=\"black\" d=\"M436,-68C436,-68 328,-68 328,-68 322,-68 316,-62 316,-56 316,-56 316,-12 316,-12 316,-6 322,0 328,0 328,0 436,0 436,0 442,0 448,-6 448,-12 448,-12 448,-56 448,-56 448,-62 442,-68 436,-68\"/>\n<text text-anchor=\"start\" x=\"350\" y=\"-52.8\" font-family=\"Helvetica,sans-Serif\" font-size=\"14.00\">gini = 0.62</text>\n<text text-anchor=\"start\" x=\"337\" y=\"-37.8\" font-family=\"Helvetica,sans-Serif\" font-size=\"14.00\">samples = 171</text>\n<text text-anchor=\"start\" x=\"324\" y=\"-22.8\" font-family=\"Helvetica,sans-Serif\" font-size=\"14.00\">value = [31, 83, 57]</text>\n<text text-anchor=\"start\" x=\"355\" y=\"-7.8\" font-family=\"Helvetica,sans-Serif\" font-size=\"14.00\">class = y</text>\n</g>\n<!-- 5&#45;&gt;6 -->\n<g id=\"edge6\" class=\"edge\">\n<title>5&#45;&gt;6</title>\n<path fill=\"none\" stroke=\"black\" d=\"M432.84,-103.73C426.23,-94.79 419.22,-85.32 412.59,-76.36\"/>\n<polygon fill=\"black\" stroke=\"black\" points=\"415.39,-74.26 406.63,-68.3 409.77,-78.42 415.39,-74.26\"/>\n</g>\n<!-- 7 -->\n<g id=\"node8\" class=\"node\">\n<title>7</title>\n<path fill=\"#fef8f5\" stroke=\"black\" d=\"M601.5,-68C601.5,-68 478.5,-68 478.5,-68 472.5,-68 466.5,-62 466.5,-56 466.5,-56 466.5,-12 466.5,-12 466.5,-6 472.5,0 478.5,0 478.5,0 601.5,0 601.5,0 607.5,0 613.5,-6 613.5,-12 613.5,-12 613.5,-56 613.5,-56 613.5,-62 607.5,-68 601.5,-68\"/>\n<text text-anchor=\"start\" x=\"504.5\" y=\"-52.8\" font-family=\"Helvetica,sans-Serif\" font-size=\"14.00\">gini = 0.659</text>\n<text text-anchor=\"start\" x=\"495\" y=\"-37.8\" font-family=\"Helvetica,sans-Serif\" font-size=\"14.00\">samples = 294</text>\n<text text-anchor=\"start\" x=\"474.5\" y=\"-22.8\" font-family=\"Helvetica,sans-Serif\" font-size=\"14.00\">value = [113, 78, 103]</text>\n<text text-anchor=\"start\" x=\"512.5\" y=\"-7.8\" font-family=\"Helvetica,sans-Serif\" font-size=\"14.00\">class = T</text>\n</g>\n<!-- 5&#45;&gt;7 -->\n<g id=\"edge7\" class=\"edge\">\n<title>5&#45;&gt;7</title>\n<path fill=\"none\" stroke=\"black\" d=\"M491.67,-103.73C497.89,-94.88 504.48,-85.51 510.73,-76.63\"/>\n<polygon fill=\"black\" stroke=\"black\" points=\"513.69,-78.49 516.58,-68.3 507.97,-74.47 513.69,-78.49\"/>\n</g>\n<!-- 9 -->\n<g id=\"node10\" class=\"node\">\n<title>9</title>\n<path fill=\"#f4eefd\" stroke=\"black\" d=\"M829.5,-187C829.5,-187 698.5,-187 698.5,-187 692.5,-187 686.5,-181 686.5,-175 686.5,-175 686.5,-116 686.5,-116 686.5,-110 692.5,-104 698.5,-104 698.5,-104 829.5,-104 829.5,-104 835.5,-104 841.5,-110 841.5,-116 841.5,-116 841.5,-175 841.5,-175 841.5,-181 835.5,-187 829.5,-187\"/>\n<text text-anchor=\"start\" x=\"700.5\" y=\"-171.8\" font-family=\"Helvetica,sans-Serif\" font-size=\"14.00\">LongestShell ≤ 0.123</text>\n<text text-anchor=\"start\" x=\"728.5\" y=\"-156.8\" font-family=\"Helvetica,sans-Serif\" font-size=\"14.00\">gini = 0.657</text>\n<text text-anchor=\"start\" x=\"719\" y=\"-141.8\" font-family=\"Helvetica,sans-Serif\" font-size=\"14.00\">samples = 448</text>\n<text text-anchor=\"start\" x=\"694.5\" y=\"-126.8\" font-family=\"Helvetica,sans-Serif\" font-size=\"14.00\">value = [153, 116, 179]</text>\n<text text-anchor=\"start\" x=\"736.5\" y=\"-111.8\" font-family=\"Helvetica,sans-Serif\" font-size=\"14.00\">class = p</text>\n</g>\n<!-- 8&#45;&gt;9 -->\n<g id=\"edge9\" class=\"edge\">\n<title>8&#45;&gt;9</title>\n<path fill=\"none\" stroke=\"black\" d=\"M764,-222.91C764,-214.65 764,-205.86 764,-197.3\"/>\n<polygon fill=\"black\" stroke=\"black\" points=\"767.5,-197.02 764,-187.02 760.5,-197.02 767.5,-197.02\"/>\n</g>\n<!-- 12 -->\n<g id=\"node13\" class=\"node\">\n<title>12</title>\n<path fill=\"#f8f4fe\" stroke=\"black\" d=\"M1074,-187C1074,-187 938,-187 938,-187 932,-187 926,-181 926,-175 926,-175 926,-116 926,-116 926,-110 932,-104 938,-104 938,-104 1074,-104 1074,-104 1080,-104 1086,-110 1086,-116 1086,-116 1086,-175 1086,-175 1086,-181 1080,-187 1074,-187\"/>\n<text text-anchor=\"start\" x=\"934\" y=\"-171.8\" font-family=\"Helvetica,sans-Serif\" font-size=\"14.00\">ShuckedWeight ≤ 2.524</text>\n<text text-anchor=\"start\" x=\"974\" y=\"-156.8\" font-family=\"Helvetica,sans-Serif\" font-size=\"14.00\">gini = 0.55</text>\n<text text-anchor=\"start\" x=\"957.5\" y=\"-141.8\" font-family=\"Helvetica,sans-Serif\" font-size=\"14.00\">samples = 1370</text>\n<text text-anchor=\"start\" x=\"940.5\" y=\"-126.8\" font-family=\"Helvetica,sans-Serif\" font-size=\"14.00\">value = [626, 76, 668]</text>\n<text text-anchor=\"start\" x=\"978.5\" y=\"-111.8\" font-family=\"Helvetica,sans-Serif\" font-size=\"14.00\">class = p</text>\n</g>\n<!-- 8&#45;&gt;12 -->\n<g id=\"edge12\" class=\"edge\">\n<title>8&#45;&gt;12</title>\n<path fill=\"none\" stroke=\"black\" d=\"M841.57,-226C865.58,-214.39 892.22,-201.51 916.94,-189.56\"/>\n<polygon fill=\"black\" stroke=\"black\" points=\"918.48,-192.7 925.96,-185.2 915.43,-186.4 918.48,-192.7\"/>\n</g>\n<!-- 10 -->\n<g id=\"node11\" class=\"node\">\n<title>10</title>\n<path fill=\"#faf8fe\" stroke=\"black\" d=\"M752,-68C752,-68 644,-68 644,-68 638,-68 632,-62 632,-56 632,-56 632,-12 632,-12 632,-6 638,0 644,0 644,0 752,0 752,0 758,0 764,-6 764,-12 764,-12 764,-56 764,-56 764,-62 758,-68 752,-68\"/>\n<text text-anchor=\"start\" x=\"662.5\" y=\"-52.8\" font-family=\"Helvetica,sans-Serif\" font-size=\"14.00\">gini = 0.631</text>\n<text text-anchor=\"start\" x=\"653\" y=\"-37.8\" font-family=\"Helvetica,sans-Serif\" font-size=\"14.00\">samples = 228</text>\n<text text-anchor=\"start\" x=\"640\" y=\"-22.8\" font-family=\"Helvetica,sans-Serif\" font-size=\"14.00\">value = [91, 41, 96]</text>\n<text text-anchor=\"start\" x=\"670.5\" y=\"-7.8\" font-family=\"Helvetica,sans-Serif\" font-size=\"14.00\">class = p</text>\n</g>\n<!-- 9&#45;&gt;10 -->\n<g id=\"edge10\" class=\"edge\">\n<title>9&#45;&gt;10</title>\n<path fill=\"none\" stroke=\"black\" d=\"M739.42,-103.73C734.15,-94.97 728.56,-85.7 723.26,-76.91\"/>\n<polygon fill=\"black\" stroke=\"black\" points=\"726.23,-75.06 718.07,-68.3 720.24,-78.67 726.23,-75.06\"/>\n</g>\n<!-- 11 -->\n<g id=\"node12\" class=\"node\">\n<title>11</title>\n<path fill=\"#f8f4fe\" stroke=\"black\" d=\"M902,-68C902,-68 794,-68 794,-68 788,-68 782,-62 782,-56 782,-56 782,-12 782,-12 782,-6 788,0 794,0 794,0 902,0 902,0 908,0 914,-6 914,-12 914,-12 914,-56 914,-56 914,-62 908,-68 902,-68\"/>\n<text text-anchor=\"start\" x=\"812.5\" y=\"-52.8\" font-family=\"Helvetica,sans-Serif\" font-size=\"14.00\">gini = 0.662</text>\n<text text-anchor=\"start\" x=\"803\" y=\"-37.8\" font-family=\"Helvetica,sans-Serif\" font-size=\"14.00\">samples = 220</text>\n<text text-anchor=\"start\" x=\"790\" y=\"-22.8\" font-family=\"Helvetica,sans-Serif\" font-size=\"14.00\">value = [62, 75, 83]</text>\n<text text-anchor=\"start\" x=\"820.5\" y=\"-7.8\" font-family=\"Helvetica,sans-Serif\" font-size=\"14.00\">class = p</text>\n</g>\n<!-- 9&#45;&gt;11 -->\n<g id=\"edge11\" class=\"edge\">\n<title>9&#45;&gt;11</title>\n<path fill=\"none\" stroke=\"black\" d=\"M795.28,-103.73C802.14,-94.79 809.4,-85.32 816.28,-76.36\"/>\n<polygon fill=\"black\" stroke=\"black\" points=\"819.15,-78.36 822.46,-68.3 813.59,-74.1 819.15,-78.36\"/>\n</g>\n<!-- 13 -->\n<g id=\"node14\" class=\"node\">\n<title>13</title>\n<path fill=\"#fcfafe\" stroke=\"black\" d=\"M1067.5,-68C1067.5,-68 944.5,-68 944.5,-68 938.5,-68 932.5,-62 932.5,-56 932.5,-56 932.5,-12 932.5,-12 932.5,-6 938.5,0 944.5,0 944.5,0 1067.5,0 1067.5,0 1073.5,0 1079.5,-6 1079.5,-12 1079.5,-12 1079.5,-56 1079.5,-56 1079.5,-62 1073.5,-68 1067.5,-68\"/>\n<text text-anchor=\"start\" x=\"970.5\" y=\"-52.8\" font-family=\"Helvetica,sans-Serif\" font-size=\"14.00\">gini = 0.553</text>\n<text text-anchor=\"start\" x=\"957.5\" y=\"-37.8\" font-family=\"Helvetica,sans-Serif\" font-size=\"14.00\">samples = 1316</text>\n<text text-anchor=\"start\" x=\"940.5\" y=\"-22.8\" font-family=\"Helvetica,sans-Serif\" font-size=\"14.00\">value = [611, 76, 629]</text>\n<text text-anchor=\"start\" x=\"978.5\" y=\"-7.8\" font-family=\"Helvetica,sans-Serif\" font-size=\"14.00\">class = p</text>\n</g>\n<!-- 12&#45;&gt;13 -->\n<g id=\"edge13\" class=\"edge\">\n<title>12&#45;&gt;13</title>\n<path fill=\"none\" stroke=\"black\" d=\"M1006,-103.73C1006,-95.52 1006,-86.86 1006,-78.56\"/>\n<polygon fill=\"black\" stroke=\"black\" points=\"1009.5,-78.3 1006,-68.3 1002.5,-78.3 1009.5,-78.3\"/>\n</g>\n<!-- 14 -->\n<g id=\"node15\" class=\"node\">\n<title>14</title>\n<path fill=\"#b185ef\" stroke=\"black\" d=\"M1210.5,-68C1210.5,-68 1109.5,-68 1109.5,-68 1103.5,-68 1097.5,-62 1097.5,-56 1097.5,-56 1097.5,-12 1097.5,-12 1097.5,-6 1103.5,0 1109.5,0 1109.5,0 1210.5,0 1210.5,0 1216.5,0 1222.5,-6 1222.5,-12 1222.5,-12 1222.5,-56 1222.5,-56 1222.5,-62 1216.5,-68 1210.5,-68\"/>\n<text text-anchor=\"start\" x=\"1124.5\" y=\"-52.8\" font-family=\"Helvetica,sans-Serif\" font-size=\"14.00\">gini = 0.401</text>\n<text text-anchor=\"start\" x=\"1119\" y=\"-37.8\" font-family=\"Helvetica,sans-Serif\" font-size=\"14.00\">samples = 54</text>\n<text text-anchor=\"start\" x=\"1105.5\" y=\"-22.8\" font-family=\"Helvetica,sans-Serif\" font-size=\"14.00\">value = [15, 0, 39]</text>\n<text text-anchor=\"start\" x=\"1132.5\" y=\"-7.8\" font-family=\"Helvetica,sans-Serif\" font-size=\"14.00\">class = p</text>\n</g>\n<!-- 12&#45;&gt;14 -->\n<g id=\"edge14\" class=\"edge\">\n<title>12&#45;&gt;14</title>\n<path fill=\"none\" stroke=\"black\" d=\"M1063.34,-103.73C1076.94,-94.06 1091.41,-83.77 1104.91,-74.17\"/>\n<polygon fill=\"black\" stroke=\"black\" points=\"1107.05,-76.95 1113.17,-68.3 1102.99,-71.24 1107.05,-76.95\"/>\n</g>\n</g>\n</svg>\n",
            "text/plain": [
              "<graphviz.sources.Source at 0x7b2f5f44c460>"
            ]
          },
          "metadata": {},
          "execution_count": 173
        }
      ]
    },
    {
      "cell_type": "code",
      "source": [
        "# print to the output file\n",
        "print('**************************************************************', file = outputFile)\n",
        "print('(A) Classifier 1 - Base DT', file = outputFile)\n",
        "print(classifier_1, file = outputFile)\n",
        "print('\\n', file = outputFile)"
      ],
      "metadata": {
        "id": "sqRs0lp67Hmo"
      },
      "execution_count": 174,
      "outputs": []
    },
    {
      "cell_type": "code",
      "source": [
        "# print classification report\n",
        "y_pred = classifier_1.predict(X_test)\n",
        "confusion_mat= confusion_matrix(y_test, y_pred)\n",
        "\n",
        "print(classification_report(y_test, y_pred, target_names=['F', 'M', 'I']))\n",
        "print(\"confusion matrix\\n\",confusion_mat)\n",
        "\n",
        "# print the result to the output file\n",
        "confusion_matrix_result =np.array2string(confusion_mat)\n",
        "print(\"(B) Confusion Matrix\", file = outputFile)\n",
        "print(confusion_matrix_result, file = outputFile)\n",
        "print('\\n', file = outputFile)\n",
        "print('(C,D) Classification Report', file = outputFile)\n",
        "print(classification_report(y_test, y_pred, target_names = ['F', 'M', 'I']), file = outputFile)\n",
        "outputFile.flush()"
      ],
      "metadata": {
        "colab": {
          "base_uri": "https://localhost:8080/"
        },
        "id": "mDbdxqro7Hp4",
        "outputId": "ccaaccbc-dae6-44db-9bde-645e4bfa03fd"
      },
      "execution_count": 175,
      "outputs": [
        {
          "output_type": "stream",
          "name": "stdout",
          "text": [
            "              precision    recall  f1-score   support\n",
            "\n",
            "           F       0.34      0.08      0.13       314\n",
            "           M       0.75      0.75      0.75       331\n",
            "           I       0.49      0.78      0.60       400\n",
            "\n",
            "    accuracy                           0.56      1045\n",
            "   macro avg       0.53      0.54      0.49      1045\n",
            "weighted avg       0.53      0.56      0.51      1045\n",
            "\n",
            "confusion matrix\n",
            " [[ 25  23 266]\n",
            " [ 20 249  62]\n",
            " [ 28  61 311]]\n"
          ]
        }
      ]
    },
    {
      "cell_type": "code",
      "source": [
        "# repeat training & prediction 5 times for classifier 1\n",
        "from sklearn.metrics import accuracy_score, f1_score\n",
        "\n",
        "accuracy_baseDT = np.zeros(5)\n",
        "macro_avg_baseDT = np.zeros(5)\n",
        "weighted_avg_baseDT = np.zeros(5)\n",
        "\n",
        "for i in range(5):\n",
        "\n",
        "  #data is shuffeld and scaled every iteration\n",
        "  X_train, X_test, y_train, y_test = train_test_split(X, y)\n",
        "  sc = StandardScaler()\n",
        "  X_train = sc.fit_transform(X_train)\n",
        "  X_test = sc.transform(X_test)\n",
        "\n",
        "  #train and predict\n",
        "  classifier_1.fit(X_train, y_train)\n",
        "  y_pred = classifier_1.predict(X_test)\n",
        "\n",
        "  # find the accuracy for each iteration and store the value\n",
        "  accuracy_baseDT[i] = accuracy_score(y_test, y_pred)\n",
        "  macro_avg_baseDT[i] = f1_score(y_test, y_pred, average='macro')\n",
        "  weighted_avg_baseDT[i] = f1_score(y_test, y_pred, average='weighted')\n",
        "\n",
        "# compute the average accuracy & variances\n",
        "print(f'accuracy_baseDT: {accuracy_baseDT}')\n",
        "Avg_accuracy = (np.sum(accuracy_baseDT))/5\n",
        "accuracy_variance = np.var(accuracy_baseDT)\n",
        "print(f'average accuracy: {Avg_accuracy:.4f}, variance: {accuracy_variance:.6f}')\n",
        "print()\n",
        "\n",
        "# compute the average macro-average F1 & the variance\n",
        "print(f'macro_avg_baseDT: {macro_avg_baseDT}')\n",
        "Avg_macro_avg = (np.sum(macro_avg_baseDT))/5\n",
        "f1_macro_variance = np.var(macro_avg_baseDT)\n",
        "print(f'average macro-average F1: {Avg_macro_avg:.4f}, variance: {f1_macro_variance:.6f}')\n",
        "print()\n",
        "\n",
        "# compute the average weighted-average F1 & the variance\n",
        "print(f'weighted_avg_baseDT: {weighted_avg_baseDT}')\n",
        "Avg_weighted_avg = (np.sum(weighted_avg_baseDT))/5\n",
        "f1_weighted_variance = np.var(weighted_avg_baseDT)\n",
        "print(f'average weighted-average F1: {Avg_weighted_avg:.4f}, variance: {f1_weighted_variance:.6f}')\n"
      ],
      "metadata": {
        "id": "YukiqSwdC21P",
        "outputId": "275dd6e2-1c99-4206-b727-d9e0341c367b",
        "colab": {
          "base_uri": "https://localhost:8080/"
        }
      },
      "execution_count": 176,
      "outputs": [
        {
          "output_type": "stream",
          "name": "stdout",
          "text": [
            "accuracy_baseDT: [0.53684211 0.54545455 0.53110048 0.5215311  0.50813397]\n",
            "average accuracy: 0.5286, variance: 0.000165\n",
            "\n",
            "macro_avg_baseDT: [0.52065439 0.43627652 0.52539969 0.48329785 0.51691877]\n",
            "average macro-average F1: 0.4965, variance: 0.001127\n",
            "\n",
            "weighted_avg_baseDT: [0.52218637 0.4561267  0.51568384 0.46727911 0.51148745]\n",
            "average weighted-average F1: 0.4946, variance: 0.000743\n"
          ]
        }
      ]
    },
    {
      "cell_type": "code",
      "source": [
        "# print the performance result to outputfile\n",
        "print('\\n(E) The result after 5 times of train-test repetition:' ,file = outputFile)\n",
        "print(f'average accuracy: {Avg_accuracy:.4f}, variance: {accuracy_variance:.6f}', file = outputFile)\n",
        "print(f'average macro-average F1: {Avg_macro_avg:.4f}, variance: {f1_macro_variance:.6f}', file = outputFile)\n",
        "print(f'average weighted-average F1: {Avg_weighted_avg:.4f}, variance: {f1_weighted_variance:.6f}', file = outputFile)\n",
        "outputFile.flush()"
      ],
      "metadata": {
        "id": "6BXzFhCxZ8s1"
      },
      "execution_count": 177,
      "outputs": []
    },
    {
      "cell_type": "markdown",
      "source": [
        "##### Classifier 2 - Top-DT"
      ],
      "metadata": {
        "id": "ZbIYwUPH2zO6"
      }
    },
    {
      "cell_type": "code",
      "source": [
        "# Top Decision Tree - decision tree using gridsearch(hyperparameter search)\n",
        "from sklearn.model_selection import GridSearchCV\n",
        "\n",
        "parameters = {\n",
        "    'criterion': ['gini', 'entropy'],\n",
        "    'max_depth': [None, 3, 5],\n",
        "    'min_samples_split': [2, 5, 10]\n",
        "}\n",
        "\n",
        "classifier_2 = GridSearchCV(DecisionTreeClassifier(max_depth=3), parameters)\n",
        "classifier_2.fit(X_train, y_train)\n",
        "\n",
        "print(f'best parameters: {classifier_2.best_params_}')"
      ],
      "metadata": {
        "id": "msSsfbO7m2rW",
        "colab": {
          "base_uri": "https://localhost:8080/"
        },
        "outputId": "202fafcd-5156-4967-99e2-423a2be2ba7d"
      },
      "execution_count": 178,
      "outputs": [
        {
          "output_type": "stream",
          "name": "stdout",
          "text": [
            "best parameters: {'criterion': 'entropy', 'max_depth': 5, 'min_samples_split': 2}\n"
          ]
        }
      ]
    },
    {
      "cell_type": "code",
      "source": [
        "abalone_class = data_abalone.columns[0]\n",
        "abalone_features = list(data_abalone.columns[1:])"
      ],
      "metadata": {
        "id": "6AYbwpuhBO2m"
      },
      "execution_count": 179,
      "outputs": []
    },
    {
      "cell_type": "code",
      "source": [
        "from sklearn.tree import export_graphviz\n",
        "from IPython.display import display\n",
        "\n",
        "dot_data = export_graphviz(classifier_2.best_estimator_,\n",
        "                          feature_names=abalone_features,\n",
        "                          class_names=abalone_class,\n",
        "                          filled=True, rounded=True,\n",
        "                          special_characters=True)\n",
        "\n",
        "graph = graphviz.Source(dot_data)\n",
        "display(graph)"
      ],
      "metadata": {
        "id": "fGFf6Sbj8BW-",
        "outputId": "3dedf5fe-2eb0-4a68-dccc-30c7fe17f641",
        "colab": {
          "base_uri": "https://localhost:8080/",
          "height": 937
        }
      },
      "execution_count": 180,
      "outputs": [
        {
          "output_type": "display_data",
          "data": {
            "image/svg+xml": "<?xml version=\"1.0\" encoding=\"UTF-8\" standalone=\"no\"?>\n<!DOCTYPE svg PUBLIC \"-//W3C//DTD SVG 1.1//EN\"\n \"http://www.w3.org/Graphics/SVG/1.1/DTD/svg11.dtd\">\n<!-- Generated by graphviz version 2.43.0 (0)\n -->\n<!-- Title: Tree Pages: 1 -->\n<svg width=\"4558pt\" height=\"671pt\"\n viewBox=\"0.00 0.00 4557.50 671.00\" xmlns=\"http://www.w3.org/2000/svg\" xmlns:xlink=\"http://www.w3.org/1999/xlink\">\n<g id=\"graph0\" class=\"graph\" transform=\"scale(1 1) rotate(0) translate(4 667)\">\n<title>Tree</title>\n<polygon fill=\"white\" stroke=\"transparent\" points=\"-4,4 -4,-667 4553.5,-667 4553.5,4 -4,4\"/>\n<!-- 0 -->\n<g id=\"node1\" class=\"node\">\n<title>0</title>\n<path fill=\"#f7f2fd\" stroke=\"black\" d=\"M2585,-663C2585,-663 2439,-663 2439,-663 2433,-663 2427,-657 2427,-651 2427,-651 2427,-592 2427,-592 2427,-586 2433,-580 2439,-580 2439,-580 2585,-580 2585,-580 2591,-580 2597,-586 2597,-592 2597,-592 2597,-651 2597,-651 2597,-657 2591,-663 2585,-663\"/>\n<text text-anchor=\"start\" x=\"2445.5\" y=\"-647.8\" font-family=\"Helvetica,sans-Serif\" font-size=\"14.00\">VisceraWeight ≤ &#45;0.28</text>\n<text text-anchor=\"start\" x=\"2464.5\" y=\"-632.8\" font-family=\"Helvetica,sans-Serif\" font-size=\"14.00\">entropy = 1.581</text>\n<text text-anchor=\"start\" x=\"2463.5\" y=\"-617.8\" font-family=\"Helvetica,sans-Serif\" font-size=\"14.00\">samples = 3132</text>\n<text text-anchor=\"start\" x=\"2435\" y=\"-602.8\" font-family=\"Helvetica,sans-Serif\" font-size=\"14.00\">value = [973, 1009, 1150]</text>\n<text text-anchor=\"start\" x=\"2484.5\" y=\"-587.8\" font-family=\"Helvetica,sans-Serif\" font-size=\"14.00\">class = p</text>\n</g>\n<!-- 1 -->\n<g id=\"node2\" class=\"node\">\n<title>1</title>\n<path fill=\"#9af2bf\" stroke=\"black\" d=\"M1816.5,-544C1816.5,-544 1685.5,-544 1685.5,-544 1679.5,-544 1673.5,-538 1673.5,-532 1673.5,-532 1673.5,-473 1673.5,-473 1673.5,-467 1679.5,-461 1685.5,-461 1685.5,-461 1816.5,-461 1816.5,-461 1822.5,-461 1828.5,-467 1828.5,-473 1828.5,-473 1828.5,-532 1828.5,-532 1828.5,-538 1822.5,-544 1816.5,-544\"/>\n<text text-anchor=\"start\" x=\"1707\" y=\"-528.8\" font-family=\"Helvetica,sans-Serif\" font-size=\"14.00\">Rings ≤ &#45;0.436</text>\n<text text-anchor=\"start\" x=\"1703.5\" y=\"-513.8\" font-family=\"Helvetica,sans-Serif\" font-size=\"14.00\">entropy = 1.319</text>\n<text text-anchor=\"start\" x=\"1702.5\" y=\"-498.8\" font-family=\"Helvetica,sans-Serif\" font-size=\"14.00\">samples = 1337</text>\n<text text-anchor=\"start\" x=\"1681.5\" y=\"-483.8\" font-family=\"Helvetica,sans-Serif\" font-size=\"14.00\">value = [196, 833, 308]</text>\n<text text-anchor=\"start\" x=\"1724\" y=\"-468.8\" font-family=\"Helvetica,sans-Serif\" font-size=\"14.00\">class = y</text>\n</g>\n<!-- 0&#45;&gt;1 -->\n<g id=\"edge1\" class=\"edge\">\n<title>0&#45;&gt;1</title>\n<path fill=\"none\" stroke=\"black\" d=\"M2426.92,-607.42C2281.33,-585.04 1985.9,-539.62 1838.6,-516.97\"/>\n<polygon fill=\"black\" stroke=\"black\" points=\"1839.1,-513.5 1828.69,-515.44 1838.04,-520.42 1839.1,-513.5\"/>\n<text text-anchor=\"middle\" x=\"1843.47\" y=\"-531.9\" font-family=\"Helvetica,sans-Serif\" font-size=\"14.00\">True</text>\n</g>\n<!-- 32 -->\n<g id=\"node33\" class=\"node\">\n<title>32</title>\n<path fill=\"#f7f2fd\" stroke=\"black\" d=\"M2839.5,-544C2839.5,-544 2708.5,-544 2708.5,-544 2702.5,-544 2696.5,-538 2696.5,-532 2696.5,-532 2696.5,-473 2696.5,-473 2696.5,-467 2702.5,-461 2708.5,-461 2708.5,-461 2839.5,-461 2839.5,-461 2845.5,-461 2851.5,-467 2851.5,-473 2851.5,-473 2851.5,-532 2851.5,-532 2851.5,-538 2845.5,-544 2839.5,-544\"/>\n<text text-anchor=\"start\" x=\"2709\" y=\"-528.8\" font-family=\"Helvetica,sans-Serif\" font-size=\"14.00\">WholeWeight ≤ 0.345</text>\n<text text-anchor=\"start\" x=\"2726.5\" y=\"-513.8\" font-family=\"Helvetica,sans-Serif\" font-size=\"14.00\">entropy = 1.364</text>\n<text text-anchor=\"start\" x=\"2725.5\" y=\"-498.8\" font-family=\"Helvetica,sans-Serif\" font-size=\"14.00\">samples = 1795</text>\n<text text-anchor=\"start\" x=\"2704.5\" y=\"-483.8\" font-family=\"Helvetica,sans-Serif\" font-size=\"14.00\">value = [777, 176, 842]</text>\n<text text-anchor=\"start\" x=\"2746.5\" y=\"-468.8\" font-family=\"Helvetica,sans-Serif\" font-size=\"14.00\">class = p</text>\n</g>\n<!-- 0&#45;&gt;32 -->\n<g id=\"edge32\" class=\"edge\">\n<title>0&#45;&gt;32</title>\n<path fill=\"none\" stroke=\"black\" d=\"M2597.06,-582.51C2625.92,-569.63 2658.17,-555.22 2687.16,-542.28\"/>\n<polygon fill=\"black\" stroke=\"black\" points=\"2688.75,-545.4 2696.45,-538.13 2685.89,-539.01 2688.75,-545.4\"/>\n<text text-anchor=\"middle\" x=\"2687.52\" y=\"-557.78\" font-family=\"Helvetica,sans-Serif\" font-size=\"14.00\">False</text>\n</g>\n<!-- 2 -->\n<g id=\"node3\" class=\"node\">\n<title>2</title>\n<path fill=\"#6feca4\" stroke=\"black\" d=\"M922.5,-425C922.5,-425 795.5,-425 795.5,-425 789.5,-425 783.5,-419 783.5,-413 783.5,-413 783.5,-354 783.5,-354 783.5,-348 789.5,-342 795.5,-342 795.5,-342 922.5,-342 922.5,-342 928.5,-342 934.5,-348 934.5,-354 934.5,-354 934.5,-413 934.5,-413 934.5,-419 928.5,-425 922.5,-425\"/>\n<text text-anchor=\"start\" x=\"791.5\" y=\"-409.8\" font-family=\"Helvetica,sans-Serif\" font-size=\"14.00\">WholeWeight ≤ &#45;0.833</text>\n<text text-anchor=\"start\" x=\"811.5\" y=\"-394.8\" font-family=\"Helvetica,sans-Serif\" font-size=\"14.00\">entropy = 0.977</text>\n<text text-anchor=\"start\" x=\"814\" y=\"-379.8\" font-family=\"Helvetica,sans-Serif\" font-size=\"14.00\">samples = 871</text>\n<text text-anchor=\"start\" x=\"793.5\" y=\"-364.8\" font-family=\"Helvetica,sans-Serif\" font-size=\"14.00\">value = [58, 671, 142]</text>\n<text text-anchor=\"start\" x=\"832\" y=\"-349.8\" font-family=\"Helvetica,sans-Serif\" font-size=\"14.00\">class = y</text>\n</g>\n<!-- 1&#45;&gt;2 -->\n<g id=\"edge2\" class=\"edge\">\n<title>1&#45;&gt;2</title>\n<path fill=\"none\" stroke=\"black\" d=\"M1673.4,-491.32C1507.17,-469.52 1117.76,-418.44 944.61,-395.73\"/>\n<polygon fill=\"black\" stroke=\"black\" points=\"944.89,-392.24 934.52,-394.41 943.98,-399.18 944.89,-392.24\"/>\n</g>\n<!-- 17 -->\n<g id=\"node18\" class=\"node\">\n<title>17</title>\n<path fill=\"#fdfcff\" stroke=\"black\" d=\"M1816.5,-425C1816.5,-425 1685.5,-425 1685.5,-425 1679.5,-425 1673.5,-419 1673.5,-413 1673.5,-413 1673.5,-354 1673.5,-354 1673.5,-348 1679.5,-342 1685.5,-342 1685.5,-342 1816.5,-342 1816.5,-342 1822.5,-342 1828.5,-348 1828.5,-354 1828.5,-354 1828.5,-413 1828.5,-413 1828.5,-419 1822.5,-425 1816.5,-425\"/>\n<text text-anchor=\"start\" x=\"1707\" y=\"-409.8\" font-family=\"Helvetica,sans-Serif\" font-size=\"14.00\">Rings ≤ &#45;0.128</text>\n<text text-anchor=\"start\" x=\"1707\" y=\"-394.8\" font-family=\"Helvetica,sans-Serif\" font-size=\"14.00\">entropy = 1.58</text>\n<text text-anchor=\"start\" x=\"1706\" y=\"-379.8\" font-family=\"Helvetica,sans-Serif\" font-size=\"14.00\">samples = 466</text>\n<text text-anchor=\"start\" x=\"1681.5\" y=\"-364.8\" font-family=\"Helvetica,sans-Serif\" font-size=\"14.00\">value = [138, 162, 166]</text>\n<text text-anchor=\"start\" x=\"1723.5\" y=\"-349.8\" font-family=\"Helvetica,sans-Serif\" font-size=\"14.00\">class = p</text>\n</g>\n<!-- 1&#45;&gt;17 -->\n<g id=\"edge17\" class=\"edge\">\n<title>1&#45;&gt;17</title>\n<path fill=\"none\" stroke=\"black\" d=\"M1751,-460.91C1751,-452.65 1751,-443.86 1751,-435.3\"/>\n<polygon fill=\"black\" stroke=\"black\" points=\"1754.5,-435.02 1751,-425.02 1747.5,-435.02 1754.5,-435.02\"/>\n</g>\n<!-- 3 -->\n<g id=\"node4\" class=\"node\">\n<title>3</title>\n<path fill=\"#5be996\" stroke=\"black\" d=\"M497.5,-306C497.5,-306 370.5,-306 370.5,-306 364.5,-306 358.5,-300 358.5,-294 358.5,-294 358.5,-235 358.5,-235 358.5,-229 364.5,-223 370.5,-223 370.5,-223 497.5,-223 497.5,-223 503.5,-223 509.5,-229 509.5,-235 509.5,-235 509.5,-294 509.5,-294 509.5,-300 503.5,-306 497.5,-306\"/>\n<text text-anchor=\"start\" x=\"366.5\" y=\"-290.8\" font-family=\"Helvetica,sans-Serif\" font-size=\"14.00\">WholeWeight ≤ &#45;1.418</text>\n<text text-anchor=\"start\" x=\"386.5\" y=\"-275.8\" font-family=\"Helvetica,sans-Serif\" font-size=\"14.00\">entropy = 0.729</text>\n<text text-anchor=\"start\" x=\"389\" y=\"-260.8\" font-family=\"Helvetica,sans-Serif\" font-size=\"14.00\">samples = 598</text>\n<text text-anchor=\"start\" x=\"372\" y=\"-245.8\" font-family=\"Helvetica,sans-Serif\" font-size=\"14.00\">value = [21, 508, 69]</text>\n<text text-anchor=\"start\" x=\"407\" y=\"-230.8\" font-family=\"Helvetica,sans-Serif\" font-size=\"14.00\">class = y</text>\n</g>\n<!-- 2&#45;&gt;3 -->\n<g id=\"edge3\" class=\"edge\">\n<title>2&#45;&gt;3</title>\n<path fill=\"none\" stroke=\"black\" d=\"M783.02,-361.58C708.95,-341.19 596.5,-310.24 519.38,-289\"/>\n<polygon fill=\"black\" stroke=\"black\" points=\"520.25,-285.61 509.68,-286.33 518.39,-292.36 520.25,-285.61\"/>\n</g>\n<!-- 10 -->\n<g id=\"node11\" class=\"node\">\n<title>10</title>\n<path fill=\"#a6f3c6\" stroke=\"black\" d=\"M925.5,-306C925.5,-306 792.5,-306 792.5,-306 786.5,-306 780.5,-300 780.5,-294 780.5,-294 780.5,-235 780.5,-235 780.5,-229 786.5,-223 792.5,-223 792.5,-223 925.5,-223 925.5,-223 931.5,-223 937.5,-229 937.5,-235 937.5,-235 937.5,-294 937.5,-294 937.5,-300 931.5,-306 925.5,-306\"/>\n<text text-anchor=\"start\" x=\"788.5\" y=\"-290.8\" font-family=\"Helvetica,sans-Serif\" font-size=\"14.00\">VisceraWeight ≤ &#45;0.441</text>\n<text text-anchor=\"start\" x=\"811.5\" y=\"-275.8\" font-family=\"Helvetica,sans-Serif\" font-size=\"14.00\">entropy = 1.344</text>\n<text text-anchor=\"start\" x=\"814\" y=\"-260.8\" font-family=\"Helvetica,sans-Serif\" font-size=\"14.00\">samples = 273</text>\n<text text-anchor=\"start\" x=\"797\" y=\"-245.8\" font-family=\"Helvetica,sans-Serif\" font-size=\"14.00\">value = [37, 163, 73]</text>\n<text text-anchor=\"start\" x=\"832\" y=\"-230.8\" font-family=\"Helvetica,sans-Serif\" font-size=\"14.00\">class = y</text>\n</g>\n<!-- 2&#45;&gt;10 -->\n<g id=\"edge10\" class=\"edge\">\n<title>2&#45;&gt;10</title>\n<path fill=\"none\" stroke=\"black\" d=\"M859,-341.91C859,-333.65 859,-324.86 859,-316.3\"/>\n<polygon fill=\"black\" stroke=\"black\" points=\"862.5,-316.02 859,-306.02 855.5,-316.02 862.5,-316.02\"/>\n</g>\n<!-- 4 -->\n<g id=\"node5\" class=\"node\">\n<title>4</title>\n<path fill=\"#63ea9c\" stroke=\"black\" d=\"M267,-187C267,-187 159,-187 159,-187 153,-187 147,-181 147,-175 147,-175 147,-116 147,-116 147,-110 153,-104 159,-104 159,-104 267,-104 267,-104 273,-104 279,-110 279,-116 279,-116 279,-175 279,-175 279,-181 273,-187 267,-187\"/>\n<text text-anchor=\"start\" x=\"170.5\" y=\"-171.8\" font-family=\"Helvetica,sans-Serif\" font-size=\"14.00\">Height ≤ &#45;1.56</text>\n<text text-anchor=\"start\" x=\"165.5\" y=\"-156.8\" font-family=\"Helvetica,sans-Serif\" font-size=\"14.00\">entropy = 0.707</text>\n<text text-anchor=\"start\" x=\"168\" y=\"-141.8\" font-family=\"Helvetica,sans-Serif\" font-size=\"14.00\">samples = 171</text>\n<text text-anchor=\"start\" x=\"155\" y=\"-126.8\" font-family=\"Helvetica,sans-Serif\" font-size=\"14.00\">value = [1, 141, 29]</text>\n<text text-anchor=\"start\" x=\"186\" y=\"-111.8\" font-family=\"Helvetica,sans-Serif\" font-size=\"14.00\">class = y</text>\n</g>\n<!-- 3&#45;&gt;4 -->\n<g id=\"edge4\" class=\"edge\">\n<title>3&#45;&gt;4</title>\n<path fill=\"none\" stroke=\"black\" d=\"M358.25,-223.4C335.53,-211.37 310.62,-198.18 287.95,-186.18\"/>\n<polygon fill=\"black\" stroke=\"black\" points=\"289.53,-183.05 279.05,-181.47 286.25,-189.24 289.53,-183.05\"/>\n</g>\n<!-- 7 -->\n<g id=\"node8\" class=\"node\">\n<title>7</title>\n<path fill=\"#58e995\" stroke=\"black\" d=\"M500.5,-187C500.5,-187 367.5,-187 367.5,-187 361.5,-187 355.5,-181 355.5,-175 355.5,-175 355.5,-116 355.5,-116 355.5,-110 361.5,-104 367.5,-104 367.5,-104 500.5,-104 500.5,-104 506.5,-104 512.5,-110 512.5,-116 512.5,-116 512.5,-175 512.5,-175 512.5,-181 506.5,-187 500.5,-187\"/>\n<text text-anchor=\"start\" x=\"363.5\" y=\"-171.8\" font-family=\"Helvetica,sans-Serif\" font-size=\"14.00\">VisceraWeight ≤ &#45;1.409</text>\n<text text-anchor=\"start\" x=\"386.5\" y=\"-156.8\" font-family=\"Helvetica,sans-Serif\" font-size=\"14.00\">entropy = 0.715</text>\n<text text-anchor=\"start\" x=\"389\" y=\"-141.8\" font-family=\"Helvetica,sans-Serif\" font-size=\"14.00\">samples = 427</text>\n<text text-anchor=\"start\" x=\"372\" y=\"-126.8\" font-family=\"Helvetica,sans-Serif\" font-size=\"14.00\">value = [20, 367, 40]</text>\n<text text-anchor=\"start\" x=\"407\" y=\"-111.8\" font-family=\"Helvetica,sans-Serif\" font-size=\"14.00\">class = y</text>\n</g>\n<!-- 3&#45;&gt;7 -->\n<g id=\"edge7\" class=\"edge\">\n<title>3&#45;&gt;7</title>\n<path fill=\"none\" stroke=\"black\" d=\"M434,-222.91C434,-214.65 434,-205.86 434,-197.3\"/>\n<polygon fill=\"black\" stroke=\"black\" points=\"437.5,-197.02 434,-187.02 430.5,-197.02 437.5,-197.02\"/>\n</g>\n<!-- 5 -->\n<g id=\"node6\" class=\"node\">\n<title>5</title>\n<path fill=\"#55e993\" stroke=\"black\" d=\"M120,-68C120,-68 12,-68 12,-68 6,-68 0,-62 0,-56 0,-56 0,-12 0,-12 0,-6 6,0 12,0 12,0 120,0 120,0 126,0 132,-6 132,-12 132,-12 132,-56 132,-56 132,-62 126,-68 120,-68\"/>\n<text text-anchor=\"start\" x=\"18.5\" y=\"-52.8\" font-family=\"Helvetica,sans-Serif\" font-size=\"14.00\">entropy = 0.586</text>\n<text text-anchor=\"start\" x=\"21\" y=\"-37.8\" font-family=\"Helvetica,sans-Serif\" font-size=\"14.00\">samples = 128</text>\n<text text-anchor=\"start\" x=\"8\" y=\"-22.8\" font-family=\"Helvetica,sans-Serif\" font-size=\"14.00\">value = [1, 112, 15]</text>\n<text text-anchor=\"start\" x=\"39\" y=\"-7.8\" font-family=\"Helvetica,sans-Serif\" font-size=\"14.00\">class = y</text>\n</g>\n<!-- 4&#45;&gt;5 -->\n<g id=\"edge5\" class=\"edge\">\n<title>4&#45;&gt;5</title>\n<path fill=\"none\" stroke=\"black\" d=\"M158.26,-103.73C145.41,-94.15 131.73,-83.96 118.95,-74.44\"/>\n<polygon fill=\"black\" stroke=\"black\" points=\"120.81,-71.47 110.7,-68.3 116.63,-77.08 120.81,-71.47\"/>\n</g>\n<!-- 6 -->\n<g id=\"node7\" class=\"node\">\n<title>6</title>\n<path fill=\"#99f2be\" stroke=\"black\" d=\"M263.5,-68C263.5,-68 162.5,-68 162.5,-68 156.5,-68 150.5,-62 150.5,-56 150.5,-56 150.5,-12 150.5,-12 150.5,-6 156.5,0 162.5,0 162.5,0 263.5,0 263.5,0 269.5,0 275.5,-6 275.5,-12 275.5,-12 275.5,-56 275.5,-56 275.5,-62 269.5,-68 263.5,-68\"/>\n<text text-anchor=\"start\" x=\"169\" y=\"-52.8\" font-family=\"Helvetica,sans-Serif\" font-size=\"14.00\">entropy = 0.91</text>\n<text text-anchor=\"start\" x=\"172\" y=\"-37.8\" font-family=\"Helvetica,sans-Serif\" font-size=\"14.00\">samples = 43</text>\n<text text-anchor=\"start\" x=\"158.5\" y=\"-22.8\" font-family=\"Helvetica,sans-Serif\" font-size=\"14.00\">value = [0, 29, 14]</text>\n<text text-anchor=\"start\" x=\"186\" y=\"-7.8\" font-family=\"Helvetica,sans-Serif\" font-size=\"14.00\">class = y</text>\n</g>\n<!-- 4&#45;&gt;6 -->\n<g id=\"edge6\" class=\"edge\">\n<title>4&#45;&gt;6</title>\n<path fill=\"none\" stroke=\"black\" d=\"M213,-103.73C213,-95.52 213,-86.86 213,-78.56\"/>\n<polygon fill=\"black\" stroke=\"black\" points=\"216.5,-78.3 213,-68.3 209.5,-78.3 216.5,-78.3\"/>\n</g>\n<!-- 8 -->\n<g id=\"node9\" class=\"node\">\n<title>8</title>\n<path fill=\"#b0f5cd\" stroke=\"black\" d=\"M392.5,-68C392.5,-68 305.5,-68 305.5,-68 299.5,-68 293.5,-62 293.5,-56 293.5,-56 293.5,-12 293.5,-12 293.5,-6 299.5,0 305.5,0 305.5,0 392.5,0 392.5,0 398.5,0 404.5,-6 404.5,-12 404.5,-12 404.5,-56 404.5,-56 404.5,-62 398.5,-68 392.5,-68\"/>\n<text text-anchor=\"start\" x=\"301.5\" y=\"-52.8\" font-family=\"Helvetica,sans-Serif\" font-size=\"14.00\">entropy = 0.954</text>\n<text text-anchor=\"start\" x=\"311.5\" y=\"-37.8\" font-family=\"Helvetica,sans-Serif\" font-size=\"14.00\">samples = 8</text>\n<text text-anchor=\"start\" x=\"302\" y=\"-22.8\" font-family=\"Helvetica,sans-Serif\" font-size=\"14.00\">value = [3, 5, 0]</text>\n<text text-anchor=\"start\" x=\"322\" y=\"-7.8\" font-family=\"Helvetica,sans-Serif\" font-size=\"14.00\">class = y</text>\n</g>\n<!-- 7&#45;&gt;8 -->\n<g id=\"edge8\" class=\"edge\">\n<title>7&#45;&gt;8</title>\n<path fill=\"none\" stroke=\"black\" d=\"M402.35,-103.73C395.41,-94.79 388.06,-85.32 381.1,-76.36\"/>\n<polygon fill=\"black\" stroke=\"black\" points=\"383.75,-74.05 374.85,-68.3 378.22,-78.35 383.75,-74.05\"/>\n</g>\n<!-- 9 -->\n<g id=\"node10\" class=\"node\">\n<title>9</title>\n<path fill=\"#57e994\" stroke=\"black\" d=\"M551,-68C551,-68 435,-68 435,-68 429,-68 423,-62 423,-56 423,-56 423,-12 423,-12 423,-6 429,0 435,0 435,0 551,0 551,0 557,0 563,-6 563,-12 563,-12 563,-56 563,-56 563,-62 557,-68 551,-68\"/>\n<text text-anchor=\"start\" x=\"445.5\" y=\"-52.8\" font-family=\"Helvetica,sans-Serif\" font-size=\"14.00\">entropy = 0.693</text>\n<text text-anchor=\"start\" x=\"448\" y=\"-37.8\" font-family=\"Helvetica,sans-Serif\" font-size=\"14.00\">samples = 419</text>\n<text text-anchor=\"start\" x=\"431\" y=\"-22.8\" font-family=\"Helvetica,sans-Serif\" font-size=\"14.00\">value = [17, 362, 40]</text>\n<text text-anchor=\"start\" x=\"466\" y=\"-7.8\" font-family=\"Helvetica,sans-Serif\" font-size=\"14.00\">class = y</text>\n</g>\n<!-- 7&#45;&gt;9 -->\n<g id=\"edge9\" class=\"edge\">\n<title>7&#45;&gt;9</title>\n<path fill=\"none\" stroke=\"black\" d=\"M455.97,-103.73C460.64,-95.06 465.58,-85.9 470.27,-77.18\"/>\n<polygon fill=\"black\" stroke=\"black\" points=\"473.4,-78.76 475.06,-68.3 467.23,-75.44 473.4,-78.76\"/>\n</g>\n<!-- 11 -->\n<g id=\"node12\" class=\"node\">\n<title>11</title>\n<path fill=\"#97f1bd\" stroke=\"black\" d=\"M838.5,-187C838.5,-187 711.5,-187 711.5,-187 705.5,-187 699.5,-181 699.5,-175 699.5,-175 699.5,-116 699.5,-116 699.5,-110 705.5,-104 711.5,-104 711.5,-104 838.5,-104 838.5,-104 844.5,-104 850.5,-110 850.5,-116 850.5,-116 850.5,-175 850.5,-175 850.5,-181 844.5,-187 838.5,-187\"/>\n<text text-anchor=\"start\" x=\"707.5\" y=\"-171.8\" font-family=\"Helvetica,sans-Serif\" font-size=\"14.00\">WholeWeight ≤ &#45;0.275</text>\n<text text-anchor=\"start\" x=\"731\" y=\"-156.8\" font-family=\"Helvetica,sans-Serif\" font-size=\"14.00\">entropy = 1.31</text>\n<text text-anchor=\"start\" x=\"730\" y=\"-141.8\" font-family=\"Helvetica,sans-Serif\" font-size=\"14.00\">samples = 214</text>\n<text text-anchor=\"start\" x=\"713\" y=\"-126.8\" font-family=\"Helvetica,sans-Serif\" font-size=\"14.00\">value = [32, 135, 47]</text>\n<text text-anchor=\"start\" x=\"748\" y=\"-111.8\" font-family=\"Helvetica,sans-Serif\" font-size=\"14.00\">class = y</text>\n</g>\n<!-- 10&#45;&gt;11 -->\n<g id=\"edge11\" class=\"edge\">\n<title>10&#45;&gt;11</title>\n<path fill=\"none\" stroke=\"black\" d=\"M829.86,-222.91C823.47,-214.01 816.65,-204.51 810.06,-195.33\"/>\n<polygon fill=\"black\" stroke=\"black\" points=\"812.77,-193.1 804.09,-187.02 807.08,-197.19 812.77,-193.1\"/>\n</g>\n<!-- 14 -->\n<g id=\"node15\" class=\"node\">\n<title>14</title>\n<path fill=\"#f3fdf7\" stroke=\"black\" d=\"M1005,-187C1005,-187 881,-187 881,-187 875,-187 869,-181 869,-175 869,-175 869,-116 869,-116 869,-110 875,-104 881,-104 881,-104 1005,-104 1005,-104 1011,-104 1017,-110 1017,-116 1017,-116 1017,-175 1017,-175 1017,-181 1011,-187 1005,-187\"/>\n<text text-anchor=\"start\" x=\"877\" y=\"-171.8\" font-family=\"Helvetica,sans-Serif\" font-size=\"14.00\">LongestShell ≤ &#45;0.335</text>\n<text text-anchor=\"start\" x=\"895.5\" y=\"-156.8\" font-family=\"Helvetica,sans-Serif\" font-size=\"14.00\">entropy = 1.333</text>\n<text text-anchor=\"start\" x=\"902\" y=\"-141.8\" font-family=\"Helvetica,sans-Serif\" font-size=\"14.00\">samples = 59</text>\n<text text-anchor=\"start\" x=\"888.5\" y=\"-126.8\" font-family=\"Helvetica,sans-Serif\" font-size=\"14.00\">value = [5, 28, 26]</text>\n<text text-anchor=\"start\" x=\"916\" y=\"-111.8\" font-family=\"Helvetica,sans-Serif\" font-size=\"14.00\">class = y</text>\n</g>\n<!-- 10&#45;&gt;14 -->\n<g id=\"edge14\" class=\"edge\">\n<title>10&#45;&gt;14</title>\n<path fill=\"none\" stroke=\"black\" d=\"M888.14,-222.91C894.53,-214.01 901.35,-204.51 907.94,-195.33\"/>\n<polygon fill=\"black\" stroke=\"black\" points=\"910.92,-197.19 913.91,-187.02 905.23,-193.1 910.92,-197.19\"/>\n</g>\n<!-- 12 -->\n<g id=\"node13\" class=\"node\">\n<title>12</title>\n<path fill=\"#94f1bb\" stroke=\"black\" d=\"M709,-68C709,-68 593,-68 593,-68 587,-68 581,-62 581,-56 581,-56 581,-12 581,-12 581,-6 587,0 593,0 593,0 709,0 709,0 715,0 721,-6 721,-12 721,-12 721,-56 721,-56 721,-62 715,-68 709,-68\"/>\n<text text-anchor=\"start\" x=\"603.5\" y=\"-52.8\" font-family=\"Helvetica,sans-Serif\" font-size=\"14.00\">entropy = 1.284</text>\n<text text-anchor=\"start\" x=\"606\" y=\"-37.8\" font-family=\"Helvetica,sans-Serif\" font-size=\"14.00\">samples = 210</text>\n<text text-anchor=\"start\" x=\"589\" y=\"-22.8\" font-family=\"Helvetica,sans-Serif\" font-size=\"14.00\">value = [29, 135, 46]</text>\n<text text-anchor=\"start\" x=\"624\" y=\"-7.8\" font-family=\"Helvetica,sans-Serif\" font-size=\"14.00\">class = y</text>\n</g>\n<!-- 11&#45;&gt;12 -->\n<g id=\"edge12\" class=\"edge\">\n<title>11&#45;&gt;12</title>\n<path fill=\"none\" stroke=\"black\" d=\"M728.83,-103.73C718.19,-94.33 706.88,-84.35 696.28,-74.99\"/>\n<polygon fill=\"black\" stroke=\"black\" points=\"698.52,-72.3 688.71,-68.3 693.89,-77.54 698.52,-72.3\"/>\n</g>\n<!-- 13 -->\n<g id=\"node14\" class=\"node\">\n<title>13</title>\n<path fill=\"#eeab7b\" stroke=\"black\" d=\"M838.5,-68C838.5,-68 751.5,-68 751.5,-68 745.5,-68 739.5,-62 739.5,-56 739.5,-56 739.5,-12 739.5,-12 739.5,-6 745.5,0 751.5,0 751.5,0 838.5,0 838.5,0 844.5,0 850.5,-6 850.5,-12 850.5,-12 850.5,-56 850.5,-56 850.5,-62 844.5,-68 838.5,-68\"/>\n<text text-anchor=\"start\" x=\"747.5\" y=\"-52.8\" font-family=\"Helvetica,sans-Serif\" font-size=\"14.00\">entropy = 0.811</text>\n<text text-anchor=\"start\" x=\"757.5\" y=\"-37.8\" font-family=\"Helvetica,sans-Serif\" font-size=\"14.00\">samples = 4</text>\n<text text-anchor=\"start\" x=\"748\" y=\"-22.8\" font-family=\"Helvetica,sans-Serif\" font-size=\"14.00\">value = [3, 0, 1]</text>\n<text text-anchor=\"start\" x=\"767.5\" y=\"-7.8\" font-family=\"Helvetica,sans-Serif\" font-size=\"14.00\">class = T</text>\n</g>\n<!-- 11&#45;&gt;13 -->\n<g id=\"edge13\" class=\"edge\">\n<title>11&#45;&gt;13</title>\n<path fill=\"none\" stroke=\"black\" d=\"M782.45,-103.73C783.96,-95.43 785.56,-86.67 787.09,-78.28\"/>\n<polygon fill=\"black\" stroke=\"black\" points=\"790.56,-78.77 788.92,-68.3 783.68,-77.51 790.56,-78.77\"/>\n</g>\n<!-- 15 -->\n<g id=\"node16\" class=\"node\">\n<title>15</title>\n<path fill=\"#c09cf2\" stroke=\"black\" d=\"M967.5,-68C967.5,-68 880.5,-68 880.5,-68 874.5,-68 868.5,-62 868.5,-56 868.5,-56 868.5,-12 868.5,-12 868.5,-6 874.5,0 880.5,0 880.5,0 967.5,0 967.5,0 973.5,0 979.5,-6 979.5,-12 979.5,-12 979.5,-56 979.5,-56 979.5,-62 973.5,-68 967.5,-68\"/>\n<text text-anchor=\"start\" x=\"876.5\" y=\"-52.8\" font-family=\"Helvetica,sans-Serif\" font-size=\"14.00\">entropy = 1.241</text>\n<text text-anchor=\"start\" x=\"883\" y=\"-37.8\" font-family=\"Helvetica,sans-Serif\" font-size=\"14.00\">samples = 11</text>\n<text text-anchor=\"start\" x=\"877\" y=\"-22.8\" font-family=\"Helvetica,sans-Serif\" font-size=\"14.00\">value = [3, 1, 7]</text>\n<text text-anchor=\"start\" x=\"896.5\" y=\"-7.8\" font-family=\"Helvetica,sans-Serif\" font-size=\"14.00\">class = p</text>\n</g>\n<!-- 14&#45;&gt;15 -->\n<g id=\"edge15\" class=\"edge\">\n<title>14&#45;&gt;15</title>\n<path fill=\"none\" stroke=\"black\" d=\"M935.93,-103.73C934.48,-95.43 932.97,-86.67 931.51,-78.28\"/>\n<polygon fill=\"black\" stroke=\"black\" points=\"934.94,-77.55 929.78,-68.3 928.04,-78.75 934.94,-77.55\"/>\n</g>\n<!-- 16 -->\n<g id=\"node17\" class=\"node\">\n<title>16</title>\n<path fill=\"#c8f8dc\" stroke=\"black\" d=\"M1110.5,-68C1110.5,-68 1009.5,-68 1009.5,-68 1003.5,-68 997.5,-62 997.5,-56 997.5,-56 997.5,-12 997.5,-12 997.5,-6 1003.5,0 1009.5,0 1009.5,0 1110.5,0 1110.5,0 1116.5,0 1122.5,-6 1122.5,-12 1122.5,-12 1122.5,-56 1122.5,-56 1122.5,-62 1116.5,-68 1110.5,-68\"/>\n<text text-anchor=\"start\" x=\"1012.5\" y=\"-52.8\" font-family=\"Helvetica,sans-Serif\" font-size=\"14.00\">entropy = 1.187</text>\n<text text-anchor=\"start\" x=\"1019\" y=\"-37.8\" font-family=\"Helvetica,sans-Serif\" font-size=\"14.00\">samples = 48</text>\n<text text-anchor=\"start\" x=\"1005.5\" y=\"-22.8\" font-family=\"Helvetica,sans-Serif\" font-size=\"14.00\">value = [2, 27, 19]</text>\n<text text-anchor=\"start\" x=\"1033\" y=\"-7.8\" font-family=\"Helvetica,sans-Serif\" font-size=\"14.00\">class = y</text>\n</g>\n<!-- 14&#45;&gt;16 -->\n<g id=\"edge16\" class=\"edge\">\n<title>14&#45;&gt;16</title>\n<path fill=\"none\" stroke=\"black\" d=\"M986.57,-103.73C996.51,-94.42 1007.06,-84.54 1016.98,-75.26\"/>\n<polygon fill=\"black\" stroke=\"black\" points=\"1019.51,-77.69 1024.42,-68.3 1014.73,-72.58 1019.51,-77.69\"/>\n</g>\n<!-- 18 -->\n<g id=\"node19\" class=\"node\">\n<title>18</title>\n<path fill=\"#d2f9e3\" stroke=\"black\" d=\"M1626,-306C1626,-306 1502,-306 1502,-306 1496,-306 1490,-300 1490,-294 1490,-294 1490,-235 1490,-235 1490,-229 1496,-223 1502,-223 1502,-223 1626,-223 1626,-223 1632,-223 1638,-229 1638,-235 1638,-235 1638,-294 1638,-294 1638,-300 1632,-306 1626,-306\"/>\n<text text-anchor=\"start\" x=\"1498\" y=\"-290.8\" font-family=\"Helvetica,sans-Serif\" font-size=\"14.00\">LongestShell ≤ &#45;0.586</text>\n<text text-anchor=\"start\" x=\"1516.5\" y=\"-275.8\" font-family=\"Helvetica,sans-Serif\" font-size=\"14.00\">entropy = 1.471</text>\n<text text-anchor=\"start\" x=\"1519\" y=\"-260.8\" font-family=\"Helvetica,sans-Serif\" font-size=\"14.00\">samples = 174</text>\n<text text-anchor=\"start\" x=\"1506\" y=\"-245.8\" font-family=\"Helvetica,sans-Serif\" font-size=\"14.00\">value = [30, 85, 59]</text>\n<text text-anchor=\"start\" x=\"1537\" y=\"-230.8\" font-family=\"Helvetica,sans-Serif\" font-size=\"14.00\">class = y</text>\n</g>\n<!-- 17&#45;&gt;18 -->\n<g id=\"edge18\" class=\"edge\">\n<title>17&#45;&gt;18</title>\n<path fill=\"none\" stroke=\"black\" d=\"M1686.12,-341.91C1670.46,-332.11 1653.6,-321.56 1637.57,-311.53\"/>\n<polygon fill=\"black\" stroke=\"black\" points=\"1639.1,-308.36 1628.76,-306.02 1635.39,-314.29 1639.1,-308.36\"/>\n</g>\n<!-- 25 -->\n<g id=\"node26\" class=\"node\">\n<title>25</title>\n<path fill=\"#fffefe\" stroke=\"black\" d=\"M1884.5,-306C1884.5,-306 1761.5,-306 1761.5,-306 1755.5,-306 1749.5,-300 1749.5,-294 1749.5,-294 1749.5,-235 1749.5,-235 1749.5,-229 1755.5,-223 1761.5,-223 1761.5,-223 1884.5,-223 1884.5,-223 1890.5,-223 1896.5,-229 1896.5,-235 1896.5,-235 1896.5,-294 1896.5,-294 1896.5,-300 1890.5,-306 1884.5,-306\"/>\n<text text-anchor=\"start\" x=\"1776.5\" y=\"-290.8\" font-family=\"Helvetica,sans-Serif\" font-size=\"14.00\">Height ≤ &#45;0.859</text>\n<text text-anchor=\"start\" x=\"1775.5\" y=\"-275.8\" font-family=\"Helvetica,sans-Serif\" font-size=\"14.00\">entropy = 1.569</text>\n<text text-anchor=\"start\" x=\"1778\" y=\"-260.8\" font-family=\"Helvetica,sans-Serif\" font-size=\"14.00\">samples = 292</text>\n<text text-anchor=\"start\" x=\"1757.5\" y=\"-245.8\" font-family=\"Helvetica,sans-Serif\" font-size=\"14.00\">value = [108, 77, 107]</text>\n<text text-anchor=\"start\" x=\"1795.5\" y=\"-230.8\" font-family=\"Helvetica,sans-Serif\" font-size=\"14.00\">class = T</text>\n</g>\n<!-- 17&#45;&gt;25 -->\n<g id=\"edge25\" class=\"edge\">\n<title>17&#45;&gt;25</title>\n<path fill=\"none\" stroke=\"black\" d=\"M1775.98,-341.91C1781.4,-333.1 1787.18,-323.7 1792.78,-314.61\"/>\n<polygon fill=\"black\" stroke=\"black\" points=\"1795.8,-316.37 1798.06,-306.02 1789.84,-312.7 1795.8,-316.37\"/>\n</g>\n<!-- 19 -->\n<g id=\"node20\" class=\"node\">\n<title>19</title>\n<path fill=\"#e2d1f9\" stroke=\"black\" d=\"M1405.5,-187C1405.5,-187 1272.5,-187 1272.5,-187 1266.5,-187 1260.5,-181 1260.5,-175 1260.5,-175 1260.5,-116 1260.5,-116 1260.5,-110 1266.5,-104 1272.5,-104 1272.5,-104 1405.5,-104 1405.5,-104 1411.5,-104 1417.5,-110 1417.5,-116 1417.5,-116 1417.5,-175 1417.5,-175 1417.5,-181 1411.5,-187 1405.5,-187\"/>\n<text text-anchor=\"start\" x=\"1268.5\" y=\"-171.8\" font-family=\"Helvetica,sans-Serif\" font-size=\"14.00\">VisceraWeight ≤ &#45;0.833</text>\n<text text-anchor=\"start\" x=\"1291.5\" y=\"-156.8\" font-family=\"Helvetica,sans-Serif\" font-size=\"14.00\">entropy = 1.516</text>\n<text text-anchor=\"start\" x=\"1298\" y=\"-141.8\" font-family=\"Helvetica,sans-Serif\" font-size=\"14.00\">samples = 68</text>\n<text text-anchor=\"start\" x=\"1281\" y=\"-126.8\" font-family=\"Helvetica,sans-Serif\" font-size=\"14.00\">value = [15, 21, 32]</text>\n<text text-anchor=\"start\" x=\"1311.5\" y=\"-111.8\" font-family=\"Helvetica,sans-Serif\" font-size=\"14.00\">class = p</text>\n</g>\n<!-- 18&#45;&gt;19 -->\n<g id=\"edge19\" class=\"edge\">\n<title>18&#45;&gt;19</title>\n<path fill=\"none\" stroke=\"black\" d=\"M1489.7,-224.87C1469.32,-214.27 1447.04,-202.68 1426.01,-191.74\"/>\n<polygon fill=\"black\" stroke=\"black\" points=\"1427.57,-188.61 1417.08,-187.1 1424.34,-194.82 1427.57,-188.61\"/>\n</g>\n<!-- 22 -->\n<g id=\"node23\" class=\"node\">\n<title>22</title>\n<path fill=\"#a2f3c4\" stroke=\"black\" d=\"M1630.5,-187C1630.5,-187 1497.5,-187 1497.5,-187 1491.5,-187 1485.5,-181 1485.5,-175 1485.5,-175 1485.5,-116 1485.5,-116 1485.5,-110 1491.5,-104 1497.5,-104 1497.5,-104 1630.5,-104 1630.5,-104 1636.5,-104 1642.5,-110 1642.5,-116 1642.5,-116 1642.5,-175 1642.5,-175 1642.5,-181 1636.5,-187 1630.5,-187\"/>\n<text text-anchor=\"start\" x=\"1493.5\" y=\"-171.8\" font-family=\"Helvetica,sans-Serif\" font-size=\"14.00\">VisceraWeight ≤ &#45;0.517</text>\n<text text-anchor=\"start\" x=\"1516.5\" y=\"-156.8\" font-family=\"Helvetica,sans-Serif\" font-size=\"14.00\">entropy = 1.341</text>\n<text text-anchor=\"start\" x=\"1519\" y=\"-141.8\" font-family=\"Helvetica,sans-Serif\" font-size=\"14.00\">samples = 106</text>\n<text text-anchor=\"start\" x=\"1506\" y=\"-126.8\" font-family=\"Helvetica,sans-Serif\" font-size=\"14.00\">value = [15, 64, 27]</text>\n<text text-anchor=\"start\" x=\"1537\" y=\"-111.8\" font-family=\"Helvetica,sans-Serif\" font-size=\"14.00\">class = y</text>\n</g>\n<!-- 18&#45;&gt;22 -->\n<g id=\"edge22\" class=\"edge\">\n<title>18&#45;&gt;22</title>\n<path fill=\"none\" stroke=\"black\" d=\"M1564,-222.91C1564,-214.65 1564,-205.86 1564,-197.3\"/>\n<polygon fill=\"black\" stroke=\"black\" points=\"1567.5,-197.02 1564,-187.02 1560.5,-197.02 1567.5,-197.02\"/>\n</g>\n<!-- 20 -->\n<g id=\"node21\" class=\"node\">\n<title>20</title>\n<path fill=\"#dbc6f8\" stroke=\"black\" d=\"M1253.5,-68C1253.5,-68 1152.5,-68 1152.5,-68 1146.5,-68 1140.5,-62 1140.5,-56 1140.5,-56 1140.5,-12 1140.5,-12 1140.5,-6 1146.5,0 1152.5,0 1152.5,0 1253.5,0 1253.5,0 1259.5,0 1265.5,-6 1265.5,-12 1265.5,-12 1265.5,-56 1265.5,-56 1265.5,-62 1259.5,-68 1253.5,-68\"/>\n<text text-anchor=\"start\" x=\"1155.5\" y=\"-52.8\" font-family=\"Helvetica,sans-Serif\" font-size=\"14.00\">entropy = 1.401</text>\n<text text-anchor=\"start\" x=\"1162\" y=\"-37.8\" font-family=\"Helvetica,sans-Serif\" font-size=\"14.00\">samples = 53</text>\n<text text-anchor=\"start\" x=\"1148.5\" y=\"-22.8\" font-family=\"Helvetica,sans-Serif\" font-size=\"14.00\">value = [7, 18, 28]</text>\n<text text-anchor=\"start\" x=\"1175.5\" y=\"-7.8\" font-family=\"Helvetica,sans-Serif\" font-size=\"14.00\">class = p</text>\n</g>\n<!-- 19&#45;&gt;20 -->\n<g id=\"edge20\" class=\"edge\">\n<title>19&#45;&gt;20</title>\n<path fill=\"none\" stroke=\"black\" d=\"M1288.36,-103.73C1276.58,-94.24 1264.05,-84.16 1252.33,-74.72\"/>\n<polygon fill=\"black\" stroke=\"black\" points=\"1254.34,-71.84 1244.36,-68.3 1249.95,-77.3 1254.34,-71.84\"/>\n</g>\n<!-- 21 -->\n<g id=\"node22\" class=\"node\">\n<title>21</title>\n<path fill=\"#f6d1b7\" stroke=\"black\" d=\"M1382.5,-68C1382.5,-68 1295.5,-68 1295.5,-68 1289.5,-68 1283.5,-62 1283.5,-56 1283.5,-56 1283.5,-12 1283.5,-12 1283.5,-6 1289.5,0 1295.5,0 1295.5,0 1382.5,0 1382.5,0 1388.5,0 1394.5,-6 1394.5,-12 1394.5,-12 1394.5,-56 1394.5,-56 1394.5,-62 1388.5,-68 1382.5,-68\"/>\n<text text-anchor=\"start\" x=\"1291.5\" y=\"-52.8\" font-family=\"Helvetica,sans-Serif\" font-size=\"14.00\">entropy = 1.457</text>\n<text text-anchor=\"start\" x=\"1298\" y=\"-37.8\" font-family=\"Helvetica,sans-Serif\" font-size=\"14.00\">samples = 15</text>\n<text text-anchor=\"start\" x=\"1292\" y=\"-22.8\" font-family=\"Helvetica,sans-Serif\" font-size=\"14.00\">value = [8, 3, 4]</text>\n<text text-anchor=\"start\" x=\"1311.5\" y=\"-7.8\" font-family=\"Helvetica,sans-Serif\" font-size=\"14.00\">class = T</text>\n</g>\n<!-- 19&#45;&gt;21 -->\n<g id=\"edge21\" class=\"edge\">\n<title>19&#45;&gt;21</title>\n<path fill=\"none\" stroke=\"black\" d=\"M1339,-103.73C1339,-95.52 1339,-86.86 1339,-78.56\"/>\n<polygon fill=\"black\" stroke=\"black\" points=\"1342.5,-78.3 1339,-68.3 1335.5,-78.3 1342.5,-78.3\"/>\n</g>\n<!-- 23 -->\n<g id=\"node24\" class=\"node\">\n<title>23</title>\n<path fill=\"#65eb9d\" stroke=\"black\" d=\"M1517.5,-68C1517.5,-68 1424.5,-68 1424.5,-68 1418.5,-68 1412.5,-62 1412.5,-56 1412.5,-56 1412.5,-12 1412.5,-12 1412.5,-6 1418.5,0 1424.5,0 1424.5,0 1517.5,0 1517.5,0 1523.5,0 1529.5,-6 1529.5,-12 1529.5,-12 1529.5,-56 1529.5,-56 1529.5,-62 1523.5,-68 1517.5,-68\"/>\n<text text-anchor=\"start\" x=\"1423.5\" y=\"-52.8\" font-family=\"Helvetica,sans-Serif\" font-size=\"14.00\">entropy = 0.904</text>\n<text text-anchor=\"start\" x=\"1430\" y=\"-37.8\" font-family=\"Helvetica,sans-Serif\" font-size=\"14.00\">samples = 51</text>\n<text text-anchor=\"start\" x=\"1420.5\" y=\"-22.8\" font-family=\"Helvetica,sans-Serif\" font-size=\"14.00\">value = [4, 41, 6]</text>\n<text text-anchor=\"start\" x=\"1444\" y=\"-7.8\" font-family=\"Helvetica,sans-Serif\" font-size=\"14.00\">class = y</text>\n</g>\n<!-- 22&#45;&gt;23 -->\n<g id=\"edge23\" class=\"edge\">\n<title>22&#45;&gt;23</title>\n<path fill=\"none\" stroke=\"black\" d=\"M1529.37,-103.73C1521.7,-94.7 1513.57,-85.12 1505.89,-76.08\"/>\n<polygon fill=\"black\" stroke=\"black\" points=\"1508.42,-73.66 1499.28,-68.3 1503.09,-78.19 1508.42,-73.66\"/>\n</g>\n<!-- 24 -->\n<g id=\"node25\" class=\"node\">\n<title>24</title>\n<path fill=\"#f3fdf8\" stroke=\"black\" d=\"M1668,-68C1668,-68 1560,-68 1560,-68 1554,-68 1548,-62 1548,-56 1548,-56 1548,-12 1548,-12 1548,-6 1554,0 1560,0 1560,0 1668,0 1668,0 1674,0 1680,-6 1680,-12 1680,-12 1680,-56 1680,-56 1680,-62 1674,-68 1668,-68\"/>\n<text text-anchor=\"start\" x=\"1566.5\" y=\"-52.8\" font-family=\"Helvetica,sans-Serif\" font-size=\"14.00\">entropy = 1.521</text>\n<text text-anchor=\"start\" x=\"1573\" y=\"-37.8\" font-family=\"Helvetica,sans-Serif\" font-size=\"14.00\">samples = 55</text>\n<text text-anchor=\"start\" x=\"1556\" y=\"-22.8\" font-family=\"Helvetica,sans-Serif\" font-size=\"14.00\">value = [11, 23, 21]</text>\n<text text-anchor=\"start\" x=\"1587\" y=\"-7.8\" font-family=\"Helvetica,sans-Serif\" font-size=\"14.00\">class = y</text>\n</g>\n<!-- 22&#45;&gt;24 -->\n<g id=\"edge24\" class=\"edge\">\n<title>22&#45;&gt;24</title>\n<path fill=\"none\" stroke=\"black\" d=\"M1582.62,-103.73C1586.53,-95.15 1590.67,-86.09 1594.61,-77.46\"/>\n<polygon fill=\"black\" stroke=\"black\" points=\"1597.82,-78.85 1598.79,-68.3 1591.46,-75.94 1597.82,-78.85\"/>\n</g>\n<!-- 26 -->\n<g id=\"node27\" class=\"node\">\n<title>26</title>\n<path fill=\"#dbc6f8\" stroke=\"black\" d=\"M1873.5,-187C1873.5,-187 1772.5,-187 1772.5,-187 1766.5,-187 1760.5,-181 1760.5,-175 1760.5,-175 1760.5,-116 1760.5,-116 1760.5,-110 1766.5,-104 1772.5,-104 1772.5,-104 1873.5,-104 1873.5,-104 1879.5,-104 1885.5,-110 1885.5,-116 1885.5,-116 1885.5,-175 1885.5,-175 1885.5,-181 1879.5,-187 1873.5,-187\"/>\n<text text-anchor=\"start\" x=\"1776.5\" y=\"-171.8\" font-family=\"Helvetica,sans-Serif\" font-size=\"14.00\">Height ≤ &#45;0.976</text>\n<text text-anchor=\"start\" x=\"1775.5\" y=\"-156.8\" font-family=\"Helvetica,sans-Serif\" font-size=\"14.00\">entropy = 1.374</text>\n<text text-anchor=\"start\" x=\"1782\" y=\"-141.8\" font-family=\"Helvetica,sans-Serif\" font-size=\"14.00\">samples = 43</text>\n<text text-anchor=\"start\" x=\"1768.5\" y=\"-126.8\" font-family=\"Helvetica,sans-Serif\" font-size=\"14.00\">value = [5, 15, 23]</text>\n<text text-anchor=\"start\" x=\"1795.5\" y=\"-111.8\" font-family=\"Helvetica,sans-Serif\" font-size=\"14.00\">class = p</text>\n</g>\n<!-- 25&#45;&gt;26 -->\n<g id=\"edge26\" class=\"edge\">\n<title>25&#45;&gt;26</title>\n<path fill=\"none\" stroke=\"black\" d=\"M1823,-222.91C1823,-214.65 1823,-205.86 1823,-197.3\"/>\n<polygon fill=\"black\" stroke=\"black\" points=\"1826.5,-197.02 1823,-187.02 1819.5,-197.02 1826.5,-197.02\"/>\n</g>\n<!-- 29 -->\n<g id=\"node30\" class=\"node\">\n<title>29</title>\n<path fill=\"#fcf0e8\" stroke=\"black\" d=\"M2097,-187C2097,-187 1981,-187 1981,-187 1975,-187 1969,-181 1969,-175 1969,-175 1969,-116 1969,-116 1969,-110 1975,-104 1981,-104 1981,-104 2097,-104 2097,-104 2103,-104 2109,-110 2109,-116 2109,-116 2109,-175 2109,-175 2109,-181 2103,-187 2097,-187\"/>\n<text text-anchor=\"start\" x=\"1990.5\" y=\"-171.8\" font-family=\"Helvetica,sans-Serif\" font-size=\"14.00\">Diameter ≤ 0.11</text>\n<text text-anchor=\"start\" x=\"1991.5\" y=\"-156.8\" font-family=\"Helvetica,sans-Serif\" font-size=\"14.00\">entropy = 1.555</text>\n<text text-anchor=\"start\" x=\"1994\" y=\"-141.8\" font-family=\"Helvetica,sans-Serif\" font-size=\"14.00\">samples = 249</text>\n<text text-anchor=\"start\" x=\"1977\" y=\"-126.8\" font-family=\"Helvetica,sans-Serif\" font-size=\"14.00\">value = [103, 62, 84]</text>\n<text text-anchor=\"start\" x=\"2011.5\" y=\"-111.8\" font-family=\"Helvetica,sans-Serif\" font-size=\"14.00\">class = T</text>\n</g>\n<!-- 25&#45;&gt;29 -->\n<g id=\"edge29\" class=\"edge\">\n<title>25&#45;&gt;29</title>\n<path fill=\"none\" stroke=\"black\" d=\"M1896.73,-223.56C1917.06,-212.55 1939.21,-200.55 1959.83,-189.38\"/>\n<polygon fill=\"black\" stroke=\"black\" points=\"1961.76,-192.32 1968.88,-184.48 1958.42,-186.17 1961.76,-192.32\"/>\n</g>\n<!-- 27 -->\n<g id=\"node28\" class=\"node\">\n<title>27</title>\n<path fill=\"#b58af0\" stroke=\"black\" d=\"M1803.5,-68C1803.5,-68 1710.5,-68 1710.5,-68 1704.5,-68 1698.5,-62 1698.5,-56 1698.5,-56 1698.5,-12 1698.5,-12 1698.5,-6 1704.5,0 1710.5,0 1710.5,0 1803.5,0 1803.5,0 1809.5,0 1815.5,-6 1815.5,-12 1815.5,-12 1815.5,-56 1815.5,-56 1815.5,-62 1809.5,-68 1803.5,-68\"/>\n<text text-anchor=\"start\" x=\"1709.5\" y=\"-52.8\" font-family=\"Helvetica,sans-Serif\" font-size=\"14.00\">entropy = 1.249</text>\n<text text-anchor=\"start\" x=\"1716\" y=\"-37.8\" font-family=\"Helvetica,sans-Serif\" font-size=\"14.00\">samples = 27</text>\n<text text-anchor=\"start\" x=\"1706.5\" y=\"-22.8\" font-family=\"Helvetica,sans-Serif\" font-size=\"14.00\">value = [4, 5, 18]</text>\n<text text-anchor=\"start\" x=\"1729.5\" y=\"-7.8\" font-family=\"Helvetica,sans-Serif\" font-size=\"14.00\">class = p</text>\n</g>\n<!-- 26&#45;&gt;27 -->\n<g id=\"edge27\" class=\"edge\">\n<title>26&#45;&gt;27</title>\n<path fill=\"none\" stroke=\"black\" d=\"M1798.42,-103.73C1793.15,-94.97 1787.56,-85.7 1782.26,-76.91\"/>\n<polygon fill=\"black\" stroke=\"black\" points=\"1785.23,-75.06 1777.07,-68.3 1779.24,-78.67 1785.23,-75.06\"/>\n</g>\n<!-- 28 -->\n<g id=\"node29\" class=\"node\">\n<title>28</title>\n<path fill=\"#a5f3c6\" stroke=\"black\" d=\"M1938.5,-68C1938.5,-68 1845.5,-68 1845.5,-68 1839.5,-68 1833.5,-62 1833.5,-56 1833.5,-56 1833.5,-12 1833.5,-12 1833.5,-6 1839.5,0 1845.5,0 1845.5,0 1938.5,0 1938.5,0 1944.5,0 1950.5,-6 1950.5,-12 1950.5,-12 1950.5,-56 1950.5,-56 1950.5,-62 1944.5,-68 1938.5,-68\"/>\n<text text-anchor=\"start\" x=\"1844.5\" y=\"-52.8\" font-family=\"Helvetica,sans-Serif\" font-size=\"14.00\">entropy = 1.198</text>\n<text text-anchor=\"start\" x=\"1851\" y=\"-37.8\" font-family=\"Helvetica,sans-Serif\" font-size=\"14.00\">samples = 16</text>\n<text text-anchor=\"start\" x=\"1841.5\" y=\"-22.8\" font-family=\"Helvetica,sans-Serif\" font-size=\"14.00\">value = [1, 10, 5]</text>\n<text text-anchor=\"start\" x=\"1865\" y=\"-7.8\" font-family=\"Helvetica,sans-Serif\" font-size=\"14.00\">class = y</text>\n</g>\n<!-- 26&#45;&gt;28 -->\n<g id=\"edge28\" class=\"edge\">\n<title>26&#45;&gt;28</title>\n<path fill=\"none\" stroke=\"black\" d=\"M1848.69,-103.73C1854.21,-94.97 1860.05,-85.7 1865.59,-76.91\"/>\n<polygon fill=\"black\" stroke=\"black\" points=\"1868.65,-78.63 1871.02,-68.3 1862.72,-74.89 1868.65,-78.63\"/>\n</g>\n<!-- 30 -->\n<g id=\"node31\" class=\"node\">\n<title>30</title>\n<path fill=\"#fae9dc\" stroke=\"black\" d=\"M2097,-68C2097,-68 1981,-68 1981,-68 1975,-68 1969,-62 1969,-56 1969,-56 1969,-12 1969,-12 1969,-6 1975,0 1981,0 1981,0 2097,0 2097,0 2103,0 2109,-6 2109,-12 2109,-12 2109,-56 2109,-56 2109,-62 2103,-68 2097,-68\"/>\n<text text-anchor=\"start\" x=\"1991.5\" y=\"-52.8\" font-family=\"Helvetica,sans-Serif\" font-size=\"14.00\">entropy = 1.527</text>\n<text text-anchor=\"start\" x=\"1994\" y=\"-37.8\" font-family=\"Helvetica,sans-Serif\" font-size=\"14.00\">samples = 223</text>\n<text text-anchor=\"start\" x=\"1977\" y=\"-22.8\" font-family=\"Helvetica,sans-Serif\" font-size=\"14.00\">value = [100, 49, 74]</text>\n<text text-anchor=\"start\" x=\"2011.5\" y=\"-7.8\" font-family=\"Helvetica,sans-Serif\" font-size=\"14.00\">class = T</text>\n</g>\n<!-- 29&#45;&gt;30 -->\n<g id=\"edge30\" class=\"edge\">\n<title>29&#45;&gt;30</title>\n<path fill=\"none\" stroke=\"black\" d=\"M2039,-103.73C2039,-95.52 2039,-86.86 2039,-78.56\"/>\n<polygon fill=\"black\" stroke=\"black\" points=\"2042.5,-78.3 2039,-68.3 2035.5,-78.3 2042.5,-78.3\"/>\n</g>\n<!-- 31 -->\n<g id=\"node32\" class=\"node\">\n<title>31</title>\n<path fill=\"#dafae7\" stroke=\"black\" d=\"M2240.5,-68C2240.5,-68 2139.5,-68 2139.5,-68 2133.5,-68 2127.5,-62 2127.5,-56 2127.5,-56 2127.5,-12 2127.5,-12 2127.5,-6 2133.5,0 2139.5,0 2139.5,0 2240.5,0 2240.5,0 2246.5,0 2252.5,-6 2252.5,-12 2252.5,-12 2252.5,-56 2252.5,-56 2252.5,-62 2246.5,-68 2240.5,-68\"/>\n<text text-anchor=\"start\" x=\"2146\" y=\"-52.8\" font-family=\"Helvetica,sans-Serif\" font-size=\"14.00\">entropy = 1.39</text>\n<text text-anchor=\"start\" x=\"2149\" y=\"-37.8\" font-family=\"Helvetica,sans-Serif\" font-size=\"14.00\">samples = 26</text>\n<text text-anchor=\"start\" x=\"2135.5\" y=\"-22.8\" font-family=\"Helvetica,sans-Serif\" font-size=\"14.00\">value = [3, 13, 10]</text>\n<text text-anchor=\"start\" x=\"2163\" y=\"-7.8\" font-family=\"Helvetica,sans-Serif\" font-size=\"14.00\">class = y</text>\n</g>\n<!-- 29&#45;&gt;31 -->\n<g id=\"edge31\" class=\"edge\">\n<title>29&#45;&gt;31</title>\n<path fill=\"none\" stroke=\"black\" d=\"M2095.23,-103.73C2108.56,-94.06 2122.75,-83.77 2135.98,-74.17\"/>\n<polygon fill=\"black\" stroke=\"black\" points=\"2138.04,-77 2144.08,-68.3 2133.93,-71.34 2138.04,-77\"/>\n</g>\n<!-- 33 -->\n<g id=\"node34\" class=\"node\">\n<title>33</title>\n<path fill=\"#f5effd\" stroke=\"black\" d=\"M2839.5,-425C2839.5,-425 2708.5,-425 2708.5,-425 2702.5,-425 2696.5,-419 2696.5,-413 2696.5,-413 2696.5,-354 2696.5,-354 2696.5,-348 2702.5,-342 2708.5,-342 2708.5,-342 2839.5,-342 2839.5,-342 2845.5,-342 2851.5,-348 2851.5,-354 2851.5,-354 2851.5,-413 2851.5,-413 2851.5,-419 2845.5,-425 2839.5,-425\"/>\n<text text-anchor=\"start\" x=\"2709\" y=\"-409.8\" font-family=\"Helvetica,sans-Serif\" font-size=\"14.00\">WholeWeight ≤ 0.071</text>\n<text text-anchor=\"start\" x=\"2726.5\" y=\"-394.8\" font-family=\"Helvetica,sans-Serif\" font-size=\"14.00\">entropy = 1.518</text>\n<text text-anchor=\"start\" x=\"2729\" y=\"-379.8\" font-family=\"Helvetica,sans-Serif\" font-size=\"14.00\">samples = 697</text>\n<text text-anchor=\"start\" x=\"2704.5\" y=\"-364.8\" font-family=\"Helvetica,sans-Serif\" font-size=\"14.00\">value = [262, 138, 297]</text>\n<text text-anchor=\"start\" x=\"2746.5\" y=\"-349.8\" font-family=\"Helvetica,sans-Serif\" font-size=\"14.00\">class = p</text>\n</g>\n<!-- 32&#45;&gt;33 -->\n<g id=\"edge33\" class=\"edge\">\n<title>32&#45;&gt;33</title>\n<path fill=\"none\" stroke=\"black\" d=\"M2774,-460.91C2774,-452.65 2774,-443.86 2774,-435.3\"/>\n<polygon fill=\"black\" stroke=\"black\" points=\"2777.5,-435.02 2774,-425.02 2770.5,-435.02 2777.5,-435.02\"/>\n</g>\n<!-- 48 -->\n<g id=\"node49\" class=\"node\">\n<title>48</title>\n<path fill=\"#f9f5fe\" stroke=\"black\" d=\"M3765,-425C3765,-425 3637,-425 3637,-425 3631,-425 3625,-419 3625,-413 3625,-413 3625,-354 3625,-354 3625,-348 3631,-342 3637,-342 3637,-342 3765,-342 3765,-342 3771,-342 3777,-348 3777,-354 3777,-354 3777,-413 3777,-413 3777,-419 3771,-425 3765,-425\"/>\n<text text-anchor=\"start\" x=\"3633\" y=\"-409.8\" font-family=\"Helvetica,sans-Serif\" font-size=\"14.00\">VisceraWeight ≤ 1.098</text>\n<text text-anchor=\"start\" x=\"3653.5\" y=\"-394.8\" font-family=\"Helvetica,sans-Serif\" font-size=\"14.00\">entropy = 1.182</text>\n<text text-anchor=\"start\" x=\"3652.5\" y=\"-379.8\" font-family=\"Helvetica,sans-Serif\" font-size=\"14.00\">samples = 1098</text>\n<text text-anchor=\"start\" x=\"3635.5\" y=\"-364.8\" font-family=\"Helvetica,sans-Serif\" font-size=\"14.00\">value = [515, 38, 545]</text>\n<text text-anchor=\"start\" x=\"3673.5\" y=\"-349.8\" font-family=\"Helvetica,sans-Serif\" font-size=\"14.00\">class = p</text>\n</g>\n<!-- 32&#45;&gt;48 -->\n<g id=\"edge48\" class=\"edge\">\n<title>32&#45;&gt;48</title>\n<path fill=\"none\" stroke=\"black\" d=\"M2851.84,-491.68C3023.9,-469.96 3435.48,-418.01 3614.92,-395.37\"/>\n<polygon fill=\"black\" stroke=\"black\" points=\"3615.36,-398.84 3624.84,-394.11 3614.48,-391.89 3615.36,-398.84\"/>\n</g>\n<!-- 34 -->\n<g id=\"node35\" class=\"node\">\n<title>34</title>\n<path fill=\"#fcfafe\" stroke=\"black\" d=\"M2761.5,-306C2761.5,-306 2638.5,-306 2638.5,-306 2632.5,-306 2626.5,-300 2626.5,-294 2626.5,-294 2626.5,-235 2626.5,-235 2626.5,-229 2632.5,-223 2638.5,-223 2638.5,-223 2761.5,-223 2761.5,-223 2767.5,-223 2773.5,-229 2773.5,-235 2773.5,-235 2773.5,-294 2773.5,-294 2773.5,-300 2767.5,-306 2761.5,-306\"/>\n<text text-anchor=\"start\" x=\"2636.5\" y=\"-290.8\" font-family=\"Helvetica,sans-Serif\" font-size=\"14.00\">LongestShell ≤ 0.126</text>\n<text text-anchor=\"start\" x=\"2652.5\" y=\"-275.8\" font-family=\"Helvetica,sans-Serif\" font-size=\"14.00\">entropy = 1.565</text>\n<text text-anchor=\"start\" x=\"2655\" y=\"-260.8\" font-family=\"Helvetica,sans-Serif\" font-size=\"14.00\">samples = 382</text>\n<text text-anchor=\"start\" x=\"2634.5\" y=\"-245.8\" font-family=\"Helvetica,sans-Serif\" font-size=\"14.00\">value = [139, 98, 145]</text>\n<text text-anchor=\"start\" x=\"2672.5\" y=\"-230.8\" font-family=\"Helvetica,sans-Serif\" font-size=\"14.00\">class = p</text>\n</g>\n<!-- 33&#45;&gt;34 -->\n<g id=\"edge34\" class=\"edge\">\n<title>33&#45;&gt;34</title>\n<path fill=\"none\" stroke=\"black\" d=\"M2748.33,-341.91C2742.76,-333.1 2736.81,-323.7 2731.06,-314.61\"/>\n<polygon fill=\"black\" stroke=\"black\" points=\"2733.93,-312.6 2725.63,-306.02 2728.02,-316.34 2733.93,-312.6\"/>\n</g>\n<!-- 41 -->\n<g id=\"node42\" class=\"node\">\n<title>41</title>\n<path fill=\"#ece1fb\" stroke=\"black\" d=\"M3045,-306C3045,-306 2909,-306 2909,-306 2903,-306 2897,-300 2897,-294 2897,-294 2897,-235 2897,-235 2897,-229 2903,-223 2909,-223 2909,-223 3045,-223 3045,-223 3051,-223 3057,-229 3057,-235 3057,-235 3057,-294 3057,-294 3057,-300 3051,-306 3045,-306\"/>\n<text text-anchor=\"start\" x=\"2905\" y=\"-290.8\" font-family=\"Helvetica,sans-Serif\" font-size=\"14.00\">ShuckedWeight ≤ 0.259</text>\n<text text-anchor=\"start\" x=\"2929.5\" y=\"-275.8\" font-family=\"Helvetica,sans-Serif\" font-size=\"14.00\">entropy = 1.415</text>\n<text text-anchor=\"start\" x=\"2932\" y=\"-260.8\" font-family=\"Helvetica,sans-Serif\" font-size=\"14.00\">samples = 315</text>\n<text text-anchor=\"start\" x=\"2911.5\" y=\"-245.8\" font-family=\"Helvetica,sans-Serif\" font-size=\"14.00\">value = [123, 40, 152]</text>\n<text text-anchor=\"start\" x=\"2949.5\" y=\"-230.8\" font-family=\"Helvetica,sans-Serif\" font-size=\"14.00\">class = p</text>\n</g>\n<!-- 33&#45;&gt;41 -->\n<g id=\"edge41\" class=\"edge\">\n<title>33&#45;&gt;41</title>\n<path fill=\"none\" stroke=\"black\" d=\"M2844.43,-341.91C2861.59,-332.02 2880.07,-321.37 2897.61,-311.25\"/>\n<polygon fill=\"black\" stroke=\"black\" points=\"2899.78,-314.05 2906.69,-306.02 2896.28,-307.98 2899.78,-314.05\"/>\n</g>\n<!-- 35 -->\n<g id=\"node36\" class=\"node\">\n<title>35</title>\n<path fill=\"#fcfafe\" stroke=\"black\" d=\"M2534,-187C2534,-187 2426,-187 2426,-187 2420,-187 2414,-181 2414,-175 2414,-175 2414,-116 2414,-116 2414,-110 2420,-104 2426,-104 2426,-104 2534,-104 2534,-104 2540,-104 2546,-110 2546,-116 2546,-116 2546,-175 2546,-175 2546,-181 2540,-187 2534,-187\"/>\n<text text-anchor=\"start\" x=\"2427.5\" y=\"-171.8\" font-family=\"Helvetica,sans-Serif\" font-size=\"14.00\">Diameter ≤ 0.161</text>\n<text text-anchor=\"start\" x=\"2432.5\" y=\"-156.8\" font-family=\"Helvetica,sans-Serif\" font-size=\"14.00\">entropy = 1.456</text>\n<text text-anchor=\"start\" x=\"2435\" y=\"-141.8\" font-family=\"Helvetica,sans-Serif\" font-size=\"14.00\">samples = 203</text>\n<text text-anchor=\"start\" x=\"2422\" y=\"-126.8\" font-family=\"Helvetica,sans-Serif\" font-size=\"14.00\">value = [85, 30, 88]</text>\n<text text-anchor=\"start\" x=\"2452.5\" y=\"-111.8\" font-family=\"Helvetica,sans-Serif\" font-size=\"14.00\">class = p</text>\n</g>\n<!-- 34&#45;&gt;35 -->\n<g id=\"edge35\" class=\"edge\">\n<title>34&#45;&gt;35</title>\n<path fill=\"none\" stroke=\"black\" d=\"M2626.44,-224.38C2603.5,-212.18 2578.18,-198.71 2555.14,-186.46\"/>\n<polygon fill=\"black\" stroke=\"black\" points=\"2556.56,-183.25 2546.09,-181.65 2553.28,-189.43 2556.56,-183.25\"/>\n</g>\n<!-- 38 -->\n<g id=\"node39\" class=\"node\">\n<title>38</title>\n<path fill=\"#edfdf4\" stroke=\"black\" d=\"M2754,-187C2754,-187 2646,-187 2646,-187 2640,-187 2634,-181 2634,-175 2634,-175 2634,-116 2634,-116 2634,-110 2640,-104 2646,-104 2646,-104 2754,-104 2754,-104 2760,-104 2766,-110 2766,-116 2766,-116 2766,-175 2766,-175 2766,-181 2760,-187 2754,-187\"/>\n<text text-anchor=\"start\" x=\"2658\" y=\"-171.8\" font-family=\"Helvetica,sans-Serif\" font-size=\"14.00\">Rings ≤ 0.487</text>\n<text text-anchor=\"start\" x=\"2652.5\" y=\"-156.8\" font-family=\"Helvetica,sans-Serif\" font-size=\"14.00\">entropy = 1.578</text>\n<text text-anchor=\"start\" x=\"2655\" y=\"-141.8\" font-family=\"Helvetica,sans-Serif\" font-size=\"14.00\">samples = 179</text>\n<text text-anchor=\"start\" x=\"2642\" y=\"-126.8\" font-family=\"Helvetica,sans-Serif\" font-size=\"14.00\">value = [54, 68, 57]</text>\n<text text-anchor=\"start\" x=\"2673\" y=\"-111.8\" font-family=\"Helvetica,sans-Serif\" font-size=\"14.00\">class = y</text>\n</g>\n<!-- 34&#45;&gt;38 -->\n<g id=\"edge38\" class=\"edge\">\n<title>34&#45;&gt;38</title>\n<path fill=\"none\" stroke=\"black\" d=\"M2700,-222.91C2700,-214.65 2700,-205.86 2700,-197.3\"/>\n<polygon fill=\"black\" stroke=\"black\" points=\"2703.5,-197.02 2700,-187.02 2696.5,-197.02 2703.5,-197.02\"/>\n</g>\n<!-- 36 -->\n<g id=\"node37\" class=\"node\">\n<title>36</title>\n<path fill=\"#e5d6fa\" stroke=\"black\" d=\"M2391,-68C2391,-68 2283,-68 2283,-68 2277,-68 2271,-62 2271,-56 2271,-56 2271,-12 2271,-12 2271,-6 2277,0 2283,0 2283,0 2391,0 2391,0 2397,0 2403,-6 2403,-12 2403,-12 2403,-56 2403,-56 2403,-62 2397,-68 2391,-68\"/>\n<text text-anchor=\"start\" x=\"2289.5\" y=\"-52.8\" font-family=\"Helvetica,sans-Serif\" font-size=\"14.00\">entropy = 1.454</text>\n<text text-anchor=\"start\" x=\"2292\" y=\"-37.8\" font-family=\"Helvetica,sans-Serif\" font-size=\"14.00\">samples = 166</text>\n<text text-anchor=\"start\" x=\"2279\" y=\"-22.8\" font-family=\"Helvetica,sans-Serif\" font-size=\"14.00\">value = [59, 26, 81]</text>\n<text text-anchor=\"start\" x=\"2309.5\" y=\"-7.8\" font-family=\"Helvetica,sans-Serif\" font-size=\"14.00\">class = p</text>\n</g>\n<!-- 35&#45;&gt;36 -->\n<g id=\"edge36\" class=\"edge\">\n<title>35&#45;&gt;36</title>\n<path fill=\"none\" stroke=\"black\" d=\"M2426.75,-103.73C2414.25,-94.15 2400.94,-83.96 2388.51,-74.44\"/>\n<polygon fill=\"black\" stroke=\"black\" points=\"2390.55,-71.6 2380.49,-68.3 2386.3,-77.16 2390.55,-71.6\"/>\n</g>\n<!-- 37 -->\n<g id=\"node38\" class=\"node\">\n<title>37</title>\n<path fill=\"#efaf82\" stroke=\"black\" d=\"M2526.5,-68C2526.5,-68 2433.5,-68 2433.5,-68 2427.5,-68 2421.5,-62 2421.5,-56 2421.5,-56 2421.5,-12 2421.5,-12 2421.5,-6 2427.5,0 2433.5,0 2433.5,0 2526.5,0 2526.5,0 2532.5,0 2538.5,-6 2538.5,-12 2538.5,-12 2538.5,-56 2538.5,-56 2538.5,-62 2532.5,-68 2526.5,-68\"/>\n<text text-anchor=\"start\" x=\"2432.5\" y=\"-52.8\" font-family=\"Helvetica,sans-Serif\" font-size=\"14.00\">entropy = 1.159</text>\n<text text-anchor=\"start\" x=\"2439\" y=\"-37.8\" font-family=\"Helvetica,sans-Serif\" font-size=\"14.00\">samples = 37</text>\n<text text-anchor=\"start\" x=\"2429.5\" y=\"-22.8\" font-family=\"Helvetica,sans-Serif\" font-size=\"14.00\">value = [26, 4, 7]</text>\n<text text-anchor=\"start\" x=\"2452.5\" y=\"-7.8\" font-family=\"Helvetica,sans-Serif\" font-size=\"14.00\">class = T</text>\n</g>\n<!-- 35&#45;&gt;37 -->\n<g id=\"edge37\" class=\"edge\">\n<title>35&#45;&gt;37</title>\n<path fill=\"none\" stroke=\"black\" d=\"M2480,-103.73C2480,-95.52 2480,-86.86 2480,-78.56\"/>\n<polygon fill=\"black\" stroke=\"black\" points=\"2483.5,-78.3 2480,-68.3 2476.5,-78.3 2483.5,-78.3\"/>\n</g>\n<!-- 39 -->\n<g id=\"node40\" class=\"node\">\n<title>39</title>\n<path fill=\"#dcfae9\" stroke=\"black\" d=\"M2677,-68C2677,-68 2569,-68 2569,-68 2563,-68 2557,-62 2557,-56 2557,-56 2557,-12 2557,-12 2557,-6 2563,0 2569,0 2569,0 2677,0 2677,0 2683,0 2689,-6 2689,-12 2689,-12 2689,-56 2689,-56 2689,-62 2683,-68 2677,-68\"/>\n<text text-anchor=\"start\" x=\"2575.5\" y=\"-52.8\" font-family=\"Helvetica,sans-Serif\" font-size=\"14.00\">entropy = 1.556</text>\n<text text-anchor=\"start\" x=\"2578\" y=\"-37.8\" font-family=\"Helvetica,sans-Serif\" font-size=\"14.00\">samples = 145</text>\n<text text-anchor=\"start\" x=\"2565\" y=\"-22.8\" font-family=\"Helvetica,sans-Serif\" font-size=\"14.00\">value = [44, 62, 39]</text>\n<text text-anchor=\"start\" x=\"2596\" y=\"-7.8\" font-family=\"Helvetica,sans-Serif\" font-size=\"14.00\">class = y</text>\n</g>\n<!-- 38&#45;&gt;39 -->\n<g id=\"edge39\" class=\"edge\">\n<title>38&#45;&gt;39</title>\n<path fill=\"none\" stroke=\"black\" d=\"M2671.33,-103.73C2665.11,-94.88 2658.52,-85.51 2652.27,-76.63\"/>\n<polygon fill=\"black\" stroke=\"black\" points=\"2655.03,-74.47 2646.42,-68.3 2649.31,-78.49 2655.03,-74.47\"/>\n</g>\n<!-- 40 -->\n<g id=\"node41\" class=\"node\">\n<title>40</title>\n<path fill=\"#d5bdf6\" stroke=\"black\" d=\"M2820.5,-68C2820.5,-68 2719.5,-68 2719.5,-68 2713.5,-68 2707.5,-62 2707.5,-56 2707.5,-56 2707.5,-12 2707.5,-12 2707.5,-6 2713.5,0 2719.5,0 2719.5,0 2820.5,0 2820.5,0 2826.5,0 2832.5,-6 2832.5,-12 2832.5,-12 2832.5,-56 2832.5,-56 2832.5,-62 2826.5,-68 2820.5,-68\"/>\n<text text-anchor=\"start\" x=\"2722.5\" y=\"-52.8\" font-family=\"Helvetica,sans-Serif\" font-size=\"14.00\">entropy = 1.447</text>\n<text text-anchor=\"start\" x=\"2729\" y=\"-37.8\" font-family=\"Helvetica,sans-Serif\" font-size=\"14.00\">samples = 34</text>\n<text text-anchor=\"start\" x=\"2715.5\" y=\"-22.8\" font-family=\"Helvetica,sans-Serif\" font-size=\"14.00\">value = [10, 6, 18]</text>\n<text text-anchor=\"start\" x=\"2742.5\" y=\"-7.8\" font-family=\"Helvetica,sans-Serif\" font-size=\"14.00\">class = p</text>\n</g>\n<!-- 38&#45;&gt;40 -->\n<g id=\"edge40\" class=\"edge\">\n<title>38&#45;&gt;40</title>\n<path fill=\"none\" stroke=\"black\" d=\"M2726.07,-103.73C2731.66,-94.97 2737.59,-85.7 2743.21,-76.91\"/>\n<polygon fill=\"black\" stroke=\"black\" points=\"2746.28,-78.61 2748.71,-68.3 2740.38,-74.84 2746.28,-78.61\"/>\n</g>\n<!-- 42 -->\n<g id=\"node43\" class=\"node\">\n<title>42</title>\n<path fill=\"#ede3fb\" stroke=\"black\" d=\"M3038,-187C3038,-187 2916,-187 2916,-187 2910,-187 2904,-181 2904,-175 2904,-175 2904,-116 2904,-116 2904,-110 2910,-104 2916,-104 2916,-104 3038,-104 3038,-104 3044,-104 3050,-110 3050,-116 3050,-116 3050,-175 3050,-175 3050,-181 3044,-187 3038,-187\"/>\n<text text-anchor=\"start\" x=\"2912\" y=\"-171.8\" font-family=\"Helvetica,sans-Serif\" font-size=\"14.00\">WholeWeight ≤ 0.314</text>\n<text text-anchor=\"start\" x=\"2929.5\" y=\"-156.8\" font-family=\"Helvetica,sans-Serif\" font-size=\"14.00\">entropy = 1.311</text>\n<text text-anchor=\"start\" x=\"2932\" y=\"-141.8\" font-family=\"Helvetica,sans-Serif\" font-size=\"14.00\">samples = 193</text>\n<text text-anchor=\"start\" x=\"2919\" y=\"-126.8\" font-family=\"Helvetica,sans-Serif\" font-size=\"14.00\">value = [81, 15, 97]</text>\n<text text-anchor=\"start\" x=\"2949.5\" y=\"-111.8\" font-family=\"Helvetica,sans-Serif\" font-size=\"14.00\">class = p</text>\n</g>\n<!-- 41&#45;&gt;42 -->\n<g id=\"edge42\" class=\"edge\">\n<title>41&#45;&gt;42</title>\n<path fill=\"none\" stroke=\"black\" d=\"M2977,-222.91C2977,-214.65 2977,-205.86 2977,-197.3\"/>\n<polygon fill=\"black\" stroke=\"black\" points=\"2980.5,-197.02 2977,-187.02 2973.5,-197.02 2980.5,-197.02\"/>\n</g>\n<!-- 45 -->\n<g id=\"node46\" class=\"node\">\n<title>45</title>\n<path fill=\"#ebdffb\" stroke=\"black\" d=\"M3253.5,-187C3253.5,-187 3140.5,-187 3140.5,-187 3134.5,-187 3128.5,-181 3128.5,-175 3128.5,-175 3128.5,-116 3128.5,-116 3128.5,-110 3134.5,-104 3140.5,-104 3140.5,-104 3253.5,-104 3253.5,-104 3259.5,-104 3265.5,-110 3265.5,-116 3265.5,-116 3265.5,-175 3265.5,-175 3265.5,-181 3259.5,-187 3253.5,-187\"/>\n<text text-anchor=\"start\" x=\"3136.5\" y=\"-171.8\" font-family=\"Helvetica,sans-Serif\" font-size=\"14.00\">ShellWeight ≤ 0.727</text>\n<text text-anchor=\"start\" x=\"3149.5\" y=\"-156.8\" font-family=\"Helvetica,sans-Serif\" font-size=\"14.00\">entropy = 1.516</text>\n<text text-anchor=\"start\" x=\"3152\" y=\"-141.8\" font-family=\"Helvetica,sans-Serif\" font-size=\"14.00\">samples = 122</text>\n<text text-anchor=\"start\" x=\"3139\" y=\"-126.8\" font-family=\"Helvetica,sans-Serif\" font-size=\"14.00\">value = [42, 25, 55]</text>\n<text text-anchor=\"start\" x=\"3169.5\" y=\"-111.8\" font-family=\"Helvetica,sans-Serif\" font-size=\"14.00\">class = p</text>\n</g>\n<!-- 41&#45;&gt;45 -->\n<g id=\"edge45\" class=\"edge\">\n<title>41&#45;&gt;45</title>\n<path fill=\"none\" stroke=\"black\" d=\"M3053.33,-222.91C3074.61,-211.59 3097.76,-199.28 3119.13,-187.91\"/>\n<polygon fill=\"black\" stroke=\"black\" points=\"3120.98,-190.89 3128.17,-183.11 3117.7,-184.71 3120.98,-190.89\"/>\n</g>\n<!-- 43 -->\n<g id=\"node44\" class=\"node\">\n<title>43</title>\n<path fill=\"#e5d6fa\" stroke=\"black\" d=\"M2971,-68C2971,-68 2863,-68 2863,-68 2857,-68 2851,-62 2851,-56 2851,-56 2851,-12 2851,-12 2851,-6 2857,0 2863,0 2863,0 2971,0 2971,0 2977,0 2983,-6 2983,-12 2983,-12 2983,-56 2983,-56 2983,-62 2977,-68 2971,-68\"/>\n<text text-anchor=\"start\" x=\"2869.5\" y=\"-52.8\" font-family=\"Helvetica,sans-Serif\" font-size=\"14.00\">entropy = 1.316</text>\n<text text-anchor=\"start\" x=\"2872\" y=\"-37.8\" font-family=\"Helvetica,sans-Serif\" font-size=\"14.00\">samples = 182</text>\n<text text-anchor=\"start\" x=\"2859\" y=\"-22.8\" font-family=\"Helvetica,sans-Serif\" font-size=\"14.00\">value = [72, 15, 95]</text>\n<text text-anchor=\"start\" x=\"2889.5\" y=\"-7.8\" font-family=\"Helvetica,sans-Serif\" font-size=\"14.00\">class = p</text>\n</g>\n<!-- 42&#45;&gt;43 -->\n<g id=\"edge43\" class=\"edge\">\n<title>42&#45;&gt;43</title>\n<path fill=\"none\" stroke=\"black\" d=\"M2954.66,-103.73C2949.91,-95.06 2944.89,-85.9 2940.11,-77.18\"/>\n<polygon fill=\"black\" stroke=\"black\" points=\"2943.12,-75.39 2935.25,-68.3 2936.98,-78.75 2943.12,-75.39\"/>\n</g>\n<!-- 44 -->\n<g id=\"node45\" class=\"node\">\n<title>44</title>\n<path fill=\"#eb9d65\" stroke=\"black\" d=\"M3100.5,-68C3100.5,-68 3013.5,-68 3013.5,-68 3007.5,-68 3001.5,-62 3001.5,-56 3001.5,-56 3001.5,-12 3001.5,-12 3001.5,-6 3007.5,0 3013.5,0 3013.5,0 3100.5,0 3100.5,0 3106.5,0 3112.5,-6 3112.5,-12 3112.5,-12 3112.5,-56 3112.5,-56 3112.5,-62 3106.5,-68 3100.5,-68\"/>\n<text text-anchor=\"start\" x=\"3009.5\" y=\"-52.8\" font-family=\"Helvetica,sans-Serif\" font-size=\"14.00\">entropy = 0.684</text>\n<text text-anchor=\"start\" x=\"3016\" y=\"-37.8\" font-family=\"Helvetica,sans-Serif\" font-size=\"14.00\">samples = 11</text>\n<text text-anchor=\"start\" x=\"3010\" y=\"-22.8\" font-family=\"Helvetica,sans-Serif\" font-size=\"14.00\">value = [9, 0, 2]</text>\n<text text-anchor=\"start\" x=\"3029.5\" y=\"-7.8\" font-family=\"Helvetica,sans-Serif\" font-size=\"14.00\">class = T</text>\n</g>\n<!-- 42&#45;&gt;44 -->\n<g id=\"edge44\" class=\"edge\">\n<title>42&#45;&gt;44</title>\n<path fill=\"none\" stroke=\"black\" d=\"M3006.79,-103.73C3013.25,-94.88 3020.1,-85.51 3026.59,-76.63\"/>\n<polygon fill=\"black\" stroke=\"black\" points=\"3029.6,-78.44 3032.67,-68.3 3023.95,-74.31 3029.6,-78.44\"/>\n</g>\n<!-- 46 -->\n<g id=\"node47\" class=\"node\">\n<title>46</title>\n<path fill=\"#eadefb\" stroke=\"black\" d=\"M3251,-68C3251,-68 3143,-68 3143,-68 3137,-68 3131,-62 3131,-56 3131,-56 3131,-12 3131,-12 3131,-6 3137,0 3143,0 3143,0 3251,0 3251,0 3257,0 3263,-6 3263,-12 3263,-12 3263,-56 3263,-56 3263,-62 3257,-68 3251,-68\"/>\n<text text-anchor=\"start\" x=\"3149.5\" y=\"-52.8\" font-family=\"Helvetica,sans-Serif\" font-size=\"14.00\">entropy = 1.503</text>\n<text text-anchor=\"start\" x=\"3152\" y=\"-37.8\" font-family=\"Helvetica,sans-Serif\" font-size=\"14.00\">samples = 120</text>\n<text text-anchor=\"start\" x=\"3139\" y=\"-22.8\" font-family=\"Helvetica,sans-Serif\" font-size=\"14.00\">value = [42, 23, 55]</text>\n<text text-anchor=\"start\" x=\"3169.5\" y=\"-7.8\" font-family=\"Helvetica,sans-Serif\" font-size=\"14.00\">class = p</text>\n</g>\n<!-- 45&#45;&gt;46 -->\n<g id=\"edge46\" class=\"edge\">\n<title>45&#45;&gt;46</title>\n<path fill=\"none\" stroke=\"black\" d=\"M3197,-103.73C3197,-95.52 3197,-86.86 3197,-78.56\"/>\n<polygon fill=\"black\" stroke=\"black\" points=\"3200.5,-78.3 3197,-68.3 3193.5,-78.3 3200.5,-78.3\"/>\n</g>\n<!-- 47 -->\n<g id=\"node48\" class=\"node\">\n<title>47</title>\n<path fill=\"#39e581\" stroke=\"black\" d=\"M3379,-68C3379,-68 3293,-68 3293,-68 3287,-68 3281,-62 3281,-56 3281,-56 3281,-12 3281,-12 3281,-6 3287,0 3293,0 3293,0 3379,0 3379,0 3385,0 3391,-6 3391,-12 3391,-12 3391,-56 3391,-56 3391,-62 3385,-68 3379,-68\"/>\n<text text-anchor=\"start\" x=\"3296\" y=\"-52.8\" font-family=\"Helvetica,sans-Serif\" font-size=\"14.00\">entropy = 0.0</text>\n<text text-anchor=\"start\" x=\"3298.5\" y=\"-37.8\" font-family=\"Helvetica,sans-Serif\" font-size=\"14.00\">samples = 2</text>\n<text text-anchor=\"start\" x=\"3289\" y=\"-22.8\" font-family=\"Helvetica,sans-Serif\" font-size=\"14.00\">value = [0, 2, 0]</text>\n<text text-anchor=\"start\" x=\"3309\" y=\"-7.8\" font-family=\"Helvetica,sans-Serif\" font-size=\"14.00\">class = y</text>\n</g>\n<!-- 45&#45;&gt;47 -->\n<g id=\"edge47\" class=\"edge\">\n<title>45&#45;&gt;47</title>\n<path fill=\"none\" stroke=\"black\" d=\"M3248.76,-103.73C3260.8,-94.24 3273.6,-84.16 3285.58,-74.72\"/>\n<polygon fill=\"black\" stroke=\"black\" points=\"3288.04,-77.24 3293.73,-68.3 3283.71,-71.74 3288.04,-77.24\"/>\n</g>\n<!-- 49 -->\n<g id=\"node50\" class=\"node\">\n<title>49</title>\n<path fill=\"#ebe0fb\" stroke=\"black\" d=\"M3769,-306C3769,-306 3633,-306 3633,-306 3627,-306 3621,-300 3621,-294 3621,-294 3621,-235 3621,-235 3621,-229 3627,-223 3633,-223 3633,-223 3769,-223 3769,-223 3775,-223 3781,-229 3781,-235 3781,-235 3781,-294 3781,-294 3781,-300 3775,-306 3769,-306\"/>\n<text text-anchor=\"start\" x=\"3629\" y=\"-290.8\" font-family=\"Helvetica,sans-Serif\" font-size=\"14.00\">ShuckedWeight ≤ 0.874</text>\n<text text-anchor=\"start\" x=\"3653.5\" y=\"-275.8\" font-family=\"Helvetica,sans-Serif\" font-size=\"14.00\">entropy = 1.239</text>\n<text text-anchor=\"start\" x=\"3656\" y=\"-260.8\" font-family=\"Helvetica,sans-Serif\" font-size=\"14.00\">samples = 646</text>\n<text text-anchor=\"start\" x=\"3635.5\" y=\"-245.8\" font-family=\"Helvetica,sans-Serif\" font-size=\"14.00\">value = [277, 34, 335]</text>\n<text text-anchor=\"start\" x=\"3673.5\" y=\"-230.8\" font-family=\"Helvetica,sans-Serif\" font-size=\"14.00\">class = p</text>\n</g>\n<!-- 48&#45;&gt;49 -->\n<g id=\"edge49\" class=\"edge\">\n<title>48&#45;&gt;49</title>\n<path fill=\"none\" stroke=\"black\" d=\"M3701,-341.91C3701,-333.65 3701,-324.86 3701,-316.3\"/>\n<polygon fill=\"black\" stroke=\"black\" points=\"3704.5,-316.02 3701,-306.02 3697.5,-316.02 3704.5,-316.02\"/>\n</g>\n<!-- 56 -->\n<g id=\"node57\" class=\"node\">\n<title>56</title>\n<path fill=\"#fcf0e8\" stroke=\"black\" d=\"M4191,-306C4191,-306 4055,-306 4055,-306 4049,-306 4043,-300 4043,-294 4043,-294 4043,-235 4043,-235 4043,-229 4049,-223 4055,-223 4055,-223 4191,-223 4191,-223 4197,-223 4203,-229 4203,-235 4203,-235 4203,-294 4203,-294 4203,-300 4197,-306 4191,-306\"/>\n<text text-anchor=\"start\" x=\"4051\" y=\"-290.8\" font-family=\"Helvetica,sans-Serif\" font-size=\"14.00\">ShuckedWeight ≤ 2.356</text>\n<text text-anchor=\"start\" x=\"4075.5\" y=\"-275.8\" font-family=\"Helvetica,sans-Serif\" font-size=\"14.00\">entropy = 1.061</text>\n<text text-anchor=\"start\" x=\"4078\" y=\"-260.8\" font-family=\"Helvetica,sans-Serif\" font-size=\"14.00\">samples = 452</text>\n<text text-anchor=\"start\" x=\"4061\" y=\"-245.8\" font-family=\"Helvetica,sans-Serif\" font-size=\"14.00\">value = [238, 4, 210]</text>\n<text text-anchor=\"start\" x=\"4095.5\" y=\"-230.8\" font-family=\"Helvetica,sans-Serif\" font-size=\"14.00\">class = T</text>\n</g>\n<!-- 48&#45;&gt;56 -->\n<g id=\"edge56\" class=\"edge\">\n<title>48&#45;&gt;56</title>\n<path fill=\"none\" stroke=\"black\" d=\"M3777.42,-361.31C3849.25,-341.4 3956.79,-311.58 4032.8,-290.51\"/>\n<polygon fill=\"black\" stroke=\"black\" points=\"4034.14,-293.77 4042.84,-287.72 4032.27,-287.02 4034.14,-293.77\"/>\n</g>\n<!-- 50 -->\n<g id=\"node51\" class=\"node\">\n<title>50</title>\n<path fill=\"#fcfbfe\" stroke=\"black\" d=\"M3678,-187C3678,-187 3550,-187 3550,-187 3544,-187 3538,-181 3538,-175 3538,-175 3538,-116 3538,-116 3538,-110 3544,-104 3550,-104 3550,-104 3678,-104 3678,-104 3684,-104 3690,-110 3690,-116 3690,-116 3690,-175 3690,-175 3690,-181 3684,-187 3678,-187\"/>\n<text text-anchor=\"start\" x=\"3546\" y=\"-171.8\" font-family=\"Helvetica,sans-Serif\" font-size=\"14.00\">VisceraWeight ≤ 0.591</text>\n<text text-anchor=\"start\" x=\"3566.5\" y=\"-156.8\" font-family=\"Helvetica,sans-Serif\" font-size=\"14.00\">entropy = 1.226</text>\n<text text-anchor=\"start\" x=\"3569\" y=\"-141.8\" font-family=\"Helvetica,sans-Serif\" font-size=\"14.00\">samples = 448</text>\n<text text-anchor=\"start\" x=\"3548.5\" y=\"-126.8\" font-family=\"Helvetica,sans-Serif\" font-size=\"14.00\">value = [211, 21, 216]</text>\n<text text-anchor=\"start\" x=\"3586.5\" y=\"-111.8\" font-family=\"Helvetica,sans-Serif\" font-size=\"14.00\">class = p</text>\n</g>\n<!-- 49&#45;&gt;50 -->\n<g id=\"edge50\" class=\"edge\">\n<title>49&#45;&gt;50</title>\n<path fill=\"none\" stroke=\"black\" d=\"M3670.82,-222.91C3664.14,-213.92 3656.99,-204.32 3650.1,-195.05\"/>\n<polygon fill=\"black\" stroke=\"black\" points=\"3652.91,-192.96 3644.13,-187.02 3647.29,-197.13 3652.91,-192.96\"/>\n</g>\n<!-- 53 -->\n<g id=\"node54\" class=\"node\">\n<title>53</title>\n<path fill=\"#ccb0f5\" stroke=\"black\" d=\"M3856,-187C3856,-187 3720,-187 3720,-187 3714,-187 3708,-181 3708,-175 3708,-175 3708,-116 3708,-116 3708,-110 3714,-104 3720,-104 3720,-104 3856,-104 3856,-104 3862,-104 3868,-110 3868,-116 3868,-116 3868,-175 3868,-175 3868,-181 3862,-187 3856,-187\"/>\n<text text-anchor=\"start\" x=\"3716\" y=\"-171.8\" font-family=\"Helvetica,sans-Serif\" font-size=\"14.00\">ShuckedWeight ≤ 0.883</text>\n<text text-anchor=\"start\" x=\"3740.5\" y=\"-156.8\" font-family=\"Helvetica,sans-Serif\" font-size=\"14.00\">entropy = 1.228</text>\n<text text-anchor=\"start\" x=\"3743\" y=\"-141.8\" font-family=\"Helvetica,sans-Serif\" font-size=\"14.00\">samples = 198</text>\n<text text-anchor=\"start\" x=\"3726\" y=\"-126.8\" font-family=\"Helvetica,sans-Serif\" font-size=\"14.00\">value = [66, 13, 119]</text>\n<text text-anchor=\"start\" x=\"3760.5\" y=\"-111.8\" font-family=\"Helvetica,sans-Serif\" font-size=\"14.00\">class = p</text>\n</g>\n<!-- 49&#45;&gt;53 -->\n<g id=\"edge53\" class=\"edge\">\n<title>49&#45;&gt;53</title>\n<path fill=\"none\" stroke=\"black\" d=\"M3731.18,-222.91C3737.86,-213.92 3745.01,-204.32 3751.9,-195.05\"/>\n<polygon fill=\"black\" stroke=\"black\" points=\"3754.71,-197.13 3757.87,-187.02 3749.09,-192.96 3754.71,-197.13\"/>\n</g>\n<!-- 51 -->\n<g id=\"node52\" class=\"node\">\n<title>51</title>\n<path fill=\"#e2d1f9\" stroke=\"black\" d=\"M3529,-68C3529,-68 3421,-68 3421,-68 3415,-68 3409,-62 3409,-56 3409,-56 3409,-12 3409,-12 3409,-6 3415,0 3421,0 3421,0 3529,0 3529,0 3535,0 3541,-6 3541,-12 3541,-12 3541,-56 3541,-56 3541,-62 3535,-68 3529,-68\"/>\n<text text-anchor=\"start\" x=\"3427.5\" y=\"-52.8\" font-family=\"Helvetica,sans-Serif\" font-size=\"14.00\">entropy = 1.186</text>\n<text text-anchor=\"start\" x=\"3430\" y=\"-37.8\" font-family=\"Helvetica,sans-Serif\" font-size=\"14.00\">samples = 228</text>\n<text text-anchor=\"start\" x=\"3417\" y=\"-22.8\" font-family=\"Helvetica,sans-Serif\" font-size=\"14.00\">value = [94, 9, 125]</text>\n<text text-anchor=\"start\" x=\"3447.5\" y=\"-7.8\" font-family=\"Helvetica,sans-Serif\" font-size=\"14.00\">class = p</text>\n</g>\n<!-- 50&#45;&gt;51 -->\n<g id=\"edge51\" class=\"edge\">\n<title>50&#45;&gt;51</title>\n<path fill=\"none\" stroke=\"black\" d=\"M3562.24,-103.73C3550.2,-94.24 3537.4,-84.16 3525.42,-74.72\"/>\n<polygon fill=\"black\" stroke=\"black\" points=\"3527.29,-71.74 3517.27,-68.3 3522.96,-77.24 3527.29,-71.74\"/>\n</g>\n<!-- 52 -->\n<g id=\"node53\" class=\"node\">\n<title>52</title>\n<path fill=\"#fae6d7\" stroke=\"black\" d=\"M3687,-68C3687,-68 3571,-68 3571,-68 3565,-68 3559,-62 3559,-56 3559,-56 3559,-12 3559,-12 3559,-6 3565,0 3571,0 3571,0 3687,0 3687,0 3693,0 3699,-6 3699,-12 3699,-12 3699,-56 3699,-56 3699,-62 3693,-68 3687,-68\"/>\n<text text-anchor=\"start\" x=\"3585\" y=\"-52.8\" font-family=\"Helvetica,sans-Serif\" font-size=\"14.00\">entropy = 1.24</text>\n<text text-anchor=\"start\" x=\"3584\" y=\"-37.8\" font-family=\"Helvetica,sans-Serif\" font-size=\"14.00\">samples = 220</text>\n<text text-anchor=\"start\" x=\"3567\" y=\"-22.8\" font-family=\"Helvetica,sans-Serif\" font-size=\"14.00\">value = [117, 12, 91]</text>\n<text text-anchor=\"start\" x=\"3601.5\" y=\"-7.8\" font-family=\"Helvetica,sans-Serif\" font-size=\"14.00\">class = T</text>\n</g>\n<!-- 50&#45;&gt;52 -->\n<g id=\"edge52\" class=\"edge\">\n<title>50&#45;&gt;52</title>\n<path fill=\"none\" stroke=\"black\" d=\"M3619.59,-103.73C3620.72,-95.43 3621.92,-86.67 3623.07,-78.28\"/>\n<polygon fill=\"black\" stroke=\"black\" points=\"3626.55,-78.68 3624.44,-68.3 3619.61,-77.73 3626.55,-78.68\"/>\n</g>\n<!-- 54 -->\n<g id=\"node55\" class=\"node\">\n<title>54</title>\n<path fill=\"#ffffff\" stroke=\"black\" d=\"M3815,-68C3815,-68 3729,-68 3729,-68 3723,-68 3717,-62 3717,-56 3717,-56 3717,-12 3717,-12 3717,-6 3723,0 3729,0 3729,0 3815,0 3815,0 3821,0 3827,-6 3827,-12 3827,-12 3827,-56 3827,-56 3827,-62 3821,-68 3815,-68\"/>\n<text text-anchor=\"start\" x=\"3732\" y=\"-52.8\" font-family=\"Helvetica,sans-Serif\" font-size=\"14.00\">entropy = 1.0</text>\n<text text-anchor=\"start\" x=\"3734.5\" y=\"-37.8\" font-family=\"Helvetica,sans-Serif\" font-size=\"14.00\">samples = 6</text>\n<text text-anchor=\"start\" x=\"3725\" y=\"-22.8\" font-family=\"Helvetica,sans-Serif\" font-size=\"14.00\">value = [0, 3, 3]</text>\n<text text-anchor=\"start\" x=\"3745\" y=\"-7.8\" font-family=\"Helvetica,sans-Serif\" font-size=\"14.00\">class = y</text>\n</g>\n<!-- 53&#45;&gt;54 -->\n<g id=\"edge54\" class=\"edge\">\n<title>53&#45;&gt;54</title>\n<path fill=\"none\" stroke=\"black\" d=\"M3782.04,-103.73C3780.83,-95.43 3779.55,-86.67 3778.32,-78.28\"/>\n<polygon fill=\"black\" stroke=\"black\" points=\"3781.77,-77.69 3776.87,-68.3 3774.85,-78.7 3781.77,-77.69\"/>\n</g>\n<!-- 55 -->\n<g id=\"node56\" class=\"node\">\n<title>55</title>\n<path fill=\"#cdb0f5\" stroke=\"black\" d=\"M3973,-68C3973,-68 3857,-68 3857,-68 3851,-68 3845,-62 3845,-56 3845,-56 3845,-12 3845,-12 3845,-6 3851,0 3857,0 3857,0 3973,0 3973,0 3979,0 3985,-6 3985,-12 3985,-12 3985,-56 3985,-56 3985,-62 3979,-68 3973,-68\"/>\n<text text-anchor=\"start\" x=\"3867.5\" y=\"-52.8\" font-family=\"Helvetica,sans-Serif\" font-size=\"14.00\">entropy = 1.191</text>\n<text text-anchor=\"start\" x=\"3870\" y=\"-37.8\" font-family=\"Helvetica,sans-Serif\" font-size=\"14.00\">samples = 192</text>\n<text text-anchor=\"start\" x=\"3853\" y=\"-22.8\" font-family=\"Helvetica,sans-Serif\" font-size=\"14.00\">value = [66, 10, 116]</text>\n<text text-anchor=\"start\" x=\"3887.5\" y=\"-7.8\" font-family=\"Helvetica,sans-Serif\" font-size=\"14.00\">class = p</text>\n</g>\n<!-- 53&#45;&gt;55 -->\n<g id=\"edge55\" class=\"edge\">\n<title>53&#45;&gt;55</title>\n<path fill=\"none\" stroke=\"black\" d=\"M3835.29,-103.73C3846.19,-94.33 3857.76,-84.35 3868.62,-74.99\"/>\n<polygon fill=\"black\" stroke=\"black\" points=\"3871.09,-77.48 3876.38,-68.3 3866.52,-72.18 3871.09,-77.48\"/>\n</g>\n<!-- 57 -->\n<g id=\"node58\" class=\"node\">\n<title>57</title>\n<path fill=\"#f9e0ce\" stroke=\"black\" d=\"M4191,-187C4191,-187 4055,-187 4055,-187 4049,-187 4043,-181 4043,-175 4043,-175 4043,-116 4043,-116 4043,-110 4049,-104 4055,-104 4055,-104 4191,-104 4191,-104 4197,-104 4203,-110 4203,-116 4203,-116 4203,-175 4203,-175 4203,-181 4197,-187 4191,-187\"/>\n<text text-anchor=\"start\" x=\"4051\" y=\"-171.8\" font-family=\"Helvetica,sans-Serif\" font-size=\"14.00\">ShuckedWeight ≤ 2.227</text>\n<text text-anchor=\"start\" x=\"4075.5\" y=\"-156.8\" font-family=\"Helvetica,sans-Serif\" font-size=\"14.00\">entropy = 1.058</text>\n<text text-anchor=\"start\" x=\"4078\" y=\"-141.8\" font-family=\"Helvetica,sans-Serif\" font-size=\"14.00\">samples = 387</text>\n<text text-anchor=\"start\" x=\"4061\" y=\"-126.8\" font-family=\"Helvetica,sans-Serif\" font-size=\"14.00\">value = [219, 4, 164]</text>\n<text text-anchor=\"start\" x=\"4095.5\" y=\"-111.8\" font-family=\"Helvetica,sans-Serif\" font-size=\"14.00\">class = T</text>\n</g>\n<!-- 56&#45;&gt;57 -->\n<g id=\"edge57\" class=\"edge\">\n<title>56&#45;&gt;57</title>\n<path fill=\"none\" stroke=\"black\" d=\"M4123,-222.91C4123,-214.65 4123,-205.86 4123,-197.3\"/>\n<polygon fill=\"black\" stroke=\"black\" points=\"4126.5,-197.02 4123,-187.02 4119.5,-197.02 4126.5,-197.02\"/>\n</g>\n<!-- 60 -->\n<g id=\"node61\" class=\"node\">\n<title>60</title>\n<path fill=\"#b58bf0\" stroke=\"black\" d=\"M4412,-187C4412,-187 4284,-187 4284,-187 4278,-187 4272,-181 4272,-175 4272,-175 4272,-116 4272,-116 4272,-110 4278,-104 4284,-104 4284,-104 4412,-104 4412,-104 4418,-104 4424,-110 4424,-116 4424,-116 4424,-175 4424,-175 4424,-181 4418,-187 4412,-187\"/>\n<text text-anchor=\"start\" x=\"4280\" y=\"-171.8\" font-family=\"Helvetica,sans-Serif\" font-size=\"14.00\">VisceraWeight ≤ 1.803</text>\n<text text-anchor=\"start\" x=\"4300.5\" y=\"-156.8\" font-family=\"Helvetica,sans-Serif\" font-size=\"14.00\">entropy = 0.872</text>\n<text text-anchor=\"start\" x=\"4307\" y=\"-141.8\" font-family=\"Helvetica,sans-Serif\" font-size=\"14.00\">samples = 65</text>\n<text text-anchor=\"start\" x=\"4293.5\" y=\"-126.8\" font-family=\"Helvetica,sans-Serif\" font-size=\"14.00\">value = [19, 0, 46]</text>\n<text text-anchor=\"start\" x=\"4320.5\" y=\"-111.8\" font-family=\"Helvetica,sans-Serif\" font-size=\"14.00\">class = p</text>\n</g>\n<!-- 56&#45;&gt;60 -->\n<g id=\"edge60\" class=\"edge\">\n<title>56&#45;&gt;60</title>\n<path fill=\"none\" stroke=\"black\" d=\"M4201.06,-222.91C4221.07,-212.5 4242.7,-201.26 4263.04,-190.68\"/>\n<polygon fill=\"black\" stroke=\"black\" points=\"4264.72,-193.75 4271.97,-186.03 4261.49,-187.54 4264.72,-193.75\"/>\n</g>\n<!-- 58 -->\n<g id=\"node59\" class=\"node\">\n<title>58</title>\n<path fill=\"#f9e4d4\" stroke=\"black\" d=\"M4131,-68C4131,-68 4015,-68 4015,-68 4009,-68 4003,-62 4003,-56 4003,-56 4003,-12 4003,-12 4003,-6 4009,0 4015,0 4015,0 4131,0 4131,0 4137,0 4143,-6 4143,-12 4143,-12 4143,-56 4143,-56 4143,-62 4137,-68 4131,-68\"/>\n<text text-anchor=\"start\" x=\"4025.5\" y=\"-52.8\" font-family=\"Helvetica,sans-Serif\" font-size=\"14.00\">entropy = 1.063</text>\n<text text-anchor=\"start\" x=\"4028\" y=\"-37.8\" font-family=\"Helvetica,sans-Serif\" font-size=\"14.00\">samples = 378</text>\n<text text-anchor=\"start\" x=\"4011\" y=\"-22.8\" font-family=\"Helvetica,sans-Serif\" font-size=\"14.00\">value = [210, 4, 164]</text>\n<text text-anchor=\"start\" x=\"4045.5\" y=\"-7.8\" font-family=\"Helvetica,sans-Serif\" font-size=\"14.00\">class = T</text>\n</g>\n<!-- 57&#45;&gt;58 -->\n<g id=\"edge58\" class=\"edge\">\n<title>57&#45;&gt;58</title>\n<path fill=\"none\" stroke=\"black\" d=\"M4104.38,-103.73C4100.47,-95.15 4096.33,-86.09 4092.39,-77.46\"/>\n<polygon fill=\"black\" stroke=\"black\" points=\"4095.54,-75.94 4088.21,-68.3 4089.18,-78.85 4095.54,-75.94\"/>\n</g>\n<!-- 59 -->\n<g id=\"node60\" class=\"node\">\n<title>59</title>\n<path fill=\"#e58139\" stroke=\"black\" d=\"M4259,-68C4259,-68 4173,-68 4173,-68 4167,-68 4161,-62 4161,-56 4161,-56 4161,-12 4161,-12 4161,-6 4167,0 4173,0 4173,0 4259,0 4259,0 4265,0 4271,-6 4271,-12 4271,-12 4271,-56 4271,-56 4271,-62 4265,-68 4259,-68\"/>\n<text text-anchor=\"start\" x=\"4176\" y=\"-52.8\" font-family=\"Helvetica,sans-Serif\" font-size=\"14.00\">entropy = 0.0</text>\n<text text-anchor=\"start\" x=\"4178.5\" y=\"-37.8\" font-family=\"Helvetica,sans-Serif\" font-size=\"14.00\">samples = 9</text>\n<text text-anchor=\"start\" x=\"4169\" y=\"-22.8\" font-family=\"Helvetica,sans-Serif\" font-size=\"14.00\">value = [9, 0, 0]</text>\n<text text-anchor=\"start\" x=\"4188.5\" y=\"-7.8\" font-family=\"Helvetica,sans-Serif\" font-size=\"14.00\">class = T</text>\n</g>\n<!-- 57&#45;&gt;59 -->\n<g id=\"edge59\" class=\"edge\">\n<title>57&#45;&gt;59</title>\n<path fill=\"none\" stroke=\"black\" d=\"M4157.63,-103.73C4165.3,-94.7 4173.43,-85.12 4181.11,-76.08\"/>\n<polygon fill=\"black\" stroke=\"black\" points=\"4183.91,-78.19 4187.72,-68.3 4178.58,-73.66 4183.91,-78.19\"/>\n</g>\n<!-- 61 -->\n<g id=\"node62\" class=\"node\">\n<title>61</title>\n<path fill=\"#8139e5\" stroke=\"black\" d=\"M4394.5,-68C4394.5,-68 4301.5,-68 4301.5,-68 4295.5,-68 4289.5,-62 4289.5,-56 4289.5,-56 4289.5,-12 4289.5,-12 4289.5,-6 4295.5,0 4301.5,0 4301.5,0 4394.5,0 4394.5,0 4400.5,0 4406.5,-6 4406.5,-12 4406.5,-12 4406.5,-56 4406.5,-56 4406.5,-62 4400.5,-68 4394.5,-68\"/>\n<text text-anchor=\"start\" x=\"4308\" y=\"-52.8\" font-family=\"Helvetica,sans-Serif\" font-size=\"14.00\">entropy = 0.0</text>\n<text text-anchor=\"start\" x=\"4307\" y=\"-37.8\" font-family=\"Helvetica,sans-Serif\" font-size=\"14.00\">samples = 10</text>\n<text text-anchor=\"start\" x=\"4297.5\" y=\"-22.8\" font-family=\"Helvetica,sans-Serif\" font-size=\"14.00\">value = [0, 0, 10]</text>\n<text text-anchor=\"start\" x=\"4320.5\" y=\"-7.8\" font-family=\"Helvetica,sans-Serif\" font-size=\"14.00\">class = p</text>\n</g>\n<!-- 60&#45;&gt;61 -->\n<g id=\"edge61\" class=\"edge\">\n<title>60&#45;&gt;61</title>\n<path fill=\"none\" stroke=\"black\" d=\"M4348,-103.73C4348,-95.52 4348,-86.86 4348,-78.56\"/>\n<polygon fill=\"black\" stroke=\"black\" points=\"4351.5,-78.3 4348,-68.3 4344.5,-78.3 4351.5,-78.3\"/>\n</g>\n<!-- 62 -->\n<g id=\"node63\" class=\"node\">\n<title>62</title>\n<path fill=\"#c4a2f3\" stroke=\"black\" d=\"M4537.5,-68C4537.5,-68 4436.5,-68 4436.5,-68 4430.5,-68 4424.5,-62 4424.5,-56 4424.5,-56 4424.5,-12 4424.5,-12 4424.5,-6 4430.5,0 4436.5,0 4436.5,0 4537.5,0 4537.5,0 4543.5,0 4549.5,-6 4549.5,-12 4549.5,-12 4549.5,-56 4549.5,-56 4549.5,-62 4543.5,-68 4537.5,-68\"/>\n<text text-anchor=\"start\" x=\"4443\" y=\"-52.8\" font-family=\"Helvetica,sans-Serif\" font-size=\"14.00\">entropy = 0.93</text>\n<text text-anchor=\"start\" x=\"4446\" y=\"-37.8\" font-family=\"Helvetica,sans-Serif\" font-size=\"14.00\">samples = 55</text>\n<text text-anchor=\"start\" x=\"4432.5\" y=\"-22.8\" font-family=\"Helvetica,sans-Serif\" font-size=\"14.00\">value = [19, 0, 36]</text>\n<text text-anchor=\"start\" x=\"4459.5\" y=\"-7.8\" font-family=\"Helvetica,sans-Serif\" font-size=\"14.00\">class = p</text>\n</g>\n<!-- 60&#45;&gt;62 -->\n<g id=\"edge62\" class=\"edge\">\n<title>60&#45;&gt;62</title>\n<path fill=\"none\" stroke=\"black\" d=\"M4399.76,-103.73C4411.8,-94.24 4424.6,-84.16 4436.58,-74.72\"/>\n<polygon fill=\"black\" stroke=\"black\" points=\"4439.04,-77.24 4444.73,-68.3 4434.71,-71.74 4439.04,-77.24\"/>\n</g>\n</g>\n</svg>\n",
            "text/plain": [
              "<graphviz.sources.Source at 0x7b2f5f1cd330>"
            ]
          },
          "metadata": {}
        }
      ]
    },
    {
      "cell_type": "code",
      "source": [
        "# print to the output file\n",
        "print('\\n', file = outputFile)\n",
        "print('**************************************************************', file = outputFile)\n",
        "print('(A) Classifier 2 - Top DT', file = outputFile)\n",
        "print(classifier_2, file = outputFile)\n",
        "print('\\n', file = outputFile)\n",
        "print(f'best parameters: {classifier_2.best_params_}\\n', file = outputFile)\n",
        "print('\\n', file = outputFile)\n",
        "outputFile.flush()"
      ],
      "metadata": {
        "id": "o8yWMcL873FK"
      },
      "execution_count": 181,
      "outputs": []
    },
    {
      "cell_type": "code",
      "source": [
        "# print classification report\n",
        "y_pred = classifier_2.predict(X_test)\n",
        "confusion_mat= confusion_matrix(y_test, y_pred)\n",
        "\n",
        "print(classification_report(y_test, y_pred, target_names=['F', 'M', 'I']))\n",
        "print(\"confusion matrix\\n\",confusion_mat)\n",
        "\n",
        "# print the result to the output file\n",
        "confusion_matrix_result =np.array2string(confusion_mat)\n",
        "print(\"(B) Confusion Matrix\", file = outputFile)\n",
        "print(confusion_matrix_result, file = outputFile)\n",
        "print('\\n', file = outputFile)\n",
        "print('(C,D) Classification Report', file = outputFile)\n",
        "print(classification_report(y_test, y_pred, target_names = ['F', 'M', 'I']), file = outputFile)\n",
        "outputFile.flush()"
      ],
      "metadata": {
        "id": "v88y-qmq73OR",
        "outputId": "d728ee48-ef7f-44c8-f50c-eb7fba02e366",
        "colab": {
          "base_uri": "https://localhost:8080/"
        }
      },
      "execution_count": 182,
      "outputs": [
        {
          "output_type": "stream",
          "name": "stdout",
          "text": [
            "              precision    recall  f1-score   support\n",
            "\n",
            "           F       0.46      0.45      0.46       334\n",
            "           M       0.69      0.75      0.72       333\n",
            "           I       0.50      0.47      0.48       378\n",
            "\n",
            "    accuracy                           0.55      1045\n",
            "   macro avg       0.55      0.56      0.55      1045\n",
            "weighted avg       0.55      0.55      0.55      1045\n",
            "\n",
            "confusion matrix\n",
            " [[151  50 133]\n",
            " [ 37 250  46]\n",
            " [138  63 177]]\n"
          ]
        }
      ]
    },
    {
      "cell_type": "code",
      "source": [
        "# repeat training & grid search & prediction 5 times for classifier 2\n",
        "from sklearn.metrics import accuracy_score, f1_score\n",
        "\n",
        "accuracy_TopDT = np.zeros(5)\n",
        "macro_avg_TopDT = np.zeros(5)\n",
        "weighted_avg_TopDT = np.zeros(5)\n",
        "\n",
        "print('\\n(E) The result after 5 times of train-test repetition:' ,file = outputFile)\n",
        "\n",
        "for i in range(5):\n",
        "\n",
        "  #data is shuffeld and scaled every iteration\n",
        "  X_train, X_test, y_train, y_test = train_test_split(X, y)\n",
        "  sc = StandardScaler()\n",
        "  X_train = sc.fit_transform(X_train)\n",
        "  X_test = sc.transform(X_test)\n",
        "\n",
        "  #grid search\n",
        "  classifier_2 = GridSearchCV(DecisionTreeClassifier(), parameters)\n",
        "  classifier_2.fit(X_train, y_train)\n",
        "\n",
        "  print(f'best parameters for iteration{i+1}: {classifier_2.best_params_}',file = outputFile)\n",
        "  print(f'best parameters for iteration{i+1}: {classifier_2.best_params_}')\n",
        "\n",
        "  y_pred = classifier_2.predict(X_test)\n",
        "\n",
        "  # find the accuracy for each iteration and store the value\n",
        "  accuracy_TopDT[i] = accuracy_score(y_test, y_pred)\n",
        "  macro_avg_TopDT[i] = f1_score(y_test, y_pred, average='macro')\n",
        "  weighted_avg_TopDT[i] = f1_score(y_test, y_pred, average='weighted')\n",
        "\n",
        "print()\n",
        "# compute the average accuracy & variances\n",
        "print(f'accuracy_TopDT: {accuracy_TopDT}')\n",
        "Avg_accuracy = (np.sum(accuracy_TopDT))/5\n",
        "accuracy_variance = np.var(accuracy_TopDT)\n",
        "print(f'average accuracy: {Avg_accuracy:.4f}, variance: {accuracy_variance:.6f}')\n",
        "print()\n",
        "\n",
        "# compute the average macro-average F1 & the variance\n",
        "print(f'macro_avg_TopDT: {macro_avg_TopDT}')\n",
        "Avg_macro_avg = (np.sum(macro_avg_TopDT))/5\n",
        "f1_macro_variance = np.var(macro_avg_TopDT)\n",
        "print(f'average macro-average F1: {Avg_macro_avg:.4f}, variance: {f1_macro_variance:.6f}')\n",
        "print()\n",
        "\n",
        "# compute the average weighted-average F1 & the variance\n",
        "print(f'weighted_avg_TopDT: {weighted_avg_TopDT}')\n",
        "Avg_weighted_avg = (np.sum(weighted_avg_TopDT))/5\n",
        "f1_weighted_variance = np.var(weighted_avg_TopDT)\n",
        "print(f'average weighted-average F1: {Avg_weighted_avg:.4f}, variance: {f1_weighted_variance:.6f}')"
      ],
      "metadata": {
        "colab": {
          "base_uri": "https://localhost:8080/"
        },
        "id": "ctr66poidV4P",
        "outputId": "ff14cef1-3979-451d-df41-df756caef7db"
      },
      "execution_count": 183,
      "outputs": [
        {
          "output_type": "stream",
          "name": "stdout",
          "text": [
            "best parameters for iteration1: {'criterion': 'entropy', 'max_depth': 5, 'min_samples_split': 2}\n",
            "best parameters for iteration2: {'criterion': 'entropy', 'max_depth': 5, 'min_samples_split': 10}\n",
            "best parameters for iteration3: {'criterion': 'entropy', 'max_depth': 5, 'min_samples_split': 2}\n",
            "best parameters for iteration4: {'criterion': 'entropy', 'max_depth': 5, 'min_samples_split': 10}\n",
            "best parameters for iteration5: {'criterion': 'gini', 'max_depth': 5, 'min_samples_split': 2}\n",
            "\n",
            "accuracy_TopDT: [0.54162679 0.55598086 0.53779904 0.55789474 0.5645933 ]\n",
            "average accuracy: 0.5516, variance: 0.000104\n",
            "\n",
            "macro_avg_TopDT: [0.5094239  0.53762512 0.53891398 0.54603789 0.51493476]\n",
            "average macro-average F1: 0.5294, variance: 0.000209\n",
            "\n",
            "weighted_avg_TopDT: [0.51491204 0.54054234 0.52782298 0.5474663  0.52226975]\n",
            "average weighted-average F1: 0.5306, variance: 0.000141\n"
          ]
        }
      ]
    },
    {
      "cell_type": "code",
      "source": [
        "# print the performance result to outputfile\n",
        "print('\\n', file = outputFile)\n",
        "print(f'average accuracy: {Avg_accuracy:.4f}, variance: {accuracy_variance:.6f}', file = outputFile)\n",
        "print(f'average macro-average F1: {Avg_macro_avg:.4f}, variance: {f1_macro_variance:.6f}', file = outputFile)\n",
        "print(f'average weighted-average F1: {Avg_weighted_avg:.4f}, variance: {f1_weighted_variance:.6f}', file = outputFile)\n",
        "outputFile.flush()"
      ],
      "metadata": {
        "id": "x9YFP9uEdV62"
      },
      "execution_count": 184,
      "outputs": []
    },
    {
      "cell_type": "markdown",
      "source": [
        "##### Classifier 3 - Base-MLP"
      ],
      "metadata": {
        "id": "GQrsfw6Xm1nI"
      }
    },
    {
      "cell_type": "code",
      "source": [
        "#Train Classifier 3\n",
        "mlp_base_abalone = MLPClassifier(hidden_layer_sizes =(100, 100,), activation = 'logistic', solver = 'sgd')\n",
        "mlp_base_abalone.fit(X_train, y_train)\n",
        "\n",
        "#print to the output file\n",
        "print('**************************************************************', file = outputFile)\n",
        "print('(A) Classifier 3 - Base MLP', file = outputFile)\n",
        "print(mlp_base_abalone, file = outputFile)"
      ],
      "metadata": {
        "id": "MiIPiod7m7qC"
      },
      "execution_count": 185,
      "outputs": []
    },
    {
      "cell_type": "markdown",
      "source": [
        "Metrics for Classifier 3"
      ],
      "metadata": {
        "id": "1TD8ynkGoZAP"
      }
    },
    {
      "cell_type": "code",
      "source": [
        "#predict with Base MLP\n",
        "y_pred_base_mlp = mlp_base_abalone.predict(X_test)\n",
        "\n",
        "#print the result here on notebook\n",
        "print(classification_report(y_test, y_pred_base_mlp, target_names = ['F', 'M', 'I']))\n",
        "print(confusion_matrix(y_test, y_pred_base_mlp))\n",
        "\n",
        "#print the result to the output file\n",
        "print(\"\\n(B) Confusion Matrix\", file = outputFile)\n",
        "confusion_matrix_result = np.array2string(confusion_matrix(y_test, y_pred_base_mlp))\n",
        "print(confusion_matrix_result, file = outputFile)\n",
        "print(\"\\n(C, D) Classification Report\", file = outputFile)\n",
        "print(classification_report(y_test, y_pred_base_mlp, target_names = ['F', 'M', 'I']), file = outputFile)\n",
        "\n",
        "outputFile.flush()"
      ],
      "metadata": {
        "id": "coh8LE0bocLA",
        "outputId": "20218f03-392f-4cc5-f11a-deba7f6755e5",
        "colab": {
          "base_uri": "https://localhost:8080/"
        }
      },
      "execution_count": 186,
      "outputs": [
        {
          "output_type": "stream",
          "name": "stdout",
          "text": [
            "              precision    recall  f1-score   support\n",
            "\n",
            "           F       0.33      0.02      0.04       320\n",
            "           M       0.65      0.78      0.71       334\n",
            "           I       0.46      0.74      0.57       391\n",
            "\n",
            "    accuracy                           0.53      1045\n",
            "   macro avg       0.48      0.51      0.44      1045\n",
            "weighted avg       0.48      0.53      0.45      1045\n",
            "\n",
            "[[  7  52 261]\n",
            " [  1 261  72]\n",
            " [ 13  90 288]]\n"
          ]
        }
      ]
    },
    {
      "cell_type": "code",
      "source": [
        "MLP_base_train_test_repetition(X, y, outputFile, ['F', 'M', 'I'])"
      ],
      "metadata": {
        "id": "Ss7voSkYmhiK"
      },
      "execution_count": 187,
      "outputs": []
    },
    {
      "cell_type": "markdown",
      "source": [
        "##### Classifier 4 - Top-MLP"
      ],
      "metadata": {
        "id": "okD7I5KHnODP"
      }
    },
    {
      "cell_type": "code",
      "source": [
        "#create grid for each hyperparamter we want to test\n",
        "activation_grid = np.array(['logistic', 'tanh', 'relu'])\n",
        "neurons_tuple_grid = np.array([(30, 50,), (10, 10, 10,)])\n",
        "solver_grid = np.array(['adam', 'sgd'])\n",
        "\n",
        "#create parameter grid for GridSearchCV\n",
        "param_grid = {'hidden_layer_sizes': neurons_tuple_grid, 'activation': activation_grid, 'solver': solver_grid}\n",
        "\n",
        "#create grid cv object and search\n",
        "mlp_top_abalone = MLPClassifier()\n",
        "gridcv = sk.model_selection.GridSearchCV(mlp_top_abalone, param_grid = param_grid)\n",
        "gridcv.fit(X_train, y_train)\n",
        "\n",
        "#print the result here on notebook\n",
        "print(f'best parameters: {gridcv.best_params_}')\n",
        "\n",
        "#print the result to the output file\n",
        "print('**************************************************************', file = outputFile)\n",
        "print('(A) Classifier 4 - Top MLP', file = outputFile)\n",
        "print(f'best parameters: {gridcv.best_params_}', file = outputFile)\n",
        "outputFile.flush()"
      ],
      "metadata": {
        "id": "mphIulW3nREP",
        "outputId": "7209cfe8-9d5e-40e6-e048-16fe54ccbcca",
        "colab": {
          "base_uri": "https://localhost:8080/"
        }
      },
      "execution_count": 188,
      "outputs": [
        {
          "output_type": "stream",
          "name": "stdout",
          "text": [
            "best parameters: {'activation': 'tanh', 'hidden_layer_sizes': (30, 50), 'solver': 'adam'}\n"
          ]
        }
      ]
    },
    {
      "cell_type": "markdown",
      "source": [
        "Metrics for Classifier 4"
      ],
      "metadata": {
        "id": "PXrrvETEpQNZ"
      }
    },
    {
      "cell_type": "code",
      "source": [
        "#predict\n",
        "y_pred_top_mlp = gridcv.best_estimator_.predict(X_test)\n",
        "\n",
        "#print results here - confusion matrix and classification report\n",
        "print(classification_report(y_test, y_pred_top_mlp, target_names = ['F', 'M', 'I']))\n",
        "print(confusion_matrix(y_test, y_pred_top_mlp))\n",
        "\n",
        "#print the result to output file\n",
        "print(\"\\n(B) Confusion Matrix\", file = outputFile)\n",
        "confusion_matrix_result = np.array2string(confusion_matrix(y_test, y_pred_top_mlp))\n",
        "print(confusion_matrix_result, file = outputFile)\n",
        "print(\"\\n(C, D) Classification Report\", file = outputFile)\n",
        "print(classification_report(y_test, y_pred_top_mlp, target_names = ['F', 'M', 'I']), file = outputFile)\n",
        "\n",
        "outputFile.flush()"
      ],
      "metadata": {
        "id": "KbwAcoZLpSQW",
        "outputId": "c5762221-26eb-45ee-9317-993bfddeed3e",
        "colab": {
          "base_uri": "https://localhost:8080/"
        }
      },
      "execution_count": 189,
      "outputs": [
        {
          "output_type": "stream",
          "name": "stdout",
          "text": [
            "              precision    recall  f1-score   support\n",
            "\n",
            "           F       0.49      0.41      0.44       320\n",
            "           M       0.71      0.79      0.75       334\n",
            "           I       0.49      0.51      0.50       391\n",
            "\n",
            "    accuracy                           0.57      1045\n",
            "   macro avg       0.56      0.57      0.56      1045\n",
            "weighted avg       0.56      0.57      0.56      1045\n",
            "\n",
            "[[130  38 152]\n",
            " [ 16 264  54]\n",
            " [121  70 200]]\n"
          ]
        }
      ]
    },
    {
      "cell_type": "code",
      "source": [
        "MLP_top_train_test_repetition(param_grid, X, y, outputFile, ['F', 'M', 'I'])"
      ],
      "metadata": {
        "id": "gTPJwcXCnwYK"
      },
      "execution_count": 190,
      "outputs": []
    },
    {
      "cell_type": "code",
      "source": [
        "outputFile.close()"
      ],
      "metadata": {
        "id": "4AxS7Io7pFta"
      },
      "execution_count": 191,
      "outputs": []
    }
  ]
}