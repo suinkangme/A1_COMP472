{
  "nbformat": 4,
  "nbformat_minor": 0,
  "metadata": {
    "colab": {
      "provenance": [],
      "collapsed_sections": [
        "n3GMoC3wzPte"
      ],
      "include_colab_link": true
    },
    "kernelspec": {
      "name": "python3",
      "display_name": "Python 3"
    },
    "language_info": {
      "name": "python"
    }
  },
  "cells": [
    {
      "cell_type": "markdown",
      "metadata": {
        "id": "view-in-github",
        "colab_type": "text"
      },
      "source": [
        "<a href=\"https://colab.research.google.com/github/suinkangme/A1_COMP472/blob/main/A1_COMP472.ipynb\" target=\"_parent\"><img src=\"https://colab.research.google.com/assets/colab-badge.svg\" alt=\"Open In Colab\"/></a>"
      ]
    },
    {
      "cell_type": "markdown",
      "source": [
        "# A1 - COMP 472\n",
        "\n",
        "Hyun Soo Kim 40174913\n",
        "\n",
        "Suin Kang 40129337"
      ],
      "metadata": {
        "id": "OuS04gqWrlBb"
      }
    },
    {
      "cell_type": "code",
      "source": [
        "import pandas as pd\n",
        "import sklearn as sk\n",
        "import numpy as np\n",
        "import matplotlib.pyplot as plt\n",
        "import seaborn as sns\n",
        "import graphviz\n",
        "from sklearn.metrics import classification_report\n",
        "from sklearn.metrics import confusion_matrix\n",
        "import warnings\n",
        "from sklearn.neural_network import MLPClassifier"
      ],
      "metadata": {
        "id": "plbuWv54rsMP"
      },
      "execution_count": 1,
      "outputs": []
    },
    {
      "cell_type": "markdown",
      "source": [
        "### Import the MyDrive library from CoLab"
      ],
      "metadata": {
        "id": "n3GMoC3wzPte"
      }
    },
    {
      "cell_type": "code",
      "source": [
        "from google.colab import drive\n",
        "drive.mount('/content/drive')\n",
        "\n",
        "# the directory owns this notebook and dataset\n",
        "import os\n",
        "os.chdir('/content/drive/MyDrive/comp472/')"
      ],
      "metadata": {
        "id": "QM05GBSaoZIy",
        "colab": {
          "base_uri": "https://localhost:8080/"
        },
        "outputId": "22cacb6b-b909-4c21-8158-f032f87414a6"
      },
      "execution_count": 2,
      "outputs": [
        {
          "output_type": "stream",
          "name": "stdout",
          "text": [
            "Mounted at /content/drive\n"
          ]
        }
      ]
    },
    {
      "cell_type": "markdown",
      "source": [
        "### Definition of train-test-repetition function\n",
        "- For Classifier 3 & 4"
      ],
      "metadata": {
        "id": "UQWo18d_G_Au"
      }
    },
    {
      "cell_type": "code",
      "source": [
        "def MLP_base_train_test_repetition(X, y, outputFile, target_names):\n",
        "  accuracy = []\n",
        "  macro_avg = []\n",
        "  weighted_avg = []\n",
        "\n",
        "  print(\"\\nBase MLP Train-Test Repetition\\n\", file = outputFile)\n",
        "\n",
        "  #repeat 5 times\n",
        "  for i in range (0,5):\n",
        "\n",
        "    #data is shuffled every time\n",
        "    X_train, X_test, y_train, y_test = train_test_split(X, y, test_size = 0.3)\n",
        "\n",
        "    #base MLP\n",
        "    #initialize new model with same hyperparameters\n",
        "    model = MLPClassifier(hidden_layer_sizes = (100, 100,), activation = 'logistic', solver = 'sgd')\n",
        "\n",
        "    #train and predict\n",
        "    model.fit(X_train, y_train)\n",
        "    y_pred = model.predict(X_test)\n",
        "\n",
        "    #for average accuracy / macro-average f1 score / weighted-average f1 score and variance calculation\n",
        "    output = classification_report(y_test, y_pred, target_names = target_names, output_dict = True)\n",
        "    accuracy.append(output['accuracy'])\n",
        "    macro_avg.append(output['macro avg']['f1-score'])\n",
        "    weighted_avg.append(output['weighted avg']['f1-score'])\n",
        "\n",
        "    #print to text file. This would make it easier to validate the result of each model\n",
        "    print(f'=== Iteration {i+1} === ', file = outputFile)\n",
        "    print(f\"(A) {model}\\n\", file = outputFile)\n",
        "    print(\"(B) Confusion Matrix\", file = outputFile)\n",
        "    confusion_matrix_result = confusion_matrix(y_test, y_pred)\n",
        "    print(confusion_matrix_result, file = outputFile)\n",
        "\n",
        "    print(\"\\n(C,D) Classification Report\", file = outputFile)\n",
        "    print(classification_report(y_test, y_pred, target_names = target_names), file =outputFile)\n",
        "\n",
        "  #append the calculation in the report\n",
        "  print('(E) The result after 5 times of train-test repetition:' ,file = outputFile)\n",
        "  print(f'\\tThe average accuracy / variance: {np.mean(accuracy): 6.4f}, {np.var(accuracy): 6.6f}', file = outputFile)\n",
        "  print(f'\\tThe average macro-average f1 score / variance: {np.mean(macro_avg): 6.4f}, {np.var(macro_avg): 6.6f}', file = outputFile)\n",
        "  print(f'\\tThe average weighted-average f1 score / variance: {np.mean(weighted_avg): 6.4f}, {np.var(weighted_avg): 6.6f}', file = outputFile)\n",
        "  print('\\n', file = outputFile)\n",
        "  outputFile.flush()"
      ],
      "metadata": {
        "id": "V7wnBMtiS7ns"
      },
      "execution_count": 3,
      "outputs": []
    },
    {
      "cell_type": "code",
      "source": [
        "def MLP_top_train_test_repetition(param_grid, X, y, outputFile, target_names):\n",
        "  accuracy = []\n",
        "  macro_avg = []\n",
        "  weighted_avg = []\n",
        "\n",
        "  print(\"\\nTop MLP Train-Test Repetition\\n\", file = outputFile)\n",
        "\n",
        "  #repeat 5 times\n",
        "  for i in range (0,5):\n",
        "\n",
        "    #data is shuffled every time\n",
        "    X_train, X_test, y_train, y_test = train_test_split(X, y, test_size = 0.3)\n",
        "\n",
        "    #top MLP\n",
        "    #initialize new model with same hyperparameters\n",
        "    gridcv = sk.model_selection.GridSearchCV(MLPClassifier(), param_grid = param_grid)\n",
        "    gridcv.fit(X_train, y_train)\n",
        "\n",
        "    #predict\n",
        "    y_pred = gridcv.best_estimator_.predict(X_test)\n",
        "\n",
        "    #for average accuracy / macro-average f1 score / weighted-average f1 score and variance calculation\n",
        "    output = classification_report(y_test, y_pred, target_names = target_names, output_dict = True)\n",
        "    accuracy.append(output['accuracy'])\n",
        "    macro_avg.append(output['macro avg']['f1-score'])\n",
        "    weighted_avg.append(output['weighted avg']['f1-score'])\n",
        "\n",
        "    #print to text file. This would make it easier to validate the result of each model\n",
        "    print(f'=== Iteration {i+1} === ', file = outputFile)\n",
        "    print(f\"(A) Best Parameters: {gridcv.best_params_}\", file = outputFile)\n",
        "    print(\"\\n(B) Confusion Matrix\", file = outputFile)\n",
        "    confusion_matrix_result = confusion_matrix(y_test, y_pred)\n",
        "    print(confusion_matrix_result, file = outputFile)\n",
        "\n",
        "    print(\"\\n(C,D) Classification Report\", file = outputFile)\n",
        "    print(classification_report(y_test, y_pred, target_names = target_names), file =outputFile)\n",
        "\n",
        "  #append the calculation in the report\n",
        "  print('(E) The result after 5 times of train-test repetition:' ,file = outputFile)\n",
        "  print(f'\\tThe average accuracy / variance: {np.mean(accuracy): 6.4f}, {np.var(accuracy): 6.6f}', file = outputFile)\n",
        "  print(f'\\tThe average macro-average f1 score / variance: {np.mean(macro_avg): 6.4f}, {np.var(macro_avg): 6.6f}', file = outputFile)\n",
        "  print(f'\\tThe average weighted-average f1 score / variance: {np.mean(weighted_avg): 6.4f}, {np.var(weighted_avg): 6.6f}', file = outputFile)\n",
        "  print('\\n', file = outputFile)\n",
        "  outputFile.flush()"
      ],
      "metadata": {
        "id": "wJbuEpDgTOo4"
      },
      "execution_count": 4,
      "outputs": []
    },
    {
      "cell_type": "markdown",
      "source": [
        "## Dataset - 'penguins.csv'\n",
        "- Goal : prediction of species\n",
        "(Adelie, Gentoo, Chinstap)"
      ],
      "metadata": {
        "id": "a0o_UdOEzTw_"
      }
    },
    {
      "cell_type": "code",
      "source": [
        "outputFile = open ('penguin-classes.txt', 'w')\n",
        "warnings.filterwarnings('ignore')"
      ],
      "metadata": {
        "id": "fmJJQACk9aQs"
      },
      "execution_count": 34,
      "outputs": []
    },
    {
      "cell_type": "code",
      "source": [
        "data_penguins = pd.read_csv('penguins.csv')\n",
        "data_penguins.head()"
      ],
      "metadata": {
        "id": "RdWPdNdHn_cP",
        "colab": {
          "base_uri": "https://localhost:8080/",
          "height": 206
        },
        "outputId": "e39ec77d-3387-4307-e2a2-97005a9537e6"
      },
      "execution_count": 35,
      "outputs": [
        {
          "output_type": "execute_result",
          "data": {
            "text/plain": [
              "  species     island  culmen_length_mm  culmen_depth_mm  flipper_length_mm  \\\n",
              "0  Adelie  Torgersen              39.1             18.7                181   \n",
              "1  Adelie  Torgersen              39.5             17.4                186   \n",
              "2  Adelie  Torgersen              40.3             18.0                195   \n",
              "3  Adelie  Torgersen              36.7             19.3                193   \n",
              "4  Adelie  Torgersen              39.3             20.6                190   \n",
              "\n",
              "   body_mass_g     sex  \n",
              "0         3750    MALE  \n",
              "1         3800  FEMALE  \n",
              "2         3250  FEMALE  \n",
              "3         3450  FEMALE  \n",
              "4         3650    MALE  "
            ],
            "text/html": [
              "\n",
              "  <div id=\"df-12c6d97a-ba3e-48a0-9188-402b72551354\" class=\"colab-df-container\">\n",
              "    <div>\n",
              "<style scoped>\n",
              "    .dataframe tbody tr th:only-of-type {\n",
              "        vertical-align: middle;\n",
              "    }\n",
              "\n",
              "    .dataframe tbody tr th {\n",
              "        vertical-align: top;\n",
              "    }\n",
              "\n",
              "    .dataframe thead th {\n",
              "        text-align: right;\n",
              "    }\n",
              "</style>\n",
              "<table border=\"1\" class=\"dataframe\">\n",
              "  <thead>\n",
              "    <tr style=\"text-align: right;\">\n",
              "      <th></th>\n",
              "      <th>species</th>\n",
              "      <th>island</th>\n",
              "      <th>culmen_length_mm</th>\n",
              "      <th>culmen_depth_mm</th>\n",
              "      <th>flipper_length_mm</th>\n",
              "      <th>body_mass_g</th>\n",
              "      <th>sex</th>\n",
              "    </tr>\n",
              "  </thead>\n",
              "  <tbody>\n",
              "    <tr>\n",
              "      <th>0</th>\n",
              "      <td>Adelie</td>\n",
              "      <td>Torgersen</td>\n",
              "      <td>39.1</td>\n",
              "      <td>18.7</td>\n",
              "      <td>181</td>\n",
              "      <td>3750</td>\n",
              "      <td>MALE</td>\n",
              "    </tr>\n",
              "    <tr>\n",
              "      <th>1</th>\n",
              "      <td>Adelie</td>\n",
              "      <td>Torgersen</td>\n",
              "      <td>39.5</td>\n",
              "      <td>17.4</td>\n",
              "      <td>186</td>\n",
              "      <td>3800</td>\n",
              "      <td>FEMALE</td>\n",
              "    </tr>\n",
              "    <tr>\n",
              "      <th>2</th>\n",
              "      <td>Adelie</td>\n",
              "      <td>Torgersen</td>\n",
              "      <td>40.3</td>\n",
              "      <td>18.0</td>\n",
              "      <td>195</td>\n",
              "      <td>3250</td>\n",
              "      <td>FEMALE</td>\n",
              "    </tr>\n",
              "    <tr>\n",
              "      <th>3</th>\n",
              "      <td>Adelie</td>\n",
              "      <td>Torgersen</td>\n",
              "      <td>36.7</td>\n",
              "      <td>19.3</td>\n",
              "      <td>193</td>\n",
              "      <td>3450</td>\n",
              "      <td>FEMALE</td>\n",
              "    </tr>\n",
              "    <tr>\n",
              "      <th>4</th>\n",
              "      <td>Adelie</td>\n",
              "      <td>Torgersen</td>\n",
              "      <td>39.3</td>\n",
              "      <td>20.6</td>\n",
              "      <td>190</td>\n",
              "      <td>3650</td>\n",
              "      <td>MALE</td>\n",
              "    </tr>\n",
              "  </tbody>\n",
              "</table>\n",
              "</div>\n",
              "    <div class=\"colab-df-buttons\">\n",
              "\n",
              "  <div class=\"colab-df-container\">\n",
              "    <button class=\"colab-df-convert\" onclick=\"convertToInteractive('df-12c6d97a-ba3e-48a0-9188-402b72551354')\"\n",
              "            title=\"Convert this dataframe to an interactive table.\"\n",
              "            style=\"display:none;\">\n",
              "\n",
              "  <svg xmlns=\"http://www.w3.org/2000/svg\" height=\"24px\" viewBox=\"0 -960 960 960\">\n",
              "    <path d=\"M120-120v-720h720v720H120Zm60-500h600v-160H180v160Zm220 220h160v-160H400v160Zm0 220h160v-160H400v160ZM180-400h160v-160H180v160Zm440 0h160v-160H620v160ZM180-180h160v-160H180v160Zm440 0h160v-160H620v160Z\"/>\n",
              "  </svg>\n",
              "    </button>\n",
              "\n",
              "  <style>\n",
              "    .colab-df-container {\n",
              "      display:flex;\n",
              "      gap: 12px;\n",
              "    }\n",
              "\n",
              "    .colab-df-convert {\n",
              "      background-color: #E8F0FE;\n",
              "      border: none;\n",
              "      border-radius: 50%;\n",
              "      cursor: pointer;\n",
              "      display: none;\n",
              "      fill: #1967D2;\n",
              "      height: 32px;\n",
              "      padding: 0 0 0 0;\n",
              "      width: 32px;\n",
              "    }\n",
              "\n",
              "    .colab-df-convert:hover {\n",
              "      background-color: #E2EBFA;\n",
              "      box-shadow: 0px 1px 2px rgba(60, 64, 67, 0.3), 0px 1px 3px 1px rgba(60, 64, 67, 0.15);\n",
              "      fill: #174EA6;\n",
              "    }\n",
              "\n",
              "    .colab-df-buttons div {\n",
              "      margin-bottom: 4px;\n",
              "    }\n",
              "\n",
              "    [theme=dark] .colab-df-convert {\n",
              "      background-color: #3B4455;\n",
              "      fill: #D2E3FC;\n",
              "    }\n",
              "\n",
              "    [theme=dark] .colab-df-convert:hover {\n",
              "      background-color: #434B5C;\n",
              "      box-shadow: 0px 1px 3px 1px rgba(0, 0, 0, 0.15);\n",
              "      filter: drop-shadow(0px 1px 2px rgba(0, 0, 0, 0.3));\n",
              "      fill: #FFFFFF;\n",
              "    }\n",
              "  </style>\n",
              "\n",
              "    <script>\n",
              "      const buttonEl =\n",
              "        document.querySelector('#df-12c6d97a-ba3e-48a0-9188-402b72551354 button.colab-df-convert');\n",
              "      buttonEl.style.display =\n",
              "        google.colab.kernel.accessAllowed ? 'block' : 'none';\n",
              "\n",
              "      async function convertToInteractive(key) {\n",
              "        const element = document.querySelector('#df-12c6d97a-ba3e-48a0-9188-402b72551354');\n",
              "        const dataTable =\n",
              "          await google.colab.kernel.invokeFunction('convertToInteractive',\n",
              "                                                    [key], {});\n",
              "        if (!dataTable) return;\n",
              "\n",
              "        const docLinkHtml = 'Like what you see? Visit the ' +\n",
              "          '<a target=\"_blank\" href=https://colab.research.google.com/notebooks/data_table.ipynb>data table notebook</a>'\n",
              "          + ' to learn more about interactive tables.';\n",
              "        element.innerHTML = '';\n",
              "        dataTable['output_type'] = 'display_data';\n",
              "        await google.colab.output.renderOutput(dataTable, element);\n",
              "        const docLink = document.createElement('div');\n",
              "        docLink.innerHTML = docLinkHtml;\n",
              "        element.appendChild(docLink);\n",
              "      }\n",
              "    </script>\n",
              "  </div>\n",
              "\n",
              "\n",
              "<div id=\"df-53b76bb0-b33c-43f8-89fc-e6b8dfc357a8\">\n",
              "  <button class=\"colab-df-quickchart\" onclick=\"quickchart('df-53b76bb0-b33c-43f8-89fc-e6b8dfc357a8')\"\n",
              "            title=\"Suggest charts\"\n",
              "            style=\"display:none;\">\n",
              "\n",
              "<svg xmlns=\"http://www.w3.org/2000/svg\" height=\"24px\"viewBox=\"0 0 24 24\"\n",
              "     width=\"24px\">\n",
              "    <g>\n",
              "        <path d=\"M19 3H5c-1.1 0-2 .9-2 2v14c0 1.1.9 2 2 2h14c1.1 0 2-.9 2-2V5c0-1.1-.9-2-2-2zM9 17H7v-7h2v7zm4 0h-2V7h2v10zm4 0h-2v-4h2v4z\"/>\n",
              "    </g>\n",
              "</svg>\n",
              "  </button>\n",
              "\n",
              "<style>\n",
              "  .colab-df-quickchart {\n",
              "      --bg-color: #E8F0FE;\n",
              "      --fill-color: #1967D2;\n",
              "      --hover-bg-color: #E2EBFA;\n",
              "      --hover-fill-color: #174EA6;\n",
              "      --disabled-fill-color: #AAA;\n",
              "      --disabled-bg-color: #DDD;\n",
              "  }\n",
              "\n",
              "  [theme=dark] .colab-df-quickchart {\n",
              "      --bg-color: #3B4455;\n",
              "      --fill-color: #D2E3FC;\n",
              "      --hover-bg-color: #434B5C;\n",
              "      --hover-fill-color: #FFFFFF;\n",
              "      --disabled-bg-color: #3B4455;\n",
              "      --disabled-fill-color: #666;\n",
              "  }\n",
              "\n",
              "  .colab-df-quickchart {\n",
              "    background-color: var(--bg-color);\n",
              "    border: none;\n",
              "    border-radius: 50%;\n",
              "    cursor: pointer;\n",
              "    display: none;\n",
              "    fill: var(--fill-color);\n",
              "    height: 32px;\n",
              "    padding: 0;\n",
              "    width: 32px;\n",
              "  }\n",
              "\n",
              "  .colab-df-quickchart:hover {\n",
              "    background-color: var(--hover-bg-color);\n",
              "    box-shadow: 0 1px 2px rgba(60, 64, 67, 0.3), 0 1px 3px 1px rgba(60, 64, 67, 0.15);\n",
              "    fill: var(--button-hover-fill-color);\n",
              "  }\n",
              "\n",
              "  .colab-df-quickchart-complete:disabled,\n",
              "  .colab-df-quickchart-complete:disabled:hover {\n",
              "    background-color: var(--disabled-bg-color);\n",
              "    fill: var(--disabled-fill-color);\n",
              "    box-shadow: none;\n",
              "  }\n",
              "\n",
              "  .colab-df-spinner {\n",
              "    border: 2px solid var(--fill-color);\n",
              "    border-color: transparent;\n",
              "    border-bottom-color: var(--fill-color);\n",
              "    animation:\n",
              "      spin 1s steps(1) infinite;\n",
              "  }\n",
              "\n",
              "  @keyframes spin {\n",
              "    0% {\n",
              "      border-color: transparent;\n",
              "      border-bottom-color: var(--fill-color);\n",
              "      border-left-color: var(--fill-color);\n",
              "    }\n",
              "    20% {\n",
              "      border-color: transparent;\n",
              "      border-left-color: var(--fill-color);\n",
              "      border-top-color: var(--fill-color);\n",
              "    }\n",
              "    30% {\n",
              "      border-color: transparent;\n",
              "      border-left-color: var(--fill-color);\n",
              "      border-top-color: var(--fill-color);\n",
              "      border-right-color: var(--fill-color);\n",
              "    }\n",
              "    40% {\n",
              "      border-color: transparent;\n",
              "      border-right-color: var(--fill-color);\n",
              "      border-top-color: var(--fill-color);\n",
              "    }\n",
              "    60% {\n",
              "      border-color: transparent;\n",
              "      border-right-color: var(--fill-color);\n",
              "    }\n",
              "    80% {\n",
              "      border-color: transparent;\n",
              "      border-right-color: var(--fill-color);\n",
              "      border-bottom-color: var(--fill-color);\n",
              "    }\n",
              "    90% {\n",
              "      border-color: transparent;\n",
              "      border-bottom-color: var(--fill-color);\n",
              "    }\n",
              "  }\n",
              "</style>\n",
              "\n",
              "  <script>\n",
              "    async function quickchart(key) {\n",
              "      const quickchartButtonEl =\n",
              "        document.querySelector('#' + key + ' button');\n",
              "      quickchartButtonEl.disabled = true;  // To prevent multiple clicks.\n",
              "      quickchartButtonEl.classList.add('colab-df-spinner');\n",
              "      try {\n",
              "        const charts = await google.colab.kernel.invokeFunction(\n",
              "            'suggestCharts', [key], {});\n",
              "      } catch (error) {\n",
              "        console.error('Error during call to suggestCharts:', error);\n",
              "      }\n",
              "      quickchartButtonEl.classList.remove('colab-df-spinner');\n",
              "      quickchartButtonEl.classList.add('colab-df-quickchart-complete');\n",
              "    }\n",
              "    (() => {\n",
              "      let quickchartButtonEl =\n",
              "        document.querySelector('#df-53b76bb0-b33c-43f8-89fc-e6b8dfc357a8 button');\n",
              "      quickchartButtonEl.style.display =\n",
              "        google.colab.kernel.accessAllowed ? 'block' : 'none';\n",
              "    })();\n",
              "  </script>\n",
              "</div>\n",
              "    </div>\n",
              "  </div>\n"
            ]
          },
          "metadata": {},
          "execution_count": 35
        }
      ]
    },
    {
      "cell_type": "markdown",
      "source": [
        "#### Data Preprocessing\n",
        "- data encoding for categorical values: 'island', 'sex' column"
      ],
      "metadata": {
        "id": "skf8lGQB1Hpk"
      }
    },
    {
      "cell_type": "code",
      "source": [
        "from sklearn.preprocessing import OneHotEncoder\n",
        "\n",
        "island = np.array(data_penguins['island']).reshape(-1, 1)\n",
        "island_label = OneHotEncoder().fit_transform(island)\n",
        "data_penguins['island'] = island_label.toarray()\n",
        "\n",
        "df = pd.DataFrame({'island':['Torgersen','Biscoe','Dream']})\n",
        "pd.get_dummies(df)"
      ],
      "metadata": {
        "id": "bO_arEeWzl2p",
        "colab": {
          "base_uri": "https://localhost:8080/",
          "height": 143
        },
        "outputId": "3e379ba5-3080-4f9f-8bdf-6a9dcb719e69"
      },
      "execution_count": 36,
      "outputs": [
        {
          "output_type": "execute_result",
          "data": {
            "text/plain": [
              "   island_Biscoe  island_Dream  island_Torgersen\n",
              "0              0             0                 1\n",
              "1              1             0                 0\n",
              "2              0             1                 0"
            ],
            "text/html": [
              "\n",
              "  <div id=\"df-9bdb0870-fbd6-4531-9e02-6b421abae289\" class=\"colab-df-container\">\n",
              "    <div>\n",
              "<style scoped>\n",
              "    .dataframe tbody tr th:only-of-type {\n",
              "        vertical-align: middle;\n",
              "    }\n",
              "\n",
              "    .dataframe tbody tr th {\n",
              "        vertical-align: top;\n",
              "    }\n",
              "\n",
              "    .dataframe thead th {\n",
              "        text-align: right;\n",
              "    }\n",
              "</style>\n",
              "<table border=\"1\" class=\"dataframe\">\n",
              "  <thead>\n",
              "    <tr style=\"text-align: right;\">\n",
              "      <th></th>\n",
              "      <th>island_Biscoe</th>\n",
              "      <th>island_Dream</th>\n",
              "      <th>island_Torgersen</th>\n",
              "    </tr>\n",
              "  </thead>\n",
              "  <tbody>\n",
              "    <tr>\n",
              "      <th>0</th>\n",
              "      <td>0</td>\n",
              "      <td>0</td>\n",
              "      <td>1</td>\n",
              "    </tr>\n",
              "    <tr>\n",
              "      <th>1</th>\n",
              "      <td>1</td>\n",
              "      <td>0</td>\n",
              "      <td>0</td>\n",
              "    </tr>\n",
              "    <tr>\n",
              "      <th>2</th>\n",
              "      <td>0</td>\n",
              "      <td>1</td>\n",
              "      <td>0</td>\n",
              "    </tr>\n",
              "  </tbody>\n",
              "</table>\n",
              "</div>\n",
              "    <div class=\"colab-df-buttons\">\n",
              "\n",
              "  <div class=\"colab-df-container\">\n",
              "    <button class=\"colab-df-convert\" onclick=\"convertToInteractive('df-9bdb0870-fbd6-4531-9e02-6b421abae289')\"\n",
              "            title=\"Convert this dataframe to an interactive table.\"\n",
              "            style=\"display:none;\">\n",
              "\n",
              "  <svg xmlns=\"http://www.w3.org/2000/svg\" height=\"24px\" viewBox=\"0 -960 960 960\">\n",
              "    <path d=\"M120-120v-720h720v720H120Zm60-500h600v-160H180v160Zm220 220h160v-160H400v160Zm0 220h160v-160H400v160ZM180-400h160v-160H180v160Zm440 0h160v-160H620v160ZM180-180h160v-160H180v160Zm440 0h160v-160H620v160Z\"/>\n",
              "  </svg>\n",
              "    </button>\n",
              "\n",
              "  <style>\n",
              "    .colab-df-container {\n",
              "      display:flex;\n",
              "      gap: 12px;\n",
              "    }\n",
              "\n",
              "    .colab-df-convert {\n",
              "      background-color: #E8F0FE;\n",
              "      border: none;\n",
              "      border-radius: 50%;\n",
              "      cursor: pointer;\n",
              "      display: none;\n",
              "      fill: #1967D2;\n",
              "      height: 32px;\n",
              "      padding: 0 0 0 0;\n",
              "      width: 32px;\n",
              "    }\n",
              "\n",
              "    .colab-df-convert:hover {\n",
              "      background-color: #E2EBFA;\n",
              "      box-shadow: 0px 1px 2px rgba(60, 64, 67, 0.3), 0px 1px 3px 1px rgba(60, 64, 67, 0.15);\n",
              "      fill: #174EA6;\n",
              "    }\n",
              "\n",
              "    .colab-df-buttons div {\n",
              "      margin-bottom: 4px;\n",
              "    }\n",
              "\n",
              "    [theme=dark] .colab-df-convert {\n",
              "      background-color: #3B4455;\n",
              "      fill: #D2E3FC;\n",
              "    }\n",
              "\n",
              "    [theme=dark] .colab-df-convert:hover {\n",
              "      background-color: #434B5C;\n",
              "      box-shadow: 0px 1px 3px 1px rgba(0, 0, 0, 0.15);\n",
              "      filter: drop-shadow(0px 1px 2px rgba(0, 0, 0, 0.3));\n",
              "      fill: #FFFFFF;\n",
              "    }\n",
              "  </style>\n",
              "\n",
              "    <script>\n",
              "      const buttonEl =\n",
              "        document.querySelector('#df-9bdb0870-fbd6-4531-9e02-6b421abae289 button.colab-df-convert');\n",
              "      buttonEl.style.display =\n",
              "        google.colab.kernel.accessAllowed ? 'block' : 'none';\n",
              "\n",
              "      async function convertToInteractive(key) {\n",
              "        const element = document.querySelector('#df-9bdb0870-fbd6-4531-9e02-6b421abae289');\n",
              "        const dataTable =\n",
              "          await google.colab.kernel.invokeFunction('convertToInteractive',\n",
              "                                                    [key], {});\n",
              "        if (!dataTable) return;\n",
              "\n",
              "        const docLinkHtml = 'Like what you see? Visit the ' +\n",
              "          '<a target=\"_blank\" href=https://colab.research.google.com/notebooks/data_table.ipynb>data table notebook</a>'\n",
              "          + ' to learn more about interactive tables.';\n",
              "        element.innerHTML = '';\n",
              "        dataTable['output_type'] = 'display_data';\n",
              "        await google.colab.output.renderOutput(dataTable, element);\n",
              "        const docLink = document.createElement('div');\n",
              "        docLink.innerHTML = docLinkHtml;\n",
              "        element.appendChild(docLink);\n",
              "      }\n",
              "    </script>\n",
              "  </div>\n",
              "\n",
              "\n",
              "<div id=\"df-03a10881-57b9-451c-a718-56276da1e0eb\">\n",
              "  <button class=\"colab-df-quickchart\" onclick=\"quickchart('df-03a10881-57b9-451c-a718-56276da1e0eb')\"\n",
              "            title=\"Suggest charts\"\n",
              "            style=\"display:none;\">\n",
              "\n",
              "<svg xmlns=\"http://www.w3.org/2000/svg\" height=\"24px\"viewBox=\"0 0 24 24\"\n",
              "     width=\"24px\">\n",
              "    <g>\n",
              "        <path d=\"M19 3H5c-1.1 0-2 .9-2 2v14c0 1.1.9 2 2 2h14c1.1 0 2-.9 2-2V5c0-1.1-.9-2-2-2zM9 17H7v-7h2v7zm4 0h-2V7h2v10zm4 0h-2v-4h2v4z\"/>\n",
              "    </g>\n",
              "</svg>\n",
              "  </button>\n",
              "\n",
              "<style>\n",
              "  .colab-df-quickchart {\n",
              "      --bg-color: #E8F0FE;\n",
              "      --fill-color: #1967D2;\n",
              "      --hover-bg-color: #E2EBFA;\n",
              "      --hover-fill-color: #174EA6;\n",
              "      --disabled-fill-color: #AAA;\n",
              "      --disabled-bg-color: #DDD;\n",
              "  }\n",
              "\n",
              "  [theme=dark] .colab-df-quickchart {\n",
              "      --bg-color: #3B4455;\n",
              "      --fill-color: #D2E3FC;\n",
              "      --hover-bg-color: #434B5C;\n",
              "      --hover-fill-color: #FFFFFF;\n",
              "      --disabled-bg-color: #3B4455;\n",
              "      --disabled-fill-color: #666;\n",
              "  }\n",
              "\n",
              "  .colab-df-quickchart {\n",
              "    background-color: var(--bg-color);\n",
              "    border: none;\n",
              "    border-radius: 50%;\n",
              "    cursor: pointer;\n",
              "    display: none;\n",
              "    fill: var(--fill-color);\n",
              "    height: 32px;\n",
              "    padding: 0;\n",
              "    width: 32px;\n",
              "  }\n",
              "\n",
              "  .colab-df-quickchart:hover {\n",
              "    background-color: var(--hover-bg-color);\n",
              "    box-shadow: 0 1px 2px rgba(60, 64, 67, 0.3), 0 1px 3px 1px rgba(60, 64, 67, 0.15);\n",
              "    fill: var(--button-hover-fill-color);\n",
              "  }\n",
              "\n",
              "  .colab-df-quickchart-complete:disabled,\n",
              "  .colab-df-quickchart-complete:disabled:hover {\n",
              "    background-color: var(--disabled-bg-color);\n",
              "    fill: var(--disabled-fill-color);\n",
              "    box-shadow: none;\n",
              "  }\n",
              "\n",
              "  .colab-df-spinner {\n",
              "    border: 2px solid var(--fill-color);\n",
              "    border-color: transparent;\n",
              "    border-bottom-color: var(--fill-color);\n",
              "    animation:\n",
              "      spin 1s steps(1) infinite;\n",
              "  }\n",
              "\n",
              "  @keyframes spin {\n",
              "    0% {\n",
              "      border-color: transparent;\n",
              "      border-bottom-color: var(--fill-color);\n",
              "      border-left-color: var(--fill-color);\n",
              "    }\n",
              "    20% {\n",
              "      border-color: transparent;\n",
              "      border-left-color: var(--fill-color);\n",
              "      border-top-color: var(--fill-color);\n",
              "    }\n",
              "    30% {\n",
              "      border-color: transparent;\n",
              "      border-left-color: var(--fill-color);\n",
              "      border-top-color: var(--fill-color);\n",
              "      border-right-color: var(--fill-color);\n",
              "    }\n",
              "    40% {\n",
              "      border-color: transparent;\n",
              "      border-right-color: var(--fill-color);\n",
              "      border-top-color: var(--fill-color);\n",
              "    }\n",
              "    60% {\n",
              "      border-color: transparent;\n",
              "      border-right-color: var(--fill-color);\n",
              "    }\n",
              "    80% {\n",
              "      border-color: transparent;\n",
              "      border-right-color: var(--fill-color);\n",
              "      border-bottom-color: var(--fill-color);\n",
              "    }\n",
              "    90% {\n",
              "      border-color: transparent;\n",
              "      border-bottom-color: var(--fill-color);\n",
              "    }\n",
              "  }\n",
              "</style>\n",
              "\n",
              "  <script>\n",
              "    async function quickchart(key) {\n",
              "      const quickchartButtonEl =\n",
              "        document.querySelector('#' + key + ' button');\n",
              "      quickchartButtonEl.disabled = true;  // To prevent multiple clicks.\n",
              "      quickchartButtonEl.classList.add('colab-df-spinner');\n",
              "      try {\n",
              "        const charts = await google.colab.kernel.invokeFunction(\n",
              "            'suggestCharts', [key], {});\n",
              "      } catch (error) {\n",
              "        console.error('Error during call to suggestCharts:', error);\n",
              "      }\n",
              "      quickchartButtonEl.classList.remove('colab-df-spinner');\n",
              "      quickchartButtonEl.classList.add('colab-df-quickchart-complete');\n",
              "    }\n",
              "    (() => {\n",
              "      let quickchartButtonEl =\n",
              "        document.querySelector('#df-03a10881-57b9-451c-a718-56276da1e0eb button');\n",
              "      quickchartButtonEl.style.display =\n",
              "        google.colab.kernel.accessAllowed ? 'block' : 'none';\n",
              "    })();\n",
              "  </script>\n",
              "</div>\n",
              "    </div>\n",
              "  </div>\n"
            ]
          },
          "metadata": {},
          "execution_count": 36
        }
      ]
    },
    {
      "cell_type": "code",
      "source": [
        "from sklearn.preprocessing import LabelEncoder\n",
        "\n",
        "data_penguins['sex'] = LabelEncoder().fit_transform(data_penguins['sex'])"
      ],
      "metadata": {
        "id": "5T0LfRzozl4u"
      },
      "execution_count": 37,
      "outputs": []
    },
    {
      "cell_type": "markdown",
      "source": [
        "#### Plot the percentage of the instances"
      ],
      "metadata": {
        "id": "Ychlgawv36Yr"
      }
    },
    {
      "cell_type": "code",
      "source": [
        "# Check the output class is balanced\n",
        "penguins_labels = data_penguins['species']\n",
        "\n",
        "plt.figure(figsize=(10, 6))\n",
        "sns.countplot(x=penguins_labels)\n",
        "plt.title('Distribution of class label')\n",
        "plt.xlabel('Penguins')\n",
        "plt.ylabel('Frequency')\n",
        "\n",
        "# save as graphic\n",
        "plt.savefig('penguin-classes.png')"
      ],
      "metadata": {
        "colab": {
          "base_uri": "https://localhost:8080/",
          "height": 564
        },
        "id": "2_YBHCBg38nQ",
        "outputId": "7a8b3e3f-d8c8-4535-bc6b-729eb09fd384"
      },
      "execution_count": 38,
      "outputs": [
        {
          "output_type": "display_data",
          "data": {
            "text/plain": [
              "<Figure size 1000x600 with 1 Axes>"
            ],
            "image/png": "[encoded data removed]"
          },
          "metadata": {}
        }
      ]
    },
    {
      "cell_type": "markdown",
      "source": [
        "#### Dataset split into training & test set"
      ],
      "metadata": {
        "id": "YitW0dfF3zLc"
      }
    },
    {
      "cell_type": "code",
      "source": [
        "X = data_penguins.iloc[:, 1:].values\n",
        "y = data_penguins.iloc[:,0].values\n",
        "\n",
        "from sklearn.model_selection import train_test_split\n",
        "X_train, X_test, y_train, y_test = train_test_split(X, y, test_size = 0.3)"
      ],
      "metadata": {
        "id": "0wcAQElszl97"
      },
      "execution_count": 39,
      "outputs": []
    },
    {
      "cell_type": "code",
      "source": [
        "# perform feature scaling\n",
        "from sklearn.preprocessing import StandardScaler\n",
        "\n",
        "sc = StandardScaler()\n",
        "X_train = sc.fit_transform(X_train)\n",
        "X_test = sc.transform(X_test)"
      ],
      "metadata": {
        "id": "sThVNxcLzmAB"
      },
      "execution_count": 40,
      "outputs": []
    },
    {
      "cell_type": "markdown",
      "source": [
        "#### Train 4 different classifier"
      ],
      "metadata": {
        "id": "fWpPUU6EYP3T"
      }
    },
    {
      "cell_type": "markdown",
      "source": [
        "##### Classifier 1 - Base-DT"
      ],
      "metadata": {
        "id": "i1Wbs_2C3Q6E"
      }
    },
    {
      "cell_type": "code",
      "source": [
        "from sklearn.tree import DecisionTreeClassifier\n",
        "\n",
        "# Base Decision Tree\n",
        "classifier_1 = DecisionTreeClassifier()\n",
        "classifier_1.fit(X_train, y_train)"
      ],
      "metadata": {
        "id": "JN61PJ3W5jcb",
        "colab": {
          "base_uri": "https://localhost:8080/",
          "height": 75
        },
        "outputId": "4935a865-9e77-4b77-9844-e7b8beb32dbd"
      },
      "execution_count": 41,
      "outputs": [
        {
          "output_type": "execute_result",
          "data": {
            "text/plain": [
              "DecisionTreeClassifier()"
            ],
            "text/html": [
              "<style>#sk-container-id-2 {color: black;background-color: white;}#sk-container-id-2 pre{padding: 0;}#sk-container-id-2 div.sk-toggleable {background-color: white;}#sk-container-id-2 label.sk-toggleable__label {cursor: pointer;display: block;width: 100%;margin-bottom: 0;padding: 0.3em;box-sizing: border-box;text-align: center;}#sk-container-id-2 label.sk-toggleable__label-arrow:before {content: \"▸\";float: left;margin-right: 0.25em;color: #696969;}#sk-container-id-2 label.sk-toggleable__label-arrow:hover:before {color: black;}#sk-container-id-2 div.sk-estimator:hover label.sk-toggleable__label-arrow:before {color: black;}#sk-container-id-2 div.sk-toggleable__content {max-height: 0;max-width: 0;overflow: hidden;text-align: left;background-color: #f0f8ff;}#sk-container-id-2 div.sk-toggleable__content pre {margin: 0.2em;color: black;border-radius: 0.25em;background-color: #f0f8ff;}#sk-container-id-2 input.sk-toggleable__control:checked~div.sk-toggleable__content {max-height: 200px;max-width: 100%;overflow: auto;}#sk-container-id-2 input.sk-toggleable__control:checked~label.sk-toggleable__label-arrow:before {content: \"▾\";}#sk-container-id-2 div.sk-estimator input.sk-toggleable__control:checked~label.sk-toggleable__label {background-color: #d4ebff;}#sk-container-id-2 div.sk-label input.sk-toggleable__control:checked~label.sk-toggleable__label {background-color: #d4ebff;}#sk-container-id-2 input.sk-hidden--visually {border: 0;clip: rect(1px 1px 1px 1px);clip: rect(1px, 1px, 1px, 1px);height: 1px;margin: -1px;overflow: hidden;padding: 0;position: absolute;width: 1px;}#sk-container-id-2 div.sk-estimator {font-family: monospace;background-color: #f0f8ff;border: 1px dotted black;border-radius: 0.25em;box-sizing: border-box;margin-bottom: 0.5em;}#sk-container-id-2 div.sk-estimator:hover {background-color: #d4ebff;}#sk-container-id-2 div.sk-parallel-item::after {content: \"\";width: 100%;border-bottom: 1px solid gray;flex-grow: 1;}#sk-container-id-2 div.sk-label:hover label.sk-toggleable__label {background-color: #d4ebff;}#sk-container-id-2 div.sk-serial::before {content: \"\";position: absolute;border-left: 1px solid gray;box-sizing: border-box;top: 0;bottom: 0;left: 50%;z-index: 0;}#sk-container-id-2 div.sk-serial {display: flex;flex-direction: column;align-items: center;background-color: white;padding-right: 0.2em;padding-left: 0.2em;position: relative;}#sk-container-id-2 div.sk-item {position: relative;z-index: 1;}#sk-container-id-2 div.sk-parallel {display: flex;align-items: stretch;justify-content: center;background-color: white;position: relative;}#sk-container-id-2 div.sk-item::before, #sk-container-id-2 div.sk-parallel-item::before {content: \"\";position: absolute;border-left: 1px solid gray;box-sizing: border-box;top: 0;bottom: 0;left: 50%;z-index: -1;}#sk-container-id-2 div.sk-parallel-item {display: flex;flex-direction: column;z-index: 1;position: relative;background-color: white;}#sk-container-id-2 div.sk-parallel-item:first-child::after {align-self: flex-end;width: 50%;}#sk-container-id-2 div.sk-parallel-item:last-child::after {align-self: flex-start;width: 50%;}#sk-container-id-2 div.sk-parallel-item:only-child::after {width: 0;}#sk-container-id-2 div.sk-dashed-wrapped {border: 1px dashed gray;margin: 0 0.4em 0.5em 0.4em;box-sizing: border-box;padding-bottom: 0.4em;background-color: white;}#sk-container-id-2 div.sk-label label {font-family: monospace;font-weight: bold;display: inline-block;line-height: 1.2em;}#sk-container-id-2 div.sk-label-container {text-align: center;}#sk-container-id-2 div.sk-container {/* jupyter's `normalize.less` sets `[hidden] { display: none; }` but bootstrap.min.css set `[hidden] { display: none !important; }` so we also need the `!important` here to be able to override the default hidden behavior on the sphinx rendered scikit-learn.org. See: https://github.com/scikit-learn/scikit-learn/issues/21755 */display: inline-block !important;position: relative;}#sk-container-id-2 div.sk-text-repr-fallback {display: none;}</style><div id=\"sk-container-id-2\" class=\"sk-top-container\"><div class=\"sk-text-repr-fallback\"><pre>DecisionTreeClassifier()</pre><b>In a Jupyter environment, please rerun this cell to show the HTML representation or trust the notebook. <br />On GitHub, the HTML representation is unable to render, please try loading this page with nbviewer.org.</b></div><div class=\"sk-container\" hidden><div class=\"sk-item\"><div class=\"sk-estimator sk-toggleable\"><input class=\"sk-toggleable__control sk-hidden--visually\" id=\"sk-estimator-id-2\" type=\"checkbox\" checked><label for=\"sk-estimator-id-2\" class=\"sk-toggleable__label sk-toggleable__label-arrow\">DecisionTreeClassifier</label><div class=\"sk-toggleable__content\"><pre>DecisionTreeClassifier()</pre></div></div></div></div></div>"
            ]
          },
          "metadata": {},
          "execution_count": 41
        }
      ]
    },
    {
      "cell_type": "code",
      "source": [
        "penguins_class = data_penguins.columns[0]\n",
        "penguins_features = list(data_penguins.columns[1:])"
      ],
      "metadata": {
        "id": "s_J2ed_v--zl"
      },
      "execution_count": 42,
      "outputs": []
    },
    {
      "cell_type": "code",
      "source": [
        "from sklearn import tree\n",
        "\n",
        "dot_data = tree.export_graphviz(classifier_1,\n",
        "                feature_names=penguins_features,\n",
        "                class_names=penguins_class,\n",
        "                filled=True, rounded=True,\n",
        "                special_characters=True)\n",
        "\n",
        "graph = graphviz.Source(dot_data)\n",
        "graph"
      ],
      "metadata": {
        "id": "hwomCGHCCnKt",
        "outputId": "0ca4daa0-8258-4508-ebc6-f2c1ecd5c9f8",
        "colab": {
          "base_uri": "https://localhost:8080/",
          "height": 937
        }
      },
      "execution_count": 43,
      "outputs": [
        {
          "output_type": "execute_result",
          "data": {
            "image/svg+xml": "<?xml version=\"1.0\" encoding=\"UTF-8\" standalone=\"no\"?>\n<!DOCTYPE svg PUBLIC \"-//W3C//DTD SVG 1.1//EN\"\n \"http://www.w3.org/Graphics/SVG/1.1/DTD/svg11.dtd\">\n<!-- Generated by graphviz version 2.43.0 (0)\n -->\n<!-- Title: Tree Pages: 1 -->\n<svg width=\"1151pt\" height=\"671pt\"\n viewBox=\"0.00 0.00 1150.50 671.00\" xmlns=\"http://www.w3.org/2000/svg\" xmlns:xlink=\"http://www.w3.org/1999/xlink\">\n<g id=\"graph0\" class=\"graph\" transform=\"scale(1 1) rotate(0) translate(4 667)\">\n<title>Tree</title>\n<polygon fill=\"white\" stroke=\"transparent\" points=\"-4,4 -4,-667 1146.5,-667 1146.5,4 -4,4\"/>\n<!-- 0 -->\n<g id=\"node1\" class=\"node\">\n<title>0</title>\n<path fill=\"#fcf1ea\" stroke=\"black\" d=\"M853,-663C853,-663 699,-663 699,-663 693,-663 687,-657 687,-651 687,-651 687,-592 687,-592 687,-586 693,-580 699,-580 699,-580 853,-580 853,-580 859,-580 865,-586 865,-592 865,-592 865,-651 865,-651 865,-657 859,-663 853,-663\"/>\n<text text-anchor=\"start\" x=\"695\" y=\"-647.8\" font-family=\"Helvetica,sans-Serif\" font-size=\"14.00\">flipper_length_mm ≤ 0.379</text>\n<text text-anchor=\"start\" x=\"740.5\" y=\"-632.8\" font-family=\"Helvetica,sans-Serif\" font-size=\"14.00\">gini = 0.642</text>\n<text text-anchor=\"start\" x=\"731\" y=\"-617.8\" font-family=\"Helvetica,sans-Serif\" font-size=\"14.00\">samples = 233</text>\n<text text-anchor=\"start\" x=\"714\" y=\"-602.8\" font-family=\"Helvetica,sans-Serif\" font-size=\"14.00\">value = [100, 49, 84]</text>\n<text text-anchor=\"start\" x=\"749\" y=\"-587.8\" font-family=\"Helvetica,sans-Serif\" font-size=\"14.00\">class = s</text>\n</g>\n<!-- 1 -->\n<g id=\"node2\" class=\"node\">\n<title>1</title>\n<path fill=\"#f1bb94\" stroke=\"black\" d=\"M768,-544C768,-544 602,-544 602,-544 596,-544 590,-538 590,-532 590,-532 590,-473 590,-473 590,-467 596,-461 602,-461 602,-461 768,-461 768,-461 774,-461 780,-467 780,-473 780,-473 780,-532 780,-532 780,-538 774,-544 768,-544\"/>\n<text text-anchor=\"start\" x=\"598\" y=\"-528.8\" font-family=\"Helvetica,sans-Serif\" font-size=\"14.00\">culmen_length_mm ≤ &#45;0.157</text>\n<text text-anchor=\"start\" x=\"649.5\" y=\"-513.8\" font-family=\"Helvetica,sans-Serif\" font-size=\"14.00\">gini = 0.431</text>\n<text text-anchor=\"start\" x=\"640\" y=\"-498.8\" font-family=\"Helvetica,sans-Serif\" font-size=\"14.00\">samples = 143</text>\n<text text-anchor=\"start\" x=\"630.5\" y=\"-483.8\" font-family=\"Helvetica,sans-Serif\" font-size=\"14.00\">value = [98, 45, 0]</text>\n<text text-anchor=\"start\" x=\"658\" y=\"-468.8\" font-family=\"Helvetica,sans-Serif\" font-size=\"14.00\">class = s</text>\n</g>\n<!-- 0&#45;&gt;1 -->\n<g id=\"edge1\" class=\"edge\">\n<title>0&#45;&gt;1</title>\n<path fill=\"none\" stroke=\"black\" d=\"M744.43,-579.91C737.44,-570.92 729.97,-561.32 722.76,-552.05\"/>\n<polygon fill=\"black\" stroke=\"black\" points=\"725.42,-549.77 716.52,-544.02 719.89,-554.06 725.42,-549.77\"/>\n<text text-anchor=\"middle\" x=\"713.42\" y=\"-565.13\" font-family=\"Helvetica,sans-Serif\" font-size=\"14.00\">True</text>\n</g>\n<!-- 16 -->\n<g id=\"node17\" class=\"node\">\n<title>16</title>\n<path fill=\"#8a47e7\" stroke=\"black\" d=\"M962.5,-544C962.5,-544 869.5,-544 869.5,-544 863.5,-544 857.5,-538 857.5,-532 857.5,-532 857.5,-473 857.5,-473 857.5,-467 863.5,-461 869.5,-461 869.5,-461 962.5,-461 962.5,-461 968.5,-461 974.5,-467 974.5,-473 974.5,-473 974.5,-532 974.5,-532 974.5,-538 968.5,-544 962.5,-544\"/>\n<text text-anchor=\"start\" x=\"873.5\" y=\"-528.8\" font-family=\"Helvetica,sans-Serif\" font-size=\"14.00\">island ≤ 0.013</text>\n<text text-anchor=\"start\" x=\"880.5\" y=\"-513.8\" font-family=\"Helvetica,sans-Serif\" font-size=\"14.00\">gini = 0.126</text>\n<text text-anchor=\"start\" x=\"875\" y=\"-498.8\" font-family=\"Helvetica,sans-Serif\" font-size=\"14.00\">samples = 90</text>\n<text text-anchor=\"start\" x=\"865.5\" y=\"-483.8\" font-family=\"Helvetica,sans-Serif\" font-size=\"14.00\">value = [2, 4, 84]</text>\n<text text-anchor=\"start\" x=\"888.5\" y=\"-468.8\" font-family=\"Helvetica,sans-Serif\" font-size=\"14.00\">class = e</text>\n</g>\n<!-- 0&#45;&gt;16 -->\n<g id=\"edge16\" class=\"edge\">\n<title>0&#45;&gt;16</title>\n<path fill=\"none\" stroke=\"black\" d=\"M824.57,-579.91C835.87,-570.47 847.98,-560.34 859.58,-550.65\"/>\n<polygon fill=\"black\" stroke=\"black\" points=\"862.08,-553.12 867.51,-544.02 857.6,-547.75 862.08,-553.12\"/>\n<text text-anchor=\"middle\" x=\"865.29\" y=\"-565.22\" font-family=\"Helvetica,sans-Serif\" font-size=\"14.00\">False</text>\n</g>\n<!-- 2 -->\n<g id=\"node3\" class=\"node\">\n<title>2</title>\n<path fill=\"#e68641\" stroke=\"black\" d=\"M532,-425C532,-425 366,-425 366,-425 360,-425 354,-419 354,-413 354,-413 354,-354 354,-354 354,-348 360,-342 366,-342 366,-342 532,-342 532,-342 538,-342 544,-348 544,-354 544,-354 544,-413 544,-413 544,-419 538,-425 532,-425\"/>\n<text text-anchor=\"start\" x=\"362\" y=\"-409.8\" font-family=\"Helvetica,sans-Serif\" font-size=\"14.00\">culmen_length_mm ≤ &#45;0.351</text>\n<text text-anchor=\"start\" x=\"413.5\" y=\"-394.8\" font-family=\"Helvetica,sans-Serif\" font-size=\"14.00\">gini = 0.078</text>\n<text text-anchor=\"start\" x=\"408\" y=\"-379.8\" font-family=\"Helvetica,sans-Serif\" font-size=\"14.00\">samples = 98</text>\n<text text-anchor=\"start\" x=\"398.5\" y=\"-364.8\" font-family=\"Helvetica,sans-Serif\" font-size=\"14.00\">value = [94, 4, 0]</text>\n<text text-anchor=\"start\" x=\"422\" y=\"-349.8\" font-family=\"Helvetica,sans-Serif\" font-size=\"14.00\">class = s</text>\n</g>\n<!-- 1&#45;&gt;2 -->\n<g id=\"edge2\" class=\"edge\">\n<title>1&#45;&gt;2</title>\n<path fill=\"none\" stroke=\"black\" d=\"M603.12,-460.91C582.71,-450.79 560.7,-439.88 539.89,-429.56\"/>\n<polygon fill=\"black\" stroke=\"black\" points=\"541.25,-426.33 530.73,-425.02 538.14,-432.6 541.25,-426.33\"/>\n</g>\n<!-- 11 -->\n<g id=\"node12\" class=\"node\">\n<title>11</title>\n<path fill=\"#4ce88d\" stroke=\"black\" d=\"M746.5,-425C746.5,-425 623.5,-425 623.5,-425 617.5,-425 611.5,-419 611.5,-413 611.5,-413 611.5,-354 611.5,-354 611.5,-348 617.5,-342 623.5,-342 623.5,-342 746.5,-342 746.5,-342 752.5,-342 758.5,-348 758.5,-354 758.5,-354 758.5,-413 758.5,-413 758.5,-419 752.5,-425 746.5,-425\"/>\n<text text-anchor=\"start\" x=\"619.5\" y=\"-409.8\" font-family=\"Helvetica,sans-Serif\" font-size=\"14.00\">body_mass_g ≤ &#45;0.11</text>\n<text text-anchor=\"start\" x=\"649.5\" y=\"-394.8\" font-family=\"Helvetica,sans-Serif\" font-size=\"14.00\">gini = 0.162</text>\n<text text-anchor=\"start\" x=\"644\" y=\"-379.8\" font-family=\"Helvetica,sans-Serif\" font-size=\"14.00\">samples = 45</text>\n<text text-anchor=\"start\" x=\"634.5\" y=\"-364.8\" font-family=\"Helvetica,sans-Serif\" font-size=\"14.00\">value = [4, 41, 0]</text>\n<text text-anchor=\"start\" x=\"657.5\" y=\"-349.8\" font-family=\"Helvetica,sans-Serif\" font-size=\"14.00\">class = p</text>\n</g>\n<!-- 1&#45;&gt;11 -->\n<g id=\"edge11\" class=\"edge\">\n<title>1&#45;&gt;11</title>\n<path fill=\"none\" stroke=\"black\" d=\"M685,-460.91C685,-452.65 685,-443.86 685,-435.3\"/>\n<polygon fill=\"black\" stroke=\"black\" points=\"688.5,-435.02 685,-425.02 681.5,-435.02 688.5,-435.02\"/>\n</g>\n<!-- 3 -->\n<g id=\"node4\" class=\"node\">\n<title>3</title>\n<path fill=\"#e5823b\" stroke=\"black\" d=\"M363.5,-306C363.5,-306 200.5,-306 200.5,-306 194.5,-306 188.5,-300 188.5,-294 188.5,-294 188.5,-235 188.5,-235 188.5,-229 194.5,-223 200.5,-223 200.5,-223 363.5,-223 363.5,-223 369.5,-223 375.5,-229 375.5,-235 375.5,-235 375.5,-294 375.5,-294 375.5,-300 369.5,-306 363.5,-306\"/>\n<text text-anchor=\"start\" x=\"196.5\" y=\"-290.8\" font-family=\"Helvetica,sans-Serif\" font-size=\"14.00\">culmen_depth_mm ≤ &#45;0.284</text>\n<text text-anchor=\"start\" x=\"246.5\" y=\"-275.8\" font-family=\"Helvetica,sans-Serif\" font-size=\"14.00\">gini = 0.022</text>\n<text text-anchor=\"start\" x=\"241\" y=\"-260.8\" font-family=\"Helvetica,sans-Serif\" font-size=\"14.00\">samples = 91</text>\n<text text-anchor=\"start\" x=\"231.5\" y=\"-245.8\" font-family=\"Helvetica,sans-Serif\" font-size=\"14.00\">value = [90, 1, 0]</text>\n<text text-anchor=\"start\" x=\"255\" y=\"-230.8\" font-family=\"Helvetica,sans-Serif\" font-size=\"14.00\">class = s</text>\n</g>\n<!-- 2&#45;&gt;3 -->\n<g id=\"edge3\" class=\"edge\">\n<title>2&#45;&gt;3</title>\n<path fill=\"none\" stroke=\"black\" d=\"M391.06,-341.91C377.2,-332.2 362.3,-321.76 348.1,-311.81\"/>\n<polygon fill=\"black\" stroke=\"black\" points=\"350.04,-308.89 339.84,-306.02 346.02,-314.63 350.04,-308.89\"/>\n</g>\n<!-- 8 -->\n<g id=\"node9\" class=\"node\">\n<title>8</title>\n<path fill=\"#f8e0ce\" stroke=\"black\" d=\"M492,-306C492,-306 406,-306 406,-306 400,-306 394,-300 394,-294 394,-294 394,-235 394,-235 394,-229 400,-223 406,-223 406,-223 492,-223 492,-223 498,-223 504,-229 504,-235 504,-235 504,-294 504,-294 504,-300 498,-306 492,-306\"/>\n<text text-anchor=\"start\" x=\"415.5\" y=\"-290.8\" font-family=\"Helvetica,sans-Serif\" font-size=\"14.00\">sex ≤ &#45;0.03</text>\n<text text-anchor=\"start\" x=\"417\" y=\"-275.8\" font-family=\"Helvetica,sans-Serif\" font-size=\"14.00\">gini = 0.49</text>\n<text text-anchor=\"start\" x=\"411.5\" y=\"-260.8\" font-family=\"Helvetica,sans-Serif\" font-size=\"14.00\">samples = 7</text>\n<text text-anchor=\"start\" x=\"402\" y=\"-245.8\" font-family=\"Helvetica,sans-Serif\" font-size=\"14.00\">value = [4, 3, 0]</text>\n<text text-anchor=\"start\" x=\"422\" y=\"-230.8\" font-family=\"Helvetica,sans-Serif\" font-size=\"14.00\">class = s</text>\n</g>\n<!-- 2&#45;&gt;8 -->\n<g id=\"edge8\" class=\"edge\">\n<title>2&#45;&gt;8</title>\n<path fill=\"none\" stroke=\"black\" d=\"M449,-341.91C449,-333.65 449,-324.86 449,-316.3\"/>\n<polygon fill=\"black\" stroke=\"black\" points=\"452.5,-316.02 449,-306.02 445.5,-316.02 452.5,-316.02\"/>\n</g>\n<!-- 4 -->\n<g id=\"node5\" class=\"node\">\n<title>4</title>\n<path fill=\"#ea9a61\" stroke=\"black\" d=\"M202,-187C202,-187 36,-187 36,-187 30,-187 24,-181 24,-175 24,-175 24,-116 24,-116 24,-110 30,-104 36,-104 36,-104 202,-104 202,-104 208,-104 214,-110 214,-116 214,-116 214,-175 214,-175 214,-181 208,-187 202,-187\"/>\n<text text-anchor=\"start\" x=\"32\" y=\"-171.8\" font-family=\"Helvetica,sans-Serif\" font-size=\"14.00\">culmen_length_mm ≤ &#45;0.869</text>\n<text text-anchor=\"start\" x=\"83.5\" y=\"-156.8\" font-family=\"Helvetica,sans-Serif\" font-size=\"14.00\">gini = 0.278</text>\n<text text-anchor=\"start\" x=\"81.5\" y=\"-141.8\" font-family=\"Helvetica,sans-Serif\" font-size=\"14.00\">samples = 6</text>\n<text text-anchor=\"start\" x=\"72\" y=\"-126.8\" font-family=\"Helvetica,sans-Serif\" font-size=\"14.00\">value = [5, 1, 0]</text>\n<text text-anchor=\"start\" x=\"92\" y=\"-111.8\" font-family=\"Helvetica,sans-Serif\" font-size=\"14.00\">class = s</text>\n</g>\n<!-- 3&#45;&gt;4 -->\n<g id=\"edge4\" class=\"edge\">\n<title>3&#45;&gt;4</title>\n<path fill=\"none\" stroke=\"black\" d=\"M225.45,-222.91C212.05,-213.29 197.65,-202.95 183.91,-193.09\"/>\n<polygon fill=\"black\" stroke=\"black\" points=\"185.62,-190.01 175.45,-187.02 181.53,-195.7 185.62,-190.01\"/>\n</g>\n<!-- 7 -->\n<g id=\"node8\" class=\"node\">\n<title>7</title>\n<path fill=\"#e58139\" stroke=\"black\" d=\"M337.5,-179.5C337.5,-179.5 244.5,-179.5 244.5,-179.5 238.5,-179.5 232.5,-173.5 232.5,-167.5 232.5,-167.5 232.5,-123.5 232.5,-123.5 232.5,-117.5 238.5,-111.5 244.5,-111.5 244.5,-111.5 337.5,-111.5 337.5,-111.5 343.5,-111.5 349.5,-117.5 349.5,-123.5 349.5,-123.5 349.5,-167.5 349.5,-167.5 349.5,-173.5 343.5,-179.5 337.5,-179.5\"/>\n<text text-anchor=\"start\" x=\"263\" y=\"-164.3\" font-family=\"Helvetica,sans-Serif\" font-size=\"14.00\">gini = 0.0</text>\n<text text-anchor=\"start\" x=\"250\" y=\"-149.3\" font-family=\"Helvetica,sans-Serif\" font-size=\"14.00\">samples = 85</text>\n<text text-anchor=\"start\" x=\"240.5\" y=\"-134.3\" font-family=\"Helvetica,sans-Serif\" font-size=\"14.00\">value = [85, 0, 0]</text>\n<text text-anchor=\"start\" x=\"264\" y=\"-119.3\" font-family=\"Helvetica,sans-Serif\" font-size=\"14.00\">class = s</text>\n</g>\n<!-- 3&#45;&gt;7 -->\n<g id=\"edge7\" class=\"edge\">\n<title>3&#45;&gt;7</title>\n<path fill=\"none\" stroke=\"black\" d=\"M285.12,-222.91C285.95,-212.2 286.84,-200.62 287.67,-189.78\"/>\n<polygon fill=\"black\" stroke=\"black\" points=\"291.17,-189.91 288.45,-179.67 284.19,-189.37 291.17,-189.91\"/>\n</g>\n<!-- 5 -->\n<g id=\"node6\" class=\"node\">\n<title>5</title>\n<path fill=\"#e58139\" stroke=\"black\" d=\"M98,-68C98,-68 12,-68 12,-68 6,-68 0,-62 0,-56 0,-56 0,-12 0,-12 0,-6 6,0 12,0 12,0 98,0 98,0 104,0 110,-6 110,-12 110,-12 110,-56 110,-56 110,-62 104,-68 98,-68\"/>\n<text text-anchor=\"start\" x=\"27\" y=\"-52.8\" font-family=\"Helvetica,sans-Serif\" font-size=\"14.00\">gini = 0.0</text>\n<text text-anchor=\"start\" x=\"17.5\" y=\"-37.8\" font-family=\"Helvetica,sans-Serif\" font-size=\"14.00\">samples = 5</text>\n<text text-anchor=\"start\" x=\"8\" y=\"-22.8\" font-family=\"Helvetica,sans-Serif\" font-size=\"14.00\">value = [5, 0, 0]</text>\n<text text-anchor=\"start\" x=\"28\" y=\"-7.8\" font-family=\"Helvetica,sans-Serif\" font-size=\"14.00\">class = s</text>\n</g>\n<!-- 4&#45;&gt;5 -->\n<g id=\"edge5\" class=\"edge\">\n<title>4&#45;&gt;5</title>\n<path fill=\"none\" stroke=\"black\" d=\"M95.17,-103.73C90.1,-95.06 84.75,-85.9 79.65,-77.18\"/>\n<polygon fill=\"black\" stroke=\"black\" points=\"82.53,-75.17 74.46,-68.3 76.49,-78.7 82.53,-75.17\"/>\n</g>\n<!-- 6 -->\n<g id=\"node7\" class=\"node\">\n<title>6</title>\n<path fill=\"#39e581\" stroke=\"black\" d=\"M226,-68C226,-68 140,-68 140,-68 134,-68 128,-62 128,-56 128,-56 128,-12 128,-12 128,-6 134,0 140,0 140,0 226,0 226,0 232,0 238,-6 238,-12 238,-12 238,-56 238,-56 238,-62 232,-68 226,-68\"/>\n<text text-anchor=\"start\" x=\"155\" y=\"-52.8\" font-family=\"Helvetica,sans-Serif\" font-size=\"14.00\">gini = 0.0</text>\n<text text-anchor=\"start\" x=\"145.5\" y=\"-37.8\" font-family=\"Helvetica,sans-Serif\" font-size=\"14.00\">samples = 1</text>\n<text text-anchor=\"start\" x=\"136\" y=\"-22.8\" font-family=\"Helvetica,sans-Serif\" font-size=\"14.00\">value = [0, 1, 0]</text>\n<text text-anchor=\"start\" x=\"155.5\" y=\"-7.8\" font-family=\"Helvetica,sans-Serif\" font-size=\"14.00\">class = p</text>\n</g>\n<!-- 4&#45;&gt;6 -->\n<g id=\"edge6\" class=\"edge\">\n<title>4&#45;&gt;6</title>\n<path fill=\"none\" stroke=\"black\" d=\"M142.83,-103.73C147.9,-95.06 153.25,-85.9 158.35,-77.18\"/>\n<polygon fill=\"black\" stroke=\"black\" points=\"161.51,-78.7 163.54,-68.3 155.47,-75.17 161.51,-78.7\"/>\n</g>\n<!-- 9 -->\n<g id=\"node10\" class=\"node\">\n<title>9</title>\n<path fill=\"#39e581\" stroke=\"black\" d=\"M483,-179.5C483,-179.5 397,-179.5 397,-179.5 391,-179.5 385,-173.5 385,-167.5 385,-167.5 385,-123.5 385,-123.5 385,-117.5 391,-111.5 397,-111.5 397,-111.5 483,-111.5 483,-111.5 489,-111.5 495,-117.5 495,-123.5 495,-123.5 495,-167.5 495,-167.5 495,-173.5 489,-179.5 483,-179.5\"/>\n<text text-anchor=\"start\" x=\"412\" y=\"-164.3\" font-family=\"Helvetica,sans-Serif\" font-size=\"14.00\">gini = 0.0</text>\n<text text-anchor=\"start\" x=\"402.5\" y=\"-149.3\" font-family=\"Helvetica,sans-Serif\" font-size=\"14.00\">samples = 3</text>\n<text text-anchor=\"start\" x=\"393\" y=\"-134.3\" font-family=\"Helvetica,sans-Serif\" font-size=\"14.00\">value = [0, 3, 0]</text>\n<text text-anchor=\"start\" x=\"412.5\" y=\"-119.3\" font-family=\"Helvetica,sans-Serif\" font-size=\"14.00\">class = p</text>\n</g>\n<!-- 8&#45;&gt;9 -->\n<g id=\"edge9\" class=\"edge\">\n<title>8&#45;&gt;9</title>\n<path fill=\"none\" stroke=\"black\" d=\"M445.88,-222.91C445.05,-212.2 444.16,-200.62 443.33,-189.78\"/>\n<polygon fill=\"black\" stroke=\"black\" points=\"446.81,-189.37 442.55,-179.67 439.83,-189.91 446.81,-189.37\"/>\n</g>\n<!-- 10 -->\n<g id=\"node11\" class=\"node\">\n<title>10</title>\n<path fill=\"#e58139\" stroke=\"black\" d=\"M611,-179.5C611,-179.5 525,-179.5 525,-179.5 519,-179.5 513,-173.5 513,-167.5 513,-167.5 513,-123.5 513,-123.5 513,-117.5 519,-111.5 525,-111.5 525,-111.5 611,-111.5 611,-111.5 617,-111.5 623,-117.5 623,-123.5 623,-123.5 623,-167.5 623,-167.5 623,-173.5 617,-179.5 611,-179.5\"/>\n<text text-anchor=\"start\" x=\"540\" y=\"-164.3\" font-family=\"Helvetica,sans-Serif\" font-size=\"14.00\">gini = 0.0</text>\n<text text-anchor=\"start\" x=\"530.5\" y=\"-149.3\" font-family=\"Helvetica,sans-Serif\" font-size=\"14.00\">samples = 4</text>\n<text text-anchor=\"start\" x=\"521\" y=\"-134.3\" font-family=\"Helvetica,sans-Serif\" font-size=\"14.00\">value = [4, 0, 0]</text>\n<text text-anchor=\"start\" x=\"541\" y=\"-119.3\" font-family=\"Helvetica,sans-Serif\" font-size=\"14.00\">class = s</text>\n</g>\n<!-- 8&#45;&gt;10 -->\n<g id=\"edge10\" class=\"edge\">\n<title>8&#45;&gt;10</title>\n<path fill=\"none\" stroke=\"black\" d=\"M490.29,-222.91C502.18,-211.21 515.15,-198.46 527.03,-186.78\"/>\n<polygon fill=\"black\" stroke=\"black\" points=\"529.59,-189.17 534.27,-179.67 524.68,-184.18 529.59,-189.17\"/>\n</g>\n<!-- 12 -->\n<g id=\"node13\" class=\"node\">\n<title>12</title>\n<path fill=\"#39e581\" stroke=\"black\" d=\"M627.5,-298.5C627.5,-298.5 534.5,-298.5 534.5,-298.5 528.5,-298.5 522.5,-292.5 522.5,-286.5 522.5,-286.5 522.5,-242.5 522.5,-242.5 522.5,-236.5 528.5,-230.5 534.5,-230.5 534.5,-230.5 627.5,-230.5 627.5,-230.5 633.5,-230.5 639.5,-236.5 639.5,-242.5 639.5,-242.5 639.5,-286.5 639.5,-286.5 639.5,-292.5 633.5,-298.5 627.5,-298.5\"/>\n<text text-anchor=\"start\" x=\"553\" y=\"-283.3\" font-family=\"Helvetica,sans-Serif\" font-size=\"14.00\">gini = 0.0</text>\n<text text-anchor=\"start\" x=\"540\" y=\"-268.3\" font-family=\"Helvetica,sans-Serif\" font-size=\"14.00\">samples = 36</text>\n<text text-anchor=\"start\" x=\"530.5\" y=\"-253.3\" font-family=\"Helvetica,sans-Serif\" font-size=\"14.00\">value = [0, 36, 0]</text>\n<text text-anchor=\"start\" x=\"553.5\" y=\"-238.3\" font-family=\"Helvetica,sans-Serif\" font-size=\"14.00\">class = p</text>\n</g>\n<!-- 11&#45;&gt;12 -->\n<g id=\"edge12\" class=\"edge\">\n<title>11&#45;&gt;12</title>\n<path fill=\"none\" stroke=\"black\" d=\"M648.92,-341.91C638.72,-330.43 627.61,-317.94 617.39,-306.44\"/>\n<polygon fill=\"black\" stroke=\"black\" points=\"619.74,-303.82 610.48,-298.67 614.51,-308.47 619.74,-303.82\"/>\n</g>\n<!-- 13 -->\n<g id=\"node14\" class=\"node\">\n<title>13</title>\n<path fill=\"#d7fae6\" stroke=\"black\" d=\"M830.5,-306C830.5,-306 669.5,-306 669.5,-306 663.5,-306 657.5,-300 657.5,-294 657.5,-294 657.5,-235 657.5,-235 657.5,-229 663.5,-223 669.5,-223 669.5,-223 830.5,-223 830.5,-223 836.5,-223 842.5,-229 842.5,-235 842.5,-235 842.5,-294 842.5,-294 842.5,-300 836.5,-306 830.5,-306\"/>\n<text text-anchor=\"start\" x=\"665.5\" y=\"-290.8\" font-family=\"Helvetica,sans-Serif\" font-size=\"14.00\">culmen_length_mm ≤ 0.629</text>\n<text text-anchor=\"start\" x=\"714.5\" y=\"-275.8\" font-family=\"Helvetica,sans-Serif\" font-size=\"14.00\">gini = 0.494</text>\n<text text-anchor=\"start\" x=\"712.5\" y=\"-260.8\" font-family=\"Helvetica,sans-Serif\" font-size=\"14.00\">samples = 9</text>\n<text text-anchor=\"start\" x=\"703\" y=\"-245.8\" font-family=\"Helvetica,sans-Serif\" font-size=\"14.00\">value = [4, 5, 0]</text>\n<text text-anchor=\"start\" x=\"722.5\" y=\"-230.8\" font-family=\"Helvetica,sans-Serif\" font-size=\"14.00\">class = p</text>\n</g>\n<!-- 11&#45;&gt;13 -->\n<g id=\"edge13\" class=\"edge\">\n<title>11&#45;&gt;13</title>\n<path fill=\"none\" stroke=\"black\" d=\"M707.55,-341.91C712.39,-333.2 717.56,-323.9 722.56,-314.89\"/>\n<polygon fill=\"black\" stroke=\"black\" points=\"725.69,-316.46 727.49,-306.02 719.57,-313.06 725.69,-316.46\"/>\n</g>\n<!-- 14 -->\n<g id=\"node15\" class=\"node\">\n<title>14</title>\n<path fill=\"#e58139\" stroke=\"black\" d=\"M766,-179.5C766,-179.5 680,-179.5 680,-179.5 674,-179.5 668,-173.5 668,-167.5 668,-167.5 668,-123.5 668,-123.5 668,-117.5 674,-111.5 680,-111.5 680,-111.5 766,-111.5 766,-111.5 772,-111.5 778,-117.5 778,-123.5 778,-123.5 778,-167.5 778,-167.5 778,-173.5 772,-179.5 766,-179.5\"/>\n<text text-anchor=\"start\" x=\"695\" y=\"-164.3\" font-family=\"Helvetica,sans-Serif\" font-size=\"14.00\">gini = 0.0</text>\n<text text-anchor=\"start\" x=\"685.5\" y=\"-149.3\" font-family=\"Helvetica,sans-Serif\" font-size=\"14.00\">samples = 4</text>\n<text text-anchor=\"start\" x=\"676\" y=\"-134.3\" font-family=\"Helvetica,sans-Serif\" font-size=\"14.00\">value = [4, 0, 0]</text>\n<text text-anchor=\"start\" x=\"696\" y=\"-119.3\" font-family=\"Helvetica,sans-Serif\" font-size=\"14.00\">class = s</text>\n</g>\n<!-- 13&#45;&gt;14 -->\n<g id=\"edge14\" class=\"edge\">\n<title>13&#45;&gt;14</title>\n<path fill=\"none\" stroke=\"black\" d=\"M740.63,-222.91C738.14,-212.09 735.43,-200.38 732.91,-189.44\"/>\n<polygon fill=\"black\" stroke=\"black\" points=\"736.31,-188.62 730.65,-179.67 729.49,-190.2 736.31,-188.62\"/>\n</g>\n<!-- 15 -->\n<g id=\"node16\" class=\"node\">\n<title>15</title>\n<path fill=\"#39e581\" stroke=\"black\" d=\"M894,-179.5C894,-179.5 808,-179.5 808,-179.5 802,-179.5 796,-173.5 796,-167.5 796,-167.5 796,-123.5 796,-123.5 796,-117.5 802,-111.5 808,-111.5 808,-111.5 894,-111.5 894,-111.5 900,-111.5 906,-117.5 906,-123.5 906,-123.5 906,-167.5 906,-167.5 906,-173.5 900,-179.5 894,-179.5\"/>\n<text text-anchor=\"start\" x=\"823\" y=\"-164.3\" font-family=\"Helvetica,sans-Serif\" font-size=\"14.00\">gini = 0.0</text>\n<text text-anchor=\"start\" x=\"813.5\" y=\"-149.3\" font-family=\"Helvetica,sans-Serif\" font-size=\"14.00\">samples = 5</text>\n<text text-anchor=\"start\" x=\"804\" y=\"-134.3\" font-family=\"Helvetica,sans-Serif\" font-size=\"14.00\">value = [0, 5, 0]</text>\n<text text-anchor=\"start\" x=\"823.5\" y=\"-119.3\" font-family=\"Helvetica,sans-Serif\" font-size=\"14.00\">class = p</text>\n</g>\n<!-- 13&#45;&gt;15 -->\n<g id=\"edge15\" class=\"edge\">\n<title>13&#45;&gt;15</title>\n<path fill=\"none\" stroke=\"black\" d=\"M785.04,-222.91C794.95,-211.43 805.73,-198.94 815.66,-187.44\"/>\n<polygon fill=\"black\" stroke=\"black\" points=\"818.48,-189.52 822.37,-179.67 813.18,-184.95 818.48,-189.52\"/>\n</g>\n<!-- 17 -->\n<g id=\"node18\" class=\"node\">\n<title>17</title>\n<path fill=\"#9cf2c0\" stroke=\"black\" d=\"M995,-425C995,-425 837,-425 837,-425 831,-425 825,-419 825,-413 825,-413 825,-354 825,-354 825,-348 831,-342 837,-342 837,-342 995,-342 995,-342 1001,-342 1007,-348 1007,-354 1007,-354 1007,-413 1007,-413 1007,-419 1001,-425 995,-425\"/>\n<text text-anchor=\"start\" x=\"833\" y=\"-409.8\" font-family=\"Helvetica,sans-Serif\" font-size=\"14.00\">culmen_depth_mm ≤ 0.899</text>\n<text text-anchor=\"start\" x=\"880.5\" y=\"-394.8\" font-family=\"Helvetica,sans-Serif\" font-size=\"14.00\">gini = 0.444</text>\n<text text-anchor=\"start\" x=\"878.5\" y=\"-379.8\" font-family=\"Helvetica,sans-Serif\" font-size=\"14.00\">samples = 6</text>\n<text text-anchor=\"start\" x=\"869\" y=\"-364.8\" font-family=\"Helvetica,sans-Serif\" font-size=\"14.00\">value = [2, 4, 0]</text>\n<text text-anchor=\"start\" x=\"888.5\" y=\"-349.8\" font-family=\"Helvetica,sans-Serif\" font-size=\"14.00\">class = p</text>\n</g>\n<!-- 16&#45;&gt;17 -->\n<g id=\"edge17\" class=\"edge\">\n<title>16&#45;&gt;17</title>\n<path fill=\"none\" stroke=\"black\" d=\"M916,-460.91C916,-452.65 916,-443.86 916,-435.3\"/>\n<polygon fill=\"black\" stroke=\"black\" points=\"919.5,-435.02 916,-425.02 912.5,-435.02 919.5,-435.02\"/>\n</g>\n<!-- 20 -->\n<g id=\"node21\" class=\"node\">\n<title>20</title>\n<path fill=\"#8139e5\" stroke=\"black\" d=\"M1130.5,-417.5C1130.5,-417.5 1037.5,-417.5 1037.5,-417.5 1031.5,-417.5 1025.5,-411.5 1025.5,-405.5 1025.5,-405.5 1025.5,-361.5 1025.5,-361.5 1025.5,-355.5 1031.5,-349.5 1037.5,-349.5 1037.5,-349.5 1130.5,-349.5 1130.5,-349.5 1136.5,-349.5 1142.5,-355.5 1142.5,-361.5 1142.5,-361.5 1142.5,-405.5 1142.5,-405.5 1142.5,-411.5 1136.5,-417.5 1130.5,-417.5\"/>\n<text text-anchor=\"start\" x=\"1056\" y=\"-402.3\" font-family=\"Helvetica,sans-Serif\" font-size=\"14.00\">gini = 0.0</text>\n<text text-anchor=\"start\" x=\"1043\" y=\"-387.3\" font-family=\"Helvetica,sans-Serif\" font-size=\"14.00\">samples = 84</text>\n<text text-anchor=\"start\" x=\"1033.5\" y=\"-372.3\" font-family=\"Helvetica,sans-Serif\" font-size=\"14.00\">value = [0, 0, 84]</text>\n<text text-anchor=\"start\" x=\"1056.5\" y=\"-357.3\" font-family=\"Helvetica,sans-Serif\" font-size=\"14.00\">class = e</text>\n</g>\n<!-- 16&#45;&gt;20 -->\n<g id=\"edge20\" class=\"edge\">\n<title>16&#45;&gt;20</title>\n<path fill=\"none\" stroke=\"black\" d=\"M974.29,-460.91C991.72,-448.77 1010.78,-435.49 1028.05,-423.46\"/>\n<polygon fill=\"black\" stroke=\"black\" points=\"1030.17,-426.25 1036.38,-417.67 1026.17,-420.51 1030.17,-426.25\"/>\n</g>\n<!-- 18 -->\n<g id=\"node19\" class=\"node\">\n<title>18</title>\n<path fill=\"#e58139\" stroke=\"black\" d=\"M959,-298.5C959,-298.5 873,-298.5 873,-298.5 867,-298.5 861,-292.5 861,-286.5 861,-286.5 861,-242.5 861,-242.5 861,-236.5 867,-230.5 873,-230.5 873,-230.5 959,-230.5 959,-230.5 965,-230.5 971,-236.5 971,-242.5 971,-242.5 971,-286.5 971,-286.5 971,-292.5 965,-298.5 959,-298.5\"/>\n<text text-anchor=\"start\" x=\"888\" y=\"-283.3\" font-family=\"Helvetica,sans-Serif\" font-size=\"14.00\">gini = 0.0</text>\n<text text-anchor=\"start\" x=\"878.5\" y=\"-268.3\" font-family=\"Helvetica,sans-Serif\" font-size=\"14.00\">samples = 2</text>\n<text text-anchor=\"start\" x=\"869\" y=\"-253.3\" font-family=\"Helvetica,sans-Serif\" font-size=\"14.00\">value = [2, 0, 0]</text>\n<text text-anchor=\"start\" x=\"889\" y=\"-238.3\" font-family=\"Helvetica,sans-Serif\" font-size=\"14.00\">class = s</text>\n</g>\n<!-- 17&#45;&gt;18 -->\n<g id=\"edge18\" class=\"edge\">\n<title>17&#45;&gt;18</title>\n<path fill=\"none\" stroke=\"black\" d=\"M916,-341.91C916,-331.2 916,-319.62 916,-308.78\"/>\n<polygon fill=\"black\" stroke=\"black\" points=\"919.5,-308.67 916,-298.67 912.5,-308.67 919.5,-308.67\"/>\n</g>\n<!-- 19 -->\n<g id=\"node20\" class=\"node\">\n<title>19</title>\n<path fill=\"#39e581\" stroke=\"black\" d=\"M1087,-298.5C1087,-298.5 1001,-298.5 1001,-298.5 995,-298.5 989,-292.5 989,-286.5 989,-286.5 989,-242.5 989,-242.5 989,-236.5 995,-230.5 1001,-230.5 1001,-230.5 1087,-230.5 1087,-230.5 1093,-230.5 1099,-236.5 1099,-242.5 1099,-242.5 1099,-286.5 1099,-286.5 1099,-292.5 1093,-298.5 1087,-298.5\"/>\n<text text-anchor=\"start\" x=\"1016\" y=\"-283.3\" font-family=\"Helvetica,sans-Serif\" font-size=\"14.00\">gini = 0.0</text>\n<text text-anchor=\"start\" x=\"1006.5\" y=\"-268.3\" font-family=\"Helvetica,sans-Serif\" font-size=\"14.00\">samples = 4</text>\n<text text-anchor=\"start\" x=\"997\" y=\"-253.3\" font-family=\"Helvetica,sans-Serif\" font-size=\"14.00\">value = [0, 4, 0]</text>\n<text text-anchor=\"start\" x=\"1016.5\" y=\"-238.3\" font-family=\"Helvetica,sans-Serif\" font-size=\"14.00\">class = p</text>\n</g>\n<!-- 17&#45;&gt;19 -->\n<g id=\"edge19\" class=\"edge\">\n<title>17&#45;&gt;19</title>\n<path fill=\"none\" stroke=\"black\" d=\"M960.41,-341.91C973.33,-330.1 987.42,-317.22 1000.29,-305.45\"/>\n<polygon fill=\"black\" stroke=\"black\" points=\"1002.7,-308 1007.71,-298.67 997.97,-302.83 1002.7,-308\"/>\n</g>\n</g>\n</svg>\n",
            "text/plain": [
              "<graphviz.sources.Source at 0x78d4b511be20>"
            ]
          },
          "metadata": {},
          "execution_count": 43
        }
      ]
    },
    {
      "cell_type": "code",
      "source": [
        "# print to the output file\n",
        "print('**************************************************************', file = outputFile)\n",
        "print('(A) Classifier 1 - Base DT', file = outputFile)\n",
        "print(classifier_1, file = outputFile)\n",
        "print('\\n', file = outputFile)"
      ],
      "metadata": {
        "id": "OYDP9qI641PW"
      },
      "execution_count": 44,
      "outputs": []
    },
    {
      "cell_type": "code",
      "source": [
        "# print classification report\n",
        "y_pred = classifier_1.predict(X_test)\n",
        "confusion_mat = confusion_matrix(y_test, y_pred)\n",
        "\n",
        "print(classification_report(y_test, y_pred, target_names=['Adelie', 'Chinstrap', 'Gentoo']))\n",
        "print(\"confusion matrix\\n\",confusion_mat)\n",
        "\n",
        "# print the result to the output file\n",
        "confusion_matrix_result =np.array2string(confusion_mat)\n",
        "print(\"(B) Confusion Matrix\", file = outputFile)\n",
        "print(confusion_matrix_result, file = outputFile)\n",
        "print('\\n', file = outputFile)\n",
        "print(\"(C,D) Classification Report\", file = outputFile)\n",
        "print(classification_report(y_test, y_pred, target_names = ['Adelie', 'Gentoo', 'Chinstap']), file = outputFile)\n",
        "outputFile.flush()"
      ],
      "metadata": {
        "colab": {
          "base_uri": "https://localhost:8080/"
        },
        "id": "o-9zdG295Uzs",
        "outputId": "e10c4a4d-b4e5-4a27-d48f-3c8cceb7505a"
      },
      "execution_count": 45,
      "outputs": [
        {
          "output_type": "stream",
          "name": "stdout",
          "text": [
            "              precision    recall  f1-score   support\n",
            "\n",
            "      Adelie       0.98      1.00      0.99        46\n",
            "   Chinstrap       0.95      0.95      0.95        19\n",
            "      Gentoo       1.00      0.97      0.99        35\n",
            "\n",
            "    accuracy                           0.98       100\n",
            "   macro avg       0.98      0.97      0.97       100\n",
            "weighted avg       0.98      0.98      0.98       100\n",
            "\n",
            "confusion matrix\n",
            " [[46  0  0]\n",
            " [ 1 18  0]\n",
            " [ 0  1 34]]\n"
          ]
        }
      ]
    },
    {
      "cell_type": "code",
      "source": [
        "# repeat training & prediction 5 times for classifier 1\n",
        "from sklearn.metrics import accuracy_score, f1_score\n",
        "\n",
        "accuracy_baseDT = np.zeros(5)\n",
        "macro_avg_baseDT = np.zeros(5)\n",
        "weighted_avg_baseDT = np.zeros(5)\n",
        "\n",
        "for i in range(5):\n",
        "  X_train, X_test, y_train, y_test = train_test_split(X, y, test_size = 0.3)\n",
        "  classifier_1.fit(X_train, y_train)\n",
        "  y_pred = classifier_1.predict(X_test)\n",
        "\n",
        "  # find the accuracy for each iteration and store the value\n",
        "  accuracy_baseDT[i] = accuracy_score(y_test, y_pred)\n",
        "  macro_avg_baseDT[i] = f1_score(y_test, y_pred, average='macro')\n",
        "  weighted_avg_baseDT[i] = f1_score(y_test, y_pred, average='weighted')\n",
        "\n",
        "# compute the average accuracy & variances\n",
        "print(f'accuracy_baseDT: {accuracy_baseDT}')\n",
        "Avg_accuracy = (np.sum(accuracy_baseDT))/5\n",
        "accuracy_variance = np.var(accuracy_baseDT)\n",
        "print(f'average accuracy: {Avg_accuracy}, variance: {accuracy_variance}')\n",
        "\n",
        "# compute the average macro-average F1 & the variance\n",
        "print(f'macro_avg_baseDT: {macro_avg_baseDT}')\n",
        "Avg_macro_avg = (np.sum(macro_avg_baseDT))/5\n",
        "f1_macro_variance = np.var(macro_avg_baseDT)\n",
        "print(f'average macro-average F1: {Avg_macro_avg}, variance: {f1_macro_variance}')\n",
        "\n",
        "# compute the average weighted-average F1 & the variance\n",
        "print(f'weighted_avg_baseDT: {weighted_avg_baseDT}')\n",
        "Avg_weighted_avg = (np.sum(weighted_avg_baseDT))/5\n",
        "f1_weighted_variance = np.var(weighted_avg_baseDT)\n",
        "print(f'average weighted-average F1: {Avg_weighted_avg}, variance: {f1_weighted_variance}')"
      ],
      "metadata": {
        "id": "kSCBBBuHJcjz",
        "outputId": "169f1bac-c6ad-4617-b68e-0d9471c28b75",
        "colab": {
          "base_uri": "https://localhost:8080/"
        }
      },
      "execution_count": 47,
      "outputs": [
        {
          "output_type": "stream",
          "name": "stdout",
          "text": [
            "accuracy_baseDT: [0.96 0.97 0.93 0.98 1.  ]\n",
            "average accuracy: 0.968, variance: 0.0005359999999999994\n",
            "macro_avg_baseDT: [0.94526144 0.96963782 0.93038825 0.9740983  1.        ]\n",
            "average macro-average F1: 0.9638771622513687, variance: 0.0005821137491812308\n",
            "weighted_avg_baseDT: [0.96       0.97033182 0.93148891 0.98040095 1.        ]\n",
            "average weighted-average F1: 0.9684443344728605, variance: 0.0005158586966435674\n"
          ]
        }
      ]
    },
    {
      "cell_type": "code",
      "source": [
        "# print the performance result to outputfile\n",
        "print('\\n(E) The result after 5 times of train-test repetition:' ,file = outputFile)\n",
        "print(f'average accuracy: {Avg_accuracy}, variance: {accuracy_variance}', file = outputFile)\n",
        "print(f'average macro-average F1: {Avg_macro_avg}, variance: {f1_macro_variance}', file = outputFile)\n",
        "print(f'average weighted-average F1: {Avg_weighted_avg}, variance: {f1_weighted_variance}', file = outputFile)\n",
        "print('\\n', file = outputFile)\n",
        "outputFile.flush()"
      ],
      "metadata": {
        "id": "G9_phUjPZBFF"
      },
      "execution_count": 48,
      "outputs": []
    },
    {
      "cell_type": "markdown",
      "source": [
        "##### Classifier 2 - Top-DT"
      ],
      "metadata": {
        "id": "8RIB1m4M56j3"
      }
    },
    {
      "cell_type": "code",
      "source": [
        "# Top Decision Tree - decision tree using gridsearch(hyperparameter search)\n",
        "from sklearn.model_selection import GridSearchCV\n",
        "from sklearn.tree import DecisionTreeClassifier\n",
        "\n",
        "parameters = {\n",
        "    'criterion': ['gini', 'entropy'],\n",
        "    'max_depth': [None, 3, 5],\n",
        "    'min_samples_split': [2, 5, 10]\n",
        "}\n",
        "\n",
        "classifier_2 = GridSearchCV(DecisionTreeClassifier(), parameters)\n",
        "classifier_2.fit(X_train, y_train)\n",
        "\n",
        "print(f'best parameters: {classifier_2.best_params_}')"
      ],
      "metadata": {
        "id": "JRPd85lw5jg2",
        "colab": {
          "base_uri": "https://localhost:8080/"
        },
        "outputId": "ce092843-1ed4-42be-f18c-195209d6c540"
      },
      "execution_count": 49,
      "outputs": [
        {
          "output_type": "stream",
          "name": "stdout",
          "text": [
            "best parameters: {'criterion': 'gini', 'max_depth': 5, 'min_samples_split': 2}\n"
          ]
        }
      ]
    },
    {
      "cell_type": "code",
      "source": [
        "penguins_class = data_penguins.columns[0]\n",
        "penguins_features = list(data_penguins.columns[1:])"
      ],
      "metadata": {
        "id": "YFTodB7a_Qxl"
      },
      "execution_count": 50,
      "outputs": []
    },
    {
      "cell_type": "code",
      "source": [
        "from sklearn.tree import export_graphviz\n",
        "from IPython.display import display\n",
        "\n",
        "dot_data = export_graphviz(classifier_2.best_estimator_,\n",
        "                          feature_names=penguins_features,\n",
        "                          class_names=penguins_class,\n",
        "                          filled=True, rounded=True,\n",
        "                          special_characters=True)\n",
        "\n",
        "graph = graphviz.Source(dot_data)\n",
        "display(graph)"
      ],
      "metadata": {
        "id": "Yq9k0XZ6-odi",
        "outputId": "8ec791ca-9c80-431d-e847-78475d4def96",
        "colab": {
          "base_uri": "https://localhost:8080/",
          "height": 937
        }
      },
      "execution_count": 51,
      "outputs": [
        {
          "output_type": "display_data",
          "data": {
            "image/svg+xml": "<?xml version=\"1.0\" encoding=\"UTF-8\" standalone=\"no\"?>\n<!DOCTYPE svg PUBLIC \"-//W3C//DTD SVG 1.1//EN\"\n \"http://www.w3.org/Graphics/SVG/1.1/DTD/svg11.dtd\">\n<!-- Generated by graphviz version 2.43.0 (0)\n -->\n<!-- Title: Tree Pages: 1 -->\n<svg width=\"1241pt\" height=\"671pt\"\n viewBox=\"0.00 0.00 1240.50 671.00\" xmlns=\"http://www.w3.org/2000/svg\" xmlns:xlink=\"http://www.w3.org/1999/xlink\">\n<g id=\"graph0\" class=\"graph\" transform=\"scale(1 1) rotate(0) translate(4 667)\">\n<title>Tree</title>\n<polygon fill=\"white\" stroke=\"transparent\" points=\"-4,4 -4,-667 1236.5,-667 1236.5,4 -4,4\"/>\n<!-- 0 -->\n<g id=\"node1\" class=\"node\">\n<title>0</title>\n<path fill=\"#fbede3\" stroke=\"black\" d=\"M998,-663C998,-663 844,-663 844,-663 838,-663 832,-657 832,-651 832,-651 832,-592 832,-592 832,-586 838,-580 844,-580 844,-580 998,-580 998,-580 1004,-580 1010,-586 1010,-592 1010,-592 1010,-651 1010,-651 1010,-657 1004,-663 998,-663\"/>\n<text text-anchor=\"start\" x=\"840\" y=\"-647.8\" font-family=\"Helvetica,sans-Serif\" font-size=\"14.00\">flipper_length_mm ≤ 206.5</text>\n<text text-anchor=\"start\" x=\"885.5\" y=\"-632.8\" font-family=\"Helvetica,sans-Serif\" font-size=\"14.00\">gini = 0.643</text>\n<text text-anchor=\"start\" x=\"876\" y=\"-617.8\" font-family=\"Helvetica,sans-Serif\" font-size=\"14.00\">samples = 233</text>\n<text text-anchor=\"start\" x=\"859\" y=\"-602.8\" font-family=\"Helvetica,sans-Serif\" font-size=\"14.00\">value = [102, 51, 80]</text>\n<text text-anchor=\"start\" x=\"894\" y=\"-587.8\" font-family=\"Helvetica,sans-Serif\" font-size=\"14.00\">class = s</text>\n</g>\n<!-- 1 -->\n<g id=\"node2\" class=\"node\">\n<title>1</title>\n<path fill=\"#f1bd97\" stroke=\"black\" d=\"M855.5,-544C855.5,-544 694.5,-544 694.5,-544 688.5,-544 682.5,-538 682.5,-532 682.5,-532 682.5,-473 682.5,-473 682.5,-467 688.5,-461 694.5,-461 694.5,-461 855.5,-461 855.5,-461 861.5,-461 867.5,-467 867.5,-473 867.5,-473 867.5,-532 867.5,-532 867.5,-538 861.5,-544 855.5,-544\"/>\n<text text-anchor=\"start\" x=\"690.5\" y=\"-528.8\" font-family=\"Helvetica,sans-Serif\" font-size=\"14.00\">culmen_length_mm ≤ 43.35</text>\n<text text-anchor=\"start\" x=\"739.5\" y=\"-513.8\" font-family=\"Helvetica,sans-Serif\" font-size=\"14.00\">gini = 0.443</text>\n<text text-anchor=\"start\" x=\"730\" y=\"-498.8\" font-family=\"Helvetica,sans-Serif\" font-size=\"14.00\">samples = 148</text>\n<text text-anchor=\"start\" x=\"717\" y=\"-483.8\" font-family=\"Helvetica,sans-Serif\" font-size=\"14.00\">value = [100, 47, 1]</text>\n<text text-anchor=\"start\" x=\"748\" y=\"-468.8\" font-family=\"Helvetica,sans-Serif\" font-size=\"14.00\">class = s</text>\n</g>\n<!-- 0&#45;&gt;1 -->\n<g id=\"edge1\" class=\"edge\">\n<title>0&#45;&gt;1</title>\n<path fill=\"none\" stroke=\"black\" d=\"M870.35,-579.91C858.46,-570.38 845.69,-560.15 833.49,-550.37\"/>\n<polygon fill=\"black\" stroke=\"black\" points=\"835.56,-547.54 825.56,-544.02 831.18,-553.01 835.56,-547.54\"/>\n<text text-anchor=\"middle\" x=\"828.3\" y=\"-565.17\" font-family=\"Helvetica,sans-Serif\" font-size=\"14.00\">True</text>\n</g>\n<!-- 18 -->\n<g id=\"node19\" class=\"node\">\n<title>18</title>\n<path fill=\"#8a48e7\" stroke=\"black\" d=\"M1052.5,-544C1052.5,-544 959.5,-544 959.5,-544 953.5,-544 947.5,-538 947.5,-532 947.5,-532 947.5,-473 947.5,-473 947.5,-467 953.5,-461 959.5,-461 959.5,-461 1052.5,-461 1052.5,-461 1058.5,-461 1064.5,-467 1064.5,-473 1064.5,-473 1064.5,-532 1064.5,-532 1064.5,-538 1058.5,-544 1052.5,-544\"/>\n<text text-anchor=\"start\" x=\"971\" y=\"-528.8\" font-family=\"Helvetica,sans-Serif\" font-size=\"14.00\">island ≤ 0.5</text>\n<text text-anchor=\"start\" x=\"970.5\" y=\"-513.8\" font-family=\"Helvetica,sans-Serif\" font-size=\"14.00\">gini = 0.133</text>\n<text text-anchor=\"start\" x=\"965\" y=\"-498.8\" font-family=\"Helvetica,sans-Serif\" font-size=\"14.00\">samples = 85</text>\n<text text-anchor=\"start\" x=\"955.5\" y=\"-483.8\" font-family=\"Helvetica,sans-Serif\" font-size=\"14.00\">value = [2, 4, 79]</text>\n<text text-anchor=\"start\" x=\"978.5\" y=\"-468.8\" font-family=\"Helvetica,sans-Serif\" font-size=\"14.00\">class = e</text>\n</g>\n<!-- 0&#45;&gt;18 -->\n<g id=\"edge18\" class=\"edge\">\n<title>0&#45;&gt;18</title>\n<path fill=\"none\" stroke=\"black\" d=\"M950.49,-579.91C956.95,-571.01 963.86,-561.51 970.52,-552.33\"/>\n<polygon fill=\"black\" stroke=\"black\" points=\"973.52,-554.17 976.56,-544.02 967.85,-550.05 973.52,-554.17\"/>\n<text text-anchor=\"middle\" x=\"980.47\" y=\"-565.01\" font-family=\"Helvetica,sans-Serif\" font-size=\"14.00\">False</text>\n</g>\n<!-- 2 -->\n<g id=\"node3\" class=\"node\">\n<title>2</title>\n<path fill=\"#e68743\" stroke=\"black\" d=\"M581.5,-425C581.5,-425 420.5,-425 420.5,-425 414.5,-425 408.5,-419 408.5,-413 408.5,-413 408.5,-354 408.5,-354 408.5,-348 414.5,-342 420.5,-342 420.5,-342 581.5,-342 581.5,-342 587.5,-342 593.5,-348 593.5,-354 593.5,-354 593.5,-413 593.5,-413 593.5,-419 587.5,-425 581.5,-425\"/>\n<text text-anchor=\"start\" x=\"416.5\" y=\"-409.8\" font-family=\"Helvetica,sans-Serif\" font-size=\"14.00\">culmen_length_mm ≤ 42.35</text>\n<text text-anchor=\"start\" x=\"465.5\" y=\"-394.8\" font-family=\"Helvetica,sans-Serif\" font-size=\"14.00\">gini = 0.092</text>\n<text text-anchor=\"start\" x=\"456\" y=\"-379.8\" font-family=\"Helvetica,sans-Serif\" font-size=\"14.00\">samples = 103</text>\n<text text-anchor=\"start\" x=\"450.5\" y=\"-364.8\" font-family=\"Helvetica,sans-Serif\" font-size=\"14.00\">value = [98, 5, 0]</text>\n<text text-anchor=\"start\" x=\"474\" y=\"-349.8\" font-family=\"Helvetica,sans-Serif\" font-size=\"14.00\">class = s</text>\n</g>\n<!-- 1&#45;&gt;2 -->\n<g id=\"edge2\" class=\"edge\">\n<title>1&#45;&gt;2</title>\n<path fill=\"none\" stroke=\"black\" d=\"M682.24,-461.89C656.79,-451.03 629.07,-439.19 603.14,-428.11\"/>\n<polygon fill=\"black\" stroke=\"black\" points=\"604.24,-424.78 593.67,-424.07 601.49,-431.22 604.24,-424.78\"/>\n</g>\n<!-- 11 -->\n<g id=\"node12\" class=\"node\">\n<title>11</title>\n<path fill=\"#47e78a\" stroke=\"black\" d=\"M821.5,-425C821.5,-425 728.5,-425 728.5,-425 722.5,-425 716.5,-419 716.5,-413 716.5,-413 716.5,-354 716.5,-354 716.5,-348 722.5,-342 728.5,-342 728.5,-342 821.5,-342 821.5,-342 827.5,-342 833.5,-348 833.5,-354 833.5,-354 833.5,-413 833.5,-413 833.5,-419 827.5,-425 821.5,-425\"/>\n<text text-anchor=\"start\" x=\"740\" y=\"-409.8\" font-family=\"Helvetica,sans-Serif\" font-size=\"14.00\">island ≤ 0.5</text>\n<text text-anchor=\"start\" x=\"739.5\" y=\"-394.8\" font-family=\"Helvetica,sans-Serif\" font-size=\"14.00\">gini = 0.126</text>\n<text text-anchor=\"start\" x=\"734\" y=\"-379.8\" font-family=\"Helvetica,sans-Serif\" font-size=\"14.00\">samples = 45</text>\n<text text-anchor=\"start\" x=\"724.5\" y=\"-364.8\" font-family=\"Helvetica,sans-Serif\" font-size=\"14.00\">value = [2, 42, 1]</text>\n<text text-anchor=\"start\" x=\"747.5\" y=\"-349.8\" font-family=\"Helvetica,sans-Serif\" font-size=\"14.00\">class = p</text>\n</g>\n<!-- 1&#45;&gt;11 -->\n<g id=\"edge11\" class=\"edge\">\n<title>1&#45;&gt;11</title>\n<path fill=\"none\" stroke=\"black\" d=\"M775,-460.91C775,-452.65 775,-443.86 775,-435.3\"/>\n<polygon fill=\"black\" stroke=\"black\" points=\"778.5,-435.02 775,-425.02 771.5,-435.02 778.5,-435.02\"/>\n</g>\n<!-- 3 -->\n<g id=\"node4\" class=\"node\">\n<title>3</title>\n<path fill=\"#e5823b\" stroke=\"black\" d=\"M367,-306C367,-306 209,-306 209,-306 203,-306 197,-300 197,-294 197,-294 197,-235 197,-235 197,-229 203,-223 209,-223 209,-223 367,-223 367,-223 373,-223 379,-229 379,-235 379,-235 379,-294 379,-294 379,-300 373,-306 367,-306\"/>\n<text text-anchor=\"start\" x=\"205\" y=\"-290.8\" font-family=\"Helvetica,sans-Serif\" font-size=\"14.00\">culmen_depth_mm ≤ 16.65</text>\n<text text-anchor=\"start\" x=\"252.5\" y=\"-275.8\" font-family=\"Helvetica,sans-Serif\" font-size=\"14.00\">gini = 0.021</text>\n<text text-anchor=\"start\" x=\"247\" y=\"-260.8\" font-family=\"Helvetica,sans-Serif\" font-size=\"14.00\">samples = 94</text>\n<text text-anchor=\"start\" x=\"237.5\" y=\"-245.8\" font-family=\"Helvetica,sans-Serif\" font-size=\"14.00\">value = [93, 1, 0]</text>\n<text text-anchor=\"start\" x=\"261\" y=\"-230.8\" font-family=\"Helvetica,sans-Serif\" font-size=\"14.00\">class = s</text>\n</g>\n<!-- 2&#45;&gt;3 -->\n<g id=\"edge3\" class=\"edge\">\n<title>2&#45;&gt;3</title>\n<path fill=\"none\" stroke=\"black\" d=\"M427.1,-341.91C408.84,-331.88 389.17,-321.07 370.54,-310.84\"/>\n<polygon fill=\"black\" stroke=\"black\" points=\"372.22,-307.77 361.77,-306.02 368.85,-313.9 372.22,-307.77\"/>\n</g>\n<!-- 8 -->\n<g id=\"node9\" class=\"node\">\n<title>8</title>\n<path fill=\"#fae6d7\" stroke=\"black\" d=\"M568,-306C568,-306 434,-306 434,-306 428,-306 422,-300 422,-294 422,-294 422,-235 422,-235 422,-229 428,-223 434,-223 434,-223 568,-223 568,-223 574,-223 580,-229 580,-235 580,-235 580,-294 580,-294 580,-300 574,-306 568,-306\"/>\n<text text-anchor=\"start\" x=\"430\" y=\"-290.8\" font-family=\"Helvetica,sans-Serif\" font-size=\"14.00\">body_mass_g ≤ 3837.5</text>\n<text text-anchor=\"start\" x=\"465.5\" y=\"-275.8\" font-family=\"Helvetica,sans-Serif\" font-size=\"14.00\">gini = 0.494</text>\n<text text-anchor=\"start\" x=\"463.5\" y=\"-260.8\" font-family=\"Helvetica,sans-Serif\" font-size=\"14.00\">samples = 9</text>\n<text text-anchor=\"start\" x=\"454\" y=\"-245.8\" font-family=\"Helvetica,sans-Serif\" font-size=\"14.00\">value = [5, 4, 0]</text>\n<text text-anchor=\"start\" x=\"474\" y=\"-230.8\" font-family=\"Helvetica,sans-Serif\" font-size=\"14.00\">class = s</text>\n</g>\n<!-- 2&#45;&gt;8 -->\n<g id=\"edge8\" class=\"edge\">\n<title>2&#45;&gt;8</title>\n<path fill=\"none\" stroke=\"black\" d=\"M501,-341.91C501,-333.65 501,-324.86 501,-316.3\"/>\n<polygon fill=\"black\" stroke=\"black\" points=\"504.5,-316.02 501,-306.02 497.5,-316.02 504.5,-316.02\"/>\n</g>\n<!-- 4 -->\n<g id=\"node5\" class=\"node\">\n<title>4</title>\n<path fill=\"#e99355\" stroke=\"black\" d=\"M199.5,-187C199.5,-187 38.5,-187 38.5,-187 32.5,-187 26.5,-181 26.5,-175 26.5,-175 26.5,-116 26.5,-116 26.5,-110 32.5,-104 38.5,-104 38.5,-104 199.5,-104 199.5,-104 205.5,-104 211.5,-110 211.5,-116 211.5,-116 211.5,-175 211.5,-175 211.5,-181 205.5,-187 199.5,-187\"/>\n<text text-anchor=\"start\" x=\"34.5\" y=\"-171.8\" font-family=\"Helvetica,sans-Serif\" font-size=\"14.00\">culmen_length_mm ≤ 38.95</text>\n<text text-anchor=\"start\" x=\"83.5\" y=\"-156.8\" font-family=\"Helvetica,sans-Serif\" font-size=\"14.00\">gini = 0.219</text>\n<text text-anchor=\"start\" x=\"81.5\" y=\"-141.8\" font-family=\"Helvetica,sans-Serif\" font-size=\"14.00\">samples = 8</text>\n<text text-anchor=\"start\" x=\"72\" y=\"-126.8\" font-family=\"Helvetica,sans-Serif\" font-size=\"14.00\">value = [7, 1, 0]</text>\n<text text-anchor=\"start\" x=\"92\" y=\"-111.8\" font-family=\"Helvetica,sans-Serif\" font-size=\"14.00\">class = s</text>\n</g>\n<!-- 3&#45;&gt;4 -->\n<g id=\"edge4\" class=\"edge\">\n<title>3&#45;&gt;4</title>\n<path fill=\"none\" stroke=\"black\" d=\"M229.37,-222.91C215.34,-213.2 200.26,-202.76 185.89,-192.81\"/>\n<polygon fill=\"black\" stroke=\"black\" points=\"187.74,-189.84 177.53,-187.02 183.76,-195.59 187.74,-189.84\"/>\n</g>\n<!-- 7 -->\n<g id=\"node8\" class=\"node\">\n<title>7</title>\n<path fill=\"#e58139\" stroke=\"black\" d=\"M334.5,-179.5C334.5,-179.5 241.5,-179.5 241.5,-179.5 235.5,-179.5 229.5,-173.5 229.5,-167.5 229.5,-167.5 229.5,-123.5 229.5,-123.5 229.5,-117.5 235.5,-111.5 241.5,-111.5 241.5,-111.5 334.5,-111.5 334.5,-111.5 340.5,-111.5 346.5,-117.5 346.5,-123.5 346.5,-123.5 346.5,-167.5 346.5,-167.5 346.5,-173.5 340.5,-179.5 334.5,-179.5\"/>\n<text text-anchor=\"start\" x=\"260\" y=\"-164.3\" font-family=\"Helvetica,sans-Serif\" font-size=\"14.00\">gini = 0.0</text>\n<text text-anchor=\"start\" x=\"247\" y=\"-149.3\" font-family=\"Helvetica,sans-Serif\" font-size=\"14.00\">samples = 86</text>\n<text text-anchor=\"start\" x=\"237.5\" y=\"-134.3\" font-family=\"Helvetica,sans-Serif\" font-size=\"14.00\">value = [86, 0, 0]</text>\n<text text-anchor=\"start\" x=\"261\" y=\"-119.3\" font-family=\"Helvetica,sans-Serif\" font-size=\"14.00\">class = s</text>\n</g>\n<!-- 3&#45;&gt;7 -->\n<g id=\"edge7\" class=\"edge\">\n<title>3&#45;&gt;7</title>\n<path fill=\"none\" stroke=\"black\" d=\"M288,-222.91C288,-212.2 288,-200.62 288,-189.78\"/>\n<polygon fill=\"black\" stroke=\"black\" points=\"291.5,-189.67 288,-179.67 284.5,-189.67 291.5,-189.67\"/>\n</g>\n<!-- 5 -->\n<g id=\"node6\" class=\"node\">\n<title>5</title>\n<path fill=\"#e58139\" stroke=\"black\" d=\"M98,-68C98,-68 12,-68 12,-68 6,-68 0,-62 0,-56 0,-56 0,-12 0,-12 0,-6 6,0 12,0 12,0 98,0 98,0 104,0 110,-6 110,-12 110,-12 110,-56 110,-56 110,-62 104,-68 98,-68\"/>\n<text text-anchor=\"start\" x=\"27\" y=\"-52.8\" font-family=\"Helvetica,sans-Serif\" font-size=\"14.00\">gini = 0.0</text>\n<text text-anchor=\"start\" x=\"17.5\" y=\"-37.8\" font-family=\"Helvetica,sans-Serif\" font-size=\"14.00\">samples = 7</text>\n<text text-anchor=\"start\" x=\"8\" y=\"-22.8\" font-family=\"Helvetica,sans-Serif\" font-size=\"14.00\">value = [7, 0, 0]</text>\n<text text-anchor=\"start\" x=\"28\" y=\"-7.8\" font-family=\"Helvetica,sans-Serif\" font-size=\"14.00\">class = s</text>\n</g>\n<!-- 4&#45;&gt;5 -->\n<g id=\"edge5\" class=\"edge\">\n<title>4&#45;&gt;5</title>\n<path fill=\"none\" stroke=\"black\" d=\"M95.17,-103.73C90.1,-95.06 84.75,-85.9 79.65,-77.18\"/>\n<polygon fill=\"black\" stroke=\"black\" points=\"82.53,-75.17 74.46,-68.3 76.49,-78.7 82.53,-75.17\"/>\n</g>\n<!-- 6 -->\n<g id=\"node7\" class=\"node\">\n<title>6</title>\n<path fill=\"#39e581\" stroke=\"black\" d=\"M226,-68C226,-68 140,-68 140,-68 134,-68 128,-62 128,-56 128,-56 128,-12 128,-12 128,-6 134,0 140,0 140,0 226,0 226,0 232,0 238,-6 238,-12 238,-12 238,-56 238,-56 238,-62 232,-68 226,-68\"/>\n<text text-anchor=\"start\" x=\"155\" y=\"-52.8\" font-family=\"Helvetica,sans-Serif\" font-size=\"14.00\">gini = 0.0</text>\n<text text-anchor=\"start\" x=\"145.5\" y=\"-37.8\" font-family=\"Helvetica,sans-Serif\" font-size=\"14.00\">samples = 1</text>\n<text text-anchor=\"start\" x=\"136\" y=\"-22.8\" font-family=\"Helvetica,sans-Serif\" font-size=\"14.00\">value = [0, 1, 0]</text>\n<text text-anchor=\"start\" x=\"155.5\" y=\"-7.8\" font-family=\"Helvetica,sans-Serif\" font-size=\"14.00\">class = p</text>\n</g>\n<!-- 4&#45;&gt;6 -->\n<g id=\"edge6\" class=\"edge\">\n<title>4&#45;&gt;6</title>\n<path fill=\"none\" stroke=\"black\" d=\"M142.83,-103.73C147.9,-95.06 153.25,-85.9 158.35,-77.18\"/>\n<polygon fill=\"black\" stroke=\"black\" points=\"161.51,-78.7 163.54,-68.3 155.47,-75.17 161.51,-78.7\"/>\n</g>\n<!-- 9 -->\n<g id=\"node10\" class=\"node\">\n<title>9</title>\n<path fill=\"#39e581\" stroke=\"black\" d=\"M463,-179.5C463,-179.5 377,-179.5 377,-179.5 371,-179.5 365,-173.5 365,-167.5 365,-167.5 365,-123.5 365,-123.5 365,-117.5 371,-111.5 377,-111.5 377,-111.5 463,-111.5 463,-111.5 469,-111.5 475,-117.5 475,-123.5 475,-123.5 475,-167.5 475,-167.5 475,-173.5 469,-179.5 463,-179.5\"/>\n<text text-anchor=\"start\" x=\"392\" y=\"-164.3\" font-family=\"Helvetica,sans-Serif\" font-size=\"14.00\">gini = 0.0</text>\n<text text-anchor=\"start\" x=\"382.5\" y=\"-149.3\" font-family=\"Helvetica,sans-Serif\" font-size=\"14.00\">samples = 4</text>\n<text text-anchor=\"start\" x=\"373\" y=\"-134.3\" font-family=\"Helvetica,sans-Serif\" font-size=\"14.00\">value = [0, 4, 0]</text>\n<text text-anchor=\"start\" x=\"392.5\" y=\"-119.3\" font-family=\"Helvetica,sans-Serif\" font-size=\"14.00\">class = p</text>\n</g>\n<!-- 8&#45;&gt;9 -->\n<g id=\"edge9\" class=\"edge\">\n<title>8&#45;&gt;9</title>\n<path fill=\"none\" stroke=\"black\" d=\"M472.9,-222.91C465.11,-211.65 456.64,-199.42 448.8,-188.11\"/>\n<polygon fill=\"black\" stroke=\"black\" points=\"451.53,-185.9 442.96,-179.67 445.78,-189.88 451.53,-185.9\"/>\n</g>\n<!-- 10 -->\n<g id=\"node11\" class=\"node\">\n<title>10</title>\n<path fill=\"#e58139\" stroke=\"black\" d=\"M591,-179.5C591,-179.5 505,-179.5 505,-179.5 499,-179.5 493,-173.5 493,-167.5 493,-167.5 493,-123.5 493,-123.5 493,-117.5 499,-111.5 505,-111.5 505,-111.5 591,-111.5 591,-111.5 597,-111.5 603,-117.5 603,-123.5 603,-123.5 603,-167.5 603,-167.5 603,-173.5 597,-179.5 591,-179.5\"/>\n<text text-anchor=\"start\" x=\"520\" y=\"-164.3\" font-family=\"Helvetica,sans-Serif\" font-size=\"14.00\">gini = 0.0</text>\n<text text-anchor=\"start\" x=\"510.5\" y=\"-149.3\" font-family=\"Helvetica,sans-Serif\" font-size=\"14.00\">samples = 5</text>\n<text text-anchor=\"start\" x=\"501\" y=\"-134.3\" font-family=\"Helvetica,sans-Serif\" font-size=\"14.00\">value = [5, 0, 0]</text>\n<text text-anchor=\"start\" x=\"521\" y=\"-119.3\" font-family=\"Helvetica,sans-Serif\" font-size=\"14.00\">class = s</text>\n</g>\n<!-- 8&#45;&gt;10 -->\n<g id=\"edge10\" class=\"edge\">\n<title>8&#45;&gt;10</title>\n<path fill=\"none\" stroke=\"black\" d=\"M517.31,-222.91C521.69,-211.98 526.45,-200.14 530.88,-189.11\"/>\n<polygon fill=\"black\" stroke=\"black\" points=\"534.2,-190.25 534.68,-179.67 527.7,-187.64 534.2,-190.25\"/>\n</g>\n<!-- 12 -->\n<g id=\"node13\" class=\"node\">\n<title>12</title>\n<path fill=\"#42e687\" stroke=\"black\" d=\"M793,-306C793,-306 635,-306 635,-306 629,-306 623,-300 623,-294 623,-294 623,-235 623,-235 623,-229 629,-223 635,-223 635,-223 793,-223 793,-223 799,-223 805,-229 805,-235 805,-235 805,-294 805,-294 805,-300 799,-306 793,-306\"/>\n<text text-anchor=\"start\" x=\"631\" y=\"-290.8\" font-family=\"Helvetica,sans-Serif\" font-size=\"14.00\">culmen_depth_mm ≤ 21.15</text>\n<text text-anchor=\"start\" x=\"678.5\" y=\"-275.8\" font-family=\"Helvetica,sans-Serif\" font-size=\"14.00\">gini = 0.087</text>\n<text text-anchor=\"start\" x=\"673\" y=\"-260.8\" font-family=\"Helvetica,sans-Serif\" font-size=\"14.00\">samples = 44</text>\n<text text-anchor=\"start\" x=\"663.5\" y=\"-245.8\" font-family=\"Helvetica,sans-Serif\" font-size=\"14.00\">value = [2, 42, 0]</text>\n<text text-anchor=\"start\" x=\"686.5\" y=\"-230.8\" font-family=\"Helvetica,sans-Serif\" font-size=\"14.00\">class = p</text>\n</g>\n<!-- 11&#45;&gt;12 -->\n<g id=\"edge12\" class=\"edge\">\n<title>11&#45;&gt;12</title>\n<path fill=\"none\" stroke=\"black\" d=\"M753.84,-341.91C749.29,-333.2 744.45,-323.9 739.75,-314.89\"/>\n<polygon fill=\"black\" stroke=\"black\" points=\"742.85,-313.27 735.13,-306.02 736.65,-316.51 742.85,-313.27\"/>\n</g>\n<!-- 17 -->\n<g id=\"node18\" class=\"node\">\n<title>17</title>\n<path fill=\"#8139e5\" stroke=\"black\" d=\"M921,-298.5C921,-298.5 835,-298.5 835,-298.5 829,-298.5 823,-292.5 823,-286.5 823,-286.5 823,-242.5 823,-242.5 823,-236.5 829,-230.5 835,-230.5 835,-230.5 921,-230.5 921,-230.5 927,-230.5 933,-236.5 933,-242.5 933,-242.5 933,-286.5 933,-286.5 933,-292.5 927,-298.5 921,-298.5\"/>\n<text text-anchor=\"start\" x=\"850\" y=\"-283.3\" font-family=\"Helvetica,sans-Serif\" font-size=\"14.00\">gini = 0.0</text>\n<text text-anchor=\"start\" x=\"840.5\" y=\"-268.3\" font-family=\"Helvetica,sans-Serif\" font-size=\"14.00\">samples = 1</text>\n<text text-anchor=\"start\" x=\"831\" y=\"-253.3\" font-family=\"Helvetica,sans-Serif\" font-size=\"14.00\">value = [0, 0, 1]</text>\n<text text-anchor=\"start\" x=\"850.5\" y=\"-238.3\" font-family=\"Helvetica,sans-Serif\" font-size=\"14.00\">class = e</text>\n</g>\n<!-- 11&#45;&gt;17 -->\n<g id=\"edge17\" class=\"edge\">\n<title>11&#45;&gt;17</title>\n<path fill=\"none\" stroke=\"black\" d=\"M810.74,-341.91C820.84,-330.43 831.84,-317.94 841.96,-306.44\"/>\n<polygon fill=\"black\" stroke=\"black\" points=\"844.82,-308.49 848.8,-298.67 839.57,-303.86 844.82,-308.49\"/>\n</g>\n<!-- 13 -->\n<g id=\"node14\" class=\"node\">\n<title>13</title>\n<path fill=\"#3ee684\" stroke=\"black\" d=\"M794.5,-187C794.5,-187 633.5,-187 633.5,-187 627.5,-187 621.5,-181 621.5,-175 621.5,-175 621.5,-116 621.5,-116 621.5,-110 627.5,-104 633.5,-104 633.5,-104 794.5,-104 794.5,-104 800.5,-104 806.5,-110 806.5,-116 806.5,-116 806.5,-175 806.5,-175 806.5,-181 800.5,-187 794.5,-187\"/>\n<text text-anchor=\"start\" x=\"629.5\" y=\"-171.8\" font-family=\"Helvetica,sans-Serif\" font-size=\"14.00\">culmen_length_mm ≤ 45.85</text>\n<text text-anchor=\"start\" x=\"678.5\" y=\"-156.8\" font-family=\"Helvetica,sans-Serif\" font-size=\"14.00\">gini = 0.045</text>\n<text text-anchor=\"start\" x=\"673\" y=\"-141.8\" font-family=\"Helvetica,sans-Serif\" font-size=\"14.00\">samples = 43</text>\n<text text-anchor=\"start\" x=\"663.5\" y=\"-126.8\" font-family=\"Helvetica,sans-Serif\" font-size=\"14.00\">value = [1, 42, 0]</text>\n<text text-anchor=\"start\" x=\"686.5\" y=\"-111.8\" font-family=\"Helvetica,sans-Serif\" font-size=\"14.00\">class = p</text>\n</g>\n<!-- 12&#45;&gt;13 -->\n<g id=\"edge13\" class=\"edge\">\n<title>12&#45;&gt;13</title>\n<path fill=\"none\" stroke=\"black\" d=\"M714,-222.91C714,-214.65 714,-205.86 714,-197.3\"/>\n<polygon fill=\"black\" stroke=\"black\" points=\"717.5,-197.02 714,-187.02 710.5,-197.02 717.5,-197.02\"/>\n</g>\n<!-- 16 -->\n<g id=\"node17\" class=\"node\">\n<title>16</title>\n<path fill=\"#e58139\" stroke=\"black\" d=\"M923,-179.5C923,-179.5 837,-179.5 837,-179.5 831,-179.5 825,-173.5 825,-167.5 825,-167.5 825,-123.5 825,-123.5 825,-117.5 831,-111.5 837,-111.5 837,-111.5 923,-111.5 923,-111.5 929,-111.5 935,-117.5 935,-123.5 935,-123.5 935,-167.5 935,-167.5 935,-173.5 929,-179.5 923,-179.5\"/>\n<text text-anchor=\"start\" x=\"852\" y=\"-164.3\" font-family=\"Helvetica,sans-Serif\" font-size=\"14.00\">gini = 0.0</text>\n<text text-anchor=\"start\" x=\"842.5\" y=\"-149.3\" font-family=\"Helvetica,sans-Serif\" font-size=\"14.00\">samples = 1</text>\n<text text-anchor=\"start\" x=\"833\" y=\"-134.3\" font-family=\"Helvetica,sans-Serif\" font-size=\"14.00\">value = [1, 0, 0]</text>\n<text text-anchor=\"start\" x=\"853\" y=\"-119.3\" font-family=\"Helvetica,sans-Serif\" font-size=\"14.00\">class = s</text>\n</g>\n<!-- 12&#45;&gt;16 -->\n<g id=\"edge16\" class=\"edge\">\n<title>12&#45;&gt;16</title>\n<path fill=\"none\" stroke=\"black\" d=\"M771.59,-222.91C788.81,-210.77 807.65,-197.49 824.72,-185.46\"/>\n<polygon fill=\"black\" stroke=\"black\" points=\"826.79,-188.29 832.94,-179.67 822.75,-182.57 826.79,-188.29\"/>\n</g>\n<!-- 14 -->\n<g id=\"node15\" class=\"node\">\n<title>14</title>\n<path fill=\"#6aeca0\" stroke=\"black\" d=\"M691,-68C691,-68 605,-68 605,-68 599,-68 593,-62 593,-56 593,-56 593,-12 593,-12 593,-6 599,0 605,0 605,0 691,0 691,0 697,0 703,-6 703,-12 703,-12 703,-56 703,-56 703,-62 697,-68 691,-68\"/>\n<text text-anchor=\"start\" x=\"616\" y=\"-52.8\" font-family=\"Helvetica,sans-Serif\" font-size=\"14.00\">gini = 0.32</text>\n<text text-anchor=\"start\" x=\"610.5\" y=\"-37.8\" font-family=\"Helvetica,sans-Serif\" font-size=\"14.00\">samples = 5</text>\n<text text-anchor=\"start\" x=\"601\" y=\"-22.8\" font-family=\"Helvetica,sans-Serif\" font-size=\"14.00\">value = [1, 4, 0]</text>\n<text text-anchor=\"start\" x=\"620.5\" y=\"-7.8\" font-family=\"Helvetica,sans-Serif\" font-size=\"14.00\">class = p</text>\n</g>\n<!-- 13&#45;&gt;14 -->\n<g id=\"edge14\" class=\"edge\">\n<title>13&#45;&gt;14</title>\n<path fill=\"none\" stroke=\"black\" d=\"M689.42,-103.73C684.15,-94.97 678.56,-85.7 673.26,-76.91\"/>\n<polygon fill=\"black\" stroke=\"black\" points=\"676.23,-75.06 668.07,-68.3 670.24,-78.67 676.23,-75.06\"/>\n</g>\n<!-- 15 -->\n<g id=\"node16\" class=\"node\">\n<title>15</title>\n<path fill=\"#39e581\" stroke=\"black\" d=\"M826.5,-68C826.5,-68 733.5,-68 733.5,-68 727.5,-68 721.5,-62 721.5,-56 721.5,-56 721.5,-12 721.5,-12 721.5,-6 727.5,0 733.5,0 733.5,0 826.5,0 826.5,0 832.5,0 838.5,-6 838.5,-12 838.5,-12 838.5,-56 838.5,-56 838.5,-62 832.5,-68 826.5,-68\"/>\n<text text-anchor=\"start\" x=\"752\" y=\"-52.8\" font-family=\"Helvetica,sans-Serif\" font-size=\"14.00\">gini = 0.0</text>\n<text text-anchor=\"start\" x=\"739\" y=\"-37.8\" font-family=\"Helvetica,sans-Serif\" font-size=\"14.00\">samples = 38</text>\n<text text-anchor=\"start\" x=\"729.5\" y=\"-22.8\" font-family=\"Helvetica,sans-Serif\" font-size=\"14.00\">value = [0, 38, 0]</text>\n<text text-anchor=\"start\" x=\"752.5\" y=\"-7.8\" font-family=\"Helvetica,sans-Serif\" font-size=\"14.00\">class = p</text>\n</g>\n<!-- 13&#45;&gt;15 -->\n<g id=\"edge15\" class=\"edge\">\n<title>13&#45;&gt;15</title>\n<path fill=\"none\" stroke=\"black\" d=\"M738.58,-103.73C743.85,-94.97 749.44,-85.7 754.74,-76.91\"/>\n<polygon fill=\"black\" stroke=\"black\" points=\"757.76,-78.67 759.93,-68.3 751.77,-75.06 757.76,-78.67\"/>\n</g>\n<!-- 19 -->\n<g id=\"node20\" class=\"node\">\n<title>19</title>\n<path fill=\"#9cf2c0\" stroke=\"black\" d=\"M1085,-425C1085,-425 927,-425 927,-425 921,-425 915,-419 915,-413 915,-413 915,-354 915,-354 915,-348 921,-342 927,-342 927,-342 1085,-342 1085,-342 1091,-342 1097,-348 1097,-354 1097,-354 1097,-413 1097,-413 1097,-419 1091,-425 1085,-425\"/>\n<text text-anchor=\"start\" x=\"923\" y=\"-409.8\" font-family=\"Helvetica,sans-Serif\" font-size=\"14.00\">culmen_depth_mm ≤ 18.95</text>\n<text text-anchor=\"start\" x=\"970.5\" y=\"-394.8\" font-family=\"Helvetica,sans-Serif\" font-size=\"14.00\">gini = 0.444</text>\n<text text-anchor=\"start\" x=\"968.5\" y=\"-379.8\" font-family=\"Helvetica,sans-Serif\" font-size=\"14.00\">samples = 6</text>\n<text text-anchor=\"start\" x=\"959\" y=\"-364.8\" font-family=\"Helvetica,sans-Serif\" font-size=\"14.00\">value = [2, 4, 0]</text>\n<text text-anchor=\"start\" x=\"978.5\" y=\"-349.8\" font-family=\"Helvetica,sans-Serif\" font-size=\"14.00\">class = p</text>\n</g>\n<!-- 18&#45;&gt;19 -->\n<g id=\"edge19\" class=\"edge\">\n<title>18&#45;&gt;19</title>\n<path fill=\"none\" stroke=\"black\" d=\"M1006,-460.91C1006,-452.65 1006,-443.86 1006,-435.3\"/>\n<polygon fill=\"black\" stroke=\"black\" points=\"1009.5,-435.02 1006,-425.02 1002.5,-435.02 1009.5,-435.02\"/>\n</g>\n<!-- 22 -->\n<g id=\"node23\" class=\"node\">\n<title>22</title>\n<path fill=\"#8139e5\" stroke=\"black\" d=\"M1220.5,-417.5C1220.5,-417.5 1127.5,-417.5 1127.5,-417.5 1121.5,-417.5 1115.5,-411.5 1115.5,-405.5 1115.5,-405.5 1115.5,-361.5 1115.5,-361.5 1115.5,-355.5 1121.5,-349.5 1127.5,-349.5 1127.5,-349.5 1220.5,-349.5 1220.5,-349.5 1226.5,-349.5 1232.5,-355.5 1232.5,-361.5 1232.5,-361.5 1232.5,-405.5 1232.5,-405.5 1232.5,-411.5 1226.5,-417.5 1220.5,-417.5\"/>\n<text text-anchor=\"start\" x=\"1146\" y=\"-402.3\" font-family=\"Helvetica,sans-Serif\" font-size=\"14.00\">gini = 0.0</text>\n<text text-anchor=\"start\" x=\"1133\" y=\"-387.3\" font-family=\"Helvetica,sans-Serif\" font-size=\"14.00\">samples = 79</text>\n<text text-anchor=\"start\" x=\"1123.5\" y=\"-372.3\" font-family=\"Helvetica,sans-Serif\" font-size=\"14.00\">value = [0, 0, 79]</text>\n<text text-anchor=\"start\" x=\"1146.5\" y=\"-357.3\" font-family=\"Helvetica,sans-Serif\" font-size=\"14.00\">class = e</text>\n</g>\n<!-- 18&#45;&gt;22 -->\n<g id=\"edge22\" class=\"edge\">\n<title>18&#45;&gt;22</title>\n<path fill=\"none\" stroke=\"black\" d=\"M1064.29,-460.91C1081.72,-448.77 1100.78,-435.49 1118.05,-423.46\"/>\n<polygon fill=\"black\" stroke=\"black\" points=\"1120.17,-426.25 1126.38,-417.67 1116.17,-420.51 1120.17,-426.25\"/>\n</g>\n<!-- 20 -->\n<g id=\"node21\" class=\"node\">\n<title>20</title>\n<path fill=\"#e58139\" stroke=\"black\" d=\"M1049,-298.5C1049,-298.5 963,-298.5 963,-298.5 957,-298.5 951,-292.5 951,-286.5 951,-286.5 951,-242.5 951,-242.5 951,-236.5 957,-230.5 963,-230.5 963,-230.5 1049,-230.5 1049,-230.5 1055,-230.5 1061,-236.5 1061,-242.5 1061,-242.5 1061,-286.5 1061,-286.5 1061,-292.5 1055,-298.5 1049,-298.5\"/>\n<text text-anchor=\"start\" x=\"978\" y=\"-283.3\" font-family=\"Helvetica,sans-Serif\" font-size=\"14.00\">gini = 0.0</text>\n<text text-anchor=\"start\" x=\"968.5\" y=\"-268.3\" font-family=\"Helvetica,sans-Serif\" font-size=\"14.00\">samples = 2</text>\n<text text-anchor=\"start\" x=\"959\" y=\"-253.3\" font-family=\"Helvetica,sans-Serif\" font-size=\"14.00\">value = [2, 0, 0]</text>\n<text text-anchor=\"start\" x=\"979\" y=\"-238.3\" font-family=\"Helvetica,sans-Serif\" font-size=\"14.00\">class = s</text>\n</g>\n<!-- 19&#45;&gt;20 -->\n<g id=\"edge20\" class=\"edge\">\n<title>19&#45;&gt;20</title>\n<path fill=\"none\" stroke=\"black\" d=\"M1006,-341.91C1006,-331.2 1006,-319.62 1006,-308.78\"/>\n<polygon fill=\"black\" stroke=\"black\" points=\"1009.5,-308.67 1006,-298.67 1002.5,-308.67 1009.5,-308.67\"/>\n</g>\n<!-- 21 -->\n<g id=\"node22\" class=\"node\">\n<title>21</title>\n<path fill=\"#39e581\" stroke=\"black\" d=\"M1177,-298.5C1177,-298.5 1091,-298.5 1091,-298.5 1085,-298.5 1079,-292.5 1079,-286.5 1079,-286.5 1079,-242.5 1079,-242.5 1079,-236.5 1085,-230.5 1091,-230.5 1091,-230.5 1177,-230.5 1177,-230.5 1183,-230.5 1189,-236.5 1189,-242.5 1189,-242.5 1189,-286.5 1189,-286.5 1189,-292.5 1183,-298.5 1177,-298.5\"/>\n<text text-anchor=\"start\" x=\"1106\" y=\"-283.3\" font-family=\"Helvetica,sans-Serif\" font-size=\"14.00\">gini = 0.0</text>\n<text text-anchor=\"start\" x=\"1096.5\" y=\"-268.3\" font-family=\"Helvetica,sans-Serif\" font-size=\"14.00\">samples = 4</text>\n<text text-anchor=\"start\" x=\"1087\" y=\"-253.3\" font-family=\"Helvetica,sans-Serif\" font-size=\"14.00\">value = [0, 4, 0]</text>\n<text text-anchor=\"start\" x=\"1106.5\" y=\"-238.3\" font-family=\"Helvetica,sans-Serif\" font-size=\"14.00\">class = p</text>\n</g>\n<!-- 19&#45;&gt;21 -->\n<g id=\"edge21\" class=\"edge\">\n<title>19&#45;&gt;21</title>\n<path fill=\"none\" stroke=\"black\" d=\"M1050.41,-341.91C1063.33,-330.1 1077.42,-317.22 1090.29,-305.45\"/>\n<polygon fill=\"black\" stroke=\"black\" points=\"1092.7,-308 1097.71,-298.67 1087.97,-302.83 1092.7,-308\"/>\n</g>\n</g>\n</svg>\n",
            "text/plain": [
              "<graphviz.sources.Source at 0x78d4b18fa5f0>"
            ]
          },
          "metadata": {}
        }
      ]
    },
    {
      "cell_type": "code",
      "source": [
        "# print to the output file\n",
        "print('**************************************************************', file = outputFile)\n",
        "print('(A) Classifier 2 - Top DT', file = outputFile)\n",
        "print(classifier_2, file = outputFile)\n",
        "print(f'best parameters: {classifier_2.best_params_}\\n', file = outputFile)\n",
        "print('\\n', file = outputFile)\n",
        "outputFile.flush()"
      ],
      "metadata": {
        "id": "OyY9Icjy8H7k"
      },
      "execution_count": 52,
      "outputs": []
    },
    {
      "cell_type": "code",
      "source": [
        "# print classification report\n",
        "y_pred = classifier_2.predict(X_test)\n",
        "confusion_mat = confusion_matrix(y_test, y_pred)\n",
        "\n",
        "print(classification_report(y_test, y_pred, target_names=['Adelie', 'Chinstrap', 'Gentoo']))\n",
        "print(\"confusion matrix\\n\",confusion_mat)\n",
        "\n",
        "# print the result to the output file\n",
        "print(classification_report(y_test, y_pred, target_names = ['Adelie', 'Chinstrap', 'Gentoo']), file = outputFile)\n",
        "confusion_matrix_result =np.array2string(confusion_mat)\n",
        "print(\"confusion matrix\", file = outputFile)\n",
        "print(confusion_matrix_result, file = outputFile)\n",
        "print('\\n', file = outputFile)\n",
        "outputFile.flush()"
      ],
      "metadata": {
        "id": "RyyDW6-78J9g",
        "outputId": "612f1295-43b0-41e4-8bed-5d10bd190c22",
        "colab": {
          "base_uri": "https://localhost:8080/"
        }
      },
      "execution_count": 53,
      "outputs": [
        {
          "output_type": "stream",
          "name": "stdout",
          "text": [
            "              precision    recall  f1-score   support\n",
            "\n",
            "      Adelie       1.00      0.93      0.96        44\n",
            "   Chinstrap       0.89      1.00      0.94        17\n",
            "      Gentoo       0.97      1.00      0.99        39\n",
            "\n",
            "    accuracy                           0.97       100\n",
            "   macro avg       0.96      0.98      0.97       100\n",
            "weighted avg       0.97      0.97      0.97       100\n",
            "\n",
            "confusion matrix\n",
            " [[41  2  1]\n",
            " [ 0 17  0]\n",
            " [ 0  0 39]]\n"
          ]
        }
      ]
    },
    {
      "cell_type": "code",
      "source": [
        "# repeat training & grid search & prediction 5 times for classifier 2\n",
        "from sklearn.metrics import accuracy_score, f1_score\n",
        "\n",
        "accuracy_TopDT = np.zeros(5)\n",
        "macro_avg_TopDT = np.zeros(5)\n",
        "weighted_avg_TopDT = np.zeros(5)\n",
        "\n",
        "print('\\n(E) The result after 5 times of train-test repetition:' ,file = outputFile)\n",
        "\n",
        "for i in range(5):\n",
        "  X_train, X_test, y_train, y_test = train_test_split(X, y, test_size = 0.3)\n",
        "\n",
        "  classifier_2 = GridSearchCV(DecisionTreeClassifier(), parameters)\n",
        "  classifier_2.fit(X_train, y_train)\n",
        "\n",
        "  print(f'best parameters for iteration{i+1}: {classifier_2.best_params_}',file = outputFile)\n",
        "  print(f'best parameters for iteration{i+1}: {classifier_2.best_params_}')\n",
        "\n",
        "  y_pred = classifier_2.predict(X_test)\n",
        "\n",
        "  # find the accuracy for each iteration and store the value\n",
        "  accuracy_TopDT[i] = accuracy_score(y_test, y_pred)\n",
        "  macro_avg_TopDT[i] = f1_score(y_test, y_pred, average='macro')\n",
        "  weighted_avg_TopDT[i] = f1_score(y_test, y_pred, average='weighted')\n",
        "\n",
        "# compute the average accuracy & variances\n",
        "print(f'accuracy_TopDT: {accuracy_TopDT}')\n",
        "Avg_accuracy = (np.sum(accuracy_TopDT))/5\n",
        "accuracy_variance = np.var(accuracy_TopDT)\n",
        "print(f'average accuracy: {Avg_accuracy}, variance: {accuracy_variance}')\n",
        "\n",
        "# compute the average macro-average F1 & the variance\n",
        "print(f'macro_avg_TopDT: {macro_avg_TopDT}')\n",
        "Avg_macro_avg = (np.sum(macro_avg_TopDT))/5\n",
        "f1_macro_variance = np.var(macro_avg_TopDT)\n",
        "print(f'average macro-average F1: {Avg_macro_avg}, variance: {f1_macro_variance}')\n",
        "\n",
        "# compute the average weighted-average F1 & the variance\n",
        "print(f'weighted_avg_TopDT: {weighted_avg_TopDT}')\n",
        "Avg_weighted_avg = (np.sum(weighted_avg_TopDT))/5\n",
        "f1_weighted_variance = np.var(weighted_avg_TopDT)\n",
        "print(f'average weighted-average F1: {Avg_weighted_avg}, variance: {f1_weighted_variance}')"
      ],
      "metadata": {
        "id": "0W_Jt4LMJgy0",
        "colab": {
          "base_uri": "https://localhost:8080/"
        },
        "outputId": "735deed5-7347-4c36-f904-1dbeb79cc8fc"
      },
      "execution_count": 54,
      "outputs": [
        {
          "output_type": "stream",
          "name": "stdout",
          "text": [
            "best parameters for iteration1: {'criterion': 'gini', 'max_depth': 5, 'min_samples_split': 2}\n",
            "best parameters for iteration2: {'criterion': 'entropy', 'max_depth': 5, 'min_samples_split': 2}\n",
            "best parameters for iteration3: {'criterion': 'gini', 'max_depth': 5, 'min_samples_split': 2}\n",
            "best parameters for iteration4: {'criterion': 'gini', 'max_depth': None, 'min_samples_split': 2}\n",
            "best parameters for iteration5: {'criterion': 'gini', 'max_depth': 5, 'min_samples_split': 2}\n",
            "accuracy_TopDT: [0.98 0.97 0.98 0.99 0.96]\n",
            "average accuracy: 0.976, variance: 0.00010400000000000018\n",
            "macro_avg_TopDT: [0.97619048 0.96469599 0.97891473 0.98614719 0.95115234]\n",
            "average macro-average F1: 0.9714201457730354, variance: 0.00015036170717510586\n",
            "weighted_avg_TopDT: [0.98       0.97016811 0.98       0.98992208 0.96073767]\n",
            "average weighted-average F1: 0.9761655721367248, variance: 9.852736762963472e-05\n"
          ]
        }
      ]
    },
    {
      "cell_type": "code",
      "source": [
        "# print the performance result to outputfile\n",
        "print('\\n', file = outputFile)\n",
        "print(f'average accuracy: {Avg_accuracy}, variance: {accuracy_variance}', file = outputFile)\n",
        "print(f'average macro-average F1: {Avg_macro_avg}, variance: {f1_macro_variance}', file = outputFile)\n",
        "print(f'average weighted-average F1: {Avg_weighted_avg}, variance: {f1_weighted_variance}', file = outputFile)\n",
        "print('\\n', file = outputFile)\n",
        "outputFile.flush()"
      ],
      "metadata": {
        "id": "Y4XPTddeb6Ck"
      },
      "execution_count": 55,
      "outputs": []
    },
    {
      "cell_type": "markdown",
      "source": [
        "##### Classifier 3 - Base-MLP"
      ],
      "metadata": {
        "id": "RsxEdv-Xd7Vn"
      }
    },
    {
      "cell_type": "code",
      "source": [
        "#Train Classifier 3\n",
        "mlp_base_penguin = MLPClassifier(hidden_layer_sizes =(100, 100,), activation = 'logistic', solver = 'sgd')\n",
        "mlp_base_penguin.fit(X_train, y_train)\n",
        "\n",
        "#print to the output file\n",
        "print('\\n**************************************************************', file = outputFile)\n",
        "print('(A) Classifier 3 - Base MLP', file = outputFile)\n",
        "print(mlp_base_penguin, file = outputFile)\n",
        "print('\\n', file = outputFile)"
      ],
      "metadata": {
        "id": "LXZXNDUWd6Np"
      },
      "execution_count": 56,
      "outputs": []
    },
    {
      "cell_type": "markdown",
      "source": [
        "Metrics for Classifier 3"
      ],
      "metadata": {
        "id": "KpcPx0vCJryX"
      }
    },
    {
      "cell_type": "code",
      "source": [
        "#predict with Base MLP\n",
        "y_pred_base_mlp = mlp_base_penguin.predict(X_test)\n",
        "\n",
        "#print the result here on notebook\n",
        "print(classification_report(y_test, y_pred_base_mlp, target_names = ['Adelie', 'Gentoo', 'Chinstap']))\n",
        "print(confusion_matrix(y_test, y_pred_base_mlp))\n",
        "\n",
        "#print the result to the output file\n",
        "print(\"(B) Confusion Matrix\", file = outputFile)\n",
        "confusion_matrix_result =np.array2string(confusion_matrix(y_test, y_pred_base_mlp))\n",
        "print(confusion_matrix_result, file = outputFile)\n",
        "print('\\n', file = outputFile)\n",
        "print(\"(C,D) Classification Report\", file = outputFile)\n",
        "print(classification_report(y_test, y_pred_base_mlp, target_names = ['Adelie', 'Gentoo', 'Chinstap']), file = outputFile)\n",
        "\n",
        "outputFile.flush()"
      ],
      "metadata": {
        "id": "tpH0AREeJmJ2",
        "outputId": "d86d867a-535a-4d65-faeb-b813c6fccf55",
        "colab": {
          "base_uri": "https://localhost:8080/"
        }
      },
      "execution_count": 57,
      "outputs": [
        {
          "output_type": "stream",
          "name": "stdout",
          "text": [
            "              precision    recall  f1-score   support\n",
            "\n",
            "      Adelie       0.42      1.00      0.59        42\n",
            "      Gentoo       0.00      0.00      0.00        16\n",
            "    Chinstap       0.00      0.00      0.00        42\n",
            "\n",
            "    accuracy                           0.42       100\n",
            "   macro avg       0.14      0.33      0.20       100\n",
            "weighted avg       0.18      0.42      0.25       100\n",
            "\n",
            "[[42  0  0]\n",
            " [16  0  0]\n",
            " [42  0  0]]\n"
          ]
        }
      ]
    },
    {
      "cell_type": "code",
      "source": [
        "#repeat train-test 5 times\n",
        "MLP_base_train_test_repetition(X, y, outputFile, ['Adelie', 'Gentoo', 'Chinstap'])"
      ],
      "metadata": {
        "id": "mpo7xeAfNajE"
      },
      "execution_count": 58,
      "outputs": []
    },
    {
      "cell_type": "markdown",
      "source": [
        "##### Classifier 4 - Top-MLP"
      ],
      "metadata": {
        "id": "Km0ZyCsVe8ze"
      }
    },
    {
      "cell_type": "code",
      "source": [
        "#create grid for each hyperparamter we want to test\n",
        "activation_grid = np.array(['logistic', 'tanh', 'relu'])\n",
        "neurons_tuple_grid = np.array([(30, 50,), (10, 10, 10,)], dtype = 'object')\n",
        "solver_grid = np.array(['adam', 'sgd'])\n",
        "\n",
        "#create parameter grid for GridSearchCV\n",
        "param_grid = {'hidden_layer_sizes': neurons_tuple_grid, 'activation': activation_grid, 'solver': solver_grid}\n",
        "\n",
        "#create grid cv object and do the search\n",
        "mlp_top_penguin = MLPClassifier()\n",
        "gridcv = sk.model_selection.GridSearchCV(mlp_top_penguin, param_grid = param_grid)\n",
        "gridcv.fit(X_train, y_train)\n",
        "\n",
        "#print the result here on notebook\n",
        "print(f'best parameters: {gridcv.best_params_}')\n",
        "\n",
        "#print the result to the output file\n",
        "print('**************************************************************', file = outputFile)\n",
        "print('(A) Classifier 4 - Top MLP', file = outputFile)\n",
        "print(f'best parameters: {gridcv.best_params_}\\n', file = outputFile)\n",
        "outputFile.flush()"
      ],
      "metadata": {
        "id": "-V8WxwtsfAHN",
        "outputId": "bec2b2e3-7c21-4f2c-903f-a4bbf8fa5e04",
        "colab": {
          "base_uri": "https://localhost:8080/"
        }
      },
      "execution_count": 59,
      "outputs": [
        {
          "output_type": "stream",
          "name": "stdout",
          "text": [
            "best parameters: {'activation': 'tanh', 'hidden_layer_sizes': (30, 50), 'solver': 'adam'}\n"
          ]
        }
      ]
    },
    {
      "cell_type": "markdown",
      "source": [
        "Metrics for Classifier 4 - Top MLP"
      ],
      "metadata": {
        "id": "1l-RdJs8oT5n"
      }
    },
    {
      "cell_type": "code",
      "source": [
        "#predict\n",
        "y_pred_top_mlp = gridcv.best_estimator_.predict(X_test)\n",
        "\n",
        "#print the result here on notebook\n",
        "print(classification_report(y_test, y_pred_top_mlp, target_names = ['Adelie', 'Gentoo', 'Chinstap']))\n",
        "print(confusion_matrix(y_test, y_pred_top_mlp))\n",
        "\n",
        "#print the result to the output file\n",
        "print(\"(B) Confusion Matrix\", file = outputFile)\n",
        "confusion_matrix_result =np.array2string(confusion_matrix(y_test, y_pred_top_mlp))\n",
        "print(confusion_matrix_result, file = outputFile)\n",
        "print(\"\\n(C,D) Classification Report\", file = outputFile)\n",
        "print(classification_report(y_test, y_pred_top_mlp, target_names = ['Adelie', 'Gentoo', 'Chinstap']), file = outputFile)\n",
        "\n",
        "outputFile.flush()"
      ],
      "metadata": {
        "id": "HINTuN52kIyr",
        "outputId": "63d91da8-cf50-43cf-fdcb-a182c0ff7eb6",
        "colab": {
          "base_uri": "https://localhost:8080/"
        }
      },
      "execution_count": 60,
      "outputs": [
        {
          "output_type": "stream",
          "name": "stdout",
          "text": [
            "              precision    recall  f1-score   support\n",
            "\n",
            "      Adelie       0.62      0.60      0.61        42\n",
            "      Gentoo       0.00      0.00      0.00        16\n",
            "    Chinstap       0.68      0.98      0.80        42\n",
            "\n",
            "    accuracy                           0.66       100\n",
            "   macro avg       0.44      0.52      0.47       100\n",
            "weighted avg       0.55      0.66      0.59       100\n",
            "\n",
            "[[25  0 17]\n",
            " [14  0  2]\n",
            " [ 1  0 41]]\n"
          ]
        }
      ]
    },
    {
      "cell_type": "code",
      "source": [
        "MLP_top_train_test_repetition(param_grid, X, y, outputFile,['Adelie', 'Gentoo', 'Chinstap'])"
      ],
      "metadata": {
        "id": "WtHfQTtKSIlM"
      },
      "execution_count": 61,
      "outputs": []
    },
    {
      "cell_type": "code",
      "source": [
        "outputFile.close()"
      ],
      "metadata": {
        "id": "uj6lfQkPIRsk"
      },
      "execution_count": 62,
      "outputs": []
    },
    {
      "cell_type": "markdown",
      "source": [
        "## Dataset - 'abalone.csv'\n",
        "- Goal : prediction of sex"
      ],
      "metadata": {
        "id": "WYPRbdtq2-91"
      }
    },
    {
      "cell_type": "code",
      "source": [
        "outputFile = open('abalone-performance.txt', 'w')"
      ],
      "metadata": {
        "id": "jQKCBY32lPaR"
      },
      "execution_count": 90,
      "outputs": []
    },
    {
      "cell_type": "code",
      "source": [
        "data_abalone = pd.read_csv('abalone.csv')\n",
        "data_abalone.head()"
      ],
      "metadata": {
        "id": "wMutHb2AzmB1",
        "colab": {
          "base_uri": "https://localhost:8080/",
          "height": 206
        },
        "outputId": "b326db6e-aa25-49c4-c4d1-427aed4d056c"
      },
      "execution_count": 91,
      "outputs": [
        {
          "output_type": "execute_result",
          "data": {
            "text/plain": [
              "  Type  LongestShell  Diameter  Height  WholeWeight  ShuckedWeight  \\\n",
              "0    F         0.605     0.470   0.165       1.1775         0.6110   \n",
              "1    M         0.550     0.425   0.150       0.8315         0.4110   \n",
              "2    M         0.460     0.345   0.110       0.4595         0.2350   \n",
              "3    F         0.650     0.475   0.165       1.3875         0.5800   \n",
              "4    M         0.575     0.470   0.140       0.8375         0.3485   \n",
              "\n",
              "   VisceraWeight  ShellWeight  Rings  \n",
              "0         0.2275       0.2920      9  \n",
              "1         0.1765       0.2165     10  \n",
              "2         0.0885       0.1160      7  \n",
              "3         0.3485       0.3095      9  \n",
              "4         0.1735       0.2400     11  "
            ],
            "text/html": [
              "\n",
              "  <div id=\"df-296ed331-37a1-4c68-bab4-3c807549e96f\" class=\"colab-df-container\">\n",
              "    <div>\n",
              "<style scoped>\n",
              "    .dataframe tbody tr th:only-of-type {\n",
              "        vertical-align: middle;\n",
              "    }\n",
              "\n",
              "    .dataframe tbody tr th {\n",
              "        vertical-align: top;\n",
              "    }\n",
              "\n",
              "    .dataframe thead th {\n",
              "        text-align: right;\n",
              "    }\n",
              "</style>\n",
              "<table border=\"1\" class=\"dataframe\">\n",
              "  <thead>\n",
              "    <tr style=\"text-align: right;\">\n",
              "      <th></th>\n",
              "      <th>Type</th>\n",
              "      <th>LongestShell</th>\n",
              "      <th>Diameter</th>\n",
              "      <th>Height</th>\n",
              "      <th>WholeWeight</th>\n",
              "      <th>ShuckedWeight</th>\n",
              "      <th>VisceraWeight</th>\n",
              "      <th>ShellWeight</th>\n",
              "      <th>Rings</th>\n",
              "    </tr>\n",
              "  </thead>\n",
              "  <tbody>\n",
              "    <tr>\n",
              "      <th>0</th>\n",
              "      <td>F</td>\n",
              "      <td>0.605</td>\n",
              "      <td>0.470</td>\n",
              "      <td>0.165</td>\n",
              "      <td>1.1775</td>\n",
              "      <td>0.6110</td>\n",
              "      <td>0.2275</td>\n",
              "      <td>0.2920</td>\n",
              "      <td>9</td>\n",
              "    </tr>\n",
              "    <tr>\n",
              "      <th>1</th>\n",
              "      <td>M</td>\n",
              "      <td>0.550</td>\n",
              "      <td>0.425</td>\n",
              "      <td>0.150</td>\n",
              "      <td>0.8315</td>\n",
              "      <td>0.4110</td>\n",
              "      <td>0.1765</td>\n",
              "      <td>0.2165</td>\n",
              "      <td>10</td>\n",
              "    </tr>\n",
              "    <tr>\n",
              "      <th>2</th>\n",
              "      <td>M</td>\n",
              "      <td>0.460</td>\n",
              "      <td>0.345</td>\n",
              "      <td>0.110</td>\n",
              "      <td>0.4595</td>\n",
              "      <td>0.2350</td>\n",
              "      <td>0.0885</td>\n",
              "      <td>0.1160</td>\n",
              "      <td>7</td>\n",
              "    </tr>\n",
              "    <tr>\n",
              "      <th>3</th>\n",
              "      <td>F</td>\n",
              "      <td>0.650</td>\n",
              "      <td>0.475</td>\n",
              "      <td>0.165</td>\n",
              "      <td>1.3875</td>\n",
              "      <td>0.5800</td>\n",
              "      <td>0.3485</td>\n",
              "      <td>0.3095</td>\n",
              "      <td>9</td>\n",
              "    </tr>\n",
              "    <tr>\n",
              "      <th>4</th>\n",
              "      <td>M</td>\n",
              "      <td>0.575</td>\n",
              "      <td>0.470</td>\n",
              "      <td>0.140</td>\n",
              "      <td>0.8375</td>\n",
              "      <td>0.3485</td>\n",
              "      <td>0.1735</td>\n",
              "      <td>0.2400</td>\n",
              "      <td>11</td>\n",
              "    </tr>\n",
              "  </tbody>\n",
              "</table>\n",
              "</div>\n",
              "    <div class=\"colab-df-buttons\">\n",
              "\n",
              "  <div class=\"colab-df-container\">\n",
              "    <button class=\"colab-df-convert\" onclick=\"convertToInteractive('df-296ed331-37a1-4c68-bab4-3c807549e96f')\"\n",
              "            title=\"Convert this dataframe to an interactive table.\"\n",
              "            style=\"display:none;\">\n",
              "\n",
              "  <svg xmlns=\"http://www.w3.org/2000/svg\" height=\"24px\" viewBox=\"0 -960 960 960\">\n",
              "    <path d=\"M120-120v-720h720v720H120Zm60-500h600v-160H180v160Zm220 220h160v-160H400v160Zm0 220h160v-160H400v160ZM180-400h160v-160H180v160Zm440 0h160v-160H620v160ZM180-180h160v-160H180v160Zm440 0h160v-160H620v160Z\"/>\n",
              "  </svg>\n",
              "    </button>\n",
              "\n",
              "  <style>\n",
              "    .colab-df-container {\n",
              "      display:flex;\n",
              "      gap: 12px;\n",
              "    }\n",
              "\n",
              "    .colab-df-convert {\n",
              "      background-color: #E8F0FE;\n",
              "      border: none;\n",
              "      border-radius: 50%;\n",
              "      cursor: pointer;\n",
              "      display: none;\n",
              "      fill: #1967D2;\n",
              "      height: 32px;\n",
              "      padding: 0 0 0 0;\n",
              "      width: 32px;\n",
              "    }\n",
              "\n",
              "    .colab-df-convert:hover {\n",
              "      background-color: #E2EBFA;\n",
              "      box-shadow: 0px 1px 2px rgba(60, 64, 67, 0.3), 0px 1px 3px 1px rgba(60, 64, 67, 0.15);\n",
              "      fill: #174EA6;\n",
              "    }\n",
              "\n",
              "    .colab-df-buttons div {\n",
              "      margin-bottom: 4px;\n",
              "    }\n",
              "\n",
              "    [theme=dark] .colab-df-convert {\n",
              "      background-color: #3B4455;\n",
              "      fill: #D2E3FC;\n",
              "    }\n",
              "\n",
              "    [theme=dark] .colab-df-convert:hover {\n",
              "      background-color: #434B5C;\n",
              "      box-shadow: 0px 1px 3px 1px rgba(0, 0, 0, 0.15);\n",
              "      filter: drop-shadow(0px 1px 2px rgba(0, 0, 0, 0.3));\n",
              "      fill: #FFFFFF;\n",
              "    }\n",
              "  </style>\n",
              "\n",
              "    <script>\n",
              "      const buttonEl =\n",
              "        document.querySelector('#df-296ed331-37a1-4c68-bab4-3c807549e96f button.colab-df-convert');\n",
              "      buttonEl.style.display =\n",
              "        google.colab.kernel.accessAllowed ? 'block' : 'none';\n",
              "\n",
              "      async function convertToInteractive(key) {\n",
              "        const element = document.querySelector('#df-296ed331-37a1-4c68-bab4-3c807549e96f');\n",
              "        const dataTable =\n",
              "          await google.colab.kernel.invokeFunction('convertToInteractive',\n",
              "                                                    [key], {});\n",
              "        if (!dataTable) return;\n",
              "\n",
              "        const docLinkHtml = 'Like what you see? Visit the ' +\n",
              "          '<a target=\"_blank\" href=https://colab.research.google.com/notebooks/data_table.ipynb>data table notebook</a>'\n",
              "          + ' to learn more about interactive tables.';\n",
              "        element.innerHTML = '';\n",
              "        dataTable['output_type'] = 'display_data';\n",
              "        await google.colab.output.renderOutput(dataTable, element);\n",
              "        const docLink = document.createElement('div');\n",
              "        docLink.innerHTML = docLinkHtml;\n",
              "        element.appendChild(docLink);\n",
              "      }\n",
              "    </script>\n",
              "  </div>\n",
              "\n",
              "\n",
              "<div id=\"df-1a055467-ae57-440d-869b-62bc6b814cee\">\n",
              "  <button class=\"colab-df-quickchart\" onclick=\"quickchart('df-1a055467-ae57-440d-869b-62bc6b814cee')\"\n",
              "            title=\"Suggest charts\"\n",
              "            style=\"display:none;\">\n",
              "\n",
              "<svg xmlns=\"http://www.w3.org/2000/svg\" height=\"24px\"viewBox=\"0 0 24 24\"\n",
              "     width=\"24px\">\n",
              "    <g>\n",
              "        <path d=\"M19 3H5c-1.1 0-2 .9-2 2v14c0 1.1.9 2 2 2h14c1.1 0 2-.9 2-2V5c0-1.1-.9-2-2-2zM9 17H7v-7h2v7zm4 0h-2V7h2v10zm4 0h-2v-4h2v4z\"/>\n",
              "    </g>\n",
              "</svg>\n",
              "  </button>\n",
              "\n",
              "<style>\n",
              "  .colab-df-quickchart {\n",
              "      --bg-color: #E8F0FE;\n",
              "      --fill-color: #1967D2;\n",
              "      --hover-bg-color: #E2EBFA;\n",
              "      --hover-fill-color: #174EA6;\n",
              "      --disabled-fill-color: #AAA;\n",
              "      --disabled-bg-color: #DDD;\n",
              "  }\n",
              "\n",
              "  [theme=dark] .colab-df-quickchart {\n",
              "      --bg-color: #3B4455;\n",
              "      --fill-color: #D2E3FC;\n",
              "      --hover-bg-color: #434B5C;\n",
              "      --hover-fill-color: #FFFFFF;\n",
              "      --disabled-bg-color: #3B4455;\n",
              "      --disabled-fill-color: #666;\n",
              "  }\n",
              "\n",
              "  .colab-df-quickchart {\n",
              "    background-color: var(--bg-color);\n",
              "    border: none;\n",
              "    border-radius: 50%;\n",
              "    cursor: pointer;\n",
              "    display: none;\n",
              "    fill: var(--fill-color);\n",
              "    height: 32px;\n",
              "    padding: 0;\n",
              "    width: 32px;\n",
              "  }\n",
              "\n",
              "  .colab-df-quickchart:hover {\n",
              "    background-color: var(--hover-bg-color);\n",
              "    box-shadow: 0 1px 2px rgba(60, 64, 67, 0.3), 0 1px 3px 1px rgba(60, 64, 67, 0.15);\n",
              "    fill: var(--button-hover-fill-color);\n",
              "  }\n",
              "\n",
              "  .colab-df-quickchart-complete:disabled,\n",
              "  .colab-df-quickchart-complete:disabled:hover {\n",
              "    background-color: var(--disabled-bg-color);\n",
              "    fill: var(--disabled-fill-color);\n",
              "    box-shadow: none;\n",
              "  }\n",
              "\n",
              "  .colab-df-spinner {\n",
              "    border: 2px solid var(--fill-color);\n",
              "    border-color: transparent;\n",
              "    border-bottom-color: var(--fill-color);\n",
              "    animation:\n",
              "      spin 1s steps(1) infinite;\n",
              "  }\n",
              "\n",
              "  @keyframes spin {\n",
              "    0% {\n",
              "      border-color: transparent;\n",
              "      border-bottom-color: var(--fill-color);\n",
              "      border-left-color: var(--fill-color);\n",
              "    }\n",
              "    20% {\n",
              "      border-color: transparent;\n",
              "      border-left-color: var(--fill-color);\n",
              "      border-top-color: var(--fill-color);\n",
              "    }\n",
              "    30% {\n",
              "      border-color: transparent;\n",
              "      border-left-color: var(--fill-color);\n",
              "      border-top-color: var(--fill-color);\n",
              "      border-right-color: var(--fill-color);\n",
              "    }\n",
              "    40% {\n",
              "      border-color: transparent;\n",
              "      border-right-color: var(--fill-color);\n",
              "      border-top-color: var(--fill-color);\n",
              "    }\n",
              "    60% {\n",
              "      border-color: transparent;\n",
              "      border-right-color: var(--fill-color);\n",
              "    }\n",
              "    80% {\n",
              "      border-color: transparent;\n",
              "      border-right-color: var(--fill-color);\n",
              "      border-bottom-color: var(--fill-color);\n",
              "    }\n",
              "    90% {\n",
              "      border-color: transparent;\n",
              "      border-bottom-color: var(--fill-color);\n",
              "    }\n",
              "  }\n",
              "</style>\n",
              "\n",
              "  <script>\n",
              "    async function quickchart(key) {\n",
              "      const quickchartButtonEl =\n",
              "        document.querySelector('#' + key + ' button');\n",
              "      quickchartButtonEl.disabled = true;  // To prevent multiple clicks.\n",
              "      quickchartButtonEl.classList.add('colab-df-spinner');\n",
              "      try {\n",
              "        const charts = await google.colab.kernel.invokeFunction(\n",
              "            'suggestCharts', [key], {});\n",
              "      } catch (error) {\n",
              "        console.error('Error during call to suggestCharts:', error);\n",
              "      }\n",
              "      quickchartButtonEl.classList.remove('colab-df-spinner');\n",
              "      quickchartButtonEl.classList.add('colab-df-quickchart-complete');\n",
              "    }\n",
              "    (() => {\n",
              "      let quickchartButtonEl =\n",
              "        document.querySelector('#df-1a055467-ae57-440d-869b-62bc6b814cee button');\n",
              "      quickchartButtonEl.style.display =\n",
              "        google.colab.kernel.accessAllowed ? 'block' : 'none';\n",
              "    })();\n",
              "  </script>\n",
              "</div>\n",
              "    </div>\n",
              "  </div>\n"
            ]
          },
          "metadata": {},
          "execution_count": 91
        }
      ]
    },
    {
      "cell_type": "markdown",
      "source": [
        "#### Plot the percentage of the instances"
      ],
      "metadata": {
        "id": "vRRzVKIo39rm"
      }
    },
    {
      "cell_type": "code",
      "source": [
        "# Check the output class is balanced\n",
        "abalone_labels = data_abalone['Type']\n",
        "\n",
        "plt.figure(figsize=(10, 6))\n",
        "sns.countplot(x=abalone_labels)\n",
        "plt.title('Distribution of class label')\n",
        "plt.xlabel('Abalone')\n",
        "plt.ylabel('Frequency')\n",
        "\n",
        "# save as graphic\n",
        "plt.savefig('abalone-classes.png')\n"
      ],
      "metadata": {
        "colab": {
          "base_uri": "https://localhost:8080/",
          "height": 564
        },
        "id": "yq-_zOJu3-Sr",
        "outputId": "411382a6-c029-409d-b6ff-83e432fe5f86"
      },
      "execution_count": 92,
      "outputs": [
        {
          "output_type": "display_data",
          "data": {
            "text/plain": [
              "<Figure size 1000x600 with 1 Axes>"
            ],
            "image/png": "[encoded data removed]"
          },
          "metadata": {}
        }
      ]
    },
    {
      "cell_type": "markdown",
      "source": [
        "#### Dataset split into training & test set"
      ],
      "metadata": {
        "id": "U83DY2IC3rvY"
      }
    },
    {
      "cell_type": "code",
      "source": [
        "# perform feature scaling\n",
        "#from sklearn.preprocessing import StandardScaler\n",
        "#scaled_features_abalone = StandardScaler().fit_transform(data_abalone.iloc[:, 1:].values)\n",
        "\n",
        "#X = scaled_features_abalone\n",
        "#y = data_abalone.iloc[:,0].values"
      ],
      "metadata": {
        "id": "ao8xlPj-zmD8"
      },
      "execution_count": 89,
      "outputs": []
    },
    {
      "cell_type": "code",
      "source": [
        "#from sklearn.model_selection import train_test_split\n",
        "#X_train, X_test, y_train, y_test = train_test_split(X, y, test_size = 0.3)"
      ],
      "metadata": {
        "id": "WJweG6uCzmFv"
      },
      "execution_count": 67,
      "outputs": []
    },
    {
      "cell_type": "code",
      "source": [
        "X = data_abalone.iloc[:, 1:].values\n",
        "y = data_abalone.iloc[:, 0].values\n",
        "\n",
        "X_train, X_test, y_train, y_test = train_test_split(X, y, test_size = 0.3)"
      ],
      "metadata": {
        "id": "ZxWO6bhowSfw"
      },
      "execution_count": 93,
      "outputs": []
    },
    {
      "cell_type": "code",
      "source": [
        "sc = StandardScaler()\n",
        "X_train = sc.fit_transform(X_train)\n",
        "X_test = sc.transform(X_test)"
      ],
      "metadata": {
        "id": "6VjPNuwawpfg"
      },
      "execution_count": 94,
      "outputs": []
    },
    {
      "cell_type": "markdown",
      "source": [
        "#### Train and test 4 different classifiers"
      ],
      "metadata": {
        "id": "xDSmVlbI9Hyl"
      }
    },
    {
      "cell_type": "markdown",
      "source": [
        "##### Classifier 1 - Base-DT"
      ],
      "metadata": {
        "id": "XyL9UsKq2tsv"
      }
    },
    {
      "cell_type": "code",
      "source": [
        "from sklearn.tree import DecisionTreeClassifier\n",
        "\n",
        "# Base Decision Tree\n",
        "classifier_1 = DecisionTreeClassifier(max_depth=3)\n",
        "classifier_1.fit(X_train, y_train)"
      ],
      "metadata": {
        "colab": {
          "base_uri": "https://localhost:8080/",
          "height": 75
        },
        "id": "C0cUxRm82tD7",
        "outputId": "d05ce242-3161-4012-a636-6dd1eb7c07d4"
      },
      "execution_count": 95,
      "outputs": [
        {
          "output_type": "execute_result",
          "data": {
            "text/plain": [
              "DecisionTreeClassifier(max_depth=3)"
            ],
            "text/html": [
              "<style>#sk-container-id-4 {color: black;background-color: white;}#sk-container-id-4 pre{padding: 0;}#sk-container-id-4 div.sk-toggleable {background-color: white;}#sk-container-id-4 label.sk-toggleable__label {cursor: pointer;display: block;width: 100%;margin-bottom: 0;padding: 0.3em;box-sizing: border-box;text-align: center;}#sk-container-id-4 label.sk-toggleable__label-arrow:before {content: \"▸\";float: left;margin-right: 0.25em;color: #696969;}#sk-container-id-4 label.sk-toggleable__label-arrow:hover:before {color: black;}#sk-container-id-4 div.sk-estimator:hover label.sk-toggleable__label-arrow:before {color: black;}#sk-container-id-4 div.sk-toggleable__content {max-height: 0;max-width: 0;overflow: hidden;text-align: left;background-color: #f0f8ff;}#sk-container-id-4 div.sk-toggleable__content pre {margin: 0.2em;color: black;border-radius: 0.25em;background-color: #f0f8ff;}#sk-container-id-4 input.sk-toggleable__control:checked~div.sk-toggleable__content {max-height: 200px;max-width: 100%;overflow: auto;}#sk-container-id-4 input.sk-toggleable__control:checked~label.sk-toggleable__label-arrow:before {content: \"▾\";}#sk-container-id-4 div.sk-estimator input.sk-toggleable__control:checked~label.sk-toggleable__label {background-color: #d4ebff;}#sk-container-id-4 div.sk-label input.sk-toggleable__control:checked~label.sk-toggleable__label {background-color: #d4ebff;}#sk-container-id-4 input.sk-hidden--visually {border: 0;clip: rect(1px 1px 1px 1px);clip: rect(1px, 1px, 1px, 1px);height: 1px;margin: -1px;overflow: hidden;padding: 0;position: absolute;width: 1px;}#sk-container-id-4 div.sk-estimator {font-family: monospace;background-color: #f0f8ff;border: 1px dotted black;border-radius: 0.25em;box-sizing: border-box;margin-bottom: 0.5em;}#sk-container-id-4 div.sk-estimator:hover {background-color: #d4ebff;}#sk-container-id-4 div.sk-parallel-item::after {content: \"\";width: 100%;border-bottom: 1px solid gray;flex-grow: 1;}#sk-container-id-4 div.sk-label:hover label.sk-toggleable__label {background-color: #d4ebff;}#sk-container-id-4 div.sk-serial::before {content: \"\";position: absolute;border-left: 1px solid gray;box-sizing: border-box;top: 0;bottom: 0;left: 50%;z-index: 0;}#sk-container-id-4 div.sk-serial {display: flex;flex-direction: column;align-items: center;background-color: white;padding-right: 0.2em;padding-left: 0.2em;position: relative;}#sk-container-id-4 div.sk-item {position: relative;z-index: 1;}#sk-container-id-4 div.sk-parallel {display: flex;align-items: stretch;justify-content: center;background-color: white;position: relative;}#sk-container-id-4 div.sk-item::before, #sk-container-id-4 div.sk-parallel-item::before {content: \"\";position: absolute;border-left: 1px solid gray;box-sizing: border-box;top: 0;bottom: 0;left: 50%;z-index: -1;}#sk-container-id-4 div.sk-parallel-item {display: flex;flex-direction: column;z-index: 1;position: relative;background-color: white;}#sk-container-id-4 div.sk-parallel-item:first-child::after {align-self: flex-end;width: 50%;}#sk-container-id-4 div.sk-parallel-item:last-child::after {align-self: flex-start;width: 50%;}#sk-container-id-4 div.sk-parallel-item:only-child::after {width: 0;}#sk-container-id-4 div.sk-dashed-wrapped {border: 1px dashed gray;margin: 0 0.4em 0.5em 0.4em;box-sizing: border-box;padding-bottom: 0.4em;background-color: white;}#sk-container-id-4 div.sk-label label {font-family: monospace;font-weight: bold;display: inline-block;line-height: 1.2em;}#sk-container-id-4 div.sk-label-container {text-align: center;}#sk-container-id-4 div.sk-container {/* jupyter's `normalize.less` sets `[hidden] { display: none; }` but bootstrap.min.css set `[hidden] { display: none !important; }` so we also need the `!important` here to be able to override the default hidden behavior on the sphinx rendered scikit-learn.org. See: https://github.com/scikit-learn/scikit-learn/issues/21755 */display: inline-block !important;position: relative;}#sk-container-id-4 div.sk-text-repr-fallback {display: none;}</style><div id=\"sk-container-id-4\" class=\"sk-top-container\"><div class=\"sk-text-repr-fallback\"><pre>DecisionTreeClassifier(max_depth=3)</pre><b>In a Jupyter environment, please rerun this cell to show the HTML representation or trust the notebook. <br />On GitHub, the HTML representation is unable to render, please try loading this page with nbviewer.org.</b></div><div class=\"sk-container\" hidden><div class=\"sk-item\"><div class=\"sk-estimator sk-toggleable\"><input class=\"sk-toggleable__control sk-hidden--visually\" id=\"sk-estimator-id-4\" type=\"checkbox\" checked><label for=\"sk-estimator-id-4\" class=\"sk-toggleable__label sk-toggleable__label-arrow\">DecisionTreeClassifier</label><div class=\"sk-toggleable__content\"><pre>DecisionTreeClassifier(max_depth=3)</pre></div></div></div></div></div>"
            ]
          },
          "metadata": {},
          "execution_count": 95
        }
      ]
    },
    {
      "cell_type": "code",
      "source": [
        "abalone_class = data_abalone.columns[0]\n",
        "abalone_features = list(data_abalone.columns[1:])"
      ],
      "metadata": {
        "id": "dGLPS-XQ29an"
      },
      "execution_count": 96,
      "outputs": []
    },
    {
      "cell_type": "code",
      "source": [
        "dot_data = tree.export_graphviz(classifier_1,\n",
        "                feature_names=abalone_features,\n",
        "                class_names=abalone_class,\n",
        "                filled=True, rounded=True,\n",
        "                special_characters=True)\n",
        "\n",
        "graph = graphviz.Source(dot_data)\n",
        "graph"
      ],
      "metadata": {
        "id": "8tgSldCH5xU1",
        "colab": {
          "base_uri": "https://localhost:8080/",
          "height": 619
        },
        "outputId": "6061bd4b-ada0-494e-8808-f42a1bdd9e3f"
      },
      "execution_count": 98,
      "outputs": [
        {
          "output_type": "execute_result",
          "data": {
            "image/svg+xml": "<?xml version=\"1.0\" encoding=\"UTF-8\" standalone=\"no\"?>\n<!DOCTYPE svg PUBLIC \"-//W3C//DTD SVG 1.1//EN\"\n \"http://www.w3.org/Graphics/SVG/1.1/DTD/svg11.dtd\">\n<!-- Generated by graphviz version 2.43.0 (0)\n -->\n<!-- Title: Tree Pages: 1 -->\n<svg width=\"1238pt\" height=\"433pt\"\n viewBox=\"0.00 0.00 1237.50 433.00\" xmlns=\"http://www.w3.org/2000/svg\" xmlns:xlink=\"http://www.w3.org/1999/xlink\">\n<g id=\"graph0\" class=\"graph\" transform=\"scale(1 1) rotate(0) translate(4 429)\">\n<title>Tree</title>\n<polygon fill=\"white\" stroke=\"transparent\" points=\"-4,4 -4,-429 1233.5,-429 1233.5,4 -4,4\"/>\n<!-- 0 -->\n<g id=\"node1\" class=\"node\">\n<title>0</title>\n<path fill=\"#f8f3fd\" stroke=\"black\" d=\"M672,-425C672,-425 534,-425 534,-425 528,-425 522,-419 522,-413 522,-413 522,-354 522,-354 522,-348 528,-342 534,-342 534,-342 672,-342 672,-342 678,-342 684,-348 684,-354 684,-354 684,-413 684,-413 684,-419 678,-425 672,-425\"/>\n<text text-anchor=\"start\" x=\"532.5\" y=\"-409.8\" font-family=\"Helvetica,sans-Serif\" font-size=\"14.00\">VisceraWeight ≤ &#45;0.333</text>\n<text text-anchor=\"start\" x=\"567.5\" y=\"-394.8\" font-family=\"Helvetica,sans-Serif\" font-size=\"14.00\">gini = 0.665</text>\n<text text-anchor=\"start\" x=\"554.5\" y=\"-379.8\" font-family=\"Helvetica,sans-Serif\" font-size=\"14.00\">samples = 2923</text>\n<text text-anchor=\"start\" x=\"530\" y=\"-364.8\" font-family=\"Helvetica,sans-Serif\" font-size=\"14.00\">value = [923, 942, 1058]</text>\n<text text-anchor=\"start\" x=\"575.5\" y=\"-349.8\" font-family=\"Helvetica,sans-Serif\" font-size=\"14.00\">class = p</text>\n</g>\n<!-- 1 -->\n<g id=\"node2\" class=\"node\">\n<title>1</title>\n<path fill=\"#94f1bb\" stroke=\"black\" d=\"M524.5,-306C524.5,-306 393.5,-306 393.5,-306 387.5,-306 381.5,-300 381.5,-294 381.5,-294 381.5,-235 381.5,-235 381.5,-229 387.5,-223 393.5,-223 393.5,-223 524.5,-223 524.5,-223 530.5,-223 536.5,-229 536.5,-235 536.5,-235 536.5,-294 536.5,-294 536.5,-300 530.5,-306 524.5,-306\"/>\n<text text-anchor=\"start\" x=\"415\" y=\"-290.8\" font-family=\"Helvetica,sans-Serif\" font-size=\"14.00\">Rings ≤ &#45;0.452</text>\n<text text-anchor=\"start\" x=\"423.5\" y=\"-275.8\" font-family=\"Helvetica,sans-Serif\" font-size=\"14.00\">gini = 0.528</text>\n<text text-anchor=\"start\" x=\"410.5\" y=\"-260.8\" font-family=\"Helvetica,sans-Serif\" font-size=\"14.00\">samples = 1211</text>\n<text text-anchor=\"start\" x=\"389.5\" y=\"-245.8\" font-family=\"Helvetica,sans-Serif\" font-size=\"14.00\">value = [188, 770, 253]</text>\n<text text-anchor=\"start\" x=\"432\" y=\"-230.8\" font-family=\"Helvetica,sans-Serif\" font-size=\"14.00\">class = y</text>\n</g>\n<!-- 0&#45;&gt;1 -->\n<g id=\"edge1\" class=\"edge\">\n<title>0&#45;&gt;1</title>\n<path fill=\"none\" stroke=\"black\" d=\"M553.04,-341.91C541.31,-332.38 528.72,-322.15 516.69,-312.37\"/>\n<polygon fill=\"black\" stroke=\"black\" points=\"518.84,-309.61 508.87,-306.02 514.43,-315.04 518.84,-309.61\"/>\n<text text-anchor=\"middle\" x=\"511.44\" y=\"-327.19\" font-family=\"Helvetica,sans-Serif\" font-size=\"14.00\">True</text>\n</g>\n<!-- 8 -->\n<g id=\"node9\" class=\"node\">\n<title>8</title>\n<path fill=\"#f6f1fd\" stroke=\"black\" d=\"M828.5,-306C828.5,-306 697.5,-306 697.5,-306 691.5,-306 685.5,-300 685.5,-294 685.5,-294 685.5,-235 685.5,-235 685.5,-229 691.5,-223 697.5,-223 697.5,-223 828.5,-223 828.5,-223 834.5,-223 840.5,-229 840.5,-235 840.5,-235 840.5,-294 840.5,-294 840.5,-300 834.5,-306 828.5,-306\"/>\n<text text-anchor=\"start\" x=\"695\" y=\"-290.8\" font-family=\"Helvetica,sans-Serif\" font-size=\"14.00\">VisceraWeight ≤ 0.279</text>\n<text text-anchor=\"start\" x=\"727.5\" y=\"-275.8\" font-family=\"Helvetica,sans-Serif\" font-size=\"14.00\">gini = 0.584</text>\n<text text-anchor=\"start\" x=\"714.5\" y=\"-260.8\" font-family=\"Helvetica,sans-Serif\" font-size=\"14.00\">samples = 1712</text>\n<text text-anchor=\"start\" x=\"693.5\" y=\"-245.8\" font-family=\"Helvetica,sans-Serif\" font-size=\"14.00\">value = [735, 172, 805]</text>\n<text text-anchor=\"start\" x=\"735.5\" y=\"-230.8\" font-family=\"Helvetica,sans-Serif\" font-size=\"14.00\">class = p</text>\n</g>\n<!-- 0&#45;&gt;8 -->\n<g id=\"edge8\" class=\"edge\">\n<title>0&#45;&gt;8</title>\n<path fill=\"none\" stroke=\"black\" d=\"M658.51,-341.91C671.67,-332.29 685.8,-321.95 699.29,-312.09\"/>\n<polygon fill=\"black\" stroke=\"black\" points=\"701.58,-314.75 707.59,-306.02 697.45,-309.1 701.58,-314.75\"/>\n<text text-anchor=\"middle\" x=\"703.75\" y=\"-327.02\" font-family=\"Helvetica,sans-Serif\" font-size=\"14.00\">False</text>\n</g>\n<!-- 2 -->\n<g id=\"node3\" class=\"node\">\n<title>2</title>\n<path fill=\"#6beca1\" stroke=\"black\" d=\"M294.5,-187C294.5,-187 161.5,-187 161.5,-187 155.5,-187 149.5,-181 149.5,-175 149.5,-175 149.5,-116 149.5,-116 149.5,-110 155.5,-104 161.5,-104 161.5,-104 294.5,-104 294.5,-104 300.5,-104 306.5,-110 306.5,-116 306.5,-116 306.5,-175 306.5,-175 306.5,-181 300.5,-187 294.5,-187\"/>\n<text text-anchor=\"start\" x=\"157.5\" y=\"-171.8\" font-family=\"Helvetica,sans-Serif\" font-size=\"14.00\">VisceraWeight ≤ &#45;0.793</text>\n<text text-anchor=\"start\" x=\"192.5\" y=\"-156.8\" font-family=\"Helvetica,sans-Serif\" font-size=\"14.00\">gini = 0.362</text>\n<text text-anchor=\"start\" x=\"183\" y=\"-141.8\" font-family=\"Helvetica,sans-Serif\" font-size=\"14.00\">samples = 790</text>\n<text text-anchor=\"start\" x=\"162.5\" y=\"-126.8\" font-family=\"Helvetica,sans-Serif\" font-size=\"14.00\">value = [57, 618, 115]</text>\n<text text-anchor=\"start\" x=\"201\" y=\"-111.8\" font-family=\"Helvetica,sans-Serif\" font-size=\"14.00\">class = y</text>\n</g>\n<!-- 1&#45;&gt;2 -->\n<g id=\"edge2\" class=\"edge\">\n<title>1&#45;&gt;2</title>\n<path fill=\"none\" stroke=\"black\" d=\"M381.44,-224.22C360.34,-213.53 337.33,-201.88 315.71,-190.92\"/>\n<polygon fill=\"black\" stroke=\"black\" points=\"317.04,-187.68 306.54,-186.28 313.88,-193.92 317.04,-187.68\"/>\n</g>\n<!-- 5 -->\n<g id=\"node6\" class=\"node\">\n<title>5</title>\n<path fill=\"#f5fef9\" stroke=\"black\" d=\"M524.5,-187C524.5,-187 393.5,-187 393.5,-187 387.5,-187 381.5,-181 381.5,-175 381.5,-175 381.5,-116 381.5,-116 381.5,-110 387.5,-104 393.5,-104 393.5,-104 524.5,-104 524.5,-104 530.5,-104 536.5,-110 536.5,-116 536.5,-116 536.5,-175 536.5,-175 536.5,-181 530.5,-187 524.5,-187\"/>\n<text text-anchor=\"start\" x=\"415\" y=\"-171.8\" font-family=\"Helvetica,sans-Serif\" font-size=\"14.00\">Rings ≤ &#45;0.146</text>\n<text text-anchor=\"start\" x=\"423.5\" y=\"-156.8\" font-family=\"Helvetica,sans-Serif\" font-size=\"14.00\">gini = 0.665</text>\n<text text-anchor=\"start\" x=\"414\" y=\"-141.8\" font-family=\"Helvetica,sans-Serif\" font-size=\"14.00\">samples = 421</text>\n<text text-anchor=\"start\" x=\"389.5\" y=\"-126.8\" font-family=\"Helvetica,sans-Serif\" font-size=\"14.00\">value = [131, 152, 138]</text>\n<text text-anchor=\"start\" x=\"432\" y=\"-111.8\" font-family=\"Helvetica,sans-Serif\" font-size=\"14.00\">class = y</text>\n</g>\n<!-- 1&#45;&gt;5 -->\n<g id=\"edge5\" class=\"edge\">\n<title>1&#45;&gt;5</title>\n<path fill=\"none\" stroke=\"black\" d=\"M459,-222.91C459,-214.65 459,-205.86 459,-197.3\"/>\n<polygon fill=\"black\" stroke=\"black\" points=\"462.5,-197.02 459,-187.02 455.5,-197.02 462.5,-197.02\"/>\n</g>\n<!-- 3 -->\n<g id=\"node4\" class=\"node\">\n<title>3</title>\n<path fill=\"#5be997\" stroke=\"black\" d=\"M128,-68C128,-68 12,-68 12,-68 6,-68 0,-62 0,-56 0,-56 0,-12 0,-12 0,-6 6,0 12,0 12,0 128,0 128,0 134,0 140,-6 140,-12 140,-12 140,-56 140,-56 140,-62 134,-68 128,-68\"/>\n<text text-anchor=\"start\" x=\"34.5\" y=\"-52.8\" font-family=\"Helvetica,sans-Serif\" font-size=\"14.00\">gini = 0.265</text>\n<text text-anchor=\"start\" x=\"25\" y=\"-37.8\" font-family=\"Helvetica,sans-Serif\" font-size=\"14.00\">samples = 580</text>\n<text text-anchor=\"start\" x=\"8\" y=\"-22.8\" font-family=\"Helvetica,sans-Serif\" font-size=\"14.00\">value = [18, 492, 70]</text>\n<text text-anchor=\"start\" x=\"43\" y=\"-7.8\" font-family=\"Helvetica,sans-Serif\" font-size=\"14.00\">class = y</text>\n</g>\n<!-- 2&#45;&gt;3 -->\n<g id=\"edge3\" class=\"edge\">\n<title>2&#45;&gt;3</title>\n<path fill=\"none\" stroke=\"black\" d=\"M169.17,-103.73C155.14,-94.01 140.21,-83.66 126.31,-74.02\"/>\n<polygon fill=\"black\" stroke=\"black\" points=\"128.01,-70.94 117.8,-68.13 124.02,-76.7 128.01,-70.94\"/>\n</g>\n<!-- 4 -->\n<g id=\"node5\" class=\"node\">\n<title>4</title>\n<path fill=\"#9ef2c1\" stroke=\"black\" d=\"M286,-68C286,-68 170,-68 170,-68 164,-68 158,-62 158,-56 158,-56 158,-12 158,-12 158,-6 164,0 170,0 170,0 286,0 286,0 292,0 298,-6 298,-12 298,-12 298,-56 298,-56 298,-62 292,-68 286,-68\"/>\n<text text-anchor=\"start\" x=\"196\" y=\"-52.8\" font-family=\"Helvetica,sans-Serif\" font-size=\"14.00\">gini = 0.56</text>\n<text text-anchor=\"start\" x=\"183\" y=\"-37.8\" font-family=\"Helvetica,sans-Serif\" font-size=\"14.00\">samples = 210</text>\n<text text-anchor=\"start\" x=\"166\" y=\"-22.8\" font-family=\"Helvetica,sans-Serif\" font-size=\"14.00\">value = [39, 126, 45]</text>\n<text text-anchor=\"start\" x=\"201\" y=\"-7.8\" font-family=\"Helvetica,sans-Serif\" font-size=\"14.00\">class = y</text>\n</g>\n<!-- 2&#45;&gt;4 -->\n<g id=\"edge4\" class=\"edge\">\n<title>2&#45;&gt;4</title>\n<path fill=\"none\" stroke=\"black\" d=\"M228,-103.73C228,-95.52 228,-86.86 228,-78.56\"/>\n<polygon fill=\"black\" stroke=\"black\" points=\"231.5,-78.3 228,-68.3 224.5,-78.3 231.5,-78.3\"/>\n</g>\n<!-- 6 -->\n<g id=\"node7\" class=\"node\">\n<title>6</title>\n<path fill=\"#c4f7da\" stroke=\"black\" d=\"M436,-68C436,-68 328,-68 328,-68 322,-68 316,-62 316,-56 316,-56 316,-12 316,-12 316,-6 322,0 328,0 328,0 436,0 436,0 442,0 448,-6 448,-12 448,-12 448,-56 448,-56 448,-62 442,-68 436,-68\"/>\n<text text-anchor=\"start\" x=\"350\" y=\"-52.8\" font-family=\"Helvetica,sans-Serif\" font-size=\"14.00\">gini = 0.61</text>\n<text text-anchor=\"start\" x=\"337\" y=\"-37.8\" font-family=\"Helvetica,sans-Serif\" font-size=\"14.00\">samples = 156</text>\n<text text-anchor=\"start\" x=\"324\" y=\"-22.8\" font-family=\"Helvetica,sans-Serif\" font-size=\"14.00\">value = [28, 80, 48]</text>\n<text text-anchor=\"start\" x=\"355\" y=\"-7.8\" font-family=\"Helvetica,sans-Serif\" font-size=\"14.00\">class = y</text>\n</g>\n<!-- 5&#45;&gt;6 -->\n<g id=\"edge6\" class=\"edge\">\n<title>5&#45;&gt;6</title>\n<path fill=\"none\" stroke=\"black\" d=\"M430.33,-103.73C424.11,-94.88 417.52,-85.51 411.27,-76.63\"/>\n<polygon fill=\"black\" stroke=\"black\" points=\"414.03,-74.47 405.42,-68.3 408.31,-78.49 414.03,-74.47\"/>\n</g>\n<!-- 7 -->\n<g id=\"node8\" class=\"node\">\n<title>7</title>\n<path fill=\"#fdf6f0\" stroke=\"black\" d=\"M594,-68C594,-68 478,-68 478,-68 472,-68 466,-62 466,-56 466,-56 466,-12 466,-12 466,-6 472,0 478,0 478,0 594,0 594,0 600,0 606,-6 606,-12 606,-12 606,-56 606,-56 606,-62 600,-68 594,-68\"/>\n<text text-anchor=\"start\" x=\"504\" y=\"-52.8\" font-family=\"Helvetica,sans-Serif\" font-size=\"14.00\">gini = 0.66</text>\n<text text-anchor=\"start\" x=\"491\" y=\"-37.8\" font-family=\"Helvetica,sans-Serif\" font-size=\"14.00\">samples = 265</text>\n<text text-anchor=\"start\" x=\"474\" y=\"-22.8\" font-family=\"Helvetica,sans-Serif\" font-size=\"14.00\">value = [103, 72, 90]</text>\n<text text-anchor=\"start\" x=\"508.5\" y=\"-7.8\" font-family=\"Helvetica,sans-Serif\" font-size=\"14.00\">class = T</text>\n</g>\n<!-- 5&#45;&gt;7 -->\n<g id=\"edge7\" class=\"edge\">\n<title>5&#45;&gt;7</title>\n<path fill=\"none\" stroke=\"black\" d=\"M487.67,-103.73C493.89,-94.88 500.48,-85.51 506.73,-76.63\"/>\n<polygon fill=\"black\" stroke=\"black\" points=\"509.69,-78.49 512.58,-68.3 503.97,-74.47 509.69,-78.49\"/>\n</g>\n<!-- 9 -->\n<g id=\"node10\" class=\"node\">\n<title>9</title>\n<path fill=\"#efe6fc\" stroke=\"black\" d=\"M828.5,-187C828.5,-187 697.5,-187 697.5,-187 691.5,-187 685.5,-181 685.5,-175 685.5,-175 685.5,-116 685.5,-116 685.5,-110 691.5,-104 697.5,-104 697.5,-104 828.5,-104 828.5,-104 834.5,-104 840.5,-110 840.5,-116 840.5,-116 840.5,-175 840.5,-175 840.5,-181 834.5,-187 828.5,-187\"/>\n<text text-anchor=\"start\" x=\"695.5\" y=\"-171.8\" font-family=\"Helvetica,sans-Serif\" font-size=\"14.00\">WholeWeight ≤ &#45;0.091</text>\n<text text-anchor=\"start\" x=\"727.5\" y=\"-156.8\" font-family=\"Helvetica,sans-Serif\" font-size=\"14.00\">gini = 0.643</text>\n<text text-anchor=\"start\" x=\"718\" y=\"-141.8\" font-family=\"Helvetica,sans-Serif\" font-size=\"14.00\">samples = 634</text>\n<text text-anchor=\"start\" x=\"693.5\" y=\"-126.8\" font-family=\"Helvetica,sans-Serif\" font-size=\"14.00\">value = [223, 137, 274]</text>\n<text text-anchor=\"start\" x=\"735.5\" y=\"-111.8\" font-family=\"Helvetica,sans-Serif\" font-size=\"14.00\">class = p</text>\n</g>\n<!-- 8&#45;&gt;9 -->\n<g id=\"edge9\" class=\"edge\">\n<title>8&#45;&gt;9</title>\n<path fill=\"none\" stroke=\"black\" d=\"M763,-222.91C763,-214.65 763,-205.86 763,-197.3\"/>\n<polygon fill=\"black\" stroke=\"black\" points=\"766.5,-197.02 763,-187.02 759.5,-197.02 766.5,-197.02\"/>\n</g>\n<!-- 12 -->\n<g id=\"node13\" class=\"node\">\n<title>12</title>\n<path fill=\"#fbf8fe\" stroke=\"black\" d=\"M1081,-187C1081,-187 945,-187 945,-187 939,-187 933,-181 933,-175 933,-175 933,-116 933,-116 933,-110 939,-104 945,-104 945,-104 1081,-104 1081,-104 1087,-104 1093,-110 1093,-116 1093,-116 1093,-175 1093,-175 1093,-181 1087,-187 1081,-187\"/>\n<text text-anchor=\"start\" x=\"941\" y=\"-171.8\" font-family=\"Helvetica,sans-Serif\" font-size=\"14.00\">ShuckedWeight ≤ 2.329</text>\n<text text-anchor=\"start\" x=\"977.5\" y=\"-156.8\" font-family=\"Helvetica,sans-Serif\" font-size=\"14.00\">gini = 0.531</text>\n<text text-anchor=\"start\" x=\"964.5\" y=\"-141.8\" font-family=\"Helvetica,sans-Serif\" font-size=\"14.00\">samples = 1078</text>\n<text text-anchor=\"start\" x=\"947.5\" y=\"-126.8\" font-family=\"Helvetica,sans-Serif\" font-size=\"14.00\">value = [512, 35, 531]</text>\n<text text-anchor=\"start\" x=\"985.5\" y=\"-111.8\" font-family=\"Helvetica,sans-Serif\" font-size=\"14.00\">class = p</text>\n</g>\n<!-- 8&#45;&gt;12 -->\n<g id=\"edge12\" class=\"edge\">\n<title>8&#45;&gt;12</title>\n<path fill=\"none\" stroke=\"black\" d=\"M840.73,-227.12C867,-214.83 896.54,-201 923.64,-188.32\"/>\n<polygon fill=\"black\" stroke=\"black\" points=\"925.15,-191.48 932.73,-184.07 922.19,-185.14 925.15,-191.48\"/>\n</g>\n<!-- 10 -->\n<g id=\"node11\" class=\"node\">\n<title>10</title>\n<path fill=\"#fefbf8\" stroke=\"black\" d=\"M744,-68C744,-68 636,-68 636,-68 630,-68 624,-62 624,-56 624,-56 624,-12 624,-12 624,-6 630,0 636,0 636,0 744,0 744,0 750,0 756,-6 756,-12 756,-12 756,-56 756,-56 756,-62 750,-68 744,-68\"/>\n<text text-anchor=\"start\" x=\"654.5\" y=\"-52.8\" font-family=\"Helvetica,sans-Serif\" font-size=\"14.00\">gini = 0.666</text>\n<text text-anchor=\"start\" x=\"645\" y=\"-37.8\" font-family=\"Helvetica,sans-Serif\" font-size=\"14.00\">samples = 223</text>\n<text text-anchor=\"start\" x=\"632\" y=\"-22.8\" font-family=\"Helvetica,sans-Serif\" font-size=\"14.00\">value = [79, 70, 74]</text>\n<text text-anchor=\"start\" x=\"662.5\" y=\"-7.8\" font-family=\"Helvetica,sans-Serif\" font-size=\"14.00\">class = T</text>\n</g>\n<!-- 9&#45;&gt;10 -->\n<g id=\"edge10\" class=\"edge\">\n<title>9&#45;&gt;10</title>\n<path fill=\"none\" stroke=\"black\" d=\"M735.82,-103.73C729.92,-94.88 723.67,-85.51 717.75,-76.63\"/>\n<polygon fill=\"black\" stroke=\"black\" points=\"720.66,-74.68 712.2,-68.3 714.83,-78.56 720.66,-74.68\"/>\n</g>\n<!-- 11 -->\n<g id=\"node12\" class=\"node\">\n<title>11</title>\n<path fill=\"#e5d5fa\" stroke=\"black\" d=\"M909.5,-68C909.5,-68 786.5,-68 786.5,-68 780.5,-68 774.5,-62 774.5,-56 774.5,-56 774.5,-12 774.5,-12 774.5,-6 780.5,0 786.5,0 786.5,0 909.5,0 909.5,0 915.5,0 921.5,-6 921.5,-12 921.5,-12 921.5,-56 921.5,-56 921.5,-62 915.5,-68 909.5,-68\"/>\n<text text-anchor=\"start\" x=\"812.5\" y=\"-52.8\" font-family=\"Helvetica,sans-Serif\" font-size=\"14.00\">gini = 0.614</text>\n<text text-anchor=\"start\" x=\"803\" y=\"-37.8\" font-family=\"Helvetica,sans-Serif\" font-size=\"14.00\">samples = 411</text>\n<text text-anchor=\"start\" x=\"782.5\" y=\"-22.8\" font-family=\"Helvetica,sans-Serif\" font-size=\"14.00\">value = [144, 67, 200]</text>\n<text text-anchor=\"start\" x=\"820.5\" y=\"-7.8\" font-family=\"Helvetica,sans-Serif\" font-size=\"14.00\">class = p</text>\n</g>\n<!-- 9&#45;&gt;11 -->\n<g id=\"edge11\" class=\"edge\">\n<title>9&#45;&gt;11</title>\n<path fill=\"none\" stroke=\"black\" d=\"M794.65,-103.73C801.59,-94.79 808.94,-85.32 815.9,-76.36\"/>\n<polygon fill=\"black\" stroke=\"black\" points=\"818.78,-78.35 822.15,-68.3 813.25,-74.05 818.78,-78.35\"/>\n</g>\n<!-- 13 -->\n<g id=\"node14\" class=\"node\">\n<title>13</title>\n<path fill=\"#fefcfa\" stroke=\"black\" d=\"M1074.5,-68C1074.5,-68 951.5,-68 951.5,-68 945.5,-68 939.5,-62 939.5,-56 939.5,-56 939.5,-12 939.5,-12 939.5,-6 945.5,0 951.5,0 951.5,0 1074.5,0 1074.5,0 1080.5,0 1086.5,-6 1086.5,-12 1086.5,-12 1086.5,-56 1086.5,-56 1086.5,-62 1080.5,-68 1074.5,-68\"/>\n<text text-anchor=\"start\" x=\"977.5\" y=\"-52.8\" font-family=\"Helvetica,sans-Serif\" font-size=\"14.00\">gini = 0.533</text>\n<text text-anchor=\"start\" x=\"964.5\" y=\"-37.8\" font-family=\"Helvetica,sans-Serif\" font-size=\"14.00\">samples = 1009</text>\n<text text-anchor=\"start\" x=\"947.5\" y=\"-22.8\" font-family=\"Helvetica,sans-Serif\" font-size=\"14.00\">value = [493, 35, 481]</text>\n<text text-anchor=\"start\" x=\"985.5\" y=\"-7.8\" font-family=\"Helvetica,sans-Serif\" font-size=\"14.00\">class = T</text>\n</g>\n<!-- 12&#45;&gt;13 -->\n<g id=\"edge13\" class=\"edge\">\n<title>12&#45;&gt;13</title>\n<path fill=\"none\" stroke=\"black\" d=\"M1013,-103.73C1013,-95.52 1013,-86.86 1013,-78.56\"/>\n<polygon fill=\"black\" stroke=\"black\" points=\"1016.5,-78.3 1013,-68.3 1009.5,-78.3 1016.5,-78.3\"/>\n</g>\n<!-- 14 -->\n<g id=\"node15\" class=\"node\">\n<title>14</title>\n<path fill=\"#b184ef\" stroke=\"black\" d=\"M1217.5,-68C1217.5,-68 1116.5,-68 1116.5,-68 1110.5,-68 1104.5,-62 1104.5,-56 1104.5,-56 1104.5,-12 1104.5,-12 1104.5,-6 1110.5,0 1116.5,0 1116.5,0 1217.5,0 1217.5,0 1223.5,0 1229.5,-6 1229.5,-12 1229.5,-12 1229.5,-56 1229.5,-56 1229.5,-62 1223.5,-68 1217.5,-68\"/>\n<text text-anchor=\"start\" x=\"1131.5\" y=\"-52.8\" font-family=\"Helvetica,sans-Serif\" font-size=\"14.00\">gini = 0.399</text>\n<text text-anchor=\"start\" x=\"1126\" y=\"-37.8\" font-family=\"Helvetica,sans-Serif\" font-size=\"14.00\">samples = 69</text>\n<text text-anchor=\"start\" x=\"1112.5\" y=\"-22.8\" font-family=\"Helvetica,sans-Serif\" font-size=\"14.00\">value = [19, 0, 50]</text>\n<text text-anchor=\"start\" x=\"1139.5\" y=\"-7.8\" font-family=\"Helvetica,sans-Serif\" font-size=\"14.00\">class = p</text>\n</g>\n<!-- 12&#45;&gt;14 -->\n<g id=\"edge14\" class=\"edge\">\n<title>12&#45;&gt;14</title>\n<path fill=\"none\" stroke=\"black\" d=\"M1070.34,-103.73C1083.94,-94.06 1098.41,-83.77 1111.91,-74.17\"/>\n<polygon fill=\"black\" stroke=\"black\" points=\"1114.05,-76.95 1120.17,-68.3 1109.99,-71.24 1114.05,-76.95\"/>\n</g>\n</g>\n</svg>\n",
            "text/plain": [
              "<graphviz.sources.Source at 0x78d4b511a9b0>"
            ]
          },
          "metadata": {},
          "execution_count": 98
        }
      ]
    },
    {
      "cell_type": "code",
      "source": [
        "# print to the output file\n",
        "print('**************************************************************', file = outputFile)\n",
        "print('(A) Classifier 1 - Base DT', file = outputFile)\n",
        "print(classifier_1, file = outputFile)\n",
        "print('\\n', file = outputFile)"
      ],
      "metadata": {
        "id": "sqRs0lp67Hmo"
      },
      "execution_count": 99,
      "outputs": []
    },
    {
      "cell_type": "code",
      "source": [
        "# print classification report\n",
        "y_pred = classifier_1.predict(X_test)\n",
        "confusion_mat= confusion_matrix(y_test, y_pred)\n",
        "\n",
        "print(classification_report(y_test, y_pred, target_names=['F', 'M', 'I']))\n",
        "print(\"confusion matrix\\n\",confusion_mat)\n",
        "\n",
        "# print the result to the output file\n",
        "confusion_matrix_result =np.array2string(confusion_mat)\n",
        "print(\"(B) Confusion Matrix\", file = outputFile)\n",
        "print(confusion_matrix_result, file = outputFile)\n",
        "print('\\n', file = outputFile)\n",
        "print('(C,D) Classification Report', file = outputFile)\n",
        "print(classification_report(y_test, y_pred, target_names = ['F', 'M', 'I']), file = outputFile)\n",
        "outputFile.flush()"
      ],
      "metadata": {
        "colab": {
          "base_uri": "https://localhost:8080/"
        },
        "id": "mDbdxqro7Hp4",
        "outputId": "261e9157-8eb8-4495-b6d6-96c6a4ba79f2"
      },
      "execution_count": 100,
      "outputs": [
        {
          "output_type": "stream",
          "name": "stdout",
          "text": [
            "              precision    recall  f1-score   support\n",
            "\n",
            "           F       0.41      0.72      0.52       384\n",
            "           M       0.72      0.73      0.72       400\n",
            "           I       0.48      0.19      0.27       470\n",
            "\n",
            "    accuracy                           0.52      1254\n",
            "   macro avg       0.54      0.54      0.50      1254\n",
            "weighted avg       0.53      0.52      0.49      1254\n",
            "\n",
            "confusion matrix\n",
            " [[275  39  70]\n",
            " [ 82 292  26]\n",
            " [307  76  87]]\n"
          ]
        }
      ]
    },
    {
      "cell_type": "code",
      "source": [
        "# repeat training & prediction 5 times for classifier 1\n",
        "from sklearn.metrics import accuracy_score, f1_score\n",
        "\n",
        "accuracy_baseDT = np.zeros(5)\n",
        "macro_avg_baseDT = np.zeros(5)\n",
        "weighted_avg_baseDT = np.zeros(5)\n",
        "\n",
        "for i in range(5):\n",
        "  X_train, X_test, y_train, y_test = train_test_split(X, y, test_size = 0.3)\n",
        "  classifier_1.fit(X_train, y_train)\n",
        "  y_pred = classifier_1.predict(X_test)\n",
        "\n",
        "  # find the accuracy for each iteration and store the value\n",
        "  accuracy_baseDT[i] = accuracy_score(y_test, y_pred)\n",
        "  macro_avg_baseDT[i] = f1_score(y_test, y_pred, average='macro')\n",
        "  weighted_avg_baseDT[i] = f1_score(y_test, y_pred, average='weighted')\n",
        "\n",
        "# compute the average accuracy & variances\n",
        "print(f'accuracy_baseDT: {accuracy_baseDT}')\n",
        "Avg_accuracy = (np.sum(accuracy_baseDT))/5\n",
        "accuracy_variance = np.var(accuracy_baseDT)\n",
        "print(f'average accuracy: {Avg_accuracy}, variance: {accuracy_variance}')\n",
        "\n",
        "# compute the average macro-average F1 & the variance\n",
        "print(f'macro_avg_baseDT: {macro_avg_baseDT}')\n",
        "Avg_macro_avg = (np.sum(macro_avg_baseDT))/5\n",
        "f1_macro_variance = np.var(macro_avg_baseDT)\n",
        "print(f'average macro-average F1: {Avg_macro_avg}, variance: {f1_macro_variance}')\n",
        "\n",
        "# compute the average weighted-average F1 & the variance\n",
        "print(f'weighted_avg_baseDT: {weighted_avg_baseDT}')\n",
        "Avg_weighted_avg = (np.sum(weighted_avg_baseDT))/5\n",
        "f1_weighted_variance = np.var(weighted_avg_baseDT)\n",
        "print(f'average weighted-average F1: {Avg_weighted_avg}, variance: {f1_weighted_variance}')"
      ],
      "metadata": {
        "id": "YukiqSwdC21P",
        "outputId": "9d151bf0-c61b-4e12-e206-2fdac7642e7d",
        "colab": {
          "base_uri": "https://localhost:8080/"
        }
      },
      "execution_count": 101,
      "outputs": [
        {
          "output_type": "stream",
          "name": "stdout",
          "text": [
            "accuracy_baseDT: [0.51196172 0.5430622  0.51674641 0.523126   0.523126  ]\n",
            "average accuracy: 0.5236044657097289, variance: 0.00011232954068511852\n",
            "macro_avg_baseDT: [0.50634937 0.53089466 0.41160954 0.49411897 0.42371332]\n",
            "average macro-average F1: 0.47333717130638675, variance: 0.002221475892856604\n",
            "weighted_avg_baseDT: [0.49468552 0.52350746 0.41818011 0.47800171 0.43133361]\n",
            "average weighted-average F1: 0.4691416840433467, variance: 0.0015426313839993868\n"
          ]
        }
      ]
    },
    {
      "cell_type": "code",
      "source": [
        "# print the performance result to outputfile\n",
        "print('\\n(E) The result after 5 times of train-test repetition:' ,file = outputFile)\n",
        "print(f'average accuracy: {Avg_accuracy}, variance: {accuracy_variance}', file = outputFile)\n",
        "print(f'average macro-average F1: {Avg_macro_avg}, variance: {f1_macro_variance}', file = outputFile)\n",
        "print(f'average weighted-average F1: {Avg_weighted_avg}, variance: {f1_weighted_variance}', file = outputFile)\n",
        "outputFile.flush()"
      ],
      "metadata": {
        "id": "6BXzFhCxZ8s1"
      },
      "execution_count": 102,
      "outputs": []
    },
    {
      "cell_type": "markdown",
      "source": [
        "##### Classifier 2 - Top-DT"
      ],
      "metadata": {
        "id": "ZbIYwUPH2zO6"
      }
    },
    {
      "cell_type": "code",
      "source": [
        "# Top Decision Tree - decision tree using gridsearch(hyperparameter search)\n",
        "from sklearn.model_selection import GridSearchCV\n",
        "\n",
        "parameters = {\n",
        "    'criterion': ['gini', 'entropy'],\n",
        "    'max_depth': [None, 3, 5],\n",
        "    'min_samples_split': [2, 5, 10]\n",
        "}\n",
        "\n",
        "classifier_2 = GridSearchCV(DecisionTreeClassifier(max_depth=3), parameters)\n",
        "classifier_2.fit(X_train, y_train)\n",
        "\n",
        "print(f'best parameters: {classifier_2.best_params_}')"
      ],
      "metadata": {
        "id": "msSsfbO7m2rW",
        "colab": {
          "base_uri": "https://localhost:8080/"
        },
        "outputId": "306ca12b-f08c-4437-90a8-2c53211a0969"
      },
      "execution_count": 103,
      "outputs": [
        {
          "output_type": "stream",
          "name": "stdout",
          "text": [
            "best parameters: {'criterion': 'entropy', 'max_depth': 5, 'min_samples_split': 5}\n"
          ]
        }
      ]
    },
    {
      "cell_type": "code",
      "source": [
        "abalone_class = data_abalone.columns[0]\n",
        "abalone_features = list(data_abalone.columns[1:])"
      ],
      "metadata": {
        "id": "6AYbwpuhBO2m"
      },
      "execution_count": 104,
      "outputs": []
    },
    {
      "cell_type": "code",
      "source": [
        "from sklearn.tree import export_graphviz\n",
        "from IPython.display import display\n",
        "\n",
        "dot_data = export_graphviz(classifier_2.best_estimator_,\n",
        "                          feature_names=abalone_features,\n",
        "                          class_names=abalone_class,\n",
        "                          filled=True, rounded=True,\n",
        "                          special_characters=True)\n",
        "\n",
        "graph = graphviz.Source(dot_data)\n",
        "display(graph)"
      ],
      "metadata": {
        "id": "fGFf6Sbj8BW-",
        "outputId": "ba4039d6-e230-44cd-e08b-1597767a3534",
        "colab": {
          "base_uri": "https://localhost:8080/",
          "height": 937
        }
      },
      "execution_count": 105,
      "outputs": [
        {
          "output_type": "display_data",
          "data": {
            "image/svg+xml": "<?xml version=\"1.0\" encoding=\"UTF-8\" standalone=\"no\"?>\n<!DOCTYPE svg PUBLIC \"-//W3C//DTD SVG 1.1//EN\"\n \"http://www.w3.org/Graphics/SVG/1.1/DTD/svg11.dtd\">\n<!-- Generated by graphviz version 2.43.0 (0)\n -->\n<!-- Title: Tree Pages: 1 -->\n<svg width=\"4524pt\" height=\"671pt\"\n viewBox=\"0.00 0.00 4524.00 671.00\" xmlns=\"http://www.w3.org/2000/svg\" xmlns:xlink=\"http://www.w3.org/1999/xlink\">\n<g id=\"graph0\" class=\"graph\" transform=\"scale(1 1) rotate(0) translate(4 667)\">\n<title>Tree</title>\n<polygon fill=\"white\" stroke=\"transparent\" points=\"-4,4 -4,-667 4520,-667 4520,4 -4,4\"/>\n<!-- 0 -->\n<g id=\"node1\" class=\"node\">\n<title>0</title>\n<path fill=\"#f4eefd\" stroke=\"black\" d=\"M2429,-663C2429,-663 2291,-663 2291,-663 2285,-663 2279,-657 2279,-651 2279,-651 2279,-592 2279,-592 2279,-586 2285,-580 2291,-580 2291,-580 2429,-580 2429,-580 2435,-580 2441,-586 2441,-592 2441,-592 2441,-651 2441,-651 2441,-657 2435,-663 2429,-663\"/>\n<text text-anchor=\"start\" x=\"2292\" y=\"-647.8\" font-family=\"Helvetica,sans-Serif\" font-size=\"14.00\">VisceraWeight ≤ 0.144</text>\n<text text-anchor=\"start\" x=\"2316\" y=\"-632.8\" font-family=\"Helvetica,sans-Serif\" font-size=\"14.00\">entropy = 1.58</text>\n<text text-anchor=\"start\" x=\"2311.5\" y=\"-617.8\" font-family=\"Helvetica,sans-Serif\" font-size=\"14.00\">samples = 2923</text>\n<text text-anchor=\"start\" x=\"2287\" y=\"-602.8\" font-family=\"Helvetica,sans-Serif\" font-size=\"14.00\">value = [906, 925, 1092]</text>\n<text text-anchor=\"start\" x=\"2332.5\" y=\"-587.8\" font-family=\"Helvetica,sans-Serif\" font-size=\"14.00\">class = p</text>\n</g>\n<!-- 1 -->\n<g id=\"node2\" class=\"node\">\n<title>1</title>\n<path fill=\"#9af2bf\" stroke=\"black\" d=\"M1695.5,-544C1695.5,-544 1564.5,-544 1564.5,-544 1558.5,-544 1552.5,-538 1552.5,-532 1552.5,-532 1552.5,-473 1552.5,-473 1552.5,-467 1558.5,-461 1564.5,-461 1564.5,-461 1695.5,-461 1695.5,-461 1701.5,-461 1707.5,-467 1707.5,-473 1707.5,-473 1707.5,-532 1707.5,-532 1707.5,-538 1701.5,-544 1695.5,-544\"/>\n<text text-anchor=\"start\" x=\"1595.5\" y=\"-528.8\" font-family=\"Helvetica,sans-Serif\" font-size=\"14.00\">Rings ≤ 8.5</text>\n<text text-anchor=\"start\" x=\"1582.5\" y=\"-513.8\" font-family=\"Helvetica,sans-Serif\" font-size=\"14.00\">entropy = 1.328</text>\n<text text-anchor=\"start\" x=\"1581.5\" y=\"-498.8\" font-family=\"Helvetica,sans-Serif\" font-size=\"14.00\">samples = 1200</text>\n<text text-anchor=\"start\" x=\"1560.5\" y=\"-483.8\" font-family=\"Helvetica,sans-Serif\" font-size=\"14.00\">value = [187, 745, 268]</text>\n<text text-anchor=\"start\" x=\"1603\" y=\"-468.8\" font-family=\"Helvetica,sans-Serif\" font-size=\"14.00\">class = y</text>\n</g>\n<!-- 0&#45;&gt;1 -->\n<g id=\"edge1\" class=\"edge\">\n<title>0&#45;&gt;1</title>\n<path fill=\"none\" stroke=\"black\" d=\"M2278.74,-607.48C2140.37,-585.3 1860.19,-540.39 1717.62,-517.54\"/>\n<polygon fill=\"black\" stroke=\"black\" points=\"1718.02,-514.06 1707.59,-515.94 1716.91,-520.97 1718.02,-514.06\"/>\n<text text-anchor=\"middle\" x=\"1722.25\" y=\"-532.49\" font-family=\"Helvetica,sans-Serif\" font-size=\"14.00\">True</text>\n</g>\n<!-- 32 -->\n<g id=\"node33\" class=\"node\">\n<title>32</title>\n<path fill=\"#f2eafc\" stroke=\"black\" d=\"M2798.5,-544C2798.5,-544 2667.5,-544 2667.5,-544 2661.5,-544 2655.5,-538 2655.5,-532 2655.5,-532 2655.5,-473 2655.5,-473 2655.5,-467 2661.5,-461 2667.5,-461 2667.5,-461 2798.5,-461 2798.5,-461 2804.5,-461 2810.5,-467 2810.5,-473 2810.5,-473 2810.5,-532 2810.5,-532 2810.5,-538 2804.5,-544 2798.5,-544\"/>\n<text text-anchor=\"start\" x=\"2671.5\" y=\"-528.8\" font-family=\"Helvetica,sans-Serif\" font-size=\"14.00\">WholeWeight ≤ 0.99</text>\n<text text-anchor=\"start\" x=\"2685.5\" y=\"-513.8\" font-family=\"Helvetica,sans-Serif\" font-size=\"14.00\">entropy = 1.376</text>\n<text text-anchor=\"start\" x=\"2684.5\" y=\"-498.8\" font-family=\"Helvetica,sans-Serif\" font-size=\"14.00\">samples = 1723</text>\n<text text-anchor=\"start\" x=\"2663.5\" y=\"-483.8\" font-family=\"Helvetica,sans-Serif\" font-size=\"14.00\">value = [719, 180, 824]</text>\n<text text-anchor=\"start\" x=\"2705.5\" y=\"-468.8\" font-family=\"Helvetica,sans-Serif\" font-size=\"14.00\">class = p</text>\n</g>\n<!-- 0&#45;&gt;32 -->\n<g id=\"edge32\" class=\"edge\">\n<title>0&#45;&gt;32</title>\n<path fill=\"none\" stroke=\"black\" d=\"M2441.4,-594.97C2501.73,-576.04 2583.84,-550.29 2645.56,-530.93\"/>\n<polygon fill=\"black\" stroke=\"black\" points=\"2646.79,-534.21 2655.29,-527.88 2644.7,-527.53 2646.79,-534.21\"/>\n<text text-anchor=\"middle\" x=\"2643.71\" y=\"-546.33\" font-family=\"Helvetica,sans-Serif\" font-size=\"14.00\">False</text>\n</g>\n<!-- 2 -->\n<g id=\"node3\" class=\"node\">\n<title>2</title>\n<path fill=\"#6feca3\" stroke=\"black\" d=\"M900,-425C900,-425 772,-425 772,-425 766,-425 760,-419 760,-413 760,-413 760,-354 760,-354 760,-348 766,-342 772,-342 772,-342 900,-342 900,-342 906,-342 912,-348 912,-354 912,-354 912,-413 912,-413 912,-419 906,-425 900,-425\"/>\n<text text-anchor=\"start\" x=\"768\" y=\"-409.8\" font-family=\"Helvetica,sans-Serif\" font-size=\"14.00\">VisceraWeight ≤ 0.093</text>\n<text text-anchor=\"start\" x=\"788.5\" y=\"-394.8\" font-family=\"Helvetica,sans-Serif\" font-size=\"14.00\">entropy = 0.983</text>\n<text text-anchor=\"start\" x=\"791\" y=\"-379.8\" font-family=\"Helvetica,sans-Serif\" font-size=\"14.00\">samples = 789</text>\n<text text-anchor=\"start\" x=\"770.5\" y=\"-364.8\" font-family=\"Helvetica,sans-Serif\" font-size=\"14.00\">value = [57, 608, 124]</text>\n<text text-anchor=\"start\" x=\"809\" y=\"-349.8\" font-family=\"Helvetica,sans-Serif\" font-size=\"14.00\">class = y</text>\n</g>\n<!-- 1&#45;&gt;2 -->\n<g id=\"edge2\" class=\"edge\">\n<title>1&#45;&gt;2</title>\n<path fill=\"none\" stroke=\"black\" d=\"M1552.42,-490.07C1403.32,-468.1 1077.74,-420.12 922.14,-397.19\"/>\n<polygon fill=\"black\" stroke=\"black\" points=\"922.55,-393.72 912.14,-395.72 921.52,-400.64 922.55,-393.72\"/>\n</g>\n<!-- 17 -->\n<g id=\"node18\" class=\"node\">\n<title>17</title>\n<path fill=\"#fcfafe\" stroke=\"black\" d=\"M1695.5,-425C1695.5,-425 1564.5,-425 1564.5,-425 1558.5,-425 1552.5,-419 1552.5,-413 1552.5,-413 1552.5,-354 1552.5,-354 1552.5,-348 1558.5,-342 1564.5,-342 1564.5,-342 1695.5,-342 1695.5,-342 1701.5,-342 1707.5,-348 1707.5,-354 1707.5,-354 1707.5,-413 1707.5,-413 1707.5,-419 1701.5,-425 1695.5,-425\"/>\n<text text-anchor=\"start\" x=\"1595.5\" y=\"-409.8\" font-family=\"Helvetica,sans-Serif\" font-size=\"14.00\">Rings ≤ 9.5</text>\n<text text-anchor=\"start\" x=\"1582.5\" y=\"-394.8\" font-family=\"Helvetica,sans-Serif\" font-size=\"14.00\">entropy = 1.584</text>\n<text text-anchor=\"start\" x=\"1585\" y=\"-379.8\" font-family=\"Helvetica,sans-Serif\" font-size=\"14.00\">samples = 411</text>\n<text text-anchor=\"start\" x=\"1560.5\" y=\"-364.8\" font-family=\"Helvetica,sans-Serif\" font-size=\"14.00\">value = [130, 137, 144]</text>\n<text text-anchor=\"start\" x=\"1602.5\" y=\"-349.8\" font-family=\"Helvetica,sans-Serif\" font-size=\"14.00\">class = p</text>\n</g>\n<!-- 1&#45;&gt;17 -->\n<g id=\"edge17\" class=\"edge\">\n<title>1&#45;&gt;17</title>\n<path fill=\"none\" stroke=\"black\" d=\"M1630,-460.91C1630,-452.65 1630,-443.86 1630,-435.3\"/>\n<polygon fill=\"black\" stroke=\"black\" points=\"1633.5,-435.02 1630,-425.02 1626.5,-435.02 1633.5,-435.02\"/>\n</g>\n<!-- 3 -->\n<g id=\"node4\" class=\"node\">\n<title>3</title>\n<path fill=\"#5dea98\" stroke=\"black\" d=\"M484,-306C484,-306 368,-306 368,-306 362,-306 356,-300 356,-294 356,-294 356,-235 356,-235 356,-229 362,-223 368,-223 368,-223 484,-223 484,-223 490,-223 496,-229 496,-235 496,-235 496,-294 496,-294 496,-300 490,-306 484,-306\"/>\n<text text-anchor=\"start\" x=\"382\" y=\"-290.8\" font-family=\"Helvetica,sans-Serif\" font-size=\"14.00\">Height ≤ 0.122</text>\n<text text-anchor=\"start\" x=\"378.5\" y=\"-275.8\" font-family=\"Helvetica,sans-Serif\" font-size=\"14.00\">entropy = 0.751</text>\n<text text-anchor=\"start\" x=\"381\" y=\"-260.8\" font-family=\"Helvetica,sans-Serif\" font-size=\"14.00\">samples = 574</text>\n<text text-anchor=\"start\" x=\"364\" y=\"-245.8\" font-family=\"Helvetica,sans-Serif\" font-size=\"14.00\">value = [20, 483, 71]</text>\n<text text-anchor=\"start\" x=\"399\" y=\"-230.8\" font-family=\"Helvetica,sans-Serif\" font-size=\"14.00\">class = y</text>\n</g>\n<!-- 2&#45;&gt;3 -->\n<g id=\"edge3\" class=\"edge\">\n<title>2&#45;&gt;3</title>\n<path fill=\"none\" stroke=\"black\" d=\"M759.84,-360.77C687.59,-340.15 579.43,-309.28 505.95,-288.32\"/>\n<polygon fill=\"black\" stroke=\"black\" points=\"506.85,-284.93 496.27,-285.55 504.93,-291.66 506.85,-284.93\"/>\n</g>\n<!-- 10 -->\n<g id=\"node11\" class=\"node\">\n<title>10</title>\n<path fill=\"#a7f3c7\" stroke=\"black\" d=\"M894,-306C894,-306 778,-306 778,-306 772,-306 766,-300 766,-294 766,-294 766,-235 766,-235 766,-229 772,-223 778,-223 778,-223 894,-223 894,-223 900,-223 906,-229 906,-235 906,-235 906,-294 906,-294 906,-300 900,-306 894,-306\"/>\n<text text-anchor=\"start\" x=\"774.5\" y=\"-290.8\" font-family=\"Helvetica,sans-Serif\" font-size=\"14.00\">WholeWeight ≤ 0.64</text>\n<text text-anchor=\"start\" x=\"792\" y=\"-275.8\" font-family=\"Helvetica,sans-Serif\" font-size=\"14.00\">entropy = 1.39</text>\n<text text-anchor=\"start\" x=\"791\" y=\"-260.8\" font-family=\"Helvetica,sans-Serif\" font-size=\"14.00\">samples = 215</text>\n<text text-anchor=\"start\" x=\"774\" y=\"-245.8\" font-family=\"Helvetica,sans-Serif\" font-size=\"14.00\">value = [37, 125, 53]</text>\n<text text-anchor=\"start\" x=\"809\" y=\"-230.8\" font-family=\"Helvetica,sans-Serif\" font-size=\"14.00\">class = y</text>\n</g>\n<!-- 2&#45;&gt;10 -->\n<g id=\"edge10\" class=\"edge\">\n<title>2&#45;&gt;10</title>\n<path fill=\"none\" stroke=\"black\" d=\"M836,-341.91C836,-333.65 836,-324.86 836,-316.3\"/>\n<polygon fill=\"black\" stroke=\"black\" points=\"839.5,-316.02 836,-306.02 832.5,-316.02 839.5,-316.02\"/>\n</g>\n<!-- 4 -->\n<g id=\"node5\" class=\"node\">\n<title>4</title>\n<path fill=\"#5dea98\" stroke=\"black\" d=\"M275,-187C275,-187 159,-187 159,-187 153,-187 147,-181 147,-175 147,-175 147,-116 147,-116 147,-110 153,-104 159,-104 159,-104 275,-104 275,-104 281,-104 287,-110 287,-116 287,-116 287,-175 287,-175 287,-181 281,-187 275,-187\"/>\n<text text-anchor=\"start\" x=\"156.5\" y=\"-171.8\" font-family=\"Helvetica,sans-Serif\" font-size=\"14.00\">ShellWeight ≤ 0.135</text>\n<text text-anchor=\"start\" x=\"169.5\" y=\"-156.8\" font-family=\"Helvetica,sans-Serif\" font-size=\"14.00\">entropy = 0.738</text>\n<text text-anchor=\"start\" x=\"172\" y=\"-141.8\" font-family=\"Helvetica,sans-Serif\" font-size=\"14.00\">samples = 561</text>\n<text text-anchor=\"start\" x=\"155\" y=\"-126.8\" font-family=\"Helvetica,sans-Serif\" font-size=\"14.00\">value = [17, 473, 71]</text>\n<text text-anchor=\"start\" x=\"190\" y=\"-111.8\" font-family=\"Helvetica,sans-Serif\" font-size=\"14.00\">class = y</text>\n</g>\n<!-- 3&#45;&gt;4 -->\n<g id=\"edge4\" class=\"edge\">\n<title>3&#45;&gt;4</title>\n<path fill=\"none\" stroke=\"black\" d=\"M355.82,-224.22C336.7,-213.51 315.84,-201.83 296.25,-190.86\"/>\n<polygon fill=\"black\" stroke=\"black\" points=\"297.78,-187.71 287.35,-185.88 294.36,-193.82 297.78,-187.71\"/>\n</g>\n<!-- 7 -->\n<g id=\"node8\" class=\"node\">\n<title>7</title>\n<path fill=\"#74eda7\" stroke=\"black\" d=\"M482.5,-187C482.5,-187 369.5,-187 369.5,-187 363.5,-187 357.5,-181 357.5,-175 357.5,-175 357.5,-116 357.5,-116 357.5,-110 363.5,-104 369.5,-104 369.5,-104 482.5,-104 482.5,-104 488.5,-104 494.5,-110 494.5,-116 494.5,-116 494.5,-175 494.5,-175 494.5,-181 488.5,-187 482.5,-187\"/>\n<text text-anchor=\"start\" x=\"365.5\" y=\"-171.8\" font-family=\"Helvetica,sans-Serif\" font-size=\"14.00\">ShellWeight ≤ 0.117</text>\n<text text-anchor=\"start\" x=\"378.5\" y=\"-156.8\" font-family=\"Helvetica,sans-Serif\" font-size=\"14.00\">entropy = 0.779</text>\n<text text-anchor=\"start\" x=\"385\" y=\"-141.8\" font-family=\"Helvetica,sans-Serif\" font-size=\"14.00\">samples = 13</text>\n<text text-anchor=\"start\" x=\"375.5\" y=\"-126.8\" font-family=\"Helvetica,sans-Serif\" font-size=\"14.00\">value = [3, 10, 0]</text>\n<text text-anchor=\"start\" x=\"399\" y=\"-111.8\" font-family=\"Helvetica,sans-Serif\" font-size=\"14.00\">class = y</text>\n</g>\n<!-- 3&#45;&gt;7 -->\n<g id=\"edge7\" class=\"edge\">\n<title>3&#45;&gt;7</title>\n<path fill=\"none\" stroke=\"black\" d=\"M426,-222.91C426,-214.65 426,-205.86 426,-197.3\"/>\n<polygon fill=\"black\" stroke=\"black\" points=\"429.5,-197.02 426,-187.02 422.5,-197.02 429.5,-197.02\"/>\n</g>\n<!-- 5 -->\n<g id=\"node6\" class=\"node\">\n<title>5</title>\n<path fill=\"#5cea97\" stroke=\"black\" d=\"M128,-68C128,-68 12,-68 12,-68 6,-68 0,-62 0,-56 0,-56 0,-12 0,-12 0,-6 6,0 12,0 12,0 128,0 128,0 134,0 140,-6 140,-12 140,-12 140,-56 140,-56 140,-62 134,-68 128,-68\"/>\n<text text-anchor=\"start\" x=\"22.5\" y=\"-52.8\" font-family=\"Helvetica,sans-Serif\" font-size=\"14.00\">entropy = 0.712</text>\n<text text-anchor=\"start\" x=\"25\" y=\"-37.8\" font-family=\"Helvetica,sans-Serif\" font-size=\"14.00\">samples = 544</text>\n<text text-anchor=\"start\" x=\"8\" y=\"-22.8\" font-family=\"Helvetica,sans-Serif\" font-size=\"14.00\">value = [13, 461, 70]</text>\n<text text-anchor=\"start\" x=\"43\" y=\"-7.8\" font-family=\"Helvetica,sans-Serif\" font-size=\"14.00\">class = y</text>\n</g>\n<!-- 4&#45;&gt;5 -->\n<g id=\"edge5\" class=\"edge\">\n<title>4&#45;&gt;5</title>\n<path fill=\"none\" stroke=\"black\" d=\"M162.26,-103.73C149.41,-94.15 135.73,-83.96 122.95,-74.44\"/>\n<polygon fill=\"black\" stroke=\"black\" points=\"124.81,-71.47 114.7,-68.3 120.63,-77.08 124.81,-71.47\"/>\n</g>\n<!-- 6 -->\n<g id=\"node7\" class=\"node\">\n<title>6</title>\n<path fill=\"#85efb1\" stroke=\"black\" d=\"M263.5,-68C263.5,-68 170.5,-68 170.5,-68 164.5,-68 158.5,-62 158.5,-56 158.5,-56 158.5,-12 158.5,-12 158.5,-6 164.5,0 170.5,0 170.5,0 263.5,0 263.5,0 269.5,0 275.5,-6 275.5,-12 275.5,-12 275.5,-56 275.5,-56 275.5,-62 269.5,-68 263.5,-68\"/>\n<text text-anchor=\"start\" x=\"169.5\" y=\"-52.8\" font-family=\"Helvetica,sans-Serif\" font-size=\"14.00\">entropy = 1.086</text>\n<text text-anchor=\"start\" x=\"176\" y=\"-37.8\" font-family=\"Helvetica,sans-Serif\" font-size=\"14.00\">samples = 17</text>\n<text text-anchor=\"start\" x=\"166.5\" y=\"-22.8\" font-family=\"Helvetica,sans-Serif\" font-size=\"14.00\">value = [4, 12, 1]</text>\n<text text-anchor=\"start\" x=\"190\" y=\"-7.8\" font-family=\"Helvetica,sans-Serif\" font-size=\"14.00\">class = y</text>\n</g>\n<!-- 4&#45;&gt;6 -->\n<g id=\"edge6\" class=\"edge\">\n<title>4&#45;&gt;6</title>\n<path fill=\"none\" stroke=\"black\" d=\"M217,-103.73C217,-95.52 217,-86.86 217,-78.56\"/>\n<polygon fill=\"black\" stroke=\"black\" points=\"220.5,-78.3 217,-68.3 213.5,-78.3 220.5,-78.3\"/>\n</g>\n<!-- 8 -->\n<g id=\"node9\" class=\"node\">\n<title>8</title>\n<path fill=\"#cef8e0\" stroke=\"black\" d=\"M392.5,-68C392.5,-68 305.5,-68 305.5,-68 299.5,-68 293.5,-62 293.5,-56 293.5,-56 293.5,-12 293.5,-12 293.5,-6 299.5,0 305.5,0 305.5,0 392.5,0 392.5,0 398.5,0 404.5,-6 404.5,-12 404.5,-12 404.5,-56 404.5,-56 404.5,-62 398.5,-68 392.5,-68\"/>\n<text text-anchor=\"start\" x=\"301.5\" y=\"-52.8\" font-family=\"Helvetica,sans-Serif\" font-size=\"14.00\">entropy = 0.985</text>\n<text text-anchor=\"start\" x=\"311.5\" y=\"-37.8\" font-family=\"Helvetica,sans-Serif\" font-size=\"14.00\">samples = 7</text>\n<text text-anchor=\"start\" x=\"302\" y=\"-22.8\" font-family=\"Helvetica,sans-Serif\" font-size=\"14.00\">value = [3, 4, 0]</text>\n<text text-anchor=\"start\" x=\"322\" y=\"-7.8\" font-family=\"Helvetica,sans-Serif\" font-size=\"14.00\">class = y</text>\n</g>\n<!-- 7&#45;&gt;8 -->\n<g id=\"edge8\" class=\"edge\">\n<title>7&#45;&gt;8</title>\n<path fill=\"none\" stroke=\"black\" d=\"M397.33,-103.73C391.11,-94.88 384.52,-85.51 378.27,-76.63\"/>\n<polygon fill=\"black\" stroke=\"black\" points=\"381.03,-74.47 372.42,-68.3 375.31,-78.49 381.03,-74.47\"/>\n</g>\n<!-- 9 -->\n<g id=\"node10\" class=\"node\">\n<title>9</title>\n<path fill=\"#39e581\" stroke=\"black\" d=\"M521,-68C521,-68 435,-68 435,-68 429,-68 423,-62 423,-56 423,-56 423,-12 423,-12 423,-6 429,0 435,0 435,0 521,0 521,0 527,0 533,-6 533,-12 533,-12 533,-56 533,-56 533,-62 527,-68 521,-68\"/>\n<text text-anchor=\"start\" x=\"438\" y=\"-52.8\" font-family=\"Helvetica,sans-Serif\" font-size=\"14.00\">entropy = 0.0</text>\n<text text-anchor=\"start\" x=\"440.5\" y=\"-37.8\" font-family=\"Helvetica,sans-Serif\" font-size=\"14.00\">samples = 6</text>\n<text text-anchor=\"start\" x=\"431\" y=\"-22.8\" font-family=\"Helvetica,sans-Serif\" font-size=\"14.00\">value = [0, 6, 0]</text>\n<text text-anchor=\"start\" x=\"451\" y=\"-7.8\" font-family=\"Helvetica,sans-Serif\" font-size=\"14.00\">class = y</text>\n</g>\n<!-- 7&#45;&gt;9 -->\n<g id=\"edge9\" class=\"edge\">\n<title>7&#45;&gt;9</title>\n<path fill=\"none\" stroke=\"black\" d=\"M445.36,-103.73C449.43,-95.15 453.74,-86.09 457.84,-77.46\"/>\n<polygon fill=\"black\" stroke=\"black\" points=\"461.06,-78.83 462.19,-68.3 454.74,-75.83 461.06,-78.83\"/>\n</g>\n<!-- 11 -->\n<g id=\"node12\" class=\"node\">\n<title>11</title>\n<path fill=\"#99f2be\" stroke=\"black\" d=\"M815.5,-187C815.5,-187 696.5,-187 696.5,-187 690.5,-187 684.5,-181 684.5,-175 684.5,-175 684.5,-116 684.5,-116 684.5,-110 690.5,-104 696.5,-104 696.5,-104 815.5,-104 815.5,-104 821.5,-104 827.5,-110 827.5,-116 827.5,-116 827.5,-175 827.5,-175 827.5,-181 821.5,-187 815.5,-187\"/>\n<text text-anchor=\"start\" x=\"692.5\" y=\"-171.8\" font-family=\"Helvetica,sans-Serif\" font-size=\"14.00\">LongestShell ≤ 0.472</text>\n<text text-anchor=\"start\" x=\"708.5\" y=\"-156.8\" font-family=\"Helvetica,sans-Serif\" font-size=\"14.00\">entropy = 1.336</text>\n<text text-anchor=\"start\" x=\"711\" y=\"-141.8\" font-family=\"Helvetica,sans-Serif\" font-size=\"14.00\">samples = 189</text>\n<text text-anchor=\"start\" x=\"694\" y=\"-126.8\" font-family=\"Helvetica,sans-Serif\" font-size=\"14.00\">value = [32, 117, 40]</text>\n<text text-anchor=\"start\" x=\"729\" y=\"-111.8\" font-family=\"Helvetica,sans-Serif\" font-size=\"14.00\">class = y</text>\n</g>\n<!-- 10&#45;&gt;11 -->\n<g id=\"edge11\" class=\"edge\">\n<title>10&#45;&gt;11</title>\n<path fill=\"none\" stroke=\"black\" d=\"M808.24,-222.91C802.16,-214.01 795.66,-204.51 789.39,-195.33\"/>\n<polygon fill=\"black\" stroke=\"black\" points=\"792.24,-193.3 783.71,-187.02 786.46,-197.25 792.24,-193.3\"/>\n</g>\n<!-- 14 -->\n<g id=\"node15\" class=\"node\">\n<title>14</title>\n<path fill=\"#dcc8f8\" stroke=\"black\" d=\"M976.5,-187C976.5,-187 857.5,-187 857.5,-187 851.5,-187 845.5,-181 845.5,-175 845.5,-175 845.5,-116 845.5,-116 845.5,-110 851.5,-104 857.5,-104 857.5,-104 976.5,-104 976.5,-104 982.5,-104 988.5,-110 988.5,-116 988.5,-116 988.5,-175 988.5,-175 988.5,-181 982.5,-187 976.5,-187\"/>\n<text text-anchor=\"start\" x=\"853.5\" y=\"-171.8\" font-family=\"Helvetica,sans-Serif\" font-size=\"14.00\">LongestShell ≤ 0.502</text>\n<text text-anchor=\"start\" x=\"869.5\" y=\"-156.8\" font-family=\"Helvetica,sans-Serif\" font-size=\"14.00\">entropy = 1.481</text>\n<text text-anchor=\"start\" x=\"876\" y=\"-141.8\" font-family=\"Helvetica,sans-Serif\" font-size=\"14.00\">samples = 26</text>\n<text text-anchor=\"start\" x=\"866.5\" y=\"-126.8\" font-family=\"Helvetica,sans-Serif\" font-size=\"14.00\">value = [5, 8, 13]</text>\n<text text-anchor=\"start\" x=\"889.5\" y=\"-111.8\" font-family=\"Helvetica,sans-Serif\" font-size=\"14.00\">class = p</text>\n</g>\n<!-- 10&#45;&gt;14 -->\n<g id=\"edge14\" class=\"edge\">\n<title>10&#45;&gt;14</title>\n<path fill=\"none\" stroke=\"black\" d=\"M864.1,-222.91C870.26,-214.01 876.84,-204.51 883.19,-195.33\"/>\n<polygon fill=\"black\" stroke=\"black\" points=\"886.13,-197.24 888.95,-187.02 880.38,-193.25 886.13,-197.24\"/>\n</g>\n<!-- 12 -->\n<g id=\"node13\" class=\"node\">\n<title>12</title>\n<path fill=\"#b8f6d2\" stroke=\"black\" d=\"M671,-68C671,-68 563,-68 563,-68 557,-68 551,-62 551,-56 551,-56 551,-12 551,-12 551,-6 557,0 563,0 563,0 671,0 671,0 677,0 683,-6 683,-12 683,-12 683,-56 683,-56 683,-62 677,-68 671,-68\"/>\n<text text-anchor=\"start\" x=\"569.5\" y=\"-52.8\" font-family=\"Helvetica,sans-Serif\" font-size=\"14.00\">entropy = 1.473</text>\n<text text-anchor=\"start\" x=\"576\" y=\"-37.8\" font-family=\"Helvetica,sans-Serif\" font-size=\"14.00\">samples = 86</text>\n<text text-anchor=\"start\" x=\"559\" y=\"-22.8\" font-family=\"Helvetica,sans-Serif\" font-size=\"14.00\">value = [22, 45, 19]</text>\n<text text-anchor=\"start\" x=\"590\" y=\"-7.8\" font-family=\"Helvetica,sans-Serif\" font-size=\"14.00\">class = y</text>\n</g>\n<!-- 11&#45;&gt;12 -->\n<g id=\"edge12\" class=\"edge\">\n<title>11&#45;&gt;12</title>\n<path fill=\"none\" stroke=\"black\" d=\"M704.24,-103.73C692.2,-94.24 679.4,-84.16 667.42,-74.72\"/>\n<polygon fill=\"black\" stroke=\"black\" points=\"669.29,-71.74 659.27,-68.3 664.96,-77.24 669.29,-71.74\"/>\n</g>\n<!-- 13 -->\n<g id=\"node14\" class=\"node\">\n<title>13</title>\n<path fill=\"#84efb1\" stroke=\"black\" d=\"M821,-68C821,-68 713,-68 713,-68 707,-68 701,-62 701,-56 701,-56 701,-12 701,-12 701,-6 707,0 713,0 713,0 821,0 821,0 827,0 833,-6 833,-12 833,-12 833,-56 833,-56 833,-62 827,-68 821,-68\"/>\n<text text-anchor=\"start\" x=\"719.5\" y=\"-52.8\" font-family=\"Helvetica,sans-Serif\" font-size=\"14.00\">entropy = 1.156</text>\n<text text-anchor=\"start\" x=\"722\" y=\"-37.8\" font-family=\"Helvetica,sans-Serif\" font-size=\"14.00\">samples = 103</text>\n<text text-anchor=\"start\" x=\"709\" y=\"-22.8\" font-family=\"Helvetica,sans-Serif\" font-size=\"14.00\">value = [10, 72, 21]</text>\n<text text-anchor=\"start\" x=\"740\" y=\"-7.8\" font-family=\"Helvetica,sans-Serif\" font-size=\"14.00\">class = y</text>\n</g>\n<!-- 11&#45;&gt;13 -->\n<g id=\"edge13\" class=\"edge\">\n<title>11&#45;&gt;13</title>\n<path fill=\"none\" stroke=\"black\" d=\"M760.1,-103.73C760.93,-95.43 761.81,-86.67 762.65,-78.28\"/>\n<polygon fill=\"black\" stroke=\"black\" points=\"766.14,-78.6 763.65,-68.3 759.17,-77.9 766.14,-78.6\"/>\n</g>\n<!-- 15 -->\n<g id=\"node16\" class=\"node\">\n<title>15</title>\n<path fill=\"#a06aec\" stroke=\"black\" d=\"M950.5,-68C950.5,-68 863.5,-68 863.5,-68 857.5,-68 851.5,-62 851.5,-56 851.5,-56 851.5,-12 851.5,-12 851.5,-6 857.5,0 863.5,0 863.5,0 950.5,0 950.5,0 956.5,0 962.5,-6 962.5,-12 962.5,-12 962.5,-56 962.5,-56 962.5,-62 956.5,-68 950.5,-68\"/>\n<text text-anchor=\"start\" x=\"859.5\" y=\"-52.8\" font-family=\"Helvetica,sans-Serif\" font-size=\"14.00\">entropy = 0.722</text>\n<text text-anchor=\"start\" x=\"866\" y=\"-37.8\" font-family=\"Helvetica,sans-Serif\" font-size=\"14.00\">samples = 10</text>\n<text text-anchor=\"start\" x=\"860\" y=\"-22.8\" font-family=\"Helvetica,sans-Serif\" font-size=\"14.00\">value = [2, 0, 8]</text>\n<text text-anchor=\"start\" x=\"879.5\" y=\"-7.8\" font-family=\"Helvetica,sans-Serif\" font-size=\"14.00\">class = p</text>\n</g>\n<!-- 14&#45;&gt;15 -->\n<g id=\"edge15\" class=\"edge\">\n<title>14&#45;&gt;15</title>\n<path fill=\"none\" stroke=\"black\" d=\"M913.28,-103.73C912.52,-95.43 911.72,-86.67 910.95,-78.28\"/>\n<polygon fill=\"black\" stroke=\"black\" points=\"914.44,-77.94 910.04,-68.3 907.47,-78.58 914.44,-77.94\"/>\n</g>\n<!-- 16 -->\n<g id=\"node17\" class=\"node\">\n<title>16</title>\n<path fill=\"#c9f8dd\" stroke=\"black\" d=\"M1079.5,-68C1079.5,-68 992.5,-68 992.5,-68 986.5,-68 980.5,-62 980.5,-56 980.5,-56 980.5,-12 980.5,-12 980.5,-6 986.5,0 992.5,0 992.5,0 1079.5,0 1079.5,0 1085.5,0 1091.5,-6 1091.5,-12 1091.5,-12 1091.5,-56 1091.5,-56 1091.5,-62 1085.5,-68 1079.5,-68\"/>\n<text text-anchor=\"start\" x=\"988.5\" y=\"-52.8\" font-family=\"Helvetica,sans-Serif\" font-size=\"14.00\">entropy = 1.477</text>\n<text text-anchor=\"start\" x=\"995\" y=\"-37.8\" font-family=\"Helvetica,sans-Serif\" font-size=\"14.00\">samples = 16</text>\n<text text-anchor=\"start\" x=\"989\" y=\"-22.8\" font-family=\"Helvetica,sans-Serif\" font-size=\"14.00\">value = [3, 8, 5]</text>\n<text text-anchor=\"start\" x=\"1009\" y=\"-7.8\" font-family=\"Helvetica,sans-Serif\" font-size=\"14.00\">class = y</text>\n</g>\n<!-- 14&#45;&gt;16 -->\n<g id=\"edge16\" class=\"edge\">\n<title>14&#45;&gt;16</title>\n<path fill=\"none\" stroke=\"black\" d=\"M961.31,-103.73C971.42,-94.42 982.16,-84.54 992.25,-75.26\"/>\n<polygon fill=\"black\" stroke=\"black\" points=\"994.82,-77.65 999.81,-68.3 990.08,-72.5 994.82,-77.65\"/>\n</g>\n<!-- 18 -->\n<g id=\"node19\" class=\"node\">\n<title>18</title>\n<path fill=\"#d7fae6\" stroke=\"black\" d=\"M1611,-306C1611,-306 1483,-306 1483,-306 1477,-306 1471,-300 1471,-294 1471,-294 1471,-235 1471,-235 1471,-229 1477,-223 1483,-223 1483,-223 1611,-223 1611,-223 1617,-223 1623,-229 1623,-235 1623,-235 1623,-294 1623,-294 1623,-300 1617,-306 1611,-306\"/>\n<text text-anchor=\"start\" x=\"1479\" y=\"-290.8\" font-family=\"Helvetica,sans-Serif\" font-size=\"14.00\">VisceraWeight ≤ 0.074</text>\n<text text-anchor=\"start\" x=\"1499.5\" y=\"-275.8\" font-family=\"Helvetica,sans-Serif\" font-size=\"14.00\">entropy = 1.477</text>\n<text text-anchor=\"start\" x=\"1502\" y=\"-260.8\" font-family=\"Helvetica,sans-Serif\" font-size=\"14.00\">samples = 167</text>\n<text text-anchor=\"start\" x=\"1489\" y=\"-245.8\" font-family=\"Helvetica,sans-Serif\" font-size=\"14.00\">value = [29, 80, 58]</text>\n<text text-anchor=\"start\" x=\"1520\" y=\"-230.8\" font-family=\"Helvetica,sans-Serif\" font-size=\"14.00\">class = y</text>\n</g>\n<!-- 17&#45;&gt;18 -->\n<g id=\"edge18\" class=\"edge\">\n<title>17&#45;&gt;18</title>\n<path fill=\"none\" stroke=\"black\" d=\"M1601.2,-341.91C1594.89,-333.01 1588.15,-323.51 1581.64,-314.33\"/>\n<polygon fill=\"black\" stroke=\"black\" points=\"1584.39,-312.15 1575.75,-306.02 1578.68,-316.2 1584.39,-312.15\"/>\n</g>\n<!-- 25 -->\n<g id=\"node26\" class=\"node\">\n<title>25</title>\n<path fill=\"#fdf3ec\" stroke=\"black\" d=\"M1821,-306C1821,-306 1705,-306 1705,-306 1699,-306 1693,-300 1693,-294 1693,-294 1693,-235 1693,-235 1693,-229 1699,-223 1705,-223 1705,-223 1821,-223 1821,-223 1827,-223 1833,-229 1833,-235 1833,-235 1833,-294 1833,-294 1833,-300 1827,-306 1821,-306\"/>\n<text text-anchor=\"start\" x=\"1702.5\" y=\"-290.8\" font-family=\"Helvetica,sans-Serif\" font-size=\"14.00\">ShellWeight ≤ 0.069</text>\n<text text-anchor=\"start\" x=\"1715.5\" y=\"-275.8\" font-family=\"Helvetica,sans-Serif\" font-size=\"14.00\">entropy = 1.547</text>\n<text text-anchor=\"start\" x=\"1718\" y=\"-260.8\" font-family=\"Helvetica,sans-Serif\" font-size=\"14.00\">samples = 244</text>\n<text text-anchor=\"start\" x=\"1701\" y=\"-245.8\" font-family=\"Helvetica,sans-Serif\" font-size=\"14.00\">value = [101, 57, 86]</text>\n<text text-anchor=\"start\" x=\"1735.5\" y=\"-230.8\" font-family=\"Helvetica,sans-Serif\" font-size=\"14.00\">class = T</text>\n</g>\n<!-- 17&#45;&gt;25 -->\n<g id=\"edge25\" class=\"edge\">\n<title>17&#45;&gt;25</title>\n<path fill=\"none\" stroke=\"black\" d=\"M1676.14,-341.91C1686.87,-332.47 1698.38,-322.34 1709.4,-312.65\"/>\n<polygon fill=\"black\" stroke=\"black\" points=\"1711.74,-315.25 1716.94,-306.02 1707.12,-310 1711.74,-315.25\"/>\n</g>\n<!-- 19 -->\n<g id=\"node20\" class=\"node\">\n<title>19</title>\n<path fill=\"#be99f2\" stroke=\"black\" d=\"M1353.5,-187C1353.5,-187 1252.5,-187 1252.5,-187 1246.5,-187 1240.5,-181 1240.5,-175 1240.5,-175 1240.5,-116 1240.5,-116 1240.5,-110 1246.5,-104 1252.5,-104 1252.5,-104 1353.5,-104 1353.5,-104 1359.5,-104 1365.5,-110 1365.5,-116 1365.5,-116 1365.5,-175 1365.5,-175 1365.5,-181 1359.5,-187 1353.5,-187\"/>\n<text text-anchor=\"start\" x=\"1250.5\" y=\"-171.8\" font-family=\"Helvetica,sans-Serif\" font-size=\"14.00\">Diameter ≤ 0.278</text>\n<text text-anchor=\"start\" x=\"1255.5\" y=\"-156.8\" font-family=\"Helvetica,sans-Serif\" font-size=\"14.00\">entropy = 1.196</text>\n<text text-anchor=\"start\" x=\"1262\" y=\"-141.8\" font-family=\"Helvetica,sans-Serif\" font-size=\"14.00\">samples = 40</text>\n<text text-anchor=\"start\" x=\"1248.5\" y=\"-126.8\" font-family=\"Helvetica,sans-Serif\" font-size=\"14.00\">value = [3, 11, 26]</text>\n<text text-anchor=\"start\" x=\"1275.5\" y=\"-111.8\" font-family=\"Helvetica,sans-Serif\" font-size=\"14.00\">class = p</text>\n</g>\n<!-- 18&#45;&gt;19 -->\n<g id=\"edge19\" class=\"edge\">\n<title>18&#45;&gt;19</title>\n<path fill=\"none\" stroke=\"black\" d=\"M1470.8,-226.96C1440.13,-212.26 1404.95,-195.39 1374.75,-180.9\"/>\n<polygon fill=\"black\" stroke=\"black\" points=\"1376.08,-177.66 1365.55,-176.49 1373.05,-183.97 1376.08,-177.66\"/>\n</g>\n<!-- 22 -->\n<g id=\"node23\" class=\"node\">\n<title>22</title>\n<path fill=\"#b2f5ce\" stroke=\"black\" d=\"M1606.5,-187C1606.5,-187 1487.5,-187 1487.5,-187 1481.5,-187 1475.5,-181 1475.5,-175 1475.5,-175 1475.5,-116 1475.5,-116 1475.5,-110 1481.5,-104 1487.5,-104 1487.5,-104 1606.5,-104 1606.5,-104 1612.5,-104 1618.5,-110 1618.5,-116 1618.5,-116 1618.5,-175 1618.5,-175 1618.5,-181 1612.5,-187 1606.5,-187\"/>\n<text text-anchor=\"start\" x=\"1483.5\" y=\"-171.8\" font-family=\"Helvetica,sans-Serif\" font-size=\"14.00\">LongestShell ≤ 0.512</text>\n<text text-anchor=\"start\" x=\"1499.5\" y=\"-156.8\" font-family=\"Helvetica,sans-Serif\" font-size=\"14.00\">entropy = 1.448</text>\n<text text-anchor=\"start\" x=\"1502\" y=\"-141.8\" font-family=\"Helvetica,sans-Serif\" font-size=\"14.00\">samples = 127</text>\n<text text-anchor=\"start\" x=\"1489\" y=\"-126.8\" font-family=\"Helvetica,sans-Serif\" font-size=\"14.00\">value = [26, 69, 32]</text>\n<text text-anchor=\"start\" x=\"1520\" y=\"-111.8\" font-family=\"Helvetica,sans-Serif\" font-size=\"14.00\">class = y</text>\n</g>\n<!-- 18&#45;&gt;22 -->\n<g id=\"edge22\" class=\"edge\">\n<title>18&#45;&gt;22</title>\n<path fill=\"none\" stroke=\"black\" d=\"M1547,-222.91C1547,-214.65 1547,-205.86 1547,-197.3\"/>\n<polygon fill=\"black\" stroke=\"black\" points=\"1550.5,-197.02 1547,-187.02 1543.5,-197.02 1550.5,-197.02\"/>\n</g>\n<!-- 20 -->\n<g id=\"node21\" class=\"node\">\n<title>20</title>\n<path fill=\"#f4edfd\" stroke=\"black\" d=\"M1214.5,-68C1214.5,-68 1121.5,-68 1121.5,-68 1115.5,-68 1109.5,-62 1109.5,-56 1109.5,-56 1109.5,-12 1109.5,-12 1109.5,-6 1115.5,0 1121.5,0 1121.5,0 1214.5,0 1214.5,0 1220.5,0 1226.5,-6 1226.5,-12 1226.5,-12 1226.5,-56 1226.5,-56 1226.5,-62 1220.5,-68 1214.5,-68\"/>\n<text text-anchor=\"start\" x=\"1120.5\" y=\"-52.8\" font-family=\"Helvetica,sans-Serif\" font-size=\"14.00\">entropy = 1.234</text>\n<text text-anchor=\"start\" x=\"1127\" y=\"-37.8\" font-family=\"Helvetica,sans-Serif\" font-size=\"14.00\">samples = 20</text>\n<text text-anchor=\"start\" x=\"1117.5\" y=\"-22.8\" font-family=\"Helvetica,sans-Serif\" font-size=\"14.00\">value = [1, 9, 10]</text>\n<text text-anchor=\"start\" x=\"1140.5\" y=\"-7.8\" font-family=\"Helvetica,sans-Serif\" font-size=\"14.00\">class = p</text>\n</g>\n<!-- 19&#45;&gt;20 -->\n<g id=\"edge20\" class=\"edge\">\n<title>19&#45;&gt;20</title>\n<path fill=\"none\" stroke=\"black\" d=\"M1252.73,-103.73C1241.04,-94.24 1228.6,-84.16 1216.96,-74.72\"/>\n<polygon fill=\"black\" stroke=\"black\" points=\"1219.03,-71.88 1209.05,-68.3 1214.62,-77.32 1219.03,-71.88\"/>\n</g>\n<!-- 21 -->\n<g id=\"node22\" class=\"node\">\n<title>21</title>\n<path fill=\"#9d65eb\" stroke=\"black\" d=\"M1349.5,-68C1349.5,-68 1256.5,-68 1256.5,-68 1250.5,-68 1244.5,-62 1244.5,-56 1244.5,-56 1244.5,-12 1244.5,-12 1244.5,-6 1250.5,0 1256.5,0 1256.5,0 1349.5,0 1349.5,0 1355.5,0 1361.5,-6 1361.5,-12 1361.5,-12 1361.5,-56 1361.5,-56 1361.5,-62 1355.5,-68 1349.5,-68\"/>\n<text text-anchor=\"start\" x=\"1255.5\" y=\"-52.8\" font-family=\"Helvetica,sans-Serif\" font-size=\"14.00\">entropy = 0.922</text>\n<text text-anchor=\"start\" x=\"1262\" y=\"-37.8\" font-family=\"Helvetica,sans-Serif\" font-size=\"14.00\">samples = 20</text>\n<text text-anchor=\"start\" x=\"1252.5\" y=\"-22.8\" font-family=\"Helvetica,sans-Serif\" font-size=\"14.00\">value = [2, 2, 16]</text>\n<text text-anchor=\"start\" x=\"1275.5\" y=\"-7.8\" font-family=\"Helvetica,sans-Serif\" font-size=\"14.00\">class = p</text>\n</g>\n<!-- 19&#45;&gt;21 -->\n<g id=\"edge21\" class=\"edge\">\n<title>19&#45;&gt;21</title>\n<path fill=\"none\" stroke=\"black\" d=\"M1303,-103.73C1303,-95.52 1303,-86.86 1303,-78.56\"/>\n<polygon fill=\"black\" stroke=\"black\" points=\"1306.5,-78.3 1303,-68.3 1299.5,-78.3 1306.5,-78.3\"/>\n</g>\n<!-- 23 -->\n<g id=\"node24\" class=\"node\">\n<title>23</title>\n<path fill=\"#d2f9e2\" stroke=\"black\" d=\"M1500,-68C1500,-68 1392,-68 1392,-68 1386,-68 1380,-62 1380,-56 1380,-56 1380,-12 1380,-12 1380,-6 1386,0 1392,0 1392,0 1500,0 1500,0 1506,0 1512,-6 1512,-12 1512,-12 1512,-56 1512,-56 1512,-62 1506,-68 1500,-68\"/>\n<text text-anchor=\"start\" x=\"1398.5\" y=\"-52.8\" font-family=\"Helvetica,sans-Serif\" font-size=\"14.00\">entropy = 1.526</text>\n<text text-anchor=\"start\" x=\"1405\" y=\"-37.8\" font-family=\"Helvetica,sans-Serif\" font-size=\"14.00\">samples = 95</text>\n<text text-anchor=\"start\" x=\"1388\" y=\"-22.8\" font-family=\"Helvetica,sans-Serif\" font-size=\"14.00\">value = [22, 44, 29]</text>\n<text text-anchor=\"start\" x=\"1419\" y=\"-7.8\" font-family=\"Helvetica,sans-Serif\" font-size=\"14.00\">class = y</text>\n</g>\n<!-- 22&#45;&gt;23 -->\n<g id=\"edge23\" class=\"edge\">\n<title>22&#45;&gt;23</title>\n<path fill=\"none\" stroke=\"black\" d=\"M1509.39,-103.73C1500.98,-94.61 1492.05,-84.93 1483.64,-75.81\"/>\n<polygon fill=\"black\" stroke=\"black\" points=\"1486.07,-73.28 1476.71,-68.3 1480.92,-78.02 1486.07,-73.28\"/>\n</g>\n<!-- 24 -->\n<g id=\"node25\" class=\"node\">\n<title>24</title>\n<path fill=\"#6aeca0\" stroke=\"black\" d=\"M1635.5,-68C1635.5,-68 1542.5,-68 1542.5,-68 1536.5,-68 1530.5,-62 1530.5,-56 1530.5,-56 1530.5,-12 1530.5,-12 1530.5,-6 1536.5,0 1542.5,0 1542.5,0 1635.5,0 1635.5,0 1641.5,0 1647.5,-6 1647.5,-12 1647.5,-12 1647.5,-56 1647.5,-56 1647.5,-62 1641.5,-68 1635.5,-68\"/>\n<text text-anchor=\"start\" x=\"1541.5\" y=\"-52.8\" font-family=\"Helvetica,sans-Serif\" font-size=\"14.00\">entropy = 0.973</text>\n<text text-anchor=\"start\" x=\"1548\" y=\"-37.8\" font-family=\"Helvetica,sans-Serif\" font-size=\"14.00\">samples = 32</text>\n<text text-anchor=\"start\" x=\"1538.5\" y=\"-22.8\" font-family=\"Helvetica,sans-Serif\" font-size=\"14.00\">value = [4, 25, 3]</text>\n<text text-anchor=\"start\" x=\"1562\" y=\"-7.8\" font-family=\"Helvetica,sans-Serif\" font-size=\"14.00\">class = y</text>\n</g>\n<!-- 22&#45;&gt;24 -->\n<g id=\"edge24\" class=\"edge\">\n<title>22&#45;&gt;24</title>\n<path fill=\"none\" stroke=\"black\" d=\"M1562.64,-103.73C1565.89,-95.24 1569.33,-86.28 1572.61,-77.73\"/>\n<polygon fill=\"black\" stroke=\"black\" points=\"1575.91,-78.89 1576.23,-68.3 1569.38,-76.38 1575.91,-78.89\"/>\n</g>\n<!-- 26 -->\n<g id=\"node27\" class=\"node\">\n<title>26</title>\n<path fill=\"#a06aec\" stroke=\"black\" d=\"M1827,-187C1827,-187 1699,-187 1699,-187 1693,-187 1687,-181 1687,-175 1687,-175 1687,-116 1687,-116 1687,-110 1693,-104 1699,-104 1699,-104 1827,-104 1827,-104 1833,-104 1839,-110 1839,-116 1839,-116 1839,-175 1839,-175 1839,-181 1833,-187 1827,-187\"/>\n<text text-anchor=\"start\" x=\"1695\" y=\"-171.8\" font-family=\"Helvetica,sans-Serif\" font-size=\"14.00\">VisceraWeight ≤ 0.036</text>\n<text text-anchor=\"start\" x=\"1715.5\" y=\"-156.8\" font-family=\"Helvetica,sans-Serif\" font-size=\"14.00\">entropy = 0.722</text>\n<text text-anchor=\"start\" x=\"1722\" y=\"-141.8\" font-family=\"Helvetica,sans-Serif\" font-size=\"14.00\">samples = 15</text>\n<text text-anchor=\"start\" x=\"1712.5\" y=\"-126.8\" font-family=\"Helvetica,sans-Serif\" font-size=\"14.00\">value = [0, 3, 12]</text>\n<text text-anchor=\"start\" x=\"1735.5\" y=\"-111.8\" font-family=\"Helvetica,sans-Serif\" font-size=\"14.00\">class = p</text>\n</g>\n<!-- 25&#45;&gt;26 -->\n<g id=\"edge26\" class=\"edge\">\n<title>25&#45;&gt;26</title>\n<path fill=\"none\" stroke=\"black\" d=\"M1763,-222.91C1763,-214.65 1763,-205.86 1763,-197.3\"/>\n<polygon fill=\"black\" stroke=\"black\" points=\"1766.5,-197.02 1763,-187.02 1759.5,-197.02 1766.5,-197.02\"/>\n</g>\n<!-- 29 -->\n<g id=\"node30\" class=\"node\">\n<title>29</title>\n<path fill=\"#fae9dd\" stroke=\"black\" d=\"M2050,-187C2050,-187 1934,-187 1934,-187 1928,-187 1922,-181 1922,-175 1922,-175 1922,-116 1922,-116 1922,-110 1928,-104 1934,-104 1934,-104 2050,-104 2050,-104 2056,-104 2062,-110 2062,-116 2062,-116 2062,-175 2062,-175 2062,-181 2056,-187 2050,-187\"/>\n<text text-anchor=\"start\" x=\"1939.5\" y=\"-171.8\" font-family=\"Helvetica,sans-Serif\" font-size=\"14.00\">Diameter ≤ 0.412</text>\n<text text-anchor=\"start\" x=\"1944.5\" y=\"-156.8\" font-family=\"Helvetica,sans-Serif\" font-size=\"14.00\">entropy = 1.539</text>\n<text text-anchor=\"start\" x=\"1947\" y=\"-141.8\" font-family=\"Helvetica,sans-Serif\" font-size=\"14.00\">samples = 229</text>\n<text text-anchor=\"start\" x=\"1930\" y=\"-126.8\" font-family=\"Helvetica,sans-Serif\" font-size=\"14.00\">value = [101, 54, 74]</text>\n<text text-anchor=\"start\" x=\"1964.5\" y=\"-111.8\" font-family=\"Helvetica,sans-Serif\" font-size=\"14.00\">class = T</text>\n</g>\n<!-- 25&#45;&gt;29 -->\n<g id=\"edge29\" class=\"edge\">\n<title>25&#45;&gt;29</title>\n<path fill=\"none\" stroke=\"black\" d=\"M1833.26,-227.6C1858.43,-214.74 1886.97,-200.16 1912.84,-186.94\"/>\n<polygon fill=\"black\" stroke=\"black\" points=\"1914.56,-190 1921.87,-182.33 1911.37,-183.76 1914.56,-190\"/>\n</g>\n<!-- 27 -->\n<g id=\"node28\" class=\"node\">\n<title>27</title>\n<path fill=\"#ffffff\" stroke=\"black\" d=\"M1764,-68C1764,-68 1678,-68 1678,-68 1672,-68 1666,-62 1666,-56 1666,-56 1666,-12 1666,-12 1666,-6 1672,0 1678,0 1678,0 1764,0 1764,0 1770,0 1776,-6 1776,-12 1776,-12 1776,-56 1776,-56 1776,-62 1770,-68 1764,-68\"/>\n<text text-anchor=\"start\" x=\"1681\" y=\"-52.8\" font-family=\"Helvetica,sans-Serif\" font-size=\"14.00\">entropy = 1.0</text>\n<text text-anchor=\"start\" x=\"1683.5\" y=\"-37.8\" font-family=\"Helvetica,sans-Serif\" font-size=\"14.00\">samples = 6</text>\n<text text-anchor=\"start\" x=\"1674\" y=\"-22.8\" font-family=\"Helvetica,sans-Serif\" font-size=\"14.00\">value = [0, 3, 3]</text>\n<text text-anchor=\"start\" x=\"1694\" y=\"-7.8\" font-family=\"Helvetica,sans-Serif\" font-size=\"14.00\">class = y</text>\n</g>\n<!-- 26&#45;&gt;27 -->\n<g id=\"edge27\" class=\"edge\">\n<title>26&#45;&gt;27</title>\n<path fill=\"none\" stroke=\"black\" d=\"M1747.36,-103.73C1744.11,-95.24 1740.67,-86.28 1737.39,-77.73\"/>\n<polygon fill=\"black\" stroke=\"black\" points=\"1740.62,-76.38 1733.77,-68.3 1734.09,-78.89 1740.62,-76.38\"/>\n</g>\n<!-- 28 -->\n<g id=\"node29\" class=\"node\">\n<title>28</title>\n<path fill=\"#8139e5\" stroke=\"black\" d=\"M1892,-68C1892,-68 1806,-68 1806,-68 1800,-68 1794,-62 1794,-56 1794,-56 1794,-12 1794,-12 1794,-6 1800,0 1806,0 1806,0 1892,0 1892,0 1898,0 1904,-6 1904,-12 1904,-12 1904,-56 1904,-56 1904,-62 1898,-68 1892,-68\"/>\n<text text-anchor=\"start\" x=\"1809\" y=\"-52.8\" font-family=\"Helvetica,sans-Serif\" font-size=\"14.00\">entropy = 0.0</text>\n<text text-anchor=\"start\" x=\"1811.5\" y=\"-37.8\" font-family=\"Helvetica,sans-Serif\" font-size=\"14.00\">samples = 9</text>\n<text text-anchor=\"start\" x=\"1802\" y=\"-22.8\" font-family=\"Helvetica,sans-Serif\" font-size=\"14.00\">value = [0, 0, 9]</text>\n<text text-anchor=\"start\" x=\"1821.5\" y=\"-7.8\" font-family=\"Helvetica,sans-Serif\" font-size=\"14.00\">class = p</text>\n</g>\n<!-- 26&#45;&gt;28 -->\n<g id=\"edge28\" class=\"edge\">\n<title>26&#45;&gt;28</title>\n<path fill=\"none\" stroke=\"black\" d=\"M1795.02,-103.73C1802.04,-94.79 1809.48,-85.32 1816.52,-76.36\"/>\n<polygon fill=\"black\" stroke=\"black\" points=\"1819.42,-78.33 1822.85,-68.3 1813.92,-74 1819.42,-78.33\"/>\n</g>\n<!-- 30 -->\n<g id=\"node31\" class=\"node\">\n<title>30</title>\n<path fill=\"#f8decb\" stroke=\"black\" d=\"M2050,-68C2050,-68 1934,-68 1934,-68 1928,-68 1922,-62 1922,-56 1922,-56 1922,-12 1922,-12 1922,-6 1928,0 1934,0 1934,0 2050,0 2050,0 2056,0 2062,-6 2062,-12 2062,-12 2062,-56 2062,-56 2062,-62 2056,-68 2050,-68\"/>\n<text text-anchor=\"start\" x=\"1944.5\" y=\"-52.8\" font-family=\"Helvetica,sans-Serif\" font-size=\"14.00\">entropy = 1.507</text>\n<text text-anchor=\"start\" x=\"1947\" y=\"-37.8\" font-family=\"Helvetica,sans-Serif\" font-size=\"14.00\">samples = 207</text>\n<text text-anchor=\"start\" x=\"1930\" y=\"-22.8\" font-family=\"Helvetica,sans-Serif\" font-size=\"14.00\">value = [100, 45, 62]</text>\n<text text-anchor=\"start\" x=\"1964.5\" y=\"-7.8\" font-family=\"Helvetica,sans-Serif\" font-size=\"14.00\">class = T</text>\n</g>\n<!-- 29&#45;&gt;30 -->\n<g id=\"edge30\" class=\"edge\">\n<title>29&#45;&gt;30</title>\n<path fill=\"none\" stroke=\"black\" d=\"M1992,-103.73C1992,-95.52 1992,-86.86 1992,-78.56\"/>\n<polygon fill=\"black\" stroke=\"black\" points=\"1995.5,-78.3 1992,-68.3 1988.5,-78.3 1995.5,-78.3\"/>\n</g>\n<!-- 31 -->\n<g id=\"node32\" class=\"node\">\n<title>31</title>\n<path fill=\"#e2d1f9\" stroke=\"black\" d=\"M2185.5,-68C2185.5,-68 2092.5,-68 2092.5,-68 2086.5,-68 2080.5,-62 2080.5,-56 2080.5,-56 2080.5,-12 2080.5,-12 2080.5,-6 2086.5,0 2092.5,0 2092.5,0 2185.5,0 2185.5,0 2191.5,0 2197.5,-6 2197.5,-12 2197.5,-12 2197.5,-56 2197.5,-56 2197.5,-62 2191.5,-68 2185.5,-68\"/>\n<text text-anchor=\"start\" x=\"2091.5\" y=\"-52.8\" font-family=\"Helvetica,sans-Serif\" font-size=\"14.00\">entropy = 1.207</text>\n<text text-anchor=\"start\" x=\"2098\" y=\"-37.8\" font-family=\"Helvetica,sans-Serif\" font-size=\"14.00\">samples = 22</text>\n<text text-anchor=\"start\" x=\"2088.5\" y=\"-22.8\" font-family=\"Helvetica,sans-Serif\" font-size=\"14.00\">value = [1, 9, 12]</text>\n<text text-anchor=\"start\" x=\"2111.5\" y=\"-7.8\" font-family=\"Helvetica,sans-Serif\" font-size=\"14.00\">class = p</text>\n</g>\n<!-- 29&#45;&gt;31 -->\n<g id=\"edge31\" class=\"edge\">\n<title>29&#45;&gt;31</title>\n<path fill=\"none\" stroke=\"black\" d=\"M2046.74,-103.73C2059.59,-94.15 2073.27,-83.96 2086.05,-74.44\"/>\n<polygon fill=\"black\" stroke=\"black\" points=\"2088.37,-77.08 2094.3,-68.3 2084.19,-71.47 2088.37,-77.08\"/>\n</g>\n<!-- 33 -->\n<g id=\"node34\" class=\"node\">\n<title>33</title>\n<path fill=\"#ede2fb\" stroke=\"black\" d=\"M2798.5,-425C2798.5,-425 2667.5,-425 2667.5,-425 2661.5,-425 2655.5,-419 2655.5,-413 2655.5,-413 2655.5,-354 2655.5,-354 2655.5,-348 2661.5,-342 2667.5,-342 2667.5,-342 2798.5,-342 2798.5,-342 2804.5,-342 2810.5,-348 2810.5,-354 2810.5,-354 2810.5,-413 2810.5,-413 2810.5,-419 2804.5,-425 2798.5,-425\"/>\n<text text-anchor=\"start\" x=\"2668\" y=\"-409.8\" font-family=\"Helvetica,sans-Serif\" font-size=\"14.00\">WholeWeight ≤ 0.845</text>\n<text text-anchor=\"start\" x=\"2689\" y=\"-394.8\" font-family=\"Helvetica,sans-Serif\" font-size=\"14.00\">entropy = 1.53</text>\n<text text-anchor=\"start\" x=\"2688\" y=\"-379.8\" font-family=\"Helvetica,sans-Serif\" font-size=\"14.00\">samples = 675</text>\n<text text-anchor=\"start\" x=\"2663.5\" y=\"-364.8\" font-family=\"Helvetica,sans-Serif\" font-size=\"14.00\">value = [232, 147, 296]</text>\n<text text-anchor=\"start\" x=\"2705.5\" y=\"-349.8\" font-family=\"Helvetica,sans-Serif\" font-size=\"14.00\">class = p</text>\n</g>\n<!-- 32&#45;&gt;33 -->\n<g id=\"edge33\" class=\"edge\">\n<title>32&#45;&gt;33</title>\n<path fill=\"none\" stroke=\"black\" d=\"M2733,-460.91C2733,-452.65 2733,-443.86 2733,-435.3\"/>\n<polygon fill=\"black\" stroke=\"black\" points=\"2736.5,-435.02 2733,-425.02 2729.5,-435.02 2736.5,-435.02\"/>\n</g>\n<!-- 48 -->\n<g id=\"node49\" class=\"node\">\n<title>48</title>\n<path fill=\"#f6f1fd\" stroke=\"black\" d=\"M3735,-425C3735,-425 3607,-425 3607,-425 3601,-425 3595,-419 3595,-413 3595,-413 3595,-354 3595,-354 3595,-348 3601,-342 3607,-342 3607,-342 3735,-342 3735,-342 3741,-342 3747,-348 3747,-354 3747,-354 3747,-413 3747,-413 3747,-419 3741,-425 3735,-425\"/>\n<text text-anchor=\"start\" x=\"3603\" y=\"-409.8\" font-family=\"Helvetica,sans-Serif\" font-size=\"14.00\">VisceraWeight ≤ 0.297</text>\n<text text-anchor=\"start\" x=\"3623.5\" y=\"-394.8\" font-family=\"Helvetica,sans-Serif\" font-size=\"14.00\">entropy = 1.169</text>\n<text text-anchor=\"start\" x=\"3622.5\" y=\"-379.8\" font-family=\"Helvetica,sans-Serif\" font-size=\"14.00\">samples = 1048</text>\n<text text-anchor=\"start\" x=\"3605.5\" y=\"-364.8\" font-family=\"Helvetica,sans-Serif\" font-size=\"14.00\">value = [487, 33, 528]</text>\n<text text-anchor=\"start\" x=\"3643.5\" y=\"-349.8\" font-family=\"Helvetica,sans-Serif\" font-size=\"14.00\">class = p</text>\n</g>\n<!-- 32&#45;&gt;48 -->\n<g id=\"edge48\" class=\"edge\">\n<title>32&#45;&gt;48</title>\n<path fill=\"none\" stroke=\"black\" d=\"M2810.56,-491.83C2984.27,-470.16 3403.55,-417.86 3584.96,-395.23\"/>\n<polygon fill=\"black\" stroke=\"black\" points=\"3585.5,-398.69 3594.99,-393.98 3584.63,-391.75 3585.5,-398.69\"/>\n</g>\n<!-- 34 -->\n<g id=\"node35\" class=\"node\">\n<title>34</title>\n<path fill=\"#fbf8fe\" stroke=\"black\" d=\"M2722.5,-306C2722.5,-306 2591.5,-306 2591.5,-306 2585.5,-306 2579.5,-300 2579.5,-294 2579.5,-294 2579.5,-235 2579.5,-235 2579.5,-229 2585.5,-223 2591.5,-223 2591.5,-223 2722.5,-223 2722.5,-223 2728.5,-223 2734.5,-229 2734.5,-235 2734.5,-235 2734.5,-294 2734.5,-294 2734.5,-300 2728.5,-306 2722.5,-306\"/>\n<text text-anchor=\"start\" x=\"2593.5\" y=\"-290.8\" font-family=\"Helvetica,sans-Serif\" font-size=\"14.00\">LongestShell ≤ 0.538</text>\n<text text-anchor=\"start\" x=\"2609.5\" y=\"-275.8\" font-family=\"Helvetica,sans-Serif\" font-size=\"14.00\">entropy = 1.573</text>\n<text text-anchor=\"start\" x=\"2612\" y=\"-260.8\" font-family=\"Helvetica,sans-Serif\" font-size=\"14.00\">samples = 369</text>\n<text text-anchor=\"start\" x=\"2587.5\" y=\"-245.8\" font-family=\"Helvetica,sans-Serif\" font-size=\"14.00\">value = [130, 101, 138]</text>\n<text text-anchor=\"start\" x=\"2629.5\" y=\"-230.8\" font-family=\"Helvetica,sans-Serif\" font-size=\"14.00\">class = p</text>\n</g>\n<!-- 33&#45;&gt;34 -->\n<g id=\"edge34\" class=\"edge\">\n<title>33&#45;&gt;34</title>\n<path fill=\"none\" stroke=\"black\" d=\"M2706.63,-341.91C2700.91,-333.1 2694.81,-323.7 2688.9,-314.61\"/>\n<polygon fill=\"black\" stroke=\"black\" points=\"2691.7,-312.5 2683.32,-306.02 2685.83,-316.31 2691.7,-312.5\"/>\n</g>\n<!-- 41 -->\n<g id=\"node42\" class=\"node\">\n<title>41</title>\n<path fill=\"#dcc9f8\" stroke=\"black\" d=\"M3007.5,-306C3007.5,-306 2884.5,-306 2884.5,-306 2878.5,-306 2872.5,-300 2872.5,-294 2872.5,-294 2872.5,-235 2872.5,-235 2872.5,-229 2878.5,-223 2884.5,-223 2884.5,-223 3007.5,-223 3007.5,-223 3013.5,-223 3019.5,-229 3019.5,-235 3019.5,-235 3019.5,-294 3019.5,-294 3019.5,-300 3013.5,-306 3007.5,-306\"/>\n<text text-anchor=\"start\" x=\"2881.5\" y=\"-290.8\" font-family=\"Helvetica,sans-Serif\" font-size=\"14.00\">VisceraWeight ≤ 0.22</text>\n<text text-anchor=\"start\" x=\"2898.5\" y=\"-275.8\" font-family=\"Helvetica,sans-Serif\" font-size=\"14.00\">entropy = 1.432</text>\n<text text-anchor=\"start\" x=\"2901\" y=\"-260.8\" font-family=\"Helvetica,sans-Serif\" font-size=\"14.00\">samples = 306</text>\n<text text-anchor=\"start\" x=\"2880.5\" y=\"-245.8\" font-family=\"Helvetica,sans-Serif\" font-size=\"14.00\">value = [102, 46, 158]</text>\n<text text-anchor=\"start\" x=\"2918.5\" y=\"-230.8\" font-family=\"Helvetica,sans-Serif\" font-size=\"14.00\">class = p</text>\n</g>\n<!-- 33&#45;&gt;41 -->\n<g id=\"edge41\" class=\"edge\">\n<title>33&#45;&gt;41</title>\n<path fill=\"none\" stroke=\"black\" d=\"M2806.9,-341.91C2825.16,-331.88 2844.83,-321.07 2863.46,-310.84\"/>\n<polygon fill=\"black\" stroke=\"black\" points=\"2865.15,-313.9 2872.23,-306.02 2861.78,-307.77 2865.15,-313.9\"/>\n</g>\n<!-- 35 -->\n<g id=\"node36\" class=\"node\">\n<title>35</title>\n<path fill=\"#fcfafe\" stroke=\"black\" d=\"M2493,-187C2493,-187 2365,-187 2365,-187 2359,-187 2353,-181 2353,-175 2353,-175 2353,-116 2353,-116 2353,-110 2359,-104 2365,-104 2365,-104 2493,-104 2493,-104 2499,-104 2505,-110 2505,-116 2505,-116 2505,-175 2505,-175 2505,-181 2499,-187 2493,-187\"/>\n<text text-anchor=\"start\" x=\"2361\" y=\"-171.8\" font-family=\"Helvetica,sans-Serif\" font-size=\"14.00\">VisceraWeight ≤ 0.168</text>\n<text text-anchor=\"start\" x=\"2381.5\" y=\"-156.8\" font-family=\"Helvetica,sans-Serif\" font-size=\"14.00\">entropy = 1.492</text>\n<text text-anchor=\"start\" x=\"2384\" y=\"-141.8\" font-family=\"Helvetica,sans-Serif\" font-size=\"14.00\">samples = 207</text>\n<text text-anchor=\"start\" x=\"2371\" y=\"-126.8\" font-family=\"Helvetica,sans-Serif\" font-size=\"14.00\">value = [84, 36, 87]</text>\n<text text-anchor=\"start\" x=\"2401.5\" y=\"-111.8\" font-family=\"Helvetica,sans-Serif\" font-size=\"14.00\">class = p</text>\n</g>\n<!-- 34&#45;&gt;35 -->\n<g id=\"edge35\" class=\"edge\">\n<title>34&#45;&gt;35</title>\n<path fill=\"none\" stroke=\"black\" d=\"M2579.49,-223.73C2558.48,-212.94 2535.62,-201.21 2514.21,-190.23\"/>\n<polygon fill=\"black\" stroke=\"black\" points=\"2515.63,-187.02 2505.13,-185.57 2512.43,-193.25 2515.63,-187.02\"/>\n</g>\n<!-- 38 -->\n<g id=\"node39\" class=\"node\">\n<title>38</title>\n<path fill=\"#e6fcef\" stroke=\"black\" d=\"M2711,-187C2711,-187 2603,-187 2603,-187 2597,-187 2591,-181 2591,-175 2591,-175 2591,-116 2591,-116 2591,-110 2597,-104 2603,-104 2603,-104 2711,-104 2711,-104 2717,-104 2723,-110 2723,-116 2723,-116 2723,-175 2723,-175 2723,-181 2717,-187 2711,-187\"/>\n<text text-anchor=\"start\" x=\"2619\" y=\"-171.8\" font-family=\"Helvetica,sans-Serif\" font-size=\"14.00\">Rings ≤ 10.5</text>\n<text text-anchor=\"start\" x=\"2609.5\" y=\"-156.8\" font-family=\"Helvetica,sans-Serif\" font-size=\"14.00\">entropy = 1.569</text>\n<text text-anchor=\"start\" x=\"2612\" y=\"-141.8\" font-family=\"Helvetica,sans-Serif\" font-size=\"14.00\">samples = 162</text>\n<text text-anchor=\"start\" x=\"2599\" y=\"-126.8\" font-family=\"Helvetica,sans-Serif\" font-size=\"14.00\">value = [46, 65, 51]</text>\n<text text-anchor=\"start\" x=\"2630\" y=\"-111.8\" font-family=\"Helvetica,sans-Serif\" font-size=\"14.00\">class = y</text>\n</g>\n<!-- 34&#45;&gt;38 -->\n<g id=\"edge38\" class=\"edge\">\n<title>34&#45;&gt;38</title>\n<path fill=\"none\" stroke=\"black\" d=\"M2657,-222.91C2657,-214.65 2657,-205.86 2657,-197.3\"/>\n<polygon fill=\"black\" stroke=\"black\" points=\"2660.5,-197.02 2657,-187.02 2653.5,-197.02 2660.5,-197.02\"/>\n</g>\n<!-- 36 -->\n<g id=\"node37\" class=\"node\">\n<title>36</title>\n<path fill=\"#f4edfd\" stroke=\"black\" d=\"M2336,-68C2336,-68 2228,-68 2228,-68 2222,-68 2216,-62 2216,-56 2216,-56 2216,-12 2216,-12 2216,-6 2222,0 2228,0 2228,0 2336,0 2336,0 2342,0 2348,-6 2348,-12 2348,-12 2348,-56 2348,-56 2348,-62 2342,-68 2336,-68\"/>\n<text text-anchor=\"start\" x=\"2234.5\" y=\"-52.8\" font-family=\"Helvetica,sans-Serif\" font-size=\"14.00\">entropy = 1.553</text>\n<text text-anchor=\"start\" x=\"2237\" y=\"-37.8\" font-family=\"Helvetica,sans-Serif\" font-size=\"14.00\">samples = 120</text>\n<text text-anchor=\"start\" x=\"2224\" y=\"-22.8\" font-family=\"Helvetica,sans-Serif\" font-size=\"14.00\">value = [42, 29, 49]</text>\n<text text-anchor=\"start\" x=\"2254.5\" y=\"-7.8\" font-family=\"Helvetica,sans-Serif\" font-size=\"14.00\">class = p</text>\n</g>\n<!-- 35&#45;&gt;36 -->\n<g id=\"edge36\" class=\"edge\">\n<title>35&#45;&gt;36</title>\n<path fill=\"none\" stroke=\"black\" d=\"M2374.26,-103.73C2361.41,-94.15 2347.73,-83.96 2334.95,-74.44\"/>\n<polygon fill=\"black\" stroke=\"black\" points=\"2336.81,-71.47 2326.7,-68.3 2332.63,-77.08 2336.81,-71.47\"/>\n</g>\n<!-- 37 -->\n<g id=\"node38\" class=\"node\">\n<title>37</title>\n<path fill=\"#fdf5ef\" stroke=\"black\" d=\"M2479.5,-68C2479.5,-68 2378.5,-68 2378.5,-68 2372.5,-68 2366.5,-62 2366.5,-56 2366.5,-56 2366.5,-12 2366.5,-12 2366.5,-6 2372.5,0 2378.5,0 2378.5,0 2479.5,0 2479.5,0 2485.5,0 2491.5,-6 2491.5,-12 2491.5,-12 2491.5,-56 2491.5,-56 2491.5,-62 2485.5,-68 2479.5,-68\"/>\n<text text-anchor=\"start\" x=\"2381.5\" y=\"-52.8\" font-family=\"Helvetica,sans-Serif\" font-size=\"14.00\">entropy = 1.322</text>\n<text text-anchor=\"start\" x=\"2388\" y=\"-37.8\" font-family=\"Helvetica,sans-Serif\" font-size=\"14.00\">samples = 87</text>\n<text text-anchor=\"start\" x=\"2374.5\" y=\"-22.8\" font-family=\"Helvetica,sans-Serif\" font-size=\"14.00\">value = [42, 7, 38]</text>\n<text text-anchor=\"start\" x=\"2401.5\" y=\"-7.8\" font-family=\"Helvetica,sans-Serif\" font-size=\"14.00\">class = T</text>\n</g>\n<!-- 35&#45;&gt;37 -->\n<g id=\"edge37\" class=\"edge\">\n<title>35&#45;&gt;37</title>\n<path fill=\"none\" stroke=\"black\" d=\"M2429,-103.73C2429,-95.52 2429,-86.86 2429,-78.56\"/>\n<polygon fill=\"black\" stroke=\"black\" points=\"2432.5,-78.3 2429,-68.3 2425.5,-78.3 2432.5,-78.3\"/>\n</g>\n<!-- 39 -->\n<g id=\"node40\" class=\"node\">\n<title>39</title>\n<path fill=\"#cbf8de\" stroke=\"black\" d=\"M2630,-68C2630,-68 2522,-68 2522,-68 2516,-68 2510,-62 2510,-56 2510,-56 2510,-12 2510,-12 2510,-6 2516,0 2522,0 2522,0 2630,0 2630,0 2636,0 2642,-6 2642,-12 2642,-12 2642,-56 2642,-56 2642,-62 2636,-68 2630,-68\"/>\n<text text-anchor=\"start\" x=\"2528.5\" y=\"-52.8\" font-family=\"Helvetica,sans-Serif\" font-size=\"14.00\">entropy = 1.521</text>\n<text text-anchor=\"start\" x=\"2531\" y=\"-37.8\" font-family=\"Helvetica,sans-Serif\" font-size=\"14.00\">samples = 116</text>\n<text text-anchor=\"start\" x=\"2518\" y=\"-22.8\" font-family=\"Helvetica,sans-Serif\" font-size=\"14.00\">value = [33, 55, 28]</text>\n<text text-anchor=\"start\" x=\"2549\" y=\"-7.8\" font-family=\"Helvetica,sans-Serif\" font-size=\"14.00\">class = y</text>\n</g>\n<!-- 38&#45;&gt;39 -->\n<g id=\"edge39\" class=\"edge\">\n<title>38&#45;&gt;39</title>\n<path fill=\"none\" stroke=\"black\" d=\"M2626.84,-103.73C2620.23,-94.79 2613.22,-85.32 2606.59,-76.36\"/>\n<polygon fill=\"black\" stroke=\"black\" points=\"2609.39,-74.26 2600.63,-68.3 2603.77,-78.42 2609.39,-74.26\"/>\n</g>\n<!-- 40 -->\n<g id=\"node41\" class=\"node\">\n<title>40</title>\n<path fill=\"#d9c3f7\" stroke=\"black\" d=\"M2780,-68C2780,-68 2672,-68 2672,-68 2666,-68 2660,-62 2660,-56 2660,-56 2660,-12 2660,-12 2660,-6 2666,0 2672,0 2672,0 2780,0 2780,0 2786,0 2792,-6 2792,-12 2792,-12 2792,-56 2792,-56 2792,-62 2786,-68 2780,-68\"/>\n<text text-anchor=\"start\" x=\"2678.5\" y=\"-52.8\" font-family=\"Helvetica,sans-Serif\" font-size=\"14.00\">entropy = 1.494</text>\n<text text-anchor=\"start\" x=\"2685\" y=\"-37.8\" font-family=\"Helvetica,sans-Serif\" font-size=\"14.00\">samples = 46</text>\n<text text-anchor=\"start\" x=\"2668\" y=\"-22.8\" font-family=\"Helvetica,sans-Serif\" font-size=\"14.00\">value = [13, 10, 23]</text>\n<text text-anchor=\"start\" x=\"2698.5\" y=\"-7.8\" font-family=\"Helvetica,sans-Serif\" font-size=\"14.00\">class = p</text>\n</g>\n<!-- 38&#45;&gt;40 -->\n<g id=\"edge40\" class=\"edge\">\n<title>38&#45;&gt;40</title>\n<path fill=\"none\" stroke=\"black\" d=\"M2682.69,-103.73C2688.21,-94.97 2694.05,-85.7 2699.59,-76.91\"/>\n<polygon fill=\"black\" stroke=\"black\" points=\"2702.65,-78.63 2705.02,-68.3 2696.72,-74.89 2702.65,-78.63\"/>\n</g>\n<!-- 42 -->\n<g id=\"node43\" class=\"node\">\n<title>42</title>\n<path fill=\"#d8c2f7\" stroke=\"black\" d=\"M3004,-187C3004,-187 2888,-187 2888,-187 2882,-187 2876,-181 2876,-175 2876,-175 2876,-116 2876,-116 2876,-110 2882,-104 2888,-104 2888,-104 3004,-104 3004,-104 3010,-104 3016,-110 3016,-116 3016,-116 3016,-175 3016,-175 3016,-181 3010,-187 3004,-187\"/>\n<text text-anchor=\"start\" x=\"2885.5\" y=\"-171.8\" font-family=\"Helvetica,sans-Serif\" font-size=\"14.00\">ShellWeight ≤ 0.264</text>\n<text text-anchor=\"start\" x=\"2902\" y=\"-156.8\" font-family=\"Helvetica,sans-Serif\" font-size=\"14.00\">entropy = 1.46</text>\n<text text-anchor=\"start\" x=\"2901\" y=\"-141.8\" font-family=\"Helvetica,sans-Serif\" font-size=\"14.00\">samples = 238</text>\n<text text-anchor=\"start\" x=\"2884\" y=\"-126.8\" font-family=\"Helvetica,sans-Serif\" font-size=\"14.00\">value = [72, 43, 123]</text>\n<text text-anchor=\"start\" x=\"2918.5\" y=\"-111.8\" font-family=\"Helvetica,sans-Serif\" font-size=\"14.00\">class = p</text>\n</g>\n<!-- 41&#45;&gt;42 -->\n<g id=\"edge42\" class=\"edge\">\n<title>41&#45;&gt;42</title>\n<path fill=\"none\" stroke=\"black\" d=\"M2946,-222.91C2946,-214.65 2946,-205.86 2946,-197.3\"/>\n<polygon fill=\"black\" stroke=\"black\" points=\"2949.5,-197.02 2946,-187.02 2942.5,-197.02 2949.5,-197.02\"/>\n</g>\n<!-- 45 -->\n<g id=\"node46\" class=\"node\">\n<title>45</title>\n<path fill=\"#eee5fc\" stroke=\"black\" d=\"M3229.5,-187C3229.5,-187 3116.5,-187 3116.5,-187 3110.5,-187 3104.5,-181 3104.5,-175 3104.5,-175 3104.5,-116 3104.5,-116 3104.5,-110 3110.5,-104 3116.5,-104 3116.5,-104 3229.5,-104 3229.5,-104 3235.5,-104 3241.5,-110 3241.5,-116 3241.5,-116 3241.5,-175 3241.5,-175 3241.5,-181 3235.5,-187 3229.5,-187\"/>\n<text text-anchor=\"start\" x=\"3112.5\" y=\"-171.8\" font-family=\"Helvetica,sans-Serif\" font-size=\"14.00\">ShellWeight ≤ 0.273</text>\n<text text-anchor=\"start\" x=\"3125.5\" y=\"-156.8\" font-family=\"Helvetica,sans-Serif\" font-size=\"14.00\">entropy = 1.213</text>\n<text text-anchor=\"start\" x=\"3132\" y=\"-141.8\" font-family=\"Helvetica,sans-Serif\" font-size=\"14.00\">samples = 68</text>\n<text text-anchor=\"start\" x=\"3118.5\" y=\"-126.8\" font-family=\"Helvetica,sans-Serif\" font-size=\"14.00\">value = [30, 3, 35]</text>\n<text text-anchor=\"start\" x=\"3145.5\" y=\"-111.8\" font-family=\"Helvetica,sans-Serif\" font-size=\"14.00\">class = p</text>\n</g>\n<!-- 41&#45;&gt;45 -->\n<g id=\"edge45\" class=\"edge\">\n<title>41&#45;&gt;45</title>\n<path fill=\"none\" stroke=\"black\" d=\"M3019.7,-225.51C3043.91,-213.03 3070.89,-199.13 3095.39,-186.5\"/>\n<polygon fill=\"black\" stroke=\"black\" points=\"3097,-189.61 3104.29,-181.92 3093.8,-183.39 3097,-189.61\"/>\n</g>\n<!-- 43 -->\n<g id=\"node44\" class=\"node\">\n<title>43</title>\n<path fill=\"#cdb1f5\" stroke=\"black\" d=\"M2930,-68C2930,-68 2822,-68 2822,-68 2816,-68 2810,-62 2810,-56 2810,-56 2810,-12 2810,-12 2810,-6 2816,0 2822,0 2822,0 2930,0 2930,0 2936,0 2942,-6 2942,-12 2942,-12 2942,-56 2942,-56 2942,-62 2936,-68 2930,-68\"/>\n<text text-anchor=\"start\" x=\"2828.5\" y=\"-52.8\" font-family=\"Helvetica,sans-Serif\" font-size=\"14.00\">entropy = 1.449</text>\n<text text-anchor=\"start\" x=\"2831\" y=\"-37.8\" font-family=\"Helvetica,sans-Serif\" font-size=\"14.00\">samples = 114</text>\n<text text-anchor=\"start\" x=\"2818\" y=\"-22.8\" font-family=\"Helvetica,sans-Serif\" font-size=\"14.00\">value = [24, 28, 62]</text>\n<text text-anchor=\"start\" x=\"2848.5\" y=\"-7.8\" font-family=\"Helvetica,sans-Serif\" font-size=\"14.00\">class = p</text>\n</g>\n<!-- 42&#45;&gt;43 -->\n<g id=\"edge43\" class=\"edge\">\n<title>42&#45;&gt;43</title>\n<path fill=\"none\" stroke=\"black\" d=\"M2919.93,-103.73C2914.34,-94.97 2908.41,-85.7 2902.79,-76.91\"/>\n<polygon fill=\"black\" stroke=\"black\" points=\"2905.62,-74.84 2897.29,-68.3 2899.72,-78.61 2905.62,-74.84\"/>\n</g>\n<!-- 44 -->\n<g id=\"node45\" class=\"node\">\n<title>44</title>\n<path fill=\"#e9ddfb\" stroke=\"black\" d=\"M3080,-68C3080,-68 2972,-68 2972,-68 2966,-68 2960,-62 2960,-56 2960,-56 2960,-12 2960,-12 2960,-6 2966,0 2972,0 2972,0 3080,0 3080,0 3086,0 3092,-6 3092,-12 3092,-12 3092,-56 3092,-56 3092,-62 3086,-68 3080,-68\"/>\n<text text-anchor=\"start\" x=\"2978.5\" y=\"-52.8\" font-family=\"Helvetica,sans-Serif\" font-size=\"14.00\">entropy = 1.402</text>\n<text text-anchor=\"start\" x=\"2981\" y=\"-37.8\" font-family=\"Helvetica,sans-Serif\" font-size=\"14.00\">samples = 124</text>\n<text text-anchor=\"start\" x=\"2968\" y=\"-22.8\" font-family=\"Helvetica,sans-Serif\" font-size=\"14.00\">value = [48, 15, 61]</text>\n<text text-anchor=\"start\" x=\"2998.5\" y=\"-7.8\" font-family=\"Helvetica,sans-Serif\" font-size=\"14.00\">class = p</text>\n</g>\n<!-- 42&#45;&gt;44 -->\n<g id=\"edge44\" class=\"edge\">\n<title>42&#45;&gt;44</title>\n<path fill=\"none\" stroke=\"black\" d=\"M2975.79,-103.73C2982.25,-94.88 2989.1,-85.51 2995.59,-76.63\"/>\n<polygon fill=\"black\" stroke=\"black\" points=\"2998.6,-78.44 3001.67,-68.3 2992.95,-74.31 2998.6,-78.44\"/>\n</g>\n<!-- 46 -->\n<g id=\"node47\" class=\"node\">\n<title>46</title>\n<path fill=\"#f4eefd\" stroke=\"black\" d=\"M3223.5,-68C3223.5,-68 3122.5,-68 3122.5,-68 3116.5,-68 3110.5,-62 3110.5,-56 3110.5,-56 3110.5,-12 3110.5,-12 3110.5,-6 3116.5,0 3122.5,0 3122.5,0 3223.5,0 3223.5,0 3229.5,0 3235.5,-6 3235.5,-12 3235.5,-12 3235.5,-56 3235.5,-56 3235.5,-62 3229.5,-68 3223.5,-68\"/>\n<text text-anchor=\"start\" x=\"3125.5\" y=\"-52.8\" font-family=\"Helvetica,sans-Serif\" font-size=\"14.00\">entropy = 0.999</text>\n<text text-anchor=\"start\" x=\"3132\" y=\"-37.8\" font-family=\"Helvetica,sans-Serif\" font-size=\"14.00\">samples = 44</text>\n<text text-anchor=\"start\" x=\"3118.5\" y=\"-22.8\" font-family=\"Helvetica,sans-Serif\" font-size=\"14.00\">value = [21, 0, 23]</text>\n<text text-anchor=\"start\" x=\"3145.5\" y=\"-7.8\" font-family=\"Helvetica,sans-Serif\" font-size=\"14.00\">class = p</text>\n</g>\n<!-- 45&#45;&gt;46 -->\n<g id=\"edge46\" class=\"edge\">\n<title>45&#45;&gt;46</title>\n<path fill=\"none\" stroke=\"black\" d=\"M3173,-103.73C3173,-95.52 3173,-86.86 3173,-78.56\"/>\n<polygon fill=\"black\" stroke=\"black\" points=\"3176.5,-78.3 3173,-68.3 3169.5,-78.3 3176.5,-78.3\"/>\n</g>\n<!-- 47 -->\n<g id=\"node48\" class=\"node\">\n<title>47</title>\n<path fill=\"#e6d7fa\" stroke=\"black\" d=\"M3358.5,-68C3358.5,-68 3265.5,-68 3265.5,-68 3259.5,-68 3253.5,-62 3253.5,-56 3253.5,-56 3253.5,-12 3253.5,-12 3253.5,-6 3259.5,0 3265.5,0 3265.5,0 3358.5,0 3358.5,0 3364.5,0 3370.5,-6 3370.5,-12 3370.5,-12 3370.5,-56 3370.5,-56 3370.5,-62 3364.5,-68 3358.5,-68\"/>\n<text text-anchor=\"start\" x=\"3264.5\" y=\"-52.8\" font-family=\"Helvetica,sans-Serif\" font-size=\"14.00\">entropy = 1.406</text>\n<text text-anchor=\"start\" x=\"3271\" y=\"-37.8\" font-family=\"Helvetica,sans-Serif\" font-size=\"14.00\">samples = 24</text>\n<text text-anchor=\"start\" x=\"3261.5\" y=\"-22.8\" font-family=\"Helvetica,sans-Serif\" font-size=\"14.00\">value = [9, 3, 12]</text>\n<text text-anchor=\"start\" x=\"3284.5\" y=\"-7.8\" font-family=\"Helvetica,sans-Serif\" font-size=\"14.00\">class = p</text>\n</g>\n<!-- 45&#45;&gt;47 -->\n<g id=\"edge47\" class=\"edge\">\n<title>45&#45;&gt;47</title>\n<path fill=\"none\" stroke=\"black\" d=\"M3224.76,-103.73C3236.8,-94.24 3249.6,-84.16 3261.58,-74.72\"/>\n<polygon fill=\"black\" stroke=\"black\" points=\"3264.04,-77.24 3269.73,-68.3 3259.71,-71.74 3264.04,-77.24\"/>\n</g>\n<!-- 49 -->\n<g id=\"node50\" class=\"node\">\n<title>49</title>\n<path fill=\"#ece1fb\" stroke=\"black\" d=\"M3739,-306C3739,-306 3603,-306 3603,-306 3597,-306 3591,-300 3591,-294 3591,-294 3591,-235 3591,-235 3591,-229 3597,-223 3603,-223 3603,-223 3739,-223 3739,-223 3745,-223 3751,-229 3751,-235 3751,-235 3751,-294 3751,-294 3751,-300 3745,-306 3739,-306\"/>\n<text text-anchor=\"start\" x=\"3599\" y=\"-290.8\" font-family=\"Helvetica,sans-Serif\" font-size=\"14.00\">ShuckedWeight ≤ 0.614</text>\n<text text-anchor=\"start\" x=\"3627\" y=\"-275.8\" font-family=\"Helvetica,sans-Serif\" font-size=\"14.00\">entropy = 1.23</text>\n<text text-anchor=\"start\" x=\"3626\" y=\"-260.8\" font-family=\"Helvetica,sans-Serif\" font-size=\"14.00\">samples = 603</text>\n<text text-anchor=\"start\" x=\"3605.5\" y=\"-245.8\" font-family=\"Helvetica,sans-Serif\" font-size=\"14.00\">value = [261, 30, 312]</text>\n<text text-anchor=\"start\" x=\"3643.5\" y=\"-230.8\" font-family=\"Helvetica,sans-Serif\" font-size=\"14.00\">class = p</text>\n</g>\n<!-- 48&#45;&gt;49 -->\n<g id=\"edge49\" class=\"edge\">\n<title>48&#45;&gt;49</title>\n<path fill=\"none\" stroke=\"black\" d=\"M3671,-341.91C3671,-333.65 3671,-324.86 3671,-316.3\"/>\n<polygon fill=\"black\" stroke=\"black\" points=\"3674.5,-316.02 3671,-306.02 3667.5,-316.02 3674.5,-316.02\"/>\n</g>\n<!-- 56 -->\n<g id=\"node57\" class=\"node\">\n<title>56</title>\n<path fill=\"#fef9f6\" stroke=\"black\" d=\"M4170,-306C4170,-306 4034,-306 4034,-306 4028,-306 4022,-300 4022,-294 4022,-294 4022,-235 4022,-235 4022,-229 4028,-223 4034,-223 4034,-223 4170,-223 4170,-223 4176,-223 4182,-229 4182,-235 4182,-235 4182,-294 4182,-294 4182,-300 4176,-306 4170,-306\"/>\n<text text-anchor=\"start\" x=\"4030\" y=\"-290.8\" font-family=\"Helvetica,sans-Serif\" font-size=\"14.00\">ShuckedWeight ≤ 0.873</text>\n<text text-anchor=\"start\" x=\"4054.5\" y=\"-275.8\" font-family=\"Helvetica,sans-Serif\" font-size=\"14.00\">entropy = 1.051</text>\n<text text-anchor=\"start\" x=\"4057\" y=\"-260.8\" font-family=\"Helvetica,sans-Serif\" font-size=\"14.00\">samples = 445</text>\n<text text-anchor=\"start\" x=\"4040\" y=\"-245.8\" font-family=\"Helvetica,sans-Serif\" font-size=\"14.00\">value = [226, 3, 216]</text>\n<text text-anchor=\"start\" x=\"4074.5\" y=\"-230.8\" font-family=\"Helvetica,sans-Serif\" font-size=\"14.00\">class = T</text>\n</g>\n<!-- 48&#45;&gt;56 -->\n<g id=\"edge56\" class=\"edge\">\n<title>48&#45;&gt;56</title>\n<path fill=\"none\" stroke=\"black\" d=\"M3747.06,-361.85C3821.11,-341.75 3933.64,-311.2 4012.08,-289.91\"/>\n<polygon fill=\"black\" stroke=\"black\" points=\"4013.22,-293.23 4021.95,-287.23 4011.38,-286.47 4013.22,-293.23\"/>\n</g>\n<!-- 50 -->\n<g id=\"node51\" class=\"node\">\n<title>50</title>\n<path fill=\"#f5f0fd\" stroke=\"black\" d=\"M3648.5,-187C3648.5,-187 3525.5,-187 3525.5,-187 3519.5,-187 3513.5,-181 3513.5,-175 3513.5,-175 3513.5,-116 3513.5,-116 3513.5,-110 3519.5,-104 3525.5,-104 3525.5,-104 3648.5,-104 3648.5,-104 3654.5,-104 3660.5,-110 3660.5,-116 3660.5,-116 3660.5,-175 3660.5,-175 3660.5,-181 3654.5,-187 3648.5,-187\"/>\n<text text-anchor=\"start\" x=\"3526.5\" y=\"-171.8\" font-family=\"Helvetica,sans-Serif\" font-size=\"14.00\">ShellWeight ≤ 0.243</text>\n<text text-anchor=\"start\" x=\"3539.5\" y=\"-156.8\" font-family=\"Helvetica,sans-Serif\" font-size=\"14.00\">entropy = 1.254</text>\n<text text-anchor=\"start\" x=\"3542\" y=\"-141.8\" font-family=\"Helvetica,sans-Serif\" font-size=\"14.00\">samples = 517</text>\n<text text-anchor=\"start\" x=\"3521.5\" y=\"-126.8\" font-family=\"Helvetica,sans-Serif\" font-size=\"14.00\">value = [233, 29, 255]</text>\n<text text-anchor=\"start\" x=\"3559.5\" y=\"-111.8\" font-family=\"Helvetica,sans-Serif\" font-size=\"14.00\">class = p</text>\n</g>\n<!-- 49&#45;&gt;50 -->\n<g id=\"edge50\" class=\"edge\">\n<title>49&#45;&gt;50</title>\n<path fill=\"none\" stroke=\"black\" d=\"M3641.86,-222.91C3635.47,-214.01 3628.65,-204.51 3622.06,-195.33\"/>\n<polygon fill=\"black\" stroke=\"black\" points=\"3624.77,-193.1 3616.09,-187.02 3619.08,-197.19 3624.77,-193.1\"/>\n</g>\n<!-- 53 -->\n<g id=\"node54\" class=\"node\">\n<title>53</title>\n<path fill=\"#c09cf2\" stroke=\"black\" d=\"M3819,-187C3819,-187 3691,-187 3691,-187 3685,-187 3679,-181 3679,-175 3679,-175 3679,-116 3679,-116 3679,-110 3685,-104 3691,-104 3691,-104 3819,-104 3819,-104 3825,-104 3831,-110 3831,-116 3831,-116 3831,-175 3831,-175 3831,-181 3825,-187 3819,-187\"/>\n<text text-anchor=\"start\" x=\"3687\" y=\"-171.8\" font-family=\"Helvetica,sans-Serif\" font-size=\"14.00\">VisceraWeight ≤ 0.206</text>\n<text text-anchor=\"start\" x=\"3707.5\" y=\"-156.8\" font-family=\"Helvetica,sans-Serif\" font-size=\"14.00\">entropy = 0.995</text>\n<text text-anchor=\"start\" x=\"3714\" y=\"-141.8\" font-family=\"Helvetica,sans-Serif\" font-size=\"14.00\">samples = 86</text>\n<text text-anchor=\"start\" x=\"3700.5\" y=\"-126.8\" font-family=\"Helvetica,sans-Serif\" font-size=\"14.00\">value = [28, 1, 57]</text>\n<text text-anchor=\"start\" x=\"3727.5\" y=\"-111.8\" font-family=\"Helvetica,sans-Serif\" font-size=\"14.00\">class = p</text>\n</g>\n<!-- 49&#45;&gt;53 -->\n<g id=\"edge53\" class=\"edge\">\n<title>49&#45;&gt;53</title>\n<path fill=\"none\" stroke=\"black\" d=\"M3700.14,-222.91C3706.53,-214.01 3713.35,-204.51 3719.94,-195.33\"/>\n<polygon fill=\"black\" stroke=\"black\" points=\"3722.92,-197.19 3725.91,-187.02 3717.23,-193.1 3722.92,-197.19\"/>\n</g>\n<!-- 51 -->\n<g id=\"node52\" class=\"node\">\n<title>51</title>\n<path fill=\"#a06aec\" stroke=\"black\" d=\"M3493.5,-68C3493.5,-68 3400.5,-68 3400.5,-68 3394.5,-68 3388.5,-62 3388.5,-56 3388.5,-56 3388.5,-12 3388.5,-12 3388.5,-6 3394.5,0 3400.5,0 3400.5,0 3493.5,0 3493.5,0 3499.5,0 3505.5,-6 3505.5,-12 3505.5,-12 3505.5,-56 3505.5,-56 3505.5,-62 3499.5,-68 3493.5,-68\"/>\n<text text-anchor=\"start\" x=\"3399.5\" y=\"-52.8\" font-family=\"Helvetica,sans-Serif\" font-size=\"14.00\">entropy = 0.722</text>\n<text text-anchor=\"start\" x=\"3406\" y=\"-37.8\" font-family=\"Helvetica,sans-Serif\" font-size=\"14.00\">samples = 15</text>\n<text text-anchor=\"start\" x=\"3396.5\" y=\"-22.8\" font-family=\"Helvetica,sans-Serif\" font-size=\"14.00\">value = [3, 0, 12]</text>\n<text text-anchor=\"start\" x=\"3419.5\" y=\"-7.8\" font-family=\"Helvetica,sans-Serif\" font-size=\"14.00\">class = p</text>\n</g>\n<!-- 50&#45;&gt;51 -->\n<g id=\"edge51\" class=\"edge\">\n<title>50&#45;&gt;51</title>\n<path fill=\"none\" stroke=\"black\" d=\"M3534.87,-103.73C3522.74,-94.24 3509.85,-84.16 3497.78,-74.72\"/>\n<polygon fill=\"black\" stroke=\"black\" points=\"3499.61,-71.7 3489.57,-68.3 3495.3,-77.22 3499.61,-71.7\"/>\n</g>\n<!-- 52 -->\n<g id=\"node53\" class=\"node\">\n<title>52</title>\n<path fill=\"#f9f6fe\" stroke=\"black\" d=\"M3658.5,-68C3658.5,-68 3535.5,-68 3535.5,-68 3529.5,-68 3523.5,-62 3523.5,-56 3523.5,-56 3523.5,-12 3523.5,-12 3523.5,-6 3529.5,0 3535.5,0 3535.5,0 3658.5,0 3658.5,0 3664.5,0 3670.5,-6 3670.5,-12 3670.5,-12 3670.5,-56 3670.5,-56 3670.5,-62 3664.5,-68 3658.5,-68\"/>\n<text text-anchor=\"start\" x=\"3553\" y=\"-52.8\" font-family=\"Helvetica,sans-Serif\" font-size=\"14.00\">entropy = 1.26</text>\n<text text-anchor=\"start\" x=\"3552\" y=\"-37.8\" font-family=\"Helvetica,sans-Serif\" font-size=\"14.00\">samples = 502</text>\n<text text-anchor=\"start\" x=\"3531.5\" y=\"-22.8\" font-family=\"Helvetica,sans-Serif\" font-size=\"14.00\">value = [230, 29, 243]</text>\n<text text-anchor=\"start\" x=\"3569.5\" y=\"-7.8\" font-family=\"Helvetica,sans-Serif\" font-size=\"14.00\">class = p</text>\n</g>\n<!-- 50&#45;&gt;52 -->\n<g id=\"edge52\" class=\"edge\">\n<title>50&#45;&gt;52</title>\n<path fill=\"none\" stroke=\"black\" d=\"M3590.72,-103.73C3591.48,-95.43 3592.28,-86.67 3593.05,-78.28\"/>\n<polygon fill=\"black\" stroke=\"black\" points=\"3596.53,-78.58 3593.96,-68.3 3589.56,-77.94 3596.53,-78.58\"/>\n</g>\n<!-- 54 -->\n<g id=\"node55\" class=\"node\">\n<title>54</title>\n<path fill=\"#f6d5bd\" stroke=\"black\" d=\"M3787,-68C3787,-68 3701,-68 3701,-68 3695,-68 3689,-62 3689,-56 3689,-56 3689,-12 3689,-12 3689,-6 3695,0 3701,0 3701,0 3787,0 3787,0 3793,0 3799,-6 3799,-12 3799,-12 3799,-56 3799,-56 3799,-62 3793,-68 3787,-68\"/>\n<text text-anchor=\"start\" x=\"3704\" y=\"-52.8\" font-family=\"Helvetica,sans-Serif\" font-size=\"14.00\">entropy = 1.5</text>\n<text text-anchor=\"start\" x=\"3706.5\" y=\"-37.8\" font-family=\"Helvetica,sans-Serif\" font-size=\"14.00\">samples = 4</text>\n<text text-anchor=\"start\" x=\"3697\" y=\"-22.8\" font-family=\"Helvetica,sans-Serif\" font-size=\"14.00\">value = [2, 1, 1]</text>\n<text text-anchor=\"start\" x=\"3716.5\" y=\"-7.8\" font-family=\"Helvetica,sans-Serif\" font-size=\"14.00\">class = T</text>\n</g>\n<!-- 53&#45;&gt;54 -->\n<g id=\"edge54\" class=\"edge\">\n<title>53&#45;&gt;54</title>\n<path fill=\"none\" stroke=\"black\" d=\"M3750.9,-103.73C3750.07,-95.43 3749.19,-86.67 3748.35,-78.28\"/>\n<polygon fill=\"black\" stroke=\"black\" points=\"3751.83,-77.9 3747.35,-68.3 3744.86,-78.6 3751.83,-77.9\"/>\n</g>\n<!-- 55 -->\n<g id=\"node56\" class=\"node\">\n<title>55</title>\n<path fill=\"#bc95f1\" stroke=\"black\" d=\"M3930.5,-68C3930.5,-68 3829.5,-68 3829.5,-68 3823.5,-68 3817.5,-62 3817.5,-56 3817.5,-56 3817.5,-12 3817.5,-12 3817.5,-6 3823.5,0 3829.5,0 3829.5,0 3930.5,0 3930.5,0 3936.5,0 3942.5,-6 3942.5,-12 3942.5,-12 3942.5,-56 3942.5,-56 3942.5,-62 3936.5,-68 3930.5,-68\"/>\n<text text-anchor=\"start\" x=\"3832.5\" y=\"-52.8\" font-family=\"Helvetica,sans-Serif\" font-size=\"14.00\">entropy = 0.901</text>\n<text text-anchor=\"start\" x=\"3839\" y=\"-37.8\" font-family=\"Helvetica,sans-Serif\" font-size=\"14.00\">samples = 82</text>\n<text text-anchor=\"start\" x=\"3825.5\" y=\"-22.8\" font-family=\"Helvetica,sans-Serif\" font-size=\"14.00\">value = [26, 0, 56]</text>\n<text text-anchor=\"start\" x=\"3852.5\" y=\"-7.8\" font-family=\"Helvetica,sans-Serif\" font-size=\"14.00\">class = p</text>\n</g>\n<!-- 53&#45;&gt;55 -->\n<g id=\"edge55\" class=\"edge\">\n<title>53&#45;&gt;55</title>\n<path fill=\"none\" stroke=\"black\" d=\"M3801.55,-103.73C3812.27,-94.33 3823.67,-84.35 3834.35,-74.99\"/>\n<polygon fill=\"black\" stroke=\"black\" points=\"3836.77,-77.52 3841.99,-68.3 3832.16,-72.26 3836.77,-77.52\"/>\n</g>\n<!-- 57 -->\n<g id=\"node58\" class=\"node\">\n<title>57</title>\n<path fill=\"#fae6d8\" stroke=\"black\" d=\"M4160,-187C4160,-187 4044,-187 4044,-187 4038,-187 4032,-181 4032,-175 4032,-175 4032,-116 4032,-116 4032,-110 4038,-104 4044,-104 4044,-104 4160,-104 4160,-104 4166,-104 4172,-110 4172,-116 4172,-116 4172,-175 4172,-175 4172,-181 4166,-187 4160,-187\"/>\n<text text-anchor=\"start\" x=\"4049.5\" y=\"-171.8\" font-family=\"Helvetica,sans-Serif\" font-size=\"14.00\">Diameter ≤ 0.543</text>\n<text text-anchor=\"start\" x=\"4058\" y=\"-156.8\" font-family=\"Helvetica,sans-Serif\" font-size=\"14.00\">entropy = 1.05</text>\n<text text-anchor=\"start\" x=\"4057\" y=\"-141.8\" font-family=\"Helvetica,sans-Serif\" font-size=\"14.00\">samples = 376</text>\n<text text-anchor=\"start\" x=\"4040\" y=\"-126.8\" font-family=\"Helvetica,sans-Serif\" font-size=\"14.00\">value = [207, 3, 166]</text>\n<text text-anchor=\"start\" x=\"4074.5\" y=\"-111.8\" font-family=\"Helvetica,sans-Serif\" font-size=\"14.00\">class = T</text>\n</g>\n<!-- 56&#45;&gt;57 -->\n<g id=\"edge57\" class=\"edge\">\n<title>56&#45;&gt;57</title>\n<path fill=\"none\" stroke=\"black\" d=\"M4102,-222.91C4102,-214.65 4102,-205.86 4102,-197.3\"/>\n<polygon fill=\"black\" stroke=\"black\" points=\"4105.5,-197.02 4102,-187.02 4098.5,-197.02 4105.5,-197.02\"/>\n</g>\n<!-- 60 -->\n<g id=\"node61\" class=\"node\">\n<title>60</title>\n<path fill=\"#b184ef\" stroke=\"black\" d=\"M4375.5,-187C4375.5,-187 4274.5,-187 4274.5,-187 4268.5,-187 4262.5,-181 4262.5,-175 4262.5,-175 4262.5,-116 4262.5,-116 4262.5,-110 4268.5,-104 4274.5,-104 4274.5,-104 4375.5,-104 4375.5,-104 4381.5,-104 4387.5,-110 4387.5,-116 4387.5,-116 4387.5,-175 4387.5,-175 4387.5,-181 4381.5,-187 4375.5,-187\"/>\n<text text-anchor=\"start\" x=\"4272.5\" y=\"-171.8\" font-family=\"Helvetica,sans-Serif\" font-size=\"14.00\">Diameter ≤ 0.608</text>\n<text text-anchor=\"start\" x=\"4277.5\" y=\"-156.8\" font-family=\"Helvetica,sans-Serif\" font-size=\"14.00\">entropy = 0.849</text>\n<text text-anchor=\"start\" x=\"4284\" y=\"-141.8\" font-family=\"Helvetica,sans-Serif\" font-size=\"14.00\">samples = 69</text>\n<text text-anchor=\"start\" x=\"4270.5\" y=\"-126.8\" font-family=\"Helvetica,sans-Serif\" font-size=\"14.00\">value = [19, 0, 50]</text>\n<text text-anchor=\"start\" x=\"4297.5\" y=\"-111.8\" font-family=\"Helvetica,sans-Serif\" font-size=\"14.00\">class = p</text>\n</g>\n<!-- 56&#45;&gt;60 -->\n<g id=\"edge60\" class=\"edge\">\n<title>56&#45;&gt;60</title>\n<path fill=\"none\" stroke=\"black\" d=\"M4179.37,-222.91C4203.35,-210.32 4229.66,-196.52 4253.25,-184.15\"/>\n<polygon fill=\"black\" stroke=\"black\" points=\"4254.91,-187.22 4262.14,-179.48 4251.66,-181.03 4254.91,-187.22\"/>\n</g>\n<!-- 58 -->\n<g id=\"node59\" class=\"node\">\n<title>58</title>\n<path fill=\"#fefaf7\" stroke=\"black\" d=\"M4089,-68C4089,-68 3973,-68 3973,-68 3967,-68 3961,-62 3961,-56 3961,-56 3961,-12 3961,-12 3961,-6 3967,0 3973,0 3973,0 4089,0 4089,0 4095,0 4101,-6 4101,-12 4101,-12 4101,-56 4101,-56 4101,-62 4095,-68 4089,-68\"/>\n<text text-anchor=\"start\" x=\"3983.5\" y=\"-52.8\" font-family=\"Helvetica,sans-Serif\" font-size=\"14.00\">entropy = 1.073</text>\n<text text-anchor=\"start\" x=\"3986\" y=\"-37.8\" font-family=\"Helvetica,sans-Serif\" font-size=\"14.00\">samples = 285</text>\n<text text-anchor=\"start\" x=\"3969\" y=\"-22.8\" font-family=\"Helvetica,sans-Serif\" font-size=\"14.00\">value = [144, 3, 138]</text>\n<text text-anchor=\"start\" x=\"4003.5\" y=\"-7.8\" font-family=\"Helvetica,sans-Serif\" font-size=\"14.00\">class = T</text>\n</g>\n<!-- 57&#45;&gt;58 -->\n<g id=\"edge58\" class=\"edge\">\n<title>57&#45;&gt;58</title>\n<path fill=\"none\" stroke=\"black\" d=\"M4075.56,-103.73C4069.88,-94.97 4063.88,-85.7 4058.17,-76.91\"/>\n<polygon fill=\"black\" stroke=\"black\" points=\"4060.97,-74.79 4052.59,-68.3 4055.1,-78.59 4060.97,-74.79\"/>\n</g>\n<!-- 59 -->\n<g id=\"node60\" class=\"node\">\n<title>59</title>\n<path fill=\"#f1b991\" stroke=\"black\" d=\"M4232.5,-68C4232.5,-68 4131.5,-68 4131.5,-68 4125.5,-68 4119.5,-62 4119.5,-56 4119.5,-56 4119.5,-12 4119.5,-12 4119.5,-6 4125.5,0 4131.5,0 4131.5,0 4232.5,0 4232.5,0 4238.5,0 4244.5,-6 4244.5,-12 4244.5,-12 4244.5,-56 4244.5,-56 4244.5,-62 4238.5,-68 4232.5,-68\"/>\n<text text-anchor=\"start\" x=\"4138\" y=\"-52.8\" font-family=\"Helvetica,sans-Serif\" font-size=\"14.00\">entropy = 0.89</text>\n<text text-anchor=\"start\" x=\"4141\" y=\"-37.8\" font-family=\"Helvetica,sans-Serif\" font-size=\"14.00\">samples = 91</text>\n<text text-anchor=\"start\" x=\"4127.5\" y=\"-22.8\" font-family=\"Helvetica,sans-Serif\" font-size=\"14.00\">value = [63, 0, 28]</text>\n<text text-anchor=\"start\" x=\"4154.5\" y=\"-7.8\" font-family=\"Helvetica,sans-Serif\" font-size=\"14.00\">class = T</text>\n</g>\n<!-- 57&#45;&gt;59 -->\n<g id=\"edge59\" class=\"edge\">\n<title>57&#45;&gt;59</title>\n<path fill=\"none\" stroke=\"black\" d=\"M4131.79,-103.73C4138.25,-94.88 4145.1,-85.51 4151.59,-76.63\"/>\n<polygon fill=\"black\" stroke=\"black\" points=\"4154.6,-78.44 4157.67,-68.3 4148.95,-74.31 4154.6,-78.44\"/>\n</g>\n<!-- 61 -->\n<g id=\"node62\" class=\"node\">\n<title>61</title>\n<path fill=\"#a774ed\" stroke=\"black\" d=\"M4375.5,-68C4375.5,-68 4274.5,-68 4274.5,-68 4268.5,-68 4262.5,-62 4262.5,-56 4262.5,-56 4262.5,-12 4262.5,-12 4262.5,-6 4268.5,0 4274.5,0 4274.5,0 4375.5,0 4375.5,0 4381.5,0 4387.5,-6 4387.5,-12 4387.5,-12 4387.5,-56 4387.5,-56 4387.5,-62 4381.5,-68 4375.5,-68\"/>\n<text text-anchor=\"start\" x=\"4277.5\" y=\"-52.8\" font-family=\"Helvetica,sans-Serif\" font-size=\"14.00\">entropy = 0.779</text>\n<text text-anchor=\"start\" x=\"4284\" y=\"-37.8\" font-family=\"Helvetica,sans-Serif\" font-size=\"14.00\">samples = 65</text>\n<text text-anchor=\"start\" x=\"4270.5\" y=\"-22.8\" font-family=\"Helvetica,sans-Serif\" font-size=\"14.00\">value = [15, 0, 50]</text>\n<text text-anchor=\"start\" x=\"4297.5\" y=\"-7.8\" font-family=\"Helvetica,sans-Serif\" font-size=\"14.00\">class = p</text>\n</g>\n<!-- 60&#45;&gt;61 -->\n<g id=\"edge61\" class=\"edge\">\n<title>60&#45;&gt;61</title>\n<path fill=\"none\" stroke=\"black\" d=\"M4325,-103.73C4325,-95.52 4325,-86.86 4325,-78.56\"/>\n<polygon fill=\"black\" stroke=\"black\" points=\"4328.5,-78.3 4325,-68.3 4321.5,-78.3 4328.5,-78.3\"/>\n</g>\n<!-- 62 -->\n<g id=\"node63\" class=\"node\">\n<title>62</title>\n<path fill=\"#e58139\" stroke=\"black\" d=\"M4504,-68C4504,-68 4418,-68 4418,-68 4412,-68 4406,-62 4406,-56 4406,-56 4406,-12 4406,-12 4406,-6 4412,0 4418,0 4418,0 4504,0 4504,0 4510,0 4516,-6 4516,-12 4516,-12 4516,-56 4516,-56 4516,-62 4510,-68 4504,-68\"/>\n<text text-anchor=\"start\" x=\"4421\" y=\"-52.8\" font-family=\"Helvetica,sans-Serif\" font-size=\"14.00\">entropy = 0.0</text>\n<text text-anchor=\"start\" x=\"4423.5\" y=\"-37.8\" font-family=\"Helvetica,sans-Serif\" font-size=\"14.00\">samples = 4</text>\n<text text-anchor=\"start\" x=\"4414\" y=\"-22.8\" font-family=\"Helvetica,sans-Serif\" font-size=\"14.00\">value = [4, 0, 0]</text>\n<text text-anchor=\"start\" x=\"4433.5\" y=\"-7.8\" font-family=\"Helvetica,sans-Serif\" font-size=\"14.00\">class = T</text>\n</g>\n<!-- 60&#45;&gt;62 -->\n<g id=\"edge62\" class=\"edge\">\n<title>60&#45;&gt;62</title>\n<path fill=\"none\" stroke=\"black\" d=\"M4375.64,-103.73C4387.42,-94.24 4399.95,-84.16 4411.67,-74.72\"/>\n<polygon fill=\"black\" stroke=\"black\" points=\"4414.05,-77.3 4419.64,-68.3 4409.66,-71.84 4414.05,-77.3\"/>\n</g>\n</g>\n</svg>\n",
            "text/plain": [
              "<graphviz.sources.Source at 0x78d4b21f02b0>"
            ]
          },
          "metadata": {}
        }
      ]
    },
    {
      "cell_type": "code",
      "source": [
        "# print to the output file\n",
        "print('**************************************************************', file = outputFile)\n",
        "print('(A) Classifier 2 - Top DT', file = outputFile)\n",
        "print(classifier_2, file = outputFile)\n",
        "print(f'best parameters: {classifier_2.best_params_}\\n', file = outputFile)\n",
        "print('\\n', file = outputFile)\n",
        "outputFile.flush()"
      ],
      "metadata": {
        "id": "o8yWMcL873FK"
      },
      "execution_count": 106,
      "outputs": []
    },
    {
      "cell_type": "code",
      "source": [
        "# print classification report\n",
        "y_pred = classifier_2.predict(X_test)\n",
        "confusion_mat= confusion_matrix(y_test, y_pred)\n",
        "\n",
        "print(classification_report(y_test, y_pred, target_names=['F', 'M', 'I']))\n",
        "print(\"confusion matrix\\n\",confusion_mat)\n",
        "\n",
        "# print the result to the output file\n",
        "confusion_matrix_result =np.array2string(confusion_mat)\n",
        "print(\"(B) Confusion Matrix\", file = outputFile)\n",
        "print(confusion_matrix_result, file = outputFile)\n",
        "print('\\n', file = outputFile)\n",
        "print('(C,D) Classification Report', file = outputFile)\n",
        "print(classification_report(y_test, y_pred, target_names = ['F', 'M', 'I']), file = outputFile)\n",
        "outputFile.flush()"
      ],
      "metadata": {
        "id": "v88y-qmq73OR",
        "outputId": "f8b9fdf0-0cdc-4445-d705-162f50fb5ae9",
        "colab": {
          "base_uri": "https://localhost:8080/"
        }
      },
      "execution_count": 107,
      "outputs": [
        {
          "output_type": "stream",
          "name": "stdout",
          "text": [
            "              precision    recall  f1-score   support\n",
            "\n",
            "           F       0.46      0.36      0.41       401\n",
            "           M       0.72      0.74      0.73       417\n",
            "           I       0.46      0.54      0.50       436\n",
            "\n",
            "    accuracy                           0.55      1254\n",
            "   macro avg       0.55      0.55      0.55      1254\n",
            "weighted avg       0.55      0.55      0.55      1254\n",
            "\n",
            "confusion matrix\n",
            " [[146  46 209]\n",
            " [ 45 308  64]\n",
            " [126  74 236]]\n"
          ]
        }
      ]
    },
    {
      "cell_type": "code",
      "source": [
        "# repeat training & grid search & prediction 5 times for classifier 2\n",
        "from sklearn.metrics import accuracy_score, f1_score\n",
        "\n",
        "accuracy_TopDT = np.zeros(5)\n",
        "macro_avg_TopDT = np.zeros(5)\n",
        "weighted_avg_TopDT = np.zeros(5)\n",
        "\n",
        "print('\\n(E) The result after 5 times of train-test repetition:' ,file = outputFile)\n",
        "\n",
        "for i in range(5):\n",
        "  X_train, X_test, y_train, y_test = train_test_split(X, y, test_size = 0.3)\n",
        "\n",
        "  classifier_2 = GridSearchCV(DecisionTreeClassifier(), parameters)\n",
        "  classifier_2.fit(X_train, y_train)\n",
        "\n",
        "  print(f'best parameters for iteration{i+1}: {classifier_2.best_params_}',file = outputFile)\n",
        "  print(f'best parameters for iteration{i+1}: {classifier_2.best_params_}')\n",
        "\n",
        "  y_pred = classifier_2.predict(X_test)\n",
        "\n",
        "  # find the accuracy for each iteration and store the value\n",
        "  accuracy_TopDT[i] = accuracy_score(y_test, y_pred)\n",
        "  macro_avg_TopDT[i] = f1_score(y_test, y_pred, average='macro')\n",
        "  weighted_avg_TopDT[i] = f1_score(y_test, y_pred, average='weighted')\n",
        "\n",
        "# compute the average accuracy & variances\n",
        "print(f'accuracy_TopDT: {accuracy_TopDT}')\n",
        "Avg_accuracy = (np.sum(accuracy_TopDT))/5\n",
        "accuracy_variance = np.var(accuracy_TopDT)\n",
        "print(f'average accuracy: {Avg_accuracy}, variance: {accuracy_variance}')\n",
        "\n",
        "# compute the average macro-average F1 & the variance\n",
        "print(f'macro_avg_TopDT: {macro_avg_TopDT}')\n",
        "Avg_macro_avg = (np.sum(macro_avg_TopDT))/5\n",
        "f1_macro_variance = np.var(macro_avg_TopDT)\n",
        "print(f'average macro-average F1: {Avg_macro_avg}, variance: {f1_macro_variance}')\n",
        "\n",
        "# compute the average weighted-average F1 & the variance\n",
        "print(f'weighted_avg_TopDT: {weighted_avg_TopDT}')\n",
        "Avg_weighted_avg = (np.sum(weighted_avg_TopDT))/5\n",
        "f1_weighted_variance = np.var(weighted_avg_TopDT)\n",
        "print(f'average weighted-average F1: {Avg_weighted_avg}, variance: {f1_weighted_variance}')"
      ],
      "metadata": {
        "colab": {
          "base_uri": "https://localhost:8080/"
        },
        "id": "ctr66poidV4P",
        "outputId": "65a132f8-2bef-4832-a86e-2ecc0eec3dc4"
      },
      "execution_count": 108,
      "outputs": [
        {
          "output_type": "stream",
          "name": "stdout",
          "text": [
            "best parameters for iteration1: {'criterion': 'gini', 'max_depth': 5, 'min_samples_split': 5}\n",
            "best parameters for iteration2: {'criterion': 'entropy', 'max_depth': 3, 'min_samples_split': 2}\n",
            "best parameters for iteration3: {'criterion': 'entropy', 'max_depth': 5, 'min_samples_split': 2}\n",
            "best parameters for iteration4: {'criterion': 'gini', 'max_depth': 5, 'min_samples_split': 2}\n",
            "best parameters for iteration5: {'criterion': 'entropy', 'max_depth': 5, 'min_samples_split': 5}\n",
            "accuracy_TopDT: [0.55661882 0.54944179 0.55661882 0.54066986 0.53429027]\n",
            "average accuracy: 0.5475279106858054, variance: 7.824403694461652e-05\n",
            "macro_avg_TopDT: [0.54319825 0.54367714 0.55216409 0.53536677 0.5312745 ]\n",
            "average macro-average F1: 0.5411361473248494, variance: 5.2572475363549506e-05\n",
            "weighted_avg_TopDT: [0.54471153 0.54382714 0.55282187 0.52911797 0.52831749]\n",
            "average weighted-average F1: 0.5397591995759162, variance: 9.117111442369013e-05\n"
          ]
        }
      ]
    },
    {
      "cell_type": "code",
      "source": [
        "# print the performance result to outputfile\n",
        "print('\\n', file = outputFile)\n",
        "print(f'average accuracy: {Avg_accuracy}, variance: {accuracy_variance}', file = outputFile)\n",
        "print(f'average macro-average F1: {Avg_macro_avg}, variance: {f1_macro_variance}', file = outputFile)\n",
        "print(f'average weighted-average F1: {Avg_weighted_avg}, variance: {f1_weighted_variance}', file = outputFile)\n",
        "outputFile.flush()"
      ],
      "metadata": {
        "id": "x9YFP9uEdV62"
      },
      "execution_count": 109,
      "outputs": []
    },
    {
      "cell_type": "markdown",
      "source": [
        "##### Classifier 3 - Base-MLP"
      ],
      "metadata": {
        "id": "GQrsfw6Xm1nI"
      }
    },
    {
      "cell_type": "code",
      "source": [
        "#Train Classifier 3\n",
        "mlp_base_abalone = MLPClassifier(hidden_layer_sizes =(100, 100,), activation = 'logistic', solver = 'sgd')\n",
        "mlp_base_abalone.fit(X_train, y_train)\n",
        "\n",
        "#print to the output file\n",
        "print('**************************************************************', file = outputFile)\n",
        "print('(A) Classifier 3 - Base MLP', file = outputFile)\n",
        "print(mlp_base_abalone, file = outputFile)"
      ],
      "metadata": {
        "id": "MiIPiod7m7qC"
      },
      "execution_count": 110,
      "outputs": []
    },
    {
      "cell_type": "markdown",
      "source": [
        "Metrics for Classifier 3"
      ],
      "metadata": {
        "id": "1TD8ynkGoZAP"
      }
    },
    {
      "cell_type": "code",
      "source": [
        "#predict with Base MLP\n",
        "y_pred_base_mlp = mlp_base_abalone.predict(X_test)\n",
        "\n",
        "#print the result here on notebook\n",
        "print(classification_report(y_test, y_pred_base_mlp, target_names = ['F', 'M', 'I']))\n",
        "print(confusion_matrix(y_test, y_pred_base_mlp))\n",
        "\n",
        "#print the result to the output file\n",
        "print(\"\\n(B) Confusion Matrix\", file = outputFile)\n",
        "confusion_matrix_result = np.array2string(confusion_matrix(y_test, y_pred_base_mlp))\n",
        "print(confusion_matrix_result, file = outputFile)\n",
        "print(\"\\n(C, D) Classification Report\", file = outputFile)\n",
        "print(classification_report(y_test, y_pred_base_mlp, target_names = ['F', 'M', 'I']), file = outputFile)\n",
        "\n",
        "outputFile.flush()"
      ],
      "metadata": {
        "id": "coh8LE0bocLA",
        "outputId": "281dc367-c7a8-4953-d53b-f303b9c30dc7",
        "colab": {
          "base_uri": "https://localhost:8080/"
        }
      },
      "execution_count": 111,
      "outputs": [
        {
          "output_type": "stream",
          "name": "stdout",
          "text": [
            "              precision    recall  f1-score   support\n",
            "\n",
            "           F       0.00      0.00      0.00       405\n",
            "           M       0.75      0.50      0.60       399\n",
            "           I       0.41      0.91      0.57       450\n",
            "\n",
            "    accuracy                           0.48      1254\n",
            "   macro avg       0.39      0.47      0.39      1254\n",
            "weighted avg       0.39      0.48      0.39      1254\n",
            "\n",
            "[[  0  26 379]\n",
            " [  0 198 201]\n",
            " [  0  41 409]]\n"
          ]
        }
      ]
    },
    {
      "cell_type": "code",
      "source": [
        "MLP_base_train_test_repetition(X, y, outputFile, ['F', 'M', 'I'])"
      ],
      "metadata": {
        "id": "Ss7voSkYmhiK"
      },
      "execution_count": 112,
      "outputs": []
    },
    {
      "cell_type": "markdown",
      "source": [
        "##### Classifier 4 - Top-MLP"
      ],
      "metadata": {
        "id": "okD7I5KHnODP"
      }
    },
    {
      "cell_type": "code",
      "source": [
        "#create grid for each hyperparamter we want to test\n",
        "activation_grid = np.array(['logistic', 'tanh', 'relu'])\n",
        "neurons_tuple_grid = np.array([(30, 50,), (10, 10, 10,)])\n",
        "solver_grid = np.array(['adam', 'sgd'])\n",
        "\n",
        "#create parameter grid for GridSearchCV\n",
        "param_grid = {'hidden_layer_sizes': neurons_tuple_grid, 'activation': activation_grid, 'solver': solver_grid}\n",
        "\n",
        "#create grid cv object and search\n",
        "mlp_top_abalone = MLPClassifier()\n",
        "gridcv = sk.model_selection.GridSearchCV(mlp_top_abalone, param_grid = param_grid)\n",
        "gridcv.fit(X_train, y_train)\n",
        "\n",
        "#print the result here on notebook\n",
        "print(f'best parameters: {gridcv.best_params_}')\n",
        "\n",
        "#print the result to the output file\n",
        "print('**************************************************************', file = outputFile)\n",
        "print('(A) Classifier 4 - Top MLP', file = outputFile)\n",
        "print(f'best parameters: {gridcv.best_params_}', file = outputFile)\n",
        "outputFile.flush()"
      ],
      "metadata": {
        "id": "mphIulW3nREP",
        "outputId": "2adcb08c-b5cf-4c53-f581-9af5c5b269cd",
        "colab": {
          "base_uri": "https://localhost:8080/"
        }
      },
      "execution_count": 113,
      "outputs": [
        {
          "output_type": "stream",
          "name": "stdout",
          "text": [
            "best parameters: {'activation': 'tanh', 'hidden_layer_sizes': (30, 50), 'solver': 'adam'}\n"
          ]
        }
      ]
    },
    {
      "cell_type": "markdown",
      "source": [
        "Metrics for Classifier 4"
      ],
      "metadata": {
        "id": "PXrrvETEpQNZ"
      }
    },
    {
      "cell_type": "code",
      "source": [
        "y_pred_top_mlp = gridcv.best_estimator_.predict(X_test)\n",
        "print(classification_report(y_test, y_pred_top_mlp, target_names = ['F', 'M', 'I']))\n",
        "print(confusion_matrix(y_test, y_pred_top_mlp))\n",
        "\n",
        "print(\"\\n(B) Confusion Matrix\", file = outputFile)\n",
        "confusion_matrix_result = np.array2string(confusion_matrix(y_test, y_pred_top_mlp))\n",
        "print(confusion_matrix_result, file = outputFile)\n",
        "print(\"\\n(C, D) Classification Report\", file = outputFile)\n",
        "print(classification_report(y_test, y_pred_top_mlp, target_names = ['F', 'M', 'I']), file = outputFile)\n",
        "\n",
        "outputFile.flush()"
      ],
      "metadata": {
        "id": "KbwAcoZLpSQW",
        "outputId": "f6e2d05f-8d22-43be-c49b-211f44aed2c0",
        "colab": {
          "base_uri": "https://localhost:8080/"
        }
      },
      "execution_count": 114,
      "outputs": [
        {
          "output_type": "stream",
          "name": "stdout",
          "text": [
            "              precision    recall  f1-score   support\n",
            "\n",
            "           F       0.47      0.66      0.55       405\n",
            "           M       0.63      0.85      0.73       399\n",
            "           I       0.49      0.17      0.25       450\n",
            "\n",
            "    accuracy                           0.54      1254\n",
            "   macro avg       0.53      0.56      0.51      1254\n",
            "weighted avg       0.53      0.54      0.50      1254\n",
            "\n",
            "[[266  81  58]\n",
            " [ 39 339  21]\n",
            " [258 115  77]]\n"
          ]
        }
      ]
    },
    {
      "cell_type": "code",
      "source": [
        "MLP_top_train_test_repetition(param_grid, X, y, outputFile, ['F', 'M', 'I'])"
      ],
      "metadata": {
        "id": "gTPJwcXCnwYK"
      },
      "execution_count": 115,
      "outputs": []
    },
    {
      "cell_type": "code",
      "source": [
        "outputFile.close()"
      ],
      "metadata": {
        "id": "4AxS7Io7pFta"
      },
      "execution_count": 116,
      "outputs": []
    }
  ]
}