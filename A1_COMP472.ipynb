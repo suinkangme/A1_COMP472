{
  "nbformat": 4,
  "nbformat_minor": 0,
  "metadata": {
    "colab": {
      "provenance": [],
      "collapsed_sections": [
        "n3GMoC3wzPte"
      ],
      "include_colab_link": true
    },
    "kernelspec": {
      "name": "python3",
      "display_name": "Python 3"
    },
    "language_info": {
      "name": "python"
    }
  },
  "cells": [
    {
      "cell_type": "markdown",
      "metadata": {
        "id": "view-in-github",
        "colab_type": "text"
      },
      "source": [
        "<a href=\"https://colab.research.google.com/github/suinkangme/A1_COMP472/blob/main/A1_COMP472.ipynb\" target=\"_parent\"><img src=\"https://colab.research.google.com/assets/colab-badge.svg\" alt=\"Open In Colab\"/></a>"
      ]
    },
    {
      "cell_type": "markdown",
      "source": [
        "# A1 - COMP 472\n",
        "\n",
        "Hyun Soo Kim 40174913\n",
        "\n",
        "Suin Kang 40129337"
      ],
      "metadata": {
        "id": "OuS04gqWrlBb"
      }
    },
    {
      "cell_type": "code",
      "source": [
        "import pandas as pd\n",
        "import sklearn as sk\n",
        "import numpy as np\n",
        "import matplotlib.pyplot as plt\n",
        "import seaborn as sns\n",
        "import graphviz\n",
        "from sklearn.metrics import classification_report\n",
        "from sklearn.metrics import confusion_matrix\n",
        "import warnings\n",
        "from sklearn.neural_network import MLPClassifier"
      ],
      "metadata": {
        "id": "plbuWv54rsMP"
      },
      "execution_count": 1,
      "outputs": []
    },
    {
      "cell_type": "markdown",
      "source": [
        "### Import the MyDrive library from CoLab"
      ],
      "metadata": {
        "id": "n3GMoC3wzPte"
      }
    },
    {
      "cell_type": "code",
      "source": [
        "from google.colab import drive\n",
        "drive.mount('/content/drive')\n",
        "\n",
        "# the directory owns this notebook and dataset\n",
        "import os\n",
        "os.chdir('/content/drive/MyDrive/comp472/')"
      ],
      "metadata": {
        "id": "QM05GBSaoZIy",
        "colab": {
          "base_uri": "https://localhost:8080/"
        },
        "outputId": "e1339446-22b6-47bd-9069-e96461b806a1"
      },
      "execution_count": 2,
      "outputs": [
        {
          "output_type": "stream",
          "name": "stdout",
          "text": [
            "Mounted at /content/drive\n"
          ]
        }
      ]
    },
    {
      "cell_type": "markdown",
      "source": [
        "### Definition of train-test-repetition function\n",
        "- For Classifier 3 & 4"
      ],
      "metadata": {
        "id": "UQWo18d_G_Au"
      }
    },
    {
      "cell_type": "code",
      "source": [
        "def MLP_base_train_test_repetition(X, y, outputFile, target_names):\n",
        "  accuracy = []\n",
        "  macro_avg = []\n",
        "  weighted_avg = []\n",
        "\n",
        "  print(\"\\nBase MLP Train-Test Repetition\\n\", file = outputFile)\n",
        "\n",
        "  #repeat 5 times\n",
        "  for i in range (0,5):\n",
        "\n",
        "    #data is shuffled every time\n",
        "    X_train, X_test, y_train, y_test = train_test_split(X, y, test_size = 0.3)\n",
        "\n",
        "    #base MLP\n",
        "    #initialize new model with same hyperparameters\n",
        "    model = MLPClassifier(hidden_layer_sizes = (100, 100,), activation = 'logistic', solver = 'sgd')\n",
        "\n",
        "    #train and predict\n",
        "    model.fit(X_train, y_train)\n",
        "    y_pred = model.predict(X_test)\n",
        "\n",
        "    #for average accuracy / macro-average f1 score / weighted-average f1 score and variance calculation\n",
        "    output = classification_report(y_test, y_pred, target_names = target_names, output_dict = True)\n",
        "    accuracy.append(output['accuracy'])\n",
        "    macro_avg.append(output['macro avg']['f1-score'])\n",
        "    weighted_avg.append(output['weighted avg']['f1-score'])\n",
        "\n",
        "    #print to text file. This would make it easier to validate the result of each model\n",
        "    print(f'=== Iteration {i+1} === ', file = outputFile)\n",
        "    print(f\"(A) {model}\\n\", file = outputFile)\n",
        "    print(\"(B) Confusion Matrix\", file = outputFile)\n",
        "    confusion_matrix_result = confusion_matrix(y_test, y_pred)\n",
        "    print(confusion_matrix_result, file = outputFile)\n",
        "\n",
        "    print(\"\\n(C,D) Classification Report\", file = outputFile)\n",
        "    print(classification_report(y_test, y_pred, target_names = target_names), file =outputFile)\n",
        "\n",
        "  #append the calculation in the report\n",
        "  print('(E) The result after 5 times of train-test repetition:' ,file = outputFile)\n",
        "  print(f'\\tThe average accuracy / variance: {np.mean(accuracy): 6.4f}, {np.var(accuracy): 6.6f}', file = outputFile)\n",
        "  print(f'\\tThe average macro-average f1 score / variance: {np.mean(macro_avg): 6.4f}, {np.var(macro_avg): 6.6f}', file = outputFile)\n",
        "  print(f'\\tThe average weighted-average f1 score / variance: {np.mean(weighted_avg): 6.4f}, {np.var(weighted_avg): 6.6f}', file = outputFile)\n",
        "  print('\\n', file = outputFile)\n",
        "  outputFile.flush()"
      ],
      "metadata": {
        "id": "V7wnBMtiS7ns"
      },
      "execution_count": 3,
      "outputs": []
    },
    {
      "cell_type": "code",
      "source": [
        "def MLP_top_train_test_repetition(param_grid, X, y, outputFile, target_names):\n",
        "  accuracy = []\n",
        "  macro_avg = []\n",
        "  weighted_avg = []\n",
        "\n",
        "  print(\"\\nTop MLP Train-Test Repetition\\n\", file = outputFile)\n",
        "\n",
        "  #repeat 5 times\n",
        "  for i in range (0,5):\n",
        "\n",
        "    #data is shuffled every time\n",
        "    X_train, X_test, y_train, y_test = train_test_split(X, y, test_size = 0.3)\n",
        "\n",
        "    #top MLP\n",
        "    #initialize new model with same hyperparameters\n",
        "    gridcv = sk.model_selection.GridSearchCV(MLPClassifier(), param_grid = param_grid)\n",
        "    gridcv.fit(X_train, y_train)\n",
        "\n",
        "    #predict\n",
        "    y_pred = gridcv.best_estimator_.predict(X_test)\n",
        "\n",
        "    #for average accuracy / macro-average f1 score / weighted-average f1 score and variance calculation\n",
        "    output = classification_report(y_test, y_pred, target_names = target_names, output_dict = True)\n",
        "    accuracy.append(output['accuracy'])\n",
        "    macro_avg.append(output['macro avg']['f1-score'])\n",
        "    weighted_avg.append(output['weighted avg']['f1-score'])\n",
        "\n",
        "    #print to text file. This would make it easier to validate the result of each model\n",
        "    print(f'=== Iteration {i+1} === ', file = outputFile)\n",
        "    print(f\"(A) Best Parameters: {gridcv.best_params_}\", file = outputFile)\n",
        "    print(\"\\n(B) Confusion Matrix\", file = outputFile)\n",
        "    confusion_matrix_result = confusion_matrix(y_test, y_pred)\n",
        "    print(confusion_matrix_result, file = outputFile)\n",
        "\n",
        "    print(\"\\n(C,D) Classification Report\", file = outputFile)\n",
        "    print(classification_report(y_test, y_pred, target_names = target_names), file =outputFile)\n",
        "\n",
        "  #append the calculation in the report\n",
        "  print('(E) The result after 5 times of train-test repetition:' ,file = outputFile)\n",
        "  print(f'\\tThe average accuracy / variance: {np.mean(accuracy): 6.4f}, {np.var(accuracy): 6.6f}', file = outputFile)\n",
        "  print(f'\\tThe average macro-average f1 score / variance: {np.mean(macro_avg): 6.4f}, {np.var(macro_avg): 6.6f}', file = outputFile)\n",
        "  print(f'\\tThe average weighted-average f1 score / variance: {np.mean(weighted_avg): 6.4f}, {np.var(weighted_avg): 6.6f}', file = outputFile)\n",
        "  print('\\n', file = outputFile)\n",
        "  outputFile.flush()"
      ],
      "metadata": {
        "id": "wJbuEpDgTOo4"
      },
      "execution_count": 4,
      "outputs": []
    },
    {
      "cell_type": "markdown",
      "source": [
        "## Dataset - 'penguins.csv'\n",
        "- Goal : prediction of species\n",
        "(Adelie, Gentoo, Chinstap)"
      ],
      "metadata": {
        "id": "a0o_UdOEzTw_"
      }
    },
    {
      "cell_type": "code",
      "source": [
        "outputFile = open ('penguin-classes.txt', 'w')\n",
        "warnings.filterwarnings('ignore')"
      ],
      "metadata": {
        "id": "fmJJQACk9aQs"
      },
      "execution_count": 5,
      "outputs": []
    },
    {
      "cell_type": "code",
      "source": [
        "data_penguins = pd.read_csv('penguins.csv')\n",
        "data_penguins.head()"
      ],
      "metadata": {
        "id": "RdWPdNdHn_cP",
        "colab": {
          "base_uri": "https://localhost:8080/",
          "height": 226
        },
        "outputId": "384cc8bf-a415-4bbe-91a8-7b5e1f034a18"
      },
      "execution_count": 6,
      "outputs": [
        {
          "output_type": "execute_result",
          "data": {
            "text/plain": [
              "  species     island  culmen_length_mm  culmen_depth_mm  flipper_length_mm  \\\n",
              "0  Adelie  Torgersen              39.1             18.7                181   \n",
              "1  Adelie  Torgersen              39.5             17.4                186   \n",
              "2  Adelie  Torgersen              40.3             18.0                195   \n",
              "3  Adelie  Torgersen              36.7             19.3                193   \n",
              "4  Adelie  Torgersen              39.3             20.6                190   \n",
              "\n",
              "   body_mass_g     sex  \n",
              "0         3750    MALE  \n",
              "1         3800  FEMALE  \n",
              "2         3250  FEMALE  \n",
              "3         3450  FEMALE  \n",
              "4         3650    MALE  "
            ],
            "text/html": [
              "\n",
              "  <div id=\"df-3ac580f6-9d50-4a0a-836e-6239987a02c1\" class=\"colab-df-container\">\n",
              "    <div>\n",
              "<style scoped>\n",
              "    .dataframe tbody tr th:only-of-type {\n",
              "        vertical-align: middle;\n",
              "    }\n",
              "\n",
              "    .dataframe tbody tr th {\n",
              "        vertical-align: top;\n",
              "    }\n",
              "\n",
              "    .dataframe thead th {\n",
              "        text-align: right;\n",
              "    }\n",
              "</style>\n",
              "<table border=\"1\" class=\"dataframe\">\n",
              "  <thead>\n",
              "    <tr style=\"text-align: right;\">\n",
              "      <th></th>\n",
              "      <th>species</th>\n",
              "      <th>island</th>\n",
              "      <th>culmen_length_mm</th>\n",
              "      <th>culmen_depth_mm</th>\n",
              "      <th>flipper_length_mm</th>\n",
              "      <th>body_mass_g</th>\n",
              "      <th>sex</th>\n",
              "    </tr>\n",
              "  </thead>\n",
              "  <tbody>\n",
              "    <tr>\n",
              "      <th>0</th>\n",
              "      <td>Adelie</td>\n",
              "      <td>Torgersen</td>\n",
              "      <td>39.1</td>\n",
              "      <td>18.7</td>\n",
              "      <td>181</td>\n",
              "      <td>3750</td>\n",
              "      <td>MALE</td>\n",
              "    </tr>\n",
              "    <tr>\n",
              "      <th>1</th>\n",
              "      <td>Adelie</td>\n",
              "      <td>Torgersen</td>\n",
              "      <td>39.5</td>\n",
              "      <td>17.4</td>\n",
              "      <td>186</td>\n",
              "      <td>3800</td>\n",
              "      <td>FEMALE</td>\n",
              "    </tr>\n",
              "    <tr>\n",
              "      <th>2</th>\n",
              "      <td>Adelie</td>\n",
              "      <td>Torgersen</td>\n",
              "      <td>40.3</td>\n",
              "      <td>18.0</td>\n",
              "      <td>195</td>\n",
              "      <td>3250</td>\n",
              "      <td>FEMALE</td>\n",
              "    </tr>\n",
              "    <tr>\n",
              "      <th>3</th>\n",
              "      <td>Adelie</td>\n",
              "      <td>Torgersen</td>\n",
              "      <td>36.7</td>\n",
              "      <td>19.3</td>\n",
              "      <td>193</td>\n",
              "      <td>3450</td>\n",
              "      <td>FEMALE</td>\n",
              "    </tr>\n",
              "    <tr>\n",
              "      <th>4</th>\n",
              "      <td>Adelie</td>\n",
              "      <td>Torgersen</td>\n",
              "      <td>39.3</td>\n",
              "      <td>20.6</td>\n",
              "      <td>190</td>\n",
              "      <td>3650</td>\n",
              "      <td>MALE</td>\n",
              "    </tr>\n",
              "  </tbody>\n",
              "</table>\n",
              "</div>\n",
              "    <div class=\"colab-df-buttons\">\n",
              "\n",
              "  <div class=\"colab-df-container\">\n",
              "    <button class=\"colab-df-convert\" onclick=\"convertToInteractive('df-3ac580f6-9d50-4a0a-836e-6239987a02c1')\"\n",
              "            title=\"Convert this dataframe to an interactive table.\"\n",
              "            style=\"display:none;\">\n",
              "\n",
              "  <svg xmlns=\"http://www.w3.org/2000/svg\" height=\"24px\" viewBox=\"0 -960 960 960\">\n",
              "    <path d=\"M120-120v-720h720v720H120Zm60-500h600v-160H180v160Zm220 220h160v-160H400v160Zm0 220h160v-160H400v160ZM180-400h160v-160H180v160Zm440 0h160v-160H620v160ZM180-180h160v-160H180v160Zm440 0h160v-160H620v160Z\"/>\n",
              "  </svg>\n",
              "    </button>\n",
              "\n",
              "  <style>\n",
              "    .colab-df-container {\n",
              "      display:flex;\n",
              "      gap: 12px;\n",
              "    }\n",
              "\n",
              "    .colab-df-convert {\n",
              "      background-color: #E8F0FE;\n",
              "      border: none;\n",
              "      border-radius: 50%;\n",
              "      cursor: pointer;\n",
              "      display: none;\n",
              "      fill: #1967D2;\n",
              "      height: 32px;\n",
              "      padding: 0 0 0 0;\n",
              "      width: 32px;\n",
              "    }\n",
              "\n",
              "    .colab-df-convert:hover {\n",
              "      background-color: #E2EBFA;\n",
              "      box-shadow: 0px 1px 2px rgba(60, 64, 67, 0.3), 0px 1px 3px 1px rgba(60, 64, 67, 0.15);\n",
              "      fill: #174EA6;\n",
              "    }\n",
              "\n",
              "    .colab-df-buttons div {\n",
              "      margin-bottom: 4px;\n",
              "    }\n",
              "\n",
              "    [theme=dark] .colab-df-convert {\n",
              "      background-color: #3B4455;\n",
              "      fill: #D2E3FC;\n",
              "    }\n",
              "\n",
              "    [theme=dark] .colab-df-convert:hover {\n",
              "      background-color: #434B5C;\n",
              "      box-shadow: 0px 1px 3px 1px rgba(0, 0, 0, 0.15);\n",
              "      filter: drop-shadow(0px 1px 2px rgba(0, 0, 0, 0.3));\n",
              "      fill: #FFFFFF;\n",
              "    }\n",
              "  </style>\n",
              "\n",
              "    <script>\n",
              "      const buttonEl =\n",
              "        document.querySelector('#df-3ac580f6-9d50-4a0a-836e-6239987a02c1 button.colab-df-convert');\n",
              "      buttonEl.style.display =\n",
              "        google.colab.kernel.accessAllowed ? 'block' : 'none';\n",
              "\n",
              "      async function convertToInteractive(key) {\n",
              "        const element = document.querySelector('#df-3ac580f6-9d50-4a0a-836e-6239987a02c1');\n",
              "        const dataTable =\n",
              "          await google.colab.kernel.invokeFunction('convertToInteractive',\n",
              "                                                    [key], {});\n",
              "        if (!dataTable) return;\n",
              "\n",
              "        const docLinkHtml = 'Like what you see? Visit the ' +\n",
              "          '<a target=\"_blank\" href=https://colab.research.google.com/notebooks/data_table.ipynb>data table notebook</a>'\n",
              "          + ' to learn more about interactive tables.';\n",
              "        element.innerHTML = '';\n",
              "        dataTable['output_type'] = 'display_data';\n",
              "        await google.colab.output.renderOutput(dataTable, element);\n",
              "        const docLink = document.createElement('div');\n",
              "        docLink.innerHTML = docLinkHtml;\n",
              "        element.appendChild(docLink);\n",
              "      }\n",
              "    </script>\n",
              "  </div>\n",
              "\n",
              "\n",
              "<div id=\"df-0382fc9a-5833-41f2-8dd0-b31063e681f8\">\n",
              "  <button class=\"colab-df-quickchart\" onclick=\"quickchart('df-0382fc9a-5833-41f2-8dd0-b31063e681f8')\"\n",
              "            title=\"Suggest charts\"\n",
              "            style=\"display:none;\">\n",
              "\n",
              "<svg xmlns=\"http://www.w3.org/2000/svg\" height=\"24px\"viewBox=\"0 0 24 24\"\n",
              "     width=\"24px\">\n",
              "    <g>\n",
              "        <path d=\"M19 3H5c-1.1 0-2 .9-2 2v14c0 1.1.9 2 2 2h14c1.1 0 2-.9 2-2V5c0-1.1-.9-2-2-2zM9 17H7v-7h2v7zm4 0h-2V7h2v10zm4 0h-2v-4h2v4z\"/>\n",
              "    </g>\n",
              "</svg>\n",
              "  </button>\n",
              "\n",
              "<style>\n",
              "  .colab-df-quickchart {\n",
              "      --bg-color: #E8F0FE;\n",
              "      --fill-color: #1967D2;\n",
              "      --hover-bg-color: #E2EBFA;\n",
              "      --hover-fill-color: #174EA6;\n",
              "      --disabled-fill-color: #AAA;\n",
              "      --disabled-bg-color: #DDD;\n",
              "  }\n",
              "\n",
              "  [theme=dark] .colab-df-quickchart {\n",
              "      --bg-color: #3B4455;\n",
              "      --fill-color: #D2E3FC;\n",
              "      --hover-bg-color: #434B5C;\n",
              "      --hover-fill-color: #FFFFFF;\n",
              "      --disabled-bg-color: #3B4455;\n",
              "      --disabled-fill-color: #666;\n",
              "  }\n",
              "\n",
              "  .colab-df-quickchart {\n",
              "    background-color: var(--bg-color);\n",
              "    border: none;\n",
              "    border-radius: 50%;\n",
              "    cursor: pointer;\n",
              "    display: none;\n",
              "    fill: var(--fill-color);\n",
              "    height: 32px;\n",
              "    padding: 0;\n",
              "    width: 32px;\n",
              "  }\n",
              "\n",
              "  .colab-df-quickchart:hover {\n",
              "    background-color: var(--hover-bg-color);\n",
              "    box-shadow: 0 1px 2px rgba(60, 64, 67, 0.3), 0 1px 3px 1px rgba(60, 64, 67, 0.15);\n",
              "    fill: var(--button-hover-fill-color);\n",
              "  }\n",
              "\n",
              "  .colab-df-quickchart-complete:disabled,\n",
              "  .colab-df-quickchart-complete:disabled:hover {\n",
              "    background-color: var(--disabled-bg-color);\n",
              "    fill: var(--disabled-fill-color);\n",
              "    box-shadow: none;\n",
              "  }\n",
              "\n",
              "  .colab-df-spinner {\n",
              "    border: 2px solid var(--fill-color);\n",
              "    border-color: transparent;\n",
              "    border-bottom-color: var(--fill-color);\n",
              "    animation:\n",
              "      spin 1s steps(1) infinite;\n",
              "  }\n",
              "\n",
              "  @keyframes spin {\n",
              "    0% {\n",
              "      border-color: transparent;\n",
              "      border-bottom-color: var(--fill-color);\n",
              "      border-left-color: var(--fill-color);\n",
              "    }\n",
              "    20% {\n",
              "      border-color: transparent;\n",
              "      border-left-color: var(--fill-color);\n",
              "      border-top-color: var(--fill-color);\n",
              "    }\n",
              "    30% {\n",
              "      border-color: transparent;\n",
              "      border-left-color: var(--fill-color);\n",
              "      border-top-color: var(--fill-color);\n",
              "      border-right-color: var(--fill-color);\n",
              "    }\n",
              "    40% {\n",
              "      border-color: transparent;\n",
              "      border-right-color: var(--fill-color);\n",
              "      border-top-color: var(--fill-color);\n",
              "    }\n",
              "    60% {\n",
              "      border-color: transparent;\n",
              "      border-right-color: var(--fill-color);\n",
              "    }\n",
              "    80% {\n",
              "      border-color: transparent;\n",
              "      border-right-color: var(--fill-color);\n",
              "      border-bottom-color: var(--fill-color);\n",
              "    }\n",
              "    90% {\n",
              "      border-color: transparent;\n",
              "      border-bottom-color: var(--fill-color);\n",
              "    }\n",
              "  }\n",
              "</style>\n",
              "\n",
              "  <script>\n",
              "    async function quickchart(key) {\n",
              "      const quickchartButtonEl =\n",
              "        document.querySelector('#' + key + ' button');\n",
              "      quickchartButtonEl.disabled = true;  // To prevent multiple clicks.\n",
              "      quickchartButtonEl.classList.add('colab-df-spinner');\n",
              "      try {\n",
              "        const charts = await google.colab.kernel.invokeFunction(\n",
              "            'suggestCharts', [key], {});\n",
              "      } catch (error) {\n",
              "        console.error('Error during call to suggestCharts:', error);\n",
              "      }\n",
              "      quickchartButtonEl.classList.remove('colab-df-spinner');\n",
              "      quickchartButtonEl.classList.add('colab-df-quickchart-complete');\n",
              "    }\n",
              "    (() => {\n",
              "      let quickchartButtonEl =\n",
              "        document.querySelector('#df-0382fc9a-5833-41f2-8dd0-b31063e681f8 button');\n",
              "      quickchartButtonEl.style.display =\n",
              "        google.colab.kernel.accessAllowed ? 'block' : 'none';\n",
              "    })();\n",
              "  </script>\n",
              "</div>\n",
              "    </div>\n",
              "  </div>\n"
            ]
          },
          "metadata": {},
          "execution_count": 6
        }
      ]
    },
    {
      "cell_type": "markdown",
      "source": [
        "#### Data Preprocessing\n",
        "- data encoding for categorical values: 'island', 'sex' column"
      ],
      "metadata": {
        "id": "skf8lGQB1Hpk"
      }
    },
    {
      "cell_type": "code",
      "source": [
        "from sklearn.preprocessing import OneHotEncoder\n",
        "\n",
        "island = np.array(data_penguins['island']).reshape(-1, 1)\n",
        "island_label = OneHotEncoder().fit_transform(island)\n",
        "data_penguins['island'] = island_label.toarray()\n",
        "\n",
        "df = pd.DataFrame({'island':['Torgersen','Biscoe','Dream']})\n",
        "pd.get_dummies(df)"
      ],
      "metadata": {
        "id": "bO_arEeWzl2p",
        "colab": {
          "base_uri": "https://localhost:8080/",
          "height": 0
        },
        "outputId": "895fd3ed-792d-402a-b767-0edeefaa528b"
      },
      "execution_count": 7,
      "outputs": [
        {
          "output_type": "execute_result",
          "data": {
            "text/plain": [
              "   island_Biscoe  island_Dream  island_Torgersen\n",
              "0              0             0                 1\n",
              "1              1             0                 0\n",
              "2              0             1                 0"
            ],
            "text/html": [
              "\n",
              "  <div id=\"df-759b323c-54b3-440d-9848-9592d8b76d40\" class=\"colab-df-container\">\n",
              "    <div>\n",
              "<style scoped>\n",
              "    .dataframe tbody tr th:only-of-type {\n",
              "        vertical-align: middle;\n",
              "    }\n",
              "\n",
              "    .dataframe tbody tr th {\n",
              "        vertical-align: top;\n",
              "    }\n",
              "\n",
              "    .dataframe thead th {\n",
              "        text-align: right;\n",
              "    }\n",
              "</style>\n",
              "<table border=\"1\" class=\"dataframe\">\n",
              "  <thead>\n",
              "    <tr style=\"text-align: right;\">\n",
              "      <th></th>\n",
              "      <th>island_Biscoe</th>\n",
              "      <th>island_Dream</th>\n",
              "      <th>island_Torgersen</th>\n",
              "    </tr>\n",
              "  </thead>\n",
              "  <tbody>\n",
              "    <tr>\n",
              "      <th>0</th>\n",
              "      <td>0</td>\n",
              "      <td>0</td>\n",
              "      <td>1</td>\n",
              "    </tr>\n",
              "    <tr>\n",
              "      <th>1</th>\n",
              "      <td>1</td>\n",
              "      <td>0</td>\n",
              "      <td>0</td>\n",
              "    </tr>\n",
              "    <tr>\n",
              "      <th>2</th>\n",
              "      <td>0</td>\n",
              "      <td>1</td>\n",
              "      <td>0</td>\n",
              "    </tr>\n",
              "  </tbody>\n",
              "</table>\n",
              "</div>\n",
              "    <div class=\"colab-df-buttons\">\n",
              "\n",
              "  <div class=\"colab-df-container\">\n",
              "    <button class=\"colab-df-convert\" onclick=\"convertToInteractive('df-759b323c-54b3-440d-9848-9592d8b76d40')\"\n",
              "            title=\"Convert this dataframe to an interactive table.\"\n",
              "            style=\"display:none;\">\n",
              "\n",
              "  <svg xmlns=\"http://www.w3.org/2000/svg\" height=\"24px\" viewBox=\"0 -960 960 960\">\n",
              "    <path d=\"M120-120v-720h720v720H120Zm60-500h600v-160H180v160Zm220 220h160v-160H400v160Zm0 220h160v-160H400v160ZM180-400h160v-160H180v160Zm440 0h160v-160H620v160ZM180-180h160v-160H180v160Zm440 0h160v-160H620v160Z\"/>\n",
              "  </svg>\n",
              "    </button>\n",
              "\n",
              "  <style>\n",
              "    .colab-df-container {\n",
              "      display:flex;\n",
              "      gap: 12px;\n",
              "    }\n",
              "\n",
              "    .colab-df-convert {\n",
              "      background-color: #E8F0FE;\n",
              "      border: none;\n",
              "      border-radius: 50%;\n",
              "      cursor: pointer;\n",
              "      display: none;\n",
              "      fill: #1967D2;\n",
              "      height: 32px;\n",
              "      padding: 0 0 0 0;\n",
              "      width: 32px;\n",
              "    }\n",
              "\n",
              "    .colab-df-convert:hover {\n",
              "      background-color: #E2EBFA;\n",
              "      box-shadow: 0px 1px 2px rgba(60, 64, 67, 0.3), 0px 1px 3px 1px rgba(60, 64, 67, 0.15);\n",
              "      fill: #174EA6;\n",
              "    }\n",
              "\n",
              "    .colab-df-buttons div {\n",
              "      margin-bottom: 4px;\n",
              "    }\n",
              "\n",
              "    [theme=dark] .colab-df-convert {\n",
              "      background-color: #3B4455;\n",
              "      fill: #D2E3FC;\n",
              "    }\n",
              "\n",
              "    [theme=dark] .colab-df-convert:hover {\n",
              "      background-color: #434B5C;\n",
              "      box-shadow: 0px 1px 3px 1px rgba(0, 0, 0, 0.15);\n",
              "      filter: drop-shadow(0px 1px 2px rgba(0, 0, 0, 0.3));\n",
              "      fill: #FFFFFF;\n",
              "    }\n",
              "  </style>\n",
              "\n",
              "    <script>\n",
              "      const buttonEl =\n",
              "        document.querySelector('#df-759b323c-54b3-440d-9848-9592d8b76d40 button.colab-df-convert');\n",
              "      buttonEl.style.display =\n",
              "        google.colab.kernel.accessAllowed ? 'block' : 'none';\n",
              "\n",
              "      async function convertToInteractive(key) {\n",
              "        const element = document.querySelector('#df-759b323c-54b3-440d-9848-9592d8b76d40');\n",
              "        const dataTable =\n",
              "          await google.colab.kernel.invokeFunction('convertToInteractive',\n",
              "                                                    [key], {});\n",
              "        if (!dataTable) return;\n",
              "\n",
              "        const docLinkHtml = 'Like what you see? Visit the ' +\n",
              "          '<a target=\"_blank\" href=https://colab.research.google.com/notebooks/data_table.ipynb>data table notebook</a>'\n",
              "          + ' to learn more about interactive tables.';\n",
              "        element.innerHTML = '';\n",
              "        dataTable['output_type'] = 'display_data';\n",
              "        await google.colab.output.renderOutput(dataTable, element);\n",
              "        const docLink = document.createElement('div');\n",
              "        docLink.innerHTML = docLinkHtml;\n",
              "        element.appendChild(docLink);\n",
              "      }\n",
              "    </script>\n",
              "  </div>\n",
              "\n",
              "\n",
              "<div id=\"df-59242cb6-f4dd-4b49-98d3-ff2205f36944\">\n",
              "  <button class=\"colab-df-quickchart\" onclick=\"quickchart('df-59242cb6-f4dd-4b49-98d3-ff2205f36944')\"\n",
              "            title=\"Suggest charts\"\n",
              "            style=\"display:none;\">\n",
              "\n",
              "<svg xmlns=\"http://www.w3.org/2000/svg\" height=\"24px\"viewBox=\"0 0 24 24\"\n",
              "     width=\"24px\">\n",
              "    <g>\n",
              "        <path d=\"M19 3H5c-1.1 0-2 .9-2 2v14c0 1.1.9 2 2 2h14c1.1 0 2-.9 2-2V5c0-1.1-.9-2-2-2zM9 17H7v-7h2v7zm4 0h-2V7h2v10zm4 0h-2v-4h2v4z\"/>\n",
              "    </g>\n",
              "</svg>\n",
              "  </button>\n",
              "\n",
              "<style>\n",
              "  .colab-df-quickchart {\n",
              "      --bg-color: #E8F0FE;\n",
              "      --fill-color: #1967D2;\n",
              "      --hover-bg-color: #E2EBFA;\n",
              "      --hover-fill-color: #174EA6;\n",
              "      --disabled-fill-color: #AAA;\n",
              "      --disabled-bg-color: #DDD;\n",
              "  }\n",
              "\n",
              "  [theme=dark] .colab-df-quickchart {\n",
              "      --bg-color: #3B4455;\n",
              "      --fill-color: #D2E3FC;\n",
              "      --hover-bg-color: #434B5C;\n",
              "      --hover-fill-color: #FFFFFF;\n",
              "      --disabled-bg-color: #3B4455;\n",
              "      --disabled-fill-color: #666;\n",
              "  }\n",
              "\n",
              "  .colab-df-quickchart {\n",
              "    background-color: var(--bg-color);\n",
              "    border: none;\n",
              "    border-radius: 50%;\n",
              "    cursor: pointer;\n",
              "    display: none;\n",
              "    fill: var(--fill-color);\n",
              "    height: 32px;\n",
              "    padding: 0;\n",
              "    width: 32px;\n",
              "  }\n",
              "\n",
              "  .colab-df-quickchart:hover {\n",
              "    background-color: var(--hover-bg-color);\n",
              "    box-shadow: 0 1px 2px rgba(60, 64, 67, 0.3), 0 1px 3px 1px rgba(60, 64, 67, 0.15);\n",
              "    fill: var(--button-hover-fill-color);\n",
              "  }\n",
              "\n",
              "  .colab-df-quickchart-complete:disabled,\n",
              "  .colab-df-quickchart-complete:disabled:hover {\n",
              "    background-color: var(--disabled-bg-color);\n",
              "    fill: var(--disabled-fill-color);\n",
              "    box-shadow: none;\n",
              "  }\n",
              "\n",
              "  .colab-df-spinner {\n",
              "    border: 2px solid var(--fill-color);\n",
              "    border-color: transparent;\n",
              "    border-bottom-color: var(--fill-color);\n",
              "    animation:\n",
              "      spin 1s steps(1) infinite;\n",
              "  }\n",
              "\n",
              "  @keyframes spin {\n",
              "    0% {\n",
              "      border-color: transparent;\n",
              "      border-bottom-color: var(--fill-color);\n",
              "      border-left-color: var(--fill-color);\n",
              "    }\n",
              "    20% {\n",
              "      border-color: transparent;\n",
              "      border-left-color: var(--fill-color);\n",
              "      border-top-color: var(--fill-color);\n",
              "    }\n",
              "    30% {\n",
              "      border-color: transparent;\n",
              "      border-left-color: var(--fill-color);\n",
              "      border-top-color: var(--fill-color);\n",
              "      border-right-color: var(--fill-color);\n",
              "    }\n",
              "    40% {\n",
              "      border-color: transparent;\n",
              "      border-right-color: var(--fill-color);\n",
              "      border-top-color: var(--fill-color);\n",
              "    }\n",
              "    60% {\n",
              "      border-color: transparent;\n",
              "      border-right-color: var(--fill-color);\n",
              "    }\n",
              "    80% {\n",
              "      border-color: transparent;\n",
              "      border-right-color: var(--fill-color);\n",
              "      border-bottom-color: var(--fill-color);\n",
              "    }\n",
              "    90% {\n",
              "      border-color: transparent;\n",
              "      border-bottom-color: var(--fill-color);\n",
              "    }\n",
              "  }\n",
              "</style>\n",
              "\n",
              "  <script>\n",
              "    async function quickchart(key) {\n",
              "      const quickchartButtonEl =\n",
              "        document.querySelector('#' + key + ' button');\n",
              "      quickchartButtonEl.disabled = true;  // To prevent multiple clicks.\n",
              "      quickchartButtonEl.classList.add('colab-df-spinner');\n",
              "      try {\n",
              "        const charts = await google.colab.kernel.invokeFunction(\n",
              "            'suggestCharts', [key], {});\n",
              "      } catch (error) {\n",
              "        console.error('Error during call to suggestCharts:', error);\n",
              "      }\n",
              "      quickchartButtonEl.classList.remove('colab-df-spinner');\n",
              "      quickchartButtonEl.classList.add('colab-df-quickchart-complete');\n",
              "    }\n",
              "    (() => {\n",
              "      let quickchartButtonEl =\n",
              "        document.querySelector('#df-59242cb6-f4dd-4b49-98d3-ff2205f36944 button');\n",
              "      quickchartButtonEl.style.display =\n",
              "        google.colab.kernel.accessAllowed ? 'block' : 'none';\n",
              "    })();\n",
              "  </script>\n",
              "</div>\n",
              "    </div>\n",
              "  </div>\n"
            ]
          },
          "metadata": {},
          "execution_count": 7
        }
      ]
    },
    {
      "cell_type": "code",
      "source": [
        "from sklearn.preprocessing import LabelEncoder\n",
        "\n",
        "data_penguins['sex'] = LabelEncoder().fit_transform(data_penguins['sex'])"
      ],
      "metadata": {
        "id": "5T0LfRzozl4u"
      },
      "execution_count": 8,
      "outputs": []
    },
    {
      "cell_type": "markdown",
      "source": [
        "#### Plot the percentage of the instances"
      ],
      "metadata": {
        "id": "Ychlgawv36Yr"
      }
    },
    {
      "cell_type": "code",
      "source": [
        "# Check the output class is balanced\n",
        "penguins_labels = data_penguins['species']\n",
        "\n",
        "plt.figure(figsize=(10, 6))\n",
        "sns.countplot(x=penguins_labels)\n",
        "plt.title('Distribution of class label')\n",
        "plt.xlabel('Penguins')\n",
        "plt.ylabel('Frequency')\n",
        "\n",
        "# save as graphic\n",
        "plt.savefig('penguin-classes.png')"
      ],
      "metadata": {
        "colab": {
          "base_uri": "https://localhost:8080/",
          "height": 0
        },
        "id": "2_YBHCBg38nQ",
        "outputId": "988953a3-1cdf-408d-e692-dd4eae1a17f9"
      },
      "execution_count": 9,
      "outputs": [
        {
          "output_type": "display_data",
          "data": {
            "text/plain": [
              "<Figure size 1000x600 with 1 Axes>"
            ],
            "image/png": "[encoded data removed]"
          },
          "metadata": {}
        }
      ]
    },
    {
      "cell_type": "markdown",
      "source": [
        "#### Dataset split into training & test set"
      ],
      "metadata": {
        "id": "YitW0dfF3zLc"
      }
    },
    {
      "cell_type": "code",
      "source": [
        "X = data_penguins.iloc[:, 1:].values\n",
        "y = data_penguins.iloc[:,0].values\n",
        "\n",
        "from sklearn.model_selection import train_test_split\n",
        "X_train, X_test, y_train, y_test = train_test_split(X, y, test_size = 0.3)"
      ],
      "metadata": {
        "id": "0wcAQElszl97"
      },
      "execution_count": 10,
      "outputs": []
    },
    {
      "cell_type": "code",
      "source": [
        "# perform feature scaling\n",
        "from sklearn.preprocessing import StandardScaler\n",
        "\n",
        "sc = StandardScaler()\n",
        "X_train = sc.fit_transform(X_train)\n",
        "X_test = sc.transform(X_test)"
      ],
      "metadata": {
        "id": "sThVNxcLzmAB"
      },
      "execution_count": 11,
      "outputs": []
    },
    {
      "cell_type": "markdown",
      "source": [
        "#### Train 4 different classifier"
      ],
      "metadata": {
        "id": "fWpPUU6EYP3T"
      }
    },
    {
      "cell_type": "markdown",
      "source": [
        "##### Classifier 1 - Base-DT"
      ],
      "metadata": {
        "id": "i1Wbs_2C3Q6E"
      }
    },
    {
      "cell_type": "code",
      "source": [
        "from sklearn.tree import DecisionTreeClassifier\n",
        "\n",
        "# Base Decision Tree\n",
        "classifier_1 = DecisionTreeClassifier()\n",
        "classifier_1.fit(X_train, y_train)"
      ],
      "metadata": {
        "id": "JN61PJ3W5jcb",
        "colab": {
          "base_uri": "https://localhost:8080/",
          "height": 75
        },
        "outputId": "0b541a1e-6dbe-4f3a-9f1a-96f09cbf7f78"
      },
      "execution_count": 12,
      "outputs": [
        {
          "output_type": "execute_result",
          "data": {
            "text/plain": [
              "DecisionTreeClassifier()"
            ],
            "text/html": [
              "<style>#sk-container-id-1 {color: black;background-color: white;}#sk-container-id-1 pre{padding: 0;}#sk-container-id-1 div.sk-toggleable {background-color: white;}#sk-container-id-1 label.sk-toggleable__label {cursor: pointer;display: block;width: 100%;margin-bottom: 0;padding: 0.3em;box-sizing: border-box;text-align: center;}#sk-container-id-1 label.sk-toggleable__label-arrow:before {content: \"▸\";float: left;margin-right: 0.25em;color: #696969;}#sk-container-id-1 label.sk-toggleable__label-arrow:hover:before {color: black;}#sk-container-id-1 div.sk-estimator:hover label.sk-toggleable__label-arrow:before {color: black;}#sk-container-id-1 div.sk-toggleable__content {max-height: 0;max-width: 0;overflow: hidden;text-align: left;background-color: #f0f8ff;}#sk-container-id-1 div.sk-toggleable__content pre {margin: 0.2em;color: black;border-radius: 0.25em;background-color: #f0f8ff;}#sk-container-id-1 input.sk-toggleable__control:checked~div.sk-toggleable__content {max-height: 200px;max-width: 100%;overflow: auto;}#sk-container-id-1 input.sk-toggleable__control:checked~label.sk-toggleable__label-arrow:before {content: \"▾\";}#sk-container-id-1 div.sk-estimator input.sk-toggleable__control:checked~label.sk-toggleable__label {background-color: #d4ebff;}#sk-container-id-1 div.sk-label input.sk-toggleable__control:checked~label.sk-toggleable__label {background-color: #d4ebff;}#sk-container-id-1 input.sk-hidden--visually {border: 0;clip: rect(1px 1px 1px 1px);clip: rect(1px, 1px, 1px, 1px);height: 1px;margin: -1px;overflow: hidden;padding: 0;position: absolute;width: 1px;}#sk-container-id-1 div.sk-estimator {font-family: monospace;background-color: #f0f8ff;border: 1px dotted black;border-radius: 0.25em;box-sizing: border-box;margin-bottom: 0.5em;}#sk-container-id-1 div.sk-estimator:hover {background-color: #d4ebff;}#sk-container-id-1 div.sk-parallel-item::after {content: \"\";width: 100%;border-bottom: 1px solid gray;flex-grow: 1;}#sk-container-id-1 div.sk-label:hover label.sk-toggleable__label {background-color: #d4ebff;}#sk-container-id-1 div.sk-serial::before {content: \"\";position: absolute;border-left: 1px solid gray;box-sizing: border-box;top: 0;bottom: 0;left: 50%;z-index: 0;}#sk-container-id-1 div.sk-serial {display: flex;flex-direction: column;align-items: center;background-color: white;padding-right: 0.2em;padding-left: 0.2em;position: relative;}#sk-container-id-1 div.sk-item {position: relative;z-index: 1;}#sk-container-id-1 div.sk-parallel {display: flex;align-items: stretch;justify-content: center;background-color: white;position: relative;}#sk-container-id-1 div.sk-item::before, #sk-container-id-1 div.sk-parallel-item::before {content: \"\";position: absolute;border-left: 1px solid gray;box-sizing: border-box;top: 0;bottom: 0;left: 50%;z-index: -1;}#sk-container-id-1 div.sk-parallel-item {display: flex;flex-direction: column;z-index: 1;position: relative;background-color: white;}#sk-container-id-1 div.sk-parallel-item:first-child::after {align-self: flex-end;width: 50%;}#sk-container-id-1 div.sk-parallel-item:last-child::after {align-self: flex-start;width: 50%;}#sk-container-id-1 div.sk-parallel-item:only-child::after {width: 0;}#sk-container-id-1 div.sk-dashed-wrapped {border: 1px dashed gray;margin: 0 0.4em 0.5em 0.4em;box-sizing: border-box;padding-bottom: 0.4em;background-color: white;}#sk-container-id-1 div.sk-label label {font-family: monospace;font-weight: bold;display: inline-block;line-height: 1.2em;}#sk-container-id-1 div.sk-label-container {text-align: center;}#sk-container-id-1 div.sk-container {/* jupyter's `normalize.less` sets `[hidden] { display: none; }` but bootstrap.min.css set `[hidden] { display: none !important; }` so we also need the `!important` here to be able to override the default hidden behavior on the sphinx rendered scikit-learn.org. See: https://github.com/scikit-learn/scikit-learn/issues/21755 */display: inline-block !important;position: relative;}#sk-container-id-1 div.sk-text-repr-fallback {display: none;}</style><div id=\"sk-container-id-1\" class=\"sk-top-container\"><div class=\"sk-text-repr-fallback\"><pre>DecisionTreeClassifier()</pre><b>In a Jupyter environment, please rerun this cell to show the HTML representation or trust the notebook. <br />On GitHub, the HTML representation is unable to render, please try loading this page with nbviewer.org.</b></div><div class=\"sk-container\" hidden><div class=\"sk-item\"><div class=\"sk-estimator sk-toggleable\"><input class=\"sk-toggleable__control sk-hidden--visually\" id=\"sk-estimator-id-1\" type=\"checkbox\" checked><label for=\"sk-estimator-id-1\" class=\"sk-toggleable__label sk-toggleable__label-arrow\">DecisionTreeClassifier</label><div class=\"sk-toggleable__content\"><pre>DecisionTreeClassifier()</pre></div></div></div></div></div>"
            ]
          },
          "metadata": {},
          "execution_count": 12
        }
      ]
    },
    {
      "cell_type": "code",
      "source": [
        "penguins_class = data_penguins.columns[0]\n",
        "penguins_features = list(data_penguins.columns[1:])"
      ],
      "metadata": {
        "id": "s_J2ed_v--zl"
      },
      "execution_count": 13,
      "outputs": []
    },
    {
      "cell_type": "code",
      "source": [
        "from sklearn import tree\n",
        "\n",
        "dot_data = tree.export_graphviz(classifier_1,\n",
        "                feature_names=penguins_features,\n",
        "                class_names=penguins_class,\n",
        "                filled=True, rounded=True,\n",
        "                special_characters=True)\n",
        "\n",
        "graph = graphviz.Source(dot_data)\n",
        "graph"
      ],
      "metadata": {
        "id": "hwomCGHCCnKt",
        "outputId": "5404debb-3dcd-49cf-b15f-400073719ac7",
        "colab": {
          "base_uri": "https://localhost:8080/",
          "height": 936
        }
      },
      "execution_count": 14,
      "outputs": [
        {
          "output_type": "execute_result",
          "data": {
            "image/svg+xml": "<?xml version=\"1.0\" encoding=\"UTF-8\" standalone=\"no\"?>\n<!DOCTYPE svg PUBLIC \"-//W3C//DTD SVG 1.1//EN\"\n \"http://www.w3.org/Graphics/SVG/1.1/DTD/svg11.dtd\">\n<!-- Generated by graphviz version 2.43.0 (0)\n -->\n<!-- Title: Tree Pages: 1 -->\n<svg width=\"1013pt\" height=\"671pt\"\n viewBox=\"0.00 0.00 1012.50 671.00\" xmlns=\"http://www.w3.org/2000/svg\" xmlns:xlink=\"http://www.w3.org/1999/xlink\">\n<g id=\"graph0\" class=\"graph\" transform=\"scale(1 1) rotate(0) translate(4 667)\">\n<title>Tree</title>\n<polygon fill=\"white\" stroke=\"transparent\" points=\"-4,4 -4,-667 1008.5,-667 1008.5,4 -4,4\"/>\n<!-- 0 -->\n<g id=\"node1\" class=\"node\">\n<title>0</title>\n<path fill=\"#fbeee4\" stroke=\"black\" d=\"M623,-663C623,-663 457,-663 457,-663 451,-663 445,-657 445,-651 445,-651 445,-592 445,-592 445,-586 451,-580 457,-580 457,-580 623,-580 623,-580 629,-580 635,-586 635,-592 635,-592 635,-651 635,-651 635,-657 629,-663 623,-663\"/>\n<text text-anchor=\"start\" x=\"453\" y=\"-647.8\" font-family=\"Helvetica,sans-Serif\" font-size=\"14.00\">culmen_length_mm ≤ &#45;0.334</text>\n<text text-anchor=\"start\" x=\"504.5\" y=\"-632.8\" font-family=\"Helvetica,sans-Serif\" font-size=\"14.00\">gini = 0.647</text>\n<text text-anchor=\"start\" x=\"495\" y=\"-617.8\" font-family=\"Helvetica,sans-Serif\" font-size=\"14.00\">samples = 233</text>\n<text text-anchor=\"start\" x=\"478\" y=\"-602.8\" font-family=\"Helvetica,sans-Serif\" font-size=\"14.00\">value = [100, 54, 79]</text>\n<text text-anchor=\"start\" x=\"513\" y=\"-587.8\" font-family=\"Helvetica,sans-Serif\" font-size=\"14.00\">class = s</text>\n</g>\n<!-- 1 -->\n<g id=\"node2\" class=\"node\">\n<title>1</title>\n<path fill=\"#e6843d\" stroke=\"black\" d=\"M533,-544C533,-544 379,-544 379,-544 373,-544 367,-538 367,-532 367,-532 367,-473 367,-473 367,-467 373,-461 379,-461 379,-461 533,-461 533,-461 539,-461 545,-467 545,-473 545,-473 545,-532 545,-532 545,-538 539,-544 533,-544\"/>\n<text text-anchor=\"start\" x=\"375\" y=\"-528.8\" font-family=\"Helvetica,sans-Serif\" font-size=\"14.00\">flipper_length_mm ≤ 0.747</text>\n<text text-anchor=\"start\" x=\"420.5\" y=\"-513.8\" font-family=\"Helvetica,sans-Serif\" font-size=\"14.00\">gini = 0.041</text>\n<text text-anchor=\"start\" x=\"415\" y=\"-498.8\" font-family=\"Helvetica,sans-Serif\" font-size=\"14.00\">samples = 95</text>\n<text text-anchor=\"start\" x=\"405.5\" y=\"-483.8\" font-family=\"Helvetica,sans-Serif\" font-size=\"14.00\">value = [93, 1, 1]</text>\n<text text-anchor=\"start\" x=\"429\" y=\"-468.8\" font-family=\"Helvetica,sans-Serif\" font-size=\"14.00\">class = s</text>\n</g>\n<!-- 0&#45;&gt;1 -->\n<g id=\"edge1\" class=\"edge\">\n<title>0&#45;&gt;1</title>\n<path fill=\"none\" stroke=\"black\" d=\"M510.86,-579.91C504.47,-571.01 497.65,-561.51 491.06,-552.33\"/>\n<polygon fill=\"black\" stroke=\"black\" points=\"493.77,-550.1 485.09,-544.02 488.08,-554.19 493.77,-550.1\"/>\n<text text-anchor=\"middle\" x=\"481.04\" y=\"-564.99\" font-family=\"Helvetica,sans-Serif\" font-size=\"14.00\">True</text>\n</g>\n<!-- 8 -->\n<g id=\"node9\" class=\"node\">\n<title>8</title>\n<path fill=\"#dac5f7\" stroke=\"black\" d=\"M675.5,-544C675.5,-544 574.5,-544 574.5,-544 568.5,-544 562.5,-538 562.5,-532 562.5,-532 562.5,-473 562.5,-473 562.5,-467 568.5,-461 574.5,-461 574.5,-461 675.5,-461 675.5,-461 681.5,-461 687.5,-467 687.5,-473 687.5,-473 687.5,-532 687.5,-532 687.5,-538 681.5,-544 675.5,-544\"/>\n<text text-anchor=\"start\" x=\"582.5\" y=\"-528.8\" font-family=\"Helvetica,sans-Serif\" font-size=\"14.00\">island ≤ 0.073</text>\n<text text-anchor=\"start\" x=\"593\" y=\"-513.8\" font-family=\"Helvetica,sans-Serif\" font-size=\"14.00\">gini = 0.53</text>\n<text text-anchor=\"start\" x=\"580\" y=\"-498.8\" font-family=\"Helvetica,sans-Serif\" font-size=\"14.00\">samples = 138</text>\n<text text-anchor=\"start\" x=\"570.5\" y=\"-483.8\" font-family=\"Helvetica,sans-Serif\" font-size=\"14.00\">value = [7, 53, 78]</text>\n<text text-anchor=\"start\" x=\"597.5\" y=\"-468.8\" font-family=\"Helvetica,sans-Serif\" font-size=\"14.00\">class = e</text>\n</g>\n<!-- 0&#45;&gt;8 -->\n<g id=\"edge8\" class=\"edge\">\n<title>0&#45;&gt;8</title>\n<path fill=\"none\" stroke=\"black\" d=\"M569.49,-579.91C575.95,-571.01 582.86,-561.51 589.52,-552.33\"/>\n<polygon fill=\"black\" stroke=\"black\" points=\"592.52,-554.17 595.56,-544.02 586.85,-550.05 592.52,-554.17\"/>\n<text text-anchor=\"middle\" x=\"599.47\" y=\"-565.01\" font-family=\"Helvetica,sans-Serif\" font-size=\"14.00\">False</text>\n</g>\n<!-- 2 -->\n<g id=\"node3\" class=\"node\">\n<title>2</title>\n<path fill=\"#e5823b\" stroke=\"black\" d=\"M371.5,-425C371.5,-425 208.5,-425 208.5,-425 202.5,-425 196.5,-419 196.5,-413 196.5,-413 196.5,-354 196.5,-354 196.5,-348 202.5,-342 208.5,-342 208.5,-342 371.5,-342 371.5,-342 377.5,-342 383.5,-348 383.5,-354 383.5,-354 383.5,-413 383.5,-413 383.5,-419 377.5,-425 371.5,-425\"/>\n<text text-anchor=\"start\" x=\"204.5\" y=\"-409.8\" font-family=\"Helvetica,sans-Serif\" font-size=\"14.00\">culmen_depth_mm ≤ &#45;0.309</text>\n<text text-anchor=\"start\" x=\"254.5\" y=\"-394.8\" font-family=\"Helvetica,sans-Serif\" font-size=\"14.00\">gini = 0.021</text>\n<text text-anchor=\"start\" x=\"249\" y=\"-379.8\" font-family=\"Helvetica,sans-Serif\" font-size=\"14.00\">samples = 94</text>\n<text text-anchor=\"start\" x=\"239.5\" y=\"-364.8\" font-family=\"Helvetica,sans-Serif\" font-size=\"14.00\">value = [93, 1, 0]</text>\n<text text-anchor=\"start\" x=\"263\" y=\"-349.8\" font-family=\"Helvetica,sans-Serif\" font-size=\"14.00\">class = s</text>\n</g>\n<!-- 1&#45;&gt;2 -->\n<g id=\"edge2\" class=\"edge\">\n<title>1&#45;&gt;2</title>\n<path fill=\"none\" stroke=\"black\" d=\"M398.41,-460.91C384.63,-451.2 369.82,-440.76 355.71,-430.81\"/>\n<polygon fill=\"black\" stroke=\"black\" points=\"357.68,-427.92 347.49,-425.02 353.65,-433.64 357.68,-427.92\"/>\n</g>\n<!-- 7 -->\n<g id=\"node8\" class=\"node\">\n<title>7</title>\n<path fill=\"#8139e5\" stroke=\"black\" d=\"M500,-417.5C500,-417.5 414,-417.5 414,-417.5 408,-417.5 402,-411.5 402,-405.5 402,-405.5 402,-361.5 402,-361.5 402,-355.5 408,-349.5 414,-349.5 414,-349.5 500,-349.5 500,-349.5 506,-349.5 512,-355.5 512,-361.5 512,-361.5 512,-405.5 512,-405.5 512,-411.5 506,-417.5 500,-417.5\"/>\n<text text-anchor=\"start\" x=\"429\" y=\"-402.3\" font-family=\"Helvetica,sans-Serif\" font-size=\"14.00\">gini = 0.0</text>\n<text text-anchor=\"start\" x=\"419.5\" y=\"-387.3\" font-family=\"Helvetica,sans-Serif\" font-size=\"14.00\">samples = 1</text>\n<text text-anchor=\"start\" x=\"410\" y=\"-372.3\" font-family=\"Helvetica,sans-Serif\" font-size=\"14.00\">value = [0, 0, 1]</text>\n<text text-anchor=\"start\" x=\"429.5\" y=\"-357.3\" font-family=\"Helvetica,sans-Serif\" font-size=\"14.00\">class = e</text>\n</g>\n<!-- 1&#45;&gt;7 -->\n<g id=\"edge7\" class=\"edge\">\n<title>1&#45;&gt;7</title>\n<path fill=\"none\" stroke=\"black\" d=\"M456.35,-460.91C456.44,-450.2 456.54,-438.62 456.63,-427.78\"/>\n<polygon fill=\"black\" stroke=\"black\" points=\"460.13,-427.7 456.72,-417.67 453.13,-427.64 460.13,-427.7\"/>\n</g>\n<!-- 3 -->\n<g id=\"node4\" class=\"node\">\n<title>3</title>\n<path fill=\"#e99355\" stroke=\"black\" d=\"M211,-306C211,-306 45,-306 45,-306 39,-306 33,-300 33,-294 33,-294 33,-235 33,-235 33,-229 39,-223 45,-223 45,-223 211,-223 211,-223 217,-223 223,-229 223,-235 223,-235 223,-294 223,-294 223,-300 217,-306 211,-306\"/>\n<text text-anchor=\"start\" x=\"41\" y=\"-290.8\" font-family=\"Helvetica,sans-Serif\" font-size=\"14.00\">culmen_length_mm ≤ &#45;0.818</text>\n<text text-anchor=\"start\" x=\"92.5\" y=\"-275.8\" font-family=\"Helvetica,sans-Serif\" font-size=\"14.00\">gini = 0.219</text>\n<text text-anchor=\"start\" x=\"90.5\" y=\"-260.8\" font-family=\"Helvetica,sans-Serif\" font-size=\"14.00\">samples = 8</text>\n<text text-anchor=\"start\" x=\"81\" y=\"-245.8\" font-family=\"Helvetica,sans-Serif\" font-size=\"14.00\">value = [7, 1, 0]</text>\n<text text-anchor=\"start\" x=\"101\" y=\"-230.8\" font-family=\"Helvetica,sans-Serif\" font-size=\"14.00\">class = s</text>\n</g>\n<!-- 2&#45;&gt;3 -->\n<g id=\"edge3\" class=\"edge\">\n<title>2&#45;&gt;3</title>\n<path fill=\"none\" stroke=\"black\" d=\"M233.79,-341.91C220.48,-332.29 206.17,-321.95 192.51,-312.09\"/>\n<polygon fill=\"black\" stroke=\"black\" points=\"194.26,-309.04 184.11,-306.02 190.16,-314.71 194.26,-309.04\"/>\n</g>\n<!-- 6 -->\n<g id=\"node7\" class=\"node\">\n<title>6</title>\n<path fill=\"#e58139\" stroke=\"black\" d=\"M346.5,-298.5C346.5,-298.5 253.5,-298.5 253.5,-298.5 247.5,-298.5 241.5,-292.5 241.5,-286.5 241.5,-286.5 241.5,-242.5 241.5,-242.5 241.5,-236.5 247.5,-230.5 253.5,-230.5 253.5,-230.5 346.5,-230.5 346.5,-230.5 352.5,-230.5 358.5,-236.5 358.5,-242.5 358.5,-242.5 358.5,-286.5 358.5,-286.5 358.5,-292.5 352.5,-298.5 346.5,-298.5\"/>\n<text text-anchor=\"start\" x=\"272\" y=\"-283.3\" font-family=\"Helvetica,sans-Serif\" font-size=\"14.00\">gini = 0.0</text>\n<text text-anchor=\"start\" x=\"259\" y=\"-268.3\" font-family=\"Helvetica,sans-Serif\" font-size=\"14.00\">samples = 86</text>\n<text text-anchor=\"start\" x=\"249.5\" y=\"-253.3\" font-family=\"Helvetica,sans-Serif\" font-size=\"14.00\">value = [86, 0, 0]</text>\n<text text-anchor=\"start\" x=\"273\" y=\"-238.3\" font-family=\"Helvetica,sans-Serif\" font-size=\"14.00\">class = s</text>\n</g>\n<!-- 2&#45;&gt;6 -->\n<g id=\"edge6\" class=\"edge\">\n<title>2&#45;&gt;6</title>\n<path fill=\"none\" stroke=\"black\" d=\"M293.47,-341.91C294.38,-331.2 295.37,-319.62 296.3,-308.78\"/>\n<polygon fill=\"black\" stroke=\"black\" points=\"299.8,-308.93 297.17,-298.67 292.83,-308.33 299.8,-308.93\"/>\n</g>\n<!-- 4 -->\n<g id=\"node5\" class=\"node\">\n<title>4</title>\n<path fill=\"#e58139\" stroke=\"black\" d=\"M98,-179.5C98,-179.5 12,-179.5 12,-179.5 6,-179.5 0,-173.5 0,-167.5 0,-167.5 0,-123.5 0,-123.5 0,-117.5 6,-111.5 12,-111.5 12,-111.5 98,-111.5 98,-111.5 104,-111.5 110,-117.5 110,-123.5 110,-123.5 110,-167.5 110,-167.5 110,-173.5 104,-179.5 98,-179.5\"/>\n<text text-anchor=\"start\" x=\"27\" y=\"-164.3\" font-family=\"Helvetica,sans-Serif\" font-size=\"14.00\">gini = 0.0</text>\n<text text-anchor=\"start\" x=\"17.5\" y=\"-149.3\" font-family=\"Helvetica,sans-Serif\" font-size=\"14.00\">samples = 7</text>\n<text text-anchor=\"start\" x=\"8\" y=\"-134.3\" font-family=\"Helvetica,sans-Serif\" font-size=\"14.00\">value = [7, 0, 0]</text>\n<text text-anchor=\"start\" x=\"28\" y=\"-119.3\" font-family=\"Helvetica,sans-Serif\" font-size=\"14.00\">class = s</text>\n</g>\n<!-- 3&#45;&gt;4 -->\n<g id=\"edge4\" class=\"edge\">\n<title>3&#45;&gt;4</title>\n<path fill=\"none\" stroke=\"black\" d=\"M102.67,-222.91C95.72,-211.76 88.17,-199.66 81.17,-188.44\"/>\n<polygon fill=\"black\" stroke=\"black\" points=\"83.96,-186.3 75.69,-179.67 78.02,-190 83.96,-186.3\"/>\n</g>\n<!-- 5 -->\n<g id=\"node6\" class=\"node\">\n<title>5</title>\n<path fill=\"#39e581\" stroke=\"black\" d=\"M226,-179.5C226,-179.5 140,-179.5 140,-179.5 134,-179.5 128,-173.5 128,-167.5 128,-167.5 128,-123.5 128,-123.5 128,-117.5 134,-111.5 140,-111.5 140,-111.5 226,-111.5 226,-111.5 232,-111.5 238,-117.5 238,-123.5 238,-123.5 238,-167.5 238,-167.5 238,-173.5 232,-179.5 226,-179.5\"/>\n<text text-anchor=\"start\" x=\"155\" y=\"-164.3\" font-family=\"Helvetica,sans-Serif\" font-size=\"14.00\">gini = 0.0</text>\n<text text-anchor=\"start\" x=\"145.5\" y=\"-149.3\" font-family=\"Helvetica,sans-Serif\" font-size=\"14.00\">samples = 1</text>\n<text text-anchor=\"start\" x=\"136\" y=\"-134.3\" font-family=\"Helvetica,sans-Serif\" font-size=\"14.00\">value = [0, 1, 0]</text>\n<text text-anchor=\"start\" x=\"155.5\" y=\"-119.3\" font-family=\"Helvetica,sans-Serif\" font-size=\"14.00\">class = p</text>\n</g>\n<!-- 3&#45;&gt;5 -->\n<g id=\"edge5\" class=\"edge\">\n<title>3&#45;&gt;5</title>\n<path fill=\"none\" stroke=\"black\" d=\"M147.08,-222.91C152.27,-211.87 157.9,-199.9 163.13,-188.77\"/>\n<polygon fill=\"black\" stroke=\"black\" points=\"166.32,-190.21 167.41,-179.67 159.99,-187.23 166.32,-190.21\"/>\n</g>\n<!-- 9 -->\n<g id=\"node10\" class=\"node\">\n<title>9</title>\n<path fill=\"#4fe88f\" stroke=\"black\" d=\"M704.5,-425C704.5,-425 543.5,-425 543.5,-425 537.5,-425 531.5,-419 531.5,-413 531.5,-413 531.5,-354 531.5,-354 531.5,-348 537.5,-342 543.5,-342 543.5,-342 704.5,-342 704.5,-342 710.5,-342 716.5,-348 716.5,-354 716.5,-354 716.5,-413 716.5,-413 716.5,-419 710.5,-425 704.5,-425\"/>\n<text text-anchor=\"start\" x=\"539.5\" y=\"-409.8\" font-family=\"Helvetica,sans-Serif\" font-size=\"14.00\">culmen_length_mm ≤ 0.088</text>\n<text text-anchor=\"start\" x=\"588.5\" y=\"-394.8\" font-family=\"Helvetica,sans-Serif\" font-size=\"14.00\">gini = 0.183</text>\n<text text-anchor=\"start\" x=\"583\" y=\"-379.8\" font-family=\"Helvetica,sans-Serif\" font-size=\"14.00\">samples = 59</text>\n<text text-anchor=\"start\" x=\"573.5\" y=\"-364.8\" font-family=\"Helvetica,sans-Serif\" font-size=\"14.00\">value = [6, 53, 0]</text>\n<text text-anchor=\"start\" x=\"596.5\" y=\"-349.8\" font-family=\"Helvetica,sans-Serif\" font-size=\"14.00\">class = p</text>\n</g>\n<!-- 8&#45;&gt;9 -->\n<g id=\"edge9\" class=\"edge\">\n<title>8&#45;&gt;9</title>\n<path fill=\"none\" stroke=\"black\" d=\"M624.65,-460.91C624.58,-452.65 624.51,-443.86 624.43,-435.3\"/>\n<polygon fill=\"black\" stroke=\"black\" points=\"627.93,-434.99 624.35,-425.02 620.93,-435.05 627.93,-434.99\"/>\n</g>\n<!-- 18 -->\n<g id=\"node19\" class=\"node\">\n<title>18</title>\n<path fill=\"#833ce5\" stroke=\"black\" d=\"M897.5,-425C897.5,-425 746.5,-425 746.5,-425 740.5,-425 734.5,-419 734.5,-413 734.5,-413 734.5,-354 734.5,-354 734.5,-348 740.5,-342 746.5,-342 746.5,-342 897.5,-342 897.5,-342 903.5,-342 909.5,-348 909.5,-354 909.5,-354 909.5,-413 909.5,-413 909.5,-419 903.5,-425 897.5,-425\"/>\n<text text-anchor=\"start\" x=\"742.5\" y=\"-409.8\" font-family=\"Helvetica,sans-Serif\" font-size=\"14.00\">flipper_length_mm ≤ &#45;0.05</text>\n<text text-anchor=\"start\" x=\"786.5\" y=\"-394.8\" font-family=\"Helvetica,sans-Serif\" font-size=\"14.00\">gini = 0.025</text>\n<text text-anchor=\"start\" x=\"781\" y=\"-379.8\" font-family=\"Helvetica,sans-Serif\" font-size=\"14.00\">samples = 79</text>\n<text text-anchor=\"start\" x=\"771.5\" y=\"-364.8\" font-family=\"Helvetica,sans-Serif\" font-size=\"14.00\">value = [1, 0, 78]</text>\n<text text-anchor=\"start\" x=\"794.5\" y=\"-349.8\" font-family=\"Helvetica,sans-Serif\" font-size=\"14.00\">class = e</text>\n</g>\n<!-- 8&#45;&gt;18 -->\n<g id=\"edge18\" class=\"edge\">\n<title>8&#45;&gt;18</title>\n<path fill=\"none\" stroke=\"black\" d=\"M687.6,-464.32C705.87,-453.47 726.05,-441.48 745.1,-430.17\"/>\n<polygon fill=\"black\" stroke=\"black\" points=\"746.95,-433.15 753.76,-425.03 743.37,-427.13 746.95,-433.15\"/>\n</g>\n<!-- 10 -->\n<g id=\"node11\" class=\"node\">\n<title>10</title>\n<path fill=\"#fae6d7\" stroke=\"black\" d=\"M509,-306C509,-306 423,-306 423,-306 417,-306 411,-300 411,-294 411,-294 411,-235 411,-235 411,-229 417,-223 423,-223 423,-223 509,-223 509,-223 515,-223 521,-229 521,-235 521,-235 521,-294 521,-294 521,-300 515,-306 509,-306\"/>\n<text text-anchor=\"start\" x=\"428.5\" y=\"-290.8\" font-family=\"Helvetica,sans-Serif\" font-size=\"14.00\">sex ≤ &#45;0.013</text>\n<text text-anchor=\"start\" x=\"430.5\" y=\"-275.8\" font-family=\"Helvetica,sans-Serif\" font-size=\"14.00\">gini = 0.494</text>\n<text text-anchor=\"start\" x=\"428.5\" y=\"-260.8\" font-family=\"Helvetica,sans-Serif\" font-size=\"14.00\">samples = 9</text>\n<text text-anchor=\"start\" x=\"419\" y=\"-245.8\" font-family=\"Helvetica,sans-Serif\" font-size=\"14.00\">value = [5, 4, 0]</text>\n<text text-anchor=\"start\" x=\"439\" y=\"-230.8\" font-family=\"Helvetica,sans-Serif\" font-size=\"14.00\">class = s</text>\n</g>\n<!-- 9&#45;&gt;10 -->\n<g id=\"edge10\" class=\"edge\">\n<title>9&#45;&gt;10</title>\n<path fill=\"none\" stroke=\"black\" d=\"M569.18,-341.91C556.19,-332.29 542.24,-321.95 528.92,-312.09\"/>\n<polygon fill=\"black\" stroke=\"black\" points=\"530.84,-309.16 520.72,-306.02 526.67,-314.78 530.84,-309.16\"/>\n</g>\n<!-- 13 -->\n<g id=\"node14\" class=\"node\">\n<title>13</title>\n<path fill=\"#3de684\" stroke=\"black\" d=\"M712.5,-306C712.5,-306 551.5,-306 551.5,-306 545.5,-306 539.5,-300 539.5,-294 539.5,-294 539.5,-235 539.5,-235 539.5,-229 545.5,-223 551.5,-223 551.5,-223 712.5,-223 712.5,-223 718.5,-223 724.5,-229 724.5,-235 724.5,-235 724.5,-294 724.5,-294 724.5,-300 718.5,-306 712.5,-306\"/>\n<text text-anchor=\"start\" x=\"547.5\" y=\"-290.8\" font-family=\"Helvetica,sans-Serif\" font-size=\"14.00\">culmen_length_mm ≤ 0.308</text>\n<text text-anchor=\"start\" x=\"596.5\" y=\"-275.8\" font-family=\"Helvetica,sans-Serif\" font-size=\"14.00\">gini = 0.039</text>\n<text text-anchor=\"start\" x=\"591\" y=\"-260.8\" font-family=\"Helvetica,sans-Serif\" font-size=\"14.00\">samples = 50</text>\n<text text-anchor=\"start\" x=\"581.5\" y=\"-245.8\" font-family=\"Helvetica,sans-Serif\" font-size=\"14.00\">value = [1, 49, 0]</text>\n<text text-anchor=\"start\" x=\"604.5\" y=\"-230.8\" font-family=\"Helvetica,sans-Serif\" font-size=\"14.00\">class = p</text>\n</g>\n<!-- 9&#45;&gt;13 -->\n<g id=\"edge13\" class=\"edge\">\n<title>9&#45;&gt;13</title>\n<path fill=\"none\" stroke=\"black\" d=\"M626.78,-341.91C627.35,-333.56 627.95,-324.67 628.55,-316.02\"/>\n<polygon fill=\"black\" stroke=\"black\" points=\"632.04,-316.24 629.23,-306.02 625.06,-315.76 632.04,-316.24\"/>\n</g>\n<!-- 11 -->\n<g id=\"node12\" class=\"node\">\n<title>11</title>\n<path fill=\"#39e581\" stroke=\"black\" d=\"M385,-179.5C385,-179.5 299,-179.5 299,-179.5 293,-179.5 287,-173.5 287,-167.5 287,-167.5 287,-123.5 287,-123.5 287,-117.5 293,-111.5 299,-111.5 299,-111.5 385,-111.5 385,-111.5 391,-111.5 397,-117.5 397,-123.5 397,-123.5 397,-167.5 397,-167.5 397,-173.5 391,-179.5 385,-179.5\"/>\n<text text-anchor=\"start\" x=\"314\" y=\"-164.3\" font-family=\"Helvetica,sans-Serif\" font-size=\"14.00\">gini = 0.0</text>\n<text text-anchor=\"start\" x=\"304.5\" y=\"-149.3\" font-family=\"Helvetica,sans-Serif\" font-size=\"14.00\">samples = 4</text>\n<text text-anchor=\"start\" x=\"295\" y=\"-134.3\" font-family=\"Helvetica,sans-Serif\" font-size=\"14.00\">value = [0, 4, 0]</text>\n<text text-anchor=\"start\" x=\"314.5\" y=\"-119.3\" font-family=\"Helvetica,sans-Serif\" font-size=\"14.00\">class = p</text>\n</g>\n<!-- 10&#45;&gt;11 -->\n<g id=\"edge11\" class=\"edge\">\n<title>10&#45;&gt;11</title>\n<path fill=\"none\" stroke=\"black\" d=\"M422.98,-222.91C410.58,-211.21 397.07,-198.46 384.69,-186.78\"/>\n<polygon fill=\"black\" stroke=\"black\" points=\"386.83,-183.98 377.15,-179.67 382.02,-189.08 386.83,-183.98\"/>\n</g>\n<!-- 12 -->\n<g id=\"node13\" class=\"node\">\n<title>12</title>\n<path fill=\"#e58139\" stroke=\"black\" d=\"M513,-179.5C513,-179.5 427,-179.5 427,-179.5 421,-179.5 415,-173.5 415,-167.5 415,-167.5 415,-123.5 415,-123.5 415,-117.5 421,-111.5 427,-111.5 427,-111.5 513,-111.5 513,-111.5 519,-111.5 525,-117.5 525,-123.5 525,-123.5 525,-167.5 525,-167.5 525,-173.5 519,-179.5 513,-179.5\"/>\n<text text-anchor=\"start\" x=\"442\" y=\"-164.3\" font-family=\"Helvetica,sans-Serif\" font-size=\"14.00\">gini = 0.0</text>\n<text text-anchor=\"start\" x=\"432.5\" y=\"-149.3\" font-family=\"Helvetica,sans-Serif\" font-size=\"14.00\">samples = 5</text>\n<text text-anchor=\"start\" x=\"423\" y=\"-134.3\" font-family=\"Helvetica,sans-Serif\" font-size=\"14.00\">value = [5, 0, 0]</text>\n<text text-anchor=\"start\" x=\"443\" y=\"-119.3\" font-family=\"Helvetica,sans-Serif\" font-size=\"14.00\">class = s</text>\n</g>\n<!-- 10&#45;&gt;12 -->\n<g id=\"edge12\" class=\"edge\">\n<title>10&#45;&gt;12</title>\n<path fill=\"none\" stroke=\"black\" d=\"M467.39,-222.91C467.75,-212.2 468.15,-200.62 468.52,-189.78\"/>\n<polygon fill=\"black\" stroke=\"black\" points=\"472.02,-189.78 468.87,-179.67 465.03,-189.54 472.02,-189.78\"/>\n</g>\n<!-- 14 -->\n<g id=\"node15\" class=\"node\">\n<title>14</title>\n<path fill=\"#5ae996\" stroke=\"black\" d=\"M693.5,-187C693.5,-187 562.5,-187 562.5,-187 556.5,-187 550.5,-181 550.5,-175 550.5,-175 550.5,-116 550.5,-116 550.5,-110 556.5,-104 562.5,-104 562.5,-104 693.5,-104 693.5,-104 699.5,-104 705.5,-110 705.5,-116 705.5,-116 705.5,-175 705.5,-175 705.5,-181 699.5,-187 693.5,-187\"/>\n<text text-anchor=\"start\" x=\"558.5\" y=\"-171.8\" font-family=\"Helvetica,sans-Serif\" font-size=\"14.00\">body_mass_g ≤ &#45;0.159</text>\n<text text-anchor=\"start\" x=\"592.5\" y=\"-156.8\" font-family=\"Helvetica,sans-Serif\" font-size=\"14.00\">gini = 0.245</text>\n<text text-anchor=\"start\" x=\"590.5\" y=\"-141.8\" font-family=\"Helvetica,sans-Serif\" font-size=\"14.00\">samples = 7</text>\n<text text-anchor=\"start\" x=\"581\" y=\"-126.8\" font-family=\"Helvetica,sans-Serif\" font-size=\"14.00\">value = [1, 6, 0]</text>\n<text text-anchor=\"start\" x=\"600.5\" y=\"-111.8\" font-family=\"Helvetica,sans-Serif\" font-size=\"14.00\">class = p</text>\n</g>\n<!-- 13&#45;&gt;14 -->\n<g id=\"edge14\" class=\"edge\">\n<title>13&#45;&gt;14</title>\n<path fill=\"none\" stroke=\"black\" d=\"M630.61,-222.91C630.33,-214.56 630.02,-205.67 629.73,-197.02\"/>\n<polygon fill=\"black\" stroke=\"black\" points=\"633.23,-196.9 629.39,-187.02 626.23,-197.13 633.23,-196.9\"/>\n</g>\n<!-- 17 -->\n<g id=\"node18\" class=\"node\">\n<title>17</title>\n<path fill=\"#39e581\" stroke=\"black\" d=\"M828.5,-179.5C828.5,-179.5 735.5,-179.5 735.5,-179.5 729.5,-179.5 723.5,-173.5 723.5,-167.5 723.5,-167.5 723.5,-123.5 723.5,-123.5 723.5,-117.5 729.5,-111.5 735.5,-111.5 735.5,-111.5 828.5,-111.5 828.5,-111.5 834.5,-111.5 840.5,-117.5 840.5,-123.5 840.5,-123.5 840.5,-167.5 840.5,-167.5 840.5,-173.5 834.5,-179.5 828.5,-179.5\"/>\n<text text-anchor=\"start\" x=\"754\" y=\"-164.3\" font-family=\"Helvetica,sans-Serif\" font-size=\"14.00\">gini = 0.0</text>\n<text text-anchor=\"start\" x=\"741\" y=\"-149.3\" font-family=\"Helvetica,sans-Serif\" font-size=\"14.00\">samples = 43</text>\n<text text-anchor=\"start\" x=\"731.5\" y=\"-134.3\" font-family=\"Helvetica,sans-Serif\" font-size=\"14.00\">value = [0, 43, 0]</text>\n<text text-anchor=\"start\" x=\"754.5\" y=\"-119.3\" font-family=\"Helvetica,sans-Serif\" font-size=\"14.00\">class = p</text>\n</g>\n<!-- 13&#45;&gt;17 -->\n<g id=\"edge17\" class=\"edge\">\n<title>13&#45;&gt;17</title>\n<path fill=\"none\" stroke=\"black\" d=\"M684.04,-222.91C699.32,-210.99 716.01,-197.98 731.21,-186.12\"/>\n<polygon fill=\"black\" stroke=\"black\" points=\"733.75,-188.58 739.48,-179.67 729.44,-183.06 733.75,-188.58\"/>\n</g>\n<!-- 15 -->\n<g id=\"node16\" class=\"node\">\n<title>15</title>\n<path fill=\"#39e581\" stroke=\"black\" d=\"M607,-68C607,-68 521,-68 521,-68 515,-68 509,-62 509,-56 509,-56 509,-12 509,-12 509,-6 515,0 521,0 521,0 607,0 607,0 613,0 619,-6 619,-12 619,-12 619,-56 619,-56 619,-62 613,-68 607,-68\"/>\n<text text-anchor=\"start\" x=\"536\" y=\"-52.8\" font-family=\"Helvetica,sans-Serif\" font-size=\"14.00\">gini = 0.0</text>\n<text text-anchor=\"start\" x=\"526.5\" y=\"-37.8\" font-family=\"Helvetica,sans-Serif\" font-size=\"14.00\">samples = 6</text>\n<text text-anchor=\"start\" x=\"517\" y=\"-22.8\" font-family=\"Helvetica,sans-Serif\" font-size=\"14.00\">value = [0, 6, 0]</text>\n<text text-anchor=\"start\" x=\"536.5\" y=\"-7.8\" font-family=\"Helvetica,sans-Serif\" font-size=\"14.00\">class = p</text>\n</g>\n<!-- 14&#45;&gt;15 -->\n<g id=\"edge15\" class=\"edge\">\n<title>14&#45;&gt;15</title>\n<path fill=\"none\" stroke=\"black\" d=\"M604.17,-103.73C599.1,-95.06 593.75,-85.9 588.65,-77.18\"/>\n<polygon fill=\"black\" stroke=\"black\" points=\"591.53,-75.17 583.46,-68.3 585.49,-78.7 591.53,-75.17\"/>\n</g>\n<!-- 16 -->\n<g id=\"node17\" class=\"node\">\n<title>16</title>\n<path fill=\"#e58139\" stroke=\"black\" d=\"M735,-68C735,-68 649,-68 649,-68 643,-68 637,-62 637,-56 637,-56 637,-12 637,-12 637,-6 643,0 649,0 649,0 735,0 735,0 741,0 747,-6 747,-12 747,-12 747,-56 747,-56 747,-62 741,-68 735,-68\"/>\n<text text-anchor=\"start\" x=\"664\" y=\"-52.8\" font-family=\"Helvetica,sans-Serif\" font-size=\"14.00\">gini = 0.0</text>\n<text text-anchor=\"start\" x=\"654.5\" y=\"-37.8\" font-family=\"Helvetica,sans-Serif\" font-size=\"14.00\">samples = 1</text>\n<text text-anchor=\"start\" x=\"645\" y=\"-22.8\" font-family=\"Helvetica,sans-Serif\" font-size=\"14.00\">value = [1, 0, 0]</text>\n<text text-anchor=\"start\" x=\"665\" y=\"-7.8\" font-family=\"Helvetica,sans-Serif\" font-size=\"14.00\">class = s</text>\n</g>\n<!-- 14&#45;&gt;16 -->\n<g id=\"edge16\" class=\"edge\">\n<title>14&#45;&gt;16</title>\n<path fill=\"none\" stroke=\"black\" d=\"M651.83,-103.73C656.9,-95.06 662.25,-85.9 667.35,-77.18\"/>\n<polygon fill=\"black\" stroke=\"black\" points=\"670.51,-78.7 672.54,-68.3 664.47,-75.17 670.51,-78.7\"/>\n</g>\n<!-- 19 -->\n<g id=\"node20\" class=\"node\">\n<title>19</title>\n<path fill=\"#e58139\" stroke=\"black\" d=\"M857,-298.5C857,-298.5 771,-298.5 771,-298.5 765,-298.5 759,-292.5 759,-286.5 759,-286.5 759,-242.5 759,-242.5 759,-236.5 765,-230.5 771,-230.5 771,-230.5 857,-230.5 857,-230.5 863,-230.5 869,-236.5 869,-242.5 869,-242.5 869,-286.5 869,-286.5 869,-292.5 863,-298.5 857,-298.5\"/>\n<text text-anchor=\"start\" x=\"786\" y=\"-283.3\" font-family=\"Helvetica,sans-Serif\" font-size=\"14.00\">gini = 0.0</text>\n<text text-anchor=\"start\" x=\"776.5\" y=\"-268.3\" font-family=\"Helvetica,sans-Serif\" font-size=\"14.00\">samples = 1</text>\n<text text-anchor=\"start\" x=\"767\" y=\"-253.3\" font-family=\"Helvetica,sans-Serif\" font-size=\"14.00\">value = [1, 0, 0]</text>\n<text text-anchor=\"start\" x=\"787\" y=\"-238.3\" font-family=\"Helvetica,sans-Serif\" font-size=\"14.00\">class = s</text>\n</g>\n<!-- 18&#45;&gt;19 -->\n<g id=\"edge19\" class=\"edge\">\n<title>18&#45;&gt;19</title>\n<path fill=\"none\" stroke=\"black\" d=\"M819.22,-341.91C818.49,-331.2 817.7,-319.62 816.96,-308.78\"/>\n<polygon fill=\"black\" stroke=\"black\" points=\"820.44,-308.4 816.27,-298.67 813.46,-308.88 820.44,-308.4\"/>\n</g>\n<!-- 20 -->\n<g id=\"node21\" class=\"node\">\n<title>20</title>\n<path fill=\"#8139e5\" stroke=\"black\" d=\"M992.5,-298.5C992.5,-298.5 899.5,-298.5 899.5,-298.5 893.5,-298.5 887.5,-292.5 887.5,-286.5 887.5,-286.5 887.5,-242.5 887.5,-242.5 887.5,-236.5 893.5,-230.5 899.5,-230.5 899.5,-230.5 992.5,-230.5 992.5,-230.5 998.5,-230.5 1004.5,-236.5 1004.5,-242.5 1004.5,-242.5 1004.5,-286.5 1004.5,-286.5 1004.5,-292.5 998.5,-298.5 992.5,-298.5\"/>\n<text text-anchor=\"start\" x=\"918\" y=\"-283.3\" font-family=\"Helvetica,sans-Serif\" font-size=\"14.00\">gini = 0.0</text>\n<text text-anchor=\"start\" x=\"905\" y=\"-268.3\" font-family=\"Helvetica,sans-Serif\" font-size=\"14.00\">samples = 78</text>\n<text text-anchor=\"start\" x=\"895.5\" y=\"-253.3\" font-family=\"Helvetica,sans-Serif\" font-size=\"14.00\">value = [0, 0, 78]</text>\n<text text-anchor=\"start\" x=\"918.5\" y=\"-238.3\" font-family=\"Helvetica,sans-Serif\" font-size=\"14.00\">class = e</text>\n</g>\n<!-- 18&#45;&gt;20 -->\n<g id=\"edge20\" class=\"edge\">\n<title>18&#45;&gt;20</title>\n<path fill=\"none\" stroke=\"black\" d=\"M865.02,-341.91C877.42,-330.21 890.93,-317.46 903.31,-305.78\"/>\n<polygon fill=\"black\" stroke=\"black\" points=\"905.98,-308.08 910.85,-298.67 901.17,-302.98 905.98,-308.08\"/>\n</g>\n</g>\n</svg>\n",
            "text/plain": [
              "<graphviz.sources.Source at 0x7e10ec513c10>"
            ]
          },
          "metadata": {},
          "execution_count": 14
        }
      ]
    },
    {
      "cell_type": "code",
      "source": [
        "# print to the output file\n",
        "print('**************************************************************', file = outputFile)\n",
        "print('(A) Classifier 1 - Base DT', file = outputFile)\n",
        "print(classifier_1, file = outputFile)\n",
        "print('\\n', file = outputFile)"
      ],
      "metadata": {
        "id": "OYDP9qI641PW"
      },
      "execution_count": 15,
      "outputs": []
    },
    {
      "cell_type": "code",
      "source": [
        "# print classification report\n",
        "y_pred = classifier_1.predict(X_test)\n",
        "confusion_mat = confusion_matrix(y_test, y_pred)\n",
        "\n",
        "print(classification_report(y_test, y_pred, target_names=['Adelie', 'Chinstrap', 'Gentoo']))\n",
        "print(\"confusion matrix\\n\",confusion_mat)\n",
        "\n",
        "# print the result to the output file\n",
        "confusion_matrix_result =np.array2string(confusion_mat)\n",
        "print(\"(B) Confusion Matrix\", file = outputFile)\n",
        "print(confusion_matrix_result, file = outputFile)\n",
        "print('\\n', file = outputFile)\n",
        "print(\"(C,D) Classification Report\", file = outputFile)\n",
        "print(classification_report(y_test, y_pred, target_names = ['Adelie', 'Gentoo', 'Chinstap']), file = outputFile)\n",
        "outputFile.flush()"
      ],
      "metadata": {
        "colab": {
          "base_uri": "https://localhost:8080/"
        },
        "id": "o-9zdG295Uzs",
        "outputId": "c7c08356-9824-4464-bf5f-ed8a5a5f6fc8"
      },
      "execution_count": 16,
      "outputs": [
        {
          "output_type": "stream",
          "name": "stdout",
          "text": [
            "              precision    recall  f1-score   support\n",
            "\n",
            "      Adelie       1.00      0.98      0.99        46\n",
            "   Chinstrap       0.82      1.00      0.90        14\n",
            "      Gentoo       1.00      0.95      0.97        40\n",
            "\n",
            "    accuracy                           0.97       100\n",
            "   macro avg       0.94      0.98      0.96       100\n",
            "weighted avg       0.98      0.97      0.97       100\n",
            "\n",
            "confusion matrix\n",
            " [[45  1  0]\n",
            " [ 0 14  0]\n",
            " [ 0  2 38]]\n"
          ]
        }
      ]
    },
    {
      "cell_type": "code",
      "source": [
        "# repeat training & prediction 5 times for classifier 1\n",
        "from sklearn.metrics import accuracy_score, f1_score\n",
        "\n",
        "accuracy_baseDT = np.zeros(5)\n",
        "macro_avg_baseDT = np.zeros(5)\n",
        "weighted_avg_baseDT = np.zeros(5)\n",
        "\n",
        "for i in range(5):\n",
        "  X_train, X_test, y_train, y_test = train_test_split(X, y, test_size = 0.3)\n",
        "  classifier_1.fit(X_train, y_train)\n",
        "  y_pred = classifier_1.predict(X_test)\n",
        "\n",
        "  # find the accuracy for each iteration and store the value\n",
        "  accuracy_baseDT[i] = accuracy_score(y_test, y_pred)\n",
        "  macro_avg_baseDT[i] = f1_score(y_test, y_pred, average='macro')\n",
        "  weighted_avg_baseDT[i] = f1_score(y_test, y_pred, average='weighted')\n",
        "\n",
        "# compute the average accuracy & variances\n",
        "print(f'accuracy_baseDT: {accuracy_baseDT}')\n",
        "Avg_accuracy = (np.sum(accuracy_baseDT))/5\n",
        "accuracy_variance = np.var(accuracy_baseDT)\n",
        "print(f'average accuracy: {Avg_accuracy:.4f}, variance: {accuracy_variance:.6f}')\n",
        "print()\n",
        "\n",
        "# compute the average macro-average F1 & the variance\n",
        "print(f'macro_avg_baseDT: {macro_avg_baseDT}')\n",
        "Avg_macro_avg = (np.sum(macro_avg_baseDT))/5\n",
        "f1_macro_variance = np.var(macro_avg_baseDT)\n",
        "print(f'average macro-average F1: {Avg_macro_avg:.4f}, variance: {f1_macro_variance:.6f}')\n",
        "print()\n",
        "\n",
        "# compute the average weighted-average F1 & the variance\n",
        "print(f'weighted_avg_baseDT: {weighted_avg_baseDT}')\n",
        "Avg_weighted_avg = (np.sum(weighted_avg_baseDT))/5\n",
        "f1_weighted_variance = np.var(weighted_avg_baseDT)\n",
        "print(f'average weighted-average F1: {Avg_weighted_avg:.4f}, variance: {f1_weighted_variance:.6f}')"
      ],
      "metadata": {
        "id": "kSCBBBuHJcjz",
        "outputId": "9bdba56d-49e5-40ce-e7eb-7f7fd8597d66",
        "colab": {
          "base_uri": "https://localhost:8080/"
        }
      },
      "execution_count": 17,
      "outputs": [
        {
          "output_type": "stream",
          "name": "stdout",
          "text": [
            "accuracy_baseDT: [0.98 0.94 0.97 0.98 0.97]\n",
            "average accuracy: 0.9680, variance: 0.000216\n",
            "\n",
            "macro_avg_baseDT: [0.97688061 0.93196457 0.9649587  0.97231783 0.96819709]\n",
            "average macro-average F1: 0.9629, variance: 0.000255\n",
            "\n",
            "weighted_avg_baseDT: [0.9802588  0.94091787 0.9701604  0.98046712 0.97016125]\n",
            "average weighted-average F1: 0.9684, variance: 0.000210\n"
          ]
        }
      ]
    },
    {
      "cell_type": "code",
      "source": [
        "# print the performance result to outputfile\n",
        "print('\\n(E) The result after 5 times of train-test repetition:' ,file = outputFile)\n",
        "print(f'average accuracy: {Avg_accuracy:.4f}, variance: {accuracy_variance:.6f}', file = outputFile)\n",
        "print(f'average macro-average F1: {Avg_macro_avg:.4f}, variance: {f1_macro_variance:.6f}', file = outputFile)\n",
        "print(f'average weighted-average F1: {Avg_weighted_avg:.4f}, variance: {f1_weighted_variance:.6f}', file = outputFile)\n",
        "print('\\n', file = outputFile)\n",
        "outputFile.flush()"
      ],
      "metadata": {
        "id": "G9_phUjPZBFF"
      },
      "execution_count": 18,
      "outputs": []
    },
    {
      "cell_type": "markdown",
      "source": [
        "##### Classifier 2 - Top-DT"
      ],
      "metadata": {
        "id": "8RIB1m4M56j3"
      }
    },
    {
      "cell_type": "code",
      "source": [
        "# Top Decision Tree - decision tree using gridsearch(hyperparameter search)\n",
        "from sklearn.model_selection import GridSearchCV\n",
        "from sklearn.tree import DecisionTreeClassifier\n",
        "\n",
        "parameters = {\n",
        "    'criterion': ['gini', 'entropy'],\n",
        "    'max_depth': [None, 3, 5],\n",
        "    'min_samples_split': [2, 5, 10]\n",
        "}\n",
        "\n",
        "classifier_2 = GridSearchCV(DecisionTreeClassifier(), parameters)\n",
        "classifier_2.fit(X_train, y_train)\n",
        "\n",
        "print(f'best parameters: {classifier_2.best_params_}')"
      ],
      "metadata": {
        "id": "JRPd85lw5jg2",
        "colab": {
          "base_uri": "https://localhost:8080/"
        },
        "outputId": "ef7c2e33-e2be-4c3d-d821-b96f60ec5223"
      },
      "execution_count": 19,
      "outputs": [
        {
          "output_type": "stream",
          "name": "stdout",
          "text": [
            "best parameters: {'criterion': 'gini', 'max_depth': 5, 'min_samples_split': 2}\n"
          ]
        }
      ]
    },
    {
      "cell_type": "code",
      "source": [
        "penguins_class = data_penguins.columns[0]\n",
        "penguins_features = list(data_penguins.columns[1:])"
      ],
      "metadata": {
        "id": "YFTodB7a_Qxl"
      },
      "execution_count": 20,
      "outputs": []
    },
    {
      "cell_type": "code",
      "source": [
        "from sklearn.tree import export_graphviz\n",
        "from IPython.display import display\n",
        "\n",
        "dot_data = export_graphviz(classifier_2.best_estimator_,\n",
        "                          feature_names=penguins_features,\n",
        "                          class_names=penguins_class,\n",
        "                          filled=True, rounded=True,\n",
        "                          special_characters=True)\n",
        "\n",
        "graph = graphviz.Source(dot_data)\n",
        "display(graph)"
      ],
      "metadata": {
        "id": "Yq9k0XZ6-odi",
        "outputId": "2b4efc1c-7c70-49b3-9b69-368c941f51ea",
        "colab": {
          "base_uri": "https://localhost:8080/",
          "height": 936
        }
      },
      "execution_count": 21,
      "outputs": [
        {
          "output_type": "display_data",
          "data": {
            "image/svg+xml": "<?xml version=\"1.0\" encoding=\"UTF-8\" standalone=\"no\"?>\n<!DOCTYPE svg PUBLIC \"-//W3C//DTD SVG 1.1//EN\"\n \"http://www.w3.org/Graphics/SVG/1.1/DTD/svg11.dtd\">\n<!-- Generated by graphviz version 2.43.0 (0)\n -->\n<!-- Title: Tree Pages: 1 -->\n<svg width=\"1169pt\" height=\"671pt\"\n viewBox=\"0.00 0.00 1169.00 671.00\" xmlns=\"http://www.w3.org/2000/svg\" xmlns:xlink=\"http://www.w3.org/1999/xlink\">\n<g id=\"graph0\" class=\"graph\" transform=\"scale(1 1) rotate(0) translate(4 667)\">\n<title>Tree</title>\n<polygon fill=\"white\" stroke=\"transparent\" points=\"-4,4 -4,-667 1165,-667 1165,4 -4,4\"/>\n<!-- 0 -->\n<g id=\"node1\" class=\"node\">\n<title>0</title>\n<path fill=\"#fef8f4\" stroke=\"black\" d=\"M805,-663C805,-663 651,-663 651,-663 645,-663 639,-657 639,-651 639,-651 639,-592 639,-592 639,-586 645,-580 651,-580 651,-580 805,-580 805,-580 811,-580 817,-586 817,-592 817,-592 817,-651 817,-651 817,-657 811,-663 805,-663\"/>\n<text text-anchor=\"start\" x=\"647\" y=\"-647.8\" font-family=\"Helvetica,sans-Serif\" font-size=\"14.00\">flipper_length_mm ≤ 206.5</text>\n<text text-anchor=\"start\" x=\"692.5\" y=\"-632.8\" font-family=\"Helvetica,sans-Serif\" font-size=\"14.00\">gini = 0.637</text>\n<text text-anchor=\"start\" x=\"683\" y=\"-617.8\" font-family=\"Helvetica,sans-Serif\" font-size=\"14.00\">samples = 233</text>\n<text text-anchor=\"start\" x=\"670\" y=\"-602.8\" font-family=\"Helvetica,sans-Serif\" font-size=\"14.00\">value = [98, 45, 90]</text>\n<text text-anchor=\"start\" x=\"701\" y=\"-587.8\" font-family=\"Helvetica,sans-Serif\" font-size=\"14.00\">class = s</text>\n</g>\n<!-- 1 -->\n<g id=\"node2\" class=\"node\">\n<title>1</title>\n<path fill=\"#f1b991\" stroke=\"black\" d=\"M707.5,-544C707.5,-544 546.5,-544 546.5,-544 540.5,-544 534.5,-538 534.5,-532 534.5,-532 534.5,-473 534.5,-473 534.5,-467 540.5,-461 546.5,-461 546.5,-461 707.5,-461 707.5,-461 713.5,-461 719.5,-467 719.5,-473 719.5,-473 719.5,-532 719.5,-532 719.5,-538 713.5,-544 707.5,-544\"/>\n<text text-anchor=\"start\" x=\"542.5\" y=\"-528.8\" font-family=\"Helvetica,sans-Serif\" font-size=\"14.00\">culmen_length_mm ≤ 44.65</text>\n<text text-anchor=\"start\" x=\"591.5\" y=\"-513.8\" font-family=\"Helvetica,sans-Serif\" font-size=\"14.00\">gini = 0.432</text>\n<text text-anchor=\"start\" x=\"582\" y=\"-498.8\" font-family=\"Helvetica,sans-Serif\" font-size=\"14.00\">samples = 139</text>\n<text text-anchor=\"start\" x=\"572.5\" y=\"-483.8\" font-family=\"Helvetica,sans-Serif\" font-size=\"14.00\">value = [96, 42, 1]</text>\n<text text-anchor=\"start\" x=\"600\" y=\"-468.8\" font-family=\"Helvetica,sans-Serif\" font-size=\"14.00\">class = s</text>\n</g>\n<!-- 0&#45;&gt;1 -->\n<g id=\"edge1\" class=\"edge\">\n<title>0&#45;&gt;1</title>\n<path fill=\"none\" stroke=\"black\" d=\"M692.96,-579.91C685.12,-570.83 676.74,-561.12 668.67,-551.77\"/>\n<polygon fill=\"black\" stroke=\"black\" points=\"671.16,-549.3 661.98,-544.02 665.86,-553.88 671.16,-549.3\"/>\n<text text-anchor=\"middle\" x=\"660.15\" y=\"-565.25\" font-family=\"Helvetica,sans-Serif\" font-size=\"14.00\">True</text>\n</g>\n<!-- 16 -->\n<g id=\"node17\" class=\"node\">\n<title>16</title>\n<path fill=\"#8844e6\" stroke=\"black\" d=\"M908,-544C908,-544 750,-544 750,-544 744,-544 738,-538 738,-532 738,-532 738,-473 738,-473 738,-467 744,-461 750,-461 750,-461 908,-461 908,-461 914,-461 920,-467 920,-473 920,-473 920,-532 920,-532 920,-538 914,-544 908,-544\"/>\n<text text-anchor=\"start\" x=\"746\" y=\"-528.8\" font-family=\"Helvetica,sans-Serif\" font-size=\"14.00\">culmen_depth_mm ≤ 17.65</text>\n<text text-anchor=\"start\" x=\"793.5\" y=\"-513.8\" font-family=\"Helvetica,sans-Serif\" font-size=\"14.00\">gini = 0.102</text>\n<text text-anchor=\"start\" x=\"788\" y=\"-498.8\" font-family=\"Helvetica,sans-Serif\" font-size=\"14.00\">samples = 94</text>\n<text text-anchor=\"start\" x=\"778.5\" y=\"-483.8\" font-family=\"Helvetica,sans-Serif\" font-size=\"14.00\">value = [2, 3, 89]</text>\n<text text-anchor=\"start\" x=\"801.5\" y=\"-468.8\" font-family=\"Helvetica,sans-Serif\" font-size=\"14.00\">class = e</text>\n</g>\n<!-- 0&#45;&gt;16 -->\n<g id=\"edge16\" class=\"edge\">\n<title>0&#45;&gt;16</title>\n<path fill=\"none\" stroke=\"black\" d=\"M763.04,-579.91C770.88,-570.83 779.26,-561.12 787.33,-551.77\"/>\n<polygon fill=\"black\" stroke=\"black\" points=\"790.14,-553.88 794.02,-544.02 784.84,-549.3 790.14,-553.88\"/>\n<text text-anchor=\"middle\" x=\"795.85\" y=\"-565.25\" font-family=\"Helvetica,sans-Serif\" font-size=\"14.00\">False</text>\n</g>\n<!-- 2 -->\n<g id=\"node3\" class=\"node\">\n<title>2</title>\n<path fill=\"#e78946\" stroke=\"black\" d=\"M543.5,-425C543.5,-425 382.5,-425 382.5,-425 376.5,-425 370.5,-419 370.5,-413 370.5,-413 370.5,-354 370.5,-354 370.5,-348 376.5,-342 382.5,-342 382.5,-342 543.5,-342 543.5,-342 549.5,-342 555.5,-348 555.5,-354 555.5,-354 555.5,-413 555.5,-413 555.5,-419 549.5,-425 543.5,-425\"/>\n<text text-anchor=\"start\" x=\"378.5\" y=\"-409.8\" font-family=\"Helvetica,sans-Serif\" font-size=\"14.00\">culmen_length_mm ≤ 42.35</text>\n<text text-anchor=\"start\" x=\"427.5\" y=\"-394.8\" font-family=\"Helvetica,sans-Serif\" font-size=\"14.00\">gini = 0.112</text>\n<text text-anchor=\"start\" x=\"418\" y=\"-379.8\" font-family=\"Helvetica,sans-Serif\" font-size=\"14.00\">samples = 101</text>\n<text text-anchor=\"start\" x=\"412.5\" y=\"-364.8\" font-family=\"Helvetica,sans-Serif\" font-size=\"14.00\">value = [95, 6, 0]</text>\n<text text-anchor=\"start\" x=\"436\" y=\"-349.8\" font-family=\"Helvetica,sans-Serif\" font-size=\"14.00\">class = s</text>\n</g>\n<!-- 1&#45;&gt;2 -->\n<g id=\"edge2\" class=\"edge\">\n<title>1&#45;&gt;2</title>\n<path fill=\"none\" stroke=\"black\" d=\"M570.1,-460.91C556.62,-451.29 542.13,-440.95 528.31,-431.09\"/>\n<polygon fill=\"black\" stroke=\"black\" points=\"529.97,-427.98 519.8,-425.02 525.91,-433.68 529.97,-427.98\"/>\n</g>\n<!-- 11 -->\n<g id=\"node12\" class=\"node\">\n<title>11</title>\n<path fill=\"#44e688\" stroke=\"black\" d=\"M678.5,-425C678.5,-425 585.5,-425 585.5,-425 579.5,-425 573.5,-419 573.5,-413 573.5,-413 573.5,-354 573.5,-354 573.5,-348 579.5,-342 585.5,-342 585.5,-342 678.5,-342 678.5,-342 684.5,-342 690.5,-348 690.5,-354 690.5,-354 690.5,-413 690.5,-413 690.5,-419 684.5,-425 678.5,-425\"/>\n<text text-anchor=\"start\" x=\"597\" y=\"-409.8\" font-family=\"Helvetica,sans-Serif\" font-size=\"14.00\">island ≤ 0.5</text>\n<text text-anchor=\"start\" x=\"596.5\" y=\"-394.8\" font-family=\"Helvetica,sans-Serif\" font-size=\"14.00\">gini = 0.101</text>\n<text text-anchor=\"start\" x=\"591\" y=\"-379.8\" font-family=\"Helvetica,sans-Serif\" font-size=\"14.00\">samples = 38</text>\n<text text-anchor=\"start\" x=\"581.5\" y=\"-364.8\" font-family=\"Helvetica,sans-Serif\" font-size=\"14.00\">value = [1, 36, 1]</text>\n<text text-anchor=\"start\" x=\"604.5\" y=\"-349.8\" font-family=\"Helvetica,sans-Serif\" font-size=\"14.00\">class = p</text>\n</g>\n<!-- 1&#45;&gt;11 -->\n<g id=\"edge11\" class=\"edge\">\n<title>1&#45;&gt;11</title>\n<path fill=\"none\" stroke=\"black\" d=\"M628.73,-460.91C629.09,-452.56 629.47,-443.67 629.84,-435.02\"/>\n<polygon fill=\"black\" stroke=\"black\" points=\"633.34,-435.16 630.27,-425.02 626.34,-434.86 633.34,-435.16\"/>\n</g>\n<!-- 3 -->\n<g id=\"node4\" class=\"node\">\n<title>3</title>\n<path fill=\"#e5823b\" stroke=\"black\" d=\"M347,-306C347,-306 189,-306 189,-306 183,-306 177,-300 177,-294 177,-294 177,-235 177,-235 177,-229 183,-223 189,-223 189,-223 347,-223 347,-223 353,-223 359,-229 359,-235 359,-235 359,-294 359,-294 359,-300 353,-306 347,-306\"/>\n<text text-anchor=\"start\" x=\"185\" y=\"-290.8\" font-family=\"Helvetica,sans-Serif\" font-size=\"14.00\">culmen_depth_mm ≤ 16.75</text>\n<text text-anchor=\"start\" x=\"232.5\" y=\"-275.8\" font-family=\"Helvetica,sans-Serif\" font-size=\"14.00\">gini = 0.022</text>\n<text text-anchor=\"start\" x=\"227\" y=\"-260.8\" font-family=\"Helvetica,sans-Serif\" font-size=\"14.00\">samples = 89</text>\n<text text-anchor=\"start\" x=\"217.5\" y=\"-245.8\" font-family=\"Helvetica,sans-Serif\" font-size=\"14.00\">value = [88, 1, 0]</text>\n<text text-anchor=\"start\" x=\"241\" y=\"-230.8\" font-family=\"Helvetica,sans-Serif\" font-size=\"14.00\">class = s</text>\n</g>\n<!-- 2&#45;&gt;3 -->\n<g id=\"edge3\" class=\"edge\">\n<title>2&#45;&gt;3</title>\n<path fill=\"none\" stroke=\"black\" d=\"M395.35,-341.91C378.86,-332.02 361.11,-321.37 344.26,-311.25\"/>\n<polygon fill=\"black\" stroke=\"black\" points=\"345.91,-308.16 335.53,-306.02 342.31,-314.17 345.91,-308.16\"/>\n</g>\n<!-- 8 -->\n<g id=\"node9\" class=\"node\">\n<title>8</title>\n<path fill=\"#f8dbc6\" stroke=\"black\" d=\"M540.5,-306C540.5,-306 389.5,-306 389.5,-306 383.5,-306 377.5,-300 377.5,-294 377.5,-294 377.5,-235 377.5,-235 377.5,-229 383.5,-223 389.5,-223 389.5,-223 540.5,-223 540.5,-223 546.5,-223 552.5,-229 552.5,-235 552.5,-235 552.5,-294 552.5,-294 552.5,-300 546.5,-306 540.5,-306\"/>\n<text text-anchor=\"start\" x=\"385.5\" y=\"-290.8\" font-family=\"Helvetica,sans-Serif\" font-size=\"14.00\">culmen_depth_mm ≤ 18.2</text>\n<text text-anchor=\"start\" x=\"429.5\" y=\"-275.8\" font-family=\"Helvetica,sans-Serif\" font-size=\"14.00\">gini = 0.486</text>\n<text text-anchor=\"start\" x=\"424\" y=\"-260.8\" font-family=\"Helvetica,sans-Serif\" font-size=\"14.00\">samples = 12</text>\n<text text-anchor=\"start\" x=\"418\" y=\"-245.8\" font-family=\"Helvetica,sans-Serif\" font-size=\"14.00\">value = [7, 5, 0]</text>\n<text text-anchor=\"start\" x=\"438\" y=\"-230.8\" font-family=\"Helvetica,sans-Serif\" font-size=\"14.00\">class = s</text>\n</g>\n<!-- 2&#45;&gt;8 -->\n<g id=\"edge8\" class=\"edge\">\n<title>2&#45;&gt;8</title>\n<path fill=\"none\" stroke=\"black\" d=\"M463.69,-341.91C463.84,-333.56 463.99,-324.67 464.14,-316.02\"/>\n<polygon fill=\"black\" stroke=\"black\" points=\"467.64,-316.08 464.31,-306.02 460.64,-315.96 467.64,-316.08\"/>\n</g>\n<!-- 4 -->\n<g id=\"node5\" class=\"node\">\n<title>4</title>\n<path fill=\"#e99355\" stroke=\"black\" d=\"M196,-187C196,-187 42,-187 42,-187 36,-187 30,-181 30,-175 30,-175 30,-116 30,-116 30,-110 36,-104 42,-104 42,-104 196,-104 196,-104 202,-104 208,-110 208,-116 208,-116 208,-175 208,-175 208,-181 202,-187 196,-187\"/>\n<text text-anchor=\"start\" x=\"38\" y=\"-171.8\" font-family=\"Helvetica,sans-Serif\" font-size=\"14.00\">culmen_length_mm ≤ 39.5</text>\n<text text-anchor=\"start\" x=\"83.5\" y=\"-156.8\" font-family=\"Helvetica,sans-Serif\" font-size=\"14.00\">gini = 0.219</text>\n<text text-anchor=\"start\" x=\"81.5\" y=\"-141.8\" font-family=\"Helvetica,sans-Serif\" font-size=\"14.00\">samples = 8</text>\n<text text-anchor=\"start\" x=\"72\" y=\"-126.8\" font-family=\"Helvetica,sans-Serif\" font-size=\"14.00\">value = [7, 1, 0]</text>\n<text text-anchor=\"start\" x=\"92\" y=\"-111.8\" font-family=\"Helvetica,sans-Serif\" font-size=\"14.00\">class = s</text>\n</g>\n<!-- 3&#45;&gt;4 -->\n<g id=\"edge4\" class=\"edge\">\n<title>3&#45;&gt;4</title>\n<path fill=\"none\" stroke=\"black\" d=\"M216.31,-222.91C204.17,-213.38 191.14,-203.15 178.69,-193.37\"/>\n<polygon fill=\"black\" stroke=\"black\" points=\"180.63,-190.44 170.6,-187.02 176.31,-195.95 180.63,-190.44\"/>\n</g>\n<!-- 7 -->\n<g id=\"node8\" class=\"node\">\n<title>7</title>\n<path fill=\"#e58139\" stroke=\"black\" d=\"M331.5,-179.5C331.5,-179.5 238.5,-179.5 238.5,-179.5 232.5,-179.5 226.5,-173.5 226.5,-167.5 226.5,-167.5 226.5,-123.5 226.5,-123.5 226.5,-117.5 232.5,-111.5 238.5,-111.5 238.5,-111.5 331.5,-111.5 331.5,-111.5 337.5,-111.5 343.5,-117.5 343.5,-123.5 343.5,-123.5 343.5,-167.5 343.5,-167.5 343.5,-173.5 337.5,-179.5 331.5,-179.5\"/>\n<text text-anchor=\"start\" x=\"257\" y=\"-164.3\" font-family=\"Helvetica,sans-Serif\" font-size=\"14.00\">gini = 0.0</text>\n<text text-anchor=\"start\" x=\"244\" y=\"-149.3\" font-family=\"Helvetica,sans-Serif\" font-size=\"14.00\">samples = 81</text>\n<text text-anchor=\"start\" x=\"234.5\" y=\"-134.3\" font-family=\"Helvetica,sans-Serif\" font-size=\"14.00\">value = [81, 0, 0]</text>\n<text text-anchor=\"start\" x=\"258\" y=\"-119.3\" font-family=\"Helvetica,sans-Serif\" font-size=\"14.00\">class = s</text>\n</g>\n<!-- 3&#45;&gt;7 -->\n<g id=\"edge7\" class=\"edge\">\n<title>3&#45;&gt;7</title>\n<path fill=\"none\" stroke=\"black\" d=\"M273.9,-222.91C275.45,-212.2 277.14,-200.62 278.71,-189.78\"/>\n<polygon fill=\"black\" stroke=\"black\" points=\"282.21,-190.07 280.18,-179.67 275.28,-189.06 282.21,-190.07\"/>\n</g>\n<!-- 5 -->\n<g id=\"node6\" class=\"node\">\n<title>5</title>\n<path fill=\"#e58139\" stroke=\"black\" d=\"M98,-68C98,-68 12,-68 12,-68 6,-68 0,-62 0,-56 0,-56 0,-12 0,-12 0,-6 6,0 12,0 12,0 98,0 98,0 104,0 110,-6 110,-12 110,-12 110,-56 110,-56 110,-62 104,-68 98,-68\"/>\n<text text-anchor=\"start\" x=\"27\" y=\"-52.8\" font-family=\"Helvetica,sans-Serif\" font-size=\"14.00\">gini = 0.0</text>\n<text text-anchor=\"start\" x=\"17.5\" y=\"-37.8\" font-family=\"Helvetica,sans-Serif\" font-size=\"14.00\">samples = 7</text>\n<text text-anchor=\"start\" x=\"8\" y=\"-22.8\" font-family=\"Helvetica,sans-Serif\" font-size=\"14.00\">value = [7, 0, 0]</text>\n<text text-anchor=\"start\" x=\"28\" y=\"-7.8\" font-family=\"Helvetica,sans-Serif\" font-size=\"14.00\">class = s</text>\n</g>\n<!-- 4&#45;&gt;5 -->\n<g id=\"edge5\" class=\"edge\">\n<title>4&#45;&gt;5</title>\n<path fill=\"none\" stroke=\"black\" d=\"M95.17,-103.73C90.1,-95.06 84.75,-85.9 79.65,-77.18\"/>\n<polygon fill=\"black\" stroke=\"black\" points=\"82.53,-75.17 74.46,-68.3 76.49,-78.7 82.53,-75.17\"/>\n</g>\n<!-- 6 -->\n<g id=\"node7\" class=\"node\">\n<title>6</title>\n<path fill=\"#39e581\" stroke=\"black\" d=\"M226,-68C226,-68 140,-68 140,-68 134,-68 128,-62 128,-56 128,-56 128,-12 128,-12 128,-6 134,0 140,0 140,0 226,0 226,0 232,0 238,-6 238,-12 238,-12 238,-56 238,-56 238,-62 232,-68 226,-68\"/>\n<text text-anchor=\"start\" x=\"155\" y=\"-52.8\" font-family=\"Helvetica,sans-Serif\" font-size=\"14.00\">gini = 0.0</text>\n<text text-anchor=\"start\" x=\"145.5\" y=\"-37.8\" font-family=\"Helvetica,sans-Serif\" font-size=\"14.00\">samples = 1</text>\n<text text-anchor=\"start\" x=\"136\" y=\"-22.8\" font-family=\"Helvetica,sans-Serif\" font-size=\"14.00\">value = [0, 1, 0]</text>\n<text text-anchor=\"start\" x=\"155.5\" y=\"-7.8\" font-family=\"Helvetica,sans-Serif\" font-size=\"14.00\">class = p</text>\n</g>\n<!-- 4&#45;&gt;6 -->\n<g id=\"edge6\" class=\"edge\">\n<title>4&#45;&gt;6</title>\n<path fill=\"none\" stroke=\"black\" d=\"M142.83,-103.73C147.9,-95.06 153.25,-85.9 158.35,-77.18\"/>\n<polygon fill=\"black\" stroke=\"black\" points=\"161.51,-78.7 163.54,-68.3 155.47,-75.17 161.51,-78.7\"/>\n</g>\n<!-- 9 -->\n<g id=\"node10\" class=\"node\">\n<title>9</title>\n<path fill=\"#39e581\" stroke=\"black\" d=\"M492,-179.5C492,-179.5 406,-179.5 406,-179.5 400,-179.5 394,-173.5 394,-167.5 394,-167.5 394,-123.5 394,-123.5 394,-117.5 400,-111.5 406,-111.5 406,-111.5 492,-111.5 492,-111.5 498,-111.5 504,-117.5 504,-123.5 504,-123.5 504,-167.5 504,-167.5 504,-173.5 498,-179.5 492,-179.5\"/>\n<text text-anchor=\"start\" x=\"421\" y=\"-164.3\" font-family=\"Helvetica,sans-Serif\" font-size=\"14.00\">gini = 0.0</text>\n<text text-anchor=\"start\" x=\"411.5\" y=\"-149.3\" font-family=\"Helvetica,sans-Serif\" font-size=\"14.00\">samples = 5</text>\n<text text-anchor=\"start\" x=\"402\" y=\"-134.3\" font-family=\"Helvetica,sans-Serif\" font-size=\"14.00\">value = [0, 5, 0]</text>\n<text text-anchor=\"start\" x=\"421.5\" y=\"-119.3\" font-family=\"Helvetica,sans-Serif\" font-size=\"14.00\">class = p</text>\n</g>\n<!-- 8&#45;&gt;9 -->\n<g id=\"edge9\" class=\"edge\">\n<title>8&#45;&gt;9</title>\n<path fill=\"none\" stroke=\"black\" d=\"M459.45,-222.91C457.99,-212.2 456.4,-200.62 454.92,-189.78\"/>\n<polygon fill=\"black\" stroke=\"black\" points=\"458.36,-189.1 453.54,-179.67 451.42,-190.05 458.36,-189.1\"/>\n</g>\n<!-- 10 -->\n<g id=\"node11\" class=\"node\">\n<title>10</title>\n<path fill=\"#e58139\" stroke=\"black\" d=\"M620,-179.5C620,-179.5 534,-179.5 534,-179.5 528,-179.5 522,-173.5 522,-167.5 522,-167.5 522,-123.5 522,-123.5 522,-117.5 528,-111.5 534,-111.5 534,-111.5 620,-111.5 620,-111.5 626,-111.5 632,-117.5 632,-123.5 632,-123.5 632,-167.5 632,-167.5 632,-173.5 626,-179.5 620,-179.5\"/>\n<text text-anchor=\"start\" x=\"549\" y=\"-164.3\" font-family=\"Helvetica,sans-Serif\" font-size=\"14.00\">gini = 0.0</text>\n<text text-anchor=\"start\" x=\"539.5\" y=\"-149.3\" font-family=\"Helvetica,sans-Serif\" font-size=\"14.00\">samples = 7</text>\n<text text-anchor=\"start\" x=\"530\" y=\"-134.3\" font-family=\"Helvetica,sans-Serif\" font-size=\"14.00\">value = [7, 0, 0]</text>\n<text text-anchor=\"start\" x=\"550\" y=\"-119.3\" font-family=\"Helvetica,sans-Serif\" font-size=\"14.00\">class = s</text>\n</g>\n<!-- 8&#45;&gt;10 -->\n<g id=\"edge10\" class=\"edge\">\n<title>8&#45;&gt;10</title>\n<path fill=\"none\" stroke=\"black\" d=\"M503.86,-222.91C514.95,-211.32 527.03,-198.7 538.12,-187.11\"/>\n<polygon fill=\"black\" stroke=\"black\" points=\"540.86,-189.31 545.25,-179.67 535.81,-184.47 540.86,-189.31\"/>\n</g>\n<!-- 12 -->\n<g id=\"node13\" class=\"node\">\n<title>12</title>\n<path fill=\"#39e581\" stroke=\"black\" d=\"M677.5,-298.5C677.5,-298.5 584.5,-298.5 584.5,-298.5 578.5,-298.5 572.5,-292.5 572.5,-286.5 572.5,-286.5 572.5,-242.5 572.5,-242.5 572.5,-236.5 578.5,-230.5 584.5,-230.5 584.5,-230.5 677.5,-230.5 677.5,-230.5 683.5,-230.5 689.5,-236.5 689.5,-242.5 689.5,-242.5 689.5,-286.5 689.5,-286.5 689.5,-292.5 683.5,-298.5 677.5,-298.5\"/>\n<text text-anchor=\"start\" x=\"603\" y=\"-283.3\" font-family=\"Helvetica,sans-Serif\" font-size=\"14.00\">gini = 0.0</text>\n<text text-anchor=\"start\" x=\"590\" y=\"-268.3\" font-family=\"Helvetica,sans-Serif\" font-size=\"14.00\">samples = 36</text>\n<text text-anchor=\"start\" x=\"580.5\" y=\"-253.3\" font-family=\"Helvetica,sans-Serif\" font-size=\"14.00\">value = [0, 36, 0]</text>\n<text text-anchor=\"start\" x=\"603.5\" y=\"-238.3\" font-family=\"Helvetica,sans-Serif\" font-size=\"14.00\">class = p</text>\n</g>\n<!-- 11&#45;&gt;12 -->\n<g id=\"edge12\" class=\"edge\">\n<title>11&#45;&gt;12</title>\n<path fill=\"none\" stroke=\"black\" d=\"M631.65,-341.91C631.56,-331.2 631.46,-319.62 631.37,-308.78\"/>\n<polygon fill=\"black\" stroke=\"black\" points=\"634.87,-308.64 631.28,-298.67 627.87,-308.7 634.87,-308.64\"/>\n</g>\n<!-- 13 -->\n<g id=\"node14\" class=\"node\">\n<title>13</title>\n<path fill=\"#ffffff\" stroke=\"black\" d=\"M874,-306C874,-306 720,-306 720,-306 714,-306 708,-300 708,-294 708,-294 708,-235 708,-235 708,-229 714,-223 720,-223 720,-223 874,-223 874,-223 880,-223 886,-229 886,-235 886,-235 886,-294 886,-294 886,-300 880,-306 874,-306\"/>\n<text text-anchor=\"start\" x=\"716\" y=\"-290.8\" font-family=\"Helvetica,sans-Serif\" font-size=\"14.00\">culmen_length_mm ≤ 47.0</text>\n<text text-anchor=\"start\" x=\"769\" y=\"-275.8\" font-family=\"Helvetica,sans-Serif\" font-size=\"14.00\">gini = 0.5</text>\n<text text-anchor=\"start\" x=\"759.5\" y=\"-260.8\" font-family=\"Helvetica,sans-Serif\" font-size=\"14.00\">samples = 2</text>\n<text text-anchor=\"start\" x=\"750\" y=\"-245.8\" font-family=\"Helvetica,sans-Serif\" font-size=\"14.00\">value = [1, 0, 1]</text>\n<text text-anchor=\"start\" x=\"770\" y=\"-230.8\" font-family=\"Helvetica,sans-Serif\" font-size=\"14.00\">class = s</text>\n</g>\n<!-- 11&#45;&gt;13 -->\n<g id=\"edge13\" class=\"edge\">\n<title>11&#45;&gt;13</title>\n<path fill=\"none\" stroke=\"black\" d=\"M689.25,-341.91C702.94,-332.2 717.66,-321.76 731.69,-311.81\"/>\n<polygon fill=\"black\" stroke=\"black\" points=\"733.72,-314.66 739.86,-306.02 729.67,-308.95 733.72,-314.66\"/>\n</g>\n<!-- 14 -->\n<g id=\"node15\" class=\"node\">\n<title>14</title>\n<path fill=\"#e58139\" stroke=\"black\" d=\"M794,-179.5C794,-179.5 708,-179.5 708,-179.5 702,-179.5 696,-173.5 696,-167.5 696,-167.5 696,-123.5 696,-123.5 696,-117.5 702,-111.5 708,-111.5 708,-111.5 794,-111.5 794,-111.5 800,-111.5 806,-117.5 806,-123.5 806,-123.5 806,-167.5 806,-167.5 806,-173.5 800,-179.5 794,-179.5\"/>\n<text text-anchor=\"start\" x=\"723\" y=\"-164.3\" font-family=\"Helvetica,sans-Serif\" font-size=\"14.00\">gini = 0.0</text>\n<text text-anchor=\"start\" x=\"713.5\" y=\"-149.3\" font-family=\"Helvetica,sans-Serif\" font-size=\"14.00\">samples = 1</text>\n<text text-anchor=\"start\" x=\"704\" y=\"-134.3\" font-family=\"Helvetica,sans-Serif\" font-size=\"14.00\">value = [1, 0, 0]</text>\n<text text-anchor=\"start\" x=\"724\" y=\"-119.3\" font-family=\"Helvetica,sans-Serif\" font-size=\"14.00\">class = s</text>\n</g>\n<!-- 13&#45;&gt;14 -->\n<g id=\"edge14\" class=\"edge\">\n<title>13&#45;&gt;14</title>\n<path fill=\"none\" stroke=\"black\" d=\"M781.04,-222.91C776.75,-211.98 772.09,-200.14 767.75,-189.11\"/>\n<polygon fill=\"black\" stroke=\"black\" points=\"770.96,-187.69 764.04,-179.67 764.44,-190.25 770.96,-187.69\"/>\n</g>\n<!-- 15 -->\n<g id=\"node16\" class=\"node\">\n<title>15</title>\n<path fill=\"#8139e5\" stroke=\"black\" d=\"M922,-179.5C922,-179.5 836,-179.5 836,-179.5 830,-179.5 824,-173.5 824,-167.5 824,-167.5 824,-123.5 824,-123.5 824,-117.5 830,-111.5 836,-111.5 836,-111.5 922,-111.5 922,-111.5 928,-111.5 934,-117.5 934,-123.5 934,-123.5 934,-167.5 934,-167.5 934,-173.5 928,-179.5 922,-179.5\"/>\n<text text-anchor=\"start\" x=\"851\" y=\"-164.3\" font-family=\"Helvetica,sans-Serif\" font-size=\"14.00\">gini = 0.0</text>\n<text text-anchor=\"start\" x=\"841.5\" y=\"-149.3\" font-family=\"Helvetica,sans-Serif\" font-size=\"14.00\">samples = 1</text>\n<text text-anchor=\"start\" x=\"832\" y=\"-134.3\" font-family=\"Helvetica,sans-Serif\" font-size=\"14.00\">value = [0, 0, 1]</text>\n<text text-anchor=\"start\" x=\"851.5\" y=\"-119.3\" font-family=\"Helvetica,sans-Serif\" font-size=\"14.00\">class = e</text>\n</g>\n<!-- 13&#45;&gt;15 -->\n<g id=\"edge15\" class=\"edge\">\n<title>13&#45;&gt;15</title>\n<path fill=\"none\" stroke=\"black\" d=\"M825.45,-222.91C833.34,-211.65 841.91,-199.42 849.84,-188.11\"/>\n<polygon fill=\"black\" stroke=\"black\" points=\"852.88,-189.86 855.75,-179.67 847.15,-185.85 852.88,-189.86\"/>\n</g>\n<!-- 17 -->\n<g id=\"node18\" class=\"node\">\n<title>17</title>\n<path fill=\"#8139e5\" stroke=\"black\" d=\"M865.5,-417.5C865.5,-417.5 772.5,-417.5 772.5,-417.5 766.5,-417.5 760.5,-411.5 760.5,-405.5 760.5,-405.5 760.5,-361.5 760.5,-361.5 760.5,-355.5 766.5,-349.5 772.5,-349.5 772.5,-349.5 865.5,-349.5 865.5,-349.5 871.5,-349.5 877.5,-355.5 877.5,-361.5 877.5,-361.5 877.5,-405.5 877.5,-405.5 877.5,-411.5 871.5,-417.5 865.5,-417.5\"/>\n<text text-anchor=\"start\" x=\"791\" y=\"-402.3\" font-family=\"Helvetica,sans-Serif\" font-size=\"14.00\">gini = 0.0</text>\n<text text-anchor=\"start\" x=\"778\" y=\"-387.3\" font-family=\"Helvetica,sans-Serif\" font-size=\"14.00\">samples = 89</text>\n<text text-anchor=\"start\" x=\"768.5\" y=\"-372.3\" font-family=\"Helvetica,sans-Serif\" font-size=\"14.00\">value = [0, 0, 89]</text>\n<text text-anchor=\"start\" x=\"791.5\" y=\"-357.3\" font-family=\"Helvetica,sans-Serif\" font-size=\"14.00\">class = e</text>\n</g>\n<!-- 16&#45;&gt;17 -->\n<g id=\"edge17\" class=\"edge\">\n<title>16&#45;&gt;17</title>\n<path fill=\"none\" stroke=\"black\" d=\"M825.53,-460.91C824.62,-450.2 823.63,-438.62 822.7,-427.78\"/>\n<polygon fill=\"black\" stroke=\"black\" points=\"826.17,-427.33 821.83,-417.67 819.2,-427.93 826.17,-427.33\"/>\n</g>\n<!-- 18 -->\n<g id=\"node19\" class=\"node\">\n<title>18</title>\n<path fill=\"#bdf6d5\" stroke=\"black\" d=\"M1058.5,-425C1058.5,-425 907.5,-425 907.5,-425 901.5,-425 895.5,-419 895.5,-413 895.5,-413 895.5,-354 895.5,-354 895.5,-348 901.5,-342 907.5,-342 907.5,-342 1058.5,-342 1058.5,-342 1064.5,-342 1070.5,-348 1070.5,-354 1070.5,-354 1070.5,-413 1070.5,-413 1070.5,-419 1064.5,-425 1058.5,-425\"/>\n<text text-anchor=\"start\" x=\"903.5\" y=\"-409.8\" font-family=\"Helvetica,sans-Serif\" font-size=\"14.00\">culmen_depth_mm ≤ 19.2</text>\n<text text-anchor=\"start\" x=\"951\" y=\"-394.8\" font-family=\"Helvetica,sans-Serif\" font-size=\"14.00\">gini = 0.48</text>\n<text text-anchor=\"start\" x=\"945.5\" y=\"-379.8\" font-family=\"Helvetica,sans-Serif\" font-size=\"14.00\">samples = 5</text>\n<text text-anchor=\"start\" x=\"936\" y=\"-364.8\" font-family=\"Helvetica,sans-Serif\" font-size=\"14.00\">value = [2, 3, 0]</text>\n<text text-anchor=\"start\" x=\"955.5\" y=\"-349.8\" font-family=\"Helvetica,sans-Serif\" font-size=\"14.00\">class = p</text>\n</g>\n<!-- 16&#45;&gt;18 -->\n<g id=\"edge18\" class=\"edge\">\n<title>16&#45;&gt;18</title>\n<path fill=\"none\" stroke=\"black\" d=\"M882.43,-460.91C895.09,-451.29 908.69,-440.95 921.68,-431.09\"/>\n<polygon fill=\"black\" stroke=\"black\" points=\"923.82,-433.86 929.66,-425.02 919.58,-428.28 923.82,-433.86\"/>\n</g>\n<!-- 19 -->\n<g id=\"node20\" class=\"node\">\n<title>19</title>\n<path fill=\"#e58139\" stroke=\"black\" d=\"M1021,-298.5C1021,-298.5 935,-298.5 935,-298.5 929,-298.5 923,-292.5 923,-286.5 923,-286.5 923,-242.5 923,-242.5 923,-236.5 929,-230.5 935,-230.5 935,-230.5 1021,-230.5 1021,-230.5 1027,-230.5 1033,-236.5 1033,-242.5 1033,-242.5 1033,-286.5 1033,-286.5 1033,-292.5 1027,-298.5 1021,-298.5\"/>\n<text text-anchor=\"start\" x=\"950\" y=\"-283.3\" font-family=\"Helvetica,sans-Serif\" font-size=\"14.00\">gini = 0.0</text>\n<text text-anchor=\"start\" x=\"940.5\" y=\"-268.3\" font-family=\"Helvetica,sans-Serif\" font-size=\"14.00\">samples = 2</text>\n<text text-anchor=\"start\" x=\"931\" y=\"-253.3\" font-family=\"Helvetica,sans-Serif\" font-size=\"14.00\">value = [2, 0, 0]</text>\n<text text-anchor=\"start\" x=\"951\" y=\"-238.3\" font-family=\"Helvetica,sans-Serif\" font-size=\"14.00\">class = s</text>\n</g>\n<!-- 18&#45;&gt;19 -->\n<g id=\"edge19\" class=\"edge\">\n<title>18&#45;&gt;19</title>\n<path fill=\"none\" stroke=\"black\" d=\"M981.27,-341.91C980.81,-331.2 980.31,-319.62 979.85,-308.78\"/>\n<polygon fill=\"black\" stroke=\"black\" points=\"983.34,-308.51 979.42,-298.67 976.35,-308.81 983.34,-308.51\"/>\n</g>\n<!-- 20 -->\n<g id=\"node21\" class=\"node\">\n<title>20</title>\n<path fill=\"#39e581\" stroke=\"black\" d=\"M1149,-298.5C1149,-298.5 1063,-298.5 1063,-298.5 1057,-298.5 1051,-292.5 1051,-286.5 1051,-286.5 1051,-242.5 1051,-242.5 1051,-236.5 1057,-230.5 1063,-230.5 1063,-230.5 1149,-230.5 1149,-230.5 1155,-230.5 1161,-236.5 1161,-242.5 1161,-242.5 1161,-286.5 1161,-286.5 1161,-292.5 1155,-298.5 1149,-298.5\"/>\n<text text-anchor=\"start\" x=\"1078\" y=\"-283.3\" font-family=\"Helvetica,sans-Serif\" font-size=\"14.00\">gini = 0.0</text>\n<text text-anchor=\"start\" x=\"1068.5\" y=\"-268.3\" font-family=\"Helvetica,sans-Serif\" font-size=\"14.00\">samples = 3</text>\n<text text-anchor=\"start\" x=\"1059\" y=\"-253.3\" font-family=\"Helvetica,sans-Serif\" font-size=\"14.00\">value = [0, 3, 0]</text>\n<text text-anchor=\"start\" x=\"1078.5\" y=\"-238.3\" font-family=\"Helvetica,sans-Serif\" font-size=\"14.00\">class = p</text>\n</g>\n<!-- 18&#45;&gt;20 -->\n<g id=\"edge20\" class=\"edge\">\n<title>18&#45;&gt;20</title>\n<path fill=\"none\" stroke=\"black\" d=\"M1025.67,-341.91C1037.97,-330.21 1051.38,-317.46 1063.65,-305.78\"/>\n<polygon fill=\"black\" stroke=\"black\" points=\"1066.3,-308.1 1071.13,-298.67 1061.47,-303.02 1066.3,-308.1\"/>\n</g>\n</g>\n</svg>\n",
            "text/plain": [
              "<graphviz.sources.Source at 0x7e10dffbebc0>"
            ]
          },
          "metadata": {}
        }
      ]
    },
    {
      "cell_type": "code",
      "source": [
        "# print to the output file\n",
        "print('\\n', file = outputFile)\n",
        "print('**************************************************************', file = outputFile)\n",
        "print('(A) Classifier 2 - Top DT', file = outputFile)\n",
        "print(classifier_2, file = outputFile)\n",
        "print('\\n', file = outputFile)\n",
        "print(f'best parameters: {classifier_2.best_params_}\\n', file = outputFile)\n",
        "print('\\n', file = outputFile)\n",
        "outputFile.flush()"
      ],
      "metadata": {
        "id": "OyY9Icjy8H7k"
      },
      "execution_count": 22,
      "outputs": []
    },
    {
      "cell_type": "code",
      "source": [
        "# print classification report\n",
        "y_pred = classifier_2.predict(X_test)\n",
        "confusion_mat = confusion_matrix(y_test, y_pred)\n",
        "\n",
        "print(classification_report(y_test, y_pred, target_names=['Adelie', 'Chinstrap', 'Gentoo']))\n",
        "print(\"confusion matrix\\n\",confusion_mat)\n",
        "\n",
        "# print the result to the output file\n",
        "confusion_matrix_result =np.array2string(confusion_mat)\n",
        "print(\"(B) Confusion Matrix\", file = outputFile)\n",
        "print(confusion_matrix_result, file = outputFile)\n",
        "print('\\n', file = outputFile)\n",
        "print(\"(C,D) Classification Report\", file = outputFile)\n",
        "print(classification_report(y_test, y_pred, target_names = ['Adelie', 'Chinstrap', 'Gentoo']), file = outputFile)\n",
        "confusion_matrix_result =np.array2string(confusion_mat)\n",
        "outputFile.flush()"
      ],
      "metadata": {
        "id": "RyyDW6-78J9g",
        "outputId": "da222718-5e0e-4ca7-c058-1e6065576a05",
        "colab": {
          "base_uri": "https://localhost:8080/"
        }
      },
      "execution_count": 23,
      "outputs": [
        {
          "output_type": "stream",
          "name": "stdout",
          "text": [
            "              precision    recall  f1-score   support\n",
            "\n",
            "      Adelie       0.98      0.94      0.96        48\n",
            "   Chinstrap       0.88      0.96      0.92        23\n",
            "      Gentoo       1.00      1.00      1.00        29\n",
            "\n",
            "    accuracy                           0.96       100\n",
            "   macro avg       0.95      0.96      0.96       100\n",
            "weighted avg       0.96      0.96      0.96       100\n",
            "\n",
            "confusion matrix\n",
            " [[45  3  0]\n",
            " [ 1 22  0]\n",
            " [ 0  0 29]]\n"
          ]
        }
      ]
    },
    {
      "cell_type": "code",
      "source": [
        "# repeat training & grid search & prediction 5 times for classifier 2\n",
        "from sklearn.metrics import accuracy_score, f1_score\n",
        "\n",
        "accuracy_TopDT = np.zeros(5)\n",
        "macro_avg_TopDT = np.zeros(5)\n",
        "weighted_avg_TopDT = np.zeros(5)\n",
        "\n",
        "print('\\n(E) The result after 5 times of train-test repetition:' ,file = outputFile)\n",
        "\n",
        "for i in range(5):\n",
        "  X_train, X_test, y_train, y_test = train_test_split(X, y, test_size = 0.3)\n",
        "\n",
        "  classifier_2 = GridSearchCV(DecisionTreeClassifier(), parameters)\n",
        "  classifier_2.fit(X_train, y_train)\n",
        "\n",
        "  print(f'best parameters for iteration{i+1}: {classifier_2.best_params_}',file = outputFile)\n",
        "  print(f'best parameters for iteration{i+1}: {classifier_2.best_params_}')\n",
        "\n",
        "  y_pred = classifier_2.predict(X_test)\n",
        "\n",
        "  # find the accuracy for each iteration and store the value\n",
        "  accuracy_TopDT[i] = accuracy_score(y_test, y_pred)\n",
        "  macro_avg_TopDT[i] = f1_score(y_test, y_pred, average='macro')\n",
        "  weighted_avg_TopDT[i] = f1_score(y_test, y_pred, average='weighted')\n",
        "\n",
        "print()\n",
        "\n",
        "# compute the average accuracy & variances\n",
        "print(f'accuracy_TopDT: {accuracy_TopDT}')\n",
        "Avg_accuracy = (np.sum(accuracy_TopDT))/5\n",
        "accuracy_variance = np.var(accuracy_TopDT)\n",
        "print(f'average accuracy: {Avg_accuracy:.4f}, variance: {accuracy_variance:.6f}')\n",
        "print()\n",
        "\n",
        "# compute the average macro-average F1 & the variance\n",
        "print(f'macro_avg_TopDT: {macro_avg_TopDT}')\n",
        "Avg_macro_avg = (np.sum(macro_avg_TopDT))/5\n",
        "f1_macro_variance = np.var(macro_avg_TopDT)\n",
        "print(f'average macro-average F1: {Avg_macro_avg:.4f}, variance: {f1_macro_variance:.6f}')\n",
        "print()\n",
        "\n",
        "# compute the average weighted-average F1 & the variance\n",
        "print(f'weighted_avg_TopDT: {weighted_avg_TopDT}')\n",
        "Avg_weighted_avg = (np.sum(weighted_avg_TopDT))/5\n",
        "f1_weighted_variance = np.var(weighted_avg_TopDT)\n",
        "print(f'average weighted-average F1: {Avg_weighted_avg:.4f}, variance: {f1_weighted_variance:.6f}')"
      ],
      "metadata": {
        "id": "0W_Jt4LMJgy0",
        "colab": {
          "base_uri": "https://localhost:8080/"
        },
        "outputId": "a21b02e6-e24e-426e-b9bd-9cebaebec5f1"
      },
      "execution_count": 24,
      "outputs": [
        {
          "output_type": "stream",
          "name": "stdout",
          "text": [
            "best parameters for iteration1: {'criterion': 'gini', 'max_depth': None, 'min_samples_split': 5}\n",
            "best parameters for iteration2: {'criterion': 'gini', 'max_depth': None, 'min_samples_split': 2}\n",
            "best parameters for iteration3: {'criterion': 'gini', 'max_depth': None, 'min_samples_split': 2}\n",
            "best parameters for iteration4: {'criterion': 'entropy', 'max_depth': None, 'min_samples_split': 2}\n",
            "best parameters for iteration5: {'criterion': 'entropy', 'max_depth': None, 'min_samples_split': 2}\n",
            "\n",
            "accuracy_TopDT: [0.97 0.96 0.93 0.98 0.96]\n",
            "average accuracy: 0.9600, variance: 0.000280\n",
            "\n",
            "macro_avg_TopDT: [0.96637773 0.95384615 0.92289461 0.97755633 0.94564412]\n",
            "average macro-average F1: 0.9533, variance: 0.000349\n",
            "\n",
            "weighted_avg_TopDT: [0.96986604 0.95934066 0.93144791 0.98000425 0.96008218]\n",
            "average weighted-average F1: 0.9601, variance: 0.000263\n"
          ]
        }
      ]
    },
    {
      "cell_type": "code",
      "source": [
        "# print the performance result to outputfile\n",
        "print('\\n', file = outputFile)\n",
        "print(f'average accuracy: {Avg_accuracy:.4f}, variance: {accuracy_variance:.6f}', file = outputFile)\n",
        "print(f'average macro-average F1: {Avg_macro_avg:.4f}, variance: {f1_macro_variance:.6f}', file = outputFile)\n",
        "print(f'average weighted-average F1: {Avg_weighted_avg:.4f}, variance: {f1_weighted_variance:.6f}', file = outputFile)\n",
        "print('\\n', file = outputFile)\n",
        "outputFile.flush()"
      ],
      "metadata": {
        "id": "Y4XPTddeb6Ck"
      },
      "execution_count": 25,
      "outputs": []
    },
    {
      "cell_type": "markdown",
      "source": [
        "##### Classifier 3 - Base-MLP"
      ],
      "metadata": {
        "id": "RsxEdv-Xd7Vn"
      }
    },
    {
      "cell_type": "code",
      "source": [
        "#Train Classifier 3\n",
        "mlp_base_penguin = MLPClassifier(hidden_layer_sizes =(100, 100,), activation = 'logistic', solver = 'sgd')\n",
        "mlp_base_penguin.fit(X_train, y_train)\n",
        "\n",
        "#print to the output file\n",
        "print('\\n**************************************************************', file = outputFile)\n",
        "print('(A) Classifier 3 - Base MLP', file = outputFile)\n",
        "print(mlp_base_penguin, file = outputFile)\n",
        "print('\\n', file = outputFile)"
      ],
      "metadata": {
        "id": "LXZXNDUWd6Np"
      },
      "execution_count": null,
      "outputs": []
    },
    {
      "cell_type": "markdown",
      "source": [
        "Metrics for Classifier 3"
      ],
      "metadata": {
        "id": "KpcPx0vCJryX"
      }
    },
    {
      "cell_type": "code",
      "source": [
        "#predict with Base MLP\n",
        "y_pred_base_mlp = mlp_base_penguin.predict(X_test)\n",
        "\n",
        "#print the result here on notebook\n",
        "print(classification_report(y_test, y_pred_base_mlp, target_names = ['Adelie', 'Gentoo', 'Chinstap']))\n",
        "print(confusion_matrix(y_test, y_pred_base_mlp))\n",
        "\n",
        "#print the result to the output file\n",
        "print(\"(B) Confusion Matrix\", file = outputFile)\n",
        "confusion_matrix_result =np.array2string(confusion_matrix(y_test, y_pred_base_mlp))\n",
        "print(confusion_matrix_result, file = outputFile)\n",
        "print('\\n', file = outputFile)\n",
        "print(\"(C,D) Classification Report\", file = outputFile)\n",
        "print(classification_report(y_test, y_pred_base_mlp, target_names = ['Adelie', 'Gentoo', 'Chinstap']), file = outputFile)\n",
        "\n",
        "outputFile.flush()"
      ],
      "metadata": {
        "id": "tpH0AREeJmJ2"
      },
      "execution_count": null,
      "outputs": []
    },
    {
      "cell_type": "code",
      "source": [
        "#repeat train-test 5 times\n",
        "MLP_base_train_test_repetition(X, y, outputFile, ['Adelie', 'Gentoo', 'Chinstap'])"
      ],
      "metadata": {
        "id": "mpo7xeAfNajE"
      },
      "execution_count": null,
      "outputs": []
    },
    {
      "cell_type": "markdown",
      "source": [
        "##### Classifier 4 - Top-MLP"
      ],
      "metadata": {
        "id": "Km0ZyCsVe8ze"
      }
    },
    {
      "cell_type": "code",
      "source": [
        "#create grid for each hyperparamter we want to test\n",
        "activation_grid = np.array(['logistic', 'tanh', 'relu'])\n",
        "neurons_tuple_grid = np.array([(30, 50,), (10, 10, 10,)], dtype = 'object')\n",
        "solver_grid = np.array(['adam', 'sgd'])\n",
        "\n",
        "#create parameter grid for GridSearchCV\n",
        "param_grid = {'hidden_layer_sizes': neurons_tuple_grid, 'activation': activation_grid, 'solver': solver_grid}\n",
        "\n",
        "#create grid cv object and do the search\n",
        "mlp_top_penguin = MLPClassifier()\n",
        "gridcv = sk.model_selection.GridSearchCV(mlp_top_penguin, param_grid = param_grid)\n",
        "gridcv.fit(X_train, y_train)\n",
        "\n",
        "#print the result here on notebook\n",
        "print(f'best parameters: {gridcv.best_params_}')\n",
        "\n",
        "#print the result to the output file\n",
        "print('**************************************************************', file = outputFile)\n",
        "print('(A) Classifier 4 - Top MLP', file = outputFile)\n",
        "print(f'best parameters: {gridcv.best_params_}\\n', file = outputFile)\n",
        "outputFile.flush()"
      ],
      "metadata": {
        "id": "-V8WxwtsfAHN"
      },
      "execution_count": null,
      "outputs": []
    },
    {
      "cell_type": "markdown",
      "source": [
        "Metrics for Classifier 4 - Top MLP"
      ],
      "metadata": {
        "id": "1l-RdJs8oT5n"
      }
    },
    {
      "cell_type": "code",
      "source": [
        "#predict\n",
        "y_pred_top_mlp = gridcv.best_estimator_.predict(X_test)\n",
        "\n",
        "#print the result here on notebook\n",
        "print(classification_report(y_test, y_pred_top_mlp, target_names = ['Adelie', 'Gentoo', 'Chinstap']))\n",
        "print(confusion_matrix(y_test, y_pred_top_mlp))\n",
        "\n",
        "#print the result to the output file\n",
        "print(\"(B) Confusion Matrix\", file = outputFile)\n",
        "confusion_matrix_result =np.array2string(confusion_matrix(y_test, y_pred_top_mlp))\n",
        "print(confusion_matrix_result, file = outputFile)\n",
        "print(\"\\n(C,D) Classification Report\", file = outputFile)\n",
        "print(classification_report(y_test, y_pred_top_mlp, target_names = ['Adelie', 'Gentoo', 'Chinstap']), file = outputFile)\n",
        "\n",
        "outputFile.flush()"
      ],
      "metadata": {
        "id": "HINTuN52kIyr"
      },
      "execution_count": null,
      "outputs": []
    },
    {
      "cell_type": "code",
      "source": [
        "MLP_top_train_test_repetition(param_grid, X, y, outputFile,['Adelie', 'Gentoo', 'Chinstap'])"
      ],
      "metadata": {
        "id": "WtHfQTtKSIlM"
      },
      "execution_count": null,
      "outputs": []
    },
    {
      "cell_type": "code",
      "source": [
        "outputFile.close()"
      ],
      "metadata": {
        "id": "uj6lfQkPIRsk"
      },
      "execution_count": null,
      "outputs": []
    },
    {
      "cell_type": "markdown",
      "source": [
        "## Dataset - 'abalone.csv'\n",
        "- Goal : prediction of sex"
      ],
      "metadata": {
        "id": "WYPRbdtq2-91"
      }
    },
    {
      "cell_type": "code",
      "source": [
        "outputFile = open('abalone-performance.txt', 'w')"
      ],
      "metadata": {
        "id": "jQKCBY32lPaR"
      },
      "execution_count": 26,
      "outputs": []
    },
    {
      "cell_type": "code",
      "source": [
        "data_abalone = pd.read_csv('abalone.csv')\n",
        "data_abalone.head()"
      ],
      "metadata": {
        "id": "wMutHb2AzmB1",
        "colab": {
          "base_uri": "https://localhost:8080/",
          "height": 226
        },
        "outputId": "358b1049-1dd1-42c1-904b-75da48201918"
      },
      "execution_count": 27,
      "outputs": [
        {
          "output_type": "execute_result",
          "data": {
            "text/plain": [
              "  Type  LongestShell  Diameter  Height  WholeWeight  ShuckedWeight  \\\n",
              "0    F         0.605     0.470   0.165       1.1775         0.6110   \n",
              "1    M         0.550     0.425   0.150       0.8315         0.4110   \n",
              "2    M         0.460     0.345   0.110       0.4595         0.2350   \n",
              "3    F         0.650     0.475   0.165       1.3875         0.5800   \n",
              "4    M         0.575     0.470   0.140       0.8375         0.3485   \n",
              "\n",
              "   VisceraWeight  ShellWeight  Rings  \n",
              "0         0.2275       0.2920      9  \n",
              "1         0.1765       0.2165     10  \n",
              "2         0.0885       0.1160      7  \n",
              "3         0.3485       0.3095      9  \n",
              "4         0.1735       0.2400     11  "
            ],
            "text/html": [
              "\n",
              "  <div id=\"df-783f9d2e-3812-4a49-84e1-dc6461872ac1\" class=\"colab-df-container\">\n",
              "    <div>\n",
              "<style scoped>\n",
              "    .dataframe tbody tr th:only-of-type {\n",
              "        vertical-align: middle;\n",
              "    }\n",
              "\n",
              "    .dataframe tbody tr th {\n",
              "        vertical-align: top;\n",
              "    }\n",
              "\n",
              "    .dataframe thead th {\n",
              "        text-align: right;\n",
              "    }\n",
              "</style>\n",
              "<table border=\"1\" class=\"dataframe\">\n",
              "  <thead>\n",
              "    <tr style=\"text-align: right;\">\n",
              "      <th></th>\n",
              "      <th>Type</th>\n",
              "      <th>LongestShell</th>\n",
              "      <th>Diameter</th>\n",
              "      <th>Height</th>\n",
              "      <th>WholeWeight</th>\n",
              "      <th>ShuckedWeight</th>\n",
              "      <th>VisceraWeight</th>\n",
              "      <th>ShellWeight</th>\n",
              "      <th>Rings</th>\n",
              "    </tr>\n",
              "  </thead>\n",
              "  <tbody>\n",
              "    <tr>\n",
              "      <th>0</th>\n",
              "      <td>F</td>\n",
              "      <td>0.605</td>\n",
              "      <td>0.470</td>\n",
              "      <td>0.165</td>\n",
              "      <td>1.1775</td>\n",
              "      <td>0.6110</td>\n",
              "      <td>0.2275</td>\n",
              "      <td>0.2920</td>\n",
              "      <td>9</td>\n",
              "    </tr>\n",
              "    <tr>\n",
              "      <th>1</th>\n",
              "      <td>M</td>\n",
              "      <td>0.550</td>\n",
              "      <td>0.425</td>\n",
              "      <td>0.150</td>\n",
              "      <td>0.8315</td>\n",
              "      <td>0.4110</td>\n",
              "      <td>0.1765</td>\n",
              "      <td>0.2165</td>\n",
              "      <td>10</td>\n",
              "    </tr>\n",
              "    <tr>\n",
              "      <th>2</th>\n",
              "      <td>M</td>\n",
              "      <td>0.460</td>\n",
              "      <td>0.345</td>\n",
              "      <td>0.110</td>\n",
              "      <td>0.4595</td>\n",
              "      <td>0.2350</td>\n",
              "      <td>0.0885</td>\n",
              "      <td>0.1160</td>\n",
              "      <td>7</td>\n",
              "    </tr>\n",
              "    <tr>\n",
              "      <th>3</th>\n",
              "      <td>F</td>\n",
              "      <td>0.650</td>\n",
              "      <td>0.475</td>\n",
              "      <td>0.165</td>\n",
              "      <td>1.3875</td>\n",
              "      <td>0.5800</td>\n",
              "      <td>0.3485</td>\n",
              "      <td>0.3095</td>\n",
              "      <td>9</td>\n",
              "    </tr>\n",
              "    <tr>\n",
              "      <th>4</th>\n",
              "      <td>M</td>\n",
              "      <td>0.575</td>\n",
              "      <td>0.470</td>\n",
              "      <td>0.140</td>\n",
              "      <td>0.8375</td>\n",
              "      <td>0.3485</td>\n",
              "      <td>0.1735</td>\n",
              "      <td>0.2400</td>\n",
              "      <td>11</td>\n",
              "    </tr>\n",
              "  </tbody>\n",
              "</table>\n",
              "</div>\n",
              "    <div class=\"colab-df-buttons\">\n",
              "\n",
              "  <div class=\"colab-df-container\">\n",
              "    <button class=\"colab-df-convert\" onclick=\"convertToInteractive('df-783f9d2e-3812-4a49-84e1-dc6461872ac1')\"\n",
              "            title=\"Convert this dataframe to an interactive table.\"\n",
              "            style=\"display:none;\">\n",
              "\n",
              "  <svg xmlns=\"http://www.w3.org/2000/svg\" height=\"24px\" viewBox=\"0 -960 960 960\">\n",
              "    <path d=\"M120-120v-720h720v720H120Zm60-500h600v-160H180v160Zm220 220h160v-160H400v160Zm0 220h160v-160H400v160ZM180-400h160v-160H180v160Zm440 0h160v-160H620v160ZM180-180h160v-160H180v160Zm440 0h160v-160H620v160Z\"/>\n",
              "  </svg>\n",
              "    </button>\n",
              "\n",
              "  <style>\n",
              "    .colab-df-container {\n",
              "      display:flex;\n",
              "      gap: 12px;\n",
              "    }\n",
              "\n",
              "    .colab-df-convert {\n",
              "      background-color: #E8F0FE;\n",
              "      border: none;\n",
              "      border-radius: 50%;\n",
              "      cursor: pointer;\n",
              "      display: none;\n",
              "      fill: #1967D2;\n",
              "      height: 32px;\n",
              "      padding: 0 0 0 0;\n",
              "      width: 32px;\n",
              "    }\n",
              "\n",
              "    .colab-df-convert:hover {\n",
              "      background-color: #E2EBFA;\n",
              "      box-shadow: 0px 1px 2px rgba(60, 64, 67, 0.3), 0px 1px 3px 1px rgba(60, 64, 67, 0.15);\n",
              "      fill: #174EA6;\n",
              "    }\n",
              "\n",
              "    .colab-df-buttons div {\n",
              "      margin-bottom: 4px;\n",
              "    }\n",
              "\n",
              "    [theme=dark] .colab-df-convert {\n",
              "      background-color: #3B4455;\n",
              "      fill: #D2E3FC;\n",
              "    }\n",
              "\n",
              "    [theme=dark] .colab-df-convert:hover {\n",
              "      background-color: #434B5C;\n",
              "      box-shadow: 0px 1px 3px 1px rgba(0, 0, 0, 0.15);\n",
              "      filter: drop-shadow(0px 1px 2px rgba(0, 0, 0, 0.3));\n",
              "      fill: #FFFFFF;\n",
              "    }\n",
              "  </style>\n",
              "\n",
              "    <script>\n",
              "      const buttonEl =\n",
              "        document.querySelector('#df-783f9d2e-3812-4a49-84e1-dc6461872ac1 button.colab-df-convert');\n",
              "      buttonEl.style.display =\n",
              "        google.colab.kernel.accessAllowed ? 'block' : 'none';\n",
              "\n",
              "      async function convertToInteractive(key) {\n",
              "        const element = document.querySelector('#df-783f9d2e-3812-4a49-84e1-dc6461872ac1');\n",
              "        const dataTable =\n",
              "          await google.colab.kernel.invokeFunction('convertToInteractive',\n",
              "                                                    [key], {});\n",
              "        if (!dataTable) return;\n",
              "\n",
              "        const docLinkHtml = 'Like what you see? Visit the ' +\n",
              "          '<a target=\"_blank\" href=https://colab.research.google.com/notebooks/data_table.ipynb>data table notebook</a>'\n",
              "          + ' to learn more about interactive tables.';\n",
              "        element.innerHTML = '';\n",
              "        dataTable['output_type'] = 'display_data';\n",
              "        await google.colab.output.renderOutput(dataTable, element);\n",
              "        const docLink = document.createElement('div');\n",
              "        docLink.innerHTML = docLinkHtml;\n",
              "        element.appendChild(docLink);\n",
              "      }\n",
              "    </script>\n",
              "  </div>\n",
              "\n",
              "\n",
              "<div id=\"df-5bbbf660-79c8-46b7-b7e1-37f076bf2f67\">\n",
              "  <button class=\"colab-df-quickchart\" onclick=\"quickchart('df-5bbbf660-79c8-46b7-b7e1-37f076bf2f67')\"\n",
              "            title=\"Suggest charts\"\n",
              "            style=\"display:none;\">\n",
              "\n",
              "<svg xmlns=\"http://www.w3.org/2000/svg\" height=\"24px\"viewBox=\"0 0 24 24\"\n",
              "     width=\"24px\">\n",
              "    <g>\n",
              "        <path d=\"M19 3H5c-1.1 0-2 .9-2 2v14c0 1.1.9 2 2 2h14c1.1 0 2-.9 2-2V5c0-1.1-.9-2-2-2zM9 17H7v-7h2v7zm4 0h-2V7h2v10zm4 0h-2v-4h2v4z\"/>\n",
              "    </g>\n",
              "</svg>\n",
              "  </button>\n",
              "\n",
              "<style>\n",
              "  .colab-df-quickchart {\n",
              "      --bg-color: #E8F0FE;\n",
              "      --fill-color: #1967D2;\n",
              "      --hover-bg-color: #E2EBFA;\n",
              "      --hover-fill-color: #174EA6;\n",
              "      --disabled-fill-color: #AAA;\n",
              "      --disabled-bg-color: #DDD;\n",
              "  }\n",
              "\n",
              "  [theme=dark] .colab-df-quickchart {\n",
              "      --bg-color: #3B4455;\n",
              "      --fill-color: #D2E3FC;\n",
              "      --hover-bg-color: #434B5C;\n",
              "      --hover-fill-color: #FFFFFF;\n",
              "      --disabled-bg-color: #3B4455;\n",
              "      --disabled-fill-color: #666;\n",
              "  }\n",
              "\n",
              "  .colab-df-quickchart {\n",
              "    background-color: var(--bg-color);\n",
              "    border: none;\n",
              "    border-radius: 50%;\n",
              "    cursor: pointer;\n",
              "    display: none;\n",
              "    fill: var(--fill-color);\n",
              "    height: 32px;\n",
              "    padding: 0;\n",
              "    width: 32px;\n",
              "  }\n",
              "\n",
              "  .colab-df-quickchart:hover {\n",
              "    background-color: var(--hover-bg-color);\n",
              "    box-shadow: 0 1px 2px rgba(60, 64, 67, 0.3), 0 1px 3px 1px rgba(60, 64, 67, 0.15);\n",
              "    fill: var(--button-hover-fill-color);\n",
              "  }\n",
              "\n",
              "  .colab-df-quickchart-complete:disabled,\n",
              "  .colab-df-quickchart-complete:disabled:hover {\n",
              "    background-color: var(--disabled-bg-color);\n",
              "    fill: var(--disabled-fill-color);\n",
              "    box-shadow: none;\n",
              "  }\n",
              "\n",
              "  .colab-df-spinner {\n",
              "    border: 2px solid var(--fill-color);\n",
              "    border-color: transparent;\n",
              "    border-bottom-color: var(--fill-color);\n",
              "    animation:\n",
              "      spin 1s steps(1) infinite;\n",
              "  }\n",
              "\n",
              "  @keyframes spin {\n",
              "    0% {\n",
              "      border-color: transparent;\n",
              "      border-bottom-color: var(--fill-color);\n",
              "      border-left-color: var(--fill-color);\n",
              "    }\n",
              "    20% {\n",
              "      border-color: transparent;\n",
              "      border-left-color: var(--fill-color);\n",
              "      border-top-color: var(--fill-color);\n",
              "    }\n",
              "    30% {\n",
              "      border-color: transparent;\n",
              "      border-left-color: var(--fill-color);\n",
              "      border-top-color: var(--fill-color);\n",
              "      border-right-color: var(--fill-color);\n",
              "    }\n",
              "    40% {\n",
              "      border-color: transparent;\n",
              "      border-right-color: var(--fill-color);\n",
              "      border-top-color: var(--fill-color);\n",
              "    }\n",
              "    60% {\n",
              "      border-color: transparent;\n",
              "      border-right-color: var(--fill-color);\n",
              "    }\n",
              "    80% {\n",
              "      border-color: transparent;\n",
              "      border-right-color: var(--fill-color);\n",
              "      border-bottom-color: var(--fill-color);\n",
              "    }\n",
              "    90% {\n",
              "      border-color: transparent;\n",
              "      border-bottom-color: var(--fill-color);\n",
              "    }\n",
              "  }\n",
              "</style>\n",
              "\n",
              "  <script>\n",
              "    async function quickchart(key) {\n",
              "      const quickchartButtonEl =\n",
              "        document.querySelector('#' + key + ' button');\n",
              "      quickchartButtonEl.disabled = true;  // To prevent multiple clicks.\n",
              "      quickchartButtonEl.classList.add('colab-df-spinner');\n",
              "      try {\n",
              "        const charts = await google.colab.kernel.invokeFunction(\n",
              "            'suggestCharts', [key], {});\n",
              "      } catch (error) {\n",
              "        console.error('Error during call to suggestCharts:', error);\n",
              "      }\n",
              "      quickchartButtonEl.classList.remove('colab-df-spinner');\n",
              "      quickchartButtonEl.classList.add('colab-df-quickchart-complete');\n",
              "    }\n",
              "    (() => {\n",
              "      let quickchartButtonEl =\n",
              "        document.querySelector('#df-5bbbf660-79c8-46b7-b7e1-37f076bf2f67 button');\n",
              "      quickchartButtonEl.style.display =\n",
              "        google.colab.kernel.accessAllowed ? 'block' : 'none';\n",
              "    })();\n",
              "  </script>\n",
              "</div>\n",
              "    </div>\n",
              "  </div>\n"
            ]
          },
          "metadata": {},
          "execution_count": 27
        }
      ]
    },
    {
      "cell_type": "markdown",
      "source": [
        "#### Plot the percentage of the instances"
      ],
      "metadata": {
        "id": "vRRzVKIo39rm"
      }
    },
    {
      "cell_type": "code",
      "source": [
        "# Check the output class is balanced\n",
        "abalone_labels = data_abalone['Type']\n",
        "\n",
        "plt.figure(figsize=(10, 6))\n",
        "sns.countplot(x=abalone_labels)\n",
        "plt.title('Distribution of class label')\n",
        "plt.xlabel('Abalone')\n",
        "plt.ylabel('Frequency')\n",
        "\n",
        "# save as graphic\n",
        "plt.savefig('abalone-classes.png')\n"
      ],
      "metadata": {
        "colab": {
          "base_uri": "https://localhost:8080/",
          "height": 482
        },
        "id": "yq-_zOJu3-Sr",
        "outputId": "557ca895-cd69-4b42-b9af-5314e231f3aa"
      },
      "execution_count": 25,
      "outputs": [
        {
          "output_type": "display_data",
          "data": {
            "text/plain": [
              "<Figure size 1000x600 with 1 Axes>"
            ],
            "image/png": "[encoded data removed]"
          },
          "metadata": {}
        }
      ]
    },
    {
      "cell_type": "markdown",
      "source": [
        "#### Dataset split into training & test set"
      ],
      "metadata": {
        "id": "U83DY2IC3rvY"
      }
    },
    {
      "cell_type": "code",
      "source": [
        "X = data_abalone.iloc[:, 1:].values\n",
        "y = data_abalone.iloc[:, 0].values\n",
        "\n",
        "X_train, X_test, y_train, y_test = train_test_split(X, y, test_size = 0.3)"
      ],
      "metadata": {
        "id": "ZxWO6bhowSfw"
      },
      "execution_count": 28,
      "outputs": []
    },
    {
      "cell_type": "code",
      "source": [
        "sc = StandardScaler()\n",
        "X_train = sc.fit_transform(X_train)\n",
        "X_test = sc.transform(X_test)"
      ],
      "metadata": {
        "id": "6VjPNuwawpfg"
      },
      "execution_count": 29,
      "outputs": []
    },
    {
      "cell_type": "markdown",
      "source": [
        "#### Train and test 4 different classifiers"
      ],
      "metadata": {
        "id": "xDSmVlbI9Hyl"
      }
    },
    {
      "cell_type": "markdown",
      "source": [
        "##### Classifier 1 - Base-DT"
      ],
      "metadata": {
        "id": "XyL9UsKq2tsv"
      }
    },
    {
      "cell_type": "code",
      "source": [
        "from sklearn.tree import DecisionTreeClassifier\n",
        "\n",
        "# Base Decision Tree\n",
        "classifier_1 = DecisionTreeClassifier(max_depth=3)\n",
        "classifier_1.fit(X_train, y_train)"
      ],
      "metadata": {
        "colab": {
          "base_uri": "https://localhost:8080/",
          "height": 75
        },
        "id": "C0cUxRm82tD7",
        "outputId": "6f9da345-267d-497d-f3f8-652ef5c628e5"
      },
      "execution_count": 30,
      "outputs": [
        {
          "output_type": "execute_result",
          "data": {
            "text/plain": [
              "DecisionTreeClassifier(max_depth=3)"
            ],
            "text/html": [
              "<style>#sk-container-id-2 {color: black;background-color: white;}#sk-container-id-2 pre{padding: 0;}#sk-container-id-2 div.sk-toggleable {background-color: white;}#sk-container-id-2 label.sk-toggleable__label {cursor: pointer;display: block;width: 100%;margin-bottom: 0;padding: 0.3em;box-sizing: border-box;text-align: center;}#sk-container-id-2 label.sk-toggleable__label-arrow:before {content: \"▸\";float: left;margin-right: 0.25em;color: #696969;}#sk-container-id-2 label.sk-toggleable__label-arrow:hover:before {color: black;}#sk-container-id-2 div.sk-estimator:hover label.sk-toggleable__label-arrow:before {color: black;}#sk-container-id-2 div.sk-toggleable__content {max-height: 0;max-width: 0;overflow: hidden;text-align: left;background-color: #f0f8ff;}#sk-container-id-2 div.sk-toggleable__content pre {margin: 0.2em;color: black;border-radius: 0.25em;background-color: #f0f8ff;}#sk-container-id-2 input.sk-toggleable__control:checked~div.sk-toggleable__content {max-height: 200px;max-width: 100%;overflow: auto;}#sk-container-id-2 input.sk-toggleable__control:checked~label.sk-toggleable__label-arrow:before {content: \"▾\";}#sk-container-id-2 div.sk-estimator input.sk-toggleable__control:checked~label.sk-toggleable__label {background-color: #d4ebff;}#sk-container-id-2 div.sk-label input.sk-toggleable__control:checked~label.sk-toggleable__label {background-color: #d4ebff;}#sk-container-id-2 input.sk-hidden--visually {border: 0;clip: rect(1px 1px 1px 1px);clip: rect(1px, 1px, 1px, 1px);height: 1px;margin: -1px;overflow: hidden;padding: 0;position: absolute;width: 1px;}#sk-container-id-2 div.sk-estimator {font-family: monospace;background-color: #f0f8ff;border: 1px dotted black;border-radius: 0.25em;box-sizing: border-box;margin-bottom: 0.5em;}#sk-container-id-2 div.sk-estimator:hover {background-color: #d4ebff;}#sk-container-id-2 div.sk-parallel-item::after {content: \"\";width: 100%;border-bottom: 1px solid gray;flex-grow: 1;}#sk-container-id-2 div.sk-label:hover label.sk-toggleable__label {background-color: #d4ebff;}#sk-container-id-2 div.sk-serial::before {content: \"\";position: absolute;border-left: 1px solid gray;box-sizing: border-box;top: 0;bottom: 0;left: 50%;z-index: 0;}#sk-container-id-2 div.sk-serial {display: flex;flex-direction: column;align-items: center;background-color: white;padding-right: 0.2em;padding-left: 0.2em;position: relative;}#sk-container-id-2 div.sk-item {position: relative;z-index: 1;}#sk-container-id-2 div.sk-parallel {display: flex;align-items: stretch;justify-content: center;background-color: white;position: relative;}#sk-container-id-2 div.sk-item::before, #sk-container-id-2 div.sk-parallel-item::before {content: \"\";position: absolute;border-left: 1px solid gray;box-sizing: border-box;top: 0;bottom: 0;left: 50%;z-index: -1;}#sk-container-id-2 div.sk-parallel-item {display: flex;flex-direction: column;z-index: 1;position: relative;background-color: white;}#sk-container-id-2 div.sk-parallel-item:first-child::after {align-self: flex-end;width: 50%;}#sk-container-id-2 div.sk-parallel-item:last-child::after {align-self: flex-start;width: 50%;}#sk-container-id-2 div.sk-parallel-item:only-child::after {width: 0;}#sk-container-id-2 div.sk-dashed-wrapped {border: 1px dashed gray;margin: 0 0.4em 0.5em 0.4em;box-sizing: border-box;padding-bottom: 0.4em;background-color: white;}#sk-container-id-2 div.sk-label label {font-family: monospace;font-weight: bold;display: inline-block;line-height: 1.2em;}#sk-container-id-2 div.sk-label-container {text-align: center;}#sk-container-id-2 div.sk-container {/* jupyter's `normalize.less` sets `[hidden] { display: none; }` but bootstrap.min.css set `[hidden] { display: none !important; }` so we also need the `!important` here to be able to override the default hidden behavior on the sphinx rendered scikit-learn.org. See: https://github.com/scikit-learn/scikit-learn/issues/21755 */display: inline-block !important;position: relative;}#sk-container-id-2 div.sk-text-repr-fallback {display: none;}</style><div id=\"sk-container-id-2\" class=\"sk-top-container\"><div class=\"sk-text-repr-fallback\"><pre>DecisionTreeClassifier(max_depth=3)</pre><b>In a Jupyter environment, please rerun this cell to show the HTML representation or trust the notebook. <br />On GitHub, the HTML representation is unable to render, please try loading this page with nbviewer.org.</b></div><div class=\"sk-container\" hidden><div class=\"sk-item\"><div class=\"sk-estimator sk-toggleable\"><input class=\"sk-toggleable__control sk-hidden--visually\" id=\"sk-estimator-id-2\" type=\"checkbox\" checked><label for=\"sk-estimator-id-2\" class=\"sk-toggleable__label sk-toggleable__label-arrow\">DecisionTreeClassifier</label><div class=\"sk-toggleable__content\"><pre>DecisionTreeClassifier(max_depth=3)</pre></div></div></div></div></div>"
            ]
          },
          "metadata": {},
          "execution_count": 30
        }
      ]
    },
    {
      "cell_type": "code",
      "source": [
        "abalone_class = data_abalone.columns[0]\n",
        "abalone_features = list(data_abalone.columns[1:])"
      ],
      "metadata": {
        "id": "dGLPS-XQ29an"
      },
      "execution_count": 31,
      "outputs": []
    },
    {
      "cell_type": "code",
      "source": [
        "dot_data = tree.export_graphviz(classifier_1,\n",
        "                feature_names=abalone_features,\n",
        "                class_names=abalone_class,\n",
        "                filled=True, rounded=True,\n",
        "                special_characters=True)\n",
        "\n",
        "graph = graphviz.Source(dot_data)\n",
        "graph"
      ],
      "metadata": {
        "id": "8tgSldCH5xU1",
        "colab": {
          "base_uri": "https://localhost:8080/",
          "height": 618
        },
        "outputId": "3fb3d9b8-d0d4-4ec3-d7dc-3903dd1e7c3d"
      },
      "execution_count": 32,
      "outputs": [
        {
          "output_type": "execute_result",
          "data": {
            "image/svg+xml": "<?xml version=\"1.0\" encoding=\"UTF-8\" standalone=\"no\"?>\n<!DOCTYPE svg PUBLIC \"-//W3C//DTD SVG 1.1//EN\"\n \"http://www.w3.org/Graphics/SVG/1.1/DTD/svg11.dtd\">\n<!-- Generated by graphviz version 2.43.0 (0)\n -->\n<!-- Title: Tree Pages: 1 -->\n<svg width=\"1254pt\" height=\"433pt\"\n viewBox=\"0.00 0.00 1254.00 433.00\" xmlns=\"http://www.w3.org/2000/svg\" xmlns:xlink=\"http://www.w3.org/1999/xlink\">\n<g id=\"graph0\" class=\"graph\" transform=\"scale(1 1) rotate(0) translate(4 429)\">\n<title>Tree</title>\n<polygon fill=\"white\" stroke=\"transparent\" points=\"-4,4 -4,-429 1250,-429 1250,4 -4,4\"/>\n<!-- 0 -->\n<g id=\"node1\" class=\"node\">\n<title>0</title>\n<path fill=\"#f5effd\" stroke=\"black\" d=\"M676,-425C676,-425 538,-425 538,-425 532,-425 526,-419 526,-413 526,-413 526,-354 526,-354 526,-348 532,-342 538,-342 538,-342 676,-342 676,-342 682,-342 688,-348 688,-354 688,-354 688,-413 688,-413 688,-419 682,-425 676,-425\"/>\n<text text-anchor=\"start\" x=\"536.5\" y=\"-409.8\" font-family=\"Helvetica,sans-Serif\" font-size=\"14.00\">VisceraWeight ≤ &#45;0.463</text>\n<text text-anchor=\"start\" x=\"571.5\" y=\"-394.8\" font-family=\"Helvetica,sans-Serif\" font-size=\"14.00\">gini = 0.665</text>\n<text text-anchor=\"start\" x=\"558.5\" y=\"-379.8\" font-family=\"Helvetica,sans-Serif\" font-size=\"14.00\">samples = 2923</text>\n<text text-anchor=\"start\" x=\"534\" y=\"-364.8\" font-family=\"Helvetica,sans-Serif\" font-size=\"14.00\">value = [920, 923, 1080]</text>\n<text text-anchor=\"start\" x=\"579.5\" y=\"-349.8\" font-family=\"Helvetica,sans-Serif\" font-size=\"14.00\">class = p</text>\n</g>\n<!-- 1 -->\n<g id=\"node2\" class=\"node\">\n<title>1</title>\n<path fill=\"#8df0b6\" stroke=\"black\" d=\"M524.5,-306C524.5,-306 393.5,-306 393.5,-306 387.5,-306 381.5,-300 381.5,-294 381.5,-294 381.5,-235 381.5,-235 381.5,-229 387.5,-223 393.5,-223 393.5,-223 524.5,-223 524.5,-223 530.5,-223 536.5,-229 536.5,-235 536.5,-235 536.5,-294 536.5,-294 536.5,-300 530.5,-306 524.5,-306\"/>\n<text text-anchor=\"start\" x=\"415\" y=\"-290.8\" font-family=\"Helvetica,sans-Serif\" font-size=\"14.00\">Rings ≤ &#45;0.456</text>\n<text text-anchor=\"start\" x=\"423.5\" y=\"-275.8\" font-family=\"Helvetica,sans-Serif\" font-size=\"14.00\">gini = 0.502</text>\n<text text-anchor=\"start\" x=\"410.5\" y=\"-260.8\" font-family=\"Helvetica,sans-Serif\" font-size=\"14.00\">samples = 1052</text>\n<text text-anchor=\"start\" x=\"389.5\" y=\"-245.8\" font-family=\"Helvetica,sans-Serif\" font-size=\"14.00\">value = [144, 697, 211]</text>\n<text text-anchor=\"start\" x=\"432\" y=\"-230.8\" font-family=\"Helvetica,sans-Serif\" font-size=\"14.00\">class = y</text>\n</g>\n<!-- 0&#45;&gt;1 -->\n<g id=\"edge1\" class=\"edge\">\n<title>0&#45;&gt;1</title>\n<path fill=\"none\" stroke=\"black\" d=\"M555.65,-341.91C543.6,-332.38 530.66,-322.15 518.29,-312.37\"/>\n<polygon fill=\"black\" stroke=\"black\" points=\"520.27,-309.48 510.26,-306.02 515.93,-314.97 520.27,-309.48\"/>\n<text text-anchor=\"middle\" x=\"513.16\" y=\"-327.15\" font-family=\"Helvetica,sans-Serif\" font-size=\"14.00\">True</text>\n</g>\n<!-- 8 -->\n<g id=\"node9\" class=\"node\">\n<title>8</title>\n<path fill=\"#f4eefd\" stroke=\"black\" d=\"M833.5,-306C833.5,-306 702.5,-306 702.5,-306 696.5,-306 690.5,-300 690.5,-294 690.5,-294 690.5,-235 690.5,-235 690.5,-229 696.5,-223 702.5,-223 702.5,-223 833.5,-223 833.5,-223 839.5,-223 845.5,-229 845.5,-235 845.5,-235 845.5,-294 845.5,-294 845.5,-300 839.5,-306 833.5,-306\"/>\n<text text-anchor=\"start\" x=\"703\" y=\"-290.8\" font-family=\"Helvetica,sans-Serif\" font-size=\"14.00\">WholeWeight ≤ 0.088</text>\n<text text-anchor=\"start\" x=\"732.5\" y=\"-275.8\" font-family=\"Helvetica,sans-Serif\" font-size=\"14.00\">gini = 0.598</text>\n<text text-anchor=\"start\" x=\"719.5\" y=\"-260.8\" font-family=\"Helvetica,sans-Serif\" font-size=\"14.00\">samples = 1871</text>\n<text text-anchor=\"start\" x=\"698.5\" y=\"-245.8\" font-family=\"Helvetica,sans-Serif\" font-size=\"14.00\">value = [776, 226, 869]</text>\n<text text-anchor=\"start\" x=\"740.5\" y=\"-230.8\" font-family=\"Helvetica,sans-Serif\" font-size=\"14.00\">class = p</text>\n</g>\n<!-- 0&#45;&gt;8 -->\n<g id=\"edge8\" class=\"edge\">\n<title>0&#45;&gt;8</title>\n<path fill=\"none\" stroke=\"black\" d=\"M662.86,-341.91C676.1,-332.29 690.32,-321.95 703.89,-312.09\"/>\n<polygon fill=\"black\" stroke=\"black\" points=\"706.21,-314.73 712.24,-306.02 702.09,-309.07 706.21,-314.73\"/>\n<text text-anchor=\"middle\" x=\"708.33\" y=\"-327.01\" font-family=\"Helvetica,sans-Serif\" font-size=\"14.00\">False</text>\n</g>\n<!-- 2 -->\n<g id=\"node3\" class=\"node\">\n<title>2</title>\n<path fill=\"#68eb9f\" stroke=\"black\" d=\"M294.5,-187C294.5,-187 161.5,-187 161.5,-187 155.5,-187 149.5,-181 149.5,-175 149.5,-175 149.5,-116 149.5,-116 149.5,-110 155.5,-104 161.5,-104 161.5,-104 294.5,-104 294.5,-104 300.5,-104 306.5,-110 306.5,-116 306.5,-116 306.5,-175 306.5,-175 306.5,-181 300.5,-187 294.5,-187\"/>\n<text text-anchor=\"start\" x=\"157.5\" y=\"-171.8\" font-family=\"Helvetica,sans-Serif\" font-size=\"14.00\">VisceraWeight ≤ &#45;0.865</text>\n<text text-anchor=\"start\" x=\"192.5\" y=\"-156.8\" font-family=\"Helvetica,sans-Serif\" font-size=\"14.00\">gini = 0.347</text>\n<text text-anchor=\"start\" x=\"183\" y=\"-141.8\" font-family=\"Helvetica,sans-Serif\" font-size=\"14.00\">samples = 732</text>\n<text text-anchor=\"start\" x=\"166\" y=\"-126.8\" font-family=\"Helvetica,sans-Serif\" font-size=\"14.00\">value = [52, 581, 99]</text>\n<text text-anchor=\"start\" x=\"201\" y=\"-111.8\" font-family=\"Helvetica,sans-Serif\" font-size=\"14.00\">class = y</text>\n</g>\n<!-- 1&#45;&gt;2 -->\n<g id=\"edge2\" class=\"edge\">\n<title>1&#45;&gt;2</title>\n<path fill=\"none\" stroke=\"black\" d=\"M381.44,-224.22C360.34,-213.53 337.33,-201.88 315.71,-190.92\"/>\n<polygon fill=\"black\" stroke=\"black\" points=\"317.04,-187.68 306.54,-186.28 313.88,-193.92 317.04,-187.68\"/>\n</g>\n<!-- 5 -->\n<g id=\"node6\" class=\"node\">\n<title>5</title>\n<path fill=\"#fbfefd\" stroke=\"black\" d=\"M520.5,-187C520.5,-187 397.5,-187 397.5,-187 391.5,-187 385.5,-181 385.5,-175 385.5,-175 385.5,-116 385.5,-116 385.5,-110 391.5,-104 397.5,-104 397.5,-104 520.5,-104 520.5,-104 526.5,-104 532.5,-110 532.5,-116 532.5,-116 532.5,-175 532.5,-175 532.5,-181 526.5,-187 520.5,-187\"/>\n<text text-anchor=\"start\" x=\"415\" y=\"-171.8\" font-family=\"Helvetica,sans-Serif\" font-size=\"14.00\">Rings ≤ &#45;0.148</text>\n<text text-anchor=\"start\" x=\"423.5\" y=\"-156.8\" font-family=\"Helvetica,sans-Serif\" font-size=\"14.00\">gini = 0.663</text>\n<text text-anchor=\"start\" x=\"414\" y=\"-141.8\" font-family=\"Helvetica,sans-Serif\" font-size=\"14.00\">samples = 320</text>\n<text text-anchor=\"start\" x=\"393.5\" y=\"-126.8\" font-family=\"Helvetica,sans-Serif\" font-size=\"14.00\">value = [92, 116, 112]</text>\n<text text-anchor=\"start\" x=\"432\" y=\"-111.8\" font-family=\"Helvetica,sans-Serif\" font-size=\"14.00\">class = y</text>\n</g>\n<!-- 1&#45;&gt;5 -->\n<g id=\"edge5\" class=\"edge\">\n<title>1&#45;&gt;5</title>\n<path fill=\"none\" stroke=\"black\" d=\"M459,-222.91C459,-214.65 459,-205.86 459,-197.3\"/>\n<polygon fill=\"black\" stroke=\"black\" points=\"462.5,-197.02 459,-187.02 455.5,-197.02 462.5,-197.02\"/>\n</g>\n<!-- 3 -->\n<g id=\"node4\" class=\"node\">\n<title>3</title>\n<path fill=\"#5ae996\" stroke=\"black\" d=\"M128,-68C128,-68 12,-68 12,-68 6,-68 0,-62 0,-56 0,-56 0,-12 0,-12 0,-6 6,0 12,0 12,0 128,0 128,0 134,0 140,-6 140,-12 140,-12 140,-56 140,-56 140,-62 134,-68 128,-68\"/>\n<text text-anchor=\"start\" x=\"34.5\" y=\"-52.8\" font-family=\"Helvetica,sans-Serif\" font-size=\"14.00\">gini = 0.265</text>\n<text text-anchor=\"start\" x=\"25\" y=\"-37.8\" font-family=\"Helvetica,sans-Serif\" font-size=\"14.00\">samples = 519</text>\n<text text-anchor=\"start\" x=\"8\" y=\"-22.8\" font-family=\"Helvetica,sans-Serif\" font-size=\"14.00\">value = [23, 441, 55]</text>\n<text text-anchor=\"start\" x=\"43\" y=\"-7.8\" font-family=\"Helvetica,sans-Serif\" font-size=\"14.00\">class = y</text>\n</g>\n<!-- 2&#45;&gt;3 -->\n<g id=\"edge3\" class=\"edge\">\n<title>2&#45;&gt;3</title>\n<path fill=\"none\" stroke=\"black\" d=\"M169.17,-103.73C155.14,-94.01 140.21,-83.66 126.31,-74.02\"/>\n<polygon fill=\"black\" stroke=\"black\" points=\"128.01,-70.94 117.8,-68.13 124.02,-76.7 128.01,-70.94\"/>\n</g>\n<!-- 4 -->\n<g id=\"node5\" class=\"node\">\n<title>4</title>\n<path fill=\"#8ff0b7\" stroke=\"black\" d=\"M286,-68C286,-68 170,-68 170,-68 164,-68 158,-62 158,-56 158,-56 158,-12 158,-12 158,-6 164,0 170,0 170,0 286,0 286,0 292,0 298,-6 298,-12 298,-12 298,-56 298,-56 298,-62 292,-68 286,-68\"/>\n<text text-anchor=\"start\" x=\"192.5\" y=\"-52.8\" font-family=\"Helvetica,sans-Serif\" font-size=\"14.00\">gini = 0.507</text>\n<text text-anchor=\"start\" x=\"183\" y=\"-37.8\" font-family=\"Helvetica,sans-Serif\" font-size=\"14.00\">samples = 213</text>\n<text text-anchor=\"start\" x=\"166\" y=\"-22.8\" font-family=\"Helvetica,sans-Serif\" font-size=\"14.00\">value = [29, 140, 44]</text>\n<text text-anchor=\"start\" x=\"201\" y=\"-7.8\" font-family=\"Helvetica,sans-Serif\" font-size=\"14.00\">class = y</text>\n</g>\n<!-- 2&#45;&gt;4 -->\n<g id=\"edge4\" class=\"edge\">\n<title>2&#45;&gt;4</title>\n<path fill=\"none\" stroke=\"black\" d=\"M228,-103.73C228,-95.52 228,-86.86 228,-78.56\"/>\n<polygon fill=\"black\" stroke=\"black\" points=\"231.5,-78.3 228,-68.3 224.5,-78.3 231.5,-78.3\"/>\n</g>\n<!-- 6 -->\n<g id=\"node7\" class=\"node\">\n<title>6</title>\n<path fill=\"#cdf8df\" stroke=\"black\" d=\"M436,-68C436,-68 328,-68 328,-68 322,-68 316,-62 316,-56 316,-56 316,-12 316,-12 316,-6 322,0 328,0 328,0 436,0 436,0 442,0 448,-6 448,-12 448,-12 448,-56 448,-56 448,-62 442,-68 436,-68\"/>\n<text text-anchor=\"start\" x=\"346.5\" y=\"-52.8\" font-family=\"Helvetica,sans-Serif\" font-size=\"14.00\">gini = 0.607</text>\n<text text-anchor=\"start\" x=\"337\" y=\"-37.8\" font-family=\"Helvetica,sans-Serif\" font-size=\"14.00\">samples = 119</text>\n<text text-anchor=\"start\" x=\"324\" y=\"-22.8\" font-family=\"Helvetica,sans-Serif\" font-size=\"14.00\">value = [19, 60, 40]</text>\n<text text-anchor=\"start\" x=\"355\" y=\"-7.8\" font-family=\"Helvetica,sans-Serif\" font-size=\"14.00\">class = y</text>\n</g>\n<!-- 5&#45;&gt;6 -->\n<g id=\"edge6\" class=\"edge\">\n<title>5&#45;&gt;6</title>\n<path fill=\"none\" stroke=\"black\" d=\"M430.33,-103.73C424.11,-94.88 417.52,-85.51 411.27,-76.63\"/>\n<polygon fill=\"black\" stroke=\"black\" points=\"414.03,-74.47 405.42,-68.3 408.31,-78.49 414.03,-74.47\"/>\n</g>\n<!-- 7 -->\n<g id=\"node8\" class=\"node\">\n<title>7</title>\n<path fill=\"#fffefd\" stroke=\"black\" d=\"M586,-68C586,-68 478,-68 478,-68 472,-68 466,-62 466,-56 466,-56 466,-12 466,-12 466,-6 472,0 478,0 478,0 586,0 586,0 592,0 598,-6 598,-12 598,-12 598,-56 598,-56 598,-62 592,-68 586,-68\"/>\n<text text-anchor=\"start\" x=\"496.5\" y=\"-52.8\" font-family=\"Helvetica,sans-Serif\" font-size=\"14.00\">gini = 0.662</text>\n<text text-anchor=\"start\" x=\"487\" y=\"-37.8\" font-family=\"Helvetica,sans-Serif\" font-size=\"14.00\">samples = 201</text>\n<text text-anchor=\"start\" x=\"474\" y=\"-22.8\" font-family=\"Helvetica,sans-Serif\" font-size=\"14.00\">value = [73, 56, 72]</text>\n<text text-anchor=\"start\" x=\"504.5\" y=\"-7.8\" font-family=\"Helvetica,sans-Serif\" font-size=\"14.00\">class = T</text>\n</g>\n<!-- 5&#45;&gt;7 -->\n<g id=\"edge7\" class=\"edge\">\n<title>5&#45;&gt;7</title>\n<path fill=\"none\" stroke=\"black\" d=\"M486.18,-103.73C492.08,-94.88 498.33,-85.51 504.25,-76.63\"/>\n<polygon fill=\"black\" stroke=\"black\" points=\"507.17,-78.56 509.8,-68.3 501.34,-74.68 507.17,-78.56\"/>\n</g>\n<!-- 9 -->\n<g id=\"node10\" class=\"node\">\n<title>9</title>\n<path fill=\"#f3ecfc\" stroke=\"black\" d=\"M833.5,-187C833.5,-187 702.5,-187 702.5,-187 696.5,-187 690.5,-181 690.5,-175 690.5,-175 690.5,-116 690.5,-116 690.5,-110 696.5,-104 702.5,-104 702.5,-104 833.5,-104 833.5,-104 839.5,-104 845.5,-110 845.5,-116 845.5,-116 845.5,-175 845.5,-175 845.5,-181 839.5,-187 833.5,-187\"/>\n<text text-anchor=\"start\" x=\"726\" y=\"-171.8\" font-family=\"Helvetica,sans-Serif\" font-size=\"14.00\">Rings ≤ 0.467</text>\n<text text-anchor=\"start\" x=\"736\" y=\"-156.8\" font-family=\"Helvetica,sans-Serif\" font-size=\"14.00\">gini = 0.66</text>\n<text text-anchor=\"start\" x=\"723\" y=\"-141.8\" font-family=\"Helvetica,sans-Serif\" font-size=\"14.00\">samples = 573</text>\n<text text-anchor=\"start\" x=\"698.5\" y=\"-126.8\" font-family=\"Helvetica,sans-Serif\" font-size=\"14.00\">value = [189, 158, 226]</text>\n<text text-anchor=\"start\" x=\"740.5\" y=\"-111.8\" font-family=\"Helvetica,sans-Serif\" font-size=\"14.00\">class = p</text>\n</g>\n<!-- 8&#45;&gt;9 -->\n<g id=\"edge9\" class=\"edge\">\n<title>8&#45;&gt;9</title>\n<path fill=\"none\" stroke=\"black\" d=\"M768,-222.91C768,-214.65 768,-205.86 768,-197.3\"/>\n<polygon fill=\"black\" stroke=\"black\" points=\"771.5,-197.02 768,-187.02 764.5,-197.02 771.5,-197.02\"/>\n</g>\n<!-- 12 -->\n<g id=\"node13\" class=\"node\">\n<title>12</title>\n<path fill=\"#f5effd\" stroke=\"black\" d=\"M1078,-187C1078,-187 950,-187 950,-187 944,-187 938,-181 938,-175 938,-175 938,-116 938,-116 938,-110 944,-104 950,-104 950,-104 1078,-104 1078,-104 1084,-104 1090,-110 1090,-116 1090,-116 1090,-175 1090,-175 1090,-181 1084,-187 1078,-187\"/>\n<text text-anchor=\"start\" x=\"946\" y=\"-171.8\" font-family=\"Helvetica,sans-Serif\" font-size=\"14.00\">VisceraWeight ≤ 1.068</text>\n<text text-anchor=\"start\" x=\"978.5\" y=\"-156.8\" font-family=\"Helvetica,sans-Serif\" font-size=\"14.00\">gini = 0.547</text>\n<text text-anchor=\"start\" x=\"965.5\" y=\"-141.8\" font-family=\"Helvetica,sans-Serif\" font-size=\"14.00\">samples = 1298</text>\n<text text-anchor=\"start\" x=\"948.5\" y=\"-126.8\" font-family=\"Helvetica,sans-Serif\" font-size=\"14.00\">value = [587, 68, 643]</text>\n<text text-anchor=\"start\" x=\"986.5\" y=\"-111.8\" font-family=\"Helvetica,sans-Serif\" font-size=\"14.00\">class = p</text>\n</g>\n<!-- 8&#45;&gt;12 -->\n<g id=\"edge12\" class=\"edge\">\n<title>8&#45;&gt;12</title>\n<path fill=\"none\" stroke=\"black\" d=\"M845.84,-226.48C872.27,-213.91 901.93,-199.8 928.9,-186.98\"/>\n<polygon fill=\"black\" stroke=\"black\" points=\"930.41,-190.13 937.93,-182.68 927.4,-183.81 930.41,-190.13\"/>\n</g>\n<!-- 10 -->\n<g id=\"node11\" class=\"node\">\n<title>10</title>\n<path fill=\"#f5effd\" stroke=\"black\" d=\"M759.5,-68C759.5,-68 628.5,-68 628.5,-68 622.5,-68 616.5,-62 616.5,-56 616.5,-56 616.5,-12 616.5,-12 616.5,-6 622.5,0 628.5,0 628.5,0 759.5,0 759.5,0 765.5,0 771.5,-6 771.5,-12 771.5,-12 771.5,-56 771.5,-56 771.5,-62 765.5,-68 759.5,-68\"/>\n<text text-anchor=\"start\" x=\"658.5\" y=\"-52.8\" font-family=\"Helvetica,sans-Serif\" font-size=\"14.00\">gini = 0.662</text>\n<text text-anchor=\"start\" x=\"649\" y=\"-37.8\" font-family=\"Helvetica,sans-Serif\" font-size=\"14.00\">samples = 420</text>\n<text text-anchor=\"start\" x=\"624.5\" y=\"-22.8\" font-family=\"Helvetica,sans-Serif\" font-size=\"14.00\">value = [120, 139, 161]</text>\n<text text-anchor=\"start\" x=\"666.5\" y=\"-7.8\" font-family=\"Helvetica,sans-Serif\" font-size=\"14.00\">class = p</text>\n</g>\n<!-- 9&#45;&gt;10 -->\n<g id=\"edge10\" class=\"edge\">\n<title>9&#45;&gt;10</title>\n<path fill=\"none\" stroke=\"black\" d=\"M740.45,-103.73C734.47,-94.88 728.13,-85.51 722.13,-76.63\"/>\n<polygon fill=\"black\" stroke=\"black\" points=\"725,-74.63 716.5,-68.3 719.2,-78.54 725,-74.63\"/>\n</g>\n<!-- 11 -->\n<g id=\"node12\" class=\"node\">\n<title>11</title>\n<path fill=\"#fef9f6\" stroke=\"black\" d=\"M910,-68C910,-68 802,-68 802,-68 796,-68 790,-62 790,-56 790,-56 790,-12 790,-12 790,-6 796,0 802,0 802,0 910,0 910,0 916,0 922,-6 922,-12 922,-12 922,-56 922,-56 922,-62 916,-68 910,-68\"/>\n<text text-anchor=\"start\" x=\"820.5\" y=\"-52.8\" font-family=\"Helvetica,sans-Serif\" font-size=\"14.00\">gini = 0.601</text>\n<text text-anchor=\"start\" x=\"811\" y=\"-37.8\" font-family=\"Helvetica,sans-Serif\" font-size=\"14.00\">samples = 153</text>\n<text text-anchor=\"start\" x=\"798\" y=\"-22.8\" font-family=\"Helvetica,sans-Serif\" font-size=\"14.00\">value = [69, 19, 65]</text>\n<text text-anchor=\"start\" x=\"828.5\" y=\"-7.8\" font-family=\"Helvetica,sans-Serif\" font-size=\"14.00\">class = T</text>\n</g>\n<!-- 9&#45;&gt;11 -->\n<g id=\"edge11\" class=\"edge\">\n<title>9&#45;&gt;11</title>\n<path fill=\"none\" stroke=\"black\" d=\"M800.77,-103.73C807.95,-94.79 815.56,-85.32 822.76,-76.36\"/>\n<polygon fill=\"black\" stroke=\"black\" points=\"825.7,-78.29 829.24,-68.3 820.25,-73.9 825.7,-78.29\"/>\n</g>\n<!-- 13 -->\n<g id=\"node14\" class=\"node\">\n<title>13</title>\n<path fill=\"#e9ddfb\" stroke=\"black\" d=\"M1075.5,-68C1075.5,-68 952.5,-68 952.5,-68 946.5,-68 940.5,-62 940.5,-56 940.5,-56 940.5,-12 940.5,-12 940.5,-6 946.5,0 952.5,0 952.5,0 1075.5,0 1075.5,0 1081.5,0 1087.5,-6 1087.5,-12 1087.5,-12 1087.5,-56 1087.5,-56 1087.5,-62 1081.5,-68 1075.5,-68\"/>\n<text text-anchor=\"start\" x=\"978.5\" y=\"-52.8\" font-family=\"Helvetica,sans-Serif\" font-size=\"14.00\">gini = 0.559</text>\n<text text-anchor=\"start\" x=\"969\" y=\"-37.8\" font-family=\"Helvetica,sans-Serif\" font-size=\"14.00\">samples = 871</text>\n<text text-anchor=\"start\" x=\"948.5\" y=\"-22.8\" font-family=\"Helvetica,sans-Serif\" font-size=\"14.00\">value = [360, 63, 448]</text>\n<text text-anchor=\"start\" x=\"986.5\" y=\"-7.8\" font-family=\"Helvetica,sans-Serif\" font-size=\"14.00\">class = p</text>\n</g>\n<!-- 12&#45;&gt;13 -->\n<g id=\"edge13\" class=\"edge\">\n<title>12&#45;&gt;13</title>\n<path fill=\"none\" stroke=\"black\" d=\"M1014,-103.73C1014,-95.52 1014,-86.86 1014,-78.56\"/>\n<polygon fill=\"black\" stroke=\"black\" points=\"1017.5,-78.3 1014,-68.3 1010.5,-78.3 1017.5,-78.3\"/>\n</g>\n<!-- 14 -->\n<g id=\"node15\" class=\"node\">\n<title>14</title>\n<path fill=\"#fbeee4\" stroke=\"black\" d=\"M1234,-68C1234,-68 1118,-68 1118,-68 1112,-68 1106,-62 1106,-56 1106,-56 1106,-12 1106,-12 1106,-6 1112,0 1118,0 1118,0 1234,0 1234,0 1240,0 1246,-6 1246,-12 1246,-12 1246,-56 1246,-56 1246,-62 1240,-68 1234,-68\"/>\n<text text-anchor=\"start\" x=\"1140.5\" y=\"-52.8\" font-family=\"Helvetica,sans-Serif\" font-size=\"14.00\">gini = 0.509</text>\n<text text-anchor=\"start\" x=\"1131\" y=\"-37.8\" font-family=\"Helvetica,sans-Serif\" font-size=\"14.00\">samples = 427</text>\n<text text-anchor=\"start\" x=\"1114\" y=\"-22.8\" font-family=\"Helvetica,sans-Serif\" font-size=\"14.00\">value = [227, 5, 195]</text>\n<text text-anchor=\"start\" x=\"1148.5\" y=\"-7.8\" font-family=\"Helvetica,sans-Serif\" font-size=\"14.00\">class = T</text>\n</g>\n<!-- 12&#45;&gt;14 -->\n<g id=\"edge14\" class=\"edge\">\n<title>12&#45;&gt;14</title>\n<path fill=\"none\" stroke=\"black\" d=\"M1074.32,-103.73C1088.84,-93.92 1104.3,-83.46 1118.67,-73.75\"/>\n<polygon fill=\"black\" stroke=\"black\" points=\"1120.67,-76.62 1126.99,-68.13 1116.75,-70.83 1120.67,-76.62\"/>\n</g>\n</g>\n</svg>\n",
            "text/plain": [
              "<graphviz.sources.Source at 0x7e10dffbce50>"
            ]
          },
          "metadata": {},
          "execution_count": 32
        }
      ]
    },
    {
      "cell_type": "code",
      "source": [
        "# print to the output file\n",
        "print('**************************************************************', file = outputFile)\n",
        "print('(A) Classifier 1 - Base DT', file = outputFile)\n",
        "print(classifier_1, file = outputFile)\n",
        "print('\\n', file = outputFile)"
      ],
      "metadata": {
        "id": "sqRs0lp67Hmo"
      },
      "execution_count": 33,
      "outputs": []
    },
    {
      "cell_type": "code",
      "source": [
        "# print classification report\n",
        "y_pred = classifier_1.predict(X_test)\n",
        "confusion_mat= confusion_matrix(y_test, y_pred)\n",
        "\n",
        "print(classification_report(y_test, y_pred, target_names=['F', 'M', 'I']))\n",
        "print(\"confusion matrix\\n\",confusion_mat)\n",
        "\n",
        "# print the result to the output file\n",
        "confusion_matrix_result =np.array2string(confusion_mat)\n",
        "print(\"(B) Confusion Matrix\", file = outputFile)\n",
        "print(confusion_matrix_result, file = outputFile)\n",
        "print('\\n', file = outputFile)\n",
        "print('(C,D) Classification Report', file = outputFile)\n",
        "print(classification_report(y_test, y_pred, target_names = ['F', 'M', 'I']), file = outputFile)\n",
        "outputFile.flush()"
      ],
      "metadata": {
        "colab": {
          "base_uri": "https://localhost:8080/"
        },
        "id": "mDbdxqro7Hp4",
        "outputId": "cba64d8f-a6c2-49c0-c7ac-d6902cb8be53"
      },
      "execution_count": 34,
      "outputs": [
        {
          "output_type": "stream",
          "name": "stdout",
          "text": [
            "              precision    recall  f1-score   support\n",
            "\n",
            "           F       0.44      0.37      0.40       387\n",
            "           M       0.74      0.71      0.72       419\n",
            "           I       0.43      0.51      0.47       448\n",
            "\n",
            "    accuracy                           0.53      1254\n",
            "   macro avg       0.54      0.53      0.53      1254\n",
            "weighted avg       0.54      0.53      0.53      1254\n",
            "\n",
            "confusion matrix\n",
            " [[144  38 205]\n",
            " [ 31 296  92]\n",
            " [152  68 228]]\n"
          ]
        }
      ]
    },
    {
      "cell_type": "code",
      "source": [
        "# repeat training & prediction 5 times for classifier 1\n",
        "from sklearn.metrics import accuracy_score, f1_score\n",
        "\n",
        "accuracy_baseDT = np.zeros(5)\n",
        "macro_avg_baseDT = np.zeros(5)\n",
        "weighted_avg_baseDT = np.zeros(5)\n",
        "\n",
        "for i in range(5):\n",
        "  X_train, X_test, y_train, y_test = train_test_split(X, y, test_size = 0.3)\n",
        "  classifier_1.fit(X_train, y_train)\n",
        "  y_pred = classifier_1.predict(X_test)\n",
        "\n",
        "  # find the accuracy for each iteration and store the value\n",
        "  accuracy_baseDT[i] = accuracy_score(y_test, y_pred)\n",
        "  macro_avg_baseDT[i] = f1_score(y_test, y_pred, average='macro')\n",
        "  weighted_avg_baseDT[i] = f1_score(y_test, y_pred, average='weighted')\n",
        "\n",
        "# compute the average accuracy & variances\n",
        "print(f'accuracy_baseDT: {accuracy_baseDT}')\n",
        "Avg_accuracy = (np.sum(accuracy_baseDT))/5\n",
        "accuracy_variance = np.var(accuracy_baseDT)\n",
        "print(f'average accuracy: {Avg_accuracy:.4f}, variance: {accuracy_variance:.6f}')\n",
        "print()\n",
        "\n",
        "# compute the average macro-average F1 & the variance\n",
        "print(f'macro_avg_baseDT: {macro_avg_baseDT}')\n",
        "Avg_macro_avg = (np.sum(macro_avg_baseDT))/5\n",
        "f1_macro_variance = np.var(macro_avg_baseDT)\n",
        "print(f'average macro-average F1: {Avg_macro_avg:.4f}, variance: {f1_macro_variance:.6f}')\n",
        "print()\n",
        "\n",
        "# compute the average weighted-average F1 & the variance\n",
        "print(f'weighted_avg_baseDT: {weighted_avg_baseDT}')\n",
        "Avg_weighted_avg = (np.sum(weighted_avg_baseDT))/5\n",
        "f1_weighted_variance = np.var(weighted_avg_baseDT)\n",
        "print(f'average weighted-average F1: {Avg_weighted_avg:.4f}, variance: {f1_weighted_variance:.6f}')\n"
      ],
      "metadata": {
        "id": "YukiqSwdC21P",
        "outputId": "137ce3f0-e0a1-4bc8-ee32-098a0d14dd11",
        "colab": {
          "base_uri": "https://localhost:8080/"
        }
      },
      "execution_count": 35,
      "outputs": [
        {
          "output_type": "stream",
          "name": "stdout",
          "text": [
            "accuracy_baseDT: [0.55263158 0.51275917 0.52232855 0.53189793 0.52870813]\n",
            "average accuracy: 0.5297, variance: 0.000175\n",
            "\n",
            "macro_avg_baseDT: [0.50621304 0.42005321 0.48543894 0.50122769 0.52901735]\n",
            "average macro-average F1: 0.4884, variance: 0.001362\n",
            "\n",
            "weighted_avg_baseDT: [0.51415216 0.42424446 0.49219    0.50560394 0.52378012]\n",
            "average weighted-average F1: 0.4920, variance: 0.001255\n"
          ]
        }
      ]
    },
    {
      "cell_type": "code",
      "source": [
        "# print the performance result to outputfile\n",
        "print('\\n(E) The result after 5 times of train-test repetition:' ,file = outputFile)\n",
        "print(f'average accuracy: {Avg_accuracy:.4f}, variance: {accuracy_variance:.6f}', file = outputFile)\n",
        "print(f'average macro-average F1: {Avg_macro_avg:.4f}, variance: {f1_macro_variance:.6f}', file = outputFile)\n",
        "print(f'average weighted-average F1: {Avg_weighted_avg:.4f}, variance: {f1_weighted_variance:.6f}', file = outputFile)\n",
        "outputFile.flush()"
      ],
      "metadata": {
        "id": "6BXzFhCxZ8s1"
      },
      "execution_count": 36,
      "outputs": []
    },
    {
      "cell_type": "markdown",
      "source": [
        "##### Classifier 2 - Top-DT"
      ],
      "metadata": {
        "id": "ZbIYwUPH2zO6"
      }
    },
    {
      "cell_type": "code",
      "source": [
        "# Top Decision Tree - decision tree using gridsearch(hyperparameter search)\n",
        "from sklearn.model_selection import GridSearchCV\n",
        "\n",
        "parameters = {\n",
        "    'criterion': ['gini', 'entropy'],\n",
        "    'max_depth': [None, 3, 5],\n",
        "    'min_samples_split': [2, 5, 10]\n",
        "}\n",
        "\n",
        "classifier_2 = GridSearchCV(DecisionTreeClassifier(max_depth=3), parameters)\n",
        "classifier_2.fit(X_train, y_train)\n",
        "\n",
        "print(f'best parameters: {classifier_2.best_params_}')"
      ],
      "metadata": {
        "id": "msSsfbO7m2rW",
        "colab": {
          "base_uri": "https://localhost:8080/"
        },
        "outputId": "86219267-8ca1-47bc-9aa0-a0eb03c9cc31"
      },
      "execution_count": 37,
      "outputs": [
        {
          "output_type": "stream",
          "name": "stdout",
          "text": [
            "best parameters: {'criterion': 'gini', 'max_depth': 5, 'min_samples_split': 10}\n"
          ]
        }
      ]
    },
    {
      "cell_type": "code",
      "source": [
        "abalone_class = data_abalone.columns[0]\n",
        "abalone_features = list(data_abalone.columns[1:])"
      ],
      "metadata": {
        "id": "6AYbwpuhBO2m"
      },
      "execution_count": 38,
      "outputs": []
    },
    {
      "cell_type": "code",
      "source": [
        "from sklearn.tree import export_graphviz\n",
        "from IPython.display import display\n",
        "\n",
        "dot_data = export_graphviz(classifier_2.best_estimator_,\n",
        "                          feature_names=abalone_features,\n",
        "                          class_names=abalone_class,\n",
        "                          filled=True, rounded=True,\n",
        "                          special_characters=True)\n",
        "\n",
        "graph = graphviz.Source(dot_data)\n",
        "display(graph)"
      ],
      "metadata": {
        "id": "fGFf6Sbj8BW-",
        "outputId": "5041865f-c0f1-4838-d21c-992bc5d429af",
        "colab": {
          "base_uri": "https://localhost:8080/",
          "height": 936
        }
      },
      "execution_count": 39,
      "outputs": [
        {
          "output_type": "display_data",
          "data": {
            "image/svg+xml": "<?xml version=\"1.0\" encoding=\"UTF-8\" standalone=\"no\"?>\n<!DOCTYPE svg PUBLIC \"-//W3C//DTD SVG 1.1//EN\"\n \"http://www.w3.org/Graphics/SVG/1.1/DTD/svg11.dtd\">\n<!-- Generated by graphviz version 2.43.0 (0)\n -->\n<!-- Title: Tree Pages: 1 -->\n<svg width=\"3161pt\" height=\"671pt\"\n viewBox=\"0.00 0.00 3161.00 671.00\" xmlns=\"http://www.w3.org/2000/svg\" xmlns:xlink=\"http://www.w3.org/1999/xlink\">\n<g id=\"graph0\" class=\"graph\" transform=\"scale(1 1) rotate(0) translate(4 667)\">\n<title>Tree</title>\n<polygon fill=\"white\" stroke=\"transparent\" points=\"-4,4 -4,-667 3157,-667 3157,4 -4,4\"/>\n<!-- 0 -->\n<g id=\"node1\" class=\"node\">\n<title>0</title>\n<path fill=\"#f6f1fd\" stroke=\"black\" d=\"M1725,-663C1725,-663 1587,-663 1587,-663 1581,-663 1575,-657 1575,-651 1575,-651 1575,-592 1575,-592 1575,-586 1581,-580 1587,-580 1587,-580 1725,-580 1725,-580 1731,-580 1737,-586 1737,-592 1737,-592 1737,-651 1737,-651 1737,-657 1731,-663 1725,-663\"/>\n<text text-anchor=\"start\" x=\"1588\" y=\"-647.8\" font-family=\"Helvetica,sans-Serif\" font-size=\"14.00\">VisceraWeight ≤ 0.162</text>\n<text text-anchor=\"start\" x=\"1620.5\" y=\"-632.8\" font-family=\"Helvetica,sans-Serif\" font-size=\"14.00\">gini = 0.665</text>\n<text text-anchor=\"start\" x=\"1607.5\" y=\"-617.8\" font-family=\"Helvetica,sans-Serif\" font-size=\"14.00\">samples = 2923</text>\n<text text-anchor=\"start\" x=\"1583\" y=\"-602.8\" font-family=\"Helvetica,sans-Serif\" font-size=\"14.00\">value = [909, 939, 1075]</text>\n<text text-anchor=\"start\" x=\"1628.5\" y=\"-587.8\" font-family=\"Helvetica,sans-Serif\" font-size=\"14.00\">class = p</text>\n</g>\n<!-- 1 -->\n<g id=\"node2\" class=\"node\">\n<title>1</title>\n<path fill=\"#a0f3c3\" stroke=\"black\" d=\"M1370.5,-544C1370.5,-544 1239.5,-544 1239.5,-544 1233.5,-544 1227.5,-538 1227.5,-532 1227.5,-532 1227.5,-473 1227.5,-473 1227.5,-467 1233.5,-461 1239.5,-461 1239.5,-461 1370.5,-461 1370.5,-461 1376.5,-461 1382.5,-467 1382.5,-473 1382.5,-473 1382.5,-532 1382.5,-532 1382.5,-538 1376.5,-544 1370.5,-544\"/>\n<text text-anchor=\"start\" x=\"1270.5\" y=\"-528.8\" font-family=\"Helvetica,sans-Serif\" font-size=\"14.00\">Rings ≤ 8.5</text>\n<text text-anchor=\"start\" x=\"1269.5\" y=\"-513.8\" font-family=\"Helvetica,sans-Serif\" font-size=\"14.00\">gini = 0.556</text>\n<text text-anchor=\"start\" x=\"1256.5\" y=\"-498.8\" font-family=\"Helvetica,sans-Serif\" font-size=\"14.00\">samples = 1376</text>\n<text text-anchor=\"start\" x=\"1235.5\" y=\"-483.8\" font-family=\"Helvetica,sans-Serif\" font-size=\"14.00\">value = [223, 828, 325]</text>\n<text text-anchor=\"start\" x=\"1278\" y=\"-468.8\" font-family=\"Helvetica,sans-Serif\" font-size=\"14.00\">class = y</text>\n</g>\n<!-- 0&#45;&gt;1 -->\n<g id=\"edge1\" class=\"edge\">\n<title>0&#45;&gt;1</title>\n<path fill=\"none\" stroke=\"black\" d=\"M1574.59,-593.36C1519.93,-575.14 1447.99,-551.16 1392.17,-532.56\"/>\n<polygon fill=\"black\" stroke=\"black\" points=\"1393.25,-529.23 1382.65,-529.38 1391.03,-535.87 1393.25,-529.23\"/>\n<text text-anchor=\"middle\" x=\"1393.83\" y=\"-548.05\" font-family=\"Helvetica,sans-Serif\" font-size=\"14.00\">True</text>\n</g>\n<!-- 28 -->\n<g id=\"node29\" class=\"node\">\n<title>28</title>\n<path fill=\"#f6f0fd\" stroke=\"black\" d=\"M1989.5,-544C1989.5,-544 1858.5,-544 1858.5,-544 1852.5,-544 1846.5,-538 1846.5,-532 1846.5,-532 1846.5,-473 1846.5,-473 1846.5,-467 1852.5,-461 1858.5,-461 1858.5,-461 1989.5,-461 1989.5,-461 1995.5,-461 2001.5,-467 2001.5,-473 2001.5,-473 2001.5,-532 2001.5,-532 2001.5,-538 1995.5,-544 1989.5,-544\"/>\n<text text-anchor=\"start\" x=\"1862.5\" y=\"-528.8\" font-family=\"Helvetica,sans-Serif\" font-size=\"14.00\">WholeWeight ≤ 0.99</text>\n<text text-anchor=\"start\" x=\"1888.5\" y=\"-513.8\" font-family=\"Helvetica,sans-Serif\" font-size=\"14.00\">gini = 0.563</text>\n<text text-anchor=\"start\" x=\"1875.5\" y=\"-498.8\" font-family=\"Helvetica,sans-Serif\" font-size=\"14.00\">samples = 1547</text>\n<text text-anchor=\"start\" x=\"1854.5\" y=\"-483.8\" font-family=\"Helvetica,sans-Serif\" font-size=\"14.00\">value = [686, 111, 750]</text>\n<text text-anchor=\"start\" x=\"1896.5\" y=\"-468.8\" font-family=\"Helvetica,sans-Serif\" font-size=\"14.00\">class = p</text>\n</g>\n<!-- 0&#45;&gt;28 -->\n<g id=\"edge28\" class=\"edge\">\n<title>0&#45;&gt;28</title>\n<path fill=\"none\" stroke=\"black\" d=\"M1737.14,-585.08C1768.69,-571.31 1804.89,-555.5 1836.98,-541.49\"/>\n<polygon fill=\"black\" stroke=\"black\" points=\"1838.59,-544.61 1846.36,-537.4 1835.79,-538.19 1838.59,-544.61\"/>\n<text text-anchor=\"middle\" x=\"1837.23\" y=\"-556.97\" font-family=\"Helvetica,sans-Serif\" font-size=\"14.00\">False</text>\n</g>\n<!-- 2 -->\n<g id=\"node3\" class=\"node\">\n<title>2</title>\n<path fill=\"#72eda6\" stroke=\"black\" d=\"M847.5,-425C847.5,-425 724.5,-425 724.5,-425 718.5,-425 712.5,-419 712.5,-413 712.5,-413 712.5,-354 712.5,-354 712.5,-348 718.5,-342 724.5,-342 724.5,-342 847.5,-342 847.5,-342 853.5,-342 859.5,-348 859.5,-354 859.5,-354 859.5,-413 859.5,-413 859.5,-419 853.5,-425 847.5,-425\"/>\n<text text-anchor=\"start\" x=\"725.5\" y=\"-409.8\" font-family=\"Helvetica,sans-Serif\" font-size=\"14.00\">ShellWeight ≤ 0.128</text>\n<text text-anchor=\"start\" x=\"750.5\" y=\"-394.8\" font-family=\"Helvetica,sans-Serif\" font-size=\"14.00\">gini = 0.394</text>\n<text text-anchor=\"start\" x=\"741\" y=\"-379.8\" font-family=\"Helvetica,sans-Serif\" font-size=\"14.00\">samples = 840</text>\n<text text-anchor=\"start\" x=\"720.5\" y=\"-364.8\" font-family=\"Helvetica,sans-Serif\" font-size=\"14.00\">value = [68, 636, 136]</text>\n<text text-anchor=\"start\" x=\"759\" y=\"-349.8\" font-family=\"Helvetica,sans-Serif\" font-size=\"14.00\">class = y</text>\n</g>\n<!-- 1&#45;&gt;2 -->\n<g id=\"edge2\" class=\"edge\">\n<title>1&#45;&gt;2</title>\n<path fill=\"none\" stroke=\"black\" d=\"M1227.3,-483.98C1131.2,-462.32 968.26,-425.59 869.54,-403.33\"/>\n<polygon fill=\"black\" stroke=\"black\" points=\"870.13,-399.88 859.61,-401.09 868.59,-406.71 870.13,-399.88\"/>\n</g>\n<!-- 15 -->\n<g id=\"node16\" class=\"node\">\n<title>15</title>\n<path fill=\"#fdfffe\" stroke=\"black\" d=\"M1370.5,-425C1370.5,-425 1239.5,-425 1239.5,-425 1233.5,-425 1227.5,-419 1227.5,-413 1227.5,-413 1227.5,-354 1227.5,-354 1227.5,-348 1233.5,-342 1239.5,-342 1239.5,-342 1370.5,-342 1370.5,-342 1376.5,-342 1382.5,-348 1382.5,-354 1382.5,-354 1382.5,-413 1382.5,-413 1382.5,-419 1376.5,-425 1370.5,-425\"/>\n<text text-anchor=\"start\" x=\"1270.5\" y=\"-409.8\" font-family=\"Helvetica,sans-Serif\" font-size=\"14.00\">Rings ≤ 9.5</text>\n<text text-anchor=\"start\" x=\"1269.5\" y=\"-394.8\" font-family=\"Helvetica,sans-Serif\" font-size=\"14.00\">gini = 0.664</text>\n<text text-anchor=\"start\" x=\"1260\" y=\"-379.8\" font-family=\"Helvetica,sans-Serif\" font-size=\"14.00\">samples = 536</text>\n<text text-anchor=\"start\" x=\"1235.5\" y=\"-364.8\" font-family=\"Helvetica,sans-Serif\" font-size=\"14.00\">value = [155, 192, 189]</text>\n<text text-anchor=\"start\" x=\"1278\" y=\"-349.8\" font-family=\"Helvetica,sans-Serif\" font-size=\"14.00\">class = y</text>\n</g>\n<!-- 1&#45;&gt;15 -->\n<g id=\"edge15\" class=\"edge\">\n<title>1&#45;&gt;15</title>\n<path fill=\"none\" stroke=\"black\" d=\"M1305,-460.91C1305,-452.65 1305,-443.86 1305,-435.3\"/>\n<polygon fill=\"black\" stroke=\"black\" points=\"1308.5,-435.02 1305,-425.02 1301.5,-435.02 1308.5,-435.02\"/>\n</g>\n<!-- 3 -->\n<g id=\"node4\" class=\"node\">\n<title>3</title>\n<path fill=\"#5eea98\" stroke=\"black\" d=\"M507,-306C507,-306 371,-306 371,-306 365,-306 359,-300 359,-294 359,-294 359,-235 359,-235 359,-229 365,-223 371,-223 371,-223 507,-223 507,-223 513,-223 519,-229 519,-235 519,-235 519,-294 519,-294 519,-300 513,-306 507,-306\"/>\n<text text-anchor=\"start\" x=\"367\" y=\"-290.8\" font-family=\"Helvetica,sans-Serif\" font-size=\"14.00\">ShuckedWeight ≤ 0.056</text>\n<text text-anchor=\"start\" x=\"403.5\" y=\"-275.8\" font-family=\"Helvetica,sans-Serif\" font-size=\"14.00\">gini = 0.283</text>\n<text text-anchor=\"start\" x=\"394\" y=\"-260.8\" font-family=\"Helvetica,sans-Serif\" font-size=\"14.00\">samples = 583</text>\n<text text-anchor=\"start\" x=\"377\" y=\"-245.8\" font-family=\"Helvetica,sans-Serif\" font-size=\"14.00\">value = [26, 488, 69]</text>\n<text text-anchor=\"start\" x=\"412\" y=\"-230.8\" font-family=\"Helvetica,sans-Serif\" font-size=\"14.00\">class = y</text>\n</g>\n<!-- 2&#45;&gt;3 -->\n<g id=\"edge3\" class=\"edge\">\n<title>2&#45;&gt;3</title>\n<path fill=\"none\" stroke=\"black\" d=\"M712.41,-357.69C658.81,-339.62 585.92,-315.04 528.87,-295.8\"/>\n<polygon fill=\"black\" stroke=\"black\" points=\"529.73,-292.4 519.14,-292.52 527.5,-299.03 529.73,-292.4\"/>\n</g>\n<!-- 10 -->\n<g id=\"node11\" class=\"node\">\n<title>10</title>\n<path fill=\"#abf4c9\" stroke=\"black\" d=\"M847,-306C847,-306 725,-306 725,-306 719,-306 713,-300 713,-294 713,-294 713,-235 713,-235 713,-229 719,-223 725,-223 725,-223 847,-223 847,-223 853,-223 859,-229 859,-235 859,-235 859,-294 859,-294 859,-300 853,-306 847,-306\"/>\n<text text-anchor=\"start\" x=\"721\" y=\"-290.8\" font-family=\"Helvetica,sans-Serif\" font-size=\"14.00\">WholeWeight ≤ 0.806</text>\n<text text-anchor=\"start\" x=\"750.5\" y=\"-275.8\" font-family=\"Helvetica,sans-Serif\" font-size=\"14.00\">gini = 0.574</text>\n<text text-anchor=\"start\" x=\"741\" y=\"-260.8\" font-family=\"Helvetica,sans-Serif\" font-size=\"14.00\">samples = 257</text>\n<text text-anchor=\"start\" x=\"724\" y=\"-245.8\" font-family=\"Helvetica,sans-Serif\" font-size=\"14.00\">value = [42, 148, 67]</text>\n<text text-anchor=\"start\" x=\"759\" y=\"-230.8\" font-family=\"Helvetica,sans-Serif\" font-size=\"14.00\">class = y</text>\n</g>\n<!-- 2&#45;&gt;10 -->\n<g id=\"edge10\" class=\"edge\">\n<title>2&#45;&gt;10</title>\n<path fill=\"none\" stroke=\"black\" d=\"M786,-341.91C786,-333.65 786,-324.86 786,-316.3\"/>\n<polygon fill=\"black\" stroke=\"black\" points=\"789.5,-316.02 786,-306.02 782.5,-316.02 789.5,-316.02\"/>\n</g>\n<!-- 4 -->\n<g id=\"node5\" class=\"node\">\n<title>4</title>\n<path fill=\"#6beca1\" stroke=\"black\" d=\"M267,-187C267,-187 159,-187 159,-187 153,-187 147,-181 147,-175 147,-175 147,-116 147,-116 147,-110 153,-104 159,-104 159,-104 267,-104 267,-104 273,-104 279,-110 279,-116 279,-116 279,-175 279,-175 279,-181 273,-187 267,-187\"/>\n<text text-anchor=\"start\" x=\"178.5\" y=\"-171.8\" font-family=\"Helvetica,sans-Serif\" font-size=\"14.00\">Rings ≤ 6.5</text>\n<text text-anchor=\"start\" x=\"177.5\" y=\"-156.8\" font-family=\"Helvetica,sans-Serif\" font-size=\"14.00\">gini = 0.326</text>\n<text text-anchor=\"start\" x=\"168\" y=\"-141.8\" font-family=\"Helvetica,sans-Serif\" font-size=\"14.00\">samples = 153</text>\n<text text-anchor=\"start\" x=\"155\" y=\"-126.8\" font-family=\"Helvetica,sans-Serif\" font-size=\"14.00\">value = [1, 122, 30]</text>\n<text text-anchor=\"start\" x=\"186\" y=\"-111.8\" font-family=\"Helvetica,sans-Serif\" font-size=\"14.00\">class = y</text>\n</g>\n<!-- 3&#45;&gt;4 -->\n<g id=\"edge4\" class=\"edge\">\n<title>3&#45;&gt;4</title>\n<path fill=\"none\" stroke=\"black\" d=\"M360.59,-222.91C337.18,-210.79 311.58,-197.53 288.37,-185.52\"/>\n<polygon fill=\"black\" stroke=\"black\" points=\"289.75,-182.29 279.26,-180.8 286.53,-188.51 289.75,-182.29\"/>\n</g>\n<!-- 7 -->\n<g id=\"node8\" class=\"node\">\n<title>7</title>\n<path fill=\"#59e996\" stroke=\"black\" d=\"M500,-187C500,-187 378,-187 378,-187 372,-187 366,-181 366,-175 366,-175 366,-116 366,-116 366,-110 372,-104 378,-104 378,-104 500,-104 500,-104 506,-104 512,-110 512,-116 512,-116 512,-175 512,-175 512,-181 506,-187 500,-187\"/>\n<text text-anchor=\"start\" x=\"374\" y=\"-171.8\" font-family=\"Helvetica,sans-Serif\" font-size=\"14.00\">WholeWeight ≤ 0.549</text>\n<text text-anchor=\"start\" x=\"403.5\" y=\"-156.8\" font-family=\"Helvetica,sans-Serif\" font-size=\"14.00\">gini = 0.264</text>\n<text text-anchor=\"start\" x=\"394\" y=\"-141.8\" font-family=\"Helvetica,sans-Serif\" font-size=\"14.00\">samples = 430</text>\n<text text-anchor=\"start\" x=\"377\" y=\"-126.8\" font-family=\"Helvetica,sans-Serif\" font-size=\"14.00\">value = [25, 366, 39]</text>\n<text text-anchor=\"start\" x=\"412\" y=\"-111.8\" font-family=\"Helvetica,sans-Serif\" font-size=\"14.00\">class = y</text>\n</g>\n<!-- 3&#45;&gt;7 -->\n<g id=\"edge7\" class=\"edge\">\n<title>3&#45;&gt;7</title>\n<path fill=\"none\" stroke=\"black\" d=\"M439,-222.91C439,-214.65 439,-205.86 439,-197.3\"/>\n<polygon fill=\"black\" stroke=\"black\" points=\"442.5,-197.02 439,-187.02 435.5,-197.02 442.5,-197.02\"/>\n</g>\n<!-- 5 -->\n<g id=\"node6\" class=\"node\">\n<title>5</title>\n<path fill=\"#5cea97\" stroke=\"black\" d=\"M120,-68C120,-68 12,-68 12,-68 6,-68 0,-62 0,-56 0,-56 0,-12 0,-12 0,-6 6,0 12,0 12,0 120,0 120,0 126,0 132,-6 132,-12 132,-12 132,-56 132,-56 132,-62 126,-68 120,-68\"/>\n<text text-anchor=\"start\" x=\"30.5\" y=\"-52.8\" font-family=\"Helvetica,sans-Serif\" font-size=\"14.00\">gini = 0.259</text>\n<text text-anchor=\"start\" x=\"21\" y=\"-37.8\" font-family=\"Helvetica,sans-Serif\" font-size=\"14.00\">samples = 132</text>\n<text text-anchor=\"start\" x=\"8\" y=\"-22.8\" font-family=\"Helvetica,sans-Serif\" font-size=\"14.00\">value = [1, 112, 19]</text>\n<text text-anchor=\"start\" x=\"39\" y=\"-7.8\" font-family=\"Helvetica,sans-Serif\" font-size=\"14.00\">class = y</text>\n</g>\n<!-- 4&#45;&gt;5 -->\n<g id=\"edge5\" class=\"edge\">\n<title>4&#45;&gt;5</title>\n<path fill=\"none\" stroke=\"black\" d=\"M158.26,-103.73C145.41,-94.15 131.73,-83.96 118.95,-74.44\"/>\n<polygon fill=\"black\" stroke=\"black\" points=\"120.81,-71.47 110.7,-68.3 116.63,-77.08 120.81,-71.47\"/>\n</g>\n<!-- 6 -->\n<g id=\"node7\" class=\"node\">\n<title>6</title>\n<path fill=\"#f4edfd\" stroke=\"black\" d=\"M263.5,-68C263.5,-68 162.5,-68 162.5,-68 156.5,-68 150.5,-62 150.5,-56 150.5,-56 150.5,-12 150.5,-12 150.5,-6 156.5,0 162.5,0 162.5,0 263.5,0 263.5,0 269.5,0 275.5,-6 275.5,-12 275.5,-12 275.5,-56 275.5,-56 275.5,-62 269.5,-68 263.5,-68\"/>\n<text text-anchor=\"start\" x=\"177.5\" y=\"-52.8\" font-family=\"Helvetica,sans-Serif\" font-size=\"14.00\">gini = 0.499</text>\n<text text-anchor=\"start\" x=\"172\" y=\"-37.8\" font-family=\"Helvetica,sans-Serif\" font-size=\"14.00\">samples = 21</text>\n<text text-anchor=\"start\" x=\"158.5\" y=\"-22.8\" font-family=\"Helvetica,sans-Serif\" font-size=\"14.00\">value = [0, 10, 11]</text>\n<text text-anchor=\"start\" x=\"185.5\" y=\"-7.8\" font-family=\"Helvetica,sans-Serif\" font-size=\"14.00\">class = p</text>\n</g>\n<!-- 4&#45;&gt;6 -->\n<g id=\"edge6\" class=\"edge\">\n<title>4&#45;&gt;6</title>\n<path fill=\"none\" stroke=\"black\" d=\"M213,-103.73C213,-95.52 213,-86.86 213,-78.56\"/>\n<polygon fill=\"black\" stroke=\"black\" points=\"216.5,-78.3 213,-68.3 209.5,-78.3 216.5,-78.3\"/>\n</g>\n<!-- 8 -->\n<g id=\"node9\" class=\"node\">\n<title>8</title>\n<path fill=\"#58e995\" stroke=\"black\" d=\"M422,-68C422,-68 306,-68 306,-68 300,-68 294,-62 294,-56 294,-56 294,-12 294,-12 294,-6 300,0 306,0 306,0 422,0 422,0 428,0 434,-6 434,-12 434,-12 434,-56 434,-56 434,-62 428,-68 422,-68\"/>\n<text text-anchor=\"start\" x=\"328.5\" y=\"-52.8\" font-family=\"Helvetica,sans-Serif\" font-size=\"14.00\">gini = 0.258</text>\n<text text-anchor=\"start\" x=\"319\" y=\"-37.8\" font-family=\"Helvetica,sans-Serif\" font-size=\"14.00\">samples = 427</text>\n<text text-anchor=\"start\" x=\"302\" y=\"-22.8\" font-family=\"Helvetica,sans-Serif\" font-size=\"14.00\">value = [25, 365, 37]</text>\n<text text-anchor=\"start\" x=\"337\" y=\"-7.8\" font-family=\"Helvetica,sans-Serif\" font-size=\"14.00\">class = y</text>\n</g>\n<!-- 7&#45;&gt;8 -->\n<g id=\"edge8\" class=\"edge\">\n<title>7&#45;&gt;8</title>\n<path fill=\"none\" stroke=\"black\" d=\"M411.07,-103.73C405.01,-94.88 398.6,-85.51 392.51,-76.63\"/>\n<polygon fill=\"black\" stroke=\"black\" points=\"395.35,-74.57 386.81,-68.3 389.57,-78.53 395.35,-74.57\"/>\n</g>\n<!-- 9 -->\n<g id=\"node10\" class=\"node\">\n<title>9</title>\n<path fill=\"#c09cf2\" stroke=\"black\" d=\"M550,-68C550,-68 464,-68 464,-68 458,-68 452,-62 452,-56 452,-56 452,-12 452,-12 452,-6 458,0 464,0 464,0 550,0 550,0 556,0 562,-6 562,-12 562,-12 562,-56 562,-56 562,-62 556,-68 550,-68\"/>\n<text text-anchor=\"start\" x=\"471.5\" y=\"-52.8\" font-family=\"Helvetica,sans-Serif\" font-size=\"14.00\">gini = 0.444</text>\n<text text-anchor=\"start\" x=\"469.5\" y=\"-37.8\" font-family=\"Helvetica,sans-Serif\" font-size=\"14.00\">samples = 3</text>\n<text text-anchor=\"start\" x=\"460\" y=\"-22.8\" font-family=\"Helvetica,sans-Serif\" font-size=\"14.00\">value = [0, 1, 2]</text>\n<text text-anchor=\"start\" x=\"479.5\" y=\"-7.8\" font-family=\"Helvetica,sans-Serif\" font-size=\"14.00\">class = p</text>\n</g>\n<!-- 7&#45;&gt;9 -->\n<g id=\"edge9\" class=\"edge\">\n<title>7&#45;&gt;9</title>\n<path fill=\"none\" stroke=\"black\" d=\"M464.32,-103.73C469.76,-94.97 475.51,-85.7 480.98,-76.91\"/>\n<polygon fill=\"black\" stroke=\"black\" points=\"484.02,-78.64 486.32,-68.3 478.07,-74.95 484.02,-78.64\"/>\n</g>\n<!-- 11 -->\n<g id=\"node12\" class=\"node\">\n<title>11</title>\n<path fill=\"#a5f3c5\" stroke=\"black\" d=\"M772.5,-187C772.5,-187 653.5,-187 653.5,-187 647.5,-187 641.5,-181 641.5,-175 641.5,-175 641.5,-116 641.5,-116 641.5,-110 647.5,-104 653.5,-104 653.5,-104 772.5,-104 772.5,-104 778.5,-104 784.5,-110 784.5,-116 784.5,-116 784.5,-175 784.5,-175 784.5,-181 778.5,-187 772.5,-187\"/>\n<text text-anchor=\"start\" x=\"649.5\" y=\"-171.8\" font-family=\"Helvetica,sans-Serif\" font-size=\"14.00\">LongestShell ≤ 0.483</text>\n<text text-anchor=\"start\" x=\"677.5\" y=\"-156.8\" font-family=\"Helvetica,sans-Serif\" font-size=\"14.00\">gini = 0.559</text>\n<text text-anchor=\"start\" x=\"668\" y=\"-141.8\" font-family=\"Helvetica,sans-Serif\" font-size=\"14.00\">samples = 249</text>\n<text text-anchor=\"start\" x=\"651\" y=\"-126.8\" font-family=\"Helvetica,sans-Serif\" font-size=\"14.00\">value = [38, 148, 63]</text>\n<text text-anchor=\"start\" x=\"686\" y=\"-111.8\" font-family=\"Helvetica,sans-Serif\" font-size=\"14.00\">class = y</text>\n</g>\n<!-- 10&#45;&gt;11 -->\n<g id=\"edge11\" class=\"edge\">\n<title>10&#45;&gt;11</title>\n<path fill=\"none\" stroke=\"black\" d=\"M760.67,-222.91C755.18,-214.1 749.31,-204.7 743.64,-195.61\"/>\n<polygon fill=\"black\" stroke=\"black\" points=\"746.55,-193.65 738.28,-187.02 740.61,-197.36 746.55,-193.65\"/>\n</g>\n<!-- 14 -->\n<g id=\"node15\" class=\"node\">\n<title>14</title>\n<path fill=\"#ffffff\" stroke=\"black\" d=\"M901,-179.5C901,-179.5 815,-179.5 815,-179.5 809,-179.5 803,-173.5 803,-167.5 803,-167.5 803,-123.5 803,-123.5 803,-117.5 809,-111.5 815,-111.5 815,-111.5 901,-111.5 901,-111.5 907,-111.5 913,-117.5 913,-123.5 913,-123.5 913,-167.5 913,-167.5 913,-173.5 907,-179.5 901,-179.5\"/>\n<text text-anchor=\"start\" x=\"830\" y=\"-164.3\" font-family=\"Helvetica,sans-Serif\" font-size=\"14.00\">gini = 0.5</text>\n<text text-anchor=\"start\" x=\"820.5\" y=\"-149.3\" font-family=\"Helvetica,sans-Serif\" font-size=\"14.00\">samples = 8</text>\n<text text-anchor=\"start\" x=\"811\" y=\"-134.3\" font-family=\"Helvetica,sans-Serif\" font-size=\"14.00\">value = [4, 0, 4]</text>\n<text text-anchor=\"start\" x=\"830.5\" y=\"-119.3\" font-family=\"Helvetica,sans-Serif\" font-size=\"14.00\">class = T</text>\n</g>\n<!-- 10&#45;&gt;14 -->\n<g id=\"edge14\" class=\"edge\">\n<title>10&#45;&gt;14</title>\n<path fill=\"none\" stroke=\"black\" d=\"M810.98,-222.91C817.84,-211.76 825.29,-199.66 832.19,-188.44\"/>\n<polygon fill=\"black\" stroke=\"black\" points=\"835.33,-190.02 837.59,-179.67 829.37,-186.35 835.33,-190.02\"/>\n</g>\n<!-- 12 -->\n<g id=\"node13\" class=\"node\">\n<title>12</title>\n<path fill=\"#c8f8dc\" stroke=\"black\" d=\"M700,-68C700,-68 592,-68 592,-68 586,-68 580,-62 580,-56 580,-56 580,-12 580,-12 580,-6 586,0 592,0 592,0 700,0 700,0 706,0 712,-6 712,-12 712,-12 712,-56 712,-56 712,-62 706,-68 700,-68\"/>\n<text text-anchor=\"start\" x=\"610.5\" y=\"-52.8\" font-family=\"Helvetica,sans-Serif\" font-size=\"14.00\">gini = 0.623</text>\n<text text-anchor=\"start\" x=\"601\" y=\"-37.8\" font-family=\"Helvetica,sans-Serif\" font-size=\"14.00\">samples = 107</text>\n<text text-anchor=\"start\" x=\"588\" y=\"-22.8\" font-family=\"Helvetica,sans-Serif\" font-size=\"14.00\">value = [22, 53, 32]</text>\n<text text-anchor=\"start\" x=\"619\" y=\"-7.8\" font-family=\"Helvetica,sans-Serif\" font-size=\"14.00\">class = y</text>\n</g>\n<!-- 11&#45;&gt;12 -->\n<g id=\"edge12\" class=\"edge\">\n<title>11&#45;&gt;12</title>\n<path fill=\"none\" stroke=\"black\" d=\"M688.05,-103.73C682.69,-94.97 677.02,-85.7 671.64,-76.91\"/>\n<polygon fill=\"black\" stroke=\"black\" points=\"674.58,-75 666.38,-68.3 668.61,-78.66 674.58,-75\"/>\n</g>\n<!-- 13 -->\n<g id=\"node14\" class=\"node\">\n<title>13</title>\n<path fill=\"#8df0b6\" stroke=\"black\" d=\"M850,-68C850,-68 742,-68 742,-68 736,-68 730,-62 730,-56 730,-56 730,-12 730,-12 730,-6 736,0 742,0 742,0 850,0 850,0 856,0 862,-6 862,-12 862,-12 862,-56 862,-56 862,-62 856,-68 850,-68\"/>\n<text text-anchor=\"start\" x=\"760.5\" y=\"-52.8\" font-family=\"Helvetica,sans-Serif\" font-size=\"14.00\">gini = 0.492</text>\n<text text-anchor=\"start\" x=\"751\" y=\"-37.8\" font-family=\"Helvetica,sans-Serif\" font-size=\"14.00\">samples = 142</text>\n<text text-anchor=\"start\" x=\"738\" y=\"-22.8\" font-family=\"Helvetica,sans-Serif\" font-size=\"14.00\">value = [16, 95, 31]</text>\n<text text-anchor=\"start\" x=\"769\" y=\"-7.8\" font-family=\"Helvetica,sans-Serif\" font-size=\"14.00\">class = y</text>\n</g>\n<!-- 11&#45;&gt;13 -->\n<g id=\"edge13\" class=\"edge\">\n<title>11&#45;&gt;13</title>\n<path fill=\"none\" stroke=\"black\" d=\"M743.91,-103.73C750.68,-94.79 757.86,-85.32 764.65,-76.36\"/>\n<polygon fill=\"black\" stroke=\"black\" points=\"767.51,-78.38 770.76,-68.3 761.93,-74.15 767.51,-78.38\"/>\n</g>\n<!-- 16 -->\n<g id=\"node17\" class=\"node\">\n<title>16</title>\n<path fill=\"#c9f8dc\" stroke=\"black\" d=\"M1279.5,-306C1279.5,-306 1160.5,-306 1160.5,-306 1154.5,-306 1148.5,-300 1148.5,-294 1148.5,-294 1148.5,-235 1148.5,-235 1148.5,-229 1154.5,-223 1160.5,-223 1160.5,-223 1279.5,-223 1279.5,-223 1285.5,-223 1291.5,-229 1291.5,-235 1291.5,-235 1291.5,-294 1291.5,-294 1291.5,-300 1285.5,-306 1279.5,-306\"/>\n<text text-anchor=\"start\" x=\"1156.5\" y=\"-290.8\" font-family=\"Helvetica,sans-Serif\" font-size=\"14.00\">LongestShell ≤ 0.453</text>\n<text text-anchor=\"start\" x=\"1184.5\" y=\"-275.8\" font-family=\"Helvetica,sans-Serif\" font-size=\"14.00\">gini = 0.612</text>\n<text text-anchor=\"start\" x=\"1175\" y=\"-260.8\" font-family=\"Helvetica,sans-Serif\" font-size=\"14.00\">samples = 198</text>\n<text text-anchor=\"start\" x=\"1158\" y=\"-245.8\" font-family=\"Helvetica,sans-Serif\" font-size=\"14.00\">value = [35, 100, 63]</text>\n<text text-anchor=\"start\" x=\"1193\" y=\"-230.8\" font-family=\"Helvetica,sans-Serif\" font-size=\"14.00\">class = y</text>\n</g>\n<!-- 15&#45;&gt;16 -->\n<g id=\"edge16\" class=\"edge\">\n<title>15&#45;&gt;16</title>\n<path fill=\"none\" stroke=\"black\" d=\"M1275.51,-341.91C1269.05,-333.01 1262.14,-323.51 1255.48,-314.33\"/>\n<polygon fill=\"black\" stroke=\"black\" points=\"1258.15,-312.05 1249.44,-306.02 1252.48,-316.17 1258.15,-312.05\"/>\n</g>\n<!-- 23 -->\n<g id=\"node24\" class=\"node\">\n<title>23</title>\n<path fill=\"#fcfafe\" stroke=\"black\" d=\"M1458,-306C1458,-306 1322,-306 1322,-306 1316,-306 1310,-300 1310,-294 1310,-294 1310,-235 1310,-235 1310,-229 1316,-223 1322,-223 1322,-223 1458,-223 1458,-223 1464,-223 1470,-229 1470,-235 1470,-235 1470,-294 1470,-294 1470,-300 1464,-306 1458,-306\"/>\n<text text-anchor=\"start\" x=\"1318\" y=\"-290.8\" font-family=\"Helvetica,sans-Serif\" font-size=\"14.00\">ShuckedWeight ≤ 0.077</text>\n<text text-anchor=\"start\" x=\"1354.5\" y=\"-275.8\" font-family=\"Helvetica,sans-Serif\" font-size=\"14.00\">gini = 0.661</text>\n<text text-anchor=\"start\" x=\"1345\" y=\"-260.8\" font-family=\"Helvetica,sans-Serif\" font-size=\"14.00\">samples = 338</text>\n<text text-anchor=\"start\" x=\"1324.5\" y=\"-245.8\" font-family=\"Helvetica,sans-Serif\" font-size=\"14.00\">value = [120, 92, 126]</text>\n<text text-anchor=\"start\" x=\"1362.5\" y=\"-230.8\" font-family=\"Helvetica,sans-Serif\" font-size=\"14.00\">class = p</text>\n</g>\n<!-- 15&#45;&gt;23 -->\n<g id=\"edge23\" class=\"edge\">\n<title>15&#45;&gt;23</title>\n<path fill=\"none\" stroke=\"black\" d=\"M1334.49,-341.91C1340.95,-333.01 1347.86,-323.51 1354.52,-314.33\"/>\n<polygon fill=\"black\" stroke=\"black\" points=\"1357.52,-316.17 1360.56,-306.02 1351.85,-312.05 1357.52,-316.17\"/>\n</g>\n<!-- 17 -->\n<g id=\"node18\" class=\"node\">\n<title>17</title>\n<path fill=\"#ede3fb\" stroke=\"black\" d=\"M1121.5,-187C1121.5,-187 1002.5,-187 1002.5,-187 996.5,-187 990.5,-181 990.5,-175 990.5,-175 990.5,-116 990.5,-116 990.5,-110 996.5,-104 1002.5,-104 1002.5,-104 1121.5,-104 1121.5,-104 1127.5,-104 1133.5,-110 1133.5,-116 1133.5,-116 1133.5,-175 1133.5,-175 1133.5,-181 1127.5,-187 1121.5,-187\"/>\n<text text-anchor=\"start\" x=\"998.5\" y=\"-171.8\" font-family=\"Helvetica,sans-Serif\" font-size=\"14.00\">LongestShell ≤ 0.447</text>\n<text text-anchor=\"start\" x=\"1026.5\" y=\"-156.8\" font-family=\"Helvetica,sans-Serif\" font-size=\"14.00\">gini = 0.628</text>\n<text text-anchor=\"start\" x=\"1021\" y=\"-141.8\" font-family=\"Helvetica,sans-Serif\" font-size=\"14.00\">samples = 66</text>\n<text text-anchor=\"start\" x=\"1004\" y=\"-126.8\" font-family=\"Helvetica,sans-Serif\" font-size=\"14.00\">value = [12, 24, 30]</text>\n<text text-anchor=\"start\" x=\"1034.5\" y=\"-111.8\" font-family=\"Helvetica,sans-Serif\" font-size=\"14.00\">class = p</text>\n</g>\n<!-- 16&#45;&gt;17 -->\n<g id=\"edge17\" class=\"edge\">\n<title>16&#45;&gt;17</title>\n<path fill=\"none\" stroke=\"black\" d=\"M1165.18,-222.91C1152.19,-213.29 1138.24,-202.95 1124.92,-193.09\"/>\n<polygon fill=\"black\" stroke=\"black\" points=\"1126.84,-190.16 1116.72,-187.02 1122.67,-195.78 1126.84,-190.16\"/>\n</g>\n<!-- 20 -->\n<g id=\"node21\" class=\"node\">\n<title>20</title>\n<path fill=\"#a9f4c8\" stroke=\"black\" d=\"M1292,-187C1292,-187 1164,-187 1164,-187 1158,-187 1152,-181 1152,-175 1152,-175 1152,-116 1152,-116 1152,-110 1158,-104 1164,-104 1164,-104 1292,-104 1292,-104 1298,-104 1304,-110 1304,-116 1304,-116 1304,-175 1304,-175 1304,-181 1298,-187 1292,-187\"/>\n<text text-anchor=\"start\" x=\"1160\" y=\"-171.8\" font-family=\"Helvetica,sans-Serif\" font-size=\"14.00\">VisceraWeight ≤ 0.127</text>\n<text text-anchor=\"start\" x=\"1192.5\" y=\"-156.8\" font-family=\"Helvetica,sans-Serif\" font-size=\"14.00\">gini = 0.576</text>\n<text text-anchor=\"start\" x=\"1183\" y=\"-141.8\" font-family=\"Helvetica,sans-Serif\" font-size=\"14.00\">samples = 132</text>\n<text text-anchor=\"start\" x=\"1170\" y=\"-126.8\" font-family=\"Helvetica,sans-Serif\" font-size=\"14.00\">value = [23, 76, 33]</text>\n<text text-anchor=\"start\" x=\"1201\" y=\"-111.8\" font-family=\"Helvetica,sans-Serif\" font-size=\"14.00\">class = y</text>\n</g>\n<!-- 16&#45;&gt;20 -->\n<g id=\"edge20\" class=\"edge\">\n<title>16&#45;&gt;20</title>\n<path fill=\"none\" stroke=\"black\" d=\"M1222.78,-222.91C1223.35,-214.56 1223.95,-205.67 1224.55,-197.02\"/>\n<polygon fill=\"black\" stroke=\"black\" points=\"1228.04,-197.24 1225.23,-187.02 1221.06,-196.76 1228.04,-197.24\"/>\n</g>\n<!-- 18 -->\n<g id=\"node19\" class=\"node\">\n<title>18</title>\n<path fill=\"#eee5fc\" stroke=\"black\" d=\"M993.5,-68C993.5,-68 892.5,-68 892.5,-68 886.5,-68 880.5,-62 880.5,-56 880.5,-56 880.5,-12 880.5,-12 880.5,-6 886.5,0 892.5,0 892.5,0 993.5,0 993.5,0 999.5,0 1005.5,-6 1005.5,-12 1005.5,-12 1005.5,-56 1005.5,-56 1005.5,-62 999.5,-68 993.5,-68\"/>\n<text text-anchor=\"start\" x=\"911\" y=\"-52.8\" font-family=\"Helvetica,sans-Serif\" font-size=\"14.00\">gini = 0.61</text>\n<text text-anchor=\"start\" x=\"902\" y=\"-37.8\" font-family=\"Helvetica,sans-Serif\" font-size=\"14.00\">samples = 62</text>\n<text text-anchor=\"start\" x=\"888.5\" y=\"-22.8\" font-family=\"Helvetica,sans-Serif\" font-size=\"14.00\">value = [9, 24, 29]</text>\n<text text-anchor=\"start\" x=\"915.5\" y=\"-7.8\" font-family=\"Helvetica,sans-Serif\" font-size=\"14.00\">class = p</text>\n</g>\n<!-- 17&#45;&gt;18 -->\n<g id=\"edge18\" class=\"edge\">\n<title>17&#45;&gt;18</title>\n<path fill=\"none\" stroke=\"black\" d=\"M1017.69,-103.73C1007.58,-94.42 996.84,-84.54 986.75,-75.26\"/>\n<polygon fill=\"black\" stroke=\"black\" points=\"988.92,-72.5 979.19,-68.3 984.18,-77.65 988.92,-72.5\"/>\n</g>\n<!-- 19 -->\n<g id=\"node20\" class=\"node\">\n<title>19</title>\n<path fill=\"#eeab7b\" stroke=\"black\" d=\"M1122,-68C1122,-68 1036,-68 1036,-68 1030,-68 1024,-62 1024,-56 1024,-56 1024,-12 1024,-12 1024,-6 1030,0 1036,0 1036,0 1122,0 1122,0 1128,0 1134,-6 1134,-12 1134,-12 1134,-56 1134,-56 1134,-62 1128,-68 1122,-68\"/>\n<text text-anchor=\"start\" x=\"1043.5\" y=\"-52.8\" font-family=\"Helvetica,sans-Serif\" font-size=\"14.00\">gini = 0.375</text>\n<text text-anchor=\"start\" x=\"1041.5\" y=\"-37.8\" font-family=\"Helvetica,sans-Serif\" font-size=\"14.00\">samples = 4</text>\n<text text-anchor=\"start\" x=\"1032\" y=\"-22.8\" font-family=\"Helvetica,sans-Serif\" font-size=\"14.00\">value = [3, 0, 1]</text>\n<text text-anchor=\"start\" x=\"1051.5\" y=\"-7.8\" font-family=\"Helvetica,sans-Serif\" font-size=\"14.00\">class = T</text>\n</g>\n<!-- 17&#45;&gt;19 -->\n<g id=\"edge19\" class=\"edge\">\n<title>17&#45;&gt;19</title>\n<path fill=\"none\" stroke=\"black\" d=\"M1068.33,-103.73C1069.62,-95.43 1070.98,-86.67 1072.28,-78.28\"/>\n<polygon fill=\"black\" stroke=\"black\" points=\"1075.75,-78.72 1073.83,-68.3 1068.84,-77.64 1075.75,-78.72\"/>\n</g>\n<!-- 21 -->\n<g id=\"node22\" class=\"node\">\n<title>21</title>\n<path fill=\"#74eda7\" stroke=\"black\" d=\"M1257.5,-68C1257.5,-68 1164.5,-68 1164.5,-68 1158.5,-68 1152.5,-62 1152.5,-56 1152.5,-56 1152.5,-12 1152.5,-12 1152.5,-6 1158.5,0 1164.5,0 1164.5,0 1257.5,0 1257.5,0 1263.5,0 1269.5,-6 1269.5,-12 1269.5,-12 1269.5,-56 1269.5,-56 1269.5,-62 1263.5,-68 1257.5,-68\"/>\n<text text-anchor=\"start\" x=\"1175.5\" y=\"-52.8\" font-family=\"Helvetica,sans-Serif\" font-size=\"14.00\">gini = 0.411</text>\n<text text-anchor=\"start\" x=\"1170\" y=\"-37.8\" font-family=\"Helvetica,sans-Serif\" font-size=\"14.00\">samples = 55</text>\n<text text-anchor=\"start\" x=\"1160.5\" y=\"-22.8\" font-family=\"Helvetica,sans-Serif\" font-size=\"14.00\">value = [6, 41, 8]</text>\n<text text-anchor=\"start\" x=\"1184\" y=\"-7.8\" font-family=\"Helvetica,sans-Serif\" font-size=\"14.00\">class = y</text>\n</g>\n<!-- 20&#45;&gt;21 -->\n<g id=\"edge21\" class=\"edge\">\n<title>20&#45;&gt;21</title>\n<path fill=\"none\" stroke=\"black\" d=\"M1221.67,-103.73C1220.38,-95.43 1219.02,-86.67 1217.72,-78.28\"/>\n<polygon fill=\"black\" stroke=\"black\" points=\"1221.16,-77.64 1216.17,-68.3 1214.25,-78.72 1221.16,-77.64\"/>\n</g>\n<!-- 22 -->\n<g id=\"node23\" class=\"node\">\n<title>22</title>\n<path fill=\"#d9fae7\" stroke=\"black\" d=\"M1408,-68C1408,-68 1300,-68 1300,-68 1294,-68 1288,-62 1288,-56 1288,-56 1288,-12 1288,-12 1288,-6 1294,0 1300,0 1300,0 1408,0 1408,0 1414,0 1420,-6 1420,-12 1420,-12 1420,-56 1420,-56 1420,-62 1414,-68 1408,-68\"/>\n<text text-anchor=\"start\" x=\"1318.5\" y=\"-52.8\" font-family=\"Helvetica,sans-Serif\" font-size=\"14.00\">gini = 0.639</text>\n<text text-anchor=\"start\" x=\"1313\" y=\"-37.8\" font-family=\"Helvetica,sans-Serif\" font-size=\"14.00\">samples = 77</text>\n<text text-anchor=\"start\" x=\"1296\" y=\"-22.8\" font-family=\"Helvetica,sans-Serif\" font-size=\"14.00\">value = [17, 35, 25]</text>\n<text text-anchor=\"start\" x=\"1327\" y=\"-7.8\" font-family=\"Helvetica,sans-Serif\" font-size=\"14.00\">class = y</text>\n</g>\n<!-- 20&#45;&gt;22 -->\n<g id=\"edge22\" class=\"edge\">\n<title>20&#45;&gt;22</title>\n<path fill=\"none\" stroke=\"black\" d=\"M1274.92,-103.73C1285.73,-94.33 1297.21,-84.35 1307.99,-74.99\"/>\n<polygon fill=\"black\" stroke=\"black\" points=\"1310.43,-77.5 1315.68,-68.3 1305.84,-72.22 1310.43,-77.5\"/>\n</g>\n<!-- 24 -->\n<g id=\"node25\" class=\"node\">\n<title>24</title>\n<path fill=\"#8139e5\" stroke=\"black\" d=\"M1432.5,-179.5C1432.5,-179.5 1339.5,-179.5 1339.5,-179.5 1333.5,-179.5 1327.5,-173.5 1327.5,-167.5 1327.5,-167.5 1327.5,-123.5 1327.5,-123.5 1327.5,-117.5 1333.5,-111.5 1339.5,-111.5 1339.5,-111.5 1432.5,-111.5 1432.5,-111.5 1438.5,-111.5 1444.5,-117.5 1444.5,-123.5 1444.5,-123.5 1444.5,-167.5 1444.5,-167.5 1444.5,-173.5 1438.5,-179.5 1432.5,-179.5\"/>\n<text text-anchor=\"start\" x=\"1358\" y=\"-164.3\" font-family=\"Helvetica,sans-Serif\" font-size=\"14.00\">gini = 0.0</text>\n<text text-anchor=\"start\" x=\"1345\" y=\"-149.3\" font-family=\"Helvetica,sans-Serif\" font-size=\"14.00\">samples = 11</text>\n<text text-anchor=\"start\" x=\"1335.5\" y=\"-134.3\" font-family=\"Helvetica,sans-Serif\" font-size=\"14.00\">value = [0, 0, 11]</text>\n<text text-anchor=\"start\" x=\"1358.5\" y=\"-119.3\" font-family=\"Helvetica,sans-Serif\" font-size=\"14.00\">class = p</text>\n</g>\n<!-- 23&#45;&gt;24 -->\n<g id=\"edge24\" class=\"edge\">\n<title>23&#45;&gt;24</title>\n<path fill=\"none\" stroke=\"black\" d=\"M1388.61,-222.91C1388.25,-212.2 1387.85,-200.62 1387.48,-189.78\"/>\n<polygon fill=\"black\" stroke=\"black\" points=\"1390.97,-189.54 1387.13,-179.67 1383.98,-189.78 1390.97,-189.54\"/>\n</g>\n<!-- 25 -->\n<g id=\"node26\" class=\"node\">\n<title>25</title>\n<path fill=\"#fefcfa\" stroke=\"black\" d=\"M1597.5,-187C1597.5,-187 1474.5,-187 1474.5,-187 1468.5,-187 1462.5,-181 1462.5,-175 1462.5,-175 1462.5,-116 1462.5,-116 1462.5,-110 1468.5,-104 1474.5,-104 1474.5,-104 1597.5,-104 1597.5,-104 1603.5,-104 1609.5,-110 1609.5,-116 1609.5,-116 1609.5,-175 1609.5,-175 1609.5,-181 1603.5,-187 1597.5,-187\"/>\n<text text-anchor=\"start\" x=\"1483.5\" y=\"-171.8\" font-family=\"Helvetica,sans-Serif\" font-size=\"14.00\">Diameter ≤ 0.417</text>\n<text text-anchor=\"start\" x=\"1500.5\" y=\"-156.8\" font-family=\"Helvetica,sans-Serif\" font-size=\"14.00\">gini = 0.662</text>\n<text text-anchor=\"start\" x=\"1491\" y=\"-141.8\" font-family=\"Helvetica,sans-Serif\" font-size=\"14.00\">samples = 327</text>\n<text text-anchor=\"start\" x=\"1470.5\" y=\"-126.8\" font-family=\"Helvetica,sans-Serif\" font-size=\"14.00\">value = [120, 92, 115]</text>\n<text text-anchor=\"start\" x=\"1508.5\" y=\"-111.8\" font-family=\"Helvetica,sans-Serif\" font-size=\"14.00\">class = T</text>\n</g>\n<!-- 23&#45;&gt;25 -->\n<g id=\"edge25\" class=\"edge\">\n<title>23&#45;&gt;25</title>\n<path fill=\"none\" stroke=\"black\" d=\"M1440.65,-222.91C1452.54,-213.38 1465.31,-203.15 1477.51,-193.37\"/>\n<polygon fill=\"black\" stroke=\"black\" points=\"1479.82,-196.01 1485.44,-187.02 1475.44,-190.54 1479.82,-196.01\"/>\n</g>\n<!-- 26 -->\n<g id=\"node27\" class=\"node\">\n<title>26</title>\n<path fill=\"#fcf2ea\" stroke=\"black\" d=\"M1566,-68C1566,-68 1450,-68 1450,-68 1444,-68 1438,-62 1438,-56 1438,-56 1438,-12 1438,-12 1438,-6 1444,0 1450,0 1450,0 1566,0 1566,0 1572,0 1578,-6 1578,-12 1578,-12 1578,-56 1578,-56 1578,-62 1572,-68 1566,-68\"/>\n<text text-anchor=\"start\" x=\"1472.5\" y=\"-52.8\" font-family=\"Helvetica,sans-Serif\" font-size=\"14.00\">gini = 0.657</text>\n<text text-anchor=\"start\" x=\"1463\" y=\"-37.8\" font-family=\"Helvetica,sans-Serif\" font-size=\"14.00\">samples = 270</text>\n<text text-anchor=\"start\" x=\"1446\" y=\"-22.8\" font-family=\"Helvetica,sans-Serif\" font-size=\"14.00\">value = [109, 71, 90]</text>\n<text text-anchor=\"start\" x=\"1480.5\" y=\"-7.8\" font-family=\"Helvetica,sans-Serif\" font-size=\"14.00\">class = T</text>\n</g>\n<!-- 25&#45;&gt;26 -->\n<g id=\"edge26\" class=\"edge\">\n<title>25&#45;&gt;26</title>\n<path fill=\"none\" stroke=\"black\" d=\"M1525.57,-103.73C1523.43,-95.34 1521.16,-86.47 1519,-78.01\"/>\n<polygon fill=\"black\" stroke=\"black\" points=\"1522.38,-77.12 1516.51,-68.3 1515.6,-78.85 1522.38,-77.12\"/>\n</g>\n<!-- 27 -->\n<g id=\"node28\" class=\"node\">\n<title>27</title>\n<path fill=\"#f1e9fc\" stroke=\"black\" d=\"M1716,-68C1716,-68 1608,-68 1608,-68 1602,-68 1596,-62 1596,-56 1596,-56 1596,-12 1596,-12 1596,-6 1602,0 1608,0 1608,0 1716,0 1716,0 1722,0 1728,-6 1728,-12 1728,-12 1728,-56 1728,-56 1728,-62 1722,-68 1716,-68\"/>\n<text text-anchor=\"start\" x=\"1626.5\" y=\"-52.8\" font-family=\"Helvetica,sans-Serif\" font-size=\"14.00\">gini = 0.635</text>\n<text text-anchor=\"start\" x=\"1621\" y=\"-37.8\" font-family=\"Helvetica,sans-Serif\" font-size=\"14.00\">samples = 57</text>\n<text text-anchor=\"start\" x=\"1604\" y=\"-22.8\" font-family=\"Helvetica,sans-Serif\" font-size=\"14.00\">value = [11, 21, 25]</text>\n<text text-anchor=\"start\" x=\"1634.5\" y=\"-7.8\" font-family=\"Helvetica,sans-Serif\" font-size=\"14.00\">class = p</text>\n</g>\n<!-- 25&#45;&gt;27 -->\n<g id=\"edge27\" class=\"edge\">\n<title>25&#45;&gt;27</title>\n<path fill=\"none\" stroke=\"black\" d=\"M1582.92,-103.73C1593.73,-94.33 1605.21,-84.35 1615.99,-74.99\"/>\n<polygon fill=\"black\" stroke=\"black\" points=\"1618.43,-77.5 1623.68,-68.3 1613.84,-72.22 1618.43,-77.5\"/>\n</g>\n<!-- 29 -->\n<g id=\"node30\" class=\"node\">\n<title>29</title>\n<path fill=\"#efe6fc\" stroke=\"black\" d=\"M1988,-425C1988,-425 1860,-425 1860,-425 1854,-425 1848,-419 1848,-413 1848,-413 1848,-354 1848,-354 1848,-348 1854,-342 1860,-342 1860,-342 1988,-342 1988,-342 1994,-342 2000,-348 2000,-354 2000,-354 2000,-413 2000,-413 2000,-419 1994,-425 1988,-425\"/>\n<text text-anchor=\"start\" x=\"1856\" y=\"-409.8\" font-family=\"Helvetica,sans-Serif\" font-size=\"14.00\">VisceraWeight ≤ 0.163</text>\n<text text-anchor=\"start\" x=\"1888.5\" y=\"-394.8\" font-family=\"Helvetica,sans-Serif\" font-size=\"14.00\">gini = 0.625</text>\n<text text-anchor=\"start\" x=\"1879\" y=\"-379.8\" font-family=\"Helvetica,sans-Serif\" font-size=\"14.00\">samples = 490</text>\n<text text-anchor=\"start\" x=\"1858.5\" y=\"-364.8\" font-family=\"Helvetica,sans-Serif\" font-size=\"14.00\">value = [183, 85, 222]</text>\n<text text-anchor=\"start\" x=\"1896.5\" y=\"-349.8\" font-family=\"Helvetica,sans-Serif\" font-size=\"14.00\">class = p</text>\n</g>\n<!-- 28&#45;&gt;29 -->\n<g id=\"edge29\" class=\"edge\">\n<title>28&#45;&gt;29</title>\n<path fill=\"none\" stroke=\"black\" d=\"M1924,-460.91C1924,-452.65 1924,-443.86 1924,-435.3\"/>\n<polygon fill=\"black\" stroke=\"black\" points=\"1927.5,-435.02 1924,-425.02 1920.5,-435.02 1927.5,-435.02\"/>\n</g>\n<!-- 38 -->\n<g id=\"node39\" class=\"node\">\n<title>38</title>\n<path fill=\"#f9f6fe\" stroke=\"black\" d=\"M2684,-425C2684,-425 2548,-425 2548,-425 2542,-425 2536,-419 2536,-413 2536,-413 2536,-354 2536,-354 2536,-348 2542,-342 2548,-342 2548,-342 2684,-342 2684,-342 2690,-342 2696,-348 2696,-354 2696,-354 2696,-413 2696,-413 2696,-419 2690,-425 2684,-425\"/>\n<text text-anchor=\"start\" x=\"2544\" y=\"-409.8\" font-family=\"Helvetica,sans-Serif\" font-size=\"14.00\">ShuckedWeight ≤ 0.874</text>\n<text text-anchor=\"start\" x=\"2580.5\" y=\"-394.8\" font-family=\"Helvetica,sans-Serif\" font-size=\"14.00\">gini = 0.523</text>\n<text text-anchor=\"start\" x=\"2567.5\" y=\"-379.8\" font-family=\"Helvetica,sans-Serif\" font-size=\"14.00\">samples = 1057</text>\n<text text-anchor=\"start\" x=\"2550.5\" y=\"-364.8\" font-family=\"Helvetica,sans-Serif\" font-size=\"14.00\">value = [503, 26, 528]</text>\n<text text-anchor=\"start\" x=\"2588.5\" y=\"-349.8\" font-family=\"Helvetica,sans-Serif\" font-size=\"14.00\">class = p</text>\n</g>\n<!-- 28&#45;&gt;38 -->\n<g id=\"edge38\" class=\"edge\">\n<title>28&#45;&gt;38</title>\n<path fill=\"none\" stroke=\"black\" d=\"M2001.7,-488.36C2130.79,-466.54 2388.74,-422.92 2525.71,-399.77\"/>\n<polygon fill=\"black\" stroke=\"black\" points=\"2526.48,-403.18 2535.76,-398.07 2525.32,-396.28 2526.48,-403.18\"/>\n</g>\n<!-- 30 -->\n<g id=\"node31\" class=\"node\">\n<title>30</title>\n<path fill=\"#8139e5\" stroke=\"black\" d=\"M1893,-298.5C1893,-298.5 1807,-298.5 1807,-298.5 1801,-298.5 1795,-292.5 1795,-286.5 1795,-286.5 1795,-242.5 1795,-242.5 1795,-236.5 1801,-230.5 1807,-230.5 1807,-230.5 1893,-230.5 1893,-230.5 1899,-230.5 1905,-236.5 1905,-242.5 1905,-242.5 1905,-286.5 1905,-286.5 1905,-292.5 1899,-298.5 1893,-298.5\"/>\n<text text-anchor=\"start\" x=\"1822\" y=\"-283.3\" font-family=\"Helvetica,sans-Serif\" font-size=\"14.00\">gini = 0.0</text>\n<text text-anchor=\"start\" x=\"1812.5\" y=\"-268.3\" font-family=\"Helvetica,sans-Serif\" font-size=\"14.00\">samples = 6</text>\n<text text-anchor=\"start\" x=\"1803\" y=\"-253.3\" font-family=\"Helvetica,sans-Serif\" font-size=\"14.00\">value = [0, 0, 6]</text>\n<text text-anchor=\"start\" x=\"1822.5\" y=\"-238.3\" font-family=\"Helvetica,sans-Serif\" font-size=\"14.00\">class = p</text>\n</g>\n<!-- 29&#45;&gt;30 -->\n<g id=\"edge30\" class=\"edge\">\n<title>29&#45;&gt;30</title>\n<path fill=\"none\" stroke=\"black\" d=\"M1898.33,-341.91C1891.28,-330.76 1883.62,-318.66 1876.53,-307.44\"/>\n<polygon fill=\"black\" stroke=\"black\" points=\"1879.28,-305.25 1870.98,-298.67 1873.36,-308.99 1879.28,-305.25\"/>\n</g>\n<!-- 31 -->\n<g id=\"node32\" class=\"node\">\n<title>31</title>\n<path fill=\"#f1e9fc\" stroke=\"black\" d=\"M2063,-306C2063,-306 1935,-306 1935,-306 1929,-306 1923,-300 1923,-294 1923,-294 1923,-235 1923,-235 1923,-229 1929,-223 1935,-223 1935,-223 2063,-223 2063,-223 2069,-223 2075,-229 2075,-235 2075,-235 2075,-294 2075,-294 2075,-300 2069,-306 2063,-306\"/>\n<text text-anchor=\"start\" x=\"1931\" y=\"-290.8\" font-family=\"Helvetica,sans-Serif\" font-size=\"14.00\">ShuckedWeight ≤ 0.25</text>\n<text text-anchor=\"start\" x=\"1963.5\" y=\"-275.8\" font-family=\"Helvetica,sans-Serif\" font-size=\"14.00\">gini = 0.627</text>\n<text text-anchor=\"start\" x=\"1954\" y=\"-260.8\" font-family=\"Helvetica,sans-Serif\" font-size=\"14.00\">samples = 484</text>\n<text text-anchor=\"start\" x=\"1933.5\" y=\"-245.8\" font-family=\"Helvetica,sans-Serif\" font-size=\"14.00\">value = [183, 85, 216]</text>\n<text text-anchor=\"start\" x=\"1971.5\" y=\"-230.8\" font-family=\"Helvetica,sans-Serif\" font-size=\"14.00\">class = p</text>\n</g>\n<!-- 29&#45;&gt;31 -->\n<g id=\"edge31\" class=\"edge\">\n<title>29&#45;&gt;31</title>\n<path fill=\"none\" stroke=\"black\" d=\"M1950.02,-341.91C1955.66,-333.1 1961.69,-323.7 1967.52,-314.61\"/>\n<polygon fill=\"black\" stroke=\"black\" points=\"1970.57,-316.33 1973.03,-306.02 1964.68,-312.55 1970.57,-316.33\"/>\n</g>\n<!-- 32 -->\n<g id=\"node33\" class=\"node\">\n<title>32</title>\n<path fill=\"#f3c4a3\" stroke=\"black\" d=\"M1979,-187C1979,-187 1851,-187 1851,-187 1845,-187 1839,-181 1839,-175 1839,-175 1839,-116 1839,-116 1839,-110 1845,-104 1851,-104 1851,-104 1979,-104 1979,-104 1985,-104 1991,-110 1991,-116 1991,-116 1991,-175 1991,-175 1991,-181 1985,-187 1979,-187\"/>\n<text text-anchor=\"start\" x=\"1847\" y=\"-171.8\" font-family=\"Helvetica,sans-Serif\" font-size=\"14.00\">VisceraWeight ≤ 0.183</text>\n<text text-anchor=\"start\" x=\"1879.5\" y=\"-156.8\" font-family=\"Helvetica,sans-Serif\" font-size=\"14.00\">gini = 0.454</text>\n<text text-anchor=\"start\" x=\"1874\" y=\"-141.8\" font-family=\"Helvetica,sans-Serif\" font-size=\"14.00\">samples = 23</text>\n<text text-anchor=\"start\" x=\"1864.5\" y=\"-126.8\" font-family=\"Helvetica,sans-Serif\" font-size=\"14.00\">value = [15, 0, 8]</text>\n<text text-anchor=\"start\" x=\"1887.5\" y=\"-111.8\" font-family=\"Helvetica,sans-Serif\" font-size=\"14.00\">class = T</text>\n</g>\n<!-- 31&#45;&gt;32 -->\n<g id=\"edge32\" class=\"edge\">\n<title>31&#45;&gt;32</title>\n<path fill=\"none\" stroke=\"black\" d=\"M1969.86,-222.91C1963.47,-214.01 1956.65,-204.51 1950.06,-195.33\"/>\n<polygon fill=\"black\" stroke=\"black\" points=\"1952.77,-193.1 1944.09,-187.02 1947.08,-197.19 1952.77,-193.1\"/>\n</g>\n<!-- 35 -->\n<g id=\"node36\" class=\"node\">\n<title>35</title>\n<path fill=\"#eee4fb\" stroke=\"black\" d=\"M2144.5,-187C2144.5,-187 2021.5,-187 2021.5,-187 2015.5,-187 2009.5,-181 2009.5,-175 2009.5,-175 2009.5,-116 2009.5,-116 2009.5,-110 2015.5,-104 2021.5,-104 2021.5,-104 2144.5,-104 2144.5,-104 2150.5,-104 2156.5,-110 2156.5,-116 2156.5,-116 2156.5,-175 2156.5,-175 2156.5,-181 2150.5,-187 2144.5,-187\"/>\n<text text-anchor=\"start\" x=\"2018\" y=\"-171.8\" font-family=\"Helvetica,sans-Serif\" font-size=\"14.00\">WholeWeight ≤ 0.837</text>\n<text text-anchor=\"start\" x=\"2051\" y=\"-156.8\" font-family=\"Helvetica,sans-Serif\" font-size=\"14.00\">gini = 0.63</text>\n<text text-anchor=\"start\" x=\"2038\" y=\"-141.8\" font-family=\"Helvetica,sans-Serif\" font-size=\"14.00\">samples = 461</text>\n<text text-anchor=\"start\" x=\"2017.5\" y=\"-126.8\" font-family=\"Helvetica,sans-Serif\" font-size=\"14.00\">value = [168, 85, 208]</text>\n<text text-anchor=\"start\" x=\"2055.5\" y=\"-111.8\" font-family=\"Helvetica,sans-Serif\" font-size=\"14.00\">class = p</text>\n</g>\n<!-- 31&#45;&gt;35 -->\n<g id=\"edge35\" class=\"edge\">\n<title>31&#45;&gt;35</title>\n<path fill=\"none\" stroke=\"black\" d=\"M2028.14,-222.91C2034.53,-214.01 2041.35,-204.51 2047.94,-195.33\"/>\n<polygon fill=\"black\" stroke=\"black\" points=\"2050.92,-197.19 2053.91,-187.02 2045.23,-193.1 2050.92,-197.19\"/>\n</g>\n<!-- 33 -->\n<g id=\"node34\" class=\"node\">\n<title>33</title>\n<path fill=\"#fcf1e9\" stroke=\"black\" d=\"M1844,-68C1844,-68 1758,-68 1758,-68 1752,-68 1746,-62 1746,-56 1746,-56 1746,-12 1746,-12 1746,-6 1752,0 1758,0 1758,0 1844,0 1844,0 1850,0 1856,-6 1856,-12 1856,-12 1856,-56 1856,-56 1856,-62 1850,-68 1844,-68\"/>\n<text text-anchor=\"start\" x=\"1765.5\" y=\"-52.8\" font-family=\"Helvetica,sans-Serif\" font-size=\"14.00\">gini = 0.498</text>\n<text text-anchor=\"start\" x=\"1760\" y=\"-37.8\" font-family=\"Helvetica,sans-Serif\" font-size=\"14.00\">samples = 17</text>\n<text text-anchor=\"start\" x=\"1754\" y=\"-22.8\" font-family=\"Helvetica,sans-Serif\" font-size=\"14.00\">value = [9, 0, 8]</text>\n<text text-anchor=\"start\" x=\"1773.5\" y=\"-7.8\" font-family=\"Helvetica,sans-Serif\" font-size=\"14.00\">class = T</text>\n</g>\n<!-- 32&#45;&gt;33 -->\n<g id=\"edge33\" class=\"edge\">\n<title>32&#45;&gt;33</title>\n<path fill=\"none\" stroke=\"black\" d=\"M1872.55,-103.73C1862.87,-94.42 1852.58,-84.54 1842.92,-75.26\"/>\n<polygon fill=\"black\" stroke=\"black\" points=\"1845.3,-72.7 1835.67,-68.3 1840.46,-77.75 1845.3,-72.7\"/>\n</g>\n<!-- 34 -->\n<g id=\"node35\" class=\"node\">\n<title>34</title>\n<path fill=\"#e58139\" stroke=\"black\" d=\"M1972,-68C1972,-68 1886,-68 1886,-68 1880,-68 1874,-62 1874,-56 1874,-56 1874,-12 1874,-12 1874,-6 1880,0 1886,0 1886,0 1972,0 1972,0 1978,0 1984,-6 1984,-12 1984,-12 1984,-56 1984,-56 1984,-62 1978,-68 1972,-68\"/>\n<text text-anchor=\"start\" x=\"1901\" y=\"-52.8\" font-family=\"Helvetica,sans-Serif\" font-size=\"14.00\">gini = 0.0</text>\n<text text-anchor=\"start\" x=\"1891.5\" y=\"-37.8\" font-family=\"Helvetica,sans-Serif\" font-size=\"14.00\">samples = 6</text>\n<text text-anchor=\"start\" x=\"1882\" y=\"-22.8\" font-family=\"Helvetica,sans-Serif\" font-size=\"14.00\">value = [6, 0, 0]</text>\n<text text-anchor=\"start\" x=\"1901.5\" y=\"-7.8\" font-family=\"Helvetica,sans-Serif\" font-size=\"14.00\">class = T</text>\n</g>\n<!-- 32&#45;&gt;34 -->\n<g id=\"edge34\" class=\"edge\">\n<title>32&#45;&gt;34</title>\n<path fill=\"none\" stroke=\"black\" d=\"M1920.21,-103.73C1921.27,-95.43 1922.39,-86.67 1923.47,-78.28\"/>\n<polygon fill=\"black\" stroke=\"black\" points=\"1926.95,-78.66 1924.74,-68.3 1920,-77.77 1926.95,-78.66\"/>\n</g>\n<!-- 36 -->\n<g id=\"node37\" class=\"node\">\n<title>36</title>\n<path fill=\"#f2eafc\" stroke=\"black\" d=\"M2122,-68C2122,-68 2014,-68 2014,-68 2008,-68 2002,-62 2002,-56 2002,-56 2002,-12 2002,-12 2002,-6 2008,0 2014,0 2014,0 2122,0 2122,0 2128,0 2134,-6 2134,-12 2134,-12 2134,-56 2134,-56 2134,-62 2128,-68 2122,-68\"/>\n<text text-anchor=\"start\" x=\"2032.5\" y=\"-52.8\" font-family=\"Helvetica,sans-Serif\" font-size=\"14.00\">gini = 0.659</text>\n<text text-anchor=\"start\" x=\"2023\" y=\"-37.8\" font-family=\"Helvetica,sans-Serif\" font-size=\"14.00\">samples = 158</text>\n<text text-anchor=\"start\" x=\"2010\" y=\"-22.8\" font-family=\"Helvetica,sans-Serif\" font-size=\"14.00\">value = [52, 43, 63]</text>\n<text text-anchor=\"start\" x=\"2040.5\" y=\"-7.8\" font-family=\"Helvetica,sans-Serif\" font-size=\"14.00\">class = p</text>\n</g>\n<!-- 35&#45;&gt;36 -->\n<g id=\"edge36\" class=\"edge\">\n<title>35&#45;&gt;36</title>\n<path fill=\"none\" stroke=\"black\" d=\"M2077.41,-103.73C2076.28,-95.43 2075.08,-86.67 2073.93,-78.28\"/>\n<polygon fill=\"black\" stroke=\"black\" points=\"2077.39,-77.73 2072.56,-68.3 2070.45,-78.68 2077.39,-77.73\"/>\n</g>\n<!-- 37 -->\n<g id=\"node38\" class=\"node\">\n<title>37</title>\n<path fill=\"#ebe0fb\" stroke=\"black\" d=\"M2287.5,-68C2287.5,-68 2164.5,-68 2164.5,-68 2158.5,-68 2152.5,-62 2152.5,-56 2152.5,-56 2152.5,-12 2152.5,-12 2152.5,-6 2158.5,0 2164.5,0 2164.5,0 2287.5,0 2287.5,0 2293.5,0 2299.5,-6 2299.5,-12 2299.5,-12 2299.5,-56 2299.5,-56 2299.5,-62 2293.5,-68 2287.5,-68\"/>\n<text text-anchor=\"start\" x=\"2190.5\" y=\"-52.8\" font-family=\"Helvetica,sans-Serif\" font-size=\"14.00\">gini = 0.605</text>\n<text text-anchor=\"start\" x=\"2181\" y=\"-37.8\" font-family=\"Helvetica,sans-Serif\" font-size=\"14.00\">samples = 303</text>\n<text text-anchor=\"start\" x=\"2160.5\" y=\"-22.8\" font-family=\"Helvetica,sans-Serif\" font-size=\"14.00\">value = [116, 42, 145]</text>\n<text text-anchor=\"start\" x=\"2198.5\" y=\"-7.8\" font-family=\"Helvetica,sans-Serif\" font-size=\"14.00\">class = p</text>\n</g>\n<!-- 35&#45;&gt;37 -->\n<g id=\"edge37\" class=\"edge\">\n<title>35&#45;&gt;37</title>\n<path fill=\"none\" stroke=\"black\" d=\"M2136.25,-103.73C2148.75,-94.15 2162.06,-83.96 2174.49,-74.44\"/>\n<polygon fill=\"black\" stroke=\"black\" points=\"2176.7,-77.16 2182.51,-68.3 2172.45,-71.6 2176.7,-77.16\"/>\n</g>\n<!-- 39 -->\n<g id=\"node40\" class=\"node\">\n<title>39</title>\n<path fill=\"#fffefe\" stroke=\"black\" d=\"M2677.5,-306C2677.5,-306 2554.5,-306 2554.5,-306 2548.5,-306 2542.5,-300 2542.5,-294 2542.5,-294 2542.5,-235 2542.5,-235 2542.5,-229 2548.5,-223 2554.5,-223 2554.5,-223 2677.5,-223 2677.5,-223 2683.5,-223 2689.5,-229 2689.5,-235 2689.5,-235 2689.5,-294 2689.5,-294 2689.5,-300 2683.5,-306 2677.5,-306\"/>\n<text text-anchor=\"start\" x=\"2563.5\" y=\"-290.8\" font-family=\"Helvetica,sans-Serif\" font-size=\"14.00\">Diameter ≤ 0.538</text>\n<text text-anchor=\"start\" x=\"2580.5\" y=\"-275.8\" font-family=\"Helvetica,sans-Serif\" font-size=\"14.00\">gini = 0.525</text>\n<text text-anchor=\"start\" x=\"2571\" y=\"-260.8\" font-family=\"Helvetica,sans-Serif\" font-size=\"14.00\">samples = 987</text>\n<text text-anchor=\"start\" x=\"2550.5\" y=\"-245.8\" font-family=\"Helvetica,sans-Serif\" font-size=\"14.00\">value = [482, 26, 479]</text>\n<text text-anchor=\"start\" x=\"2588.5\" y=\"-230.8\" font-family=\"Helvetica,sans-Serif\" font-size=\"14.00\">class = T</text>\n</g>\n<!-- 38&#45;&gt;39 -->\n<g id=\"edge39\" class=\"edge\">\n<title>38&#45;&gt;39</title>\n<path fill=\"none\" stroke=\"black\" d=\"M2616,-341.91C2616,-333.65 2616,-324.86 2616,-316.3\"/>\n<polygon fill=\"black\" stroke=\"black\" points=\"2619.5,-316.02 2616,-306.02 2612.5,-316.02 2619.5,-316.02\"/>\n</g>\n<!-- 46 -->\n<g id=\"node47\" class=\"node\">\n<title>46</title>\n<path fill=\"#b78ef0\" stroke=\"black\" d=\"M3002.5,-306C3002.5,-306 2901.5,-306 2901.5,-306 2895.5,-306 2889.5,-300 2889.5,-294 2889.5,-294 2889.5,-235 2889.5,-235 2889.5,-229 2895.5,-223 2901.5,-223 2901.5,-223 3002.5,-223 3002.5,-223 3008.5,-223 3014.5,-229 3014.5,-235 3014.5,-235 3014.5,-294 3014.5,-294 3014.5,-300 3008.5,-306 3002.5,-306\"/>\n<text text-anchor=\"start\" x=\"2899.5\" y=\"-290.8\" font-family=\"Helvetica,sans-Serif\" font-size=\"14.00\">Diameter ≤ 0.608</text>\n<text text-anchor=\"start\" x=\"2920\" y=\"-275.8\" font-family=\"Helvetica,sans-Serif\" font-size=\"14.00\">gini = 0.42</text>\n<text text-anchor=\"start\" x=\"2911\" y=\"-260.8\" font-family=\"Helvetica,sans-Serif\" font-size=\"14.00\">samples = 70</text>\n<text text-anchor=\"start\" x=\"2897.5\" y=\"-245.8\" font-family=\"Helvetica,sans-Serif\" font-size=\"14.00\">value = [21, 0, 49]</text>\n<text text-anchor=\"start\" x=\"2924.5\" y=\"-230.8\" font-family=\"Helvetica,sans-Serif\" font-size=\"14.00\">class = p</text>\n</g>\n<!-- 38&#45;&gt;46 -->\n<g id=\"edge46\" class=\"edge\">\n<title>38&#45;&gt;46</title>\n<path fill=\"none\" stroke=\"black\" d=\"M2696.05,-354.62C2751.9,-335.18 2825.81,-309.44 2879.84,-290.63\"/>\n<polygon fill=\"black\" stroke=\"black\" points=\"2881.06,-293.91 2889.35,-287.32 2878.76,-287.3 2881.06,-293.91\"/>\n</g>\n<!-- 40 -->\n<g id=\"node41\" class=\"node\">\n<title>40</title>\n<path fill=\"#f5f0fd\" stroke=\"black\" d=\"M2596.5,-187C2596.5,-187 2473.5,-187 2473.5,-187 2467.5,-187 2461.5,-181 2461.5,-175 2461.5,-175 2461.5,-116 2461.5,-116 2461.5,-110 2467.5,-104 2473.5,-104 2473.5,-104 2596.5,-104 2596.5,-104 2602.5,-104 2608.5,-110 2608.5,-116 2608.5,-116 2608.5,-175 2608.5,-175 2608.5,-181 2602.5,-187 2596.5,-187\"/>\n<text text-anchor=\"start\" x=\"2491\" y=\"-171.8\" font-family=\"Helvetica,sans-Serif\" font-size=\"14.00\">Height ≤ 0.203</text>\n<text text-anchor=\"start\" x=\"2499.5\" y=\"-156.8\" font-family=\"Helvetica,sans-Serif\" font-size=\"14.00\">gini = 0.527</text>\n<text text-anchor=\"start\" x=\"2490\" y=\"-141.8\" font-family=\"Helvetica,sans-Serif\" font-size=\"14.00\">samples = 846</text>\n<text text-anchor=\"start\" x=\"2469.5\" y=\"-126.8\" font-family=\"Helvetica,sans-Serif\" font-size=\"14.00\">value = [393, 25, 428]</text>\n<text text-anchor=\"start\" x=\"2507.5\" y=\"-111.8\" font-family=\"Helvetica,sans-Serif\" font-size=\"14.00\">class = p</text>\n</g>\n<!-- 39&#45;&gt;40 -->\n<g id=\"edge40\" class=\"edge\">\n<title>39&#45;&gt;40</title>\n<path fill=\"none\" stroke=\"black\" d=\"M2587.9,-222.91C2581.74,-214.01 2575.16,-204.51 2568.81,-195.33\"/>\n<polygon fill=\"black\" stroke=\"black\" points=\"2571.62,-193.25 2563.05,-187.02 2565.87,-197.24 2571.62,-193.25\"/>\n</g>\n<!-- 43 -->\n<g id=\"node44\" class=\"node\">\n<title>43</title>\n<path fill=\"#f4caab\" stroke=\"black\" d=\"M2757.5,-187C2757.5,-187 2638.5,-187 2638.5,-187 2632.5,-187 2626.5,-181 2626.5,-175 2626.5,-175 2626.5,-116 2626.5,-116 2626.5,-110 2632.5,-104 2638.5,-104 2638.5,-104 2757.5,-104 2757.5,-104 2763.5,-104 2769.5,-110 2769.5,-116 2769.5,-116 2769.5,-175 2769.5,-175 2769.5,-181 2763.5,-187 2757.5,-187\"/>\n<text text-anchor=\"start\" x=\"2634.5\" y=\"-171.8\" font-family=\"Helvetica,sans-Serif\" font-size=\"14.00\">LongestShell ≤ 0.752</text>\n<text text-anchor=\"start\" x=\"2662.5\" y=\"-156.8\" font-family=\"Helvetica,sans-Serif\" font-size=\"14.00\">gini = 0.471</text>\n<text text-anchor=\"start\" x=\"2653\" y=\"-141.8\" font-family=\"Helvetica,sans-Serif\" font-size=\"14.00\">samples = 141</text>\n<text text-anchor=\"start\" x=\"2643.5\" y=\"-126.8\" font-family=\"Helvetica,sans-Serif\" font-size=\"14.00\">value = [89, 1, 51]</text>\n<text text-anchor=\"start\" x=\"2670.5\" y=\"-111.8\" font-family=\"Helvetica,sans-Serif\" font-size=\"14.00\">class = T</text>\n</g>\n<!-- 39&#45;&gt;43 -->\n<g id=\"edge43\" class=\"edge\">\n<title>39&#45;&gt;43</title>\n<path fill=\"none\" stroke=\"black\" d=\"M2644.45,-222.91C2650.68,-214.01 2657.34,-204.51 2663.78,-195.33\"/>\n<polygon fill=\"black\" stroke=\"black\" points=\"2666.73,-197.22 2669.6,-187.02 2661,-193.2 2666.73,-197.22\"/>\n</g>\n<!-- 41 -->\n<g id=\"node42\" class=\"node\">\n<title>41</title>\n<path fill=\"#f1eafc\" stroke=\"black\" d=\"M2452.5,-68C2452.5,-68 2329.5,-68 2329.5,-68 2323.5,-68 2317.5,-62 2317.5,-56 2317.5,-56 2317.5,-12 2317.5,-12 2317.5,-6 2323.5,0 2329.5,0 2329.5,0 2452.5,0 2452.5,0 2458.5,0 2464.5,-6 2464.5,-12 2464.5,-12 2464.5,-56 2464.5,-56 2464.5,-62 2458.5,-68 2452.5,-68\"/>\n<text text-anchor=\"start\" x=\"2355.5\" y=\"-52.8\" font-family=\"Helvetica,sans-Serif\" font-size=\"14.00\">gini = 0.528</text>\n<text text-anchor=\"start\" x=\"2346\" y=\"-37.8\" font-family=\"Helvetica,sans-Serif\" font-size=\"14.00\">samples = 804</text>\n<text text-anchor=\"start\" x=\"2325.5\" y=\"-22.8\" font-family=\"Helvetica,sans-Serif\" font-size=\"14.00\">value = [366, 25, 413]</text>\n<text text-anchor=\"start\" x=\"2363.5\" y=\"-7.8\" font-family=\"Helvetica,sans-Serif\" font-size=\"14.00\">class = p</text>\n</g>\n<!-- 40&#45;&gt;41 -->\n<g id=\"edge41\" class=\"edge\">\n<title>40&#45;&gt;41</title>\n<path fill=\"none\" stroke=\"black\" d=\"M2481.38,-103.73C2468.79,-94.15 2455.39,-83.96 2442.87,-74.44\"/>\n<polygon fill=\"black\" stroke=\"black\" points=\"2444.87,-71.57 2434.79,-68.3 2440.63,-77.14 2444.87,-71.57\"/>\n</g>\n<!-- 42 -->\n<g id=\"node43\" class=\"node\">\n<title>42</title>\n<path fill=\"#f3c7a7\" stroke=\"black\" d=\"M2595.5,-68C2595.5,-68 2494.5,-68 2494.5,-68 2488.5,-68 2482.5,-62 2482.5,-56 2482.5,-56 2482.5,-12 2482.5,-12 2482.5,-6 2488.5,0 2494.5,0 2494.5,0 2595.5,0 2595.5,0 2601.5,0 2607.5,-6 2607.5,-12 2607.5,-12 2607.5,-56 2607.5,-56 2607.5,-62 2601.5,-68 2595.5,-68\"/>\n<text text-anchor=\"start\" x=\"2509.5\" y=\"-52.8\" font-family=\"Helvetica,sans-Serif\" font-size=\"14.00\">gini = 0.459</text>\n<text text-anchor=\"start\" x=\"2504\" y=\"-37.8\" font-family=\"Helvetica,sans-Serif\" font-size=\"14.00\">samples = 42</text>\n<text text-anchor=\"start\" x=\"2490.5\" y=\"-22.8\" font-family=\"Helvetica,sans-Serif\" font-size=\"14.00\">value = [27, 0, 15]</text>\n<text text-anchor=\"start\" x=\"2517.5\" y=\"-7.8\" font-family=\"Helvetica,sans-Serif\" font-size=\"14.00\">class = T</text>\n</g>\n<!-- 40&#45;&gt;42 -->\n<g id=\"edge42\" class=\"edge\">\n<title>40&#45;&gt;42</title>\n<path fill=\"none\" stroke=\"black\" d=\"M2538.72,-103.73C2539.48,-95.43 2540.28,-86.67 2541.05,-78.28\"/>\n<polygon fill=\"black\" stroke=\"black\" points=\"2544.53,-78.58 2541.96,-68.3 2537.56,-77.94 2544.53,-78.58\"/>\n</g>\n<!-- 44 -->\n<g id=\"node45\" class=\"node\">\n<title>44</title>\n<path fill=\"#f3c3a0\" stroke=\"black\" d=\"M2738.5,-68C2738.5,-68 2637.5,-68 2637.5,-68 2631.5,-68 2625.5,-62 2625.5,-56 2625.5,-56 2625.5,-12 2625.5,-12 2625.5,-6 2631.5,0 2637.5,0 2637.5,0 2738.5,0 2738.5,0 2744.5,0 2750.5,-6 2750.5,-12 2750.5,-12 2750.5,-56 2750.5,-56 2750.5,-62 2744.5,-68 2738.5,-68\"/>\n<text text-anchor=\"start\" x=\"2652.5\" y=\"-52.8\" font-family=\"Helvetica,sans-Serif\" font-size=\"14.00\">gini = 0.457</text>\n<text text-anchor=\"start\" x=\"2643\" y=\"-37.8\" font-family=\"Helvetica,sans-Serif\" font-size=\"14.00\">samples = 136</text>\n<text text-anchor=\"start\" x=\"2633.5\" y=\"-22.8\" font-family=\"Helvetica,sans-Serif\" font-size=\"14.00\">value = [89, 1, 46]</text>\n<text text-anchor=\"start\" x=\"2660.5\" y=\"-7.8\" font-family=\"Helvetica,sans-Serif\" font-size=\"14.00\">class = T</text>\n</g>\n<!-- 43&#45;&gt;44 -->\n<g id=\"edge44\" class=\"edge\">\n<title>43&#45;&gt;44</title>\n<path fill=\"none\" stroke=\"black\" d=\"M2694.28,-103.73C2693.52,-95.43 2692.72,-86.67 2691.95,-78.28\"/>\n<polygon fill=\"black\" stroke=\"black\" points=\"2695.44,-77.94 2691.04,-68.3 2688.47,-78.58 2695.44,-77.94\"/>\n</g>\n<!-- 45 -->\n<g id=\"node46\" class=\"node\">\n<title>45</title>\n<path fill=\"#8139e5\" stroke=\"black\" d=\"M2867,-68C2867,-68 2781,-68 2781,-68 2775,-68 2769,-62 2769,-56 2769,-56 2769,-12 2769,-12 2769,-6 2775,0 2781,0 2781,0 2867,0 2867,0 2873,0 2879,-6 2879,-12 2879,-12 2879,-56 2879,-56 2879,-62 2873,-68 2867,-68\"/>\n<text text-anchor=\"start\" x=\"2796\" y=\"-52.8\" font-family=\"Helvetica,sans-Serif\" font-size=\"14.00\">gini = 0.0</text>\n<text text-anchor=\"start\" x=\"2786.5\" y=\"-37.8\" font-family=\"Helvetica,sans-Serif\" font-size=\"14.00\">samples = 5</text>\n<text text-anchor=\"start\" x=\"2777\" y=\"-22.8\" font-family=\"Helvetica,sans-Serif\" font-size=\"14.00\">value = [0, 0, 5]</text>\n<text text-anchor=\"start\" x=\"2796.5\" y=\"-7.8\" font-family=\"Helvetica,sans-Serif\" font-size=\"14.00\">class = p</text>\n</g>\n<!-- 43&#45;&gt;45 -->\n<g id=\"edge45\" class=\"edge\">\n<title>43&#45;&gt;45</title>\n<path fill=\"none\" stroke=\"black\" d=\"M2744.92,-103.73C2755.73,-94.33 2767.21,-84.35 2777.99,-74.99\"/>\n<polygon fill=\"black\" stroke=\"black\" points=\"2780.43,-77.5 2785.68,-68.3 2775.84,-72.22 2780.43,-77.5\"/>\n</g>\n<!-- 47 -->\n<g id=\"node48\" class=\"node\">\n<title>47</title>\n<path fill=\"#ab7bee\" stroke=\"black\" d=\"M3013,-187C3013,-187 2891,-187 2891,-187 2885,-187 2879,-181 2879,-175 2879,-175 2879,-116 2879,-116 2879,-110 2885,-104 2891,-104 2891,-104 3013,-104 3013,-104 3019,-104 3025,-110 3025,-116 3025,-116 3025,-175 3025,-175 3025,-181 3019,-187 3013,-187\"/>\n<text text-anchor=\"start\" x=\"2887\" y=\"-171.8\" font-family=\"Helvetica,sans-Serif\" font-size=\"14.00\">WholeWeight ≤ 1.605</text>\n<text text-anchor=\"start\" x=\"2916.5\" y=\"-156.8\" font-family=\"Helvetica,sans-Serif\" font-size=\"14.00\">gini = 0.375</text>\n<text text-anchor=\"start\" x=\"2911\" y=\"-141.8\" font-family=\"Helvetica,sans-Serif\" font-size=\"14.00\">samples = 64</text>\n<text text-anchor=\"start\" x=\"2897.5\" y=\"-126.8\" font-family=\"Helvetica,sans-Serif\" font-size=\"14.00\">value = [16, 0, 48]</text>\n<text text-anchor=\"start\" x=\"2924.5\" y=\"-111.8\" font-family=\"Helvetica,sans-Serif\" font-size=\"14.00\">class = p</text>\n</g>\n<!-- 46&#45;&gt;47 -->\n<g id=\"edge47\" class=\"edge\">\n<title>46&#45;&gt;47</title>\n<path fill=\"none\" stroke=\"black\" d=\"M2952,-222.91C2952,-214.65 2952,-205.86 2952,-197.3\"/>\n<polygon fill=\"black\" stroke=\"black\" points=\"2955.5,-197.02 2952,-187.02 2948.5,-197.02 2955.5,-197.02\"/>\n</g>\n<!-- 50 -->\n<g id=\"node51\" class=\"node\">\n<title>50</title>\n<path fill=\"#ea9a61\" stroke=\"black\" d=\"M3141,-179.5C3141,-179.5 3055,-179.5 3055,-179.5 3049,-179.5 3043,-173.5 3043,-167.5 3043,-167.5 3043,-123.5 3043,-123.5 3043,-117.5 3049,-111.5 3055,-111.5 3055,-111.5 3141,-111.5 3141,-111.5 3147,-111.5 3153,-117.5 3153,-123.5 3153,-123.5 3153,-167.5 3153,-167.5 3153,-173.5 3147,-179.5 3141,-179.5\"/>\n<text text-anchor=\"start\" x=\"3062.5\" y=\"-164.3\" font-family=\"Helvetica,sans-Serif\" font-size=\"14.00\">gini = 0.278</text>\n<text text-anchor=\"start\" x=\"3060.5\" y=\"-149.3\" font-family=\"Helvetica,sans-Serif\" font-size=\"14.00\">samples = 6</text>\n<text text-anchor=\"start\" x=\"3051\" y=\"-134.3\" font-family=\"Helvetica,sans-Serif\" font-size=\"14.00\">value = [5, 0, 1]</text>\n<text text-anchor=\"start\" x=\"3070.5\" y=\"-119.3\" font-family=\"Helvetica,sans-Serif\" font-size=\"14.00\">class = T</text>\n</g>\n<!-- 46&#45;&gt;50 -->\n<g id=\"edge50\" class=\"edge\">\n<title>46&#45;&gt;50</title>\n<path fill=\"none\" stroke=\"black\" d=\"M3002.65,-222.91C3017.53,-210.99 3033.77,-197.98 3048.56,-186.12\"/>\n<polygon fill=\"black\" stroke=\"black\" points=\"3051,-188.65 3056.61,-179.67 3046.62,-183.19 3051,-188.65\"/>\n</g>\n<!-- 48 -->\n<g id=\"node49\" class=\"node\">\n<title>48</title>\n<path fill=\"#e58139\" stroke=\"black\" d=\"M2995,-68C2995,-68 2909,-68 2909,-68 2903,-68 2897,-62 2897,-56 2897,-56 2897,-12 2897,-12 2897,-6 2903,0 2909,0 2909,0 2995,0 2995,0 3001,0 3007,-6 3007,-12 3007,-12 3007,-56 3007,-56 3007,-62 3001,-68 2995,-68\"/>\n<text text-anchor=\"start\" x=\"2924\" y=\"-52.8\" font-family=\"Helvetica,sans-Serif\" font-size=\"14.00\">gini = 0.0</text>\n<text text-anchor=\"start\" x=\"2914.5\" y=\"-37.8\" font-family=\"Helvetica,sans-Serif\" font-size=\"14.00\">samples = 2</text>\n<text text-anchor=\"start\" x=\"2905\" y=\"-22.8\" font-family=\"Helvetica,sans-Serif\" font-size=\"14.00\">value = [2, 0, 0]</text>\n<text text-anchor=\"start\" x=\"2924.5\" y=\"-7.8\" font-family=\"Helvetica,sans-Serif\" font-size=\"14.00\">class = T</text>\n</g>\n<!-- 47&#45;&gt;48 -->\n<g id=\"edge48\" class=\"edge\">\n<title>47&#45;&gt;48</title>\n<path fill=\"none\" stroke=\"black\" d=\"M2952,-103.73C2952,-95.52 2952,-86.86 2952,-78.56\"/>\n<polygon fill=\"black\" stroke=\"black\" points=\"2955.5,-78.3 2952,-68.3 2948.5,-78.3 2955.5,-78.3\"/>\n</g>\n<!-- 49 -->\n<g id=\"node50\" class=\"node\">\n<title>49</title>\n<path fill=\"#a673ed\" stroke=\"black\" d=\"M3138.5,-68C3138.5,-68 3037.5,-68 3037.5,-68 3031.5,-68 3025.5,-62 3025.5,-56 3025.5,-56 3025.5,-12 3025.5,-12 3025.5,-6 3031.5,0 3037.5,0 3037.5,0 3138.5,0 3138.5,0 3144.5,0 3150.5,-6 3150.5,-12 3150.5,-12 3150.5,-56 3150.5,-56 3150.5,-62 3144.5,-68 3138.5,-68\"/>\n<text text-anchor=\"start\" x=\"3056\" y=\"-52.8\" font-family=\"Helvetica,sans-Serif\" font-size=\"14.00\">gini = 0.35</text>\n<text text-anchor=\"start\" x=\"3047\" y=\"-37.8\" font-family=\"Helvetica,sans-Serif\" font-size=\"14.00\">samples = 62</text>\n<text text-anchor=\"start\" x=\"3033.5\" y=\"-22.8\" font-family=\"Helvetica,sans-Serif\" font-size=\"14.00\">value = [14, 0, 48]</text>\n<text text-anchor=\"start\" x=\"3060.5\" y=\"-7.8\" font-family=\"Helvetica,sans-Serif\" font-size=\"14.00\">class = p</text>\n</g>\n<!-- 47&#45;&gt;49 -->\n<g id=\"edge49\" class=\"edge\">\n<title>47&#45;&gt;49</title>\n<path fill=\"none\" stroke=\"black\" d=\"M3002.64,-103.73C3014.42,-94.24 3026.95,-84.16 3038.67,-74.72\"/>\n<polygon fill=\"black\" stroke=\"black\" points=\"3041.05,-77.3 3046.64,-68.3 3036.66,-71.84 3041.05,-77.3\"/>\n</g>\n</g>\n</svg>\n",
            "text/plain": [
              "<graphviz.sources.Source at 0x7e10ec513cd0>"
            ]
          },
          "metadata": {}
        }
      ]
    },
    {
      "cell_type": "code",
      "source": [
        "# print to the output file\n",
        "print('\\n', file = outputFile)\n",
        "print('**************************************************************', file = outputFile)\n",
        "print('(A) Classifier 2 - Top DT', file = outputFile)\n",
        "print(classifier_2, file = outputFile)\n",
        "print('\\n', file = outputFile)\n",
        "print(f'best parameters: {classifier_2.best_params_}\\n', file = outputFile)\n",
        "print('\\n', file = outputFile)\n",
        "outputFile.flush()"
      ],
      "metadata": {
        "id": "o8yWMcL873FK"
      },
      "execution_count": 40,
      "outputs": []
    },
    {
      "cell_type": "code",
      "source": [
        "# print classification report\n",
        "y_pred = classifier_2.predict(X_test)\n",
        "confusion_mat= confusion_matrix(y_test, y_pred)\n",
        "\n",
        "print(classification_report(y_test, y_pred, target_names=['F', 'M', 'I']))\n",
        "print(\"confusion matrix\\n\",confusion_mat)\n",
        "\n",
        "# print the result to the output file\n",
        "confusion_matrix_result =np.array2string(confusion_mat)\n",
        "print(\"(B) Confusion Matrix\", file = outputFile)\n",
        "print(confusion_matrix_result, file = outputFile)\n",
        "print('\\n', file = outputFile)\n",
        "print('(C,D) Classification Report', file = outputFile)\n",
        "print(classification_report(y_test, y_pred, target_names = ['F', 'M', 'I']), file = outputFile)\n",
        "outputFile.flush()"
      ],
      "metadata": {
        "id": "v88y-qmq73OR",
        "outputId": "a86f67f9-f9a7-420c-b3ca-53cddf4af846",
        "colab": {
          "base_uri": "https://localhost:8080/"
        }
      },
      "execution_count": 41,
      "outputs": [
        {
          "output_type": "stream",
          "name": "stdout",
          "text": [
            "              precision    recall  f1-score   support\n",
            "\n",
            "           F       0.47      0.23      0.31       398\n",
            "           M       0.71      0.70      0.71       403\n",
            "           I       0.46      0.67      0.55       453\n",
            "\n",
            "    accuracy                           0.54      1254\n",
            "   macro avg       0.55      0.53      0.52      1254\n",
            "weighted avg       0.54      0.54      0.52      1254\n",
            "\n",
            "confusion matrix\n",
            " [[ 93  38 267]\n",
            " [ 33 281  89]\n",
            " [ 73  75 305]]\n"
          ]
        }
      ]
    },
    {
      "cell_type": "code",
      "source": [
        "# repeat training & grid search & prediction 5 times for classifier 2\n",
        "from sklearn.metrics import accuracy_score, f1_score\n",
        "\n",
        "accuracy_TopDT = np.zeros(5)\n",
        "macro_avg_TopDT = np.zeros(5)\n",
        "weighted_avg_TopDT = np.zeros(5)\n",
        "\n",
        "print('\\n(E) The result after 5 times of train-test repetition:' ,file = outputFile)\n",
        "\n",
        "for i in range(5):\n",
        "  X_train, X_test, y_train, y_test = train_test_split(X, y, test_size = 0.3)\n",
        "\n",
        "  classifier_2 = GridSearchCV(DecisionTreeClassifier(), parameters)\n",
        "  classifier_2.fit(X_train, y_train)\n",
        "\n",
        "  print(f'best parameters for iteration{i+1}: {classifier_2.best_params_}',file = outputFile)\n",
        "  print(f'best parameters for iteration{i+1}: {classifier_2.best_params_}')\n",
        "\n",
        "  y_pred = classifier_2.predict(X_test)\n",
        "\n",
        "  # find the accuracy for each iteration and store the value\n",
        "  accuracy_TopDT[i] = accuracy_score(y_test, y_pred)\n",
        "  macro_avg_TopDT[i] = f1_score(y_test, y_pred, average='macro')\n",
        "  weighted_avg_TopDT[i] = f1_score(y_test, y_pred, average='weighted')\n",
        "\n",
        "print()\n",
        "# compute the average accuracy & variances\n",
        "print(f'accuracy_TopDT: {accuracy_TopDT}')\n",
        "Avg_accuracy = (np.sum(accuracy_TopDT))/5\n",
        "accuracy_variance = np.var(accuracy_TopDT)\n",
        "print(f'average accuracy: {Avg_accuracy:.4f}, variance: {accuracy_variance:.6f}')\n",
        "print()\n",
        "\n",
        "# compute the average macro-average F1 & the variance\n",
        "print(f'macro_avg_TopDT: {macro_avg_TopDT}')\n",
        "Avg_macro_avg = (np.sum(macro_avg_TopDT))/5\n",
        "f1_macro_variance = np.var(macro_avg_TopDT)\n",
        "print(f'average macro-average F1: {Avg_macro_avg:.4f}, variance: {f1_macro_variance:.6f}')\n",
        "print()\n",
        "\n",
        "# compute the average weighted-average F1 & the variance\n",
        "print(f'weighted_avg_TopDT: {weighted_avg_TopDT}')\n",
        "Avg_weighted_avg = (np.sum(weighted_avg_TopDT))/5\n",
        "f1_weighted_variance = np.var(weighted_avg_TopDT)\n",
        "print(f'average weighted-average F1: {Avg_weighted_avg:.4f}, variance: {f1_weighted_variance:.6f}')"
      ],
      "metadata": {
        "colab": {
          "base_uri": "https://localhost:8080/"
        },
        "id": "ctr66poidV4P",
        "outputId": "6879ccba-340c-48da-823e-4d730e4f851a"
      },
      "execution_count": 42,
      "outputs": [
        {
          "output_type": "stream",
          "name": "stdout",
          "text": [
            "best parameters for iteration1: {'criterion': 'gini', 'max_depth': 5, 'min_samples_split': 2}\n",
            "best parameters for iteration2: {'criterion': 'gini', 'max_depth': 5, 'min_samples_split': 2}\n",
            "best parameters for iteration3: {'criterion': 'gini', 'max_depth': 5, 'min_samples_split': 10}\n",
            "best parameters for iteration4: {'criterion': 'entropy', 'max_depth': 5, 'min_samples_split': 2}\n",
            "best parameters for iteration5: {'criterion': 'gini', 'max_depth': 5, 'min_samples_split': 2}\n",
            "\n",
            "accuracy_TopDT: [0.52551834 0.51355662 0.55342903 0.53668262 0.51355662]\n",
            "average accuracy: 0.5285, variance: 0.000229\n",
            "\n",
            "macro_avg_TopDT: [0.5171817  0.48113982 0.54196165 0.53560095 0.51454665]\n",
            "average macro-average F1: 0.5181, variance: 0.000451\n",
            "\n",
            "weighted_avg_TopDT: [0.51521524 0.47822775 0.54087779 0.53100613 0.50719794]\n",
            "average weighted-average F1: 0.5145, variance: 0.000468\n"
          ]
        }
      ]
    },
    {
      "cell_type": "code",
      "source": [
        "# print the performance result to outputfile\n",
        "print('\\n', file = outputFile)\n",
        "print(f'average accuracy: {Avg_accuracy:.4f}, variance: {accuracy_variance:.6f}', file = outputFile)\n",
        "print(f'average macro-average F1: {Avg_macro_avg:.4f}, variance: {f1_macro_variance:.6f}', file = outputFile)\n",
        "print(f'average weighted-average F1: {Avg_weighted_avg:.4f}, variance: {f1_weighted_variance:.6f}', file = outputFile)\n",
        "outputFile.flush()"
      ],
      "metadata": {
        "id": "x9YFP9uEdV62"
      },
      "execution_count": 43,
      "outputs": []
    },
    {
      "cell_type": "markdown",
      "source": [
        "##### Classifier 3 - Base-MLP"
      ],
      "metadata": {
        "id": "GQrsfw6Xm1nI"
      }
    },
    {
      "cell_type": "code",
      "source": [
        "#Train Classifier 3\n",
        "mlp_base_abalone = MLPClassifier(hidden_layer_sizes =(100, 100,), activation = 'logistic', solver = 'sgd')\n",
        "mlp_base_abalone.fit(X_train, y_train)\n",
        "\n",
        "#print to the output file\n",
        "print('**************************************************************', file = outputFile)\n",
        "print('(A) Classifier 3 - Base MLP', file = outputFile)\n",
        "print(mlp_base_abalone, file = outputFile)"
      ],
      "metadata": {
        "id": "MiIPiod7m7qC"
      },
      "execution_count": null,
      "outputs": []
    },
    {
      "cell_type": "markdown",
      "source": [
        "Metrics for Classifier 3"
      ],
      "metadata": {
        "id": "1TD8ynkGoZAP"
      }
    },
    {
      "cell_type": "code",
      "source": [
        "#predict with Base MLP\n",
        "y_pred_base_mlp = mlp_base_abalone.predict(X_test)\n",
        "\n",
        "#print the result here on notebook\n",
        "print(classification_report(y_test, y_pred_base_mlp, target_names = ['F', 'M', 'I']))\n",
        "print(confusion_matrix(y_test, y_pred_base_mlp))\n",
        "\n",
        "#print the result to the output file\n",
        "print(\"\\n(B) Confusion Matrix\", file = outputFile)\n",
        "confusion_matrix_result = np.array2string(confusion_matrix(y_test, y_pred_base_mlp))\n",
        "print(confusion_matrix_result, file = outputFile)\n",
        "print(\"\\n(C, D) Classification Report\", file = outputFile)\n",
        "print(classification_report(y_test, y_pred_base_mlp, target_names = ['F', 'M', 'I']), file = outputFile)\n",
        "\n",
        "outputFile.flush()"
      ],
      "metadata": {
        "id": "coh8LE0bocLA"
      },
      "execution_count": null,
      "outputs": []
    },
    {
      "cell_type": "code",
      "source": [
        "MLP_base_train_test_repetition(X, y, outputFile, ['F', 'M', 'I'])"
      ],
      "metadata": {
        "id": "Ss7voSkYmhiK"
      },
      "execution_count": null,
      "outputs": []
    },
    {
      "cell_type": "markdown",
      "source": [
        "##### Classifier 4 - Top-MLP"
      ],
      "metadata": {
        "id": "okD7I5KHnODP"
      }
    },
    {
      "cell_type": "code",
      "source": [
        "#create grid for each hyperparamter we want to test\n",
        "activation_grid = np.array(['logistic', 'tanh', 'relu'])\n",
        "neurons_tuple_grid = np.array([(30, 50,), (10, 10, 10,)])\n",
        "solver_grid = np.array(['adam', 'sgd'])\n",
        "\n",
        "#create parameter grid for GridSearchCV\n",
        "param_grid = {'hidden_layer_sizes': neurons_tuple_grid, 'activation': activation_grid, 'solver': solver_grid}\n",
        "\n",
        "#create grid cv object and search\n",
        "mlp_top_abalone = MLPClassifier()\n",
        "gridcv = sk.model_selection.GridSearchCV(mlp_top_abalone, param_grid = param_grid)\n",
        "gridcv.fit(X_train, y_train)\n",
        "\n",
        "#print the result here on notebook\n",
        "print(f'best parameters: {gridcv.best_params_}')\n",
        "\n",
        "#print the result to the output file\n",
        "print('**************************************************************', file = outputFile)\n",
        "print('(A) Classifier 4 - Top MLP', file = outputFile)\n",
        "print(f'best parameters: {gridcv.best_params_}', file = outputFile)\n",
        "outputFile.flush()"
      ],
      "metadata": {
        "id": "mphIulW3nREP"
      },
      "execution_count": null,
      "outputs": []
    },
    {
      "cell_type": "markdown",
      "source": [
        "Metrics for Classifier 4"
      ],
      "metadata": {
        "id": "PXrrvETEpQNZ"
      }
    },
    {
      "cell_type": "code",
      "source": [
        "y_pred_top_mlp = gridcv.best_estimator_.predict(X_test)\n",
        "print(classification_report(y_test, y_pred_top_mlp, target_names = ['F', 'M', 'I']))\n",
        "print(confusion_matrix(y_test, y_pred_top_mlp))\n",
        "\n",
        "print(\"\\n(B) Confusion Matrix\", file = outputFile)\n",
        "confusion_matrix_result = np.array2string(confusion_matrix(y_test, y_pred_top_mlp))\n",
        "print(confusion_matrix_result, file = outputFile)\n",
        "print(\"\\n(C, D) Classification Report\", file = outputFile)\n",
        "print(classification_report(y_test, y_pred_top_mlp, target_names = ['F', 'M', 'I']), file = outputFile)\n",
        "\n",
        "outputFile.flush()"
      ],
      "metadata": {
        "id": "KbwAcoZLpSQW"
      },
      "execution_count": null,
      "outputs": []
    },
    {
      "cell_type": "code",
      "source": [
        "MLP_top_train_test_repetition(param_grid, X, y, outputFile, ['F', 'M', 'I'])"
      ],
      "metadata": {
        "id": "gTPJwcXCnwYK"
      },
      "execution_count": null,
      "outputs": []
    },
    {
      "cell_type": "code",
      "source": [
        "outputFile.close()"
      ],
      "metadata": {
        "id": "4AxS7Io7pFta"
      },
      "execution_count": null,
      "outputs": []
    }
  ]
}