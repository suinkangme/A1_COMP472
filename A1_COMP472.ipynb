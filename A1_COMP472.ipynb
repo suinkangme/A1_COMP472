{
  "nbformat": 4,
  "nbformat_minor": 0,
  "metadata": {
    "colab": {
      "provenance": [],
      "collapsed_sections": [
        "n3GMoC3wzPte"
      ],
      "include_colab_link": true
    },
    "kernelspec": {
      "name": "python3",
      "display_name": "Python 3"
    },
    "language_info": {
      "name": "python"
    }
  },
  "cells": [
    {
      "cell_type": "markdown",
      "metadata": {
        "id": "view-in-github",
        "colab_type": "text"
      },
      "source": [
        "<a href=\"https://colab.research.google.com/github/suinkangme/A1_COMP472/blob/main/A1_COMP472.ipynb\" target=\"_parent\"><img src=\"https://colab.research.google.com/assets/colab-badge.svg\" alt=\"Open In Colab\"/></a>"
      ]
    },
    {
      "cell_type": "markdown",
      "source": [
        "# A1 - COMP 472\n",
        "\n",
        "Hyun Soo Kim 40174913\n",
        "\n",
        "Suin Kang 40129337"
      ],
      "metadata": {
        "id": "OuS04gqWrlBb"
      }
    },
    {
      "cell_type": "code",
      "source": [
        "import pandas as pd\n",
        "import sklearn as sk\n",
        "import numpy as np\n",
        "import matplotlib.pyplot as plt\n",
        "import seaborn as sns\n",
        "import graphviz\n",
        "from sklearn.metrics import classification_report\n",
        "from sklearn.metrics import confusion_matrix\n",
        "import warnings\n",
        "from sklearn.neural_network import MLPClassifier"
      ],
      "metadata": {
        "id": "plbuWv54rsMP"
      },
      "execution_count": 379,
      "outputs": []
    },
    {
      "cell_type": "markdown",
      "source": [
        "### Import the MyDrive library from CoLab"
      ],
      "metadata": {
        "id": "n3GMoC3wzPte"
      }
    },
    {
      "cell_type": "code",
      "source": [
        "from google.colab import drive\n",
        "drive.mount('/content/drive')\n",
        "\n",
        "# the directory owns this notebook and dataset\n",
        "import os\n",
        "os.chdir('/content/drive/MyDrive/comp472/')"
      ],
      "metadata": {
        "id": "QM05GBSaoZIy",
        "colab": {
          "base_uri": "https://localhost:8080/"
        },
        "outputId": "f7ca24ff-1a0d-47c0-9067-77ad5e4cf75f"
      },
      "execution_count": 380,
      "outputs": [
        {
          "output_type": "stream",
          "name": "stdout",
          "text": [
            "Drive already mounted at /content/drive; to attempt to forcibly remount, call drive.mount(\"/content/drive\", force_remount=True).\n"
          ]
        }
      ]
    },
    {
      "cell_type": "markdown",
      "source": [
        "### Definition of train-test-repetition function"
      ],
      "metadata": {
        "id": "UQWo18d_G_Au"
      }
    },
    {
      "cell_type": "code",
      "source": [
        "def train_test_repetition(layer_size, activation_function, solver, X, y, outputFile, target_names):\n",
        "  accuracy = []\n",
        "  macro_avg = []\n",
        "  weighted_avg = []\n",
        "\n",
        "  #repeat 5 times\n",
        "  for i in range (0,5):\n",
        "\n",
        "    #data is shuffled every time\n",
        "    X_train, X_test, y_train, y_test = train_test_split(X, y, test_size = 0.3)\n",
        "\n",
        "    #initialize new model with same hyperparameters\n",
        "    model = MLPClassifier(hidden_layer_sizes = layer_size, activation = activation_function, solver = solver)\n",
        "\n",
        "    #train and predict\n",
        "    model.fit(X_train, y_train)\n",
        "    y_pred = model.predict(X_test)\n",
        "\n",
        "    #for average accuracy / macro-average f1 score / weighted-average f1 score and variance calculation\n",
        "    output = classification_report(y_test, y_pred, target_names = target_names, output_dict = True)\n",
        "    accuracy.append(output['accuracy'])\n",
        "    macro_avg.append(output['macro avg']['f1-score'])\n",
        "    weighted_avg.append(output['weighted avg']['f1-score'])\n",
        "\n",
        "    #print to text file. This would make it easier to validate the result of each model\n",
        "    print(\"(B) Confusion Matrix\", file = outputFile)\n",
        "    confusion_matrix_result = confusion_matrix(y_test, y_pred)\n",
        "    print(confusion_matrix_result, file = outputFile)\n",
        "\n",
        "    print(\"(C,D) Classification Report\", file = outputFile)\n",
        "    print(f'=== Iteration {i+1} === ', file = outputFile)\n",
        "    print(classification_report(y_test, y_pred, target_names = target_names), file =outputFile)\n",
        "\n",
        "  #append the calculation in the report\n",
        "  print('\\n(E) The result after 5 times of train-test repetition:' ,file = outputFile)\n",
        "  print(f'\\tThe average accuracy / variance: {np.mean(accuracy): 6.2f}, {np.var(accuracy): 6.3f}', file = outputFile)\n",
        "  print(f'\\tThe average macro-average f1 score / variance: {np.mean(macro_avg): 6.2f}, {np.var(macro_avg): 6.3f}', file = outputFile)\n",
        "  print(f'\\tThe average weighted-average f1 score / variance: {np.mean(weighted_avg): 6.2f}, {np.var(weighted_avg): 6.3f}', file = outputFile)\n",
        "  print('\\n', file = outputFile)\n",
        "  outputFile.flush()"
      ],
      "metadata": {
        "id": "V7wnBMtiS7ns"
      },
      "execution_count": 381,
      "outputs": []
    },
    {
      "cell_type": "markdown",
      "source": [
        "## Dataset - 'penguins.csv'\n",
        "- Goal : prediction of species\n",
        "(Adelie, Gentoo, Chinstap)"
      ],
      "metadata": {
        "id": "a0o_UdOEzTw_"
      }
    },
    {
      "cell_type": "code",
      "source": [
        "outputFile = open ('penguin-classes.txt', 'w')\n",
        "warnings.filterwarnings('ignore')"
      ],
      "metadata": {
        "id": "fmJJQACk9aQs"
      },
      "execution_count": 382,
      "outputs": []
    },
    {
      "cell_type": "code",
      "source": [
        "data_penguins = pd.read_csv('penguins.csv')\n",
        "data_penguins.head()"
      ],
      "metadata": {
        "id": "RdWPdNdHn_cP",
        "colab": {
          "base_uri": "https://localhost:8080/",
          "height": 206
        },
        "outputId": "449d6541-0923-4022-a5f2-cbf0491c1a82"
      },
      "execution_count": 383,
      "outputs": [
        {
          "output_type": "execute_result",
          "data": {
            "text/plain": [
              "  species     island  culmen_length_mm  culmen_depth_mm  flipper_length_mm  \\\n",
              "0  Adelie  Torgersen              39.1             18.7                181   \n",
              "1  Adelie  Torgersen              39.5             17.4                186   \n",
              "2  Adelie  Torgersen              40.3             18.0                195   \n",
              "3  Adelie  Torgersen              36.7             19.3                193   \n",
              "4  Adelie  Torgersen              39.3             20.6                190   \n",
              "\n",
              "   body_mass_g     sex  \n",
              "0         3750    MALE  \n",
              "1         3800  FEMALE  \n",
              "2         3250  FEMALE  \n",
              "3         3450  FEMALE  \n",
              "4         3650    MALE  "
            ],
            "text/html": [
              "\n",
              "  <div id=\"df-1787159b-e798-4a4a-a11b-9d0e4e6b8265\" class=\"colab-df-container\">\n",
              "    <div>\n",
              "<style scoped>\n",
              "    .dataframe tbody tr th:only-of-type {\n",
              "        vertical-align: middle;\n",
              "    }\n",
              "\n",
              "    .dataframe tbody tr th {\n",
              "        vertical-align: top;\n",
              "    }\n",
              "\n",
              "    .dataframe thead th {\n",
              "        text-align: right;\n",
              "    }\n",
              "</style>\n",
              "<table border=\"1\" class=\"dataframe\">\n",
              "  <thead>\n",
              "    <tr style=\"text-align: right;\">\n",
              "      <th></th>\n",
              "      <th>species</th>\n",
              "      <th>island</th>\n",
              "      <th>culmen_length_mm</th>\n",
              "      <th>culmen_depth_mm</th>\n",
              "      <th>flipper_length_mm</th>\n",
              "      <th>body_mass_g</th>\n",
              "      <th>sex</th>\n",
              "    </tr>\n",
              "  </thead>\n",
              "  <tbody>\n",
              "    <tr>\n",
              "      <th>0</th>\n",
              "      <td>Adelie</td>\n",
              "      <td>Torgersen</td>\n",
              "      <td>39.1</td>\n",
              "      <td>18.7</td>\n",
              "      <td>181</td>\n",
              "      <td>3750</td>\n",
              "      <td>MALE</td>\n",
              "    </tr>\n",
              "    <tr>\n",
              "      <th>1</th>\n",
              "      <td>Adelie</td>\n",
              "      <td>Torgersen</td>\n",
              "      <td>39.5</td>\n",
              "      <td>17.4</td>\n",
              "      <td>186</td>\n",
              "      <td>3800</td>\n",
              "      <td>FEMALE</td>\n",
              "    </tr>\n",
              "    <tr>\n",
              "      <th>2</th>\n",
              "      <td>Adelie</td>\n",
              "      <td>Torgersen</td>\n",
              "      <td>40.3</td>\n",
              "      <td>18.0</td>\n",
              "      <td>195</td>\n",
              "      <td>3250</td>\n",
              "      <td>FEMALE</td>\n",
              "    </tr>\n",
              "    <tr>\n",
              "      <th>3</th>\n",
              "      <td>Adelie</td>\n",
              "      <td>Torgersen</td>\n",
              "      <td>36.7</td>\n",
              "      <td>19.3</td>\n",
              "      <td>193</td>\n",
              "      <td>3450</td>\n",
              "      <td>FEMALE</td>\n",
              "    </tr>\n",
              "    <tr>\n",
              "      <th>4</th>\n",
              "      <td>Adelie</td>\n",
              "      <td>Torgersen</td>\n",
              "      <td>39.3</td>\n",
              "      <td>20.6</td>\n",
              "      <td>190</td>\n",
              "      <td>3650</td>\n",
              "      <td>MALE</td>\n",
              "    </tr>\n",
              "  </tbody>\n",
              "</table>\n",
              "</div>\n",
              "    <div class=\"colab-df-buttons\">\n",
              "\n",
              "  <div class=\"colab-df-container\">\n",
              "    <button class=\"colab-df-convert\" onclick=\"convertToInteractive('df-1787159b-e798-4a4a-a11b-9d0e4e6b8265')\"\n",
              "            title=\"Convert this dataframe to an interactive table.\"\n",
              "            style=\"display:none;\">\n",
              "\n",
              "  <svg xmlns=\"http://www.w3.org/2000/svg\" height=\"24px\" viewBox=\"0 -960 960 960\">\n",
              "    <path d=\"M120-120v-720h720v720H120Zm60-500h600v-160H180v160Zm220 220h160v-160H400v160Zm0 220h160v-160H400v160ZM180-400h160v-160H180v160Zm440 0h160v-160H620v160ZM180-180h160v-160H180v160Zm440 0h160v-160H620v160Z\"/>\n",
              "  </svg>\n",
              "    </button>\n",
              "\n",
              "  <style>\n",
              "    .colab-df-container {\n",
              "      display:flex;\n",
              "      gap: 12px;\n",
              "    }\n",
              "\n",
              "    .colab-df-convert {\n",
              "      background-color: #E8F0FE;\n",
              "      border: none;\n",
              "      border-radius: 50%;\n",
              "      cursor: pointer;\n",
              "      display: none;\n",
              "      fill: #1967D2;\n",
              "      height: 32px;\n",
              "      padding: 0 0 0 0;\n",
              "      width: 32px;\n",
              "    }\n",
              "\n",
              "    .colab-df-convert:hover {\n",
              "      background-color: #E2EBFA;\n",
              "      box-shadow: 0px 1px 2px rgba(60, 64, 67, 0.3), 0px 1px 3px 1px rgba(60, 64, 67, 0.15);\n",
              "      fill: #174EA6;\n",
              "    }\n",
              "\n",
              "    .colab-df-buttons div {\n",
              "      margin-bottom: 4px;\n",
              "    }\n",
              "\n",
              "    [theme=dark] .colab-df-convert {\n",
              "      background-color: #3B4455;\n",
              "      fill: #D2E3FC;\n",
              "    }\n",
              "\n",
              "    [theme=dark] .colab-df-convert:hover {\n",
              "      background-color: #434B5C;\n",
              "      box-shadow: 0px 1px 3px 1px rgba(0, 0, 0, 0.15);\n",
              "      filter: drop-shadow(0px 1px 2px rgba(0, 0, 0, 0.3));\n",
              "      fill: #FFFFFF;\n",
              "    }\n",
              "  </style>\n",
              "\n",
              "    <script>\n",
              "      const buttonEl =\n",
              "        document.querySelector('#df-1787159b-e798-4a4a-a11b-9d0e4e6b8265 button.colab-df-convert');\n",
              "      buttonEl.style.display =\n",
              "        google.colab.kernel.accessAllowed ? 'block' : 'none';\n",
              "\n",
              "      async function convertToInteractive(key) {\n",
              "        const element = document.querySelector('#df-1787159b-e798-4a4a-a11b-9d0e4e6b8265');\n",
              "        const dataTable =\n",
              "          await google.colab.kernel.invokeFunction('convertToInteractive',\n",
              "                                                    [key], {});\n",
              "        if (!dataTable) return;\n",
              "\n",
              "        const docLinkHtml = 'Like what you see? Visit the ' +\n",
              "          '<a target=\"_blank\" href=https://colab.research.google.com/notebooks/data_table.ipynb>data table notebook</a>'\n",
              "          + ' to learn more about interactive tables.';\n",
              "        element.innerHTML = '';\n",
              "        dataTable['output_type'] = 'display_data';\n",
              "        await google.colab.output.renderOutput(dataTable, element);\n",
              "        const docLink = document.createElement('div');\n",
              "        docLink.innerHTML = docLinkHtml;\n",
              "        element.appendChild(docLink);\n",
              "      }\n",
              "    </script>\n",
              "  </div>\n",
              "\n",
              "\n",
              "<div id=\"df-a1f82c3c-a163-463c-9d9b-56c02cc27156\">\n",
              "  <button class=\"colab-df-quickchart\" onclick=\"quickchart('df-a1f82c3c-a163-463c-9d9b-56c02cc27156')\"\n",
              "            title=\"Suggest charts\"\n",
              "            style=\"display:none;\">\n",
              "\n",
              "<svg xmlns=\"http://www.w3.org/2000/svg\" height=\"24px\"viewBox=\"0 0 24 24\"\n",
              "     width=\"24px\">\n",
              "    <g>\n",
              "        <path d=\"M19 3H5c-1.1 0-2 .9-2 2v14c0 1.1.9 2 2 2h14c1.1 0 2-.9 2-2V5c0-1.1-.9-2-2-2zM9 17H7v-7h2v7zm4 0h-2V7h2v10zm4 0h-2v-4h2v4z\"/>\n",
              "    </g>\n",
              "</svg>\n",
              "  </button>\n",
              "\n",
              "<style>\n",
              "  .colab-df-quickchart {\n",
              "      --bg-color: #E8F0FE;\n",
              "      --fill-color: #1967D2;\n",
              "      --hover-bg-color: #E2EBFA;\n",
              "      --hover-fill-color: #174EA6;\n",
              "      --disabled-fill-color: #AAA;\n",
              "      --disabled-bg-color: #DDD;\n",
              "  }\n",
              "\n",
              "  [theme=dark] .colab-df-quickchart {\n",
              "      --bg-color: #3B4455;\n",
              "      --fill-color: #D2E3FC;\n",
              "      --hover-bg-color: #434B5C;\n",
              "      --hover-fill-color: #FFFFFF;\n",
              "      --disabled-bg-color: #3B4455;\n",
              "      --disabled-fill-color: #666;\n",
              "  }\n",
              "\n",
              "  .colab-df-quickchart {\n",
              "    background-color: var(--bg-color);\n",
              "    border: none;\n",
              "    border-radius: 50%;\n",
              "    cursor: pointer;\n",
              "    display: none;\n",
              "    fill: var(--fill-color);\n",
              "    height: 32px;\n",
              "    padding: 0;\n",
              "    width: 32px;\n",
              "  }\n",
              "\n",
              "  .colab-df-quickchart:hover {\n",
              "    background-color: var(--hover-bg-color);\n",
              "    box-shadow: 0 1px 2px rgba(60, 64, 67, 0.3), 0 1px 3px 1px rgba(60, 64, 67, 0.15);\n",
              "    fill: var(--button-hover-fill-color);\n",
              "  }\n",
              "\n",
              "  .colab-df-quickchart-complete:disabled,\n",
              "  .colab-df-quickchart-complete:disabled:hover {\n",
              "    background-color: var(--disabled-bg-color);\n",
              "    fill: var(--disabled-fill-color);\n",
              "    box-shadow: none;\n",
              "  }\n",
              "\n",
              "  .colab-df-spinner {\n",
              "    border: 2px solid var(--fill-color);\n",
              "    border-color: transparent;\n",
              "    border-bottom-color: var(--fill-color);\n",
              "    animation:\n",
              "      spin 1s steps(1) infinite;\n",
              "  }\n",
              "\n",
              "  @keyframes spin {\n",
              "    0% {\n",
              "      border-color: transparent;\n",
              "      border-bottom-color: var(--fill-color);\n",
              "      border-left-color: var(--fill-color);\n",
              "    }\n",
              "    20% {\n",
              "      border-color: transparent;\n",
              "      border-left-color: var(--fill-color);\n",
              "      border-top-color: var(--fill-color);\n",
              "    }\n",
              "    30% {\n",
              "      border-color: transparent;\n",
              "      border-left-color: var(--fill-color);\n",
              "      border-top-color: var(--fill-color);\n",
              "      border-right-color: var(--fill-color);\n",
              "    }\n",
              "    40% {\n",
              "      border-color: transparent;\n",
              "      border-right-color: var(--fill-color);\n",
              "      border-top-color: var(--fill-color);\n",
              "    }\n",
              "    60% {\n",
              "      border-color: transparent;\n",
              "      border-right-color: var(--fill-color);\n",
              "    }\n",
              "    80% {\n",
              "      border-color: transparent;\n",
              "      border-right-color: var(--fill-color);\n",
              "      border-bottom-color: var(--fill-color);\n",
              "    }\n",
              "    90% {\n",
              "      border-color: transparent;\n",
              "      border-bottom-color: var(--fill-color);\n",
              "    }\n",
              "  }\n",
              "</style>\n",
              "\n",
              "  <script>\n",
              "    async function quickchart(key) {\n",
              "      const quickchartButtonEl =\n",
              "        document.querySelector('#' + key + ' button');\n",
              "      quickchartButtonEl.disabled = true;  // To prevent multiple clicks.\n",
              "      quickchartButtonEl.classList.add('colab-df-spinner');\n",
              "      try {\n",
              "        const charts = await google.colab.kernel.invokeFunction(\n",
              "            'suggestCharts', [key], {});\n",
              "      } catch (error) {\n",
              "        console.error('Error during call to suggestCharts:', error);\n",
              "      }\n",
              "      quickchartButtonEl.classList.remove('colab-df-spinner');\n",
              "      quickchartButtonEl.classList.add('colab-df-quickchart-complete');\n",
              "    }\n",
              "    (() => {\n",
              "      let quickchartButtonEl =\n",
              "        document.querySelector('#df-a1f82c3c-a163-463c-9d9b-56c02cc27156 button');\n",
              "      quickchartButtonEl.style.display =\n",
              "        google.colab.kernel.accessAllowed ? 'block' : 'none';\n",
              "    })();\n",
              "  </script>\n",
              "</div>\n",
              "    </div>\n",
              "  </div>\n"
            ]
          },
          "metadata": {},
          "execution_count": 383
        }
      ]
    },
    {
      "cell_type": "markdown",
      "source": [
        "#### Data Preprocessing\n",
        "- data encoding for categorical values: 'island', 'sex' column"
      ],
      "metadata": {
        "id": "skf8lGQB1Hpk"
      }
    },
    {
      "cell_type": "code",
      "source": [
        "from sklearn.preprocessing import OneHotEncoder\n",
        "\n",
        "island = np.array(data_penguins['island']).reshape(-1, 1)\n",
        "island_label = OneHotEncoder().fit_transform(island)\n",
        "data_penguins['island'] = island_label.toarray()\n",
        "\n",
        "df = pd.DataFrame({'island':['Torgersen','Biscoe','Dream']})\n",
        "pd.get_dummies(df)"
      ],
      "metadata": {
        "id": "bO_arEeWzl2p",
        "colab": {
          "base_uri": "https://localhost:8080/",
          "height": 143
        },
        "outputId": "bd1fb5d2-bfae-4b2c-97f7-832b3ee36950"
      },
      "execution_count": 384,
      "outputs": [
        {
          "output_type": "execute_result",
          "data": {
            "text/plain": [
              "   island_Biscoe  island_Dream  island_Torgersen\n",
              "0              0             0                 1\n",
              "1              1             0                 0\n",
              "2              0             1                 0"
            ],
            "text/html": [
              "\n",
              "  <div id=\"df-e9a3a293-0acb-454a-8704-80424e9a9446\" class=\"colab-df-container\">\n",
              "    <div>\n",
              "<style scoped>\n",
              "    .dataframe tbody tr th:only-of-type {\n",
              "        vertical-align: middle;\n",
              "    }\n",
              "\n",
              "    .dataframe tbody tr th {\n",
              "        vertical-align: top;\n",
              "    }\n",
              "\n",
              "    .dataframe thead th {\n",
              "        text-align: right;\n",
              "    }\n",
              "</style>\n",
              "<table border=\"1\" class=\"dataframe\">\n",
              "  <thead>\n",
              "    <tr style=\"text-align: right;\">\n",
              "      <th></th>\n",
              "      <th>island_Biscoe</th>\n",
              "      <th>island_Dream</th>\n",
              "      <th>island_Torgersen</th>\n",
              "    </tr>\n",
              "  </thead>\n",
              "  <tbody>\n",
              "    <tr>\n",
              "      <th>0</th>\n",
              "      <td>0</td>\n",
              "      <td>0</td>\n",
              "      <td>1</td>\n",
              "    </tr>\n",
              "    <tr>\n",
              "      <th>1</th>\n",
              "      <td>1</td>\n",
              "      <td>0</td>\n",
              "      <td>0</td>\n",
              "    </tr>\n",
              "    <tr>\n",
              "      <th>2</th>\n",
              "      <td>0</td>\n",
              "      <td>1</td>\n",
              "      <td>0</td>\n",
              "    </tr>\n",
              "  </tbody>\n",
              "</table>\n",
              "</div>\n",
              "    <div class=\"colab-df-buttons\">\n",
              "\n",
              "  <div class=\"colab-df-container\">\n",
              "    <button class=\"colab-df-convert\" onclick=\"convertToInteractive('df-e9a3a293-0acb-454a-8704-80424e9a9446')\"\n",
              "            title=\"Convert this dataframe to an interactive table.\"\n",
              "            style=\"display:none;\">\n",
              "\n",
              "  <svg xmlns=\"http://www.w3.org/2000/svg\" height=\"24px\" viewBox=\"0 -960 960 960\">\n",
              "    <path d=\"M120-120v-720h720v720H120Zm60-500h600v-160H180v160Zm220 220h160v-160H400v160Zm0 220h160v-160H400v160ZM180-400h160v-160H180v160Zm440 0h160v-160H620v160ZM180-180h160v-160H180v160Zm440 0h160v-160H620v160Z\"/>\n",
              "  </svg>\n",
              "    </button>\n",
              "\n",
              "  <style>\n",
              "    .colab-df-container {\n",
              "      display:flex;\n",
              "      gap: 12px;\n",
              "    }\n",
              "\n",
              "    .colab-df-convert {\n",
              "      background-color: #E8F0FE;\n",
              "      border: none;\n",
              "      border-radius: 50%;\n",
              "      cursor: pointer;\n",
              "      display: none;\n",
              "      fill: #1967D2;\n",
              "      height: 32px;\n",
              "      padding: 0 0 0 0;\n",
              "      width: 32px;\n",
              "    }\n",
              "\n",
              "    .colab-df-convert:hover {\n",
              "      background-color: #E2EBFA;\n",
              "      box-shadow: 0px 1px 2px rgba(60, 64, 67, 0.3), 0px 1px 3px 1px rgba(60, 64, 67, 0.15);\n",
              "      fill: #174EA6;\n",
              "    }\n",
              "\n",
              "    .colab-df-buttons div {\n",
              "      margin-bottom: 4px;\n",
              "    }\n",
              "\n",
              "    [theme=dark] .colab-df-convert {\n",
              "      background-color: #3B4455;\n",
              "      fill: #D2E3FC;\n",
              "    }\n",
              "\n",
              "    [theme=dark] .colab-df-convert:hover {\n",
              "      background-color: #434B5C;\n",
              "      box-shadow: 0px 1px 3px 1px rgba(0, 0, 0, 0.15);\n",
              "      filter: drop-shadow(0px 1px 2px rgba(0, 0, 0, 0.3));\n",
              "      fill: #FFFFFF;\n",
              "    }\n",
              "  </style>\n",
              "\n",
              "    <script>\n",
              "      const buttonEl =\n",
              "        document.querySelector('#df-e9a3a293-0acb-454a-8704-80424e9a9446 button.colab-df-convert');\n",
              "      buttonEl.style.display =\n",
              "        google.colab.kernel.accessAllowed ? 'block' : 'none';\n",
              "\n",
              "      async function convertToInteractive(key) {\n",
              "        const element = document.querySelector('#df-e9a3a293-0acb-454a-8704-80424e9a9446');\n",
              "        const dataTable =\n",
              "          await google.colab.kernel.invokeFunction('convertToInteractive',\n",
              "                                                    [key], {});\n",
              "        if (!dataTable) return;\n",
              "\n",
              "        const docLinkHtml = 'Like what you see? Visit the ' +\n",
              "          '<a target=\"_blank\" href=https://colab.research.google.com/notebooks/data_table.ipynb>data table notebook</a>'\n",
              "          + ' to learn more about interactive tables.';\n",
              "        element.innerHTML = '';\n",
              "        dataTable['output_type'] = 'display_data';\n",
              "        await google.colab.output.renderOutput(dataTable, element);\n",
              "        const docLink = document.createElement('div');\n",
              "        docLink.innerHTML = docLinkHtml;\n",
              "        element.appendChild(docLink);\n",
              "      }\n",
              "    </script>\n",
              "  </div>\n",
              "\n",
              "\n",
              "<div id=\"df-07c746ef-d550-4610-a869-a916256b12c3\">\n",
              "  <button class=\"colab-df-quickchart\" onclick=\"quickchart('df-07c746ef-d550-4610-a869-a916256b12c3')\"\n",
              "            title=\"Suggest charts\"\n",
              "            style=\"display:none;\">\n",
              "\n",
              "<svg xmlns=\"http://www.w3.org/2000/svg\" height=\"24px\"viewBox=\"0 0 24 24\"\n",
              "     width=\"24px\">\n",
              "    <g>\n",
              "        <path d=\"M19 3H5c-1.1 0-2 .9-2 2v14c0 1.1.9 2 2 2h14c1.1 0 2-.9 2-2V5c0-1.1-.9-2-2-2zM9 17H7v-7h2v7zm4 0h-2V7h2v10zm4 0h-2v-4h2v4z\"/>\n",
              "    </g>\n",
              "</svg>\n",
              "  </button>\n",
              "\n",
              "<style>\n",
              "  .colab-df-quickchart {\n",
              "      --bg-color: #E8F0FE;\n",
              "      --fill-color: #1967D2;\n",
              "      --hover-bg-color: #E2EBFA;\n",
              "      --hover-fill-color: #174EA6;\n",
              "      --disabled-fill-color: #AAA;\n",
              "      --disabled-bg-color: #DDD;\n",
              "  }\n",
              "\n",
              "  [theme=dark] .colab-df-quickchart {\n",
              "      --bg-color: #3B4455;\n",
              "      --fill-color: #D2E3FC;\n",
              "      --hover-bg-color: #434B5C;\n",
              "      --hover-fill-color: #FFFFFF;\n",
              "      --disabled-bg-color: #3B4455;\n",
              "      --disabled-fill-color: #666;\n",
              "  }\n",
              "\n",
              "  .colab-df-quickchart {\n",
              "    background-color: var(--bg-color);\n",
              "    border: none;\n",
              "    border-radius: 50%;\n",
              "    cursor: pointer;\n",
              "    display: none;\n",
              "    fill: var(--fill-color);\n",
              "    height: 32px;\n",
              "    padding: 0;\n",
              "    width: 32px;\n",
              "  }\n",
              "\n",
              "  .colab-df-quickchart:hover {\n",
              "    background-color: var(--hover-bg-color);\n",
              "    box-shadow: 0 1px 2px rgba(60, 64, 67, 0.3), 0 1px 3px 1px rgba(60, 64, 67, 0.15);\n",
              "    fill: var(--button-hover-fill-color);\n",
              "  }\n",
              "\n",
              "  .colab-df-quickchart-complete:disabled,\n",
              "  .colab-df-quickchart-complete:disabled:hover {\n",
              "    background-color: var(--disabled-bg-color);\n",
              "    fill: var(--disabled-fill-color);\n",
              "    box-shadow: none;\n",
              "  }\n",
              "\n",
              "  .colab-df-spinner {\n",
              "    border: 2px solid var(--fill-color);\n",
              "    border-color: transparent;\n",
              "    border-bottom-color: var(--fill-color);\n",
              "    animation:\n",
              "      spin 1s steps(1) infinite;\n",
              "  }\n",
              "\n",
              "  @keyframes spin {\n",
              "    0% {\n",
              "      border-color: transparent;\n",
              "      border-bottom-color: var(--fill-color);\n",
              "      border-left-color: var(--fill-color);\n",
              "    }\n",
              "    20% {\n",
              "      border-color: transparent;\n",
              "      border-left-color: var(--fill-color);\n",
              "      border-top-color: var(--fill-color);\n",
              "    }\n",
              "    30% {\n",
              "      border-color: transparent;\n",
              "      border-left-color: var(--fill-color);\n",
              "      border-top-color: var(--fill-color);\n",
              "      border-right-color: var(--fill-color);\n",
              "    }\n",
              "    40% {\n",
              "      border-color: transparent;\n",
              "      border-right-color: var(--fill-color);\n",
              "      border-top-color: var(--fill-color);\n",
              "    }\n",
              "    60% {\n",
              "      border-color: transparent;\n",
              "      border-right-color: var(--fill-color);\n",
              "    }\n",
              "    80% {\n",
              "      border-color: transparent;\n",
              "      border-right-color: var(--fill-color);\n",
              "      border-bottom-color: var(--fill-color);\n",
              "    }\n",
              "    90% {\n",
              "      border-color: transparent;\n",
              "      border-bottom-color: var(--fill-color);\n",
              "    }\n",
              "  }\n",
              "</style>\n",
              "\n",
              "  <script>\n",
              "    async function quickchart(key) {\n",
              "      const quickchartButtonEl =\n",
              "        document.querySelector('#' + key + ' button');\n",
              "      quickchartButtonEl.disabled = true;  // To prevent multiple clicks.\n",
              "      quickchartButtonEl.classList.add('colab-df-spinner');\n",
              "      try {\n",
              "        const charts = await google.colab.kernel.invokeFunction(\n",
              "            'suggestCharts', [key], {});\n",
              "      } catch (error) {\n",
              "        console.error('Error during call to suggestCharts:', error);\n",
              "      }\n",
              "      quickchartButtonEl.classList.remove('colab-df-spinner');\n",
              "      quickchartButtonEl.classList.add('colab-df-quickchart-complete');\n",
              "    }\n",
              "    (() => {\n",
              "      let quickchartButtonEl =\n",
              "        document.querySelector('#df-07c746ef-d550-4610-a869-a916256b12c3 button');\n",
              "      quickchartButtonEl.style.display =\n",
              "        google.colab.kernel.accessAllowed ? 'block' : 'none';\n",
              "    })();\n",
              "  </script>\n",
              "</div>\n",
              "    </div>\n",
              "  </div>\n"
            ]
          },
          "metadata": {},
          "execution_count": 384
        }
      ]
    },
    {
      "cell_type": "code",
      "source": [
        "from sklearn.preprocessing import LabelEncoder\n",
        "\n",
        "data_penguins['sex'] = LabelEncoder().fit_transform(data_penguins['sex'])"
      ],
      "metadata": {
        "id": "5T0LfRzozl4u"
      },
      "execution_count": 385,
      "outputs": []
    },
    {
      "cell_type": "markdown",
      "source": [
        "#### Plot the percentage of the instances"
      ],
      "metadata": {
        "id": "Ychlgawv36Yr"
      }
    },
    {
      "cell_type": "code",
      "source": [
        "# Check the output class is balanced\n",
        "penguins_labels = data_penguins['species']\n",
        "\n",
        "plt.figure(figsize=(10, 6))\n",
        "sns.countplot(x=penguins_labels)\n",
        "plt.title('Distribution of class label')\n",
        "plt.xlabel('Penguins')\n",
        "plt.ylabel('Frequency')\n",
        "\n",
        "# save as graphic\n",
        "plt.savefig('penguin-classes.png')"
      ],
      "metadata": {
        "colab": {
          "base_uri": "https://localhost:8080/",
          "height": 564
        },
        "id": "2_YBHCBg38nQ",
        "outputId": "4fd344eb-cc13-416b-e700-f298145a1575"
      },
      "execution_count": 386,
      "outputs": [
        {
          "output_type": "display_data",
          "data": {
            "text/plain": [
              "<Figure size 1000x600 with 1 Axes>"
            ],
            "image/png": "[encoded data removed]"
          },
          "metadata": {}
        }
      ]
    },
    {
      "cell_type": "markdown",
      "source": [
        "#### Dataset split into training & test set"
      ],
      "metadata": {
        "id": "YitW0dfF3zLc"
      }
    },
    {
      "cell_type": "code",
      "source": [
        "# perform feature scaling\n",
        "from sklearn.preprocessing import StandardScaler\n",
        "scaled_features_penguins = StandardScaler().fit_transform(data_penguins.iloc[:, 1:].values)\n",
        "X = scaled_features_penguins\n",
        "y = data_penguins.iloc[:,0].values"
      ],
      "metadata": {
        "id": "0wcAQElszl97"
      },
      "execution_count": 387,
      "outputs": []
    },
    {
      "cell_type": "code",
      "source": [
        "from sklearn.model_selection import train_test_split\n",
        "X_train, X_test, y_train, y_test = train_test_split(X, y, test_size = 0.3)"
      ],
      "metadata": {
        "id": "sThVNxcLzmAB"
      },
      "execution_count": 388,
      "outputs": []
    },
    {
      "cell_type": "markdown",
      "source": [
        "#### Train 4 different classifier"
      ],
      "metadata": {
        "id": "fWpPUU6EYP3T"
      }
    },
    {
      "cell_type": "markdown",
      "source": [
        "##### Classifier 1 - Base-DT"
      ],
      "metadata": {
        "id": "i1Wbs_2C3Q6E"
      }
    },
    {
      "cell_type": "code",
      "source": [
        "from sklearn.tree import DecisionTreeClassifier\n",
        "\n",
        "# Base Decision Tree\n",
        "classifier_1 = DecisionTreeClassifier()\n",
        "classifier_1.fit(X_train, y_train)"
      ],
      "metadata": {
        "id": "JN61PJ3W5jcb",
        "colab": {
          "base_uri": "https://localhost:8080/",
          "height": 75
        },
        "outputId": "e2b21179-1a06-44c7-8430-79c117eccd98"
      },
      "execution_count": 389,
      "outputs": [
        {
          "output_type": "execute_result",
          "data": {
            "text/plain": [
              "DecisionTreeClassifier()"
            ],
            "text/html": [
              "<style>#sk-container-id-24 {color: black;background-color: white;}#sk-container-id-24 pre{padding: 0;}#sk-container-id-24 div.sk-toggleable {background-color: white;}#sk-container-id-24 label.sk-toggleable__label {cursor: pointer;display: block;width: 100%;margin-bottom: 0;padding: 0.3em;box-sizing: border-box;text-align: center;}#sk-container-id-24 label.sk-toggleable__label-arrow:before {content: \"▸\";float: left;margin-right: 0.25em;color: #696969;}#sk-container-id-24 label.sk-toggleable__label-arrow:hover:before {color: black;}#sk-container-id-24 div.sk-estimator:hover label.sk-toggleable__label-arrow:before {color: black;}#sk-container-id-24 div.sk-toggleable__content {max-height: 0;max-width: 0;overflow: hidden;text-align: left;background-color: #f0f8ff;}#sk-container-id-24 div.sk-toggleable__content pre {margin: 0.2em;color: black;border-radius: 0.25em;background-color: #f0f8ff;}#sk-container-id-24 input.sk-toggleable__control:checked~div.sk-toggleable__content {max-height: 200px;max-width: 100%;overflow: auto;}#sk-container-id-24 input.sk-toggleable__control:checked~label.sk-toggleable__label-arrow:before {content: \"▾\";}#sk-container-id-24 div.sk-estimator input.sk-toggleable__control:checked~label.sk-toggleable__label {background-color: #d4ebff;}#sk-container-id-24 div.sk-label input.sk-toggleable__control:checked~label.sk-toggleable__label {background-color: #d4ebff;}#sk-container-id-24 input.sk-hidden--visually {border: 0;clip: rect(1px 1px 1px 1px);clip: rect(1px, 1px, 1px, 1px);height: 1px;margin: -1px;overflow: hidden;padding: 0;position: absolute;width: 1px;}#sk-container-id-24 div.sk-estimator {font-family: monospace;background-color: #f0f8ff;border: 1px dotted black;border-radius: 0.25em;box-sizing: border-box;margin-bottom: 0.5em;}#sk-container-id-24 div.sk-estimator:hover {background-color: #d4ebff;}#sk-container-id-24 div.sk-parallel-item::after {content: \"\";width: 100%;border-bottom: 1px solid gray;flex-grow: 1;}#sk-container-id-24 div.sk-label:hover label.sk-toggleable__label {background-color: #d4ebff;}#sk-container-id-24 div.sk-serial::before {content: \"\";position: absolute;border-left: 1px solid gray;box-sizing: border-box;top: 0;bottom: 0;left: 50%;z-index: 0;}#sk-container-id-24 div.sk-serial {display: flex;flex-direction: column;align-items: center;background-color: white;padding-right: 0.2em;padding-left: 0.2em;position: relative;}#sk-container-id-24 div.sk-item {position: relative;z-index: 1;}#sk-container-id-24 div.sk-parallel {display: flex;align-items: stretch;justify-content: center;background-color: white;position: relative;}#sk-container-id-24 div.sk-item::before, #sk-container-id-24 div.sk-parallel-item::before {content: \"\";position: absolute;border-left: 1px solid gray;box-sizing: border-box;top: 0;bottom: 0;left: 50%;z-index: -1;}#sk-container-id-24 div.sk-parallel-item {display: flex;flex-direction: column;z-index: 1;position: relative;background-color: white;}#sk-container-id-24 div.sk-parallel-item:first-child::after {align-self: flex-end;width: 50%;}#sk-container-id-24 div.sk-parallel-item:last-child::after {align-self: flex-start;width: 50%;}#sk-container-id-24 div.sk-parallel-item:only-child::after {width: 0;}#sk-container-id-24 div.sk-dashed-wrapped {border: 1px dashed gray;margin: 0 0.4em 0.5em 0.4em;box-sizing: border-box;padding-bottom: 0.4em;background-color: white;}#sk-container-id-24 div.sk-label label {font-family: monospace;font-weight: bold;display: inline-block;line-height: 1.2em;}#sk-container-id-24 div.sk-label-container {text-align: center;}#sk-container-id-24 div.sk-container {/* jupyter's `normalize.less` sets `[hidden] { display: none; }` but bootstrap.min.css set `[hidden] { display: none !important; }` so we also need the `!important` here to be able to override the default hidden behavior on the sphinx rendered scikit-learn.org. See: https://github.com/scikit-learn/scikit-learn/issues/21755 */display: inline-block !important;position: relative;}#sk-container-id-24 div.sk-text-repr-fallback {display: none;}</style><div id=\"sk-container-id-24\" class=\"sk-top-container\"><div class=\"sk-text-repr-fallback\"><pre>DecisionTreeClassifier()</pre><b>In a Jupyter environment, please rerun this cell to show the HTML representation or trust the notebook. <br />On GitHub, the HTML representation is unable to render, please try loading this page with nbviewer.org.</b></div><div class=\"sk-container\" hidden><div class=\"sk-item\"><div class=\"sk-estimator sk-toggleable\"><input class=\"sk-toggleable__control sk-hidden--visually\" id=\"sk-estimator-id-34\" type=\"checkbox\" checked><label for=\"sk-estimator-id-34\" class=\"sk-toggleable__label sk-toggleable__label-arrow\">DecisionTreeClassifier</label><div class=\"sk-toggleable__content\"><pre>DecisionTreeClassifier()</pre></div></div></div></div></div>"
            ]
          },
          "metadata": {},
          "execution_count": 389
        }
      ]
    },
    {
      "cell_type": "code",
      "source": [
        "penguins_class = data_penguins.columns[0]\n",
        "penguins_features = list(data_penguins.columns[1:])"
      ],
      "metadata": {
        "id": "s_J2ed_v--zl"
      },
      "execution_count": 390,
      "outputs": []
    },
    {
      "cell_type": "code",
      "source": [
        "from sklearn import tree\n",
        "\n",
        "dot_data = tree.export_graphviz(classifier_1,\n",
        "                feature_names=penguins_features,\n",
        "                class_names=penguins_class,\n",
        "                filled=True, rounded=True,\n",
        "                special_characters=True)\n",
        "\n",
        "graph = graphviz.Source(dot_data)\n",
        "graph"
      ],
      "metadata": {
        "id": "hwomCGHCCnKt",
        "outputId": "710fea2c-5a2f-4946-ee63-1543fb5c897b",
        "colab": {
          "base_uri": "https://localhost:8080/",
          "height": 936
        }
      },
      "execution_count": 391,
      "outputs": [
        {
          "output_type": "execute_result",
          "data": {
            "image/svg+xml": "<?xml version=\"1.0\" encoding=\"UTF-8\" standalone=\"no\"?>\n<!DOCTYPE svg PUBLIC \"-//W3C//DTD SVG 1.1//EN\"\n \"http://www.w3.org/Graphics/SVG/1.1/DTD/svg11.dtd\">\n<!-- Generated by graphviz version 2.43.0 (0)\n -->\n<!-- Title: Tree Pages: 1 -->\n<svg width=\"1013pt\" height=\"671pt\"\n viewBox=\"0.00 0.00 1012.50 671.00\" xmlns=\"http://www.w3.org/2000/svg\" xmlns:xlink=\"http://www.w3.org/1999/xlink\">\n<g id=\"graph0\" class=\"graph\" transform=\"scale(1 1) rotate(0) translate(4 667)\">\n<title>Tree</title>\n<polygon fill=\"white\" stroke=\"transparent\" points=\"-4,4 -4,-667 1008.5,-667 1008.5,4 -4,4\"/>\n<!-- 0 -->\n<g id=\"node1\" class=\"node\">\n<title>0</title>\n<path fill=\"#fcefe6\" stroke=\"black\" d=\"M636.5,-663C636.5,-663 482.5,-663 482.5,-663 476.5,-663 470.5,-657 470.5,-651 470.5,-651 470.5,-592 470.5,-592 470.5,-586 476.5,-580 482.5,-580 482.5,-580 636.5,-580 636.5,-580 642.5,-580 648.5,-586 648.5,-592 648.5,-592 648.5,-651 648.5,-651 648.5,-657 642.5,-663 636.5,-663\"/>\n<text text-anchor=\"start\" x=\"478.5\" y=\"-647.8\" font-family=\"Helvetica,sans-Serif\" font-size=\"14.00\">flipper_length_mm ≤ 0.395</text>\n<text text-anchor=\"start\" x=\"524\" y=\"-632.8\" font-family=\"Helvetica,sans-Serif\" font-size=\"14.00\">gini = 0.645</text>\n<text text-anchor=\"start\" x=\"514.5\" y=\"-617.8\" font-family=\"Helvetica,sans-Serif\" font-size=\"14.00\">samples = 233</text>\n<text text-anchor=\"start\" x=\"497.5\" y=\"-602.8\" font-family=\"Helvetica,sans-Serif\" font-size=\"14.00\">value = [100, 52, 81]</text>\n<text text-anchor=\"start\" x=\"532.5\" y=\"-587.8\" font-family=\"Helvetica,sans-Serif\" font-size=\"14.00\">class = s</text>\n</g>\n<!-- 1 -->\n<g id=\"node2\" class=\"node\">\n<title>1</title>\n<path fill=\"#f2c09c\" stroke=\"black\" d=\"M542.5,-544C542.5,-544 376.5,-544 376.5,-544 370.5,-544 364.5,-538 364.5,-532 364.5,-532 364.5,-473 364.5,-473 364.5,-467 370.5,-461 376.5,-461 376.5,-461 542.5,-461 542.5,-461 548.5,-461 554.5,-467 554.5,-473 554.5,-473 554.5,-532 554.5,-532 554.5,-538 548.5,-544 542.5,-544\"/>\n<text text-anchor=\"start\" x=\"372.5\" y=\"-528.8\" font-family=\"Helvetica,sans-Serif\" font-size=\"14.00\">culmen_length_mm ≤ &#45;0.154</text>\n<text text-anchor=\"start\" x=\"427.5\" y=\"-513.8\" font-family=\"Helvetica,sans-Serif\" font-size=\"14.00\">gini = 0.45</text>\n<text text-anchor=\"start\" x=\"414.5\" y=\"-498.8\" font-family=\"Helvetica,sans-Serif\" font-size=\"14.00\">samples = 149</text>\n<text text-anchor=\"start\" x=\"405\" y=\"-483.8\" font-family=\"Helvetica,sans-Serif\" font-size=\"14.00\">value = [99, 49, 1]</text>\n<text text-anchor=\"start\" x=\"432.5\" y=\"-468.8\" font-family=\"Helvetica,sans-Serif\" font-size=\"14.00\">class = s</text>\n</g>\n<!-- 0&#45;&gt;1 -->\n<g id=\"edge1\" class=\"edge\">\n<title>0&#45;&gt;1</title>\n<path fill=\"none\" stroke=\"black\" d=\"M524.81,-579.91C517.05,-570.83 508.75,-561.12 500.76,-551.77\"/>\n<polygon fill=\"black\" stroke=\"black\" points=\"503.29,-549.35 494.13,-544.02 497.97,-553.9 503.29,-549.35\"/>\n<text text-anchor=\"middle\" x=\"492.18\" y=\"-565.24\" font-family=\"Helvetica,sans-Serif\" font-size=\"14.00\">True</text>\n</g>\n<!-- 16 -->\n<g id=\"node17\" class=\"node\">\n<title>16</title>\n<path fill=\"#8743e6\" stroke=\"black\" d=\"M736,-544C736,-544 585,-544 585,-544 579,-544 573,-538 573,-532 573,-532 573,-473 573,-473 573,-467 579,-461 585,-461 585,-461 736,-461 736,-461 742,-461 748,-467 748,-473 748,-473 748,-532 748,-532 748,-538 742,-544 736,-544\"/>\n<text text-anchor=\"start\" x=\"581\" y=\"-528.8\" font-family=\"Helvetica,sans-Serif\" font-size=\"14.00\">culmen_depth_mm ≤ 0.17</text>\n<text text-anchor=\"start\" x=\"625\" y=\"-513.8\" font-family=\"Helvetica,sans-Serif\" font-size=\"14.00\">gini = 0.092</text>\n<text text-anchor=\"start\" x=\"619.5\" y=\"-498.8\" font-family=\"Helvetica,sans-Serif\" font-size=\"14.00\">samples = 84</text>\n<text text-anchor=\"start\" x=\"610\" y=\"-483.8\" font-family=\"Helvetica,sans-Serif\" font-size=\"14.00\">value = [1, 3, 80]</text>\n<text text-anchor=\"start\" x=\"633\" y=\"-468.8\" font-family=\"Helvetica,sans-Serif\" font-size=\"14.00\">class = e</text>\n</g>\n<!-- 0&#45;&gt;16 -->\n<g id=\"edge16\" class=\"edge\">\n<title>0&#45;&gt;16</title>\n<path fill=\"none\" stroke=\"black\" d=\"M594.54,-579.91C602.38,-570.83 610.76,-561.12 618.83,-551.77\"/>\n<polygon fill=\"black\" stroke=\"black\" points=\"621.64,-553.88 625.52,-544.02 616.34,-549.3 621.64,-553.88\"/>\n<text text-anchor=\"middle\" x=\"627.35\" y=\"-565.25\" font-family=\"Helvetica,sans-Serif\" font-size=\"14.00\">False</text>\n</g>\n<!-- 2 -->\n<g id=\"node3\" class=\"node\">\n<title>2</title>\n<path fill=\"#e6843d\" stroke=\"black\" d=\"M309.5,-425C309.5,-425 143.5,-425 143.5,-425 137.5,-425 131.5,-419 131.5,-413 131.5,-413 131.5,-354 131.5,-354 131.5,-348 137.5,-342 143.5,-342 143.5,-342 309.5,-342 309.5,-342 315.5,-342 321.5,-348 321.5,-354 321.5,-354 321.5,-413 321.5,-413 321.5,-419 315.5,-425 309.5,-425\"/>\n<text text-anchor=\"start\" x=\"139.5\" y=\"-409.8\" font-family=\"Helvetica,sans-Serif\" font-size=\"14.00\">culmen_length_mm ≤ &#45;0.292</text>\n<text text-anchor=\"start\" x=\"194.5\" y=\"-394.8\" font-family=\"Helvetica,sans-Serif\" font-size=\"14.00\">gini = 0.04</text>\n<text text-anchor=\"start\" x=\"185.5\" y=\"-379.8\" font-family=\"Helvetica,sans-Serif\" font-size=\"14.00\">samples = 98</text>\n<text text-anchor=\"start\" x=\"176\" y=\"-364.8\" font-family=\"Helvetica,sans-Serif\" font-size=\"14.00\">value = [96, 2, 0]</text>\n<text text-anchor=\"start\" x=\"199.5\" y=\"-349.8\" font-family=\"Helvetica,sans-Serif\" font-size=\"14.00\">class = s</text>\n</g>\n<!-- 1&#45;&gt;2 -->\n<g id=\"edge2\" class=\"edge\">\n<title>1&#45;&gt;2</title>\n<path fill=\"none\" stroke=\"black\" d=\"M378.66,-460.91C358.51,-450.79 336.78,-439.88 316.23,-429.56\"/>\n<polygon fill=\"black\" stroke=\"black\" points=\"317.7,-426.38 307.2,-425.02 314.56,-432.64 317.7,-426.38\"/>\n</g>\n<!-- 7 -->\n<g id=\"node8\" class=\"node\">\n<title>7</title>\n<path fill=\"#4ae78c\" stroke=\"black\" d=\"M541.5,-425C541.5,-425 415.5,-425 415.5,-425 409.5,-425 403.5,-419 403.5,-413 403.5,-413 403.5,-354 403.5,-354 403.5,-348 409.5,-342 415.5,-342 415.5,-342 541.5,-342 541.5,-342 547.5,-342 553.5,-348 553.5,-354 553.5,-354 553.5,-413 553.5,-413 553.5,-419 547.5,-425 541.5,-425\"/>\n<text text-anchor=\"start\" x=\"411.5\" y=\"-409.8\" font-family=\"Helvetica,sans-Serif\" font-size=\"14.00\">body_mass_g ≤ 0.458</text>\n<text text-anchor=\"start\" x=\"443\" y=\"-394.8\" font-family=\"Helvetica,sans-Serif\" font-size=\"14.00\">gini = 0.147</text>\n<text text-anchor=\"start\" x=\"437.5\" y=\"-379.8\" font-family=\"Helvetica,sans-Serif\" font-size=\"14.00\">samples = 51</text>\n<text text-anchor=\"start\" x=\"428\" y=\"-364.8\" font-family=\"Helvetica,sans-Serif\" font-size=\"14.00\">value = [3, 47, 1]</text>\n<text text-anchor=\"start\" x=\"451\" y=\"-349.8\" font-family=\"Helvetica,sans-Serif\" font-size=\"14.00\">class = p</text>\n</g>\n<!-- 1&#45;&gt;7 -->\n<g id=\"edge7\" class=\"edge\">\n<title>1&#45;&gt;7</title>\n<path fill=\"none\" stroke=\"black\" d=\"M466.09,-460.91C467.45,-452.56 468.89,-443.67 470.3,-435.02\"/>\n<polygon fill=\"black\" stroke=\"black\" points=\"473.77,-435.45 471.92,-425.02 466.86,-434.33 473.77,-435.45\"/>\n</g>\n<!-- 3 -->\n<g id=\"node4\" class=\"node\">\n<title>3</title>\n<path fill=\"#e58139\" stroke=\"black\" d=\"M105,-298.5C105,-298.5 12,-298.5 12,-298.5 6,-298.5 0,-292.5 0,-286.5 0,-286.5 0,-242.5 0,-242.5 0,-236.5 6,-230.5 12,-230.5 12,-230.5 105,-230.5 105,-230.5 111,-230.5 117,-236.5 117,-242.5 117,-242.5 117,-286.5 117,-286.5 117,-292.5 111,-298.5 105,-298.5\"/>\n<text text-anchor=\"start\" x=\"30.5\" y=\"-283.3\" font-family=\"Helvetica,sans-Serif\" font-size=\"14.00\">gini = 0.0</text>\n<text text-anchor=\"start\" x=\"17.5\" y=\"-268.3\" font-family=\"Helvetica,sans-Serif\" font-size=\"14.00\">samples = 93</text>\n<text text-anchor=\"start\" x=\"8\" y=\"-253.3\" font-family=\"Helvetica,sans-Serif\" font-size=\"14.00\">value = [93, 0, 0]</text>\n<text text-anchor=\"start\" x=\"31.5\" y=\"-238.3\" font-family=\"Helvetica,sans-Serif\" font-size=\"14.00\">class = s</text>\n</g>\n<!-- 2&#45;&gt;3 -->\n<g id=\"edge3\" class=\"edge\">\n<title>2&#45;&gt;3</title>\n<path fill=\"none\" stroke=\"black\" d=\"M168.21,-341.91C150.78,-329.77 131.72,-316.49 114.45,-304.46\"/>\n<polygon fill=\"black\" stroke=\"black\" points=\"116.33,-301.51 106.12,-298.67 112.33,-307.25 116.33,-301.51\"/>\n</g>\n<!-- 4 -->\n<g id=\"node5\" class=\"node\">\n<title>4</title>\n<path fill=\"#f6d5bd\" stroke=\"black\" d=\"M305.5,-306C305.5,-306 147.5,-306 147.5,-306 141.5,-306 135.5,-300 135.5,-294 135.5,-294 135.5,-235 135.5,-235 135.5,-229 141.5,-223 147.5,-223 147.5,-223 305.5,-223 305.5,-223 311.5,-223 317.5,-229 317.5,-235 317.5,-235 317.5,-294 317.5,-294 317.5,-300 311.5,-306 305.5,-306\"/>\n<text text-anchor=\"start\" x=\"143.5\" y=\"-290.8\" font-family=\"Helvetica,sans-Serif\" font-size=\"14.00\">flipper_length_mm ≤ &#45;0.676</text>\n<text text-anchor=\"start\" x=\"194.5\" y=\"-275.8\" font-family=\"Helvetica,sans-Serif\" font-size=\"14.00\">gini = 0.48</text>\n<text text-anchor=\"start\" x=\"189\" y=\"-260.8\" font-family=\"Helvetica,sans-Serif\" font-size=\"14.00\">samples = 5</text>\n<text text-anchor=\"start\" x=\"179.5\" y=\"-245.8\" font-family=\"Helvetica,sans-Serif\" font-size=\"14.00\">value = [3, 2, 0]</text>\n<text text-anchor=\"start\" x=\"199.5\" y=\"-230.8\" font-family=\"Helvetica,sans-Serif\" font-size=\"14.00\">class = s</text>\n</g>\n<!-- 2&#45;&gt;4 -->\n<g id=\"edge4\" class=\"edge\">\n<title>2&#45;&gt;4</title>\n<path fill=\"none\" stroke=\"black\" d=\"M226.5,-341.91C226.5,-333.65 226.5,-324.86 226.5,-316.3\"/>\n<polygon fill=\"black\" stroke=\"black\" points=\"230,-316.02 226.5,-306.02 223,-316.02 230,-316.02\"/>\n</g>\n<!-- 5 -->\n<g id=\"node6\" class=\"node\">\n<title>5</title>\n<path fill=\"#39e581\" stroke=\"black\" d=\"M141.5,-179.5C141.5,-179.5 55.5,-179.5 55.5,-179.5 49.5,-179.5 43.5,-173.5 43.5,-167.5 43.5,-167.5 43.5,-123.5 43.5,-123.5 43.5,-117.5 49.5,-111.5 55.5,-111.5 55.5,-111.5 141.5,-111.5 141.5,-111.5 147.5,-111.5 153.5,-117.5 153.5,-123.5 153.5,-123.5 153.5,-167.5 153.5,-167.5 153.5,-173.5 147.5,-179.5 141.5,-179.5\"/>\n<text text-anchor=\"start\" x=\"70.5\" y=\"-164.3\" font-family=\"Helvetica,sans-Serif\" font-size=\"14.00\">gini = 0.0</text>\n<text text-anchor=\"start\" x=\"61\" y=\"-149.3\" font-family=\"Helvetica,sans-Serif\" font-size=\"14.00\">samples = 2</text>\n<text text-anchor=\"start\" x=\"51.5\" y=\"-134.3\" font-family=\"Helvetica,sans-Serif\" font-size=\"14.00\">value = [0, 2, 0]</text>\n<text text-anchor=\"start\" x=\"71\" y=\"-119.3\" font-family=\"Helvetica,sans-Serif\" font-size=\"14.00\">class = p</text>\n</g>\n<!-- 4&#45;&gt;5 -->\n<g id=\"edge5\" class=\"edge\">\n<title>4&#45;&gt;5</title>\n<path fill=\"none\" stroke=\"black\" d=\"M182.09,-222.91C169.17,-211.1 155.08,-198.22 142.21,-186.45\"/>\n<polygon fill=\"black\" stroke=\"black\" points=\"144.53,-183.83 134.79,-179.67 139.8,-189 144.53,-183.83\"/>\n</g>\n<!-- 6 -->\n<g id=\"node7\" class=\"node\">\n<title>6</title>\n<path fill=\"#e58139\" stroke=\"black\" d=\"M269.5,-179.5C269.5,-179.5 183.5,-179.5 183.5,-179.5 177.5,-179.5 171.5,-173.5 171.5,-167.5 171.5,-167.5 171.5,-123.5 171.5,-123.5 171.5,-117.5 177.5,-111.5 183.5,-111.5 183.5,-111.5 269.5,-111.5 269.5,-111.5 275.5,-111.5 281.5,-117.5 281.5,-123.5 281.5,-123.5 281.5,-167.5 281.5,-167.5 281.5,-173.5 275.5,-179.5 269.5,-179.5\"/>\n<text text-anchor=\"start\" x=\"198.5\" y=\"-164.3\" font-family=\"Helvetica,sans-Serif\" font-size=\"14.00\">gini = 0.0</text>\n<text text-anchor=\"start\" x=\"189\" y=\"-149.3\" font-family=\"Helvetica,sans-Serif\" font-size=\"14.00\">samples = 3</text>\n<text text-anchor=\"start\" x=\"179.5\" y=\"-134.3\" font-family=\"Helvetica,sans-Serif\" font-size=\"14.00\">value = [3, 0, 0]</text>\n<text text-anchor=\"start\" x=\"199.5\" y=\"-119.3\" font-family=\"Helvetica,sans-Serif\" font-size=\"14.00\">class = s</text>\n</g>\n<!-- 4&#45;&gt;6 -->\n<g id=\"edge6\" class=\"edge\">\n<title>4&#45;&gt;6</title>\n<path fill=\"none\" stroke=\"black\" d=\"M226.5,-222.91C226.5,-212.2 226.5,-200.62 226.5,-189.78\"/>\n<polygon fill=\"black\" stroke=\"black\" points=\"230,-189.67 226.5,-179.67 223,-189.67 230,-189.67\"/>\n</g>\n<!-- 8 -->\n<g id=\"node9\" class=\"node\">\n<title>8</title>\n<path fill=\"#41e686\" stroke=\"black\" d=\"M555.5,-306C555.5,-306 401.5,-306 401.5,-306 395.5,-306 389.5,-300 389.5,-294 389.5,-294 389.5,-235 389.5,-235 389.5,-229 395.5,-223 401.5,-223 401.5,-223 555.5,-223 555.5,-223 561.5,-223 567.5,-229 567.5,-235 567.5,-235 567.5,-294 567.5,-294 567.5,-300 561.5,-306 555.5,-306\"/>\n<text text-anchor=\"start\" x=\"397.5\" y=\"-290.8\" font-family=\"Helvetica,sans-Serif\" font-size=\"14.00\">culmen_length_mm ≤ 0.12</text>\n<text text-anchor=\"start\" x=\"443\" y=\"-275.8\" font-family=\"Helvetica,sans-Serif\" font-size=\"14.00\">gini = 0.078</text>\n<text text-anchor=\"start\" x=\"437.5\" y=\"-260.8\" font-family=\"Helvetica,sans-Serif\" font-size=\"14.00\">samples = 49</text>\n<text text-anchor=\"start\" x=\"428\" y=\"-245.8\" font-family=\"Helvetica,sans-Serif\" font-size=\"14.00\">value = [2, 47, 0]</text>\n<text text-anchor=\"start\" x=\"451\" y=\"-230.8\" font-family=\"Helvetica,sans-Serif\" font-size=\"14.00\">class = p</text>\n</g>\n<!-- 7&#45;&gt;8 -->\n<g id=\"edge8\" class=\"edge\">\n<title>7&#45;&gt;8</title>\n<path fill=\"none\" stroke=\"black\" d=\"M478.5,-341.91C478.5,-333.65 478.5,-324.86 478.5,-316.3\"/>\n<polygon fill=\"black\" stroke=\"black\" points=\"482,-316.02 478.5,-306.02 475,-316.02 482,-316.02\"/>\n</g>\n<!-- 13 -->\n<g id=\"node14\" class=\"node\">\n<title>13</title>\n<path fill=\"#ffffff\" stroke=\"black\" d=\"M726.5,-306C726.5,-306 600.5,-306 600.5,-306 594.5,-306 588.5,-300 588.5,-294 588.5,-294 588.5,-235 588.5,-235 588.5,-229 594.5,-223 600.5,-223 600.5,-223 726.5,-223 726.5,-223 732.5,-223 738.5,-229 738.5,-235 738.5,-235 738.5,-294 738.5,-294 738.5,-300 732.5,-306 726.5,-306\"/>\n<text text-anchor=\"start\" x=\"596.5\" y=\"-290.8\" font-family=\"Helvetica,sans-Serif\" font-size=\"14.00\">body_mass_g ≤ 0.504</text>\n<text text-anchor=\"start\" x=\"635.5\" y=\"-275.8\" font-family=\"Helvetica,sans-Serif\" font-size=\"14.00\">gini = 0.5</text>\n<text text-anchor=\"start\" x=\"626\" y=\"-260.8\" font-family=\"Helvetica,sans-Serif\" font-size=\"14.00\">samples = 2</text>\n<text text-anchor=\"start\" x=\"616.5\" y=\"-245.8\" font-family=\"Helvetica,sans-Serif\" font-size=\"14.00\">value = [1, 0, 1]</text>\n<text text-anchor=\"start\" x=\"636.5\" y=\"-230.8\" font-family=\"Helvetica,sans-Serif\" font-size=\"14.00\">class = s</text>\n</g>\n<!-- 7&#45;&gt;13 -->\n<g id=\"edge13\" class=\"edge\">\n<title>7&#45;&gt;13</title>\n<path fill=\"none\" stroke=\"black\" d=\"M542.68,-341.91C558.18,-332.11 574.85,-321.56 590.71,-311.53\"/>\n<polygon fill=\"black\" stroke=\"black\" points=\"592.85,-314.32 599.43,-306.02 589.11,-308.41 592.85,-314.32\"/>\n</g>\n<!-- 9 -->\n<g id=\"node10\" class=\"node\">\n<title>9</title>\n<path fill=\"#ffffff\" stroke=\"black\" d=\"M443,-187C443,-187 312,-187 312,-187 306,-187 300,-181 300,-175 300,-175 300,-116 300,-116 300,-110 306,-104 312,-104 312,-104 443,-104 443,-104 449,-104 455,-110 455,-116 455,-116 455,-175 455,-175 455,-181 449,-187 443,-187\"/>\n<text text-anchor=\"start\" x=\"308\" y=\"-171.8\" font-family=\"Helvetica,sans-Serif\" font-size=\"14.00\">body_mass_g ≤ &#45;0.568</text>\n<text text-anchor=\"start\" x=\"349.5\" y=\"-156.8\" font-family=\"Helvetica,sans-Serif\" font-size=\"14.00\">gini = 0.5</text>\n<text text-anchor=\"start\" x=\"340\" y=\"-141.8\" font-family=\"Helvetica,sans-Serif\" font-size=\"14.00\">samples = 4</text>\n<text text-anchor=\"start\" x=\"330.5\" y=\"-126.8\" font-family=\"Helvetica,sans-Serif\" font-size=\"14.00\">value = [2, 2, 0]</text>\n<text text-anchor=\"start\" x=\"350.5\" y=\"-111.8\" font-family=\"Helvetica,sans-Serif\" font-size=\"14.00\">class = s</text>\n</g>\n<!-- 8&#45;&gt;9 -->\n<g id=\"edge9\" class=\"edge\">\n<title>8&#45;&gt;9</title>\n<path fill=\"none\" stroke=\"black\" d=\"M443.46,-222.91C435.62,-213.83 427.24,-204.12 419.17,-194.77\"/>\n<polygon fill=\"black\" stroke=\"black\" points=\"421.66,-192.3 412.48,-187.02 416.36,-196.88 421.66,-192.3\"/>\n</g>\n<!-- 12 -->\n<g id=\"node13\" class=\"node\">\n<title>12</title>\n<path fill=\"#39e581\" stroke=\"black\" d=\"M578,-179.5C578,-179.5 485,-179.5 485,-179.5 479,-179.5 473,-173.5 473,-167.5 473,-167.5 473,-123.5 473,-123.5 473,-117.5 479,-111.5 485,-111.5 485,-111.5 578,-111.5 578,-111.5 584,-111.5 590,-117.5 590,-123.5 590,-123.5 590,-167.5 590,-167.5 590,-173.5 584,-179.5 578,-179.5\"/>\n<text text-anchor=\"start\" x=\"503.5\" y=\"-164.3\" font-family=\"Helvetica,sans-Serif\" font-size=\"14.00\">gini = 0.0</text>\n<text text-anchor=\"start\" x=\"490.5\" y=\"-149.3\" font-family=\"Helvetica,sans-Serif\" font-size=\"14.00\">samples = 45</text>\n<text text-anchor=\"start\" x=\"481\" y=\"-134.3\" font-family=\"Helvetica,sans-Serif\" font-size=\"14.00\">value = [0, 45, 0]</text>\n<text text-anchor=\"start\" x=\"504\" y=\"-119.3\" font-family=\"Helvetica,sans-Serif\" font-size=\"14.00\">class = p</text>\n</g>\n<!-- 8&#45;&gt;12 -->\n<g id=\"edge12\" class=\"edge\">\n<title>8&#45;&gt;12</title>\n<path fill=\"none\" stroke=\"black\" d=\"M496.89,-222.91C501.84,-211.98 507.2,-200.14 512.2,-189.11\"/>\n<polygon fill=\"black\" stroke=\"black\" points=\"515.54,-190.22 516.48,-179.67 509.16,-187.33 515.54,-190.22\"/>\n</g>\n<!-- 10 -->\n<g id=\"node11\" class=\"node\">\n<title>10</title>\n<path fill=\"#39e581\" stroke=\"black\" d=\"M356.5,-68C356.5,-68 270.5,-68 270.5,-68 264.5,-68 258.5,-62 258.5,-56 258.5,-56 258.5,-12 258.5,-12 258.5,-6 264.5,0 270.5,0 270.5,0 356.5,0 356.5,0 362.5,0 368.5,-6 368.5,-12 368.5,-12 368.5,-56 368.5,-56 368.5,-62 362.5,-68 356.5,-68\"/>\n<text text-anchor=\"start\" x=\"285.5\" y=\"-52.8\" font-family=\"Helvetica,sans-Serif\" font-size=\"14.00\">gini = 0.0</text>\n<text text-anchor=\"start\" x=\"276\" y=\"-37.8\" font-family=\"Helvetica,sans-Serif\" font-size=\"14.00\">samples = 2</text>\n<text text-anchor=\"start\" x=\"266.5\" y=\"-22.8\" font-family=\"Helvetica,sans-Serif\" font-size=\"14.00\">value = [0, 2, 0]</text>\n<text text-anchor=\"start\" x=\"286\" y=\"-7.8\" font-family=\"Helvetica,sans-Serif\" font-size=\"14.00\">class = p</text>\n</g>\n<!-- 9&#45;&gt;10 -->\n<g id=\"edge10\" class=\"edge\">\n<title>9&#45;&gt;10</title>\n<path fill=\"none\" stroke=\"black\" d=\"M353.67,-103.73C348.6,-95.06 343.25,-85.9 338.15,-77.18\"/>\n<polygon fill=\"black\" stroke=\"black\" points=\"341.03,-75.17 332.96,-68.3 334.99,-78.7 341.03,-75.17\"/>\n</g>\n<!-- 11 -->\n<g id=\"node12\" class=\"node\">\n<title>11</title>\n<path fill=\"#e58139\" stroke=\"black\" d=\"M484.5,-68C484.5,-68 398.5,-68 398.5,-68 392.5,-68 386.5,-62 386.5,-56 386.5,-56 386.5,-12 386.5,-12 386.5,-6 392.5,0 398.5,0 398.5,0 484.5,0 484.5,0 490.5,0 496.5,-6 496.5,-12 496.5,-12 496.5,-56 496.5,-56 496.5,-62 490.5,-68 484.5,-68\"/>\n<text text-anchor=\"start\" x=\"413.5\" y=\"-52.8\" font-family=\"Helvetica,sans-Serif\" font-size=\"14.00\">gini = 0.0</text>\n<text text-anchor=\"start\" x=\"404\" y=\"-37.8\" font-family=\"Helvetica,sans-Serif\" font-size=\"14.00\">samples = 2</text>\n<text text-anchor=\"start\" x=\"394.5\" y=\"-22.8\" font-family=\"Helvetica,sans-Serif\" font-size=\"14.00\">value = [2, 0, 0]</text>\n<text text-anchor=\"start\" x=\"414.5\" y=\"-7.8\" font-family=\"Helvetica,sans-Serif\" font-size=\"14.00\">class = s</text>\n</g>\n<!-- 9&#45;&gt;11 -->\n<g id=\"edge11\" class=\"edge\">\n<title>9&#45;&gt;11</title>\n<path fill=\"none\" stroke=\"black\" d=\"M401.33,-103.73C406.4,-95.06 411.75,-85.9 416.85,-77.18\"/>\n<polygon fill=\"black\" stroke=\"black\" points=\"420.01,-78.7 422.04,-68.3 413.97,-75.17 420.01,-78.7\"/>\n</g>\n<!-- 14 -->\n<g id=\"node15\" class=\"node\">\n<title>14</title>\n<path fill=\"#e58139\" stroke=\"black\" d=\"M706.5,-179.5C706.5,-179.5 620.5,-179.5 620.5,-179.5 614.5,-179.5 608.5,-173.5 608.5,-167.5 608.5,-167.5 608.5,-123.5 608.5,-123.5 608.5,-117.5 614.5,-111.5 620.5,-111.5 620.5,-111.5 706.5,-111.5 706.5,-111.5 712.5,-111.5 718.5,-117.5 718.5,-123.5 718.5,-123.5 718.5,-167.5 718.5,-167.5 718.5,-173.5 712.5,-179.5 706.5,-179.5\"/>\n<text text-anchor=\"start\" x=\"635.5\" y=\"-164.3\" font-family=\"Helvetica,sans-Serif\" font-size=\"14.00\">gini = 0.0</text>\n<text text-anchor=\"start\" x=\"626\" y=\"-149.3\" font-family=\"Helvetica,sans-Serif\" font-size=\"14.00\">samples = 1</text>\n<text text-anchor=\"start\" x=\"616.5\" y=\"-134.3\" font-family=\"Helvetica,sans-Serif\" font-size=\"14.00\">value = [1, 0, 0]</text>\n<text text-anchor=\"start\" x=\"636.5\" y=\"-119.3\" font-family=\"Helvetica,sans-Serif\" font-size=\"14.00\">class = s</text>\n</g>\n<!-- 13&#45;&gt;14 -->\n<g id=\"edge14\" class=\"edge\">\n<title>13&#45;&gt;14</title>\n<path fill=\"none\" stroke=\"black\" d=\"M663.5,-222.91C663.5,-212.2 663.5,-200.62 663.5,-189.78\"/>\n<polygon fill=\"black\" stroke=\"black\" points=\"667,-189.67 663.5,-179.67 660,-189.67 667,-189.67\"/>\n</g>\n<!-- 15 -->\n<g id=\"node16\" class=\"node\">\n<title>15</title>\n<path fill=\"#8139e5\" stroke=\"black\" d=\"M834.5,-179.5C834.5,-179.5 748.5,-179.5 748.5,-179.5 742.5,-179.5 736.5,-173.5 736.5,-167.5 736.5,-167.5 736.5,-123.5 736.5,-123.5 736.5,-117.5 742.5,-111.5 748.5,-111.5 748.5,-111.5 834.5,-111.5 834.5,-111.5 840.5,-111.5 846.5,-117.5 846.5,-123.5 846.5,-123.5 846.5,-167.5 846.5,-167.5 846.5,-173.5 840.5,-179.5 834.5,-179.5\"/>\n<text text-anchor=\"start\" x=\"763.5\" y=\"-164.3\" font-family=\"Helvetica,sans-Serif\" font-size=\"14.00\">gini = 0.0</text>\n<text text-anchor=\"start\" x=\"754\" y=\"-149.3\" font-family=\"Helvetica,sans-Serif\" font-size=\"14.00\">samples = 1</text>\n<text text-anchor=\"start\" x=\"744.5\" y=\"-134.3\" font-family=\"Helvetica,sans-Serif\" font-size=\"14.00\">value = [0, 0, 1]</text>\n<text text-anchor=\"start\" x=\"764\" y=\"-119.3\" font-family=\"Helvetica,sans-Serif\" font-size=\"14.00\">class = e</text>\n</g>\n<!-- 13&#45;&gt;15 -->\n<g id=\"edge15\" class=\"edge\">\n<title>13&#45;&gt;15</title>\n<path fill=\"none\" stroke=\"black\" d=\"M707.91,-222.91C720.83,-211.1 734.92,-198.22 747.79,-186.45\"/>\n<polygon fill=\"black\" stroke=\"black\" points=\"750.2,-189 755.21,-179.67 745.47,-183.83 750.2,-189\"/>\n</g>\n<!-- 17 -->\n<g id=\"node18\" class=\"node\">\n<title>17</title>\n<path fill=\"#8139e5\" stroke=\"black\" d=\"M702,-417.5C702,-417.5 609,-417.5 609,-417.5 603,-417.5 597,-411.5 597,-405.5 597,-405.5 597,-361.5 597,-361.5 597,-355.5 603,-349.5 609,-349.5 609,-349.5 702,-349.5 702,-349.5 708,-349.5 714,-355.5 714,-361.5 714,-361.5 714,-405.5 714,-405.5 714,-411.5 708,-417.5 702,-417.5\"/>\n<text text-anchor=\"start\" x=\"627.5\" y=\"-402.3\" font-family=\"Helvetica,sans-Serif\" font-size=\"14.00\">gini = 0.0</text>\n<text text-anchor=\"start\" x=\"614.5\" y=\"-387.3\" font-family=\"Helvetica,sans-Serif\" font-size=\"14.00\">samples = 80</text>\n<text text-anchor=\"start\" x=\"605\" y=\"-372.3\" font-family=\"Helvetica,sans-Serif\" font-size=\"14.00\">value = [0, 0, 80]</text>\n<text text-anchor=\"start\" x=\"628\" y=\"-357.3\" font-family=\"Helvetica,sans-Serif\" font-size=\"14.00\">class = e</text>\n</g>\n<!-- 16&#45;&gt;17 -->\n<g id=\"edge17\" class=\"edge\">\n<title>16&#45;&gt;17</title>\n<path fill=\"none\" stroke=\"black\" d=\"M658.77,-460.91C658.31,-450.2 657.81,-438.62 657.35,-427.78\"/>\n<polygon fill=\"black\" stroke=\"black\" points=\"660.84,-427.51 656.92,-417.67 653.85,-427.81 660.84,-427.51\"/>\n</g>\n<!-- 18 -->\n<g id=\"node19\" class=\"node\">\n<title>18</title>\n<path fill=\"#7beeab\" stroke=\"black\" d=\"M902.5,-425C902.5,-425 744.5,-425 744.5,-425 738.5,-425 732.5,-419 732.5,-413 732.5,-413 732.5,-354 732.5,-354 732.5,-348 738.5,-342 744.5,-342 744.5,-342 902.5,-342 902.5,-342 908.5,-342 914.5,-348 914.5,-354 914.5,-354 914.5,-413 914.5,-413 914.5,-419 908.5,-425 902.5,-425\"/>\n<text text-anchor=\"start\" x=\"740.5\" y=\"-409.8\" font-family=\"Helvetica,sans-Serif\" font-size=\"14.00\">culmen_depth_mm ≤ 0.832</text>\n<text text-anchor=\"start\" x=\"788\" y=\"-394.8\" font-family=\"Helvetica,sans-Serif\" font-size=\"14.00\">gini = 0.375</text>\n<text text-anchor=\"start\" x=\"786\" y=\"-379.8\" font-family=\"Helvetica,sans-Serif\" font-size=\"14.00\">samples = 4</text>\n<text text-anchor=\"start\" x=\"776.5\" y=\"-364.8\" font-family=\"Helvetica,sans-Serif\" font-size=\"14.00\">value = [1, 3, 0]</text>\n<text text-anchor=\"start\" x=\"796\" y=\"-349.8\" font-family=\"Helvetica,sans-Serif\" font-size=\"14.00\">class = p</text>\n</g>\n<!-- 16&#45;&gt;18 -->\n<g id=\"edge18\" class=\"edge\">\n<title>16&#45;&gt;18</title>\n<path fill=\"none\" stroke=\"black\" d=\"M717.05,-460.91C730.45,-451.29 744.85,-440.95 758.59,-431.09\"/>\n<polygon fill=\"black\" stroke=\"black\" points=\"760.97,-433.7 767.05,-425.02 756.88,-428.01 760.97,-433.7\"/>\n</g>\n<!-- 19 -->\n<g id=\"node20\" class=\"node\">\n<title>19</title>\n<path fill=\"#e58139\" stroke=\"black\" d=\"M864.5,-298.5C864.5,-298.5 778.5,-298.5 778.5,-298.5 772.5,-298.5 766.5,-292.5 766.5,-286.5 766.5,-286.5 766.5,-242.5 766.5,-242.5 766.5,-236.5 772.5,-230.5 778.5,-230.5 778.5,-230.5 864.5,-230.5 864.5,-230.5 870.5,-230.5 876.5,-236.5 876.5,-242.5 876.5,-242.5 876.5,-286.5 876.5,-286.5 876.5,-292.5 870.5,-298.5 864.5,-298.5\"/>\n<text text-anchor=\"start\" x=\"793.5\" y=\"-283.3\" font-family=\"Helvetica,sans-Serif\" font-size=\"14.00\">gini = 0.0</text>\n<text text-anchor=\"start\" x=\"784\" y=\"-268.3\" font-family=\"Helvetica,sans-Serif\" font-size=\"14.00\">samples = 1</text>\n<text text-anchor=\"start\" x=\"774.5\" y=\"-253.3\" font-family=\"Helvetica,sans-Serif\" font-size=\"14.00\">value = [1, 0, 0]</text>\n<text text-anchor=\"start\" x=\"794.5\" y=\"-238.3\" font-family=\"Helvetica,sans-Serif\" font-size=\"14.00\">class = s</text>\n</g>\n<!-- 18&#45;&gt;19 -->\n<g id=\"edge19\" class=\"edge\">\n<title>18&#45;&gt;19</title>\n<path fill=\"none\" stroke=\"black\" d=\"M822.81,-341.91C822.62,-331.2 822.43,-319.62 822.24,-308.78\"/>\n<polygon fill=\"black\" stroke=\"black\" points=\"825.74,-308.61 822.07,-298.67 818.74,-308.73 825.74,-308.61\"/>\n</g>\n<!-- 20 -->\n<g id=\"node21\" class=\"node\">\n<title>20</title>\n<path fill=\"#39e581\" stroke=\"black\" d=\"M992.5,-298.5C992.5,-298.5 906.5,-298.5 906.5,-298.5 900.5,-298.5 894.5,-292.5 894.5,-286.5 894.5,-286.5 894.5,-242.5 894.5,-242.5 894.5,-236.5 900.5,-230.5 906.5,-230.5 906.5,-230.5 992.5,-230.5 992.5,-230.5 998.5,-230.5 1004.5,-236.5 1004.5,-242.5 1004.5,-242.5 1004.5,-286.5 1004.5,-286.5 1004.5,-292.5 998.5,-298.5 992.5,-298.5\"/>\n<text text-anchor=\"start\" x=\"921.5\" y=\"-283.3\" font-family=\"Helvetica,sans-Serif\" font-size=\"14.00\">gini = 0.0</text>\n<text text-anchor=\"start\" x=\"912\" y=\"-268.3\" font-family=\"Helvetica,sans-Serif\" font-size=\"14.00\">samples = 3</text>\n<text text-anchor=\"start\" x=\"902.5\" y=\"-253.3\" font-family=\"Helvetica,sans-Serif\" font-size=\"14.00\">value = [0, 3, 0]</text>\n<text text-anchor=\"start\" x=\"922\" y=\"-238.3\" font-family=\"Helvetica,sans-Serif\" font-size=\"14.00\">class = p</text>\n</g>\n<!-- 18&#45;&gt;20 -->\n<g id=\"edge20\" class=\"edge\">\n<title>18&#45;&gt;20</title>\n<path fill=\"none\" stroke=\"black\" d=\"M867.22,-341.91C879.81,-330.21 893.55,-317.46 906.12,-305.78\"/>\n<polygon fill=\"black\" stroke=\"black\" points=\"908.84,-308.04 913.78,-298.67 904.07,-302.91 908.84,-308.04\"/>\n</g>\n</g>\n</svg>\n",
            "text/plain": [
              "<graphviz.sources.Source at 0x7f0faf1bdc00>"
            ]
          },
          "metadata": {},
          "execution_count": 391
        }
      ]
    },
    {
      "cell_type": "code",
      "source": [
        "# print to the output file\n",
        "print('**************************************************************', file = outputFile)\n",
        "print('(A) Classifier 1 - Base DT', file = outputFile)\n",
        "print(classifier_1, file = outputFile)\n",
        "print('\\n', file = outputFile)"
      ],
      "metadata": {
        "id": "OYDP9qI641PW"
      },
      "execution_count": 392,
      "outputs": []
    },
    {
      "cell_type": "code",
      "source": [
        "# print classification report\n",
        "y_pred = classifier_1.predict(X_test)\n",
        "confusion_mat = confusion_matrix(y_test, y_pred)\n",
        "\n",
        "print(classification_report(y_test, y_pred, target_names=['Adelie', 'Chinstrap', 'Gentoo']))\n",
        "print(\"confusion matrix\\n\",confusion_mat)\n",
        "\n",
        "# print the result to the output file\n",
        "confusion_matrix_result =np.array2string(confusion_mat)\n",
        "print(\"(B) Confusion Matrix\", file = outputFile)\n",
        "print(confusion_matrix_result, file = outputFile)\n",
        "print('\\n', file = outputFile)\n",
        "print(\"(C,D) Classification Report\", file = outputFile)\n",
        "print(classification_report(y_test, y_pred, target_names = ['Adelie', 'Gentoo', 'Chinstap']), file = outputFile)\n",
        "outputFile.flush()"
      ],
      "metadata": {
        "colab": {
          "base_uri": "https://localhost:8080/"
        },
        "id": "o-9zdG295Uzs",
        "outputId": "f7652f01-8d8a-464a-dbd6-6c84a6f3707a"
      },
      "execution_count": 393,
      "outputs": [
        {
          "output_type": "stream",
          "name": "stdout",
          "text": [
            "              precision    recall  f1-score   support\n",
            "\n",
            "      Adelie       0.98      0.91      0.94        46\n",
            "   Chinstrap       0.83      0.94      0.88        16\n",
            "      Gentoo       0.97      1.00      0.99        38\n",
            "\n",
            "    accuracy                           0.95       100\n",
            "   macro avg       0.93      0.95      0.94       100\n",
            "weighted avg       0.95      0.95      0.95       100\n",
            "\n",
            "confusion matrix\n",
            " [[42  3  1]\n",
            " [ 1 15  0]\n",
            " [ 0  0 38]]\n"
          ]
        }
      ]
    },
    {
      "cell_type": "code",
      "source": [
        "# repeat training & prediction 5 times for classifier 1\n",
        "from sklearn.metrics import accuracy_score, f1_score\n",
        "\n",
        "accuracy_baseDT = np.zeros(5)\n",
        "macro_avg_baseDT = np.zeros(5)\n",
        "weighted_avg_baseDT = np.zeros(5)\n",
        "\n",
        "for i in range(5):\n",
        "  X_train, X_test, y_train, y_test = train_test_split(X, y, test_size = 0.3)\n",
        "  classifier_1.fit(X_train, y_train)\n",
        "  y_pred = classifier_1.predict(X_test)\n",
        "\n",
        "  # find the accuracy for each iteration and store the value\n",
        "  accuracy_baseDT[i] = accuracy_score(y_test, y_pred)\n",
        "  macro_avg_baseDT[i] = f1_score(y_test, y_pred, average='macro')\n",
        "  weighted_avg_baseDT[i] = f1_score(y_test, y_pred, average='weighted')\n",
        "\n",
        "# compute the average accuracy & variances\n",
        "print(f'accuracy_baseDT: {accuracy_baseDT}')\n",
        "Avg_accuracy = (np.sum(accuracy_baseDT))/5\n",
        "accuracy_variance = np.var(accuracy_baseDT)\n",
        "print(f'average accuracy: {Avg_accuracy}, variance: {accuracy_variance}')\n",
        "\n",
        "# compute the average macro-average F1 & the variance\n",
        "print(f'macro_avg_baseDT: {macro_avg_baseDT}')\n",
        "Avg_macro_avg = (np.sum(macro_avg_baseDT))/5\n",
        "f1_macro_variance = np.var(macro_avg_baseDT)\n",
        "print(f'average macro-average F1: {Avg_macro_avg}, variance: {f1_macro_variance}')\n",
        "\n",
        "# compute the average weighted-average F1 & the variance\n",
        "print(f'weighted_avg_baseDT: {weighted_avg_baseDT}')\n",
        "Avg_weighted_avg = (np.sum(weighted_avg_baseDT))/5\n",
        "f1_weighted_variance = np.var(weighted_avg_baseDT)\n",
        "print(f'average weighted-average F1: {Avg_weighted_avg}, variance: {f1_weighted_variance}')"
      ],
      "metadata": {
        "id": "kSCBBBuHJcjz",
        "outputId": "e6633afa-782c-4a24-fbe0-6ef4d5baf4b8",
        "colab": {
          "base_uri": "https://localhost:8080/"
        }
      },
      "execution_count": 394,
      "outputs": [
        {
          "output_type": "stream",
          "name": "stdout",
          "text": [
            "accuracy_baseDT: [0.96 0.97 0.98 0.96 0.94]\n",
            "average accuracy: 0.9620000000000001, variance: 0.00017600000000000032\n",
            "macro_avg_baseDT: [0.95892256 0.9632288  0.97709655 0.95373537 0.93294479]\n",
            "average macro-average F1: 0.9571856151327118, variance: 0.00020710078948170282\n",
            "weighted_avg_baseDT: [0.96022222 0.96980557 0.98022199 0.95944554 0.94004838]\n",
            "average weighted-average F1: 0.9619487420613447, variance: 0.00017690279689086346\n"
          ]
        }
      ]
    },
    {
      "cell_type": "code",
      "source": [
        "# print the performance result to outputfile\n",
        "print('\\n(E) The result after 5 times of train-test repetition:' ,file = outputFile)\n",
        "print(f'average accuracy: {Avg_accuracy}, variance: {accuracy_variance}', file = outputFile)\n",
        "print(f'average macro-average F1: {Avg_macro_avg}, variance: {f1_macro_variance}', file = outputFile)\n",
        "print(f'average weighted-average F1: {Avg_weighted_avg}, variance: {f1_weighted_variance}', file = outputFile)\n",
        "print('\\n', file = outputFile)\n",
        "outputFile.flush()"
      ],
      "metadata": {
        "id": "G9_phUjPZBFF"
      },
      "execution_count": 395,
      "outputs": []
    },
    {
      "cell_type": "markdown",
      "source": [
        "##### Classifier 2 - Top-DT"
      ],
      "metadata": {
        "id": "8RIB1m4M56j3"
      }
    },
    {
      "cell_type": "code",
      "source": [
        "# Top Decision Tree - decision tree using gridsearch(hyperparameter search)\n",
        "from sklearn.model_selection import GridSearchCV\n",
        "from sklearn.tree import DecisionTreeClassifier\n",
        "\n",
        "parameters = {\n",
        "    'criterion': ['gini', 'entropy'],\n",
        "    'max_depth': [None, 3, 5],\n",
        "    'min_samples_split': [2, 5, 10]\n",
        "}\n",
        "\n",
        "classifier_2 = GridSearchCV(DecisionTreeClassifier(), parameters)\n",
        "classifier_2.fit(X_train, y_train)\n",
        "\n",
        "print(f'best parameters: {classifier_2.best_params_}')"
      ],
      "metadata": {
        "id": "JRPd85lw5jg2",
        "colab": {
          "base_uri": "https://localhost:8080/"
        },
        "outputId": "66ebd196-2da9-4190-ba54-95a57eb811ff"
      },
      "execution_count": 396,
      "outputs": [
        {
          "output_type": "stream",
          "name": "stdout",
          "text": [
            "best parameters: {'criterion': 'entropy', 'max_depth': 5, 'min_samples_split': 5}\n"
          ]
        }
      ]
    },
    {
      "cell_type": "code",
      "source": [
        "penguins_class = data_penguins.columns[0]\n",
        "penguins_features = list(data_penguins.columns[1:])"
      ],
      "metadata": {
        "id": "YFTodB7a_Qxl"
      },
      "execution_count": 397,
      "outputs": []
    },
    {
      "cell_type": "code",
      "source": [
        "from sklearn.tree import export_graphviz\n",
        "from IPython.display import display\n",
        "\n",
        "dot_data = export_graphviz(classifier_2.best_estimator_,\n",
        "                          feature_names=penguins_features,\n",
        "                          class_names=penguins_class,\n",
        "                          filled=True, rounded=True,\n",
        "                          special_characters=True)\n",
        "\n",
        "graph = graphviz.Source(dot_data)\n",
        "display(graph)"
      ],
      "metadata": {
        "id": "Yq9k0XZ6-odi",
        "outputId": "b06cecc8-5cd8-48fd-e0b2-74343852c1f3",
        "colab": {
          "base_uri": "https://localhost:8080/",
          "height": 777
        }
      },
      "execution_count": 398,
      "outputs": [
        {
          "output_type": "display_data",
          "data": {
            "image/svg+xml": "<?xml version=\"1.0\" encoding=\"UTF-8\" standalone=\"no\"?>\n<!DOCTYPE svg PUBLIC \"-//W3C//DTD SVG 1.1//EN\"\n \"http://www.w3.org/Graphics/SVG/1.1/DTD/svg11.dtd\">\n<!-- Generated by graphviz version 2.43.0 (0)\n -->\n<!-- Title: Tree Pages: 1 -->\n<svg width=\"789pt\" height=\"552pt\"\n viewBox=\"0.00 0.00 789.00 552.00\" xmlns=\"http://www.w3.org/2000/svg\" xmlns:xlink=\"http://www.w3.org/1999/xlink\">\n<g id=\"graph0\" class=\"graph\" transform=\"scale(1 1) rotate(0) translate(4 548)\">\n<title>Tree</title>\n<polygon fill=\"white\" stroke=\"transparent\" points=\"-4,4 -4,-548 785,-548 785,4 -4,4\"/>\n<!-- 0 -->\n<g id=\"node1\" class=\"node\">\n<title>0</title>\n<path fill=\"#fdf6f0\" stroke=\"black\" d=\"M582.5,-544C582.5,-544 428.5,-544 428.5,-544 422.5,-544 416.5,-538 416.5,-532 416.5,-532 416.5,-473 416.5,-473 416.5,-467 422.5,-461 428.5,-461 428.5,-461 582.5,-461 582.5,-461 588.5,-461 594.5,-467 594.5,-473 594.5,-473 594.5,-532 594.5,-532 594.5,-538 588.5,-544 582.5,-544\"/>\n<text text-anchor=\"start\" x=\"424.5\" y=\"-528.8\" font-family=\"Helvetica,sans-Serif\" font-size=\"14.00\">flipper_length_mm ≤ 0.467</text>\n<text text-anchor=\"start\" x=\"458\" y=\"-513.8\" font-family=\"Helvetica,sans-Serif\" font-size=\"14.00\">entropy = 1.526</text>\n<text text-anchor=\"start\" x=\"460.5\" y=\"-498.8\" font-family=\"Helvetica,sans-Serif\" font-size=\"14.00\">samples = 233</text>\n<text text-anchor=\"start\" x=\"447.5\" y=\"-483.8\" font-family=\"Helvetica,sans-Serif\" font-size=\"14.00\">value = [98, 48, 87]</text>\n<text text-anchor=\"start\" x=\"478.5\" y=\"-468.8\" font-family=\"Helvetica,sans-Serif\" font-size=\"14.00\">class = s</text>\n</g>\n<!-- 1 -->\n<g id=\"node2\" class=\"node\">\n<title>1</title>\n<path fill=\"#f1bc96\" stroke=\"black\" d=\"M502,-425C502,-425 341,-425 341,-425 335,-425 329,-419 329,-413 329,-413 329,-354 329,-354 329,-348 335,-342 341,-342 341,-342 502,-342 502,-342 508,-342 514,-348 514,-354 514,-354 514,-413 514,-413 514,-419 508,-425 502,-425\"/>\n<text text-anchor=\"start\" x=\"337\" y=\"-409.8\" font-family=\"Helvetica,sans-Serif\" font-size=\"14.00\">culmen_length_mm ≤ 0.038</text>\n<text text-anchor=\"start\" x=\"374\" y=\"-394.8\" font-family=\"Helvetica,sans-Serif\" font-size=\"14.00\">entropy = 0.955</text>\n<text text-anchor=\"start\" x=\"376.5\" y=\"-379.8\" font-family=\"Helvetica,sans-Serif\" font-size=\"14.00\">samples = 143</text>\n<text text-anchor=\"start\" x=\"367\" y=\"-364.8\" font-family=\"Helvetica,sans-Serif\" font-size=\"14.00\">value = [97, 45, 1]</text>\n<text text-anchor=\"start\" x=\"394.5\" y=\"-349.8\" font-family=\"Helvetica,sans-Serif\" font-size=\"14.00\">class = s</text>\n</g>\n<!-- 0&#45;&gt;1 -->\n<g id=\"edge1\" class=\"edge\">\n<title>0&#45;&gt;1</title>\n<path fill=\"none\" stroke=\"black\" d=\"M476.36,-460.91C469.97,-452.01 463.15,-442.51 456.56,-433.33\"/>\n<polygon fill=\"black\" stroke=\"black\" points=\"459.27,-431.1 450.59,-425.02 453.58,-435.19 459.27,-431.1\"/>\n<text text-anchor=\"middle\" x=\"446.54\" y=\"-445.99\" font-family=\"Helvetica,sans-Serif\" font-size=\"14.00\">True</text>\n</g>\n<!-- 10 -->\n<g id=\"node11\" class=\"node\">\n<title>10</title>\n<path fill=\"#8742e6\" stroke=\"black\" d=\"M637,-425C637,-425 544,-425 544,-425 538,-425 532,-419 532,-413 532,-413 532,-354 532,-354 532,-348 538,-342 544,-342 544,-342 637,-342 637,-342 643,-342 649,-348 649,-354 649,-354 649,-413 649,-413 649,-419 643,-425 637,-425\"/>\n<text text-anchor=\"start\" x=\"548\" y=\"-409.8\" font-family=\"Helvetica,sans-Serif\" font-size=\"14.00\">island ≤ 0.021</text>\n<text text-anchor=\"start\" x=\"543\" y=\"-394.8\" font-family=\"Helvetica,sans-Serif\" font-size=\"14.00\">entropy = 0.298</text>\n<text text-anchor=\"start\" x=\"549.5\" y=\"-379.8\" font-family=\"Helvetica,sans-Serif\" font-size=\"14.00\">samples = 90</text>\n<text text-anchor=\"start\" x=\"540\" y=\"-364.8\" font-family=\"Helvetica,sans-Serif\" font-size=\"14.00\">value = [1, 3, 86]</text>\n<text text-anchor=\"start\" x=\"563\" y=\"-349.8\" font-family=\"Helvetica,sans-Serif\" font-size=\"14.00\">class = e</text>\n</g>\n<!-- 0&#45;&gt;10 -->\n<g id=\"edge10\" class=\"edge\">\n<title>0&#45;&gt;10</title>\n<path fill=\"none\" stroke=\"black\" d=\"M534.99,-460.91C541.45,-452.01 548.36,-442.51 555.02,-433.33\"/>\n<polygon fill=\"black\" stroke=\"black\" points=\"558.02,-435.17 561.06,-425.02 552.35,-431.05 558.02,-435.17\"/>\n<text text-anchor=\"middle\" x=\"564.97\" y=\"-446.01\" font-family=\"Helvetica,sans-Serif\" font-size=\"14.00\">False</text>\n</g>\n<!-- 2 -->\n<g id=\"node3\" class=\"node\">\n<title>2</title>\n<path fill=\"#e6853f\" stroke=\"black\" d=\"M298.5,-306C298.5,-306 132.5,-306 132.5,-306 126.5,-306 120.5,-300 120.5,-294 120.5,-294 120.5,-235 120.5,-235 120.5,-229 126.5,-223 132.5,-223 132.5,-223 298.5,-223 298.5,-223 304.5,-223 310.5,-229 310.5,-235 310.5,-235 310.5,-294 310.5,-294 310.5,-300 304.5,-306 298.5,-306\"/>\n<text text-anchor=\"start\" x=\"128.5\" y=\"-290.8\" font-family=\"Helvetica,sans-Serif\" font-size=\"14.00\">culmen_length_mm ≤ &#45;0.301</text>\n<text text-anchor=\"start\" x=\"168\" y=\"-275.8\" font-family=\"Helvetica,sans-Serif\" font-size=\"14.00\">entropy = 0.194</text>\n<text text-anchor=\"start\" x=\"170.5\" y=\"-260.8\" font-family=\"Helvetica,sans-Serif\" font-size=\"14.00\">samples = 100</text>\n<text text-anchor=\"start\" x=\"165\" y=\"-245.8\" font-family=\"Helvetica,sans-Serif\" font-size=\"14.00\">value = [97, 3, 0]</text>\n<text text-anchor=\"start\" x=\"188.5\" y=\"-230.8\" font-family=\"Helvetica,sans-Serif\" font-size=\"14.00\">class = s</text>\n</g>\n<!-- 1&#45;&gt;2 -->\n<g id=\"edge2\" class=\"edge\">\n<title>1&#45;&gt;2</title>\n<path fill=\"none\" stroke=\"black\" d=\"M350.03,-341.91C332.45,-331.92 313.52,-321.17 295.57,-310.98\"/>\n<polygon fill=\"black\" stroke=\"black\" points=\"297.27,-307.92 286.84,-306.02 293.81,-314 297.27,-307.92\"/>\n</g>\n<!-- 7 -->\n<g id=\"node8\" class=\"node\">\n<title>7</title>\n<path fill=\"#3ee684\" stroke=\"black\" d=\"M504,-306C504,-306 341,-306 341,-306 335,-306 329,-300 329,-294 329,-294 329,-235 329,-235 329,-229 335,-223 341,-223 341,-223 504,-223 504,-223 510,-223 516,-229 516,-235 516,-235 516,-294 516,-294 516,-300 510,-306 504,-306\"/>\n<text text-anchor=\"start\" x=\"337\" y=\"-290.8\" font-family=\"Helvetica,sans-Serif\" font-size=\"14.00\">culmen_depth_mm ≤ &#45;0.898</text>\n<text text-anchor=\"start\" x=\"375\" y=\"-275.8\" font-family=\"Helvetica,sans-Serif\" font-size=\"14.00\">entropy = 0.159</text>\n<text text-anchor=\"start\" x=\"381.5\" y=\"-260.8\" font-family=\"Helvetica,sans-Serif\" font-size=\"14.00\">samples = 43</text>\n<text text-anchor=\"start\" x=\"372\" y=\"-245.8\" font-family=\"Helvetica,sans-Serif\" font-size=\"14.00\">value = [0, 42, 1]</text>\n<text text-anchor=\"start\" x=\"395\" y=\"-230.8\" font-family=\"Helvetica,sans-Serif\" font-size=\"14.00\">class = p</text>\n</g>\n<!-- 1&#45;&gt;7 -->\n<g id=\"edge7\" class=\"edge\">\n<title>1&#45;&gt;7</title>\n<path fill=\"none\" stroke=\"black\" d=\"M421.85,-341.91C421.92,-333.65 421.99,-324.86 422.07,-316.3\"/>\n<polygon fill=\"black\" stroke=\"black\" points=\"425.57,-316.05 422.15,-306.02 418.57,-315.99 425.57,-316.05\"/>\n</g>\n<!-- 3 -->\n<g id=\"node4\" class=\"node\">\n<title>3</title>\n<path fill=\"#e58139\" stroke=\"black\" d=\"M105,-179.5C105,-179.5 12,-179.5 12,-179.5 6,-179.5 0,-173.5 0,-167.5 0,-167.5 0,-123.5 0,-123.5 0,-117.5 6,-111.5 12,-111.5 12,-111.5 105,-111.5 105,-111.5 111,-111.5 117,-117.5 117,-123.5 117,-123.5 117,-167.5 117,-167.5 117,-173.5 111,-179.5 105,-179.5\"/>\n<text text-anchor=\"start\" x=\"18.5\" y=\"-164.3\" font-family=\"Helvetica,sans-Serif\" font-size=\"14.00\">entropy = 0.0</text>\n<text text-anchor=\"start\" x=\"17.5\" y=\"-149.3\" font-family=\"Helvetica,sans-Serif\" font-size=\"14.00\">samples = 90</text>\n<text text-anchor=\"start\" x=\"8\" y=\"-134.3\" font-family=\"Helvetica,sans-Serif\" font-size=\"14.00\">value = [90, 0, 0]</text>\n<text text-anchor=\"start\" x=\"31.5\" y=\"-119.3\" font-family=\"Helvetica,sans-Serif\" font-size=\"14.00\">class = s</text>\n</g>\n<!-- 2&#45;&gt;3 -->\n<g id=\"edge3\" class=\"edge\">\n<title>2&#45;&gt;3</title>\n<path fill=\"none\" stroke=\"black\" d=\"M161.03,-222.91C144.89,-210.88 127.25,-197.73 111.22,-185.79\"/>\n<polygon fill=\"black\" stroke=\"black\" points=\"113.12,-182.84 103.01,-179.67 108.93,-188.45 113.12,-182.84\"/>\n</g>\n<!-- 4 -->\n<g id=\"node5\" class=\"node\">\n<title>4</title>\n<path fill=\"#f0b78e\" stroke=\"black\" d=\"M305.5,-187C305.5,-187 147.5,-187 147.5,-187 141.5,-187 135.5,-181 135.5,-175 135.5,-175 135.5,-116 135.5,-116 135.5,-110 141.5,-104 147.5,-104 147.5,-104 305.5,-104 305.5,-104 311.5,-104 317.5,-110 317.5,-116 317.5,-116 317.5,-175 317.5,-175 317.5,-181 311.5,-187 305.5,-187\"/>\n<text text-anchor=\"start\" x=\"143.5\" y=\"-171.8\" font-family=\"Helvetica,sans-Serif\" font-size=\"14.00\">culmen_depth_mm ≤ 0.145</text>\n<text text-anchor=\"start\" x=\"179\" y=\"-156.8\" font-family=\"Helvetica,sans-Serif\" font-size=\"14.00\">entropy = 0.881</text>\n<text text-anchor=\"start\" x=\"185.5\" y=\"-141.8\" font-family=\"Helvetica,sans-Serif\" font-size=\"14.00\">samples = 10</text>\n<text text-anchor=\"start\" x=\"179.5\" y=\"-126.8\" font-family=\"Helvetica,sans-Serif\" font-size=\"14.00\">value = [7, 3, 0]</text>\n<text text-anchor=\"start\" x=\"199.5\" y=\"-111.8\" font-family=\"Helvetica,sans-Serif\" font-size=\"14.00\">class = s</text>\n</g>\n<!-- 2&#45;&gt;4 -->\n<g id=\"edge4\" class=\"edge\">\n<title>2&#45;&gt;4</title>\n<path fill=\"none\" stroke=\"black\" d=\"M219.32,-222.91C220.1,-214.56 220.94,-205.67 221.75,-197.02\"/>\n<polygon fill=\"black\" stroke=\"black\" points=\"225.24,-197.3 222.69,-187.02 218.27,-196.65 225.24,-197.3\"/>\n</g>\n<!-- 5 -->\n<g id=\"node6\" class=\"node\">\n<title>5</title>\n<path fill=\"#39e581\" stroke=\"black\" d=\"M205.5,-68C205.5,-68 119.5,-68 119.5,-68 113.5,-68 107.5,-62 107.5,-56 107.5,-56 107.5,-12 107.5,-12 107.5,-6 113.5,0 119.5,0 119.5,0 205.5,0 205.5,0 211.5,0 217.5,-6 217.5,-12 217.5,-12 217.5,-56 217.5,-56 217.5,-62 211.5,-68 205.5,-68\"/>\n<text text-anchor=\"start\" x=\"122.5\" y=\"-52.8\" font-family=\"Helvetica,sans-Serif\" font-size=\"14.00\">entropy = 0.0</text>\n<text text-anchor=\"start\" x=\"125\" y=\"-37.8\" font-family=\"Helvetica,sans-Serif\" font-size=\"14.00\">samples = 3</text>\n<text text-anchor=\"start\" x=\"115.5\" y=\"-22.8\" font-family=\"Helvetica,sans-Serif\" font-size=\"14.00\">value = [0, 3, 0]</text>\n<text text-anchor=\"start\" x=\"135\" y=\"-7.8\" font-family=\"Helvetica,sans-Serif\" font-size=\"14.00\">class = p</text>\n</g>\n<!-- 4&#45;&gt;5 -->\n<g id=\"edge5\" class=\"edge\">\n<title>4&#45;&gt;5</title>\n<path fill=\"none\" stroke=\"black\" d=\"M202.67,-103.73C197.6,-95.06 192.25,-85.9 187.15,-77.18\"/>\n<polygon fill=\"black\" stroke=\"black\" points=\"190.03,-75.17 181.96,-68.3 183.99,-78.7 190.03,-75.17\"/>\n</g>\n<!-- 6 -->\n<g id=\"node7\" class=\"node\">\n<title>6</title>\n<path fill=\"#e58139\" stroke=\"black\" d=\"M333.5,-68C333.5,-68 247.5,-68 247.5,-68 241.5,-68 235.5,-62 235.5,-56 235.5,-56 235.5,-12 235.5,-12 235.5,-6 241.5,0 247.5,0 247.5,0 333.5,0 333.5,0 339.5,0 345.5,-6 345.5,-12 345.5,-12 345.5,-56 345.5,-56 345.5,-62 339.5,-68 333.5,-68\"/>\n<text text-anchor=\"start\" x=\"250.5\" y=\"-52.8\" font-family=\"Helvetica,sans-Serif\" font-size=\"14.00\">entropy = 0.0</text>\n<text text-anchor=\"start\" x=\"253\" y=\"-37.8\" font-family=\"Helvetica,sans-Serif\" font-size=\"14.00\">samples = 7</text>\n<text text-anchor=\"start\" x=\"243.5\" y=\"-22.8\" font-family=\"Helvetica,sans-Serif\" font-size=\"14.00\">value = [7, 0, 0]</text>\n<text text-anchor=\"start\" x=\"263.5\" y=\"-7.8\" font-family=\"Helvetica,sans-Serif\" font-size=\"14.00\">class = s</text>\n</g>\n<!-- 4&#45;&gt;6 -->\n<g id=\"edge6\" class=\"edge\">\n<title>4&#45;&gt;6</title>\n<path fill=\"none\" stroke=\"black\" d=\"M250.33,-103.73C255.4,-95.06 260.75,-85.9 265.85,-77.18\"/>\n<polygon fill=\"black\" stroke=\"black\" points=\"269.01,-78.7 271.04,-68.3 262.97,-75.17 269.01,-78.7\"/>\n</g>\n<!-- 8 -->\n<g id=\"node9\" class=\"node\">\n<title>8</title>\n<path fill=\"#8139e5\" stroke=\"black\" d=\"M454.5,-179.5C454.5,-179.5 368.5,-179.5 368.5,-179.5 362.5,-179.5 356.5,-173.5 356.5,-167.5 356.5,-167.5 356.5,-123.5 356.5,-123.5 356.5,-117.5 362.5,-111.5 368.5,-111.5 368.5,-111.5 454.5,-111.5 454.5,-111.5 460.5,-111.5 466.5,-117.5 466.5,-123.5 466.5,-123.5 466.5,-167.5 466.5,-167.5 466.5,-173.5 460.5,-179.5 454.5,-179.5\"/>\n<text text-anchor=\"start\" x=\"371.5\" y=\"-164.3\" font-family=\"Helvetica,sans-Serif\" font-size=\"14.00\">entropy = 0.0</text>\n<text text-anchor=\"start\" x=\"374\" y=\"-149.3\" font-family=\"Helvetica,sans-Serif\" font-size=\"14.00\">samples = 1</text>\n<text text-anchor=\"start\" x=\"364.5\" y=\"-134.3\" font-family=\"Helvetica,sans-Serif\" font-size=\"14.00\">value = [0, 0, 1]</text>\n<text text-anchor=\"start\" x=\"384\" y=\"-119.3\" font-family=\"Helvetica,sans-Serif\" font-size=\"14.00\">class = e</text>\n</g>\n<!-- 7&#45;&gt;8 -->\n<g id=\"edge8\" class=\"edge\">\n<title>7&#45;&gt;8</title>\n<path fill=\"none\" stroke=\"black\" d=\"M418.68,-222.91C417.68,-212.2 416.59,-200.62 415.57,-189.78\"/>\n<polygon fill=\"black\" stroke=\"black\" points=\"419.04,-189.3 414.62,-179.67 412.07,-189.95 419.04,-189.3\"/>\n</g>\n<!-- 9 -->\n<g id=\"node10\" class=\"node\">\n<title>9</title>\n<path fill=\"#39e581\" stroke=\"black\" d=\"M590,-179.5C590,-179.5 497,-179.5 497,-179.5 491,-179.5 485,-173.5 485,-167.5 485,-167.5 485,-123.5 485,-123.5 485,-117.5 491,-111.5 497,-111.5 497,-111.5 590,-111.5 590,-111.5 596,-111.5 602,-117.5 602,-123.5 602,-123.5 602,-167.5 602,-167.5 602,-173.5 596,-179.5 590,-179.5\"/>\n<text text-anchor=\"start\" x=\"503.5\" y=\"-164.3\" font-family=\"Helvetica,sans-Serif\" font-size=\"14.00\">entropy = 0.0</text>\n<text text-anchor=\"start\" x=\"502.5\" y=\"-149.3\" font-family=\"Helvetica,sans-Serif\" font-size=\"14.00\">samples = 42</text>\n<text text-anchor=\"start\" x=\"493\" y=\"-134.3\" font-family=\"Helvetica,sans-Serif\" font-size=\"14.00\">value = [0, 42, 0]</text>\n<text text-anchor=\"start\" x=\"516\" y=\"-119.3\" font-family=\"Helvetica,sans-Serif\" font-size=\"14.00\">class = p</text>\n</g>\n<!-- 7&#45;&gt;9 -->\n<g id=\"edge9\" class=\"edge\">\n<title>7&#45;&gt;9</title>\n<path fill=\"none\" stroke=\"black\" d=\"M464.48,-222.91C476.58,-211.21 489.77,-198.46 501.84,-186.78\"/>\n<polygon fill=\"black\" stroke=\"black\" points=\"504.44,-189.13 509.2,-179.67 499.58,-184.1 504.44,-189.13\"/>\n</g>\n<!-- 11 -->\n<g id=\"node12\" class=\"node\">\n<title>11</title>\n<path fill=\"#7beeab\" stroke=\"black\" d=\"M634,-298.5C634,-298.5 547,-298.5 547,-298.5 541,-298.5 535,-292.5 535,-286.5 535,-286.5 535,-242.5 535,-242.5 535,-236.5 541,-230.5 547,-230.5 547,-230.5 634,-230.5 634,-230.5 640,-230.5 646,-236.5 646,-242.5 646,-242.5 646,-286.5 646,-286.5 646,-292.5 640,-298.5 634,-298.5\"/>\n<text text-anchor=\"start\" x=\"543\" y=\"-283.3\" font-family=\"Helvetica,sans-Serif\" font-size=\"14.00\">entropy = 0.811</text>\n<text text-anchor=\"start\" x=\"553\" y=\"-268.3\" font-family=\"Helvetica,sans-Serif\" font-size=\"14.00\">samples = 4</text>\n<text text-anchor=\"start\" x=\"543.5\" y=\"-253.3\" font-family=\"Helvetica,sans-Serif\" font-size=\"14.00\">value = [1, 3, 0]</text>\n<text text-anchor=\"start\" x=\"563\" y=\"-238.3\" font-family=\"Helvetica,sans-Serif\" font-size=\"14.00\">class = p</text>\n</g>\n<!-- 10&#45;&gt;11 -->\n<g id=\"edge11\" class=\"edge\">\n<title>10&#45;&gt;11</title>\n<path fill=\"none\" stroke=\"black\" d=\"M590.5,-341.91C590.5,-331.2 590.5,-319.62 590.5,-308.78\"/>\n<polygon fill=\"black\" stroke=\"black\" points=\"594,-308.67 590.5,-298.67 587,-308.67 594,-308.67\"/>\n</g>\n<!-- 12 -->\n<g id=\"node13\" class=\"node\">\n<title>12</title>\n<path fill=\"#8139e5\" stroke=\"black\" d=\"M769,-298.5C769,-298.5 676,-298.5 676,-298.5 670,-298.5 664,-292.5 664,-286.5 664,-286.5 664,-242.5 664,-242.5 664,-236.5 670,-230.5 676,-230.5 676,-230.5 769,-230.5 769,-230.5 775,-230.5 781,-236.5 781,-242.5 781,-242.5 781,-286.5 781,-286.5 781,-292.5 775,-298.5 769,-298.5\"/>\n<text text-anchor=\"start\" x=\"682.5\" y=\"-283.3\" font-family=\"Helvetica,sans-Serif\" font-size=\"14.00\">entropy = 0.0</text>\n<text text-anchor=\"start\" x=\"681.5\" y=\"-268.3\" font-family=\"Helvetica,sans-Serif\" font-size=\"14.00\">samples = 86</text>\n<text text-anchor=\"start\" x=\"672\" y=\"-253.3\" font-family=\"Helvetica,sans-Serif\" font-size=\"14.00\">value = [0, 0, 86]</text>\n<text text-anchor=\"start\" x=\"695\" y=\"-238.3\" font-family=\"Helvetica,sans-Serif\" font-size=\"14.00\">class = e</text>\n</g>\n<!-- 10&#45;&gt;12 -->\n<g id=\"edge12\" class=\"edge\">\n<title>10&#45;&gt;12</title>\n<path fill=\"none\" stroke=\"black\" d=\"M636.3,-341.91C649.62,-330.1 664.15,-317.22 677.43,-305.45\"/>\n<polygon fill=\"black\" stroke=\"black\" points=\"679.92,-307.92 685.08,-298.67 675.28,-302.68 679.92,-307.92\"/>\n</g>\n</g>\n</svg>\n",
            "text/plain": [
              "<graphviz.sources.Source at 0x7f0faf1bf070>"
            ]
          },
          "metadata": {}
        }
      ]
    },
    {
      "cell_type": "code",
      "source": [
        "# print to the output file\n",
        "print('**************************************************************', file = outputFile)\n",
        "print('(A) Classifier 2 - Top DT', file = outputFile)\n",
        "print(classifier_2, file = outputFile)\n",
        "print(f'best parameters: {classifier_2.best_params_}\\n', file = outputFile)\n",
        "print('\\n', file = outputFile)\n",
        "outputFile.flush()"
      ],
      "metadata": {
        "id": "OyY9Icjy8H7k"
      },
      "execution_count": 399,
      "outputs": []
    },
    {
      "cell_type": "code",
      "source": [
        "# print classification report\n",
        "y_pred = classifier_2.predict(X_test)\n",
        "confusion_mat = confusion_matrix(y_test, y_pred)\n",
        "\n",
        "print(classification_report(y_test, y_pred, target_names=['Adelie', 'Chinstrap', 'Gentoo']))\n",
        "print(\"confusion matrix\\n\",confusion_mat)\n",
        "\n",
        "# print the result to the output file\n",
        "print(classification_report(y_test, y_pred, target_names = ['Adelie', 'Chinstrap', 'Gentoo']), file = outputFile)\n",
        "confusion_matrix_result =np.array2string(confusion_mat)\n",
        "print(\"confusion matrix\", file = outputFile)\n",
        "print(confusion_matrix_result, file = outputFile)\n",
        "print('\\n', file = outputFile)\n",
        "outputFile.flush()"
      ],
      "metadata": {
        "id": "RyyDW6-78J9g",
        "outputId": "80f647ad-921c-4b71-df9b-90e9675a017b",
        "colab": {
          "base_uri": "https://localhost:8080/"
        }
      },
      "execution_count": 400,
      "outputs": [
        {
          "output_type": "stream",
          "name": "stdout",
          "text": [
            "              precision    recall  f1-score   support\n",
            "\n",
            "      Adelie       0.96      0.92      0.94        48\n",
            "   Chinstrap       0.82      0.90      0.86        20\n",
            "      Gentoo       1.00      1.00      1.00        32\n",
            "\n",
            "    accuracy                           0.94       100\n",
            "   macro avg       0.92      0.94      0.93       100\n",
            "weighted avg       0.94      0.94      0.94       100\n",
            "\n",
            "confusion matrix\n",
            " [[44  4  0]\n",
            " [ 2 18  0]\n",
            " [ 0  0 32]]\n"
          ]
        }
      ]
    },
    {
      "cell_type": "code",
      "source": [
        "# repeat training & prediction 5 times for classifier 2\n",
        "from sklearn.metrics import accuracy_score, f1_score\n",
        "\n",
        "accuracy_baseDT = np.zeros(5)\n",
        "macro_avg_baseDT = np.zeros(5)\n",
        "weighted_avg_baseDT = np.zeros(5)\n",
        "\n",
        "for i in range(5):\n",
        "  X_train, X_test, y_train, y_test = train_test_split(X, y, test_size = 0.3)\n",
        "  classifier_2.fit(X_train, y_train)\n",
        "  y_pred = classifier_1.predict(X_test)\n",
        "\n",
        "  # find the accuracy for each iteration and store the value\n",
        "  accuracy_baseDT[i] = accuracy_score(y_test, y_pred)\n",
        "  macro_avg_baseDT[i] = f1_score(y_test, y_pred, average='macro')\n",
        "  weighted_avg_baseDT[i] = f1_score(y_test, y_pred, average='weighted')\n",
        "\n",
        "# compute the average accuracy & variances\n",
        "print(f'accuracy_baseDT: {accuracy_baseDT}')\n",
        "Avg_accuracy = (np.sum(accuracy_baseDT))/5\n",
        "accuracy_variance = np.var(accuracy_baseDT)\n",
        "print(f'average accuracy: {Avg_accuracy}, variance: {accuracy_variance}')\n",
        "\n",
        "# compute the average macro-average F1 & the variance\n",
        "print(f'macro_avg_baseDT: {macro_avg_baseDT}')\n",
        "Avg_macro_avg = (np.sum(macro_avg_baseDT))/5\n",
        "f1_macro_variance = np.var(macro_avg_baseDT)\n",
        "print(f'average macro-average F1: {Avg_macro_avg}, variance: {f1_macro_variance}')\n",
        "\n",
        "# compute the average weighted-average F1 & the variance\n",
        "print(f'weighted_avg_baseDT: {weighted_avg_baseDT}')\n",
        "Avg_weighted_avg = (np.sum(weighted_avg_baseDT))/5\n",
        "f1_weighted_variance = np.var(weighted_avg_baseDT)\n",
        "print(f'average weighted-average F1: {Avg_weighted_avg}, variance: {f1_weighted_variance}')"
      ],
      "metadata": {
        "id": "0W_Jt4LMJgy0",
        "colab": {
          "base_uri": "https://localhost:8080/"
        },
        "outputId": "8b952e4b-7313-4c08-a570-318988211403"
      },
      "execution_count": 401,
      "outputs": [
        {
          "output_type": "stream",
          "name": "stdout",
          "text": [
            "accuracy_baseDT: [0.97 0.98 1.   0.98 0.97]\n",
            "average accuracy: 0.9800000000000001, variance: 0.00012000000000000023\n",
            "macro_avg_baseDT: [0.96173702 0.97925926 1.         0.97793149 0.95743266]\n",
            "average macro-average F1: 0.9752720846220925, variance: 0.00022717659899082048\n",
            "weighted_avg_baseDT: [0.97023687 0.97982222 1.         0.98020751 0.96967077]\n",
            "average weighted-average F1: 0.9799874732781447, variance: 0.00012041713881332319\n"
          ]
        }
      ]
    },
    {
      "cell_type": "code",
      "source": [
        "# print the performance result to outputfile\n",
        "print('\\n(E) The result after 5 times of train-test repetition:' ,file = outputFile)\n",
        "print(f'average accuracy: {Avg_accuracy}, variance: {accuracy_variance}', file = outputFile)\n",
        "print(f'average macro-average F1: {Avg_macro_avg}, variance: {f1_macro_variance}', file = outputFile)\n",
        "print(f'average weighted-average F1: {Avg_weighted_avg}, variance: {f1_weighted_variance}', file = outputFile)\n",
        "print('\\n', file = outputFile)\n",
        "outputFile.flush()"
      ],
      "metadata": {
        "id": "Y4XPTddeb6Ck"
      },
      "execution_count": 402,
      "outputs": []
    },
    {
      "cell_type": "markdown",
      "source": [
        "##### Classifier 3 - Base-MLP"
      ],
      "metadata": {
        "id": "RsxEdv-Xd7Vn"
      }
    },
    {
      "cell_type": "code",
      "source": [
        "#Train Classifier 3\n",
        "mlp_base_penguin = MLPClassifier(hidden_layer_sizes =(100, 100,), activation = 'logistic', solver = 'sgd')\n",
        "mlp_base_penguin.fit(X_train, y_train)\n",
        "\n",
        "#print to the output file\n",
        "print('**************************************************************', file = outputFile)\n",
        "print('(A) Classifier 3 - Base MLP', file = outputFile)\n",
        "print(mlp_base_penguin, file = outputFile)\n",
        "print('\\n', file = outputFile)"
      ],
      "metadata": {
        "id": "LXZXNDUWd6Np"
      },
      "execution_count": 403,
      "outputs": []
    },
    {
      "cell_type": "markdown",
      "source": [
        "Metrics for Classifier 3"
      ],
      "metadata": {
        "id": "KpcPx0vCJryX"
      }
    },
    {
      "cell_type": "code",
      "source": [
        "#predict with Base MLP\n",
        "y_pred_base_mlp = mlp_base_penguin.predict(X_test)\n",
        "\n",
        "#print the result here on notebook\n",
        "print(classification_report(y_test, y_pred_base_mlp, target_names = ['Adelie', 'Gentoo', 'Chinstap']))\n",
        "print(confusion_matrix(y_test, y_pred_base_mlp))\n",
        "\n",
        "#print the result to the output file\n",
        "print(classification_report(y_test, y_pred_base_mlp, target_names = ['Adelie', 'Gentoo', 'Chinstap']), file = outputFile)\n",
        "confusion_matrix_result =np.array2string(confusion_matrix(y_test, y_pred_base_mlp))\n",
        "print(confusion_matrix_result, file = outputFile)\n",
        "outputFile.flush()"
      ],
      "metadata": {
        "id": "tpH0AREeJmJ2",
        "outputId": "2a0fb31c-b502-4c90-be29-2e882d0aa9a7",
        "colab": {
          "base_uri": "https://localhost:8080/"
        }
      },
      "execution_count": 404,
      "outputs": [
        {
          "output_type": "stream",
          "name": "stdout",
          "text": [
            "              precision    recall  f1-score   support\n",
            "\n",
            "      Adelie       0.48      1.00      0.65        48\n",
            "      Gentoo       0.00      0.00      0.00        16\n",
            "    Chinstap       0.00      0.00      0.00        36\n",
            "\n",
            "    accuracy                           0.48       100\n",
            "   macro avg       0.16      0.33      0.22       100\n",
            "weighted avg       0.23      0.48      0.31       100\n",
            "\n",
            "[[48  0  0]\n",
            " [16  0  0]\n",
            " [36  0  0]]\n"
          ]
        }
      ]
    },
    {
      "cell_type": "code",
      "source": [
        "#repeat train-test 5 times\n",
        "train_test_repetition((100, 100,), 'logistic', 'sgd', X, y, outputFile, ['Adelie', 'Gentoo', 'Chinstap'])"
      ],
      "metadata": {
        "id": "mpo7xeAfNajE"
      },
      "execution_count": 405,
      "outputs": []
    },
    {
      "cell_type": "markdown",
      "source": [
        "##### Classifier 4 - Top-MLP"
      ],
      "metadata": {
        "id": "Km0ZyCsVe8ze"
      }
    },
    {
      "cell_type": "code",
      "source": [
        "#create grid for each hyperparamter we want to test\n",
        "activation_grid = np.array(['logistic', 'tanh', 'relu'])\n",
        "neurons_tuple_grid = np.array([(30, 50,), (10, 10, 10,)], dtype = 'object')\n",
        "solver_grid = np.array(['adam', 'sgd'])\n",
        "\n",
        "#create parameter grid for GridSearchCV\n",
        "param_grid = {'hidden_layer_sizes': neurons_tuple_grid, 'activation': activation_grid, 'solver': solver_grid}\n",
        "\n",
        "#create grid cv object and do the search\n",
        "mlp_top_penguin = MLPClassifier()\n",
        "gridcv = sk.model_selection.GridSearchCV(mlp_top_penguin, param_grid = param_grid)\n",
        "gridcv.fit(X_train, y_train)\n",
        "\n",
        "#print the result here on notebook\n",
        "print(f'best parameters: {gridcv.best_params_}')\n",
        "\n",
        "#print the result to the output file\n",
        "print('**************************************************************', file = outputFile)\n",
        "print('(A) Classifier 4 - Top MLP', file = outputFile)\n",
        "print(f'best parameters: {gridcv.best_params_}\\n', file = outputFile)\n",
        "outputFile.flush()"
      ],
      "metadata": {
        "id": "-V8WxwtsfAHN",
        "outputId": "5fcc4440-fc62-4695-97f3-173b3bd5f583",
        "colab": {
          "base_uri": "https://localhost:8080/"
        }
      },
      "execution_count": 406,
      "outputs": [
        {
          "output_type": "stream",
          "name": "stdout",
          "text": [
            "best parameters: {'activation': 'relu', 'hidden_layer_sizes': (30, 50), 'solver': 'adam'}\n"
          ]
        }
      ]
    },
    {
      "cell_type": "markdown",
      "source": [
        "Metrics for Classifier 4 - Top MLP"
      ],
      "metadata": {
        "id": "1l-RdJs8oT5n"
      }
    },
    {
      "cell_type": "code",
      "source": [
        "#predict\n",
        "y_pred_top_mlp = gridcv.best_estimator_.predict(X_test)\n",
        "\n",
        "#print the result here on notebook\n",
        "print(classification_report(y_test, y_pred_top_mlp, target_names = ['Adelie', 'Gentoo', 'Chinstap']))\n",
        "print(confusion_matrix(y_test, y_pred_top_mlp))\n",
        "\n",
        "#print the result to the output file\n",
        "print(classification_report(y_test, y_pred_top_mlp, target_names = ['Adelie', 'Gentoo', 'Chinstap']), file = outputFile)\n",
        "confusion_matrix_result =np.array2string(confusion_matrix(y_test, y_pred_top_mlp))\n",
        "print(confusion_matrix_result, file = outputFile)\n",
        "outputFile.flush()"
      ],
      "metadata": {
        "id": "HINTuN52kIyr",
        "outputId": "e89e08dc-8630-4d96-e38d-52b852592726",
        "colab": {
          "base_uri": "https://localhost:8080/"
        }
      },
      "execution_count": 407,
      "outputs": [
        {
          "output_type": "stream",
          "name": "stdout",
          "text": [
            "              precision    recall  f1-score   support\n",
            "\n",
            "      Adelie       0.98      1.00      0.99        48\n",
            "      Gentoo       1.00      0.94      0.97        16\n",
            "    Chinstap       1.00      1.00      1.00        36\n",
            "\n",
            "    accuracy                           0.99       100\n",
            "   macro avg       0.99      0.98      0.99       100\n",
            "weighted avg       0.99      0.99      0.99       100\n",
            "\n",
            "[[48  0  0]\n",
            " [ 1 15  0]\n",
            " [ 0  0 36]]\n"
          ]
        }
      ]
    },
    {
      "cell_type": "code",
      "source": [
        "train_test_repetition(gridcv.best_params_['hidden_layer_sizes'], gridcv.best_params_['activation'], gridcv.best_params_['solver'], X, y, outputFile,['Adelie', 'Gentoo', 'Chinstap'])"
      ],
      "metadata": {
        "id": "WtHfQTtKSIlM"
      },
      "execution_count": 408,
      "outputs": []
    },
    {
      "cell_type": "code",
      "source": [
        "outputFile.close()"
      ],
      "metadata": {
        "id": "uj6lfQkPIRsk"
      },
      "execution_count": 409,
      "outputs": []
    },
    {
      "cell_type": "markdown",
      "source": [
        "## Dataset - 'abalone.csv'\n",
        "- Goal : prediction of sex"
      ],
      "metadata": {
        "id": "WYPRbdtq2-91"
      }
    },
    {
      "cell_type": "code",
      "source": [
        "outputFile = open('abalone-performance.txt', 'w')"
      ],
      "metadata": {
        "id": "jQKCBY32lPaR"
      },
      "execution_count": 410,
      "outputs": []
    },
    {
      "cell_type": "code",
      "source": [
        "data_abalone = pd.read_csv('abalone.csv')\n",
        "data_abalone.head()"
      ],
      "metadata": {
        "id": "wMutHb2AzmB1",
        "colab": {
          "base_uri": "https://localhost:8080/",
          "height": 226
        },
        "outputId": "bcc3123f-d045-41cd-85f4-a2b65ef65fcc"
      },
      "execution_count": 411,
      "outputs": [
        {
          "output_type": "execute_result",
          "data": {
            "text/plain": [
              "  Type  LongestShell  Diameter  Height  WholeWeight  ShuckedWeight  \\\n",
              "0    F         0.605     0.470   0.165       1.1775         0.6110   \n",
              "1    M         0.550     0.425   0.150       0.8315         0.4110   \n",
              "2    M         0.460     0.345   0.110       0.4595         0.2350   \n",
              "3    F         0.650     0.475   0.165       1.3875         0.5800   \n",
              "4    M         0.575     0.470   0.140       0.8375         0.3485   \n",
              "\n",
              "   VisceraWeight  ShellWeight  Rings  \n",
              "0         0.2275       0.2920      9  \n",
              "1         0.1765       0.2165     10  \n",
              "2         0.0885       0.1160      7  \n",
              "3         0.3485       0.3095      9  \n",
              "4         0.1735       0.2400     11  "
            ],
            "text/html": [
              "\n",
              "  <div id=\"df-13668bdc-3a67-4c91-9386-a222a0d5497e\" class=\"colab-df-container\">\n",
              "    <div>\n",
              "<style scoped>\n",
              "    .dataframe tbody tr th:only-of-type {\n",
              "        vertical-align: middle;\n",
              "    }\n",
              "\n",
              "    .dataframe tbody tr th {\n",
              "        vertical-align: top;\n",
              "    }\n",
              "\n",
              "    .dataframe thead th {\n",
              "        text-align: right;\n",
              "    }\n",
              "</style>\n",
              "<table border=\"1\" class=\"dataframe\">\n",
              "  <thead>\n",
              "    <tr style=\"text-align: right;\">\n",
              "      <th></th>\n",
              "      <th>Type</th>\n",
              "      <th>LongestShell</th>\n",
              "      <th>Diameter</th>\n",
              "      <th>Height</th>\n",
              "      <th>WholeWeight</th>\n",
              "      <th>ShuckedWeight</th>\n",
              "      <th>VisceraWeight</th>\n",
              "      <th>ShellWeight</th>\n",
              "      <th>Rings</th>\n",
              "    </tr>\n",
              "  </thead>\n",
              "  <tbody>\n",
              "    <tr>\n",
              "      <th>0</th>\n",
              "      <td>F</td>\n",
              "      <td>0.605</td>\n",
              "      <td>0.470</td>\n",
              "      <td>0.165</td>\n",
              "      <td>1.1775</td>\n",
              "      <td>0.6110</td>\n",
              "      <td>0.2275</td>\n",
              "      <td>0.2920</td>\n",
              "      <td>9</td>\n",
              "    </tr>\n",
              "    <tr>\n",
              "      <th>1</th>\n",
              "      <td>M</td>\n",
              "      <td>0.550</td>\n",
              "      <td>0.425</td>\n",
              "      <td>0.150</td>\n",
              "      <td>0.8315</td>\n",
              "      <td>0.4110</td>\n",
              "      <td>0.1765</td>\n",
              "      <td>0.2165</td>\n",
              "      <td>10</td>\n",
              "    </tr>\n",
              "    <tr>\n",
              "      <th>2</th>\n",
              "      <td>M</td>\n",
              "      <td>0.460</td>\n",
              "      <td>0.345</td>\n",
              "      <td>0.110</td>\n",
              "      <td>0.4595</td>\n",
              "      <td>0.2350</td>\n",
              "      <td>0.0885</td>\n",
              "      <td>0.1160</td>\n",
              "      <td>7</td>\n",
              "    </tr>\n",
              "    <tr>\n",
              "      <th>3</th>\n",
              "      <td>F</td>\n",
              "      <td>0.650</td>\n",
              "      <td>0.475</td>\n",
              "      <td>0.165</td>\n",
              "      <td>1.3875</td>\n",
              "      <td>0.5800</td>\n",
              "      <td>0.3485</td>\n",
              "      <td>0.3095</td>\n",
              "      <td>9</td>\n",
              "    </tr>\n",
              "    <tr>\n",
              "      <th>4</th>\n",
              "      <td>M</td>\n",
              "      <td>0.575</td>\n",
              "      <td>0.470</td>\n",
              "      <td>0.140</td>\n",
              "      <td>0.8375</td>\n",
              "      <td>0.3485</td>\n",
              "      <td>0.1735</td>\n",
              "      <td>0.2400</td>\n",
              "      <td>11</td>\n",
              "    </tr>\n",
              "  </tbody>\n",
              "</table>\n",
              "</div>\n",
              "    <div class=\"colab-df-buttons\">\n",
              "\n",
              "  <div class=\"colab-df-container\">\n",
              "    <button class=\"colab-df-convert\" onclick=\"convertToInteractive('df-13668bdc-3a67-4c91-9386-a222a0d5497e')\"\n",
              "            title=\"Convert this dataframe to an interactive table.\"\n",
              "            style=\"display:none;\">\n",
              "\n",
              "  <svg xmlns=\"http://www.w3.org/2000/svg\" height=\"24px\" viewBox=\"0 -960 960 960\">\n",
              "    <path d=\"M120-120v-720h720v720H120Zm60-500h600v-160H180v160Zm220 220h160v-160H400v160Zm0 220h160v-160H400v160ZM180-400h160v-160H180v160Zm440 0h160v-160H620v160ZM180-180h160v-160H180v160Zm440 0h160v-160H620v160Z\"/>\n",
              "  </svg>\n",
              "    </button>\n",
              "\n",
              "  <style>\n",
              "    .colab-df-container {\n",
              "      display:flex;\n",
              "      gap: 12px;\n",
              "    }\n",
              "\n",
              "    .colab-df-convert {\n",
              "      background-color: #E8F0FE;\n",
              "      border: none;\n",
              "      border-radius: 50%;\n",
              "      cursor: pointer;\n",
              "      display: none;\n",
              "      fill: #1967D2;\n",
              "      height: 32px;\n",
              "      padding: 0 0 0 0;\n",
              "      width: 32px;\n",
              "    }\n",
              "\n",
              "    .colab-df-convert:hover {\n",
              "      background-color: #E2EBFA;\n",
              "      box-shadow: 0px 1px 2px rgba(60, 64, 67, 0.3), 0px 1px 3px 1px rgba(60, 64, 67, 0.15);\n",
              "      fill: #174EA6;\n",
              "    }\n",
              "\n",
              "    .colab-df-buttons div {\n",
              "      margin-bottom: 4px;\n",
              "    }\n",
              "\n",
              "    [theme=dark] .colab-df-convert {\n",
              "      background-color: #3B4455;\n",
              "      fill: #D2E3FC;\n",
              "    }\n",
              "\n",
              "    [theme=dark] .colab-df-convert:hover {\n",
              "      background-color: #434B5C;\n",
              "      box-shadow: 0px 1px 3px 1px rgba(0, 0, 0, 0.15);\n",
              "      filter: drop-shadow(0px 1px 2px rgba(0, 0, 0, 0.3));\n",
              "      fill: #FFFFFF;\n",
              "    }\n",
              "  </style>\n",
              "\n",
              "    <script>\n",
              "      const buttonEl =\n",
              "        document.querySelector('#df-13668bdc-3a67-4c91-9386-a222a0d5497e button.colab-df-convert');\n",
              "      buttonEl.style.display =\n",
              "        google.colab.kernel.accessAllowed ? 'block' : 'none';\n",
              "\n",
              "      async function convertToInteractive(key) {\n",
              "        const element = document.querySelector('#df-13668bdc-3a67-4c91-9386-a222a0d5497e');\n",
              "        const dataTable =\n",
              "          await google.colab.kernel.invokeFunction('convertToInteractive',\n",
              "                                                    [key], {});\n",
              "        if (!dataTable) return;\n",
              "\n",
              "        const docLinkHtml = 'Like what you see? Visit the ' +\n",
              "          '<a target=\"_blank\" href=https://colab.research.google.com/notebooks/data_table.ipynb>data table notebook</a>'\n",
              "          + ' to learn more about interactive tables.';\n",
              "        element.innerHTML = '';\n",
              "        dataTable['output_type'] = 'display_data';\n",
              "        await google.colab.output.renderOutput(dataTable, element);\n",
              "        const docLink = document.createElement('div');\n",
              "        docLink.innerHTML = docLinkHtml;\n",
              "        element.appendChild(docLink);\n",
              "      }\n",
              "    </script>\n",
              "  </div>\n",
              "\n",
              "\n",
              "<div id=\"df-27bfa68d-ccdd-481b-b9ea-b39abee121e1\">\n",
              "  <button class=\"colab-df-quickchart\" onclick=\"quickchart('df-27bfa68d-ccdd-481b-b9ea-b39abee121e1')\"\n",
              "            title=\"Suggest charts\"\n",
              "            style=\"display:none;\">\n",
              "\n",
              "<svg xmlns=\"http://www.w3.org/2000/svg\" height=\"24px\"viewBox=\"0 0 24 24\"\n",
              "     width=\"24px\">\n",
              "    <g>\n",
              "        <path d=\"M19 3H5c-1.1 0-2 .9-2 2v14c0 1.1.9 2 2 2h14c1.1 0 2-.9 2-2V5c0-1.1-.9-2-2-2zM9 17H7v-7h2v7zm4 0h-2V7h2v10zm4 0h-2v-4h2v4z\"/>\n",
              "    </g>\n",
              "</svg>\n",
              "  </button>\n",
              "\n",
              "<style>\n",
              "  .colab-df-quickchart {\n",
              "      --bg-color: #E8F0FE;\n",
              "      --fill-color: #1967D2;\n",
              "      --hover-bg-color: #E2EBFA;\n",
              "      --hover-fill-color: #174EA6;\n",
              "      --disabled-fill-color: #AAA;\n",
              "      --disabled-bg-color: #DDD;\n",
              "  }\n",
              "\n",
              "  [theme=dark] .colab-df-quickchart {\n",
              "      --bg-color: #3B4455;\n",
              "      --fill-color: #D2E3FC;\n",
              "      --hover-bg-color: #434B5C;\n",
              "      --hover-fill-color: #FFFFFF;\n",
              "      --disabled-bg-color: #3B4455;\n",
              "      --disabled-fill-color: #666;\n",
              "  }\n",
              "\n",
              "  .colab-df-quickchart {\n",
              "    background-color: var(--bg-color);\n",
              "    border: none;\n",
              "    border-radius: 50%;\n",
              "    cursor: pointer;\n",
              "    display: none;\n",
              "    fill: var(--fill-color);\n",
              "    height: 32px;\n",
              "    padding: 0;\n",
              "    width: 32px;\n",
              "  }\n",
              "\n",
              "  .colab-df-quickchart:hover {\n",
              "    background-color: var(--hover-bg-color);\n",
              "    box-shadow: 0 1px 2px rgba(60, 64, 67, 0.3), 0 1px 3px 1px rgba(60, 64, 67, 0.15);\n",
              "    fill: var(--button-hover-fill-color);\n",
              "  }\n",
              "\n",
              "  .colab-df-quickchart-complete:disabled,\n",
              "  .colab-df-quickchart-complete:disabled:hover {\n",
              "    background-color: var(--disabled-bg-color);\n",
              "    fill: var(--disabled-fill-color);\n",
              "    box-shadow: none;\n",
              "  }\n",
              "\n",
              "  .colab-df-spinner {\n",
              "    border: 2px solid var(--fill-color);\n",
              "    border-color: transparent;\n",
              "    border-bottom-color: var(--fill-color);\n",
              "    animation:\n",
              "      spin 1s steps(1) infinite;\n",
              "  }\n",
              "\n",
              "  @keyframes spin {\n",
              "    0% {\n",
              "      border-color: transparent;\n",
              "      border-bottom-color: var(--fill-color);\n",
              "      border-left-color: var(--fill-color);\n",
              "    }\n",
              "    20% {\n",
              "      border-color: transparent;\n",
              "      border-left-color: var(--fill-color);\n",
              "      border-top-color: var(--fill-color);\n",
              "    }\n",
              "    30% {\n",
              "      border-color: transparent;\n",
              "      border-left-color: var(--fill-color);\n",
              "      border-top-color: var(--fill-color);\n",
              "      border-right-color: var(--fill-color);\n",
              "    }\n",
              "    40% {\n",
              "      border-color: transparent;\n",
              "      border-right-color: var(--fill-color);\n",
              "      border-top-color: var(--fill-color);\n",
              "    }\n",
              "    60% {\n",
              "      border-color: transparent;\n",
              "      border-right-color: var(--fill-color);\n",
              "    }\n",
              "    80% {\n",
              "      border-color: transparent;\n",
              "      border-right-color: var(--fill-color);\n",
              "      border-bottom-color: var(--fill-color);\n",
              "    }\n",
              "    90% {\n",
              "      border-color: transparent;\n",
              "      border-bottom-color: var(--fill-color);\n",
              "    }\n",
              "  }\n",
              "</style>\n",
              "\n",
              "  <script>\n",
              "    async function quickchart(key) {\n",
              "      const quickchartButtonEl =\n",
              "        document.querySelector('#' + key + ' button');\n",
              "      quickchartButtonEl.disabled = true;  // To prevent multiple clicks.\n",
              "      quickchartButtonEl.classList.add('colab-df-spinner');\n",
              "      try {\n",
              "        const charts = await google.colab.kernel.invokeFunction(\n",
              "            'suggestCharts', [key], {});\n",
              "      } catch (error) {\n",
              "        console.error('Error during call to suggestCharts:', error);\n",
              "      }\n",
              "      quickchartButtonEl.classList.remove('colab-df-spinner');\n",
              "      quickchartButtonEl.classList.add('colab-df-quickchart-complete');\n",
              "    }\n",
              "    (() => {\n",
              "      let quickchartButtonEl =\n",
              "        document.querySelector('#df-27bfa68d-ccdd-481b-b9ea-b39abee121e1 button');\n",
              "      quickchartButtonEl.style.display =\n",
              "        google.colab.kernel.accessAllowed ? 'block' : 'none';\n",
              "    })();\n",
              "  </script>\n",
              "</div>\n",
              "    </div>\n",
              "  </div>\n"
            ]
          },
          "metadata": {},
          "execution_count": 411
        }
      ]
    },
    {
      "cell_type": "markdown",
      "source": [
        "#### Plot the percentage of the instances"
      ],
      "metadata": {
        "id": "vRRzVKIo39rm"
      }
    },
    {
      "cell_type": "code",
      "source": [
        "# Check the output class is balanced\n",
        "abalone_labels = data_abalone['Type']\n",
        "\n",
        "plt.figure(figsize=(10, 6))\n",
        "sns.countplot(x=abalone_labels)\n",
        "plt.title('Distribution of class label')\n",
        "plt.xlabel('Abalone')\n",
        "plt.ylabel('Frequency')\n",
        "\n",
        "# save as graphic\n",
        "plt.savefig('abalone-classes.png')\n"
      ],
      "metadata": {
        "colab": {
          "base_uri": "https://localhost:8080/",
          "height": 0
        },
        "id": "yq-_zOJu3-Sr",
        "outputId": "d1181eec-9866-4041-f65e-d898f8626d77"
      },
      "execution_count": 412,
      "outputs": [
        {
          "output_type": "display_data",
          "data": {
            "text/plain": [
              "<Figure size 1000x600 with 1 Axes>"
            ],
            "image/png": "[encoded data removed]"
          },
          "metadata": {}
        }
      ]
    },
    {
      "cell_type": "markdown",
      "source": [
        "#### Dataset split into training & test set"
      ],
      "metadata": {
        "id": "U83DY2IC3rvY"
      }
    },
    {
      "cell_type": "code",
      "source": [
        "# perform feature scaling\n",
        "from sklearn.preprocessing import StandardScaler\n",
        "scaled_features_abalone = StandardScaler().fit_transform(data_abalone.iloc[:, 1:].values)\n",
        "\n",
        "X = scaled_features_abalone\n",
        "y = data_abalone.iloc[:,0].values"
      ],
      "metadata": {
        "id": "ao8xlPj-zmD8"
      },
      "execution_count": 413,
      "outputs": []
    },
    {
      "cell_type": "code",
      "source": [
        "from sklearn.model_selection import train_test_split\n",
        "X_train, X_test, y_train, y_test = train_test_split(X, y, test_size = 0.3)"
      ],
      "metadata": {
        "id": "WJweG6uCzmFv"
      },
      "execution_count": 414,
      "outputs": []
    },
    {
      "cell_type": "markdown",
      "source": [
        "#### Train and test 4 different classifiers"
      ],
      "metadata": {
        "id": "xDSmVlbI9Hyl"
      }
    },
    {
      "cell_type": "markdown",
      "source": [
        "##### Classifier 1 - Base-DT"
      ],
      "metadata": {
        "id": "XyL9UsKq2tsv"
      }
    },
    {
      "cell_type": "code",
      "source": [
        "from sklearn.tree import DecisionTreeClassifier\n",
        "\n",
        "# Base Decision Tree\n",
        "classifier_1 = DecisionTreeClassifier(max_depth=3)\n",
        "classifier_1.fit(X_train, y_train)"
      ],
      "metadata": {
        "colab": {
          "base_uri": "https://localhost:8080/",
          "height": 75
        },
        "id": "C0cUxRm82tD7",
        "outputId": "f26bdc05-a7a6-41e8-e831-e302a16c9ab0"
      },
      "execution_count": 415,
      "outputs": [
        {
          "output_type": "execute_result",
          "data": {
            "text/plain": [
              "DecisionTreeClassifier(max_depth=3)"
            ],
            "text/html": [
              "<style>#sk-container-id-25 {color: black;background-color: white;}#sk-container-id-25 pre{padding: 0;}#sk-container-id-25 div.sk-toggleable {background-color: white;}#sk-container-id-25 label.sk-toggleable__label {cursor: pointer;display: block;width: 100%;margin-bottom: 0;padding: 0.3em;box-sizing: border-box;text-align: center;}#sk-container-id-25 label.sk-toggleable__label-arrow:before {content: \"▸\";float: left;margin-right: 0.25em;color: #696969;}#sk-container-id-25 label.sk-toggleable__label-arrow:hover:before {color: black;}#sk-container-id-25 div.sk-estimator:hover label.sk-toggleable__label-arrow:before {color: black;}#sk-container-id-25 div.sk-toggleable__content {max-height: 0;max-width: 0;overflow: hidden;text-align: left;background-color: #f0f8ff;}#sk-container-id-25 div.sk-toggleable__content pre {margin: 0.2em;color: black;border-radius: 0.25em;background-color: #f0f8ff;}#sk-container-id-25 input.sk-toggleable__control:checked~div.sk-toggleable__content {max-height: 200px;max-width: 100%;overflow: auto;}#sk-container-id-25 input.sk-toggleable__control:checked~label.sk-toggleable__label-arrow:before {content: \"▾\";}#sk-container-id-25 div.sk-estimator input.sk-toggleable__control:checked~label.sk-toggleable__label {background-color: #d4ebff;}#sk-container-id-25 div.sk-label input.sk-toggleable__control:checked~label.sk-toggleable__label {background-color: #d4ebff;}#sk-container-id-25 input.sk-hidden--visually {border: 0;clip: rect(1px 1px 1px 1px);clip: rect(1px, 1px, 1px, 1px);height: 1px;margin: -1px;overflow: hidden;padding: 0;position: absolute;width: 1px;}#sk-container-id-25 div.sk-estimator {font-family: monospace;background-color: #f0f8ff;border: 1px dotted black;border-radius: 0.25em;box-sizing: border-box;margin-bottom: 0.5em;}#sk-container-id-25 div.sk-estimator:hover {background-color: #d4ebff;}#sk-container-id-25 div.sk-parallel-item::after {content: \"\";width: 100%;border-bottom: 1px solid gray;flex-grow: 1;}#sk-container-id-25 div.sk-label:hover label.sk-toggleable__label {background-color: #d4ebff;}#sk-container-id-25 div.sk-serial::before {content: \"\";position: absolute;border-left: 1px solid gray;box-sizing: border-box;top: 0;bottom: 0;left: 50%;z-index: 0;}#sk-container-id-25 div.sk-serial {display: flex;flex-direction: column;align-items: center;background-color: white;padding-right: 0.2em;padding-left: 0.2em;position: relative;}#sk-container-id-25 div.sk-item {position: relative;z-index: 1;}#sk-container-id-25 div.sk-parallel {display: flex;align-items: stretch;justify-content: center;background-color: white;position: relative;}#sk-container-id-25 div.sk-item::before, #sk-container-id-25 div.sk-parallel-item::before {content: \"\";position: absolute;border-left: 1px solid gray;box-sizing: border-box;top: 0;bottom: 0;left: 50%;z-index: -1;}#sk-container-id-25 div.sk-parallel-item {display: flex;flex-direction: column;z-index: 1;position: relative;background-color: white;}#sk-container-id-25 div.sk-parallel-item:first-child::after {align-self: flex-end;width: 50%;}#sk-container-id-25 div.sk-parallel-item:last-child::after {align-self: flex-start;width: 50%;}#sk-container-id-25 div.sk-parallel-item:only-child::after {width: 0;}#sk-container-id-25 div.sk-dashed-wrapped {border: 1px dashed gray;margin: 0 0.4em 0.5em 0.4em;box-sizing: border-box;padding-bottom: 0.4em;background-color: white;}#sk-container-id-25 div.sk-label label {font-family: monospace;font-weight: bold;display: inline-block;line-height: 1.2em;}#sk-container-id-25 div.sk-label-container {text-align: center;}#sk-container-id-25 div.sk-container {/* jupyter's `normalize.less` sets `[hidden] { display: none; }` but bootstrap.min.css set `[hidden] { display: none !important; }` so we also need the `!important` here to be able to override the default hidden behavior on the sphinx rendered scikit-learn.org. See: https://github.com/scikit-learn/scikit-learn/issues/21755 */display: inline-block !important;position: relative;}#sk-container-id-25 div.sk-text-repr-fallback {display: none;}</style><div id=\"sk-container-id-25\" class=\"sk-top-container\"><div class=\"sk-text-repr-fallback\"><pre>DecisionTreeClassifier(max_depth=3)</pre><b>In a Jupyter environment, please rerun this cell to show the HTML representation or trust the notebook. <br />On GitHub, the HTML representation is unable to render, please try loading this page with nbviewer.org.</b></div><div class=\"sk-container\" hidden><div class=\"sk-item\"><div class=\"sk-estimator sk-toggleable\"><input class=\"sk-toggleable__control sk-hidden--visually\" id=\"sk-estimator-id-35\" type=\"checkbox\" checked><label for=\"sk-estimator-id-35\" class=\"sk-toggleable__label sk-toggleable__label-arrow\">DecisionTreeClassifier</label><div class=\"sk-toggleable__content\"><pre>DecisionTreeClassifier(max_depth=3)</pre></div></div></div></div></div>"
            ]
          },
          "metadata": {},
          "execution_count": 415
        }
      ]
    },
    {
      "cell_type": "code",
      "source": [
        "abalone_class = data_abalone.columns[0]\n",
        "abalone_features = list(data_abalone.columns[1:])"
      ],
      "metadata": {
        "id": "dGLPS-XQ29an"
      },
      "execution_count": 416,
      "outputs": []
    },
    {
      "cell_type": "code",
      "source": [
        "dot_data = tree.export_graphviz(classifier_1,\n",
        "                feature_names=abalone_features,\n",
        "                class_names=abalone_class,\n",
        "                filled=True, rounded=True,\n",
        "                special_characters=True)\n",
        "\n",
        "graph = graphviz.Source(dot_data)\n",
        "graph"
      ],
      "metadata": {
        "id": "8tgSldCH5xU1",
        "colab": {
          "base_uri": "https://localhost:8080/",
          "height": 618
        },
        "outputId": "b9261e37-e3d6-4e60-c624-78d04fc5c0b8"
      },
      "execution_count": 417,
      "outputs": [
        {
          "output_type": "execute_result",
          "data": {
            "image/svg+xml": "<?xml version=\"1.0\" encoding=\"UTF-8\" standalone=\"no\"?>\n<!DOCTYPE svg PUBLIC \"-//W3C//DTD SVG 1.1//EN\"\n \"http://www.w3.org/Graphics/SVG/1.1/DTD/svg11.dtd\">\n<!-- Generated by graphviz version 2.43.0 (0)\n -->\n<!-- Title: Tree Pages: 1 -->\n<svg width=\"1247pt\" height=\"433pt\"\n viewBox=\"0.00 0.00 1246.50 433.00\" xmlns=\"http://www.w3.org/2000/svg\" xmlns:xlink=\"http://www.w3.org/1999/xlink\">\n<g id=\"graph0\" class=\"graph\" transform=\"scale(1 1) rotate(0) translate(4 429)\">\n<title>Tree</title>\n<polygon fill=\"white\" stroke=\"transparent\" points=\"-4,4 -4,-429 1242.5,-429 1242.5,4 -4,4\"/>\n<!-- 0 -->\n<g id=\"node1\" class=\"node\">\n<title>0</title>\n<path fill=\"#f6f2fd\" stroke=\"black\" d=\"M692,-425C692,-425 554,-425 554,-425 548,-425 542,-419 542,-413 542,-413 542,-354 542,-354 542,-348 548,-342 554,-342 554,-342 692,-342 692,-342 698,-342 704,-348 704,-354 704,-354 704,-413 704,-413 704,-419 698,-425 692,-425\"/>\n<text text-anchor=\"start\" x=\"552.5\" y=\"-409.8\" font-family=\"Helvetica,sans-Serif\" font-size=\"14.00\">VisceraWeight ≤ &#45;0.332</text>\n<text text-anchor=\"start\" x=\"587.5\" y=\"-394.8\" font-family=\"Helvetica,sans-Serif\" font-size=\"14.00\">gini = 0.665</text>\n<text text-anchor=\"start\" x=\"574.5\" y=\"-379.8\" font-family=\"Helvetica,sans-Serif\" font-size=\"14.00\">samples = 2923</text>\n<text text-anchor=\"start\" x=\"550\" y=\"-364.8\" font-family=\"Helvetica,sans-Serif\" font-size=\"14.00\">value = [910, 939, 1074]</text>\n<text text-anchor=\"start\" x=\"595.5\" y=\"-349.8\" font-family=\"Helvetica,sans-Serif\" font-size=\"14.00\">class = p</text>\n</g>\n<!-- 1 -->\n<g id=\"node2\" class=\"node\">\n<title>1</title>\n<path fill=\"#94f1bb\" stroke=\"black\" d=\"M532.5,-306C532.5,-306 401.5,-306 401.5,-306 395.5,-306 389.5,-300 389.5,-294 389.5,-294 389.5,-235 389.5,-235 389.5,-229 395.5,-223 401.5,-223 401.5,-223 532.5,-223 532.5,-223 538.5,-223 544.5,-229 544.5,-235 544.5,-235 544.5,-294 544.5,-294 544.5,-300 538.5,-306 532.5,-306\"/>\n<text text-anchor=\"start\" x=\"423\" y=\"-290.8\" font-family=\"Helvetica,sans-Serif\" font-size=\"14.00\">Rings ≤ &#45;0.445</text>\n<text text-anchor=\"start\" x=\"431.5\" y=\"-275.8\" font-family=\"Helvetica,sans-Serif\" font-size=\"14.00\">gini = 0.528</text>\n<text text-anchor=\"start\" x=\"418.5\" y=\"-260.8\" font-family=\"Helvetica,sans-Serif\" font-size=\"14.00\">samples = 1223</text>\n<text text-anchor=\"start\" x=\"397.5\" y=\"-245.8\" font-family=\"Helvetica,sans-Serif\" font-size=\"14.00\">value = [191, 778, 254]</text>\n<text text-anchor=\"start\" x=\"440\" y=\"-230.8\" font-family=\"Helvetica,sans-Serif\" font-size=\"14.00\">class = y</text>\n</g>\n<!-- 0&#45;&gt;1 -->\n<g id=\"edge1\" class=\"edge\">\n<title>0&#45;&gt;1</title>\n<path fill=\"none\" stroke=\"black\" d=\"M568.88,-341.91C556.05,-332.29 542.27,-321.95 529.12,-312.09\"/>\n<polygon fill=\"black\" stroke=\"black\" points=\"531.13,-309.22 521.03,-306.02 526.93,-314.82 531.13,-309.22\"/>\n<text text-anchor=\"middle\" x=\"524.56\" y=\"-327.07\" font-family=\"Helvetica,sans-Serif\" font-size=\"14.00\">True</text>\n</g>\n<!-- 8 -->\n<g id=\"node9\" class=\"node\">\n<title>8</title>\n<path fill=\"#f2ebfc\" stroke=\"black\" d=\"M843.5,-306C843.5,-306 712.5,-306 712.5,-306 706.5,-306 700.5,-300 700.5,-294 700.5,-294 700.5,-235 700.5,-235 700.5,-229 706.5,-223 712.5,-223 712.5,-223 843.5,-223 843.5,-223 849.5,-223 855.5,-229 855.5,-235 855.5,-235 855.5,-294 855.5,-294 855.5,-300 849.5,-306 843.5,-306\"/>\n<text text-anchor=\"start\" x=\"713\" y=\"-290.8\" font-family=\"Helvetica,sans-Serif\" font-size=\"14.00\">WholeWeight ≤ 0.092</text>\n<text text-anchor=\"start\" x=\"742.5\" y=\"-275.8\" font-family=\"Helvetica,sans-Serif\" font-size=\"14.00\">gini = 0.579</text>\n<text text-anchor=\"start\" x=\"729.5\" y=\"-260.8\" font-family=\"Helvetica,sans-Serif\" font-size=\"14.00\">samples = 1700</text>\n<text text-anchor=\"start\" x=\"708.5\" y=\"-245.8\" font-family=\"Helvetica,sans-Serif\" font-size=\"14.00\">value = [719, 161, 820]</text>\n<text text-anchor=\"start\" x=\"750.5\" y=\"-230.8\" font-family=\"Helvetica,sans-Serif\" font-size=\"14.00\">class = p</text>\n</g>\n<!-- 0&#45;&gt;8 -->\n<g id=\"edge8\" class=\"edge\">\n<title>0&#45;&gt;8</title>\n<path fill=\"none\" stroke=\"black\" d=\"M676.78,-341.91C689.52,-332.29 703.21,-321.95 716.28,-312.09\"/>\n<polygon fill=\"black\" stroke=\"black\" points=\"718.45,-314.84 724.32,-306.02 714.23,-309.25 718.45,-314.84\"/>\n<text text-anchor=\"middle\" x=\"720.86\" y=\"-327.08\" font-family=\"Helvetica,sans-Serif\" font-size=\"14.00\">False</text>\n</g>\n<!-- 2 -->\n<g id=\"node3\" class=\"node\">\n<title>2</title>\n<path fill=\"#6beca1\" stroke=\"black\" d=\"M289.5,-187C289.5,-187 166.5,-187 166.5,-187 160.5,-187 154.5,-181 154.5,-175 154.5,-175 154.5,-116 154.5,-116 154.5,-110 160.5,-104 166.5,-104 166.5,-104 289.5,-104 289.5,-104 295.5,-104 301.5,-110 301.5,-116 301.5,-116 301.5,-175 301.5,-175 301.5,-181 295.5,-187 289.5,-187\"/>\n<text text-anchor=\"start\" x=\"165\" y=\"-171.8\" font-family=\"Helvetica,sans-Serif\" font-size=\"14.00\">ShellWeight ≤ &#45;0.793</text>\n<text text-anchor=\"start\" x=\"192.5\" y=\"-156.8\" font-family=\"Helvetica,sans-Serif\" font-size=\"14.00\">gini = 0.361</text>\n<text text-anchor=\"start\" x=\"183\" y=\"-141.8\" font-family=\"Helvetica,sans-Serif\" font-size=\"14.00\">samples = 798</text>\n<text text-anchor=\"start\" x=\"162.5\" y=\"-126.8\" font-family=\"Helvetica,sans-Serif\" font-size=\"14.00\">value = [60, 625, 113]</text>\n<text text-anchor=\"start\" x=\"201\" y=\"-111.8\" font-family=\"Helvetica,sans-Serif\" font-size=\"14.00\">class = y</text>\n</g>\n<!-- 1&#45;&gt;2 -->\n<g id=\"edge2\" class=\"edge\">\n<title>1&#45;&gt;2</title>\n<path fill=\"none\" stroke=\"black\" d=\"M389.4,-225.51C364.28,-213.21 336.32,-199.53 310.82,-187.05\"/>\n<polygon fill=\"black\" stroke=\"black\" points=\"312.07,-183.76 301.55,-182.51 308.99,-190.05 312.07,-183.76\"/>\n</g>\n<!-- 5 -->\n<g id=\"node6\" class=\"node\">\n<title>5</title>\n<path fill=\"#f7fefa\" stroke=\"black\" d=\"M532.5,-187C532.5,-187 401.5,-187 401.5,-187 395.5,-187 389.5,-181 389.5,-175 389.5,-175 389.5,-116 389.5,-116 389.5,-110 395.5,-104 401.5,-104 401.5,-104 532.5,-104 532.5,-104 538.5,-104 544.5,-110 544.5,-116 544.5,-116 544.5,-175 544.5,-175 544.5,-181 538.5,-187 532.5,-187\"/>\n<text text-anchor=\"start\" x=\"401\" y=\"-171.8\" font-family=\"Helvetica,sans-Serif\" font-size=\"14.00\">LongestShell ≤ &#45;0.096</text>\n<text text-anchor=\"start\" x=\"431.5\" y=\"-156.8\" font-family=\"Helvetica,sans-Serif\" font-size=\"14.00\">gini = 0.665</text>\n<text text-anchor=\"start\" x=\"422\" y=\"-141.8\" font-family=\"Helvetica,sans-Serif\" font-size=\"14.00\">samples = 425</text>\n<text text-anchor=\"start\" x=\"397.5\" y=\"-126.8\" font-family=\"Helvetica,sans-Serif\" font-size=\"14.00\">value = [131, 153, 141]</text>\n<text text-anchor=\"start\" x=\"440\" y=\"-111.8\" font-family=\"Helvetica,sans-Serif\" font-size=\"14.00\">class = y</text>\n</g>\n<!-- 1&#45;&gt;5 -->\n<g id=\"edge5\" class=\"edge\">\n<title>1&#45;&gt;5</title>\n<path fill=\"none\" stroke=\"black\" d=\"M467,-222.91C467,-214.65 467,-205.86 467,-197.3\"/>\n<polygon fill=\"black\" stroke=\"black\" points=\"470.5,-197.02 467,-187.02 463.5,-197.02 470.5,-197.02\"/>\n</g>\n<!-- 3 -->\n<g id=\"node4\" class=\"node\">\n<title>3</title>\n<path fill=\"#5cea97\" stroke=\"black\" d=\"M128,-68C128,-68 12,-68 12,-68 6,-68 0,-62 0,-56 0,-56 0,-12 0,-12 0,-6 6,0 12,0 12,0 128,0 128,0 134,0 140,-6 140,-12 140,-12 140,-56 140,-56 140,-62 134,-68 128,-68\"/>\n<text text-anchor=\"start\" x=\"34.5\" y=\"-52.8\" font-family=\"Helvetica,sans-Serif\" font-size=\"14.00\">gini = 0.271</text>\n<text text-anchor=\"start\" x=\"25\" y=\"-37.8\" font-family=\"Helvetica,sans-Serif\" font-size=\"14.00\">samples = 588</text>\n<text text-anchor=\"start\" x=\"8\" y=\"-22.8\" font-family=\"Helvetica,sans-Serif\" font-size=\"14.00\">value = [25, 497, 66]</text>\n<text text-anchor=\"start\" x=\"43\" y=\"-7.8\" font-family=\"Helvetica,sans-Serif\" font-size=\"14.00\">class = y</text>\n</g>\n<!-- 2&#45;&gt;3 -->\n<g id=\"edge3\" class=\"edge\">\n<title>2&#45;&gt;3</title>\n<path fill=\"none\" stroke=\"black\" d=\"M169.17,-103.73C155.14,-94.01 140.21,-83.66 126.31,-74.02\"/>\n<polygon fill=\"black\" stroke=\"black\" points=\"128.01,-70.94 117.8,-68.13 124.02,-76.7 128.01,-70.94\"/>\n</g>\n<!-- 4 -->\n<g id=\"node5\" class=\"node\">\n<title>4</title>\n<path fill=\"#9df2c0\" stroke=\"black\" d=\"M286,-68C286,-68 170,-68 170,-68 164,-68 158,-62 158,-56 158,-56 158,-12 158,-12 158,-6 164,0 170,0 170,0 286,0 286,0 292,0 298,-6 298,-12 298,-12 298,-56 298,-56 298,-62 292,-68 286,-68\"/>\n<text text-anchor=\"start\" x=\"192.5\" y=\"-52.8\" font-family=\"Helvetica,sans-Serif\" font-size=\"14.00\">gini = 0.551</text>\n<text text-anchor=\"start\" x=\"183\" y=\"-37.8\" font-family=\"Helvetica,sans-Serif\" font-size=\"14.00\">samples = 210</text>\n<text text-anchor=\"start\" x=\"166\" y=\"-22.8\" font-family=\"Helvetica,sans-Serif\" font-size=\"14.00\">value = [35, 128, 47]</text>\n<text text-anchor=\"start\" x=\"201\" y=\"-7.8\" font-family=\"Helvetica,sans-Serif\" font-size=\"14.00\">class = y</text>\n</g>\n<!-- 2&#45;&gt;4 -->\n<g id=\"edge4\" class=\"edge\">\n<title>2&#45;&gt;4</title>\n<path fill=\"none\" stroke=\"black\" d=\"M228,-103.73C228,-95.52 228,-86.86 228,-78.56\"/>\n<polygon fill=\"black\" stroke=\"black\" points=\"231.5,-78.3 228,-68.3 224.5,-78.3 231.5,-78.3\"/>\n</g>\n<!-- 6 -->\n<g id=\"node7\" class=\"node\">\n<title>6</title>\n<path fill=\"#faf6fe\" stroke=\"black\" d=\"M459.5,-68C459.5,-68 328.5,-68 328.5,-68 322.5,-68 316.5,-62 316.5,-56 316.5,-56 316.5,-12 316.5,-12 316.5,-6 322.5,0 328.5,0 328.5,0 459.5,0 459.5,0 465.5,0 471.5,-6 471.5,-12 471.5,-12 471.5,-56 471.5,-56 471.5,-62 465.5,-68 459.5,-68\"/>\n<text text-anchor=\"start\" x=\"358.5\" y=\"-52.8\" font-family=\"Helvetica,sans-Serif\" font-size=\"14.00\">gini = 0.665</text>\n<text text-anchor=\"start\" x=\"349\" y=\"-37.8\" font-family=\"Helvetica,sans-Serif\" font-size=\"14.00\">samples = 346</text>\n<text text-anchor=\"start\" x=\"324.5\" y=\"-22.8\" font-family=\"Helvetica,sans-Serif\" font-size=\"14.00\">value = [116, 104, 126]</text>\n<text text-anchor=\"start\" x=\"366.5\" y=\"-7.8\" font-family=\"Helvetica,sans-Serif\" font-size=\"14.00\">class = p</text>\n</g>\n<!-- 5&#45;&gt;6 -->\n<g id=\"edge6\" class=\"edge\">\n<title>5&#45;&gt;6</title>\n<path fill=\"none\" stroke=\"black\" d=\"M439.82,-103.73C433.92,-94.88 427.67,-85.51 421.75,-76.63\"/>\n<polygon fill=\"black\" stroke=\"black\" points=\"424.66,-74.68 416.2,-68.3 418.83,-78.56 424.66,-74.68\"/>\n</g>\n<!-- 7 -->\n<g id=\"node8\" class=\"node\">\n<title>7</title>\n<path fill=\"#96f1bc\" stroke=\"black\" d=\"M610,-68C610,-68 502,-68 502,-68 496,-68 490,-62 490,-56 490,-56 490,-12 490,-12 490,-6 496,0 502,0 502,0 610,0 610,0 616,0 622,-6 622,-12 622,-12 622,-56 622,-56 622,-62 616,-68 610,-68\"/>\n<text text-anchor=\"start\" x=\"520.5\" y=\"-52.8\" font-family=\"Helvetica,sans-Serif\" font-size=\"14.00\">gini = 0.543</text>\n<text text-anchor=\"start\" x=\"515\" y=\"-37.8\" font-family=\"Helvetica,sans-Serif\" font-size=\"14.00\">samples = 79</text>\n<text text-anchor=\"start\" x=\"498\" y=\"-22.8\" font-family=\"Helvetica,sans-Serif\" font-size=\"14.00\">value = [15, 49, 15]</text>\n<text text-anchor=\"start\" x=\"529\" y=\"-7.8\" font-family=\"Helvetica,sans-Serif\" font-size=\"14.00\">class = y</text>\n</g>\n<!-- 5&#45;&gt;7 -->\n<g id=\"edge7\" class=\"edge\">\n<title>5&#45;&gt;7</title>\n<path fill=\"none\" stroke=\"black\" d=\"M500.14,-103.73C507.48,-94.7 515.26,-85.12 522.61,-76.08\"/>\n<polygon fill=\"black\" stroke=\"black\" points=\"525.34,-78.27 528.93,-68.3 519.91,-73.85 525.34,-78.27\"/>\n</g>\n<!-- 9 -->\n<g id=\"node10\" class=\"node\">\n<title>9</title>\n<path fill=\"#f3ecfd\" stroke=\"black\" d=\"M843.5,-187C843.5,-187 712.5,-187 712.5,-187 706.5,-187 700.5,-181 700.5,-175 700.5,-175 700.5,-116 700.5,-116 700.5,-110 706.5,-104 712.5,-104 712.5,-104 843.5,-104 843.5,-104 849.5,-104 855.5,-110 855.5,-116 855.5,-116 855.5,-175 855.5,-175 855.5,-181 849.5,-187 843.5,-187\"/>\n<text text-anchor=\"start\" x=\"736\" y=\"-171.8\" font-family=\"Helvetica,sans-Serif\" font-size=\"14.00\">Rings ≤ 0.486</text>\n<text text-anchor=\"start\" x=\"742.5\" y=\"-156.8\" font-family=\"Helvetica,sans-Serif\" font-size=\"14.00\">gini = 0.653</text>\n<text text-anchor=\"start\" x=\"733\" y=\"-141.8\" font-family=\"Helvetica,sans-Serif\" font-size=\"14.00\">samples = 418</text>\n<text text-anchor=\"start\" x=\"708.5\" y=\"-126.8\" font-family=\"Helvetica,sans-Serif\" font-size=\"14.00\">value = [145, 102, 171]</text>\n<text text-anchor=\"start\" x=\"750.5\" y=\"-111.8\" font-family=\"Helvetica,sans-Serif\" font-size=\"14.00\">class = p</text>\n</g>\n<!-- 8&#45;&gt;9 -->\n<g id=\"edge9\" class=\"edge\">\n<title>8&#45;&gt;9</title>\n<path fill=\"none\" stroke=\"black\" d=\"M778,-222.91C778,-214.65 778,-205.86 778,-197.3\"/>\n<polygon fill=\"black\" stroke=\"black\" points=\"781.5,-197.02 778,-187.02 774.5,-197.02 781.5,-197.02\"/>\n</g>\n<!-- 12 -->\n<g id=\"node13\" class=\"node\">\n<title>12</title>\n<path fill=\"#f2eafc\" stroke=\"black\" d=\"M1090,-187C1090,-187 954,-187 954,-187 948,-187 942,-181 942,-175 942,-175 942,-116 942,-116 942,-110 948,-104 954,-104 954,-104 1090,-104 1090,-104 1096,-104 1102,-110 1102,-116 1102,-116 1102,-175 1102,-175 1102,-181 1096,-187 1090,-187\"/>\n<text text-anchor=\"start\" x=\"950\" y=\"-171.8\" font-family=\"Helvetica,sans-Serif\" font-size=\"14.00\">ShuckedWeight ≤ 2.502</text>\n<text text-anchor=\"start\" x=\"986.5\" y=\"-156.8\" font-family=\"Helvetica,sans-Serif\" font-size=\"14.00\">gini = 0.541</text>\n<text text-anchor=\"start\" x=\"973.5\" y=\"-141.8\" font-family=\"Helvetica,sans-Serif\" font-size=\"14.00\">samples = 1282</text>\n<text text-anchor=\"start\" x=\"956.5\" y=\"-126.8\" font-family=\"Helvetica,sans-Serif\" font-size=\"14.00\">value = [574, 59, 649]</text>\n<text text-anchor=\"start\" x=\"994.5\" y=\"-111.8\" font-family=\"Helvetica,sans-Serif\" font-size=\"14.00\">class = p</text>\n</g>\n<!-- 8&#45;&gt;12 -->\n<g id=\"edge12\" class=\"edge\">\n<title>8&#45;&gt;12</title>\n<path fill=\"none\" stroke=\"black\" d=\"M855.54,-226.32C880.02,-214.58 907.27,-201.51 932.52,-189.41\"/>\n<polygon fill=\"black\" stroke=\"black\" points=\"934.22,-192.47 941.72,-184.99 931.19,-186.16 934.22,-192.47\"/>\n</g>\n<!-- 10 -->\n<g id=\"node11\" class=\"node\">\n<title>10</title>\n<path fill=\"#f1e8fc\" stroke=\"black\" d=\"M768,-68C768,-68 652,-68 652,-68 646,-68 640,-62 640,-56 640,-56 640,-12 640,-12 640,-6 646,0 652,0 652,0 768,0 768,0 774,0 780,-6 780,-12 780,-12 780,-56 780,-56 780,-62 774,-68 768,-68\"/>\n<text text-anchor=\"start\" x=\"674.5\" y=\"-52.8\" font-family=\"Helvetica,sans-Serif\" font-size=\"14.00\">gini = 0.661</text>\n<text text-anchor=\"start\" x=\"665\" y=\"-37.8\" font-family=\"Helvetica,sans-Serif\" font-size=\"14.00\">samples = 306</text>\n<text text-anchor=\"start\" x=\"648\" y=\"-22.8\" font-family=\"Helvetica,sans-Serif\" font-size=\"14.00\">value = [96, 90, 120]</text>\n<text text-anchor=\"start\" x=\"682.5\" y=\"-7.8\" font-family=\"Helvetica,sans-Serif\" font-size=\"14.00\">class = p</text>\n</g>\n<!-- 9&#45;&gt;10 -->\n<g id=\"edge10\" class=\"edge\">\n<title>9&#45;&gt;10</title>\n<path fill=\"none\" stroke=\"black\" d=\"M752.68,-103.73C747.24,-94.97 741.49,-85.7 736.02,-76.91\"/>\n<polygon fill=\"black\" stroke=\"black\" points=\"738.93,-74.95 730.68,-68.3 732.98,-78.64 738.93,-74.95\"/>\n</g>\n<!-- 11 -->\n<g id=\"node12\" class=\"node\">\n<title>11</title>\n<path fill=\"#fbf9fe\" stroke=\"black\" d=\"M918,-68C918,-68 810,-68 810,-68 804,-68 798,-62 798,-56 798,-56 798,-12 798,-12 798,-6 804,0 810,0 810,0 918,0 918,0 924,0 930,-6 930,-12 930,-12 930,-56 930,-56 930,-62 924,-68 918,-68\"/>\n<text text-anchor=\"start\" x=\"832\" y=\"-52.8\" font-family=\"Helvetica,sans-Serif\" font-size=\"14.00\">gini = 0.59</text>\n<text text-anchor=\"start\" x=\"819\" y=\"-37.8\" font-family=\"Helvetica,sans-Serif\" font-size=\"14.00\">samples = 112</text>\n<text text-anchor=\"start\" x=\"806\" y=\"-22.8\" font-family=\"Helvetica,sans-Serif\" font-size=\"14.00\">value = [49, 12, 51]</text>\n<text text-anchor=\"start\" x=\"836.5\" y=\"-7.8\" font-family=\"Helvetica,sans-Serif\" font-size=\"14.00\">class = p</text>\n</g>\n<!-- 9&#45;&gt;11 -->\n<g id=\"edge11\" class=\"edge\">\n<title>9&#45;&gt;11</title>\n<path fill=\"none\" stroke=\"black\" d=\"M810.02,-103.73C817.04,-94.79 824.48,-85.32 831.52,-76.36\"/>\n<polygon fill=\"black\" stroke=\"black\" points=\"834.42,-78.33 837.85,-68.3 828.92,-74 834.42,-78.33\"/>\n</g>\n<!-- 13 -->\n<g id=\"node14\" class=\"node\">\n<title>13</title>\n<path fill=\"#f7f2fd\" stroke=\"black\" d=\"M1083.5,-68C1083.5,-68 960.5,-68 960.5,-68 954.5,-68 948.5,-62 948.5,-56 948.5,-56 948.5,-12 948.5,-12 948.5,-6 954.5,0 960.5,0 960.5,0 1083.5,0 1083.5,0 1089.5,0 1095.5,-6 1095.5,-12 1095.5,-12 1095.5,-56 1095.5,-56 1095.5,-62 1089.5,-68 1083.5,-68\"/>\n<text text-anchor=\"start\" x=\"986.5\" y=\"-52.8\" font-family=\"Helvetica,sans-Serif\" font-size=\"14.00\">gini = 0.544</text>\n<text text-anchor=\"start\" x=\"973.5\" y=\"-37.8\" font-family=\"Helvetica,sans-Serif\" font-size=\"14.00\">samples = 1229</text>\n<text text-anchor=\"start\" x=\"956.5\" y=\"-22.8\" font-family=\"Helvetica,sans-Serif\" font-size=\"14.00\">value = [563, 59, 607]</text>\n<text text-anchor=\"start\" x=\"994.5\" y=\"-7.8\" font-family=\"Helvetica,sans-Serif\" font-size=\"14.00\">class = p</text>\n</g>\n<!-- 12&#45;&gt;13 -->\n<g id=\"edge13\" class=\"edge\">\n<title>12&#45;&gt;13</title>\n<path fill=\"none\" stroke=\"black\" d=\"M1022,-103.73C1022,-95.52 1022,-86.86 1022,-78.56\"/>\n<polygon fill=\"black\" stroke=\"black\" points=\"1025.5,-78.3 1022,-68.3 1018.5,-78.3 1025.5,-78.3\"/>\n</g>\n<!-- 14 -->\n<g id=\"node15\" class=\"node\">\n<title>14</title>\n<path fill=\"#a26dec\" stroke=\"black\" d=\"M1226.5,-68C1226.5,-68 1125.5,-68 1125.5,-68 1119.5,-68 1113.5,-62 1113.5,-56 1113.5,-56 1113.5,-12 1113.5,-12 1113.5,-6 1119.5,0 1125.5,0 1125.5,0 1226.5,0 1226.5,0 1232.5,0 1238.5,-6 1238.5,-12 1238.5,-12 1238.5,-56 1238.5,-56 1238.5,-62 1232.5,-68 1226.5,-68\"/>\n<text text-anchor=\"start\" x=\"1140.5\" y=\"-52.8\" font-family=\"Helvetica,sans-Serif\" font-size=\"14.00\">gini = 0.329</text>\n<text text-anchor=\"start\" x=\"1135\" y=\"-37.8\" font-family=\"Helvetica,sans-Serif\" font-size=\"14.00\">samples = 53</text>\n<text text-anchor=\"start\" x=\"1121.5\" y=\"-22.8\" font-family=\"Helvetica,sans-Serif\" font-size=\"14.00\">value = [11, 0, 42]</text>\n<text text-anchor=\"start\" x=\"1148.5\" y=\"-7.8\" font-family=\"Helvetica,sans-Serif\" font-size=\"14.00\">class = p</text>\n</g>\n<!-- 12&#45;&gt;14 -->\n<g id=\"edge14\" class=\"edge\">\n<title>12&#45;&gt;14</title>\n<path fill=\"none\" stroke=\"black\" d=\"M1079.34,-103.73C1092.94,-94.06 1107.41,-83.77 1120.91,-74.17\"/>\n<polygon fill=\"black\" stroke=\"black\" points=\"1123.05,-76.95 1129.17,-68.3 1118.99,-71.24 1123.05,-76.95\"/>\n</g>\n</g>\n</svg>\n",
            "text/plain": [
              "<graphviz.sources.Source at 0x7f0faf1bfac0>"
            ]
          },
          "metadata": {},
          "execution_count": 417
        }
      ]
    },
    {
      "cell_type": "code",
      "source": [
        "# print to the output file\n",
        "print('**************************************************************', file = outputFile)\n",
        "print('(A) Classifier 1 - Base DT', file = outputFile)\n",
        "print(classifier_1, file = outputFile)\n",
        "print('\\n', file = outputFile)"
      ],
      "metadata": {
        "id": "sqRs0lp67Hmo"
      },
      "execution_count": 418,
      "outputs": []
    },
    {
      "cell_type": "code",
      "source": [
        "# print classification report\n",
        "y_pred = classifier_1.predict(X_test)\n",
        "confusion_mat= confusion_matrix(y_test, y_pred)\n",
        "\n",
        "print(classification_report(y_test, y_pred, target_names=['F', 'M', 'I']))\n",
        "print(\"confusion matrix\\n\",confusion_mat)\n",
        "\n",
        "# print the result to the output file\n",
        "confusion_matrix_result =np.array2string(confusion_mat)\n",
        "print(\"(B) Confusion Matrix\", file = outputFile)\n",
        "print(confusion_matrix_result, file = outputFile)\n",
        "print('\\n', file = outputFile)\n",
        "print('(C,D) Classification Report', file = outputFile)\n",
        "print(classification_report(y_test, y_pred, target_names = ['F', 'M', 'I']), file = outputFile)\n",
        "outputFile.flush()"
      ],
      "metadata": {
        "colab": {
          "base_uri": "https://localhost:8080/"
        },
        "id": "mDbdxqro7Hp4",
        "outputId": "35b4979c-4131-4156-ed1b-42849254e380"
      },
      "execution_count": 419,
      "outputs": [
        {
          "output_type": "stream",
          "name": "stdout",
          "text": [
            "              precision    recall  f1-score   support\n",
            "\n",
            "           F       0.00      0.00      0.00       397\n",
            "           M       0.73      0.66      0.70       403\n",
            "           I       0.44      0.86      0.58       454\n",
            "\n",
            "    accuracy                           0.52      1254\n",
            "   macro avg       0.39      0.51      0.43      1254\n",
            "weighted avg       0.39      0.52      0.43      1254\n",
            "\n",
            "confusion matrix\n",
            " [[  0  35 362]\n",
            " [  0 267 136]\n",
            " [  0  63 391]]\n"
          ]
        }
      ]
    },
    {
      "cell_type": "code",
      "source": [
        "# repeat training & prediction 5 times for classifier 1\n",
        "from sklearn.metrics import accuracy_score, f1_score\n",
        "\n",
        "accuracy_baseDT = np.zeros(5)\n",
        "macro_avg_baseDT = np.zeros(5)\n",
        "weighted_avg_baseDT = np.zeros(5)\n",
        "\n",
        "for i in range(5):\n",
        "  X_train, X_test, y_train, y_test = train_test_split(X, y, test_size = 0.3)\n",
        "  classifier_1.fit(X_train, y_train)\n",
        "  y_pred = classifier_1.predict(X_test)\n",
        "\n",
        "  # find the accuracy for each iteration and store the value\n",
        "  accuracy_baseDT[i] = accuracy_score(y_test, y_pred)\n",
        "  macro_avg_baseDT[i] = f1_score(y_test, y_pred, average='macro')\n",
        "  weighted_avg_baseDT[i] = f1_score(y_test, y_pred, average='weighted')\n",
        "\n",
        "# compute the average accuracy & variances\n",
        "print(f'accuracy_baseDT: {accuracy_baseDT}')\n",
        "Avg_accuracy = (np.sum(accuracy_baseDT))/5\n",
        "accuracy_variance = np.var(accuracy_baseDT)\n",
        "print(f'average accuracy: {Avg_accuracy}, variance: {accuracy_variance}')\n",
        "\n",
        "# compute the average macro-average F1 & the variance\n",
        "print(f'macro_avg_baseDT: {macro_avg_baseDT}')\n",
        "Avg_macro_avg = (np.sum(macro_avg_baseDT))/5\n",
        "f1_macro_variance = np.var(macro_avg_baseDT)\n",
        "print(f'average macro-average F1: {Avg_macro_avg}, variance: {f1_macro_variance}')\n",
        "\n",
        "# compute the average weighted-average F1 & the variance\n",
        "print(f'weighted_avg_baseDT: {weighted_avg_baseDT}')\n",
        "Avg_weighted_avg = (np.sum(weighted_avg_baseDT))/5\n",
        "f1_weighted_variance = np.var(weighted_avg_baseDT)\n",
        "print(f'average weighted-average F1: {Avg_weighted_avg}, variance: {f1_weighted_variance}')"
      ],
      "metadata": {
        "id": "YukiqSwdC21P",
        "outputId": "0a65e4c2-41f1-4ba9-8724-9c55b48649e8",
        "colab": {
          "base_uri": "https://localhost:8080/"
        }
      },
      "execution_count": 420,
      "outputs": [
        {
          "output_type": "stream",
          "name": "stdout",
          "text": [
            "accuracy_baseDT: [0.53588517 0.54226475 0.51355662 0.51754386 0.53030303]\n",
            "average accuracy: 0.5279106858054227, variance: 0.00011777304650636247\n",
            "macro_avg_baseDT: [0.52187365 0.48649908 0.51006663 0.51191532 0.51532197]\n",
            "average macro-average F1: 0.5091353281220217, variance: 0.00014430691304288156\n",
            "weighted_avg_baseDT: [0.51815504 0.48739895 0.50221479 0.49791514 0.51182217]\n",
            "average weighted-average F1: 0.5035012193524029, variance: 0.00011522298861528705\n"
          ]
        }
      ]
    },
    {
      "cell_type": "code",
      "source": [
        "# print the performance result to outputfile\n",
        "print('\\n(E) The result after 5 times of train-test repetition:' ,file = outputFile)\n",
        "print(f'average accuracy: {Avg_accuracy}, variance: {accuracy_variance}', file = outputFile)\n",
        "print(f'average macro-average F1: {Avg_macro_avg}, variance: {f1_macro_variance}', file = outputFile)\n",
        "print(f'average weighted-average F1: {Avg_weighted_avg}, variance: {f1_weighted_variance}', file = outputFile)\n",
        "outputFile.flush()"
      ],
      "metadata": {
        "id": "6BXzFhCxZ8s1"
      },
      "execution_count": 421,
      "outputs": []
    },
    {
      "cell_type": "markdown",
      "source": [
        "##### Classifier 2 - Top-DT"
      ],
      "metadata": {
        "id": "ZbIYwUPH2zO6"
      }
    },
    {
      "cell_type": "code",
      "source": [
        "# Top Decision Tree - decision tree using gridsearch(hyperparameter search)\n",
        "from sklearn.model_selection import GridSearchCV\n",
        "\n",
        "parameters = {\n",
        "    'criterion': ['gini', 'entropy'],\n",
        "    'max_depth': [None, 3, 5],\n",
        "    'min_samples_split': [2, 5, 10]\n",
        "}\n",
        "\n",
        "classifier_2 = GridSearchCV(DecisionTreeClassifier(max_depth=3), parameters)\n",
        "classifier_2.fit(X_train, y_train)\n",
        "\n",
        "print(f'best parameters: {classifier_2.best_params_}')"
      ],
      "metadata": {
        "id": "msSsfbO7m2rW",
        "colab": {
          "base_uri": "https://localhost:8080/"
        },
        "outputId": "cf66f3c8-81ec-4c12-a39d-9495391683b2"
      },
      "execution_count": 422,
      "outputs": [
        {
          "output_type": "stream",
          "name": "stdout",
          "text": [
            "best parameters: {'criterion': 'entropy', 'max_depth': 5, 'min_samples_split': 2}\n"
          ]
        }
      ]
    },
    {
      "cell_type": "code",
      "source": [
        "abalone_class = data_abalone.columns[0]\n",
        "abalone_features = list(data_abalone.columns[1:])"
      ],
      "metadata": {
        "id": "6AYbwpuhBO2m"
      },
      "execution_count": 423,
      "outputs": []
    },
    {
      "cell_type": "code",
      "source": [
        "from sklearn.tree import export_graphviz\n",
        "from IPython.display import display\n",
        "\n",
        "dot_data = export_graphviz(classifier_2.best_estimator_,\n",
        "                          feature_names=abalone_features,\n",
        "                          class_names=abalone_class,\n",
        "                          filled=True, rounded=True,\n",
        "                          special_characters=True)\n",
        "\n",
        "graph = graphviz.Source(dot_data)\n",
        "display(graph)"
      ],
      "metadata": {
        "id": "fGFf6Sbj8BW-",
        "outputId": "b7a0b19d-6873-4dd0-ddc2-1e5d381d0cc4",
        "colab": {
          "base_uri": "https://localhost:8080/",
          "height": 936
        }
      },
      "execution_count": 424,
      "outputs": [
        {
          "output_type": "display_data",
          "data": {
            "image/svg+xml": "<?xml version=\"1.0\" encoding=\"UTF-8\" standalone=\"no\"?>\n<!DOCTYPE svg PUBLIC \"-//W3C//DTD SVG 1.1//EN\"\n \"http://www.w3.org/Graphics/SVG/1.1/DTD/svg11.dtd\">\n<!-- Generated by graphviz version 2.43.0 (0)\n -->\n<!-- Title: Tree Pages: 1 -->\n<svg width=\"3986pt\" height=\"671pt\"\n viewBox=\"0.00 0.00 3985.50 671.00\" xmlns=\"http://www.w3.org/2000/svg\" xmlns:xlink=\"http://www.w3.org/1999/xlink\">\n<g id=\"graph0\" class=\"graph\" transform=\"scale(1 1) rotate(0) translate(4 667)\">\n<title>Tree</title>\n<polygon fill=\"white\" stroke=\"transparent\" points=\"-4,4 -4,-667 3981.5,-667 3981.5,4 -4,4\"/>\n<!-- 0 -->\n<g id=\"node1\" class=\"node\">\n<title>0</title>\n<path fill=\"#f4eefd\" stroke=\"black\" d=\"M1909,-663C1909,-663 1771,-663 1771,-663 1765,-663 1759,-657 1759,-651 1759,-651 1759,-592 1759,-592 1759,-586 1765,-580 1771,-580 1771,-580 1909,-580 1909,-580 1915,-580 1921,-586 1921,-592 1921,-592 1921,-651 1921,-651 1921,-657 1915,-663 1909,-663\"/>\n<text text-anchor=\"start\" x=\"1772.5\" y=\"-647.8\" font-family=\"Helvetica,sans-Serif\" font-size=\"14.00\">WholeWeight ≤ &#45;0.252</text>\n<text text-anchor=\"start\" x=\"1796\" y=\"-632.8\" font-family=\"Helvetica,sans-Serif\" font-size=\"14.00\">entropy = 1.58</text>\n<text text-anchor=\"start\" x=\"1791.5\" y=\"-617.8\" font-family=\"Helvetica,sans-Serif\" font-size=\"14.00\">samples = 2923</text>\n<text text-anchor=\"start\" x=\"1767\" y=\"-602.8\" font-family=\"Helvetica,sans-Serif\" font-size=\"14.00\">value = [915, 919, 1089]</text>\n<text text-anchor=\"start\" x=\"1812.5\" y=\"-587.8\" font-family=\"Helvetica,sans-Serif\" font-size=\"14.00\">class = p</text>\n</g>\n<!-- 1 -->\n<g id=\"node2\" class=\"node\">\n<title>1</title>\n<path fill=\"#9df2c1\" stroke=\"black\" d=\"M1361.5,-544C1361.5,-544 1230.5,-544 1230.5,-544 1224.5,-544 1218.5,-538 1218.5,-532 1218.5,-532 1218.5,-473 1218.5,-473 1218.5,-467 1224.5,-461 1230.5,-461 1230.5,-461 1361.5,-461 1361.5,-461 1367.5,-461 1373.5,-467 1373.5,-473 1373.5,-473 1373.5,-532 1373.5,-532 1373.5,-538 1367.5,-544 1361.5,-544\"/>\n<text text-anchor=\"start\" x=\"1252\" y=\"-528.8\" font-family=\"Helvetica,sans-Serif\" font-size=\"14.00\">Rings ≤ &#45;0.135</text>\n<text text-anchor=\"start\" x=\"1248.5\" y=\"-513.8\" font-family=\"Helvetica,sans-Serif\" font-size=\"14.00\">entropy = 1.354</text>\n<text text-anchor=\"start\" x=\"1247.5\" y=\"-498.8\" font-family=\"Helvetica,sans-Serif\" font-size=\"14.00\">samples = 1268</text>\n<text text-anchor=\"start\" x=\"1226.5\" y=\"-483.8\" font-family=\"Helvetica,sans-Serif\" font-size=\"14.00\">value = [215, 770, 283]</text>\n<text text-anchor=\"start\" x=\"1269\" y=\"-468.8\" font-family=\"Helvetica,sans-Serif\" font-size=\"14.00\">class = y</text>\n</g>\n<!-- 0&#45;&gt;1 -->\n<g id=\"edge1\" class=\"edge\">\n<title>0&#45;&gt;1</title>\n<path fill=\"none\" stroke=\"black\" d=\"M1758.85,-603.05C1658.14,-581.39 1487.05,-544.59 1383.49,-522.32\"/>\n<polygon fill=\"black\" stroke=\"black\" points=\"1384.19,-518.89 1373.68,-520.21 1382.72,-525.73 1384.19,-518.89\"/>\n<text text-anchor=\"middle\" x=\"1387.24\" y=\"-537.51\" font-family=\"Helvetica,sans-Serif\" font-size=\"14.00\">True</text>\n</g>\n<!-- 28 -->\n<g id=\"node29\" class=\"node\">\n<title>28</title>\n<path fill=\"#f1e9fc\" stroke=\"black\" d=\"M2290.5,-544C2290.5,-544 2159.5,-544 2159.5,-544 2153.5,-544 2147.5,-538 2147.5,-532 2147.5,-532 2147.5,-473 2147.5,-473 2147.5,-467 2153.5,-461 2159.5,-461 2159.5,-461 2290.5,-461 2290.5,-461 2296.5,-461 2302.5,-467 2302.5,-473 2302.5,-473 2302.5,-532 2302.5,-532 2302.5,-538 2296.5,-544 2290.5,-544\"/>\n<text text-anchor=\"start\" x=\"2160\" y=\"-528.8\" font-family=\"Helvetica,sans-Serif\" font-size=\"14.00\">WholeWeight ≤ 0.298</text>\n<text text-anchor=\"start\" x=\"2177.5\" y=\"-513.8\" font-family=\"Helvetica,sans-Serif\" font-size=\"14.00\">entropy = 1.343</text>\n<text text-anchor=\"start\" x=\"2176.5\" y=\"-498.8\" font-family=\"Helvetica,sans-Serif\" font-size=\"14.00\">samples = 1655</text>\n<text text-anchor=\"start\" x=\"2155.5\" y=\"-483.8\" font-family=\"Helvetica,sans-Serif\" font-size=\"14.00\">value = [700, 149, 806]</text>\n<text text-anchor=\"start\" x=\"2197.5\" y=\"-468.8\" font-family=\"Helvetica,sans-Serif\" font-size=\"14.00\">class = p</text>\n</g>\n<!-- 0&#45;&gt;28 -->\n<g id=\"edge28\" class=\"edge\">\n<title>0&#45;&gt;28</title>\n<path fill=\"none\" stroke=\"black\" d=\"M1921.18,-595.83C1984.55,-576.57 2072.45,-549.86 2137.4,-530.12\"/>\n<polygon fill=\"black\" stroke=\"black\" points=\"2138.67,-533.39 2147.22,-527.14 2136.63,-526.7 2138.67,-533.39\"/>\n<text text-anchor=\"middle\" x=\"2135.44\" y=\"-545.49\" font-family=\"Helvetica,sans-Serif\" font-size=\"14.00\">False</text>\n</g>\n<!-- 2 -->\n<g id=\"node3\" class=\"node\">\n<title>2</title>\n<path fill=\"#7deeac\" stroke=\"black\" d=\"M908.5,-425C908.5,-425 775.5,-425 775.5,-425 769.5,-425 763.5,-419 763.5,-413 763.5,-413 763.5,-354 763.5,-354 763.5,-348 769.5,-342 775.5,-342 775.5,-342 908.5,-342 908.5,-342 914.5,-342 920.5,-348 920.5,-354 920.5,-354 920.5,-413 920.5,-413 920.5,-419 914.5,-425 908.5,-425\"/>\n<text text-anchor=\"start\" x=\"771.5\" y=\"-409.8\" font-family=\"Helvetica,sans-Serif\" font-size=\"14.00\">VisceraWeight ≤ &#45;0.833</text>\n<text text-anchor=\"start\" x=\"794.5\" y=\"-394.8\" font-family=\"Helvetica,sans-Serif\" font-size=\"14.00\">entropy = 1.116</text>\n<text text-anchor=\"start\" x=\"797\" y=\"-379.8\" font-family=\"Helvetica,sans-Serif\" font-size=\"14.00\">samples = 966</text>\n<text text-anchor=\"start\" x=\"776.5\" y=\"-364.8\" font-family=\"Helvetica,sans-Serif\" font-size=\"14.00\">value = [95, 696, 175]</text>\n<text text-anchor=\"start\" x=\"815\" y=\"-349.8\" font-family=\"Helvetica,sans-Serif\" font-size=\"14.00\">class = y</text>\n</g>\n<!-- 1&#45;&gt;2 -->\n<g id=\"edge2\" class=\"edge\">\n<title>1&#45;&gt;2</title>\n<path fill=\"none\" stroke=\"black\" d=\"M1218.47,-481.52C1138.57,-460.93 1014.18,-428.87 930.48,-407.3\"/>\n<polygon fill=\"black\" stroke=\"black\" points=\"931.29,-403.9 920.73,-404.79 929.54,-410.67 931.29,-403.9\"/>\n</g>\n<!-- 17 -->\n<g id=\"node18\" class=\"node\">\n<title>17</title>\n<path fill=\"#fdf7f3\" stroke=\"black\" d=\"M1366,-425C1366,-425 1226,-425 1226,-425 1220,-425 1214,-419 1214,-413 1214,-413 1214,-354 1214,-354 1214,-348 1220,-342 1226,-342 1226,-342 1366,-342 1366,-342 1372,-342 1378,-348 1378,-354 1378,-354 1378,-413 1378,-413 1378,-419 1372,-425 1366,-425\"/>\n<text text-anchor=\"start\" x=\"1222\" y=\"-409.8\" font-family=\"Helvetica,sans-Serif\" font-size=\"14.00\">ShuckedWeight ≤ &#45;1.288</text>\n<text text-anchor=\"start\" x=\"1248.5\" y=\"-394.8\" font-family=\"Helvetica,sans-Serif\" font-size=\"14.00\">entropy = 1.557</text>\n<text text-anchor=\"start\" x=\"1251\" y=\"-379.8\" font-family=\"Helvetica,sans-Serif\" font-size=\"14.00\">samples = 302</text>\n<text text-anchor=\"start\" x=\"1230.5\" y=\"-364.8\" font-family=\"Helvetica,sans-Serif\" font-size=\"14.00\">value = [120, 74, 108]</text>\n<text text-anchor=\"start\" x=\"1268.5\" y=\"-349.8\" font-family=\"Helvetica,sans-Serif\" font-size=\"14.00\">class = T</text>\n</g>\n<!-- 1&#45;&gt;17 -->\n<g id=\"edge17\" class=\"edge\">\n<title>1&#45;&gt;17</title>\n<path fill=\"none\" stroke=\"black\" d=\"M1296,-460.91C1296,-452.65 1296,-443.86 1296,-435.3\"/>\n<polygon fill=\"black\" stroke=\"black\" points=\"1299.5,-435.02 1296,-425.02 1292.5,-435.02 1299.5,-435.02\"/>\n</g>\n<!-- 3 -->\n<g id=\"node4\" class=\"node\">\n<title>3</title>\n<path fill=\"#63ea9c\" stroke=\"black\" d=\"M510,-306C510,-306 394,-306 394,-306 388,-306 382,-300 382,-294 382,-294 382,-235 382,-235 382,-229 388,-223 394,-223 394,-223 510,-223 510,-223 516,-223 522,-229 522,-235 522,-235 522,-294 522,-294 522,-300 516,-306 510,-306\"/>\n<text text-anchor=\"start\" x=\"408\" y=\"-290.8\" font-family=\"Helvetica,sans-Serif\" font-size=\"14.00\">Rings ≤ &#45;0.445</text>\n<text text-anchor=\"start\" x=\"404.5\" y=\"-275.8\" font-family=\"Helvetica,sans-Serif\" font-size=\"14.00\">entropy = 0.833</text>\n<text text-anchor=\"start\" x=\"407\" y=\"-260.8\" font-family=\"Helvetica,sans-Serif\" font-size=\"14.00\">samples = 588</text>\n<text text-anchor=\"start\" x=\"390\" y=\"-245.8\" font-family=\"Helvetica,sans-Serif\" font-size=\"14.00\">value = [27, 481, 80]</text>\n<text text-anchor=\"start\" x=\"425\" y=\"-230.8\" font-family=\"Helvetica,sans-Serif\" font-size=\"14.00\">class = y</text>\n</g>\n<!-- 2&#45;&gt;3 -->\n<g id=\"edge3\" class=\"edge\">\n<title>2&#45;&gt;3</title>\n<path fill=\"none\" stroke=\"black\" d=\"M763.08,-358.82C695.83,-338.65 599.62,-309.79 532.05,-289.51\"/>\n<polygon fill=\"black\" stroke=\"black\" points=\"532.88,-286.11 522.29,-286.59 530.87,-292.81 532.88,-286.11\"/>\n</g>\n<!-- 10 -->\n<g id=\"node11\" class=\"node\">\n<title>10</title>\n<path fill=\"#abf4ca\" stroke=\"black\" d=\"M904,-306C904,-306 780,-306 780,-306 774,-306 768,-300 768,-294 768,-294 768,-235 768,-235 768,-229 774,-223 780,-223 780,-223 904,-223 904,-223 910,-223 916,-229 916,-235 916,-235 916,-294 916,-294 916,-300 910,-306 904,-306\"/>\n<text text-anchor=\"start\" x=\"776\" y=\"-290.8\" font-family=\"Helvetica,sans-Serif\" font-size=\"14.00\">LongestShell ≤ &#45;0.262</text>\n<text text-anchor=\"start\" x=\"794.5\" y=\"-275.8\" font-family=\"Helvetica,sans-Serif\" font-size=\"14.00\">entropy = 1.409</text>\n<text text-anchor=\"start\" x=\"797\" y=\"-260.8\" font-family=\"Helvetica,sans-Serif\" font-size=\"14.00\">samples = 378</text>\n<text text-anchor=\"start\" x=\"780\" y=\"-245.8\" font-family=\"Helvetica,sans-Serif\" font-size=\"14.00\">value = [68, 215, 95]</text>\n<text text-anchor=\"start\" x=\"815\" y=\"-230.8\" font-family=\"Helvetica,sans-Serif\" font-size=\"14.00\">class = y</text>\n</g>\n<!-- 2&#45;&gt;10 -->\n<g id=\"edge10\" class=\"edge\">\n<title>2&#45;&gt;10</title>\n<path fill=\"none\" stroke=\"black\" d=\"M842,-341.91C842,-333.65 842,-324.86 842,-316.3\"/>\n<polygon fill=\"black\" stroke=\"black\" points=\"845.5,-316.02 842,-306.02 838.5,-316.02 845.5,-316.02\"/>\n</g>\n<!-- 4 -->\n<g id=\"node5\" class=\"node\">\n<title>4</title>\n<path fill=\"#5be997\" stroke=\"black\" d=\"M286,-187C286,-187 162,-187 162,-187 156,-187 150,-181 150,-175 150,-175 150,-116 150,-116 150,-110 156,-104 162,-104 162,-104 286,-104 286,-104 292,-104 298,-110 298,-116 298,-116 298,-175 298,-175 298,-181 292,-187 286,-187\"/>\n<text text-anchor=\"start\" x=\"158\" y=\"-171.8\" font-family=\"Helvetica,sans-Serif\" font-size=\"14.00\">LongestShell ≤ &#45;1.012</text>\n<text text-anchor=\"start\" x=\"176.5\" y=\"-156.8\" font-family=\"Helvetica,sans-Serif\" font-size=\"14.00\">entropy = 0.733</text>\n<text text-anchor=\"start\" x=\"179\" y=\"-141.8\" font-family=\"Helvetica,sans-Serif\" font-size=\"14.00\">samples = 529</text>\n<text text-anchor=\"start\" x=\"162\" y=\"-126.8\" font-family=\"Helvetica,sans-Serif\" font-size=\"14.00\">value = [19, 449, 61]</text>\n<text text-anchor=\"start\" x=\"197\" y=\"-111.8\" font-family=\"Helvetica,sans-Serif\" font-size=\"14.00\">class = y</text>\n</g>\n<!-- 3&#45;&gt;4 -->\n<g id=\"edge4\" class=\"edge\">\n<title>3&#45;&gt;4</title>\n<path fill=\"none\" stroke=\"black\" d=\"M381.73,-227.44C358.19,-215.36 331.72,-201.78 307.28,-189.24\"/>\n<polygon fill=\"black\" stroke=\"black\" points=\"308.88,-186.12 298.38,-184.67 305.68,-192.35 308.88,-186.12\"/>\n</g>\n<!-- 7 -->\n<g id=\"node8\" class=\"node\">\n<title>7</title>\n<path fill=\"#bff7d6\" stroke=\"black\" d=\"M518.5,-187C518.5,-187 385.5,-187 385.5,-187 379.5,-187 373.5,-181 373.5,-175 373.5,-175 373.5,-116 373.5,-116 373.5,-110 379.5,-104 385.5,-104 385.5,-104 518.5,-104 518.5,-104 524.5,-104 530.5,-110 530.5,-116 530.5,-116 530.5,-175 530.5,-175 530.5,-181 524.5,-187 518.5,-187\"/>\n<text text-anchor=\"start\" x=\"381.5\" y=\"-171.8\" font-family=\"Helvetica,sans-Serif\" font-size=\"14.00\">VisceraWeight ≤ &#45;0.982</text>\n<text text-anchor=\"start\" x=\"404.5\" y=\"-156.8\" font-family=\"Helvetica,sans-Serif\" font-size=\"14.00\">entropy = 1.396</text>\n<text text-anchor=\"start\" x=\"411\" y=\"-141.8\" font-family=\"Helvetica,sans-Serif\" font-size=\"14.00\">samples = 59</text>\n<text text-anchor=\"start\" x=\"397.5\" y=\"-126.8\" font-family=\"Helvetica,sans-Serif\" font-size=\"14.00\">value = [8, 32, 19]</text>\n<text text-anchor=\"start\" x=\"425\" y=\"-111.8\" font-family=\"Helvetica,sans-Serif\" font-size=\"14.00\">class = y</text>\n</g>\n<!-- 3&#45;&gt;7 -->\n<g id=\"edge7\" class=\"edge\">\n<title>3&#45;&gt;7</title>\n<path fill=\"none\" stroke=\"black\" d=\"M452,-222.91C452,-214.65 452,-205.86 452,-197.3\"/>\n<polygon fill=\"black\" stroke=\"black\" points=\"455.5,-197.02 452,-187.02 448.5,-197.02 455.5,-197.02\"/>\n</g>\n<!-- 5 -->\n<g id=\"node6\" class=\"node\">\n<title>5</title>\n<path fill=\"#60ea9a\" stroke=\"black\" d=\"M128,-68C128,-68 12,-68 12,-68 6,-68 0,-62 0,-56 0,-56 0,-12 0,-12 0,-6 6,0 12,0 12,0 128,0 128,0 134,0 140,-6 140,-12 140,-12 140,-56 140,-56 140,-62 134,-68 128,-68\"/>\n<text text-anchor=\"start\" x=\"26\" y=\"-52.8\" font-family=\"Helvetica,sans-Serif\" font-size=\"14.00\">entropy = 0.81</text>\n<text text-anchor=\"start\" x=\"25\" y=\"-37.8\" font-family=\"Helvetica,sans-Serif\" font-size=\"14.00\">samples = 400</text>\n<text text-anchor=\"start\" x=\"8\" y=\"-22.8\" font-family=\"Helvetica,sans-Serif\" font-size=\"14.00\">value = [19, 331, 50]</text>\n<text text-anchor=\"start\" x=\"43\" y=\"-7.8\" font-family=\"Helvetica,sans-Serif\" font-size=\"14.00\">class = y</text>\n</g>\n<!-- 4&#45;&gt;5 -->\n<g id=\"edge5\" class=\"edge\">\n<title>4&#45;&gt;5</title>\n<path fill=\"none\" stroke=\"black\" d=\"M166.66,-103.73C153.06,-94.06 138.59,-83.77 125.09,-74.17\"/>\n<polygon fill=\"black\" stroke=\"black\" points=\"127.01,-71.24 116.83,-68.3 122.95,-76.95 127.01,-71.24\"/>\n</g>\n<!-- 6 -->\n<g id=\"node7\" class=\"node\">\n<title>6</title>\n<path fill=\"#4be78d\" stroke=\"black\" d=\"M278,-68C278,-68 170,-68 170,-68 164,-68 158,-62 158,-56 158,-56 158,-12 158,-12 158,-6 164,0 170,0 170,0 278,0 278,0 284,0 290,-6 290,-12 290,-12 290,-56 290,-56 290,-62 284,-68 278,-68\"/>\n<text text-anchor=\"start\" x=\"180\" y=\"-52.8\" font-family=\"Helvetica,sans-Serif\" font-size=\"14.00\">entropy = 0.42</text>\n<text text-anchor=\"start\" x=\"179\" y=\"-37.8\" font-family=\"Helvetica,sans-Serif\" font-size=\"14.00\">samples = 129</text>\n<text text-anchor=\"start\" x=\"166\" y=\"-22.8\" font-family=\"Helvetica,sans-Serif\" font-size=\"14.00\">value = [0, 118, 11]</text>\n<text text-anchor=\"start\" x=\"197\" y=\"-7.8\" font-family=\"Helvetica,sans-Serif\" font-size=\"14.00\">class = y</text>\n</g>\n<!-- 4&#45;&gt;6 -->\n<g id=\"edge6\" class=\"edge\">\n<title>4&#45;&gt;6</title>\n<path fill=\"none\" stroke=\"black\" d=\"M224,-103.73C224,-95.52 224,-86.86 224,-78.56\"/>\n<polygon fill=\"black\" stroke=\"black\" points=\"227.5,-78.3 224,-68.3 220.5,-78.3 227.5,-78.3\"/>\n</g>\n<!-- 8 -->\n<g id=\"node9\" class=\"node\">\n<title>8</title>\n<path fill=\"#e1d0f9\" stroke=\"black\" d=\"M421.5,-68C421.5,-68 320.5,-68 320.5,-68 314.5,-68 308.5,-62 308.5,-56 308.5,-56 308.5,-12 308.5,-12 308.5,-6 314.5,0 320.5,0 320.5,0 421.5,0 421.5,0 427.5,0 433.5,-6 433.5,-12 433.5,-12 433.5,-56 433.5,-56 433.5,-62 427.5,-68 421.5,-68\"/>\n<text text-anchor=\"start\" x=\"323.5\" y=\"-52.8\" font-family=\"Helvetica,sans-Serif\" font-size=\"14.00\">entropy = 1.393</text>\n<text text-anchor=\"start\" x=\"330\" y=\"-37.8\" font-family=\"Helvetica,sans-Serif\" font-size=\"14.00\">samples = 33</text>\n<text text-anchor=\"start\" x=\"316.5\" y=\"-22.8\" font-family=\"Helvetica,sans-Serif\" font-size=\"14.00\">value = [4, 12, 17]</text>\n<text text-anchor=\"start\" x=\"343.5\" y=\"-7.8\" font-family=\"Helvetica,sans-Serif\" font-size=\"14.00\">class = p</text>\n</g>\n<!-- 7&#45;&gt;8 -->\n<g id=\"edge8\" class=\"edge\">\n<title>7&#45;&gt;8</title>\n<path fill=\"none\" stroke=\"black\" d=\"M421.84,-103.73C415.23,-94.79 408.22,-85.32 401.59,-76.36\"/>\n<polygon fill=\"black\" stroke=\"black\" points=\"404.39,-74.26 395.63,-68.3 398.77,-78.42 404.39,-74.26\"/>\n</g>\n<!-- 9 -->\n<g id=\"node10\" class=\"node\">\n<title>9</title>\n<path fill=\"#6feca3\" stroke=\"black\" d=\"M556.5,-68C556.5,-68 463.5,-68 463.5,-68 457.5,-68 451.5,-62 451.5,-56 451.5,-56 451.5,-12 451.5,-12 451.5,-6 457.5,0 463.5,0 463.5,0 556.5,0 556.5,0 562.5,0 568.5,-6 568.5,-12 568.5,-12 568.5,-56 568.5,-56 568.5,-62 562.5,-68 556.5,-68\"/>\n<text text-anchor=\"start\" x=\"462.5\" y=\"-52.8\" font-family=\"Helvetica,sans-Serif\" font-size=\"14.00\">entropy = 0.991</text>\n<text text-anchor=\"start\" x=\"469\" y=\"-37.8\" font-family=\"Helvetica,sans-Serif\" font-size=\"14.00\">samples = 26</text>\n<text text-anchor=\"start\" x=\"459.5\" y=\"-22.8\" font-family=\"Helvetica,sans-Serif\" font-size=\"14.00\">value = [4, 20, 2]</text>\n<text text-anchor=\"start\" x=\"483\" y=\"-7.8\" font-family=\"Helvetica,sans-Serif\" font-size=\"14.00\">class = y</text>\n</g>\n<!-- 7&#45;&gt;9 -->\n<g id=\"edge9\" class=\"edge\">\n<title>7&#45;&gt;9</title>\n<path fill=\"none\" stroke=\"black\" d=\"M473.6,-103.73C478.19,-95.06 483.04,-85.9 487.66,-77.18\"/>\n<polygon fill=\"black\" stroke=\"black\" points=\"490.77,-78.77 492.36,-68.3 484.59,-75.5 490.77,-78.77\"/>\n</g>\n<!-- 11 -->\n<g id=\"node12\" class=\"node\">\n<title>11</title>\n<path fill=\"#c9f8dc\" stroke=\"black\" d=\"M823,-187C823,-187 683,-187 683,-187 677,-187 671,-181 671,-175 671,-175 671,-116 671,-116 671,-110 677,-104 683,-104 683,-104 823,-104 823,-104 829,-104 835,-110 835,-116 835,-116 835,-175 835,-175 835,-181 829,-187 823,-187\"/>\n<text text-anchor=\"start\" x=\"679\" y=\"-171.8\" font-family=\"Helvetica,sans-Serif\" font-size=\"14.00\">ShuckedWeight ≤ &#45;0.322</text>\n<text text-anchor=\"start\" x=\"713\" y=\"-156.8\" font-family=\"Helvetica,sans-Serif\" font-size=\"14.00\">entropy = 1.5</text>\n<text text-anchor=\"start\" x=\"708\" y=\"-141.8\" font-family=\"Helvetica,sans-Serif\" font-size=\"14.00\">samples = 202</text>\n<text text-anchor=\"start\" x=\"695\" y=\"-126.8\" font-family=\"Helvetica,sans-Serif\" font-size=\"14.00\">value = [43, 99, 60]</text>\n<text text-anchor=\"start\" x=\"726\" y=\"-111.8\" font-family=\"Helvetica,sans-Serif\" font-size=\"14.00\">class = y</text>\n</g>\n<!-- 10&#45;&gt;11 -->\n<g id=\"edge11\" class=\"edge\">\n<title>10&#45;&gt;11</title>\n<path fill=\"none\" stroke=\"black\" d=\"M811.12,-222.91C804.29,-213.92 796.98,-204.32 789.93,-195.05\"/>\n<polygon fill=\"black\" stroke=\"black\" points=\"792.66,-192.86 783.82,-187.02 787.09,-197.1 792.66,-192.86\"/>\n</g>\n<!-- 14 -->\n<g id=\"node15\" class=\"node\">\n<title>14</title>\n<path fill=\"#8df0b7\" stroke=\"black\" d=\"M998.5,-187C998.5,-187 865.5,-187 865.5,-187 859.5,-187 853.5,-181 853.5,-175 853.5,-175 853.5,-116 853.5,-116 853.5,-110 859.5,-104 865.5,-104 865.5,-104 998.5,-104 998.5,-104 1004.5,-104 1010.5,-110 1010.5,-116 1010.5,-116 1010.5,-175 1010.5,-175 1010.5,-181 1004.5,-187 998.5,-187\"/>\n<text text-anchor=\"start\" x=\"861.5\" y=\"-171.8\" font-family=\"Helvetica,sans-Serif\" font-size=\"14.00\">VisceraWeight ≤ &#45;0.487</text>\n<text text-anchor=\"start\" x=\"888\" y=\"-156.8\" font-family=\"Helvetica,sans-Serif\" font-size=\"14.00\">entropy = 1.26</text>\n<text text-anchor=\"start\" x=\"887\" y=\"-141.8\" font-family=\"Helvetica,sans-Serif\" font-size=\"14.00\">samples = 176</text>\n<text text-anchor=\"start\" x=\"870\" y=\"-126.8\" font-family=\"Helvetica,sans-Serif\" font-size=\"14.00\">value = [25, 116, 35]</text>\n<text text-anchor=\"start\" x=\"905\" y=\"-111.8\" font-family=\"Helvetica,sans-Serif\" font-size=\"14.00\">class = y</text>\n</g>\n<!-- 10&#45;&gt;14 -->\n<g id=\"edge14\" class=\"edge\">\n<title>10&#45;&gt;14</title>\n<path fill=\"none\" stroke=\"black\" d=\"M873.23,-222.91C880.14,-213.92 887.53,-204.32 894.65,-195.05\"/>\n<polygon fill=\"black\" stroke=\"black\" points=\"897.51,-197.08 900.83,-187.02 891.96,-192.81 897.51,-197.08\"/>\n</g>\n<!-- 12 -->\n<g id=\"node13\" class=\"node\">\n<title>12</title>\n<path fill=\"#b8f6d2\" stroke=\"black\" d=\"M707,-68C707,-68 599,-68 599,-68 593,-68 587,-62 587,-56 587,-56 587,-12 587,-12 587,-6 593,0 599,0 599,0 707,0 707,0 713,0 719,-6 719,-12 719,-12 719,-56 719,-56 719,-62 713,-68 707,-68\"/>\n<text text-anchor=\"start\" x=\"609\" y=\"-52.8\" font-family=\"Helvetica,sans-Serif\" font-size=\"14.00\">entropy = 1.47</text>\n<text text-anchor=\"start\" x=\"608\" y=\"-37.8\" font-family=\"Helvetica,sans-Serif\" font-size=\"14.00\">samples = 177</text>\n<text text-anchor=\"start\" x=\"595\" y=\"-22.8\" font-family=\"Helvetica,sans-Serif\" font-size=\"14.00\">value = [38, 93, 46]</text>\n<text text-anchor=\"start\" x=\"626\" y=\"-7.8\" font-family=\"Helvetica,sans-Serif\" font-size=\"14.00\">class = y</text>\n</g>\n<!-- 11&#45;&gt;12 -->\n<g id=\"edge12\" class=\"edge\">\n<title>11&#45;&gt;12</title>\n<path fill=\"none\" stroke=\"black\" d=\"M715.76,-103.73C707.43,-94.61 698.6,-84.93 690.27,-75.81\"/>\n<polygon fill=\"black\" stroke=\"black\" points=\"692.74,-73.32 683.41,-68.3 687.57,-78.04 692.74,-73.32\"/>\n</g>\n<!-- 13 -->\n<g id=\"node14\" class=\"node\">\n<title>13</title>\n<path fill=\"#caacf4\" stroke=\"black\" d=\"M842.5,-68C842.5,-68 749.5,-68 749.5,-68 743.5,-68 737.5,-62 737.5,-56 737.5,-56 737.5,-12 737.5,-12 737.5,-6 743.5,0 749.5,0 749.5,0 842.5,0 842.5,0 848.5,0 854.5,-6 854.5,-12 854.5,-12 854.5,-56 854.5,-56 854.5,-62 848.5,-68 842.5,-68\"/>\n<text text-anchor=\"start\" x=\"748.5\" y=\"-52.8\" font-family=\"Helvetica,sans-Serif\" font-size=\"14.00\">entropy = 1.427</text>\n<text text-anchor=\"start\" x=\"755\" y=\"-37.8\" font-family=\"Helvetica,sans-Serif\" font-size=\"14.00\">samples = 25</text>\n<text text-anchor=\"start\" x=\"745.5\" y=\"-22.8\" font-family=\"Helvetica,sans-Serif\" font-size=\"14.00\">value = [5, 6, 14]</text>\n<text text-anchor=\"start\" x=\"768.5\" y=\"-7.8\" font-family=\"Helvetica,sans-Serif\" font-size=\"14.00\">class = p</text>\n</g>\n<!-- 11&#45;&gt;13 -->\n<g id=\"edge13\" class=\"edge\">\n<title>11&#45;&gt;13</title>\n<path fill=\"none\" stroke=\"black\" d=\"M769.01,-103.73C772.34,-95.24 775.86,-86.28 779.22,-77.73\"/>\n<polygon fill=\"black\" stroke=\"black\" points=\"782.53,-78.89 782.92,-68.3 776.01,-76.33 782.53,-78.89\"/>\n</g>\n<!-- 15 -->\n<g id=\"node16\" class=\"node\">\n<title>15</title>\n<path fill=\"#5cea97\" stroke=\"black\" d=\"M977.5,-68C977.5,-68 884.5,-68 884.5,-68 878.5,-68 872.5,-62 872.5,-56 872.5,-56 872.5,-12 872.5,-12 872.5,-6 878.5,0 884.5,0 884.5,0 977.5,0 977.5,0 983.5,0 989.5,-6 989.5,-12 989.5,-12 989.5,-56 989.5,-56 989.5,-62 983.5,-68 977.5,-68\"/>\n<text text-anchor=\"start\" x=\"883.5\" y=\"-52.8\" font-family=\"Helvetica,sans-Serif\" font-size=\"14.00\">entropy = 0.802</text>\n<text text-anchor=\"start\" x=\"890\" y=\"-37.8\" font-family=\"Helvetica,sans-Serif\" font-size=\"14.00\">samples = 74</text>\n<text text-anchor=\"start\" x=\"880.5\" y=\"-22.8\" font-family=\"Helvetica,sans-Serif\" font-size=\"14.00\">value = [6, 62, 6]</text>\n<text text-anchor=\"start\" x=\"904\" y=\"-7.8\" font-family=\"Helvetica,sans-Serif\" font-size=\"14.00\">class = y</text>\n</g>\n<!-- 14&#45;&gt;15 -->\n<g id=\"edge15\" class=\"edge\">\n<title>14&#45;&gt;15</title>\n<path fill=\"none\" stroke=\"black\" d=\"M931.63,-103.73C931.55,-95.52 931.47,-86.86 931.4,-78.56\"/>\n<polygon fill=\"black\" stroke=\"black\" points=\"934.9,-78.27 931.3,-68.3 927.9,-78.33 934.9,-78.27\"/>\n</g>\n<!-- 16 -->\n<g id=\"node17\" class=\"node\">\n<title>16</title>\n<path fill=\"#bbf6d4\" stroke=\"black\" d=\"M1128,-68C1128,-68 1020,-68 1020,-68 1014,-68 1008,-62 1008,-56 1008,-56 1008,-12 1008,-12 1008,-6 1014,0 1020,0 1020,0 1128,0 1128,0 1134,0 1140,-6 1140,-12 1140,-12 1140,-56 1140,-56 1140,-62 1134,-68 1128,-68\"/>\n<text text-anchor=\"start\" x=\"1026.5\" y=\"-52.8\" font-family=\"Helvetica,sans-Serif\" font-size=\"14.00\">entropy = 1.453</text>\n<text text-anchor=\"start\" x=\"1029\" y=\"-37.8\" font-family=\"Helvetica,sans-Serif\" font-size=\"14.00\">samples = 102</text>\n<text text-anchor=\"start\" x=\"1016\" y=\"-22.8\" font-family=\"Helvetica,sans-Serif\" font-size=\"14.00\">value = [19, 54, 29]</text>\n<text text-anchor=\"start\" x=\"1047\" y=\"-7.8\" font-family=\"Helvetica,sans-Serif\" font-size=\"14.00\">class = y</text>\n</g>\n<!-- 14&#45;&gt;16 -->\n<g id=\"edge16\" class=\"edge\">\n<title>14&#45;&gt;16</title>\n<path fill=\"none\" stroke=\"black\" d=\"M984.88,-103.73C997.29,-94.15 1010.51,-83.96 1022.85,-74.44\"/>\n<polygon fill=\"black\" stroke=\"black\" points=\"1025.04,-77.18 1030.82,-68.3 1020.76,-71.63 1025.04,-77.18\"/>\n</g>\n<!-- 18 -->\n<g id=\"node19\" class=\"node\">\n<title>18</title>\n<path fill=\"#8a47e7\" stroke=\"black\" d=\"M1266.5,-306C1266.5,-306 1173.5,-306 1173.5,-306 1167.5,-306 1161.5,-300 1161.5,-294 1161.5,-294 1161.5,-235 1161.5,-235 1161.5,-229 1167.5,-223 1173.5,-223 1173.5,-223 1266.5,-223 1266.5,-223 1272.5,-223 1278.5,-229 1278.5,-235 1278.5,-235 1278.5,-294 1278.5,-294 1278.5,-300 1272.5,-306 1266.5,-306\"/>\n<text text-anchor=\"start\" x=\"1178\" y=\"-290.8\" font-family=\"Helvetica,sans-Serif\" font-size=\"14.00\">Rings ≤ 0.796</text>\n<text text-anchor=\"start\" x=\"1172.5\" y=\"-275.8\" font-family=\"Helvetica,sans-Serif\" font-size=\"14.00\">entropy = 0.353</text>\n<text text-anchor=\"start\" x=\"1179\" y=\"-260.8\" font-family=\"Helvetica,sans-Serif\" font-size=\"14.00\">samples = 15</text>\n<text text-anchor=\"start\" x=\"1169.5\" y=\"-245.8\" font-family=\"Helvetica,sans-Serif\" font-size=\"14.00\">value = [0, 1, 14]</text>\n<text text-anchor=\"start\" x=\"1192.5\" y=\"-230.8\" font-family=\"Helvetica,sans-Serif\" font-size=\"14.00\">class = p</text>\n</g>\n<!-- 17&#45;&gt;18 -->\n<g id=\"edge18\" class=\"edge\">\n<title>17&#45;&gt;18</title>\n<path fill=\"none\" stroke=\"black\" d=\"M1269.63,-341.91C1263.91,-333.1 1257.81,-323.7 1251.9,-314.61\"/>\n<polygon fill=\"black\" stroke=\"black\" points=\"1254.7,-312.5 1246.32,-306.02 1248.83,-316.31 1254.7,-312.5\"/>\n</g>\n<!-- 21 -->\n<g id=\"node22\" class=\"node\">\n<title>21</title>\n<path fill=\"#fbeee4\" stroke=\"black\" d=\"M1433,-306C1433,-306 1309,-306 1309,-306 1303,-306 1297,-300 1297,-294 1297,-294 1297,-235 1297,-235 1297,-229 1303,-223 1309,-223 1309,-223 1433,-223 1433,-223 1439,-223 1445,-229 1445,-235 1445,-235 1445,-294 1445,-294 1445,-300 1439,-306 1433,-306\"/>\n<text text-anchor=\"start\" x=\"1305\" y=\"-290.8\" font-family=\"Helvetica,sans-Serif\" font-size=\"14.00\">LongestShell ≤ &#45;0.096</text>\n<text text-anchor=\"start\" x=\"1323.5\" y=\"-275.8\" font-family=\"Helvetica,sans-Serif\" font-size=\"14.00\">entropy = 1.556</text>\n<text text-anchor=\"start\" x=\"1326\" y=\"-260.8\" font-family=\"Helvetica,sans-Serif\" font-size=\"14.00\">samples = 287</text>\n<text text-anchor=\"start\" x=\"1309\" y=\"-245.8\" font-family=\"Helvetica,sans-Serif\" font-size=\"14.00\">value = [120, 73, 94]</text>\n<text text-anchor=\"start\" x=\"1343.5\" y=\"-230.8\" font-family=\"Helvetica,sans-Serif\" font-size=\"14.00\">class = T</text>\n</g>\n<!-- 17&#45;&gt;21 -->\n<g id=\"edge21\" class=\"edge\">\n<title>17&#45;&gt;21</title>\n<path fill=\"none\" stroke=\"black\" d=\"M1322.02,-341.91C1327.66,-333.1 1333.69,-323.7 1339.52,-314.61\"/>\n<polygon fill=\"black\" stroke=\"black\" points=\"1342.57,-316.33 1345.03,-306.02 1336.68,-312.55 1342.57,-316.33\"/>\n</g>\n<!-- 19 -->\n<g id=\"node20\" class=\"node\">\n<title>19</title>\n<path fill=\"#8139e5\" stroke=\"black\" d=\"M1134.5,-179.5C1134.5,-179.5 1041.5,-179.5 1041.5,-179.5 1035.5,-179.5 1029.5,-173.5 1029.5,-167.5 1029.5,-167.5 1029.5,-123.5 1029.5,-123.5 1029.5,-117.5 1035.5,-111.5 1041.5,-111.5 1041.5,-111.5 1134.5,-111.5 1134.5,-111.5 1140.5,-111.5 1146.5,-117.5 1146.5,-123.5 1146.5,-123.5 1146.5,-167.5 1146.5,-167.5 1146.5,-173.5 1140.5,-179.5 1134.5,-179.5\"/>\n<text text-anchor=\"start\" x=\"1048\" y=\"-164.3\" font-family=\"Helvetica,sans-Serif\" font-size=\"14.00\">entropy = 0.0</text>\n<text text-anchor=\"start\" x=\"1047\" y=\"-149.3\" font-family=\"Helvetica,sans-Serif\" font-size=\"14.00\">samples = 14</text>\n<text text-anchor=\"start\" x=\"1037.5\" y=\"-134.3\" font-family=\"Helvetica,sans-Serif\" font-size=\"14.00\">value = [0, 0, 14]</text>\n<text text-anchor=\"start\" x=\"1060.5\" y=\"-119.3\" font-family=\"Helvetica,sans-Serif\" font-size=\"14.00\">class = p</text>\n</g>\n<!-- 18&#45;&gt;19 -->\n<g id=\"edge19\" class=\"edge\">\n<title>18&#45;&gt;19</title>\n<path fill=\"none\" stroke=\"black\" d=\"M1174.2,-222.91C1160.88,-211.1 1146.35,-198.22 1133.07,-186.45\"/>\n<polygon fill=\"black\" stroke=\"black\" points=\"1135.22,-183.68 1125.42,-179.67 1130.58,-188.92 1135.22,-183.68\"/>\n</g>\n<!-- 20 -->\n<g id=\"node21\" class=\"node\">\n<title>20</title>\n<path fill=\"#39e581\" stroke=\"black\" d=\"M1263,-179.5C1263,-179.5 1177,-179.5 1177,-179.5 1171,-179.5 1165,-173.5 1165,-167.5 1165,-167.5 1165,-123.5 1165,-123.5 1165,-117.5 1171,-111.5 1177,-111.5 1177,-111.5 1263,-111.5 1263,-111.5 1269,-111.5 1275,-117.5 1275,-123.5 1275,-123.5 1275,-167.5 1275,-167.5 1275,-173.5 1269,-179.5 1263,-179.5\"/>\n<text text-anchor=\"start\" x=\"1180\" y=\"-164.3\" font-family=\"Helvetica,sans-Serif\" font-size=\"14.00\">entropy = 0.0</text>\n<text text-anchor=\"start\" x=\"1182.5\" y=\"-149.3\" font-family=\"Helvetica,sans-Serif\" font-size=\"14.00\">samples = 1</text>\n<text text-anchor=\"start\" x=\"1173\" y=\"-134.3\" font-family=\"Helvetica,sans-Serif\" font-size=\"14.00\">value = [0, 1, 0]</text>\n<text text-anchor=\"start\" x=\"1193\" y=\"-119.3\" font-family=\"Helvetica,sans-Serif\" font-size=\"14.00\">class = y</text>\n</g>\n<!-- 18&#45;&gt;20 -->\n<g id=\"edge20\" class=\"edge\">\n<title>18&#45;&gt;20</title>\n<path fill=\"none\" stroke=\"black\" d=\"M1220,-222.91C1220,-212.2 1220,-200.62 1220,-189.78\"/>\n<polygon fill=\"black\" stroke=\"black\" points=\"1223.5,-189.67 1220,-179.67 1216.5,-189.67 1223.5,-189.67\"/>\n</g>\n<!-- 22 -->\n<g id=\"node23\" class=\"node\">\n<title>22</title>\n<path fill=\"#fcf1e9\" stroke=\"black\" d=\"M1433.5,-187C1433.5,-187 1306.5,-187 1306.5,-187 1300.5,-187 1294.5,-181 1294.5,-175 1294.5,-175 1294.5,-116 1294.5,-116 1294.5,-110 1300.5,-104 1306.5,-104 1306.5,-104 1433.5,-104 1433.5,-104 1439.5,-104 1445.5,-110 1445.5,-116 1445.5,-116 1445.5,-175 1445.5,-175 1445.5,-181 1439.5,-187 1433.5,-187\"/>\n<text text-anchor=\"start\" x=\"1302.5\" y=\"-171.8\" font-family=\"Helvetica,sans-Serif\" font-size=\"14.00\">WholeWeight ≤ &#45;0.609</text>\n<text text-anchor=\"start\" x=\"1322.5\" y=\"-156.8\" font-family=\"Helvetica,sans-Serif\" font-size=\"14.00\">entropy = 1.526</text>\n<text text-anchor=\"start\" x=\"1325\" y=\"-141.8\" font-family=\"Helvetica,sans-Serif\" font-size=\"14.00\">samples = 239</text>\n<text text-anchor=\"start\" x=\"1308\" y=\"-126.8\" font-family=\"Helvetica,sans-Serif\" font-size=\"14.00\">value = [103, 50, 86]</text>\n<text text-anchor=\"start\" x=\"1342.5\" y=\"-111.8\" font-family=\"Helvetica,sans-Serif\" font-size=\"14.00\">class = T</text>\n</g>\n<!-- 21&#45;&gt;22 -->\n<g id=\"edge22\" class=\"edge\">\n<title>21&#45;&gt;22</title>\n<path fill=\"none\" stroke=\"black\" d=\"M1370.65,-222.91C1370.58,-214.65 1370.51,-205.86 1370.43,-197.3\"/>\n<polygon fill=\"black\" stroke=\"black\" points=\"1373.93,-196.99 1370.35,-187.02 1366.93,-197.05 1373.93,-196.99\"/>\n</g>\n<!-- 25 -->\n<g id=\"node26\" class=\"node\">\n<title>25</title>\n<path fill=\"#d9fae7\" stroke=\"black\" d=\"M1576.5,-187C1576.5,-187 1475.5,-187 1475.5,-187 1469.5,-187 1463.5,-181 1463.5,-175 1463.5,-175 1463.5,-116 1463.5,-116 1463.5,-110 1469.5,-104 1475.5,-104 1475.5,-104 1576.5,-104 1576.5,-104 1582.5,-104 1588.5,-110 1588.5,-116 1588.5,-116 1588.5,-175 1588.5,-175 1588.5,-181 1582.5,-187 1576.5,-187\"/>\n<text text-anchor=\"start\" x=\"1473.5\" y=\"-171.8\" font-family=\"Helvetica,sans-Serif\" font-size=\"14.00\">Diameter ≤ 0.097</text>\n<text text-anchor=\"start\" x=\"1482\" y=\"-156.8\" font-family=\"Helvetica,sans-Serif\" font-size=\"14.00\">entropy = 1.47</text>\n<text text-anchor=\"start\" x=\"1485\" y=\"-141.8\" font-family=\"Helvetica,sans-Serif\" font-size=\"14.00\">samples = 48</text>\n<text text-anchor=\"start\" x=\"1471.5\" y=\"-126.8\" font-family=\"Helvetica,sans-Serif\" font-size=\"14.00\">value = [17, 23, 8]</text>\n<text text-anchor=\"start\" x=\"1499\" y=\"-111.8\" font-family=\"Helvetica,sans-Serif\" font-size=\"14.00\">class = y</text>\n</g>\n<!-- 21&#45;&gt;25 -->\n<g id=\"edge25\" class=\"edge\">\n<title>21&#45;&gt;25</title>\n<path fill=\"none\" stroke=\"black\" d=\"M1424.78,-222.91C1437.52,-213.29 1451.21,-202.95 1464.28,-193.09\"/>\n<polygon fill=\"black\" stroke=\"black\" points=\"1466.45,-195.84 1472.32,-187.02 1462.23,-190.25 1466.45,-195.84\"/>\n</g>\n<!-- 23 -->\n<g id=\"node24\" class=\"node\">\n<title>23</title>\n<path fill=\"#fdf4ee\" stroke=\"black\" d=\"M1278,-68C1278,-68 1170,-68 1170,-68 1164,-68 1158,-62 1158,-56 1158,-56 1158,-12 1158,-12 1158,-6 1164,0 1170,0 1170,0 1278,0 1278,0 1284,0 1290,-6 1290,-12 1290,-12 1290,-56 1290,-56 1290,-62 1284,-68 1278,-68\"/>\n<text text-anchor=\"start\" x=\"1176.5\" y=\"-52.8\" font-family=\"Helvetica,sans-Serif\" font-size=\"14.00\">entropy = 1.576</text>\n<text text-anchor=\"start\" x=\"1179\" y=\"-37.8\" font-family=\"Helvetica,sans-Serif\" font-size=\"14.00\">samples = 141</text>\n<text text-anchor=\"start\" x=\"1166\" y=\"-22.8\" font-family=\"Helvetica,sans-Serif\" font-size=\"14.00\">value = [54, 41, 46]</text>\n<text text-anchor=\"start\" x=\"1196.5\" y=\"-7.8\" font-family=\"Helvetica,sans-Serif\" font-size=\"14.00\">class = T</text>\n</g>\n<!-- 22&#45;&gt;23 -->\n<g id=\"edge23\" class=\"edge\">\n<title>22&#45;&gt;23</title>\n<path fill=\"none\" stroke=\"black\" d=\"M1315.63,-103.73C1302.87,-94.15 1289.28,-83.96 1276.59,-74.44\"/>\n<polygon fill=\"black\" stroke=\"black\" points=\"1278.5,-71.5 1268.4,-68.3 1274.3,-77.1 1278.5,-71.5\"/>\n</g>\n<!-- 24 -->\n<g id=\"node25\" class=\"node\">\n<title>24</title>\n<path fill=\"#fbebe0\" stroke=\"black\" d=\"M1421.5,-68C1421.5,-68 1320.5,-68 1320.5,-68 1314.5,-68 1308.5,-62 1308.5,-56 1308.5,-56 1308.5,-12 1308.5,-12 1308.5,-6 1314.5,0 1320.5,0 1320.5,0 1421.5,0 1421.5,0 1427.5,0 1433.5,-6 1433.5,-12 1433.5,-12 1433.5,-56 1433.5,-56 1433.5,-62 1427.5,-68 1421.5,-68\"/>\n<text text-anchor=\"start\" x=\"1323.5\" y=\"-52.8\" font-family=\"Helvetica,sans-Serif\" font-size=\"14.00\">entropy = 1.344</text>\n<text text-anchor=\"start\" x=\"1330\" y=\"-37.8\" font-family=\"Helvetica,sans-Serif\" font-size=\"14.00\">samples = 98</text>\n<text text-anchor=\"start\" x=\"1316.5\" y=\"-22.8\" font-family=\"Helvetica,sans-Serif\" font-size=\"14.00\">value = [49, 9, 40]</text>\n<text text-anchor=\"start\" x=\"1343.5\" y=\"-7.8\" font-family=\"Helvetica,sans-Serif\" font-size=\"14.00\">class = T</text>\n</g>\n<!-- 22&#45;&gt;24 -->\n<g id=\"edge24\" class=\"edge\">\n<title>22&#45;&gt;24</title>\n<path fill=\"none\" stroke=\"black\" d=\"M1370.37,-103.73C1370.45,-95.52 1370.53,-86.86 1370.6,-78.56\"/>\n<polygon fill=\"black\" stroke=\"black\" points=\"1374.1,-78.33 1370.7,-68.3 1367.1,-78.27 1374.1,-78.33\"/>\n</g>\n<!-- 26 -->\n<g id=\"node27\" class=\"node\">\n<title>26</title>\n<path fill=\"#f5fef9\" stroke=\"black\" d=\"M1564.5,-68C1564.5,-68 1463.5,-68 1463.5,-68 1457.5,-68 1451.5,-62 1451.5,-56 1451.5,-56 1451.5,-12 1451.5,-12 1451.5,-6 1457.5,0 1463.5,0 1463.5,0 1564.5,0 1564.5,0 1570.5,0 1576.5,-6 1576.5,-12 1576.5,-12 1576.5,-56 1576.5,-56 1576.5,-62 1570.5,-68 1564.5,-68\"/>\n<text text-anchor=\"start\" x=\"1470\" y=\"-52.8\" font-family=\"Helvetica,sans-Serif\" font-size=\"14.00\">entropy = 1.33</text>\n<text text-anchor=\"start\" x=\"1473\" y=\"-37.8\" font-family=\"Helvetica,sans-Serif\" font-size=\"14.00\">samples = 36</text>\n<text text-anchor=\"start\" x=\"1459.5\" y=\"-22.8\" font-family=\"Helvetica,sans-Serif\" font-size=\"14.00\">value = [16, 17, 3]</text>\n<text text-anchor=\"start\" x=\"1487\" y=\"-7.8\" font-family=\"Helvetica,sans-Serif\" font-size=\"14.00\">class = y</text>\n</g>\n<!-- 25&#45;&gt;26 -->\n<g id=\"edge26\" class=\"edge\">\n<title>25&#45;&gt;26</title>\n<path fill=\"none\" stroke=\"black\" d=\"M1521.53,-103.73C1520.62,-95.43 1519.66,-86.67 1518.74,-78.28\"/>\n<polygon fill=\"black\" stroke=\"black\" points=\"1522.22,-77.86 1517.65,-68.3 1515.26,-78.62 1522.22,-77.86\"/>\n</g>\n<!-- 27 -->\n<g id=\"node28\" class=\"node\">\n<title>27</title>\n<path fill=\"#e3fbed\" stroke=\"black\" d=\"M1693.5,-68C1693.5,-68 1606.5,-68 1606.5,-68 1600.5,-68 1594.5,-62 1594.5,-56 1594.5,-56 1594.5,-12 1594.5,-12 1594.5,-6 1600.5,0 1606.5,0 1606.5,0 1693.5,0 1693.5,0 1699.5,0 1705.5,-6 1705.5,-12 1705.5,-12 1705.5,-56 1705.5,-56 1705.5,-62 1699.5,-68 1693.5,-68\"/>\n<text text-anchor=\"start\" x=\"1602.5\" y=\"-52.8\" font-family=\"Helvetica,sans-Serif\" font-size=\"14.00\">entropy = 1.325</text>\n<text text-anchor=\"start\" x=\"1609\" y=\"-37.8\" font-family=\"Helvetica,sans-Serif\" font-size=\"14.00\">samples = 12</text>\n<text text-anchor=\"start\" x=\"1603\" y=\"-22.8\" font-family=\"Helvetica,sans-Serif\" font-size=\"14.00\">value = [1, 6, 5]</text>\n<text text-anchor=\"start\" x=\"1623\" y=\"-7.8\" font-family=\"Helvetica,sans-Serif\" font-size=\"14.00\">class = y</text>\n</g>\n<!-- 25&#45;&gt;27 -->\n<g id=\"edge27\" class=\"edge\">\n<title>25&#45;&gt;27</title>\n<path fill=\"none\" stroke=\"black\" d=\"M1572.17,-103.73C1582.81,-94.33 1594.12,-84.35 1604.72,-74.99\"/>\n<polygon fill=\"black\" stroke=\"black\" points=\"1607.11,-77.54 1612.29,-68.3 1602.48,-72.3 1607.11,-77.54\"/>\n</g>\n<!-- 29 -->\n<g id=\"node30\" class=\"node\">\n<title>29</title>\n<path fill=\"#e4d5f9\" stroke=\"black\" d=\"M2295,-425C2295,-425 2155,-425 2155,-425 2149,-425 2143,-419 2143,-413 2143,-413 2143,-354 2143,-354 2143,-348 2149,-342 2155,-342 2155,-342 2295,-342 2295,-342 2301,-342 2307,-348 2307,-354 2307,-354 2307,-413 2307,-413 2307,-419 2301,-425 2295,-425\"/>\n<text text-anchor=\"start\" x=\"2151\" y=\"-409.8\" font-family=\"Helvetica,sans-Serif\" font-size=\"14.00\">ShuckedWeight ≤ &#45;0.399</text>\n<text text-anchor=\"start\" x=\"2177.5\" y=\"-394.8\" font-family=\"Helvetica,sans-Serif\" font-size=\"14.00\">entropy = 1.498</text>\n<text text-anchor=\"start\" x=\"2180\" y=\"-379.8\" font-family=\"Helvetica,sans-Serif\" font-size=\"14.00\">samples = 582</text>\n<text text-anchor=\"start\" x=\"2155.5\" y=\"-364.8\" font-family=\"Helvetica,sans-Serif\" font-size=\"14.00\">value = [193, 113, 276]</text>\n<text text-anchor=\"start\" x=\"2197.5\" y=\"-349.8\" font-family=\"Helvetica,sans-Serif\" font-size=\"14.00\">class = p</text>\n</g>\n<!-- 28&#45;&gt;29 -->\n<g id=\"edge29\" class=\"edge\">\n<title>28&#45;&gt;29</title>\n<path fill=\"none\" stroke=\"black\" d=\"M2225,-460.91C2225,-452.65 2225,-443.86 2225,-435.3\"/>\n<polygon fill=\"black\" stroke=\"black\" points=\"2228.5,-435.02 2225,-425.02 2221.5,-435.02 2228.5,-435.02\"/>\n</g>\n<!-- 44 -->\n<g id=\"node45\" class=\"node\">\n<title>44</title>\n<path fill=\"#faf7fe\" stroke=\"black\" d=\"M3205.5,-425C3205.5,-425 3082.5,-425 3082.5,-425 3076.5,-425 3070.5,-419 3070.5,-413 3070.5,-413 3070.5,-354 3070.5,-354 3070.5,-348 3076.5,-342 3082.5,-342 3082.5,-342 3205.5,-342 3205.5,-342 3211.5,-342 3217.5,-348 3217.5,-354 3217.5,-354 3217.5,-413 3217.5,-413 3217.5,-419 3211.5,-425 3205.5,-425\"/>\n<text text-anchor=\"start\" x=\"3091.5\" y=\"-409.8\" font-family=\"Helvetica,sans-Serif\" font-size=\"14.00\">Diameter ≤ 1.256</text>\n<text text-anchor=\"start\" x=\"3096.5\" y=\"-394.8\" font-family=\"Helvetica,sans-Serif\" font-size=\"14.00\">entropy = 1.178</text>\n<text text-anchor=\"start\" x=\"3095.5\" y=\"-379.8\" font-family=\"Helvetica,sans-Serif\" font-size=\"14.00\">samples = 1073</text>\n<text text-anchor=\"start\" x=\"3078.5\" y=\"-364.8\" font-family=\"Helvetica,sans-Serif\" font-size=\"14.00\">value = [507, 36, 530]</text>\n<text text-anchor=\"start\" x=\"3116.5\" y=\"-349.8\" font-family=\"Helvetica,sans-Serif\" font-size=\"14.00\">class = p</text>\n</g>\n<!-- 28&#45;&gt;44 -->\n<g id=\"edge44\" class=\"edge\">\n<title>28&#45;&gt;44</title>\n<path fill=\"none\" stroke=\"black\" d=\"M2302.56,-491.63C2473.95,-469.81 2883.69,-417.64 3060.47,-395.13\"/>\n<polygon fill=\"black\" stroke=\"black\" points=\"3061.02,-398.59 3070.5,-393.86 3060.13,-391.65 3061.02,-398.59\"/>\n</g>\n<!-- 30 -->\n<g id=\"node31\" class=\"node\">\n<title>30</title>\n<path fill=\"#decbf8\" stroke=\"black\" d=\"M2183.5,-306C2183.5,-306 2082.5,-306 2082.5,-306 2076.5,-306 2070.5,-300 2070.5,-294 2070.5,-294 2070.5,-235 2070.5,-235 2070.5,-229 2076.5,-223 2082.5,-223 2082.5,-223 2183.5,-223 2183.5,-223 2189.5,-223 2195.5,-229 2195.5,-235 2195.5,-235 2195.5,-294 2195.5,-294 2195.5,-300 2189.5,-306 2183.5,-306\"/>\n<text text-anchor=\"start\" x=\"2091\" y=\"-290.8\" font-family=\"Helvetica,sans-Serif\" font-size=\"14.00\">Rings ≤ 1.727</text>\n<text text-anchor=\"start\" x=\"2085.5\" y=\"-275.8\" font-family=\"Helvetica,sans-Serif\" font-size=\"14.00\">entropy = 0.984</text>\n<text text-anchor=\"start\" x=\"2092\" y=\"-260.8\" font-family=\"Helvetica,sans-Serif\" font-size=\"14.00\">samples = 40</text>\n<text text-anchor=\"start\" x=\"2078.5\" y=\"-245.8\" font-family=\"Helvetica,sans-Serif\" font-size=\"14.00\">value = [17, 0, 23]</text>\n<text text-anchor=\"start\" x=\"2105.5\" y=\"-230.8\" font-family=\"Helvetica,sans-Serif\" font-size=\"14.00\">class = p</text>\n</g>\n<!-- 29&#45;&gt;30 -->\n<g id=\"edge30\" class=\"edge\">\n<title>29&#45;&gt;30</title>\n<path fill=\"none\" stroke=\"black\" d=\"M2193.08,-341.91C2186.02,-332.92 2178.46,-323.32 2171.18,-314.05\"/>\n<polygon fill=\"black\" stroke=\"black\" points=\"2173.8,-311.72 2164.86,-306.02 2168.29,-316.05 2173.8,-311.72\"/>\n</g>\n<!-- 37 -->\n<g id=\"node38\" class=\"node\">\n<title>37</title>\n<path fill=\"#e4d5fa\" stroke=\"black\" d=\"M2454.5,-306C2454.5,-306 2323.5,-306 2323.5,-306 2317.5,-306 2311.5,-300 2311.5,-294 2311.5,-294 2311.5,-235 2311.5,-235 2311.5,-229 2317.5,-223 2323.5,-223 2323.5,-223 2454.5,-223 2454.5,-223 2460.5,-223 2466.5,-229 2466.5,-235 2466.5,-235 2466.5,-294 2466.5,-294 2466.5,-300 2460.5,-306 2454.5,-306\"/>\n<text text-anchor=\"start\" x=\"2321.5\" y=\"-290.8\" font-family=\"Helvetica,sans-Serif\" font-size=\"14.00\">WholeWeight ≤ &#45;0.017</text>\n<text text-anchor=\"start\" x=\"2341.5\" y=\"-275.8\" font-family=\"Helvetica,sans-Serif\" font-size=\"14.00\">entropy = 1.512</text>\n<text text-anchor=\"start\" x=\"2344\" y=\"-260.8\" font-family=\"Helvetica,sans-Serif\" font-size=\"14.00\">samples = 542</text>\n<text text-anchor=\"start\" x=\"2319.5\" y=\"-245.8\" font-family=\"Helvetica,sans-Serif\" font-size=\"14.00\">value = [176, 113, 253]</text>\n<text text-anchor=\"start\" x=\"2361.5\" y=\"-230.8\" font-family=\"Helvetica,sans-Serif\" font-size=\"14.00\">class = p</text>\n</g>\n<!-- 29&#45;&gt;37 -->\n<g id=\"edge37\" class=\"edge\">\n<title>29&#45;&gt;37</title>\n<path fill=\"none\" stroke=\"black\" d=\"M2281.9,-341.91C2295.38,-332.29 2309.87,-321.95 2323.69,-312.09\"/>\n<polygon fill=\"black\" stroke=\"black\" points=\"2326.09,-314.68 2332.2,-306.02 2322.03,-308.98 2326.09,-314.68\"/>\n</g>\n<!-- 31 -->\n<g id=\"node32\" class=\"node\">\n<title>31</title>\n<path fill=\"#b78ef0\" stroke=\"black\" d=\"M1980.5,-187C1980.5,-187 1853.5,-187 1853.5,-187 1847.5,-187 1841.5,-181 1841.5,-175 1841.5,-175 1841.5,-116 1841.5,-116 1841.5,-110 1847.5,-104 1853.5,-104 1853.5,-104 1980.5,-104 1980.5,-104 1986.5,-104 1992.5,-110 1992.5,-116 1992.5,-116 1992.5,-175 1992.5,-175 1992.5,-181 1986.5,-187 1980.5,-187\"/>\n<text text-anchor=\"start\" x=\"1849.5\" y=\"-171.8\" font-family=\"Helvetica,sans-Serif\" font-size=\"14.00\">WholeWeight ≤ &#45;0.123</text>\n<text text-anchor=\"start\" x=\"1869.5\" y=\"-156.8\" font-family=\"Helvetica,sans-Serif\" font-size=\"14.00\">entropy = 0.881</text>\n<text text-anchor=\"start\" x=\"1876\" y=\"-141.8\" font-family=\"Helvetica,sans-Serif\" font-size=\"14.00\">samples = 30</text>\n<text text-anchor=\"start\" x=\"1866.5\" y=\"-126.8\" font-family=\"Helvetica,sans-Serif\" font-size=\"14.00\">value = [9, 0, 21]</text>\n<text text-anchor=\"start\" x=\"1889.5\" y=\"-111.8\" font-family=\"Helvetica,sans-Serif\" font-size=\"14.00\">class = p</text>\n</g>\n<!-- 30&#45;&gt;31 -->\n<g id=\"edge31\" class=\"edge\">\n<title>30&#45;&gt;31</title>\n<path fill=\"none\" stroke=\"black\" d=\"M2070.23,-229.5C2048.57,-217.77 2023.94,-204.43 2000.87,-191.93\"/>\n<polygon fill=\"black\" stroke=\"black\" points=\"2002.23,-188.69 1991.77,-187 1998.9,-194.84 2002.23,-188.69\"/>\n</g>\n<!-- 34 -->\n<g id=\"node35\" class=\"node\">\n<title>34</title>\n<path fill=\"#eca06a\" stroke=\"black\" d=\"M2199.5,-187C2199.5,-187 2066.5,-187 2066.5,-187 2060.5,-187 2054.5,-181 2054.5,-175 2054.5,-175 2054.5,-116 2054.5,-116 2054.5,-110 2060.5,-104 2066.5,-104 2066.5,-104 2199.5,-104 2199.5,-104 2205.5,-104 2211.5,-110 2211.5,-116 2211.5,-116 2211.5,-175 2211.5,-175 2211.5,-181 2205.5,-187 2199.5,-187\"/>\n<text text-anchor=\"start\" x=\"2062.5\" y=\"-171.8\" font-family=\"Helvetica,sans-Serif\" font-size=\"14.00\">VisceraWeight ≤ &#45;0.373</text>\n<text text-anchor=\"start\" x=\"2085.5\" y=\"-156.8\" font-family=\"Helvetica,sans-Serif\" font-size=\"14.00\">entropy = 0.722</text>\n<text text-anchor=\"start\" x=\"2092\" y=\"-141.8\" font-family=\"Helvetica,sans-Serif\" font-size=\"14.00\">samples = 10</text>\n<text text-anchor=\"start\" x=\"2086\" y=\"-126.8\" font-family=\"Helvetica,sans-Serif\" font-size=\"14.00\">value = [8, 0, 2]</text>\n<text text-anchor=\"start\" x=\"2105.5\" y=\"-111.8\" font-family=\"Helvetica,sans-Serif\" font-size=\"14.00\">class = T</text>\n</g>\n<!-- 30&#45;&gt;34 -->\n<g id=\"edge34\" class=\"edge\">\n<title>30&#45;&gt;34</title>\n<path fill=\"none\" stroke=\"black\" d=\"M2133,-222.91C2133,-214.65 2133,-205.86 2133,-197.3\"/>\n<polygon fill=\"black\" stroke=\"black\" points=\"2136.5,-197.02 2133,-187.02 2129.5,-197.02 2136.5,-197.02\"/>\n</g>\n<!-- 32 -->\n<g id=\"node33\" class=\"node\">\n<title>32</title>\n<path fill=\"#e8dbfa\" stroke=\"black\" d=\"M1828.5,-68C1828.5,-68 1735.5,-68 1735.5,-68 1729.5,-68 1723.5,-62 1723.5,-56 1723.5,-56 1723.5,-12 1723.5,-12 1723.5,-6 1729.5,0 1735.5,0 1735.5,0 1828.5,0 1828.5,0 1834.5,0 1840.5,-6 1840.5,-12 1840.5,-12 1840.5,-56 1840.5,-56 1840.5,-62 1834.5,-68 1828.5,-68\"/>\n<text text-anchor=\"start\" x=\"1734.5\" y=\"-52.8\" font-family=\"Helvetica,sans-Serif\" font-size=\"14.00\">entropy = 0.993</text>\n<text text-anchor=\"start\" x=\"1741\" y=\"-37.8\" font-family=\"Helvetica,sans-Serif\" font-size=\"14.00\">samples = 20</text>\n<text text-anchor=\"start\" x=\"1731.5\" y=\"-22.8\" font-family=\"Helvetica,sans-Serif\" font-size=\"14.00\">value = [9, 0, 11]</text>\n<text text-anchor=\"start\" x=\"1754.5\" y=\"-7.8\" font-family=\"Helvetica,sans-Serif\" font-size=\"14.00\">class = p</text>\n</g>\n<!-- 31&#45;&gt;32 -->\n<g id=\"edge32\" class=\"edge\">\n<title>31&#45;&gt;32</title>\n<path fill=\"none\" stroke=\"black\" d=\"M1866.73,-103.73C1855.04,-94.24 1842.6,-84.16 1830.96,-74.72\"/>\n<polygon fill=\"black\" stroke=\"black\" points=\"1833.03,-71.88 1823.05,-68.3 1828.62,-77.32 1833.03,-71.88\"/>\n</g>\n<!-- 33 -->\n<g id=\"node34\" class=\"node\">\n<title>33</title>\n<path fill=\"#8139e5\" stroke=\"black\" d=\"M1963.5,-68C1963.5,-68 1870.5,-68 1870.5,-68 1864.5,-68 1858.5,-62 1858.5,-56 1858.5,-56 1858.5,-12 1858.5,-12 1858.5,-6 1864.5,0 1870.5,0 1870.5,0 1963.5,0 1963.5,0 1969.5,0 1975.5,-6 1975.5,-12 1975.5,-12 1975.5,-56 1975.5,-56 1975.5,-62 1969.5,-68 1963.5,-68\"/>\n<text text-anchor=\"start\" x=\"1877\" y=\"-52.8\" font-family=\"Helvetica,sans-Serif\" font-size=\"14.00\">entropy = 0.0</text>\n<text text-anchor=\"start\" x=\"1876\" y=\"-37.8\" font-family=\"Helvetica,sans-Serif\" font-size=\"14.00\">samples = 10</text>\n<text text-anchor=\"start\" x=\"1866.5\" y=\"-22.8\" font-family=\"Helvetica,sans-Serif\" font-size=\"14.00\">value = [0, 0, 10]</text>\n<text text-anchor=\"start\" x=\"1889.5\" y=\"-7.8\" font-family=\"Helvetica,sans-Serif\" font-size=\"14.00\">class = p</text>\n</g>\n<!-- 31&#45;&gt;33 -->\n<g id=\"edge33\" class=\"edge\">\n<title>31&#45;&gt;33</title>\n<path fill=\"none\" stroke=\"black\" d=\"M1917,-103.73C1917,-95.52 1917,-86.86 1917,-78.56\"/>\n<polygon fill=\"black\" stroke=\"black\" points=\"1920.5,-78.3 1917,-68.3 1913.5,-78.3 1920.5,-78.3\"/>\n</g>\n<!-- 35 -->\n<g id=\"node36\" class=\"node\">\n<title>35</title>\n<path fill=\"#8139e5\" stroke=\"black\" d=\"M2092,-68C2092,-68 2006,-68 2006,-68 2000,-68 1994,-62 1994,-56 1994,-56 1994,-12 1994,-12 1994,-6 2000,0 2006,0 2006,0 2092,0 2092,0 2098,0 2104,-6 2104,-12 2104,-12 2104,-56 2104,-56 2104,-62 2098,-68 2092,-68\"/>\n<text text-anchor=\"start\" x=\"2009\" y=\"-52.8\" font-family=\"Helvetica,sans-Serif\" font-size=\"14.00\">entropy = 0.0</text>\n<text text-anchor=\"start\" x=\"2011.5\" y=\"-37.8\" font-family=\"Helvetica,sans-Serif\" font-size=\"14.00\">samples = 2</text>\n<text text-anchor=\"start\" x=\"2002\" y=\"-22.8\" font-family=\"Helvetica,sans-Serif\" font-size=\"14.00\">value = [0, 0, 2]</text>\n<text text-anchor=\"start\" x=\"2021.5\" y=\"-7.8\" font-family=\"Helvetica,sans-Serif\" font-size=\"14.00\">class = p</text>\n</g>\n<!-- 34&#45;&gt;35 -->\n<g id=\"edge35\" class=\"edge\">\n<title>34&#45;&gt;35</title>\n<path fill=\"none\" stroke=\"black\" d=\"M2101.72,-103.73C2094.86,-94.79 2087.6,-85.32 2080.72,-76.36\"/>\n<polygon fill=\"black\" stroke=\"black\" points=\"2083.41,-74.1 2074.54,-68.3 2077.85,-78.36 2083.41,-74.1\"/>\n</g>\n<!-- 36 -->\n<g id=\"node37\" class=\"node\">\n<title>36</title>\n<path fill=\"#e58139\" stroke=\"black\" d=\"M2220,-68C2220,-68 2134,-68 2134,-68 2128,-68 2122,-62 2122,-56 2122,-56 2122,-12 2122,-12 2122,-6 2128,0 2134,0 2134,0 2220,0 2220,0 2226,0 2232,-6 2232,-12 2232,-12 2232,-56 2232,-56 2232,-62 2226,-68 2220,-68\"/>\n<text text-anchor=\"start\" x=\"2137\" y=\"-52.8\" font-family=\"Helvetica,sans-Serif\" font-size=\"14.00\">entropy = 0.0</text>\n<text text-anchor=\"start\" x=\"2139.5\" y=\"-37.8\" font-family=\"Helvetica,sans-Serif\" font-size=\"14.00\">samples = 8</text>\n<text text-anchor=\"start\" x=\"2130\" y=\"-22.8\" font-family=\"Helvetica,sans-Serif\" font-size=\"14.00\">value = [8, 0, 0]</text>\n<text text-anchor=\"start\" x=\"2149.5\" y=\"-7.8\" font-family=\"Helvetica,sans-Serif\" font-size=\"14.00\">class = T</text>\n</g>\n<!-- 34&#45;&gt;36 -->\n<g id=\"edge36\" class=\"edge\">\n<title>34&#45;&gt;36</title>\n<path fill=\"none\" stroke=\"black\" d=\"M2149.38,-103.73C2152.79,-95.24 2156.39,-86.28 2159.83,-77.73\"/>\n<polygon fill=\"black\" stroke=\"black\" points=\"2163.14,-78.88 2163.62,-68.3 2156.64,-76.27 2163.14,-78.88\"/>\n</g>\n<!-- 38 -->\n<g id=\"node39\" class=\"node\">\n<title>38</title>\n<path fill=\"#ece1fb\" stroke=\"black\" d=\"M2448,-187C2448,-187 2330,-187 2330,-187 2324,-187 2318,-181 2318,-175 2318,-175 2318,-116 2318,-116 2318,-110 2324,-104 2330,-104 2330,-104 2448,-104 2448,-104 2454,-104 2460,-110 2460,-116 2460,-116 2460,-175 2460,-175 2460,-181 2454,-187 2448,-187\"/>\n<text text-anchor=\"start\" x=\"2326\" y=\"-171.8\" font-family=\"Helvetica,sans-Serif\" font-size=\"14.00\">ShellWeight ≤ &#45;0.132</text>\n<text text-anchor=\"start\" x=\"2341.5\" y=\"-156.8\" font-family=\"Helvetica,sans-Serif\" font-size=\"14.00\">entropy = 1.569</text>\n<text text-anchor=\"start\" x=\"2344\" y=\"-141.8\" font-family=\"Helvetica,sans-Serif\" font-size=\"14.00\">samples = 210</text>\n<text text-anchor=\"start\" x=\"2331\" y=\"-126.8\" font-family=\"Helvetica,sans-Serif\" font-size=\"14.00\">value = [62, 63, 85]</text>\n<text text-anchor=\"start\" x=\"2361.5\" y=\"-111.8\" font-family=\"Helvetica,sans-Serif\" font-size=\"14.00\">class = p</text>\n</g>\n<!-- 37&#45;&gt;38 -->\n<g id=\"edge38\" class=\"edge\">\n<title>37&#45;&gt;38</title>\n<path fill=\"none\" stroke=\"black\" d=\"M2389,-222.91C2389,-214.65 2389,-205.86 2389,-197.3\"/>\n<polygon fill=\"black\" stroke=\"black\" points=\"2392.5,-197.02 2389,-187.02 2385.5,-197.02 2392.5,-197.02\"/>\n</g>\n<!-- 41 -->\n<g id=\"node42\" class=\"node\">\n<title>41</title>\n<path fill=\"#e0cef9\" stroke=\"black\" d=\"M2685.5,-187C2685.5,-187 2562.5,-187 2562.5,-187 2556.5,-187 2550.5,-181 2550.5,-175 2550.5,-175 2550.5,-116 2550.5,-116 2550.5,-110 2556.5,-104 2562.5,-104 2562.5,-104 2685.5,-104 2685.5,-104 2691.5,-104 2697.5,-110 2697.5,-116 2697.5,-116 2697.5,-175 2697.5,-175 2697.5,-181 2691.5,-187 2685.5,-187\"/>\n<text text-anchor=\"start\" x=\"2560.5\" y=\"-171.8\" font-family=\"Helvetica,sans-Serif\" font-size=\"14.00\">LongestShell ≤ 0.654</text>\n<text text-anchor=\"start\" x=\"2576.5\" y=\"-156.8\" font-family=\"Helvetica,sans-Serif\" font-size=\"14.00\">entropy = 1.438</text>\n<text text-anchor=\"start\" x=\"2579\" y=\"-141.8\" font-family=\"Helvetica,sans-Serif\" font-size=\"14.00\">samples = 332</text>\n<text text-anchor=\"start\" x=\"2558.5\" y=\"-126.8\" font-family=\"Helvetica,sans-Serif\" font-size=\"14.00\">value = [114, 50, 168]</text>\n<text text-anchor=\"start\" x=\"2596.5\" y=\"-111.8\" font-family=\"Helvetica,sans-Serif\" font-size=\"14.00\">class = p</text>\n</g>\n<!-- 37&#45;&gt;41 -->\n<g id=\"edge41\" class=\"edge\">\n<title>37&#45;&gt;41</title>\n<path fill=\"none\" stroke=\"black\" d=\"M2466.6,-224.87C2490.55,-212.94 2517,-199.77 2541.28,-187.68\"/>\n<polygon fill=\"black\" stroke=\"black\" points=\"2543.08,-190.7 2550.47,-183.11 2539.96,-184.43 2543.08,-190.7\"/>\n</g>\n<!-- 39 -->\n<g id=\"node40\" class=\"node\">\n<title>39</title>\n<path fill=\"#d0b4f5\" stroke=\"black\" d=\"M2370,-68C2370,-68 2262,-68 2262,-68 2256,-68 2250,-62 2250,-56 2250,-56 2250,-12 2250,-12 2250,-6 2256,0 2262,0 2262,0 2370,0 2370,0 2376,0 2382,-6 2382,-12 2382,-12 2382,-56 2382,-56 2382,-62 2376,-68 2370,-68\"/>\n<text text-anchor=\"start\" x=\"2272\" y=\"-52.8\" font-family=\"Helvetica,sans-Serif\" font-size=\"14.00\">entropy = 1.46</text>\n<text text-anchor=\"start\" x=\"2271\" y=\"-37.8\" font-family=\"Helvetica,sans-Serif\" font-size=\"14.00\">samples = 103</text>\n<text text-anchor=\"start\" x=\"2258\" y=\"-22.8\" font-family=\"Helvetica,sans-Serif\" font-size=\"14.00\">value = [26, 22, 55]</text>\n<text text-anchor=\"start\" x=\"2288.5\" y=\"-7.8\" font-family=\"Helvetica,sans-Serif\" font-size=\"14.00\">class = p</text>\n</g>\n<!-- 38&#45;&gt;39 -->\n<g id=\"edge39\" class=\"edge\">\n<title>38&#45;&gt;39</title>\n<path fill=\"none\" stroke=\"black\" d=\"M2361.82,-103.73C2355.92,-94.88 2349.67,-85.51 2343.75,-76.63\"/>\n<polygon fill=\"black\" stroke=\"black\" points=\"2346.66,-74.68 2338.2,-68.3 2340.83,-78.56 2346.66,-74.68\"/>\n</g>\n<!-- 40 -->\n<g id=\"node41\" class=\"node\">\n<title>40</title>\n<path fill=\"#f1fdf6\" stroke=\"black\" d=\"M2520,-68C2520,-68 2412,-68 2412,-68 2406,-68 2400,-62 2400,-56 2400,-56 2400,-12 2400,-12 2400,-6 2406,0 2412,0 2412,0 2520,0 2520,0 2526,0 2532,-6 2532,-12 2532,-12 2532,-56 2532,-56 2532,-62 2526,-68 2520,-68\"/>\n<text text-anchor=\"start\" x=\"2418.5\" y=\"-52.8\" font-family=\"Helvetica,sans-Serif\" font-size=\"14.00\">entropy = 1.573</text>\n<text text-anchor=\"start\" x=\"2421\" y=\"-37.8\" font-family=\"Helvetica,sans-Serif\" font-size=\"14.00\">samples = 107</text>\n<text text-anchor=\"start\" x=\"2408\" y=\"-22.8\" font-family=\"Helvetica,sans-Serif\" font-size=\"14.00\">value = [36, 41, 30]</text>\n<text text-anchor=\"start\" x=\"2439\" y=\"-7.8\" font-family=\"Helvetica,sans-Serif\" font-size=\"14.00\">class = y</text>\n</g>\n<!-- 38&#45;&gt;40 -->\n<g id=\"edge40\" class=\"edge\">\n<title>38&#45;&gt;40</title>\n<path fill=\"none\" stroke=\"black\" d=\"M2417.67,-103.73C2423.89,-94.88 2430.48,-85.51 2436.73,-76.63\"/>\n<polygon fill=\"black\" stroke=\"black\" points=\"2439.69,-78.49 2442.58,-68.3 2433.97,-74.47 2439.69,-78.49\"/>\n</g>\n<!-- 42 -->\n<g id=\"node43\" class=\"node\">\n<title>42</title>\n<path fill=\"#ddcaf8\" stroke=\"black\" d=\"M2685.5,-68C2685.5,-68 2562.5,-68 2562.5,-68 2556.5,-68 2550.5,-62 2550.5,-56 2550.5,-56 2550.5,-12 2550.5,-12 2550.5,-6 2556.5,0 2562.5,0 2562.5,0 2685.5,0 2685.5,0 2691.5,0 2697.5,-6 2697.5,-12 2697.5,-12 2697.5,-56 2697.5,-56 2697.5,-62 2691.5,-68 2685.5,-68\"/>\n<text text-anchor=\"start\" x=\"2576.5\" y=\"-52.8\" font-family=\"Helvetica,sans-Serif\" font-size=\"14.00\">entropy = 1.405</text>\n<text text-anchor=\"start\" x=\"2579\" y=\"-37.8\" font-family=\"Helvetica,sans-Serif\" font-size=\"14.00\">samples = 311</text>\n<text text-anchor=\"start\" x=\"2558.5\" y=\"-22.8\" font-family=\"Helvetica,sans-Serif\" font-size=\"14.00\">value = [108, 41, 162]</text>\n<text text-anchor=\"start\" x=\"2596.5\" y=\"-7.8\" font-family=\"Helvetica,sans-Serif\" font-size=\"14.00\">class = p</text>\n</g>\n<!-- 41&#45;&gt;42 -->\n<g id=\"edge42\" class=\"edge\">\n<title>41&#45;&gt;42</title>\n<path fill=\"none\" stroke=\"black\" d=\"M2624,-103.73C2624,-95.52 2624,-86.86 2624,-78.56\"/>\n<polygon fill=\"black\" stroke=\"black\" points=\"2627.5,-78.3 2624,-68.3 2620.5,-78.3 2627.5,-78.3\"/>\n</g>\n<!-- 43 -->\n<g id=\"node44\" class=\"node\">\n<title>43</title>\n<path fill=\"#d7fae6\" stroke=\"black\" d=\"M2814.5,-68C2814.5,-68 2727.5,-68 2727.5,-68 2721.5,-68 2715.5,-62 2715.5,-56 2715.5,-56 2715.5,-12 2715.5,-12 2715.5,-6 2721.5,0 2727.5,0 2727.5,0 2814.5,0 2814.5,0 2820.5,0 2826.5,-6 2826.5,-12 2826.5,-12 2826.5,-56 2826.5,-56 2826.5,-62 2820.5,-68 2814.5,-68\"/>\n<text text-anchor=\"start\" x=\"2723.5\" y=\"-52.8\" font-family=\"Helvetica,sans-Serif\" font-size=\"14.00\">entropy = 1.557</text>\n<text text-anchor=\"start\" x=\"2730\" y=\"-37.8\" font-family=\"Helvetica,sans-Serif\" font-size=\"14.00\">samples = 21</text>\n<text text-anchor=\"start\" x=\"2724\" y=\"-22.8\" font-family=\"Helvetica,sans-Serif\" font-size=\"14.00\">value = [6, 9, 6]</text>\n<text text-anchor=\"start\" x=\"2744\" y=\"-7.8\" font-family=\"Helvetica,sans-Serif\" font-size=\"14.00\">class = y</text>\n</g>\n<!-- 41&#45;&gt;43 -->\n<g id=\"edge43\" class=\"edge\">\n<title>41&#45;&gt;43</title>\n<path fill=\"none\" stroke=\"black\" d=\"M2678.74,-103.73C2691.59,-94.15 2705.27,-83.96 2718.05,-74.44\"/>\n<polygon fill=\"black\" stroke=\"black\" points=\"2720.37,-77.08 2726.3,-68.3 2716.19,-71.47 2720.37,-77.08\"/>\n</g>\n<!-- 45 -->\n<g id=\"node46\" class=\"node\">\n<title>45</title>\n<path fill=\"#f1eafc\" stroke=\"black\" d=\"M3212,-306C3212,-306 3076,-306 3076,-306 3070,-306 3064,-300 3064,-294 3064,-294 3064,-235 3064,-235 3064,-229 3070,-223 3076,-223 3076,-223 3212,-223 3212,-223 3218,-223 3224,-229 3224,-235 3224,-235 3224,-294 3224,-294 3224,-300 3218,-306 3212,-306\"/>\n<text text-anchor=\"start\" x=\"3072\" y=\"-290.8\" font-family=\"Helvetica,sans-Serif\" font-size=\"14.00\">ShuckedWeight ≤ 1.147</text>\n<text text-anchor=\"start\" x=\"3096.5\" y=\"-275.8\" font-family=\"Helvetica,sans-Serif\" font-size=\"14.00\">entropy = 1.206</text>\n<text text-anchor=\"start\" x=\"3099\" y=\"-260.8\" font-family=\"Helvetica,sans-Serif\" font-size=\"14.00\">samples = 859</text>\n<text text-anchor=\"start\" x=\"3078.5\" y=\"-245.8\" font-family=\"Helvetica,sans-Serif\" font-size=\"14.00\">value = [386, 36, 437]</text>\n<text text-anchor=\"start\" x=\"3116.5\" y=\"-230.8\" font-family=\"Helvetica,sans-Serif\" font-size=\"14.00\">class = p</text>\n</g>\n<!-- 44&#45;&gt;45 -->\n<g id=\"edge45\" class=\"edge\">\n<title>44&#45;&gt;45</title>\n<path fill=\"none\" stroke=\"black\" d=\"M3144,-341.91C3144,-333.65 3144,-324.86 3144,-316.3\"/>\n<polygon fill=\"black\" stroke=\"black\" points=\"3147.5,-316.02 3144,-306.02 3140.5,-316.02 3147.5,-316.02\"/>\n</g>\n<!-- 52 -->\n<g id=\"node53\" class=\"node\">\n<title>52</title>\n<path fill=\"#f9e2d1\" stroke=\"black\" d=\"M3625,-306C3625,-306 3489,-306 3489,-306 3483,-306 3477,-300 3477,-294 3477,-294 3477,-235 3477,-235 3477,-229 3483,-223 3489,-223 3489,-223 3625,-223 3625,-223 3631,-223 3637,-229 3637,-235 3637,-235 3637,-294 3637,-294 3637,-300 3631,-306 3625,-306\"/>\n<text text-anchor=\"start\" x=\"3485\" y=\"-290.8\" font-family=\"Helvetica,sans-Serif\" font-size=\"14.00\">ShuckedWeight ≤ 2.312</text>\n<text text-anchor=\"start\" x=\"3509.5\" y=\"-275.8\" font-family=\"Helvetica,sans-Serif\" font-size=\"14.00\">entropy = 0.988</text>\n<text text-anchor=\"start\" x=\"3512\" y=\"-260.8\" font-family=\"Helvetica,sans-Serif\" font-size=\"14.00\">samples = 214</text>\n<text text-anchor=\"start\" x=\"3499\" y=\"-245.8\" font-family=\"Helvetica,sans-Serif\" font-size=\"14.00\">value = [121, 0, 93]</text>\n<text text-anchor=\"start\" x=\"3529.5\" y=\"-230.8\" font-family=\"Helvetica,sans-Serif\" font-size=\"14.00\">class = T</text>\n</g>\n<!-- 44&#45;&gt;52 -->\n<g id=\"edge52\" class=\"edge\">\n<title>44&#45;&gt;52</title>\n<path fill=\"none\" stroke=\"black\" d=\"M3217.84,-361.58C3287.56,-341.83 3392.27,-312.17 3466.89,-291.03\"/>\n<polygon fill=\"black\" stroke=\"black\" points=\"3468.08,-294.33 3476.75,-288.23 3466.17,-287.59 3468.08,-294.33\"/>\n</g>\n<!-- 46 -->\n<g id=\"node47\" class=\"node\">\n<title>46</title>\n<path fill=\"#fffefd\" stroke=\"black\" d=\"M3121.5,-187C3121.5,-187 2998.5,-187 2998.5,-187 2992.5,-187 2986.5,-181 2986.5,-175 2986.5,-175 2986.5,-116 2986.5,-116 2986.5,-110 2992.5,-104 2998.5,-104 2998.5,-104 3121.5,-104 3121.5,-104 3127.5,-104 3133.5,-110 3133.5,-116 3133.5,-116 3133.5,-175 3133.5,-175 3133.5,-181 3127.5,-187 3121.5,-187\"/>\n<text text-anchor=\"start\" x=\"3016\" y=\"-171.8\" font-family=\"Helvetica,sans-Serif\" font-size=\"14.00\">Height ≤ 1.267</text>\n<text text-anchor=\"start\" x=\"3012.5\" y=\"-156.8\" font-family=\"Helvetica,sans-Serif\" font-size=\"14.00\">entropy = 1.233</text>\n<text text-anchor=\"start\" x=\"3015\" y=\"-141.8\" font-family=\"Helvetica,sans-Serif\" font-size=\"14.00\">samples = 674</text>\n<text text-anchor=\"start\" x=\"2994.5\" y=\"-126.8\" font-family=\"Helvetica,sans-Serif\" font-size=\"14.00\">value = [322, 33, 319]</text>\n<text text-anchor=\"start\" x=\"3032.5\" y=\"-111.8\" font-family=\"Helvetica,sans-Serif\" font-size=\"14.00\">class = T</text>\n</g>\n<!-- 45&#45;&gt;46 -->\n<g id=\"edge46\" class=\"edge\">\n<title>45&#45;&gt;46</title>\n<path fill=\"none\" stroke=\"black\" d=\"M3114.86,-222.91C3108.47,-214.01 3101.65,-204.51 3095.06,-195.33\"/>\n<polygon fill=\"black\" stroke=\"black\" points=\"3097.77,-193.1 3089.09,-187.02 3092.08,-197.19 3097.77,-193.1\"/>\n</g>\n<!-- 49 -->\n<g id=\"node50\" class=\"node\">\n<title>49</title>\n<path fill=\"#c7a7f3\" stroke=\"black\" d=\"M3292,-187C3292,-187 3164,-187 3164,-187 3158,-187 3152,-181 3152,-175 3152,-175 3152,-116 3152,-116 3152,-110 3158,-104 3164,-104 3164,-104 3292,-104 3292,-104 3298,-104 3304,-110 3304,-116 3304,-116 3304,-175 3304,-175 3304,-181 3298,-187 3292,-187\"/>\n<text text-anchor=\"start\" x=\"3160\" y=\"-171.8\" font-family=\"Helvetica,sans-Serif\" font-size=\"14.00\">VisceraWeight ≤ 1.215</text>\n<text text-anchor=\"start\" x=\"3184\" y=\"-156.8\" font-family=\"Helvetica,sans-Serif\" font-size=\"14.00\">entropy = 1.04</text>\n<text text-anchor=\"start\" x=\"3183\" y=\"-141.8\" font-family=\"Helvetica,sans-Serif\" font-size=\"14.00\">samples = 185</text>\n<text text-anchor=\"start\" x=\"3170\" y=\"-126.8\" font-family=\"Helvetica,sans-Serif\" font-size=\"14.00\">value = [64, 3, 118]</text>\n<text text-anchor=\"start\" x=\"3200.5\" y=\"-111.8\" font-family=\"Helvetica,sans-Serif\" font-size=\"14.00\">class = p</text>\n</g>\n<!-- 45&#45;&gt;49 -->\n<g id=\"edge49\" class=\"edge\">\n<title>45&#45;&gt;49</title>\n<path fill=\"none\" stroke=\"black\" d=\"M3173.14,-222.91C3179.53,-214.01 3186.35,-204.51 3192.94,-195.33\"/>\n<polygon fill=\"black\" stroke=\"black\" points=\"3195.92,-197.19 3198.91,-187.02 3190.23,-193.1 3195.92,-197.19\"/>\n</g>\n<!-- 47 -->\n<g id=\"node48\" class=\"node\">\n<title>47</title>\n<path fill=\"#fdfbff\" stroke=\"black\" d=\"M2979.5,-68C2979.5,-68 2856.5,-68 2856.5,-68 2850.5,-68 2844.5,-62 2844.5,-56 2844.5,-56 2844.5,-12 2844.5,-12 2844.5,-6 2850.5,0 2856.5,0 2856.5,0 2979.5,0 2979.5,0 2985.5,0 2991.5,-6 2991.5,-12 2991.5,-12 2991.5,-56 2991.5,-56 2991.5,-62 2985.5,-68 2979.5,-68\"/>\n<text text-anchor=\"start\" x=\"2870.5\" y=\"-52.8\" font-family=\"Helvetica,sans-Serif\" font-size=\"14.00\">entropy = 1.247</text>\n<text text-anchor=\"start\" x=\"2873\" y=\"-37.8\" font-family=\"Helvetica,sans-Serif\" font-size=\"14.00\">samples = 619</text>\n<text text-anchor=\"start\" x=\"2852.5\" y=\"-22.8\" font-family=\"Helvetica,sans-Serif\" font-size=\"14.00\">value = [290, 33, 296]</text>\n<text text-anchor=\"start\" x=\"2890.5\" y=\"-7.8\" font-family=\"Helvetica,sans-Serif\" font-size=\"14.00\">class = p</text>\n</g>\n<!-- 46&#45;&gt;47 -->\n<g id=\"edge47\" class=\"edge\">\n<title>46&#45;&gt;47</title>\n<path fill=\"none\" stroke=\"black\" d=\"M3007.12,-103.73C2994.71,-94.15 2981.49,-83.96 2969.15,-74.44\"/>\n<polygon fill=\"black\" stroke=\"black\" points=\"2971.24,-71.63 2961.18,-68.3 2966.96,-77.18 2971.24,-71.63\"/>\n</g>\n<!-- 48 -->\n<g id=\"node49\" class=\"node\">\n<title>48</title>\n<path fill=\"#f8dcc7\" stroke=\"black\" d=\"M3122.5,-68C3122.5,-68 3021.5,-68 3021.5,-68 3015.5,-68 3009.5,-62 3009.5,-56 3009.5,-56 3009.5,-12 3009.5,-12 3009.5,-6 3015.5,0 3021.5,0 3021.5,0 3122.5,0 3122.5,0 3128.5,0 3134.5,-6 3134.5,-12 3134.5,-12 3134.5,-56 3134.5,-56 3134.5,-62 3128.5,-68 3122.5,-68\"/>\n<text text-anchor=\"start\" x=\"3024.5\" y=\"-52.8\" font-family=\"Helvetica,sans-Serif\" font-size=\"14.00\">entropy = 0.981</text>\n<text text-anchor=\"start\" x=\"3031\" y=\"-37.8\" font-family=\"Helvetica,sans-Serif\" font-size=\"14.00\">samples = 55</text>\n<text text-anchor=\"start\" x=\"3017.5\" y=\"-22.8\" font-family=\"Helvetica,sans-Serif\" font-size=\"14.00\">value = [32, 0, 23]</text>\n<text text-anchor=\"start\" x=\"3044.5\" y=\"-7.8\" font-family=\"Helvetica,sans-Serif\" font-size=\"14.00\">class = T</text>\n</g>\n<!-- 46&#45;&gt;48 -->\n<g id=\"edge48\" class=\"edge\">\n<title>46&#45;&gt;48</title>\n<path fill=\"none\" stroke=\"black\" d=\"M3064.47,-103.73C3065.38,-95.43 3066.34,-86.67 3067.26,-78.28\"/>\n<polygon fill=\"black\" stroke=\"black\" points=\"3070.74,-78.62 3068.35,-68.3 3063.78,-77.86 3070.74,-78.62\"/>\n</g>\n<!-- 50 -->\n<g id=\"node51\" class=\"node\">\n<title>50</title>\n<path fill=\"#ad7eee\" stroke=\"black\" d=\"M3265.5,-68C3265.5,-68 3164.5,-68 3164.5,-68 3158.5,-68 3152.5,-62 3152.5,-56 3152.5,-56 3152.5,-12 3152.5,-12 3152.5,-6 3158.5,0 3164.5,0 3164.5,0 3265.5,0 3265.5,0 3271.5,0 3277.5,-6 3277.5,-12 3277.5,-12 3277.5,-56 3277.5,-56 3277.5,-62 3271.5,-68 3265.5,-68\"/>\n<text text-anchor=\"start\" x=\"3167.5\" y=\"-52.8\" font-family=\"Helvetica,sans-Serif\" font-size=\"14.00\">entropy = 0.885</text>\n<text text-anchor=\"start\" x=\"3170\" y=\"-37.8\" font-family=\"Helvetica,sans-Serif\" font-size=\"14.00\">samples = 104</text>\n<text text-anchor=\"start\" x=\"3160.5\" y=\"-22.8\" font-family=\"Helvetica,sans-Serif\" font-size=\"14.00\">value = [26, 1, 77]</text>\n<text text-anchor=\"start\" x=\"3187.5\" y=\"-7.8\" font-family=\"Helvetica,sans-Serif\" font-size=\"14.00\">class = p</text>\n</g>\n<!-- 49&#45;&gt;50 -->\n<g id=\"edge50\" class=\"edge\">\n<title>49&#45;&gt;50</title>\n<path fill=\"none\" stroke=\"black\" d=\"M3223.16,-103.73C3222.17,-95.43 3221.13,-86.67 3220.14,-78.28\"/>\n<polygon fill=\"black\" stroke=\"black\" points=\"3223.61,-77.82 3218.95,-68.3 3216.66,-78.64 3223.61,-77.82\"/>\n</g>\n<!-- 51 -->\n<g id=\"node52\" class=\"node\">\n<title>51</title>\n<path fill=\"#f6f1fd\" stroke=\"black\" d=\"M3408.5,-68C3408.5,-68 3307.5,-68 3307.5,-68 3301.5,-68 3295.5,-62 3295.5,-56 3295.5,-56 3295.5,-12 3295.5,-12 3295.5,-6 3301.5,0 3307.5,0 3307.5,0 3408.5,0 3408.5,0 3414.5,0 3420.5,-6 3420.5,-12 3420.5,-12 3420.5,-56 3420.5,-56 3420.5,-62 3414.5,-68 3408.5,-68\"/>\n<text text-anchor=\"start\" x=\"3310.5\" y=\"-52.8\" font-family=\"Helvetica,sans-Serif\" font-size=\"14.00\">entropy = 1.141</text>\n<text text-anchor=\"start\" x=\"3317\" y=\"-37.8\" font-family=\"Helvetica,sans-Serif\" font-size=\"14.00\">samples = 81</text>\n<text text-anchor=\"start\" x=\"3303.5\" y=\"-22.8\" font-family=\"Helvetica,sans-Serif\" font-size=\"14.00\">value = [38, 2, 41]</text>\n<text text-anchor=\"start\" x=\"3330.5\" y=\"-7.8\" font-family=\"Helvetica,sans-Serif\" font-size=\"14.00\">class = p</text>\n</g>\n<!-- 49&#45;&gt;51 -->\n<g id=\"edge51\" class=\"edge\">\n<title>49&#45;&gt;51</title>\n<path fill=\"none\" stroke=\"black\" d=\"M3276.41,-103.73C3287.56,-94.33 3299.41,-84.35 3310.53,-74.99\"/>\n<polygon fill=\"black\" stroke=\"black\" points=\"3313.07,-77.42 3318.47,-68.3 3308.56,-72.06 3313.07,-77.42\"/>\n</g>\n<!-- 53 -->\n<g id=\"node54\" class=\"node\">\n<title>53</title>\n<path fill=\"#f4c7a8\" stroke=\"black\" d=\"M3616.5,-187C3616.5,-187 3497.5,-187 3497.5,-187 3491.5,-187 3485.5,-181 3485.5,-175 3485.5,-175 3485.5,-116 3485.5,-116 3485.5,-110 3491.5,-104 3497.5,-104 3497.5,-104 3616.5,-104 3616.5,-104 3622.5,-104 3628.5,-110 3628.5,-116 3628.5,-116 3628.5,-175 3628.5,-175 3628.5,-181 3622.5,-187 3616.5,-187\"/>\n<text text-anchor=\"start\" x=\"3493.5\" y=\"-171.8\" font-family=\"Helvetica,sans-Serif\" font-size=\"14.00\">LongestShell ≤ 1.903</text>\n<text text-anchor=\"start\" x=\"3509.5\" y=\"-156.8\" font-family=\"Helvetica,sans-Serif\" font-size=\"14.00\">entropy = 0.941</text>\n<text text-anchor=\"start\" x=\"3512\" y=\"-141.8\" font-family=\"Helvetica,sans-Serif\" font-size=\"14.00\">samples = 159</text>\n<text text-anchor=\"start\" x=\"3499\" y=\"-126.8\" font-family=\"Helvetica,sans-Serif\" font-size=\"14.00\">value = [102, 0, 57]</text>\n<text text-anchor=\"start\" x=\"3529.5\" y=\"-111.8\" font-family=\"Helvetica,sans-Serif\" font-size=\"14.00\">class = T</text>\n</g>\n<!-- 52&#45;&gt;53 -->\n<g id=\"edge53\" class=\"edge\">\n<title>52&#45;&gt;53</title>\n<path fill=\"none\" stroke=\"black\" d=\"M3557,-222.91C3557,-214.65 3557,-205.86 3557,-197.3\"/>\n<polygon fill=\"black\" stroke=\"black\" points=\"3560.5,-197.02 3557,-187.02 3553.5,-197.02 3560.5,-197.02\"/>\n</g>\n<!-- 56 -->\n<g id=\"node57\" class=\"node\">\n<title>56</title>\n<path fill=\"#c4a2f3\" stroke=\"black\" d=\"M3840,-187C3840,-187 3712,-187 3712,-187 3706,-187 3700,-181 3700,-175 3700,-175 3700,-116 3700,-116 3700,-110 3706,-104 3712,-104 3712,-104 3840,-104 3840,-104 3846,-104 3852,-110 3852,-116 3852,-116 3852,-175 3852,-175 3852,-181 3846,-187 3840,-187\"/>\n<text text-anchor=\"start\" x=\"3708\" y=\"-171.8\" font-family=\"Helvetica,sans-Serif\" font-size=\"14.00\">VisceraWeight ≤ 1.803</text>\n<text text-anchor=\"start\" x=\"3732\" y=\"-156.8\" font-family=\"Helvetica,sans-Serif\" font-size=\"14.00\">entropy = 0.93</text>\n<text text-anchor=\"start\" x=\"3735\" y=\"-141.8\" font-family=\"Helvetica,sans-Serif\" font-size=\"14.00\">samples = 55</text>\n<text text-anchor=\"start\" x=\"3721.5\" y=\"-126.8\" font-family=\"Helvetica,sans-Serif\" font-size=\"14.00\">value = [19, 0, 36]</text>\n<text text-anchor=\"start\" x=\"3748.5\" y=\"-111.8\" font-family=\"Helvetica,sans-Serif\" font-size=\"14.00\">class = p</text>\n</g>\n<!-- 52&#45;&gt;56 -->\n<g id=\"edge56\" class=\"edge\">\n<title>52&#45;&gt;56</title>\n<path fill=\"none\" stroke=\"black\" d=\"M3632.98,-222.91C3651.75,-212.88 3671.98,-202.07 3691.14,-191.84\"/>\n<polygon fill=\"black\" stroke=\"black\" points=\"3692.98,-194.82 3700.15,-187.02 3689.68,-188.65 3692.98,-194.82\"/>\n</g>\n<!-- 54 -->\n<g id=\"node55\" class=\"node\">\n<title>54</title>\n<path fill=\"#f3c4a2\" stroke=\"black\" d=\"M3559,-68C3559,-68 3451,-68 3451,-68 3445,-68 3439,-62 3439,-56 3439,-56 3439,-12 3439,-12 3439,-6 3445,0 3451,0 3451,0 3559,0 3559,0 3565,0 3571,-6 3571,-12 3571,-12 3571,-56 3571,-56 3571,-62 3565,-68 3559,-68\"/>\n<text text-anchor=\"start\" x=\"3457.5\" y=\"-52.8\" font-family=\"Helvetica,sans-Serif\" font-size=\"14.00\">entropy = 0.931</text>\n<text text-anchor=\"start\" x=\"3460\" y=\"-37.8\" font-family=\"Helvetica,sans-Serif\" font-size=\"14.00\">samples = 156</text>\n<text text-anchor=\"start\" x=\"3447\" y=\"-22.8\" font-family=\"Helvetica,sans-Serif\" font-size=\"14.00\">value = [102, 0, 54]</text>\n<text text-anchor=\"start\" x=\"3477.5\" y=\"-7.8\" font-family=\"Helvetica,sans-Serif\" font-size=\"14.00\">class = T</text>\n</g>\n<!-- 53&#45;&gt;54 -->\n<g id=\"edge54\" class=\"edge\">\n<title>53&#45;&gt;54</title>\n<path fill=\"none\" stroke=\"black\" d=\"M3537.64,-103.73C3533.57,-95.15 3529.26,-86.09 3525.16,-77.46\"/>\n<polygon fill=\"black\" stroke=\"black\" points=\"3528.26,-75.83 3520.81,-68.3 3521.94,-78.83 3528.26,-75.83\"/>\n</g>\n<!-- 55 -->\n<g id=\"node56\" class=\"node\">\n<title>55</title>\n<path fill=\"#8139e5\" stroke=\"black\" d=\"M3687,-68C3687,-68 3601,-68 3601,-68 3595,-68 3589,-62 3589,-56 3589,-56 3589,-12 3589,-12 3589,-6 3595,0 3601,0 3601,0 3687,0 3687,0 3693,0 3699,-6 3699,-12 3699,-12 3699,-56 3699,-56 3699,-62 3693,-68 3687,-68\"/>\n<text text-anchor=\"start\" x=\"3604\" y=\"-52.8\" font-family=\"Helvetica,sans-Serif\" font-size=\"14.00\">entropy = 0.0</text>\n<text text-anchor=\"start\" x=\"3606.5\" y=\"-37.8\" font-family=\"Helvetica,sans-Serif\" font-size=\"14.00\">samples = 3</text>\n<text text-anchor=\"start\" x=\"3597\" y=\"-22.8\" font-family=\"Helvetica,sans-Serif\" font-size=\"14.00\">value = [0, 0, 3]</text>\n<text text-anchor=\"start\" x=\"3616.5\" y=\"-7.8\" font-family=\"Helvetica,sans-Serif\" font-size=\"14.00\">class = p</text>\n</g>\n<!-- 53&#45;&gt;55 -->\n<g id=\"edge55\" class=\"edge\">\n<title>53&#45;&gt;55</title>\n<path fill=\"none\" stroke=\"black\" d=\"M3589.4,-103.73C3596.5,-94.79 3604.02,-85.32 3611.14,-76.36\"/>\n<polygon fill=\"black\" stroke=\"black\" points=\"3614.06,-78.31 3617.54,-68.3 3608.58,-73.95 3614.06,-78.31\"/>\n</g>\n<!-- 57 -->\n<g id=\"node58\" class=\"node\">\n<title>57</title>\n<path fill=\"#8139e5\" stroke=\"black\" d=\"M3822.5,-68C3822.5,-68 3729.5,-68 3729.5,-68 3723.5,-68 3717.5,-62 3717.5,-56 3717.5,-56 3717.5,-12 3717.5,-12 3717.5,-6 3723.5,0 3729.5,0 3729.5,0 3822.5,0 3822.5,0 3828.5,0 3834.5,-6 3834.5,-12 3834.5,-12 3834.5,-56 3834.5,-56 3834.5,-62 3828.5,-68 3822.5,-68\"/>\n<text text-anchor=\"start\" x=\"3736\" y=\"-52.8\" font-family=\"Helvetica,sans-Serif\" font-size=\"14.00\">entropy = 0.0</text>\n<text text-anchor=\"start\" x=\"3735\" y=\"-37.8\" font-family=\"Helvetica,sans-Serif\" font-size=\"14.00\">samples = 10</text>\n<text text-anchor=\"start\" x=\"3725.5\" y=\"-22.8\" font-family=\"Helvetica,sans-Serif\" font-size=\"14.00\">value = [0, 0, 10]</text>\n<text text-anchor=\"start\" x=\"3748.5\" y=\"-7.8\" font-family=\"Helvetica,sans-Serif\" font-size=\"14.00\">class = p</text>\n</g>\n<!-- 56&#45;&gt;57 -->\n<g id=\"edge57\" class=\"edge\">\n<title>56&#45;&gt;57</title>\n<path fill=\"none\" stroke=\"black\" d=\"M3776,-103.73C3776,-95.52 3776,-86.86 3776,-78.56\"/>\n<polygon fill=\"black\" stroke=\"black\" points=\"3779.5,-78.3 3776,-68.3 3772.5,-78.3 3779.5,-78.3\"/>\n</g>\n<!-- 58 -->\n<g id=\"node59\" class=\"node\">\n<title>58</title>\n<path fill=\"#ddcaf8\" stroke=\"black\" d=\"M3965.5,-68C3965.5,-68 3864.5,-68 3864.5,-68 3858.5,-68 3852.5,-62 3852.5,-56 3852.5,-56 3852.5,-12 3852.5,-12 3852.5,-6 3858.5,0 3864.5,0 3864.5,0 3965.5,0 3965.5,0 3971.5,0 3977.5,-6 3977.5,-12 3977.5,-12 3977.5,-56 3977.5,-56 3977.5,-62 3971.5,-68 3965.5,-68\"/>\n<text text-anchor=\"start\" x=\"3867.5\" y=\"-52.8\" font-family=\"Helvetica,sans-Serif\" font-size=\"14.00\">entropy = 0.982</text>\n<text text-anchor=\"start\" x=\"3874\" y=\"-37.8\" font-family=\"Helvetica,sans-Serif\" font-size=\"14.00\">samples = 45</text>\n<text text-anchor=\"start\" x=\"3860.5\" y=\"-22.8\" font-family=\"Helvetica,sans-Serif\" font-size=\"14.00\">value = [19, 0, 26]</text>\n<text text-anchor=\"start\" x=\"3887.5\" y=\"-7.8\" font-family=\"Helvetica,sans-Serif\" font-size=\"14.00\">class = p</text>\n</g>\n<!-- 56&#45;&gt;58 -->\n<g id=\"edge58\" class=\"edge\">\n<title>56&#45;&gt;58</title>\n<path fill=\"none\" stroke=\"black\" d=\"M3827.76,-103.73C3839.8,-94.24 3852.6,-84.16 3864.58,-74.72\"/>\n<polygon fill=\"black\" stroke=\"black\" points=\"3867.04,-77.24 3872.73,-68.3 3862.71,-71.74 3867.04,-77.24\"/>\n</g>\n</g>\n</svg>\n",
            "text/plain": [
              "<graphviz.sources.Source at 0x7f0faf0696f0>"
            ]
          },
          "metadata": {}
        }
      ]
    },
    {
      "cell_type": "code",
      "source": [
        "# print to the output file\n",
        "print('**************************************************************', file = outputFile)\n",
        "print('(A) Classifier 2 - Top DT', file = outputFile)\n",
        "print(classifier_2, file = outputFile)\n",
        "print(f'best parameters: {classifier_2.best_params_}\\n', file = outputFile)\n",
        "print('\\n', file = outputFile)\n",
        "outputFile.flush()"
      ],
      "metadata": {
        "id": "o8yWMcL873FK"
      },
      "execution_count": 425,
      "outputs": []
    },
    {
      "cell_type": "code",
      "source": [
        "# print classification report\n",
        "y_pred = classifier_2.predict(X_test)\n",
        "confusion_mat= confusion_matrix(y_test, y_pred)\n",
        "\n",
        "print(classification_report(y_test, y_pred, target_names=['F', 'M', 'I']))\n",
        "print(\"confusion matrix\\n\",confusion_mat)\n",
        "\n",
        "# print the result to the output file\n",
        "confusion_matrix_result =np.array2string(confusion_mat)\n",
        "print(\"(B) Confusion Matrix\", file = outputFile)\n",
        "print(confusion_matrix_result, file = outputFile)\n",
        "print('\\n', file = outputFile)\n",
        "print('(C,D) Classification Report', file = outputFile)\n",
        "print(classification_report(y_test, y_pred, target_names = ['F', 'M', 'I']), file = outputFile)\n",
        "outputFile.flush()"
      ],
      "metadata": {
        "id": "v88y-qmq73OR",
        "outputId": "b201715c-73d9-4c3e-b2f0-ec6308c6b202",
        "colab": {
          "base_uri": "https://localhost:8080/"
        }
      },
      "execution_count": 426,
      "outputs": [
        {
          "output_type": "stream",
          "name": "stdout",
          "text": [
            "              precision    recall  f1-score   support\n",
            "\n",
            "           F       0.44      0.21      0.28       392\n",
            "           M       0.69      0.79      0.73       423\n",
            "           I       0.48      0.63      0.54       439\n",
            "\n",
            "    accuracy                           0.55      1254\n",
            "   macro avg       0.53      0.54      0.52      1254\n",
            "weighted avg       0.54      0.55      0.53      1254\n",
            "\n",
            "confusion matrix\n",
            " [[ 81  65 246]\n",
            " [ 30 333  60]\n",
            " [ 73  88 278]]\n"
          ]
        }
      ]
    },
    {
      "cell_type": "code",
      "source": [
        "# repeat training & prediction 5 times for classifier 2\n",
        "from sklearn.metrics import accuracy_score, f1_score\n",
        "\n",
        "accuracy_baseDT = np.zeros(5)\n",
        "macro_avg_baseDT = np.zeros(5)\n",
        "weighted_avg_baseDT = np.zeros(5)\n",
        "\n",
        "for i in range(5):\n",
        "  X_train, X_test, y_train, y_test = train_test_split(X, y, test_size = 0.3)\n",
        "  classifier_2.fit(X_train, y_train)\n",
        "  y_pred = classifier_1.predict(X_test)\n",
        "\n",
        "  # find the accuracy for each iteration and store the value\n",
        "  accuracy_baseDT[i] = accuracy_score(y_test, y_pred)\n",
        "  macro_avg_baseDT[i] = f1_score(y_test, y_pred, average='macro')\n",
        "  weighted_avg_baseDT[i] = f1_score(y_test, y_pred, average='weighted')\n",
        "\n",
        "# compute the average accuracy & variances\n",
        "print(f'accuracy_baseDT: {accuracy_baseDT}')\n",
        "Avg_accuracy = (np.sum(accuracy_baseDT))/5\n",
        "accuracy_variance = np.var(accuracy_baseDT)\n",
        "print(f'average accuracy: {Avg_accuracy}, variance: {accuracy_variance}')\n",
        "\n",
        "# compute the average macro-average F1 & the variance\n",
        "print(f'macro_avg_baseDT: {macro_avg_baseDT}')\n",
        "Avg_macro_avg = (np.sum(macro_avg_baseDT))/5\n",
        "f1_macro_variance = np.var(macro_avg_baseDT)\n",
        "print(f'average macro-average F1: {Avg_macro_avg}, variance: {f1_macro_variance}')\n",
        "\n",
        "# compute the average weighted-average F1 & the variance\n",
        "print(f'weighted_avg_baseDT: {weighted_avg_baseDT}')\n",
        "Avg_weighted_avg = (np.sum(weighted_avg_baseDT))/5\n",
        "f1_weighted_variance = np.var(weighted_avg_baseDT)\n",
        "print(f'average weighted-average F1: {Avg_weighted_avg}, variance: {f1_weighted_variance}')"
      ],
      "metadata": {
        "colab": {
          "base_uri": "https://localhost:8080/"
        },
        "id": "ctr66poidV4P",
        "outputId": "c1961dc5-606a-4c70-e188-5c5a7ed3362b"
      },
      "execution_count": 427,
      "outputs": [
        {
          "output_type": "stream",
          "name": "stdout",
          "text": [
            "accuracy_baseDT: [0.55023923 0.5645933  0.55342903 0.53987241 0.56379585]\n",
            "average accuracy: 0.5543859649122806, variance: 8.429802940001865e-05\n",
            "macro_avg_baseDT: [0.5351551  0.5598719  0.5529945  0.53122035 0.55585016]\n",
            "average macro-average F1: 0.5470184009659562, variance: 0.00013384848349973468\n",
            "weighted_avg_baseDT: [0.53437591 0.55353653 0.54127376 0.52537484 0.55161169]\n",
            "average weighted-average F1: 0.5412345454088495, variance: 0.0001115193593936723\n"
          ]
        }
      ]
    },
    {
      "cell_type": "code",
      "source": [
        "# print the performance result to outputfile\n",
        "print('\\n(E) The result after 5 times of train-test repetition:' ,file = outputFile)\n",
        "print(f'average accuracy: {Avg_accuracy}, variance: {accuracy_variance}', file = outputFile)\n",
        "print(f'average macro-average F1: {Avg_macro_avg}, variance: {f1_macro_variance}', file = outputFile)\n",
        "print(f'average weighted-average F1: {Avg_weighted_avg}, variance: {f1_weighted_variance}', file = outputFile)\n",
        "outputFile.flush()"
      ],
      "metadata": {
        "id": "x9YFP9uEdV62"
      },
      "execution_count": 428,
      "outputs": []
    },
    {
      "cell_type": "markdown",
      "source": [
        "##### Classifier 3 - Base-MLP"
      ],
      "metadata": {
        "id": "GQrsfw6Xm1nI"
      }
    },
    {
      "cell_type": "code",
      "source": [
        "#Train Classifier 3\n",
        "mlp_base_abalone = MLPClassifier(hidden_layer_sizes =(100, 100,), activation = 'logistic', solver = 'sgd')\n",
        "mlp_base_abalone.fit(X_train, y_train)\n",
        "\n",
        "#print to the output file\n",
        "print('**************************************************************', file = outputFile)\n",
        "print('(A) Classifier 3 - Base MLP', file = outputFile)\n",
        "print(mlp_base_abalone, file = outputFile)\n",
        "print('\\n', file = outputFile)"
      ],
      "metadata": {
        "id": "MiIPiod7m7qC"
      },
      "execution_count": 429,
      "outputs": []
    },
    {
      "cell_type": "markdown",
      "source": [
        "Metrics for Classifier 3"
      ],
      "metadata": {
        "id": "1TD8ynkGoZAP"
      }
    },
    {
      "cell_type": "code",
      "source": [
        "#predict with Base MLP\n",
        "y_pred_base_mlp = mlp_base_abalone.predict(X_test)\n",
        "\n",
        "#print the result here on notebook\n",
        "print(classification_report(y_test, y_pred_base_mlp, target_names = ['F', 'M', 'I']))\n",
        "print(confusion_matrix(y_test, y_pred_base_mlp))\n",
        "\n",
        "#print the result to the output file\n",
        "print(classification_report(y_test, y_pred_base_mlp, target_names = ['F', 'M', 'I']), file = outputFile)\n",
        "confusion_matrix_result = np.array2string(confusion_matrix(y_test, y_pred_base_mlp))\n",
        "print(confusion_matrix_result, file = outputFile)\n",
        "outputFile.flush()"
      ],
      "metadata": {
        "id": "coh8LE0bocLA",
        "outputId": "21af9230-6f99-4488-99eb-9cc0992f3f45",
        "colab": {
          "base_uri": "https://localhost:8080/"
        }
      },
      "execution_count": 430,
      "outputs": [
        {
          "output_type": "stream",
          "name": "stdout",
          "text": [
            "              precision    recall  f1-score   support\n",
            "\n",
            "           F       0.30      0.01      0.02       380\n",
            "           M       0.66      0.74      0.70       423\n",
            "           I       0.45      0.77      0.57       451\n",
            "\n",
            "    accuracy                           0.53      1254\n",
            "   macro avg       0.47      0.50      0.43      1254\n",
            "weighted avg       0.48      0.53      0.44      1254\n",
            "\n",
            "[[  3  62 315]\n",
            " [  0 312 111]\n",
            " [  7  97 347]]\n"
          ]
        }
      ]
    },
    {
      "cell_type": "code",
      "source": [
        "train_test_repetition((100, 100,), 'logistic', 'sgd', X, y, outputFile, ['F', 'M', 'I'])"
      ],
      "metadata": {
        "id": "Ss7voSkYmhiK"
      },
      "execution_count": 431,
      "outputs": []
    },
    {
      "cell_type": "markdown",
      "source": [
        "##### Classifier 4 - Top-MLP"
      ],
      "metadata": {
        "id": "okD7I5KHnODP"
      }
    },
    {
      "cell_type": "code",
      "source": [
        "#create grid for each hyperparamter we want to test\n",
        "activation_grid = np.array(['logistic', 'tanh', 'relu'])\n",
        "neurons_tuple_grid = np.array([(30, 50,), (10, 10, 10,)])\n",
        "solver_grid = np.array(['adam', 'sgd'])\n",
        "\n",
        "#create parameter grid for GridSearchCV\n",
        "param_grid = {'hidden_layer_sizes': neurons_tuple_grid, 'activation': activation_grid, 'solver': solver_grid}\n",
        "\n",
        "#create grid cv object and search\n",
        "mlp_top_abalone = MLPClassifier()\n",
        "gridcv = sk.model_selection.GridSearchCV(mlp_top_abalone, param_grid = param_grid)\n",
        "gridcv.fit(X_train, y_train)\n",
        "\n",
        "#print the result here on notebook\n",
        "print(f'best parameters: {gridcv.best_params_}')\n",
        "\n",
        "#print the result to the output file\n",
        "print('**************************************************************', file = outputFile)\n",
        "print('(A) Classifier 4 - Top MLP', file = outputFile)\n",
        "print(f'best parameters: {gridcv.best_params_}\\n', file = outputFile)\n",
        "outputFile.flush()"
      ],
      "metadata": {
        "id": "mphIulW3nREP",
        "outputId": "c37f97ee-3501-415b-cd83-804b67145d65",
        "colab": {
          "base_uri": "https://localhost:8080/"
        }
      },
      "execution_count": 375,
      "outputs": [
        {
          "output_type": "stream",
          "name": "stdout",
          "text": [
            "best parameters: {'activation': 'tanh', 'hidden_layer_sizes': (10, 10, 10), 'solver': 'adam'}\n"
          ]
        }
      ]
    },
    {
      "cell_type": "markdown",
      "source": [
        "Metrics for Classifier 4"
      ],
      "metadata": {
        "id": "PXrrvETEpQNZ"
      }
    },
    {
      "cell_type": "code",
      "source": [
        "y_pred_top_mlp = gridcv.best_estimator_.predict(X_test)\n",
        "print(classification_report(y_test, y_pred_top_mlp, target_names = ['F', 'M', 'I']))\n",
        "print(confusion_matrix(y_test, y_pred_top_mlp))\n",
        "\n",
        "print(classification_report(y_test, y_pred_top_mlp, target_names = ['F', 'M', 'I']), file = outputFile)\n",
        "confusion_matrix_result = np.array2string(confusion_matrix(y_test, y_pred_top_mlp))\n",
        "print(confusion_matrix_result, file = outputFile)\n",
        "outputFile.flush()"
      ],
      "metadata": {
        "id": "KbwAcoZLpSQW",
        "outputId": "9568775a-6169-4424-d6d5-aabc72c7dccf",
        "colab": {
          "base_uri": "https://localhost:8080/"
        }
      },
      "execution_count": 376,
      "outputs": [
        {
          "output_type": "stream",
          "name": "stdout",
          "text": [
            "              precision    recall  f1-score   support\n",
            "\n",
            "           F       0.47      0.46      0.47       379\n",
            "           M       0.72      0.78      0.75       417\n",
            "           I       0.50      0.48      0.49       458\n",
            "\n",
            "    accuracy                           0.57      1254\n",
            "   macro avg       0.57      0.57      0.57      1254\n",
            "weighted avg       0.57      0.57      0.57      1254\n",
            "\n",
            "[[176  47 156]\n",
            " [ 34 324  59]\n",
            " [162  78 218]]\n"
          ]
        }
      ]
    },
    {
      "cell_type": "code",
      "source": [
        "train_test_repetition(gridcv.best_params_['hidden_layer_sizes'], gridcv.best_params_['activation'], gridcv.best_params_['solver'], X, y, outputFile, ['F', 'M', 'I'])"
      ],
      "metadata": {
        "id": "gTPJwcXCnwYK"
      },
      "execution_count": 377,
      "outputs": []
    },
    {
      "cell_type": "code",
      "source": [
        "outputFile.close()"
      ],
      "metadata": {
        "id": "4AxS7Io7pFta"
      },
      "execution_count": 378,
      "outputs": []
    }
  ]
}