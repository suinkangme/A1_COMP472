{
  "nbformat": 4,
  "nbformat_minor": 0,
  "metadata": {
    "colab": {
      "provenance": [],
      "collapsed_sections": [
        "n3GMoC3wzPte"
      ],
      "include_colab_link": true
    },
    "kernelspec": {
      "name": "python3",
      "display_name": "Python 3"
    },
    "language_info": {
      "name": "python"
    }
  },
  "cells": [
    {
      "cell_type": "markdown",
      "metadata": {
        "id": "view-in-github",
        "colab_type": "text"
      },
      "source": [
        "<a href=\"https://colab.research.google.com/github/suinkangme/A1_COMP472/blob/main/A1_COMP472.ipynb\" target=\"_parent\"><img src=\"https://colab.research.google.com/assets/colab-badge.svg\" alt=\"Open In Colab\"/></a>"
      ]
    },
    {
      "cell_type": "markdown",
      "source": [
        "# A1 - COMP 472\n",
        "\n",
        "Hyun Soo Kim 40174913\n",
        "\n",
        "Suin Kang 40129337"
      ],
      "metadata": {
        "id": "OuS04gqWrlBb"
      }
    },
    {
      "cell_type": "code",
      "source": [
        "import pandas as pd\n",
        "import sklearn as sk\n",
        "import numpy as np\n",
        "import matplotlib.pyplot as plt\n",
        "import seaborn as sns\n",
        "import graphviz\n",
        "from sklearn.metrics import classification_report\n",
        "from sklearn.metrics import confusion_matrix\n",
        "import warnings\n",
        "from sklearn.neural_network import MLPClassifier"
      ],
      "metadata": {
        "id": "plbuWv54rsMP"
      },
      "execution_count": 46,
      "outputs": []
    },
    {
      "cell_type": "markdown",
      "source": [
        "### Import the MyDrive library from CoLab"
      ],
      "metadata": {
        "id": "n3GMoC3wzPte"
      }
    },
    {
      "cell_type": "code",
      "source": [
        "from google.colab import drive\n",
        "drive.mount('/content/drive')\n",
        "\n",
        "# the directory owns this notebook and dataset\n",
        "import os\n",
        "os.chdir('/content/drive/MyDrive/comp472/')"
      ],
      "metadata": {
        "id": "QM05GBSaoZIy",
        "colab": {
          "base_uri": "https://localhost:8080/"
        },
        "outputId": "41baaa88-db50-4bbc-d1a3-45ce109f5f0d"
      },
      "execution_count": 2,
      "outputs": [
        {
          "output_type": "stream",
          "name": "stdout",
          "text": [
            "Mounted at /content/drive\n"
          ]
        }
      ]
    },
    {
      "cell_type": "markdown",
      "source": [
        "### Definition of train-test-repetition function\n",
        "- For Classifier 3 & 4"
      ],
      "metadata": {
        "id": "UQWo18d_G_Au"
      }
    },
    {
      "cell_type": "code",
      "source": [
        "def MLP_base_train_test_repetition(X, y, outputFile, target_names):\n",
        "  accuracy = []\n",
        "  macro_avg = []\n",
        "  weighted_avg = []\n",
        "\n",
        "  print(\"\\nBase MLP Train-Test Repetition\\n\", file = outputFile)\n",
        "\n",
        "  #repeat 5 times\n",
        "  for i in range (0,5):\n",
        "\n",
        "    #data is shuffled and scaled every time\n",
        "    X_train, X_test, y_train, y_test = train_test_split(X, y, test_size = 0.3)\n",
        "    sc = StandardScaler()\n",
        "    X_train = sc.fit_transform(X_train)\n",
        "    X_test = sc.transform(X_test)\n",
        "\n",
        "    #base MLP\n",
        "    #initialize new model with same hyperparameters\n",
        "    model = MLPClassifier(hidden_layer_sizes = (100, 100,), activation = 'logistic', solver = 'sgd')\n",
        "\n",
        "    #train and predict\n",
        "    model.fit(X_train, y_train)\n",
        "    y_pred = model.predict(X_test)\n",
        "\n",
        "    #for average accuracy / macro-average f1 score / weighted-average f1 score and variance calculation\n",
        "    output = classification_report(y_test, y_pred, target_names = target_names, output_dict = True)\n",
        "    accuracy.append(output['accuracy'])\n",
        "    macro_avg.append(output['macro avg']['f1-score'])\n",
        "    weighted_avg.append(output['weighted avg']['f1-score'])\n",
        "\n",
        "    #print to text file. This would make it easier to validate the result of each model\n",
        "    print(f'=== Iteration {i+1} === ', file = outputFile)\n",
        "    print(f\"(A) {model}\\n\", file = outputFile)\n",
        "    print(\"(B) Confusion Matrix\", file = outputFile)\n",
        "    confusion_matrix_result = confusion_matrix(y_test, y_pred)\n",
        "    print(confusion_matrix_result, file = outputFile)\n",
        "\n",
        "    print(\"\\n(C,D) Classification Report\", file = outputFile)\n",
        "    print(classification_report(y_test, y_pred, target_names = target_names), file =outputFile)\n",
        "\n",
        "  #append the calculation in the report\n",
        "  print('(E) The result after 5 times of train-test repetition:' ,file = outputFile)\n",
        "  print(f'\\tThe average accuracy / variance: {np.mean(accuracy): 6.4f}, {np.var(accuracy): 6.6f}', file = outputFile)\n",
        "  print(f'\\tThe average macro-average f1 score / variance: {np.mean(macro_avg): 6.4f}, {np.var(macro_avg): 6.6f}', file = outputFile)\n",
        "  print(f'\\tThe average weighted-average f1 score / variance: {np.mean(weighted_avg): 6.4f}, {np.var(weighted_avg): 6.6f}', file = outputFile)\n",
        "  print('\\n', file = outputFile)\n",
        "  outputFile.flush()"
      ],
      "metadata": {
        "id": "V7wnBMtiS7ns"
      },
      "execution_count": 49,
      "outputs": []
    },
    {
      "cell_type": "code",
      "source": [
        "def MLP_top_train_test_repetition(param_grid, X, y, outputFile, target_names):\n",
        "  accuracy = []\n",
        "  macro_avg = []\n",
        "  weighted_avg = []\n",
        "\n",
        "  print(\"\\nTop MLP Train-Test Repetition\\n\", file = outputFile)\n",
        "\n",
        "  #repeat 5 times\n",
        "  for i in range (0,5):\n",
        "\n",
        "    #data is shuffled and scaled every time\n",
        "    X_train, X_test, y_train, y_test = train_test_split(X, y, test_size = 0.3)\n",
        "    sc = StandardScaler()\n",
        "    X_train = sc.fit_transform(X_train)\n",
        "    X_test = sc.transform(X_test)\n",
        "\n",
        "    #top MLP\n",
        "    #initialize new model with same hyperparameters\n",
        "    gridcv = sk.model_selection.GridSearchCV(MLPClassifier(), param_grid = param_grid)\n",
        "    gridcv.fit(X_train, y_train)\n",
        "\n",
        "    #predict\n",
        "    y_pred = gridcv.best_estimator_.predict(X_test)\n",
        "\n",
        "    #for average accuracy / macro-average f1 score / weighted-average f1 score and variance calculation\n",
        "    output = classification_report(y_test, y_pred, target_names = target_names, output_dict = True)\n",
        "    accuracy.append(output['accuracy'])\n",
        "    macro_avg.append(output['macro avg']['f1-score'])\n",
        "    weighted_avg.append(output['weighted avg']['f1-score'])\n",
        "\n",
        "    #print to text file. This would make it easier to validate the result of each model\n",
        "    print(f'=== Iteration {i+1} === ', file = outputFile)\n",
        "    print(f\"(A) Best Parameters: {gridcv.best_params_}\", file = outputFile)\n",
        "    print(\"\\n(B) Confusion Matrix\", file = outputFile)\n",
        "    confusion_matrix_result = confusion_matrix(y_test, y_pred)\n",
        "    print(confusion_matrix_result, file = outputFile)\n",
        "\n",
        "    print(\"\\n(C,D) Classification Report\", file = outputFile)\n",
        "    print(classification_report(y_test, y_pred, target_names = target_names), file =outputFile)\n",
        "\n",
        "  #append the calculation in the report\n",
        "  print('(E) The result after 5 times of train-test repetition:' ,file = outputFile)\n",
        "  print(f'\\tThe average accuracy / variance: {np.mean(accuracy): 6.4f}, {np.var(accuracy): 6.6f}', file = outputFile)\n",
        "  print(f'\\tThe average macro-average f1 score / variance: {np.mean(macro_avg): 6.4f}, {np.var(macro_avg): 6.6f}', file = outputFile)\n",
        "  print(f'\\tThe average weighted-average f1 score / variance: {np.mean(weighted_avg): 6.4f}, {np.var(weighted_avg): 6.6f}', file = outputFile)\n",
        "  print('\\n', file = outputFile)\n",
        "  outputFile.flush()"
      ],
      "metadata": {
        "id": "wJbuEpDgTOo4"
      },
      "execution_count": 50,
      "outputs": []
    },
    {
      "cell_type": "markdown",
      "source": [
        "## Dataset - 'penguins.csv'\n",
        "- Goal : prediction of species\n",
        "(Adelie, Gentoo, Chinstap)"
      ],
      "metadata": {
        "id": "a0o_UdOEzTw_"
      }
    },
    {
      "cell_type": "code",
      "source": [
        "outputFile = open ('penguin-classes.txt', 'w')\n",
        "warnings.filterwarnings('ignore')"
      ],
      "metadata": {
        "id": "fmJJQACk9aQs"
      },
      "execution_count": 51,
      "outputs": []
    },
    {
      "cell_type": "code",
      "source": [
        "data_penguins = pd.read_csv('penguins.csv')\n",
        "data_penguins.head()"
      ],
      "metadata": {
        "id": "RdWPdNdHn_cP",
        "colab": {
          "base_uri": "https://localhost:8080/",
          "height": 206
        },
        "outputId": "59cca0e0-77aa-4cac-f8be-3a83e2c935a1"
      },
      "execution_count": 52,
      "outputs": [
        {
          "output_type": "execute_result",
          "data": {
            "text/plain": [
              "  species     island  culmen_length_mm  culmen_depth_mm  flipper_length_mm  \\\n",
              "0  Adelie  Torgersen              39.1             18.7                181   \n",
              "1  Adelie  Torgersen              39.5             17.4                186   \n",
              "2  Adelie  Torgersen              40.3             18.0                195   \n",
              "3  Adelie  Torgersen              36.7             19.3                193   \n",
              "4  Adelie  Torgersen              39.3             20.6                190   \n",
              "\n",
              "   body_mass_g     sex  \n",
              "0         3750    MALE  \n",
              "1         3800  FEMALE  \n",
              "2         3250  FEMALE  \n",
              "3         3450  FEMALE  \n",
              "4         3650    MALE  "
            ],
            "text/html": [
              "\n",
              "  <div id=\"df-b0492a2a-45ad-4db0-b50c-80ebb77d7756\" class=\"colab-df-container\">\n",
              "    <div>\n",
              "<style scoped>\n",
              "    .dataframe tbody tr th:only-of-type {\n",
              "        vertical-align: middle;\n",
              "    }\n",
              "\n",
              "    .dataframe tbody tr th {\n",
              "        vertical-align: top;\n",
              "    }\n",
              "\n",
              "    .dataframe thead th {\n",
              "        text-align: right;\n",
              "    }\n",
              "</style>\n",
              "<table border=\"1\" class=\"dataframe\">\n",
              "  <thead>\n",
              "    <tr style=\"text-align: right;\">\n",
              "      <th></th>\n",
              "      <th>species</th>\n",
              "      <th>island</th>\n",
              "      <th>culmen_length_mm</th>\n",
              "      <th>culmen_depth_mm</th>\n",
              "      <th>flipper_length_mm</th>\n",
              "      <th>body_mass_g</th>\n",
              "      <th>sex</th>\n",
              "    </tr>\n",
              "  </thead>\n",
              "  <tbody>\n",
              "    <tr>\n",
              "      <th>0</th>\n",
              "      <td>Adelie</td>\n",
              "      <td>Torgersen</td>\n",
              "      <td>39.1</td>\n",
              "      <td>18.7</td>\n",
              "      <td>181</td>\n",
              "      <td>3750</td>\n",
              "      <td>MALE</td>\n",
              "    </tr>\n",
              "    <tr>\n",
              "      <th>1</th>\n",
              "      <td>Adelie</td>\n",
              "      <td>Torgersen</td>\n",
              "      <td>39.5</td>\n",
              "      <td>17.4</td>\n",
              "      <td>186</td>\n",
              "      <td>3800</td>\n",
              "      <td>FEMALE</td>\n",
              "    </tr>\n",
              "    <tr>\n",
              "      <th>2</th>\n",
              "      <td>Adelie</td>\n",
              "      <td>Torgersen</td>\n",
              "      <td>40.3</td>\n",
              "      <td>18.0</td>\n",
              "      <td>195</td>\n",
              "      <td>3250</td>\n",
              "      <td>FEMALE</td>\n",
              "    </tr>\n",
              "    <tr>\n",
              "      <th>3</th>\n",
              "      <td>Adelie</td>\n",
              "      <td>Torgersen</td>\n",
              "      <td>36.7</td>\n",
              "      <td>19.3</td>\n",
              "      <td>193</td>\n",
              "      <td>3450</td>\n",
              "      <td>FEMALE</td>\n",
              "    </tr>\n",
              "    <tr>\n",
              "      <th>4</th>\n",
              "      <td>Adelie</td>\n",
              "      <td>Torgersen</td>\n",
              "      <td>39.3</td>\n",
              "      <td>20.6</td>\n",
              "      <td>190</td>\n",
              "      <td>3650</td>\n",
              "      <td>MALE</td>\n",
              "    </tr>\n",
              "  </tbody>\n",
              "</table>\n",
              "</div>\n",
              "    <div class=\"colab-df-buttons\">\n",
              "\n",
              "  <div class=\"colab-df-container\">\n",
              "    <button class=\"colab-df-convert\" onclick=\"convertToInteractive('df-b0492a2a-45ad-4db0-b50c-80ebb77d7756')\"\n",
              "            title=\"Convert this dataframe to an interactive table.\"\n",
              "            style=\"display:none;\">\n",
              "\n",
              "  <svg xmlns=\"http://www.w3.org/2000/svg\" height=\"24px\" viewBox=\"0 -960 960 960\">\n",
              "    <path d=\"M120-120v-720h720v720H120Zm60-500h600v-160H180v160Zm220 220h160v-160H400v160Zm0 220h160v-160H400v160ZM180-400h160v-160H180v160Zm440 0h160v-160H620v160ZM180-180h160v-160H180v160Zm440 0h160v-160H620v160Z\"/>\n",
              "  </svg>\n",
              "    </button>\n",
              "\n",
              "  <style>\n",
              "    .colab-df-container {\n",
              "      display:flex;\n",
              "      gap: 12px;\n",
              "    }\n",
              "\n",
              "    .colab-df-convert {\n",
              "      background-color: #E8F0FE;\n",
              "      border: none;\n",
              "      border-radius: 50%;\n",
              "      cursor: pointer;\n",
              "      display: none;\n",
              "      fill: #1967D2;\n",
              "      height: 32px;\n",
              "      padding: 0 0 0 0;\n",
              "      width: 32px;\n",
              "    }\n",
              "\n",
              "    .colab-df-convert:hover {\n",
              "      background-color: #E2EBFA;\n",
              "      box-shadow: 0px 1px 2px rgba(60, 64, 67, 0.3), 0px 1px 3px 1px rgba(60, 64, 67, 0.15);\n",
              "      fill: #174EA6;\n",
              "    }\n",
              "\n",
              "    .colab-df-buttons div {\n",
              "      margin-bottom: 4px;\n",
              "    }\n",
              "\n",
              "    [theme=dark] .colab-df-convert {\n",
              "      background-color: #3B4455;\n",
              "      fill: #D2E3FC;\n",
              "    }\n",
              "\n",
              "    [theme=dark] .colab-df-convert:hover {\n",
              "      background-color: #434B5C;\n",
              "      box-shadow: 0px 1px 3px 1px rgba(0, 0, 0, 0.15);\n",
              "      filter: drop-shadow(0px 1px 2px rgba(0, 0, 0, 0.3));\n",
              "      fill: #FFFFFF;\n",
              "    }\n",
              "  </style>\n",
              "\n",
              "    <script>\n",
              "      const buttonEl =\n",
              "        document.querySelector('#df-b0492a2a-45ad-4db0-b50c-80ebb77d7756 button.colab-df-convert');\n",
              "      buttonEl.style.display =\n",
              "        google.colab.kernel.accessAllowed ? 'block' : 'none';\n",
              "\n",
              "      async function convertToInteractive(key) {\n",
              "        const element = document.querySelector('#df-b0492a2a-45ad-4db0-b50c-80ebb77d7756');\n",
              "        const dataTable =\n",
              "          await google.colab.kernel.invokeFunction('convertToInteractive',\n",
              "                                                    [key], {});\n",
              "        if (!dataTable) return;\n",
              "\n",
              "        const docLinkHtml = 'Like what you see? Visit the ' +\n",
              "          '<a target=\"_blank\" href=https://colab.research.google.com/notebooks/data_table.ipynb>data table notebook</a>'\n",
              "          + ' to learn more about interactive tables.';\n",
              "        element.innerHTML = '';\n",
              "        dataTable['output_type'] = 'display_data';\n",
              "        await google.colab.output.renderOutput(dataTable, element);\n",
              "        const docLink = document.createElement('div');\n",
              "        docLink.innerHTML = docLinkHtml;\n",
              "        element.appendChild(docLink);\n",
              "      }\n",
              "    </script>\n",
              "  </div>\n",
              "\n",
              "\n",
              "<div id=\"df-a0bcb341-d803-4c4f-a059-1f67a09a84d6\">\n",
              "  <button class=\"colab-df-quickchart\" onclick=\"quickchart('df-a0bcb341-d803-4c4f-a059-1f67a09a84d6')\"\n",
              "            title=\"Suggest charts\"\n",
              "            style=\"display:none;\">\n",
              "\n",
              "<svg xmlns=\"http://www.w3.org/2000/svg\" height=\"24px\"viewBox=\"0 0 24 24\"\n",
              "     width=\"24px\">\n",
              "    <g>\n",
              "        <path d=\"M19 3H5c-1.1 0-2 .9-2 2v14c0 1.1.9 2 2 2h14c1.1 0 2-.9 2-2V5c0-1.1-.9-2-2-2zM9 17H7v-7h2v7zm4 0h-2V7h2v10zm4 0h-2v-4h2v4z\"/>\n",
              "    </g>\n",
              "</svg>\n",
              "  </button>\n",
              "\n",
              "<style>\n",
              "  .colab-df-quickchart {\n",
              "      --bg-color: #E8F0FE;\n",
              "      --fill-color: #1967D2;\n",
              "      --hover-bg-color: #E2EBFA;\n",
              "      --hover-fill-color: #174EA6;\n",
              "      --disabled-fill-color: #AAA;\n",
              "      --disabled-bg-color: #DDD;\n",
              "  }\n",
              "\n",
              "  [theme=dark] .colab-df-quickchart {\n",
              "      --bg-color: #3B4455;\n",
              "      --fill-color: #D2E3FC;\n",
              "      --hover-bg-color: #434B5C;\n",
              "      --hover-fill-color: #FFFFFF;\n",
              "      --disabled-bg-color: #3B4455;\n",
              "      --disabled-fill-color: #666;\n",
              "  }\n",
              "\n",
              "  .colab-df-quickchart {\n",
              "    background-color: var(--bg-color);\n",
              "    border: none;\n",
              "    border-radius: 50%;\n",
              "    cursor: pointer;\n",
              "    display: none;\n",
              "    fill: var(--fill-color);\n",
              "    height: 32px;\n",
              "    padding: 0;\n",
              "    width: 32px;\n",
              "  }\n",
              "\n",
              "  .colab-df-quickchart:hover {\n",
              "    background-color: var(--hover-bg-color);\n",
              "    box-shadow: 0 1px 2px rgba(60, 64, 67, 0.3), 0 1px 3px 1px rgba(60, 64, 67, 0.15);\n",
              "    fill: var(--button-hover-fill-color);\n",
              "  }\n",
              "\n",
              "  .colab-df-quickchart-complete:disabled,\n",
              "  .colab-df-quickchart-complete:disabled:hover {\n",
              "    background-color: var(--disabled-bg-color);\n",
              "    fill: var(--disabled-fill-color);\n",
              "    box-shadow: none;\n",
              "  }\n",
              "\n",
              "  .colab-df-spinner {\n",
              "    border: 2px solid var(--fill-color);\n",
              "    border-color: transparent;\n",
              "    border-bottom-color: var(--fill-color);\n",
              "    animation:\n",
              "      spin 1s steps(1) infinite;\n",
              "  }\n",
              "\n",
              "  @keyframes spin {\n",
              "    0% {\n",
              "      border-color: transparent;\n",
              "      border-bottom-color: var(--fill-color);\n",
              "      border-left-color: var(--fill-color);\n",
              "    }\n",
              "    20% {\n",
              "      border-color: transparent;\n",
              "      border-left-color: var(--fill-color);\n",
              "      border-top-color: var(--fill-color);\n",
              "    }\n",
              "    30% {\n",
              "      border-color: transparent;\n",
              "      border-left-color: var(--fill-color);\n",
              "      border-top-color: var(--fill-color);\n",
              "      border-right-color: var(--fill-color);\n",
              "    }\n",
              "    40% {\n",
              "      border-color: transparent;\n",
              "      border-right-color: var(--fill-color);\n",
              "      border-top-color: var(--fill-color);\n",
              "    }\n",
              "    60% {\n",
              "      border-color: transparent;\n",
              "      border-right-color: var(--fill-color);\n",
              "    }\n",
              "    80% {\n",
              "      border-color: transparent;\n",
              "      border-right-color: var(--fill-color);\n",
              "      border-bottom-color: var(--fill-color);\n",
              "    }\n",
              "    90% {\n",
              "      border-color: transparent;\n",
              "      border-bottom-color: var(--fill-color);\n",
              "    }\n",
              "  }\n",
              "</style>\n",
              "\n",
              "  <script>\n",
              "    async function quickchart(key) {\n",
              "      const quickchartButtonEl =\n",
              "        document.querySelector('#' + key + ' button');\n",
              "      quickchartButtonEl.disabled = true;  // To prevent multiple clicks.\n",
              "      quickchartButtonEl.classList.add('colab-df-spinner');\n",
              "      try {\n",
              "        const charts = await google.colab.kernel.invokeFunction(\n",
              "            'suggestCharts', [key], {});\n",
              "      } catch (error) {\n",
              "        console.error('Error during call to suggestCharts:', error);\n",
              "      }\n",
              "      quickchartButtonEl.classList.remove('colab-df-spinner');\n",
              "      quickchartButtonEl.classList.add('colab-df-quickchart-complete');\n",
              "    }\n",
              "    (() => {\n",
              "      let quickchartButtonEl =\n",
              "        document.querySelector('#df-a0bcb341-d803-4c4f-a059-1f67a09a84d6 button');\n",
              "      quickchartButtonEl.style.display =\n",
              "        google.colab.kernel.accessAllowed ? 'block' : 'none';\n",
              "    })();\n",
              "  </script>\n",
              "</div>\n",
              "    </div>\n",
              "  </div>\n"
            ]
          },
          "metadata": {},
          "execution_count": 52
        }
      ]
    },
    {
      "cell_type": "markdown",
      "source": [
        "#### Data Preprocessing\n",
        "- data encoding for categorical values: 'island', 'sex' column"
      ],
      "metadata": {
        "id": "skf8lGQB1Hpk"
      }
    },
    {
      "cell_type": "code",
      "source": [
        "from sklearn.preprocessing import OneHotEncoder\n",
        "\n",
        "island = np.array(data_penguins['island']).reshape(-1, 1)\n",
        "island_label = OneHotEncoder().fit_transform(island)\n",
        "data_penguins['island'] = island_label.toarray()\n",
        "\n",
        "df = pd.DataFrame({'island':['Torgersen','Biscoe','Dream']})\n",
        "pd.get_dummies(df)"
      ],
      "metadata": {
        "id": "bO_arEeWzl2p",
        "colab": {
          "base_uri": "https://localhost:8080/",
          "height": 143
        },
        "outputId": "69c35769-4645-4c48-f700-e0f82a3a0f5c"
      },
      "execution_count": 53,
      "outputs": [
        {
          "output_type": "execute_result",
          "data": {
            "text/plain": [
              "   island_Biscoe  island_Dream  island_Torgersen\n",
              "0              0             0                 1\n",
              "1              1             0                 0\n",
              "2              0             1                 0"
            ],
            "text/html": [
              "\n",
              "  <div id=\"df-12e3d957-e80e-4f7a-a51a-c00878847db8\" class=\"colab-df-container\">\n",
              "    <div>\n",
              "<style scoped>\n",
              "    .dataframe tbody tr th:only-of-type {\n",
              "        vertical-align: middle;\n",
              "    }\n",
              "\n",
              "    .dataframe tbody tr th {\n",
              "        vertical-align: top;\n",
              "    }\n",
              "\n",
              "    .dataframe thead th {\n",
              "        text-align: right;\n",
              "    }\n",
              "</style>\n",
              "<table border=\"1\" class=\"dataframe\">\n",
              "  <thead>\n",
              "    <tr style=\"text-align: right;\">\n",
              "      <th></th>\n",
              "      <th>island_Biscoe</th>\n",
              "      <th>island_Dream</th>\n",
              "      <th>island_Torgersen</th>\n",
              "    </tr>\n",
              "  </thead>\n",
              "  <tbody>\n",
              "    <tr>\n",
              "      <th>0</th>\n",
              "      <td>0</td>\n",
              "      <td>0</td>\n",
              "      <td>1</td>\n",
              "    </tr>\n",
              "    <tr>\n",
              "      <th>1</th>\n",
              "      <td>1</td>\n",
              "      <td>0</td>\n",
              "      <td>0</td>\n",
              "    </tr>\n",
              "    <tr>\n",
              "      <th>2</th>\n",
              "      <td>0</td>\n",
              "      <td>1</td>\n",
              "      <td>0</td>\n",
              "    </tr>\n",
              "  </tbody>\n",
              "</table>\n",
              "</div>\n",
              "    <div class=\"colab-df-buttons\">\n",
              "\n",
              "  <div class=\"colab-df-container\">\n",
              "    <button class=\"colab-df-convert\" onclick=\"convertToInteractive('df-12e3d957-e80e-4f7a-a51a-c00878847db8')\"\n",
              "            title=\"Convert this dataframe to an interactive table.\"\n",
              "            style=\"display:none;\">\n",
              "\n",
              "  <svg xmlns=\"http://www.w3.org/2000/svg\" height=\"24px\" viewBox=\"0 -960 960 960\">\n",
              "    <path d=\"M120-120v-720h720v720H120Zm60-500h600v-160H180v160Zm220 220h160v-160H400v160Zm0 220h160v-160H400v160ZM180-400h160v-160H180v160Zm440 0h160v-160H620v160ZM180-180h160v-160H180v160Zm440 0h160v-160H620v160Z\"/>\n",
              "  </svg>\n",
              "    </button>\n",
              "\n",
              "  <style>\n",
              "    .colab-df-container {\n",
              "      display:flex;\n",
              "      gap: 12px;\n",
              "    }\n",
              "\n",
              "    .colab-df-convert {\n",
              "      background-color: #E8F0FE;\n",
              "      border: none;\n",
              "      border-radius: 50%;\n",
              "      cursor: pointer;\n",
              "      display: none;\n",
              "      fill: #1967D2;\n",
              "      height: 32px;\n",
              "      padding: 0 0 0 0;\n",
              "      width: 32px;\n",
              "    }\n",
              "\n",
              "    .colab-df-convert:hover {\n",
              "      background-color: #E2EBFA;\n",
              "      box-shadow: 0px 1px 2px rgba(60, 64, 67, 0.3), 0px 1px 3px 1px rgba(60, 64, 67, 0.15);\n",
              "      fill: #174EA6;\n",
              "    }\n",
              "\n",
              "    .colab-df-buttons div {\n",
              "      margin-bottom: 4px;\n",
              "    }\n",
              "\n",
              "    [theme=dark] .colab-df-convert {\n",
              "      background-color: #3B4455;\n",
              "      fill: #D2E3FC;\n",
              "    }\n",
              "\n",
              "    [theme=dark] .colab-df-convert:hover {\n",
              "      background-color: #434B5C;\n",
              "      box-shadow: 0px 1px 3px 1px rgba(0, 0, 0, 0.15);\n",
              "      filter: drop-shadow(0px 1px 2px rgba(0, 0, 0, 0.3));\n",
              "      fill: #FFFFFF;\n",
              "    }\n",
              "  </style>\n",
              "\n",
              "    <script>\n",
              "      const buttonEl =\n",
              "        document.querySelector('#df-12e3d957-e80e-4f7a-a51a-c00878847db8 button.colab-df-convert');\n",
              "      buttonEl.style.display =\n",
              "        google.colab.kernel.accessAllowed ? 'block' : 'none';\n",
              "\n",
              "      async function convertToInteractive(key) {\n",
              "        const element = document.querySelector('#df-12e3d957-e80e-4f7a-a51a-c00878847db8');\n",
              "        const dataTable =\n",
              "          await google.colab.kernel.invokeFunction('convertToInteractive',\n",
              "                                                    [key], {});\n",
              "        if (!dataTable) return;\n",
              "\n",
              "        const docLinkHtml = 'Like what you see? Visit the ' +\n",
              "          '<a target=\"_blank\" href=https://colab.research.google.com/notebooks/data_table.ipynb>data table notebook</a>'\n",
              "          + ' to learn more about interactive tables.';\n",
              "        element.innerHTML = '';\n",
              "        dataTable['output_type'] = 'display_data';\n",
              "        await google.colab.output.renderOutput(dataTable, element);\n",
              "        const docLink = document.createElement('div');\n",
              "        docLink.innerHTML = docLinkHtml;\n",
              "        element.appendChild(docLink);\n",
              "      }\n",
              "    </script>\n",
              "  </div>\n",
              "\n",
              "\n",
              "<div id=\"df-f3c9f150-c9f7-4e29-80cc-5ad4d6ef52a2\">\n",
              "  <button class=\"colab-df-quickchart\" onclick=\"quickchart('df-f3c9f150-c9f7-4e29-80cc-5ad4d6ef52a2')\"\n",
              "            title=\"Suggest charts\"\n",
              "            style=\"display:none;\">\n",
              "\n",
              "<svg xmlns=\"http://www.w3.org/2000/svg\" height=\"24px\"viewBox=\"0 0 24 24\"\n",
              "     width=\"24px\">\n",
              "    <g>\n",
              "        <path d=\"M19 3H5c-1.1 0-2 .9-2 2v14c0 1.1.9 2 2 2h14c1.1 0 2-.9 2-2V5c0-1.1-.9-2-2-2zM9 17H7v-7h2v7zm4 0h-2V7h2v10zm4 0h-2v-4h2v4z\"/>\n",
              "    </g>\n",
              "</svg>\n",
              "  </button>\n",
              "\n",
              "<style>\n",
              "  .colab-df-quickchart {\n",
              "      --bg-color: #E8F0FE;\n",
              "      --fill-color: #1967D2;\n",
              "      --hover-bg-color: #E2EBFA;\n",
              "      --hover-fill-color: #174EA6;\n",
              "      --disabled-fill-color: #AAA;\n",
              "      --disabled-bg-color: #DDD;\n",
              "  }\n",
              "\n",
              "  [theme=dark] .colab-df-quickchart {\n",
              "      --bg-color: #3B4455;\n",
              "      --fill-color: #D2E3FC;\n",
              "      --hover-bg-color: #434B5C;\n",
              "      --hover-fill-color: #FFFFFF;\n",
              "      --disabled-bg-color: #3B4455;\n",
              "      --disabled-fill-color: #666;\n",
              "  }\n",
              "\n",
              "  .colab-df-quickchart {\n",
              "    background-color: var(--bg-color);\n",
              "    border: none;\n",
              "    border-radius: 50%;\n",
              "    cursor: pointer;\n",
              "    display: none;\n",
              "    fill: var(--fill-color);\n",
              "    height: 32px;\n",
              "    padding: 0;\n",
              "    width: 32px;\n",
              "  }\n",
              "\n",
              "  .colab-df-quickchart:hover {\n",
              "    background-color: var(--hover-bg-color);\n",
              "    box-shadow: 0 1px 2px rgba(60, 64, 67, 0.3), 0 1px 3px 1px rgba(60, 64, 67, 0.15);\n",
              "    fill: var(--button-hover-fill-color);\n",
              "  }\n",
              "\n",
              "  .colab-df-quickchart-complete:disabled,\n",
              "  .colab-df-quickchart-complete:disabled:hover {\n",
              "    background-color: var(--disabled-bg-color);\n",
              "    fill: var(--disabled-fill-color);\n",
              "    box-shadow: none;\n",
              "  }\n",
              "\n",
              "  .colab-df-spinner {\n",
              "    border: 2px solid var(--fill-color);\n",
              "    border-color: transparent;\n",
              "    border-bottom-color: var(--fill-color);\n",
              "    animation:\n",
              "      spin 1s steps(1) infinite;\n",
              "  }\n",
              "\n",
              "  @keyframes spin {\n",
              "    0% {\n",
              "      border-color: transparent;\n",
              "      border-bottom-color: var(--fill-color);\n",
              "      border-left-color: var(--fill-color);\n",
              "    }\n",
              "    20% {\n",
              "      border-color: transparent;\n",
              "      border-left-color: var(--fill-color);\n",
              "      border-top-color: var(--fill-color);\n",
              "    }\n",
              "    30% {\n",
              "      border-color: transparent;\n",
              "      border-left-color: var(--fill-color);\n",
              "      border-top-color: var(--fill-color);\n",
              "      border-right-color: var(--fill-color);\n",
              "    }\n",
              "    40% {\n",
              "      border-color: transparent;\n",
              "      border-right-color: var(--fill-color);\n",
              "      border-top-color: var(--fill-color);\n",
              "    }\n",
              "    60% {\n",
              "      border-color: transparent;\n",
              "      border-right-color: var(--fill-color);\n",
              "    }\n",
              "    80% {\n",
              "      border-color: transparent;\n",
              "      border-right-color: var(--fill-color);\n",
              "      border-bottom-color: var(--fill-color);\n",
              "    }\n",
              "    90% {\n",
              "      border-color: transparent;\n",
              "      border-bottom-color: var(--fill-color);\n",
              "    }\n",
              "  }\n",
              "</style>\n",
              "\n",
              "  <script>\n",
              "    async function quickchart(key) {\n",
              "      const quickchartButtonEl =\n",
              "        document.querySelector('#' + key + ' button');\n",
              "      quickchartButtonEl.disabled = true;  // To prevent multiple clicks.\n",
              "      quickchartButtonEl.classList.add('colab-df-spinner');\n",
              "      try {\n",
              "        const charts = await google.colab.kernel.invokeFunction(\n",
              "            'suggestCharts', [key], {});\n",
              "      } catch (error) {\n",
              "        console.error('Error during call to suggestCharts:', error);\n",
              "      }\n",
              "      quickchartButtonEl.classList.remove('colab-df-spinner');\n",
              "      quickchartButtonEl.classList.add('colab-df-quickchart-complete');\n",
              "    }\n",
              "    (() => {\n",
              "      let quickchartButtonEl =\n",
              "        document.querySelector('#df-f3c9f150-c9f7-4e29-80cc-5ad4d6ef52a2 button');\n",
              "      quickchartButtonEl.style.display =\n",
              "        google.colab.kernel.accessAllowed ? 'block' : 'none';\n",
              "    })();\n",
              "  </script>\n",
              "</div>\n",
              "    </div>\n",
              "  </div>\n"
            ]
          },
          "metadata": {},
          "execution_count": 53
        }
      ]
    },
    {
      "cell_type": "code",
      "source": [
        "from sklearn.preprocessing import LabelEncoder\n",
        "\n",
        "data_penguins['sex'] = LabelEncoder().fit_transform(data_penguins['sex'])"
      ],
      "metadata": {
        "id": "5T0LfRzozl4u"
      },
      "execution_count": 54,
      "outputs": []
    },
    {
      "cell_type": "markdown",
      "source": [
        "#### Plot the percentage of the instances"
      ],
      "metadata": {
        "id": "Ychlgawv36Yr"
      }
    },
    {
      "cell_type": "code",
      "source": [
        "# Check the output class is balanced\n",
        "penguins_labels = data_penguins['species']\n",
        "\n",
        "plt.figure(figsize=(10, 6))\n",
        "sns.countplot(x=penguins_labels)\n",
        "plt.title('Distribution of class label')\n",
        "plt.xlabel('Penguins')\n",
        "plt.ylabel('Frequency')\n",
        "\n",
        "# save as graphic\n",
        "plt.savefig('penguin-classes.png')"
      ],
      "metadata": {
        "colab": {
          "base_uri": "https://localhost:8080/",
          "height": 564
        },
        "id": "2_YBHCBg38nQ",
        "outputId": "003e1634-2e09-4755-d227-a108757107b8"
      },
      "execution_count": 55,
      "outputs": [
        {
          "output_type": "display_data",
          "data": {
            "text/plain": [
              "<Figure size 1000x600 with 1 Axes>"
            ],
            "image/png": "[encoded data removed]"
          },
          "metadata": {}
        }
      ]
    },
    {
      "cell_type": "markdown",
      "source": [
        "#### Dataset split into training & test set"
      ],
      "metadata": {
        "id": "YitW0dfF3zLc"
      }
    },
    {
      "cell_type": "code",
      "source": [
        "X = data_penguins.iloc[:, 1:].values\n",
        "y = data_penguins.iloc[:,0].values\n",
        "\n",
        "from sklearn.model_selection import train_test_split\n",
        "X_train, X_test, y_train, y_test = train_test_split(X, y, test_size = 0.3)"
      ],
      "metadata": {
        "id": "0wcAQElszl97"
      },
      "execution_count": 56,
      "outputs": []
    },
    {
      "cell_type": "code",
      "source": [
        "# perform feature scaling\n",
        "from sklearn.preprocessing import StandardScaler\n",
        "\n",
        "sc = StandardScaler()\n",
        "X_train = sc.fit_transform(X_train)\n",
        "X_test = sc.transform(X_test)"
      ],
      "metadata": {
        "id": "sThVNxcLzmAB"
      },
      "execution_count": 57,
      "outputs": []
    },
    {
      "cell_type": "markdown",
      "source": [
        "#### Train 4 different classifier"
      ],
      "metadata": {
        "id": "fWpPUU6EYP3T"
      }
    },
    {
      "cell_type": "markdown",
      "source": [
        "##### Classifier 1 - Base-DT"
      ],
      "metadata": {
        "id": "i1Wbs_2C3Q6E"
      }
    },
    {
      "cell_type": "code",
      "source": [
        "from sklearn.tree import DecisionTreeClassifier\n",
        "\n",
        "# Base Decision Tree\n",
        "classifier_1 = DecisionTreeClassifier()\n",
        "classifier_1.fit(X_train, y_train)"
      ],
      "metadata": {
        "id": "JN61PJ3W5jcb",
        "colab": {
          "base_uri": "https://localhost:8080/",
          "height": 75
        },
        "outputId": "5d2b402d-99e2-4caf-ca81-815cc3eabdba"
      },
      "execution_count": 58,
      "outputs": [
        {
          "output_type": "execute_result",
          "data": {
            "text/plain": [
              "DecisionTreeClassifier()"
            ],
            "text/html": [
              "<style>#sk-container-id-2 {color: black;background-color: white;}#sk-container-id-2 pre{padding: 0;}#sk-container-id-2 div.sk-toggleable {background-color: white;}#sk-container-id-2 label.sk-toggleable__label {cursor: pointer;display: block;width: 100%;margin-bottom: 0;padding: 0.3em;box-sizing: border-box;text-align: center;}#sk-container-id-2 label.sk-toggleable__label-arrow:before {content: \"▸\";float: left;margin-right: 0.25em;color: #696969;}#sk-container-id-2 label.sk-toggleable__label-arrow:hover:before {color: black;}#sk-container-id-2 div.sk-estimator:hover label.sk-toggleable__label-arrow:before {color: black;}#sk-container-id-2 div.sk-toggleable__content {max-height: 0;max-width: 0;overflow: hidden;text-align: left;background-color: #f0f8ff;}#sk-container-id-2 div.sk-toggleable__content pre {margin: 0.2em;color: black;border-radius: 0.25em;background-color: #f0f8ff;}#sk-container-id-2 input.sk-toggleable__control:checked~div.sk-toggleable__content {max-height: 200px;max-width: 100%;overflow: auto;}#sk-container-id-2 input.sk-toggleable__control:checked~label.sk-toggleable__label-arrow:before {content: \"▾\";}#sk-container-id-2 div.sk-estimator input.sk-toggleable__control:checked~label.sk-toggleable__label {background-color: #d4ebff;}#sk-container-id-2 div.sk-label input.sk-toggleable__control:checked~label.sk-toggleable__label {background-color: #d4ebff;}#sk-container-id-2 input.sk-hidden--visually {border: 0;clip: rect(1px 1px 1px 1px);clip: rect(1px, 1px, 1px, 1px);height: 1px;margin: -1px;overflow: hidden;padding: 0;position: absolute;width: 1px;}#sk-container-id-2 div.sk-estimator {font-family: monospace;background-color: #f0f8ff;border: 1px dotted black;border-radius: 0.25em;box-sizing: border-box;margin-bottom: 0.5em;}#sk-container-id-2 div.sk-estimator:hover {background-color: #d4ebff;}#sk-container-id-2 div.sk-parallel-item::after {content: \"\";width: 100%;border-bottom: 1px solid gray;flex-grow: 1;}#sk-container-id-2 div.sk-label:hover label.sk-toggleable__label {background-color: #d4ebff;}#sk-container-id-2 div.sk-serial::before {content: \"\";position: absolute;border-left: 1px solid gray;box-sizing: border-box;top: 0;bottom: 0;left: 50%;z-index: 0;}#sk-container-id-2 div.sk-serial {display: flex;flex-direction: column;align-items: center;background-color: white;padding-right: 0.2em;padding-left: 0.2em;position: relative;}#sk-container-id-2 div.sk-item {position: relative;z-index: 1;}#sk-container-id-2 div.sk-parallel {display: flex;align-items: stretch;justify-content: center;background-color: white;position: relative;}#sk-container-id-2 div.sk-item::before, #sk-container-id-2 div.sk-parallel-item::before {content: \"\";position: absolute;border-left: 1px solid gray;box-sizing: border-box;top: 0;bottom: 0;left: 50%;z-index: -1;}#sk-container-id-2 div.sk-parallel-item {display: flex;flex-direction: column;z-index: 1;position: relative;background-color: white;}#sk-container-id-2 div.sk-parallel-item:first-child::after {align-self: flex-end;width: 50%;}#sk-container-id-2 div.sk-parallel-item:last-child::after {align-self: flex-start;width: 50%;}#sk-container-id-2 div.sk-parallel-item:only-child::after {width: 0;}#sk-container-id-2 div.sk-dashed-wrapped {border: 1px dashed gray;margin: 0 0.4em 0.5em 0.4em;box-sizing: border-box;padding-bottom: 0.4em;background-color: white;}#sk-container-id-2 div.sk-label label {font-family: monospace;font-weight: bold;display: inline-block;line-height: 1.2em;}#sk-container-id-2 div.sk-label-container {text-align: center;}#sk-container-id-2 div.sk-container {/* jupyter's `normalize.less` sets `[hidden] { display: none; }` but bootstrap.min.css set `[hidden] { display: none !important; }` so we also need the `!important` here to be able to override the default hidden behavior on the sphinx rendered scikit-learn.org. See: https://github.com/scikit-learn/scikit-learn/issues/21755 */display: inline-block !important;position: relative;}#sk-container-id-2 div.sk-text-repr-fallback {display: none;}</style><div id=\"sk-container-id-2\" class=\"sk-top-container\"><div class=\"sk-text-repr-fallback\"><pre>DecisionTreeClassifier()</pre><b>In a Jupyter environment, please rerun this cell to show the HTML representation or trust the notebook. <br />On GitHub, the HTML representation is unable to render, please try loading this page with nbviewer.org.</b></div><div class=\"sk-container\" hidden><div class=\"sk-item\"><div class=\"sk-estimator sk-toggleable\"><input class=\"sk-toggleable__control sk-hidden--visually\" id=\"sk-estimator-id-2\" type=\"checkbox\" checked><label for=\"sk-estimator-id-2\" class=\"sk-toggleable__label sk-toggleable__label-arrow\">DecisionTreeClassifier</label><div class=\"sk-toggleable__content\"><pre>DecisionTreeClassifier()</pre></div></div></div></div></div>"
            ]
          },
          "metadata": {},
          "execution_count": 58
        }
      ]
    },
    {
      "cell_type": "code",
      "source": [
        "penguins_class = data_penguins.columns[0]\n",
        "penguins_features = list(data_penguins.columns[1:])"
      ],
      "metadata": {
        "id": "s_J2ed_v--zl"
      },
      "execution_count": 60,
      "outputs": []
    },
    {
      "cell_type": "code",
      "source": [
        "from sklearn import tree\n",
        "\n",
        "dot_data = tree.export_graphviz(classifier_1,\n",
        "                feature_names=penguins_features,\n",
        "                class_names=penguins_class,\n",
        "                filled=True, rounded=True,\n",
        "                special_characters=True)\n",
        "\n",
        "graph = graphviz.Source(dot_data)\n",
        "graph"
      ],
      "metadata": {
        "id": "hwomCGHCCnKt",
        "outputId": "da765a2b-0ada-4210-8ee0-7ae807c91590",
        "colab": {
          "base_uri": "https://localhost:8080/",
          "height": 917
        }
      },
      "execution_count": 61,
      "outputs": [
        {
          "output_type": "execute_result",
          "data": {
            "image/svg+xml": "<?xml version=\"1.0\" encoding=\"UTF-8\" standalone=\"no\"?>\n<!DOCTYPE svg PUBLIC \"-//W3C//DTD SVG 1.1//EN\"\n \"http://www.w3.org/Graphics/SVG/1.1/DTD/svg11.dtd\">\n<!-- Generated by graphviz version 2.43.0 (0)\n -->\n<!-- Title: Tree Pages: 1 -->\n<svg width=\"1207pt\" height=\"671pt\"\n viewBox=\"0.00 0.00 1206.50 671.00\" xmlns=\"http://www.w3.org/2000/svg\" xmlns:xlink=\"http://www.w3.org/1999/xlink\">\n<g id=\"graph0\" class=\"graph\" transform=\"scale(1 1) rotate(0) translate(4 667)\">\n<title>Tree</title>\n<polygon fill=\"white\" stroke=\"transparent\" points=\"-4,4 -4,-667 1202.5,-667 1202.5,4 -4,4\"/>\n<!-- 0 -->\n<g id=\"node1\" class=\"node\">\n<title>0</title>\n<path fill=\"#fbede2\" stroke=\"black\" d=\"M893,-663C893,-663 739,-663 739,-663 733,-663 727,-657 727,-651 727,-651 727,-592 727,-592 727,-586 733,-580 739,-580 739,-580 893,-580 893,-580 899,-580 905,-586 905,-592 905,-592 905,-651 905,-651 905,-657 899,-663 893,-663\"/>\n<text text-anchor=\"start\" x=\"735\" y=\"-647.8\" font-family=\"Helvetica,sans-Serif\" font-size=\"14.00\">flipper_length_mm ≤ 0.387</text>\n<text text-anchor=\"start\" x=\"784\" y=\"-632.8\" font-family=\"Helvetica,sans-Serif\" font-size=\"14.00\">gini = 0.64</text>\n<text text-anchor=\"start\" x=\"771\" y=\"-617.8\" font-family=\"Helvetica,sans-Serif\" font-size=\"14.00\">samples = 233</text>\n<text text-anchor=\"start\" x=\"754\" y=\"-602.8\" font-family=\"Helvetica,sans-Serif\" font-size=\"14.00\">value = [103, 49, 81]</text>\n<text text-anchor=\"start\" x=\"789\" y=\"-587.8\" font-family=\"Helvetica,sans-Serif\" font-size=\"14.00\">class = s</text>\n</g>\n<!-- 1 -->\n<g id=\"node2\" class=\"node\">\n<title>1</title>\n<path fill=\"#f1be98\" stroke=\"black\" d=\"M806,-544C806,-544 640,-544 640,-544 634,-544 628,-538 628,-532 628,-532 628,-473 628,-473 628,-467 634,-461 640,-461 640,-461 806,-461 806,-461 812,-461 818,-467 818,-473 818,-473 818,-532 818,-532 818,-538 812,-544 806,-544\"/>\n<text text-anchor=\"start\" x=\"636\" y=\"-528.8\" font-family=\"Helvetica,sans-Serif\" font-size=\"14.00\">culmen_length_mm ≤ &#45;0.118</text>\n<text text-anchor=\"start\" x=\"687.5\" y=\"-513.8\" font-family=\"Helvetica,sans-Serif\" font-size=\"14.00\">gini = 0.444</text>\n<text text-anchor=\"start\" x=\"678\" y=\"-498.8\" font-family=\"Helvetica,sans-Serif\" font-size=\"14.00\">samples = 150</text>\n<text text-anchor=\"start\" x=\"665\" y=\"-483.8\" font-family=\"Helvetica,sans-Serif\" font-size=\"14.00\">value = [101, 48, 1]</text>\n<text text-anchor=\"start\" x=\"696\" y=\"-468.8\" font-family=\"Helvetica,sans-Serif\" font-size=\"14.00\">class = s</text>\n</g>\n<!-- 0&#45;&gt;1 -->\n<g id=\"edge1\" class=\"edge\">\n<title>0&#45;&gt;1</title>\n<path fill=\"none\" stroke=\"black\" d=\"M783.73,-579.91C776.59,-570.92 768.96,-561.32 761.59,-552.05\"/>\n<polygon fill=\"black\" stroke=\"black\" points=\"764.17,-549.67 755.21,-544.02 758.69,-554.03 764.17,-549.67\"/>\n<text text-anchor=\"middle\" x=\"752.37\" y=\"-565.16\" font-family=\"Helvetica,sans-Serif\" font-size=\"14.00\">True</text>\n</g>\n<!-- 18 -->\n<g id=\"node19\" class=\"node\">\n<title>18</title>\n<path fill=\"#8640e6\" stroke=\"black\" d=\"M1018.5,-544C1018.5,-544 925.5,-544 925.5,-544 919.5,-544 913.5,-538 913.5,-532 913.5,-532 913.5,-473 913.5,-473 913.5,-467 919.5,-461 925.5,-461 925.5,-461 1018.5,-461 1018.5,-461 1024.5,-461 1030.5,-467 1030.5,-473 1030.5,-473 1030.5,-532 1030.5,-532 1030.5,-538 1024.5,-544 1018.5,-544\"/>\n<text text-anchor=\"start\" x=\"933.5\" y=\"-528.8\" font-family=\"Helvetica,sans-Serif\" font-size=\"14.00\">island ≤ 0.03</text>\n<text text-anchor=\"start\" x=\"940\" y=\"-513.8\" font-family=\"Helvetica,sans-Serif\" font-size=\"14.00\">gini = 0.07</text>\n<text text-anchor=\"start\" x=\"931\" y=\"-498.8\" font-family=\"Helvetica,sans-Serif\" font-size=\"14.00\">samples = 83</text>\n<text text-anchor=\"start\" x=\"921.5\" y=\"-483.8\" font-family=\"Helvetica,sans-Serif\" font-size=\"14.00\">value = [2, 1, 80]</text>\n<text text-anchor=\"start\" x=\"944.5\" y=\"-468.8\" font-family=\"Helvetica,sans-Serif\" font-size=\"14.00\">class = e</text>\n</g>\n<!-- 0&#45;&gt;18 -->\n<g id=\"edge18\" class=\"edge\">\n<title>0&#45;&gt;18</title>\n<path fill=\"none\" stroke=\"black\" d=\"M870.12,-579.91C882.95,-570.29 896.73,-559.95 909.88,-550.09\"/>\n<polygon fill=\"black\" stroke=\"black\" points=\"912.07,-552.82 917.97,-544.02 907.87,-547.22 912.07,-552.82\"/>\n<text text-anchor=\"middle\" x=\"914.44\" y=\"-565.07\" font-family=\"Helvetica,sans-Serif\" font-size=\"14.00\">False</text>\n</g>\n<!-- 2 -->\n<g id=\"node3\" class=\"node\">\n<title>2</title>\n<path fill=\"#e6853f\" stroke=\"black\" d=\"M552,-425C552,-425 386,-425 386,-425 380,-425 374,-419 374,-413 374,-413 374,-354 374,-354 374,-348 380,-342 386,-342 386,-342 552,-342 552,-342 558,-342 564,-348 564,-354 564,-354 564,-413 564,-413 564,-419 558,-425 552,-425\"/>\n<text text-anchor=\"start\" x=\"382\" y=\"-409.8\" font-family=\"Helvetica,sans-Serif\" font-size=\"14.00\">culmen_length_mm ≤ &#45;0.296</text>\n<text text-anchor=\"start\" x=\"433.5\" y=\"-394.8\" font-family=\"Helvetica,sans-Serif\" font-size=\"14.00\">gini = 0.058</text>\n<text text-anchor=\"start\" x=\"424\" y=\"-379.8\" font-family=\"Helvetica,sans-Serif\" font-size=\"14.00\">samples = 101</text>\n<text text-anchor=\"start\" x=\"418.5\" y=\"-364.8\" font-family=\"Helvetica,sans-Serif\" font-size=\"14.00\">value = [98, 3, 0]</text>\n<text text-anchor=\"start\" x=\"442\" y=\"-349.8\" font-family=\"Helvetica,sans-Serif\" font-size=\"14.00\">class = s</text>\n</g>\n<!-- 1&#45;&gt;2 -->\n<g id=\"edge2\" class=\"edge\">\n<title>1&#45;&gt;2</title>\n<path fill=\"none\" stroke=\"black\" d=\"M634.88,-460.91C612.71,-450.7 588.8,-439.68 566.22,-429.28\"/>\n<polygon fill=\"black\" stroke=\"black\" points=\"567.52,-426.03 556.97,-425.02 564.59,-432.38 567.52,-426.03\"/>\n</g>\n<!-- 11 -->\n<g id=\"node12\" class=\"node\">\n<title>11</title>\n<path fill=\"#4ae78c\" stroke=\"black\" d=\"M788.5,-425C788.5,-425 657.5,-425 657.5,-425 651.5,-425 645.5,-419 645.5,-413 645.5,-413 645.5,-354 645.5,-354 645.5,-348 651.5,-342 657.5,-342 657.5,-342 788.5,-342 788.5,-342 794.5,-342 800.5,-348 800.5,-354 800.5,-354 800.5,-413 800.5,-413 800.5,-419 794.5,-425 788.5,-425\"/>\n<text text-anchor=\"start\" x=\"653.5\" y=\"-409.8\" font-family=\"Helvetica,sans-Serif\" font-size=\"14.00\">body_mass_g ≤ &#45;0.017</text>\n<text text-anchor=\"start\" x=\"687.5\" y=\"-394.8\" font-family=\"Helvetica,sans-Serif\" font-size=\"14.00\">gini = 0.152</text>\n<text text-anchor=\"start\" x=\"682\" y=\"-379.8\" font-family=\"Helvetica,sans-Serif\" font-size=\"14.00\">samples = 49</text>\n<text text-anchor=\"start\" x=\"672.5\" y=\"-364.8\" font-family=\"Helvetica,sans-Serif\" font-size=\"14.00\">value = [3, 45, 1]</text>\n<text text-anchor=\"start\" x=\"695.5\" y=\"-349.8\" font-family=\"Helvetica,sans-Serif\" font-size=\"14.00\">class = p</text>\n</g>\n<!-- 1&#45;&gt;11 -->\n<g id=\"edge11\" class=\"edge\">\n<title>1&#45;&gt;11</title>\n<path fill=\"none\" stroke=\"black\" d=\"M723,-460.91C723,-452.65 723,-443.86 723,-435.3\"/>\n<polygon fill=\"black\" stroke=\"black\" points=\"726.5,-435.02 723,-425.02 719.5,-435.02 726.5,-435.02\"/>\n</g>\n<!-- 3 -->\n<g id=\"node4\" class=\"node\">\n<title>3</title>\n<path fill=\"#e5823b\" stroke=\"black\" d=\"M347.5,-306C347.5,-306 192.5,-306 192.5,-306 186.5,-306 180.5,-300 180.5,-294 180.5,-294 180.5,-235 180.5,-235 180.5,-229 186.5,-223 192.5,-223 192.5,-223 347.5,-223 347.5,-223 353.5,-223 359.5,-229 359.5,-235 359.5,-235 359.5,-294 359.5,-294 359.5,-300 353.5,-306 347.5,-306\"/>\n<text text-anchor=\"start\" x=\"188.5\" y=\"-290.8\" font-family=\"Helvetica,sans-Serif\" font-size=\"14.00\">culmen_depth_mm ≤ &#45;0.27</text>\n<text text-anchor=\"start\" x=\"234.5\" y=\"-275.8\" font-family=\"Helvetica,sans-Serif\" font-size=\"14.00\">gini = 0.021</text>\n<text text-anchor=\"start\" x=\"229\" y=\"-260.8\" font-family=\"Helvetica,sans-Serif\" font-size=\"14.00\">samples = 93</text>\n<text text-anchor=\"start\" x=\"219.5\" y=\"-245.8\" font-family=\"Helvetica,sans-Serif\" font-size=\"14.00\">value = [92, 1, 0]</text>\n<text text-anchor=\"start\" x=\"243\" y=\"-230.8\" font-family=\"Helvetica,sans-Serif\" font-size=\"14.00\">class = s</text>\n</g>\n<!-- 2&#45;&gt;3 -->\n<g id=\"edge3\" class=\"edge\">\n<title>2&#45;&gt;3</title>\n<path fill=\"none\" stroke=\"black\" d=\"M399.96,-341.91C383.13,-332.02 365.02,-321.37 347.82,-311.25\"/>\n<polygon fill=\"black\" stroke=\"black\" points=\"349.31,-308.07 338.92,-306.02 345.77,-314.11 349.31,-308.07\"/>\n</g>\n<!-- 8 -->\n<g id=\"node9\" class=\"node\">\n<title>8</title>\n<path fill=\"#eeab7b\" stroke=\"black\" d=\"M548,-306C548,-306 390,-306 390,-306 384,-306 378,-300 378,-294 378,-294 378,-235 378,-235 378,-229 384,-223 390,-223 390,-223 548,-223 548,-223 554,-223 560,-229 560,-235 560,-235 560,-294 560,-294 560,-300 554,-306 548,-306\"/>\n<text text-anchor=\"start\" x=\"386\" y=\"-290.8\" font-family=\"Helvetica,sans-Serif\" font-size=\"14.00\">culmen_depth_mm ≤ 0.327</text>\n<text text-anchor=\"start\" x=\"433.5\" y=\"-275.8\" font-family=\"Helvetica,sans-Serif\" font-size=\"14.00\">gini = 0.375</text>\n<text text-anchor=\"start\" x=\"431.5\" y=\"-260.8\" font-family=\"Helvetica,sans-Serif\" font-size=\"14.00\">samples = 8</text>\n<text text-anchor=\"start\" x=\"422\" y=\"-245.8\" font-family=\"Helvetica,sans-Serif\" font-size=\"14.00\">value = [6, 2, 0]</text>\n<text text-anchor=\"start\" x=\"442\" y=\"-230.8\" font-family=\"Helvetica,sans-Serif\" font-size=\"14.00\">class = s</text>\n</g>\n<!-- 2&#45;&gt;8 -->\n<g id=\"edge8\" class=\"edge\">\n<title>2&#45;&gt;8</title>\n<path fill=\"none\" stroke=\"black\" d=\"M469,-341.91C469,-333.65 469,-324.86 469,-316.3\"/>\n<polygon fill=\"black\" stroke=\"black\" points=\"472.5,-316.02 469,-306.02 465.5,-316.02 472.5,-316.02\"/>\n</g>\n<!-- 4 -->\n<g id=\"node5\" class=\"node\">\n<title>4</title>\n<path fill=\"#e89152\" stroke=\"black\" d=\"M198,-187C198,-187 40,-187 40,-187 34,-187 28,-181 28,-175 28,-175 28,-116 28,-116 28,-110 34,-104 40,-104 40,-104 198,-104 198,-104 204,-104 210,-110 210,-116 210,-116 210,-175 210,-175 210,-181 204,-187 198,-187\"/>\n<text text-anchor=\"start\" x=\"36\" y=\"-171.8\" font-family=\"Helvetica,sans-Serif\" font-size=\"14.00\">culmen_length_mm ≤ &#45;0.84</text>\n<text text-anchor=\"start\" x=\"83.5\" y=\"-156.8\" font-family=\"Helvetica,sans-Serif\" font-size=\"14.00\">gini = 0.198</text>\n<text text-anchor=\"start\" x=\"81.5\" y=\"-141.8\" font-family=\"Helvetica,sans-Serif\" font-size=\"14.00\">samples = 9</text>\n<text text-anchor=\"start\" x=\"72\" y=\"-126.8\" font-family=\"Helvetica,sans-Serif\" font-size=\"14.00\">value = [8, 1, 0]</text>\n<text text-anchor=\"start\" x=\"92\" y=\"-111.8\" font-family=\"Helvetica,sans-Serif\" font-size=\"14.00\">class = s</text>\n</g>\n<!-- 3&#45;&gt;4 -->\n<g id=\"edge4\" class=\"edge\">\n<title>3&#45;&gt;4</title>\n<path fill=\"none\" stroke=\"black\" d=\"M217.61,-222.91C205.31,-213.38 192.11,-203.15 179.49,-193.37\"/>\n<polygon fill=\"black\" stroke=\"black\" points=\"181.34,-190.38 171.3,-187.02 177.06,-195.91 181.34,-190.38\"/>\n</g>\n<!-- 7 -->\n<g id=\"node8\" class=\"node\">\n<title>7</title>\n<path fill=\"#e58139\" stroke=\"black\" d=\"M333.5,-179.5C333.5,-179.5 240.5,-179.5 240.5,-179.5 234.5,-179.5 228.5,-173.5 228.5,-167.5 228.5,-167.5 228.5,-123.5 228.5,-123.5 228.5,-117.5 234.5,-111.5 240.5,-111.5 240.5,-111.5 333.5,-111.5 333.5,-111.5 339.5,-111.5 345.5,-117.5 345.5,-123.5 345.5,-123.5 345.5,-167.5 345.5,-167.5 345.5,-173.5 339.5,-179.5 333.5,-179.5\"/>\n<text text-anchor=\"start\" x=\"259\" y=\"-164.3\" font-family=\"Helvetica,sans-Serif\" font-size=\"14.00\">gini = 0.0</text>\n<text text-anchor=\"start\" x=\"246\" y=\"-149.3\" font-family=\"Helvetica,sans-Serif\" font-size=\"14.00\">samples = 84</text>\n<text text-anchor=\"start\" x=\"236.5\" y=\"-134.3\" font-family=\"Helvetica,sans-Serif\" font-size=\"14.00\">value = [84, 0, 0]</text>\n<text text-anchor=\"start\" x=\"260\" y=\"-119.3\" font-family=\"Helvetica,sans-Serif\" font-size=\"14.00\">class = s</text>\n</g>\n<!-- 3&#45;&gt;7 -->\n<g id=\"edge7\" class=\"edge\">\n<title>3&#45;&gt;7</title>\n<path fill=\"none\" stroke=\"black\" d=\"M275.9,-222.91C277.45,-212.2 279.14,-200.62 280.71,-189.78\"/>\n<polygon fill=\"black\" stroke=\"black\" points=\"284.21,-190.07 282.18,-179.67 277.28,-189.06 284.21,-190.07\"/>\n</g>\n<!-- 5 -->\n<g id=\"node6\" class=\"node\">\n<title>5</title>\n<path fill=\"#e58139\" stroke=\"black\" d=\"M98,-68C98,-68 12,-68 12,-68 6,-68 0,-62 0,-56 0,-56 0,-12 0,-12 0,-6 6,0 12,0 12,0 98,0 98,0 104,0 110,-6 110,-12 110,-12 110,-56 110,-56 110,-62 104,-68 98,-68\"/>\n<text text-anchor=\"start\" x=\"27\" y=\"-52.8\" font-family=\"Helvetica,sans-Serif\" font-size=\"14.00\">gini = 0.0</text>\n<text text-anchor=\"start\" x=\"17.5\" y=\"-37.8\" font-family=\"Helvetica,sans-Serif\" font-size=\"14.00\">samples = 8</text>\n<text text-anchor=\"start\" x=\"8\" y=\"-22.8\" font-family=\"Helvetica,sans-Serif\" font-size=\"14.00\">value = [8, 0, 0]</text>\n<text text-anchor=\"start\" x=\"28\" y=\"-7.8\" font-family=\"Helvetica,sans-Serif\" font-size=\"14.00\">class = s</text>\n</g>\n<!-- 4&#45;&gt;5 -->\n<g id=\"edge5\" class=\"edge\">\n<title>4&#45;&gt;5</title>\n<path fill=\"none\" stroke=\"black\" d=\"M95.17,-103.73C90.1,-95.06 84.75,-85.9 79.65,-77.18\"/>\n<polygon fill=\"black\" stroke=\"black\" points=\"82.53,-75.17 74.46,-68.3 76.49,-78.7 82.53,-75.17\"/>\n</g>\n<!-- 6 -->\n<g id=\"node7\" class=\"node\">\n<title>6</title>\n<path fill=\"#39e581\" stroke=\"black\" d=\"M226,-68C226,-68 140,-68 140,-68 134,-68 128,-62 128,-56 128,-56 128,-12 128,-12 128,-6 134,0 140,0 140,0 226,0 226,0 232,0 238,-6 238,-12 238,-12 238,-56 238,-56 238,-62 232,-68 226,-68\"/>\n<text text-anchor=\"start\" x=\"155\" y=\"-52.8\" font-family=\"Helvetica,sans-Serif\" font-size=\"14.00\">gini = 0.0</text>\n<text text-anchor=\"start\" x=\"145.5\" y=\"-37.8\" font-family=\"Helvetica,sans-Serif\" font-size=\"14.00\">samples = 1</text>\n<text text-anchor=\"start\" x=\"136\" y=\"-22.8\" font-family=\"Helvetica,sans-Serif\" font-size=\"14.00\">value = [0, 1, 0]</text>\n<text text-anchor=\"start\" x=\"155.5\" y=\"-7.8\" font-family=\"Helvetica,sans-Serif\" font-size=\"14.00\">class = p</text>\n</g>\n<!-- 4&#45;&gt;6 -->\n<g id=\"edge6\" class=\"edge\">\n<title>4&#45;&gt;6</title>\n<path fill=\"none\" stroke=\"black\" d=\"M142.83,-103.73C147.9,-95.06 153.25,-85.9 158.35,-77.18\"/>\n<polygon fill=\"black\" stroke=\"black\" points=\"161.51,-78.7 163.54,-68.3 155.47,-75.17 161.51,-78.7\"/>\n</g>\n<!-- 9 -->\n<g id=\"node10\" class=\"node\">\n<title>9</title>\n<path fill=\"#39e581\" stroke=\"black\" d=\"M495,-179.5C495,-179.5 409,-179.5 409,-179.5 403,-179.5 397,-173.5 397,-167.5 397,-167.5 397,-123.5 397,-123.5 397,-117.5 403,-111.5 409,-111.5 409,-111.5 495,-111.5 495,-111.5 501,-111.5 507,-117.5 507,-123.5 507,-123.5 507,-167.5 507,-167.5 507,-173.5 501,-179.5 495,-179.5\"/>\n<text text-anchor=\"start\" x=\"424\" y=\"-164.3\" font-family=\"Helvetica,sans-Serif\" font-size=\"14.00\">gini = 0.0</text>\n<text text-anchor=\"start\" x=\"414.5\" y=\"-149.3\" font-family=\"Helvetica,sans-Serif\" font-size=\"14.00\">samples = 2</text>\n<text text-anchor=\"start\" x=\"405\" y=\"-134.3\" font-family=\"Helvetica,sans-Serif\" font-size=\"14.00\">value = [0, 2, 0]</text>\n<text text-anchor=\"start\" x=\"424.5\" y=\"-119.3\" font-family=\"Helvetica,sans-Serif\" font-size=\"14.00\">class = p</text>\n</g>\n<!-- 8&#45;&gt;9 -->\n<g id=\"edge9\" class=\"edge\">\n<title>8&#45;&gt;9</title>\n<path fill=\"none\" stroke=\"black\" d=\"M463.1,-222.91C461.55,-212.2 459.86,-200.62 458.29,-189.78\"/>\n<polygon fill=\"black\" stroke=\"black\" points=\"461.72,-189.06 456.82,-179.67 454.79,-190.07 461.72,-189.06\"/>\n</g>\n<!-- 10 -->\n<g id=\"node11\" class=\"node\">\n<title>10</title>\n<path fill=\"#e58139\" stroke=\"black\" d=\"M623,-179.5C623,-179.5 537,-179.5 537,-179.5 531,-179.5 525,-173.5 525,-167.5 525,-167.5 525,-123.5 525,-123.5 525,-117.5 531,-111.5 537,-111.5 537,-111.5 623,-111.5 623,-111.5 629,-111.5 635,-117.5 635,-123.5 635,-123.5 635,-167.5 635,-167.5 635,-173.5 629,-179.5 623,-179.5\"/>\n<text text-anchor=\"start\" x=\"552\" y=\"-164.3\" font-family=\"Helvetica,sans-Serif\" font-size=\"14.00\">gini = 0.0</text>\n<text text-anchor=\"start\" x=\"542.5\" y=\"-149.3\" font-family=\"Helvetica,sans-Serif\" font-size=\"14.00\">samples = 6</text>\n<text text-anchor=\"start\" x=\"533\" y=\"-134.3\" font-family=\"Helvetica,sans-Serif\" font-size=\"14.00\">value = [6, 0, 0]</text>\n<text text-anchor=\"start\" x=\"553\" y=\"-119.3\" font-family=\"Helvetica,sans-Serif\" font-size=\"14.00\">class = s</text>\n</g>\n<!-- 8&#45;&gt;10 -->\n<g id=\"edge10\" class=\"edge\">\n<title>8&#45;&gt;10</title>\n<path fill=\"none\" stroke=\"black\" d=\"M507.51,-222.91C518.5,-211.32 530.48,-198.7 541.47,-187.11\"/>\n<polygon fill=\"black\" stroke=\"black\" points=\"544.19,-189.33 548.53,-179.67 539.11,-184.51 544.19,-189.33\"/>\n</g>\n<!-- 12 -->\n<g id=\"node13\" class=\"node\">\n<title>12</title>\n<path fill=\"#39e581\" stroke=\"black\" d=\"M683.5,-298.5C683.5,-298.5 590.5,-298.5 590.5,-298.5 584.5,-298.5 578.5,-292.5 578.5,-286.5 578.5,-286.5 578.5,-242.5 578.5,-242.5 578.5,-236.5 584.5,-230.5 590.5,-230.5 590.5,-230.5 683.5,-230.5 683.5,-230.5 689.5,-230.5 695.5,-236.5 695.5,-242.5 695.5,-242.5 695.5,-286.5 695.5,-286.5 695.5,-292.5 689.5,-298.5 683.5,-298.5\"/>\n<text text-anchor=\"start\" x=\"609\" y=\"-283.3\" font-family=\"Helvetica,sans-Serif\" font-size=\"14.00\">gini = 0.0</text>\n<text text-anchor=\"start\" x=\"596\" y=\"-268.3\" font-family=\"Helvetica,sans-Serif\" font-size=\"14.00\">samples = 41</text>\n<text text-anchor=\"start\" x=\"586.5\" y=\"-253.3\" font-family=\"Helvetica,sans-Serif\" font-size=\"14.00\">value = [0, 41, 0]</text>\n<text text-anchor=\"start\" x=\"609.5\" y=\"-238.3\" font-family=\"Helvetica,sans-Serif\" font-size=\"14.00\">class = p</text>\n</g>\n<!-- 11&#45;&gt;12 -->\n<g id=\"edge12\" class=\"edge\">\n<title>11&#45;&gt;12</title>\n<path fill=\"none\" stroke=\"black\" d=\"M693.16,-341.91C684.81,-330.54 675.72,-318.18 667.34,-306.77\"/>\n<polygon fill=\"black\" stroke=\"black\" points=\"670.12,-304.65 661.38,-298.67 664.48,-308.8 670.12,-304.65\"/>\n</g>\n<!-- 13 -->\n<g id=\"node14\" class=\"node\">\n<title>13</title>\n<path fill=\"#d7fae6\" stroke=\"black\" d=\"M886.5,-306C886.5,-306 725.5,-306 725.5,-306 719.5,-306 713.5,-300 713.5,-294 713.5,-294 713.5,-235 713.5,-235 713.5,-229 719.5,-223 725.5,-223 725.5,-223 886.5,-223 886.5,-223 892.5,-223 898.5,-229 898.5,-235 898.5,-235 898.5,-294 898.5,-294 898.5,-300 892.5,-306 886.5,-306\"/>\n<text text-anchor=\"start\" x=\"721.5\" y=\"-290.8\" font-family=\"Helvetica,sans-Serif\" font-size=\"14.00\">culmen_length_mm ≤ 0.996</text>\n<text text-anchor=\"start\" x=\"770.5\" y=\"-275.8\" font-family=\"Helvetica,sans-Serif\" font-size=\"14.00\">gini = 0.594</text>\n<text text-anchor=\"start\" x=\"768.5\" y=\"-260.8\" font-family=\"Helvetica,sans-Serif\" font-size=\"14.00\">samples = 8</text>\n<text text-anchor=\"start\" x=\"759\" y=\"-245.8\" font-family=\"Helvetica,sans-Serif\" font-size=\"14.00\">value = [3, 4, 1]</text>\n<text text-anchor=\"start\" x=\"778.5\" y=\"-230.8\" font-family=\"Helvetica,sans-Serif\" font-size=\"14.00\">class = p</text>\n</g>\n<!-- 11&#45;&gt;13 -->\n<g id=\"edge13\" class=\"edge\">\n<title>11&#45;&gt;13</title>\n<path fill=\"none\" stroke=\"black\" d=\"M751.8,-341.91C758.11,-333.01 764.85,-323.51 771.36,-314.33\"/>\n<polygon fill=\"black\" stroke=\"black\" points=\"774.32,-316.2 777.25,-306.02 768.61,-312.15 774.32,-316.2\"/>\n</g>\n<!-- 14 -->\n<g id=\"node15\" class=\"node\">\n<title>14</title>\n<path fill=\"#eeab7b\" stroke=\"black\" d=\"M856.5,-187C856.5,-187 695.5,-187 695.5,-187 689.5,-187 683.5,-181 683.5,-175 683.5,-175 683.5,-116 683.5,-116 683.5,-110 689.5,-104 695.5,-104 695.5,-104 856.5,-104 856.5,-104 862.5,-104 868.5,-110 868.5,-116 868.5,-116 868.5,-175 868.5,-175 868.5,-181 862.5,-187 856.5,-187\"/>\n<text text-anchor=\"start\" x=\"691.5\" y=\"-171.8\" font-family=\"Helvetica,sans-Serif\" font-size=\"14.00\">culmen_length_mm ≤ 0.569</text>\n<text text-anchor=\"start\" x=\"740.5\" y=\"-156.8\" font-family=\"Helvetica,sans-Serif\" font-size=\"14.00\">gini = 0.375</text>\n<text text-anchor=\"start\" x=\"738.5\" y=\"-141.8\" font-family=\"Helvetica,sans-Serif\" font-size=\"14.00\">samples = 4</text>\n<text text-anchor=\"start\" x=\"729\" y=\"-126.8\" font-family=\"Helvetica,sans-Serif\" font-size=\"14.00\">value = [3, 0, 1]</text>\n<text text-anchor=\"start\" x=\"749\" y=\"-111.8\" font-family=\"Helvetica,sans-Serif\" font-size=\"14.00\">class = s</text>\n</g>\n<!-- 13&#45;&gt;14 -->\n<g id=\"edge14\" class=\"edge\">\n<title>13&#45;&gt;14</title>\n<path fill=\"none\" stroke=\"black\" d=\"M795.59,-222.91C793.43,-214.47 791.12,-205.48 788.88,-196.74\"/>\n<polygon fill=\"black\" stroke=\"black\" points=\"792.26,-195.84 786.39,-187.02 785.48,-197.58 792.26,-195.84\"/>\n</g>\n<!-- 17 -->\n<g id=\"node18\" class=\"node\">\n<title>17</title>\n<path fill=\"#39e581\" stroke=\"black\" d=\"M985,-179.5C985,-179.5 899,-179.5 899,-179.5 893,-179.5 887,-173.5 887,-167.5 887,-167.5 887,-123.5 887,-123.5 887,-117.5 893,-111.5 899,-111.5 899,-111.5 985,-111.5 985,-111.5 991,-111.5 997,-117.5 997,-123.5 997,-123.5 997,-167.5 997,-167.5 997,-173.5 991,-179.5 985,-179.5\"/>\n<text text-anchor=\"start\" x=\"914\" y=\"-164.3\" font-family=\"Helvetica,sans-Serif\" font-size=\"14.00\">gini = 0.0</text>\n<text text-anchor=\"start\" x=\"904.5\" y=\"-149.3\" font-family=\"Helvetica,sans-Serif\" font-size=\"14.00\">samples = 4</text>\n<text text-anchor=\"start\" x=\"895\" y=\"-134.3\" font-family=\"Helvetica,sans-Serif\" font-size=\"14.00\">value = [0, 4, 0]</text>\n<text text-anchor=\"start\" x=\"914.5\" y=\"-119.3\" font-family=\"Helvetica,sans-Serif\" font-size=\"14.00\">class = p</text>\n</g>\n<!-- 13&#45;&gt;17 -->\n<g id=\"edge17\" class=\"edge\">\n<title>13&#45;&gt;17</title>\n<path fill=\"none\" stroke=\"black\" d=\"M853.18,-222.91C866.91,-211.1 881.89,-198.22 895.56,-186.45\"/>\n<polygon fill=\"black\" stroke=\"black\" points=\"898.15,-188.84 903.45,-179.67 893.58,-183.54 898.15,-188.84\"/>\n</g>\n<!-- 15 -->\n<g id=\"node16\" class=\"node\">\n<title>15</title>\n<path fill=\"#e58139\" stroke=\"black\" d=\"M755,-68C755,-68 669,-68 669,-68 663,-68 657,-62 657,-56 657,-56 657,-12 657,-12 657,-6 663,0 669,0 669,0 755,0 755,0 761,0 767,-6 767,-12 767,-12 767,-56 767,-56 767,-62 761,-68 755,-68\"/>\n<text text-anchor=\"start\" x=\"684\" y=\"-52.8\" font-family=\"Helvetica,sans-Serif\" font-size=\"14.00\">gini = 0.0</text>\n<text text-anchor=\"start\" x=\"674.5\" y=\"-37.8\" font-family=\"Helvetica,sans-Serif\" font-size=\"14.00\">samples = 3</text>\n<text text-anchor=\"start\" x=\"665\" y=\"-22.8\" font-family=\"Helvetica,sans-Serif\" font-size=\"14.00\">value = [3, 0, 0]</text>\n<text text-anchor=\"start\" x=\"685\" y=\"-7.8\" font-family=\"Helvetica,sans-Serif\" font-size=\"14.00\">class = s</text>\n</g>\n<!-- 14&#45;&gt;15 -->\n<g id=\"edge15\" class=\"edge\">\n<title>14&#45;&gt;15</title>\n<path fill=\"none\" stroke=\"black\" d=\"M752.17,-103.73C747.1,-95.06 741.75,-85.9 736.65,-77.18\"/>\n<polygon fill=\"black\" stroke=\"black\" points=\"739.53,-75.17 731.46,-68.3 733.49,-78.7 739.53,-75.17\"/>\n</g>\n<!-- 16 -->\n<g id=\"node17\" class=\"node\">\n<title>16</title>\n<path fill=\"#8139e5\" stroke=\"black\" d=\"M883,-68C883,-68 797,-68 797,-68 791,-68 785,-62 785,-56 785,-56 785,-12 785,-12 785,-6 791,0 797,0 797,0 883,0 883,0 889,0 895,-6 895,-12 895,-12 895,-56 895,-56 895,-62 889,-68 883,-68\"/>\n<text text-anchor=\"start\" x=\"812\" y=\"-52.8\" font-family=\"Helvetica,sans-Serif\" font-size=\"14.00\">gini = 0.0</text>\n<text text-anchor=\"start\" x=\"802.5\" y=\"-37.8\" font-family=\"Helvetica,sans-Serif\" font-size=\"14.00\">samples = 1</text>\n<text text-anchor=\"start\" x=\"793\" y=\"-22.8\" font-family=\"Helvetica,sans-Serif\" font-size=\"14.00\">value = [0, 0, 1]</text>\n<text text-anchor=\"start\" x=\"812.5\" y=\"-7.8\" font-family=\"Helvetica,sans-Serif\" font-size=\"14.00\">class = e</text>\n</g>\n<!-- 14&#45;&gt;16 -->\n<g id=\"edge16\" class=\"edge\">\n<title>14&#45;&gt;16</title>\n<path fill=\"none\" stroke=\"black\" d=\"M799.83,-103.73C804.9,-95.06 810.25,-85.9 815.35,-77.18\"/>\n<polygon fill=\"black\" stroke=\"black\" points=\"818.51,-78.7 820.54,-68.3 812.47,-75.17 818.51,-78.7\"/>\n</g>\n<!-- 19 -->\n<g id=\"node20\" class=\"node\">\n<title>19</title>\n<path fill=\"#f2c09c\" stroke=\"black\" d=\"M1051,-425C1051,-425 893,-425 893,-425 887,-425 881,-419 881,-413 881,-413 881,-354 881,-354 881,-348 887,-342 893,-342 893,-342 1051,-342 1051,-342 1057,-342 1063,-348 1063,-354 1063,-354 1063,-413 1063,-413 1063,-419 1057,-425 1051,-425\"/>\n<text text-anchor=\"start\" x=\"889\" y=\"-409.8\" font-family=\"Helvetica,sans-Serif\" font-size=\"14.00\">culmen_depth_mm ≤ 0.923</text>\n<text text-anchor=\"start\" x=\"936.5\" y=\"-394.8\" font-family=\"Helvetica,sans-Serif\" font-size=\"14.00\">gini = 0.444</text>\n<text text-anchor=\"start\" x=\"934.5\" y=\"-379.8\" font-family=\"Helvetica,sans-Serif\" font-size=\"14.00\">samples = 3</text>\n<text text-anchor=\"start\" x=\"925\" y=\"-364.8\" font-family=\"Helvetica,sans-Serif\" font-size=\"14.00\">value = [2, 1, 0]</text>\n<text text-anchor=\"start\" x=\"945\" y=\"-349.8\" font-family=\"Helvetica,sans-Serif\" font-size=\"14.00\">class = s</text>\n</g>\n<!-- 18&#45;&gt;19 -->\n<g id=\"edge19\" class=\"edge\">\n<title>18&#45;&gt;19</title>\n<path fill=\"none\" stroke=\"black\" d=\"M972,-460.91C972,-452.65 972,-443.86 972,-435.3\"/>\n<polygon fill=\"black\" stroke=\"black\" points=\"975.5,-435.02 972,-425.02 968.5,-435.02 975.5,-435.02\"/>\n</g>\n<!-- 22 -->\n<g id=\"node23\" class=\"node\">\n<title>22</title>\n<path fill=\"#8139e5\" stroke=\"black\" d=\"M1186.5,-417.5C1186.5,-417.5 1093.5,-417.5 1093.5,-417.5 1087.5,-417.5 1081.5,-411.5 1081.5,-405.5 1081.5,-405.5 1081.5,-361.5 1081.5,-361.5 1081.5,-355.5 1087.5,-349.5 1093.5,-349.5 1093.5,-349.5 1186.5,-349.5 1186.5,-349.5 1192.5,-349.5 1198.5,-355.5 1198.5,-361.5 1198.5,-361.5 1198.5,-405.5 1198.5,-405.5 1198.5,-411.5 1192.5,-417.5 1186.5,-417.5\"/>\n<text text-anchor=\"start\" x=\"1112\" y=\"-402.3\" font-family=\"Helvetica,sans-Serif\" font-size=\"14.00\">gini = 0.0</text>\n<text text-anchor=\"start\" x=\"1099\" y=\"-387.3\" font-family=\"Helvetica,sans-Serif\" font-size=\"14.00\">samples = 80</text>\n<text text-anchor=\"start\" x=\"1089.5\" y=\"-372.3\" font-family=\"Helvetica,sans-Serif\" font-size=\"14.00\">value = [0, 0, 80]</text>\n<text text-anchor=\"start\" x=\"1112.5\" y=\"-357.3\" font-family=\"Helvetica,sans-Serif\" font-size=\"14.00\">class = e</text>\n</g>\n<!-- 18&#45;&gt;22 -->\n<g id=\"edge22\" class=\"edge\">\n<title>18&#45;&gt;22</title>\n<path fill=\"none\" stroke=\"black\" d=\"M1030.29,-460.91C1047.72,-448.77 1066.78,-435.49 1084.05,-423.46\"/>\n<polygon fill=\"black\" stroke=\"black\" points=\"1086.17,-426.25 1092.38,-417.67 1082.17,-420.51 1086.17,-426.25\"/>\n</g>\n<!-- 20 -->\n<g id=\"node21\" class=\"node\">\n<title>20</title>\n<path fill=\"#e58139\" stroke=\"black\" d=\"M1015,-298.5C1015,-298.5 929,-298.5 929,-298.5 923,-298.5 917,-292.5 917,-286.5 917,-286.5 917,-242.5 917,-242.5 917,-236.5 923,-230.5 929,-230.5 929,-230.5 1015,-230.5 1015,-230.5 1021,-230.5 1027,-236.5 1027,-242.5 1027,-242.5 1027,-286.5 1027,-286.5 1027,-292.5 1021,-298.5 1015,-298.5\"/>\n<text text-anchor=\"start\" x=\"944\" y=\"-283.3\" font-family=\"Helvetica,sans-Serif\" font-size=\"14.00\">gini = 0.0</text>\n<text text-anchor=\"start\" x=\"934.5\" y=\"-268.3\" font-family=\"Helvetica,sans-Serif\" font-size=\"14.00\">samples = 2</text>\n<text text-anchor=\"start\" x=\"925\" y=\"-253.3\" font-family=\"Helvetica,sans-Serif\" font-size=\"14.00\">value = [2, 0, 0]</text>\n<text text-anchor=\"start\" x=\"945\" y=\"-238.3\" font-family=\"Helvetica,sans-Serif\" font-size=\"14.00\">class = s</text>\n</g>\n<!-- 19&#45;&gt;20 -->\n<g id=\"edge20\" class=\"edge\">\n<title>19&#45;&gt;20</title>\n<path fill=\"none\" stroke=\"black\" d=\"M972,-341.91C972,-331.2 972,-319.62 972,-308.78\"/>\n<polygon fill=\"black\" stroke=\"black\" points=\"975.5,-308.67 972,-298.67 968.5,-308.67 975.5,-308.67\"/>\n</g>\n<!-- 21 -->\n<g id=\"node22\" class=\"node\">\n<title>21</title>\n<path fill=\"#39e581\" stroke=\"black\" d=\"M1143,-298.5C1143,-298.5 1057,-298.5 1057,-298.5 1051,-298.5 1045,-292.5 1045,-286.5 1045,-286.5 1045,-242.5 1045,-242.5 1045,-236.5 1051,-230.5 1057,-230.5 1057,-230.5 1143,-230.5 1143,-230.5 1149,-230.5 1155,-236.5 1155,-242.5 1155,-242.5 1155,-286.5 1155,-286.5 1155,-292.5 1149,-298.5 1143,-298.5\"/>\n<text text-anchor=\"start\" x=\"1072\" y=\"-283.3\" font-family=\"Helvetica,sans-Serif\" font-size=\"14.00\">gini = 0.0</text>\n<text text-anchor=\"start\" x=\"1062.5\" y=\"-268.3\" font-family=\"Helvetica,sans-Serif\" font-size=\"14.00\">samples = 1</text>\n<text text-anchor=\"start\" x=\"1053\" y=\"-253.3\" font-family=\"Helvetica,sans-Serif\" font-size=\"14.00\">value = [0, 1, 0]</text>\n<text text-anchor=\"start\" x=\"1072.5\" y=\"-238.3\" font-family=\"Helvetica,sans-Serif\" font-size=\"14.00\">class = p</text>\n</g>\n<!-- 19&#45;&gt;21 -->\n<g id=\"edge21\" class=\"edge\">\n<title>19&#45;&gt;21</title>\n<path fill=\"none\" stroke=\"black\" d=\"M1016.41,-341.91C1029.33,-330.1 1043.42,-317.22 1056.29,-305.45\"/>\n<polygon fill=\"black\" stroke=\"black\" points=\"1058.7,-308 1063.71,-298.67 1053.97,-302.83 1058.7,-308\"/>\n</g>\n</g>\n</svg>\n",
            "text/plain": [
              "<graphviz.sources.Source at 0x7b2f62d2f490>"
            ]
          },
          "metadata": {},
          "execution_count": 61
        }
      ]
    },
    {
      "cell_type": "code",
      "source": [
        "# print to the output file\n",
        "print('**************************************************************', file = outputFile)\n",
        "print('(A) Classifier 1 - Base DT', file = outputFile)\n",
        "print(classifier_1, file = outputFile)\n",
        "print('\\n', file = outputFile)"
      ],
      "metadata": {
        "id": "OYDP9qI641PW"
      },
      "execution_count": 62,
      "outputs": []
    },
    {
      "cell_type": "code",
      "source": [
        "# print classification report\n",
        "y_pred = classifier_1.predict(X_test)\n",
        "confusion_mat = confusion_matrix(y_test, y_pred)\n",
        "\n",
        "print(classification_report(y_test, y_pred, target_names=['Adelie', 'Chinstrap', 'Gentoo']))\n",
        "print(\"confusion matrix\\n\",confusion_mat)\n",
        "\n",
        "# print the result to the output file\n",
        "confusion_matrix_result =np.array2string(confusion_mat)\n",
        "print(\"(B) Confusion Matrix\", file = outputFile)\n",
        "print(confusion_matrix_result, file = outputFile)\n",
        "print('\\n', file = outputFile)\n",
        "print(\"(C,D) Classification Report\", file = outputFile)\n",
        "print(classification_report(y_test, y_pred, target_names = ['Adelie', 'Gentoo', 'Chinstap']), file = outputFile)\n",
        "outputFile.flush()"
      ],
      "metadata": {
        "colab": {
          "base_uri": "https://localhost:8080/"
        },
        "id": "o-9zdG295Uzs",
        "outputId": "3d7b18ff-3de4-4f92-ec67-9ffc44094a24"
      },
      "execution_count": 63,
      "outputs": [
        {
          "output_type": "stream",
          "name": "stdout",
          "text": [
            "              precision    recall  f1-score   support\n",
            "\n",
            "      Adelie       1.00      0.95      0.98        43\n",
            "   Chinstrap       0.90      0.95      0.92        19\n",
            "      Gentoo       0.97      1.00      0.99        38\n",
            "\n",
            "    accuracy                           0.97       100\n",
            "   macro avg       0.96      0.97      0.96       100\n",
            "weighted avg       0.97      0.97      0.97       100\n",
            "\n",
            "confusion matrix\n",
            " [[41  2  0]\n",
            " [ 0 18  1]\n",
            " [ 0  0 38]]\n"
          ]
        }
      ]
    },
    {
      "cell_type": "code",
      "source": [
        "# repeat training & prediction 5 times for classifier 1\n",
        "from sklearn.metrics import accuracy_score, f1_score\n",
        "\n",
        "accuracy_baseDT = np.zeros(5)\n",
        "macro_avg_baseDT = np.zeros(5)\n",
        "weighted_avg_baseDT = np.zeros(5)\n",
        "\n",
        "for i in range(5):\n",
        "\n",
        "  #data is shuffled and scaled every iteration\n",
        "  X_train, X_test, y_train, y_test = train_test_split(X, y, test_size = 0.3)\n",
        "  sc = StandardScaler()\n",
        "  X_train = sc.fit_transform(X_train)\n",
        "  X_test = sc.transform(X_test)\n",
        "\n",
        "  #train and predict\n",
        "  classifier_1.fit(X_train, y_train)\n",
        "  y_pred = classifier_1.predict(X_test)\n",
        "\n",
        "  # find the accuracy for each iteration and store the value\n",
        "  accuracy_baseDT[i] = accuracy_score(y_test, y_pred)\n",
        "  macro_avg_baseDT[i] = f1_score(y_test, y_pred, average='macro')\n",
        "  weighted_avg_baseDT[i] = f1_score(y_test, y_pred, average='weighted')\n",
        "\n",
        "# compute the average accuracy & variances\n",
        "print(f'accuracy_baseDT: {accuracy_baseDT}')\n",
        "Avg_accuracy = (np.sum(accuracy_baseDT))/5\n",
        "accuracy_variance = np.var(accuracy_baseDT)\n",
        "print(f'average accuracy: {Avg_accuracy:.4f}, variance: {accuracy_variance:.6f}')\n",
        "print()\n",
        "\n",
        "# compute the average macro-average F1 & the variance\n",
        "print(f'macro_avg_baseDT: {macro_avg_baseDT}')\n",
        "Avg_macro_avg = (np.sum(macro_avg_baseDT))/5\n",
        "f1_macro_variance = np.var(macro_avg_baseDT)\n",
        "print(f'average macro-average F1: {Avg_macro_avg:.4f}, variance: {f1_macro_variance:.6f}')\n",
        "print()\n",
        "\n",
        "# compute the average weighted-average F1 & the variance\n",
        "print(f'weighted_avg_baseDT: {weighted_avg_baseDT}')\n",
        "Avg_weighted_avg = (np.sum(weighted_avg_baseDT))/5\n",
        "f1_weighted_variance = np.var(weighted_avg_baseDT)\n",
        "print(f'average weighted-average F1: {Avg_weighted_avg:.4f}, variance: {f1_weighted_variance:.6f}')"
      ],
      "metadata": {
        "id": "kSCBBBuHJcjz",
        "outputId": "d3a523e5-6fec-4f91-c96f-56fd086d837b",
        "colab": {
          "base_uri": "https://localhost:8080/"
        }
      },
      "execution_count": 64,
      "outputs": [
        {
          "output_type": "stream",
          "name": "stdout",
          "text": [
            "accuracy_baseDT: [0.94 0.98 0.98 0.96 0.96]\n",
            "average accuracy: 0.9640, variance: 0.000224\n",
            "\n",
            "macro_avg_baseDT: [0.93886185 0.97159091 0.97550281 0.94075971 0.94578457]\n",
            "average macro-average F1: 0.9545, variance: 0.000249\n",
            "\n",
            "weighted_avg_baseDT: [0.93965826 0.98       0.97986329 0.9611114  0.96183668]\n",
            "average weighted-average F1: 0.9645, variance: 0.000222\n"
          ]
        }
      ]
    },
    {
      "cell_type": "code",
      "source": [
        "# print the performance result to outputfile\n",
        "print('\\n(E) The result after 5 times of train-test repetition:' ,file = outputFile)\n",
        "print(f'average accuracy: {Avg_accuracy:.4f}, variance: {accuracy_variance:.6f}', file = outputFile)\n",
        "print(f'average macro-average F1: {Avg_macro_avg:.4f}, variance: {f1_macro_variance:.6f}', file = outputFile)\n",
        "print(f'average weighted-average F1: {Avg_weighted_avg:.4f}, variance: {f1_weighted_variance:.6f}', file = outputFile)\n",
        "print('\\n', file = outputFile)\n",
        "outputFile.flush()"
      ],
      "metadata": {
        "id": "G9_phUjPZBFF"
      },
      "execution_count": 65,
      "outputs": []
    },
    {
      "cell_type": "markdown",
      "source": [
        "##### Classifier 2 - Top-DT"
      ],
      "metadata": {
        "id": "8RIB1m4M56j3"
      }
    },
    {
      "cell_type": "code",
      "source": [
        "# Top Decision Tree - decision tree using gridsearch(hyperparameter search)\n",
        "from sklearn.model_selection import GridSearchCV\n",
        "from sklearn.tree import DecisionTreeClassifier\n",
        "\n",
        "parameters = {\n",
        "    'criterion': ['gini', 'entropy'],\n",
        "    'max_depth': [None, 3, 5],\n",
        "    'min_samples_split': [2, 5, 10]\n",
        "}\n",
        "\n",
        "classifier_2 = GridSearchCV(DecisionTreeClassifier(), parameters)\n",
        "classifier_2.fit(X_train, y_train)\n",
        "\n",
        "print(f'best parameters: {classifier_2.best_params_}')"
      ],
      "metadata": {
        "id": "JRPd85lw5jg2",
        "colab": {
          "base_uri": "https://localhost:8080/"
        },
        "outputId": "3aef202b-8741-4510-a516-87801fb804e4"
      },
      "execution_count": 66,
      "outputs": [
        {
          "output_type": "stream",
          "name": "stdout",
          "text": [
            "best parameters: {'criterion': 'entropy', 'max_depth': 5, 'min_samples_split': 2}\n"
          ]
        }
      ]
    },
    {
      "cell_type": "code",
      "source": [
        "penguins_class = data_penguins.columns[0]\n",
        "penguins_features = list(data_penguins.columns[1:])"
      ],
      "metadata": {
        "id": "YFTodB7a_Qxl"
      },
      "execution_count": 67,
      "outputs": []
    },
    {
      "cell_type": "code",
      "source": [
        "from sklearn.tree import export_graphviz\n",
        "from IPython.display import display\n",
        "\n",
        "dot_data = export_graphviz(classifier_2.best_estimator_,\n",
        "                          feature_names=penguins_features,\n",
        "                          class_names=penguins_class,\n",
        "                          filled=True, rounded=True,\n",
        "                          special_characters=True)\n",
        "\n",
        "graph = graphviz.Source(dot_data)\n",
        "display(graph)"
      ],
      "metadata": {
        "id": "Yq9k0XZ6-odi",
        "outputId": "ad933ede-110a-4e8c-8a7b-b07a3644d714",
        "colab": {
          "base_uri": "https://localhost:8080/",
          "height": 917
        }
      },
      "execution_count": 68,
      "outputs": [
        {
          "output_type": "display_data",
          "data": {
            "image/svg+xml": "<?xml version=\"1.0\" encoding=\"UTF-8\" standalone=\"no\"?>\n<!DOCTYPE svg PUBLIC \"-//W3C//DTD SVG 1.1//EN\"\n \"http://www.w3.org/Graphics/SVG/1.1/DTD/svg11.dtd\">\n<!-- Generated by graphviz version 2.43.0 (0)\n -->\n<!-- Title: Tree Pages: 1 -->\n<svg width=\"879pt\" height=\"671pt\"\n viewBox=\"0.00 0.00 879.00 671.00\" xmlns=\"http://www.w3.org/2000/svg\" xmlns:xlink=\"http://www.w3.org/1999/xlink\">\n<g id=\"graph0\" class=\"graph\" transform=\"scale(1 1) rotate(0) translate(4 667)\">\n<title>Tree</title>\n<polygon fill=\"white\" stroke=\"transparent\" points=\"-4,4 -4,-667 875,-667 875,4 -4,4\"/>\n<!-- 0 -->\n<g id=\"node1\" class=\"node\">\n<title>0</title>\n<path fill=\"#fefaf7\" stroke=\"black\" d=\"M623,-663C623,-663 469,-663 469,-663 463,-663 457,-657 457,-651 457,-651 457,-592 457,-592 457,-586 463,-580 469,-580 469,-580 623,-580 623,-580 629,-580 635,-586 635,-592 635,-592 635,-651 635,-651 635,-657 629,-663 623,-663\"/>\n<text text-anchor=\"start\" x=\"465\" y=\"-647.8\" font-family=\"Helvetica,sans-Serif\" font-size=\"14.00\">flipper_length_mm ≤ 0.447</text>\n<text text-anchor=\"start\" x=\"498.5\" y=\"-632.8\" font-family=\"Helvetica,sans-Serif\" font-size=\"14.00\">entropy = 1.545</text>\n<text text-anchor=\"start\" x=\"501\" y=\"-617.8\" font-family=\"Helvetica,sans-Serif\" font-size=\"14.00\">samples = 233</text>\n<text text-anchor=\"start\" x=\"488\" y=\"-602.8\" font-family=\"Helvetica,sans-Serif\" font-size=\"14.00\">value = [93, 53, 87]</text>\n<text text-anchor=\"start\" x=\"519\" y=\"-587.8\" font-family=\"Helvetica,sans-Serif\" font-size=\"14.00\">class = s</text>\n</g>\n<!-- 1 -->\n<g id=\"node2\" class=\"node\">\n<title>1</title>\n<path fill=\"#f3c7a7\" stroke=\"black\" d=\"M543,-544C543,-544 377,-544 377,-544 371,-544 365,-538 365,-532 365,-532 365,-473 365,-473 365,-467 371,-461 377,-461 377,-461 543,-461 543,-461 549,-461 555,-467 555,-473 555,-473 555,-532 555,-532 555,-538 549,-544 543,-544\"/>\n<text text-anchor=\"start\" x=\"373\" y=\"-528.8\" font-family=\"Helvetica,sans-Serif\" font-size=\"14.00\">culmen_length_mm ≤ &#45;0.366</text>\n<text text-anchor=\"start\" x=\"412.5\" y=\"-513.8\" font-family=\"Helvetica,sans-Serif\" font-size=\"14.00\">entropy = 0.991</text>\n<text text-anchor=\"start\" x=\"415\" y=\"-498.8\" font-family=\"Helvetica,sans-Serif\" font-size=\"14.00\">samples = 145</text>\n<text text-anchor=\"start\" x=\"405.5\" y=\"-483.8\" font-family=\"Helvetica,sans-Serif\" font-size=\"14.00\">value = [93, 51, 1]</text>\n<text text-anchor=\"start\" x=\"433\" y=\"-468.8\" font-family=\"Helvetica,sans-Serif\" font-size=\"14.00\">class = s</text>\n</g>\n<!-- 0&#45;&gt;1 -->\n<g id=\"edge1\" class=\"edge\">\n<title>0&#45;&gt;1</title>\n<path fill=\"none\" stroke=\"black\" d=\"M516.16,-579.91C509.63,-571.01 502.64,-561.51 495.89,-552.33\"/>\n<polygon fill=\"black\" stroke=\"black\" points=\"498.53,-550.01 489.78,-544.02 492.89,-554.15 498.53,-550.01\"/>\n<text text-anchor=\"middle\" x=\"486.01\" y=\"-565.03\" font-family=\"Helvetica,sans-Serif\" font-size=\"14.00\">True</text>\n</g>\n<!-- 16 -->\n<g id=\"node17\" class=\"node\">\n<title>16</title>\n<path fill=\"#843ee6\" stroke=\"black\" d=\"M678.5,-544C678.5,-544 585.5,-544 585.5,-544 579.5,-544 573.5,-538 573.5,-532 573.5,-532 573.5,-473 573.5,-473 573.5,-467 579.5,-461 585.5,-461 585.5,-461 678.5,-461 678.5,-461 684.5,-461 690.5,-467 690.5,-473 690.5,-473 690.5,-532 690.5,-532 690.5,-538 684.5,-544 678.5,-544\"/>\n<text text-anchor=\"start\" x=\"593.5\" y=\"-528.8\" font-family=\"Helvetica,sans-Serif\" font-size=\"14.00\">island ≤ 0.03</text>\n<text text-anchor=\"start\" x=\"584.5\" y=\"-513.8\" font-family=\"Helvetica,sans-Serif\" font-size=\"14.00\">entropy = 0.156</text>\n<text text-anchor=\"start\" x=\"591\" y=\"-498.8\" font-family=\"Helvetica,sans-Serif\" font-size=\"14.00\">samples = 88</text>\n<text text-anchor=\"start\" x=\"581.5\" y=\"-483.8\" font-family=\"Helvetica,sans-Serif\" font-size=\"14.00\">value = [0, 2, 86]</text>\n<text text-anchor=\"start\" x=\"604.5\" y=\"-468.8\" font-family=\"Helvetica,sans-Serif\" font-size=\"14.00\">class = e</text>\n</g>\n<!-- 0&#45;&gt;16 -->\n<g id=\"edge16\" class=\"edge\">\n<title>0&#45;&gt;16</title>\n<path fill=\"none\" stroke=\"black\" d=\"M575.84,-579.91C582.37,-571.01 589.36,-561.51 596.11,-552.33\"/>\n<polygon fill=\"black\" stroke=\"black\" points=\"599.11,-554.15 602.22,-544.02 593.47,-550.01 599.11,-554.15\"/>\n<text text-anchor=\"middle\" x=\"605.99\" y=\"-565.03\" font-family=\"Helvetica,sans-Serif\" font-size=\"14.00\">False</text>\n</g>\n<!-- 2 -->\n<g id=\"node3\" class=\"node\">\n<title>2</title>\n<path fill=\"#e5823b\" stroke=\"black\" d=\"M358.5,-425C358.5,-425 195.5,-425 195.5,-425 189.5,-425 183.5,-419 183.5,-413 183.5,-413 183.5,-354 183.5,-354 183.5,-348 189.5,-342 195.5,-342 195.5,-342 358.5,-342 358.5,-342 364.5,-342 370.5,-348 370.5,-354 370.5,-354 370.5,-413 370.5,-413 370.5,-419 364.5,-425 358.5,-425\"/>\n<text text-anchor=\"start\" x=\"191.5\" y=\"-409.8\" font-family=\"Helvetica,sans-Serif\" font-size=\"14.00\">culmen_depth_mm ≤ &#45;0.226</text>\n<text text-anchor=\"start\" x=\"233\" y=\"-394.8\" font-family=\"Helvetica,sans-Serif\" font-size=\"14.00\">entropy = 0.09</text>\n<text text-anchor=\"start\" x=\"236\" y=\"-379.8\" font-family=\"Helvetica,sans-Serif\" font-size=\"14.00\">samples = 88</text>\n<text text-anchor=\"start\" x=\"226.5\" y=\"-364.8\" font-family=\"Helvetica,sans-Serif\" font-size=\"14.00\">value = [87, 1, 0]</text>\n<text text-anchor=\"start\" x=\"250\" y=\"-349.8\" font-family=\"Helvetica,sans-Serif\" font-size=\"14.00\">class = s</text>\n</g>\n<!-- 1&#45;&gt;2 -->\n<g id=\"edge2\" class=\"edge\">\n<title>1&#45;&gt;2</title>\n<path fill=\"none\" stroke=\"black\" d=\"M396.51,-460.91C381.18,-451.11 364.69,-440.56 349,-430.53\"/>\n<polygon fill=\"black\" stroke=\"black\" points=\"350.69,-427.46 340.38,-425.02 346.92,-433.36 350.69,-427.46\"/>\n</g>\n<!-- 7 -->\n<g id=\"node8\" class=\"node\">\n<title>7</title>\n<path fill=\"#54e992\" stroke=\"black\" d=\"M531.5,-425C531.5,-425 400.5,-425 400.5,-425 394.5,-425 388.5,-419 388.5,-413 388.5,-413 388.5,-354 388.5,-354 388.5,-348 394.5,-342 400.5,-342 400.5,-342 531.5,-342 531.5,-342 537.5,-342 543.5,-348 543.5,-354 543.5,-354 543.5,-413 543.5,-413 543.5,-419 537.5,-425 531.5,-425\"/>\n<text text-anchor=\"start\" x=\"396.5\" y=\"-409.8\" font-family=\"Helvetica,sans-Serif\" font-size=\"14.00\">body_mass_g ≤ &#45;0.196</text>\n<text text-anchor=\"start\" x=\"422\" y=\"-394.8\" font-family=\"Helvetica,sans-Serif\" font-size=\"14.00\">entropy = 0.61</text>\n<text text-anchor=\"start\" x=\"425\" y=\"-379.8\" font-family=\"Helvetica,sans-Serif\" font-size=\"14.00\">samples = 57</text>\n<text text-anchor=\"start\" x=\"415.5\" y=\"-364.8\" font-family=\"Helvetica,sans-Serif\" font-size=\"14.00\">value = [6, 50, 1]</text>\n<text text-anchor=\"start\" x=\"438.5\" y=\"-349.8\" font-family=\"Helvetica,sans-Serif\" font-size=\"14.00\">class = p</text>\n</g>\n<!-- 1&#45;&gt;7 -->\n<g id=\"edge7\" class=\"edge\">\n<title>1&#45;&gt;7</title>\n<path fill=\"none\" stroke=\"black\" d=\"M462.08,-460.91C462.51,-452.56 462.97,-443.67 463.41,-435.02\"/>\n<polygon fill=\"black\" stroke=\"black\" points=\"466.91,-435.19 463.92,-425.02 459.91,-434.83 466.91,-435.19\"/>\n</g>\n<!-- 3 -->\n<g id=\"node4\" class=\"node\">\n<title>3</title>\n<path fill=\"#e9965a\" stroke=\"black\" d=\"M202,-306C202,-306 36,-306 36,-306 30,-306 24,-300 24,-294 24,-294 24,-235 24,-235 24,-229 30,-223 36,-223 36,-223 202,-223 202,-223 208,-223 214,-229 214,-235 214,-235 214,-294 214,-294 214,-300 208,-306 202,-306\"/>\n<text text-anchor=\"start\" x=\"32\" y=\"-290.8\" font-family=\"Helvetica,sans-Serif\" font-size=\"14.00\">culmen_length_mm ≤ &#45;0.917</text>\n<text text-anchor=\"start\" x=\"71.5\" y=\"-275.8\" font-family=\"Helvetica,sans-Serif\" font-size=\"14.00\">entropy = 0.592</text>\n<text text-anchor=\"start\" x=\"81.5\" y=\"-260.8\" font-family=\"Helvetica,sans-Serif\" font-size=\"14.00\">samples = 7</text>\n<text text-anchor=\"start\" x=\"72\" y=\"-245.8\" font-family=\"Helvetica,sans-Serif\" font-size=\"14.00\">value = [6, 1, 0]</text>\n<text text-anchor=\"start\" x=\"92\" y=\"-230.8\" font-family=\"Helvetica,sans-Serif\" font-size=\"14.00\">class = s</text>\n</g>\n<!-- 2&#45;&gt;3 -->\n<g id=\"edge3\" class=\"edge\">\n<title>2&#45;&gt;3</title>\n<path fill=\"none\" stroke=\"black\" d=\"M222.18,-341.91C209.19,-332.29 195.24,-321.95 181.92,-312.09\"/>\n<polygon fill=\"black\" stroke=\"black\" points=\"183.84,-309.16 173.72,-306.02 179.67,-314.78 183.84,-309.16\"/>\n</g>\n<!-- 6 -->\n<g id=\"node7\" class=\"node\">\n<title>6</title>\n<path fill=\"#e58139\" stroke=\"black\" d=\"M337.5,-298.5C337.5,-298.5 244.5,-298.5 244.5,-298.5 238.5,-298.5 232.5,-292.5 232.5,-286.5 232.5,-286.5 232.5,-242.5 232.5,-242.5 232.5,-236.5 238.5,-230.5 244.5,-230.5 244.5,-230.5 337.5,-230.5 337.5,-230.5 343.5,-230.5 349.5,-236.5 349.5,-242.5 349.5,-242.5 349.5,-286.5 349.5,-286.5 349.5,-292.5 343.5,-298.5 337.5,-298.5\"/>\n<text text-anchor=\"start\" x=\"251\" y=\"-283.3\" font-family=\"Helvetica,sans-Serif\" font-size=\"14.00\">entropy = 0.0</text>\n<text text-anchor=\"start\" x=\"250\" y=\"-268.3\" font-family=\"Helvetica,sans-Serif\" font-size=\"14.00\">samples = 81</text>\n<text text-anchor=\"start\" x=\"240.5\" y=\"-253.3\" font-family=\"Helvetica,sans-Serif\" font-size=\"14.00\">value = [81, 0, 0]</text>\n<text text-anchor=\"start\" x=\"264\" y=\"-238.3\" font-family=\"Helvetica,sans-Serif\" font-size=\"14.00\">class = s</text>\n</g>\n<!-- 2&#45;&gt;6 -->\n<g id=\"edge6\" class=\"edge\">\n<title>2&#45;&gt;6</title>\n<path fill=\"none\" stroke=\"black\" d=\"M281.86,-341.91C283.14,-331.2 284.52,-319.62 285.82,-308.78\"/>\n<polygon fill=\"black\" stroke=\"black\" points=\"289.32,-309.01 287.03,-298.67 282.37,-308.18 289.32,-309.01\"/>\n</g>\n<!-- 4 -->\n<g id=\"node5\" class=\"node\">\n<title>4</title>\n<path fill=\"#e58139\" stroke=\"black\" d=\"M98,-179.5C98,-179.5 12,-179.5 12,-179.5 6,-179.5 0,-173.5 0,-167.5 0,-167.5 0,-123.5 0,-123.5 0,-117.5 6,-111.5 12,-111.5 12,-111.5 98,-111.5 98,-111.5 104,-111.5 110,-117.5 110,-123.5 110,-123.5 110,-167.5 110,-167.5 110,-173.5 104,-179.5 98,-179.5\"/>\n<text text-anchor=\"start\" x=\"15\" y=\"-164.3\" font-family=\"Helvetica,sans-Serif\" font-size=\"14.00\">entropy = 0.0</text>\n<text text-anchor=\"start\" x=\"17.5\" y=\"-149.3\" font-family=\"Helvetica,sans-Serif\" font-size=\"14.00\">samples = 6</text>\n<text text-anchor=\"start\" x=\"8\" y=\"-134.3\" font-family=\"Helvetica,sans-Serif\" font-size=\"14.00\">value = [6, 0, 0]</text>\n<text text-anchor=\"start\" x=\"28\" y=\"-119.3\" font-family=\"Helvetica,sans-Serif\" font-size=\"14.00\">class = s</text>\n</g>\n<!-- 3&#45;&gt;4 -->\n<g id=\"edge4\" class=\"edge\">\n<title>3&#45;&gt;4</title>\n<path fill=\"none\" stroke=\"black\" d=\"M96.8,-222.91C90.76,-211.87 84.21,-199.9 78.12,-188.77\"/>\n<polygon fill=\"black\" stroke=\"black\" points=\"81.01,-186.76 73.14,-179.67 74.87,-190.12 81.01,-186.76\"/>\n</g>\n<!-- 5 -->\n<g id=\"node6\" class=\"node\">\n<title>5</title>\n<path fill=\"#39e581\" stroke=\"black\" d=\"M226,-179.5C226,-179.5 140,-179.5 140,-179.5 134,-179.5 128,-173.5 128,-167.5 128,-167.5 128,-123.5 128,-123.5 128,-117.5 134,-111.5 140,-111.5 140,-111.5 226,-111.5 226,-111.5 232,-111.5 238,-117.5 238,-123.5 238,-123.5 238,-167.5 238,-167.5 238,-173.5 232,-179.5 226,-179.5\"/>\n<text text-anchor=\"start\" x=\"143\" y=\"-164.3\" font-family=\"Helvetica,sans-Serif\" font-size=\"14.00\">entropy = 0.0</text>\n<text text-anchor=\"start\" x=\"145.5\" y=\"-149.3\" font-family=\"Helvetica,sans-Serif\" font-size=\"14.00\">samples = 1</text>\n<text text-anchor=\"start\" x=\"136\" y=\"-134.3\" font-family=\"Helvetica,sans-Serif\" font-size=\"14.00\">value = [0, 1, 0]</text>\n<text text-anchor=\"start\" x=\"155.5\" y=\"-119.3\" font-family=\"Helvetica,sans-Serif\" font-size=\"14.00\">class = p</text>\n</g>\n<!-- 3&#45;&gt;5 -->\n<g id=\"edge5\" class=\"edge\">\n<title>3&#45;&gt;5</title>\n<path fill=\"none\" stroke=\"black\" d=\"M141.2,-222.91C147.24,-211.87 153.79,-199.9 159.88,-188.77\"/>\n<polygon fill=\"black\" stroke=\"black\" points=\"163.13,-190.12 164.86,-179.67 156.99,-186.76 163.13,-190.12\"/>\n</g>\n<!-- 8 -->\n<g id=\"node9\" class=\"node\">\n<title>8</title>\n<path fill=\"#39e581\" stroke=\"black\" d=\"M499.5,-298.5C499.5,-298.5 406.5,-298.5 406.5,-298.5 400.5,-298.5 394.5,-292.5 394.5,-286.5 394.5,-286.5 394.5,-242.5 394.5,-242.5 394.5,-236.5 400.5,-230.5 406.5,-230.5 406.5,-230.5 499.5,-230.5 499.5,-230.5 505.5,-230.5 511.5,-236.5 511.5,-242.5 511.5,-242.5 511.5,-286.5 511.5,-286.5 511.5,-292.5 505.5,-298.5 499.5,-298.5\"/>\n<text text-anchor=\"start\" x=\"413\" y=\"-283.3\" font-family=\"Helvetica,sans-Serif\" font-size=\"14.00\">entropy = 0.0</text>\n<text text-anchor=\"start\" x=\"412\" y=\"-268.3\" font-family=\"Helvetica,sans-Serif\" font-size=\"14.00\">samples = 43</text>\n<text text-anchor=\"start\" x=\"402.5\" y=\"-253.3\" font-family=\"Helvetica,sans-Serif\" font-size=\"14.00\">value = [0, 43, 0]</text>\n<text text-anchor=\"start\" x=\"425.5\" y=\"-238.3\" font-family=\"Helvetica,sans-Serif\" font-size=\"14.00\">class = p</text>\n</g>\n<!-- 7&#45;&gt;8 -->\n<g id=\"edge8\" class=\"edge\">\n<title>7&#45;&gt;8</title>\n<path fill=\"none\" stroke=\"black\" d=\"M461.49,-341.91C460.3,-331.2 459.01,-319.62 457.81,-308.78\"/>\n<polygon fill=\"black\" stroke=\"black\" points=\"461.27,-308.22 456.69,-298.67 454.31,-308.99 461.27,-308.22\"/>\n</g>\n<!-- 9 -->\n<g id=\"node10\" class=\"node\">\n<title>9</title>\n<path fill=\"#e6fcef\" stroke=\"black\" d=\"M696,-306C696,-306 542,-306 542,-306 536,-306 530,-300 530,-294 530,-294 530,-235 530,-235 530,-229 536,-223 542,-223 542,-223 696,-223 696,-223 702,-223 708,-229 708,-235 708,-235 708,-294 708,-294 708,-300 702,-306 696,-306\"/>\n<text text-anchor=\"start\" x=\"538\" y=\"-290.8\" font-family=\"Helvetica,sans-Serif\" font-size=\"14.00\">culmen_length_mm ≤ 0.51</text>\n<text text-anchor=\"start\" x=\"571.5\" y=\"-275.8\" font-family=\"Helvetica,sans-Serif\" font-size=\"14.00\">entropy = 1.296</text>\n<text text-anchor=\"start\" x=\"578\" y=\"-260.8\" font-family=\"Helvetica,sans-Serif\" font-size=\"14.00\">samples = 14</text>\n<text text-anchor=\"start\" x=\"572\" y=\"-245.8\" font-family=\"Helvetica,sans-Serif\" font-size=\"14.00\">value = [6, 7, 1]</text>\n<text text-anchor=\"start\" x=\"591.5\" y=\"-230.8\" font-family=\"Helvetica,sans-Serif\" font-size=\"14.00\">class = p</text>\n</g>\n<!-- 7&#45;&gt;9 -->\n<g id=\"edge9\" class=\"edge\">\n<title>7&#45;&gt;9</title>\n<path fill=\"none\" stroke=\"black\" d=\"M519.08,-341.91C531.54,-332.38 544.92,-322.15 557.71,-312.37\"/>\n<polygon fill=\"black\" stroke=\"black\" points=\"560.19,-314.88 566.01,-306.02 555.94,-309.32 560.19,-314.88\"/>\n</g>\n<!-- 10 -->\n<g id=\"node11\" class=\"node\">\n<title>10</title>\n<path fill=\"#e9965a\" stroke=\"black\" d=\"M587.5,-187C587.5,-187 500.5,-187 500.5,-187 494.5,-187 488.5,-181 488.5,-175 488.5,-175 488.5,-116 488.5,-116 488.5,-110 494.5,-104 500.5,-104 500.5,-104 587.5,-104 587.5,-104 593.5,-104 599.5,-110 599.5,-116 599.5,-116 599.5,-175 599.5,-175 599.5,-181 593.5,-187 587.5,-187\"/>\n<text text-anchor=\"start\" x=\"506.5\" y=\"-171.8\" font-family=\"Helvetica,sans-Serif\" font-size=\"14.00\">sex ≤ &#45;0.004</text>\n<text text-anchor=\"start\" x=\"496.5\" y=\"-156.8\" font-family=\"Helvetica,sans-Serif\" font-size=\"14.00\">entropy = 0.592</text>\n<text text-anchor=\"start\" x=\"506.5\" y=\"-141.8\" font-family=\"Helvetica,sans-Serif\" font-size=\"14.00\">samples = 7</text>\n<text text-anchor=\"start\" x=\"497\" y=\"-126.8\" font-family=\"Helvetica,sans-Serif\" font-size=\"14.00\">value = [6, 1, 0]</text>\n<text text-anchor=\"start\" x=\"517\" y=\"-111.8\" font-family=\"Helvetica,sans-Serif\" font-size=\"14.00\">class = s</text>\n</g>\n<!-- 9&#45;&gt;10 -->\n<g id=\"edge10\" class=\"edge\">\n<title>9&#45;&gt;10</title>\n<path fill=\"none\" stroke=\"black\" d=\"M592.98,-222.91C587.34,-214.1 581.31,-204.7 575.48,-195.61\"/>\n<polygon fill=\"black\" stroke=\"black\" points=\"578.32,-193.55 569.97,-187.02 572.43,-197.33 578.32,-193.55\"/>\n</g>\n<!-- 13 -->\n<g id=\"node14\" class=\"node\">\n<title>13</title>\n<path fill=\"#5ae996\" stroke=\"black\" d=\"M756,-187C756,-187 630,-187 630,-187 624,-187 618,-181 618,-175 618,-175 618,-116 618,-116 618,-110 624,-104 630,-104 630,-104 756,-104 756,-104 762,-104 768,-110 768,-116 768,-116 768,-175 768,-175 768,-181 762,-187 756,-187\"/>\n<text text-anchor=\"start\" x=\"626\" y=\"-171.8\" font-family=\"Helvetica,sans-Serif\" font-size=\"14.00\">body_mass_g ≤ 0.443</text>\n<text text-anchor=\"start\" x=\"645.5\" y=\"-156.8\" font-family=\"Helvetica,sans-Serif\" font-size=\"14.00\">entropy = 0.592</text>\n<text text-anchor=\"start\" x=\"655.5\" y=\"-141.8\" font-family=\"Helvetica,sans-Serif\" font-size=\"14.00\">samples = 7</text>\n<text text-anchor=\"start\" x=\"646\" y=\"-126.8\" font-family=\"Helvetica,sans-Serif\" font-size=\"14.00\">value = [0, 6, 1]</text>\n<text text-anchor=\"start\" x=\"665.5\" y=\"-111.8\" font-family=\"Helvetica,sans-Serif\" font-size=\"14.00\">class = p</text>\n</g>\n<!-- 9&#45;&gt;13 -->\n<g id=\"edge13\" class=\"edge\">\n<title>9&#45;&gt;13</title>\n<path fill=\"none\" stroke=\"black\" d=\"M644.67,-222.91C650.24,-214.1 656.19,-204.7 661.94,-195.61\"/>\n<polygon fill=\"black\" stroke=\"black\" points=\"664.98,-197.34 667.37,-187.02 659.07,-193.6 664.98,-197.34\"/>\n</g>\n<!-- 11 -->\n<g id=\"node12\" class=\"node\">\n<title>11</title>\n<path fill=\"#39e581\" stroke=\"black\" d=\"M465,-68C465,-68 379,-68 379,-68 373,-68 367,-62 367,-56 367,-56 367,-12 367,-12 367,-6 373,0 379,0 379,0 465,0 465,0 471,0 477,-6 477,-12 477,-12 477,-56 477,-56 477,-62 471,-68 465,-68\"/>\n<text text-anchor=\"start\" x=\"382\" y=\"-52.8\" font-family=\"Helvetica,sans-Serif\" font-size=\"14.00\">entropy = 0.0</text>\n<text text-anchor=\"start\" x=\"384.5\" y=\"-37.8\" font-family=\"Helvetica,sans-Serif\" font-size=\"14.00\">samples = 1</text>\n<text text-anchor=\"start\" x=\"375\" y=\"-22.8\" font-family=\"Helvetica,sans-Serif\" font-size=\"14.00\">value = [0, 1, 0]</text>\n<text text-anchor=\"start\" x=\"394.5\" y=\"-7.8\" font-family=\"Helvetica,sans-Serif\" font-size=\"14.00\">class = p</text>\n</g>\n<!-- 10&#45;&gt;11 -->\n<g id=\"edge11\" class=\"edge\">\n<title>10&#45;&gt;11</title>\n<path fill=\"none\" stroke=\"black\" d=\"M498.57,-103.73C488.1,-94.33 476.98,-84.35 466.55,-74.99\"/>\n<polygon fill=\"black\" stroke=\"black\" points=\"468.88,-72.37 459.1,-68.3 464.21,-77.58 468.88,-72.37\"/>\n</g>\n<!-- 12 -->\n<g id=\"node13\" class=\"node\">\n<title>12</title>\n<path fill=\"#e58139\" stroke=\"black\" d=\"M593,-68C593,-68 507,-68 507,-68 501,-68 495,-62 495,-56 495,-56 495,-12 495,-12 495,-6 501,0 507,0 507,0 593,0 593,0 599,0 605,-6 605,-12 605,-12 605,-56 605,-56 605,-62 599,-68 593,-68\"/>\n<text text-anchor=\"start\" x=\"510\" y=\"-52.8\" font-family=\"Helvetica,sans-Serif\" font-size=\"14.00\">entropy = 0.0</text>\n<text text-anchor=\"start\" x=\"512.5\" y=\"-37.8\" font-family=\"Helvetica,sans-Serif\" font-size=\"14.00\">samples = 6</text>\n<text text-anchor=\"start\" x=\"503\" y=\"-22.8\" font-family=\"Helvetica,sans-Serif\" font-size=\"14.00\">value = [6, 0, 0]</text>\n<text text-anchor=\"start\" x=\"523\" y=\"-7.8\" font-family=\"Helvetica,sans-Serif\" font-size=\"14.00\">class = s</text>\n</g>\n<!-- 10&#45;&gt;12 -->\n<g id=\"edge12\" class=\"edge\">\n<title>10&#45;&gt;12</title>\n<path fill=\"none\" stroke=\"black\" d=\"M546.23,-103.73C546.68,-95.52 547.16,-86.86 547.61,-78.56\"/>\n<polygon fill=\"black\" stroke=\"black\" points=\"551.12,-78.48 548.18,-68.3 544.13,-78.09 551.12,-78.48\"/>\n</g>\n<!-- 14 -->\n<g id=\"node15\" class=\"node\">\n<title>14</title>\n<path fill=\"#39e581\" stroke=\"black\" d=\"M731,-68C731,-68 645,-68 645,-68 639,-68 633,-62 633,-56 633,-56 633,-12 633,-12 633,-6 639,0 645,0 645,0 731,0 731,0 737,0 743,-6 743,-12 743,-12 743,-56 743,-56 743,-62 737,-68 731,-68\"/>\n<text text-anchor=\"start\" x=\"648\" y=\"-52.8\" font-family=\"Helvetica,sans-Serif\" font-size=\"14.00\">entropy = 0.0</text>\n<text text-anchor=\"start\" x=\"650.5\" y=\"-37.8\" font-family=\"Helvetica,sans-Serif\" font-size=\"14.00\">samples = 6</text>\n<text text-anchor=\"start\" x=\"641\" y=\"-22.8\" font-family=\"Helvetica,sans-Serif\" font-size=\"14.00\">value = [0, 6, 0]</text>\n<text text-anchor=\"start\" x=\"660.5\" y=\"-7.8\" font-family=\"Helvetica,sans-Serif\" font-size=\"14.00\">class = p</text>\n</g>\n<!-- 13&#45;&gt;14 -->\n<g id=\"edge14\" class=\"edge\">\n<title>13&#45;&gt;14</title>\n<path fill=\"none\" stroke=\"black\" d=\"M691.14,-103.73C690.76,-95.52 690.37,-86.86 689.99,-78.56\"/>\n<polygon fill=\"black\" stroke=\"black\" points=\"693.47,-78.13 689.52,-68.3 686.48,-78.45 693.47,-78.13\"/>\n</g>\n<!-- 15 -->\n<g id=\"node16\" class=\"node\">\n<title>15</title>\n<path fill=\"#8139e5\" stroke=\"black\" d=\"M859,-68C859,-68 773,-68 773,-68 767,-68 761,-62 761,-56 761,-56 761,-12 761,-12 761,-6 767,0 773,0 773,0 859,0 859,0 865,0 871,-6 871,-12 871,-12 871,-56 871,-56 871,-62 865,-68 859,-68\"/>\n<text text-anchor=\"start\" x=\"776\" y=\"-52.8\" font-family=\"Helvetica,sans-Serif\" font-size=\"14.00\">entropy = 0.0</text>\n<text text-anchor=\"start\" x=\"778.5\" y=\"-37.8\" font-family=\"Helvetica,sans-Serif\" font-size=\"14.00\">samples = 1</text>\n<text text-anchor=\"start\" x=\"769\" y=\"-22.8\" font-family=\"Helvetica,sans-Serif\" font-size=\"14.00\">value = [0, 0, 1]</text>\n<text text-anchor=\"start\" x=\"788.5\" y=\"-7.8\" font-family=\"Helvetica,sans-Serif\" font-size=\"14.00\">class = e</text>\n</g>\n<!-- 13&#45;&gt;15 -->\n<g id=\"edge15\" class=\"edge\">\n<title>13&#45;&gt;15</title>\n<path fill=\"none\" stroke=\"black\" d=\"M738.8,-103.73C749.35,-94.33 760.57,-84.35 771.08,-74.99\"/>\n<polygon fill=\"black\" stroke=\"black\" points=\"773.45,-77.56 778.59,-68.3 768.8,-72.33 773.45,-77.56\"/>\n</g>\n<!-- 17 -->\n<g id=\"node18\" class=\"node\">\n<title>17</title>\n<path fill=\"#39e581\" stroke=\"black\" d=\"M670,-417.5C670,-417.5 584,-417.5 584,-417.5 578,-417.5 572,-411.5 572,-405.5 572,-405.5 572,-361.5 572,-361.5 572,-355.5 578,-349.5 584,-349.5 584,-349.5 670,-349.5 670,-349.5 676,-349.5 682,-355.5 682,-361.5 682,-361.5 682,-405.5 682,-405.5 682,-411.5 676,-417.5 670,-417.5\"/>\n<text text-anchor=\"start\" x=\"587\" y=\"-402.3\" font-family=\"Helvetica,sans-Serif\" font-size=\"14.00\">entropy = 0.0</text>\n<text text-anchor=\"start\" x=\"589.5\" y=\"-387.3\" font-family=\"Helvetica,sans-Serif\" font-size=\"14.00\">samples = 2</text>\n<text text-anchor=\"start\" x=\"580\" y=\"-372.3\" font-family=\"Helvetica,sans-Serif\" font-size=\"14.00\">value = [0, 2, 0]</text>\n<text text-anchor=\"start\" x=\"599.5\" y=\"-357.3\" font-family=\"Helvetica,sans-Serif\" font-size=\"14.00\">class = p</text>\n</g>\n<!-- 16&#45;&gt;17 -->\n<g id=\"edge17\" class=\"edge\">\n<title>16&#45;&gt;17</title>\n<path fill=\"none\" stroke=\"black\" d=\"M630.27,-460.91C629.81,-450.2 629.31,-438.62 628.85,-427.78\"/>\n<polygon fill=\"black\" stroke=\"black\" points=\"632.34,-427.51 628.42,-417.67 625.35,-427.81 632.34,-427.51\"/>\n</g>\n<!-- 18 -->\n<g id=\"node19\" class=\"node\">\n<title>18</title>\n<path fill=\"#8139e5\" stroke=\"black\" d=\"M805.5,-417.5C805.5,-417.5 712.5,-417.5 712.5,-417.5 706.5,-417.5 700.5,-411.5 700.5,-405.5 700.5,-405.5 700.5,-361.5 700.5,-361.5 700.5,-355.5 706.5,-349.5 712.5,-349.5 712.5,-349.5 805.5,-349.5 805.5,-349.5 811.5,-349.5 817.5,-355.5 817.5,-361.5 817.5,-361.5 817.5,-405.5 817.5,-405.5 817.5,-411.5 811.5,-417.5 805.5,-417.5\"/>\n<text text-anchor=\"start\" x=\"719\" y=\"-402.3\" font-family=\"Helvetica,sans-Serif\" font-size=\"14.00\">entropy = 0.0</text>\n<text text-anchor=\"start\" x=\"718\" y=\"-387.3\" font-family=\"Helvetica,sans-Serif\" font-size=\"14.00\">samples = 86</text>\n<text text-anchor=\"start\" x=\"708.5\" y=\"-372.3\" font-family=\"Helvetica,sans-Serif\" font-size=\"14.00\">value = [0, 0, 86]</text>\n<text text-anchor=\"start\" x=\"731.5\" y=\"-357.3\" font-family=\"Helvetica,sans-Serif\" font-size=\"14.00\">class = e</text>\n</g>\n<!-- 16&#45;&gt;18 -->\n<g id=\"edge18\" class=\"edge\">\n<title>16&#45;&gt;18</title>\n<path fill=\"none\" stroke=\"black\" d=\"M676.06,-460.91C688.88,-449.1 702.86,-436.22 715.64,-424.45\"/>\n<polygon fill=\"black\" stroke=\"black\" points=\"718.02,-427.02 723,-417.67 713.27,-421.87 718.02,-427.02\"/>\n</g>\n</g>\n</svg>\n",
            "text/plain": [
              "<graphviz.sources.Source at 0x7b2f5ffeeda0>"
            ]
          },
          "metadata": {}
        }
      ]
    },
    {
      "cell_type": "code",
      "source": [
        "# print to the output file\n",
        "print('\\n', file = outputFile)\n",
        "print('**************************************************************', file = outputFile)\n",
        "print('(A) Classifier 2 - Top DT', file = outputFile)\n",
        "print(classifier_2, file = outputFile)\n",
        "print('\\n', file = outputFile)\n",
        "print(f'best parameters: {classifier_2.best_params_}\\n', file = outputFile)\n",
        "print('\\n', file = outputFile)\n",
        "outputFile.flush()"
      ],
      "metadata": {
        "id": "OyY9Icjy8H7k"
      },
      "execution_count": 69,
      "outputs": []
    },
    {
      "cell_type": "code",
      "source": [
        "# print classification report\n",
        "y_pred = classifier_2.predict(X_test)\n",
        "confusion_mat = confusion_matrix(y_test, y_pred)\n",
        "\n",
        "print(classification_report(y_test, y_pred, target_names=['Adelie', 'Chinstrap', 'Gentoo']))\n",
        "print(\"confusion matrix\\n\",confusion_mat)\n",
        "\n",
        "# print the result to the output file\n",
        "confusion_matrix_result =np.array2string(confusion_mat)\n",
        "print(\"(B) Confusion Matrix\", file = outputFile)\n",
        "print(confusion_matrix_result, file = outputFile)\n",
        "print('\\n', file = outputFile)\n",
        "print(\"(C,D) Classification Report\", file = outputFile)\n",
        "print(classification_report(y_test, y_pred, target_names = ['Adelie', 'Chinstrap', 'Gentoo']), file = outputFile)\n",
        "confusion_matrix_result =np.array2string(confusion_mat)\n",
        "outputFile.flush()"
      ],
      "metadata": {
        "id": "RyyDW6-78J9g",
        "outputId": "282260d9-9df8-4660-b41f-8fe9c91f59c7",
        "colab": {
          "base_uri": "https://localhost:8080/"
        }
      },
      "execution_count": 70,
      "outputs": [
        {
          "output_type": "stream",
          "name": "stdout",
          "text": [
            "              precision    recall  f1-score   support\n",
            "\n",
            "      Adelie       1.00      0.94      0.97        53\n",
            "   Chinstrap       0.79      1.00      0.88        15\n",
            "      Gentoo       1.00      0.97      0.98        32\n",
            "\n",
            "    accuracy                           0.96       100\n",
            "   macro avg       0.93      0.97      0.95       100\n",
            "weighted avg       0.97      0.96      0.96       100\n",
            "\n",
            "confusion matrix\n",
            " [[50  3  0]\n",
            " [ 0 15  0]\n",
            " [ 0  1 31]]\n"
          ]
        }
      ]
    },
    {
      "cell_type": "code",
      "source": [
        "# repeat training & grid search & prediction 5 times for classifier 2\n",
        "from sklearn.metrics import accuracy_score, f1_score\n",
        "\n",
        "accuracy_TopDT = np.zeros(5)\n",
        "macro_avg_TopDT = np.zeros(5)\n",
        "weighted_avg_TopDT = np.zeros(5)\n",
        "\n",
        "print('\\n(E) The result after 5 times of train-test repetition:' ,file = outputFile)\n",
        "\n",
        "for i in range(5):\n",
        "\n",
        "  #data is shuffled and scaled every iteration\n",
        "  X_train, X_test, y_train, y_test = train_test_split(X, y, test_size = 0.3)\n",
        "  sc = StandardScaler()\n",
        "  X_train = sc.fit_transform(X_train)\n",
        "  X_test = sc.transform(X_test)\n",
        "\n",
        "  #grid search\n",
        "  classifier_2 = GridSearchCV(DecisionTreeClassifier(), parameters)\n",
        "  classifier_2.fit(X_train, y_train)\n",
        "\n",
        "  print(f'best parameters for iteration{i+1}: {classifier_2.best_params_}',file = outputFile)\n",
        "  print(f'best parameters for iteration{i+1}: {classifier_2.best_params_}')\n",
        "\n",
        "  y_pred = classifier_2.predict(X_test)\n",
        "\n",
        "  # find the accuracy for each iteration and store the value\n",
        "  accuracy_TopDT[i] = accuracy_score(y_test, y_pred)\n",
        "  macro_avg_TopDT[i] = f1_score(y_test, y_pred, average='macro')\n",
        "  weighted_avg_TopDT[i] = f1_score(y_test, y_pred, average='weighted')\n",
        "\n",
        "print()\n",
        "\n",
        "# compute the average accuracy & variances\n",
        "print(f'accuracy_TopDT: {accuracy_TopDT}')\n",
        "Avg_accuracy = (np.sum(accuracy_TopDT))/5\n",
        "accuracy_variance = np.var(accuracy_TopDT)\n",
        "print(f'average accuracy: {Avg_accuracy:.4f}, variance: {accuracy_variance:.6f}')\n",
        "print()\n",
        "\n",
        "# compute the average macro-average F1 & the variance\n",
        "print(f'macro_avg_TopDT: {macro_avg_TopDT}')\n",
        "Avg_macro_avg = (np.sum(macro_avg_TopDT))/5\n",
        "f1_macro_variance = np.var(macro_avg_TopDT)\n",
        "print(f'average macro-average F1: {Avg_macro_avg:.4f}, variance: {f1_macro_variance:.6f}')\n",
        "print()\n",
        "\n",
        "# compute the average weighted-average F1 & the variance\n",
        "print(f'weighted_avg_TopDT: {weighted_avg_TopDT}')\n",
        "Avg_weighted_avg = (np.sum(weighted_avg_TopDT))/5\n",
        "f1_weighted_variance = np.var(weighted_avg_TopDT)\n",
        "print(f'average weighted-average F1: {Avg_weighted_avg:.4f}, variance: {f1_weighted_variance:.6f}')"
      ],
      "metadata": {
        "id": "0W_Jt4LMJgy0",
        "colab": {
          "base_uri": "https://localhost:8080/"
        },
        "outputId": "cb3bd10d-00d2-4c5d-b3cc-ea7efbb0ab29"
      },
      "execution_count": 71,
      "outputs": [
        {
          "output_type": "stream",
          "name": "stdout",
          "text": [
            "best parameters for iteration1: {'criterion': 'gini', 'max_depth': None, 'min_samples_split': 2}\n",
            "best parameters for iteration2: {'criterion': 'gini', 'max_depth': 3, 'min_samples_split': 2}\n",
            "best parameters for iteration3: {'criterion': 'entropy', 'max_depth': 5, 'min_samples_split': 2}\n",
            "best parameters for iteration4: {'criterion': 'gini', 'max_depth': None, 'min_samples_split': 10}\n",
            "best parameters for iteration5: {'criterion': 'gini', 'max_depth': None, 'min_samples_split': 2}\n",
            "\n",
            "accuracy_TopDT: [0.96 0.94 0.97 0.96 0.98]\n",
            "average accuracy: 0.9620, variance: 0.000176\n",
            "\n",
            "macro_avg_TopDT: [0.95603958 0.93478261 0.96425796 0.95041953 0.98010525]\n",
            "average macro-average F1: 0.9571, variance: 0.000225\n",
            "\n",
            "weighted_avg_TopDT: [0.96028217 0.94       0.9697669  0.96       0.9800077 ]\n",
            "average weighted-average F1: 0.9620, variance: 0.000175\n"
          ]
        }
      ]
    },
    {
      "cell_type": "code",
      "source": [
        "# print the performance result to outputfile\n",
        "print('\\n', file = outputFile)\n",
        "print(f'average accuracy: {Avg_accuracy:.4f}, variance: {accuracy_variance:.6f}', file = outputFile)\n",
        "print(f'average macro-average F1: {Avg_macro_avg:.4f}, variance: {f1_macro_variance:.6f}', file = outputFile)\n",
        "print(f'average weighted-average F1: {Avg_weighted_avg:.4f}, variance: {f1_weighted_variance:.6f}', file = outputFile)\n",
        "print('\\n', file = outputFile)\n",
        "outputFile.flush()"
      ],
      "metadata": {
        "id": "Y4XPTddeb6Ck"
      },
      "execution_count": 72,
      "outputs": []
    },
    {
      "cell_type": "markdown",
      "source": [
        "##### Classifier 3 - Base-MLP"
      ],
      "metadata": {
        "id": "RsxEdv-Xd7Vn"
      }
    },
    {
      "cell_type": "code",
      "source": [
        "#Train Classifier 3\n",
        "mlp_base_penguin = MLPClassifier(hidden_layer_sizes =(100, 100,), activation = 'logistic', solver = 'sgd')\n",
        "mlp_base_penguin.fit(X_train, y_train)\n",
        "\n",
        "#print to the output file\n",
        "print('\\n**************************************************************', file = outputFile)\n",
        "print('(A) Classifier 3 - Base MLP', file = outputFile)\n",
        "print(mlp_base_penguin, file = outputFile)\n",
        "print('\\n', file = outputFile)"
      ],
      "metadata": {
        "id": "LXZXNDUWd6Np"
      },
      "execution_count": 73,
      "outputs": []
    },
    {
      "cell_type": "markdown",
      "source": [
        "Metrics for Classifier 3"
      ],
      "metadata": {
        "id": "KpcPx0vCJryX"
      }
    },
    {
      "cell_type": "code",
      "source": [
        "#predict with Base MLP\n",
        "y_pred_base_mlp = mlp_base_penguin.predict(X_test)\n",
        "\n",
        "#print the result here on notebook\n",
        "print(classification_report(y_test, y_pred_base_mlp, target_names = ['Adelie', 'Gentoo', 'Chinstap']))\n",
        "print(confusion_matrix(y_test, y_pred_base_mlp))\n",
        "\n",
        "#print the result to the output file\n",
        "print(\"(B) Confusion Matrix\", file = outputFile)\n",
        "confusion_matrix_result =np.array2string(confusion_matrix(y_test, y_pred_base_mlp))\n",
        "print(confusion_matrix_result, file = outputFile)\n",
        "print('\\n', file = outputFile)\n",
        "print(\"(C,D) Classification Report\", file = outputFile)\n",
        "print(classification_report(y_test, y_pred_base_mlp, target_names = ['Adelie', 'Gentoo', 'Chinstap']), file = outputFile)\n",
        "\n",
        "outputFile.flush()"
      ],
      "metadata": {
        "id": "tpH0AREeJmJ2",
        "outputId": "ed4c13b3-9915-4930-e25f-aca8a05c7d5e",
        "colab": {
          "base_uri": "https://localhost:8080/"
        }
      },
      "execution_count": 74,
      "outputs": [
        {
          "output_type": "stream",
          "name": "stdout",
          "text": [
            "              precision    recall  f1-score   support\n",
            "\n",
            "      Adelie       0.00      0.00      0.00        49\n",
            "      Gentoo       0.00      0.00      0.00        27\n",
            "    Chinstap       0.24      1.00      0.39        24\n",
            "\n",
            "    accuracy                           0.24       100\n",
            "   macro avg       0.08      0.33      0.13       100\n",
            "weighted avg       0.06      0.24      0.09       100\n",
            "\n",
            "[[ 0  0 49]\n",
            " [ 0  0 27]\n",
            " [ 0  0 24]]\n"
          ]
        }
      ]
    },
    {
      "cell_type": "code",
      "source": [
        "#repeat train-test 5 times\n",
        "MLP_base_train_test_repetition(X, y, outputFile, ['Adelie', 'Gentoo', 'Chinstap'])"
      ],
      "metadata": {
        "id": "mpo7xeAfNajE"
      },
      "execution_count": 75,
      "outputs": []
    },
    {
      "cell_type": "markdown",
      "source": [
        "##### Classifier 4 - Top-MLP"
      ],
      "metadata": {
        "id": "Km0ZyCsVe8ze"
      }
    },
    {
      "cell_type": "code",
      "source": [
        "#create grid for each hyperparamter we want to test\n",
        "activation_grid = np.array(['logistic', 'tanh', 'relu'])\n",
        "neurons_tuple_grid = np.array([(30, 50,), (10, 10, 10,)], dtype = 'object')\n",
        "solver_grid = np.array(['adam', 'sgd'])\n",
        "\n",
        "#create parameter grid for GridSearchCV\n",
        "param_grid = {'hidden_layer_sizes': neurons_tuple_grid, 'activation': activation_grid, 'solver': solver_grid}\n",
        "\n",
        "#create grid cv object and do the search\n",
        "mlp_top_penguin = MLPClassifier()\n",
        "gridcv = sk.model_selection.GridSearchCV(mlp_top_penguin, param_grid = param_grid)\n",
        "gridcv.fit(X_train, y_train)\n",
        "\n",
        "#print the result here on notebook\n",
        "print(f'best parameters: {gridcv.best_params_}')\n",
        "\n",
        "#print the result to the output file\n",
        "print('**************************************************************', file = outputFile)\n",
        "print('(A) Classifier 4 - Top MLP', file = outputFile)\n",
        "print(f'best parameters: {gridcv.best_params_}\\n', file = outputFile)\n",
        "outputFile.flush()"
      ],
      "metadata": {
        "id": "-V8WxwtsfAHN",
        "outputId": "eeccd023-f47f-404b-ff05-70993b2e74ba",
        "colab": {
          "base_uri": "https://localhost:8080/"
        }
      },
      "execution_count": 76,
      "outputs": [
        {
          "output_type": "stream",
          "name": "stdout",
          "text": [
            "best parameters: {'activation': 'tanh', 'hidden_layer_sizes': (30, 50), 'solver': 'adam'}\n"
          ]
        }
      ]
    },
    {
      "cell_type": "markdown",
      "source": [
        "Metrics for Classifier 4 - Top MLP"
      ],
      "metadata": {
        "id": "1l-RdJs8oT5n"
      }
    },
    {
      "cell_type": "code",
      "source": [
        "#predict\n",
        "y_pred_top_mlp = gridcv.best_estimator_.predict(X_test)\n",
        "\n",
        "#print the result here on notebook\n",
        "print(classification_report(y_test, y_pred_top_mlp, target_names = ['Adelie', 'Gentoo', 'Chinstap']))\n",
        "print(confusion_matrix(y_test, y_pred_top_mlp))\n",
        "\n",
        "#print the result to the output file\n",
        "print(\"(B) Confusion Matrix\", file = outputFile)\n",
        "confusion_matrix_result =np.array2string(confusion_matrix(y_test, y_pred_top_mlp))\n",
        "print(confusion_matrix_result, file = outputFile)\n",
        "print(\"\\n(C,D) Classification Report\", file = outputFile)\n",
        "print(classification_report(y_test, y_pred_top_mlp, target_names = ['Adelie', 'Gentoo', 'Chinstap']), file = outputFile)\n",
        "\n",
        "outputFile.flush()"
      ],
      "metadata": {
        "id": "HINTuN52kIyr",
        "outputId": "92eaa38f-c5b8-4955-d466-f788b8e4c6af",
        "colab": {
          "base_uri": "https://localhost:8080/"
        }
      },
      "execution_count": 77,
      "outputs": [
        {
          "output_type": "stream",
          "name": "stdout",
          "text": [
            "              precision    recall  f1-score   support\n",
            "\n",
            "      Adelie       0.98      1.00      0.99        49\n",
            "      Gentoo       1.00      0.96      0.98        27\n",
            "    Chinstap       1.00      1.00      1.00        24\n",
            "\n",
            "    accuracy                           0.99       100\n",
            "   macro avg       0.99      0.99      0.99       100\n",
            "weighted avg       0.99      0.99      0.99       100\n",
            "\n",
            "[[49  0  0]\n",
            " [ 1 26  0]\n",
            " [ 0  0 24]]\n"
          ]
        }
      ]
    },
    {
      "cell_type": "code",
      "source": [
        "MLP_top_train_test_repetition(param_grid, X, y, outputFile,['Adelie', 'Gentoo', 'Chinstap'])"
      ],
      "metadata": {
        "id": "WtHfQTtKSIlM"
      },
      "execution_count": 78,
      "outputs": []
    },
    {
      "cell_type": "code",
      "source": [
        "outputFile.close()"
      ],
      "metadata": {
        "id": "uj6lfQkPIRsk"
      },
      "execution_count": 79,
      "outputs": []
    },
    {
      "cell_type": "markdown",
      "source": [
        "## Dataset - 'abalone.csv'\n",
        "- Goal : prediction of sex"
      ],
      "metadata": {
        "id": "WYPRbdtq2-91"
      }
    },
    {
      "cell_type": "code",
      "source": [
        "outputFile = open('abalone-performance.txt', 'w')"
      ],
      "metadata": {
        "id": "jQKCBY32lPaR"
      },
      "execution_count": 80,
      "outputs": []
    },
    {
      "cell_type": "code",
      "source": [
        "data_abalone = pd.read_csv('abalone.csv')\n",
        "data_abalone.head()"
      ],
      "metadata": {
        "id": "wMutHb2AzmB1",
        "colab": {
          "base_uri": "https://localhost:8080/",
          "height": 206
        },
        "outputId": "c538c22c-c75e-44f4-eb6f-05d641fbbbbe"
      },
      "execution_count": 81,
      "outputs": [
        {
          "output_type": "execute_result",
          "data": {
            "text/plain": [
              "  Type  LongestShell  Diameter  Height  WholeWeight  ShuckedWeight  \\\n",
              "0    F         0.605     0.470   0.165       1.1775         0.6110   \n",
              "1    M         0.550     0.425   0.150       0.8315         0.4110   \n",
              "2    M         0.460     0.345   0.110       0.4595         0.2350   \n",
              "3    F         0.650     0.475   0.165       1.3875         0.5800   \n",
              "4    M         0.575     0.470   0.140       0.8375         0.3485   \n",
              "\n",
              "   VisceraWeight  ShellWeight  Rings  \n",
              "0         0.2275       0.2920      9  \n",
              "1         0.1765       0.2165     10  \n",
              "2         0.0885       0.1160      7  \n",
              "3         0.3485       0.3095      9  \n",
              "4         0.1735       0.2400     11  "
            ],
            "text/html": [
              "\n",
              "  <div id=\"df-94b18cc7-564f-446c-9162-844a865ff445\" class=\"colab-df-container\">\n",
              "    <div>\n",
              "<style scoped>\n",
              "    .dataframe tbody tr th:only-of-type {\n",
              "        vertical-align: middle;\n",
              "    }\n",
              "\n",
              "    .dataframe tbody tr th {\n",
              "        vertical-align: top;\n",
              "    }\n",
              "\n",
              "    .dataframe thead th {\n",
              "        text-align: right;\n",
              "    }\n",
              "</style>\n",
              "<table border=\"1\" class=\"dataframe\">\n",
              "  <thead>\n",
              "    <tr style=\"text-align: right;\">\n",
              "      <th></th>\n",
              "      <th>Type</th>\n",
              "      <th>LongestShell</th>\n",
              "      <th>Diameter</th>\n",
              "      <th>Height</th>\n",
              "      <th>WholeWeight</th>\n",
              "      <th>ShuckedWeight</th>\n",
              "      <th>VisceraWeight</th>\n",
              "      <th>ShellWeight</th>\n",
              "      <th>Rings</th>\n",
              "    </tr>\n",
              "  </thead>\n",
              "  <tbody>\n",
              "    <tr>\n",
              "      <th>0</th>\n",
              "      <td>F</td>\n",
              "      <td>0.605</td>\n",
              "      <td>0.470</td>\n",
              "      <td>0.165</td>\n",
              "      <td>1.1775</td>\n",
              "      <td>0.6110</td>\n",
              "      <td>0.2275</td>\n",
              "      <td>0.2920</td>\n",
              "      <td>9</td>\n",
              "    </tr>\n",
              "    <tr>\n",
              "      <th>1</th>\n",
              "      <td>M</td>\n",
              "      <td>0.550</td>\n",
              "      <td>0.425</td>\n",
              "      <td>0.150</td>\n",
              "      <td>0.8315</td>\n",
              "      <td>0.4110</td>\n",
              "      <td>0.1765</td>\n",
              "      <td>0.2165</td>\n",
              "      <td>10</td>\n",
              "    </tr>\n",
              "    <tr>\n",
              "      <th>2</th>\n",
              "      <td>M</td>\n",
              "      <td>0.460</td>\n",
              "      <td>0.345</td>\n",
              "      <td>0.110</td>\n",
              "      <td>0.4595</td>\n",
              "      <td>0.2350</td>\n",
              "      <td>0.0885</td>\n",
              "      <td>0.1160</td>\n",
              "      <td>7</td>\n",
              "    </tr>\n",
              "    <tr>\n",
              "      <th>3</th>\n",
              "      <td>F</td>\n",
              "      <td>0.650</td>\n",
              "      <td>0.475</td>\n",
              "      <td>0.165</td>\n",
              "      <td>1.3875</td>\n",
              "      <td>0.5800</td>\n",
              "      <td>0.3485</td>\n",
              "      <td>0.3095</td>\n",
              "      <td>9</td>\n",
              "    </tr>\n",
              "    <tr>\n",
              "      <th>4</th>\n",
              "      <td>M</td>\n",
              "      <td>0.575</td>\n",
              "      <td>0.470</td>\n",
              "      <td>0.140</td>\n",
              "      <td>0.8375</td>\n",
              "      <td>0.3485</td>\n",
              "      <td>0.1735</td>\n",
              "      <td>0.2400</td>\n",
              "      <td>11</td>\n",
              "    </tr>\n",
              "  </tbody>\n",
              "</table>\n",
              "</div>\n",
              "    <div class=\"colab-df-buttons\">\n",
              "\n",
              "  <div class=\"colab-df-container\">\n",
              "    <button class=\"colab-df-convert\" onclick=\"convertToInteractive('df-94b18cc7-564f-446c-9162-844a865ff445')\"\n",
              "            title=\"Convert this dataframe to an interactive table.\"\n",
              "            style=\"display:none;\">\n",
              "\n",
              "  <svg xmlns=\"http://www.w3.org/2000/svg\" height=\"24px\" viewBox=\"0 -960 960 960\">\n",
              "    <path d=\"M120-120v-720h720v720H120Zm60-500h600v-160H180v160Zm220 220h160v-160H400v160Zm0 220h160v-160H400v160ZM180-400h160v-160H180v160Zm440 0h160v-160H620v160ZM180-180h160v-160H180v160Zm440 0h160v-160H620v160Z\"/>\n",
              "  </svg>\n",
              "    </button>\n",
              "\n",
              "  <style>\n",
              "    .colab-df-container {\n",
              "      display:flex;\n",
              "      gap: 12px;\n",
              "    }\n",
              "\n",
              "    .colab-df-convert {\n",
              "      background-color: #E8F0FE;\n",
              "      border: none;\n",
              "      border-radius: 50%;\n",
              "      cursor: pointer;\n",
              "      display: none;\n",
              "      fill: #1967D2;\n",
              "      height: 32px;\n",
              "      padding: 0 0 0 0;\n",
              "      width: 32px;\n",
              "    }\n",
              "\n",
              "    .colab-df-convert:hover {\n",
              "      background-color: #E2EBFA;\n",
              "      box-shadow: 0px 1px 2px rgba(60, 64, 67, 0.3), 0px 1px 3px 1px rgba(60, 64, 67, 0.15);\n",
              "      fill: #174EA6;\n",
              "    }\n",
              "\n",
              "    .colab-df-buttons div {\n",
              "      margin-bottom: 4px;\n",
              "    }\n",
              "\n",
              "    [theme=dark] .colab-df-convert {\n",
              "      background-color: #3B4455;\n",
              "      fill: #D2E3FC;\n",
              "    }\n",
              "\n",
              "    [theme=dark] .colab-df-convert:hover {\n",
              "      background-color: #434B5C;\n",
              "      box-shadow: 0px 1px 3px 1px rgba(0, 0, 0, 0.15);\n",
              "      filter: drop-shadow(0px 1px 2px rgba(0, 0, 0, 0.3));\n",
              "      fill: #FFFFFF;\n",
              "    }\n",
              "  </style>\n",
              "\n",
              "    <script>\n",
              "      const buttonEl =\n",
              "        document.querySelector('#df-94b18cc7-564f-446c-9162-844a865ff445 button.colab-df-convert');\n",
              "      buttonEl.style.display =\n",
              "        google.colab.kernel.accessAllowed ? 'block' : 'none';\n",
              "\n",
              "      async function convertToInteractive(key) {\n",
              "        const element = document.querySelector('#df-94b18cc7-564f-446c-9162-844a865ff445');\n",
              "        const dataTable =\n",
              "          await google.colab.kernel.invokeFunction('convertToInteractive',\n",
              "                                                    [key], {});\n",
              "        if (!dataTable) return;\n",
              "\n",
              "        const docLinkHtml = 'Like what you see? Visit the ' +\n",
              "          '<a target=\"_blank\" href=https://colab.research.google.com/notebooks/data_table.ipynb>data table notebook</a>'\n",
              "          + ' to learn more about interactive tables.';\n",
              "        element.innerHTML = '';\n",
              "        dataTable['output_type'] = 'display_data';\n",
              "        await google.colab.output.renderOutput(dataTable, element);\n",
              "        const docLink = document.createElement('div');\n",
              "        docLink.innerHTML = docLinkHtml;\n",
              "        element.appendChild(docLink);\n",
              "      }\n",
              "    </script>\n",
              "  </div>\n",
              "\n",
              "\n",
              "<div id=\"df-71c8094f-051e-4621-9c9e-e9b0590cff69\">\n",
              "  <button class=\"colab-df-quickchart\" onclick=\"quickchart('df-71c8094f-051e-4621-9c9e-e9b0590cff69')\"\n",
              "            title=\"Suggest charts\"\n",
              "            style=\"display:none;\">\n",
              "\n",
              "<svg xmlns=\"http://www.w3.org/2000/svg\" height=\"24px\"viewBox=\"0 0 24 24\"\n",
              "     width=\"24px\">\n",
              "    <g>\n",
              "        <path d=\"M19 3H5c-1.1 0-2 .9-2 2v14c0 1.1.9 2 2 2h14c1.1 0 2-.9 2-2V5c0-1.1-.9-2-2-2zM9 17H7v-7h2v7zm4 0h-2V7h2v10zm4 0h-2v-4h2v4z\"/>\n",
              "    </g>\n",
              "</svg>\n",
              "  </button>\n",
              "\n",
              "<style>\n",
              "  .colab-df-quickchart {\n",
              "      --bg-color: #E8F0FE;\n",
              "      --fill-color: #1967D2;\n",
              "      --hover-bg-color: #E2EBFA;\n",
              "      --hover-fill-color: #174EA6;\n",
              "      --disabled-fill-color: #AAA;\n",
              "      --disabled-bg-color: #DDD;\n",
              "  }\n",
              "\n",
              "  [theme=dark] .colab-df-quickchart {\n",
              "      --bg-color: #3B4455;\n",
              "      --fill-color: #D2E3FC;\n",
              "      --hover-bg-color: #434B5C;\n",
              "      --hover-fill-color: #FFFFFF;\n",
              "      --disabled-bg-color: #3B4455;\n",
              "      --disabled-fill-color: #666;\n",
              "  }\n",
              "\n",
              "  .colab-df-quickchart {\n",
              "    background-color: var(--bg-color);\n",
              "    border: none;\n",
              "    border-radius: 50%;\n",
              "    cursor: pointer;\n",
              "    display: none;\n",
              "    fill: var(--fill-color);\n",
              "    height: 32px;\n",
              "    padding: 0;\n",
              "    width: 32px;\n",
              "  }\n",
              "\n",
              "  .colab-df-quickchart:hover {\n",
              "    background-color: var(--hover-bg-color);\n",
              "    box-shadow: 0 1px 2px rgba(60, 64, 67, 0.3), 0 1px 3px 1px rgba(60, 64, 67, 0.15);\n",
              "    fill: var(--button-hover-fill-color);\n",
              "  }\n",
              "\n",
              "  .colab-df-quickchart-complete:disabled,\n",
              "  .colab-df-quickchart-complete:disabled:hover {\n",
              "    background-color: var(--disabled-bg-color);\n",
              "    fill: var(--disabled-fill-color);\n",
              "    box-shadow: none;\n",
              "  }\n",
              "\n",
              "  .colab-df-spinner {\n",
              "    border: 2px solid var(--fill-color);\n",
              "    border-color: transparent;\n",
              "    border-bottom-color: var(--fill-color);\n",
              "    animation:\n",
              "      spin 1s steps(1) infinite;\n",
              "  }\n",
              "\n",
              "  @keyframes spin {\n",
              "    0% {\n",
              "      border-color: transparent;\n",
              "      border-bottom-color: var(--fill-color);\n",
              "      border-left-color: var(--fill-color);\n",
              "    }\n",
              "    20% {\n",
              "      border-color: transparent;\n",
              "      border-left-color: var(--fill-color);\n",
              "      border-top-color: var(--fill-color);\n",
              "    }\n",
              "    30% {\n",
              "      border-color: transparent;\n",
              "      border-left-color: var(--fill-color);\n",
              "      border-top-color: var(--fill-color);\n",
              "      border-right-color: var(--fill-color);\n",
              "    }\n",
              "    40% {\n",
              "      border-color: transparent;\n",
              "      border-right-color: var(--fill-color);\n",
              "      border-top-color: var(--fill-color);\n",
              "    }\n",
              "    60% {\n",
              "      border-color: transparent;\n",
              "      border-right-color: var(--fill-color);\n",
              "    }\n",
              "    80% {\n",
              "      border-color: transparent;\n",
              "      border-right-color: var(--fill-color);\n",
              "      border-bottom-color: var(--fill-color);\n",
              "    }\n",
              "    90% {\n",
              "      border-color: transparent;\n",
              "      border-bottom-color: var(--fill-color);\n",
              "    }\n",
              "  }\n",
              "</style>\n",
              "\n",
              "  <script>\n",
              "    async function quickchart(key) {\n",
              "      const quickchartButtonEl =\n",
              "        document.querySelector('#' + key + ' button');\n",
              "      quickchartButtonEl.disabled = true;  // To prevent multiple clicks.\n",
              "      quickchartButtonEl.classList.add('colab-df-spinner');\n",
              "      try {\n",
              "        const charts = await google.colab.kernel.invokeFunction(\n",
              "            'suggestCharts', [key], {});\n",
              "      } catch (error) {\n",
              "        console.error('Error during call to suggestCharts:', error);\n",
              "      }\n",
              "      quickchartButtonEl.classList.remove('colab-df-spinner');\n",
              "      quickchartButtonEl.classList.add('colab-df-quickchart-complete');\n",
              "    }\n",
              "    (() => {\n",
              "      let quickchartButtonEl =\n",
              "        document.querySelector('#df-71c8094f-051e-4621-9c9e-e9b0590cff69 button');\n",
              "      quickchartButtonEl.style.display =\n",
              "        google.colab.kernel.accessAllowed ? 'block' : 'none';\n",
              "    })();\n",
              "  </script>\n",
              "</div>\n",
              "    </div>\n",
              "  </div>\n"
            ]
          },
          "metadata": {},
          "execution_count": 81
        }
      ]
    },
    {
      "cell_type": "markdown",
      "source": [
        "#### Plot the percentage of the instances"
      ],
      "metadata": {
        "id": "vRRzVKIo39rm"
      }
    },
    {
      "cell_type": "code",
      "source": [
        "# Check the output class is balanced\n",
        "abalone_labels = data_abalone['Type']\n",
        "\n",
        "plt.figure(figsize=(10, 6))\n",
        "sns.countplot(x=abalone_labels)\n",
        "plt.title('Distribution of class label')\n",
        "plt.xlabel('Abalone')\n",
        "plt.ylabel('Frequency')\n",
        "\n",
        "# save as graphic\n",
        "plt.savefig('abalone-classes.png')\n"
      ],
      "metadata": {
        "colab": {
          "base_uri": "https://localhost:8080/",
          "height": 564
        },
        "id": "yq-_zOJu3-Sr",
        "outputId": "51d4835c-b4ac-46e7-c0e2-6b8605a8be3e"
      },
      "execution_count": 82,
      "outputs": [
        {
          "output_type": "display_data",
          "data": {
            "text/plain": [
              "<Figure size 1000x600 with 1 Axes>"
            ],
            "image/png": "[encoded data removed]"
          },
          "metadata": {}
        }
      ]
    },
    {
      "cell_type": "markdown",
      "source": [
        "#### Dataset split into training & test set"
      ],
      "metadata": {
        "id": "U83DY2IC3rvY"
      }
    },
    {
      "cell_type": "code",
      "source": [
        "X = data_abalone.iloc[:, 1:].values\n",
        "y = data_abalone.iloc[:, 0].values\n",
        "\n",
        "X_train, X_test, y_train, y_test = train_test_split(X, y, test_size = 0.3)"
      ],
      "metadata": {
        "id": "ZxWO6bhowSfw"
      },
      "execution_count": 83,
      "outputs": []
    },
    {
      "cell_type": "code",
      "source": [
        "sc = StandardScaler()\n",
        "X_train = sc.fit_transform(X_train)\n",
        "X_test = sc.transform(X_test)"
      ],
      "metadata": {
        "id": "6VjPNuwawpfg"
      },
      "execution_count": 84,
      "outputs": []
    },
    {
      "cell_type": "markdown",
      "source": [
        "#### Train and test 4 different classifiers"
      ],
      "metadata": {
        "id": "xDSmVlbI9Hyl"
      }
    },
    {
      "cell_type": "markdown",
      "source": [
        "##### Classifier 1 - Base-DT"
      ],
      "metadata": {
        "id": "XyL9UsKq2tsv"
      }
    },
    {
      "cell_type": "code",
      "source": [
        "from sklearn.tree import DecisionTreeClassifier\n",
        "\n",
        "# Base Decision Tree\n",
        "classifier_1 = DecisionTreeClassifier(max_depth=3)\n",
        "classifier_1.fit(X_train, y_train)"
      ],
      "metadata": {
        "colab": {
          "base_uri": "https://localhost:8080/",
          "height": 75
        },
        "id": "C0cUxRm82tD7",
        "outputId": "4df33087-4e64-4d09-eb8d-f5861ec3390d"
      },
      "execution_count": 85,
      "outputs": [
        {
          "output_type": "execute_result",
          "data": {
            "text/plain": [
              "DecisionTreeClassifier(max_depth=3)"
            ],
            "text/html": [
              "<style>#sk-container-id-3 {color: black;background-color: white;}#sk-container-id-3 pre{padding: 0;}#sk-container-id-3 div.sk-toggleable {background-color: white;}#sk-container-id-3 label.sk-toggleable__label {cursor: pointer;display: block;width: 100%;margin-bottom: 0;padding: 0.3em;box-sizing: border-box;text-align: center;}#sk-container-id-3 label.sk-toggleable__label-arrow:before {content: \"▸\";float: left;margin-right: 0.25em;color: #696969;}#sk-container-id-3 label.sk-toggleable__label-arrow:hover:before {color: black;}#sk-container-id-3 div.sk-estimator:hover label.sk-toggleable__label-arrow:before {color: black;}#sk-container-id-3 div.sk-toggleable__content {max-height: 0;max-width: 0;overflow: hidden;text-align: left;background-color: #f0f8ff;}#sk-container-id-3 div.sk-toggleable__content pre {margin: 0.2em;color: black;border-radius: 0.25em;background-color: #f0f8ff;}#sk-container-id-3 input.sk-toggleable__control:checked~div.sk-toggleable__content {max-height: 200px;max-width: 100%;overflow: auto;}#sk-container-id-3 input.sk-toggleable__control:checked~label.sk-toggleable__label-arrow:before {content: \"▾\";}#sk-container-id-3 div.sk-estimator input.sk-toggleable__control:checked~label.sk-toggleable__label {background-color: #d4ebff;}#sk-container-id-3 div.sk-label input.sk-toggleable__control:checked~label.sk-toggleable__label {background-color: #d4ebff;}#sk-container-id-3 input.sk-hidden--visually {border: 0;clip: rect(1px 1px 1px 1px);clip: rect(1px, 1px, 1px, 1px);height: 1px;margin: -1px;overflow: hidden;padding: 0;position: absolute;width: 1px;}#sk-container-id-3 div.sk-estimator {font-family: monospace;background-color: #f0f8ff;border: 1px dotted black;border-radius: 0.25em;box-sizing: border-box;margin-bottom: 0.5em;}#sk-container-id-3 div.sk-estimator:hover {background-color: #d4ebff;}#sk-container-id-3 div.sk-parallel-item::after {content: \"\";width: 100%;border-bottom: 1px solid gray;flex-grow: 1;}#sk-container-id-3 div.sk-label:hover label.sk-toggleable__label {background-color: #d4ebff;}#sk-container-id-3 div.sk-serial::before {content: \"\";position: absolute;border-left: 1px solid gray;box-sizing: border-box;top: 0;bottom: 0;left: 50%;z-index: 0;}#sk-container-id-3 div.sk-serial {display: flex;flex-direction: column;align-items: center;background-color: white;padding-right: 0.2em;padding-left: 0.2em;position: relative;}#sk-container-id-3 div.sk-item {position: relative;z-index: 1;}#sk-container-id-3 div.sk-parallel {display: flex;align-items: stretch;justify-content: center;background-color: white;position: relative;}#sk-container-id-3 div.sk-item::before, #sk-container-id-3 div.sk-parallel-item::before {content: \"\";position: absolute;border-left: 1px solid gray;box-sizing: border-box;top: 0;bottom: 0;left: 50%;z-index: -1;}#sk-container-id-3 div.sk-parallel-item {display: flex;flex-direction: column;z-index: 1;position: relative;background-color: white;}#sk-container-id-3 div.sk-parallel-item:first-child::after {align-self: flex-end;width: 50%;}#sk-container-id-3 div.sk-parallel-item:last-child::after {align-self: flex-start;width: 50%;}#sk-container-id-3 div.sk-parallel-item:only-child::after {width: 0;}#sk-container-id-3 div.sk-dashed-wrapped {border: 1px dashed gray;margin: 0 0.4em 0.5em 0.4em;box-sizing: border-box;padding-bottom: 0.4em;background-color: white;}#sk-container-id-3 div.sk-label label {font-family: monospace;font-weight: bold;display: inline-block;line-height: 1.2em;}#sk-container-id-3 div.sk-label-container {text-align: center;}#sk-container-id-3 div.sk-container {/* jupyter's `normalize.less` sets `[hidden] { display: none; }` but bootstrap.min.css set `[hidden] { display: none !important; }` so we also need the `!important` here to be able to override the default hidden behavior on the sphinx rendered scikit-learn.org. See: https://github.com/scikit-learn/scikit-learn/issues/21755 */display: inline-block !important;position: relative;}#sk-container-id-3 div.sk-text-repr-fallback {display: none;}</style><div id=\"sk-container-id-3\" class=\"sk-top-container\"><div class=\"sk-text-repr-fallback\"><pre>DecisionTreeClassifier(max_depth=3)</pre><b>In a Jupyter environment, please rerun this cell to show the HTML representation or trust the notebook. <br />On GitHub, the HTML representation is unable to render, please try loading this page with nbviewer.org.</b></div><div class=\"sk-container\" hidden><div class=\"sk-item\"><div class=\"sk-estimator sk-toggleable\"><input class=\"sk-toggleable__control sk-hidden--visually\" id=\"sk-estimator-id-3\" type=\"checkbox\" checked><label for=\"sk-estimator-id-3\" class=\"sk-toggleable__label sk-toggleable__label-arrow\">DecisionTreeClassifier</label><div class=\"sk-toggleable__content\"><pre>DecisionTreeClassifier(max_depth=3)</pre></div></div></div></div></div>"
            ]
          },
          "metadata": {},
          "execution_count": 85
        }
      ]
    },
    {
      "cell_type": "code",
      "source": [
        "abalone_class = data_abalone.columns[0]\n",
        "abalone_features = list(data_abalone.columns[1:])"
      ],
      "metadata": {
        "id": "dGLPS-XQ29an"
      },
      "execution_count": 86,
      "outputs": []
    },
    {
      "cell_type": "code",
      "source": [
        "dot_data = tree.export_graphviz(classifier_1,\n",
        "                feature_names=abalone_features,\n",
        "                class_names=abalone_class,\n",
        "                filled=True, rounded=True,\n",
        "                special_characters=True)\n",
        "\n",
        "graph = graphviz.Source(dot_data)\n",
        "graph"
      ],
      "metadata": {
        "id": "8tgSldCH5xU1",
        "colab": {
          "base_uri": "https://localhost:8080/",
          "height": 599
        },
        "outputId": "d579f352-8bbd-404e-af83-275113b31dcb"
      },
      "execution_count": 87,
      "outputs": [
        {
          "output_type": "execute_result",
          "data": {
            "image/svg+xml": "<?xml version=\"1.0\" encoding=\"UTF-8\" standalone=\"no\"?>\n<!DOCTYPE svg PUBLIC \"-//W3C//DTD SVG 1.1//EN\"\n \"http://www.w3.org/Graphics/SVG/1.1/DTD/svg11.dtd\">\n<!-- Generated by graphviz version 2.43.0 (0)\n -->\n<!-- Title: Tree Pages: 1 -->\n<svg width=\"1238pt\" height=\"433pt\"\n viewBox=\"0.00 0.00 1238.00 433.00\" xmlns=\"http://www.w3.org/2000/svg\" xmlns:xlink=\"http://www.w3.org/1999/xlink\">\n<g id=\"graph0\" class=\"graph\" transform=\"scale(1 1) rotate(0) translate(4 429)\">\n<title>Tree</title>\n<polygon fill=\"white\" stroke=\"transparent\" points=\"-4,4 -4,-429 1234,-429 1234,4 -4,4\"/>\n<!-- 0 -->\n<g id=\"node1\" class=\"node\">\n<title>0</title>\n<path fill=\"#f5effd\" stroke=\"black\" d=\"M668,-425C668,-425 530,-425 530,-425 524,-425 518,-419 518,-413 518,-413 518,-354 518,-354 518,-348 524,-342 530,-342 530,-342 668,-342 668,-342 674,-342 680,-348 680,-354 680,-354 680,-413 680,-413 680,-419 674,-425 668,-425\"/>\n<text text-anchor=\"start\" x=\"531.5\" y=\"-409.8\" font-family=\"Helvetica,sans-Serif\" font-size=\"14.00\">WholeWeight ≤ &#45;0.403</text>\n<text text-anchor=\"start\" x=\"563.5\" y=\"-394.8\" font-family=\"Helvetica,sans-Serif\" font-size=\"14.00\">gini = 0.664</text>\n<text text-anchor=\"start\" x=\"550.5\" y=\"-379.8\" font-family=\"Helvetica,sans-Serif\" font-size=\"14.00\">samples = 2923</text>\n<text text-anchor=\"start\" x=\"526\" y=\"-364.8\" font-family=\"Helvetica,sans-Serif\" font-size=\"14.00\">value = [898, 931, 1094]</text>\n<text text-anchor=\"start\" x=\"571.5\" y=\"-349.8\" font-family=\"Helvetica,sans-Serif\" font-size=\"14.00\">class = p</text>\n</g>\n<!-- 1 -->\n<g id=\"node2\" class=\"node\">\n<title>1</title>\n<path fill=\"#93f1ba\" stroke=\"black\" d=\"M520.5,-306C520.5,-306 389.5,-306 389.5,-306 383.5,-306 377.5,-300 377.5,-294 377.5,-294 377.5,-235 377.5,-235 377.5,-229 383.5,-223 389.5,-223 389.5,-223 520.5,-223 520.5,-223 526.5,-223 532.5,-229 532.5,-235 532.5,-235 532.5,-294 532.5,-294 532.5,-300 526.5,-306 520.5,-306\"/>\n<text text-anchor=\"start\" x=\"411\" y=\"-290.8\" font-family=\"Helvetica,sans-Serif\" font-size=\"14.00\">Rings ≤ &#45;0.443</text>\n<text text-anchor=\"start\" x=\"419.5\" y=\"-275.8\" font-family=\"Helvetica,sans-Serif\" font-size=\"14.00\">gini = 0.523</text>\n<text text-anchor=\"start\" x=\"406.5\" y=\"-260.8\" font-family=\"Helvetica,sans-Serif\" font-size=\"14.00\">samples = 1132</text>\n<text text-anchor=\"start\" x=\"385.5\" y=\"-245.8\" font-family=\"Helvetica,sans-Serif\" font-size=\"14.00\">value = [172, 726, 234]</text>\n<text text-anchor=\"start\" x=\"428\" y=\"-230.8\" font-family=\"Helvetica,sans-Serif\" font-size=\"14.00\">class = y</text>\n</g>\n<!-- 0&#45;&gt;1 -->\n<g id=\"edge1\" class=\"edge\">\n<title>0&#45;&gt;1</title>\n<path fill=\"none\" stroke=\"black\" d=\"M549.04,-341.91C537.31,-332.38 524.72,-322.15 512.69,-312.37\"/>\n<polygon fill=\"black\" stroke=\"black\" points=\"514.84,-309.61 504.87,-306.02 510.43,-315.04 514.84,-309.61\"/>\n<text text-anchor=\"middle\" x=\"507.44\" y=\"-327.19\" font-family=\"Helvetica,sans-Serif\" font-size=\"14.00\">True</text>\n</g>\n<!-- 8 -->\n<g id=\"node9\" class=\"node\">\n<title>8</title>\n<path fill=\"#efe6fc\" stroke=\"black\" d=\"M821.5,-306C821.5,-306 690.5,-306 690.5,-306 684.5,-306 678.5,-300 678.5,-294 678.5,-294 678.5,-235 678.5,-235 678.5,-229 684.5,-223 690.5,-223 690.5,-223 821.5,-223 821.5,-223 827.5,-223 833.5,-229 833.5,-235 833.5,-235 833.5,-294 833.5,-294 833.5,-300 827.5,-306 821.5,-306\"/>\n<text text-anchor=\"start\" x=\"688.5\" y=\"-290.8\" font-family=\"Helvetica,sans-Serif\" font-size=\"14.00\">WholeWeight ≤ &#45;0.012</text>\n<text text-anchor=\"start\" x=\"720.5\" y=\"-275.8\" font-family=\"Helvetica,sans-Serif\" font-size=\"14.00\">gini = 0.592</text>\n<text text-anchor=\"start\" x=\"707.5\" y=\"-260.8\" font-family=\"Helvetica,sans-Serif\" font-size=\"14.00\">samples = 1791</text>\n<text text-anchor=\"start\" x=\"686.5\" y=\"-245.8\" font-family=\"Helvetica,sans-Serif\" font-size=\"14.00\">value = [726, 205, 860]</text>\n<text text-anchor=\"start\" x=\"728.5\" y=\"-230.8\" font-family=\"Helvetica,sans-Serif\" font-size=\"14.00\">class = p</text>\n</g>\n<!-- 0&#45;&gt;8 -->\n<g id=\"edge8\" class=\"edge\">\n<title>0&#45;&gt;8</title>\n<path fill=\"none\" stroke=\"black\" d=\"M653.47,-341.91C666.38,-332.29 680.25,-321.95 693.48,-312.09\"/>\n<polygon fill=\"black\" stroke=\"black\" points=\"695.7,-314.8 701.63,-306.02 691.52,-309.19 695.7,-314.8\"/>\n<text text-anchor=\"middle\" x=\"698.01\" y=\"-327.06\" font-family=\"Helvetica,sans-Serif\" font-size=\"14.00\">False</text>\n</g>\n<!-- 2 -->\n<g id=\"node3\" class=\"node\">\n<title>2</title>\n<path fill=\"#6deca2\" stroke=\"black\" d=\"M289.5,-187C289.5,-187 166.5,-187 166.5,-187 160.5,-187 154.5,-181 154.5,-175 154.5,-175 154.5,-116 154.5,-116 154.5,-110 160.5,-104 166.5,-104 166.5,-104 289.5,-104 289.5,-104 295.5,-104 301.5,-110 301.5,-116 301.5,-116 301.5,-175 301.5,-175 301.5,-181 295.5,-187 289.5,-187\"/>\n<text text-anchor=\"start\" x=\"165\" y=\"-171.8\" font-family=\"Helvetica,sans-Serif\" font-size=\"14.00\">ShellWeight ≤ &#45;0.806</text>\n<text text-anchor=\"start\" x=\"196\" y=\"-156.8\" font-family=\"Helvetica,sans-Serif\" font-size=\"14.00\">gini = 0.37</text>\n<text text-anchor=\"start\" x=\"183\" y=\"-141.8\" font-family=\"Helvetica,sans-Serif\" font-size=\"14.00\">samples = 765</text>\n<text text-anchor=\"start\" x=\"162.5\" y=\"-126.8\" font-family=\"Helvetica,sans-Serif\" font-size=\"14.00\">value = [60, 594, 111]</text>\n<text text-anchor=\"start\" x=\"201\" y=\"-111.8\" font-family=\"Helvetica,sans-Serif\" font-size=\"14.00\">class = y</text>\n</g>\n<!-- 1&#45;&gt;2 -->\n<g id=\"edge2\" class=\"edge\">\n<title>1&#45;&gt;2</title>\n<path fill=\"none\" stroke=\"black\" d=\"M377.2,-223.4C355.86,-212.4 332.65,-200.44 311.03,-189.3\"/>\n<polygon fill=\"black\" stroke=\"black\" points=\"312.37,-186.05 301.87,-184.58 309.16,-192.27 312.37,-186.05\"/>\n</g>\n<!-- 5 -->\n<g id=\"node6\" class=\"node\">\n<title>5</title>\n<path fill=\"#f8fefa\" stroke=\"black\" d=\"M520.5,-187C520.5,-187 389.5,-187 389.5,-187 383.5,-187 377.5,-181 377.5,-175 377.5,-175 377.5,-116 377.5,-116 377.5,-110 383.5,-104 389.5,-104 389.5,-104 520.5,-104 520.5,-104 526.5,-104 532.5,-110 532.5,-116 532.5,-116 532.5,-175 532.5,-175 532.5,-181 526.5,-187 520.5,-187\"/>\n<text text-anchor=\"start\" x=\"411\" y=\"-171.8\" font-family=\"Helvetica,sans-Serif\" font-size=\"14.00\">Rings ≤ &#45;0.135</text>\n<text text-anchor=\"start\" x=\"419.5\" y=\"-156.8\" font-family=\"Helvetica,sans-Serif\" font-size=\"14.00\">gini = 0.665</text>\n<text text-anchor=\"start\" x=\"410\" y=\"-141.8\" font-family=\"Helvetica,sans-Serif\" font-size=\"14.00\">samples = 367</text>\n<text text-anchor=\"start\" x=\"385.5\" y=\"-126.8\" font-family=\"Helvetica,sans-Serif\" font-size=\"14.00\">value = [112, 132, 123]</text>\n<text text-anchor=\"start\" x=\"428\" y=\"-111.8\" font-family=\"Helvetica,sans-Serif\" font-size=\"14.00\">class = y</text>\n</g>\n<!-- 1&#45;&gt;5 -->\n<g id=\"edge5\" class=\"edge\">\n<title>1&#45;&gt;5</title>\n<path fill=\"none\" stroke=\"black\" d=\"M455,-222.91C455,-214.65 455,-205.86 455,-197.3\"/>\n<polygon fill=\"black\" stroke=\"black\" points=\"458.5,-197.02 455,-187.02 451.5,-197.02 458.5,-197.02\"/>\n</g>\n<!-- 3 -->\n<g id=\"node4\" class=\"node\">\n<title>3</title>\n<path fill=\"#5dea98\" stroke=\"black\" d=\"M128,-68C128,-68 12,-68 12,-68 6,-68 0,-62 0,-56 0,-56 0,-12 0,-12 0,-6 6,0 12,0 12,0 128,0 128,0 134,0 140,-6 140,-12 140,-12 140,-56 140,-56 140,-62 134,-68 128,-68\"/>\n<text text-anchor=\"start\" x=\"34.5\" y=\"-52.8\" font-family=\"Helvetica,sans-Serif\" font-size=\"14.00\">gini = 0.281</text>\n<text text-anchor=\"start\" x=\"25\" y=\"-37.8\" font-family=\"Helvetica,sans-Serif\" font-size=\"14.00\">samples = 571</text>\n<text text-anchor=\"start\" x=\"8\" y=\"-22.8\" font-family=\"Helvetica,sans-Serif\" font-size=\"14.00\">value = [27, 479, 65]</text>\n<text text-anchor=\"start\" x=\"43\" y=\"-7.8\" font-family=\"Helvetica,sans-Serif\" font-size=\"14.00\">class = y</text>\n</g>\n<!-- 2&#45;&gt;3 -->\n<g id=\"edge3\" class=\"edge\">\n<title>2&#45;&gt;3</title>\n<path fill=\"none\" stroke=\"black\" d=\"M169.17,-103.73C155.14,-94.01 140.21,-83.66 126.31,-74.02\"/>\n<polygon fill=\"black\" stroke=\"black\" points=\"128.01,-70.94 117.8,-68.13 124.02,-76.7 128.01,-70.94\"/>\n</g>\n<!-- 4 -->\n<g id=\"node5\" class=\"node\">\n<title>4</title>\n<path fill=\"#a3f3c4\" stroke=\"black\" d=\"M286,-68C286,-68 170,-68 170,-68 164,-68 158,-62 158,-56 158,-56 158,-12 158,-12 158,-6 164,0 170,0 170,0 286,0 286,0 292,0 298,-6 298,-12 298,-12 298,-56 298,-56 298,-62 292,-68 286,-68\"/>\n<text text-anchor=\"start\" x=\"192.5\" y=\"-52.8\" font-family=\"Helvetica,sans-Serif\" font-size=\"14.00\">gini = 0.563</text>\n<text text-anchor=\"start\" x=\"183\" y=\"-37.8\" font-family=\"Helvetica,sans-Serif\" font-size=\"14.00\">samples = 194</text>\n<text text-anchor=\"start\" x=\"166\" y=\"-22.8\" font-family=\"Helvetica,sans-Serif\" font-size=\"14.00\">value = [33, 115, 46]</text>\n<text text-anchor=\"start\" x=\"201\" y=\"-7.8\" font-family=\"Helvetica,sans-Serif\" font-size=\"14.00\">class = y</text>\n</g>\n<!-- 2&#45;&gt;4 -->\n<g id=\"edge4\" class=\"edge\">\n<title>2&#45;&gt;4</title>\n<path fill=\"none\" stroke=\"black\" d=\"M228,-103.73C228,-95.52 228,-86.86 228,-78.56\"/>\n<polygon fill=\"black\" stroke=\"black\" points=\"231.5,-78.3 228,-68.3 224.5,-78.3 231.5,-78.3\"/>\n</g>\n<!-- 6 -->\n<g id=\"node7\" class=\"node\">\n<title>6</title>\n<path fill=\"#bff7d6\" stroke=\"black\" d=\"M436,-68C436,-68 328,-68 328,-68 322,-68 316,-62 316,-56 316,-56 316,-12 316,-12 316,-6 322,0 328,0 328,0 436,0 436,0 442,0 448,-6 448,-12 448,-12 448,-56 448,-56 448,-62 442,-68 436,-68\"/>\n<text text-anchor=\"start\" x=\"346.5\" y=\"-52.8\" font-family=\"Helvetica,sans-Serif\" font-size=\"14.00\">gini = 0.611</text>\n<text text-anchor=\"start\" x=\"337\" y=\"-37.8\" font-family=\"Helvetica,sans-Serif\" font-size=\"14.00\">samples = 139</text>\n<text text-anchor=\"start\" x=\"324\" y=\"-22.8\" font-family=\"Helvetica,sans-Serif\" font-size=\"14.00\">value = [27, 72, 40]</text>\n<text text-anchor=\"start\" x=\"355\" y=\"-7.8\" font-family=\"Helvetica,sans-Serif\" font-size=\"14.00\">class = y</text>\n</g>\n<!-- 5&#45;&gt;6 -->\n<g id=\"edge6\" class=\"edge\">\n<title>5&#45;&gt;6</title>\n<path fill=\"none\" stroke=\"black\" d=\"M427.82,-103.73C421.92,-94.88 415.67,-85.51 409.75,-76.63\"/>\n<polygon fill=\"black\" stroke=\"black\" points=\"412.66,-74.68 404.2,-68.3 406.83,-78.56 412.66,-74.68\"/>\n</g>\n<!-- 7 -->\n<g id=\"node8\" class=\"node\">\n<title>7</title>\n<path fill=\"#fffdfc\" stroke=\"black\" d=\"M586,-68C586,-68 478,-68 478,-68 472,-68 466,-62 466,-56 466,-56 466,-12 466,-12 466,-6 472,0 478,0 478,0 586,0 586,0 592,0 598,-6 598,-12 598,-12 598,-56 598,-56 598,-62 592,-68 586,-68\"/>\n<text text-anchor=\"start\" x=\"496.5\" y=\"-52.8\" font-family=\"Helvetica,sans-Serif\" font-size=\"14.00\">gini = 0.659</text>\n<text text-anchor=\"start\" x=\"487\" y=\"-37.8\" font-family=\"Helvetica,sans-Serif\" font-size=\"14.00\">samples = 228</text>\n<text text-anchor=\"start\" x=\"474\" y=\"-22.8\" font-family=\"Helvetica,sans-Serif\" font-size=\"14.00\">value = [85, 60, 83]</text>\n<text text-anchor=\"start\" x=\"504.5\" y=\"-7.8\" font-family=\"Helvetica,sans-Serif\" font-size=\"14.00\">class = T</text>\n</g>\n<!-- 5&#45;&gt;7 -->\n<g id=\"edge7\" class=\"edge\">\n<title>5&#45;&gt;7</title>\n<path fill=\"none\" stroke=\"black\" d=\"M483.67,-103.73C489.89,-94.88 496.48,-85.51 502.73,-76.63\"/>\n<polygon fill=\"black\" stroke=\"black\" points=\"505.69,-78.49 508.58,-68.3 499.97,-74.47 505.69,-78.49\"/>\n</g>\n<!-- 9 -->\n<g id=\"node10\" class=\"node\">\n<title>9</title>\n<path fill=\"#f3ecfc\" stroke=\"black\" d=\"M821.5,-187C821.5,-187 690.5,-187 690.5,-187 684.5,-187 678.5,-181 678.5,-175 678.5,-175 678.5,-116 678.5,-116 678.5,-110 684.5,-104 690.5,-104 690.5,-104 821.5,-104 821.5,-104 827.5,-104 833.5,-110 833.5,-116 833.5,-116 833.5,-175 833.5,-175 833.5,-181 827.5,-187 821.5,-187\"/>\n<text text-anchor=\"start\" x=\"692.5\" y=\"-171.8\" font-family=\"Helvetica,sans-Serif\" font-size=\"14.00\">LongestShell ≤ 0.107</text>\n<text text-anchor=\"start\" x=\"720.5\" y=\"-156.8\" font-family=\"Helvetica,sans-Serif\" font-size=\"14.00\">gini = 0.664</text>\n<text text-anchor=\"start\" x=\"711\" y=\"-141.8\" font-family=\"Helvetica,sans-Serif\" font-size=\"14.00\">samples = 391</text>\n<text text-anchor=\"start\" x=\"686.5\" y=\"-126.8\" font-family=\"Helvetica,sans-Serif\" font-size=\"14.00\">value = [122, 121, 148]</text>\n<text text-anchor=\"start\" x=\"728.5\" y=\"-111.8\" font-family=\"Helvetica,sans-Serif\" font-size=\"14.00\">class = p</text>\n</g>\n<!-- 8&#45;&gt;9 -->\n<g id=\"edge9\" class=\"edge\">\n<title>8&#45;&gt;9</title>\n<path fill=\"none\" stroke=\"black\" d=\"M756,-222.91C756,-214.65 756,-205.86 756,-197.3\"/>\n<polygon fill=\"black\" stroke=\"black\" points=\"759.5,-197.02 756,-187.02 752.5,-197.02 759.5,-197.02\"/>\n</g>\n<!-- 12 -->\n<g id=\"node13\" class=\"node\">\n<title>12</title>\n<path fill=\"#eee4fb\" stroke=\"black\" d=\"M1062,-187C1062,-187 934,-187 934,-187 928,-187 922,-181 922,-175 922,-175 922,-116 922,-116 922,-110 928,-104 934,-104 934,-104 1062,-104 1062,-104 1068,-104 1074,-110 1074,-116 1074,-116 1074,-175 1074,-175 1074,-181 1068,-187 1062,-187\"/>\n<text text-anchor=\"start\" x=\"930\" y=\"-171.8\" font-family=\"Helvetica,sans-Serif\" font-size=\"14.00\">VisceraWeight ≤ 1.007</text>\n<text text-anchor=\"start\" x=\"962.5\" y=\"-156.8\" font-family=\"Helvetica,sans-Serif\" font-size=\"14.00\">gini = 0.552</text>\n<text text-anchor=\"start\" x=\"949.5\" y=\"-141.8\" font-family=\"Helvetica,sans-Serif\" font-size=\"14.00\">samples = 1400</text>\n<text text-anchor=\"start\" x=\"932.5\" y=\"-126.8\" font-family=\"Helvetica,sans-Serif\" font-size=\"14.00\">value = [604, 84, 712]</text>\n<text text-anchor=\"start\" x=\"970.5\" y=\"-111.8\" font-family=\"Helvetica,sans-Serif\" font-size=\"14.00\">class = p</text>\n</g>\n<!-- 8&#45;&gt;12 -->\n<g id=\"edge12\" class=\"edge\">\n<title>8&#45;&gt;12</title>\n<path fill=\"none\" stroke=\"black\" d=\"M833.57,-226C858.8,-213.8 886.93,-200.2 912.69,-187.74\"/>\n<polygon fill=\"black\" stroke=\"black\" points=\"914.22,-190.89 921.7,-183.39 911.17,-184.59 914.22,-190.89\"/>\n</g>\n<!-- 10 -->\n<g id=\"node11\" class=\"node\">\n<title>10</title>\n<path fill=\"#ede3fb\" stroke=\"black\" d=\"M744,-68C744,-68 628,-68 628,-68 622,-68 616,-62 616,-56 616,-56 616,-12 616,-12 616,-6 622,0 628,0 628,0 744,0 744,0 750,0 756,-6 756,-12 756,-12 756,-56 756,-56 756,-62 750,-68 744,-68\"/>\n<text text-anchor=\"start\" x=\"650.5\" y=\"-52.8\" font-family=\"Helvetica,sans-Serif\" font-size=\"14.00\">gini = 0.631</text>\n<text text-anchor=\"start\" x=\"641\" y=\"-37.8\" font-family=\"Helvetica,sans-Serif\" font-size=\"14.00\">samples = 239</text>\n<text text-anchor=\"start\" x=\"624\" y=\"-22.8\" font-family=\"Helvetica,sans-Serif\" font-size=\"14.00\">value = [86, 45, 108]</text>\n<text text-anchor=\"start\" x=\"658.5\" y=\"-7.8\" font-family=\"Helvetica,sans-Serif\" font-size=\"14.00\">class = p</text>\n</g>\n<!-- 9&#45;&gt;10 -->\n<g id=\"edge10\" class=\"edge\">\n<title>9&#45;&gt;10</title>\n<path fill=\"none\" stroke=\"black\" d=\"M729.93,-103.73C724.34,-94.97 718.41,-85.7 712.79,-76.91\"/>\n<polygon fill=\"black\" stroke=\"black\" points=\"715.62,-74.84 707.29,-68.3 709.72,-78.61 715.62,-74.84\"/>\n</g>\n<!-- 11 -->\n<g id=\"node12\" class=\"node\">\n<title>11</title>\n<path fill=\"#bff7d6\" stroke=\"black\" d=\"M894,-68C894,-68 786,-68 786,-68 780,-68 774,-62 774,-56 774,-56 774,-12 774,-12 774,-6 780,0 786,0 786,0 894,0 894,0 900,0 906,-6 906,-12 906,-12 906,-56 906,-56 906,-62 900,-68 894,-68\"/>\n<text text-anchor=\"start\" x=\"804.5\" y=\"-52.8\" font-family=\"Helvetica,sans-Serif\" font-size=\"14.00\">gini = 0.625</text>\n<text text-anchor=\"start\" x=\"795\" y=\"-37.8\" font-family=\"Helvetica,sans-Serif\" font-size=\"14.00\">samples = 152</text>\n<text text-anchor=\"start\" x=\"782\" y=\"-22.8\" font-family=\"Helvetica,sans-Serif\" font-size=\"14.00\">value = [36, 76, 40]</text>\n<text text-anchor=\"start\" x=\"813\" y=\"-7.8\" font-family=\"Helvetica,sans-Serif\" font-size=\"14.00\">class = y</text>\n</g>\n<!-- 9&#45;&gt;11 -->\n<g id=\"edge11\" class=\"edge\">\n<title>9&#45;&gt;11</title>\n<path fill=\"none\" stroke=\"black\" d=\"M787.28,-103.73C794.14,-94.79 801.4,-85.32 808.28,-76.36\"/>\n<polygon fill=\"black\" stroke=\"black\" points=\"811.15,-78.36 814.46,-68.3 805.59,-74.1 811.15,-78.36\"/>\n</g>\n<!-- 13 -->\n<g id=\"node14\" class=\"node\">\n<title>13</title>\n<path fill=\"#e1cff9\" stroke=\"black\" d=\"M1059.5,-68C1059.5,-68 936.5,-68 936.5,-68 930.5,-68 924.5,-62 924.5,-56 924.5,-56 924.5,-12 924.5,-12 924.5,-6 930.5,0 936.5,0 936.5,0 1059.5,0 1059.5,0 1065.5,0 1071.5,-6 1071.5,-12 1071.5,-12 1071.5,-56 1071.5,-56 1071.5,-62 1065.5,-68 1059.5,-68\"/>\n<text text-anchor=\"start\" x=\"962.5\" y=\"-52.8\" font-family=\"Helvetica,sans-Serif\" font-size=\"14.00\">gini = 0.562</text>\n<text text-anchor=\"start\" x=\"953\" y=\"-37.8\" font-family=\"Helvetica,sans-Serif\" font-size=\"14.00\">samples = 916</text>\n<text text-anchor=\"start\" x=\"932.5\" y=\"-22.8\" font-family=\"Helvetica,sans-Serif\" font-size=\"14.00\">value = [352, 76, 488]</text>\n<text text-anchor=\"start\" x=\"970.5\" y=\"-7.8\" font-family=\"Helvetica,sans-Serif\" font-size=\"14.00\">class = p</text>\n</g>\n<!-- 12&#45;&gt;13 -->\n<g id=\"edge13\" class=\"edge\">\n<title>12&#45;&gt;13</title>\n<path fill=\"none\" stroke=\"black\" d=\"M998,-103.73C998,-95.52 998,-86.86 998,-78.56\"/>\n<polygon fill=\"black\" stroke=\"black\" points=\"1001.5,-78.3 998,-68.3 994.5,-78.3 1001.5,-78.3\"/>\n</g>\n<!-- 14 -->\n<g id=\"node15\" class=\"node\">\n<title>14</title>\n<path fill=\"#fcf1ea\" stroke=\"black\" d=\"M1218,-68C1218,-68 1102,-68 1102,-68 1096,-68 1090,-62 1090,-56 1090,-56 1090,-12 1090,-12 1090,-6 1096,0 1102,0 1102,0 1218,0 1218,0 1224,0 1230,-6 1230,-12 1230,-12 1230,-56 1230,-56 1230,-62 1224,-68 1218,-68\"/>\n<text text-anchor=\"start\" x=\"1124.5\" y=\"-52.8\" font-family=\"Helvetica,sans-Serif\" font-size=\"14.00\">gini = 0.514</text>\n<text text-anchor=\"start\" x=\"1115\" y=\"-37.8\" font-family=\"Helvetica,sans-Serif\" font-size=\"14.00\">samples = 484</text>\n<text text-anchor=\"start\" x=\"1098\" y=\"-22.8\" font-family=\"Helvetica,sans-Serif\" font-size=\"14.00\">value = [252, 8, 224]</text>\n<text text-anchor=\"start\" x=\"1132.5\" y=\"-7.8\" font-family=\"Helvetica,sans-Serif\" font-size=\"14.00\">class = T</text>\n</g>\n<!-- 12&#45;&gt;14 -->\n<g id=\"edge14\" class=\"edge\">\n<title>12&#45;&gt;14</title>\n<path fill=\"none\" stroke=\"black\" d=\"M1058.32,-103.73C1072.84,-93.92 1088.3,-83.46 1102.67,-73.75\"/>\n<polygon fill=\"black\" stroke=\"black\" points=\"1104.67,-76.62 1110.99,-68.13 1100.75,-70.83 1104.67,-76.62\"/>\n</g>\n</g>\n</svg>\n",
            "text/plain": [
              "<graphviz.sources.Source at 0x7b2f5f20ac80>"
            ]
          },
          "metadata": {},
          "execution_count": 87
        }
      ]
    },
    {
      "cell_type": "code",
      "source": [
        "# print to the output file\n",
        "print('**************************************************************', file = outputFile)\n",
        "print('(A) Classifier 1 - Base DT', file = outputFile)\n",
        "print(classifier_1, file = outputFile)\n",
        "print('\\n', file = outputFile)"
      ],
      "metadata": {
        "id": "sqRs0lp67Hmo"
      },
      "execution_count": 88,
      "outputs": []
    },
    {
      "cell_type": "code",
      "source": [
        "# print classification report\n",
        "y_pred = classifier_1.predict(X_test)\n",
        "confusion_mat= confusion_matrix(y_test, y_pred)\n",
        "\n",
        "print(classification_report(y_test, y_pred, target_names=['F', 'M', 'I']))\n",
        "print(\"confusion matrix\\n\",confusion_mat)\n",
        "\n",
        "# print the result to the output file\n",
        "confusion_matrix_result =np.array2string(confusion_mat)\n",
        "print(\"(B) Confusion Matrix\", file = outputFile)\n",
        "print(confusion_matrix_result, file = outputFile)\n",
        "print('\\n', file = outputFile)\n",
        "print('(C,D) Classification Report', file = outputFile)\n",
        "print(classification_report(y_test, y_pred, target_names = ['F', 'M', 'I']), file = outputFile)\n",
        "outputFile.flush()"
      ],
      "metadata": {
        "colab": {
          "base_uri": "https://localhost:8080/"
        },
        "id": "mDbdxqro7Hp4",
        "outputId": "492d6550-e22f-4ce9-ef1c-fb4d8a4fa2c4"
      },
      "execution_count": 89,
      "outputs": [
        {
          "output_type": "stream",
          "name": "stdout",
          "text": [
            "              precision    recall  f1-score   support\n",
            "\n",
            "           F       0.45      0.33      0.38       409\n",
            "           M       0.70      0.77      0.74       411\n",
            "           I       0.42      0.49      0.45       434\n",
            "\n",
            "    accuracy                           0.53      1254\n",
            "   macro avg       0.53      0.53      0.52      1254\n",
            "weighted avg       0.52      0.53      0.52      1254\n",
            "\n",
            "confusion matrix\n",
            " [[136  47 226]\n",
            " [ 29 318  64]\n",
            " [134  88 212]]\n"
          ]
        }
      ]
    },
    {
      "cell_type": "code",
      "source": [
        "# repeat training & prediction 5 times for classifier 1\n",
        "from sklearn.metrics import accuracy_score, f1_score\n",
        "\n",
        "accuracy_baseDT = np.zeros(5)\n",
        "macro_avg_baseDT = np.zeros(5)\n",
        "weighted_avg_baseDT = np.zeros(5)\n",
        "\n",
        "for i in range(5):\n",
        "\n",
        "  #data is shuffeld and scaled every iteration\n",
        "  X_train, X_test, y_train, y_test = train_test_split(X, y, test_size = 0.3)\n",
        "  sc = StandardScaler()\n",
        "  X_train = sc.fit_transform(X_train)\n",
        "  X_test = sc.transform(X_test)\n",
        "\n",
        "  #train and predict\n",
        "  classifier_1.fit(X_train, y_train)\n",
        "  y_pred = classifier_1.predict(X_test)\n",
        "\n",
        "  # find the accuracy for each iteration and store the value\n",
        "  accuracy_baseDT[i] = accuracy_score(y_test, y_pred)\n",
        "  macro_avg_baseDT[i] = f1_score(y_test, y_pred, average='macro')\n",
        "  weighted_avg_baseDT[i] = f1_score(y_test, y_pred, average='weighted')\n",
        "\n",
        "# compute the average accuracy & variances\n",
        "print(f'accuracy_baseDT: {accuracy_baseDT}')\n",
        "Avg_accuracy = (np.sum(accuracy_baseDT))/5\n",
        "accuracy_variance = np.var(accuracy_baseDT)\n",
        "print(f'average accuracy: {Avg_accuracy:.4f}, variance: {accuracy_variance:.6f}')\n",
        "print()\n",
        "\n",
        "# compute the average macro-average F1 & the variance\n",
        "print(f'macro_avg_baseDT: {macro_avg_baseDT}')\n",
        "Avg_macro_avg = (np.sum(macro_avg_baseDT))/5\n",
        "f1_macro_variance = np.var(macro_avg_baseDT)\n",
        "print(f'average macro-average F1: {Avg_macro_avg:.4f}, variance: {f1_macro_variance:.6f}')\n",
        "print()\n",
        "\n",
        "# compute the average weighted-average F1 & the variance\n",
        "print(f'weighted_avg_baseDT: {weighted_avg_baseDT}')\n",
        "Avg_weighted_avg = (np.sum(weighted_avg_baseDT))/5\n",
        "f1_weighted_variance = np.var(weighted_avg_baseDT)\n",
        "print(f'average weighted-average F1: {Avg_weighted_avg:.4f}, variance: {f1_weighted_variance:.6f}')\n"
      ],
      "metadata": {
        "id": "YukiqSwdC21P",
        "outputId": "81e9fb91-0f78-4209-ae84-877e82c4a466",
        "colab": {
          "base_uri": "https://localhost:8080/"
        }
      },
      "execution_count": 91,
      "outputs": [
        {
          "output_type": "stream",
          "name": "stdout",
          "text": [
            "accuracy_baseDT: [0.5430622  0.53827751 0.53269537 0.53668262 0.52392344]\n",
            "average accuracy: 0.5349, variance: 0.000041\n",
            "\n",
            "macro_avg_baseDT: [0.53768422 0.53711559 0.52404063 0.43473863 0.42671775]\n",
            "average macro-average F1: 0.4921, variance: 0.002538\n",
            "\n",
            "weighted_avg_baseDT: [0.5281324  0.54060156 0.53209214 0.44465151 0.4288588 ]\n",
            "average weighted-average F1: 0.4949, variance: 0.002293\n"
          ]
        }
      ]
    },
    {
      "cell_type": "code",
      "source": [
        "# print the performance result to outputfile\n",
        "print('\\n(E) The result after 5 times of train-test repetition:' ,file = outputFile)\n",
        "print(f'average accuracy: {Avg_accuracy:.4f}, variance: {accuracy_variance:.6f}', file = outputFile)\n",
        "print(f'average macro-average F1: {Avg_macro_avg:.4f}, variance: {f1_macro_variance:.6f}', file = outputFile)\n",
        "print(f'average weighted-average F1: {Avg_weighted_avg:.4f}, variance: {f1_weighted_variance:.6f}', file = outputFile)\n",
        "outputFile.flush()"
      ],
      "metadata": {
        "id": "6BXzFhCxZ8s1"
      },
      "execution_count": 92,
      "outputs": []
    },
    {
      "cell_type": "markdown",
      "source": [
        "##### Classifier 2 - Top-DT"
      ],
      "metadata": {
        "id": "ZbIYwUPH2zO6"
      }
    },
    {
      "cell_type": "code",
      "source": [
        "# Top Decision Tree - decision tree using gridsearch(hyperparameter search)\n",
        "from sklearn.model_selection import GridSearchCV\n",
        "\n",
        "parameters = {\n",
        "    'criterion': ['gini', 'entropy'],\n",
        "    'max_depth': [None, 3, 5],\n",
        "    'min_samples_split': [2, 5, 10]\n",
        "}\n",
        "\n",
        "classifier_2 = GridSearchCV(DecisionTreeClassifier(max_depth=3), parameters)\n",
        "classifier_2.fit(X_train, y_train)\n",
        "\n",
        "print(f'best parameters: {classifier_2.best_params_}')"
      ],
      "metadata": {
        "id": "msSsfbO7m2rW",
        "colab": {
          "base_uri": "https://localhost:8080/"
        },
        "outputId": "d92bbbd5-4509-4f57-a548-8c4f038a072f"
      },
      "execution_count": 93,
      "outputs": [
        {
          "output_type": "stream",
          "name": "stdout",
          "text": [
            "best parameters: {'criterion': 'entropy', 'max_depth': 5, 'min_samples_split': 2}\n"
          ]
        }
      ]
    },
    {
      "cell_type": "code",
      "source": [
        "abalone_class = data_abalone.columns[0]\n",
        "abalone_features = list(data_abalone.columns[1:])"
      ],
      "metadata": {
        "id": "6AYbwpuhBO2m"
      },
      "execution_count": 94,
      "outputs": []
    },
    {
      "cell_type": "code",
      "source": [
        "from sklearn.tree import export_graphviz\n",
        "from IPython.display import display\n",
        "\n",
        "dot_data = export_graphviz(classifier_2.best_estimator_,\n",
        "                          feature_names=abalone_features,\n",
        "                          class_names=abalone_class,\n",
        "                          filled=True, rounded=True,\n",
        "                          special_characters=True)\n",
        "\n",
        "graph = graphviz.Source(dot_data)\n",
        "display(graph)"
      ],
      "metadata": {
        "id": "fGFf6Sbj8BW-",
        "outputId": "114662c3-0925-4835-e3d1-9e4add4059dc",
        "colab": {
          "base_uri": "https://localhost:8080/",
          "height": 937
        }
      },
      "execution_count": 95,
      "outputs": [
        {
          "output_type": "display_data",
          "data": {
            "image/svg+xml": "<?xml version=\"1.0\" encoding=\"UTF-8\" standalone=\"no\"?>\n<!DOCTYPE svg PUBLIC \"-//W3C//DTD SVG 1.1//EN\"\n \"http://www.w3.org/Graphics/SVG/1.1/DTD/svg11.dtd\">\n<!-- Generated by graphviz version 2.43.0 (0)\n -->\n<!-- Title: Tree Pages: 1 -->\n<svg width=\"4260pt\" height=\"671pt\"\n viewBox=\"0.00 0.00 4260.00 671.00\" xmlns=\"http://www.w3.org/2000/svg\" xmlns:xlink=\"http://www.w3.org/1999/xlink\">\n<g id=\"graph0\" class=\"graph\" transform=\"scale(1 1) rotate(0) translate(4 667)\">\n<title>Tree</title>\n<polygon fill=\"white\" stroke=\"transparent\" points=\"-4,4 -4,-667 4256,-667 4256,4 -4,4\"/>\n<!-- 0 -->\n<g id=\"node1\" class=\"node\">\n<title>0</title>\n<path fill=\"#f5effd\" stroke=\"black\" d=\"M2232,-663C2232,-663 2094,-663 2094,-663 2088,-663 2082,-657 2082,-651 2082,-651 2082,-592 2082,-592 2082,-586 2088,-580 2094,-580 2094,-580 2232,-580 2232,-580 2238,-580 2244,-586 2244,-592 2244,-592 2244,-651 2244,-651 2244,-657 2238,-663 2232,-663\"/>\n<text text-anchor=\"start\" x=\"2096.5\" y=\"-647.8\" font-family=\"Helvetica,sans-Serif\" font-size=\"14.00\">VisceraWeight ≤ &#45;0.18</text>\n<text text-anchor=\"start\" x=\"2119\" y=\"-632.8\" font-family=\"Helvetica,sans-Serif\" font-size=\"14.00\">entropy = 1.58</text>\n<text text-anchor=\"start\" x=\"2114.5\" y=\"-617.8\" font-family=\"Helvetica,sans-Serif\" font-size=\"14.00\">samples = 2923</text>\n<text text-anchor=\"start\" x=\"2090\" y=\"-602.8\" font-family=\"Helvetica,sans-Serif\" font-size=\"14.00\">value = [897, 934, 1092]</text>\n<text text-anchor=\"start\" x=\"2135.5\" y=\"-587.8\" font-family=\"Helvetica,sans-Serif\" font-size=\"14.00\">class = p</text>\n</g>\n<!-- 1 -->\n<g id=\"node2\" class=\"node\">\n<title>1</title>\n<path fill=\"#a0f2c2\" stroke=\"black\" d=\"M1729.5,-544C1729.5,-544 1598.5,-544 1598.5,-544 1592.5,-544 1586.5,-538 1586.5,-532 1586.5,-532 1586.5,-473 1586.5,-473 1586.5,-467 1592.5,-461 1598.5,-461 1598.5,-461 1729.5,-461 1729.5,-461 1735.5,-461 1741.5,-467 1741.5,-473 1741.5,-473 1741.5,-532 1741.5,-532 1741.5,-538 1735.5,-544 1729.5,-544\"/>\n<text text-anchor=\"start\" x=\"1620\" y=\"-528.8\" font-family=\"Helvetica,sans-Serif\" font-size=\"14.00\">Rings ≤ &#45;0.442</text>\n<text text-anchor=\"start\" x=\"1616.5\" y=\"-513.8\" font-family=\"Helvetica,sans-Serif\" font-size=\"14.00\">entropy = 1.355</text>\n<text text-anchor=\"start\" x=\"1615.5\" y=\"-498.8\" font-family=\"Helvetica,sans-Serif\" font-size=\"14.00\">samples = 1360</text>\n<text text-anchor=\"start\" x=\"1594.5\" y=\"-483.8\" font-family=\"Helvetica,sans-Serif\" font-size=\"14.00\">value = [219, 821, 320]</text>\n<text text-anchor=\"start\" x=\"1637\" y=\"-468.8\" font-family=\"Helvetica,sans-Serif\" font-size=\"14.00\">class = y</text>\n</g>\n<!-- 0&#45;&gt;1 -->\n<g id=\"edge1\" class=\"edge\">\n<title>0&#45;&gt;1</title>\n<path fill=\"none\" stroke=\"black\" d=\"M2081.99,-601.51C1991.32,-580.25 1844.91,-545.92 1751.62,-524.05\"/>\n<polygon fill=\"black\" stroke=\"black\" points=\"1752.18,-520.58 1741.64,-521.71 1750.58,-527.4 1752.18,-520.58\"/>\n<text text-anchor=\"middle\" x=\"1754.82\" y=\"-539.25\" font-family=\"Helvetica,sans-Serif\" font-size=\"14.00\">True</text>\n</g>\n<!-- 32 -->\n<g id=\"node33\" class=\"node\">\n<title>32</title>\n<path fill=\"#f2eafc\" stroke=\"black\" d=\"M2898.5,-544C2898.5,-544 2767.5,-544 2767.5,-544 2761.5,-544 2755.5,-538 2755.5,-532 2755.5,-532 2755.5,-473 2755.5,-473 2755.5,-467 2761.5,-461 2767.5,-461 2767.5,-461 2898.5,-461 2898.5,-461 2904.5,-461 2910.5,-467 2910.5,-473 2910.5,-473 2910.5,-532 2910.5,-532 2910.5,-538 2904.5,-544 2898.5,-544\"/>\n<text text-anchor=\"start\" x=\"2765\" y=\"-528.8\" font-family=\"Helvetica,sans-Serif\" font-size=\"14.00\">VisceraWeight ≤ 0.344</text>\n<text text-anchor=\"start\" x=\"2785.5\" y=\"-513.8\" font-family=\"Helvetica,sans-Serif\" font-size=\"14.00\">entropy = 1.299</text>\n<text text-anchor=\"start\" x=\"2784.5\" y=\"-498.8\" font-family=\"Helvetica,sans-Serif\" font-size=\"14.00\">samples = 1563</text>\n<text text-anchor=\"start\" x=\"2763.5\" y=\"-483.8\" font-family=\"Helvetica,sans-Serif\" font-size=\"14.00\">value = [678, 113, 772]</text>\n<text text-anchor=\"start\" x=\"2805.5\" y=\"-468.8\" font-family=\"Helvetica,sans-Serif\" font-size=\"14.00\">class = p</text>\n</g>\n<!-- 0&#45;&gt;32 -->\n<g id=\"edge32\" class=\"edge\">\n<title>0&#45;&gt;32</title>\n<path fill=\"none\" stroke=\"black\" d=\"M2244.15,-606.33C2370.89,-584.2 2614.79,-541.61 2745.38,-518.8\"/>\n<polygon fill=\"black\" stroke=\"black\" points=\"2746.11,-522.23 2755.35,-517.06 2744.9,-515.33 2746.11,-522.23\"/>\n<text text-anchor=\"middle\" x=\"2740.98\" y=\"-533.81\" font-family=\"Helvetica,sans-Serif\" font-size=\"14.00\">False</text>\n</g>\n<!-- 2 -->\n<g id=\"node3\" class=\"node\">\n<title>2</title>\n<path fill=\"#73eda6\" stroke=\"black\" d=\"M917.5,-425C917.5,-425 794.5,-425 794.5,-425 788.5,-425 782.5,-419 782.5,-413 782.5,-413 782.5,-354 782.5,-354 782.5,-348 788.5,-342 794.5,-342 794.5,-342 917.5,-342 917.5,-342 923.5,-342 929.5,-348 929.5,-354 929.5,-354 929.5,-413 929.5,-413 929.5,-419 923.5,-425 917.5,-425\"/>\n<text text-anchor=\"start\" x=\"793\" y=\"-409.8\" font-family=\"Helvetica,sans-Serif\" font-size=\"14.00\">ShellWeight ≤ &#45;0.898</text>\n<text text-anchor=\"start\" x=\"808.5\" y=\"-394.8\" font-family=\"Helvetica,sans-Serif\" font-size=\"14.00\">entropy = 1.021</text>\n<text text-anchor=\"start\" x=\"811\" y=\"-379.8\" font-family=\"Helvetica,sans-Serif\" font-size=\"14.00\">samples = 828</text>\n<text text-anchor=\"start\" x=\"790.5\" y=\"-364.8\" font-family=\"Helvetica,sans-Serif\" font-size=\"14.00\">value = [64, 626, 138]</text>\n<text text-anchor=\"start\" x=\"829\" y=\"-349.8\" font-family=\"Helvetica,sans-Serif\" font-size=\"14.00\">class = y</text>\n</g>\n<!-- 1&#45;&gt;2 -->\n<g id=\"edge2\" class=\"edge\">\n<title>1&#45;&gt;2</title>\n<path fill=\"none\" stroke=\"black\" d=\"M1586.16,-490.23C1433.67,-468.15 1096.82,-419.37 939.72,-396.62\"/>\n<polygon fill=\"black\" stroke=\"black\" points=\"940.04,-393.13 929.64,-395.16 939.04,-400.06 940.04,-393.13\"/>\n</g>\n<!-- 17 -->\n<g id=\"node18\" class=\"node\">\n<title>17</title>\n<path fill=\"#f8fefa\" stroke=\"black\" d=\"M1729.5,-425C1729.5,-425 1598.5,-425 1598.5,-425 1592.5,-425 1586.5,-419 1586.5,-413 1586.5,-413 1586.5,-354 1586.5,-354 1586.5,-348 1592.5,-342 1598.5,-342 1598.5,-342 1729.5,-342 1729.5,-342 1735.5,-342 1741.5,-348 1741.5,-354 1741.5,-354 1741.5,-413 1741.5,-413 1741.5,-419 1735.5,-425 1729.5,-425\"/>\n<text text-anchor=\"start\" x=\"1620\" y=\"-409.8\" font-family=\"Helvetica,sans-Serif\" font-size=\"14.00\">Rings ≤ &#45;0.132</text>\n<text text-anchor=\"start\" x=\"1616.5\" y=\"-394.8\" font-family=\"Helvetica,sans-Serif\" font-size=\"14.00\">entropy = 1.579</text>\n<text text-anchor=\"start\" x=\"1619\" y=\"-379.8\" font-family=\"Helvetica,sans-Serif\" font-size=\"14.00\">samples = 532</text>\n<text text-anchor=\"start\" x=\"1594.5\" y=\"-364.8\" font-family=\"Helvetica,sans-Serif\" font-size=\"14.00\">value = [155, 195, 182]</text>\n<text text-anchor=\"start\" x=\"1637\" y=\"-349.8\" font-family=\"Helvetica,sans-Serif\" font-size=\"14.00\">class = y</text>\n</g>\n<!-- 1&#45;&gt;17 -->\n<g id=\"edge17\" class=\"edge\">\n<title>1&#45;&gt;17</title>\n<path fill=\"none\" stroke=\"black\" d=\"M1664,-460.91C1664,-452.65 1664,-443.86 1664,-435.3\"/>\n<polygon fill=\"black\" stroke=\"black\" points=\"1667.5,-435.02 1664,-425.02 1660.5,-435.02 1667.5,-435.02\"/>\n</g>\n<!-- 3 -->\n<g id=\"node4\" class=\"node\">\n<title>3</title>\n<path fill=\"#5eea98\" stroke=\"black\" d=\"M493,-306C493,-306 377,-306 377,-306 371,-306 365,-300 365,-294 365,-294 365,-235 365,-235 365,-229 371,-223 377,-223 377,-223 493,-223 493,-223 499,-223 505,-229 505,-235 505,-235 505,-294 505,-294 505,-300 499,-306 493,-306\"/>\n<text text-anchor=\"start\" x=\"380.5\" y=\"-290.8\" font-family=\"Helvetica,sans-Serif\" font-size=\"14.00\">Diameter ≤ &#45;1.915</text>\n<text text-anchor=\"start\" x=\"387.5\" y=\"-275.8\" font-family=\"Helvetica,sans-Serif\" font-size=\"14.00\">entropy = 0.756</text>\n<text text-anchor=\"start\" x=\"390\" y=\"-260.8\" font-family=\"Helvetica,sans-Serif\" font-size=\"14.00\">samples = 525</text>\n<text text-anchor=\"start\" x=\"373\" y=\"-245.8\" font-family=\"Helvetica,sans-Serif\" font-size=\"14.00\">value = [17, 440, 68]</text>\n<text text-anchor=\"start\" x=\"408\" y=\"-230.8\" font-family=\"Helvetica,sans-Serif\" font-size=\"14.00\">class = y</text>\n</g>\n<!-- 2&#45;&gt;3 -->\n<g id=\"edge3\" class=\"edge\">\n<title>2&#45;&gt;3</title>\n<path fill=\"none\" stroke=\"black\" d=\"M782.19,-361.99C707.33,-341.18 591.85,-309.09 514.88,-287.7\"/>\n<polygon fill=\"black\" stroke=\"black\" points=\"515.8,-284.32 505.22,-285.02 513.92,-291.07 515.8,-284.32\"/>\n</g>\n<!-- 10 -->\n<g id=\"node11\" class=\"node\">\n<title>10</title>\n<path fill=\"#9cf2c0\" stroke=\"black\" d=\"M922.5,-306C922.5,-306 789.5,-306 789.5,-306 783.5,-306 777.5,-300 777.5,-294 777.5,-294 777.5,-235 777.5,-235 777.5,-229 783.5,-223 789.5,-223 789.5,-223 922.5,-223 922.5,-223 928.5,-223 934.5,-229 934.5,-235 934.5,-235 934.5,-294 934.5,-294 934.5,-300 928.5,-306 922.5,-306\"/>\n<text text-anchor=\"start\" x=\"785.5\" y=\"-290.8\" font-family=\"Helvetica,sans-Serif\" font-size=\"14.00\">VisceraWeight ≤ &#45;0.439</text>\n<text text-anchor=\"start\" x=\"808.5\" y=\"-275.8\" font-family=\"Helvetica,sans-Serif\" font-size=\"14.00\">entropy = 1.338</text>\n<text text-anchor=\"start\" x=\"811\" y=\"-260.8\" font-family=\"Helvetica,sans-Serif\" font-size=\"14.00\">samples = 303</text>\n<text text-anchor=\"start\" x=\"794\" y=\"-245.8\" font-family=\"Helvetica,sans-Serif\" font-size=\"14.00\">value = [47, 186, 70]</text>\n<text text-anchor=\"start\" x=\"829\" y=\"-230.8\" font-family=\"Helvetica,sans-Serif\" font-size=\"14.00\">class = y</text>\n</g>\n<!-- 2&#45;&gt;10 -->\n<g id=\"edge10\" class=\"edge\">\n<title>2&#45;&gt;10</title>\n<path fill=\"none\" stroke=\"black\" d=\"M856,-341.91C856,-333.65 856,-324.86 856,-316.3\"/>\n<polygon fill=\"black\" stroke=\"black\" points=\"859.5,-316.02 856,-306.02 852.5,-316.02 859.5,-316.02\"/>\n</g>\n<!-- 4 -->\n<g id=\"node5\" class=\"node\">\n<title>4</title>\n<path fill=\"#6ceca1\" stroke=\"black\" d=\"M260,-187C260,-187 152,-187 152,-187 146,-187 140,-181 140,-175 140,-175 140,-116 140,-116 140,-110 146,-104 152,-104 152,-104 260,-104 260,-104 266,-104 272,-110 272,-116 272,-116 272,-175 272,-175 272,-181 266,-187 260,-187\"/>\n<text text-anchor=\"start\" x=\"162\" y=\"-171.8\" font-family=\"Helvetica,sans-Serif\" font-size=\"14.00\">Rings ≤ &#45;1.064</text>\n<text text-anchor=\"start\" x=\"158.5\" y=\"-156.8\" font-family=\"Helvetica,sans-Serif\" font-size=\"14.00\">entropy = 0.776</text>\n<text text-anchor=\"start\" x=\"161\" y=\"-141.8\" font-family=\"Helvetica,sans-Serif\" font-size=\"14.00\">samples = 146</text>\n<text text-anchor=\"start\" x=\"148\" y=\"-126.8\" font-family=\"Helvetica,sans-Serif\" font-size=\"14.00\">value = [1, 116, 29]</text>\n<text text-anchor=\"start\" x=\"179\" y=\"-111.8\" font-family=\"Helvetica,sans-Serif\" font-size=\"14.00\">class = y</text>\n</g>\n<!-- 3&#45;&gt;4 -->\n<g id=\"edge4\" class=\"edge\">\n<title>3&#45;&gt;4</title>\n<path fill=\"none\" stroke=\"black\" d=\"M364.74,-227.6C338.28,-214.08 308.09,-198.66 281.2,-184.92\"/>\n<polygon fill=\"black\" stroke=\"black\" points=\"282.71,-181.76 272.22,-180.33 279.53,-188 282.71,-181.76\"/>\n</g>\n<!-- 7 -->\n<g id=\"node8\" class=\"node\">\n<title>7</title>\n<path fill=\"#59e995\" stroke=\"black\" d=\"M505,-187C505,-187 365,-187 365,-187 359,-187 353,-181 353,-175 353,-175 353,-116 353,-116 353,-110 359,-104 365,-104 365,-104 505,-104 505,-104 511,-104 517,-110 517,-116 517,-116 517,-175 517,-175 517,-181 511,-187 505,-187\"/>\n<text text-anchor=\"start\" x=\"361\" y=\"-171.8\" font-family=\"Helvetica,sans-Serif\" font-size=\"14.00\">ShuckedWeight ≤ &#45;0.921</text>\n<text text-anchor=\"start\" x=\"387.5\" y=\"-156.8\" font-family=\"Helvetica,sans-Serif\" font-size=\"14.00\">entropy = 0.724</text>\n<text text-anchor=\"start\" x=\"390\" y=\"-141.8\" font-family=\"Helvetica,sans-Serif\" font-size=\"14.00\">samples = 379</text>\n<text text-anchor=\"start\" x=\"373\" y=\"-126.8\" font-family=\"Helvetica,sans-Serif\" font-size=\"14.00\">value = [16, 324, 39]</text>\n<text text-anchor=\"start\" x=\"408\" y=\"-111.8\" font-family=\"Helvetica,sans-Serif\" font-size=\"14.00\">class = y</text>\n</g>\n<!-- 3&#45;&gt;7 -->\n<g id=\"edge7\" class=\"edge\">\n<title>3&#45;&gt;7</title>\n<path fill=\"none\" stroke=\"black\" d=\"M435,-222.91C435,-214.65 435,-205.86 435,-197.3\"/>\n<polygon fill=\"black\" stroke=\"black\" points=\"438.5,-197.02 435,-187.02 431.5,-197.02 438.5,-197.02\"/>\n</g>\n<!-- 5 -->\n<g id=\"node6\" class=\"node\">\n<title>5</title>\n<path fill=\"#60ea9a\" stroke=\"black\" d=\"M120,-68C120,-68 12,-68 12,-68 6,-68 0,-62 0,-56 0,-56 0,-12 0,-12 0,-6 6,0 12,0 12,0 120,0 120,0 126,0 132,-6 132,-12 132,-12 132,-56 132,-56 132,-62 126,-68 120,-68\"/>\n<text text-anchor=\"start\" x=\"18.5\" y=\"-52.8\" font-family=\"Helvetica,sans-Serif\" font-size=\"14.00\">entropy = 0.694</text>\n<text text-anchor=\"start\" x=\"21\" y=\"-37.8\" font-family=\"Helvetica,sans-Serif\" font-size=\"14.00\">samples = 132</text>\n<text text-anchor=\"start\" x=\"8\" y=\"-22.8\" font-family=\"Helvetica,sans-Serif\" font-size=\"14.00\">value = [1, 110, 21]</text>\n<text text-anchor=\"start\" x=\"39\" y=\"-7.8\" font-family=\"Helvetica,sans-Serif\" font-size=\"14.00\">class = y</text>\n</g>\n<!-- 4&#45;&gt;5 -->\n<g id=\"edge5\" class=\"edge\">\n<title>4&#45;&gt;5</title>\n<path fill=\"none\" stroke=\"black\" d=\"M153.87,-103.73C141.74,-94.24 128.85,-84.16 116.78,-74.72\"/>\n<polygon fill=\"black\" stroke=\"black\" points=\"118.61,-71.7 108.57,-68.3 114.3,-77.22 118.61,-71.7\"/>\n</g>\n<!-- 6 -->\n<g id=\"node7\" class=\"node\">\n<title>6</title>\n<path fill=\"#e0cef8\" stroke=\"black\" d=\"M249.5,-68C249.5,-68 162.5,-68 162.5,-68 156.5,-68 150.5,-62 150.5,-56 150.5,-56 150.5,-12 150.5,-12 150.5,-6 156.5,0 162.5,0 162.5,0 249.5,0 249.5,0 255.5,0 261.5,-6 261.5,-12 261.5,-12 261.5,-56 261.5,-56 261.5,-62 255.5,-68 249.5,-68\"/>\n<text text-anchor=\"start\" x=\"158.5\" y=\"-52.8\" font-family=\"Helvetica,sans-Serif\" font-size=\"14.00\">entropy = 0.985</text>\n<text text-anchor=\"start\" x=\"165\" y=\"-37.8\" font-family=\"Helvetica,sans-Serif\" font-size=\"14.00\">samples = 14</text>\n<text text-anchor=\"start\" x=\"159\" y=\"-22.8\" font-family=\"Helvetica,sans-Serif\" font-size=\"14.00\">value = [0, 6, 8]</text>\n<text text-anchor=\"start\" x=\"178.5\" y=\"-7.8\" font-family=\"Helvetica,sans-Serif\" font-size=\"14.00\">class = p</text>\n</g>\n<!-- 4&#45;&gt;6 -->\n<g id=\"edge6\" class=\"edge\">\n<title>4&#45;&gt;6</title>\n<path fill=\"none\" stroke=\"black\" d=\"M206,-103.73C206,-95.52 206,-86.86 206,-78.56\"/>\n<polygon fill=\"black\" stroke=\"black\" points=\"209.5,-78.3 206,-68.3 202.5,-78.3 209.5,-78.3\"/>\n</g>\n<!-- 8 -->\n<g id=\"node9\" class=\"node\">\n<title>8</title>\n<path fill=\"#5fea99\" stroke=\"black\" d=\"M408,-68C408,-68 292,-68 292,-68 286,-68 280,-62 280,-56 280,-56 280,-12 280,-12 280,-6 286,0 292,0 292,0 408,0 408,0 414,0 420,-6 420,-12 420,-12 420,-56 420,-56 420,-62 414,-68 408,-68\"/>\n<text text-anchor=\"start\" x=\"302.5\" y=\"-52.8\" font-family=\"Helvetica,sans-Serif\" font-size=\"14.00\">entropy = 0.804</text>\n<text text-anchor=\"start\" x=\"305\" y=\"-37.8\" font-family=\"Helvetica,sans-Serif\" font-size=\"14.00\">samples = 298</text>\n<text text-anchor=\"start\" x=\"288\" y=\"-22.8\" font-family=\"Helvetica,sans-Serif\" font-size=\"14.00\">value = [16, 248, 34]</text>\n<text text-anchor=\"start\" x=\"323\" y=\"-7.8\" font-family=\"Helvetica,sans-Serif\" font-size=\"14.00\">class = y</text>\n</g>\n<!-- 7&#45;&gt;8 -->\n<g id=\"edge8\" class=\"edge\">\n<title>7&#45;&gt;8</title>\n<path fill=\"none\" stroke=\"black\" d=\"M403.35,-103.73C396.41,-94.79 389.06,-85.32 382.1,-76.36\"/>\n<polygon fill=\"black\" stroke=\"black\" points=\"384.75,-74.05 375.85,-68.3 379.22,-78.35 384.75,-74.05\"/>\n</g>\n<!-- 9 -->\n<g id=\"node10\" class=\"node\">\n<title>9</title>\n<path fill=\"#46e789\" stroke=\"black\" d=\"M543.5,-68C543.5,-68 450.5,-68 450.5,-68 444.5,-68 438.5,-62 438.5,-56 438.5,-56 438.5,-12 438.5,-12 438.5,-6 444.5,0 450.5,0 450.5,0 543.5,0 543.5,0 549.5,0 555.5,-6 555.5,-12 555.5,-12 555.5,-56 555.5,-56 555.5,-62 549.5,-68 543.5,-68\"/>\n<text text-anchor=\"start\" x=\"449.5\" y=\"-52.8\" font-family=\"Helvetica,sans-Serif\" font-size=\"14.00\">entropy = 0.334</text>\n<text text-anchor=\"start\" x=\"456\" y=\"-37.8\" font-family=\"Helvetica,sans-Serif\" font-size=\"14.00\">samples = 81</text>\n<text text-anchor=\"start\" x=\"446.5\" y=\"-22.8\" font-family=\"Helvetica,sans-Serif\" font-size=\"14.00\">value = [0, 76, 5]</text>\n<text text-anchor=\"start\" x=\"470\" y=\"-7.8\" font-family=\"Helvetica,sans-Serif\" font-size=\"14.00\">class = y</text>\n</g>\n<!-- 7&#45;&gt;9 -->\n<g id=\"edge9\" class=\"edge\">\n<title>7&#45;&gt;9</title>\n<path fill=\"none\" stroke=\"black\" d=\"M458.09,-103.73C462.99,-95.06 468.18,-85.9 473.12,-77.18\"/>\n<polygon fill=\"black\" stroke=\"black\" points=\"476.26,-78.73 478.15,-68.3 470.17,-75.28 476.26,-78.73\"/>\n</g>\n<!-- 11 -->\n<g id=\"node12\" class=\"node\">\n<title>11</title>\n<path fill=\"#8bf0b5\" stroke=\"black\" d=\"M834,-187C834,-187 718,-187 718,-187 712,-187 706,-181 706,-175 706,-175 706,-116 706,-116 706,-110 712,-104 718,-104 718,-104 834,-104 834,-104 840,-104 846,-110 846,-116 846,-116 846,-175 846,-175 846,-181 840,-187 834,-187\"/>\n<text text-anchor=\"start\" x=\"716\" y=\"-171.8\" font-family=\"Helvetica,sans-Serif\" font-size=\"14.00\">WholeWeight ≤ &#45;0.3</text>\n<text text-anchor=\"start\" x=\"728.5\" y=\"-156.8\" font-family=\"Helvetica,sans-Serif\" font-size=\"14.00\">entropy = 1.271</text>\n<text text-anchor=\"start\" x=\"731\" y=\"-141.8\" font-family=\"Helvetica,sans-Serif\" font-size=\"14.00\">samples = 233</text>\n<text text-anchor=\"start\" x=\"714\" y=\"-126.8\" font-family=\"Helvetica,sans-Serif\" font-size=\"14.00\">value = [40, 153, 40]</text>\n<text text-anchor=\"start\" x=\"749\" y=\"-111.8\" font-family=\"Helvetica,sans-Serif\" font-size=\"14.00\">class = y</text>\n</g>\n<!-- 10&#45;&gt;11 -->\n<g id=\"edge11\" class=\"edge\">\n<title>10&#45;&gt;11</title>\n<path fill=\"none\" stroke=\"black\" d=\"M828.24,-222.91C822.16,-214.01 815.66,-204.51 809.39,-195.33\"/>\n<polygon fill=\"black\" stroke=\"black\" points=\"812.24,-193.3 803.71,-187.02 806.46,-197.25 812.24,-193.3\"/>\n</g>\n<!-- 14 -->\n<g id=\"node15\" class=\"node\">\n<title>14</title>\n<path fill=\"#f0fdf6\" stroke=\"black\" d=\"M994,-187C994,-187 876,-187 876,-187 870,-187 864,-181 864,-175 864,-175 864,-116 864,-116 864,-110 870,-104 876,-104 876,-104 994,-104 994,-104 1000,-104 1006,-110 1006,-116 1006,-116 1006,-175 1006,-175 1006,-181 1000,-187 994,-187\"/>\n<text text-anchor=\"start\" x=\"872\" y=\"-171.8\" font-family=\"Helvetica,sans-Serif\" font-size=\"14.00\">ShellWeight ≤ &#45;0.086</text>\n<text text-anchor=\"start\" x=\"887.5\" y=\"-156.8\" font-family=\"Helvetica,sans-Serif\" font-size=\"14.00\">entropy = 1.368</text>\n<text text-anchor=\"start\" x=\"894\" y=\"-141.8\" font-family=\"Helvetica,sans-Serif\" font-size=\"14.00\">samples = 70</text>\n<text text-anchor=\"start\" x=\"880.5\" y=\"-126.8\" font-family=\"Helvetica,sans-Serif\" font-size=\"14.00\">value = [7, 33, 30]</text>\n<text text-anchor=\"start\" x=\"908\" y=\"-111.8\" font-family=\"Helvetica,sans-Serif\" font-size=\"14.00\">class = y</text>\n</g>\n<!-- 10&#45;&gt;14 -->\n<g id=\"edge14\" class=\"edge\">\n<title>10&#45;&gt;14</title>\n<path fill=\"none\" stroke=\"black\" d=\"M883.41,-222.91C889.41,-214.01 895.83,-204.51 902.03,-195.33\"/>\n<polygon fill=\"black\" stroke=\"black\" points=\"904.94,-197.27 907.64,-187.02 899.14,-193.35 904.94,-197.27\"/>\n</g>\n<!-- 12 -->\n<g id=\"node13\" class=\"node\">\n<title>12</title>\n<path fill=\"#89f0b4\" stroke=\"black\" d=\"M702,-68C702,-68 586,-68 586,-68 580,-68 574,-62 574,-56 574,-56 574,-12 574,-12 574,-6 580,0 586,0 586,0 702,0 702,0 708,0 714,-6 714,-12 714,-12 714,-56 714,-56 714,-62 708,-68 702,-68\"/>\n<text text-anchor=\"start\" x=\"596.5\" y=\"-52.8\" font-family=\"Helvetica,sans-Serif\" font-size=\"14.00\">entropy = 1.254</text>\n<text text-anchor=\"start\" x=\"599\" y=\"-37.8\" font-family=\"Helvetica,sans-Serif\" font-size=\"14.00\">samples = 230</text>\n<text text-anchor=\"start\" x=\"582\" y=\"-22.8\" font-family=\"Helvetica,sans-Serif\" font-size=\"14.00\">value = [37, 153, 40]</text>\n<text text-anchor=\"start\" x=\"617\" y=\"-7.8\" font-family=\"Helvetica,sans-Serif\" font-size=\"14.00\">class = y</text>\n</g>\n<!-- 11&#45;&gt;12 -->\n<g id=\"edge12\" class=\"edge\">\n<title>11&#45;&gt;12</title>\n<path fill=\"none\" stroke=\"black\" d=\"M726.85,-103.73C715.41,-94.24 703.26,-84.16 691.88,-74.72\"/>\n<polygon fill=\"black\" stroke=\"black\" points=\"694.07,-71.99 684.14,-68.3 689.6,-77.38 694.07,-71.99\"/>\n</g>\n<!-- 13 -->\n<g id=\"node14\" class=\"node\">\n<title>13</title>\n<path fill=\"#e58139\" stroke=\"black\" d=\"M830,-68C830,-68 744,-68 744,-68 738,-68 732,-62 732,-56 732,-56 732,-12 732,-12 732,-6 738,0 744,0 744,0 830,0 830,0 836,0 842,-6 842,-12 842,-12 842,-56 842,-56 842,-62 836,-68 830,-68\"/>\n<text text-anchor=\"start\" x=\"747\" y=\"-52.8\" font-family=\"Helvetica,sans-Serif\" font-size=\"14.00\">entropy = 0.0</text>\n<text text-anchor=\"start\" x=\"749.5\" y=\"-37.8\" font-family=\"Helvetica,sans-Serif\" font-size=\"14.00\">samples = 3</text>\n<text text-anchor=\"start\" x=\"740\" y=\"-22.8\" font-family=\"Helvetica,sans-Serif\" font-size=\"14.00\">value = [3, 0, 0]</text>\n<text text-anchor=\"start\" x=\"759.5\" y=\"-7.8\" font-family=\"Helvetica,sans-Serif\" font-size=\"14.00\">class = T</text>\n</g>\n<!-- 11&#45;&gt;13 -->\n<g id=\"edge13\" class=\"edge\">\n<title>11&#45;&gt;13</title>\n<path fill=\"none\" stroke=\"black\" d=\"M780.1,-103.73C780.93,-95.43 781.81,-86.67 782.65,-78.28\"/>\n<polygon fill=\"black\" stroke=\"black\" points=\"786.14,-78.6 783.65,-68.3 779.17,-77.9 786.14,-78.6\"/>\n</g>\n<!-- 15 -->\n<g id=\"node16\" class=\"node\">\n<title>15</title>\n<path fill=\"#e0fbeb\" stroke=\"black\" d=\"M973.5,-68C973.5,-68 872.5,-68 872.5,-68 866.5,-68 860.5,-62 860.5,-56 860.5,-56 860.5,-12 860.5,-12 860.5,-6 866.5,0 872.5,0 872.5,0 973.5,0 973.5,0 979.5,0 985.5,-6 985.5,-12 985.5,-12 985.5,-56 985.5,-56 985.5,-62 979.5,-68 973.5,-68\"/>\n<text text-anchor=\"start\" x=\"875.5\" y=\"-52.8\" font-family=\"Helvetica,sans-Serif\" font-size=\"14.00\">entropy = 1.308</text>\n<text text-anchor=\"start\" x=\"882\" y=\"-37.8\" font-family=\"Helvetica,sans-Serif\" font-size=\"14.00\">samples = 65</text>\n<text text-anchor=\"start\" x=\"868.5\" y=\"-22.8\" font-family=\"Helvetica,sans-Serif\" font-size=\"14.00\">value = [5, 33, 27]</text>\n<text text-anchor=\"start\" x=\"896\" y=\"-7.8\" font-family=\"Helvetica,sans-Serif\" font-size=\"14.00\">class = y</text>\n</g>\n<!-- 14&#45;&gt;15 -->\n<g id=\"edge15\" class=\"edge\">\n<title>14&#45;&gt;15</title>\n<path fill=\"none\" stroke=\"black\" d=\"M930.53,-103.73C929.62,-95.43 928.66,-86.67 927.74,-78.28\"/>\n<polygon fill=\"black\" stroke=\"black\" points=\"931.22,-77.86 926.65,-68.3 924.26,-78.62 931.22,-77.86\"/>\n</g>\n<!-- 16 -->\n<g id=\"node17\" class=\"node\">\n<title>16</title>\n<path fill=\"#d5bdf6\" stroke=\"black\" d=\"M1102.5,-68C1102.5,-68 1015.5,-68 1015.5,-68 1009.5,-68 1003.5,-62 1003.5,-56 1003.5,-56 1003.5,-12 1003.5,-12 1003.5,-6 1009.5,0 1015.5,0 1015.5,0 1102.5,0 1102.5,0 1108.5,0 1114.5,-6 1114.5,-12 1114.5,-12 1114.5,-56 1114.5,-56 1114.5,-62 1108.5,-68 1102.5,-68\"/>\n<text text-anchor=\"start\" x=\"1011.5\" y=\"-52.8\" font-family=\"Helvetica,sans-Serif\" font-size=\"14.00\">entropy = 0.971</text>\n<text text-anchor=\"start\" x=\"1021.5\" y=\"-37.8\" font-family=\"Helvetica,sans-Serif\" font-size=\"14.00\">samples = 5</text>\n<text text-anchor=\"start\" x=\"1012\" y=\"-22.8\" font-family=\"Helvetica,sans-Serif\" font-size=\"14.00\">value = [2, 0, 3]</text>\n<text text-anchor=\"start\" x=\"1031.5\" y=\"-7.8\" font-family=\"Helvetica,sans-Serif\" font-size=\"14.00\">class = p</text>\n</g>\n<!-- 14&#45;&gt;16 -->\n<g id=\"edge16\" class=\"edge\">\n<title>14&#45;&gt;16</title>\n<path fill=\"none\" stroke=\"black\" d=\"M981.17,-103.73C991.81,-94.33 1003.12,-84.35 1013.72,-74.99\"/>\n<polygon fill=\"black\" stroke=\"black\" points=\"1016.11,-77.54 1021.29,-68.3 1011.48,-72.3 1016.11,-77.54\"/>\n</g>\n<!-- 18 -->\n<g id=\"node19\" class=\"node\">\n<title>18</title>\n<path fill=\"#c8f8dc\" stroke=\"black\" d=\"M1613.5,-306C1613.5,-306 1504.5,-306 1504.5,-306 1498.5,-306 1492.5,-300 1492.5,-294 1492.5,-294 1492.5,-235 1492.5,-235 1492.5,-229 1498.5,-223 1504.5,-223 1504.5,-223 1613.5,-223 1613.5,-223 1619.5,-223 1625.5,-229 1625.5,-235 1625.5,-235 1625.5,-294 1625.5,-294 1625.5,-300 1619.5,-306 1613.5,-306\"/>\n<text text-anchor=\"start\" x=\"1500.5\" y=\"-290.8\" font-family=\"Helvetica,sans-Serif\" font-size=\"14.00\">LongestShell ≤ &#45;0.6</text>\n<text text-anchor=\"start\" x=\"1511.5\" y=\"-275.8\" font-family=\"Helvetica,sans-Serif\" font-size=\"14.00\">entropy = 1.486</text>\n<text text-anchor=\"start\" x=\"1514\" y=\"-260.8\" font-family=\"Helvetica,sans-Serif\" font-size=\"14.00\">samples = 187</text>\n<text text-anchor=\"start\" x=\"1501\" y=\"-245.8\" font-family=\"Helvetica,sans-Serif\" font-size=\"14.00\">value = [37, 93, 57]</text>\n<text text-anchor=\"start\" x=\"1532\" y=\"-230.8\" font-family=\"Helvetica,sans-Serif\" font-size=\"14.00\">class = y</text>\n</g>\n<!-- 17&#45;&gt;18 -->\n<g id=\"edge18\" class=\"edge\">\n<title>17&#45;&gt;18</title>\n<path fill=\"none\" stroke=\"black\" d=\"M1627.57,-341.91C1619.35,-332.74 1610.54,-322.93 1602.07,-313.49\"/>\n<polygon fill=\"black\" stroke=\"black\" points=\"1604.65,-311.13 1595.36,-306.02 1599.44,-315.8 1604.65,-311.13\"/>\n</g>\n<!-- 25 -->\n<g id=\"node26\" class=\"node\">\n<title>25</title>\n<path fill=\"#fbf9fe\" stroke=\"black\" d=\"M1895.5,-306C1895.5,-306 1764.5,-306 1764.5,-306 1758.5,-306 1752.5,-300 1752.5,-294 1752.5,-294 1752.5,-235 1752.5,-235 1752.5,-229 1758.5,-223 1764.5,-223 1764.5,-223 1895.5,-223 1895.5,-223 1901.5,-223 1907.5,-229 1907.5,-235 1907.5,-235 1907.5,-294 1907.5,-294 1907.5,-300 1901.5,-306 1895.5,-306\"/>\n<text text-anchor=\"start\" x=\"1783.5\" y=\"-290.8\" font-family=\"Helvetica,sans-Serif\" font-size=\"14.00\">Height ≤ &#45;1.099</text>\n<text text-anchor=\"start\" x=\"1786\" y=\"-275.8\" font-family=\"Helvetica,sans-Serif\" font-size=\"14.00\">entropy = 1.58</text>\n<text text-anchor=\"start\" x=\"1785\" y=\"-260.8\" font-family=\"Helvetica,sans-Serif\" font-size=\"14.00\">samples = 345</text>\n<text text-anchor=\"start\" x=\"1760.5\" y=\"-245.8\" font-family=\"Helvetica,sans-Serif\" font-size=\"14.00\">value = [118, 102, 125]</text>\n<text text-anchor=\"start\" x=\"1802.5\" y=\"-230.8\" font-family=\"Helvetica,sans-Serif\" font-size=\"14.00\">class = p</text>\n</g>\n<!-- 17&#45;&gt;25 -->\n<g id=\"edge25\" class=\"edge\">\n<title>17&#45;&gt;25</title>\n<path fill=\"none\" stroke=\"black\" d=\"M1721.59,-341.91C1735.37,-332.2 1750.18,-321.76 1764.29,-311.81\"/>\n<polygon fill=\"black\" stroke=\"black\" points=\"1766.35,-314.64 1772.51,-306.02 1762.32,-308.92 1766.35,-314.64\"/>\n</g>\n<!-- 19 -->\n<g id=\"node20\" class=\"node\">\n<title>19</title>\n<path fill=\"#e5d6fa\" stroke=\"black\" d=\"M1386,-187C1386,-187 1268,-187 1268,-187 1262,-187 1256,-181 1256,-175 1256,-175 1256,-116 1256,-116 1256,-110 1262,-104 1268,-104 1268,-104 1386,-104 1386,-104 1392,-104 1398,-110 1398,-116 1398,-116 1398,-175 1398,-175 1398,-181 1392,-187 1386,-187\"/>\n<text text-anchor=\"start\" x=\"1264\" y=\"-171.8\" font-family=\"Helvetica,sans-Serif\" font-size=\"14.00\">ShellWeight ≤ &#45;1.315</text>\n<text text-anchor=\"start\" x=\"1279.5\" y=\"-156.8\" font-family=\"Helvetica,sans-Serif\" font-size=\"14.00\">entropy = 1.528</text>\n<text text-anchor=\"start\" x=\"1286\" y=\"-141.8\" font-family=\"Helvetica,sans-Serif\" font-size=\"14.00\">samples = 57</text>\n<text text-anchor=\"start\" x=\"1269\" y=\"-126.8\" font-family=\"Helvetica,sans-Serif\" font-size=\"14.00\">value = [13, 18, 26]</text>\n<text text-anchor=\"start\" x=\"1299.5\" y=\"-111.8\" font-family=\"Helvetica,sans-Serif\" font-size=\"14.00\">class = p</text>\n</g>\n<!-- 18&#45;&gt;19 -->\n<g id=\"edge19\" class=\"edge\">\n<title>18&#45;&gt;19</title>\n<path fill=\"none\" stroke=\"black\" d=\"M1492.21,-229.82C1465.75,-216.47 1435.1,-201.01 1407.43,-187.06\"/>\n<polygon fill=\"black\" stroke=\"black\" points=\"1408.68,-183.77 1398.18,-182.4 1405.53,-190.02 1408.68,-183.77\"/>\n</g>\n<!-- 22 -->\n<g id=\"node23\" class=\"node\">\n<title>22</title>\n<path fill=\"#a7f3c7\" stroke=\"black\" d=\"M1629,-187C1629,-187 1489,-187 1489,-187 1483,-187 1477,-181 1477,-175 1477,-175 1477,-116 1477,-116 1477,-110 1483,-104 1489,-104 1489,-104 1629,-104 1629,-104 1635,-104 1641,-110 1641,-116 1641,-116 1641,-175 1641,-175 1641,-181 1635,-187 1629,-187\"/>\n<text text-anchor=\"start\" x=\"1485\" y=\"-171.8\" font-family=\"Helvetica,sans-Serif\" font-size=\"14.00\">ShuckedWeight ≤ &#45;0.141</text>\n<text text-anchor=\"start\" x=\"1511.5\" y=\"-156.8\" font-family=\"Helvetica,sans-Serif\" font-size=\"14.00\">entropy = 1.401</text>\n<text text-anchor=\"start\" x=\"1514\" y=\"-141.8\" font-family=\"Helvetica,sans-Serif\" font-size=\"14.00\">samples = 130</text>\n<text text-anchor=\"start\" x=\"1501\" y=\"-126.8\" font-family=\"Helvetica,sans-Serif\" font-size=\"14.00\">value = [24, 75, 31]</text>\n<text text-anchor=\"start\" x=\"1532\" y=\"-111.8\" font-family=\"Helvetica,sans-Serif\" font-size=\"14.00\">class = y</text>\n</g>\n<!-- 18&#45;&gt;22 -->\n<g id=\"edge22\" class=\"edge\">\n<title>18&#45;&gt;22</title>\n<path fill=\"none\" stroke=\"black\" d=\"M1559,-222.91C1559,-214.65 1559,-205.86 1559,-197.3\"/>\n<polygon fill=\"black\" stroke=\"black\" points=\"1562.5,-197.02 1559,-187.02 1555.5,-197.02 1562.5,-197.02\"/>\n</g>\n<!-- 20 -->\n<g id=\"node21\" class=\"node\">\n<title>20</title>\n<path fill=\"#39e581\" stroke=\"black\" d=\"M1231,-68C1231,-68 1145,-68 1145,-68 1139,-68 1133,-62 1133,-56 1133,-56 1133,-12 1133,-12 1133,-6 1139,0 1145,0 1145,0 1231,0 1231,0 1237,0 1243,-6 1243,-12 1243,-12 1243,-56 1243,-56 1243,-62 1237,-68 1231,-68\"/>\n<text text-anchor=\"start\" x=\"1148\" y=\"-52.8\" font-family=\"Helvetica,sans-Serif\" font-size=\"14.00\">entropy = 0.0</text>\n<text text-anchor=\"start\" x=\"1150.5\" y=\"-37.8\" font-family=\"Helvetica,sans-Serif\" font-size=\"14.00\">samples = 4</text>\n<text text-anchor=\"start\" x=\"1141\" y=\"-22.8\" font-family=\"Helvetica,sans-Serif\" font-size=\"14.00\">value = [0, 4, 0]</text>\n<text text-anchor=\"start\" x=\"1161\" y=\"-7.8\" font-family=\"Helvetica,sans-Serif\" font-size=\"14.00\">class = y</text>\n</g>\n<!-- 19&#45;&gt;20 -->\n<g id=\"edge20\" class=\"edge\">\n<title>19&#45;&gt;20</title>\n<path fill=\"none\" stroke=\"black\" d=\"M1275.24,-103.73C1263.2,-94.24 1250.4,-84.16 1238.42,-74.72\"/>\n<polygon fill=\"black\" stroke=\"black\" points=\"1240.29,-71.74 1230.27,-68.3 1235.96,-77.24 1240.29,-71.74\"/>\n</g>\n<!-- 21 -->\n<g id=\"node22\" class=\"node\">\n<title>21</title>\n<path fill=\"#d8c2f7\" stroke=\"black\" d=\"M1381,-68C1381,-68 1273,-68 1273,-68 1267,-68 1261,-62 1261,-56 1261,-56 1261,-12 1261,-12 1261,-6 1267,0 1273,0 1273,0 1381,0 1381,0 1387,0 1393,-6 1393,-12 1393,-12 1393,-56 1393,-56 1393,-62 1387,-68 1381,-68\"/>\n<text text-anchor=\"start\" x=\"1279.5\" y=\"-52.8\" font-family=\"Helvetica,sans-Serif\" font-size=\"14.00\">entropy = 1.509</text>\n<text text-anchor=\"start\" x=\"1286\" y=\"-37.8\" font-family=\"Helvetica,sans-Serif\" font-size=\"14.00\">samples = 53</text>\n<text text-anchor=\"start\" x=\"1269\" y=\"-22.8\" font-family=\"Helvetica,sans-Serif\" font-size=\"14.00\">value = [13, 14, 26]</text>\n<text text-anchor=\"start\" x=\"1299.5\" y=\"-7.8\" font-family=\"Helvetica,sans-Serif\" font-size=\"14.00\">class = p</text>\n</g>\n<!-- 19&#45;&gt;21 -->\n<g id=\"edge21\" class=\"edge\">\n<title>19&#45;&gt;21</title>\n<path fill=\"none\" stroke=\"black\" d=\"M1327,-103.73C1327,-95.52 1327,-86.86 1327,-78.56\"/>\n<polygon fill=\"black\" stroke=\"black\" points=\"1330.5,-78.3 1327,-68.3 1323.5,-78.3 1330.5,-78.3\"/>\n</g>\n<!-- 23 -->\n<g id=\"node24\" class=\"node\">\n<title>23</title>\n<path fill=\"#89f0b4\" stroke=\"black\" d=\"M1531,-68C1531,-68 1423,-68 1423,-68 1417,-68 1411,-62 1411,-56 1411,-56 1411,-12 1411,-12 1411,-6 1417,0 1423,0 1423,0 1531,0 1531,0 1537,0 1543,-6 1543,-12 1543,-12 1543,-56 1543,-56 1543,-62 1537,-68 1531,-68\"/>\n<text text-anchor=\"start\" x=\"1429.5\" y=\"-52.8\" font-family=\"Helvetica,sans-Serif\" font-size=\"14.00\">entropy = 1.251</text>\n<text text-anchor=\"start\" x=\"1432\" y=\"-37.8\" font-family=\"Helvetica,sans-Serif\" font-size=\"14.00\">samples = 102</text>\n<text text-anchor=\"start\" x=\"1419\" y=\"-22.8\" font-family=\"Helvetica,sans-Serif\" font-size=\"14.00\">value = [18, 68, 16]</text>\n<text text-anchor=\"start\" x=\"1450\" y=\"-7.8\" font-family=\"Helvetica,sans-Serif\" font-size=\"14.00\">class = y</text>\n</g>\n<!-- 22&#45;&gt;23 -->\n<g id=\"edge23\" class=\"edge\">\n<title>22&#45;&gt;23</title>\n<path fill=\"none\" stroke=\"black\" d=\"M1528.47,-103.73C1521.77,-94.79 1514.68,-85.32 1507.97,-76.36\"/>\n<polygon fill=\"black\" stroke=\"black\" points=\"1510.73,-74.21 1501.94,-68.3 1505.13,-78.4 1510.73,-74.21\"/>\n</g>\n<!-- 24 -->\n<g id=\"node25\" class=\"node\">\n<title>24</title>\n<path fill=\"#cfb4f5\" stroke=\"black\" d=\"M1666.5,-68C1666.5,-68 1573.5,-68 1573.5,-68 1567.5,-68 1561.5,-62 1561.5,-56 1561.5,-56 1561.5,-12 1561.5,-12 1561.5,-6 1567.5,0 1573.5,0 1573.5,0 1666.5,0 1666.5,0 1672.5,0 1678.5,-6 1678.5,-12 1678.5,-12 1678.5,-56 1678.5,-56 1678.5,-62 1672.5,-68 1666.5,-68\"/>\n<text text-anchor=\"start\" x=\"1572.5\" y=\"-52.8\" font-family=\"Helvetica,sans-Serif\" font-size=\"14.00\">entropy = 1.459</text>\n<text text-anchor=\"start\" x=\"1579\" y=\"-37.8\" font-family=\"Helvetica,sans-Serif\" font-size=\"14.00\">samples = 28</text>\n<text text-anchor=\"start\" x=\"1569.5\" y=\"-22.8\" font-family=\"Helvetica,sans-Serif\" font-size=\"14.00\">value = [6, 7, 15]</text>\n<text text-anchor=\"start\" x=\"1592.5\" y=\"-7.8\" font-family=\"Helvetica,sans-Serif\" font-size=\"14.00\">class = p</text>\n</g>\n<!-- 22&#45;&gt;24 -->\n<g id=\"edge24\" class=\"edge\">\n<title>22&#45;&gt;24</title>\n<path fill=\"none\" stroke=\"black\" d=\"M1581.71,-103.73C1586.54,-95.06 1591.65,-85.9 1596.5,-77.18\"/>\n<polygon fill=\"black\" stroke=\"black\" points=\"1599.64,-78.74 1601.45,-68.3 1593.53,-75.33 1599.64,-78.74\"/>\n</g>\n<!-- 26 -->\n<g id=\"node27\" class=\"node\">\n<title>26</title>\n<path fill=\"#9a61ea\" stroke=\"black\" d=\"M1896.5,-187C1896.5,-187 1763.5,-187 1763.5,-187 1757.5,-187 1751.5,-181 1751.5,-175 1751.5,-175 1751.5,-116 1751.5,-116 1751.5,-110 1757.5,-104 1763.5,-104 1763.5,-104 1896.5,-104 1896.5,-104 1902.5,-104 1908.5,-110 1908.5,-116 1908.5,-116 1908.5,-175 1908.5,-175 1908.5,-181 1902.5,-187 1896.5,-187\"/>\n<text text-anchor=\"start\" x=\"1759.5\" y=\"-171.8\" font-family=\"Helvetica,sans-Serif\" font-size=\"14.00\">VisceraWeight ≤ &#45;1.332</text>\n<text text-anchor=\"start\" x=\"1786\" y=\"-156.8\" font-family=\"Helvetica,sans-Serif\" font-size=\"14.00\">entropy = 0.65</text>\n<text text-anchor=\"start\" x=\"1789\" y=\"-141.8\" font-family=\"Helvetica,sans-Serif\" font-size=\"14.00\">samples = 18</text>\n<text text-anchor=\"start\" x=\"1779.5\" y=\"-126.8\" font-family=\"Helvetica,sans-Serif\" font-size=\"14.00\">value = [0, 3, 15]</text>\n<text text-anchor=\"start\" x=\"1802.5\" y=\"-111.8\" font-family=\"Helvetica,sans-Serif\" font-size=\"14.00\">class = p</text>\n</g>\n<!-- 25&#45;&gt;26 -->\n<g id=\"edge26\" class=\"edge\">\n<title>25&#45;&gt;26</title>\n<path fill=\"none\" stroke=\"black\" d=\"M1830,-222.91C1830,-214.65 1830,-205.86 1830,-197.3\"/>\n<polygon fill=\"black\" stroke=\"black\" points=\"1833.5,-197.02 1830,-187.02 1826.5,-197.02 1833.5,-197.02\"/>\n</g>\n<!-- 29 -->\n<g id=\"node30\" class=\"node\">\n<title>29</title>\n<path fill=\"#fefaf8\" stroke=\"black\" d=\"M2092.5,-187C2092.5,-187 1969.5,-187 1969.5,-187 1963.5,-187 1957.5,-181 1957.5,-175 1957.5,-175 1957.5,-116 1957.5,-116 1957.5,-110 1963.5,-104 1969.5,-104 1969.5,-104 2092.5,-104 2092.5,-104 2098.5,-104 2104.5,-110 2104.5,-116 2104.5,-116 2104.5,-175 2104.5,-175 2104.5,-181 2098.5,-187 2092.5,-187\"/>\n<text text-anchor=\"start\" x=\"1970.5\" y=\"-171.8\" font-family=\"Helvetica,sans-Serif\" font-size=\"14.00\">ShellWeight ≤ 0.316</text>\n<text text-anchor=\"start\" x=\"1983.5\" y=\"-156.8\" font-family=\"Helvetica,sans-Serif\" font-size=\"14.00\">entropy = 1.581</text>\n<text text-anchor=\"start\" x=\"1986\" y=\"-141.8\" font-family=\"Helvetica,sans-Serif\" font-size=\"14.00\">samples = 327</text>\n<text text-anchor=\"start\" x=\"1965.5\" y=\"-126.8\" font-family=\"Helvetica,sans-Serif\" font-size=\"14.00\">value = [118, 99, 110]</text>\n<text text-anchor=\"start\" x=\"2003.5\" y=\"-111.8\" font-family=\"Helvetica,sans-Serif\" font-size=\"14.00\">class = T</text>\n</g>\n<!-- 25&#45;&gt;29 -->\n<g id=\"edge29\" class=\"edge\">\n<title>25&#45;&gt;29</title>\n<path fill=\"none\" stroke=\"black\" d=\"M1899.74,-222.91C1916.73,-213.02 1935.02,-202.37 1952.4,-192.25\"/>\n<polygon fill=\"black\" stroke=\"black\" points=\"1954.51,-195.08 1961.39,-187.02 1950.98,-189.03 1954.51,-195.08\"/>\n</g>\n<!-- 27 -->\n<g id=\"node28\" class=\"node\">\n<title>27</title>\n<path fill=\"#9cf2c0\" stroke=\"black\" d=\"M1795.5,-68C1795.5,-68 1708.5,-68 1708.5,-68 1702.5,-68 1696.5,-62 1696.5,-56 1696.5,-56 1696.5,-12 1696.5,-12 1696.5,-6 1702.5,0 1708.5,0 1708.5,0 1795.5,0 1795.5,0 1801.5,0 1807.5,-6 1807.5,-12 1807.5,-12 1807.5,-56 1807.5,-56 1807.5,-62 1801.5,-68 1795.5,-68\"/>\n<text text-anchor=\"start\" x=\"1704.5\" y=\"-52.8\" font-family=\"Helvetica,sans-Serif\" font-size=\"14.00\">entropy = 0.918</text>\n<text text-anchor=\"start\" x=\"1714.5\" y=\"-37.8\" font-family=\"Helvetica,sans-Serif\" font-size=\"14.00\">samples = 3</text>\n<text text-anchor=\"start\" x=\"1705\" y=\"-22.8\" font-family=\"Helvetica,sans-Serif\" font-size=\"14.00\">value = [0, 2, 1]</text>\n<text text-anchor=\"start\" x=\"1725\" y=\"-7.8\" font-family=\"Helvetica,sans-Serif\" font-size=\"14.00\">class = y</text>\n</g>\n<!-- 26&#45;&gt;27 -->\n<g id=\"edge27\" class=\"edge\">\n<title>26&#45;&gt;27</title>\n<path fill=\"none\" stroke=\"black\" d=\"M1800.96,-103.73C1794.65,-94.88 1787.98,-85.51 1781.65,-76.63\"/>\n<polygon fill=\"black\" stroke=\"black\" points=\"1784.37,-74.41 1775.72,-68.3 1778.67,-78.48 1784.37,-74.41\"/>\n</g>\n<!-- 28 -->\n<g id=\"node29\" class=\"node\">\n<title>28</title>\n<path fill=\"#8a47e7\" stroke=\"black\" d=\"M1930.5,-68C1930.5,-68 1837.5,-68 1837.5,-68 1831.5,-68 1825.5,-62 1825.5,-56 1825.5,-56 1825.5,-12 1825.5,-12 1825.5,-6 1831.5,0 1837.5,0 1837.5,0 1930.5,0 1930.5,0 1936.5,0 1942.5,-6 1942.5,-12 1942.5,-12 1942.5,-56 1942.5,-56 1942.5,-62 1936.5,-68 1930.5,-68\"/>\n<text text-anchor=\"start\" x=\"1836.5\" y=\"-52.8\" font-family=\"Helvetica,sans-Serif\" font-size=\"14.00\">entropy = 0.353</text>\n<text text-anchor=\"start\" x=\"1843\" y=\"-37.8\" font-family=\"Helvetica,sans-Serif\" font-size=\"14.00\">samples = 15</text>\n<text text-anchor=\"start\" x=\"1833.5\" y=\"-22.8\" font-family=\"Helvetica,sans-Serif\" font-size=\"14.00\">value = [0, 1, 14]</text>\n<text text-anchor=\"start\" x=\"1856.5\" y=\"-7.8\" font-family=\"Helvetica,sans-Serif\" font-size=\"14.00\">class = p</text>\n</g>\n<!-- 26&#45;&gt;28 -->\n<g id=\"edge28\" class=\"edge\">\n<title>26&#45;&gt;28</title>\n<path fill=\"none\" stroke=\"black\" d=\"M1850.11,-103.73C1854.34,-95.15 1858.81,-86.09 1863.06,-77.46\"/>\n<polygon fill=\"black\" stroke=\"black\" points=\"1866.29,-78.82 1867.58,-68.3 1860.02,-75.72 1866.29,-78.82\"/>\n</g>\n<!-- 30 -->\n<g id=\"node31\" class=\"node\">\n<title>30</title>\n<path fill=\"#fdf7f2\" stroke=\"black\" d=\"M2089,-68C2089,-68 1973,-68 1973,-68 1967,-68 1961,-62 1961,-56 1961,-56 1961,-12 1961,-12 1961,-6 1967,0 1973,0 1973,0 2089,0 2089,0 2095,0 2101,-6 2101,-12 2101,-12 2101,-56 2101,-56 2101,-62 2095,-68 2089,-68\"/>\n<text text-anchor=\"start\" x=\"1983.5\" y=\"-52.8\" font-family=\"Helvetica,sans-Serif\" font-size=\"14.00\">entropy = 1.581</text>\n<text text-anchor=\"start\" x=\"1986\" y=\"-37.8\" font-family=\"Helvetica,sans-Serif\" font-size=\"14.00\">samples = 302</text>\n<text text-anchor=\"start\" x=\"1969\" y=\"-22.8\" font-family=\"Helvetica,sans-Serif\" font-size=\"14.00\">value = [111, 98, 93]</text>\n<text text-anchor=\"start\" x=\"2003.5\" y=\"-7.8\" font-family=\"Helvetica,sans-Serif\" font-size=\"14.00\">class = T</text>\n</g>\n<!-- 29&#45;&gt;30 -->\n<g id=\"edge30\" class=\"edge\">\n<title>29&#45;&gt;30</title>\n<path fill=\"none\" stroke=\"black\" d=\"M2031,-103.73C2031,-95.52 2031,-86.86 2031,-78.56\"/>\n<polygon fill=\"black\" stroke=\"black\" points=\"2034.5,-78.3 2031,-68.3 2027.5,-78.3 2034.5,-78.3\"/>\n</g>\n<!-- 31 -->\n<g id=\"node32\" class=\"node\">\n<title>31</title>\n<path fill=\"#b991f1\" stroke=\"black\" d=\"M2224.5,-68C2224.5,-68 2131.5,-68 2131.5,-68 2125.5,-68 2119.5,-62 2119.5,-56 2119.5,-56 2119.5,-12 2119.5,-12 2119.5,-6 2125.5,0 2131.5,0 2131.5,0 2224.5,0 2224.5,0 2230.5,0 2236.5,-6 2236.5,-12 2236.5,-12 2236.5,-56 2236.5,-56 2236.5,-62 2230.5,-68 2224.5,-68\"/>\n<text text-anchor=\"start\" x=\"2130.5\" y=\"-52.8\" font-family=\"Helvetica,sans-Serif\" font-size=\"14.00\">entropy = 1.078</text>\n<text text-anchor=\"start\" x=\"2137\" y=\"-37.8\" font-family=\"Helvetica,sans-Serif\" font-size=\"14.00\">samples = 25</text>\n<text text-anchor=\"start\" x=\"2127.5\" y=\"-22.8\" font-family=\"Helvetica,sans-Serif\" font-size=\"14.00\">value = [7, 1, 17]</text>\n<text text-anchor=\"start\" x=\"2150.5\" y=\"-7.8\" font-family=\"Helvetica,sans-Serif\" font-size=\"14.00\">class = p</text>\n</g>\n<!-- 29&#45;&gt;31 -->\n<g id=\"edge31\" class=\"edge\">\n<title>29&#45;&gt;31</title>\n<path fill=\"none\" stroke=\"black\" d=\"M2085.74,-103.73C2098.59,-94.15 2112.27,-83.96 2125.05,-74.44\"/>\n<polygon fill=\"black\" stroke=\"black\" points=\"2127.37,-77.08 2133.3,-68.3 2123.19,-71.47 2127.37,-77.08\"/>\n</g>\n<!-- 33 -->\n<g id=\"node34\" class=\"node\">\n<title>33</title>\n<path fill=\"#ebdffb\" stroke=\"black\" d=\"M2894.5,-425C2894.5,-425 2771.5,-425 2771.5,-425 2765.5,-425 2759.5,-419 2759.5,-413 2759.5,-413 2759.5,-354 2759.5,-354 2759.5,-348 2765.5,-342 2771.5,-342 2771.5,-342 2894.5,-342 2894.5,-342 2900.5,-342 2906.5,-348 2906.5,-354 2906.5,-354 2906.5,-413 2906.5,-413 2906.5,-419 2900.5,-425 2894.5,-425\"/>\n<text text-anchor=\"start\" x=\"2768\" y=\"-409.8\" font-family=\"Helvetica,sans-Serif\" font-size=\"14.00\">WholeWeight ≤ 0.035</text>\n<text text-anchor=\"start\" x=\"2785.5\" y=\"-394.8\" font-family=\"Helvetica,sans-Serif\" font-size=\"14.00\">entropy = 1.452</text>\n<text text-anchor=\"start\" x=\"2788\" y=\"-379.8\" font-family=\"Helvetica,sans-Serif\" font-size=\"14.00\">samples = 545</text>\n<text text-anchor=\"start\" x=\"2767.5\" y=\"-364.8\" font-family=\"Helvetica,sans-Serif\" font-size=\"14.00\">value = [204, 82, 259]</text>\n<text text-anchor=\"start\" x=\"2805.5\" y=\"-349.8\" font-family=\"Helvetica,sans-Serif\" font-size=\"14.00\">class = p</text>\n</g>\n<!-- 32&#45;&gt;33 -->\n<g id=\"edge33\" class=\"edge\">\n<title>32&#45;&gt;33</title>\n<path fill=\"none\" stroke=\"black\" d=\"M2833,-460.91C2833,-452.65 2833,-443.86 2833,-435.3\"/>\n<polygon fill=\"black\" stroke=\"black\" points=\"2836.5,-435.02 2833,-425.02 2829.5,-435.02 2836.5,-435.02\"/>\n</g>\n<!-- 48 -->\n<g id=\"node49\" class=\"node\">\n<title>48</title>\n<path fill=\"#f6f1fd\" stroke=\"black\" d=\"M3745,-425C3745,-425 3617,-425 3617,-425 3611,-425 3605,-419 3605,-413 3605,-413 3605,-354 3605,-354 3605,-348 3611,-342 3617,-342 3617,-342 3745,-342 3745,-342 3751,-342 3757,-348 3757,-354 3757,-354 3757,-413 3757,-413 3757,-419 3751,-425 3745,-425\"/>\n<text text-anchor=\"start\" x=\"3613\" y=\"-409.8\" font-family=\"Helvetica,sans-Serif\" font-size=\"14.00\">ShuckedWeight ≤ 2.29</text>\n<text text-anchor=\"start\" x=\"3633.5\" y=\"-394.8\" font-family=\"Helvetica,sans-Serif\" font-size=\"14.00\">entropy = 1.165</text>\n<text text-anchor=\"start\" x=\"3632.5\" y=\"-379.8\" font-family=\"Helvetica,sans-Serif\" font-size=\"14.00\">samples = 1018</text>\n<text text-anchor=\"start\" x=\"3615.5\" y=\"-364.8\" font-family=\"Helvetica,sans-Serif\" font-size=\"14.00\">value = [474, 31, 513]</text>\n<text text-anchor=\"start\" x=\"3653.5\" y=\"-349.8\" font-family=\"Helvetica,sans-Serif\" font-size=\"14.00\">class = p</text>\n</g>\n<!-- 32&#45;&gt;48 -->\n<g id=\"edge48\" class=\"edge\">\n<title>32&#45;&gt;48</title>\n<path fill=\"none\" stroke=\"black\" d=\"M2910.5,-490.81C3068.99,-468.94 3429.14,-419.25 3594.76,-396.4\"/>\n<polygon fill=\"black\" stroke=\"black\" points=\"3595.47,-399.83 3604.9,-395 3594.52,-392.9 3595.47,-399.83\"/>\n</g>\n<!-- 34 -->\n<g id=\"node35\" class=\"node\">\n<title>34</title>\n<path fill=\"#ffffff\" stroke=\"black\" d=\"M2732.5,-306C2732.5,-306 2613.5,-306 2613.5,-306 2607.5,-306 2601.5,-300 2601.5,-294 2601.5,-294 2601.5,-235 2601.5,-235 2601.5,-229 2607.5,-223 2613.5,-223 2613.5,-223 2732.5,-223 2732.5,-223 2738.5,-223 2744.5,-229 2744.5,-235 2744.5,-235 2744.5,-294 2744.5,-294 2744.5,-300 2738.5,-306 2732.5,-306\"/>\n<text text-anchor=\"start\" x=\"2609.5\" y=\"-290.8\" font-family=\"Helvetica,sans-Serif\" font-size=\"14.00\">LongestShell ≤ 0.102</text>\n<text text-anchor=\"start\" x=\"2625.5\" y=\"-275.8\" font-family=\"Helvetica,sans-Serif\" font-size=\"14.00\">entropy = 1.539</text>\n<text text-anchor=\"start\" x=\"2628\" y=\"-260.8\" font-family=\"Helvetica,sans-Serif\" font-size=\"14.00\">samples = 220</text>\n<text text-anchor=\"start\" x=\"2615\" y=\"-245.8\" font-family=\"Helvetica,sans-Serif\" font-size=\"14.00\">value = [86, 48, 86]</text>\n<text text-anchor=\"start\" x=\"2645.5\" y=\"-230.8\" font-family=\"Helvetica,sans-Serif\" font-size=\"14.00\">class = T</text>\n</g>\n<!-- 33&#45;&gt;34 -->\n<g id=\"edge34\" class=\"edge\">\n<title>33&#45;&gt;34</title>\n<path fill=\"none\" stroke=\"black\" d=\"M2777.49,-341.91C2764.33,-332.29 2750.2,-321.95 2736.71,-312.09\"/>\n<polygon fill=\"black\" stroke=\"black\" points=\"2738.55,-309.1 2728.41,-306.02 2734.42,-314.75 2738.55,-309.1\"/>\n</g>\n<!-- 41 -->\n<g id=\"node42\" class=\"node\">\n<title>41</title>\n<path fill=\"#decaf8\" stroke=\"black\" d=\"M3001.5,-306C3001.5,-306 2878.5,-306 2878.5,-306 2872.5,-306 2866.5,-300 2866.5,-294 2866.5,-294 2866.5,-235 2866.5,-235 2866.5,-229 2872.5,-223 2878.5,-223 2878.5,-223 3001.5,-223 3001.5,-223 3007.5,-223 3013.5,-229 3013.5,-235 3013.5,-235 3013.5,-294 3013.5,-294 3013.5,-300 3007.5,-306 3001.5,-306\"/>\n<text text-anchor=\"start\" x=\"2896\" y=\"-290.8\" font-family=\"Helvetica,sans-Serif\" font-size=\"14.00\">Height ≤ 0.521</text>\n<text text-anchor=\"start\" x=\"2892.5\" y=\"-275.8\" font-family=\"Helvetica,sans-Serif\" font-size=\"14.00\">entropy = 1.356</text>\n<text text-anchor=\"start\" x=\"2895\" y=\"-260.8\" font-family=\"Helvetica,sans-Serif\" font-size=\"14.00\">samples = 325</text>\n<text text-anchor=\"start\" x=\"2874.5\" y=\"-245.8\" font-family=\"Helvetica,sans-Serif\" font-size=\"14.00\">value = [118, 34, 173]</text>\n<text text-anchor=\"start\" x=\"2912.5\" y=\"-230.8\" font-family=\"Helvetica,sans-Serif\" font-size=\"14.00\">class = p</text>\n</g>\n<!-- 33&#45;&gt;41 -->\n<g id=\"edge41\" class=\"edge\">\n<title>33&#45;&gt;41</title>\n<path fill=\"none\" stroke=\"black\" d=\"M2870.12,-341.91C2878.51,-332.74 2887.48,-322.93 2896.11,-313.49\"/>\n<polygon fill=\"black\" stroke=\"black\" points=\"2898.78,-315.76 2902.94,-306.02 2893.61,-311.04 2898.78,-315.76\"/>\n</g>\n<!-- 35 -->\n<g id=\"node36\" class=\"node\">\n<title>35</title>\n<path fill=\"#fefbf9\" stroke=\"black\" d=\"M2510,-187C2510,-187 2402,-187 2402,-187 2396,-187 2390,-181 2390,-175 2390,-175 2390,-116 2390,-116 2390,-110 2396,-104 2402,-104 2402,-104 2510,-104 2510,-104 2516,-104 2522,-110 2522,-116 2522,-116 2522,-175 2522,-175 2522,-181 2516,-187 2510,-187\"/>\n<text text-anchor=\"start\" x=\"2407.5\" y=\"-171.8\" font-family=\"Helvetica,sans-Serif\" font-size=\"14.00\">Diameter ≤ 0.14</text>\n<text text-anchor=\"start\" x=\"2408.5\" y=\"-156.8\" font-family=\"Helvetica,sans-Serif\" font-size=\"14.00\">entropy = 1.363</text>\n<text text-anchor=\"start\" x=\"2411\" y=\"-141.8\" font-family=\"Helvetica,sans-Serif\" font-size=\"14.00\">samples = 113</text>\n<text text-anchor=\"start\" x=\"2398\" y=\"-126.8\" font-family=\"Helvetica,sans-Serif\" font-size=\"14.00\">value = [52, 11, 50]</text>\n<text text-anchor=\"start\" x=\"2428.5\" y=\"-111.8\" font-family=\"Helvetica,sans-Serif\" font-size=\"14.00\">class = T</text>\n</g>\n<!-- 34&#45;&gt;35 -->\n<g id=\"edge35\" class=\"edge\">\n<title>34&#45;&gt;35</title>\n<path fill=\"none\" stroke=\"black\" d=\"M2601.34,-224.87C2578.78,-212.7 2553.81,-199.24 2531.03,-186.95\"/>\n<polygon fill=\"black\" stroke=\"black\" points=\"2532.54,-183.79 2522.08,-182.13 2529.22,-189.95 2532.54,-183.79\"/>\n</g>\n<!-- 38 -->\n<g id=\"node39\" class=\"node\">\n<title>38</title>\n<path fill=\"#fcfffd\" stroke=\"black\" d=\"M2739.5,-187C2739.5,-187 2606.5,-187 2606.5,-187 2600.5,-187 2594.5,-181 2594.5,-175 2594.5,-175 2594.5,-116 2594.5,-116 2594.5,-110 2600.5,-104 2606.5,-104 2606.5,-104 2739.5,-104 2739.5,-104 2745.5,-104 2751.5,-110 2751.5,-116 2751.5,-116 2751.5,-175 2751.5,-175 2751.5,-181 2745.5,-187 2739.5,-187\"/>\n<text text-anchor=\"start\" x=\"2602.5\" y=\"-171.8\" font-family=\"Helvetica,sans-Serif\" font-size=\"14.00\">VisceraWeight ≤ &#45;0.175</text>\n<text text-anchor=\"start\" x=\"2625.5\" y=\"-156.8\" font-family=\"Helvetica,sans-Serif\" font-size=\"14.00\">entropy = 1.584</text>\n<text text-anchor=\"start\" x=\"2628\" y=\"-141.8\" font-family=\"Helvetica,sans-Serif\" font-size=\"14.00\">samples = 107</text>\n<text text-anchor=\"start\" x=\"2615\" y=\"-126.8\" font-family=\"Helvetica,sans-Serif\" font-size=\"14.00\">value = [34, 37, 36]</text>\n<text text-anchor=\"start\" x=\"2646\" y=\"-111.8\" font-family=\"Helvetica,sans-Serif\" font-size=\"14.00\">class = y</text>\n</g>\n<!-- 34&#45;&gt;38 -->\n<g id=\"edge38\" class=\"edge\">\n<title>34&#45;&gt;38</title>\n<path fill=\"none\" stroke=\"black\" d=\"M2673,-222.91C2673,-214.65 2673,-205.86 2673,-197.3\"/>\n<polygon fill=\"black\" stroke=\"black\" points=\"2676.5,-197.02 2673,-187.02 2669.5,-197.02 2676.5,-197.02\"/>\n</g>\n<!-- 36 -->\n<g id=\"node37\" class=\"node\">\n<title>36</title>\n<path fill=\"#e4d4f9\" stroke=\"black\" d=\"M2367.5,-68C2367.5,-68 2266.5,-68 2266.5,-68 2260.5,-68 2254.5,-62 2254.5,-56 2254.5,-56 2254.5,-12 2254.5,-12 2254.5,-6 2260.5,0 2266.5,0 2266.5,0 2367.5,0 2367.5,0 2373.5,0 2379.5,-6 2379.5,-12 2379.5,-12 2379.5,-56 2379.5,-56 2379.5,-62 2373.5,-68 2367.5,-68\"/>\n<text text-anchor=\"start\" x=\"2269.5\" y=\"-52.8\" font-family=\"Helvetica,sans-Serif\" font-size=\"14.00\">entropy = 1.357</text>\n<text text-anchor=\"start\" x=\"2276\" y=\"-37.8\" font-family=\"Helvetica,sans-Serif\" font-size=\"14.00\">samples = 89</text>\n<text text-anchor=\"start\" x=\"2262.5\" y=\"-22.8\" font-family=\"Helvetica,sans-Serif\" font-size=\"14.00\">value = [34, 9, 46]</text>\n<text text-anchor=\"start\" x=\"2289.5\" y=\"-7.8\" font-family=\"Helvetica,sans-Serif\" font-size=\"14.00\">class = p</text>\n</g>\n<!-- 35&#45;&gt;36 -->\n<g id=\"edge36\" class=\"edge\">\n<title>35&#45;&gt;36</title>\n<path fill=\"none\" stroke=\"black\" d=\"M2404.24,-103.73C2392.2,-94.24 2379.4,-84.16 2367.42,-74.72\"/>\n<polygon fill=\"black\" stroke=\"black\" points=\"2369.29,-71.74 2359.27,-68.3 2364.96,-77.24 2369.29,-71.74\"/>\n</g>\n<!-- 37 -->\n<g id=\"node38\" class=\"node\">\n<title>37</title>\n<path fill=\"#eda774\" stroke=\"black\" d=\"M2502.5,-68C2502.5,-68 2409.5,-68 2409.5,-68 2403.5,-68 2397.5,-62 2397.5,-56 2397.5,-56 2397.5,-12 2397.5,-12 2397.5,-6 2403.5,0 2409.5,0 2409.5,0 2502.5,0 2502.5,0 2508.5,0 2514.5,-6 2514.5,-12 2514.5,-12 2514.5,-56 2514.5,-56 2514.5,-62 2508.5,-68 2502.5,-68\"/>\n<text text-anchor=\"start\" x=\"2408.5\" y=\"-52.8\" font-family=\"Helvetica,sans-Serif\" font-size=\"14.00\">entropy = 1.041</text>\n<text text-anchor=\"start\" x=\"2415\" y=\"-37.8\" font-family=\"Helvetica,sans-Serif\" font-size=\"14.00\">samples = 24</text>\n<text text-anchor=\"start\" x=\"2405.5\" y=\"-22.8\" font-family=\"Helvetica,sans-Serif\" font-size=\"14.00\">value = [18, 2, 4]</text>\n<text text-anchor=\"start\" x=\"2428.5\" y=\"-7.8\" font-family=\"Helvetica,sans-Serif\" font-size=\"14.00\">class = T</text>\n</g>\n<!-- 35&#45;&gt;37 -->\n<g id=\"edge37\" class=\"edge\">\n<title>35&#45;&gt;37</title>\n<path fill=\"none\" stroke=\"black\" d=\"M2456,-103.73C2456,-95.52 2456,-86.86 2456,-78.56\"/>\n<polygon fill=\"black\" stroke=\"black\" points=\"2459.5,-78.3 2456,-68.3 2452.5,-78.3 2459.5,-78.3\"/>\n</g>\n<!-- 39 -->\n<g id=\"node40\" class=\"node\">\n<title>39</title>\n<path fill=\"#8139e5\" stroke=\"black\" d=\"M2631,-68C2631,-68 2545,-68 2545,-68 2539,-68 2533,-62 2533,-56 2533,-56 2533,-12 2533,-12 2533,-6 2539,0 2545,0 2545,0 2631,0 2631,0 2637,0 2643,-6 2643,-12 2643,-12 2643,-56 2643,-56 2643,-62 2637,-68 2631,-68\"/>\n<text text-anchor=\"start\" x=\"2548\" y=\"-52.8\" font-family=\"Helvetica,sans-Serif\" font-size=\"14.00\">entropy = 0.0</text>\n<text text-anchor=\"start\" x=\"2550.5\" y=\"-37.8\" font-family=\"Helvetica,sans-Serif\" font-size=\"14.00\">samples = 4</text>\n<text text-anchor=\"start\" x=\"2541\" y=\"-22.8\" font-family=\"Helvetica,sans-Serif\" font-size=\"14.00\">value = [0, 0, 4]</text>\n<text text-anchor=\"start\" x=\"2560.5\" y=\"-7.8\" font-family=\"Helvetica,sans-Serif\" font-size=\"14.00\">class = p</text>\n</g>\n<!-- 38&#45;&gt;39 -->\n<g id=\"edge39\" class=\"edge\">\n<title>38&#45;&gt;39</title>\n<path fill=\"none\" stroke=\"black\" d=\"M2641.35,-103.73C2634.41,-94.79 2627.06,-85.32 2620.1,-76.36\"/>\n<polygon fill=\"black\" stroke=\"black\" points=\"2622.75,-74.05 2613.85,-68.3 2617.22,-78.35 2622.75,-74.05\"/>\n</g>\n<!-- 40 -->\n<g id=\"node41\" class=\"node\">\n<title>40</title>\n<path fill=\"#f6fefa\" stroke=\"black\" d=\"M2781,-68C2781,-68 2673,-68 2673,-68 2667,-68 2661,-62 2661,-56 2661,-56 2661,-12 2661,-12 2661,-6 2667,0 2673,0 2673,0 2781,0 2781,0 2787,0 2793,-6 2793,-12 2793,-12 2793,-56 2793,-56 2793,-62 2787,-68 2781,-68\"/>\n<text text-anchor=\"start\" x=\"2679.5\" y=\"-52.8\" font-family=\"Helvetica,sans-Serif\" font-size=\"14.00\">entropy = 1.582</text>\n<text text-anchor=\"start\" x=\"2682\" y=\"-37.8\" font-family=\"Helvetica,sans-Serif\" font-size=\"14.00\">samples = 103</text>\n<text text-anchor=\"start\" x=\"2669\" y=\"-22.8\" font-family=\"Helvetica,sans-Serif\" font-size=\"14.00\">value = [34, 37, 32]</text>\n<text text-anchor=\"start\" x=\"2700\" y=\"-7.8\" font-family=\"Helvetica,sans-Serif\" font-size=\"14.00\">class = y</text>\n</g>\n<!-- 38&#45;&gt;40 -->\n<g id=\"edge40\" class=\"edge\">\n<title>38&#45;&gt;40</title>\n<path fill=\"none\" stroke=\"black\" d=\"M2693.11,-103.73C2697.34,-95.15 2701.81,-86.09 2706.06,-77.46\"/>\n<polygon fill=\"black\" stroke=\"black\" points=\"2709.29,-78.82 2710.58,-68.3 2703.02,-75.72 2709.29,-78.82\"/>\n</g>\n<!-- 42 -->\n<g id=\"node43\" class=\"node\">\n<title>42</title>\n<path fill=\"#ceb1f5\" stroke=\"black\" d=\"M2998,-187C2998,-187 2882,-187 2882,-187 2876,-187 2870,-181 2870,-175 2870,-175 2870,-116 2870,-116 2870,-110 2876,-104 2882,-104 2882,-104 2998,-104 2998,-104 3004,-104 3010,-110 3010,-116 3010,-116 3010,-175 3010,-175 3010,-181 3004,-187 2998,-187\"/>\n<text text-anchor=\"start\" x=\"2898\" y=\"-171.8\" font-family=\"Helvetica,sans-Serif\" font-size=\"14.00\">Rings ≤ 0.801</text>\n<text text-anchor=\"start\" x=\"2892.5\" y=\"-156.8\" font-family=\"Helvetica,sans-Serif\" font-size=\"14.00\">entropy = 1.351</text>\n<text text-anchor=\"start\" x=\"2895\" y=\"-141.8\" font-family=\"Helvetica,sans-Serif\" font-size=\"14.00\">samples = 238</text>\n<text text-anchor=\"start\" x=\"2878\" y=\"-126.8\" font-family=\"Helvetica,sans-Serif\" font-size=\"14.00\">value = [72, 29, 137]</text>\n<text text-anchor=\"start\" x=\"2912.5\" y=\"-111.8\" font-family=\"Helvetica,sans-Serif\" font-size=\"14.00\">class = p</text>\n</g>\n<!-- 41&#45;&gt;42 -->\n<g id=\"edge42\" class=\"edge\">\n<title>41&#45;&gt;42</title>\n<path fill=\"none\" stroke=\"black\" d=\"M2940,-222.91C2940,-214.65 2940,-205.86 2940,-197.3\"/>\n<polygon fill=\"black\" stroke=\"black\" points=\"2943.5,-197.02 2940,-187.02 2936.5,-197.02 2943.5,-197.02\"/>\n</g>\n<!-- 45 -->\n<g id=\"node46\" class=\"node\">\n<title>45</title>\n<path fill=\"#fae6d8\" stroke=\"black\" d=\"M3235,-187C3235,-187 3099,-187 3099,-187 3093,-187 3087,-181 3087,-175 3087,-175 3087,-116 3087,-116 3087,-110 3093,-104 3099,-104 3099,-104 3235,-104 3235,-104 3241,-104 3247,-110 3247,-116 3247,-116 3247,-175 3247,-175 3247,-181 3241,-187 3235,-187\"/>\n<text text-anchor=\"start\" x=\"3095\" y=\"-171.8\" font-family=\"Helvetica,sans-Serif\" font-size=\"14.00\">ShuckedWeight ≤ 0.471</text>\n<text text-anchor=\"start\" x=\"3123\" y=\"-156.8\" font-family=\"Helvetica,sans-Serif\" font-size=\"14.00\">entropy = 1.25</text>\n<text text-anchor=\"start\" x=\"3126\" y=\"-141.8\" font-family=\"Helvetica,sans-Serif\" font-size=\"14.00\">samples = 87</text>\n<text text-anchor=\"start\" x=\"3112.5\" y=\"-126.8\" font-family=\"Helvetica,sans-Serif\" font-size=\"14.00\">value = [46, 5, 36]</text>\n<text text-anchor=\"start\" x=\"3139.5\" y=\"-111.8\" font-family=\"Helvetica,sans-Serif\" font-size=\"14.00\">class = T</text>\n</g>\n<!-- 41&#45;&gt;45 -->\n<g id=\"edge45\" class=\"edge\">\n<title>41&#45;&gt;45</title>\n<path fill=\"none\" stroke=\"black\" d=\"M3013.7,-225.51C3034.54,-214.77 3057.44,-202.97 3079.03,-191.84\"/>\n<polygon fill=\"black\" stroke=\"black\" points=\"3080.91,-194.81 3088.19,-187.12 3077.7,-188.59 3080.91,-194.81\"/>\n</g>\n<!-- 43 -->\n<g id=\"node44\" class=\"node\">\n<title>43</title>\n<path fill=\"#dcc8f8\" stroke=\"black\" d=\"M2939,-68C2939,-68 2823,-68 2823,-68 2817,-68 2811,-62 2811,-56 2811,-56 2811,-12 2811,-12 2811,-6 2817,0 2823,0 2823,0 2939,0 2939,0 2945,0 2951,-6 2951,-12 2951,-12 2951,-56 2951,-56 2951,-62 2945,-68 2939,-68\"/>\n<text text-anchor=\"start\" x=\"2833.5\" y=\"-52.8\" font-family=\"Helvetica,sans-Serif\" font-size=\"14.00\">entropy = 1.408</text>\n<text text-anchor=\"start\" x=\"2836\" y=\"-37.8\" font-family=\"Helvetica,sans-Serif\" font-size=\"14.00\">samples = 193</text>\n<text text-anchor=\"start\" x=\"2819\" y=\"-22.8\" font-family=\"Helvetica,sans-Serif\" font-size=\"14.00\">value = [66, 26, 101]</text>\n<text text-anchor=\"start\" x=\"2853.5\" y=\"-7.8\" font-family=\"Helvetica,sans-Serif\" font-size=\"14.00\">class = p</text>\n</g>\n<!-- 42&#45;&gt;43 -->\n<g id=\"edge43\" class=\"edge\">\n<title>42&#45;&gt;43</title>\n<path fill=\"none\" stroke=\"black\" d=\"M2918.03,-103.73C2913.36,-95.06 2908.42,-85.9 2903.73,-77.18\"/>\n<polygon fill=\"black\" stroke=\"black\" points=\"2906.77,-75.44 2898.94,-68.3 2900.6,-78.76 2906.77,-75.44\"/>\n</g>\n<!-- 44 -->\n<g id=\"node45\" class=\"node\">\n<title>44</title>\n<path fill=\"#9e67eb\" stroke=\"black\" d=\"M3074.5,-68C3074.5,-68 2981.5,-68 2981.5,-68 2975.5,-68 2969.5,-62 2969.5,-56 2969.5,-56 2969.5,-12 2969.5,-12 2969.5,-6 2975.5,0 2981.5,0 2981.5,0 3074.5,0 3074.5,0 3080.5,0 3086.5,-6 3086.5,-12 3086.5,-12 3086.5,-56 3086.5,-56 3086.5,-62 3080.5,-68 3074.5,-68\"/>\n<text text-anchor=\"start\" x=\"2980.5\" y=\"-52.8\" font-family=\"Helvetica,sans-Serif\" font-size=\"14.00\">entropy = 0.906</text>\n<text text-anchor=\"start\" x=\"2987\" y=\"-37.8\" font-family=\"Helvetica,sans-Serif\" font-size=\"14.00\">samples = 45</text>\n<text text-anchor=\"start\" x=\"2977.5\" y=\"-22.8\" font-family=\"Helvetica,sans-Serif\" font-size=\"14.00\">value = [6, 3, 36]</text>\n<text text-anchor=\"start\" x=\"3000.5\" y=\"-7.8\" font-family=\"Helvetica,sans-Serif\" font-size=\"14.00\">class = p</text>\n</g>\n<!-- 42&#45;&gt;44 -->\n<g id=\"edge44\" class=\"edge\">\n<title>42&#45;&gt;44</title>\n<path fill=\"none\" stroke=\"black\" d=\"M2972.77,-103.73C2979.95,-94.79 2987.56,-85.32 2994.76,-76.36\"/>\n<polygon fill=\"black\" stroke=\"black\" points=\"2997.7,-78.29 3001.24,-68.3 2992.25,-73.9 2997.7,-78.29\"/>\n</g>\n<!-- 46 -->\n<g id=\"node47\" class=\"node\">\n<title>46</title>\n<path fill=\"#f5d0b5\" stroke=\"black\" d=\"M3217.5,-68C3217.5,-68 3116.5,-68 3116.5,-68 3110.5,-68 3104.5,-62 3104.5,-56 3104.5,-56 3104.5,-12 3104.5,-12 3104.5,-6 3110.5,0 3116.5,0 3116.5,0 3217.5,0 3217.5,0 3223.5,0 3229.5,-6 3229.5,-12 3229.5,-12 3229.5,-56 3229.5,-56 3229.5,-62 3223.5,-68 3217.5,-68\"/>\n<text text-anchor=\"start\" x=\"3119.5\" y=\"-52.8\" font-family=\"Helvetica,sans-Serif\" font-size=\"14.00\">entropy = 1.266</text>\n<text text-anchor=\"start\" x=\"3126\" y=\"-37.8\" font-family=\"Helvetica,sans-Serif\" font-size=\"14.00\">samples = 65</text>\n<text text-anchor=\"start\" x=\"3112.5\" y=\"-22.8\" font-family=\"Helvetica,sans-Serif\" font-size=\"14.00\">value = [38, 5, 22]</text>\n<text text-anchor=\"start\" x=\"3139.5\" y=\"-7.8\" font-family=\"Helvetica,sans-Serif\" font-size=\"14.00\">class = T</text>\n</g>\n<!-- 45&#45;&gt;46 -->\n<g id=\"edge46\" class=\"edge\">\n<title>45&#45;&gt;46</title>\n<path fill=\"none\" stroke=\"black\" d=\"M3167,-103.73C3167,-95.52 3167,-86.86 3167,-78.56\"/>\n<polygon fill=\"black\" stroke=\"black\" points=\"3170.5,-78.3 3167,-68.3 3163.5,-78.3 3170.5,-78.3\"/>\n</g>\n<!-- 47 -->\n<g id=\"node48\" class=\"node\">\n<title>47</title>\n<path fill=\"#c9aaf4\" stroke=\"black\" d=\"M3352.5,-68C3352.5,-68 3259.5,-68 3259.5,-68 3253.5,-68 3247.5,-62 3247.5,-56 3247.5,-56 3247.5,-12 3247.5,-12 3247.5,-6 3253.5,0 3259.5,0 3259.5,0 3352.5,0 3352.5,0 3358.5,0 3364.5,-6 3364.5,-12 3364.5,-12 3364.5,-56 3364.5,-56 3364.5,-62 3358.5,-68 3352.5,-68\"/>\n<text text-anchor=\"start\" x=\"3258.5\" y=\"-52.8\" font-family=\"Helvetica,sans-Serif\" font-size=\"14.00\">entropy = 0.946</text>\n<text text-anchor=\"start\" x=\"3265\" y=\"-37.8\" font-family=\"Helvetica,sans-Serif\" font-size=\"14.00\">samples = 22</text>\n<text text-anchor=\"start\" x=\"3255.5\" y=\"-22.8\" font-family=\"Helvetica,sans-Serif\" font-size=\"14.00\">value = [8, 0, 14]</text>\n<text text-anchor=\"start\" x=\"3278.5\" y=\"-7.8\" font-family=\"Helvetica,sans-Serif\" font-size=\"14.00\">class = p</text>\n</g>\n<!-- 45&#45;&gt;47 -->\n<g id=\"edge47\" class=\"edge\">\n<title>45&#45;&gt;47</title>\n<path fill=\"none\" stroke=\"black\" d=\"M3218.76,-103.73C3230.8,-94.24 3243.6,-84.16 3255.58,-74.72\"/>\n<polygon fill=\"black\" stroke=\"black\" points=\"3258.04,-77.24 3263.73,-68.3 3253.71,-71.74 3258.04,-77.24\"/>\n</g>\n<!-- 49 -->\n<g id=\"node50\" class=\"node\">\n<title>49</title>\n<path fill=\"#fdfbff\" stroke=\"black\" d=\"M3745,-306C3745,-306 3617,-306 3617,-306 3611,-306 3605,-300 3605,-294 3605,-294 3605,-235 3605,-235 3605,-229 3611,-223 3617,-223 3617,-223 3745,-223 3745,-223 3751,-223 3757,-229 3757,-235 3757,-235 3757,-294 3757,-294 3757,-300 3751,-306 3745,-306\"/>\n<text text-anchor=\"start\" x=\"3613\" y=\"-290.8\" font-family=\"Helvetica,sans-Serif\" font-size=\"14.00\">VisceraWeight ≤ 1.068</text>\n<text text-anchor=\"start\" x=\"3633.5\" y=\"-275.8\" font-family=\"Helvetica,sans-Serif\" font-size=\"14.00\">entropy = 1.175</text>\n<text text-anchor=\"start\" x=\"3636\" y=\"-260.8\" font-family=\"Helvetica,sans-Serif\" font-size=\"14.00\">samples = 946</text>\n<text text-anchor=\"start\" x=\"3615.5\" y=\"-245.8\" font-family=\"Helvetica,sans-Serif\" font-size=\"14.00\">value = [453, 31, 462]</text>\n<text text-anchor=\"start\" x=\"3653.5\" y=\"-230.8\" font-family=\"Helvetica,sans-Serif\" font-size=\"14.00\">class = p</text>\n</g>\n<!-- 48&#45;&gt;49 -->\n<g id=\"edge49\" class=\"edge\">\n<title>48&#45;&gt;49</title>\n<path fill=\"none\" stroke=\"black\" d=\"M3681,-341.91C3681,-333.65 3681,-324.86 3681,-316.3\"/>\n<polygon fill=\"black\" stroke=\"black\" points=\"3684.5,-316.02 3681,-306.02 3677.5,-316.02 3684.5,-316.02\"/>\n</g>\n<!-- 56 -->\n<g id=\"node57\" class=\"node\">\n<title>56</title>\n<path fill=\"#b58bf0\" stroke=\"black\" d=\"M4114.5,-306C4114.5,-306 3995.5,-306 3995.5,-306 3989.5,-306 3983.5,-300 3983.5,-294 3983.5,-294 3983.5,-235 3983.5,-235 3983.5,-229 3989.5,-223 3995.5,-223 3995.5,-223 4114.5,-223 4114.5,-223 4120.5,-223 4126.5,-229 4126.5,-235 4126.5,-235 4126.5,-294 4126.5,-294 4126.5,-300 4120.5,-306 4114.5,-306\"/>\n<text text-anchor=\"start\" x=\"3991.5\" y=\"-290.8\" font-family=\"Helvetica,sans-Serif\" font-size=\"14.00\">LongestShell ≤ 2.066</text>\n<text text-anchor=\"start\" x=\"4007.5\" y=\"-275.8\" font-family=\"Helvetica,sans-Serif\" font-size=\"14.00\">entropy = 0.871</text>\n<text text-anchor=\"start\" x=\"4014\" y=\"-260.8\" font-family=\"Helvetica,sans-Serif\" font-size=\"14.00\">samples = 72</text>\n<text text-anchor=\"start\" x=\"4000.5\" y=\"-245.8\" font-family=\"Helvetica,sans-Serif\" font-size=\"14.00\">value = [21, 0, 51]</text>\n<text text-anchor=\"start\" x=\"4027.5\" y=\"-230.8\" font-family=\"Helvetica,sans-Serif\" font-size=\"14.00\">class = p</text>\n</g>\n<!-- 48&#45;&gt;56 -->\n<g id=\"edge56\" class=\"edge\">\n<title>48&#45;&gt;56</title>\n<path fill=\"none\" stroke=\"black\" d=\"M3757.14,-358.68C3820.11,-338.98 3909.34,-311.07 3973.7,-290.93\"/>\n<polygon fill=\"black\" stroke=\"black\" points=\"3974.91,-294.22 3983.41,-287.9 3972.82,-287.54 3974.91,-294.22\"/>\n</g>\n<!-- 50 -->\n<g id=\"node51\" class=\"node\">\n<title>50</title>\n<path fill=\"#efe6fc\" stroke=\"black\" d=\"M3665,-187C3665,-187 3529,-187 3529,-187 3523,-187 3517,-181 3517,-175 3517,-175 3517,-116 3517,-116 3517,-110 3523,-104 3529,-104 3529,-104 3665,-104 3665,-104 3671,-104 3677,-110 3677,-116 3677,-116 3677,-175 3677,-175 3677,-181 3671,-187 3665,-187\"/>\n<text text-anchor=\"start\" x=\"3525\" y=\"-171.8\" font-family=\"Helvetica,sans-Serif\" font-size=\"14.00\">ShuckedWeight ≤ 1.128</text>\n<text text-anchor=\"start\" x=\"3549.5\" y=\"-156.8\" font-family=\"Helvetica,sans-Serif\" font-size=\"14.00\">entropy = 1.217</text>\n<text text-anchor=\"start\" x=\"3552\" y=\"-141.8\" font-family=\"Helvetica,sans-Serif\" font-size=\"14.00\">samples = 576</text>\n<text text-anchor=\"start\" x=\"3531.5\" y=\"-126.8\" font-family=\"Helvetica,sans-Serif\" font-size=\"14.00\">value = [255, 26, 295]</text>\n<text text-anchor=\"start\" x=\"3569.5\" y=\"-111.8\" font-family=\"Helvetica,sans-Serif\" font-size=\"14.00\">class = p</text>\n</g>\n<!-- 49&#45;&gt;50 -->\n<g id=\"edge50\" class=\"edge\">\n<title>49&#45;&gt;50</title>\n<path fill=\"none\" stroke=\"black\" d=\"M3651.86,-222.91C3645.47,-214.01 3638.65,-204.51 3632.06,-195.33\"/>\n<polygon fill=\"black\" stroke=\"black\" points=\"3634.77,-193.1 3626.09,-187.02 3629.08,-197.19 3634.77,-193.1\"/>\n</g>\n<!-- 53 -->\n<g id=\"node54\" class=\"node\">\n<title>53</title>\n<path fill=\"#fbece1\" stroke=\"black\" d=\"M3823,-187C3823,-187 3707,-187 3707,-187 3701,-187 3695,-181 3695,-175 3695,-175 3695,-116 3695,-116 3695,-110 3701,-104 3707,-104 3707,-104 3823,-104 3823,-104 3829,-104 3835,-110 3835,-116 3835,-116 3835,-175 3835,-175 3835,-181 3829,-187 3823,-187\"/>\n<text text-anchor=\"start\" x=\"3704.5\" y=\"-171.8\" font-family=\"Helvetica,sans-Serif\" font-size=\"14.00\">ShellWeight ≤ 0.614</text>\n<text text-anchor=\"start\" x=\"3717.5\" y=\"-156.8\" font-family=\"Helvetica,sans-Serif\" font-size=\"14.00\">entropy = 1.085</text>\n<text text-anchor=\"start\" x=\"3720\" y=\"-141.8\" font-family=\"Helvetica,sans-Serif\" font-size=\"14.00\">samples = 370</text>\n<text text-anchor=\"start\" x=\"3703\" y=\"-126.8\" font-family=\"Helvetica,sans-Serif\" font-size=\"14.00\">value = [198, 5, 167]</text>\n<text text-anchor=\"start\" x=\"3737.5\" y=\"-111.8\" font-family=\"Helvetica,sans-Serif\" font-size=\"14.00\">class = T</text>\n</g>\n<!-- 49&#45;&gt;53 -->\n<g id=\"edge53\" class=\"edge\">\n<title>49&#45;&gt;53</title>\n<path fill=\"none\" stroke=\"black\" d=\"M3710.14,-222.91C3716.53,-214.01 3723.35,-204.51 3729.94,-195.33\"/>\n<polygon fill=\"black\" stroke=\"black\" points=\"3732.92,-197.19 3735.91,-187.02 3727.23,-193.1 3732.92,-197.19\"/>\n</g>\n<!-- 51 -->\n<g id=\"node52\" class=\"node\">\n<title>51</title>\n<path fill=\"#fbf9fe\" stroke=\"black\" d=\"M3517.5,-68C3517.5,-68 3394.5,-68 3394.5,-68 3388.5,-68 3382.5,-62 3382.5,-56 3382.5,-56 3382.5,-12 3382.5,-12 3382.5,-6 3388.5,0 3394.5,0 3394.5,0 3517.5,0 3517.5,0 3523.5,0 3529.5,-6 3529.5,-12 3529.5,-12 3529.5,-56 3529.5,-56 3529.5,-62 3523.5,-68 3517.5,-68\"/>\n<text text-anchor=\"start\" x=\"3408.5\" y=\"-52.8\" font-family=\"Helvetica,sans-Serif\" font-size=\"14.00\">entropy = 1.232</text>\n<text text-anchor=\"start\" x=\"3411\" y=\"-37.8\" font-family=\"Helvetica,sans-Serif\" font-size=\"14.00\">samples = 494</text>\n<text text-anchor=\"start\" x=\"3390.5\" y=\"-22.8\" font-family=\"Helvetica,sans-Serif\" font-size=\"14.00\">value = [231, 24, 239]</text>\n<text text-anchor=\"start\" x=\"3428.5\" y=\"-7.8\" font-family=\"Helvetica,sans-Serif\" font-size=\"14.00\">class = p</text>\n</g>\n<!-- 50&#45;&gt;51 -->\n<g id=\"edge51\" class=\"edge\">\n<title>50&#45;&gt;51</title>\n<path fill=\"none\" stroke=\"black\" d=\"M3544.5,-103.73C3532.16,-94.15 3519.05,-83.96 3506.79,-74.44\"/>\n<polygon fill=\"black\" stroke=\"black\" points=\"3508.92,-71.67 3498.88,-68.3 3504.63,-77.2 3508.92,-71.67\"/>\n</g>\n<!-- 52 -->\n<g id=\"node53\" class=\"node\">\n<title>52</title>\n<path fill=\"#b992f1\" stroke=\"black\" d=\"M3660.5,-68C3660.5,-68 3559.5,-68 3559.5,-68 3553.5,-68 3547.5,-62 3547.5,-56 3547.5,-56 3547.5,-12 3547.5,-12 3547.5,-6 3553.5,0 3559.5,0 3559.5,0 3660.5,0 3660.5,0 3666.5,0 3672.5,-6 3672.5,-12 3672.5,-12 3672.5,-56 3672.5,-56 3672.5,-62 3666.5,-68 3660.5,-68\"/>\n<text text-anchor=\"start\" x=\"3562.5\" y=\"-52.8\" font-family=\"Helvetica,sans-Serif\" font-size=\"14.00\">entropy = 1.025</text>\n<text text-anchor=\"start\" x=\"3569\" y=\"-37.8\" font-family=\"Helvetica,sans-Serif\" font-size=\"14.00\">samples = 82</text>\n<text text-anchor=\"start\" x=\"3555.5\" y=\"-22.8\" font-family=\"Helvetica,sans-Serif\" font-size=\"14.00\">value = [24, 2, 56]</text>\n<text text-anchor=\"start\" x=\"3582.5\" y=\"-7.8\" font-family=\"Helvetica,sans-Serif\" font-size=\"14.00\">class = p</text>\n</g>\n<!-- 50&#45;&gt;52 -->\n<g id=\"edge52\" class=\"edge\">\n<title>50&#45;&gt;52</title>\n<path fill=\"none\" stroke=\"black\" d=\"M3601.84,-103.73C3602.83,-95.43 3603.87,-86.67 3604.86,-78.28\"/>\n<polygon fill=\"black\" stroke=\"black\" points=\"3608.34,-78.64 3606.05,-68.3 3601.39,-77.82 3608.34,-78.64\"/>\n</g>\n<!-- 54 -->\n<g id=\"node55\" class=\"node\">\n<title>54</title>\n<path fill=\"#efaf82\" stroke=\"black\" d=\"M3803.5,-68C3803.5,-68 3702.5,-68 3702.5,-68 3696.5,-68 3690.5,-62 3690.5,-56 3690.5,-56 3690.5,-12 3690.5,-12 3690.5,-6 3696.5,0 3702.5,0 3702.5,0 3803.5,0 3803.5,0 3809.5,0 3815.5,-6 3815.5,-12 3815.5,-12 3815.5,-56 3815.5,-56 3815.5,-62 3809.5,-68 3803.5,-68\"/>\n<text text-anchor=\"start\" x=\"3705.5\" y=\"-52.8\" font-family=\"Helvetica,sans-Serif\" font-size=\"14.00\">entropy = 0.839</text>\n<text text-anchor=\"start\" x=\"3712\" y=\"-37.8\" font-family=\"Helvetica,sans-Serif\" font-size=\"14.00\">samples = 41</text>\n<text text-anchor=\"start\" x=\"3698.5\" y=\"-22.8\" font-family=\"Helvetica,sans-Serif\" font-size=\"14.00\">value = [30, 0, 11]</text>\n<text text-anchor=\"start\" x=\"3725.5\" y=\"-7.8\" font-family=\"Helvetica,sans-Serif\" font-size=\"14.00\">class = T</text>\n</g>\n<!-- 53&#45;&gt;54 -->\n<g id=\"edge54\" class=\"edge\">\n<title>53&#45;&gt;54</title>\n<path fill=\"none\" stroke=\"black\" d=\"M3760.53,-103.73C3759.62,-95.43 3758.66,-86.67 3757.74,-78.28\"/>\n<polygon fill=\"black\" stroke=\"black\" points=\"3761.22,-77.86 3756.65,-68.3 3754.26,-78.62 3761.22,-77.86\"/>\n</g>\n<!-- 55 -->\n<g id=\"node56\" class=\"node\">\n<title>55</title>\n<path fill=\"#fdf6f1\" stroke=\"black\" d=\"M3962,-68C3962,-68 3846,-68 3846,-68 3840,-68 3834,-62 3834,-56 3834,-56 3834,-12 3834,-12 3834,-6 3840,0 3846,0 3846,0 3962,0 3962,0 3968,0 3974,-6 3974,-12 3974,-12 3974,-56 3974,-56 3974,-62 3968,-68 3962,-68\"/>\n<text text-anchor=\"start\" x=\"3856.5\" y=\"-52.8\" font-family=\"Helvetica,sans-Serif\" font-size=\"14.00\">entropy = 1.097</text>\n<text text-anchor=\"start\" x=\"3859\" y=\"-37.8\" font-family=\"Helvetica,sans-Serif\" font-size=\"14.00\">samples = 329</text>\n<text text-anchor=\"start\" x=\"3842\" y=\"-22.8\" font-family=\"Helvetica,sans-Serif\" font-size=\"14.00\">value = [168, 5, 156]</text>\n<text text-anchor=\"start\" x=\"3876.5\" y=\"-7.8\" font-family=\"Helvetica,sans-Serif\" font-size=\"14.00\">class = T</text>\n</g>\n<!-- 53&#45;&gt;55 -->\n<g id=\"edge55\" class=\"edge\">\n<title>53&#45;&gt;55</title>\n<path fill=\"none\" stroke=\"black\" d=\"M3816.76,-103.73C3828.8,-94.24 3841.6,-84.16 3853.58,-74.72\"/>\n<polygon fill=\"black\" stroke=\"black\" points=\"3856.04,-77.24 3861.73,-68.3 3851.71,-71.74 3856.04,-77.24\"/>\n</g>\n<!-- 57 -->\n<g id=\"node58\" class=\"node\">\n<title>57</title>\n<path fill=\"#ad7fee\" stroke=\"black\" d=\"M4111.5,-187C4111.5,-187 3998.5,-187 3998.5,-187 3992.5,-187 3986.5,-181 3986.5,-175 3986.5,-175 3986.5,-116 3986.5,-116 3986.5,-110 3992.5,-104 3998.5,-104 3998.5,-104 4111.5,-104 4111.5,-104 4117.5,-104 4123.5,-110 4123.5,-116 4123.5,-116 4123.5,-175 4123.5,-175 4123.5,-181 4117.5,-187 4111.5,-187\"/>\n<text text-anchor=\"start\" x=\"3994.5\" y=\"-171.8\" font-family=\"Helvetica,sans-Serif\" font-size=\"14.00\">ShellWeight ≤ 2.782</text>\n<text text-anchor=\"start\" x=\"4007.5\" y=\"-156.8\" font-family=\"Helvetica,sans-Serif\" font-size=\"14.00\">entropy = 0.828</text>\n<text text-anchor=\"start\" x=\"4014\" y=\"-141.8\" font-family=\"Helvetica,sans-Serif\" font-size=\"14.00\">samples = 69</text>\n<text text-anchor=\"start\" x=\"4000.5\" y=\"-126.8\" font-family=\"Helvetica,sans-Serif\" font-size=\"14.00\">value = [18, 0, 51]</text>\n<text text-anchor=\"start\" x=\"4027.5\" y=\"-111.8\" font-family=\"Helvetica,sans-Serif\" font-size=\"14.00\">class = p</text>\n</g>\n<!-- 56&#45;&gt;57 -->\n<g id=\"edge57\" class=\"edge\">\n<title>56&#45;&gt;57</title>\n<path fill=\"none\" stroke=\"black\" d=\"M4055,-222.91C4055,-214.65 4055,-205.86 4055,-197.3\"/>\n<polygon fill=\"black\" stroke=\"black\" points=\"4058.5,-197.02 4055,-187.02 4051.5,-197.02 4058.5,-197.02\"/>\n</g>\n<!-- 60 -->\n<g id=\"node61\" class=\"node\">\n<title>60</title>\n<path fill=\"#e58139\" stroke=\"black\" d=\"M4240,-179.5C4240,-179.5 4154,-179.5 4154,-179.5 4148,-179.5 4142,-173.5 4142,-167.5 4142,-167.5 4142,-123.5 4142,-123.5 4142,-117.5 4148,-111.5 4154,-111.5 4154,-111.5 4240,-111.5 4240,-111.5 4246,-111.5 4252,-117.5 4252,-123.5 4252,-123.5 4252,-167.5 4252,-167.5 4252,-173.5 4246,-179.5 4240,-179.5\"/>\n<text text-anchor=\"start\" x=\"4157\" y=\"-164.3\" font-family=\"Helvetica,sans-Serif\" font-size=\"14.00\">entropy = 0.0</text>\n<text text-anchor=\"start\" x=\"4159.5\" y=\"-149.3\" font-family=\"Helvetica,sans-Serif\" font-size=\"14.00\">samples = 3</text>\n<text text-anchor=\"start\" x=\"4150\" y=\"-134.3\" font-family=\"Helvetica,sans-Serif\" font-size=\"14.00\">value = [3, 0, 0]</text>\n<text text-anchor=\"start\" x=\"4169.5\" y=\"-119.3\" font-family=\"Helvetica,sans-Serif\" font-size=\"14.00\">class = T</text>\n</g>\n<!-- 56&#45;&gt;60 -->\n<g id=\"edge60\" class=\"edge\">\n<title>56&#45;&gt;60</title>\n<path fill=\"none\" stroke=\"black\" d=\"M4104.27,-222.91C4118.73,-210.99 4134.53,-197.98 4148.91,-186.12\"/>\n<polygon fill=\"black\" stroke=\"black\" points=\"4151.25,-188.73 4156.75,-179.67 4146.8,-183.32 4151.25,-188.73\"/>\n</g>\n<!-- 58 -->\n<g id=\"node59\" class=\"node\">\n<title>58</title>\n<path fill=\"#b58af0\" stroke=\"black\" d=\"M4105.5,-68C4105.5,-68 4004.5,-68 4004.5,-68 3998.5,-68 3992.5,-62 3992.5,-56 3992.5,-56 3992.5,-12 3992.5,-12 3992.5,-6 3998.5,0 4004.5,0 4004.5,0 4105.5,0 4105.5,0 4111.5,0 4117.5,-6 4117.5,-12 4117.5,-12 4117.5,-56 4117.5,-56 4117.5,-62 4111.5,-68 4105.5,-68\"/>\n<text text-anchor=\"start\" x=\"4007.5\" y=\"-52.8\" font-family=\"Helvetica,sans-Serif\" font-size=\"14.00\">entropy = 0.869</text>\n<text text-anchor=\"start\" x=\"4014\" y=\"-37.8\" font-family=\"Helvetica,sans-Serif\" font-size=\"14.00\">samples = 62</text>\n<text text-anchor=\"start\" x=\"4000.5\" y=\"-22.8\" font-family=\"Helvetica,sans-Serif\" font-size=\"14.00\">value = [18, 0, 44]</text>\n<text text-anchor=\"start\" x=\"4027.5\" y=\"-7.8\" font-family=\"Helvetica,sans-Serif\" font-size=\"14.00\">class = p</text>\n</g>\n<!-- 57&#45;&gt;58 -->\n<g id=\"edge58\" class=\"edge\">\n<title>57&#45;&gt;58</title>\n<path fill=\"none\" stroke=\"black\" d=\"M4055,-103.73C4055,-95.52 4055,-86.86 4055,-78.56\"/>\n<polygon fill=\"black\" stroke=\"black\" points=\"4058.5,-78.3 4055,-68.3 4051.5,-78.3 4058.5,-78.3\"/>\n</g>\n<!-- 59 -->\n<g id=\"node60\" class=\"node\">\n<title>59</title>\n<path fill=\"#8139e5\" stroke=\"black\" d=\"M4234,-68C4234,-68 4148,-68 4148,-68 4142,-68 4136,-62 4136,-56 4136,-56 4136,-12 4136,-12 4136,-6 4142,0 4148,0 4148,0 4234,0 4234,0 4240,0 4246,-6 4246,-12 4246,-12 4246,-56 4246,-56 4246,-62 4240,-68 4234,-68\"/>\n<text text-anchor=\"start\" x=\"4151\" y=\"-52.8\" font-family=\"Helvetica,sans-Serif\" font-size=\"14.00\">entropy = 0.0</text>\n<text text-anchor=\"start\" x=\"4153.5\" y=\"-37.8\" font-family=\"Helvetica,sans-Serif\" font-size=\"14.00\">samples = 7</text>\n<text text-anchor=\"start\" x=\"4144\" y=\"-22.8\" font-family=\"Helvetica,sans-Serif\" font-size=\"14.00\">value = [0, 0, 7]</text>\n<text text-anchor=\"start\" x=\"4163.5\" y=\"-7.8\" font-family=\"Helvetica,sans-Serif\" font-size=\"14.00\">class = p</text>\n</g>\n<!-- 57&#45;&gt;59 -->\n<g id=\"edge59\" class=\"edge\">\n<title>57&#45;&gt;59</title>\n<path fill=\"none\" stroke=\"black\" d=\"M4105.64,-103.73C4117.42,-94.24 4129.95,-84.16 4141.67,-74.72\"/>\n<polygon fill=\"black\" stroke=\"black\" points=\"4144.05,-77.3 4149.64,-68.3 4139.66,-71.84 4144.05,-77.3\"/>\n</g>\n</g>\n</svg>\n",
            "text/plain": [
              "<graphviz.sources.Source at 0x7b2f5f1ce1a0>"
            ]
          },
          "metadata": {}
        }
      ]
    },
    {
      "cell_type": "code",
      "source": [
        "# print to the output file\n",
        "print('\\n', file = outputFile)\n",
        "print('**************************************************************', file = outputFile)\n",
        "print('(A) Classifier 2 - Top DT', file = outputFile)\n",
        "print(classifier_2, file = outputFile)\n",
        "print('\\n', file = outputFile)\n",
        "print(f'best parameters: {classifier_2.best_params_}\\n', file = outputFile)\n",
        "print('\\n', file = outputFile)\n",
        "outputFile.flush()"
      ],
      "metadata": {
        "id": "o8yWMcL873FK"
      },
      "execution_count": 96,
      "outputs": []
    },
    {
      "cell_type": "code",
      "source": [
        "# print classification report\n",
        "y_pred = classifier_2.predict(X_test)\n",
        "confusion_mat= confusion_matrix(y_test, y_pred)\n",
        "\n",
        "print(classification_report(y_test, y_pred, target_names=['F', 'M', 'I']))\n",
        "print(\"confusion matrix\\n\",confusion_mat)\n",
        "\n",
        "# print the result to the output file\n",
        "confusion_matrix_result =np.array2string(confusion_mat)\n",
        "print(\"(B) Confusion Matrix\", file = outputFile)\n",
        "print(confusion_matrix_result, file = outputFile)\n",
        "print('\\n', file = outputFile)\n",
        "print('(C,D) Classification Report', file = outputFile)\n",
        "print(classification_report(y_test, y_pred, target_names = ['F', 'M', 'I']), file = outputFile)\n",
        "outputFile.flush()"
      ],
      "metadata": {
        "id": "v88y-qmq73OR",
        "outputId": "bab79304-5d7b-43b7-c506-76f6ddc7a8bc",
        "colab": {
          "base_uri": "https://localhost:8080/"
        }
      },
      "execution_count": 97,
      "outputs": [
        {
          "output_type": "stream",
          "name": "stdout",
          "text": [
            "              precision    recall  f1-score   support\n",
            "\n",
            "           F       0.50      0.41      0.46       410\n",
            "           M       0.68      0.74      0.71       408\n",
            "           I       0.46      0.50      0.48       436\n",
            "\n",
            "    accuracy                           0.55      1254\n",
            "   macro avg       0.55      0.55      0.55      1254\n",
            "weighted avg       0.55      0.55      0.55      1254\n",
            "\n",
            "confusion matrix\n",
            " [[170  50 190]\n",
            " [ 42 300  66]\n",
            " [125  91 220]]\n"
          ]
        }
      ]
    },
    {
      "cell_type": "code",
      "source": [
        "# repeat training & grid search & prediction 5 times for classifier 2\n",
        "from sklearn.metrics import accuracy_score, f1_score\n",
        "\n",
        "accuracy_TopDT = np.zeros(5)\n",
        "macro_avg_TopDT = np.zeros(5)\n",
        "weighted_avg_TopDT = np.zeros(5)\n",
        "\n",
        "print('\\n(E) The result after 5 times of train-test repetition:' ,file = outputFile)\n",
        "\n",
        "for i in range(5):\n",
        "\n",
        "  #data is shuffeld and scaled every iteration\n",
        "  X_train, X_test, y_train, y_test = train_test_split(X, y, test_size = 0.3)\n",
        "  sc = StandardScaler()\n",
        "  X_train = sc.fit_transform(X_train)\n",
        "  X_test = sc.transform(X_test)\n",
        "\n",
        "  #grid search\n",
        "  classifier_2 = GridSearchCV(DecisionTreeClassifier(), parameters)\n",
        "  classifier_2.fit(X_train, y_train)\n",
        "\n",
        "  print(f'best parameters for iteration{i+1}: {classifier_2.best_params_}',file = outputFile)\n",
        "  print(f'best parameters for iteration{i+1}: {classifier_2.best_params_}')\n",
        "\n",
        "  y_pred = classifier_2.predict(X_test)\n",
        "\n",
        "  # find the accuracy for each iteration and store the value\n",
        "  accuracy_TopDT[i] = accuracy_score(y_test, y_pred)\n",
        "  macro_avg_TopDT[i] = f1_score(y_test, y_pred, average='macro')\n",
        "  weighted_avg_TopDT[i] = f1_score(y_test, y_pred, average='weighted')\n",
        "\n",
        "print()\n",
        "# compute the average accuracy & variances\n",
        "print(f'accuracy_TopDT: {accuracy_TopDT}')\n",
        "Avg_accuracy = (np.sum(accuracy_TopDT))/5\n",
        "accuracy_variance = np.var(accuracy_TopDT)\n",
        "print(f'average accuracy: {Avg_accuracy:.4f}, variance: {accuracy_variance:.6f}')\n",
        "print()\n",
        "\n",
        "# compute the average macro-average F1 & the variance\n",
        "print(f'macro_avg_TopDT: {macro_avg_TopDT}')\n",
        "Avg_macro_avg = (np.sum(macro_avg_TopDT))/5\n",
        "f1_macro_variance = np.var(macro_avg_TopDT)\n",
        "print(f'average macro-average F1: {Avg_macro_avg:.4f}, variance: {f1_macro_variance:.6f}')\n",
        "print()\n",
        "\n",
        "# compute the average weighted-average F1 & the variance\n",
        "print(f'weighted_avg_TopDT: {weighted_avg_TopDT}')\n",
        "Avg_weighted_avg = (np.sum(weighted_avg_TopDT))/5\n",
        "f1_weighted_variance = np.var(weighted_avg_TopDT)\n",
        "print(f'average weighted-average F1: {Avg_weighted_avg:.4f}, variance: {f1_weighted_variance:.6f}')"
      ],
      "metadata": {
        "colab": {
          "base_uri": "https://localhost:8080/"
        },
        "id": "ctr66poidV4P",
        "outputId": "0dc5e326-d7c1-4665-dc8f-95383d314fd1"
      },
      "execution_count": 98,
      "outputs": [
        {
          "output_type": "stream",
          "name": "stdout",
          "text": [
            "best parameters for iteration1: {'criterion': 'entropy', 'max_depth': 5, 'min_samples_split': 2}\n",
            "best parameters for iteration2: {'criterion': 'entropy', 'max_depth': 5, 'min_samples_split': 5}\n",
            "best parameters for iteration3: {'criterion': 'entropy', 'max_depth': 3, 'min_samples_split': 2}\n",
            "best parameters for iteration4: {'criterion': 'gini', 'max_depth': 5, 'min_samples_split': 10}\n",
            "best parameters for iteration5: {'criterion': 'entropy', 'max_depth': 5, 'min_samples_split': 5}\n",
            "\n",
            "accuracy_TopDT: [0.54864434 0.55263158 0.55422648 0.54864434 0.56937799]\n",
            "average accuracy: 0.5547, variance: 0.000059\n",
            "\n",
            "macro_avg_TopDT: [0.5493957  0.55208473 0.54346993 0.53807791 0.54842819]\n",
            "average macro-average F1: 0.5463, variance: 0.000025\n",
            "\n",
            "weighted_avg_TopDT: [0.54726673 0.55294416 0.55102159 0.53602477 0.55047941]\n",
            "average weighted-average F1: 0.5475, variance: 0.000037\n"
          ]
        }
      ]
    },
    {
      "cell_type": "code",
      "source": [
        "# print the performance result to outputfile\n",
        "print('\\n', file = outputFile)\n",
        "print(f'average accuracy: {Avg_accuracy:.4f}, variance: {accuracy_variance:.6f}', file = outputFile)\n",
        "print(f'average macro-average F1: {Avg_macro_avg:.4f}, variance: {f1_macro_variance:.6f}', file = outputFile)\n",
        "print(f'average weighted-average F1: {Avg_weighted_avg:.4f}, variance: {f1_weighted_variance:.6f}', file = outputFile)\n",
        "outputFile.flush()"
      ],
      "metadata": {
        "id": "x9YFP9uEdV62"
      },
      "execution_count": 99,
      "outputs": []
    },
    {
      "cell_type": "markdown",
      "source": [
        "##### Classifier 3 - Base-MLP"
      ],
      "metadata": {
        "id": "GQrsfw6Xm1nI"
      }
    },
    {
      "cell_type": "code",
      "source": [
        "#Train Classifier 3\n",
        "mlp_base_abalone = MLPClassifier(hidden_layer_sizes =(100, 100,), activation = 'logistic', solver = 'sgd')\n",
        "mlp_base_abalone.fit(X_train, y_train)\n",
        "\n",
        "#print to the output file\n",
        "print('**************************************************************', file = outputFile)\n",
        "print('(A) Classifier 3 - Base MLP', file = outputFile)\n",
        "print(mlp_base_abalone, file = outputFile)"
      ],
      "metadata": {
        "id": "MiIPiod7m7qC"
      },
      "execution_count": 100,
      "outputs": []
    },
    {
      "cell_type": "markdown",
      "source": [
        "Metrics for Classifier 3"
      ],
      "metadata": {
        "id": "1TD8ynkGoZAP"
      }
    },
    {
      "cell_type": "code",
      "source": [
        "#predict with Base MLP\n",
        "y_pred_base_mlp = mlp_base_abalone.predict(X_test)\n",
        "\n",
        "#print the result here on notebook\n",
        "print(classification_report(y_test, y_pred_base_mlp, target_names = ['F', 'M', 'I']))\n",
        "print(confusion_matrix(y_test, y_pred_base_mlp))\n",
        "\n",
        "#print the result to the output file\n",
        "print(\"\\n(B) Confusion Matrix\", file = outputFile)\n",
        "confusion_matrix_result = np.array2string(confusion_matrix(y_test, y_pred_base_mlp))\n",
        "print(confusion_matrix_result, file = outputFile)\n",
        "print(\"\\n(C, D) Classification Report\", file = outputFile)\n",
        "print(classification_report(y_test, y_pred_base_mlp, target_names = ['F', 'M', 'I']), file = outputFile)\n",
        "\n",
        "outputFile.flush()"
      ],
      "metadata": {
        "id": "coh8LE0bocLA",
        "outputId": "e78b83c5-620e-4dbb-ab72-cd580e77ac18",
        "colab": {
          "base_uri": "https://localhost:8080/"
        }
      },
      "execution_count": 101,
      "outputs": [
        {
          "output_type": "stream",
          "name": "stdout",
          "text": [
            "              precision    recall  f1-score   support\n",
            "\n",
            "           F       0.49      0.07      0.12       385\n",
            "           M       0.62      0.76      0.68       395\n",
            "           I       0.47      0.70      0.56       474\n",
            "\n",
            "    accuracy                           0.53      1254\n",
            "   macro avg       0.53      0.51      0.45      1254\n",
            "weighted avg       0.52      0.53      0.46      1254\n",
            "\n",
            "[[ 26  70 289]\n",
            " [  0 301  94]\n",
            " [ 27 113 334]]\n"
          ]
        }
      ]
    },
    {
      "cell_type": "code",
      "source": [
        "MLP_base_train_test_repetition(X, y, outputFile, ['F', 'M', 'I'])"
      ],
      "metadata": {
        "id": "Ss7voSkYmhiK"
      },
      "execution_count": 102,
      "outputs": []
    },
    {
      "cell_type": "markdown",
      "source": [
        "##### Classifier 4 - Top-MLP"
      ],
      "metadata": {
        "id": "okD7I5KHnODP"
      }
    },
    {
      "cell_type": "code",
      "source": [
        "#create grid for each hyperparamter we want to test\n",
        "activation_grid = np.array(['logistic', 'tanh', 'relu'])\n",
        "neurons_tuple_grid = np.array([(30, 50,), (10, 10, 10,)])\n",
        "solver_grid = np.array(['adam', 'sgd'])\n",
        "\n",
        "#create parameter grid for GridSearchCV\n",
        "param_grid = {'hidden_layer_sizes': neurons_tuple_grid, 'activation': activation_grid, 'solver': solver_grid}\n",
        "\n",
        "#create grid cv object and search\n",
        "mlp_top_abalone = MLPClassifier()\n",
        "gridcv = sk.model_selection.GridSearchCV(mlp_top_abalone, param_grid = param_grid)\n",
        "gridcv.fit(X_train, y_train)\n",
        "\n",
        "#print the result here on notebook\n",
        "print(f'best parameters: {gridcv.best_params_}')\n",
        "\n",
        "#print the result to the output file\n",
        "print('**************************************************************', file = outputFile)\n",
        "print('(A) Classifier 4 - Top MLP', file = outputFile)\n",
        "print(f'best parameters: {gridcv.best_params_}', file = outputFile)\n",
        "outputFile.flush()"
      ],
      "metadata": {
        "id": "mphIulW3nREP",
        "outputId": "7ca8ea59-ac3b-4872-f691-43ef19312087",
        "colab": {
          "base_uri": "https://localhost:8080/"
        }
      },
      "execution_count": 103,
      "outputs": [
        {
          "output_type": "stream",
          "name": "stdout",
          "text": [
            "best parameters: {'activation': 'relu', 'hidden_layer_sizes': (10, 10, 10), 'solver': 'adam'}\n"
          ]
        }
      ]
    },
    {
      "cell_type": "markdown",
      "source": [
        "Metrics for Classifier 4"
      ],
      "metadata": {
        "id": "PXrrvETEpQNZ"
      }
    },
    {
      "cell_type": "code",
      "source": [
        "#predict\n",
        "y_pred_top_mlp = gridcv.best_estimator_.predict(X_test)\n",
        "\n",
        "#print results here - confusion matrix and classification report\n",
        "print(classification_report(y_test, y_pred_top_mlp, target_names = ['F', 'M', 'I']))\n",
        "print(confusion_matrix(y_test, y_pred_top_mlp))\n",
        "\n",
        "#print the result to output file\n",
        "print(\"\\n(B) Confusion Matrix\", file = outputFile)\n",
        "confusion_matrix_result = np.array2string(confusion_matrix(y_test, y_pred_top_mlp))\n",
        "print(confusion_matrix_result, file = outputFile)\n",
        "print(\"\\n(C, D) Classification Report\", file = outputFile)\n",
        "print(classification_report(y_test, y_pred_top_mlp, target_names = ['F', 'M', 'I']), file = outputFile)\n",
        "\n",
        "outputFile.flush()"
      ],
      "metadata": {
        "id": "KbwAcoZLpSQW",
        "outputId": "92dc65b2-2bdc-4853-8612-b6429fe473ec",
        "colab": {
          "base_uri": "https://localhost:8080/"
        }
      },
      "execution_count": 104,
      "outputs": [
        {
          "output_type": "stream",
          "name": "stdout",
          "text": [
            "              precision    recall  f1-score   support\n",
            "\n",
            "           F       0.46      0.35      0.40       385\n",
            "           M       0.67      0.81      0.73       395\n",
            "           I       0.50      0.51      0.50       474\n",
            "\n",
            "    accuracy                           0.55      1254\n",
            "   macro avg       0.54      0.55      0.54      1254\n",
            "weighted avg       0.54      0.55      0.54      1254\n",
            "\n",
            "[[135  63 187]\n",
            " [ 24 318  53]\n",
            " [136  97 241]]\n"
          ]
        }
      ]
    },
    {
      "cell_type": "code",
      "source": [
        "MLP_top_train_test_repetition(param_grid, X, y, outputFile, ['F', 'M', 'I'])"
      ],
      "metadata": {
        "id": "gTPJwcXCnwYK"
      },
      "execution_count": 105,
      "outputs": []
    },
    {
      "cell_type": "code",
      "source": [
        "outputFile.close()"
      ],
      "metadata": {
        "id": "4AxS7Io7pFta"
      },
      "execution_count": 106,
      "outputs": []
    }
  ]
}